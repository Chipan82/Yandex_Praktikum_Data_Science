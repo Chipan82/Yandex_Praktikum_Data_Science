{
  "cells": [
    {
      "cell_type": "markdown",
      "metadata": {
        "id": "Ot3yUWVKpqAy"
      },
      "source": [
        "# Исследование надёжности заёмщиков\n",
        "\n",
        "Заказчик — кредитный отдел банка. Нужно разобраться, влияет ли семейное положение и количество детей клиента на факт погашения кредита в срок. Входные данные от банка — статистика о платёжеспособности клиентов.\n",
        "\n",
        "Результаты исследования будут учтены при построении модели **кредитного скоринга** — специальной системы, которая оценивает способность потенциального заёмщика вернуть кредит банку."
      ]
    },
    {
      "cell_type": "markdown",
      "metadata": {
        "id": "5eCxGpZypqAz"
      },
      "source": [
        "- Таблица содержит 12 столбцов и 21525 строк c типом данных в скобках:\n",
        "     - children — количество детей в семье\n",
        "     - days_employed — общий трудовой стаж в днях\n",
        "     - dob_years — возраст клиента в годах\n",
        "     - education — уровень образования клиента\n",
        "     - education_id — идентификатор уровня образования\n",
        "     - family_status — семейное положение\n",
        "     - family_status_id — идентификатор семейного положения\n",
        "     - gender — пол клиента\n",
        "     - income_type — тип занятости\n",
        "     - debt — имел ли задолженность по возврату кредитов\n",
        "     - total_income — ежемесячный доход\n",
        "     - purpose — цель получения кредита"
      ]
    },
    {
      "cell_type": "markdown",
      "metadata": {
        "id": "j_1BvIsmpqA0"
      },
      "source": [
        "## Шаг 1. Откроем файл с данными и изучим общую информацию\n"
      ]
    },
    {
      "cell_type": "code",
      "execution_count": null,
      "metadata": {
        "id": "F-dvmXALpqA3",
        "outputId": "bc10e734-ddc2-46e2-a122-6cef4f3f558f"
      },
      "outputs": [
        {
          "data": {
            "text/html": [
              "<div>\n",
              "<style scoped>\n",
              "    .dataframe tbody tr th:only-of-type {\n",
              "        vertical-align: middle;\n",
              "    }\n",
              "\n",
              "    .dataframe tbody tr th {\n",
              "        vertical-align: top;\n",
              "    }\n",
              "\n",
              "    .dataframe thead th {\n",
              "        text-align: right;\n",
              "    }\n",
              "</style>\n",
              "<table border=\"1\" class=\"dataframe\">\n",
              "  <thead>\n",
              "    <tr style=\"text-align: right;\">\n",
              "      <th></th>\n",
              "      <th>children</th>\n",
              "      <th>days_employed</th>\n",
              "      <th>dob_years</th>\n",
              "      <th>education</th>\n",
              "      <th>education_id</th>\n",
              "      <th>family_status</th>\n",
              "      <th>family_status_id</th>\n",
              "      <th>gender</th>\n",
              "      <th>income_type</th>\n",
              "      <th>debt</th>\n",
              "      <th>total_income</th>\n",
              "      <th>purpose</th>\n",
              "    </tr>\n",
              "  </thead>\n",
              "  <tbody>\n",
              "    <tr>\n",
              "      <th>0</th>\n",
              "      <td>1</td>\n",
              "      <td>-8437.673028</td>\n",
              "      <td>42</td>\n",
              "      <td>высшее</td>\n",
              "      <td>0</td>\n",
              "      <td>женат / замужем</td>\n",
              "      <td>0</td>\n",
              "      <td>F</td>\n",
              "      <td>сотрудник</td>\n",
              "      <td>0</td>\n",
              "      <td>253875.639453</td>\n",
              "      <td>покупка жилья</td>\n",
              "    </tr>\n",
              "    <tr>\n",
              "      <th>1</th>\n",
              "      <td>1</td>\n",
              "      <td>-4024.803754</td>\n",
              "      <td>36</td>\n",
              "      <td>среднее</td>\n",
              "      <td>1</td>\n",
              "      <td>женат / замужем</td>\n",
              "      <td>0</td>\n",
              "      <td>F</td>\n",
              "      <td>сотрудник</td>\n",
              "      <td>0</td>\n",
              "      <td>112080.014102</td>\n",
              "      <td>приобретение автомобиля</td>\n",
              "    </tr>\n",
              "    <tr>\n",
              "      <th>2</th>\n",
              "      <td>0</td>\n",
              "      <td>-5623.422610</td>\n",
              "      <td>33</td>\n",
              "      <td>Среднее</td>\n",
              "      <td>1</td>\n",
              "      <td>женат / замужем</td>\n",
              "      <td>0</td>\n",
              "      <td>M</td>\n",
              "      <td>сотрудник</td>\n",
              "      <td>0</td>\n",
              "      <td>145885.952297</td>\n",
              "      <td>покупка жилья</td>\n",
              "    </tr>\n",
              "    <tr>\n",
              "      <th>3</th>\n",
              "      <td>3</td>\n",
              "      <td>-4124.747207</td>\n",
              "      <td>32</td>\n",
              "      <td>среднее</td>\n",
              "      <td>1</td>\n",
              "      <td>женат / замужем</td>\n",
              "      <td>0</td>\n",
              "      <td>M</td>\n",
              "      <td>сотрудник</td>\n",
              "      <td>0</td>\n",
              "      <td>267628.550329</td>\n",
              "      <td>дополнительное образование</td>\n",
              "    </tr>\n",
              "    <tr>\n",
              "      <th>4</th>\n",
              "      <td>0</td>\n",
              "      <td>340266.072047</td>\n",
              "      <td>53</td>\n",
              "      <td>среднее</td>\n",
              "      <td>1</td>\n",
              "      <td>гражданский брак</td>\n",
              "      <td>1</td>\n",
              "      <td>F</td>\n",
              "      <td>пенсионер</td>\n",
              "      <td>0</td>\n",
              "      <td>158616.077870</td>\n",
              "      <td>сыграть свадьбу</td>\n",
              "    </tr>\n",
              "    <tr>\n",
              "      <th>5</th>\n",
              "      <td>0</td>\n",
              "      <td>-926.185831</td>\n",
              "      <td>27</td>\n",
              "      <td>высшее</td>\n",
              "      <td>0</td>\n",
              "      <td>гражданский брак</td>\n",
              "      <td>1</td>\n",
              "      <td>M</td>\n",
              "      <td>компаньон</td>\n",
              "      <td>0</td>\n",
              "      <td>255763.565419</td>\n",
              "      <td>покупка жилья</td>\n",
              "    </tr>\n",
              "    <tr>\n",
              "      <th>6</th>\n",
              "      <td>0</td>\n",
              "      <td>-2879.202052</td>\n",
              "      <td>43</td>\n",
              "      <td>высшее</td>\n",
              "      <td>0</td>\n",
              "      <td>женат / замужем</td>\n",
              "      <td>0</td>\n",
              "      <td>F</td>\n",
              "      <td>компаньон</td>\n",
              "      <td>0</td>\n",
              "      <td>240525.971920</td>\n",
              "      <td>операции с жильем</td>\n",
              "    </tr>\n",
              "    <tr>\n",
              "      <th>7</th>\n",
              "      <td>0</td>\n",
              "      <td>-152.779569</td>\n",
              "      <td>50</td>\n",
              "      <td>СРЕДНЕЕ</td>\n",
              "      <td>1</td>\n",
              "      <td>женат / замужем</td>\n",
              "      <td>0</td>\n",
              "      <td>M</td>\n",
              "      <td>сотрудник</td>\n",
              "      <td>0</td>\n",
              "      <td>135823.934197</td>\n",
              "      <td>образование</td>\n",
              "    </tr>\n",
              "    <tr>\n",
              "      <th>8</th>\n",
              "      <td>2</td>\n",
              "      <td>-6929.865299</td>\n",
              "      <td>35</td>\n",
              "      <td>ВЫСШЕЕ</td>\n",
              "      <td>0</td>\n",
              "      <td>гражданский брак</td>\n",
              "      <td>1</td>\n",
              "      <td>F</td>\n",
              "      <td>сотрудник</td>\n",
              "      <td>0</td>\n",
              "      <td>95856.832424</td>\n",
              "      <td>на проведение свадьбы</td>\n",
              "    </tr>\n",
              "    <tr>\n",
              "      <th>9</th>\n",
              "      <td>0</td>\n",
              "      <td>-2188.756445</td>\n",
              "      <td>41</td>\n",
              "      <td>среднее</td>\n",
              "      <td>1</td>\n",
              "      <td>женат / замужем</td>\n",
              "      <td>0</td>\n",
              "      <td>M</td>\n",
              "      <td>сотрудник</td>\n",
              "      <td>0</td>\n",
              "      <td>144425.938277</td>\n",
              "      <td>покупка жилья для семьи</td>\n",
              "    </tr>\n",
              "  </tbody>\n",
              "</table>\n",
              "</div>"
            ],
            "text/plain": [
              "   children  days_employed  dob_years education  education_id  \\\n",
              "0         1   -8437.673028         42    высшее             0   \n",
              "1         1   -4024.803754         36   среднее             1   \n",
              "2         0   -5623.422610         33   Среднее             1   \n",
              "3         3   -4124.747207         32   среднее             1   \n",
              "4         0  340266.072047         53   среднее             1   \n",
              "5         0    -926.185831         27    высшее             0   \n",
              "6         0   -2879.202052         43    высшее             0   \n",
              "7         0    -152.779569         50   СРЕДНЕЕ             1   \n",
              "8         2   -6929.865299         35    ВЫСШЕЕ             0   \n",
              "9         0   -2188.756445         41   среднее             1   \n",
              "\n",
              "      family_status  family_status_id gender income_type  debt   total_income  \\\n",
              "0   женат / замужем                 0      F   сотрудник     0  253875.639453   \n",
              "1   женат / замужем                 0      F   сотрудник     0  112080.014102   \n",
              "2   женат / замужем                 0      M   сотрудник     0  145885.952297   \n",
              "3   женат / замужем                 0      M   сотрудник     0  267628.550329   \n",
              "4  гражданский брак                 1      F   пенсионер     0  158616.077870   \n",
              "5  гражданский брак                 1      M   компаньон     0  255763.565419   \n",
              "6   женат / замужем                 0      F   компаньон     0  240525.971920   \n",
              "7   женат / замужем                 0      M   сотрудник     0  135823.934197   \n",
              "8  гражданский брак                 1      F   сотрудник     0   95856.832424   \n",
              "9   женат / замужем                 0      M   сотрудник     0  144425.938277   \n",
              "\n",
              "                      purpose  \n",
              "0               покупка жилья  \n",
              "1     приобретение автомобиля  \n",
              "2               покупка жилья  \n",
              "3  дополнительное образование  \n",
              "4             сыграть свадьбу  \n",
              "5               покупка жилья  \n",
              "6           операции с жильем  \n",
              "7                 образование  \n",
              "8       на проведение свадьбы  \n",
              "9     покупка жилья для семьи  "
            ]
          },
          "execution_count": 1,
          "metadata": {},
          "output_type": "execute_result"
        }
      ],
      "source": [
        "import pandas as pd\n",
        "from pymystem3 import Mystem\n",
        "m = Mystem()\n",
        "\n",
        "data = pd.read_csv('/datasets/data.csv')\n",
        "data.head(10)"
      ]
    },
    {
      "cell_type": "code",
      "execution_count": null,
      "metadata": {
        "id": "I0js8Di7pqA5",
        "outputId": "6e8badcc-807a-4b8a-95f4-d12e93ee18cc"
      },
      "outputs": [
        {
          "name": "stdout",
          "output_type": "stream",
          "text": [
            "<class 'pandas.core.frame.DataFrame'>\n",
            "RangeIndex: 21525 entries, 0 to 21524\n",
            "Data columns (total 12 columns):\n",
            " #   Column            Non-Null Count  Dtype  \n",
            "---  ------            --------------  -----  \n",
            " 0   children          21525 non-null  int64  \n",
            " 1   days_employed     19351 non-null  float64\n",
            " 2   dob_years         21525 non-null  int64  \n",
            " 3   education         21525 non-null  object \n",
            " 4   education_id      21525 non-null  int64  \n",
            " 5   family_status     21525 non-null  object \n",
            " 6   family_status_id  21525 non-null  int64  \n",
            " 7   gender            21525 non-null  object \n",
            " 8   income_type       21525 non-null  object \n",
            " 9   debt              21525 non-null  int64  \n",
            " 10  total_income      19351 non-null  float64\n",
            " 11  purpose           21525 non-null  object \n",
            "dtypes: float64(2), int64(5), object(5)\n",
            "memory usage: 2.0+ MB\n"
          ]
        }
      ],
      "source": [
        "data.info()"
      ]
    },
    {
      "cell_type": "code",
      "execution_count": null,
      "metadata": {
        "id": "9k4GWKNzpqA6",
        "outputId": "f6a26858-a3af-4e19-9377-3ced25ace178"
      },
      "outputs": [
        {
          "data": {
            "text/html": [
              "<div>\n",
              "<style scoped>\n",
              "    .dataframe tbody tr th:only-of-type {\n",
              "        vertical-align: middle;\n",
              "    }\n",
              "\n",
              "    .dataframe tbody tr th {\n",
              "        vertical-align: top;\n",
              "    }\n",
              "\n",
              "    .dataframe thead th {\n",
              "        text-align: right;\n",
              "    }\n",
              "</style>\n",
              "<table border=\"1\" class=\"dataframe\">\n",
              "  <thead>\n",
              "    <tr style=\"text-align: right;\">\n",
              "      <th></th>\n",
              "      <th>children</th>\n",
              "      <th>days_employed</th>\n",
              "      <th>dob_years</th>\n",
              "      <th>education_id</th>\n",
              "      <th>family_status_id</th>\n",
              "      <th>debt</th>\n",
              "      <th>total_income</th>\n",
              "    </tr>\n",
              "  </thead>\n",
              "  <tbody>\n",
              "    <tr>\n",
              "      <th>count</th>\n",
              "      <td>21525.000000</td>\n",
              "      <td>19351.000000</td>\n",
              "      <td>21525.000000</td>\n",
              "      <td>21525.000000</td>\n",
              "      <td>21525.000000</td>\n",
              "      <td>21525.000000</td>\n",
              "      <td>1.935100e+04</td>\n",
              "    </tr>\n",
              "    <tr>\n",
              "      <th>mean</th>\n",
              "      <td>0.538908</td>\n",
              "      <td>63046.497661</td>\n",
              "      <td>43.293380</td>\n",
              "      <td>0.817236</td>\n",
              "      <td>0.972544</td>\n",
              "      <td>0.080883</td>\n",
              "      <td>1.674223e+05</td>\n",
              "    </tr>\n",
              "    <tr>\n",
              "      <th>std</th>\n",
              "      <td>1.381587</td>\n",
              "      <td>140827.311974</td>\n",
              "      <td>12.574584</td>\n",
              "      <td>0.548138</td>\n",
              "      <td>1.420324</td>\n",
              "      <td>0.272661</td>\n",
              "      <td>1.029716e+05</td>\n",
              "    </tr>\n",
              "    <tr>\n",
              "      <th>min</th>\n",
              "      <td>-1.000000</td>\n",
              "      <td>-18388.949901</td>\n",
              "      <td>0.000000</td>\n",
              "      <td>0.000000</td>\n",
              "      <td>0.000000</td>\n",
              "      <td>0.000000</td>\n",
              "      <td>2.066726e+04</td>\n",
              "    </tr>\n",
              "    <tr>\n",
              "      <th>25%</th>\n",
              "      <td>0.000000</td>\n",
              "      <td>-2747.423625</td>\n",
              "      <td>33.000000</td>\n",
              "      <td>1.000000</td>\n",
              "      <td>0.000000</td>\n",
              "      <td>0.000000</td>\n",
              "      <td>1.030532e+05</td>\n",
              "    </tr>\n",
              "    <tr>\n",
              "      <th>50%</th>\n",
              "      <td>0.000000</td>\n",
              "      <td>-1203.369529</td>\n",
              "      <td>42.000000</td>\n",
              "      <td>1.000000</td>\n",
              "      <td>0.000000</td>\n",
              "      <td>0.000000</td>\n",
              "      <td>1.450179e+05</td>\n",
              "    </tr>\n",
              "    <tr>\n",
              "      <th>75%</th>\n",
              "      <td>1.000000</td>\n",
              "      <td>-291.095954</td>\n",
              "      <td>53.000000</td>\n",
              "      <td>1.000000</td>\n",
              "      <td>1.000000</td>\n",
              "      <td>0.000000</td>\n",
              "      <td>2.034351e+05</td>\n",
              "    </tr>\n",
              "    <tr>\n",
              "      <th>max</th>\n",
              "      <td>20.000000</td>\n",
              "      <td>401755.400475</td>\n",
              "      <td>75.000000</td>\n",
              "      <td>4.000000</td>\n",
              "      <td>4.000000</td>\n",
              "      <td>1.000000</td>\n",
              "      <td>2.265604e+06</td>\n",
              "    </tr>\n",
              "  </tbody>\n",
              "</table>\n",
              "</div>"
            ],
            "text/plain": [
              "           children  days_employed     dob_years  education_id  \\\n",
              "count  21525.000000   19351.000000  21525.000000  21525.000000   \n",
              "mean       0.538908   63046.497661     43.293380      0.817236   \n",
              "std        1.381587  140827.311974     12.574584      0.548138   \n",
              "min       -1.000000  -18388.949901      0.000000      0.000000   \n",
              "25%        0.000000   -2747.423625     33.000000      1.000000   \n",
              "50%        0.000000   -1203.369529     42.000000      1.000000   \n",
              "75%        1.000000    -291.095954     53.000000      1.000000   \n",
              "max       20.000000  401755.400475     75.000000      4.000000   \n",
              "\n",
              "       family_status_id          debt  total_income  \n",
              "count      21525.000000  21525.000000  1.935100e+04  \n",
              "mean           0.972544      0.080883  1.674223e+05  \n",
              "std            1.420324      0.272661  1.029716e+05  \n",
              "min            0.000000      0.000000  2.066726e+04  \n",
              "25%            0.000000      0.000000  1.030532e+05  \n",
              "50%            0.000000      0.000000  1.450179e+05  \n",
              "75%            1.000000      0.000000  2.034351e+05  \n",
              "max            4.000000      1.000000  2.265604e+06  "
            ]
          },
          "execution_count": 3,
          "metadata": {},
          "output_type": "execute_result"
        }
      ],
      "source": [
        "data.describe()"
      ]
    },
    {
      "cell_type": "markdown",
      "metadata": {
        "id": "q5vH3U64pqA6"
      },
      "source": [
        "**Вывод**\n"
      ]
    },
    {
      "cell_type": "markdown",
      "metadata": {
        "id": "ya0eO95VpqA7"
      },
      "source": [
        "\n",
        "В столбце days_employed встречаются отрицательные значени. Также в этом столбце есть пропущенные значения NaN. Еще NaN встречается в столбце total_income. Их нужно заполнить и понять причину возникновения. total_income округлим и переведем в int, для удобства. Приведем education к общему регистру. Максимальное и минимальной количество детей, возможно опечатки. В столбце days_employed стаж у пенсионеров > 1000 лет. "
      ]
    },
    {
      "cell_type": "markdown",
      "metadata": {
        "id": "A_EWhZ-opqA7"
      },
      "source": [
        "## Шаг 2. Предобработка данных"
      ]
    },
    {
      "cell_type": "markdown",
      "metadata": {
        "id": "ngectSyTpqA7"
      },
      "source": [
        "### Обработка пропусков"
      ]
    },
    {
      "cell_type": "code",
      "execution_count": null,
      "metadata": {
        "id": "8yN_sbGJpqA8",
        "outputId": "439fa565-b551-4fce-e362-7c787be27058"
      },
      "outputs": [
        {
          "data": {
            "text/plain": [
              "children            2174\n",
              "days_employed          0\n",
              "dob_years           2174\n",
              "education           2174\n",
              "education_id        2174\n",
              "family_status       2174\n",
              "family_status_id    2174\n",
              "gender              2174\n",
              "income_type         2174\n",
              "debt                2174\n",
              "total_income           0\n",
              "purpose             2174\n",
              "dtype: int64"
            ]
          },
          "execution_count": 4,
          "metadata": {},
          "output_type": "execute_result"
        }
      ],
      "source": [
        "data[data['days_employed'].isna()].count() # узнаем количество пропущенных значений"
      ]
    },
    {
      "cell_type": "code",
      "execution_count": null,
      "metadata": {
        "id": "LkEoUOikpqA8",
        "outputId": "deb194a3-1de4-40c1-9749-0da7606c97bd"
      },
      "outputs": [
        {
          "data": {
            "text/html": [
              "<div>\n",
              "<style scoped>\n",
              "    .dataframe tbody tr th:only-of-type {\n",
              "        vertical-align: middle;\n",
              "    }\n",
              "\n",
              "    .dataframe tbody tr th {\n",
              "        vertical-align: top;\n",
              "    }\n",
              "\n",
              "    .dataframe thead th {\n",
              "        text-align: right;\n",
              "    }\n",
              "</style>\n",
              "<table border=\"1\" class=\"dataframe\">\n",
              "  <thead>\n",
              "    <tr style=\"text-align: right;\">\n",
              "      <th></th>\n",
              "      <th>children</th>\n",
              "      <th>days_employed</th>\n",
              "      <th>dob_years</th>\n",
              "      <th>education</th>\n",
              "      <th>education_id</th>\n",
              "      <th>family_status</th>\n",
              "      <th>family_status_id</th>\n",
              "      <th>gender</th>\n",
              "      <th>income_type</th>\n",
              "      <th>debt</th>\n",
              "      <th>total_income</th>\n",
              "      <th>purpose</th>\n",
              "    </tr>\n",
              "  </thead>\n",
              "  <tbody>\n",
              "    <tr>\n",
              "      <th>21515</th>\n",
              "      <td>1</td>\n",
              "      <td>467.685130</td>\n",
              "      <td>28</td>\n",
              "      <td>среднее</td>\n",
              "      <td>1</td>\n",
              "      <td>женат / замужем</td>\n",
              "      <td>0</td>\n",
              "      <td>F</td>\n",
              "      <td>сотрудник</td>\n",
              "      <td>1</td>\n",
              "      <td>109486.327999</td>\n",
              "      <td>заняться образованием</td>\n",
              "    </tr>\n",
              "    <tr>\n",
              "      <th>21516</th>\n",
              "      <td>0</td>\n",
              "      <td>914.391429</td>\n",
              "      <td>42</td>\n",
              "      <td>высшее</td>\n",
              "      <td>0</td>\n",
              "      <td>женат / замужем</td>\n",
              "      <td>0</td>\n",
              "      <td>F</td>\n",
              "      <td>компаньон</td>\n",
              "      <td>0</td>\n",
              "      <td>322807.776603</td>\n",
              "      <td>покупка своего жилья</td>\n",
              "    </tr>\n",
              "    <tr>\n",
              "      <th>21517</th>\n",
              "      <td>0</td>\n",
              "      <td>404.679034</td>\n",
              "      <td>42</td>\n",
              "      <td>высшее</td>\n",
              "      <td>0</td>\n",
              "      <td>гражданский брак</td>\n",
              "      <td>1</td>\n",
              "      <td>F</td>\n",
              "      <td>компаньон</td>\n",
              "      <td>0</td>\n",
              "      <td>178059.553491</td>\n",
              "      <td>на покупку своего автомобиля</td>\n",
              "    </tr>\n",
              "    <tr>\n",
              "      <th>21518</th>\n",
              "      <td>0</td>\n",
              "      <td>373995.710838</td>\n",
              "      <td>59</td>\n",
              "      <td>СРЕДНЕЕ</td>\n",
              "      <td>1</td>\n",
              "      <td>женат / замужем</td>\n",
              "      <td>0</td>\n",
              "      <td>F</td>\n",
              "      <td>пенсионер</td>\n",
              "      <td>0</td>\n",
              "      <td>153864.650328</td>\n",
              "      <td>сделка с автомобилем</td>\n",
              "    </tr>\n",
              "    <tr>\n",
              "      <th>21519</th>\n",
              "      <td>1</td>\n",
              "      <td>2351.431934</td>\n",
              "      <td>37</td>\n",
              "      <td>ученая степень</td>\n",
              "      <td>4</td>\n",
              "      <td>в разводе</td>\n",
              "      <td>3</td>\n",
              "      <td>M</td>\n",
              "      <td>сотрудник</td>\n",
              "      <td>0</td>\n",
              "      <td>115949.039788</td>\n",
              "      <td>покупка коммерческой недвижимости</td>\n",
              "    </tr>\n",
              "    <tr>\n",
              "      <th>21520</th>\n",
              "      <td>1</td>\n",
              "      <td>4529.316663</td>\n",
              "      <td>43</td>\n",
              "      <td>среднее</td>\n",
              "      <td>1</td>\n",
              "      <td>гражданский брак</td>\n",
              "      <td>1</td>\n",
              "      <td>F</td>\n",
              "      <td>компаньон</td>\n",
              "      <td>0</td>\n",
              "      <td>224791.862382</td>\n",
              "      <td>операции с жильем</td>\n",
              "    </tr>\n",
              "    <tr>\n",
              "      <th>21521</th>\n",
              "      <td>0</td>\n",
              "      <td>343937.404131</td>\n",
              "      <td>67</td>\n",
              "      <td>среднее</td>\n",
              "      <td>1</td>\n",
              "      <td>женат / замужем</td>\n",
              "      <td>0</td>\n",
              "      <td>F</td>\n",
              "      <td>пенсионер</td>\n",
              "      <td>0</td>\n",
              "      <td>155999.806512</td>\n",
              "      <td>сделка с автомобилем</td>\n",
              "    </tr>\n",
              "    <tr>\n",
              "      <th>21522</th>\n",
              "      <td>1</td>\n",
              "      <td>2113.346888</td>\n",
              "      <td>38</td>\n",
              "      <td>среднее</td>\n",
              "      <td>1</td>\n",
              "      <td>гражданский брак</td>\n",
              "      <td>1</td>\n",
              "      <td>M</td>\n",
              "      <td>сотрудник</td>\n",
              "      <td>1</td>\n",
              "      <td>89672.561153</td>\n",
              "      <td>недвижимость</td>\n",
              "    </tr>\n",
              "    <tr>\n",
              "      <th>21523</th>\n",
              "      <td>3</td>\n",
              "      <td>3112.481705</td>\n",
              "      <td>38</td>\n",
              "      <td>среднее</td>\n",
              "      <td>1</td>\n",
              "      <td>женат / замужем</td>\n",
              "      <td>0</td>\n",
              "      <td>M</td>\n",
              "      <td>сотрудник</td>\n",
              "      <td>1</td>\n",
              "      <td>244093.050500</td>\n",
              "      <td>на покупку своего автомобиля</td>\n",
              "    </tr>\n",
              "    <tr>\n",
              "      <th>21524</th>\n",
              "      <td>2</td>\n",
              "      <td>1984.507589</td>\n",
              "      <td>40</td>\n",
              "      <td>среднее</td>\n",
              "      <td>1</td>\n",
              "      <td>женат / замужем</td>\n",
              "      <td>0</td>\n",
              "      <td>F</td>\n",
              "      <td>сотрудник</td>\n",
              "      <td>0</td>\n",
              "      <td>82047.418899</td>\n",
              "      <td>на покупку автомобиля</td>\n",
              "    </tr>\n",
              "  </tbody>\n",
              "</table>\n",
              "</div>"
            ],
            "text/plain": [
              "       children  days_employed  dob_years       education  education_id  \\\n",
              "21515         1     467.685130         28         среднее             1   \n",
              "21516         0     914.391429         42          высшее             0   \n",
              "21517         0     404.679034         42          высшее             0   \n",
              "21518         0  373995.710838         59         СРЕДНЕЕ             1   \n",
              "21519         1    2351.431934         37  ученая степень             4   \n",
              "21520         1    4529.316663         43         среднее             1   \n",
              "21521         0  343937.404131         67         среднее             1   \n",
              "21522         1    2113.346888         38         среднее             1   \n",
              "21523         3    3112.481705         38         среднее             1   \n",
              "21524         2    1984.507589         40         среднее             1   \n",
              "\n",
              "          family_status  family_status_id gender income_type  debt  \\\n",
              "21515   женат / замужем                 0      F   сотрудник     1   \n",
              "21516   женат / замужем                 0      F   компаньон     0   \n",
              "21517  гражданский брак                 1      F   компаньон     0   \n",
              "21518   женат / замужем                 0      F   пенсионер     0   \n",
              "21519         в разводе                 3      M   сотрудник     0   \n",
              "21520  гражданский брак                 1      F   компаньон     0   \n",
              "21521   женат / замужем                 0      F   пенсионер     0   \n",
              "21522  гражданский брак                 1      M   сотрудник     1   \n",
              "21523   женат / замужем                 0      M   сотрудник     1   \n",
              "21524   женат / замужем                 0      F   сотрудник     0   \n",
              "\n",
              "        total_income                            purpose  \n",
              "21515  109486.327999              заняться образованием  \n",
              "21516  322807.776603               покупка своего жилья  \n",
              "21517  178059.553491       на покупку своего автомобиля  \n",
              "21518  153864.650328               сделка с автомобилем  \n",
              "21519  115949.039788  покупка коммерческой недвижимости  \n",
              "21520  224791.862382                  операции с жильем  \n",
              "21521  155999.806512               сделка с автомобилем  \n",
              "21522   89672.561153                       недвижимость  \n",
              "21523  244093.050500       на покупку своего автомобиля  \n",
              "21524   82047.418899              на покупку автомобиля  "
            ]
          },
          "execution_count": 5,
          "metadata": {},
          "output_type": "execute_result"
        }
      ],
      "source": [
        "total_income_group_mean = data.groupby('income_type')['total_income'].transform('mean') # средний доход по типу занятости  \n",
        "data['total_income'].fillna(total_income_group_mean, inplace=True) # заменяем NaN в 'total_income' на средний доход по типу занятости \n",
        "\n",
        "data['days_employed'] = data['days_employed'].apply(abs) # избавляемся от отрицательных значений в 'days_employed'\n",
        "\n",
        "days_employed_group_mean = data.groupby('income_type')['days_employed'].transform('mean') # среднее 'days_employed' по типу занятости  \n",
        "data['days_employed'].fillna(days_employed_group_mean, inplace=True)\n",
        "data.tail(10)"
      ]
    },
    {
      "cell_type": "code",
      "execution_count": null,
      "metadata": {
        "id": "L4Y6eflApqA9",
        "outputId": "de7681ff-030e-4d24-87ef-d86c4bd051f4"
      },
      "outputs": [
        {
          "name": "stdout",
          "output_type": "stream",
          "text": [
            "<class 'pandas.core.frame.DataFrame'>\n",
            "RangeIndex: 21525 entries, 0 to 21524\n",
            "Data columns (total 12 columns):\n",
            " #   Column            Non-Null Count  Dtype  \n",
            "---  ------            --------------  -----  \n",
            " 0   children          21525 non-null  int64  \n",
            " 1   days_employed     21525 non-null  float64\n",
            " 2   dob_years         21525 non-null  int64  \n",
            " 3   education         21525 non-null  object \n",
            " 4   education_id      21525 non-null  int64  \n",
            " 5   family_status     21525 non-null  object \n",
            " 6   family_status_id  21525 non-null  int64  \n",
            " 7   gender            21525 non-null  object \n",
            " 8   income_type       21525 non-null  object \n",
            " 9   debt              21525 non-null  int64  \n",
            " 10  total_income      21525 non-null  float64\n",
            " 11  purpose           21525 non-null  object \n",
            "dtypes: float64(2), int64(5), object(5)\n",
            "memory usage: 2.0+ MB\n"
          ]
        },
        {
          "data": {
            "text/html": [
              "<div>\n",
              "<style scoped>\n",
              "    .dataframe tbody tr th:only-of-type {\n",
              "        vertical-align: middle;\n",
              "    }\n",
              "\n",
              "    .dataframe tbody tr th {\n",
              "        vertical-align: top;\n",
              "    }\n",
              "\n",
              "    .dataframe thead th {\n",
              "        text-align: right;\n",
              "    }\n",
              "</style>\n",
              "<table border=\"1\" class=\"dataframe\">\n",
              "  <thead>\n",
              "    <tr style=\"text-align: right;\">\n",
              "      <th></th>\n",
              "      <th>children</th>\n",
              "      <th>days_employed</th>\n",
              "      <th>dob_years</th>\n",
              "      <th>education</th>\n",
              "      <th>education_id</th>\n",
              "      <th>family_status</th>\n",
              "      <th>family_status_id</th>\n",
              "      <th>gender</th>\n",
              "      <th>income_type</th>\n",
              "      <th>debt</th>\n",
              "      <th>total_income</th>\n",
              "      <th>purpose</th>\n",
              "    </tr>\n",
              "  </thead>\n",
              "  <tbody>\n",
              "    <tr>\n",
              "      <th>21515</th>\n",
              "      <td>1</td>\n",
              "      <td>467.685130</td>\n",
              "      <td>28</td>\n",
              "      <td>среднее</td>\n",
              "      <td>1</td>\n",
              "      <td>женат / замужем</td>\n",
              "      <td>0</td>\n",
              "      <td>F</td>\n",
              "      <td>сотрудник</td>\n",
              "      <td>1</td>\n",
              "      <td>109486.327999</td>\n",
              "      <td>заняться образованием</td>\n",
              "    </tr>\n",
              "    <tr>\n",
              "      <th>21516</th>\n",
              "      <td>0</td>\n",
              "      <td>914.391429</td>\n",
              "      <td>42</td>\n",
              "      <td>высшее</td>\n",
              "      <td>0</td>\n",
              "      <td>женат / замужем</td>\n",
              "      <td>0</td>\n",
              "      <td>F</td>\n",
              "      <td>компаньон</td>\n",
              "      <td>0</td>\n",
              "      <td>322807.776603</td>\n",
              "      <td>покупка своего жилья</td>\n",
              "    </tr>\n",
              "    <tr>\n",
              "      <th>21517</th>\n",
              "      <td>0</td>\n",
              "      <td>404.679034</td>\n",
              "      <td>42</td>\n",
              "      <td>высшее</td>\n",
              "      <td>0</td>\n",
              "      <td>гражданский брак</td>\n",
              "      <td>1</td>\n",
              "      <td>F</td>\n",
              "      <td>компаньон</td>\n",
              "      <td>0</td>\n",
              "      <td>178059.553491</td>\n",
              "      <td>на покупку своего автомобиля</td>\n",
              "    </tr>\n",
              "    <tr>\n",
              "      <th>21518</th>\n",
              "      <td>0</td>\n",
              "      <td>373995.710838</td>\n",
              "      <td>59</td>\n",
              "      <td>СРЕДНЕЕ</td>\n",
              "      <td>1</td>\n",
              "      <td>женат / замужем</td>\n",
              "      <td>0</td>\n",
              "      <td>F</td>\n",
              "      <td>пенсионер</td>\n",
              "      <td>0</td>\n",
              "      <td>153864.650328</td>\n",
              "      <td>сделка с автомобилем</td>\n",
              "    </tr>\n",
              "    <tr>\n",
              "      <th>21519</th>\n",
              "      <td>1</td>\n",
              "      <td>2351.431934</td>\n",
              "      <td>37</td>\n",
              "      <td>ученая степень</td>\n",
              "      <td>4</td>\n",
              "      <td>в разводе</td>\n",
              "      <td>3</td>\n",
              "      <td>M</td>\n",
              "      <td>сотрудник</td>\n",
              "      <td>0</td>\n",
              "      <td>115949.039788</td>\n",
              "      <td>покупка коммерческой недвижимости</td>\n",
              "    </tr>\n",
              "    <tr>\n",
              "      <th>21520</th>\n",
              "      <td>1</td>\n",
              "      <td>4529.316663</td>\n",
              "      <td>43</td>\n",
              "      <td>среднее</td>\n",
              "      <td>1</td>\n",
              "      <td>гражданский брак</td>\n",
              "      <td>1</td>\n",
              "      <td>F</td>\n",
              "      <td>компаньон</td>\n",
              "      <td>0</td>\n",
              "      <td>224791.862382</td>\n",
              "      <td>операции с жильем</td>\n",
              "    </tr>\n",
              "    <tr>\n",
              "      <th>21521</th>\n",
              "      <td>0</td>\n",
              "      <td>343937.404131</td>\n",
              "      <td>67</td>\n",
              "      <td>среднее</td>\n",
              "      <td>1</td>\n",
              "      <td>женат / замужем</td>\n",
              "      <td>0</td>\n",
              "      <td>F</td>\n",
              "      <td>пенсионер</td>\n",
              "      <td>0</td>\n",
              "      <td>155999.806512</td>\n",
              "      <td>сделка с автомобилем</td>\n",
              "    </tr>\n",
              "    <tr>\n",
              "      <th>21522</th>\n",
              "      <td>1</td>\n",
              "      <td>2113.346888</td>\n",
              "      <td>38</td>\n",
              "      <td>среднее</td>\n",
              "      <td>1</td>\n",
              "      <td>гражданский брак</td>\n",
              "      <td>1</td>\n",
              "      <td>M</td>\n",
              "      <td>сотрудник</td>\n",
              "      <td>1</td>\n",
              "      <td>89672.561153</td>\n",
              "      <td>недвижимость</td>\n",
              "    </tr>\n",
              "    <tr>\n",
              "      <th>21523</th>\n",
              "      <td>3</td>\n",
              "      <td>3112.481705</td>\n",
              "      <td>38</td>\n",
              "      <td>среднее</td>\n",
              "      <td>1</td>\n",
              "      <td>женат / замужем</td>\n",
              "      <td>0</td>\n",
              "      <td>M</td>\n",
              "      <td>сотрудник</td>\n",
              "      <td>1</td>\n",
              "      <td>244093.050500</td>\n",
              "      <td>на покупку своего автомобиля</td>\n",
              "    </tr>\n",
              "    <tr>\n",
              "      <th>21524</th>\n",
              "      <td>2</td>\n",
              "      <td>1984.507589</td>\n",
              "      <td>40</td>\n",
              "      <td>среднее</td>\n",
              "      <td>1</td>\n",
              "      <td>женат / замужем</td>\n",
              "      <td>0</td>\n",
              "      <td>F</td>\n",
              "      <td>сотрудник</td>\n",
              "      <td>0</td>\n",
              "      <td>82047.418899</td>\n",
              "      <td>на покупку автомобиля</td>\n",
              "    </tr>\n",
              "  </tbody>\n",
              "</table>\n",
              "</div>"
            ],
            "text/plain": [
              "       children  days_employed  dob_years       education  education_id  \\\n",
              "21515         1     467.685130         28         среднее             1   \n",
              "21516         0     914.391429         42          высшее             0   \n",
              "21517         0     404.679034         42          высшее             0   \n",
              "21518         0  373995.710838         59         СРЕДНЕЕ             1   \n",
              "21519         1    2351.431934         37  ученая степень             4   \n",
              "21520         1    4529.316663         43         среднее             1   \n",
              "21521         0  343937.404131         67         среднее             1   \n",
              "21522         1    2113.346888         38         среднее             1   \n",
              "21523         3    3112.481705         38         среднее             1   \n",
              "21524         2    1984.507589         40         среднее             1   \n",
              "\n",
              "          family_status  family_status_id gender income_type  debt  \\\n",
              "21515   женат / замужем                 0      F   сотрудник     1   \n",
              "21516   женат / замужем                 0      F   компаньон     0   \n",
              "21517  гражданский брак                 1      F   компаньон     0   \n",
              "21518   женат / замужем                 0      F   пенсионер     0   \n",
              "21519         в разводе                 3      M   сотрудник     0   \n",
              "21520  гражданский брак                 1      F   компаньон     0   \n",
              "21521   женат / замужем                 0      F   пенсионер     0   \n",
              "21522  гражданский брак                 1      M   сотрудник     1   \n",
              "21523   женат / замужем                 0      M   сотрудник     1   \n",
              "21524   женат / замужем                 0      F   сотрудник     0   \n",
              "\n",
              "        total_income                            purpose  \n",
              "21515  109486.327999              заняться образованием  \n",
              "21516  322807.776603               покупка своего жилья  \n",
              "21517  178059.553491       на покупку своего автомобиля  \n",
              "21518  153864.650328               сделка с автомобилем  \n",
              "21519  115949.039788  покупка коммерческой недвижимости  \n",
              "21520  224791.862382                  операции с жильем  \n",
              "21521  155999.806512               сделка с автомобилем  \n",
              "21522   89672.561153                       недвижимость  \n",
              "21523  244093.050500       на покупку своего автомобиля  \n",
              "21524   82047.418899              на покупку автомобиля  "
            ]
          },
          "execution_count": 6,
          "metadata": {},
          "output_type": "execute_result"
        }
      ],
      "source": [
        "dob_years_mean = data['dob_years'].mean() # средний возраст\n",
        "data['dob_years'] = data['dob_years'].replace(0, int(dob_years_mean)) # заменим 0 на средний возраст\n",
        "\n",
        "\n",
        "data['children'] = data['children'].apply(abs) # переведем отрицательное значение 'children' в положительное\n",
        "data['children'] = data['children'].replace(20, 2) # заменим количество детей с 20 на 2\n",
        "\n",
        "data.info()\n",
        "data.tail(10)"
      ]
    },
    {
      "cell_type": "markdown",
      "metadata": {
        "id": "IxDnrbwSpqA9"
      },
      "source": [
        "**Вывод**"
      ]
    },
    {
      "cell_type": "markdown",
      "metadata": {
        "id": "RmAGbsp-pqA-"
      },
      "source": [
        "Заменили пропущенные значения по доходу на среднее для каждой категории занятости (Я думаю так будет точнее). Избавились от отрицательных значений в трудовом стаже, заполнили пропуски средним значение по категории занятости. Возможно клиенты не указывали свой возравст и доход. У пенсионеров получился средний стаж 365000 дней. Этот столбец для решения задачи нам не пригодится, но об ошибке необходимо предупредить. Знасения 0 в столбце возраст заменил на среднее по столбцу (хотел заменить на среднее по категории занятости, но, почемуто не получилось. Код закоментировал, может подскажете, где ошибка). Исправили количество детей с 20 на 2 (скорее всего опечатка)."
      ]
    },
    {
      "cell_type": "markdown",
      "metadata": {
        "id": "i0Wv_lUVpqA-"
      },
      "source": [
        "### Замена типа данных"
      ]
    },
    {
      "cell_type": "code",
      "execution_count": null,
      "metadata": {
        "id": "RbnVB7qEpqA_",
        "outputId": "156262cc-eb22-4065-a414-44bf0b585020"
      },
      "outputs": [
        {
          "data": {
            "text/html": [
              "<div>\n",
              "<style scoped>\n",
              "    .dataframe tbody tr th:only-of-type {\n",
              "        vertical-align: middle;\n",
              "    }\n",
              "\n",
              "    .dataframe tbody tr th {\n",
              "        vertical-align: top;\n",
              "    }\n",
              "\n",
              "    .dataframe thead th {\n",
              "        text-align: right;\n",
              "    }\n",
              "</style>\n",
              "<table border=\"1\" class=\"dataframe\">\n",
              "  <thead>\n",
              "    <tr style=\"text-align: right;\">\n",
              "      <th></th>\n",
              "      <th>children</th>\n",
              "      <th>days_employed</th>\n",
              "      <th>dob_years</th>\n",
              "      <th>education</th>\n",
              "      <th>education_id</th>\n",
              "      <th>family_status</th>\n",
              "      <th>family_status_id</th>\n",
              "      <th>gender</th>\n",
              "      <th>income_type</th>\n",
              "      <th>debt</th>\n",
              "      <th>total_income</th>\n",
              "      <th>purpose</th>\n",
              "    </tr>\n",
              "  </thead>\n",
              "  <tbody>\n",
              "    <tr>\n",
              "      <th>0</th>\n",
              "      <td>1</td>\n",
              "      <td>8437.673028</td>\n",
              "      <td>42</td>\n",
              "      <td>высшее</td>\n",
              "      <td>0</td>\n",
              "      <td>женат / замужем</td>\n",
              "      <td>0</td>\n",
              "      <td>F</td>\n",
              "      <td>сотрудник</td>\n",
              "      <td>0</td>\n",
              "      <td>253875</td>\n",
              "      <td>покупка жилья</td>\n",
              "    </tr>\n",
              "    <tr>\n",
              "      <th>1</th>\n",
              "      <td>1</td>\n",
              "      <td>4024.803754</td>\n",
              "      <td>36</td>\n",
              "      <td>среднее</td>\n",
              "      <td>1</td>\n",
              "      <td>женат / замужем</td>\n",
              "      <td>0</td>\n",
              "      <td>F</td>\n",
              "      <td>сотрудник</td>\n",
              "      <td>0</td>\n",
              "      <td>112080</td>\n",
              "      <td>приобретение автомобиля</td>\n",
              "    </tr>\n",
              "    <tr>\n",
              "      <th>2</th>\n",
              "      <td>0</td>\n",
              "      <td>5623.422610</td>\n",
              "      <td>33</td>\n",
              "      <td>Среднее</td>\n",
              "      <td>1</td>\n",
              "      <td>женат / замужем</td>\n",
              "      <td>0</td>\n",
              "      <td>M</td>\n",
              "      <td>сотрудник</td>\n",
              "      <td>0</td>\n",
              "      <td>145885</td>\n",
              "      <td>покупка жилья</td>\n",
              "    </tr>\n",
              "    <tr>\n",
              "      <th>3</th>\n",
              "      <td>3</td>\n",
              "      <td>4124.747207</td>\n",
              "      <td>32</td>\n",
              "      <td>среднее</td>\n",
              "      <td>1</td>\n",
              "      <td>женат / замужем</td>\n",
              "      <td>0</td>\n",
              "      <td>M</td>\n",
              "      <td>сотрудник</td>\n",
              "      <td>0</td>\n",
              "      <td>267628</td>\n",
              "      <td>дополнительное образование</td>\n",
              "    </tr>\n",
              "    <tr>\n",
              "      <th>4</th>\n",
              "      <td>0</td>\n",
              "      <td>340266.072047</td>\n",
              "      <td>53</td>\n",
              "      <td>среднее</td>\n",
              "      <td>1</td>\n",
              "      <td>гражданский брак</td>\n",
              "      <td>1</td>\n",
              "      <td>F</td>\n",
              "      <td>пенсионер</td>\n",
              "      <td>0</td>\n",
              "      <td>158616</td>\n",
              "      <td>сыграть свадьбу</td>\n",
              "    </tr>\n",
              "    <tr>\n",
              "      <th>...</th>\n",
              "      <td>...</td>\n",
              "      <td>...</td>\n",
              "      <td>...</td>\n",
              "      <td>...</td>\n",
              "      <td>...</td>\n",
              "      <td>...</td>\n",
              "      <td>...</td>\n",
              "      <td>...</td>\n",
              "      <td>...</td>\n",
              "      <td>...</td>\n",
              "      <td>...</td>\n",
              "      <td>...</td>\n",
              "    </tr>\n",
              "    <tr>\n",
              "      <th>21520</th>\n",
              "      <td>1</td>\n",
              "      <td>4529.316663</td>\n",
              "      <td>43</td>\n",
              "      <td>среднее</td>\n",
              "      <td>1</td>\n",
              "      <td>гражданский брак</td>\n",
              "      <td>1</td>\n",
              "      <td>F</td>\n",
              "      <td>компаньон</td>\n",
              "      <td>0</td>\n",
              "      <td>224791</td>\n",
              "      <td>операции с жильем</td>\n",
              "    </tr>\n",
              "    <tr>\n",
              "      <th>21521</th>\n",
              "      <td>0</td>\n",
              "      <td>343937.404131</td>\n",
              "      <td>67</td>\n",
              "      <td>среднее</td>\n",
              "      <td>1</td>\n",
              "      <td>женат / замужем</td>\n",
              "      <td>0</td>\n",
              "      <td>F</td>\n",
              "      <td>пенсионер</td>\n",
              "      <td>0</td>\n",
              "      <td>155999</td>\n",
              "      <td>сделка с автомобилем</td>\n",
              "    </tr>\n",
              "    <tr>\n",
              "      <th>21522</th>\n",
              "      <td>1</td>\n",
              "      <td>2113.346888</td>\n",
              "      <td>38</td>\n",
              "      <td>среднее</td>\n",
              "      <td>1</td>\n",
              "      <td>гражданский брак</td>\n",
              "      <td>1</td>\n",
              "      <td>M</td>\n",
              "      <td>сотрудник</td>\n",
              "      <td>1</td>\n",
              "      <td>89672</td>\n",
              "      <td>недвижимость</td>\n",
              "    </tr>\n",
              "    <tr>\n",
              "      <th>21523</th>\n",
              "      <td>3</td>\n",
              "      <td>3112.481705</td>\n",
              "      <td>38</td>\n",
              "      <td>среднее</td>\n",
              "      <td>1</td>\n",
              "      <td>женат / замужем</td>\n",
              "      <td>0</td>\n",
              "      <td>M</td>\n",
              "      <td>сотрудник</td>\n",
              "      <td>1</td>\n",
              "      <td>244093</td>\n",
              "      <td>на покупку своего автомобиля</td>\n",
              "    </tr>\n",
              "    <tr>\n",
              "      <th>21524</th>\n",
              "      <td>2</td>\n",
              "      <td>1984.507589</td>\n",
              "      <td>40</td>\n",
              "      <td>среднее</td>\n",
              "      <td>1</td>\n",
              "      <td>женат / замужем</td>\n",
              "      <td>0</td>\n",
              "      <td>F</td>\n",
              "      <td>сотрудник</td>\n",
              "      <td>0</td>\n",
              "      <td>82047</td>\n",
              "      <td>на покупку автомобиля</td>\n",
              "    </tr>\n",
              "  </tbody>\n",
              "</table>\n",
              "<p>21525 rows × 12 columns</p>\n",
              "</div>"
            ],
            "text/plain": [
              "       children  days_employed  dob_years education  education_id  \\\n",
              "0             1    8437.673028         42    высшее             0   \n",
              "1             1    4024.803754         36   среднее             1   \n",
              "2             0    5623.422610         33   Среднее             1   \n",
              "3             3    4124.747207         32   среднее             1   \n",
              "4             0  340266.072047         53   среднее             1   \n",
              "...         ...            ...        ...       ...           ...   \n",
              "21520         1    4529.316663         43   среднее             1   \n",
              "21521         0  343937.404131         67   среднее             1   \n",
              "21522         1    2113.346888         38   среднее             1   \n",
              "21523         3    3112.481705         38   среднее             1   \n",
              "21524         2    1984.507589         40   среднее             1   \n",
              "\n",
              "          family_status  family_status_id gender income_type  debt  \\\n",
              "0       женат / замужем                 0      F   сотрудник     0   \n",
              "1       женат / замужем                 0      F   сотрудник     0   \n",
              "2       женат / замужем                 0      M   сотрудник     0   \n",
              "3       женат / замужем                 0      M   сотрудник     0   \n",
              "4      гражданский брак                 1      F   пенсионер     0   \n",
              "...                 ...               ...    ...         ...   ...   \n",
              "21520  гражданский брак                 1      F   компаньон     0   \n",
              "21521   женат / замужем                 0      F   пенсионер     0   \n",
              "21522  гражданский брак                 1      M   сотрудник     1   \n",
              "21523   женат / замужем                 0      M   сотрудник     1   \n",
              "21524   женат / замужем                 0      F   сотрудник     0   \n",
              "\n",
              "       total_income                       purpose  \n",
              "0            253875                 покупка жилья  \n",
              "1            112080       приобретение автомобиля  \n",
              "2            145885                 покупка жилья  \n",
              "3            267628    дополнительное образование  \n",
              "4            158616               сыграть свадьбу  \n",
              "...             ...                           ...  \n",
              "21520        224791             операции с жильем  \n",
              "21521        155999          сделка с автомобилем  \n",
              "21522         89672                  недвижимость  \n",
              "21523        244093  на покупку своего автомобиля  \n",
              "21524         82047         на покупку автомобиля  \n",
              "\n",
              "[21525 rows x 12 columns]"
            ]
          },
          "execution_count": 7,
          "metadata": {},
          "output_type": "execute_result"
        }
      ],
      "source": [
        "data['total_income'] = data['total_income'].astype('int') # преводим значения 'total_income' в челое int для удобства\n",
        "data['dob_years'] = data['dob_years'].astype('int') # преводим значения 'dob_years' в int для удобства\n",
        "data"
      ]
    },
    {
      "cell_type": "markdown",
      "metadata": {
        "id": "u97nhD50pqA_"
      },
      "source": [
        "**Вывод**"
      ]
    },
    {
      "cell_type": "markdown",
      "metadata": {
        "id": "EzyEEyq-pqA_"
      },
      "source": [
        "Преводим значения 'dob_years' и 'total_income' в int для удобства"
      ]
    },
    {
      "cell_type": "markdown",
      "metadata": {
        "id": "ZZjZwNWApqBA"
      },
      "source": [
        "### Обработка дубликатов"
      ]
    },
    {
      "cell_type": "code",
      "execution_count": null,
      "metadata": {
        "id": "W80k4oLxpqBA",
        "outputId": "6ee66b97-30d9-4fc5-d9cf-17c078c47616"
      },
      "outputs": [
        {
          "data": {
            "text/plain": [
              "71"
            ]
          },
          "execution_count": 8,
          "metadata": {},
          "output_type": "execute_result"
        }
      ],
      "source": [
        "data['education'] = data['education'].str.lower() # привели 'education' к нижнему регистру\n",
        "data.duplicated().sum() # посмотрим на суммарное количество дубликатов\n",
        "\n"
      ]
    },
    {
      "cell_type": "code",
      "execution_count": null,
      "metadata": {
        "id": "GjHGLyUwpqBA",
        "outputId": "9987dc70-c1de-4c05-fc18-0538f8b1370c"
      },
      "outputs": [
        {
          "data": {
            "text/html": [
              "<div>\n",
              "<style scoped>\n",
              "    .dataframe tbody tr th:only-of-type {\n",
              "        vertical-align: middle;\n",
              "    }\n",
              "\n",
              "    .dataframe tbody tr th {\n",
              "        vertical-align: top;\n",
              "    }\n",
              "\n",
              "    .dataframe thead th {\n",
              "        text-align: right;\n",
              "    }\n",
              "</style>\n",
              "<table border=\"1\" class=\"dataframe\">\n",
              "  <thead>\n",
              "    <tr style=\"text-align: right;\">\n",
              "      <th></th>\n",
              "      <th>children</th>\n",
              "      <th>days_employed</th>\n",
              "      <th>dob_years</th>\n",
              "      <th>education</th>\n",
              "      <th>education_id</th>\n",
              "      <th>family_status</th>\n",
              "      <th>family_status_id</th>\n",
              "      <th>gender</th>\n",
              "      <th>income_type</th>\n",
              "      <th>debt</th>\n",
              "      <th>total_income</th>\n",
              "      <th>purpose</th>\n",
              "    </tr>\n",
              "  </thead>\n",
              "  <tbody>\n",
              "    <tr>\n",
              "      <th>17787</th>\n",
              "      <td>0</td>\n",
              "      <td>365003.491245</td>\n",
              "      <td>54</td>\n",
              "      <td>среднее</td>\n",
              "      <td>1</td>\n",
              "      <td>женат / замужем</td>\n",
              "      <td>0</td>\n",
              "      <td>F</td>\n",
              "      <td>пенсионер</td>\n",
              "      <td>0</td>\n",
              "      <td>137127</td>\n",
              "      <td>операции с жильем</td>\n",
              "    </tr>\n",
              "    <tr>\n",
              "      <th>21415</th>\n",
              "      <td>0</td>\n",
              "      <td>365003.491245</td>\n",
              "      <td>54</td>\n",
              "      <td>среднее</td>\n",
              "      <td>1</td>\n",
              "      <td>женат / замужем</td>\n",
              "      <td>0</td>\n",
              "      <td>F</td>\n",
              "      <td>пенсионер</td>\n",
              "      <td>0</td>\n",
              "      <td>137127</td>\n",
              "      <td>операции с жильем</td>\n",
              "    </tr>\n",
              "    <tr>\n",
              "      <th>3344</th>\n",
              "      <td>0</td>\n",
              "      <td>365003.491245</td>\n",
              "      <td>56</td>\n",
              "      <td>среднее</td>\n",
              "      <td>1</td>\n",
              "      <td>женат / замужем</td>\n",
              "      <td>0</td>\n",
              "      <td>F</td>\n",
              "      <td>пенсионер</td>\n",
              "      <td>0</td>\n",
              "      <td>137127</td>\n",
              "      <td>операции со своей недвижимостью</td>\n",
              "    </tr>\n",
              "    <tr>\n",
              "      <th>9627</th>\n",
              "      <td>0</td>\n",
              "      <td>365003.491245</td>\n",
              "      <td>56</td>\n",
              "      <td>среднее</td>\n",
              "      <td>1</td>\n",
              "      <td>женат / замужем</td>\n",
              "      <td>0</td>\n",
              "      <td>F</td>\n",
              "      <td>пенсионер</td>\n",
              "      <td>0</td>\n",
              "      <td>137127</td>\n",
              "      <td>операции со своей недвижимостью</td>\n",
              "    </tr>\n",
              "    <tr>\n",
              "      <th>13300</th>\n",
              "      <td>0</td>\n",
              "      <td>365003.491245</td>\n",
              "      <td>56</td>\n",
              "      <td>среднее</td>\n",
              "      <td>1</td>\n",
              "      <td>женат / замужем</td>\n",
              "      <td>0</td>\n",
              "      <td>F</td>\n",
              "      <td>пенсионер</td>\n",
              "      <td>0</td>\n",
              "      <td>137127</td>\n",
              "      <td>на покупку автомобиля</td>\n",
              "    </tr>\n",
              "    <tr>\n",
              "      <th>...</th>\n",
              "      <td>...</td>\n",
              "      <td>...</td>\n",
              "      <td>...</td>\n",
              "      <td>...</td>\n",
              "      <td>...</td>\n",
              "      <td>...</td>\n",
              "      <td>...</td>\n",
              "      <td>...</td>\n",
              "      <td>...</td>\n",
              "      <td>...</td>\n",
              "      <td>...</td>\n",
              "      <td>...</td>\n",
              "    </tr>\n",
              "    <tr>\n",
              "      <th>19369</th>\n",
              "      <td>0</td>\n",
              "      <td>2111.524398</td>\n",
              "      <td>45</td>\n",
              "      <td>среднее</td>\n",
              "      <td>1</td>\n",
              "      <td>гражданский брак</td>\n",
              "      <td>1</td>\n",
              "      <td>F</td>\n",
              "      <td>компаньон</td>\n",
              "      <td>0</td>\n",
              "      <td>202417</td>\n",
              "      <td>свадьба</td>\n",
              "    </tr>\n",
              "    <tr>\n",
              "      <th>9920</th>\n",
              "      <td>0</td>\n",
              "      <td>2111.524398</td>\n",
              "      <td>51</td>\n",
              "      <td>среднее</td>\n",
              "      <td>1</td>\n",
              "      <td>гражданский брак</td>\n",
              "      <td>1</td>\n",
              "      <td>F</td>\n",
              "      <td>компаньон</td>\n",
              "      <td>0</td>\n",
              "      <td>202417</td>\n",
              "      <td>на проведение свадьбы</td>\n",
              "    </tr>\n",
              "    <tr>\n",
              "      <th>15991</th>\n",
              "      <td>0</td>\n",
              "      <td>2111.524398</td>\n",
              "      <td>51</td>\n",
              "      <td>среднее</td>\n",
              "      <td>1</td>\n",
              "      <td>гражданский брак</td>\n",
              "      <td>1</td>\n",
              "      <td>F</td>\n",
              "      <td>компаньон</td>\n",
              "      <td>0</td>\n",
              "      <td>202417</td>\n",
              "      <td>на проведение свадьбы</td>\n",
              "    </tr>\n",
              "    <tr>\n",
              "      <th>2254</th>\n",
              "      <td>0</td>\n",
              "      <td>2111.524398</td>\n",
              "      <td>54</td>\n",
              "      <td>высшее</td>\n",
              "      <td>0</td>\n",
              "      <td>женат / замужем</td>\n",
              "      <td>0</td>\n",
              "      <td>M</td>\n",
              "      <td>компаньон</td>\n",
              "      <td>0</td>\n",
              "      <td>202417</td>\n",
              "      <td>операции с коммерческой недвижимостью</td>\n",
              "    </tr>\n",
              "    <tr>\n",
              "      <th>17379</th>\n",
              "      <td>0</td>\n",
              "      <td>2111.524398</td>\n",
              "      <td>54</td>\n",
              "      <td>высшее</td>\n",
              "      <td>0</td>\n",
              "      <td>женат / замужем</td>\n",
              "      <td>0</td>\n",
              "      <td>M</td>\n",
              "      <td>компаньон</td>\n",
              "      <td>0</td>\n",
              "      <td>202417</td>\n",
              "      <td>операции с коммерческой недвижимостью</td>\n",
              "    </tr>\n",
              "  </tbody>\n",
              "</table>\n",
              "<p>137 rows × 12 columns</p>\n",
              "</div>"
            ],
            "text/plain": [
              "       children  days_employed  dob_years education  education_id  \\\n",
              "17787         0  365003.491245         54   среднее             1   \n",
              "21415         0  365003.491245         54   среднее             1   \n",
              "3344          0  365003.491245         56   среднее             1   \n",
              "9627          0  365003.491245         56   среднее             1   \n",
              "13300         0  365003.491245         56   среднее             1   \n",
              "...         ...            ...        ...       ...           ...   \n",
              "19369         0    2111.524398         45   среднее             1   \n",
              "9920          0    2111.524398         51   среднее             1   \n",
              "15991         0    2111.524398         51   среднее             1   \n",
              "2254          0    2111.524398         54    высшее             0   \n",
              "17379         0    2111.524398         54    высшее             0   \n",
              "\n",
              "          family_status  family_status_id gender income_type  debt  \\\n",
              "17787   женат / замужем                 0      F   пенсионер     0   \n",
              "21415   женат / замужем                 0      F   пенсионер     0   \n",
              "3344    женат / замужем                 0      F   пенсионер     0   \n",
              "9627    женат / замужем                 0      F   пенсионер     0   \n",
              "13300   женат / замужем                 0      F   пенсионер     0   \n",
              "...                 ...               ...    ...         ...   ...   \n",
              "19369  гражданский брак                 1      F   компаньон     0   \n",
              "9920   гражданский брак                 1      F   компаньон     0   \n",
              "15991  гражданский брак                 1      F   компаньон     0   \n",
              "2254    женат / замужем                 0      M   компаньон     0   \n",
              "17379   женат / замужем                 0      M   компаньон     0   \n",
              "\n",
              "       total_income                                purpose  \n",
              "17787        137127                      операции с жильем  \n",
              "21415        137127                      операции с жильем  \n",
              "3344         137127        операции со своей недвижимостью  \n",
              "9627         137127        операции со своей недвижимостью  \n",
              "13300        137127                  на покупку автомобиля  \n",
              "...             ...                                    ...  \n",
              "19369        202417                                свадьба  \n",
              "9920         202417                  на проведение свадьбы  \n",
              "15991        202417                  на проведение свадьбы  \n",
              "2254         202417  операции с коммерческой недвижимостью  \n",
              "17379        202417  операции с коммерческой недвижимостью  \n",
              "\n",
              "[137 rows x 12 columns]"
            ]
          },
          "execution_count": 9,
          "metadata": {},
          "output_type": "execute_result"
        }
      ],
      "source": [
        "data[data.duplicated(keep=False)].sort_values(by=['total_income', 'dob_years']) # посмотрим на дубликаты"
      ]
    },
    {
      "cell_type": "code",
      "execution_count": null,
      "metadata": {
        "id": "zDdHF0VrpqBB"
      },
      "outputs": [],
      "source": [
        "data = data.drop_duplicates().reset_index() # удаляем дубликаты"
      ]
    },
    {
      "cell_type": "code",
      "execution_count": null,
      "metadata": {
        "id": "AVsLBAABpqBB",
        "outputId": "55cc29b2-7290-4e15-fa11-917726326720"
      },
      "outputs": [
        {
          "data": {
            "text/plain": [
              "0"
            ]
          },
          "execution_count": 11,
          "metadata": {},
          "output_type": "execute_result"
        }
      ],
      "source": [
        "data.duplicated().sum() # проверяем еще раз дубликаты"
      ]
    },
    {
      "cell_type": "markdown",
      "metadata": {
        "id": "JWc6uZdLpqBC"
      },
      "source": [
        "**Вывод**"
      ]
    },
    {
      "cell_type": "markdown",
      "metadata": {
        "id": "VqezqV87pqBC"
      },
      "source": [
        "Привели 'education' к нижнему регистру. Выявили и удалили дубликаты. Причина появления дублей, скорее всего, в работе скрипта. Человек несколько раз нажимал на отправку формы и форма отправлялась несколько раз."
      ]
    },
    {
      "cell_type": "markdown",
      "metadata": {
        "id": "Mm4Gg5K2pqBC"
      },
      "source": [
        "### Лемматизация"
      ]
    },
    {
      "cell_type": "code",
      "execution_count": null,
      "metadata": {
        "id": "6QZItxbUpqBD",
        "outputId": "955e4cf0-a101-4b57-c659-dab3ebbb93eb"
      },
      "outputs": [
        {
          "data": {
            "text/plain": [
              "свадьба                                   791\n",
              "на проведение свадьбы                     768\n",
              "сыграть свадьбу                           765\n",
              "операции с недвижимостью                  675\n",
              "покупка коммерческой недвижимости         661\n",
              "операции с жильем                         652\n",
              "покупка жилья для сдачи                   651\n",
              "операции с коммерческой недвижимостью     650\n",
              "покупка жилья                             646\n",
              "жилье                                     646\n",
              "покупка жилья для семьи                   638\n",
              "строительство собственной недвижимости    635\n",
              "недвижимость                              633\n",
              "операции со своей недвижимостью           627\n",
              "строительство жилой недвижимости          624\n",
              "покупка недвижимости                      621\n",
              "покупка своего жилья                      620\n",
              "строительство недвижимости                619\n",
              "ремонт жилью                              607\n",
              "покупка жилой недвижимости                606\n",
              "на покупку своего автомобиля              505\n",
              "заняться высшим образованием              496\n",
              "автомобиль                                494\n",
              "сделка с подержанным автомобилем          486\n",
              "автомобили                                478\n",
              "свой автомобиль                           478\n",
              "на покупку подержанного автомобиля        478\n",
              "на покупку автомобиля                     471\n",
              "приобретение автомобиля                   461\n",
              "дополнительное образование                460\n",
              "сделка с автомобилем                      455\n",
              "высшее образование                        452\n",
              "образование                               447\n",
              "получение дополнительного образования     446\n",
              "получение образования                     442\n",
              "профильное образование                    436\n",
              "получение высшего образования             426\n",
              "заняться образованием                     408\n",
              "Name: purpose, dtype: int64"
            ]
          },
          "execution_count": 12,
          "metadata": {},
          "output_type": "execute_result"
        }
      ],
      "source": [
        "data['purpose'].value_counts() # посмотрим на все цели кредита"
      ]
    },
    {
      "cell_type": "code",
      "execution_count": null,
      "metadata": {
        "id": "VMUDi_rEpqBD",
        "outputId": "f176ba7f-1d2e-474d-a041-15f7e9f3d187"
      },
      "outputs": [
        {
          "data": {
            "text/html": [
              "<div>\n",
              "<style scoped>\n",
              "    .dataframe tbody tr th:only-of-type {\n",
              "        vertical-align: middle;\n",
              "    }\n",
              "\n",
              "    .dataframe tbody tr th {\n",
              "        vertical-align: top;\n",
              "    }\n",
              "\n",
              "    .dataframe thead th {\n",
              "        text-align: right;\n",
              "    }\n",
              "</style>\n",
              "<table border=\"1\" class=\"dataframe\">\n",
              "  <thead>\n",
              "    <tr style=\"text-align: right;\">\n",
              "      <th></th>\n",
              "      <th>index</th>\n",
              "      <th>children</th>\n",
              "      <th>days_employed</th>\n",
              "      <th>dob_years</th>\n",
              "      <th>education</th>\n",
              "      <th>education_id</th>\n",
              "      <th>family_status</th>\n",
              "      <th>family_status_id</th>\n",
              "      <th>gender</th>\n",
              "      <th>income_type</th>\n",
              "      <th>debt</th>\n",
              "      <th>total_income</th>\n",
              "      <th>purpose</th>\n",
              "      <th>purpose_lemmas</th>\n",
              "    </tr>\n",
              "  </thead>\n",
              "  <tbody>\n",
              "    <tr>\n",
              "      <th>0</th>\n",
              "      <td>0</td>\n",
              "      <td>1</td>\n",
              "      <td>8437.673028</td>\n",
              "      <td>42</td>\n",
              "      <td>высшее</td>\n",
              "      <td>0</td>\n",
              "      <td>женат / замужем</td>\n",
              "      <td>0</td>\n",
              "      <td>F</td>\n",
              "      <td>сотрудник</td>\n",
              "      <td>0</td>\n",
              "      <td>253875</td>\n",
              "      <td>покупка жилья</td>\n",
              "      <td>[покупка,  , жилье, \\n]</td>\n",
              "    </tr>\n",
              "    <tr>\n",
              "      <th>1</th>\n",
              "      <td>1</td>\n",
              "      <td>1</td>\n",
              "      <td>4024.803754</td>\n",
              "      <td>36</td>\n",
              "      <td>среднее</td>\n",
              "      <td>1</td>\n",
              "      <td>женат / замужем</td>\n",
              "      <td>0</td>\n",
              "      <td>F</td>\n",
              "      <td>сотрудник</td>\n",
              "      <td>0</td>\n",
              "      <td>112080</td>\n",
              "      <td>приобретение автомобиля</td>\n",
              "      <td>[приобретение,  , автомобиль, \\n]</td>\n",
              "    </tr>\n",
              "    <tr>\n",
              "      <th>2</th>\n",
              "      <td>2</td>\n",
              "      <td>0</td>\n",
              "      <td>5623.422610</td>\n",
              "      <td>33</td>\n",
              "      <td>среднее</td>\n",
              "      <td>1</td>\n",
              "      <td>женат / замужем</td>\n",
              "      <td>0</td>\n",
              "      <td>M</td>\n",
              "      <td>сотрудник</td>\n",
              "      <td>0</td>\n",
              "      <td>145885</td>\n",
              "      <td>покупка жилья</td>\n",
              "      <td>[покупка,  , жилье, \\n]</td>\n",
              "    </tr>\n",
              "    <tr>\n",
              "      <th>3</th>\n",
              "      <td>3</td>\n",
              "      <td>3</td>\n",
              "      <td>4124.747207</td>\n",
              "      <td>32</td>\n",
              "      <td>среднее</td>\n",
              "      <td>1</td>\n",
              "      <td>женат / замужем</td>\n",
              "      <td>0</td>\n",
              "      <td>M</td>\n",
              "      <td>сотрудник</td>\n",
              "      <td>0</td>\n",
              "      <td>267628</td>\n",
              "      <td>дополнительное образование</td>\n",
              "      <td>[дополнительный,  , образование, \\n]</td>\n",
              "    </tr>\n",
              "    <tr>\n",
              "      <th>4</th>\n",
              "      <td>4</td>\n",
              "      <td>0</td>\n",
              "      <td>340266.072047</td>\n",
              "      <td>53</td>\n",
              "      <td>среднее</td>\n",
              "      <td>1</td>\n",
              "      <td>гражданский брак</td>\n",
              "      <td>1</td>\n",
              "      <td>F</td>\n",
              "      <td>пенсионер</td>\n",
              "      <td>0</td>\n",
              "      <td>158616</td>\n",
              "      <td>сыграть свадьбу</td>\n",
              "      <td>[сыграть,  , свадьба, \\n]</td>\n",
              "    </tr>\n",
              "    <tr>\n",
              "      <th>5</th>\n",
              "      <td>5</td>\n",
              "      <td>0</td>\n",
              "      <td>926.185831</td>\n",
              "      <td>27</td>\n",
              "      <td>высшее</td>\n",
              "      <td>0</td>\n",
              "      <td>гражданский брак</td>\n",
              "      <td>1</td>\n",
              "      <td>M</td>\n",
              "      <td>компаньон</td>\n",
              "      <td>0</td>\n",
              "      <td>255763</td>\n",
              "      <td>покупка жилья</td>\n",
              "      <td>[покупка,  , жилье, \\n]</td>\n",
              "    </tr>\n",
              "    <tr>\n",
              "      <th>6</th>\n",
              "      <td>6</td>\n",
              "      <td>0</td>\n",
              "      <td>2879.202052</td>\n",
              "      <td>43</td>\n",
              "      <td>высшее</td>\n",
              "      <td>0</td>\n",
              "      <td>женат / замужем</td>\n",
              "      <td>0</td>\n",
              "      <td>F</td>\n",
              "      <td>компаньон</td>\n",
              "      <td>0</td>\n",
              "      <td>240525</td>\n",
              "      <td>операции с жильем</td>\n",
              "      <td>[операция,  , с,  , жилье, \\n]</td>\n",
              "    </tr>\n",
              "    <tr>\n",
              "      <th>7</th>\n",
              "      <td>7</td>\n",
              "      <td>0</td>\n",
              "      <td>152.779569</td>\n",
              "      <td>50</td>\n",
              "      <td>среднее</td>\n",
              "      <td>1</td>\n",
              "      <td>женат / замужем</td>\n",
              "      <td>0</td>\n",
              "      <td>M</td>\n",
              "      <td>сотрудник</td>\n",
              "      <td>0</td>\n",
              "      <td>135823</td>\n",
              "      <td>образование</td>\n",
              "      <td>[образование, \\n]</td>\n",
              "    </tr>\n",
              "    <tr>\n",
              "      <th>8</th>\n",
              "      <td>8</td>\n",
              "      <td>2</td>\n",
              "      <td>6929.865299</td>\n",
              "      <td>35</td>\n",
              "      <td>высшее</td>\n",
              "      <td>0</td>\n",
              "      <td>гражданский брак</td>\n",
              "      <td>1</td>\n",
              "      <td>F</td>\n",
              "      <td>сотрудник</td>\n",
              "      <td>0</td>\n",
              "      <td>95856</td>\n",
              "      <td>на проведение свадьбы</td>\n",
              "      <td>[на,  , проведение,  , свадьба, \\n]</td>\n",
              "    </tr>\n",
              "    <tr>\n",
              "      <th>9</th>\n",
              "      <td>9</td>\n",
              "      <td>0</td>\n",
              "      <td>2188.756445</td>\n",
              "      <td>41</td>\n",
              "      <td>среднее</td>\n",
              "      <td>1</td>\n",
              "      <td>женат / замужем</td>\n",
              "      <td>0</td>\n",
              "      <td>M</td>\n",
              "      <td>сотрудник</td>\n",
              "      <td>0</td>\n",
              "      <td>144425</td>\n",
              "      <td>покупка жилья для семьи</td>\n",
              "      <td>[покупка,  , жилье,  , для,  , семья, \\n]</td>\n",
              "    </tr>\n",
              "  </tbody>\n",
              "</table>\n",
              "</div>"
            ],
            "text/plain": [
              "   index  children  days_employed  dob_years education  education_id  \\\n",
              "0      0         1    8437.673028         42    высшее             0   \n",
              "1      1         1    4024.803754         36   среднее             1   \n",
              "2      2         0    5623.422610         33   среднее             1   \n",
              "3      3         3    4124.747207         32   среднее             1   \n",
              "4      4         0  340266.072047         53   среднее             1   \n",
              "5      5         0     926.185831         27    высшее             0   \n",
              "6      6         0    2879.202052         43    высшее             0   \n",
              "7      7         0     152.779569         50   среднее             1   \n",
              "8      8         2    6929.865299         35    высшее             0   \n",
              "9      9         0    2188.756445         41   среднее             1   \n",
              "\n",
              "      family_status  family_status_id gender income_type  debt  total_income  \\\n",
              "0   женат / замужем                 0      F   сотрудник     0        253875   \n",
              "1   женат / замужем                 0      F   сотрудник     0        112080   \n",
              "2   женат / замужем                 0      M   сотрудник     0        145885   \n",
              "3   женат / замужем                 0      M   сотрудник     0        267628   \n",
              "4  гражданский брак                 1      F   пенсионер     0        158616   \n",
              "5  гражданский брак                 1      M   компаньон     0        255763   \n",
              "6   женат / замужем                 0      F   компаньон     0        240525   \n",
              "7   женат / замужем                 0      M   сотрудник     0        135823   \n",
              "8  гражданский брак                 1      F   сотрудник     0         95856   \n",
              "9   женат / замужем                 0      M   сотрудник     0        144425   \n",
              "\n",
              "                      purpose                             purpose_lemmas  \n",
              "0               покупка жилья                    [покупка,  , жилье, \\n]  \n",
              "1     приобретение автомобиля          [приобретение,  , автомобиль, \\n]  \n",
              "2               покупка жилья                    [покупка,  , жилье, \\n]  \n",
              "3  дополнительное образование       [дополнительный,  , образование, \\n]  \n",
              "4             сыграть свадьбу                  [сыграть,  , свадьба, \\n]  \n",
              "5               покупка жилья                    [покупка,  , жилье, \\n]  \n",
              "6           операции с жильем             [операция,  , с,  , жилье, \\n]  \n",
              "7                 образование                          [образование, \\n]  \n",
              "8       на проведение свадьбы        [на,  , проведение,  , свадьба, \\n]  \n",
              "9     покупка жилья для семьи  [покупка,  , жилье,  , для,  , семья, \\n]  "
            ]
          },
          "execution_count": 13,
          "metadata": {},
          "output_type": "execute_result"
        }
      ],
      "source": [
        "from pymystem3 import Mystem\n",
        "m = Mystem()\n",
        "def purpose_lemmas(purpose):\n",
        "     lemmas = m.lemmatize(purpose)  # лемматизировали цели кредита\n",
        "     return lemmas                \n",
        "data['purpose_lemmas'] = data['purpose'].apply(purpose_lemmas)\n",
        "data.head(10)"
      ]
    },
    {
      "cell_type": "code",
      "execution_count": null,
      "metadata": {
        "id": "d5oXU3jVpqBD",
        "outputId": "de671170-e1d6-4442-c1e7-eceb78ae685c"
      },
      "outputs": [
        {
          "ename": "TypeError",
          "evalue": "unhashable type: 'list'",
          "output_type": "error",
          "traceback": [
            "\u001b[0;31m---------------------------------------------------------------------------\u001b[0m",
            "\u001b[0;31mTypeError\u001b[0m                                 Traceback (most recent call last)",
            "\u001b[0;32mpandas/_libs/hashtable_class_helper.pxi\u001b[0m in \u001b[0;36mpandas._libs.hashtable.PyObjectHashTable.map_locations\u001b[0;34m()\u001b[0m\n",
            "\u001b[0;31mTypeError\u001b[0m: unhashable type: 'list'"
          ]
        },
        {
          "name": "stderr",
          "output_type": "stream",
          "text": [
            "Exception ignored in: 'pandas._libs.index.IndexEngine._call_map_locations'\n",
            "Traceback (most recent call last):\n",
            "  File \"pandas/_libs/hashtable_class_helper.pxi\", line 4588, in pandas._libs.hashtable.PyObjectHashTable.map_locations\n",
            "TypeError: unhashable type: 'list'\n"
          ]
        },
        {
          "data": {
            "text/plain": [
              "[автомобиль, \\n]                                          972\n",
              "[свадьба, \\n]                                             791\n",
              "[на,  , проведение,  , свадьба, \\n]                       768\n",
              "[сыграть,  , свадьба, \\n]                                 765\n",
              "[операция,  , с,  , недвижимость, \\n]                     675\n",
              "[покупка,  , коммерческий,  , недвижимость, \\n]           661\n",
              "[операция,  , с,  , жилье, \\n]                            652\n",
              "[покупка,  , жилье,  , для,  , сдача, \\n]                 651\n",
              "[операция,  , с,  , коммерческий,  , недвижимость, \\n]    650\n",
              "[покупка,  , жилье, \\n]                                   646\n",
              "[жилье, \\n]                                               646\n",
              "[покупка,  , жилье,  , для,  , семья, \\n]                 638\n",
              "[строительство,  , собственный,  , недвижимость, \\n]      635\n",
              "[недвижимость, \\n]                                        633\n",
              "[операция,  , со,  , свой,  , недвижимость, \\n]           627\n",
              "[строительство,  , жилой,  , недвижимость, \\n]            624\n",
              "[покупка,  , недвижимость, \\n]                            621\n",
              "[покупка,  , свой,  , жилье, \\n]                          620\n",
              "[строительство,  , недвижимость, \\n]                      619\n",
              "[ремонт,  , жилье, \\n]                                    607\n",
              "[покупка,  , жилой,  , недвижимость, \\n]                  606\n",
              "[на,  , покупка,  , свой,  , автомобиль, \\n]              505\n",
              "[заниматься,  , высокий,  , образование, \\n]              496\n",
              "[сделка,  , с,  , подержанный,  , автомобиль, \\n]         486\n",
              "[на,  , покупка,  , подержать,  , автомобиль, \\n]         478\n",
              "[свой,  , автомобиль, \\n]                                 478\n",
              "[на,  , покупка,  , автомобиль, \\n]                       471\n",
              "[приобретение,  , автомобиль, \\n]                         461\n",
              "[дополнительный,  , образование, \\n]                      460\n",
              "[сделка,  , с,  , автомобиль, \\n]                         455\n",
              "[высокий,  , образование, \\n]                             452\n",
              "[образование, \\n]                                         447\n",
              "[получение,  , дополнительный,  , образование, \\n]        446\n",
              "[получение,  , образование, \\n]                           442\n",
              "[профильный,  , образование, \\n]                          436\n",
              "[получение,  , высокий,  , образование, \\n]               426\n",
              "[заниматься,  , образование, \\n]                          408\n",
              "Name: purpose_lemmas, dtype: int64"
            ]
          },
          "execution_count": 14,
          "metadata": {},
          "output_type": "execute_result"
        }
      ],
      "source": [
        "data['purpose_lemmas'].value_counts() # выделим топ целей (автомобиль, свадьба, недвижимость, образование)"
      ]
    },
    {
      "cell_type": "markdown",
      "metadata": {
        "id": "MRCrYIB_pqBE"
      },
      "source": [
        "**Вывод**"
      ]
    },
    {
      "cell_type": "markdown",
      "metadata": {
        "id": "AwBu3HqSpqBE"
      },
      "source": [
        "Лемматизацию записал в новый столбец для дальнейшей категоризации. Перед лемматизацией вывел цели для ознакомления. После лемматизации веделил основные категории (автомобиль, свадьба, недвижимость, образование)."
      ]
    },
    {
      "cell_type": "markdown",
      "metadata": {
        "id": "1lLCSE0zpqBE"
      },
      "source": [
        "### Категоризация данных"
      ]
    },
    {
      "cell_type": "code",
      "execution_count": null,
      "metadata": {
        "id": "vxzjrp5RpqBE",
        "outputId": "854bd55c-3312-4805-fceb-017be9fcc227"
      },
      "outputs": [
        {
          "data": {
            "text/plain": [
              "недвижимость    10811\n",
              "авто             4306\n",
              "образование      4013\n",
              "свадьба          2324\n",
              "Name: purpose_cat, dtype: int64"
            ]
          },
          "execution_count": 15,
          "metadata": {},
          "output_type": "execute_result"
        }
      ],
      "source": [
        "def purpose_cat(purpose):    # присвоили категории всем клиентам по целям\n",
        "    if 'автомобиль'in purpose:\n",
        "        return 'авто'\n",
        "    elif 'свадьба' in purpose:\n",
        "        return 'свадьба'\n",
        "    elif 'недвижимость' in purpose or 'жилье' in purpose:\n",
        "        return 'недвижимость'\n",
        "    elif 'образование' in purpose:\n",
        "        return 'образование'\n",
        "    else:\n",
        "        return 'другое'\n",
        "data['purpose_cat'] = data['purpose_lemmas'].apply(purpose_cat)\n",
        "data['purpose_cat'].value_counts()\n"
      ]
    },
    {
      "cell_type": "code",
      "execution_count": null,
      "metadata": {
        "id": "q3W_qhtlpqBF",
        "outputId": "35729041-fc58-4f93-cb6f-6878fdad95c0"
      },
      "outputs": [
        {
          "data": {
            "text/plain": [
              "5558     19\n",
              "12998    19\n",
              "9208     19\n",
              "20166    19\n",
              "2725     19\n",
              "         ..\n",
              "4891     74\n",
              "12297    74\n",
              "3458     74\n",
              "2557     74\n",
              "8870     75\n",
              "Name: dob_years, Length: 21454, dtype: int64"
            ]
          },
          "execution_count": 16,
          "metadata": {},
          "output_type": "execute_result"
        }
      ],
      "source": [
        "data['dob_years'].sort_values() # смотрим возраст заемщиков"
      ]
    },
    {
      "cell_type": "code",
      "execution_count": null,
      "metadata": {
        "id": "9cLrYa9MpqBF",
        "outputId": "5b08a45b-1390-4fc4-fa2d-ff82155dbfb1"
      },
      "outputs": [
        {
          "data": {
            "text/plain": [
              "'пенсионеры'"
            ]
          },
          "execution_count": 17,
          "metadata": {},
          "output_type": "execute_result"
        }
      ],
      "source": [
        "def dob_years_group(age): # категории по возрасту\n",
        "    if 18 <= age <= 35:\n",
        "        return 'молодые'\n",
        "    if 36 <= age <= 65:\n",
        "        return 'средний возраст'\n",
        "    if age > 65:\n",
        "        return 'пенсионеры'\n",
        "dob_years_group(66)"
      ]
    },
    {
      "cell_type": "code",
      "execution_count": null,
      "metadata": {
        "id": "0k4NvIIIpqBG",
        "outputId": "a48fc97c-fed3-471f-bcb8-dd520f1d92b4"
      },
      "outputs": [
        {
          "data": {
            "text/html": [
              "<div>\n",
              "<style scoped>\n",
              "    .dataframe tbody tr th:only-of-type {\n",
              "        vertical-align: middle;\n",
              "    }\n",
              "\n",
              "    .dataframe tbody tr th {\n",
              "        vertical-align: top;\n",
              "    }\n",
              "\n",
              "    .dataframe thead th {\n",
              "        text-align: right;\n",
              "    }\n",
              "</style>\n",
              "<table border=\"1\" class=\"dataframe\">\n",
              "  <thead>\n",
              "    <tr style=\"text-align: right;\">\n",
              "      <th></th>\n",
              "      <th>index</th>\n",
              "      <th>children</th>\n",
              "      <th>days_employed</th>\n",
              "      <th>dob_years</th>\n",
              "      <th>education</th>\n",
              "      <th>education_id</th>\n",
              "      <th>family_status</th>\n",
              "      <th>family_status_id</th>\n",
              "      <th>gender</th>\n",
              "      <th>income_type</th>\n",
              "      <th>debt</th>\n",
              "      <th>total_income</th>\n",
              "      <th>purpose</th>\n",
              "      <th>purpose_lemmas</th>\n",
              "      <th>purpose_cat</th>\n",
              "      <th>dob_years_group</th>\n",
              "    </tr>\n",
              "  </thead>\n",
              "  <tbody>\n",
              "    <tr>\n",
              "      <th>0</th>\n",
              "      <td>0</td>\n",
              "      <td>1</td>\n",
              "      <td>8437.673028</td>\n",
              "      <td>42</td>\n",
              "      <td>высшее</td>\n",
              "      <td>0</td>\n",
              "      <td>женат / замужем</td>\n",
              "      <td>0</td>\n",
              "      <td>F</td>\n",
              "      <td>сотрудник</td>\n",
              "      <td>0</td>\n",
              "      <td>253875</td>\n",
              "      <td>покупка жилья</td>\n",
              "      <td>[покупка,  , жилье, \\n]</td>\n",
              "      <td>недвижимость</td>\n",
              "      <td>средний возраст</td>\n",
              "    </tr>\n",
              "    <tr>\n",
              "      <th>1</th>\n",
              "      <td>1</td>\n",
              "      <td>1</td>\n",
              "      <td>4024.803754</td>\n",
              "      <td>36</td>\n",
              "      <td>среднее</td>\n",
              "      <td>1</td>\n",
              "      <td>женат / замужем</td>\n",
              "      <td>0</td>\n",
              "      <td>F</td>\n",
              "      <td>сотрудник</td>\n",
              "      <td>0</td>\n",
              "      <td>112080</td>\n",
              "      <td>приобретение автомобиля</td>\n",
              "      <td>[приобретение,  , автомобиль, \\n]</td>\n",
              "      <td>авто</td>\n",
              "      <td>средний возраст</td>\n",
              "    </tr>\n",
              "    <tr>\n",
              "      <th>2</th>\n",
              "      <td>2</td>\n",
              "      <td>0</td>\n",
              "      <td>5623.422610</td>\n",
              "      <td>33</td>\n",
              "      <td>среднее</td>\n",
              "      <td>1</td>\n",
              "      <td>женат / замужем</td>\n",
              "      <td>0</td>\n",
              "      <td>M</td>\n",
              "      <td>сотрудник</td>\n",
              "      <td>0</td>\n",
              "      <td>145885</td>\n",
              "      <td>покупка жилья</td>\n",
              "      <td>[покупка,  , жилье, \\n]</td>\n",
              "      <td>недвижимость</td>\n",
              "      <td>молодые</td>\n",
              "    </tr>\n",
              "    <tr>\n",
              "      <th>3</th>\n",
              "      <td>3</td>\n",
              "      <td>3</td>\n",
              "      <td>4124.747207</td>\n",
              "      <td>32</td>\n",
              "      <td>среднее</td>\n",
              "      <td>1</td>\n",
              "      <td>женат / замужем</td>\n",
              "      <td>0</td>\n",
              "      <td>M</td>\n",
              "      <td>сотрудник</td>\n",
              "      <td>0</td>\n",
              "      <td>267628</td>\n",
              "      <td>дополнительное образование</td>\n",
              "      <td>[дополнительный,  , образование, \\n]</td>\n",
              "      <td>образование</td>\n",
              "      <td>молодые</td>\n",
              "    </tr>\n",
              "    <tr>\n",
              "      <th>4</th>\n",
              "      <td>4</td>\n",
              "      <td>0</td>\n",
              "      <td>340266.072047</td>\n",
              "      <td>53</td>\n",
              "      <td>среднее</td>\n",
              "      <td>1</td>\n",
              "      <td>гражданский брак</td>\n",
              "      <td>1</td>\n",
              "      <td>F</td>\n",
              "      <td>пенсионер</td>\n",
              "      <td>0</td>\n",
              "      <td>158616</td>\n",
              "      <td>сыграть свадьбу</td>\n",
              "      <td>[сыграть,  , свадьба, \\n]</td>\n",
              "      <td>свадьба</td>\n",
              "      <td>средний возраст</td>\n",
              "    </tr>\n",
              "    <tr>\n",
              "      <th>5</th>\n",
              "      <td>5</td>\n",
              "      <td>0</td>\n",
              "      <td>926.185831</td>\n",
              "      <td>27</td>\n",
              "      <td>высшее</td>\n",
              "      <td>0</td>\n",
              "      <td>гражданский брак</td>\n",
              "      <td>1</td>\n",
              "      <td>M</td>\n",
              "      <td>компаньон</td>\n",
              "      <td>0</td>\n",
              "      <td>255763</td>\n",
              "      <td>покупка жилья</td>\n",
              "      <td>[покупка,  , жилье, \\n]</td>\n",
              "      <td>недвижимость</td>\n",
              "      <td>молодые</td>\n",
              "    </tr>\n",
              "    <tr>\n",
              "      <th>6</th>\n",
              "      <td>6</td>\n",
              "      <td>0</td>\n",
              "      <td>2879.202052</td>\n",
              "      <td>43</td>\n",
              "      <td>высшее</td>\n",
              "      <td>0</td>\n",
              "      <td>женат / замужем</td>\n",
              "      <td>0</td>\n",
              "      <td>F</td>\n",
              "      <td>компаньон</td>\n",
              "      <td>0</td>\n",
              "      <td>240525</td>\n",
              "      <td>операции с жильем</td>\n",
              "      <td>[операция,  , с,  , жилье, \\n]</td>\n",
              "      <td>недвижимость</td>\n",
              "      <td>средний возраст</td>\n",
              "    </tr>\n",
              "    <tr>\n",
              "      <th>7</th>\n",
              "      <td>7</td>\n",
              "      <td>0</td>\n",
              "      <td>152.779569</td>\n",
              "      <td>50</td>\n",
              "      <td>среднее</td>\n",
              "      <td>1</td>\n",
              "      <td>женат / замужем</td>\n",
              "      <td>0</td>\n",
              "      <td>M</td>\n",
              "      <td>сотрудник</td>\n",
              "      <td>0</td>\n",
              "      <td>135823</td>\n",
              "      <td>образование</td>\n",
              "      <td>[образование, \\n]</td>\n",
              "      <td>образование</td>\n",
              "      <td>средний возраст</td>\n",
              "    </tr>\n",
              "    <tr>\n",
              "      <th>8</th>\n",
              "      <td>8</td>\n",
              "      <td>2</td>\n",
              "      <td>6929.865299</td>\n",
              "      <td>35</td>\n",
              "      <td>высшее</td>\n",
              "      <td>0</td>\n",
              "      <td>гражданский брак</td>\n",
              "      <td>1</td>\n",
              "      <td>F</td>\n",
              "      <td>сотрудник</td>\n",
              "      <td>0</td>\n",
              "      <td>95856</td>\n",
              "      <td>на проведение свадьбы</td>\n",
              "      <td>[на,  , проведение,  , свадьба, \\n]</td>\n",
              "      <td>свадьба</td>\n",
              "      <td>молодые</td>\n",
              "    </tr>\n",
              "    <tr>\n",
              "      <th>9</th>\n",
              "      <td>9</td>\n",
              "      <td>0</td>\n",
              "      <td>2188.756445</td>\n",
              "      <td>41</td>\n",
              "      <td>среднее</td>\n",
              "      <td>1</td>\n",
              "      <td>женат / замужем</td>\n",
              "      <td>0</td>\n",
              "      <td>M</td>\n",
              "      <td>сотрудник</td>\n",
              "      <td>0</td>\n",
              "      <td>144425</td>\n",
              "      <td>покупка жилья для семьи</td>\n",
              "      <td>[покупка,  , жилье,  , для,  , семья, \\n]</td>\n",
              "      <td>недвижимость</td>\n",
              "      <td>средний возраст</td>\n",
              "    </tr>\n",
              "  </tbody>\n",
              "</table>\n",
              "</div>"
            ],
            "text/plain": [
              "   index  children  days_employed  dob_years education  education_id  \\\n",
              "0      0         1    8437.673028         42    высшее             0   \n",
              "1      1         1    4024.803754         36   среднее             1   \n",
              "2      2         0    5623.422610         33   среднее             1   \n",
              "3      3         3    4124.747207         32   среднее             1   \n",
              "4      4         0  340266.072047         53   среднее             1   \n",
              "5      5         0     926.185831         27    высшее             0   \n",
              "6      6         0    2879.202052         43    высшее             0   \n",
              "7      7         0     152.779569         50   среднее             1   \n",
              "8      8         2    6929.865299         35    высшее             0   \n",
              "9      9         0    2188.756445         41   среднее             1   \n",
              "\n",
              "      family_status  family_status_id gender income_type  debt  total_income  \\\n",
              "0   женат / замужем                 0      F   сотрудник     0        253875   \n",
              "1   женат / замужем                 0      F   сотрудник     0        112080   \n",
              "2   женат / замужем                 0      M   сотрудник     0        145885   \n",
              "3   женат / замужем                 0      M   сотрудник     0        267628   \n",
              "4  гражданский брак                 1      F   пенсионер     0        158616   \n",
              "5  гражданский брак                 1      M   компаньон     0        255763   \n",
              "6   женат / замужем                 0      F   компаньон     0        240525   \n",
              "7   женат / замужем                 0      M   сотрудник     0        135823   \n",
              "8  гражданский брак                 1      F   сотрудник     0         95856   \n",
              "9   женат / замужем                 0      M   сотрудник     0        144425   \n",
              "\n",
              "                      purpose                             purpose_lemmas  \\\n",
              "0               покупка жилья                    [покупка,  , жилье, \\n]   \n",
              "1     приобретение автомобиля          [приобретение,  , автомобиль, \\n]   \n",
              "2               покупка жилья                    [покупка,  , жилье, \\n]   \n",
              "3  дополнительное образование       [дополнительный,  , образование, \\n]   \n",
              "4             сыграть свадьбу                  [сыграть,  , свадьба, \\n]   \n",
              "5               покупка жилья                    [покупка,  , жилье, \\n]   \n",
              "6           операции с жильем             [операция,  , с,  , жилье, \\n]   \n",
              "7                 образование                          [образование, \\n]   \n",
              "8       на проведение свадьбы        [на,  , проведение,  , свадьба, \\n]   \n",
              "9     покупка жилья для семьи  [покупка,  , жилье,  , для,  , семья, \\n]   \n",
              "\n",
              "    purpose_cat  dob_years_group  \n",
              "0  недвижимость  средний возраст  \n",
              "1          авто  средний возраст  \n",
              "2  недвижимость          молодые  \n",
              "3   образование          молодые  \n",
              "4       свадьба  средний возраст  \n",
              "5  недвижимость          молодые  \n",
              "6  недвижимость  средний возраст  \n",
              "7   образование  средний возраст  \n",
              "8       свадьба          молодые  \n",
              "9  недвижимость  средний возраст  "
            ]
          },
          "execution_count": 18,
          "metadata": {},
          "output_type": "execute_result"
        }
      ],
      "source": [
        "data['dob_years_group'] = data['dob_years'].apply(dob_years_group)\n",
        "data.head(10)"
      ]
    },
    {
      "cell_type": "code",
      "execution_count": null,
      "metadata": {
        "id": "LyBXIgkhpqBG",
        "outputId": "ef369e22-ab60-4fb3-fc59-2d5079aaf52b"
      },
      "outputs": [
        {
          "data": {
            "text/plain": [
              "14555      20667\n",
              "12983      21205\n",
              "16138      21367\n",
              "1598       21695\n",
              "14247      21895\n",
              "          ...   \n",
              "17137    1711309\n",
              "20742    1715018\n",
              "9159     1726276\n",
              "19548    2200852\n",
              "12390    2265604\n",
              "Name: total_income, Length: 21454, dtype: int64"
            ]
          },
          "execution_count": 19,
          "metadata": {},
          "output_type": "execute_result"
        }
      ],
      "source": [
        "data['total_income'].sort_values() # смотрим разброс доходов"
      ]
    },
    {
      "cell_type": "code",
      "execution_count": null,
      "metadata": {
        "id": "UKCyabdFpqBH",
        "outputId": "ba9cbf7e-4792-42eb-9fb0-0e3e92c0c1b8"
      },
      "outputs": [
        {
          "data": {
            "text/html": [
              "<div>\n",
              "<style scoped>\n",
              "    .dataframe tbody tr th:only-of-type {\n",
              "        vertical-align: middle;\n",
              "    }\n",
              "\n",
              "    .dataframe tbody tr th {\n",
              "        vertical-align: top;\n",
              "    }\n",
              "\n",
              "    .dataframe thead th {\n",
              "        text-align: right;\n",
              "    }\n",
              "</style>\n",
              "<table border=\"1\" class=\"dataframe\">\n",
              "  <thead>\n",
              "    <tr style=\"text-align: right;\">\n",
              "      <th></th>\n",
              "      <th>index</th>\n",
              "      <th>children</th>\n",
              "      <th>days_employed</th>\n",
              "      <th>dob_years</th>\n",
              "      <th>education</th>\n",
              "      <th>education_id</th>\n",
              "      <th>family_status</th>\n",
              "      <th>family_status_id</th>\n",
              "      <th>gender</th>\n",
              "      <th>income_type</th>\n",
              "      <th>debt</th>\n",
              "      <th>total_income</th>\n",
              "      <th>purpose</th>\n",
              "      <th>purpose_lemmas</th>\n",
              "      <th>purpose_cat</th>\n",
              "      <th>dob_years_group</th>\n",
              "      <th>total_income_group</th>\n",
              "    </tr>\n",
              "  </thead>\n",
              "  <tbody>\n",
              "    <tr>\n",
              "      <th>0</th>\n",
              "      <td>0</td>\n",
              "      <td>1</td>\n",
              "      <td>8437.673028</td>\n",
              "      <td>42</td>\n",
              "      <td>высшее</td>\n",
              "      <td>0</td>\n",
              "      <td>женат / замужем</td>\n",
              "      <td>0</td>\n",
              "      <td>F</td>\n",
              "      <td>сотрудник</td>\n",
              "      <td>0</td>\n",
              "      <td>253875</td>\n",
              "      <td>покупка жилья</td>\n",
              "      <td>[покупка,  , жилье, \\n]</td>\n",
              "      <td>недвижимость</td>\n",
              "      <td>средний возраст</td>\n",
              "      <td>доход высокий</td>\n",
              "    </tr>\n",
              "    <tr>\n",
              "      <th>1</th>\n",
              "      <td>1</td>\n",
              "      <td>1</td>\n",
              "      <td>4024.803754</td>\n",
              "      <td>36</td>\n",
              "      <td>среднее</td>\n",
              "      <td>1</td>\n",
              "      <td>женат / замужем</td>\n",
              "      <td>0</td>\n",
              "      <td>F</td>\n",
              "      <td>сотрудник</td>\n",
              "      <td>0</td>\n",
              "      <td>112080</td>\n",
              "      <td>приобретение автомобиля</td>\n",
              "      <td>[приобретение,  , автомобиль, \\n]</td>\n",
              "      <td>авто</td>\n",
              "      <td>средний возраст</td>\n",
              "      <td>доход средний</td>\n",
              "    </tr>\n",
              "    <tr>\n",
              "      <th>2</th>\n",
              "      <td>2</td>\n",
              "      <td>0</td>\n",
              "      <td>5623.422610</td>\n",
              "      <td>33</td>\n",
              "      <td>среднее</td>\n",
              "      <td>1</td>\n",
              "      <td>женат / замужем</td>\n",
              "      <td>0</td>\n",
              "      <td>M</td>\n",
              "      <td>сотрудник</td>\n",
              "      <td>0</td>\n",
              "      <td>145885</td>\n",
              "      <td>покупка жилья</td>\n",
              "      <td>[покупка,  , жилье, \\n]</td>\n",
              "      <td>недвижимость</td>\n",
              "      <td>молодые</td>\n",
              "      <td>доход выше среднего</td>\n",
              "    </tr>\n",
              "    <tr>\n",
              "      <th>3</th>\n",
              "      <td>3</td>\n",
              "      <td>3</td>\n",
              "      <td>4124.747207</td>\n",
              "      <td>32</td>\n",
              "      <td>среднее</td>\n",
              "      <td>1</td>\n",
              "      <td>женат / замужем</td>\n",
              "      <td>0</td>\n",
              "      <td>M</td>\n",
              "      <td>сотрудник</td>\n",
              "      <td>0</td>\n",
              "      <td>267628</td>\n",
              "      <td>дополнительное образование</td>\n",
              "      <td>[дополнительный,  , образование, \\n]</td>\n",
              "      <td>образование</td>\n",
              "      <td>молодые</td>\n",
              "      <td>доход высокий</td>\n",
              "    </tr>\n",
              "    <tr>\n",
              "      <th>4</th>\n",
              "      <td>4</td>\n",
              "      <td>0</td>\n",
              "      <td>340266.072047</td>\n",
              "      <td>53</td>\n",
              "      <td>среднее</td>\n",
              "      <td>1</td>\n",
              "      <td>гражданский брак</td>\n",
              "      <td>1</td>\n",
              "      <td>F</td>\n",
              "      <td>пенсионер</td>\n",
              "      <td>0</td>\n",
              "      <td>158616</td>\n",
              "      <td>сыграть свадьбу</td>\n",
              "      <td>[сыграть,  , свадьба, \\n]</td>\n",
              "      <td>свадьба</td>\n",
              "      <td>средний возраст</td>\n",
              "      <td>доход выше среднего</td>\n",
              "    </tr>\n",
              "    <tr>\n",
              "      <th>5</th>\n",
              "      <td>5</td>\n",
              "      <td>0</td>\n",
              "      <td>926.185831</td>\n",
              "      <td>27</td>\n",
              "      <td>высшее</td>\n",
              "      <td>0</td>\n",
              "      <td>гражданский брак</td>\n",
              "      <td>1</td>\n",
              "      <td>M</td>\n",
              "      <td>компаньон</td>\n",
              "      <td>0</td>\n",
              "      <td>255763</td>\n",
              "      <td>покупка жилья</td>\n",
              "      <td>[покупка,  , жилье, \\n]</td>\n",
              "      <td>недвижимость</td>\n",
              "      <td>молодые</td>\n",
              "      <td>доход высокий</td>\n",
              "    </tr>\n",
              "    <tr>\n",
              "      <th>6</th>\n",
              "      <td>6</td>\n",
              "      <td>0</td>\n",
              "      <td>2879.202052</td>\n",
              "      <td>43</td>\n",
              "      <td>высшее</td>\n",
              "      <td>0</td>\n",
              "      <td>женат / замужем</td>\n",
              "      <td>0</td>\n",
              "      <td>F</td>\n",
              "      <td>компаньон</td>\n",
              "      <td>0</td>\n",
              "      <td>240525</td>\n",
              "      <td>операции с жильем</td>\n",
              "      <td>[операция,  , с,  , жилье, \\n]</td>\n",
              "      <td>недвижимость</td>\n",
              "      <td>средний возраст</td>\n",
              "      <td>доход высокий</td>\n",
              "    </tr>\n",
              "    <tr>\n",
              "      <th>7</th>\n",
              "      <td>7</td>\n",
              "      <td>0</td>\n",
              "      <td>152.779569</td>\n",
              "      <td>50</td>\n",
              "      <td>среднее</td>\n",
              "      <td>1</td>\n",
              "      <td>женат / замужем</td>\n",
              "      <td>0</td>\n",
              "      <td>M</td>\n",
              "      <td>сотрудник</td>\n",
              "      <td>0</td>\n",
              "      <td>135823</td>\n",
              "      <td>образование</td>\n",
              "      <td>[образование, \\n]</td>\n",
              "      <td>образование</td>\n",
              "      <td>средний возраст</td>\n",
              "      <td>доход выше среднего</td>\n",
              "    </tr>\n",
              "    <tr>\n",
              "      <th>8</th>\n",
              "      <td>8</td>\n",
              "      <td>2</td>\n",
              "      <td>6929.865299</td>\n",
              "      <td>35</td>\n",
              "      <td>высшее</td>\n",
              "      <td>0</td>\n",
              "      <td>гражданский брак</td>\n",
              "      <td>1</td>\n",
              "      <td>F</td>\n",
              "      <td>сотрудник</td>\n",
              "      <td>0</td>\n",
              "      <td>95856</td>\n",
              "      <td>на проведение свадьбы</td>\n",
              "      <td>[на,  , проведение,  , свадьба, \\n]</td>\n",
              "      <td>свадьба</td>\n",
              "      <td>молодые</td>\n",
              "      <td>доход средний</td>\n",
              "    </tr>\n",
              "    <tr>\n",
              "      <th>9</th>\n",
              "      <td>9</td>\n",
              "      <td>0</td>\n",
              "      <td>2188.756445</td>\n",
              "      <td>41</td>\n",
              "      <td>среднее</td>\n",
              "      <td>1</td>\n",
              "      <td>женат / замужем</td>\n",
              "      <td>0</td>\n",
              "      <td>M</td>\n",
              "      <td>сотрудник</td>\n",
              "      <td>0</td>\n",
              "      <td>144425</td>\n",
              "      <td>покупка жилья для семьи</td>\n",
              "      <td>[покупка,  , жилье,  , для,  , семья, \\n]</td>\n",
              "      <td>недвижимость</td>\n",
              "      <td>средний возраст</td>\n",
              "      <td>доход выше среднего</td>\n",
              "    </tr>\n",
              "  </tbody>\n",
              "</table>\n",
              "</div>"
            ],
            "text/plain": [
              "   index  children  days_employed  dob_years education  education_id  \\\n",
              "0      0         1    8437.673028         42    высшее             0   \n",
              "1      1         1    4024.803754         36   среднее             1   \n",
              "2      2         0    5623.422610         33   среднее             1   \n",
              "3      3         3    4124.747207         32   среднее             1   \n",
              "4      4         0  340266.072047         53   среднее             1   \n",
              "5      5         0     926.185831         27    высшее             0   \n",
              "6      6         0    2879.202052         43    высшее             0   \n",
              "7      7         0     152.779569         50   среднее             1   \n",
              "8      8         2    6929.865299         35    высшее             0   \n",
              "9      9         0    2188.756445         41   среднее             1   \n",
              "\n",
              "      family_status  family_status_id gender income_type  debt  total_income  \\\n",
              "0   женат / замужем                 0      F   сотрудник     0        253875   \n",
              "1   женат / замужем                 0      F   сотрудник     0        112080   \n",
              "2   женат / замужем                 0      M   сотрудник     0        145885   \n",
              "3   женат / замужем                 0      M   сотрудник     0        267628   \n",
              "4  гражданский брак                 1      F   пенсионер     0        158616   \n",
              "5  гражданский брак                 1      M   компаньон     0        255763   \n",
              "6   женат / замужем                 0      F   компаньон     0        240525   \n",
              "7   женат / замужем                 0      M   сотрудник     0        135823   \n",
              "8  гражданский брак                 1      F   сотрудник     0         95856   \n",
              "9   женат / замужем                 0      M   сотрудник     0        144425   \n",
              "\n",
              "                      purpose                             purpose_lemmas  \\\n",
              "0               покупка жилья                    [покупка,  , жилье, \\n]   \n",
              "1     приобретение автомобиля          [приобретение,  , автомобиль, \\n]   \n",
              "2               покупка жилья                    [покупка,  , жилье, \\n]   \n",
              "3  дополнительное образование       [дополнительный,  , образование, \\n]   \n",
              "4             сыграть свадьбу                  [сыграть,  , свадьба, \\n]   \n",
              "5               покупка жилья                    [покупка,  , жилье, \\n]   \n",
              "6           операции с жильем             [операция,  , с,  , жилье, \\n]   \n",
              "7                 образование                          [образование, \\n]   \n",
              "8       на проведение свадьбы        [на,  , проведение,  , свадьба, \\n]   \n",
              "9     покупка жилья для семьи  [покупка,  , жилье,  , для,  , семья, \\n]   \n",
              "\n",
              "    purpose_cat  dob_years_group   total_income_group  \n",
              "0  недвижимость  средний возраст        доход высокий  \n",
              "1          авто  средний возраст        доход средний  \n",
              "2  недвижимость          молодые  доход выше среднего  \n",
              "3   образование          молодые        доход высокий  \n",
              "4       свадьба  средний возраст  доход выше среднего  \n",
              "5  недвижимость          молодые        доход высокий  \n",
              "6  недвижимость  средний возраст        доход высокий  \n",
              "7   образование  средний возраст  доход выше среднего  \n",
              "8       свадьба          молодые        доход средний  \n",
              "9  недвижимость  средний возраст  доход выше среднего  "
            ]
          },
          "execution_count": 20,
          "metadata": {},
          "output_type": "execute_result"
        }
      ],
      "source": [
        "def total_income_group(income): # разбиваем на категории по доходу\n",
        "    if income <= 60000:\n",
        "        return 'доход низкий'\n",
        "    elif income <= 120000:\n",
        "        return 'доход средний'\n",
        "    elif income <= 180000:\n",
        "        return 'доход выше среднего'\n",
        "    elif income > 180000:\n",
        "        return 'доход высокий'\n",
        "data['total_income_group'] = data['total_income'].apply(total_income_group)\n",
        "data.head(10)"
      ]
    },
    {
      "cell_type": "markdown",
      "metadata": {
        "id": "JPyvOguGpqBH"
      },
      "source": [
        "**Вывод**"
      ]
    },
    {
      "cell_type": "markdown",
      "metadata": {
        "id": "FWudFk-NpqBH"
      },
      "source": [
        "Произвели категоризацию данных по целям, возрасту и уровню дохода. Категории по возрасту и доходу искал в сети, данные разнятся, поэтому разбил на такие категории."
      ]
    },
    {
      "cell_type": "code",
      "execution_count": null,
      "metadata": {
        "id": "wEG_kGPepqBI",
        "outputId": "c01b7834-b874-408e-ab0a-458c361f5400"
      },
      "outputs": [
        {
          "data": {
            "text/html": [
              "<div>\n",
              "<style scoped>\n",
              "    .dataframe tbody tr th:only-of-type {\n",
              "        vertical-align: middle;\n",
              "    }\n",
              "\n",
              "    .dataframe tbody tr th {\n",
              "        vertical-align: top;\n",
              "    }\n",
              "\n",
              "    .dataframe thead th {\n",
              "        text-align: right;\n",
              "    }\n",
              "</style>\n",
              "<table border=\"1\" class=\"dataframe\">\n",
              "  <thead>\n",
              "    <tr style=\"text-align: right;\">\n",
              "      <th></th>\n",
              "      <th></th>\n",
              "      <th>count</th>\n",
              "    </tr>\n",
              "    <tr>\n",
              "      <th>education</th>\n",
              "      <th>education_id</th>\n",
              "      <th></th>\n",
              "    </tr>\n",
              "  </thead>\n",
              "  <tbody>\n",
              "    <tr>\n",
              "      <th>высшее</th>\n",
              "      <th>0</th>\n",
              "      <td>5250</td>\n",
              "    </tr>\n",
              "    <tr>\n",
              "      <th>среднее</th>\n",
              "      <th>1</th>\n",
              "      <td>15172</td>\n",
              "    </tr>\n",
              "    <tr>\n",
              "      <th>неоконченное высшее</th>\n",
              "      <th>2</th>\n",
              "      <td>744</td>\n",
              "    </tr>\n",
              "    <tr>\n",
              "      <th>начальное</th>\n",
              "      <th>3</th>\n",
              "      <td>282</td>\n",
              "    </tr>\n",
              "    <tr>\n",
              "      <th>ученая степень</th>\n",
              "      <th>4</th>\n",
              "      <td>6</td>\n",
              "    </tr>\n",
              "  </tbody>\n",
              "</table>\n",
              "</div>"
            ],
            "text/plain": [
              "                                  count\n",
              "education           education_id       \n",
              "высшее              0              5250\n",
              "среднее             1             15172\n",
              "неоконченное высшее 2               744\n",
              "начальное           3               282\n",
              "ученая степень      4                 6"
            ]
          },
          "execution_count": 21,
          "metadata": {},
          "output_type": "execute_result"
        }
      ],
      "source": [
        "education_cat = data.groupby(['education', 'education_id']).size().to_frame('count')\n",
        "education_cat.sort_values(by='education_id')"
      ]
    },
    {
      "cell_type": "code",
      "execution_count": null,
      "metadata": {
        "id": "c87PYBhrpqBJ",
        "outputId": "b7485d56-d3be-4993-d768-b7bdb4e1b36e"
      },
      "outputs": [
        {
          "data": {
            "text/html": [
              "<div>\n",
              "<style scoped>\n",
              "    .dataframe tbody tr th:only-of-type {\n",
              "        vertical-align: middle;\n",
              "    }\n",
              "\n",
              "    .dataframe tbody tr th {\n",
              "        vertical-align: top;\n",
              "    }\n",
              "\n",
              "    .dataframe thead th {\n",
              "        text-align: right;\n",
              "    }\n",
              "</style>\n",
              "<table border=\"1\" class=\"dataframe\">\n",
              "  <thead>\n",
              "    <tr style=\"text-align: right;\">\n",
              "      <th></th>\n",
              "      <th></th>\n",
              "      <th>count</th>\n",
              "    </tr>\n",
              "    <tr>\n",
              "      <th>family_status</th>\n",
              "      <th>family_status_id</th>\n",
              "      <th></th>\n",
              "    </tr>\n",
              "  </thead>\n",
              "  <tbody>\n",
              "    <tr>\n",
              "      <th>женат / замужем</th>\n",
              "      <th>0</th>\n",
              "      <td>12339</td>\n",
              "    </tr>\n",
              "    <tr>\n",
              "      <th>гражданский брак</th>\n",
              "      <th>1</th>\n",
              "      <td>4151</td>\n",
              "    </tr>\n",
              "    <tr>\n",
              "      <th>вдовец / вдова</th>\n",
              "      <th>2</th>\n",
              "      <td>959</td>\n",
              "    </tr>\n",
              "    <tr>\n",
              "      <th>в разводе</th>\n",
              "      <th>3</th>\n",
              "      <td>1195</td>\n",
              "    </tr>\n",
              "    <tr>\n",
              "      <th>Не женат / не замужем</th>\n",
              "      <th>4</th>\n",
              "      <td>2810</td>\n",
              "    </tr>\n",
              "  </tbody>\n",
              "</table>\n",
              "</div>"
            ],
            "text/plain": [
              "                                        count\n",
              "family_status         family_status_id       \n",
              "женат / замужем       0                 12339\n",
              "гражданский брак      1                  4151\n",
              "вдовец / вдова        2                   959\n",
              "в разводе             3                  1195\n",
              "Не женат / не замужем 4                  2810"
            ]
          },
          "execution_count": 22,
          "metadata": {},
          "output_type": "execute_result"
        }
      ],
      "source": [
        "family_status_cat = data.groupby(['family_status', 'family_status_id']).size().to_frame('count')\n",
        "family_status_cat.sort_values(by='family_status_id')"
      ]
    },
    {
      "cell_type": "markdown",
      "metadata": {
        "id": "skun4P5XpqBJ"
      },
      "source": [
        "## Шаг 3. Ответим на вопросы"
      ]
    },
    {
      "cell_type": "markdown",
      "metadata": {
        "id": "dN0xd9ISpqBK"
      },
      "source": [
        "- Есть ли зависимость между наличием детей и возвратом кредита в срок?"
      ]
    },
    {
      "cell_type": "code",
      "execution_count": null,
      "metadata": {
        "id": "rp9Bxym1pqBK",
        "outputId": "047507b3-2611-4387-9955-039612ef0589"
      },
      "outputs": [
        {
          "data": {
            "text/html": [
              "<div>\n",
              "<style scoped>\n",
              "    .dataframe tbody tr th:only-of-type {\n",
              "        vertical-align: middle;\n",
              "    }\n",
              "\n",
              "    .dataframe tbody tr th {\n",
              "        vertical-align: top;\n",
              "    }\n",
              "\n",
              "    .dataframe thead th {\n",
              "        text-align: right;\n",
              "    }\n",
              "</style>\n",
              "<table border=\"1\" class=\"dataframe\">\n",
              "  <thead>\n",
              "    <tr style=\"text-align: right;\">\n",
              "      <th></th>\n",
              "      <th>debt</th>\n",
              "    </tr>\n",
              "    <tr>\n",
              "      <th>children</th>\n",
              "      <th></th>\n",
              "    </tr>\n",
              "  </thead>\n",
              "  <tbody>\n",
              "    <tr>\n",
              "      <th>5</th>\n",
              "      <td>0.000</td>\n",
              "    </tr>\n",
              "    <tr>\n",
              "      <th>0</th>\n",
              "      <td>0.075</td>\n",
              "    </tr>\n",
              "    <tr>\n",
              "      <th>3</th>\n",
              "      <td>0.082</td>\n",
              "    </tr>\n",
              "    <tr>\n",
              "      <th>1</th>\n",
              "      <td>0.092</td>\n",
              "    </tr>\n",
              "    <tr>\n",
              "      <th>2</th>\n",
              "      <td>0.095</td>\n",
              "    </tr>\n",
              "    <tr>\n",
              "      <th>4</th>\n",
              "      <td>0.098</td>\n",
              "    </tr>\n",
              "  </tbody>\n",
              "</table>\n",
              "</div>"
            ],
            "text/plain": [
              "           debt\n",
              "children       \n",
              "5         0.000\n",
              "0         0.075\n",
              "3         0.082\n",
              "1         0.092\n",
              "2         0.095\n",
              "4         0.098"
            ]
          },
          "execution_count": 23,
          "metadata": {},
          "output_type": "execute_result"
        }
      ],
      "source": [
        "data_pivot_children_debt = data.pivot_table(index = ['children'], values = 'debt').round(3) # сводная таблица по детям\n",
        "data_pivot_children_debt.sort_values(by='debt')"
      ]
    },
    {
      "cell_type": "markdown",
      "metadata": {
        "id": "E9o7MoBcpqBK"
      },
      "source": [
        "**Вывод**"
      ]
    },
    {
      "cell_type": "markdown",
      "metadata": {
        "id": "gyUjEWpEpqBK"
      },
      "source": [
        "Из таблицы видно, что заемщики с количеством детей от 1 до 4 возвращают долг реже, чем заемщики без детей и с 5 детьми."
      ]
    },
    {
      "cell_type": "markdown",
      "metadata": {
        "id": "ZOkXtS0ipqBL"
      },
      "source": [
        "- Есть ли зависимость между семейным положением и возвратом кредита в срок?"
      ]
    },
    {
      "cell_type": "code",
      "execution_count": null,
      "metadata": {
        "id": "mXdOhTELpqBL",
        "outputId": "a21f4b4a-c461-4256-ef02-33c5a95f6fca"
      },
      "outputs": [
        {
          "data": {
            "text/html": [
              "<div>\n",
              "<style scoped>\n",
              "    .dataframe tbody tr th:only-of-type {\n",
              "        vertical-align: middle;\n",
              "    }\n",
              "\n",
              "    .dataframe tbody tr th {\n",
              "        vertical-align: top;\n",
              "    }\n",
              "\n",
              "    .dataframe thead th {\n",
              "        text-align: right;\n",
              "    }\n",
              "</style>\n",
              "<table border=\"1\" class=\"dataframe\">\n",
              "  <thead>\n",
              "    <tr style=\"text-align: right;\">\n",
              "      <th>debt</th>\n",
              "      <th>0</th>\n",
              "      <th>1</th>\n",
              "      <th>family_debt</th>\n",
              "    </tr>\n",
              "    <tr>\n",
              "      <th>family_status</th>\n",
              "      <th></th>\n",
              "      <th></th>\n",
              "      <th></th>\n",
              "    </tr>\n",
              "  </thead>\n",
              "  <tbody>\n",
              "    <tr>\n",
              "      <th>вдовец / вдова</th>\n",
              "      <td>896</td>\n",
              "      <td>63</td>\n",
              "      <td>0.066</td>\n",
              "    </tr>\n",
              "    <tr>\n",
              "      <th>в разводе</th>\n",
              "      <td>1110</td>\n",
              "      <td>85</td>\n",
              "      <td>0.071</td>\n",
              "    </tr>\n",
              "    <tr>\n",
              "      <th>женат / замужем</th>\n",
              "      <td>11408</td>\n",
              "      <td>931</td>\n",
              "      <td>0.075</td>\n",
              "    </tr>\n",
              "    <tr>\n",
              "      <th>гражданский брак</th>\n",
              "      <td>3763</td>\n",
              "      <td>388</td>\n",
              "      <td>0.093</td>\n",
              "    </tr>\n",
              "    <tr>\n",
              "      <th>Не женат / не замужем</th>\n",
              "      <td>2536</td>\n",
              "      <td>274</td>\n",
              "      <td>0.098</td>\n",
              "    </tr>\n",
              "  </tbody>\n",
              "</table>\n",
              "</div>"
            ],
            "text/plain": [
              "debt                       0    1  family_debt\n",
              "family_status                                 \n",
              "вдовец / вдова           896   63        0.066\n",
              "в разводе               1110   85        0.071\n",
              "женат / замужем        11408  931        0.075\n",
              "гражданский брак        3763  388        0.093\n",
              "Не женат / не замужем   2536  274        0.098"
            ]
          },
          "execution_count": 24,
          "metadata": {},
          "output_type": "execute_result"
        }
      ],
      "source": [
        "data_pivot_family_debt = data.pivot_table(index = ['family_status'], columns = 'debt', values = 'gender', aggfunc = 'count')\n",
        "data_pivot_family_debt['family_debt'] = round(data_pivot_family_debt[1] / (data_pivot_family_debt[0] + data_pivot_family_debt[1]), 3)\n",
        "data_pivot_family_debt.sort_values(by='family_debt') # сводная таблица по семейному положению"
      ]
    },
    {
      "cell_type": "markdown",
      "metadata": {
        "id": "Uyg6w9QspqBL"
      },
      "source": [
        "**Вывод**"
      ]
    },
    {
      "cell_type": "markdown",
      "metadata": {
        "id": "hyfN8P38pqBM"
      },
      "source": [
        "Заемщики не состоящие в официальных отношениях (Не женат / не замужем, гражданский брак) возвращают долг реже, чем остальные."
      ]
    },
    {
      "cell_type": "markdown",
      "metadata": {
        "id": "CrrqEUJ2pqBM"
      },
      "source": [
        "- Есть ли зависимость между уровнем дохода и возвратом кредита в срок?"
      ]
    },
    {
      "cell_type": "code",
      "execution_count": null,
      "metadata": {
        "id": "pd5Y65vbpqBM",
        "outputId": "240fcf7f-8feb-405f-86a9-16561413c599"
      },
      "outputs": [
        {
          "data": {
            "text/html": [
              "<div>\n",
              "<style scoped>\n",
              "    .dataframe tbody tr th:only-of-type {\n",
              "        vertical-align: middle;\n",
              "    }\n",
              "\n",
              "    .dataframe tbody tr th {\n",
              "        vertical-align: top;\n",
              "    }\n",
              "\n",
              "    .dataframe thead th {\n",
              "        text-align: right;\n",
              "    }\n",
              "</style>\n",
              "<table border=\"1\" class=\"dataframe\">\n",
              "  <thead>\n",
              "    <tr style=\"text-align: right;\">\n",
              "      <th>debt</th>\n",
              "      <th>0</th>\n",
              "      <th>1</th>\n",
              "      <th>income_debt</th>\n",
              "    </tr>\n",
              "    <tr>\n",
              "      <th>total_income_group</th>\n",
              "      <th></th>\n",
              "      <th></th>\n",
              "      <th></th>\n",
              "    </tr>\n",
              "  </thead>\n",
              "  <tbody>\n",
              "    <tr>\n",
              "      <th>доход низкий</th>\n",
              "      <td>757</td>\n",
              "      <td>49</td>\n",
              "      <td>0.061</td>\n",
              "    </tr>\n",
              "    <tr>\n",
              "      <th>доход высокий</th>\n",
              "      <td>6416</td>\n",
              "      <td>508</td>\n",
              "      <td>0.073</td>\n",
              "    </tr>\n",
              "    <tr>\n",
              "      <th>доход средний</th>\n",
              "      <td>5537</td>\n",
              "      <td>502</td>\n",
              "      <td>0.083</td>\n",
              "    </tr>\n",
              "    <tr>\n",
              "      <th>доход выше среднего</th>\n",
              "      <td>7003</td>\n",
              "      <td>682</td>\n",
              "      <td>0.089</td>\n",
              "    </tr>\n",
              "  </tbody>\n",
              "</table>\n",
              "</div>"
            ],
            "text/plain": [
              "debt                    0    1  income_debt\n",
              "total_income_group                         \n",
              "доход низкий          757   49        0.061\n",
              "доход высокий        6416  508        0.073\n",
              "доход средний        5537  502        0.083\n",
              "доход выше среднего  7003  682        0.089"
            ]
          },
          "execution_count": 25,
          "metadata": {},
          "output_type": "execute_result"
        }
      ],
      "source": [
        "data_pivot_income_debt = data.pivot_table(index = ['total_income_group'], columns = 'debt', values = 'gender', aggfunc = 'count')\n",
        "data_pivot_income_debt['income_debt'] = round(data_pivot_income_debt[1] / (data_pivot_income_debt[0] + data_pivot_income_debt[1]), 3)\n",
        "data_pivot_income_debt.sort_values(by='income_debt') # сводная таблица по уровню дохода"
      ]
    },
    {
      "cell_type": "markdown",
      "metadata": {
        "id": "-1nrXL9opqBN"
      },
      "source": [
        "**Вывод**"
      ]
    },
    {
      "cell_type": "markdown",
      "metadata": {
        "id": "Ot_EEb8SpqBN"
      },
      "source": [
        "Люди с низким доходом чаще стараются возвращать кредит в срок. Реже возвращают люди с высоким доходом."
      ]
    },
    {
      "cell_type": "markdown",
      "metadata": {
        "id": "x8BmqViCpqBN"
      },
      "source": [
        "- Как разные цели кредита влияют на его возврат в срок?"
      ]
    },
    {
      "cell_type": "code",
      "execution_count": null,
      "metadata": {
        "id": "_nQp36aKpqBN",
        "outputId": "df29278c-1a81-458a-c288-d47e79edb4d5"
      },
      "outputs": [
        {
          "data": {
            "text/html": [
              "<div>\n",
              "<style scoped>\n",
              "    .dataframe tbody tr th:only-of-type {\n",
              "        vertical-align: middle;\n",
              "    }\n",
              "\n",
              "    .dataframe tbody tr th {\n",
              "        vertical-align: top;\n",
              "    }\n",
              "\n",
              "    .dataframe thead th {\n",
              "        text-align: right;\n",
              "    }\n",
              "</style>\n",
              "<table border=\"1\" class=\"dataframe\">\n",
              "  <thead>\n",
              "    <tr style=\"text-align: right;\">\n",
              "      <th>debt</th>\n",
              "      <th>0</th>\n",
              "      <th>1</th>\n",
              "      <th>purpose_debt</th>\n",
              "    </tr>\n",
              "    <tr>\n",
              "      <th>purpose_cat</th>\n",
              "      <th></th>\n",
              "      <th></th>\n",
              "      <th></th>\n",
              "    </tr>\n",
              "  </thead>\n",
              "  <tbody>\n",
              "    <tr>\n",
              "      <th>недвижимость</th>\n",
              "      <td>10029</td>\n",
              "      <td>782</td>\n",
              "      <td>0.072</td>\n",
              "    </tr>\n",
              "    <tr>\n",
              "      <th>свадьба</th>\n",
              "      <td>2138</td>\n",
              "      <td>186</td>\n",
              "      <td>0.080</td>\n",
              "    </tr>\n",
              "    <tr>\n",
              "      <th>образование</th>\n",
              "      <td>3643</td>\n",
              "      <td>370</td>\n",
              "      <td>0.092</td>\n",
              "    </tr>\n",
              "    <tr>\n",
              "      <th>авто</th>\n",
              "      <td>3903</td>\n",
              "      <td>403</td>\n",
              "      <td>0.094</td>\n",
              "    </tr>\n",
              "  </tbody>\n",
              "</table>\n",
              "</div>"
            ],
            "text/plain": [
              "debt              0    1  purpose_debt\n",
              "purpose_cat                           \n",
              "недвижимость  10029  782         0.072\n",
              "свадьба        2138  186         0.080\n",
              "образование    3643  370         0.092\n",
              "авто           3903  403         0.094"
            ]
          },
          "execution_count": 26,
          "metadata": {},
          "output_type": "execute_result"
        }
      ],
      "source": [
        "data_pivot_purpose_debt = data.pivot_table(index = ['purpose_cat'], columns = 'debt', values = 'gender', aggfunc = 'count')\n",
        "data_pivot_purpose_debt['purpose_debt'] = round(data_pivot_purpose_debt[1] / (data_pivot_purpose_debt[0] + data_pivot_purpose_debt[1]), 3)\n",
        "data_pivot_purpose_debt.sort_values(by='purpose_debt') # сводная таблица по цели кредита"
      ]
    },
    {
      "cell_type": "markdown",
      "metadata": {
        "id": "S2CFBFBFpqBO"
      },
      "source": [
        "**Вывод**"
      ]
    },
    {
      "cell_type": "markdown",
      "metadata": {
        "id": "s2IoTcajpqBO"
      },
      "source": [
        "Люди, берущие кредит на недвижимость, возвращают долг чаще, чем люди, берущие кредит, на образование или авто."
      ]
    },
    {
      "cell_type": "markdown",
      "metadata": {
        "id": "GRZrfoY0pqBO"
      },
      "source": [
        "## Шаг 4. Общий вывод"
      ]
    },
    {
      "cell_type": "markdown",
      "metadata": {
        "id": "_JZiOaRypqBP"
      },
      "source": [
        "Идеальный заемщик: человек с 5-ю детьми, овдовевший, с низким уровнем дохода, берущий кредит на недвижимость."
      ]
    },
    {
      "cell_type": "markdown",
      "metadata": {
        "id": "xHZh-EDwpqBP"
      },
      "source": [
        "<div>\n",
        "<font size=\"3\"><b>Вывод</b></font>\n",
        "    \n",
        "В ходе исследования мы изучили датафрейм, выявили ошибки и пропуски. Исправили и заполнили средними значениями по категориям. \n",
        "    \n",
        "Выявили и удалили дубликаты. Произвели лемматизацию и категоризацию данных.\n",
        "    \n",
        "В ходе исследования выявили зависимость между наличием детей и возвратом кредита в срок. \n",
        "Заемщики с 5-ю детьми не имеют задолжностей. Заемщики без детей возвращаю кредиты чаще, чем заемщики с 1-4 детьми.\n",
        "    \n",
        "Также выяснили, что овдовевшие заемщики платят чаще, чем люди не имеющие официальных отношений.\n",
        "    \n",
        "Выявили зависимость между уровнем дохода и возвратом кредита в срок. Заемщики с низким и высоким доходом более ответственные, \n",
        "чем заемщики со средним доходом и доходом выше среднего.\n",
        "    \n",
        "Также на возват кредита в срок влияют и цели кредита. Кредит на недвижимость и свадьбу возвращают чаще, чем кредит на \n",
        "    образование и автомобиль.\n",
        "</div>"
      ]
    }
  ],
  "metadata": {
    "ExecuteTimeLog": [
      {
        "duration": 308,
        "start_time": "2021-12-23T08:09:37.101Z"
      },
      {
        "duration": 833,
        "start_time": "2021-12-23T08:09:54.326Z"
      },
      {
        "duration": 67,
        "start_time": "2021-12-23T08:10:47.046Z"
      },
      {
        "duration": 74,
        "start_time": "2021-12-23T08:11:08.701Z"
      },
      {
        "duration": 97,
        "start_time": "2021-12-23T08:16:32.515Z"
      },
      {
        "duration": 74,
        "start_time": "2021-12-23T08:17:04.076Z"
      },
      {
        "duration": 86,
        "start_time": "2021-12-23T08:17:10.699Z"
      },
      {
        "duration": 73,
        "start_time": "2021-12-23T08:17:54.220Z"
      },
      {
        "duration": 73,
        "start_time": "2021-12-23T08:18:11.203Z"
      },
      {
        "duration": 100,
        "start_time": "2021-12-23T08:18:22.106Z"
      },
      {
        "duration": 90,
        "start_time": "2021-12-23T09:17:14.546Z"
      },
      {
        "duration": 137,
        "start_time": "2021-12-23T09:29:11.905Z"
      },
      {
        "duration": 37,
        "start_time": "2021-12-23T09:54:06.620Z"
      },
      {
        "duration": 38,
        "start_time": "2021-12-23T09:54:25.796Z"
      },
      {
        "duration": 12,
        "start_time": "2021-12-23T12:35:30.353Z"
      },
      {
        "duration": 85,
        "start_time": "2021-12-23T13:08:12.822Z"
      },
      {
        "duration": 83,
        "start_time": "2021-12-23T13:17:29.346Z"
      },
      {
        "duration": 14,
        "start_time": "2021-12-23T13:18:19.033Z"
      },
      {
        "duration": 74,
        "start_time": "2021-12-23T13:19:04.385Z"
      },
      {
        "duration": 10,
        "start_time": "2021-12-23T13:58:49.466Z"
      },
      {
        "duration": 19,
        "start_time": "2021-12-23T13:59:48.568Z"
      },
      {
        "duration": 16,
        "start_time": "2021-12-23T14:25:00.870Z"
      },
      {
        "duration": 41,
        "start_time": "2021-12-23T14:25:32.900Z"
      },
      {
        "duration": 15,
        "start_time": "2021-12-23T14:25:55.420Z"
      },
      {
        "duration": 103,
        "start_time": "2021-12-23T15:22:10.219Z"
      },
      {
        "duration": 54,
        "start_time": "2021-12-23T15:22:36.699Z"
      },
      {
        "duration": 13,
        "start_time": "2021-12-23T15:26:45.180Z"
      },
      {
        "duration": 295,
        "start_time": "2021-12-23T15:31:42.247Z"
      },
      {
        "duration": 33,
        "start_time": "2021-12-23T15:33:12.326Z"
      },
      {
        "duration": 34,
        "start_time": "2021-12-23T15:33:26.734Z"
      },
      {
        "duration": 42,
        "start_time": "2021-12-23T15:33:45.222Z"
      },
      {
        "duration": 35,
        "start_time": "2021-12-23T15:34:33.201Z"
      },
      {
        "duration": 464,
        "start_time": "2021-12-23T15:37:59.215Z"
      },
      {
        "duration": 26,
        "start_time": "2021-12-23T15:38:17.364Z"
      },
      {
        "duration": 33,
        "start_time": "2021-12-23T15:39:08.524Z"
      },
      {
        "duration": 38,
        "start_time": "2021-12-23T15:40:03.325Z"
      },
      {
        "duration": 30,
        "start_time": "2021-12-23T15:40:29.534Z"
      },
      {
        "duration": 39,
        "start_time": "2021-12-23T15:40:35.444Z"
      },
      {
        "duration": 11,
        "start_time": "2021-12-23T15:50:36.597Z"
      },
      {
        "duration": 46,
        "start_time": "2021-12-23T16:05:32.868Z"
      },
      {
        "duration": 38,
        "start_time": "2021-12-23T16:07:09.628Z"
      },
      {
        "duration": 83,
        "start_time": "2021-12-23T16:07:30.602Z"
      },
      {
        "duration": 29,
        "start_time": "2021-12-23T16:07:30.688Z"
      },
      {
        "duration": 13,
        "start_time": "2021-12-23T16:07:30.720Z"
      },
      {
        "duration": 25,
        "start_time": "2021-12-23T16:07:30.736Z"
      },
      {
        "duration": 87,
        "start_time": "2021-12-23T16:07:30.764Z"
      },
      {
        "duration": 88,
        "start_time": "2021-12-23T16:08:07.490Z"
      },
      {
        "duration": 40,
        "start_time": "2021-12-23T16:08:34.619Z"
      },
      {
        "duration": 38,
        "start_time": "2021-12-23T16:08:51.841Z"
      },
      {
        "duration": 430,
        "start_time": "2021-12-24T08:38:36.990Z"
      },
      {
        "duration": 316,
        "start_time": "2021-12-24T08:39:13.170Z"
      },
      {
        "duration": 939,
        "start_time": "2021-12-24T08:39:28.891Z"
      },
      {
        "duration": 30,
        "start_time": "2021-12-24T08:39:29.833Z"
      },
      {
        "duration": 17,
        "start_time": "2021-12-24T08:39:29.867Z"
      },
      {
        "duration": 10,
        "start_time": "2021-12-24T08:39:29.888Z"
      },
      {
        "duration": 85,
        "start_time": "2021-12-24T08:39:29.900Z"
      },
      {
        "duration": 11,
        "start_time": "2021-12-24T08:40:14.732Z"
      },
      {
        "duration": 366,
        "start_time": "2021-12-24T08:42:14.185Z"
      },
      {
        "duration": 40,
        "start_time": "2021-12-24T08:42:29.682Z"
      },
      {
        "duration": 40,
        "start_time": "2021-12-24T08:42:47.762Z"
      },
      {
        "duration": 42,
        "start_time": "2021-12-24T08:43:53.570Z"
      },
      {
        "duration": 41,
        "start_time": "2021-12-24T08:45:05.633Z"
      },
      {
        "duration": 43,
        "start_time": "2021-12-24T08:45:48.353Z"
      },
      {
        "duration": 44,
        "start_time": "2021-12-24T09:07:16.692Z"
      },
      {
        "duration": 5,
        "start_time": "2021-12-24T10:25:21.376Z"
      },
      {
        "duration": 42,
        "start_time": "2021-12-24T10:25:23.602Z"
      },
      {
        "duration": 95,
        "start_time": "2021-12-24T10:33:02.622Z"
      },
      {
        "duration": 15,
        "start_time": "2021-12-24T10:33:02.720Z"
      },
      {
        "duration": 14,
        "start_time": "2021-12-24T10:33:02.763Z"
      },
      {
        "duration": 27,
        "start_time": "2021-12-24T10:33:02.780Z"
      },
      {
        "duration": 85,
        "start_time": "2021-12-24T10:33:02.809Z"
      },
      {
        "duration": 4,
        "start_time": "2021-12-24T10:33:02.897Z"
      },
      {
        "duration": 46,
        "start_time": "2021-12-24T10:42:40.692Z"
      },
      {
        "duration": 53,
        "start_time": "2021-12-24T10:45:22.020Z"
      },
      {
        "duration": 104,
        "start_time": "2021-12-24T10:45:37.568Z"
      },
      {
        "duration": 16,
        "start_time": "2021-12-24T10:45:37.676Z"
      },
      {
        "duration": 14,
        "start_time": "2021-12-24T10:45:37.696Z"
      },
      {
        "duration": 56,
        "start_time": "2021-12-24T10:45:37.712Z"
      },
      {
        "duration": 51,
        "start_time": "2021-12-24T10:45:37.770Z"
      },
      {
        "duration": 39,
        "start_time": "2021-12-24T10:45:37.824Z"
      },
      {
        "duration": 11,
        "start_time": "2021-12-24T11:08:23.295Z"
      },
      {
        "duration": 10,
        "start_time": "2021-12-24T11:08:35.310Z"
      },
      {
        "duration": 9,
        "start_time": "2021-12-24T11:08:50.696Z"
      },
      {
        "duration": 12,
        "start_time": "2021-12-24T11:40:10.266Z"
      },
      {
        "duration": 12,
        "start_time": "2021-12-24T11:41:35.425Z"
      },
      {
        "duration": 9,
        "start_time": "2021-12-24T11:44:14.465Z"
      },
      {
        "duration": 8,
        "start_time": "2021-12-24T11:44:16.519Z"
      },
      {
        "duration": 11,
        "start_time": "2021-12-24T11:44:23.400Z"
      },
      {
        "duration": 13,
        "start_time": "2021-12-24T11:46:18.254Z"
      },
      {
        "duration": 17,
        "start_time": "2021-12-24T11:47:13.422Z"
      },
      {
        "duration": 14,
        "start_time": "2021-12-24T11:48:50.262Z"
      },
      {
        "duration": 22,
        "start_time": "2021-12-24T11:53:26.648Z"
      },
      {
        "duration": 40,
        "start_time": "2021-12-24T11:53:35.989Z"
      },
      {
        "duration": 64,
        "start_time": "2021-12-24T11:53:54.173Z"
      },
      {
        "duration": 56,
        "start_time": "2021-12-24T11:54:13.620Z"
      },
      {
        "duration": 46,
        "start_time": "2021-12-24T11:55:03.304Z"
      },
      {
        "duration": 53,
        "start_time": "2021-12-24T11:55:08.372Z"
      },
      {
        "duration": 58,
        "start_time": "2021-12-24T11:55:29.797Z"
      },
      {
        "duration": 20,
        "start_time": "2021-12-24T12:00:23.931Z"
      },
      {
        "duration": 102,
        "start_time": "2021-12-24T12:00:39.896Z"
      },
      {
        "duration": 15,
        "start_time": "2021-12-24T12:00:40.000Z"
      },
      {
        "duration": 12,
        "start_time": "2021-12-24T12:00:40.018Z"
      },
      {
        "duration": 11,
        "start_time": "2021-12-24T12:00:40.064Z"
      },
      {
        "duration": 95,
        "start_time": "2021-12-24T12:00:40.079Z"
      },
      {
        "duration": 28,
        "start_time": "2021-12-24T12:00:40.176Z"
      },
      {
        "duration": 5,
        "start_time": "2021-12-24T12:00:40.207Z"
      },
      {
        "duration": 30,
        "start_time": "2021-12-24T12:01:23.097Z"
      },
      {
        "duration": 49,
        "start_time": "2021-12-24T12:01:32.648Z"
      },
      {
        "duration": 47,
        "start_time": "2021-12-24T12:02:19.508Z"
      },
      {
        "duration": 47,
        "start_time": "2021-12-24T12:02:34.866Z"
      },
      {
        "duration": 58,
        "start_time": "2021-12-24T12:02:51.594Z"
      },
      {
        "duration": 23,
        "start_time": "2021-12-24T12:02:56.306Z"
      },
      {
        "duration": 24,
        "start_time": "2021-12-24T12:03:01.944Z"
      },
      {
        "duration": 22,
        "start_time": "2021-12-24T12:03:03.648Z"
      },
      {
        "duration": 20,
        "start_time": "2021-12-24T12:03:04.544Z"
      },
      {
        "duration": 21,
        "start_time": "2021-12-24T12:04:39.951Z"
      },
      {
        "duration": 45,
        "start_time": "2021-12-24T12:04:46.695Z"
      },
      {
        "duration": 20,
        "start_time": "2021-12-24T12:05:10.528Z"
      },
      {
        "duration": 17,
        "start_time": "2021-12-24T12:05:17.855Z"
      },
      {
        "duration": 18,
        "start_time": "2021-12-24T12:05:18.830Z"
      },
      {
        "duration": 14,
        "start_time": "2021-12-24T12:05:23.094Z"
      },
      {
        "duration": 91,
        "start_time": "2021-12-24T12:05:35.054Z"
      },
      {
        "duration": 22,
        "start_time": "2021-12-24T12:05:35.148Z"
      },
      {
        "duration": 12,
        "start_time": "2021-12-24T12:05:35.173Z"
      },
      {
        "duration": 9,
        "start_time": "2021-12-24T12:05:35.188Z"
      },
      {
        "duration": 101,
        "start_time": "2021-12-24T12:05:35.200Z"
      },
      {
        "duration": 19,
        "start_time": "2021-12-24T12:05:35.304Z"
      },
      {
        "duration": 38,
        "start_time": "2021-12-24T12:05:35.326Z"
      },
      {
        "duration": 320,
        "start_time": "2021-12-24T12:07:22.463Z"
      },
      {
        "duration": 16,
        "start_time": "2021-12-24T12:08:35.166Z"
      },
      {
        "duration": 13,
        "start_time": "2021-12-24T12:08:39.949Z"
      },
      {
        "duration": 14,
        "start_time": "2021-12-24T12:08:40.829Z"
      },
      {
        "duration": 15,
        "start_time": "2021-12-24T12:08:41.933Z"
      },
      {
        "duration": 13,
        "start_time": "2021-12-24T12:08:42.638Z"
      },
      {
        "duration": 14,
        "start_time": "2021-12-24T12:08:43.261Z"
      },
      {
        "duration": 94,
        "start_time": "2021-12-24T12:08:48.109Z"
      },
      {
        "duration": 14,
        "start_time": "2021-12-24T12:08:48.205Z"
      },
      {
        "duration": 11,
        "start_time": "2021-12-24T12:08:48.222Z"
      },
      {
        "duration": 10,
        "start_time": "2021-12-24T12:08:48.264Z"
      },
      {
        "duration": 86,
        "start_time": "2021-12-24T12:08:48.276Z"
      },
      {
        "duration": 14,
        "start_time": "2021-12-24T12:08:48.365Z"
      },
      {
        "duration": 4,
        "start_time": "2021-12-24T12:08:48.381Z"
      },
      {
        "duration": 16,
        "start_time": "2021-12-24T12:11:18.949Z"
      },
      {
        "duration": 316,
        "start_time": "2021-12-24T12:11:39.756Z"
      },
      {
        "duration": 14,
        "start_time": "2021-12-24T12:11:55.292Z"
      },
      {
        "duration": 12,
        "start_time": "2021-12-24T12:17:10.123Z"
      },
      {
        "duration": 212,
        "start_time": "2021-12-25T10:33:01.253Z"
      },
      {
        "duration": 606,
        "start_time": "2021-12-25T10:33:15.425Z"
      },
      {
        "duration": 11,
        "start_time": "2021-12-25T10:33:16.033Z"
      },
      {
        "duration": 47,
        "start_time": "2021-12-25T10:33:16.046Z"
      },
      {
        "duration": 9,
        "start_time": "2021-12-25T10:33:16.095Z"
      },
      {
        "duration": 7,
        "start_time": "2021-12-25T10:33:16.105Z"
      },
      {
        "duration": 31,
        "start_time": "2021-12-25T10:33:16.113Z"
      },
      {
        "duration": 8,
        "start_time": "2021-12-25T10:33:16.146Z"
      },
      {
        "duration": 37,
        "start_time": "2021-12-25T10:33:16.156Z"
      },
      {
        "duration": 16,
        "start_time": "2021-12-25T10:38:51.428Z"
      },
      {
        "duration": 15,
        "start_time": "2021-12-25T10:40:55.168Z"
      },
      {
        "duration": 65,
        "start_time": "2021-12-25T10:40:57.765Z"
      },
      {
        "duration": 10,
        "start_time": "2021-12-25T10:40:57.831Z"
      },
      {
        "duration": 50,
        "start_time": "2021-12-25T10:40:57.843Z"
      },
      {
        "duration": 9,
        "start_time": "2021-12-25T10:40:57.895Z"
      },
      {
        "duration": 7,
        "start_time": "2021-12-25T10:40:57.906Z"
      },
      {
        "duration": 30,
        "start_time": "2021-12-25T10:40:57.914Z"
      },
      {
        "duration": 51,
        "start_time": "2021-12-25T10:40:57.946Z"
      },
      {
        "duration": 3,
        "start_time": "2021-12-25T10:40:57.999Z"
      },
      {
        "duration": 68,
        "start_time": "2021-12-25T10:41:39.164Z"
      },
      {
        "duration": 14,
        "start_time": "2021-12-25T10:41:39.234Z"
      },
      {
        "duration": 57,
        "start_time": "2021-12-25T10:41:39.250Z"
      },
      {
        "duration": 11,
        "start_time": "2021-12-25T10:41:39.309Z"
      },
      {
        "duration": 7,
        "start_time": "2021-12-25T10:41:39.322Z"
      },
      {
        "duration": 66,
        "start_time": "2021-12-25T10:41:39.331Z"
      },
      {
        "duration": 13,
        "start_time": "2021-12-25T10:41:39.399Z"
      },
      {
        "duration": 4,
        "start_time": "2021-12-25T10:41:39.414Z"
      },
      {
        "duration": 11,
        "start_time": "2021-12-25T10:44:52.390Z"
      },
      {
        "duration": 9,
        "start_time": "2021-12-25T10:45:05.295Z"
      },
      {
        "duration": 6,
        "start_time": "2021-12-25T10:45:45.653Z"
      },
      {
        "duration": 9,
        "start_time": "2021-12-25T10:46:04.182Z"
      },
      {
        "duration": 14,
        "start_time": "2021-12-25T10:47:13.766Z"
      },
      {
        "duration": 16,
        "start_time": "2021-12-25T10:47:34.533Z"
      },
      {
        "duration": 20,
        "start_time": "2021-12-25T10:48:34.909Z"
      },
      {
        "duration": 37,
        "start_time": "2021-12-25T10:49:22.101Z"
      },
      {
        "duration": 31,
        "start_time": "2021-12-25T10:50:11.831Z"
      },
      {
        "duration": 68,
        "start_time": "2021-12-25T10:50:44.600Z"
      },
      {
        "duration": 21,
        "start_time": "2021-12-25T10:50:44.670Z"
      },
      {
        "duration": 33,
        "start_time": "2021-12-25T10:50:44.693Z"
      },
      {
        "duration": 11,
        "start_time": "2021-12-25T10:50:44.727Z"
      },
      {
        "duration": 8,
        "start_time": "2021-12-25T10:50:44.740Z"
      },
      {
        "duration": 67,
        "start_time": "2021-12-25T10:50:44.749Z"
      },
      {
        "duration": 65,
        "start_time": "2021-12-25T10:51:12.023Z"
      },
      {
        "duration": 10,
        "start_time": "2021-12-25T10:51:12.090Z"
      },
      {
        "duration": 31,
        "start_time": "2021-12-25T10:51:12.102Z"
      },
      {
        "duration": 8,
        "start_time": "2021-12-25T10:51:12.135Z"
      },
      {
        "duration": 9,
        "start_time": "2021-12-25T10:51:12.145Z"
      },
      {
        "duration": 66,
        "start_time": "2021-12-25T10:51:12.155Z"
      },
      {
        "duration": 70,
        "start_time": "2021-12-25T10:51:23.397Z"
      },
      {
        "duration": 13,
        "start_time": "2021-12-25T10:51:23.470Z"
      },
      {
        "duration": 34,
        "start_time": "2021-12-25T10:51:23.491Z"
      },
      {
        "duration": 9,
        "start_time": "2021-12-25T10:51:23.528Z"
      },
      {
        "duration": 9,
        "start_time": "2021-12-25T10:51:23.539Z"
      },
      {
        "duration": 70,
        "start_time": "2021-12-25T10:51:23.549Z"
      },
      {
        "duration": 72,
        "start_time": "2021-12-25T10:51:23.621Z"
      },
      {
        "duration": 5,
        "start_time": "2021-12-25T10:51:23.696Z"
      },
      {
        "duration": 15,
        "start_time": "2021-12-25T10:51:54.622Z"
      },
      {
        "duration": 7,
        "start_time": "2021-12-25T10:52:09.059Z"
      },
      {
        "duration": 23,
        "start_time": "2021-12-25T10:52:18.291Z"
      },
      {
        "duration": 60,
        "start_time": "2021-12-25T10:53:25.174Z"
      },
      {
        "duration": 24,
        "start_time": "2021-12-25T10:53:38.690Z"
      },
      {
        "duration": 15,
        "start_time": "2021-12-25T10:53:55.110Z"
      },
      {
        "duration": 258,
        "start_time": "2021-12-25T10:54:50.235Z"
      },
      {
        "duration": 14,
        "start_time": "2021-12-25T10:55:10.513Z"
      },
      {
        "duration": 4,
        "start_time": "2021-12-25T10:56:32.194Z"
      },
      {
        "duration": 19,
        "start_time": "2021-12-25T10:56:37.881Z"
      },
      {
        "duration": 17,
        "start_time": "2021-12-25T10:57:53.913Z"
      },
      {
        "duration": 31,
        "start_time": "2021-12-25T10:58:02.905Z"
      },
      {
        "duration": 9,
        "start_time": "2021-12-25T10:59:18.339Z"
      },
      {
        "duration": 14,
        "start_time": "2021-12-25T10:59:40.678Z"
      },
      {
        "duration": 22,
        "start_time": "2021-12-25T11:31:38.403Z"
      },
      {
        "duration": 40,
        "start_time": "2021-12-25T11:34:12.049Z"
      },
      {
        "duration": 43,
        "start_time": "2021-12-25T11:42:41.187Z"
      },
      {
        "duration": 47,
        "start_time": "2021-12-25T11:43:08.032Z"
      },
      {
        "duration": 43,
        "start_time": "2021-12-25T11:47:30.321Z"
      },
      {
        "duration": 37,
        "start_time": "2021-12-25T11:47:58.087Z"
      },
      {
        "duration": 46,
        "start_time": "2021-12-25T11:49:01.887Z"
      },
      {
        "duration": 34,
        "start_time": "2021-12-25T11:49:20.493Z"
      },
      {
        "duration": 30,
        "start_time": "2021-12-25T11:50:14.006Z"
      },
      {
        "duration": 33,
        "start_time": "2021-12-25T11:50:30.509Z"
      },
      {
        "duration": 66,
        "start_time": "2021-12-25T11:50:42.495Z"
      },
      {
        "duration": 10,
        "start_time": "2021-12-25T11:50:42.563Z"
      },
      {
        "duration": 41,
        "start_time": "2021-12-25T11:50:42.575Z"
      },
      {
        "duration": 9,
        "start_time": "2021-12-25T11:50:42.618Z"
      },
      {
        "duration": 6,
        "start_time": "2021-12-25T11:50:42.629Z"
      },
      {
        "duration": 59,
        "start_time": "2021-12-25T11:50:42.637Z"
      },
      {
        "duration": 46,
        "start_time": "2021-12-25T11:50:42.698Z"
      },
      {
        "duration": 50,
        "start_time": "2021-12-25T11:50:42.747Z"
      },
      {
        "duration": 18,
        "start_time": "2021-12-25T11:57:59.272Z"
      },
      {
        "duration": 330,
        "start_time": "2021-12-27T08:15:50.425Z"
      },
      {
        "duration": 905,
        "start_time": "2021-12-27T08:15:56.049Z"
      },
      {
        "duration": 22,
        "start_time": "2021-12-27T08:15:56.956Z"
      },
      {
        "duration": 49,
        "start_time": "2021-12-27T08:15:56.982Z"
      },
      {
        "duration": 46,
        "start_time": "2021-12-27T08:15:57.034Z"
      },
      {
        "duration": 14,
        "start_time": "2021-12-27T08:15:57.082Z"
      },
      {
        "duration": 73,
        "start_time": "2021-12-27T08:15:57.098Z"
      },
      {
        "duration": 67,
        "start_time": "2021-12-27T08:15:57.174Z"
      },
      {
        "duration": 65,
        "start_time": "2021-12-27T08:15:57.244Z"
      },
      {
        "duration": 59,
        "start_time": "2021-12-27T08:15:57.312Z"
      },
      {
        "duration": 99,
        "start_time": "2021-12-27T09:15:29.941Z"
      },
      {
        "duration": 97,
        "start_time": "2021-12-27T09:23:20.590Z"
      },
      {
        "duration": 46,
        "start_time": "2021-12-27T09:25:53.745Z"
      },
      {
        "duration": 52,
        "start_time": "2021-12-27T09:25:56.487Z"
      },
      {
        "duration": 28,
        "start_time": "2021-12-27T09:26:33.289Z"
      },
      {
        "duration": 29,
        "start_time": "2021-12-27T09:29:52.568Z"
      },
      {
        "duration": 30,
        "start_time": "2021-12-27T09:34:46.749Z"
      },
      {
        "duration": 543,
        "start_time": "2021-12-27T09:48:50.152Z"
      },
      {
        "duration": 104,
        "start_time": "2021-12-27T09:49:08.995Z"
      },
      {
        "duration": 14,
        "start_time": "2021-12-27T09:49:09.102Z"
      },
      {
        "duration": 72,
        "start_time": "2021-12-27T09:49:09.119Z"
      },
      {
        "duration": 13,
        "start_time": "2021-12-27T09:49:09.194Z"
      },
      {
        "duration": 10,
        "start_time": "2021-12-27T09:49:09.210Z"
      },
      {
        "duration": 87,
        "start_time": "2021-12-27T09:49:09.222Z"
      },
      {
        "duration": 79,
        "start_time": "2021-12-27T09:49:09.311Z"
      },
      {
        "duration": 36,
        "start_time": "2021-12-27T09:49:09.392Z"
      },
      {
        "duration": 64,
        "start_time": "2021-12-27T09:49:09.431Z"
      },
      {
        "duration": 72,
        "start_time": "2021-12-27T09:49:09.497Z"
      },
      {
        "duration": 30,
        "start_time": "2021-12-27T09:49:09.576Z"
      },
      {
        "duration": 28,
        "start_time": "2021-12-27T09:49:09.608Z"
      },
      {
        "duration": 270,
        "start_time": "2021-12-27T09:49:09.639Z"
      },
      {
        "duration": 278,
        "start_time": "2021-12-27T10:45:40.306Z"
      },
      {
        "duration": 273,
        "start_time": "2021-12-27T10:46:40.690Z"
      },
      {
        "duration": 273,
        "start_time": "2021-12-27T11:11:33.735Z"
      },
      {
        "duration": 10,
        "start_time": "2021-12-27T11:11:46.541Z"
      },
      {
        "duration": 1182,
        "start_time": "2021-12-27T13:26:11.651Z"
      },
      {
        "duration": 110,
        "start_time": "2021-12-27T13:26:18.011Z"
      },
      {
        "duration": 22,
        "start_time": "2021-12-27T13:26:18.124Z"
      },
      {
        "duration": 78,
        "start_time": "2021-12-27T13:26:18.167Z"
      },
      {
        "duration": 29,
        "start_time": "2021-12-27T13:26:18.248Z"
      },
      {
        "duration": 12,
        "start_time": "2021-12-27T13:26:18.282Z"
      },
      {
        "duration": 106,
        "start_time": "2021-12-27T13:26:18.297Z"
      },
      {
        "duration": 91,
        "start_time": "2021-12-27T13:26:18.406Z"
      },
      {
        "duration": 33,
        "start_time": "2021-12-27T13:26:18.501Z"
      },
      {
        "duration": 63,
        "start_time": "2021-12-27T13:26:18.537Z"
      },
      {
        "duration": 96,
        "start_time": "2021-12-27T13:26:18.603Z"
      },
      {
        "duration": 30,
        "start_time": "2021-12-27T13:26:18.702Z"
      },
      {
        "duration": 59,
        "start_time": "2021-12-27T13:26:18.734Z"
      },
      {
        "duration": 11,
        "start_time": "2021-12-27T13:26:18.796Z"
      },
      {
        "duration": 1237,
        "start_time": "2021-12-27T13:26:18.809Z"
      },
      {
        "duration": 1207,
        "start_time": "2021-12-27T13:27:26.385Z"
      },
      {
        "duration": 5042,
        "start_time": "2021-12-27T13:27:51.199Z"
      },
      {
        "duration": 5075,
        "start_time": "2021-12-27T13:28:34.608Z"
      },
      {
        "duration": 5198,
        "start_time": "2021-12-27T13:28:41.556Z"
      },
      {
        "duration": 5772,
        "start_time": "2021-12-27T13:29:02.584Z"
      },
      {
        "duration": 37,
        "start_time": "2021-12-27T13:30:42.622Z"
      },
      {
        "duration": 6,
        "start_time": "2021-12-27T14:36:56.411Z"
      },
      {
        "duration": 10,
        "start_time": "2021-12-27T14:37:36.380Z"
      },
      {
        "duration": 278,
        "start_time": "2021-12-27T14:42:52.305Z"
      },
      {
        "duration": 50,
        "start_time": "2021-12-27T14:42:58.688Z"
      },
      {
        "duration": 4,
        "start_time": "2021-12-27T14:59:39.042Z"
      },
      {
        "duration": 8,
        "start_time": "2021-12-27T15:01:49.504Z"
      },
      {
        "duration": 7,
        "start_time": "2021-12-27T15:01:57.088Z"
      },
      {
        "duration": 7,
        "start_time": "2021-12-27T15:02:01.520Z"
      },
      {
        "duration": 8,
        "start_time": "2021-12-27T15:02:23.631Z"
      },
      {
        "duration": 142,
        "start_time": "2021-12-27T15:03:12.633Z"
      },
      {
        "duration": 5,
        "start_time": "2021-12-27T15:03:22.935Z"
      },
      {
        "duration": 6,
        "start_time": "2021-12-27T15:03:25.157Z"
      },
      {
        "duration": 9,
        "start_time": "2021-12-27T15:03:28.607Z"
      },
      {
        "duration": 9,
        "start_time": "2021-12-27T15:03:37.175Z"
      },
      {
        "duration": 11,
        "start_time": "2021-12-27T15:03:41.982Z"
      },
      {
        "duration": 10,
        "start_time": "2021-12-27T15:03:46.918Z"
      },
      {
        "duration": 6704,
        "start_time": "2021-12-27T15:07:33.376Z"
      },
      {
        "duration": 7914,
        "start_time": "2021-12-27T15:08:09.114Z"
      },
      {
        "duration": 119,
        "start_time": "2021-12-27T15:08:28.017Z"
      },
      {
        "duration": 160,
        "start_time": "2021-12-27T15:08:28.138Z"
      },
      {
        "duration": 245,
        "start_time": "2021-12-27T15:08:28.302Z"
      },
      {
        "duration": 151,
        "start_time": "2021-12-27T15:08:28.550Z"
      },
      {
        "duration": 150,
        "start_time": "2021-12-27T15:08:28.704Z"
      },
      {
        "duration": 244,
        "start_time": "2021-12-27T15:08:28.857Z"
      },
      {
        "duration": 251,
        "start_time": "2021-12-27T15:08:29.105Z"
      },
      {
        "duration": 152,
        "start_time": "2021-12-27T15:08:29.362Z"
      },
      {
        "duration": 273,
        "start_time": "2021-12-27T15:08:29.518Z"
      },
      {
        "duration": 302,
        "start_time": "2021-12-27T15:08:29.793Z"
      },
      {
        "duration": 224,
        "start_time": "2021-12-27T15:08:30.097Z"
      },
      {
        "duration": 186,
        "start_time": "2021-12-27T15:08:30.324Z"
      },
      {
        "duration": 150,
        "start_time": "2021-12-27T15:08:30.513Z"
      },
      {
        "duration": 5878,
        "start_time": "2021-12-27T15:08:30.665Z"
      },
      {
        "duration": 57,
        "start_time": "2021-12-27T15:08:36.545Z"
      },
      {
        "duration": 195,
        "start_time": "2021-12-27T15:08:36.604Z"
      },
      {
        "duration": 257,
        "start_time": "2021-12-27T15:08:36.802Z"
      },
      {
        "duration": 7196,
        "start_time": "2021-12-27T15:08:37.062Z"
      },
      {
        "duration": 63,
        "start_time": "2021-12-27T15:09:16.237Z"
      },
      {
        "duration": 272,
        "start_time": "2021-12-27T15:51:27.289Z"
      },
      {
        "duration": 8,
        "start_time": "2021-12-27T15:51:49.665Z"
      },
      {
        "duration": 7,
        "start_time": "2021-12-27T15:52:13.787Z"
      },
      {
        "duration": 8,
        "start_time": "2021-12-27T15:52:23.297Z"
      },
      {
        "duration": 8,
        "start_time": "2021-12-27T15:52:29.722Z"
      },
      {
        "duration": 137,
        "start_time": "2021-12-27T15:55:34.477Z"
      },
      {
        "duration": 82,
        "start_time": "2021-12-27T15:55:34.617Z"
      },
      {
        "duration": 275,
        "start_time": "2021-12-27T15:55:34.703Z"
      },
      {
        "duration": 174,
        "start_time": "2021-12-27T15:55:34.982Z"
      },
      {
        "duration": 180,
        "start_time": "2021-12-27T15:55:35.159Z"
      },
      {
        "duration": 326,
        "start_time": "2021-12-27T15:55:35.341Z"
      },
      {
        "duration": 263,
        "start_time": "2021-12-27T15:55:35.671Z"
      },
      {
        "duration": 288,
        "start_time": "2021-12-27T15:55:35.938Z"
      },
      {
        "duration": 162,
        "start_time": "2021-12-27T15:55:36.229Z"
      },
      {
        "duration": 256,
        "start_time": "2021-12-27T15:55:36.394Z"
      },
      {
        "duration": 165,
        "start_time": "2021-12-27T15:55:36.654Z"
      },
      {
        "duration": 183,
        "start_time": "2021-12-27T15:55:36.822Z"
      },
      {
        "duration": 176,
        "start_time": "2021-12-27T15:55:37.008Z"
      },
      {
        "duration": 5654,
        "start_time": "2021-12-27T15:55:37.187Z"
      },
      {
        "duration": 57,
        "start_time": "2021-12-27T15:55:42.844Z"
      },
      {
        "duration": 229,
        "start_time": "2021-12-27T15:55:42.905Z"
      },
      {
        "duration": 190,
        "start_time": "2021-12-27T15:55:43.138Z"
      },
      {
        "duration": 184,
        "start_time": "2021-12-27T15:55:43.331Z"
      },
      {
        "duration": 182,
        "start_time": "2021-12-27T15:55:43.518Z"
      },
      {
        "duration": 8,
        "start_time": "2021-12-27T15:57:15.509Z"
      },
      {
        "duration": 8,
        "start_time": "2021-12-27T15:57:17.150Z"
      },
      {
        "duration": 7,
        "start_time": "2021-12-27T15:57:33.190Z"
      },
      {
        "duration": 7,
        "start_time": "2021-12-27T15:57:41.695Z"
      },
      {
        "duration": 57,
        "start_time": "2021-12-27T16:01:11.190Z"
      },
      {
        "duration": 135,
        "start_time": "2021-12-27T16:01:55.618Z"
      },
      {
        "duration": 89,
        "start_time": "2021-12-27T16:01:55.756Z"
      },
      {
        "duration": 200,
        "start_time": "2021-12-27T16:01:55.847Z"
      },
      {
        "duration": 240,
        "start_time": "2021-12-27T16:01:56.050Z"
      },
      {
        "duration": 178,
        "start_time": "2021-12-27T16:01:56.293Z"
      },
      {
        "duration": 234,
        "start_time": "2021-12-27T16:01:56.473Z"
      },
      {
        "duration": 156,
        "start_time": "2021-12-27T16:01:56.709Z"
      },
      {
        "duration": 219,
        "start_time": "2021-12-27T16:01:56.870Z"
      },
      {
        "duration": 167,
        "start_time": "2021-12-27T16:01:57.092Z"
      },
      {
        "duration": 163,
        "start_time": "2021-12-27T16:01:57.261Z"
      },
      {
        "duration": 188,
        "start_time": "2021-12-27T16:01:57.426Z"
      },
      {
        "duration": 222,
        "start_time": "2021-12-27T16:01:57.616Z"
      },
      {
        "duration": 175,
        "start_time": "2021-12-27T16:01:57.842Z"
      },
      {
        "duration": 5891,
        "start_time": "2021-12-27T16:01:58.020Z"
      },
      {
        "duration": 59,
        "start_time": "2021-12-27T16:02:03.914Z"
      },
      {
        "duration": 207,
        "start_time": "2021-12-27T16:02:03.976Z"
      },
      {
        "duration": 115,
        "start_time": "2021-12-27T16:02:04.186Z"
      },
      {
        "duration": 179,
        "start_time": "2021-12-27T16:02:04.304Z"
      },
      {
        "duration": 171,
        "start_time": "2021-12-27T16:02:04.486Z"
      },
      {
        "duration": 15,
        "start_time": "2021-12-27T16:02:36.372Z"
      },
      {
        "duration": 52,
        "start_time": "2021-12-27T16:03:06.651Z"
      },
      {
        "duration": 67,
        "start_time": "2021-12-27T16:08:56.869Z"
      },
      {
        "duration": 131,
        "start_time": "2021-12-27T16:09:06.006Z"
      },
      {
        "duration": 74,
        "start_time": "2021-12-27T16:09:06.140Z"
      },
      {
        "duration": 286,
        "start_time": "2021-12-27T16:09:06.217Z"
      },
      {
        "duration": 204,
        "start_time": "2021-12-27T16:09:06.506Z"
      },
      {
        "duration": 239,
        "start_time": "2021-12-27T16:09:06.712Z"
      },
      {
        "duration": 295,
        "start_time": "2021-12-27T16:09:06.954Z"
      },
      {
        "duration": 212,
        "start_time": "2021-12-27T16:09:07.253Z"
      },
      {
        "duration": 184,
        "start_time": "2021-12-27T16:09:07.469Z"
      },
      {
        "duration": 170,
        "start_time": "2021-12-27T16:09:07.656Z"
      },
      {
        "duration": 232,
        "start_time": "2021-12-27T16:09:07.829Z"
      },
      {
        "duration": 174,
        "start_time": "2021-12-27T16:09:08.064Z"
      },
      {
        "duration": 196,
        "start_time": "2021-12-27T16:09:08.241Z"
      },
      {
        "duration": 154,
        "start_time": "2021-12-27T16:09:08.440Z"
      },
      {
        "duration": 5383,
        "start_time": "2021-12-27T16:09:08.597Z"
      },
      {
        "duration": 40,
        "start_time": "2021-12-27T16:09:13.983Z"
      },
      {
        "duration": 324,
        "start_time": "2021-12-27T16:09:14.026Z"
      },
      {
        "duration": 227,
        "start_time": "2021-12-27T16:09:14.353Z"
      },
      {
        "duration": 161,
        "start_time": "2021-12-27T16:09:14.583Z"
      },
      {
        "duration": 261,
        "start_time": "2021-12-27T16:09:14.746Z"
      },
      {
        "duration": 82,
        "start_time": "2021-12-27T16:09:40.738Z"
      },
      {
        "duration": 81,
        "start_time": "2021-12-27T16:12:59.556Z"
      },
      {
        "duration": 80,
        "start_time": "2021-12-27T16:14:08.876Z"
      },
      {
        "duration": 89,
        "start_time": "2021-12-27T16:15:40.329Z"
      },
      {
        "duration": 94,
        "start_time": "2021-12-27T16:16:50.848Z"
      },
      {
        "duration": 36,
        "start_time": "2021-12-27T16:17:13.370Z"
      },
      {
        "duration": 33,
        "start_time": "2021-12-27T16:17:31.141Z"
      },
      {
        "duration": 32,
        "start_time": "2021-12-27T16:18:12.501Z"
      },
      {
        "duration": 11,
        "start_time": "2021-12-27T16:27:35.921Z"
      },
      {
        "duration": 8,
        "start_time": "2021-12-27T16:30:02.681Z"
      },
      {
        "duration": 267,
        "start_time": "2021-12-27T16:30:26.016Z"
      },
      {
        "duration": 12,
        "start_time": "2021-12-27T16:30:29.864Z"
      },
      {
        "duration": 89,
        "start_time": "2021-12-27T16:31:19.744Z"
      },
      {
        "duration": 94,
        "start_time": "2021-12-27T16:48:07.073Z"
      },
      {
        "duration": 100,
        "start_time": "2021-12-27T16:48:26.417Z"
      },
      {
        "duration": 511,
        "start_time": "2021-12-27T16:48:40.880Z"
      },
      {
        "duration": 175,
        "start_time": "2021-12-27T16:49:24.467Z"
      },
      {
        "duration": 138,
        "start_time": "2021-12-27T16:49:24.646Z"
      },
      {
        "duration": 207,
        "start_time": "2021-12-27T16:49:24.788Z"
      },
      {
        "duration": 207,
        "start_time": "2021-12-27T16:49:24.998Z"
      },
      {
        "duration": 257,
        "start_time": "2021-12-27T16:49:25.208Z"
      },
      {
        "duration": 320,
        "start_time": "2021-12-27T16:49:25.467Z"
      },
      {
        "duration": 210,
        "start_time": "2021-12-27T16:49:25.789Z"
      },
      {
        "duration": 161,
        "start_time": "2021-12-27T16:49:26.004Z"
      },
      {
        "duration": 240,
        "start_time": "2021-12-27T16:49:26.168Z"
      },
      {
        "duration": 276,
        "start_time": "2021-12-27T16:49:26.419Z"
      },
      {
        "duration": 87,
        "start_time": "2021-12-27T16:49:26.699Z"
      },
      {
        "duration": 210,
        "start_time": "2021-12-27T16:49:26.796Z"
      },
      {
        "duration": 255,
        "start_time": "2021-12-27T16:49:27.008Z"
      },
      {
        "duration": 5964,
        "start_time": "2021-12-27T16:49:27.266Z"
      },
      {
        "duration": 52,
        "start_time": "2021-12-27T16:49:33.233Z"
      },
      {
        "duration": 201,
        "start_time": "2021-12-27T16:49:33.287Z"
      },
      {
        "duration": 137,
        "start_time": "2021-12-27T16:49:33.491Z"
      },
      {
        "duration": 125,
        "start_time": "2021-12-27T16:49:33.631Z"
      },
      {
        "duration": 231,
        "start_time": "2021-12-27T16:49:33.759Z"
      },
      {
        "duration": 216,
        "start_time": "2021-12-27T16:49:33.993Z"
      },
      {
        "duration": 692,
        "start_time": "2021-12-27T16:49:34.213Z"
      },
      {
        "duration": 468,
        "start_time": "2021-12-27T16:50:56.422Z"
      },
      {
        "duration": 9,
        "start_time": "2021-12-27T16:51:14.895Z"
      },
      {
        "duration": 10,
        "start_time": "2021-12-27T16:51:20.998Z"
      },
      {
        "duration": 8,
        "start_time": "2021-12-27T16:51:26.174Z"
      },
      {
        "duration": 9,
        "start_time": "2021-12-27T16:51:37.174Z"
      },
      {
        "duration": 9,
        "start_time": "2021-12-27T16:51:46.094Z"
      },
      {
        "duration": 7,
        "start_time": "2021-12-27T16:51:51.693Z"
      },
      {
        "duration": 82,
        "start_time": "2021-12-27T16:53:43.722Z"
      },
      {
        "duration": 364,
        "start_time": "2021-12-28T14:21:31.691Z"
      },
      {
        "duration": 824,
        "start_time": "2021-12-28T14:21:40.318Z"
      },
      {
        "duration": 29,
        "start_time": "2021-12-28T14:21:41.145Z"
      },
      {
        "duration": 49,
        "start_time": "2021-12-28T14:21:41.177Z"
      },
      {
        "duration": 38,
        "start_time": "2021-12-28T14:21:41.229Z"
      },
      {
        "duration": 17,
        "start_time": "2021-12-28T14:21:41.270Z"
      },
      {
        "duration": 57,
        "start_time": "2021-12-28T14:21:41.289Z"
      },
      {
        "duration": 75,
        "start_time": "2021-12-28T14:21:41.348Z"
      },
      {
        "duration": 64,
        "start_time": "2021-12-28T14:21:41.427Z"
      },
      {
        "duration": 43,
        "start_time": "2021-12-28T14:21:41.495Z"
      },
      {
        "duration": 78,
        "start_time": "2021-12-28T14:21:41.540Z"
      },
      {
        "duration": 57,
        "start_time": "2021-12-28T14:21:41.620Z"
      },
      {
        "duration": 26,
        "start_time": "2021-12-28T14:21:41.679Z"
      },
      {
        "duration": 10,
        "start_time": "2021-12-28T14:21:41.708Z"
      },
      {
        "duration": 4991,
        "start_time": "2021-12-28T14:21:41.720Z"
      },
      {
        "duration": 50,
        "start_time": "2021-12-28T14:21:46.714Z"
      },
      {
        "duration": 38,
        "start_time": "2021-12-28T14:21:46.771Z"
      },
      {
        "duration": 10,
        "start_time": "2021-12-28T14:21:46.811Z"
      },
      {
        "duration": 7,
        "start_time": "2021-12-28T14:21:46.824Z"
      },
      {
        "duration": 104,
        "start_time": "2021-12-28T14:21:46.834Z"
      },
      {
        "duration": 34,
        "start_time": "2021-12-28T14:21:46.941Z"
      },
      {
        "duration": 91,
        "start_time": "2021-12-28T14:21:46.979Z"
      },
      {
        "duration": 35,
        "start_time": "2021-12-28T14:21:47.074Z"
      },
      {
        "duration": 23,
        "start_time": "2021-12-28T14:22:23.029Z"
      },
      {
        "duration": 35,
        "start_time": "2021-12-28T14:28:19.213Z"
      },
      {
        "duration": 21,
        "start_time": "2021-12-28T14:32:09.803Z"
      },
      {
        "duration": 25,
        "start_time": "2021-12-28T15:00:10.101Z"
      },
      {
        "duration": 30,
        "start_time": "2021-12-28T15:00:19.228Z"
      },
      {
        "duration": 38,
        "start_time": "2021-12-28T15:01:36.188Z"
      },
      {
        "duration": 34,
        "start_time": "2021-12-28T15:03:15.356Z"
      },
      {
        "duration": 30,
        "start_time": "2021-12-28T15:03:41.019Z"
      },
      {
        "duration": 323,
        "start_time": "2021-12-28T15:14:14.375Z"
      },
      {
        "duration": 20,
        "start_time": "2021-12-28T15:14:32.190Z"
      },
      {
        "duration": 373,
        "start_time": "2021-12-28T15:14:50.230Z"
      },
      {
        "duration": 27,
        "start_time": "2021-12-28T15:14:57.261Z"
      },
      {
        "duration": 316,
        "start_time": "2021-12-28T15:15:19.717Z"
      },
      {
        "duration": 37,
        "start_time": "2021-12-28T15:15:28.485Z"
      },
      {
        "duration": 37,
        "start_time": "2021-12-28T15:15:37.653Z"
      },
      {
        "duration": 650,
        "start_time": "2021-12-28T15:33:22.278Z"
      },
      {
        "duration": 44,
        "start_time": "2021-12-28T15:33:38.740Z"
      },
      {
        "duration": 422,
        "start_time": "2021-12-28T15:38:54.290Z"
      },
      {
        "duration": 31,
        "start_time": "2021-12-28T15:39:40.201Z"
      },
      {
        "duration": 34,
        "start_time": "2021-12-28T15:39:58.694Z"
      },
      {
        "duration": 41,
        "start_time": "2021-12-28T15:45:11.962Z"
      },
      {
        "duration": 327,
        "start_time": "2021-12-28T15:46:20.216Z"
      },
      {
        "duration": 37,
        "start_time": "2021-12-28T15:46:45.206Z"
      },
      {
        "duration": 36,
        "start_time": "2021-12-28T15:52:57.924Z"
      },
      {
        "duration": 38,
        "start_time": "2021-12-28T15:53:22.149Z"
      },
      {
        "duration": 13,
        "start_time": "2021-12-28T16:03:32.736Z"
      },
      {
        "duration": 48,
        "start_time": "2021-12-28T16:03:56.430Z"
      },
      {
        "duration": 11,
        "start_time": "2021-12-28T16:04:09.875Z"
      },
      {
        "duration": 12,
        "start_time": "2021-12-28T16:05:11.190Z"
      },
      {
        "duration": 144,
        "start_time": "2021-12-28T16:05:16.882Z"
      },
      {
        "duration": 37,
        "start_time": "2021-12-28T16:05:17.029Z"
      },
      {
        "duration": 72,
        "start_time": "2021-12-28T16:05:17.076Z"
      },
      {
        "duration": 31,
        "start_time": "2021-12-28T16:05:17.151Z"
      },
      {
        "duration": 20,
        "start_time": "2021-12-28T16:05:17.187Z"
      },
      {
        "duration": 83,
        "start_time": "2021-12-28T16:05:17.211Z"
      },
      {
        "duration": 77,
        "start_time": "2021-12-28T16:05:17.297Z"
      },
      {
        "duration": 55,
        "start_time": "2021-12-28T16:05:17.382Z"
      },
      {
        "duration": 83,
        "start_time": "2021-12-28T16:05:17.441Z"
      },
      {
        "duration": 85,
        "start_time": "2021-12-28T16:05:17.527Z"
      },
      {
        "duration": 59,
        "start_time": "2021-12-28T16:05:17.616Z"
      },
      {
        "duration": 45,
        "start_time": "2021-12-28T16:05:17.678Z"
      },
      {
        "duration": 12,
        "start_time": "2021-12-28T16:05:17.726Z"
      },
      {
        "duration": 5879,
        "start_time": "2021-12-28T16:05:17.768Z"
      },
      {
        "duration": 50,
        "start_time": "2021-12-28T16:05:23.650Z"
      },
      {
        "duration": 29,
        "start_time": "2021-12-28T16:05:23.703Z"
      },
      {
        "duration": 45,
        "start_time": "2021-12-28T16:05:23.734Z"
      },
      {
        "duration": 7,
        "start_time": "2021-12-28T16:05:23.783Z"
      },
      {
        "duration": 107,
        "start_time": "2021-12-28T16:05:23.793Z"
      },
      {
        "duration": 15,
        "start_time": "2021-12-28T16:05:23.903Z"
      },
      {
        "duration": 101,
        "start_time": "2021-12-28T16:05:23.921Z"
      },
      {
        "duration": 58,
        "start_time": "2021-12-28T16:05:24.025Z"
      },
      {
        "duration": 37,
        "start_time": "2021-12-28T16:05:24.089Z"
      },
      {
        "duration": 74,
        "start_time": "2021-12-28T16:05:24.129Z"
      },
      {
        "duration": 49,
        "start_time": "2021-12-28T16:05:24.206Z"
      },
      {
        "duration": 181,
        "start_time": "2021-12-28T16:20:22.204Z"
      },
      {
        "duration": 24,
        "start_time": "2021-12-28T16:20:22.390Z"
      },
      {
        "duration": 92,
        "start_time": "2021-12-28T16:20:22.417Z"
      },
      {
        "duration": 11,
        "start_time": "2021-12-28T16:20:22.512Z"
      },
      {
        "duration": 109,
        "start_time": "2021-12-28T16:20:22.526Z"
      },
      {
        "duration": 92,
        "start_time": "2021-12-28T16:20:22.638Z"
      },
      {
        "duration": 51,
        "start_time": "2021-12-28T16:20:22.733Z"
      },
      {
        "duration": 53,
        "start_time": "2021-12-28T16:20:22.788Z"
      },
      {
        "duration": 57,
        "start_time": "2021-12-28T16:20:22.844Z"
      },
      {
        "duration": 29,
        "start_time": "2021-12-28T16:20:22.904Z"
      },
      {
        "duration": 48,
        "start_time": "2021-12-28T16:20:22.936Z"
      },
      {
        "duration": 15,
        "start_time": "2021-12-28T16:20:22.987Z"
      },
      {
        "duration": 5546,
        "start_time": "2021-12-28T16:20:23.006Z"
      },
      {
        "duration": 47,
        "start_time": "2021-12-28T16:20:28.555Z"
      },
      {
        "duration": 36,
        "start_time": "2021-12-28T16:20:28.605Z"
      },
      {
        "duration": 33,
        "start_time": "2021-12-28T16:20:28.644Z"
      },
      {
        "duration": 14,
        "start_time": "2021-12-28T16:20:28.680Z"
      },
      {
        "duration": 85,
        "start_time": "2021-12-28T16:20:28.696Z"
      },
      {
        "duration": 11,
        "start_time": "2021-12-28T16:20:28.786Z"
      },
      {
        "duration": 116,
        "start_time": "2021-12-28T16:20:28.800Z"
      },
      {
        "duration": 59,
        "start_time": "2021-12-28T16:20:28.919Z"
      },
      {
        "duration": 34,
        "start_time": "2021-12-28T16:20:28.981Z"
      },
      {
        "duration": 73,
        "start_time": "2021-12-28T16:20:29.020Z"
      },
      {
        "duration": 31,
        "start_time": "2021-12-28T16:20:29.096Z"
      },
      {
        "duration": 10,
        "start_time": "2021-12-28T16:20:40.550Z"
      },
      {
        "duration": 134,
        "start_time": "2021-12-28T16:20:48.300Z"
      },
      {
        "duration": 27,
        "start_time": "2021-12-28T16:20:48.437Z"
      },
      {
        "duration": 49,
        "start_time": "2021-12-28T16:20:48.468Z"
      },
      {
        "duration": 11,
        "start_time": "2021-12-28T16:20:48.520Z"
      },
      {
        "duration": 55,
        "start_time": "2021-12-28T16:20:48.564Z"
      },
      {
        "duration": 117,
        "start_time": "2021-12-28T16:20:48.622Z"
      },
      {
        "duration": 68,
        "start_time": "2021-12-28T16:20:48.742Z"
      },
      {
        "duration": 64,
        "start_time": "2021-12-28T16:20:48.816Z"
      },
      {
        "duration": 98,
        "start_time": "2021-12-28T16:20:48.884Z"
      },
      {
        "duration": 45,
        "start_time": "2021-12-28T16:20:48.986Z"
      },
      {
        "duration": 61,
        "start_time": "2021-12-28T16:20:49.033Z"
      },
      {
        "duration": 15,
        "start_time": "2021-12-28T16:20:49.098Z"
      },
      {
        "duration": 5435,
        "start_time": "2021-12-28T16:20:49.117Z"
      },
      {
        "duration": 68,
        "start_time": "2021-12-28T16:20:54.555Z"
      },
      {
        "duration": 55,
        "start_time": "2021-12-28T16:20:54.626Z"
      },
      {
        "duration": 11,
        "start_time": "2021-12-28T16:20:54.684Z"
      },
      {
        "duration": 7,
        "start_time": "2021-12-28T16:20:54.699Z"
      },
      {
        "duration": 107,
        "start_time": "2021-12-28T16:20:54.709Z"
      },
      {
        "duration": 11,
        "start_time": "2021-12-28T16:20:54.818Z"
      },
      {
        "duration": 145,
        "start_time": "2021-12-28T16:20:54.832Z"
      },
      {
        "duration": 37,
        "start_time": "2021-12-28T16:20:54.980Z"
      },
      {
        "duration": 67,
        "start_time": "2021-12-28T16:20:55.020Z"
      },
      {
        "duration": 33,
        "start_time": "2021-12-28T16:20:55.091Z"
      },
      {
        "duration": 62,
        "start_time": "2021-12-28T16:20:55.127Z"
      },
      {
        "duration": 680,
        "start_time": "2021-12-29T13:27:27.229Z"
      },
      {
        "duration": 10,
        "start_time": "2021-12-29T13:27:27.911Z"
      },
      {
        "duration": 30,
        "start_time": "2021-12-29T13:27:27.923Z"
      },
      {
        "duration": 6,
        "start_time": "2021-12-29T13:27:27.955Z"
      },
      {
        "duration": 32,
        "start_time": "2021-12-29T13:27:27.963Z"
      },
      {
        "duration": 50,
        "start_time": "2021-12-29T13:27:27.997Z"
      },
      {
        "duration": 19,
        "start_time": "2021-12-29T13:27:28.048Z"
      },
      {
        "duration": 26,
        "start_time": "2021-12-29T13:27:28.070Z"
      },
      {
        "duration": 55,
        "start_time": "2021-12-29T13:27:28.098Z"
      },
      {
        "duration": 20,
        "start_time": "2021-12-29T13:27:28.155Z"
      },
      {
        "duration": 19,
        "start_time": "2021-12-29T13:27:28.177Z"
      },
      {
        "duration": 9,
        "start_time": "2021-12-29T13:27:28.198Z"
      },
      {
        "duration": 3802,
        "start_time": "2021-12-29T13:27:28.209Z"
      },
      {
        "duration": 35,
        "start_time": "2021-12-29T13:27:32.013Z"
      },
      {
        "duration": 20,
        "start_time": "2021-12-29T13:27:32.050Z"
      },
      {
        "duration": 35,
        "start_time": "2021-12-29T13:27:32.072Z"
      },
      {
        "duration": 6,
        "start_time": "2021-12-29T13:27:32.108Z"
      },
      {
        "duration": 60,
        "start_time": "2021-12-29T13:27:32.115Z"
      },
      {
        "duration": 9,
        "start_time": "2021-12-29T13:27:32.177Z"
      },
      {
        "duration": 67,
        "start_time": "2021-12-29T13:27:32.188Z"
      },
      {
        "duration": 32,
        "start_time": "2021-12-29T13:27:32.257Z"
      },
      {
        "duration": 51,
        "start_time": "2021-12-29T13:27:32.291Z"
      },
      {
        "duration": 32,
        "start_time": "2021-12-29T13:27:32.346Z"
      },
      {
        "duration": 29,
        "start_time": "2021-12-29T13:27:32.380Z"
      },
      {
        "duration": 8,
        "start_time": "2021-12-29T13:29:30.930Z"
      },
      {
        "duration": 75,
        "start_time": "2021-12-29T15:47:57.899Z"
      },
      {
        "duration": 280,
        "start_time": "2021-12-29T15:48:07.256Z"
      },
      {
        "duration": 659,
        "start_time": "2021-12-29T15:48:16.136Z"
      },
      {
        "duration": 10,
        "start_time": "2021-12-29T15:48:16.797Z"
      },
      {
        "duration": 33,
        "start_time": "2021-12-29T15:48:16.809Z"
      },
      {
        "duration": 11,
        "start_time": "2021-12-29T15:48:16.844Z"
      },
      {
        "duration": 29,
        "start_time": "2021-12-29T15:48:16.856Z"
      },
      {
        "duration": 55,
        "start_time": "2021-12-29T15:48:16.887Z"
      },
      {
        "duration": 19,
        "start_time": "2021-12-29T15:48:16.944Z"
      },
      {
        "duration": 24,
        "start_time": "2021-12-29T15:48:16.966Z"
      },
      {
        "duration": 54,
        "start_time": "2021-12-29T15:48:16.992Z"
      },
      {
        "duration": 19,
        "start_time": "2021-12-29T15:48:17.048Z"
      },
      {
        "duration": 16,
        "start_time": "2021-12-29T15:48:17.069Z"
      },
      {
        "duration": 8,
        "start_time": "2021-12-29T15:48:17.087Z"
      },
      {
        "duration": 3556,
        "start_time": "2021-12-29T15:48:17.096Z"
      },
      {
        "duration": 34,
        "start_time": "2021-12-29T15:48:20.654Z"
      },
      {
        "duration": 18,
        "start_time": "2021-12-29T15:48:20.689Z"
      },
      {
        "duration": 11,
        "start_time": "2021-12-29T15:48:20.709Z"
      },
      {
        "duration": 5,
        "start_time": "2021-12-29T15:48:20.741Z"
      },
      {
        "duration": 41,
        "start_time": "2021-12-29T15:48:20.748Z"
      },
      {
        "duration": 8,
        "start_time": "2021-12-29T15:48:20.790Z"
      },
      {
        "duration": 67,
        "start_time": "2021-12-29T15:48:20.800Z"
      },
      {
        "duration": 261,
        "start_time": "2021-12-29T15:48:20.869Z"
      },
      {
        "duration": 959,
        "start_time": "2021-12-29T15:48:20.173Z"
      },
      {
        "duration": 956,
        "start_time": "2021-12-29T15:48:20.177Z"
      },
      {
        "duration": 953,
        "start_time": "2021-12-29T15:48:20.181Z"
      },
      {
        "duration": 949,
        "start_time": "2021-12-29T15:48:20.186Z"
      },
      {
        "duration": 20,
        "start_time": "2021-12-29T15:48:50.106Z"
      },
      {
        "duration": 6,
        "start_time": "2021-12-29T15:48:58.811Z"
      },
      {
        "duration": 6,
        "start_time": "2021-12-29T15:49:09.122Z"
      },
      {
        "duration": 345,
        "start_time": "2021-12-30T08:11:54.411Z"
      },
      {
        "duration": 354,
        "start_time": "2021-12-30T08:12:06.938Z"
      },
      {
        "duration": 919,
        "start_time": "2021-12-30T08:12:13.212Z"
      },
      {
        "duration": 14,
        "start_time": "2021-12-30T08:12:14.134Z"
      },
      {
        "duration": 47,
        "start_time": "2021-12-30T08:12:14.151Z"
      },
      {
        "duration": 11,
        "start_time": "2021-12-30T08:12:14.217Z"
      },
      {
        "duration": 49,
        "start_time": "2021-12-30T08:12:14.231Z"
      },
      {
        "duration": 79,
        "start_time": "2021-12-30T08:12:14.283Z"
      },
      {
        "duration": 53,
        "start_time": "2021-12-30T08:12:14.366Z"
      },
      {
        "duration": 39,
        "start_time": "2021-12-30T08:12:14.425Z"
      },
      {
        "duration": 78,
        "start_time": "2021-12-30T08:12:14.466Z"
      },
      {
        "duration": 28,
        "start_time": "2021-12-30T08:12:14.547Z"
      },
      {
        "duration": 41,
        "start_time": "2021-12-30T08:12:14.578Z"
      },
      {
        "duration": 10,
        "start_time": "2021-12-30T08:12:14.621Z"
      },
      {
        "duration": 4685,
        "start_time": "2021-12-30T08:12:14.633Z"
      },
      {
        "duration": 44,
        "start_time": "2021-12-30T08:12:19.321Z"
      },
      {
        "duration": 58,
        "start_time": "2021-12-30T08:12:19.367Z"
      },
      {
        "duration": 10,
        "start_time": "2021-12-30T08:12:19.428Z"
      },
      {
        "duration": 8,
        "start_time": "2021-12-30T08:12:19.440Z"
      },
      {
        "duration": 105,
        "start_time": "2021-12-30T08:12:19.451Z"
      },
      {
        "duration": 14,
        "start_time": "2021-12-30T08:12:19.558Z"
      },
      {
        "duration": 101,
        "start_time": "2021-12-30T08:12:19.574Z"
      },
      {
        "duration": 326,
        "start_time": "2021-12-30T08:12:19.677Z"
      },
      {
        "duration": 1232,
        "start_time": "2021-12-30T08:12:18.774Z"
      },
      {
        "duration": 1229,
        "start_time": "2021-12-30T08:12:18.778Z"
      },
      {
        "duration": 1223,
        "start_time": "2021-12-30T08:12:18.785Z"
      },
      {
        "duration": 1220,
        "start_time": "2021-12-30T08:12:18.789Z"
      },
      {
        "duration": 4,
        "start_time": "2021-12-30T09:34:05.713Z"
      },
      {
        "duration": 7,
        "start_time": "2021-12-30T09:34:15.145Z"
      },
      {
        "duration": 8,
        "start_time": "2021-12-30T09:36:04.687Z"
      },
      {
        "duration": 337,
        "start_time": "2021-12-30T09:39:21.350Z"
      },
      {
        "duration": 482,
        "start_time": "2021-12-30T09:40:05.911Z"
      },
      {
        "duration": 5,
        "start_time": "2021-12-30T10:09:02.434Z"
      },
      {
        "duration": 262,
        "start_time": "2021-12-30T10:09:14.595Z"
      },
      {
        "duration": 6,
        "start_time": "2021-12-30T10:09:25.873Z"
      },
      {
        "duration": 264,
        "start_time": "2021-12-30T10:14:24.134Z"
      },
      {
        "duration": 29,
        "start_time": "2021-12-30T12:26:46.399Z"
      },
      {
        "duration": 9,
        "start_time": "2021-12-30T12:30:28.381Z"
      },
      {
        "duration": 8,
        "start_time": "2021-12-30T12:30:34.348Z"
      },
      {
        "duration": 8,
        "start_time": "2021-12-30T12:31:52.878Z"
      },
      {
        "duration": 8,
        "start_time": "2021-12-30T12:31:54.740Z"
      },
      {
        "duration": 21,
        "start_time": "2021-12-30T12:32:08.908Z"
      },
      {
        "duration": 22,
        "start_time": "2021-12-30T12:32:10.772Z"
      },
      {
        "duration": 391,
        "start_time": "2021-12-30T12:32:56.171Z"
      },
      {
        "duration": 14,
        "start_time": "2021-12-30T12:33:14.227Z"
      },
      {
        "duration": 41,
        "start_time": "2021-12-30T12:33:37.622Z"
      },
      {
        "duration": 16,
        "start_time": "2021-12-30T12:34:21.154Z"
      },
      {
        "duration": 17,
        "start_time": "2021-12-30T12:34:37.259Z"
      },
      {
        "duration": 116,
        "start_time": "2021-12-30T12:55:17.078Z"
      },
      {
        "duration": 33,
        "start_time": "2021-12-30T12:55:17.196Z"
      },
      {
        "duration": 47,
        "start_time": "2021-12-30T12:55:17.231Z"
      },
      {
        "duration": 10,
        "start_time": "2021-12-30T12:55:17.317Z"
      },
      {
        "duration": 50,
        "start_time": "2021-12-30T12:55:17.329Z"
      },
      {
        "duration": 86,
        "start_time": "2021-12-30T12:55:17.381Z"
      },
      {
        "duration": 56,
        "start_time": "2021-12-30T12:55:17.469Z"
      },
      {
        "duration": 38,
        "start_time": "2021-12-30T12:55:17.529Z"
      },
      {
        "duration": 75,
        "start_time": "2021-12-30T12:55:17.570Z"
      },
      {
        "duration": 28,
        "start_time": "2021-12-30T12:55:17.648Z"
      },
      {
        "duration": 54,
        "start_time": "2021-12-30T12:55:17.679Z"
      },
      {
        "duration": 11,
        "start_time": "2021-12-30T12:55:17.736Z"
      },
      {
        "duration": 4748,
        "start_time": "2021-12-30T12:55:17.750Z"
      },
      {
        "duration": 43,
        "start_time": "2021-12-30T12:55:22.501Z"
      },
      {
        "duration": 26,
        "start_time": "2021-12-30T12:55:22.547Z"
      },
      {
        "duration": 41,
        "start_time": "2021-12-30T12:55:22.576Z"
      },
      {
        "duration": 9,
        "start_time": "2021-12-30T12:55:22.620Z"
      },
      {
        "duration": 131,
        "start_time": "2021-12-30T12:55:22.632Z"
      },
      {
        "duration": 13,
        "start_time": "2021-12-30T12:55:22.766Z"
      },
      {
        "duration": 150,
        "start_time": "2021-12-30T12:55:22.782Z"
      },
      {
        "duration": 38,
        "start_time": "2021-12-30T12:55:22.935Z"
      },
      {
        "duration": 42,
        "start_time": "2021-12-30T12:55:22.976Z"
      },
      {
        "duration": 21,
        "start_time": "2021-12-30T12:55:23.023Z"
      },
      {
        "duration": 31,
        "start_time": "2021-12-30T12:55:23.047Z"
      },
      {
        "duration": 58,
        "start_time": "2021-12-30T12:55:23.080Z"
      },
      {
        "duration": 31,
        "start_time": "2021-12-30T12:55:23.141Z"
      },
      {
        "duration": 3,
        "start_time": "2021-12-30T12:55:23.175Z"
      },
      {
        "duration": 117,
        "start_time": "2021-12-30T12:55:33.244Z"
      },
      {
        "duration": 887,
        "start_time": "2021-12-30T13:01:59.999Z"
      },
      {
        "duration": 15,
        "start_time": "2021-12-30T13:02:00.888Z"
      },
      {
        "duration": 56,
        "start_time": "2021-12-30T13:02:00.906Z"
      },
      {
        "duration": 10,
        "start_time": "2021-12-30T13:02:00.964Z"
      },
      {
        "duration": 76,
        "start_time": "2021-12-30T13:02:00.977Z"
      },
      {
        "duration": 72,
        "start_time": "2021-12-30T13:02:01.055Z"
      },
      {
        "duration": 32,
        "start_time": "2021-12-30T13:02:01.129Z"
      },
      {
        "duration": 69,
        "start_time": "2021-12-30T13:02:01.164Z"
      },
      {
        "duration": 51,
        "start_time": "2021-12-30T13:02:01.235Z"
      },
      {
        "duration": 48,
        "start_time": "2021-12-30T13:02:01.289Z"
      },
      {
        "duration": 27,
        "start_time": "2021-12-30T13:02:01.340Z"
      },
      {
        "duration": 11,
        "start_time": "2021-12-30T13:02:01.369Z"
      },
      {
        "duration": 4551,
        "start_time": "2021-12-30T13:02:01.383Z"
      },
      {
        "duration": 35,
        "start_time": "2021-12-30T13:02:05.937Z"
      },
      {
        "duration": 55,
        "start_time": "2021-12-30T13:02:05.974Z"
      },
      {
        "duration": 9,
        "start_time": "2021-12-30T13:02:06.032Z"
      },
      {
        "duration": 6,
        "start_time": "2021-12-30T13:02:06.043Z"
      },
      {
        "duration": 94,
        "start_time": "2021-12-30T13:02:06.051Z"
      },
      {
        "duration": 11,
        "start_time": "2021-12-30T13:02:06.147Z"
      },
      {
        "duration": 96,
        "start_time": "2021-12-30T13:02:06.160Z"
      },
      {
        "duration": 27,
        "start_time": "2021-12-30T13:02:06.259Z"
      },
      {
        "duration": 37,
        "start_time": "2021-12-30T13:02:06.288Z"
      },
      {
        "duration": 20,
        "start_time": "2021-12-30T13:02:06.330Z"
      },
      {
        "duration": 38,
        "start_time": "2021-12-30T13:02:06.352Z"
      },
      {
        "duration": 33,
        "start_time": "2021-12-30T13:02:06.417Z"
      },
      {
        "duration": 32,
        "start_time": "2021-12-30T13:02:06.452Z"
      },
      {
        "duration": 3,
        "start_time": "2021-12-30T13:02:06.487Z"
      },
      {
        "duration": 700,
        "start_time": "2022-11-21T14:44:29.891Z"
      },
      {
        "duration": 15,
        "start_time": "2022-11-21T14:44:30.593Z"
      },
      {
        "duration": 48,
        "start_time": "2022-11-21T14:44:30.609Z"
      },
      {
        "duration": 9,
        "start_time": "2022-11-21T14:44:30.659Z"
      },
      {
        "duration": 32,
        "start_time": "2022-11-21T14:44:30.670Z"
      },
      {
        "duration": 33,
        "start_time": "2022-11-21T14:44:30.703Z"
      },
      {
        "duration": 44,
        "start_time": "2022-11-21T14:44:30.738Z"
      },
      {
        "duration": 28,
        "start_time": "2022-11-21T14:44:30.784Z"
      },
      {
        "duration": 36,
        "start_time": "2022-11-21T14:44:30.814Z"
      },
      {
        "duration": 39,
        "start_time": "2022-11-21T14:44:30.853Z"
      },
      {
        "duration": 21,
        "start_time": "2022-11-21T14:44:30.894Z"
      },
      {
        "duration": 17,
        "start_time": "2022-11-21T14:44:30.917Z"
      },
      {
        "duration": 3704,
        "start_time": "2022-11-21T14:44:30.936Z"
      },
      {
        "duration": 387,
        "start_time": "2022-11-21T14:44:34.642Z"
      },
      {
        "duration": 17,
        "start_time": "2022-11-21T14:44:35.030Z"
      },
      {
        "duration": 12,
        "start_time": "2022-11-21T14:44:35.049Z"
      },
      {
        "duration": 7,
        "start_time": "2022-11-21T14:44:35.063Z"
      },
      {
        "duration": 23,
        "start_time": "2022-11-21T14:44:35.072Z"
      },
      {
        "duration": 8,
        "start_time": "2022-11-21T14:44:35.097Z"
      },
      {
        "duration": 28,
        "start_time": "2022-11-21T14:44:35.107Z"
      },
      {
        "duration": 17,
        "start_time": "2022-11-21T14:44:35.137Z"
      },
      {
        "duration": 30,
        "start_time": "2022-11-21T14:44:35.156Z"
      },
      {
        "duration": 24,
        "start_time": "2022-11-21T14:44:35.188Z"
      },
      {
        "duration": 22,
        "start_time": "2022-11-21T14:44:35.214Z"
      },
      {
        "duration": 47,
        "start_time": "2022-11-21T14:44:35.238Z"
      },
      {
        "duration": 19,
        "start_time": "2022-11-21T14:44:35.286Z"
      }
    ],
    "kernelspec": {
      "display_name": "Python 3 (ipykernel)",
      "language": "python",
      "name": "python3"
    },
    "language_info": {
      "codemirror_mode": {
        "name": "ipython",
        "version": 3
      },
      "file_extension": ".py",
      "mimetype": "text/x-python",
      "name": "python",
      "nbconvert_exporter": "python",
      "pygments_lexer": "ipython3",
      "version": "3.9.5"
    },
    "toc": {
      "base_numbering": 1,
      "nav_menu": {},
      "number_sections": true,
      "sideBar": true,
      "skip_h1_title": true,
      "title_cell": "Table of Contents",
      "title_sidebar": "Contents",
      "toc_cell": false,
      "toc_position": {},
      "toc_section_display": true,
      "toc_window_display": false
    },
    "colab": {
      "provenance": [],
      "toc_visible": true
    }
  },
  "nbformat": 4,
  "nbformat_minor": 0
}