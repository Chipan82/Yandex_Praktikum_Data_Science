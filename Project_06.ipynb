{
  "cells": [
    {
      "cell_type": "markdown",
      "metadata": {
        "id": "ojZYBWRczXEP"
      },
      "source": [
        "# Отток клиентов"
      ]
    },
    {
      "cell_type": "markdown",
      "metadata": {
        "id": "wCCjFbCEzXEP"
      },
      "source": [
        "Из «Бета-Банка» стали уходить клиенты. Каждый месяц. Немного, но заметно. Банковские маркетологи посчитали: сохранять текущих клиентов дешевле, чем привлекать новых.\n",
        "\n",
        "Нужно спрогнозировать, уйдёт клиент из банка в ближайшее время или нет. Вам предоставлены исторические данные о поведении клиентов и расторжении договоров с банком. \n",
        "\n",
        "Постройте модель с предельно большим значением *F1*-меры. Чтобы сдать проект успешно, нужно довести метрику до 0.59. Проверьте *F1*-меру на тестовой выборке самостоятельно.\n",
        "\n",
        "Дополнительно измеряйте *AUC-ROC*, сравнивайте её значение с *F1*-мерой.\n"
      ]
    },
    {
      "cell_type": "markdown",
      "metadata": {
        "id": "IqAdksKlzXEQ"
      },
      "source": [
        "### Описание данных\n",
        "\n",
        "###### Признаки\n",
        "\n",
        "    RowNumber — индекс строки в данных\n",
        "    CustomerId — уникальный идентификатор клиента\n",
        "    Surname — фамилия\n",
        "    CreditScore — кредитный рейтинг\n",
        "    Geography — страна проживания\n",
        "    Gender — пол\n",
        "    Age — возраст\n",
        "    Tenure — сколько лет человек является клиентом банка\n",
        "    Balance — баланс на счёте\n",
        "    NumOfProducts — количество продуктов банка, используемых клиентом\n",
        "    HasCrCard — наличие кредитной карты\n",
        "    IsActiveMember — активность клиента\n",
        "    EstimatedSalary — предполагаемая зарплата\n",
        "    \n",
        "###### Целевой признак\n",
        "\n",
        "    Exited — факт ухода клиента"
      ]
    },
    {
      "cell_type": "markdown",
      "metadata": {
        "id": "upEc_ptCzXER"
      },
      "source": [
        "## Подготовка данных"
      ]
    },
    {
      "cell_type": "code",
      "execution_count": null,
      "metadata": {
        "id": "MdCmoSyizXER"
      },
      "outputs": [],
      "source": [
        "import pandas as pd\n",
        "import numpy as np\n",
        "import matplotlib.pyplot as plt\n",
        "\n",
        "from sklearn.model_selection import train_test_split\n",
        "from sklearn.preprocessing import StandardScaler\n",
        "from sklearn.tree import DecisionTreeClassifier\n",
        "from sklearn.ensemble import RandomForestClassifier\n",
        "from sklearn.linear_model import LogisticRegression\n",
        "from sklearn.metrics import accuracy_score\n",
        "from sklearn.metrics import confusion_matrix\n",
        "from sklearn.metrics import recall_score\n",
        "from sklearn.metrics import precision_score\n",
        "from sklearn.metrics import f1_score, roc_curve\n",
        "from sklearn.metrics import roc_auc_score\n",
        "from sklearn.metrics import roc_curve\n",
        "from sklearn.utils import shuffle \n",
        "import warnings\n",
        "warnings.filterwarnings(\"ignore\")"
      ]
    },
    {
      "cell_type": "code",
      "execution_count": null,
      "metadata": {
        "id": "cemYP88_zXES"
      },
      "outputs": [],
      "source": [
        "data = pd.read_csv('/datasets/Churn.csv')"
      ]
    },
    {
      "cell_type": "code",
      "execution_count": null,
      "metadata": {
        "id": "aHWeq6I0zXET",
        "outputId": "dff0fb8f-0799-4caf-daef-acdc4b3eee32"
      },
      "outputs": [
        {
          "name": "stdout",
          "output_type": "stream",
          "text": [
            "<class 'pandas.core.frame.DataFrame'>\n",
            "RangeIndex: 10000 entries, 0 to 9999\n",
            "Data columns (total 14 columns):\n",
            " #   Column           Non-Null Count  Dtype  \n",
            "---  ------           --------------  -----  \n",
            " 0   RowNumber        10000 non-null  int64  \n",
            " 1   CustomerId       10000 non-null  int64  \n",
            " 2   Surname          10000 non-null  object \n",
            " 3   CreditScore      10000 non-null  int64  \n",
            " 4   Geography        10000 non-null  object \n",
            " 5   Gender           10000 non-null  object \n",
            " 6   Age              10000 non-null  int64  \n",
            " 7   Tenure           9091 non-null   float64\n",
            " 8   Balance          10000 non-null  float64\n",
            " 9   NumOfProducts    10000 non-null  int64  \n",
            " 10  HasCrCard        10000 non-null  int64  \n",
            " 11  IsActiveMember   10000 non-null  int64  \n",
            " 12  EstimatedSalary  10000 non-null  float64\n",
            " 13  Exited           10000 non-null  int64  \n",
            "dtypes: float64(3), int64(8), object(3)\n",
            "memory usage: 1.1+ MB\n"
          ]
        }
      ],
      "source": [
        "data.info()"
      ]
    },
    {
      "cell_type": "markdown",
      "metadata": {
        "id": "uyMwPkBXzXEU"
      },
      "source": [
        "Удалим столбцы. В них нет необходимости для алгоритма"
      ]
    },
    {
      "cell_type": "code",
      "execution_count": null,
      "metadata": {
        "id": "Zq60loB5zXEV"
      },
      "outputs": [],
      "source": [
        "data = data.drop(['RowNumber', 'CustomerId', 'Surname'], axis=1)\n",
        "#data.head(15)"
      ]
    },
    {
      "cell_type": "markdown",
      "metadata": {
        "id": "NnMBBUNdzXEV"
      },
      "source": [
        "Заменим пропуски в столбце Tenure на 0. Возможно клиент является клиентом банка меньше года. Переведем в целочисленный тип."
      ]
    },
    {
      "cell_type": "code",
      "execution_count": null,
      "metadata": {
        "id": "1cmOugUfzXEV",
        "outputId": "25e75859-fa99-45eb-85d1-c53a4972a9a3"
      },
      "outputs": [
        {
          "name": "stdout",
          "output_type": "stream",
          "text": [
            "<class 'pandas.core.frame.DataFrame'>\n",
            "RangeIndex: 10000 entries, 0 to 9999\n",
            "Data columns (total 11 columns):\n",
            " #   Column           Non-Null Count  Dtype  \n",
            "---  ------           --------------  -----  \n",
            " 0   CreditScore      10000 non-null  int64  \n",
            " 1   Geography        10000 non-null  object \n",
            " 2   Gender           10000 non-null  object \n",
            " 3   Age              10000 non-null  int64  \n",
            " 4   Tenure           10000 non-null  int64  \n",
            " 5   Balance          10000 non-null  float64\n",
            " 6   NumOfProducts    10000 non-null  int64  \n",
            " 7   HasCrCard        10000 non-null  int64  \n",
            " 8   IsActiveMember   10000 non-null  int64  \n",
            " 9   EstimatedSalary  10000 non-null  float64\n",
            " 10  Exited           10000 non-null  int64  \n",
            "dtypes: float64(2), int64(7), object(2)\n",
            "memory usage: 859.5+ KB\n"
          ]
        }
      ],
      "source": [
        "data['Tenure'] = data['Tenure'].fillna(0).astype('int64')\n",
        "data.info()"
      ]
    },
    {
      "cell_type": "code",
      "execution_count": null,
      "metadata": {
        "id": "nTh02hcZzXEW",
        "outputId": "4a8d1a14-97bd-4181-ae82-5a7aefedf8af"
      },
      "outputs": [
        {
          "data": {
            "text/plain": [
              "(10000, 11)"
            ]
          },
          "execution_count": 6,
          "metadata": {},
          "output_type": "execute_result"
        }
      ],
      "source": [
        "data.shape"
      ]
    },
    {
      "cell_type": "markdown",
      "metadata": {
        "id": "NTLAmBGYzXEW"
      },
      "source": [
        "###### Подготовим данные методом OHE"
      ]
    },
    {
      "cell_type": "code",
      "execution_count": null,
      "metadata": {
        "id": "RhH8zoVmzXEW",
        "outputId": "d672d710-4e2b-4ad6-a93e-1e784edc3235"
      },
      "outputs": [
        {
          "data": {
            "text/html": [
              "<div>\n",
              "<style scoped>\n",
              "    .dataframe tbody tr th:only-of-type {\n",
              "        vertical-align: middle;\n",
              "    }\n",
              "\n",
              "    .dataframe tbody tr th {\n",
              "        vertical-align: top;\n",
              "    }\n",
              "\n",
              "    .dataframe thead th {\n",
              "        text-align: right;\n",
              "    }\n",
              "</style>\n",
              "<table border=\"1\" class=\"dataframe\">\n",
              "  <thead>\n",
              "    <tr style=\"text-align: right;\">\n",
              "      <th></th>\n",
              "      <th>CreditScore</th>\n",
              "      <th>Age</th>\n",
              "      <th>Tenure</th>\n",
              "      <th>Balance</th>\n",
              "      <th>NumOfProducts</th>\n",
              "      <th>HasCrCard</th>\n",
              "      <th>IsActiveMember</th>\n",
              "      <th>EstimatedSalary</th>\n",
              "      <th>Exited</th>\n",
              "      <th>Geography_Germany</th>\n",
              "      <th>Geography_Spain</th>\n",
              "      <th>Gender_Male</th>\n",
              "    </tr>\n",
              "  </thead>\n",
              "  <tbody>\n",
              "    <tr>\n",
              "      <th>0</th>\n",
              "      <td>619</td>\n",
              "      <td>42</td>\n",
              "      <td>2</td>\n",
              "      <td>0.00</td>\n",
              "      <td>1</td>\n",
              "      <td>1</td>\n",
              "      <td>1</td>\n",
              "      <td>101348.88</td>\n",
              "      <td>1</td>\n",
              "      <td>0</td>\n",
              "      <td>0</td>\n",
              "      <td>0</td>\n",
              "    </tr>\n",
              "    <tr>\n",
              "      <th>1</th>\n",
              "      <td>608</td>\n",
              "      <td>41</td>\n",
              "      <td>1</td>\n",
              "      <td>83807.86</td>\n",
              "      <td>1</td>\n",
              "      <td>0</td>\n",
              "      <td>1</td>\n",
              "      <td>112542.58</td>\n",
              "      <td>0</td>\n",
              "      <td>0</td>\n",
              "      <td>1</td>\n",
              "      <td>0</td>\n",
              "    </tr>\n",
              "    <tr>\n",
              "      <th>2</th>\n",
              "      <td>502</td>\n",
              "      <td>42</td>\n",
              "      <td>8</td>\n",
              "      <td>159660.80</td>\n",
              "      <td>3</td>\n",
              "      <td>1</td>\n",
              "      <td>0</td>\n",
              "      <td>113931.57</td>\n",
              "      <td>1</td>\n",
              "      <td>0</td>\n",
              "      <td>0</td>\n",
              "      <td>0</td>\n",
              "    </tr>\n",
              "    <tr>\n",
              "      <th>3</th>\n",
              "      <td>699</td>\n",
              "      <td>39</td>\n",
              "      <td>1</td>\n",
              "      <td>0.00</td>\n",
              "      <td>2</td>\n",
              "      <td>0</td>\n",
              "      <td>0</td>\n",
              "      <td>93826.63</td>\n",
              "      <td>0</td>\n",
              "      <td>0</td>\n",
              "      <td>0</td>\n",
              "      <td>0</td>\n",
              "    </tr>\n",
              "    <tr>\n",
              "      <th>4</th>\n",
              "      <td>850</td>\n",
              "      <td>43</td>\n",
              "      <td>2</td>\n",
              "      <td>125510.82</td>\n",
              "      <td>1</td>\n",
              "      <td>1</td>\n",
              "      <td>1</td>\n",
              "      <td>79084.10</td>\n",
              "      <td>0</td>\n",
              "      <td>0</td>\n",
              "      <td>1</td>\n",
              "      <td>0</td>\n",
              "    </tr>\n",
              "  </tbody>\n",
              "</table>\n",
              "</div>"
            ],
            "text/plain": [
              "   CreditScore  Age  Tenure    Balance  NumOfProducts  HasCrCard  \\\n",
              "0          619   42       2       0.00              1          1   \n",
              "1          608   41       1   83807.86              1          0   \n",
              "2          502   42       8  159660.80              3          1   \n",
              "3          699   39       1       0.00              2          0   \n",
              "4          850   43       2  125510.82              1          1   \n",
              "\n",
              "   IsActiveMember  EstimatedSalary  Exited  Geography_Germany  \\\n",
              "0               1        101348.88       1                  0   \n",
              "1               1        112542.58       0                  0   \n",
              "2               0        113931.57       1                  0   \n",
              "3               0         93826.63       0                  0   \n",
              "4               1         79084.10       0                  0   \n",
              "\n",
              "   Geography_Spain  Gender_Male  \n",
              "0                0            0  \n",
              "1                1            0  \n",
              "2                0            0  \n",
              "3                0            0  \n",
              "4                1            0  "
            ]
          },
          "execution_count": 7,
          "metadata": {},
          "output_type": "execute_result"
        }
      ],
      "source": [
        "data_ohe = pd.get_dummies(data, drop_first=True)\n",
        "data_ohe.head()"
      ]
    },
    {
      "cell_type": "code",
      "execution_count": null,
      "metadata": {
        "id": "fh7OoRfDzXEX",
        "outputId": "fddc9eb8-50fe-4f68-d834-031c50287810"
      },
      "outputs": [
        {
          "data": {
            "text/plain": [
              "(10000, 12)"
            ]
          },
          "execution_count": 8,
          "metadata": {},
          "output_type": "execute_result"
        }
      ],
      "source": [
        "data_ohe.shape"
      ]
    },
    {
      "cell_type": "markdown",
      "metadata": {
        "id": "_k8YrWzyzXEX"
      },
      "source": [
        "###### Делим датасет на выборки: обучающая - 60%, валидационная - 20 %, тестовая - 20 %"
      ]
    },
    {
      "cell_type": "code",
      "execution_count": null,
      "metadata": {
        "id": "whEO0LhvzXEX"
      },
      "outputs": [],
      "source": [
        "features = data_ohe.drop('Exited', axis=1)\n",
        "target = data_ohe['Exited']"
      ]
    },
    {
      "cell_type": "code",
      "execution_count": null,
      "metadata": {
        "id": "OiBwZAoizXEY",
        "outputId": "bcb72d78-790d-4452-f1ac-94d2aba0b1fe"
      },
      "outputs": [
        {
          "data": {
            "text/html": [
              "<div>\n",
              "<style scoped>\n",
              "    .dataframe tbody tr th:only-of-type {\n",
              "        vertical-align: middle;\n",
              "    }\n",
              "\n",
              "    .dataframe tbody tr th {\n",
              "        vertical-align: top;\n",
              "    }\n",
              "\n",
              "    .dataframe thead th {\n",
              "        text-align: right;\n",
              "    }\n",
              "</style>\n",
              "<table border=\"1\" class=\"dataframe\">\n",
              "  <thead>\n",
              "    <tr style=\"text-align: right;\">\n",
              "      <th></th>\n",
              "      <th>CreditScore</th>\n",
              "      <th>Age</th>\n",
              "      <th>Tenure</th>\n",
              "      <th>Balance</th>\n",
              "      <th>NumOfProducts</th>\n",
              "      <th>HasCrCard</th>\n",
              "      <th>IsActiveMember</th>\n",
              "      <th>EstimatedSalary</th>\n",
              "      <th>Geography_Germany</th>\n",
              "      <th>Geography_Spain</th>\n",
              "      <th>Gender_Male</th>\n",
              "    </tr>\n",
              "  </thead>\n",
              "  <tbody>\n",
              "    <tr>\n",
              "      <th>0</th>\n",
              "      <td>619</td>\n",
              "      <td>42</td>\n",
              "      <td>2</td>\n",
              "      <td>0.00</td>\n",
              "      <td>1</td>\n",
              "      <td>1</td>\n",
              "      <td>1</td>\n",
              "      <td>101348.88</td>\n",
              "      <td>0</td>\n",
              "      <td>0</td>\n",
              "      <td>0</td>\n",
              "    </tr>\n",
              "    <tr>\n",
              "      <th>1</th>\n",
              "      <td>608</td>\n",
              "      <td>41</td>\n",
              "      <td>1</td>\n",
              "      <td>83807.86</td>\n",
              "      <td>1</td>\n",
              "      <td>0</td>\n",
              "      <td>1</td>\n",
              "      <td>112542.58</td>\n",
              "      <td>0</td>\n",
              "      <td>1</td>\n",
              "      <td>0</td>\n",
              "    </tr>\n",
              "    <tr>\n",
              "      <th>2</th>\n",
              "      <td>502</td>\n",
              "      <td>42</td>\n",
              "      <td>8</td>\n",
              "      <td>159660.80</td>\n",
              "      <td>3</td>\n",
              "      <td>1</td>\n",
              "      <td>0</td>\n",
              "      <td>113931.57</td>\n",
              "      <td>0</td>\n",
              "      <td>0</td>\n",
              "      <td>0</td>\n",
              "    </tr>\n",
              "    <tr>\n",
              "      <th>3</th>\n",
              "      <td>699</td>\n",
              "      <td>39</td>\n",
              "      <td>1</td>\n",
              "      <td>0.00</td>\n",
              "      <td>2</td>\n",
              "      <td>0</td>\n",
              "      <td>0</td>\n",
              "      <td>93826.63</td>\n",
              "      <td>0</td>\n",
              "      <td>0</td>\n",
              "      <td>0</td>\n",
              "    </tr>\n",
              "    <tr>\n",
              "      <th>4</th>\n",
              "      <td>850</td>\n",
              "      <td>43</td>\n",
              "      <td>2</td>\n",
              "      <td>125510.82</td>\n",
              "      <td>1</td>\n",
              "      <td>1</td>\n",
              "      <td>1</td>\n",
              "      <td>79084.10</td>\n",
              "      <td>0</td>\n",
              "      <td>1</td>\n",
              "      <td>0</td>\n",
              "    </tr>\n",
              "  </tbody>\n",
              "</table>\n",
              "</div>"
            ],
            "text/plain": [
              "   CreditScore  Age  Tenure    Balance  NumOfProducts  HasCrCard  \\\n",
              "0          619   42       2       0.00              1          1   \n",
              "1          608   41       1   83807.86              1          0   \n",
              "2          502   42       8  159660.80              3          1   \n",
              "3          699   39       1       0.00              2          0   \n",
              "4          850   43       2  125510.82              1          1   \n",
              "\n",
              "   IsActiveMember  EstimatedSalary  Geography_Germany  Geography_Spain  \\\n",
              "0               1        101348.88                  0                0   \n",
              "1               1        112542.58                  0                1   \n",
              "2               0        113931.57                  0                0   \n",
              "3               0         93826.63                  0                0   \n",
              "4               1         79084.10                  0                1   \n",
              "\n",
              "   Gender_Male  \n",
              "0            0  \n",
              "1            0  \n",
              "2            0  \n",
              "3            0  \n",
              "4            0  "
            ]
          },
          "execution_count": 10,
          "metadata": {},
          "output_type": "execute_result"
        }
      ],
      "source": [
        "features.head()"
      ]
    },
    {
      "cell_type": "code",
      "execution_count": null,
      "metadata": {
        "id": "RqP0L2v0zXEY",
        "outputId": "91708d0b-cbd9-4a16-a030-4140691cf3e0"
      },
      "outputs": [
        {
          "data": {
            "text/plain": [
              "0    1\n",
              "1    0\n",
              "2    1\n",
              "3    0\n",
              "4    0\n",
              "Name: Exited, dtype: int64"
            ]
          },
          "execution_count": 11,
          "metadata": {},
          "output_type": "execute_result"
        }
      ],
      "source": [
        "target.head()"
      ]
    },
    {
      "cell_type": "code",
      "execution_count": null,
      "metadata": {
        "id": "2JN58gg2zXEY"
      },
      "outputs": [],
      "source": [
        "features_train, features_validtest, target_train, target_validtest = train_test_split(features, target,\n",
        "                                                    train_size=0.6, random_state=12345, stratify=target)"
      ]
    },
    {
      "cell_type": "code",
      "execution_count": null,
      "metadata": {
        "id": "PbuLUTqYzXEZ",
        "outputId": "f81f5d33-7b6f-4663-bc15-7b397ae1e245"
      },
      "outputs": [
        {
          "data": {
            "text/plain": [
              "(6000, 11)"
            ]
          },
          "metadata": {},
          "output_type": "display_data"
        },
        {
          "data": {
            "text/plain": [
              "(6000,)"
            ]
          },
          "metadata": {},
          "output_type": "display_data"
        },
        {
          "data": {
            "text/plain": [
              "(4000, 11)"
            ]
          },
          "metadata": {},
          "output_type": "display_data"
        },
        {
          "data": {
            "text/plain": [
              "(4000,)"
            ]
          },
          "metadata": {},
          "output_type": "display_data"
        }
      ],
      "source": [
        "display(features_train.shape, target_train.shape, features_validtest.shape, target_validtest.shape)"
      ]
    },
    {
      "cell_type": "code",
      "execution_count": null,
      "metadata": {
        "id": "mxWRswAWzXEZ"
      },
      "outputs": [],
      "source": [
        "features_valid, features_test, target_valid, target_test = train_test_split(features_validtest, target_validtest,\n",
        "                                                    train_size=0.5, random_state=12345, stratify=target_validtest)"
      ]
    },
    {
      "cell_type": "code",
      "execution_count": null,
      "metadata": {
        "id": "XpI8-7FLzXEZ",
        "outputId": "53241a7f-792d-4f1d-b8a2-e4b0053d2cd5"
      },
      "outputs": [
        {
          "data": {
            "text/plain": [
              "(2000, 11)"
            ]
          },
          "metadata": {},
          "output_type": "display_data"
        },
        {
          "data": {
            "text/plain": [
              "(2000,)"
            ]
          },
          "metadata": {},
          "output_type": "display_data"
        },
        {
          "data": {
            "text/plain": [
              "(2000, 11)"
            ]
          },
          "metadata": {},
          "output_type": "display_data"
        },
        {
          "data": {
            "text/plain": [
              "(2000,)"
            ]
          },
          "metadata": {},
          "output_type": "display_data"
        }
      ],
      "source": [
        "display(features_valid.shape, target_valid.shape, features_test.shape, target_test.shape)"
      ]
    },
    {
      "cell_type": "markdown",
      "metadata": {
        "id": "0p_A3lzczXEa"
      },
      "source": [
        "###### Масштабируем признаки методом стандартизации"
      ]
    },
    {
      "cell_type": "code",
      "execution_count": null,
      "metadata": {
        "id": "y6r1Pz7TzXEa"
      },
      "outputs": [],
      "source": [
        "numeric = ['CreditScore', 'Age', 'Tenure', 'Balance', 'NumOfProducts', 'EstimatedSalary'] "
      ]
    },
    {
      "cell_type": "code",
      "execution_count": null,
      "metadata": {
        "id": "QsFIXra1zXEa"
      },
      "outputs": [],
      "source": [
        "scaler = StandardScaler()\n",
        "scaler.fit(features_train[numeric])\n",
        "features_train[numeric] = scaler.transform(features_train[numeric])\n",
        "features_valid[numeric] = scaler.transform(features_valid[numeric])\n",
        "features_test[numeric] = scaler.transform(features_test[numeric])"
      ]
    },
    {
      "cell_type": "markdown",
      "metadata": {
        "id": "3x6ykJUjzXEb"
      },
      "source": [
        "### Вывод:\n",
        "\n",
        "    ознакомились с данными,\n",
        "    удалили столбцы (столбцы RowNumber, CustomerId, Surname)\n",
        "    NaN-значения в столбце Tenure - заменили на 0\n",
        "    категориальные признаки - столбцы Geography и Gender\n",
        "    преобразовали категориальные признаки в численные с помощью техники прямого кодирования One-Hot Encoding,\n",
        "    разбили получившийся датасет на 3 выборки - обучающую, валидационную и тестовую,\n",
        "    масштабировали признаки методом стандартизации."
      ]
    },
    {
      "cell_type": "markdown",
      "metadata": {
        "id": "DvSZ4J6DzXEb"
      },
      "source": [
        "## Исследование задачи"
      ]
    },
    {
      "cell_type": "markdown",
      "metadata": {
        "id": "yO4UnQRGzXEb"
      },
      "source": [
        "Обучим модели и измерим accuracy."
      ]
    },
    {
      "cell_type": "code",
      "execution_count": null,
      "metadata": {
        "id": "HzW5zBbLzXEc",
        "outputId": "7d0cb0b5-3924-4c3e-e41f-d42e440701a4"
      },
      "outputs": [
        {
          "data": {
            "text/plain": [
              "0.811"
            ]
          },
          "execution_count": 18,
          "metadata": {},
          "output_type": "execute_result"
        }
      ],
      "source": [
        "model = LogisticRegression(random_state=12345,solver = 'liblinear')\n",
        "model.fit(features_train, target_train)\n",
        "predicted_valid_lr = pd.Series(model.predict(features_valid))\n",
        "model.score(features_valid, target_valid)"
      ]
    },
    {
      "cell_type": "code",
      "execution_count": null,
      "metadata": {
        "id": "hnJrG7ktzXEc",
        "outputId": "81982c3e-930c-45b5-e856-1db6e5b396c5"
      },
      "outputs": [
        {
          "data": {
            "text/plain": [
              "0.8635"
            ]
          },
          "execution_count": 19,
          "metadata": {},
          "output_type": "execute_result"
        }
      ],
      "source": [
        "model = RandomForestClassifier(n_estimators=100, max_depth=8, random_state=666)\n",
        "model.fit(features_train, target_train)\n",
        "predicted_valid_forest = pd.Series(model.predict(features_valid))\n",
        "model.score(features_valid, target_valid)"
      ]
    },
    {
      "cell_type": "markdown",
      "metadata": {
        "id": "Vz7fD6XEzXEd"
      },
      "source": [
        "Доля правильных ответов — 86%."
      ]
    },
    {
      "cell_type": "markdown",
      "metadata": {
        "id": "dJ_3dSXIzXEd"
      },
      "source": [
        "Чтобы оценить адекватность модели, проверим, как часто в целевом признаке Exited встречается класс «1» или «0»."
      ]
    },
    {
      "cell_type": "code",
      "execution_count": null,
      "metadata": {
        "id": "VB8Hbq0QzXEd",
        "outputId": "ff3d788c-25f2-4698-9c76-07ed04fe46fa"
      },
      "outputs": [
        {
          "name": "stdout",
          "output_type": "stream",
          "text": [
            "0    0.7963\n",
            "1    0.2037\n",
            "Name: Exited, dtype: float64\n"
          ]
        },
        {
          "data": {
            "text/plain": [
              "<AxesSubplot:>"
            ]
          },
          "execution_count": 20,
          "metadata": {},
          "output_type": "execute_result"
        },
        {
          "data": {
            "image/png": "[encoded data removed]",
            "text/plain": [
              "<Figure size 432x288 with 1 Axes>"
            ]
          },
          "metadata": {
            "needs_background": "light"
          },
          "output_type": "display_data"
        }
      ],
      "source": [
        "class_frequency = data['Exited'].value_counts(normalize=True)\n",
        "print(class_frequency)\n",
        "class_frequency.plot(kind='bar')"
      ]
    },
    {
      "cell_type": "markdown",
      "metadata": {
        "id": "4AvadmbtzXEd"
      },
      "source": [
        "Классы несбалансированы. Клиенты уходят в 20% процентах случаев, т.е. положительный класс меньше отрицательного в 4 раза."
      ]
    },
    {
      "cell_type": "markdown",
      "metadata": {
        "id": "-29qXJFkzXEe"
      },
      "source": [
        "Проанализируем частоты классов в результатах предсказаний обеих моделей"
      ]
    },
    {
      "cell_type": "code",
      "execution_count": null,
      "metadata": {
        "id": "Mse0RuctzXEe",
        "outputId": "95850f44-dcfd-44df-867f-795d033b458d"
      },
      "outputs": [
        {
          "name": "stdout",
          "output_type": "stream",
          "text": [
            "0    0.931\n",
            "1    0.069\n",
            "dtype: float64\n"
          ]
        },
        {
          "data": {
            "text/plain": [
              "<AxesSubplot:>"
            ]
          },
          "execution_count": 21,
          "metadata": {},
          "output_type": "execute_result"
        },
        {
          "data": {
            "image/png": "[encoded data removed]",
            "text/plain": [
              "<Figure size 432x288 with 1 Axes>"
            ]
          },
          "metadata": {
            "needs_background": "light"
          },
          "output_type": "display_data"
        }
      ],
      "source": [
        "class_frequency_lr = predicted_valid_lr.value_counts(normalize=True)\n",
        "print(class_frequency_lr)\n",
        "class_frequency_lr.plot(kind='bar')"
      ]
    },
    {
      "cell_type": "code",
      "execution_count": null,
      "metadata": {
        "id": "auJrt63FzXEe",
        "outputId": "bf578634-066d-427f-f1cd-0bbc3856a5ad"
      },
      "outputs": [
        {
          "name": "stdout",
          "output_type": "stream",
          "text": [
            "0    0.8845\n",
            "1    0.1155\n",
            "dtype: float64\n"
          ]
        },
        {
          "data": {
            "text/plain": [
              "<AxesSubplot:>"
            ]
          },
          "execution_count": 22,
          "metadata": {},
          "output_type": "execute_result"
        },
        {
          "data": {
            "image/png": "[encoded data removed]",
            "text/plain": [
              "<Figure size 432x288 with 1 Axes>"
            ]
          },
          "metadata": {
            "needs_background": "light"
          },
          "output_type": "display_data"
        }
      ],
      "source": [
        "class_frequency_forest = predicted_valid_forest.value_counts(normalize=True)\n",
        "print(class_frequency_forest)\n",
        "class_frequency_forest.plot(kind='bar')"
      ]
    },
    {
      "cell_type": "markdown",
      "metadata": {
        "id": "01fo_i2rzXEe"
      },
      "source": [
        "Сравним их работу с константной моделью."
      ]
    },
    {
      "cell_type": "code",
      "execution_count": null,
      "metadata": {
        "id": "Wxg_OdKazXEf",
        "outputId": "a476db3d-d04f-42af-bc6c-edb234d8ab46"
      },
      "outputs": [
        {
          "data": {
            "text/plain": [
              "0.7963"
            ]
          },
          "execution_count": 23,
          "metadata": {},
          "output_type": "execute_result"
        }
      ],
      "source": [
        "target_pred_constant = pd.Series(0, target.index)\n",
        "accuracy_score(target, target_pred_constant)"
      ]
    },
    {
      "cell_type": "markdown",
      "metadata": {
        "id": "hdbHrSUfzXEf"
      },
      "source": [
        "Построенные модели предсказывают уход клиентов лучше, чем константная модель, они адекватны."
      ]
    },
    {
      "cell_type": "markdown",
      "metadata": {
        "id": "QvIkFIxgzXEf"
      },
      "source": [
        "Применим F1-меру, чтобы оценить качество прогноза положительного класса у моделей."
      ]
    },
    {
      "cell_type": "code",
      "execution_count": null,
      "metadata": {
        "id": "I-mx_5DNzXEf",
        "outputId": "6a8a6fe8-ff8e-47f6-9628-8ae8a341fada"
      },
      "outputs": [
        {
          "data": {
            "text/plain": [
              "0.3076923076923077"
            ]
          },
          "execution_count": 24,
          "metadata": {},
          "output_type": "execute_result"
        }
      ],
      "source": [
        "f1_score(target_valid, predicted_valid_lr)"
      ]
    },
    {
      "cell_type": "code",
      "execution_count": null,
      "metadata": {
        "id": "dn82T2ZZzXEg",
        "outputId": "20e7801a-9402-4d07-f201-5dd4c2616578"
      },
      "outputs": [
        {
          "data": {
            "text/plain": [
              "0.5727699530516431"
            ]
          },
          "execution_count": 25,
          "metadata": {},
          "output_type": "execute_result"
        }
      ],
      "source": [
        "f1_score(target_valid, predicted_valid_forest)"
      ]
    },
    {
      "cell_type": "markdown",
      "metadata": {
        "id": "5TnALdLlzXEg"
      },
      "source": [
        "### Вывод:\n",
        "\n",
        "    исследовали баланс классов - классы несбалансированы,\n",
        "    выяснили, что клиенты уходят в 20% процентах случаев, т.е. положительный класс меньше отрицательного в 4 раза,\n",
        "    изучили модели без учёта дисбаланса\n",
        "    выяснили, что результат работы модели случайного леса лучше."
      ]
    },
    {
      "cell_type": "markdown",
      "metadata": {
        "id": "Kbptw_PUzXEg"
      },
      "source": [
        "## Борьба с дисбалансом"
      ]
    },
    {
      "cell_type": "markdown",
      "metadata": {
        "id": "clqMXVDmzXEg"
      },
      "source": [
        "##### 1.Сбалансируем классы с помощью аргумента class_weight."
      ]
    },
    {
      "cell_type": "code",
      "execution_count": null,
      "metadata": {
        "id": "6otZar0bzXEg",
        "outputId": "976bea31-1a88-472f-b306-586da053d80c"
      },
      "outputs": [
        {
          "data": {
            "text/plain": [
              "0.5302897278314311"
            ]
          },
          "execution_count": 26,
          "metadata": {},
          "output_type": "execute_result"
        }
      ],
      "source": [
        "model = LogisticRegression(random_state=666, solver = 'liblinear', class_weight='balanced')\n",
        "model.fit(features_train, target_train)\n",
        "predicted_valid_lr = pd.Series(model.predict(features_valid))\n",
        "f1_score(target_valid, predicted_valid_lr)"
      ]
    },
    {
      "cell_type": "code",
      "execution_count": null,
      "metadata": {
        "id": "DziSYkUbzXEh",
        "outputId": "34e6c7b0-1eeb-4109-deae-dfda56734b75"
      },
      "outputs": [
        {
          "data": {
            "text/plain": [
              "0.6462212486308871"
            ]
          },
          "execution_count": 27,
          "metadata": {},
          "output_type": "execute_result"
        }
      ],
      "source": [
        "model = RandomForestClassifier(n_estimators=100, max_depth=8, random_state=666, class_weight='balanced')\n",
        "model.fit(features_train, target_train)\n",
        "predicted_valid_forest = pd.Series(model.predict(features_valid))\n",
        "f1_score(target_valid, predicted_valid_forest)"
      ]
    },
    {
      "cell_type": "markdown",
      "metadata": {
        "id": "MbsEJWxzzXEh"
      },
      "source": [
        "Мера F1 выглядит намного лучше, у модели LogisticRegression она увеличилась почти в 2 раза."
      ]
    },
    {
      "cell_type": "markdown",
      "metadata": {
        "id": "EDvVo8xJzXEh"
      },
      "source": [
        "##### 2.Уменьшение выборки"
      ]
    },
    {
      "cell_type": "markdown",
      "metadata": {
        "id": "FVL0B0O3zXEi"
      },
      "source": [
        "Сделаем объекты частого класса (0) не такими частыми. Для этого напишем функцию downsample."
      ]
    },
    {
      "cell_type": "code",
      "execution_count": null,
      "metadata": {
        "id": "LCtVyy_CzXEi"
      },
      "outputs": [],
      "source": [
        "def downsample(features, target, fraction):\n",
        "    features_zeros = features[target == 0]\n",
        "    features_ones = features[target == 1]\n",
        "    target_zeros = target[target == 0]\n",
        "    target_ones = target[target == 1]\n",
        "\n",
        "    features_downsampled = pd.concat(\n",
        "        [features_zeros.sample(frac=fraction, random_state=666)] + [features_ones])\n",
        "    target_downsampled = pd.concat(\n",
        "        [target_zeros.sample(frac=fraction, random_state=666)] + [target_ones])\n",
        "    \n",
        "    features_downsampled, target_downsampled = shuffle(\n",
        "        features_downsampled, target_downsampled, random_state=666)\n",
        "    \n",
        "    return features_downsampled, target_downsampled"
      ]
    },
    {
      "cell_type": "code",
      "execution_count": null,
      "metadata": {
        "id": "XCoD6sdEzXEi"
      },
      "outputs": [],
      "source": [
        "features_downsampled, target_downsampled = downsample(features_train, target_train, 0.1)"
      ]
    },
    {
      "cell_type": "code",
      "execution_count": null,
      "metadata": {
        "id": "O5oxGod-zXEj",
        "outputId": "c7000f4b-3efb-49ce-eb77-ba313c4d16e3"
      },
      "outputs": [
        {
          "data": {
            "text/plain": [
              "0.4124597207303974"
            ]
          },
          "execution_count": 30,
          "metadata": {},
          "output_type": "execute_result"
        }
      ],
      "source": [
        "model = LogisticRegression(random_state=666, solver = 'liblinear')\n",
        "model.fit(features_downsampled, target_downsampled)\n",
        "predicted_valid_downsampled_lr = model.predict(features_valid)\n",
        "f1_score(target_valid, predicted_valid_downsampled_lr)"
      ]
    },
    {
      "cell_type": "code",
      "execution_count": null,
      "metadata": {
        "id": "rck8A0eUzXEj",
        "outputId": "dee8613c-cac0-49aa-98ee-250b50b8b531"
      },
      "outputs": [
        {
          "data": {
            "text/plain": [
              "0.46650426309378806"
            ]
          },
          "execution_count": 31,
          "metadata": {},
          "output_type": "execute_result"
        }
      ],
      "source": [
        "model = RandomForestClassifier(n_estimators=100, max_depth=8, random_state=666)\n",
        "model.fit(features_downsampled, target_downsampled)\n",
        "predicted_valid_downsampled_forest = model.predict(features_valid)\n",
        "f1_score(target_valid, predicted_valid_downsampled_forest)"
      ]
    },
    {
      "cell_type": "markdown",
      "metadata": {
        "id": "E-UA96y8zXEj"
      },
      "source": [
        "Уменьшение выборки дает результаты хуже. Попробуем изменить порог."
      ]
    },
    {
      "cell_type": "markdown",
      "metadata": {
        "id": "gy41ZjwJzXEj"
      },
      "source": [
        "##### 3. Изменение порога"
      ]
    },
    {
      "cell_type": "code",
      "execution_count": null,
      "metadata": {
        "id": "Q13UO_8ozXEk"
      },
      "outputs": [],
      "source": [
        "model = LogisticRegression(random_state=666, solver='liblinear')\n",
        "model.fit(features_train, target_train)\n",
        "probabilities_valid_lr = model.predict_proba(features_valid)\n",
        "probabilities_one_valid_lr = probabilities_valid_lr[:, 1]"
      ]
    },
    {
      "cell_type": "code",
      "execution_count": null,
      "metadata": {
        "id": "W_Ap0bqbzXEk"
      },
      "outputs": [],
      "source": [
        "#напишем функцию для автоматизации подсчета F1 при разном значении порога\n",
        "def count_threshold (probabilities_one_valid):\n",
        "    for threshold in np.arange(0, 0.6, 0.05):\n",
        "        predicted_valid = probabilities_one_valid > threshold\n",
        "        f1 = f1_score(target_valid, predicted_valid)\n",
        "        print(\"Порог = {:.2f} | F1 = {:.3f}\".format(\n",
        "        threshold, f1))"
      ]
    },
    {
      "cell_type": "code",
      "execution_count": null,
      "metadata": {
        "id": "eFd5X-7fzXEk",
        "outputId": "82ccbab9-3f9f-4878-99c2-d2f93bda195c"
      },
      "outputs": [
        {
          "name": "stdout",
          "output_type": "stream",
          "text": [
            "Порог = 0.00 | F1 = 0.339\n",
            "Порог = 0.05 | F1 = 0.368\n",
            "Порог = 0.10 | F1 = 0.427\n",
            "Порог = 0.15 | F1 = 0.476\n",
            "Порог = 0.20 | F1 = 0.506\n",
            "Порог = 0.25 | F1 = 0.519\n",
            "Порог = 0.30 | F1 = 0.500\n",
            "Порог = 0.35 | F1 = 0.461\n",
            "Порог = 0.40 | F1 = 0.429\n",
            "Порог = 0.45 | F1 = 0.346\n",
            "Порог = 0.50 | F1 = 0.308\n",
            "Порог = 0.55 | F1 = 0.277\n"
          ]
        }
      ],
      "source": [
        "count_threshold(probabilities_one_valid_lr)"
      ]
    },
    {
      "cell_type": "code",
      "execution_count": null,
      "metadata": {
        "id": "VQkq1YQezXEl"
      },
      "outputs": [],
      "source": [
        "model = RandomForestClassifier(n_estimators=100, max_depth=8, random_state=666)\n",
        "model.fit(features_train, target_train)\n",
        "probabilities_valid_forest = model.predict_proba(features_valid)\n",
        "probabilities_one_valid_forest = probabilities_valid_forest[:, 1]"
      ]
    },
    {
      "cell_type": "code",
      "execution_count": null,
      "metadata": {
        "id": "a5ALqNMazXEl",
        "outputId": "bb189569-2093-4f81-b315-769830de8765"
      },
      "outputs": [
        {
          "name": "stdout",
          "output_type": "stream",
          "text": [
            "Порог = 0.00 | F1 = 0.339\n",
            "Порог = 0.05 | F1 = 0.380\n",
            "Порог = 0.10 | F1 = 0.462\n",
            "Порог = 0.15 | F1 = 0.570\n",
            "Порог = 0.20 | F1 = 0.621\n",
            "Порог = 0.25 | F1 = 0.630\n",
            "Порог = 0.30 | F1 = 0.637\n",
            "Порог = 0.35 | F1 = 0.639\n",
            "Порог = 0.40 | F1 = 0.622\n",
            "Порог = 0.45 | F1 = 0.607\n",
            "Порог = 0.50 | F1 = 0.573\n",
            "Порог = 0.55 | F1 = 0.550\n"
          ]
        }
      ],
      "source": [
        "count_threshold(probabilities_one_valid_forest)"
      ]
    },
    {
      "cell_type": "markdown",
      "metadata": {
        "id": "ZGigFWsuzXEl"
      },
      "source": [
        "Изменение порога показывает результаты лучше, чем уменьшение выборки."
      ]
    },
    {
      "cell_type": "markdown",
      "metadata": {
        "id": "qTWMQfonzXEl"
      },
      "source": [
        "Для модели RandomForestClassifier найдем значения n_estimators и max_depth, при которых она будет показывать лучшие результаты."
      ]
    },
    {
      "cell_type": "code",
      "execution_count": null,
      "metadata": {
        "id": "2eYwFbN0zXEn",
        "outputId": "9d30ca0d-7fa2-4aaa-ad8f-981c8cdd9cf8"
      },
      "outputs": [
        {
          "name": "stdout",
          "output_type": "stream",
          "text": [
            "F1 при max_depth = 5\n",
            "Обучающая выборка: 0.545052515201769\n",
            "Валидационная выборка: 0.560126582278481\n",
            "\n",
            "F1 при max_depth = 6\n",
            "Обучающая выборка: 0.5477131564088086\n",
            "Валидационная выборка: 0.5270049099836335\n",
            "\n",
            "F1 при max_depth = 7\n",
            "Обучающая выборка: 0.5846488840500816\n",
            "Валидационная выборка: 0.5700934579439253\n",
            "\n",
            "F1 при max_depth = 8\n",
            "Обучающая выборка: 0.6211312700106724\n",
            "Валидационная выборка: 0.5829457364341084\n",
            "\n",
            "F1 при max_depth = 9\n",
            "Обучающая выборка: 0.6589595375722543\n",
            "Валидационная выборка: 0.6024464831804281\n",
            "\n",
            "F1 при max_depth = 10\n",
            "Обучающая выборка: 0.7039507439712673\n",
            "Валидационная выборка: 0.6024096385542168\n",
            "\n"
          ]
        }
      ],
      "source": [
        "for depth in range(5, 11, 1):\n",
        "    model = RandomForestClassifier(random_state=12345, n_estimators=20, max_depth=depth)\n",
        "    model.fit(features_train, target_train)\n",
        "    predictions_train_def = model.predict(features_train)\n",
        "    predictions_valid_def = model.predict(features_valid)\n",
        "    print(\"F1 при max_depth =\", depth)\n",
        "    print(\"Обучающая выборка:\", f1_score(target_train, predictions_train_def))\n",
        "    print(\"Валидационная выборка:\", f1_score(target_valid, predictions_valid_def))\n",
        "    print()"
      ]
    },
    {
      "cell_type": "code",
      "execution_count": null,
      "metadata": {
        "id": "_xE1oXLrzXEn",
        "outputId": "fe9d221f-b24f-48d1-aacf-0330ef1bd2be"
      },
      "outputs": [
        {
          "name": "stdout",
          "output_type": "stream",
          "text": [
            "F1 при n_estimators = 40\n",
            "Обучающая выборка: 0.7000000000000002\n",
            "Валидационная выборка: 0.598159509202454\n",
            "\n",
            "F1 при n_estimators = 60\n",
            "Обучающая выборка: 0.7018984094407389\n",
            "Валидационная выборка: 0.5828220858895705\n",
            "\n",
            "F1 при n_estimators = 80\n",
            "Обучающая выборка: 0.697530864197531\n",
            "Валидационная выборка: 0.5898617511520737\n",
            "\n",
            "F1 при n_estimators = 100\n",
            "Обучающая выборка: 0.6972193614830072\n",
            "Валидационная выборка: 0.5898617511520737\n",
            "\n",
            "F1 при n_estimators = 120\n",
            "Обучающая выборка: 0.6991786447638604\n",
            "Валидационная выборка: 0.5815384615384616\n",
            "\n"
          ]
        }
      ],
      "source": [
        "for estim in range(40, 140, 20):\n",
        "    model = RandomForestClassifier(random_state=12345, n_estimators=estim, max_depth = 10)\n",
        "    model.fit(features_train, target_train)\n",
        "    predictions_train_def2 = model.predict(features_train)\n",
        "    predictions_valid_def2 = model.predict(features_valid)\n",
        "    print(\"F1 при n_estimators =\", estim)\n",
        "    print(\"Обучающая выборка:\", f1_score(target_train, predictions_train_def2))\n",
        "    print(\"Валидационная выборка:\", f1_score(target_valid, predictions_valid_def2))\n",
        "    print()"
      ]
    },
    {
      "cell_type": "markdown",
      "metadata": {
        "id": "VcBIWEvXzXEo"
      },
      "source": [
        "### Вывод:\n",
        "\n",
        "    лучшие результаты показал способы борьбы с дисбалансом class_weight, применим его\n",
        "    работать дальше будем с моделью RandomForestClassifier со значением n_estimators = 40 и max_depth = 9"
      ]
    },
    {
      "cell_type": "markdown",
      "metadata": {
        "id": "e2ZDdMWfzXEo"
      },
      "source": [
        "## Тестирование модели"
      ]
    },
    {
      "cell_type": "markdown",
      "metadata": {
        "id": "Ic-3y2HlzXEp"
      },
      "source": [
        "Обучим финальную модель и проверим её на тестовой выборке."
      ]
    },
    {
      "cell_type": "code",
      "execution_count": null,
      "metadata": {
        "id": "bRWsU7QVzXEp"
      },
      "outputs": [],
      "source": [
        "#model_final = RandomForestClassifier(random_state=12345, n_estimators=60, max_depth = 10, class_weight='balanced')\n",
        "#model_final.fit(features_train, target_train)\n",
        "#predicted_test = model_final.predict(features_test)\n",
        "#f1_score(target_test, predicted_test)"
      ]
    },
    {
      "cell_type": "markdown",
      "metadata": {
        "id": "ozshGoVAzXEp"
      },
      "source": [
        "Нужное значение F1-меры достигнуто."
      ]
    },
    {
      "cell_type": "code",
      "execution_count": null,
      "metadata": {
        "id": "zLSAAHQvzXEq",
        "outputId": "0470fc9c-8b5d-4498-e0fa-8da3fe3a2e57"
      },
      "outputs": [
        {
          "data": {
            "text/plain": [
              "0.6037296037296038"
            ]
          },
          "execution_count": 42,
          "metadata": {},
          "output_type": "execute_result"
        }
      ],
      "source": [
        "model_final = RandomForestClassifier(random_state=12345, n_estimators=40, max_depth = 9, class_weight='balanced')\n",
        "model_final.fit(features_train, target_train)\n",
        "predicted_test = model_final.predict(features_test)\n",
        "f1_score(target_test, predicted_test)"
      ]
    },
    {
      "cell_type": "markdown",
      "metadata": {
        "id": "kZp-hdkQzXEq"
      },
      "source": [
        "Посчитаем площадь под ROC-кривой для модели (AUC-ROC), чтобы узнать, насколько сильно ее точность отличается от случайной"
      ]
    },
    {
      "cell_type": "code",
      "execution_count": null,
      "metadata": {
        "id": "dTQPAhBLzXEr",
        "outputId": "b7d49a4a-b4dc-4ba3-bb3d-abbff547642e"
      },
      "outputs": [
        {
          "data": {
            "text/plain": [
              "0.8677532885013302"
            ]
          },
          "execution_count": 44,
          "metadata": {},
          "output_type": "execute_result"
        }
      ],
      "source": [
        "probabilities_valid_final = model_final.predict_proba(features_valid)\n",
        "probabilities_one_valid_final = probabilities_valid_final[:, 1]\n",
        "roc_auc_score(target_valid, probabilities_one_valid_final)"
      ]
    },
    {
      "cell_type": "markdown",
      "metadata": {
        "id": "z0IaoJ9SzXEs"
      },
      "source": [
        "### Общий вывод\n",
        "\n",
        "1. Ознакомились с данными и подготовили их к исследованию (преобразовали категориальные признаки в численные с помощью техники прямого кодирования One-Hot Encoding,разбили получившийся датасет на 3 выборки - обучающую, валидационную и тестовую, масштабировали признаки методом стандартизации).\n",
        "2. Исследовали баланс классов - они оказались несбалансированы, изучили модели без учёта дисбаланса, выяснили, что результат работы модели случайного леса лучше.\n",
        "3. Применили 3 способа борбы с дисбалансом - аргумент class_weight, уменьшение выборки и изменение порога. Лучшие результаты показал способы борьбы с дисбалансом class_weight. Выявили лучшие значения n_estimators и max_depth для модели случайного леса.\n",
        "4. Обучили финальную модель и проверили ее на тестовой выборке. Достигли значения F1 = 0.60. Исследовали метрику AUC-ROC - модель далека от случайной."
      ]
    }
  ],
  "metadata": {
    "ExecuteTimeLog": [
      {
        "duration": 1285,
        "start_time": "2022-03-14T16:23:33.366Z"
      },
      {
        "duration": 1505,
        "start_time": "2022-03-14T16:23:33.148Z"
      },
      {
        "duration": 1505,
        "start_time": "2022-03-14T16:23:33.150Z"
      },
      {
        "duration": 739,
        "start_time": "2022-03-14T16:23:50.383Z"
      },
      {
        "duration": 6,
        "start_time": "2022-03-14T16:24:12.556Z"
      },
      {
        "duration": 358,
        "start_time": "2022-03-14T16:24:12.565Z"
      },
      {
        "duration": 1515,
        "start_time": "2022-03-14T16:24:11.411Z"
      },
      {
        "duration": 39,
        "start_time": "2022-03-14T16:24:41.792Z"
      },
      {
        "duration": 7,
        "start_time": "2022-03-14T16:24:44.972Z"
      },
      {
        "duration": 32,
        "start_time": "2022-03-14T16:24:44.983Z"
      },
      {
        "duration": 22,
        "start_time": "2022-03-14T16:24:45.018Z"
      },
      {
        "duration": 12,
        "start_time": "2022-03-14T16:24:58.102Z"
      },
      {
        "duration": 483,
        "start_time": "2022-03-15T16:41:18.243Z"
      },
      {
        "duration": 1534,
        "start_time": "2022-03-15T16:41:21.669Z"
      },
      {
        "duration": 35,
        "start_time": "2022-03-15T16:41:23.206Z"
      },
      {
        "duration": 12,
        "start_time": "2022-03-15T16:41:23.244Z"
      },
      {
        "duration": 386,
        "start_time": "2022-03-15T16:41:23.259Z"
      },
      {
        "duration": 40,
        "start_time": "2022-03-15T16:41:53.798Z"
      },
      {
        "duration": 399,
        "start_time": "2022-03-15T16:42:00.458Z"
      },
      {
        "duration": 7,
        "start_time": "2022-03-15T16:42:08.496Z"
      },
      {
        "duration": 36,
        "start_time": "2022-03-15T16:42:08.505Z"
      },
      {
        "duration": 11,
        "start_time": "2022-03-15T16:42:08.544Z"
      },
      {
        "duration": 52,
        "start_time": "2022-03-15T16:42:08.557Z"
      },
      {
        "duration": 297,
        "start_time": "2022-03-15T16:42:18.588Z"
      },
      {
        "duration": 7,
        "start_time": "2022-03-15T16:42:22.028Z"
      },
      {
        "duration": 40,
        "start_time": "2022-03-15T16:42:22.037Z"
      },
      {
        "duration": 21,
        "start_time": "2022-03-15T16:42:22.080Z"
      },
      {
        "duration": 21,
        "start_time": "2022-03-15T16:42:22.103Z"
      },
      {
        "duration": 7,
        "start_time": "2022-03-15T16:46:13.618Z"
      },
      {
        "duration": 15,
        "start_time": "2022-03-15T16:46:25.870Z"
      },
      {
        "duration": 15,
        "start_time": "2022-03-15T16:49:21.118Z"
      },
      {
        "duration": 1430,
        "start_time": "2022-03-16T16:16:23.695Z"
      },
      {
        "duration": 32,
        "start_time": "2022-03-16T16:16:25.128Z"
      },
      {
        "duration": 23,
        "start_time": "2022-03-16T16:16:25.163Z"
      },
      {
        "duration": 28,
        "start_time": "2022-03-16T16:16:25.190Z"
      },
      {
        "duration": 13,
        "start_time": "2022-03-16T16:16:25.221Z"
      },
      {
        "duration": 38,
        "start_time": "2022-03-16T16:16:25.237Z"
      },
      {
        "duration": 31,
        "start_time": "2022-03-16T16:16:25.277Z"
      },
      {
        "duration": 5,
        "start_time": "2022-03-16T16:16:25.311Z"
      },
      {
        "duration": 7,
        "start_time": "2022-03-16T16:20:44.572Z"
      },
      {
        "duration": 39,
        "start_time": "2022-03-16T16:20:44.582Z"
      },
      {
        "duration": 12,
        "start_time": "2022-03-16T16:20:44.624Z"
      },
      {
        "duration": 16,
        "start_time": "2022-03-16T16:20:44.638Z"
      },
      {
        "duration": 27,
        "start_time": "2022-03-16T16:20:44.657Z"
      },
      {
        "duration": 5,
        "start_time": "2022-03-16T16:20:44.687Z"
      },
      {
        "duration": 15,
        "start_time": "2022-03-16T16:20:44.696Z"
      },
      {
        "duration": 19,
        "start_time": "2022-03-16T16:20:44.713Z"
      },
      {
        "duration": 350,
        "start_time": "2022-03-16T16:20:44.734Z"
      },
      {
        "duration": 5,
        "start_time": "2022-03-16T16:20:45.087Z"
      },
      {
        "duration": 7,
        "start_time": "2022-03-16T16:21:59.321Z"
      },
      {
        "duration": 38,
        "start_time": "2022-03-16T16:21:59.331Z"
      },
      {
        "duration": 15,
        "start_time": "2022-03-16T16:21:59.372Z"
      },
      {
        "duration": 12,
        "start_time": "2022-03-16T16:21:59.390Z"
      },
      {
        "duration": 32,
        "start_time": "2022-03-16T16:21:59.405Z"
      },
      {
        "duration": 20,
        "start_time": "2022-03-16T16:21:59.439Z"
      },
      {
        "duration": 21,
        "start_time": "2022-03-16T16:21:59.462Z"
      },
      {
        "duration": 33,
        "start_time": "2022-03-16T16:21:59.486Z"
      },
      {
        "duration": 49,
        "start_time": "2022-03-16T16:21:59.522Z"
      },
      {
        "duration": 5,
        "start_time": "2022-03-16T16:21:59.574Z"
      },
      {
        "duration": 6,
        "start_time": "2022-03-16T16:23:51.970Z"
      },
      {
        "duration": 35,
        "start_time": "2022-03-16T16:23:51.979Z"
      },
      {
        "duration": 12,
        "start_time": "2022-03-16T16:23:52.016Z"
      },
      {
        "duration": 5,
        "start_time": "2022-03-16T16:23:52.031Z"
      },
      {
        "duration": 41,
        "start_time": "2022-03-16T16:23:52.038Z"
      },
      {
        "duration": 5,
        "start_time": "2022-03-16T16:23:52.081Z"
      },
      {
        "duration": 5,
        "start_time": "2022-03-16T16:23:52.088Z"
      },
      {
        "duration": 6,
        "start_time": "2022-03-16T16:23:52.096Z"
      },
      {
        "duration": 37,
        "start_time": "2022-03-16T16:23:52.104Z"
      },
      {
        "duration": 5,
        "start_time": "2022-03-16T16:23:52.173Z"
      },
      {
        "duration": 6,
        "start_time": "2022-03-16T16:25:28.168Z"
      },
      {
        "duration": 32,
        "start_time": "2022-03-16T16:25:28.177Z"
      },
      {
        "duration": 11,
        "start_time": "2022-03-16T16:25:28.212Z"
      },
      {
        "duration": 6,
        "start_time": "2022-03-16T16:25:28.226Z"
      },
      {
        "duration": 44,
        "start_time": "2022-03-16T16:25:28.234Z"
      },
      {
        "duration": 6,
        "start_time": "2022-03-16T16:25:28.281Z"
      },
      {
        "duration": 36,
        "start_time": "2022-03-16T16:25:28.290Z"
      },
      {
        "duration": 5,
        "start_time": "2022-03-16T16:25:28.330Z"
      },
      {
        "duration": 8,
        "start_time": "2022-03-16T16:25:28.372Z"
      },
      {
        "duration": 16,
        "start_time": "2022-03-16T16:25:28.382Z"
      },
      {
        "duration": 10,
        "start_time": "2022-03-16T16:25:28.401Z"
      },
      {
        "duration": 8,
        "start_time": "2022-03-16T16:28:31.519Z"
      },
      {
        "duration": 674,
        "start_time": "2022-03-16T16:28:31.530Z"
      },
      {
        "duration": 22,
        "start_time": "2022-03-16T16:28:32.207Z"
      },
      {
        "duration": 29,
        "start_time": "2022-03-16T16:28:32.232Z"
      },
      {
        "duration": 35,
        "start_time": "2022-03-16T16:28:32.263Z"
      },
      {
        "duration": 24,
        "start_time": "2022-03-16T16:28:32.300Z"
      },
      {
        "duration": 47,
        "start_time": "2022-03-16T16:28:32.326Z"
      },
      {
        "duration": 6,
        "start_time": "2022-03-16T16:28:32.376Z"
      },
      {
        "duration": 30,
        "start_time": "2022-03-16T16:28:32.385Z"
      },
      {
        "duration": 24,
        "start_time": "2022-03-16T16:28:32.418Z"
      },
      {
        "duration": 15,
        "start_time": "2022-03-16T16:28:32.444Z"
      },
      {
        "duration": 29,
        "start_time": "2022-03-16T16:28:32.461Z"
      },
      {
        "duration": 7,
        "start_time": "2022-03-16T16:28:32.493Z"
      },
      {
        "duration": 43,
        "start_time": "2022-03-16T16:28:32.503Z"
      },
      {
        "duration": 24,
        "start_time": "2022-03-16T16:28:32.549Z"
      },
      {
        "duration": 11,
        "start_time": "2022-03-16T16:29:23.639Z"
      },
      {
        "duration": 10,
        "start_time": "2022-03-16T16:30:02.560Z"
      },
      {
        "duration": 2113,
        "start_time": "2022-03-17T12:40:45.360Z"
      },
      {
        "duration": 32,
        "start_time": "2022-03-17T12:40:47.475Z"
      },
      {
        "duration": 15,
        "start_time": "2022-03-17T12:40:47.509Z"
      },
      {
        "duration": 4,
        "start_time": "2022-03-17T12:40:47.526Z"
      },
      {
        "duration": 15,
        "start_time": "2022-03-17T12:40:47.531Z"
      },
      {
        "duration": 5,
        "start_time": "2022-03-17T12:40:47.548Z"
      },
      {
        "duration": 49,
        "start_time": "2022-03-17T12:40:47.554Z"
      },
      {
        "duration": 4,
        "start_time": "2022-03-17T12:40:47.605Z"
      },
      {
        "duration": 8,
        "start_time": "2022-03-17T12:40:47.610Z"
      },
      {
        "duration": 9,
        "start_time": "2022-03-17T12:40:47.626Z"
      },
      {
        "duration": 5,
        "start_time": "2022-03-17T12:40:47.636Z"
      },
      {
        "duration": 8,
        "start_time": "2022-03-17T12:40:47.643Z"
      },
      {
        "duration": 6,
        "start_time": "2022-03-17T12:40:47.653Z"
      },
      {
        "duration": 6,
        "start_time": "2022-03-17T12:40:47.660Z"
      },
      {
        "duration": 39,
        "start_time": "2022-03-17T12:40:47.667Z"
      },
      {
        "duration": 5,
        "start_time": "2022-03-17T12:40:47.708Z"
      },
      {
        "duration": 31,
        "start_time": "2022-03-17T12:40:47.715Z"
      },
      {
        "duration": 149,
        "start_time": "2022-03-17T12:40:47.748Z"
      },
      {
        "duration": 4656,
        "start_time": "2022-03-17T12:40:47.899Z"
      },
      {
        "duration": 3614,
        "start_time": "2022-03-17T12:40:52.557Z"
      },
      {
        "duration": 436,
        "start_time": "2022-03-17T12:40:56.172Z"
      },
      {
        "duration": 3208,
        "start_time": "2022-03-17T12:45:24.636Z"
      },
      {
        "duration": 3599,
        "start_time": "2022-03-17T12:46:52.027Z"
      },
      {
        "duration": 4,
        "start_time": "2022-03-17T13:10:21.876Z"
      },
      {
        "duration": 41,
        "start_time": "2022-03-17T13:10:21.882Z"
      },
      {
        "duration": 11,
        "start_time": "2022-03-17T13:10:21.925Z"
      },
      {
        "duration": 4,
        "start_time": "2022-03-17T13:10:21.939Z"
      },
      {
        "duration": 13,
        "start_time": "2022-03-17T13:10:21.944Z"
      },
      {
        "duration": 3,
        "start_time": "2022-03-17T13:10:21.959Z"
      },
      {
        "duration": 44,
        "start_time": "2022-03-17T13:10:21.963Z"
      },
      {
        "duration": 3,
        "start_time": "2022-03-17T13:10:22.009Z"
      },
      {
        "duration": 9,
        "start_time": "2022-03-17T13:10:22.014Z"
      },
      {
        "duration": 12,
        "start_time": "2022-03-17T13:10:22.024Z"
      },
      {
        "duration": 6,
        "start_time": "2022-03-17T13:10:22.038Z"
      },
      {
        "duration": 12,
        "start_time": "2022-03-17T13:10:22.046Z"
      },
      {
        "duration": 10,
        "start_time": "2022-03-17T13:10:22.059Z"
      },
      {
        "duration": 9,
        "start_time": "2022-03-17T13:10:22.070Z"
      },
      {
        "duration": 7,
        "start_time": "2022-03-17T13:10:22.106Z"
      },
      {
        "duration": 4,
        "start_time": "2022-03-17T13:10:22.115Z"
      },
      {
        "duration": 29,
        "start_time": "2022-03-17T13:10:22.121Z"
      },
      {
        "duration": 164,
        "start_time": "2022-03-17T13:10:22.152Z"
      },
      {
        "duration": 5511,
        "start_time": "2022-03-17T13:10:22.319Z"
      },
      {
        "duration": 4909,
        "start_time": "2022-03-17T13:10:27.833Z"
      },
      {
        "duration": 269,
        "start_time": "2022-03-17T13:10:32.744Z"
      },
      {
        "duration": 86,
        "start_time": "2022-03-17T13:10:33.020Z"
      },
      {
        "duration": 9,
        "start_time": "2022-03-17T13:10:33.108Z"
      },
      {
        "duration": 5,
        "start_time": "2022-03-17T14:13:36.306Z"
      },
      {
        "duration": 4,
        "start_time": "2022-03-17T14:14:04.377Z"
      },
      {
        "duration": 5,
        "start_time": "2022-03-17T14:14:06.954Z"
      },
      {
        "duration": 5,
        "start_time": "2022-03-17T14:46:47.629Z"
      },
      {
        "duration": 37,
        "start_time": "2022-03-17T14:46:47.635Z"
      },
      {
        "duration": 12,
        "start_time": "2022-03-17T14:46:47.674Z"
      },
      {
        "duration": 3,
        "start_time": "2022-03-17T14:46:47.688Z"
      },
      {
        "duration": 14,
        "start_time": "2022-03-17T14:46:47.693Z"
      },
      {
        "duration": 9,
        "start_time": "2022-03-17T14:46:47.708Z"
      },
      {
        "duration": 18,
        "start_time": "2022-03-17T14:46:47.719Z"
      },
      {
        "duration": 3,
        "start_time": "2022-03-17T14:46:47.738Z"
      },
      {
        "duration": 8,
        "start_time": "2022-03-17T14:46:47.745Z"
      },
      {
        "duration": 12,
        "start_time": "2022-03-17T14:46:47.754Z"
      },
      {
        "duration": 7,
        "start_time": "2022-03-17T14:46:47.768Z"
      },
      {
        "duration": 10,
        "start_time": "2022-03-17T14:46:47.776Z"
      },
      {
        "duration": 24,
        "start_time": "2022-03-17T14:46:47.788Z"
      },
      {
        "duration": 7,
        "start_time": "2022-03-17T14:46:47.819Z"
      },
      {
        "duration": 8,
        "start_time": "2022-03-17T14:46:47.827Z"
      },
      {
        "duration": 4,
        "start_time": "2022-03-17T14:46:47.836Z"
      },
      {
        "duration": 28,
        "start_time": "2022-03-17T14:46:47.841Z"
      },
      {
        "duration": 190,
        "start_time": "2022-03-17T14:46:47.871Z"
      },
      {
        "duration": 5357,
        "start_time": "2022-03-17T14:46:48.062Z"
      },
      {
        "duration": 3572,
        "start_time": "2022-03-17T14:46:53.421Z"
      },
      {
        "duration": 307,
        "start_time": "2022-03-17T14:46:57.000Z"
      },
      {
        "duration": 9,
        "start_time": "2022-03-17T14:46:57.309Z"
      },
      {
        "duration": 88,
        "start_time": "2022-03-17T14:46:57.320Z"
      },
      {
        "duration": 14,
        "start_time": "2022-03-17T14:46:57.411Z"
      },
      {
        "duration": 81,
        "start_time": "2022-03-17T14:46:57.427Z"
      },
      {
        "duration": 97,
        "start_time": "2022-03-17T15:02:44.829Z"
      },
      {
        "duration": 8,
        "start_time": "2022-03-17T15:02:58.652Z"
      },
      {
        "duration": 6,
        "start_time": "2022-03-17T15:48:10.212Z"
      },
      {
        "duration": 48,
        "start_time": "2022-03-17T15:48:10.219Z"
      },
      {
        "duration": 12,
        "start_time": "2022-03-17T15:48:10.268Z"
      },
      {
        "duration": 16,
        "start_time": "2022-03-17T15:48:10.282Z"
      },
      {
        "duration": 24,
        "start_time": "2022-03-17T15:48:10.299Z"
      },
      {
        "duration": 18,
        "start_time": "2022-03-17T15:48:10.325Z"
      },
      {
        "duration": 31,
        "start_time": "2022-03-17T15:48:10.344Z"
      },
      {
        "duration": 7,
        "start_time": "2022-03-17T15:48:10.376Z"
      },
      {
        "duration": 16,
        "start_time": "2022-03-17T15:48:10.385Z"
      },
      {
        "duration": 29,
        "start_time": "2022-03-17T15:48:10.404Z"
      },
      {
        "duration": 5,
        "start_time": "2022-03-17T15:48:10.435Z"
      },
      {
        "duration": 19,
        "start_time": "2022-03-17T15:48:10.442Z"
      },
      {
        "duration": 10,
        "start_time": "2022-03-17T15:48:10.463Z"
      },
      {
        "duration": 12,
        "start_time": "2022-03-17T15:48:10.474Z"
      },
      {
        "duration": 24,
        "start_time": "2022-03-17T15:48:10.488Z"
      },
      {
        "duration": 4,
        "start_time": "2022-03-17T15:48:10.514Z"
      },
      {
        "duration": 32,
        "start_time": "2022-03-17T15:48:10.519Z"
      },
      {
        "duration": 137,
        "start_time": "2022-03-17T15:48:10.552Z"
      },
      {
        "duration": 4604,
        "start_time": "2022-03-17T15:48:10.691Z"
      },
      {
        "duration": 3630,
        "start_time": "2022-03-17T15:48:15.301Z"
      },
      {
        "duration": 493,
        "start_time": "2022-03-17T15:48:18.932Z"
      },
      {
        "duration": 89,
        "start_time": "2022-03-17T15:48:19.426Z"
      },
      {
        "duration": 7,
        "start_time": "2022-03-17T15:48:19.521Z"
      },
      {
        "duration": 17,
        "start_time": "2022-03-17T15:48:19.531Z"
      },
      {
        "duration": 10,
        "start_time": "2022-03-17T15:48:19.550Z"
      },
      {
        "duration": 12,
        "start_time": "2022-03-17T15:48:33.698Z"
      },
      {
        "duration": 3,
        "start_time": "2022-03-17T15:48:37.444Z"
      },
      {
        "duration": 42,
        "start_time": "2022-03-17T15:48:37.449Z"
      },
      {
        "duration": 14,
        "start_time": "2022-03-17T15:48:37.492Z"
      },
      {
        "duration": 9,
        "start_time": "2022-03-17T15:48:37.509Z"
      },
      {
        "duration": 12,
        "start_time": "2022-03-17T15:48:37.520Z"
      },
      {
        "duration": 4,
        "start_time": "2022-03-17T15:48:37.534Z"
      },
      {
        "duration": 23,
        "start_time": "2022-03-17T15:48:37.539Z"
      },
      {
        "duration": 4,
        "start_time": "2022-03-17T15:48:37.564Z"
      },
      {
        "duration": 5,
        "start_time": "2022-03-17T15:48:37.571Z"
      },
      {
        "duration": 39,
        "start_time": "2022-03-17T15:48:37.577Z"
      },
      {
        "duration": 4,
        "start_time": "2022-03-17T15:48:37.617Z"
      },
      {
        "duration": 8,
        "start_time": "2022-03-17T15:48:37.622Z"
      },
      {
        "duration": 8,
        "start_time": "2022-03-17T15:48:37.631Z"
      },
      {
        "duration": 9,
        "start_time": "2022-03-17T15:48:37.641Z"
      },
      {
        "duration": 10,
        "start_time": "2022-03-17T15:48:37.651Z"
      },
      {
        "duration": 4,
        "start_time": "2022-03-17T15:48:37.662Z"
      },
      {
        "duration": 58,
        "start_time": "2022-03-17T15:48:37.668Z"
      },
      {
        "duration": 140,
        "start_time": "2022-03-17T15:48:37.727Z"
      },
      {
        "duration": 4771,
        "start_time": "2022-03-17T15:48:37.868Z"
      },
      {
        "duration": 3657,
        "start_time": "2022-03-17T15:48:42.641Z"
      },
      {
        "duration": 202,
        "start_time": "2022-03-17T15:48:46.300Z"
      },
      {
        "duration": 19,
        "start_time": "2022-03-17T15:48:46.504Z"
      },
      {
        "duration": 80,
        "start_time": "2022-03-17T15:48:46.526Z"
      },
      {
        "duration": 15,
        "start_time": "2022-03-17T15:48:46.612Z"
      },
      {
        "duration": 9,
        "start_time": "2022-03-17T15:48:46.629Z"
      },
      {
        "duration": 10,
        "start_time": "2022-03-17T15:50:02.584Z"
      },
      {
        "duration": 14,
        "start_time": "2022-03-17T15:50:58.314Z"
      },
      {
        "duration": 4,
        "start_time": "2022-03-17T15:51:04.683Z"
      },
      {
        "duration": 41,
        "start_time": "2022-03-17T15:51:04.690Z"
      },
      {
        "duration": 17,
        "start_time": "2022-03-17T15:51:04.733Z"
      },
      {
        "duration": 6,
        "start_time": "2022-03-17T15:51:04.753Z"
      },
      {
        "duration": 43,
        "start_time": "2022-03-17T15:51:04.761Z"
      },
      {
        "duration": 5,
        "start_time": "2022-03-17T15:51:04.809Z"
      },
      {
        "duration": 40,
        "start_time": "2022-03-17T15:51:04.815Z"
      },
      {
        "duration": 3,
        "start_time": "2022-03-17T15:51:04.857Z"
      },
      {
        "duration": 6,
        "start_time": "2022-03-17T15:51:04.863Z"
      },
      {
        "duration": 17,
        "start_time": "2022-03-17T15:51:04.870Z"
      },
      {
        "duration": 17,
        "start_time": "2022-03-17T15:51:04.888Z"
      },
      {
        "duration": 16,
        "start_time": "2022-03-17T15:51:04.907Z"
      },
      {
        "duration": 15,
        "start_time": "2022-03-17T15:51:04.924Z"
      },
      {
        "duration": 13,
        "start_time": "2022-03-17T15:51:04.941Z"
      },
      {
        "duration": 12,
        "start_time": "2022-03-17T15:51:04.955Z"
      },
      {
        "duration": 7,
        "start_time": "2022-03-17T15:51:04.969Z"
      },
      {
        "duration": 44,
        "start_time": "2022-03-17T15:51:04.978Z"
      },
      {
        "duration": 160,
        "start_time": "2022-03-17T15:51:05.024Z"
      },
      {
        "duration": 4900,
        "start_time": "2022-03-17T15:51:05.186Z"
      },
      {
        "duration": 4054,
        "start_time": "2022-03-17T15:51:10.087Z"
      },
      {
        "duration": 262,
        "start_time": "2022-03-17T15:51:14.143Z"
      },
      {
        "duration": 12,
        "start_time": "2022-03-17T15:51:14.407Z"
      },
      {
        "duration": 10,
        "start_time": "2022-03-17T15:51:14.504Z"
      },
      {
        "duration": 14,
        "start_time": "2022-03-17T15:51:14.517Z"
      },
      {
        "duration": 68,
        "start_time": "2022-03-17T15:51:14.533Z"
      },
      {
        "duration": 4,
        "start_time": "2022-03-17T15:51:38.435Z"
      },
      {
        "duration": 56,
        "start_time": "2022-03-17T15:51:38.441Z"
      },
      {
        "duration": 18,
        "start_time": "2022-03-17T15:51:38.499Z"
      },
      {
        "duration": 14,
        "start_time": "2022-03-17T15:51:38.519Z"
      },
      {
        "duration": 28,
        "start_time": "2022-03-17T15:51:38.534Z"
      },
      {
        "duration": 5,
        "start_time": "2022-03-17T15:51:38.564Z"
      },
      {
        "duration": 45,
        "start_time": "2022-03-17T15:51:38.571Z"
      },
      {
        "duration": 4,
        "start_time": "2022-03-17T15:51:38.618Z"
      },
      {
        "duration": 27,
        "start_time": "2022-03-17T15:51:38.624Z"
      },
      {
        "duration": 34,
        "start_time": "2022-03-17T15:51:38.652Z"
      },
      {
        "duration": 7,
        "start_time": "2022-03-17T15:51:38.688Z"
      },
      {
        "duration": 23,
        "start_time": "2022-03-17T15:51:38.697Z"
      },
      {
        "duration": 14,
        "start_time": "2022-03-17T15:51:38.721Z"
      },
      {
        "duration": 17,
        "start_time": "2022-03-17T15:51:38.736Z"
      },
      {
        "duration": 23,
        "start_time": "2022-03-17T15:51:38.755Z"
      },
      {
        "duration": 9,
        "start_time": "2022-03-17T15:51:38.780Z"
      },
      {
        "duration": 40,
        "start_time": "2022-03-17T15:51:38.791Z"
      },
      {
        "duration": 137,
        "start_time": "2022-03-17T15:51:38.833Z"
      },
      {
        "duration": 4582,
        "start_time": "2022-03-17T15:51:38.971Z"
      },
      {
        "duration": 3984,
        "start_time": "2022-03-17T15:51:43.555Z"
      },
      {
        "duration": 165,
        "start_time": "2022-03-17T15:51:47.541Z"
      },
      {
        "duration": 8,
        "start_time": "2022-03-17T15:51:47.707Z"
      },
      {
        "duration": 95,
        "start_time": "2022-03-17T15:51:47.717Z"
      },
      {
        "duration": 28,
        "start_time": "2022-03-17T15:51:47.815Z"
      },
      {
        "duration": 66,
        "start_time": "2022-03-17T15:51:47.844Z"
      },
      {
        "duration": 110,
        "start_time": "2022-03-17T15:51:47.911Z"
      },
      {
        "duration": 14,
        "start_time": "2022-03-17T15:54:49.511Z"
      },
      {
        "duration": 11,
        "start_time": "2022-03-17T15:54:55.079Z"
      },
      {
        "duration": 11,
        "start_time": "2022-03-17T15:54:58.241Z"
      },
      {
        "duration": 12,
        "start_time": "2022-03-17T15:55:03.313Z"
      },
      {
        "duration": 11,
        "start_time": "2022-03-17T15:55:08.127Z"
      },
      {
        "duration": 12,
        "start_time": "2022-03-17T15:55:15.046Z"
      },
      {
        "duration": 2228,
        "start_time": "2022-03-18T10:36:14.016Z"
      },
      {
        "duration": 32,
        "start_time": "2022-03-18T10:36:16.246Z"
      },
      {
        "duration": 22,
        "start_time": "2022-03-18T10:36:16.280Z"
      },
      {
        "duration": 5,
        "start_time": "2022-03-18T10:36:16.305Z"
      },
      {
        "duration": 21,
        "start_time": "2022-03-18T10:36:16.312Z"
      },
      {
        "duration": 8,
        "start_time": "2022-03-18T10:36:16.335Z"
      },
      {
        "duration": 67,
        "start_time": "2022-03-18T10:36:16.345Z"
      },
      {
        "duration": 6,
        "start_time": "2022-03-18T10:36:16.414Z"
      },
      {
        "duration": 10,
        "start_time": "2022-03-18T10:36:16.421Z"
      },
      {
        "duration": 53,
        "start_time": "2022-03-18T10:36:16.434Z"
      },
      {
        "duration": 30,
        "start_time": "2022-03-18T10:36:16.490Z"
      },
      {
        "duration": 40,
        "start_time": "2022-03-18T10:36:16.522Z"
      },
      {
        "duration": 29,
        "start_time": "2022-03-18T10:36:16.564Z"
      },
      {
        "duration": 37,
        "start_time": "2022-03-18T10:36:16.595Z"
      },
      {
        "duration": 21,
        "start_time": "2022-03-18T10:36:16.634Z"
      },
      {
        "duration": 47,
        "start_time": "2022-03-18T10:36:16.657Z"
      },
      {
        "duration": 61,
        "start_time": "2022-03-18T10:36:16.706Z"
      },
      {
        "duration": 240,
        "start_time": "2022-03-18T10:36:16.769Z"
      },
      {
        "duration": 7323,
        "start_time": "2022-03-18T10:36:17.011Z"
      },
      {
        "duration": 5703,
        "start_time": "2022-03-18T10:36:24.337Z"
      },
      {
        "duration": 662,
        "start_time": "2022-03-18T10:36:30.043Z"
      },
      {
        "duration": 96,
        "start_time": "2022-03-18T10:36:30.708Z"
      },
      {
        "duration": 107,
        "start_time": "2022-03-18T10:36:30.809Z"
      },
      {
        "duration": 32,
        "start_time": "2022-03-18T10:36:30.918Z"
      },
      {
        "duration": 19,
        "start_time": "2022-03-18T10:36:30.952Z"
      },
      {
        "duration": 1239,
        "start_time": "2022-03-18T10:36:30.973Z"
      },
      {
        "duration": 11451,
        "start_time": "2022-03-18T10:36:32.215Z"
      },
      {
        "duration": 17445,
        "start_time": "2022-03-18T10:36:43.670Z"
      },
      {
        "duration": 633,
        "start_time": "2022-03-18T10:37:01.118Z"
      },
      {
        "duration": 138,
        "start_time": "2022-03-18T10:37:01.753Z"
      },
      {
        "duration": 935,
        "start_time": "2022-03-18T10:37:02.080Z"
      },
      {
        "duration": 10521,
        "start_time": "2022-03-18T10:37:08.024Z"
      },
      {
        "duration": 17367,
        "start_time": "2022-03-18T10:37:20.631Z"
      },
      {
        "duration": 78,
        "start_time": "2022-03-18T10:37:44.516Z"
      },
      {
        "duration": 21,
        "start_time": "2022-03-18T10:56:37.075Z"
      },
      {
        "duration": 64,
        "start_time": "2022-03-18T10:57:03.900Z"
      },
      {
        "duration": 8,
        "start_time": "2022-03-18T10:57:10.040Z"
      },
      {
        "duration": 45,
        "start_time": "2022-03-18T10:57:10.052Z"
      },
      {
        "duration": 19,
        "start_time": "2022-03-18T10:57:10.099Z"
      },
      {
        "duration": 8,
        "start_time": "2022-03-18T10:57:10.122Z"
      },
      {
        "duration": 50,
        "start_time": "2022-03-18T10:57:10.132Z"
      },
      {
        "duration": 6,
        "start_time": "2022-03-18T10:57:10.184Z"
      },
      {
        "duration": 28,
        "start_time": "2022-03-18T10:57:10.192Z"
      },
      {
        "duration": 5,
        "start_time": "2022-03-18T10:57:10.222Z"
      },
      {
        "duration": 9,
        "start_time": "2022-03-18T10:57:10.229Z"
      },
      {
        "duration": 19,
        "start_time": "2022-03-18T10:57:10.283Z"
      },
      {
        "duration": 8,
        "start_time": "2022-03-18T10:57:10.305Z"
      },
      {
        "duration": 14,
        "start_time": "2022-03-18T10:57:10.316Z"
      },
      {
        "duration": 51,
        "start_time": "2022-03-18T10:57:10.333Z"
      },
      {
        "duration": 13,
        "start_time": "2022-03-18T10:57:10.386Z"
      },
      {
        "duration": 10,
        "start_time": "2022-03-18T10:57:10.402Z"
      },
      {
        "duration": 5,
        "start_time": "2022-03-18T10:57:10.414Z"
      },
      {
        "duration": 93,
        "start_time": "2022-03-18T10:57:10.421Z"
      },
      {
        "duration": 233,
        "start_time": "2022-03-18T10:57:10.517Z"
      },
      {
        "duration": 7471,
        "start_time": "2022-03-18T10:57:10.753Z"
      },
      {
        "duration": 5966,
        "start_time": "2022-03-18T10:57:18.226Z"
      },
      {
        "duration": 489,
        "start_time": "2022-03-18T10:57:24.195Z"
      },
      {
        "duration": 97,
        "start_time": "2022-03-18T10:57:24.687Z"
      },
      {
        "duration": 11,
        "start_time": "2022-03-18T10:57:24.787Z"
      },
      {
        "duration": 48,
        "start_time": "2022-03-18T10:57:24.801Z"
      },
      {
        "duration": 31,
        "start_time": "2022-03-18T10:57:24.852Z"
      },
      {
        "duration": 20,
        "start_time": "2022-03-18T10:57:24.887Z"
      },
      {
        "duration": 17,
        "start_time": "2022-03-18T10:57:24.910Z"
      },
      {
        "duration": 750,
        "start_time": "2022-03-18T10:57:24.934Z"
      },
      {
        "duration": 7166,
        "start_time": "2022-03-18T10:57:25.687Z"
      },
      {
        "duration": 10942,
        "start_time": "2022-03-18T10:57:32.856Z"
      },
      {
        "duration": 395,
        "start_time": "2022-03-18T10:57:43.801Z"
      },
      {
        "duration": 93,
        "start_time": "2022-03-18T10:57:44.199Z"
      },
      {
        "duration": 21,
        "start_time": "2022-03-18T10:59:52.672Z"
      },
      {
        "duration": 9,
        "start_time": "2022-03-18T10:59:57.481Z"
      },
      {
        "duration": 164,
        "start_time": "2022-03-18T11:03:35.891Z"
      },
      {
        "duration": 7,
        "start_time": "2022-03-18T11:03:39.051Z"
      },
      {
        "duration": 39,
        "start_time": "2022-03-18T11:03:39.060Z"
      },
      {
        "duration": 22,
        "start_time": "2022-03-18T11:03:39.101Z"
      },
      {
        "duration": 9,
        "start_time": "2022-03-18T11:03:39.127Z"
      },
      {
        "duration": 70,
        "start_time": "2022-03-18T11:03:39.139Z"
      },
      {
        "duration": 6,
        "start_time": "2022-03-18T11:03:39.212Z"
      },
      {
        "duration": 30,
        "start_time": "2022-03-18T11:03:39.219Z"
      },
      {
        "duration": 32,
        "start_time": "2022-03-18T11:03:39.252Z"
      },
      {
        "duration": 7,
        "start_time": "2022-03-18T11:03:39.291Z"
      },
      {
        "duration": 27,
        "start_time": "2022-03-18T11:03:39.300Z"
      },
      {
        "duration": 10,
        "start_time": "2022-03-18T11:03:39.330Z"
      },
      {
        "duration": 47,
        "start_time": "2022-03-18T11:03:39.343Z"
      },
      {
        "duration": 12,
        "start_time": "2022-03-18T11:03:39.393Z"
      },
      {
        "duration": 11,
        "start_time": "2022-03-18T11:03:39.408Z"
      },
      {
        "duration": 13,
        "start_time": "2022-03-18T11:03:39.422Z"
      },
      {
        "duration": 4,
        "start_time": "2022-03-18T11:03:39.437Z"
      },
      {
        "duration": 87,
        "start_time": "2022-03-18T11:03:39.445Z"
      },
      {
        "duration": 233,
        "start_time": "2022-03-18T11:03:39.534Z"
      },
      {
        "duration": 7531,
        "start_time": "2022-03-18T11:03:39.770Z"
      },
      {
        "duration": 5769,
        "start_time": "2022-03-18T11:03:47.304Z"
      },
      {
        "duration": 408,
        "start_time": "2022-03-18T11:03:53.075Z"
      },
      {
        "duration": 104,
        "start_time": "2022-03-18T11:03:53.489Z"
      },
      {
        "duration": 9,
        "start_time": "2022-03-18T11:03:53.596Z"
      },
      {
        "duration": 6,
        "start_time": "2022-03-18T11:03:53.609Z"
      },
      {
        "duration": 19,
        "start_time": "2022-03-18T11:03:53.617Z"
      },
      {
        "duration": 48,
        "start_time": "2022-03-18T11:03:53.638Z"
      },
      {
        "duration": 12,
        "start_time": "2022-03-18T11:03:53.689Z"
      },
      {
        "duration": 0,
        "start_time": "2022-03-18T11:03:53.703Z"
      },
      {
        "duration": 0,
        "start_time": "2022-03-18T11:03:53.704Z"
      },
      {
        "duration": 0,
        "start_time": "2022-03-18T11:03:53.705Z"
      },
      {
        "duration": 0,
        "start_time": "2022-03-18T11:03:53.707Z"
      },
      {
        "duration": 0,
        "start_time": "2022-03-18T11:03:53.709Z"
      },
      {
        "duration": 19,
        "start_time": "2022-03-18T11:04:14.272Z"
      },
      {
        "duration": 17,
        "start_time": "2022-03-18T11:04:45.447Z"
      },
      {
        "duration": 6,
        "start_time": "2022-03-18T11:04:48.853Z"
      },
      {
        "duration": 63,
        "start_time": "2022-03-18T11:04:48.862Z"
      },
      {
        "duration": 18,
        "start_time": "2022-03-18T11:04:48.927Z"
      },
      {
        "duration": 6,
        "start_time": "2022-03-18T11:04:48.948Z"
      },
      {
        "duration": 45,
        "start_time": "2022-03-18T11:04:48.956Z"
      },
      {
        "duration": 5,
        "start_time": "2022-03-18T11:04:49.003Z"
      },
      {
        "duration": 58,
        "start_time": "2022-03-18T11:04:49.011Z"
      },
      {
        "duration": 6,
        "start_time": "2022-03-18T11:04:49.071Z"
      },
      {
        "duration": 19,
        "start_time": "2022-03-18T11:04:49.093Z"
      },
      {
        "duration": 50,
        "start_time": "2022-03-18T11:04:49.115Z"
      },
      {
        "duration": 43,
        "start_time": "2022-03-18T11:04:49.168Z"
      },
      {
        "duration": 35,
        "start_time": "2022-03-18T11:04:49.213Z"
      },
      {
        "duration": 19,
        "start_time": "2022-03-18T11:04:49.250Z"
      },
      {
        "duration": 47,
        "start_time": "2022-03-18T11:04:49.271Z"
      },
      {
        "duration": 41,
        "start_time": "2022-03-18T11:04:49.320Z"
      },
      {
        "duration": 38,
        "start_time": "2022-03-18T11:04:49.364Z"
      },
      {
        "duration": 67,
        "start_time": "2022-03-18T11:04:49.405Z"
      },
      {
        "duration": 241,
        "start_time": "2022-03-18T11:04:49.474Z"
      },
      {
        "duration": 7861,
        "start_time": "2022-03-18T11:04:49.717Z"
      },
      {
        "duration": 6089,
        "start_time": "2022-03-18T11:04:57.584Z"
      },
      {
        "duration": 312,
        "start_time": "2022-03-18T11:05:03.683Z"
      },
      {
        "duration": 87,
        "start_time": "2022-03-18T11:05:03.998Z"
      },
      {
        "duration": 103,
        "start_time": "2022-03-18T11:05:04.088Z"
      },
      {
        "duration": 9,
        "start_time": "2022-03-18T11:05:04.196Z"
      },
      {
        "duration": 26,
        "start_time": "2022-03-18T11:05:04.207Z"
      },
      {
        "duration": 5,
        "start_time": "2022-03-18T11:05:04.236Z"
      },
      {
        "duration": 42,
        "start_time": "2022-03-18T11:05:04.243Z"
      },
      {
        "duration": 625,
        "start_time": "2022-03-18T11:05:04.291Z"
      },
      {
        "duration": 7167,
        "start_time": "2022-03-18T11:05:04.919Z"
      },
      {
        "duration": 11745,
        "start_time": "2022-03-18T11:05:12.088Z"
      },
      {
        "duration": 440,
        "start_time": "2022-03-18T11:05:23.836Z"
      },
      {
        "duration": 115,
        "start_time": "2022-03-18T11:05:24.278Z"
      },
      {
        "duration": 22,
        "start_time": "2022-03-18T11:05:35.774Z"
      },
      {
        "duration": 18,
        "start_time": "2022-03-18T11:05:39.815Z"
      },
      {
        "duration": 18,
        "start_time": "2022-03-18T11:05:43.495Z"
      },
      {
        "duration": 18,
        "start_time": "2022-03-18T11:05:44.262Z"
      },
      {
        "duration": 96,
        "start_time": "2022-03-18T14:11:15.792Z"
      },
      {
        "duration": 35,
        "start_time": "2022-03-18T14:11:26.954Z"
      },
      {
        "duration": 6,
        "start_time": "2022-03-18T14:11:30.086Z"
      },
      {
        "duration": 40,
        "start_time": "2022-03-18T14:11:30.095Z"
      },
      {
        "duration": 17,
        "start_time": "2022-03-18T14:11:30.137Z"
      },
      {
        "duration": 28,
        "start_time": "2022-03-18T14:11:30.157Z"
      },
      {
        "duration": 37,
        "start_time": "2022-03-18T14:11:30.188Z"
      },
      {
        "duration": 5,
        "start_time": "2022-03-18T14:11:30.228Z"
      },
      {
        "duration": 48,
        "start_time": "2022-03-18T14:11:30.235Z"
      },
      {
        "duration": 5,
        "start_time": "2022-03-18T14:11:30.286Z"
      },
      {
        "duration": 19,
        "start_time": "2022-03-18T14:11:30.295Z"
      },
      {
        "duration": 31,
        "start_time": "2022-03-18T14:11:30.316Z"
      },
      {
        "duration": 25,
        "start_time": "2022-03-18T14:11:30.350Z"
      },
      {
        "duration": 31,
        "start_time": "2022-03-18T14:11:30.377Z"
      },
      {
        "duration": 14,
        "start_time": "2022-03-18T14:11:30.410Z"
      },
      {
        "duration": 15,
        "start_time": "2022-03-18T14:11:30.426Z"
      },
      {
        "duration": 32,
        "start_time": "2022-03-18T14:11:30.443Z"
      },
      {
        "duration": 5,
        "start_time": "2022-03-18T14:11:30.477Z"
      },
      {
        "duration": 51,
        "start_time": "2022-03-18T14:11:30.484Z"
      },
      {
        "duration": 55,
        "start_time": "2022-03-18T14:11:30.537Z"
      },
      {
        "duration": 7246,
        "start_time": "2022-03-18T14:11:30.685Z"
      },
      {
        "duration": 5494,
        "start_time": "2022-03-18T14:11:37.933Z"
      },
      {
        "duration": 160,
        "start_time": "2022-03-18T14:11:43.429Z"
      },
      {
        "duration": 99,
        "start_time": "2022-03-18T14:11:43.592Z"
      },
      {
        "duration": 90,
        "start_time": "2022-03-18T14:11:43.694Z"
      },
      {
        "duration": 6,
        "start_time": "2022-03-18T14:11:43.788Z"
      },
      {
        "duration": 24,
        "start_time": "2022-03-18T14:11:43.797Z"
      },
      {
        "duration": 7,
        "start_time": "2022-03-18T14:11:43.823Z"
      },
      {
        "duration": 50,
        "start_time": "2022-03-18T14:11:43.833Z"
      },
      {
        "duration": 600,
        "start_time": "2022-03-18T14:11:43.886Z"
      },
      {
        "duration": 6676,
        "start_time": "2022-03-18T14:11:44.488Z"
      },
      {
        "duration": 10180,
        "start_time": "2022-03-18T14:11:51.167Z"
      },
      {
        "duration": 389,
        "start_time": "2022-03-18T14:12:01.350Z"
      },
      {
        "duration": 58,
        "start_time": "2022-03-18T14:12:01.742Z"
      },
      {
        "duration": 759,
        "start_time": "2022-03-18T14:14:21.297Z"
      },
      {
        "duration": 12,
        "start_time": "2022-03-18T14:15:38.109Z"
      },
      {
        "duration": 194,
        "start_time": "2022-03-18T14:16:06.527Z"
      },
      {
        "duration": 157,
        "start_time": "2022-03-18T14:17:50.016Z"
      },
      {
        "duration": 166,
        "start_time": "2022-03-18T14:18:11.575Z"
      },
      {
        "duration": 9,
        "start_time": "2022-03-18T14:23:24.860Z"
      },
      {
        "duration": 9,
        "start_time": "2022-03-18T14:24:41.987Z"
      },
      {
        "duration": 10,
        "start_time": "2022-03-18T14:24:50.163Z"
      },
      {
        "duration": 56,
        "start_time": "2022-03-18T14:25:42.431Z"
      },
      {
        "duration": 697,
        "start_time": "2022-03-18T14:25:57.410Z"
      },
      {
        "duration": 15,
        "start_time": "2022-03-18T14:29:27.937Z"
      },
      {
        "duration": 6,
        "start_time": "2022-03-18T14:29:33.886Z"
      },
      {
        "duration": 55,
        "start_time": "2022-03-18T14:29:33.894Z"
      },
      {
        "duration": 19,
        "start_time": "2022-03-18T14:29:33.951Z"
      },
      {
        "duration": 17,
        "start_time": "2022-03-18T14:29:33.974Z"
      },
      {
        "duration": 49,
        "start_time": "2022-03-18T14:29:33.994Z"
      },
      {
        "duration": 21,
        "start_time": "2022-03-18T14:29:34.045Z"
      },
      {
        "duration": 58,
        "start_time": "2022-03-18T14:29:34.068Z"
      },
      {
        "duration": 11,
        "start_time": "2022-03-18T14:29:34.128Z"
      },
      {
        "duration": 36,
        "start_time": "2022-03-18T14:29:34.143Z"
      },
      {
        "duration": 33,
        "start_time": "2022-03-18T14:29:34.181Z"
      },
      {
        "duration": 14,
        "start_time": "2022-03-18T14:29:34.216Z"
      },
      {
        "duration": 38,
        "start_time": "2022-03-18T14:29:34.232Z"
      },
      {
        "duration": 32,
        "start_time": "2022-03-18T14:29:34.272Z"
      },
      {
        "duration": 28,
        "start_time": "2022-03-18T14:29:34.307Z"
      },
      {
        "duration": 28,
        "start_time": "2022-03-18T14:29:34.337Z"
      },
      {
        "duration": 13,
        "start_time": "2022-03-18T14:29:34.368Z"
      },
      {
        "duration": 62,
        "start_time": "2022-03-18T14:29:34.384Z"
      },
      {
        "duration": 44,
        "start_time": "2022-03-18T14:29:34.448Z"
      },
      {
        "duration": 855,
        "start_time": "2022-03-18T14:29:34.584Z"
      },
      {
        "duration": 200,
        "start_time": "2022-03-18T14:29:35.441Z"
      },
      {
        "duration": 175,
        "start_time": "2022-03-18T14:29:35.644Z"
      },
      {
        "duration": 175,
        "start_time": "2022-03-18T14:29:35.821Z"
      },
      {
        "duration": 9,
        "start_time": "2022-03-18T14:29:36.001Z"
      },
      {
        "duration": 28,
        "start_time": "2022-03-18T14:29:36.013Z"
      },
      {
        "duration": 30,
        "start_time": "2022-03-18T14:29:36.043Z"
      },
      {
        "duration": 112,
        "start_time": "2022-03-18T14:29:36.076Z"
      },
      {
        "duration": 794,
        "start_time": "2022-03-18T14:29:36.192Z"
      },
      {
        "duration": 6,
        "start_time": "2022-03-18T14:29:36.989Z"
      },
      {
        "duration": 60,
        "start_time": "2022-03-18T14:29:36.997Z"
      },
      {
        "duration": 37,
        "start_time": "2022-03-18T14:29:37.059Z"
      },
      {
        "duration": 767,
        "start_time": "2022-03-18T14:29:37.098Z"
      },
      {
        "duration": 6449,
        "start_time": "2022-03-18T14:29:37.868Z"
      },
      {
        "duration": 10306,
        "start_time": "2022-03-18T14:29:44.319Z"
      },
      {
        "duration": 375,
        "start_time": "2022-03-18T14:29:54.627Z"
      },
      {
        "duration": 84,
        "start_time": "2022-03-18T14:29:55.004Z"
      },
      {
        "duration": 376,
        "start_time": "2022-03-18T14:30:01.489Z"
      },
      {
        "duration": 35,
        "start_time": "2022-03-18T14:31:10.864Z"
      },
      {
        "duration": 6,
        "start_time": "2022-03-18T14:31:22.824Z"
      },
      {
        "duration": 32,
        "start_time": "2022-03-18T14:31:34.249Z"
      },
      {
        "duration": 683,
        "start_time": "2022-03-18T14:31:51.632Z"
      },
      {
        "duration": 722,
        "start_time": "2022-03-18T14:32:05.312Z"
      },
      {
        "duration": 746,
        "start_time": "2022-03-18T14:32:13.889Z"
      },
      {
        "duration": 186,
        "start_time": "2022-03-18T14:32:32.617Z"
      },
      {
        "duration": 27,
        "start_time": "2022-03-18T14:33:08.065Z"
      },
      {
        "duration": 5,
        "start_time": "2022-03-18T14:33:17.617Z"
      },
      {
        "duration": 42,
        "start_time": "2022-03-18T14:35:55.712Z"
      },
      {
        "duration": 696,
        "start_time": "2022-03-18T14:36:07.150Z"
      },
      {
        "duration": 35,
        "start_time": "2022-03-18T14:36:16.854Z"
      },
      {
        "duration": 1030,
        "start_time": "2022-03-18T15:18:42.719Z"
      },
      {
        "duration": 1006,
        "start_time": "2022-03-18T15:19:22.486Z"
      },
      {
        "duration": 953,
        "start_time": "2022-03-18T15:19:33.422Z"
      },
      {
        "duration": 979,
        "start_time": "2022-03-18T15:19:42.014Z"
      },
      {
        "duration": 3092,
        "start_time": "2022-03-18T15:21:22.502Z"
      },
      {
        "duration": 330,
        "start_time": "2022-03-18T15:22:30.581Z"
      },
      {
        "duration": 334,
        "start_time": "2022-03-18T15:22:54.381Z"
      },
      {
        "duration": 307,
        "start_time": "2022-03-18T15:23:00.411Z"
      },
      {
        "duration": 148,
        "start_time": "2022-03-18T15:23:05.498Z"
      },
      {
        "duration": 329,
        "start_time": "2022-03-18T15:23:13.355Z"
      },
      {
        "duration": 29,
        "start_time": "2022-03-18T15:24:47.292Z"
      },
      {
        "duration": 2154,
        "start_time": "2022-03-18T15:34:31.179Z"
      },
      {
        "duration": 34,
        "start_time": "2022-03-18T15:34:33.336Z"
      },
      {
        "duration": 30,
        "start_time": "2022-03-18T15:34:33.373Z"
      },
      {
        "duration": 6,
        "start_time": "2022-03-18T15:34:33.408Z"
      },
      {
        "duration": 27,
        "start_time": "2022-03-18T15:34:33.416Z"
      },
      {
        "duration": 7,
        "start_time": "2022-03-18T15:34:33.446Z"
      },
      {
        "duration": 40,
        "start_time": "2022-03-18T15:34:33.483Z"
      },
      {
        "duration": 6,
        "start_time": "2022-03-18T15:34:33.525Z"
      },
      {
        "duration": 9,
        "start_time": "2022-03-18T15:34:33.533Z"
      },
      {
        "duration": 44,
        "start_time": "2022-03-18T15:34:33.546Z"
      },
      {
        "duration": 18,
        "start_time": "2022-03-18T15:34:33.595Z"
      },
      {
        "duration": 14,
        "start_time": "2022-03-18T15:34:33.616Z"
      },
      {
        "duration": 11,
        "start_time": "2022-03-18T15:34:33.631Z"
      },
      {
        "duration": 9,
        "start_time": "2022-03-18T15:34:33.644Z"
      },
      {
        "duration": 17,
        "start_time": "2022-03-18T15:34:33.686Z"
      },
      {
        "duration": 4,
        "start_time": "2022-03-18T15:34:33.706Z"
      },
      {
        "duration": 44,
        "start_time": "2022-03-18T15:34:33.712Z"
      },
      {
        "duration": 108,
        "start_time": "2022-03-18T15:34:33.785Z"
      },
      {
        "duration": 871,
        "start_time": "2022-03-18T15:34:33.896Z"
      },
      {
        "duration": 220,
        "start_time": "2022-03-18T15:34:34.770Z"
      },
      {
        "duration": 175,
        "start_time": "2022-03-18T15:34:34.993Z"
      },
      {
        "duration": 178,
        "start_time": "2022-03-18T15:34:35.170Z"
      },
      {
        "duration": 8,
        "start_time": "2022-03-18T15:34:35.351Z"
      },
      {
        "duration": 26,
        "start_time": "2022-03-18T15:34:35.361Z"
      },
      {
        "duration": 19,
        "start_time": "2022-03-18T15:34:35.390Z"
      },
      {
        "duration": 91,
        "start_time": "2022-03-18T15:34:35.412Z"
      },
      {
        "duration": 835,
        "start_time": "2022-03-18T15:34:35.507Z"
      },
      {
        "duration": 7,
        "start_time": "2022-03-18T15:34:36.347Z"
      },
      {
        "duration": 45,
        "start_time": "2022-03-18T15:34:36.356Z"
      },
      {
        "duration": 84,
        "start_time": "2022-03-18T15:34:36.404Z"
      },
      {
        "duration": 463,
        "start_time": "2022-03-18T15:34:36.493Z"
      },
      {
        "duration": 45,
        "start_time": "2022-03-18T15:34:36.959Z"
      },
      {
        "duration": 6,
        "start_time": "2022-03-18T15:34:37.007Z"
      },
      {
        "duration": 139,
        "start_time": "2022-03-18T15:34:37.100Z"
      },
      {
        "duration": 764,
        "start_time": "2022-03-18T15:34:37.242Z"
      },
      {
        "duration": 39,
        "start_time": "2022-03-18T15:34:38.008Z"
      },
      {
        "duration": 1093,
        "start_time": "2022-03-18T15:34:38.049Z"
      },
      {
        "duration": 3240,
        "start_time": "2022-03-18T15:34:39.144Z"
      },
      {
        "duration": 355,
        "start_time": "2022-03-18T15:34:42.387Z"
      },
      {
        "duration": 42,
        "start_time": "2022-03-18T15:34:42.744Z"
      },
      {
        "duration": 2401,
        "start_time": "2022-03-20T11:35:59.822Z"
      },
      {
        "duration": 259,
        "start_time": "2022-03-20T11:36:02.225Z"
      },
      {
        "duration": 13,
        "start_time": "2022-03-20T11:36:02.485Z"
      },
      {
        "duration": 8,
        "start_time": "2022-03-20T11:36:02.500Z"
      },
      {
        "duration": 15,
        "start_time": "2022-03-20T11:36:02.509Z"
      },
      {
        "duration": 4,
        "start_time": "2022-03-20T11:36:02.526Z"
      },
      {
        "duration": 21,
        "start_time": "2022-03-20T11:36:02.531Z"
      },
      {
        "duration": 3,
        "start_time": "2022-03-20T11:36:02.553Z"
      },
      {
        "duration": 26,
        "start_time": "2022-03-20T11:36:02.557Z"
      },
      {
        "duration": 11,
        "start_time": "2022-03-20T11:36:02.585Z"
      },
      {
        "duration": 7,
        "start_time": "2022-03-20T11:36:02.597Z"
      },
      {
        "duration": 10,
        "start_time": "2022-03-20T11:36:02.606Z"
      },
      {
        "duration": 6,
        "start_time": "2022-03-20T11:36:02.618Z"
      },
      {
        "duration": 8,
        "start_time": "2022-03-20T11:36:02.625Z"
      },
      {
        "duration": 6,
        "start_time": "2022-03-20T11:36:02.635Z"
      },
      {
        "duration": 3,
        "start_time": "2022-03-20T11:36:02.643Z"
      },
      {
        "duration": 25,
        "start_time": "2022-03-20T11:36:02.681Z"
      },
      {
        "duration": 73,
        "start_time": "2022-03-20T11:36:02.708Z"
      },
      {
        "duration": 557,
        "start_time": "2022-03-20T11:36:02.783Z"
      },
      {
        "duration": 120,
        "start_time": "2022-03-20T11:36:03.341Z"
      },
      {
        "duration": 94,
        "start_time": "2022-03-20T11:36:03.462Z"
      },
      {
        "duration": 99,
        "start_time": "2022-03-20T11:36:03.558Z"
      },
      {
        "duration": 22,
        "start_time": "2022-03-20T11:36:03.659Z"
      },
      {
        "duration": 5,
        "start_time": "2022-03-20T11:36:03.682Z"
      },
      {
        "duration": 6,
        "start_time": "2022-03-20T11:36:03.689Z"
      },
      {
        "duration": 85,
        "start_time": "2022-03-20T11:36:03.696Z"
      },
      {
        "duration": 555,
        "start_time": "2022-03-20T11:36:03.783Z"
      },
      {
        "duration": 4,
        "start_time": "2022-03-20T11:36:04.341Z"
      },
      {
        "duration": 12,
        "start_time": "2022-03-20T11:36:04.346Z"
      },
      {
        "duration": 22,
        "start_time": "2022-03-20T11:36:04.360Z"
      },
      {
        "duration": 406,
        "start_time": "2022-03-20T11:36:04.384Z"
      },
      {
        "duration": 15,
        "start_time": "2022-03-20T11:36:04.791Z"
      },
      {
        "duration": 72,
        "start_time": "2022-03-20T11:36:04.809Z"
      },
      {
        "duration": 116,
        "start_time": "2022-03-20T11:36:04.884Z"
      },
      {
        "duration": 450,
        "start_time": "2022-03-20T11:36:05.002Z"
      },
      {
        "duration": 30,
        "start_time": "2022-03-20T11:36:05.453Z"
      },
      {
        "duration": 630,
        "start_time": "2022-03-20T11:36:05.484Z"
      },
      {
        "duration": 1880,
        "start_time": "2022-03-20T11:36:06.116Z"
      },
      {
        "duration": 657,
        "start_time": "2022-03-20T11:36:07.998Z"
      },
      {
        "duration": 1842,
        "start_time": "2022-03-20T11:36:08.657Z"
      },
      {
        "duration": 198,
        "start_time": "2022-03-20T11:36:10.500Z"
      },
      {
        "duration": 18,
        "start_time": "2022-03-20T11:36:10.699Z"
      },
      {
        "duration": 1817,
        "start_time": "2022-03-20T11:37:53.441Z"
      },
      {
        "duration": 2371,
        "start_time": "2022-03-20T11:47:45.917Z"
      },
      {
        "duration": 312,
        "start_time": "2022-03-20T11:48:40.251Z"
      },
      {
        "duration": 200,
        "start_time": "2022-03-20T11:48:53.355Z"
      },
      {
        "duration": 308,
        "start_time": "2022-03-20T11:49:03.756Z"
      },
      {
        "duration": 26,
        "start_time": "2022-03-20T11:49:13.660Z"
      },
      {
        "duration": 259,
        "start_time": "2022-03-20T12:50:46.107Z"
      },
      {
        "duration": 307,
        "start_time": "2022-03-20T12:50:52.214Z"
      },
      {
        "duration": 207,
        "start_time": "2022-03-20T12:50:56.351Z"
      },
      {
        "duration": 200,
        "start_time": "2022-03-20T12:51:01.439Z"
      },
      {
        "duration": 303,
        "start_time": "2022-03-20T12:52:11.726Z"
      },
      {
        "duration": 200,
        "start_time": "2022-03-20T12:53:40.922Z"
      },
      {
        "duration": 19,
        "start_time": "2022-03-20T12:55:50.063Z"
      },
      {
        "duration": 92,
        "start_time": "2022-03-20T13:05:34.547Z"
      },
      {
        "duration": 1580,
        "start_time": "2022-03-20T13:05:47.816Z"
      },
      {
        "duration": 32,
        "start_time": "2022-03-20T13:05:49.399Z"
      },
      {
        "duration": 13,
        "start_time": "2022-03-20T13:05:49.433Z"
      },
      {
        "duration": 4,
        "start_time": "2022-03-20T13:05:49.448Z"
      },
      {
        "duration": 18,
        "start_time": "2022-03-20T13:05:49.454Z"
      },
      {
        "duration": 8,
        "start_time": "2022-03-20T13:05:49.474Z"
      },
      {
        "duration": 22,
        "start_time": "2022-03-20T13:05:49.484Z"
      },
      {
        "duration": 4,
        "start_time": "2022-03-20T13:05:49.508Z"
      },
      {
        "duration": 9,
        "start_time": "2022-03-20T13:05:49.513Z"
      },
      {
        "duration": 11,
        "start_time": "2022-03-20T13:05:49.524Z"
      },
      {
        "duration": 6,
        "start_time": "2022-03-20T13:05:49.536Z"
      },
      {
        "duration": 10,
        "start_time": "2022-03-20T13:05:49.543Z"
      },
      {
        "duration": 31,
        "start_time": "2022-03-20T13:05:49.554Z"
      },
      {
        "duration": 7,
        "start_time": "2022-03-20T13:05:49.587Z"
      },
      {
        "duration": 7,
        "start_time": "2022-03-20T13:05:49.595Z"
      },
      {
        "duration": 2,
        "start_time": "2022-03-20T13:05:49.604Z"
      },
      {
        "duration": 41,
        "start_time": "2022-03-20T13:05:49.608Z"
      },
      {
        "duration": 61,
        "start_time": "2022-03-20T13:05:49.650Z"
      },
      {
        "duration": 601,
        "start_time": "2022-03-20T13:05:49.782Z"
      },
      {
        "duration": 119,
        "start_time": "2022-03-20T13:05:50.384Z"
      },
      {
        "duration": 97,
        "start_time": "2022-03-20T13:05:50.504Z"
      },
      {
        "duration": 89,
        "start_time": "2022-03-20T13:05:50.603Z"
      },
      {
        "duration": 5,
        "start_time": "2022-03-20T13:05:50.694Z"
      },
      {
        "duration": 11,
        "start_time": "2022-03-20T13:05:50.700Z"
      },
      {
        "duration": 10,
        "start_time": "2022-03-20T13:05:50.713Z"
      },
      {
        "duration": 65,
        "start_time": "2022-03-20T13:05:50.724Z"
      },
      {
        "duration": 578,
        "start_time": "2022-03-20T13:05:50.791Z"
      },
      {
        "duration": 4,
        "start_time": "2022-03-20T13:05:51.380Z"
      },
      {
        "duration": 12,
        "start_time": "2022-03-20T13:05:51.385Z"
      },
      {
        "duration": 13,
        "start_time": "2022-03-20T13:05:51.398Z"
      },
      {
        "duration": 323,
        "start_time": "2022-03-20T13:05:51.481Z"
      },
      {
        "duration": 18,
        "start_time": "2022-03-20T13:05:51.806Z"
      },
      {
        "duration": 60,
        "start_time": "2022-03-20T13:05:51.826Z"
      },
      {
        "duration": 118,
        "start_time": "2022-03-20T13:05:51.888Z"
      },
      {
        "duration": 465,
        "start_time": "2022-03-20T13:05:52.008Z"
      },
      {
        "duration": 24,
        "start_time": "2022-03-20T13:05:52.475Z"
      },
      {
        "duration": 2,
        "start_time": "2022-03-20T13:05:52.501Z"
      },
      {
        "duration": 5,
        "start_time": "2022-03-20T13:05:52.505Z"
      },
      {
        "duration": 679,
        "start_time": "2022-03-20T13:05:52.511Z"
      },
      {
        "duration": 2375,
        "start_time": "2022-03-20T13:05:53.192Z"
      },
      {
        "duration": 2,
        "start_time": "2022-03-20T13:05:55.569Z"
      },
      {
        "duration": 206,
        "start_time": "2022-03-20T13:05:55.573Z"
      },
      {
        "duration": 17,
        "start_time": "2022-03-20T13:05:55.781Z"
      },
      {
        "duration": 18,
        "start_time": "2022-03-20T13:05:55.799Z"
      },
      {
        "duration": 110,
        "start_time": "2022-03-20T13:05:55.818Z"
      },
      {
        "duration": 1537,
        "start_time": "2022-03-20T13:07:13.030Z"
      },
      {
        "duration": 31,
        "start_time": "2022-03-20T13:07:14.569Z"
      },
      {
        "duration": 13,
        "start_time": "2022-03-20T13:07:14.601Z"
      },
      {
        "duration": 4,
        "start_time": "2022-03-20T13:07:14.615Z"
      },
      {
        "duration": 17,
        "start_time": "2022-03-20T13:07:14.621Z"
      },
      {
        "duration": 5,
        "start_time": "2022-03-20T13:07:14.639Z"
      },
      {
        "duration": 20,
        "start_time": "2022-03-20T13:07:14.645Z"
      },
      {
        "duration": 15,
        "start_time": "2022-03-20T13:07:14.667Z"
      },
      {
        "duration": 7,
        "start_time": "2022-03-20T13:07:14.684Z"
      },
      {
        "duration": 10,
        "start_time": "2022-03-20T13:07:14.693Z"
      },
      {
        "duration": 5,
        "start_time": "2022-03-20T13:07:14.704Z"
      },
      {
        "duration": 8,
        "start_time": "2022-03-20T13:07:14.711Z"
      },
      {
        "duration": 6,
        "start_time": "2022-03-20T13:07:14.721Z"
      },
      {
        "duration": 5,
        "start_time": "2022-03-20T13:07:14.728Z"
      },
      {
        "duration": 46,
        "start_time": "2022-03-20T13:07:14.735Z"
      },
      {
        "duration": 2,
        "start_time": "2022-03-20T13:07:14.783Z"
      },
      {
        "duration": 26,
        "start_time": "2022-03-20T13:07:14.787Z"
      },
      {
        "duration": 70,
        "start_time": "2022-03-20T13:07:14.815Z"
      },
      {
        "duration": 574,
        "start_time": "2022-03-20T13:07:14.888Z"
      },
      {
        "duration": 116,
        "start_time": "2022-03-20T13:07:15.464Z"
      },
      {
        "duration": 81,
        "start_time": "2022-03-20T13:07:15.582Z"
      },
      {
        "duration": 80,
        "start_time": "2022-03-20T13:07:15.680Z"
      },
      {
        "duration": 21,
        "start_time": "2022-03-20T13:07:15.761Z"
      },
      {
        "duration": 6,
        "start_time": "2022-03-20T13:07:15.783Z"
      },
      {
        "duration": 5,
        "start_time": "2022-03-20T13:07:15.791Z"
      },
      {
        "duration": 85,
        "start_time": "2022-03-20T13:07:15.797Z"
      },
      {
        "duration": 567,
        "start_time": "2022-03-20T13:07:15.884Z"
      },
      {
        "duration": 4,
        "start_time": "2022-03-20T13:07:16.455Z"
      },
      {
        "duration": 22,
        "start_time": "2022-03-20T13:07:16.461Z"
      },
      {
        "duration": 19,
        "start_time": "2022-03-20T13:07:16.484Z"
      },
      {
        "duration": 311,
        "start_time": "2022-03-20T13:07:16.581Z"
      },
      {
        "duration": 23,
        "start_time": "2022-03-20T13:07:16.893Z"
      },
      {
        "duration": 7,
        "start_time": "2022-03-20T13:07:16.982Z"
      },
      {
        "duration": 116,
        "start_time": "2022-03-20T13:07:16.991Z"
      },
      {
        "duration": 444,
        "start_time": "2022-03-20T13:07:17.108Z"
      },
      {
        "duration": 33,
        "start_time": "2022-03-20T13:07:17.554Z"
      },
      {
        "duration": 3,
        "start_time": "2022-03-20T13:07:17.589Z"
      },
      {
        "duration": 8,
        "start_time": "2022-03-20T13:07:17.594Z"
      },
      {
        "duration": 663,
        "start_time": "2022-03-20T13:07:17.604Z"
      },
      {
        "duration": 2320,
        "start_time": "2022-03-20T13:07:18.269Z"
      },
      {
        "duration": 3,
        "start_time": "2022-03-20T13:07:20.591Z"
      },
      {
        "duration": 210,
        "start_time": "2022-03-20T13:07:20.596Z"
      },
      {
        "duration": 3,
        "start_time": "2022-03-20T13:07:20.807Z"
      },
      {
        "duration": 21,
        "start_time": "2022-03-20T13:07:20.812Z"
      },
      {
        "duration": 110,
        "start_time": "2022-03-20T13:07:20.835Z"
      }
    ],
    "kernelspec": {
      "display_name": "Python 3 (ipykernel)",
      "language": "python",
      "name": "python3"
    },
    "language_info": {
      "codemirror_mode": {
        "name": "ipython",
        "version": 3
      },
      "file_extension": ".py",
      "mimetype": "text/x-python",
      "name": "python",
      "nbconvert_exporter": "python",
      "pygments_lexer": "ipython3",
      "version": "3.9.5"
    },
    "toc": {
      "base_numbering": 1,
      "nav_menu": {},
      "number_sections": false,
      "sideBar": true,
      "skip_h1_title": true,
      "title_cell": "Содержание",
      "title_sidebar": "Contents",
      "toc_cell": true,
      "toc_position": {
        "height": "calc(100% - 180px)",
        "left": "10px",
        "top": "150px",
        "width": "270px"
      },
      "toc_section_display": true,
      "toc_window_display": true
    },
    "colab": {
      "provenance": []
    }
  },
  "nbformat": 4,
  "nbformat_minor": 0
}