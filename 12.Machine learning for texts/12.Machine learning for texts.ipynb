{
  "cells": [
    {
      "cell_type": "markdown",
      "metadata": {
        "id": "zAyhhB0ih5SC"
      },
      "source": [
        "# Проект для «Викишоп»"
      ]
    },
    {
      "cell_type": "markdown",
      "metadata": {
        "id": "QaMUDBrxh5SC"
      },
      "source": [
        "Цель - обучить модель классифицировать комментарии на позитивные и негативные. \n",
        "Построить модель со значением метрики качества *F1* не меньше 0.75. \n"
      ]
    },
    {
      "cell_type": "markdown",
      "metadata": {
        "id": "IIk99WZWh5SD"
      },
      "source": [
        "## Подготовка"
      ]
    },
    {
      "cell_type": "code",
      "execution_count": null,
      "metadata": {
        "id": "yRzFwLolh5SD"
      },
      "outputs": [],
      "source": [
        "import pandas as pd\n",
        "import numpy as np\n",
        "import nltk\n",
        "from nltk.corpus import stopwords as nltk_stopwords\n",
        "from sklearn.feature_extraction.text import TfidfVectorizer \n",
        "from nltk.stem import WordNetLemmatizer \n",
        "import re\n",
        "from sklearn.model_selection import train_test_split\n",
        "from nltk.corpus import stopwords as nltk_stopwords\n",
        "from sklearn.linear_model import LogisticRegression\n",
        "from sklearn.metrics import accuracy_score, f1_score\n",
        "from sklearn.model_selection import GridSearchCV\n",
        "from sklearn.ensemble import RandomForestClassifier\n",
        "import warnings\n",
        "warnings.filterwarnings('ignore')"
      ]
    },
    {
      "cell_type": "code",
      "execution_count": null,
      "metadata": {
        "id": "tGr8iM2Th5SF",
        "outputId": "035a0bfc-1647-4d16-f39d-bf06f3e297c9"
      },
      "outputs": [
        {
          "data": {
            "text/html": [
              "<div>\n",
              "<style scoped>\n",
              "    .dataframe tbody tr th:only-of-type {\n",
              "        vertical-align: middle;\n",
              "    }\n",
              "\n",
              "    .dataframe tbody tr th {\n",
              "        vertical-align: top;\n",
              "    }\n",
              "\n",
              "    .dataframe thead th {\n",
              "        text-align: right;\n",
              "    }\n",
              "</style>\n",
              "<table border=\"1\" class=\"dataframe\">\n",
              "  <thead>\n",
              "    <tr style=\"text-align: right;\">\n",
              "      <th></th>\n",
              "      <th>text</th>\n",
              "      <th>toxic</th>\n",
              "    </tr>\n",
              "  </thead>\n",
              "  <tbody>\n",
              "    <tr>\n",
              "      <th>0</th>\n",
              "      <td>Explanation\\nWhy the edits made under my usern...</td>\n",
              "      <td>0</td>\n",
              "    </tr>\n",
              "    <tr>\n",
              "      <th>1</th>\n",
              "      <td>D'aww! He matches this background colour I'm s...</td>\n",
              "      <td>0</td>\n",
              "    </tr>\n",
              "    <tr>\n",
              "      <th>2</th>\n",
              "      <td>Hey man, I'm really not trying to edit war. It...</td>\n",
              "      <td>0</td>\n",
              "    </tr>\n",
              "    <tr>\n",
              "      <th>3</th>\n",
              "      <td>\"\\nMore\\nI can't make any real suggestions on ...</td>\n",
              "      <td>0</td>\n",
              "    </tr>\n",
              "    <tr>\n",
              "      <th>4</th>\n",
              "      <td>You, sir, are my hero. Any chance you remember...</td>\n",
              "      <td>0</td>\n",
              "    </tr>\n",
              "  </tbody>\n",
              "</table>\n",
              "</div>"
            ],
            "text/plain": [
              "                                                text  toxic\n",
              "0  Explanation\\nWhy the edits made under my usern...      0\n",
              "1  D'aww! He matches this background colour I'm s...      0\n",
              "2  Hey man, I'm really not trying to edit war. It...      0\n",
              "3  \"\\nMore\\nI can't make any real suggestions on ...      0\n",
              "4  You, sir, are my hero. Any chance you remember...      0"
            ]
          },
          "execution_count": 2,
          "metadata": {},
          "output_type": "execute_result"
        }
      ],
      "source": [
        "data = pd.read_csv('/datasets/toxic_comments.csv')\n",
        "data.head()"
      ]
    },
    {
      "cell_type": "code",
      "execution_count": null,
      "metadata": {
        "id": "R9Gvhv7Zh5SH",
        "outputId": "90fe53da-4356-4ee9-ad47-f2d4139cbc3d"
      },
      "outputs": [
        {
          "name": "stdout",
          "output_type": "stream",
          "text": [
            "<class 'pandas.core.frame.DataFrame'>\n",
            "RangeIndex: 159571 entries, 0 to 159570\n",
            "Data columns (total 2 columns):\n",
            " #   Column  Non-Null Count   Dtype \n",
            "---  ------  --------------   ----- \n",
            " 0   text    159571 non-null  object\n",
            " 1   toxic   159571 non-null  int64 \n",
            "dtypes: int64(1), object(1)\n",
            "memory usage: 2.4+ MB\n"
          ]
        }
      ],
      "source": [
        "data.info()"
      ]
    },
    {
      "cell_type": "code",
      "execution_count": null,
      "metadata": {
        "id": "C9mBz1hHh5SI"
      },
      "outputs": [],
      "source": [
        "m = WordNetLemmatizer()\n",
        "\n",
        "def lemmatize_text(text):\n",
        "    lem_list = nltk.word_tokenize(text)\n",
        "    return ' '.join([m.lemmatize(w) for w in lem_list])\n",
        "\n",
        "def clear_text(text):\n",
        "    clear_text = re.sub(r\"[^a-zA-Z']\", ' ', text)\n",
        "    clear_text = clear_text.split()\n",
        "    clear_text = \" \".join(clear_text)\n",
        "    return clear_text\n"
      ]
    },
    {
      "cell_type": "code",
      "execution_count": null,
      "metadata": {
        "id": "qvLqfyFeh5SJ",
        "outputId": "6d9c8626-46ea-4484-c2c4-bf5ddedf3303"
      },
      "outputs": [
        {
          "data": {
            "text/html": [
              "<div>\n",
              "<style scoped>\n",
              "    .dataframe tbody tr th:only-of-type {\n",
              "        vertical-align: middle;\n",
              "    }\n",
              "\n",
              "    .dataframe tbody tr th {\n",
              "        vertical-align: top;\n",
              "    }\n",
              "\n",
              "    .dataframe thead th {\n",
              "        text-align: right;\n",
              "    }\n",
              "</style>\n",
              "<table border=\"1\" class=\"dataframe\">\n",
              "  <thead>\n",
              "    <tr style=\"text-align: right;\">\n",
              "      <th></th>\n",
              "      <th>text</th>\n",
              "      <th>toxic</th>\n",
              "      <th>lemm_text</th>\n",
              "    </tr>\n",
              "  </thead>\n",
              "  <tbody>\n",
              "    <tr>\n",
              "      <th>0</th>\n",
              "      <td>Explanation Why the edits made under my userna...</td>\n",
              "      <td>0</td>\n",
              "      <td>Explanation Why the edits made under my userna...</td>\n",
              "    </tr>\n",
              "    <tr>\n",
              "      <th>1</th>\n",
              "      <td>D'aww He matches this background colour I'm se...</td>\n",
              "      <td>0</td>\n",
              "      <td>D'aww He match this background colour I 'm see...</td>\n",
              "    </tr>\n",
              "    <tr>\n",
              "      <th>2</th>\n",
              "      <td>Hey man I'm really not trying to edit war It's...</td>\n",
              "      <td>0</td>\n",
              "      <td>Hey man I 'm really not trying to edit war It ...</td>\n",
              "    </tr>\n",
              "    <tr>\n",
              "      <th>3</th>\n",
              "      <td>More I can't make any real suggestions on impr...</td>\n",
              "      <td>0</td>\n",
              "      <td>More I ca n't make any real suggestion on impr...</td>\n",
              "    </tr>\n",
              "    <tr>\n",
              "      <th>4</th>\n",
              "      <td>You sir are my hero Any chance you remember wh...</td>\n",
              "      <td>0</td>\n",
              "      <td>You sir are my hero Any chance you remember wh...</td>\n",
              "    </tr>\n",
              "  </tbody>\n",
              "</table>\n",
              "</div>"
            ],
            "text/plain": [
              "                                                text  toxic  \\\n",
              "0  Explanation Why the edits made under my userna...      0   \n",
              "1  D'aww He matches this background colour I'm se...      0   \n",
              "2  Hey man I'm really not trying to edit war It's...      0   \n",
              "3  More I can't make any real suggestions on impr...      0   \n",
              "4  You sir are my hero Any chance you remember wh...      0   \n",
              "\n",
              "                                           lemm_text  \n",
              "0  Explanation Why the edits made under my userna...  \n",
              "1  D'aww He match this background colour I 'm see...  \n",
              "2  Hey man I 'm really not trying to edit war It ...  \n",
              "3  More I ca n't make any real suggestion on impr...  \n",
              "4  You sir are my hero Any chance you remember wh...  "
            ]
          },
          "execution_count": 5,
          "metadata": {},
          "output_type": "execute_result"
        }
      ],
      "source": [
        "data['text'] = data['text'].apply(clear_text)\n",
        "data['lemm_text'] = data['text'].apply(lemmatize_text)\n",
        "data.head()"
      ]
    },
    {
      "cell_type": "code",
      "execution_count": null,
      "metadata": {
        "id": "X4bQYcWvh5SK"
      },
      "outputs": [],
      "source": [
        "data = data.drop(['text'], axis=1)"
      ]
    },
    {
      "cell_type": "code",
      "execution_count": null,
      "metadata": {
        "id": "AoM3AOU6h5SK"
      },
      "outputs": [],
      "source": [
        "features = data['lemm_text'].values\n",
        "target = data['toxic'].values"
      ]
    },
    {
      "cell_type": "code",
      "execution_count": null,
      "metadata": {
        "id": "ajn4lmmHh5SK"
      },
      "outputs": [],
      "source": [
        "features_train, features_test, target_train, target_test = train_test_split(features, target, test_size=0.2, random_state=12345)"
      ]
    },
    {
      "cell_type": "code",
      "execution_count": null,
      "metadata": {
        "id": "5Hpn4vsyh5SL"
      },
      "outputs": [],
      "source": [
        "stopwords = set(nltk_stopwords.words('english'))\n",
        "\n",
        "count_tf_idf = TfidfVectorizer(stop_words = stopwords)"
      ]
    },
    {
      "cell_type": "code",
      "execution_count": null,
      "metadata": {
        "id": "mfyRybQYh5SL"
      },
      "outputs": [],
      "source": [
        "features_train = count_tf_idf.fit_transform(features_train)\n",
        "features_test = count_tf_idf.transform(features_test)"
      ]
    },
    {
      "cell_type": "markdown",
      "metadata": {
        "id": "mUaViTXMh5SM"
      },
      "source": [
        "## Обучение"
      ]
    },
    {
      "cell_type": "code",
      "execution_count": null,
      "metadata": {
        "id": "abhNlzC-h5SM"
      },
      "outputs": [],
      "source": [
        "def model_fit_predict(model, features_train=features_train, target_train=target_train, \n",
        "                         target_test=target_test, features_test=features_test):\n",
        "    model.fit(features_train, target_train)\n",
        "    return print(\"F score: \", f1_score(target_test, model.predict(features_test)))"
      ]
    },
    {
      "cell_type": "code",
      "execution_count": null,
      "metadata": {
        "id": "zOInrA4ih5SM",
        "outputId": "e4f29419-c24c-425f-dd50-21c378ecf167"
      },
      "outputs": [
        {
          "name": "stdout",
          "output_type": "stream",
          "text": [
            "(127656, 144122) (31915, 144122) (127656,) (31915,)\n"
          ]
        }
      ],
      "source": [
        "print(features_train.shape, features_test.shape, target_train.shape, target_test.shape)"
      ]
    },
    {
      "cell_type": "markdown",
      "metadata": {
        "id": "-MMKxicuh5SM"
      },
      "source": [
        "##### LogisticRegression"
      ]
    },
    {
      "cell_type": "code",
      "execution_count": null,
      "metadata": {
        "id": "g8pYik9Xh5SN",
        "outputId": "d00c86f3-aa97-43f3-fcdd-2cf6884270f3"
      },
      "outputs": [
        {
          "name": "stdout",
          "output_type": "stream",
          "text": [
            "F score:  0.7339791356184798\n"
          ]
        }
      ],
      "source": [
        "model = LogisticRegression()\n",
        "\n",
        "model_fit_predict(model)"
      ]
    },
    {
      "cell_type": "markdown",
      "metadata": {
        "id": "nojbX31ah5SN"
      },
      "source": [
        "##### RandomForest"
      ]
    },
    {
      "cell_type": "code",
      "execution_count": null,
      "metadata": {
        "id": "gQAIpkIah5SN",
        "outputId": "f8821827-dbbd-4af0-ac9b-2ad373412f3d"
      },
      "outputs": [
        {
          "name": "stdout",
          "output_type": "stream",
          "text": [
            "F score:  0.6999615827890895\n"
          ]
        }
      ],
      "source": [
        "model = RandomForestClassifier()\n",
        "\n",
        "model_fit_predict(model)"
      ]
    },
    {
      "cell_type": "markdown",
      "metadata": {
        "id": "LMu1SIslh5SN"
      },
      "source": [
        "Попробуем улучшить LogisticRegression с помощью перебора параметров"
      ]
    },
    {
      "cell_type": "code",
      "execution_count": null,
      "metadata": {
        "id": "8jaovkHfh5SO",
        "outputId": "56b36096-1473-47f2-9904-4a8b4ed18e09"
      },
      "outputs": [
        {
          "name": "stdout",
          "output_type": "stream",
          "text": [
            "Fitting 3 folds for each of 10 candidates, totalling 30 fits\n",
            "Best Params {'C': 4, 'penalty': 'l1'}\n",
            "Best Score 0.7735164543698501\n"
          ]
        }
      ],
      "source": [
        "lr_model = LogisticRegression(random_state=12345, solver='liblinear', max_iter=100)\n",
        "params = {'penalty':['l1', 'l2'], 'C':list(range(1,15,3))}\n",
        "\n",
        "lr_grid = GridSearchCV(lr_model, params, cv=3, scoring='f1', verbose=True).fit(features_train, target_train)\n",
        "\n",
        "print (\"Best Params\", lr_grid.best_params_)\n",
        "print (\"Best Score\", lr_grid.best_score_)"
      ]
    },
    {
      "cell_type": "code",
      "execution_count": null,
      "metadata": {
        "id": "14GVz2buh5SO",
        "outputId": "ba3dd9f3-3cc5-4ebd-d95f-4533c60b3763"
      },
      "outputs": [
        {
          "name": "stdout",
          "output_type": "stream",
          "text": [
            "F score:  0.7595838677497506\n"
          ]
        }
      ],
      "source": [
        "lr_best_param = LogisticRegression(random_state=12345, C = 4, penalty = 'l1', solver='liblinear', max_iter=100)\n",
        "\n",
        "model_fit_predict(lr_best_param)\n"
      ]
    },
    {
      "cell_type": "markdown",
      "metadata": {
        "id": "1xmreo-uh5SP"
      },
      "source": [
        "## Выводы"
      ]
    },
    {
      "cell_type": "markdown",
      "metadata": {
        "id": "YgA0WG9Bh5SP"
      },
      "source": [
        "Лучший результат у модели LogisticRegression. После перебора параметров F score получился 0.7735.\n",
        "На тестовой выборке 0.7596."
      ]
    }
  ],
  "metadata": {
    "ExecuteTimeLog": [
      {
        "duration": 557,
        "start_time": "2022-05-31T10:58:31.042Z"
      },
      {
        "duration": 2382,
        "start_time": "2022-05-31T10:58:31.601Z"
      },
      {
        "duration": 1094,
        "start_time": "2022-05-31T12:55:35.785Z"
      },
      {
        "duration": 978,
        "start_time": "2022-05-31T12:55:36.881Z"
      },
      {
        "duration": 42,
        "start_time": "2022-05-31T12:55:37.861Z"
      },
      {
        "duration": 3284,
        "start_time": "2022-05-31T12:55:37.907Z"
      },
      {
        "duration": 11,
        "start_time": "2022-05-31T12:55:41.193Z"
      },
      {
        "duration": 151,
        "start_time": "2022-05-31T12:55:41.206Z"
      },
      {
        "duration": 0,
        "start_time": "2022-05-31T12:55:41.358Z"
      },
      {
        "duration": 0,
        "start_time": "2022-05-31T12:55:41.360Z"
      },
      {
        "duration": 0,
        "start_time": "2022-05-31T12:55:41.361Z"
      },
      {
        "duration": 4,
        "start_time": "2022-05-31T13:10:28.445Z"
      },
      {
        "duration": 914,
        "start_time": "2022-05-31T13:10:28.450Z"
      },
      {
        "duration": 30,
        "start_time": "2022-05-31T13:10:29.367Z"
      },
      {
        "duration": 1167,
        "start_time": "2022-05-31T13:10:39.395Z"
      },
      {
        "duration": 2496,
        "start_time": "2022-05-31T13:10:40.564Z"
      },
      {
        "duration": 32,
        "start_time": "2022-05-31T13:10:43.061Z"
      },
      {
        "duration": 2062,
        "start_time": "2022-05-31T13:10:43.096Z"
      },
      {
        "duration": 9,
        "start_time": "2022-05-31T13:10:45.161Z"
      },
      {
        "duration": 128,
        "start_time": "2022-05-31T13:10:45.180Z"
      },
      {
        "duration": 0,
        "start_time": "2022-05-31T13:10:45.309Z"
      },
      {
        "duration": 0,
        "start_time": "2022-05-31T13:10:45.311Z"
      },
      {
        "duration": 0,
        "start_time": "2022-05-31T13:10:45.312Z"
      },
      {
        "duration": 0,
        "start_time": "2022-05-31T13:10:45.313Z"
      },
      {
        "duration": 0,
        "start_time": "2022-05-31T13:10:45.314Z"
      },
      {
        "duration": 1049,
        "start_time": "2022-05-31T13:17:35.027Z"
      },
      {
        "duration": 896,
        "start_time": "2022-05-31T13:17:36.079Z"
      },
      {
        "duration": 35,
        "start_time": "2022-05-31T13:17:36.977Z"
      },
      {
        "duration": 2024,
        "start_time": "2022-05-31T13:17:37.014Z"
      },
      {
        "duration": 6,
        "start_time": "2022-05-31T13:17:39.041Z"
      },
      {
        "duration": 173,
        "start_time": "2022-05-31T13:17:39.048Z"
      },
      {
        "duration": 0,
        "start_time": "2022-05-31T13:17:39.224Z"
      },
      {
        "duration": 0,
        "start_time": "2022-05-31T13:17:39.225Z"
      },
      {
        "duration": 0,
        "start_time": "2022-05-31T13:17:39.227Z"
      },
      {
        "duration": 0,
        "start_time": "2022-05-31T13:17:39.229Z"
      },
      {
        "duration": 0,
        "start_time": "2022-05-31T13:17:39.231Z"
      },
      {
        "duration": 3,
        "start_time": "2022-05-31T13:18:02.293Z"
      },
      {
        "duration": 1038,
        "start_time": "2022-05-31T13:18:02.298Z"
      },
      {
        "duration": 28,
        "start_time": "2022-05-31T13:18:03.338Z"
      },
      {
        "duration": 3,
        "start_time": "2022-05-31T13:18:03.379Z"
      },
      {
        "duration": 6,
        "start_time": "2022-05-31T13:18:03.383Z"
      },
      {
        "duration": 90473,
        "start_time": "2022-05-31T13:18:03.391Z"
      },
      {
        "duration": 35,
        "start_time": "2022-05-31T13:19:33.865Z"
      },
      {
        "duration": 3,
        "start_time": "2022-05-31T13:19:33.901Z"
      },
      {
        "duration": 13,
        "start_time": "2022-05-31T13:19:33.906Z"
      },
      {
        "duration": 0,
        "start_time": "2022-05-31T13:19:33.920Z"
      },
      {
        "duration": 0,
        "start_time": "2022-05-31T13:19:33.922Z"
      },
      {
        "duration": 3,
        "start_time": "2022-05-31T13:20:07.049Z"
      },
      {
        "duration": 852,
        "start_time": "2022-05-31T13:20:07.054Z"
      },
      {
        "duration": 30,
        "start_time": "2022-05-31T13:20:07.908Z"
      },
      {
        "duration": 2,
        "start_time": "2022-05-31T13:20:07.940Z"
      },
      {
        "duration": 8,
        "start_time": "2022-05-31T13:20:07.944Z"
      },
      {
        "duration": 88470,
        "start_time": "2022-05-31T13:20:07.954Z"
      },
      {
        "duration": 26,
        "start_time": "2022-05-31T13:21:36.426Z"
      },
      {
        "duration": 6,
        "start_time": "2022-05-31T13:21:36.453Z"
      },
      {
        "duration": 44,
        "start_time": "2022-05-31T13:21:36.462Z"
      },
      {
        "duration": 9,
        "start_time": "2022-05-31T13:21:36.508Z"
      },
      {
        "duration": 0,
        "start_time": "2022-05-31T13:21:36.519Z"
      },
      {
        "duration": 4,
        "start_time": "2022-05-31T13:27:47.460Z"
      },
      {
        "duration": 894,
        "start_time": "2022-05-31T13:27:47.467Z"
      },
      {
        "duration": 35,
        "start_time": "2022-05-31T13:27:48.363Z"
      },
      {
        "duration": 2,
        "start_time": "2022-05-31T13:27:48.400Z"
      },
      {
        "duration": 5,
        "start_time": "2022-05-31T13:27:48.405Z"
      },
      {
        "duration": 91358,
        "start_time": "2022-05-31T13:27:48.412Z"
      },
      {
        "duration": 28,
        "start_time": "2022-05-31T13:29:19.772Z"
      },
      {
        "duration": 5,
        "start_time": "2022-05-31T13:29:19.802Z"
      },
      {
        "duration": 25,
        "start_time": "2022-05-31T13:29:19.809Z"
      },
      {
        "duration": 11,
        "start_time": "2022-05-31T13:29:19.836Z"
      },
      {
        "duration": 0,
        "start_time": "2022-05-31T13:29:19.848Z"
      },
      {
        "duration": 13,
        "start_time": "2022-05-31T13:31:23.908Z"
      },
      {
        "duration": 4,
        "start_time": "2022-05-31T13:31:32.852Z"
      },
      {
        "duration": 7184,
        "start_time": "2022-05-31T13:31:37.156Z"
      },
      {
        "duration": 4,
        "start_time": "2022-05-31T13:37:06.016Z"
      },
      {
        "duration": 813,
        "start_time": "2022-05-31T13:37:06.023Z"
      },
      {
        "duration": 30,
        "start_time": "2022-05-31T13:37:06.837Z"
      },
      {
        "duration": 4,
        "start_time": "2022-05-31T13:37:06.880Z"
      },
      {
        "duration": 90378,
        "start_time": "2022-05-31T13:37:06.885Z"
      },
      {
        "duration": 33,
        "start_time": "2022-05-31T13:38:37.266Z"
      },
      {
        "duration": 6,
        "start_time": "2022-05-31T13:38:37.300Z"
      },
      {
        "duration": 21,
        "start_time": "2022-05-31T13:38:37.308Z"
      },
      {
        "duration": 24,
        "start_time": "2022-05-31T13:38:37.332Z"
      },
      {
        "duration": 7250,
        "start_time": "2022-05-31T13:38:37.358Z"
      },
      {
        "duration": 3,
        "start_time": "2022-05-31T13:38:44.610Z"
      },
      {
        "duration": 15504,
        "start_time": "2022-05-31T13:38:44.615Z"
      },
      {
        "duration": 8,
        "start_time": "2022-05-31T13:39:00.121Z"
      },
      {
        "duration": 26,
        "start_time": "2022-05-31T13:39:00.132Z"
      },
      {
        "duration": 33,
        "start_time": "2022-05-31T13:55:30.423Z"
      },
      {
        "duration": 798,
        "start_time": "2022-05-31T13:55:30.458Z"
      },
      {
        "duration": 36,
        "start_time": "2022-05-31T13:55:31.257Z"
      },
      {
        "duration": 3,
        "start_time": "2022-05-31T13:55:31.296Z"
      },
      {
        "duration": 91517,
        "start_time": "2022-05-31T13:55:31.301Z"
      },
      {
        "duration": 28,
        "start_time": "2022-05-31T13:57:02.820Z"
      },
      {
        "duration": 6,
        "start_time": "2022-05-31T13:57:02.850Z"
      },
      {
        "duration": 36,
        "start_time": "2022-05-31T13:57:02.857Z"
      },
      {
        "duration": 15,
        "start_time": "2022-05-31T13:57:02.895Z"
      },
      {
        "duration": 7184,
        "start_time": "2022-05-31T13:57:02.912Z"
      },
      {
        "duration": 3,
        "start_time": "2022-05-31T13:57:10.099Z"
      },
      {
        "duration": 15299,
        "start_time": "2022-05-31T13:57:10.103Z"
      },
      {
        "duration": 7,
        "start_time": "2022-05-31T13:57:25.404Z"
      },
      {
        "duration": 14,
        "start_time": "2022-05-31T13:57:25.412Z"
      },
      {
        "duration": 16,
        "start_time": "2022-05-31T13:57:25.427Z"
      },
      {
        "duration": 0,
        "start_time": "2022-05-31T13:57:25.444Z"
      },
      {
        "duration": 0,
        "start_time": "2022-05-31T13:57:25.446Z"
      },
      {
        "duration": 4,
        "start_time": "2022-05-31T13:57:51.174Z"
      },
      {
        "duration": 1221,
        "start_time": "2022-05-31T14:10:18.352Z"
      },
      {
        "duration": 960,
        "start_time": "2022-05-31T14:10:19.576Z"
      },
      {
        "duration": 42,
        "start_time": "2022-05-31T14:10:20.538Z"
      },
      {
        "duration": 4,
        "start_time": "2022-05-31T14:10:20.583Z"
      },
      {
        "duration": 91518,
        "start_time": "2022-05-31T14:10:20.589Z"
      },
      {
        "duration": 29,
        "start_time": "2022-05-31T14:11:52.108Z"
      },
      {
        "duration": 4,
        "start_time": "2022-05-31T14:11:52.139Z"
      },
      {
        "duration": 38,
        "start_time": "2022-05-31T14:11:52.144Z"
      },
      {
        "duration": 4,
        "start_time": "2022-05-31T14:11:52.183Z"
      },
      {
        "duration": 7145,
        "start_time": "2022-05-31T14:11:52.190Z"
      },
      {
        "duration": 3,
        "start_time": "2022-05-31T14:11:59.337Z"
      },
      {
        "duration": 16158,
        "start_time": "2022-05-31T14:11:59.341Z"
      },
      {
        "duration": 9,
        "start_time": "2022-05-31T14:12:15.500Z"
      },
      {
        "duration": 37,
        "start_time": "2022-05-31T14:12:15.510Z"
      },
      {
        "duration": 4,
        "start_time": "2022-05-31T14:12:15.549Z"
      },
      {
        "duration": 1083,
        "start_time": "2022-05-31T15:08:14.479Z"
      },
      {
        "duration": 886,
        "start_time": "2022-05-31T15:08:15.564Z"
      },
      {
        "duration": 35,
        "start_time": "2022-05-31T15:08:16.453Z"
      },
      {
        "duration": 4,
        "start_time": "2022-05-31T15:08:16.490Z"
      },
      {
        "duration": 87606,
        "start_time": "2022-05-31T15:08:16.496Z"
      },
      {
        "duration": 27,
        "start_time": "2022-05-31T15:09:44.104Z"
      },
      {
        "duration": 3,
        "start_time": "2022-05-31T15:09:44.133Z"
      },
      {
        "duration": 20,
        "start_time": "2022-05-31T15:09:44.137Z"
      },
      {
        "duration": 21,
        "start_time": "2022-05-31T15:09:44.159Z"
      },
      {
        "duration": 6658,
        "start_time": "2022-05-31T15:09:44.181Z"
      },
      {
        "duration": 2,
        "start_time": "2022-05-31T15:09:50.841Z"
      },
      {
        "duration": 7,
        "start_time": "2022-05-31T15:09:50.845Z"
      },
      {
        "duration": 7,
        "start_time": "2022-05-31T15:09:50.853Z"
      },
      {
        "duration": 12,
        "start_time": "2022-05-31T15:09:50.862Z"
      },
      {
        "duration": 88471,
        "start_time": "2022-05-31T15:09:50.875Z"
      },
      {
        "duration": 9,
        "start_time": "2022-05-31T15:11:19.348Z"
      },
      {
        "duration": 9,
        "start_time": "2022-05-31T15:11:21.338Z"
      },
      {
        "duration": 3,
        "start_time": "2022-05-31T15:12:08.458Z"
      },
      {
        "duration": 763,
        "start_time": "2022-05-31T15:12:08.463Z"
      },
      {
        "duration": 26,
        "start_time": "2022-05-31T15:12:09.229Z"
      },
      {
        "duration": 4,
        "start_time": "2022-05-31T15:12:09.257Z"
      },
      {
        "duration": 82228,
        "start_time": "2022-05-31T15:12:09.279Z"
      },
      {
        "duration": 25,
        "start_time": "2022-05-31T15:13:31.509Z"
      },
      {
        "duration": 6,
        "start_time": "2022-05-31T15:13:31.536Z"
      },
      {
        "duration": 35,
        "start_time": "2022-05-31T15:13:31.545Z"
      },
      {
        "duration": 16,
        "start_time": "2022-05-31T15:13:31.582Z"
      },
      {
        "duration": 6955,
        "start_time": "2022-05-31T15:13:31.600Z"
      },
      {
        "duration": 2,
        "start_time": "2022-05-31T15:13:38.557Z"
      },
      {
        "duration": 5,
        "start_time": "2022-05-31T15:13:38.561Z"
      },
      {
        "duration": 14,
        "start_time": "2022-05-31T15:13:38.567Z"
      },
      {
        "duration": 54603,
        "start_time": "2022-05-31T15:13:38.582Z"
      },
      {
        "duration": 3,
        "start_time": "2022-05-31T15:14:33.186Z"
      },
      {
        "duration": 444050,
        "start_time": "2022-05-31T15:14:33.191Z"
      },
      {
        "duration": 9,
        "start_time": "2022-05-31T15:21:57.243Z"
      },
      {
        "duration": 0,
        "start_time": "2022-05-31T15:21:57.255Z"
      },
      {
        "duration": 9,
        "start_time": "2022-05-31T15:22:00.372Z"
      },
      {
        "duration": 4,
        "start_time": "2022-05-31T15:23:06.619Z"
      },
      {
        "duration": 796,
        "start_time": "2022-05-31T15:23:06.625Z"
      },
      {
        "duration": 29,
        "start_time": "2022-05-31T15:23:07.423Z"
      },
      {
        "duration": 4,
        "start_time": "2022-05-31T15:23:07.454Z"
      },
      {
        "duration": 75878,
        "start_time": "2022-05-31T15:23:07.460Z"
      },
      {
        "duration": 24,
        "start_time": "2022-05-31T15:24:23.339Z"
      },
      {
        "duration": 16,
        "start_time": "2022-05-31T15:24:23.364Z"
      },
      {
        "duration": 17,
        "start_time": "2022-05-31T15:24:23.381Z"
      },
      {
        "duration": 14,
        "start_time": "2022-05-31T15:24:23.399Z"
      },
      {
        "duration": 6046,
        "start_time": "2022-05-31T15:24:23.414Z"
      },
      {
        "duration": 3,
        "start_time": "2022-05-31T15:24:29.462Z"
      },
      {
        "duration": 13,
        "start_time": "2022-05-31T15:24:29.467Z"
      },
      {
        "duration": 51599,
        "start_time": "2022-05-31T15:24:29.482Z"
      },
      {
        "duration": 1069,
        "start_time": "2022-05-31T15:48:58.589Z"
      },
      {
        "duration": 838,
        "start_time": "2022-05-31T15:48:59.660Z"
      },
      {
        "duration": 32,
        "start_time": "2022-05-31T15:49:00.500Z"
      },
      {
        "duration": 5,
        "start_time": "2022-05-31T15:49:00.534Z"
      },
      {
        "duration": 77586,
        "start_time": "2022-05-31T15:49:00.540Z"
      },
      {
        "duration": 26,
        "start_time": "2022-05-31T15:50:18.127Z"
      },
      {
        "duration": 2,
        "start_time": "2022-05-31T15:50:18.155Z"
      },
      {
        "duration": 32,
        "start_time": "2022-05-31T15:50:18.159Z"
      },
      {
        "duration": 3,
        "start_time": "2022-05-31T15:50:18.193Z"
      },
      {
        "duration": 6082,
        "start_time": "2022-05-31T15:50:18.198Z"
      },
      {
        "duration": 3,
        "start_time": "2022-05-31T15:50:24.281Z"
      },
      {
        "duration": 6,
        "start_time": "2022-05-31T15:50:24.286Z"
      },
      {
        "duration": 5,
        "start_time": "2022-05-31T15:50:24.293Z"
      },
      {
        "duration": 0,
        "start_time": "2022-05-31T15:50:24.299Z"
      },
      {
        "duration": 1029,
        "start_time": "2022-05-31T15:50:53.412Z"
      },
      {
        "duration": 825,
        "start_time": "2022-05-31T15:50:54.443Z"
      },
      {
        "duration": 28,
        "start_time": "2022-05-31T15:50:55.269Z"
      },
      {
        "duration": 3,
        "start_time": "2022-05-31T15:50:55.299Z"
      },
      {
        "duration": 76734,
        "start_time": "2022-05-31T15:50:55.304Z"
      },
      {
        "duration": 40,
        "start_time": "2022-05-31T15:52:12.040Z"
      },
      {
        "duration": 3,
        "start_time": "2022-05-31T15:52:12.082Z"
      },
      {
        "duration": 37,
        "start_time": "2022-05-31T15:52:12.086Z"
      },
      {
        "duration": 5,
        "start_time": "2022-05-31T15:52:12.125Z"
      },
      {
        "duration": 6387,
        "start_time": "2022-05-31T15:52:12.133Z"
      },
      {
        "duration": 3,
        "start_time": "2022-05-31T15:52:18.521Z"
      },
      {
        "duration": 9,
        "start_time": "2022-05-31T15:52:18.525Z"
      },
      {
        "duration": 54353,
        "start_time": "2022-05-31T15:52:18.535Z"
      },
      {
        "duration": 521066,
        "start_time": "2022-05-31T15:53:12.889Z"
      },
      {
        "duration": 202238,
        "start_time": "2022-05-31T16:09:28.852Z"
      },
      {
        "duration": 1032,
        "start_time": "2022-05-31T16:24:40.389Z"
      },
      {
        "duration": 838,
        "start_time": "2022-05-31T16:24:41.423Z"
      },
      {
        "duration": 40,
        "start_time": "2022-05-31T16:24:42.264Z"
      },
      {
        "duration": 5,
        "start_time": "2022-05-31T16:24:42.305Z"
      },
      {
        "duration": 76668,
        "start_time": "2022-05-31T16:24:42.312Z"
      },
      {
        "duration": 27,
        "start_time": "2022-05-31T16:25:58.981Z"
      },
      {
        "duration": 3,
        "start_time": "2022-05-31T16:25:59.009Z"
      },
      {
        "duration": 28,
        "start_time": "2022-05-31T16:25:59.013Z"
      },
      {
        "duration": 5,
        "start_time": "2022-05-31T16:25:59.043Z"
      },
      {
        "duration": 6197,
        "start_time": "2022-05-31T16:25:59.049Z"
      },
      {
        "duration": 3,
        "start_time": "2022-05-31T16:26:05.247Z"
      },
      {
        "duration": 6,
        "start_time": "2022-05-31T16:26:05.252Z"
      },
      {
        "duration": 49032,
        "start_time": "2022-05-31T16:26:05.260Z"
      },
      {
        "duration": 506068,
        "start_time": "2022-05-31T16:26:54.294Z"
      },
      {
        "duration": 201608,
        "start_time": "2022-05-31T16:35:20.365Z"
      },
      {
        "duration": 27,
        "start_time": "2022-05-31T16:43:22.165Z"
      },
      {
        "duration": 28,
        "start_time": "2022-05-31T16:43:53.584Z"
      },
      {
        "duration": 37,
        "start_time": "2022-05-31T16:44:00.184Z"
      },
      {
        "duration": 59,
        "start_time": "2022-06-01T16:46:01.959Z"
      },
      {
        "duration": 1167,
        "start_time": "2022-06-01T16:46:09.032Z"
      },
      {
        "duration": 2626,
        "start_time": "2022-06-01T16:46:10.201Z"
      },
      {
        "duration": 32,
        "start_time": "2022-06-01T16:46:12.828Z"
      },
      {
        "duration": 5,
        "start_time": "2022-06-01T16:46:12.861Z"
      },
      {
        "duration": 87782,
        "start_time": "2022-06-01T16:46:12.867Z"
      },
      {
        "duration": 30,
        "start_time": "2022-06-01T16:47:40.651Z"
      },
      {
        "duration": 3,
        "start_time": "2022-06-01T16:47:40.683Z"
      },
      {
        "duration": 33,
        "start_time": "2022-06-01T16:47:40.687Z"
      },
      {
        "duration": 3,
        "start_time": "2022-06-01T16:47:40.722Z"
      },
      {
        "duration": 7145,
        "start_time": "2022-06-01T16:47:40.728Z"
      },
      {
        "duration": 4,
        "start_time": "2022-06-01T16:47:47.875Z"
      },
      {
        "duration": 14,
        "start_time": "2022-06-01T16:47:47.881Z"
      },
      {
        "duration": 50408,
        "start_time": "2022-06-01T16:47:47.896Z"
      },
      {
        "duration": 1123,
        "start_time": "2022-06-02T11:07:59.138Z"
      },
      {
        "duration": 2389,
        "start_time": "2022-06-02T11:08:00.263Z"
      },
      {
        "duration": 28,
        "start_time": "2022-06-02T11:08:02.653Z"
      },
      {
        "duration": 4,
        "start_time": "2022-06-02T11:08:02.683Z"
      },
      {
        "duration": 81295,
        "start_time": "2022-06-02T11:08:02.689Z"
      },
      {
        "duration": 26,
        "start_time": "2022-06-02T11:09:23.985Z"
      },
      {
        "duration": 3,
        "start_time": "2022-06-02T11:09:24.013Z"
      },
      {
        "duration": 22,
        "start_time": "2022-06-02T11:09:24.017Z"
      },
      {
        "duration": 3,
        "start_time": "2022-06-02T11:09:24.041Z"
      },
      {
        "duration": 6437,
        "start_time": "2022-06-02T11:09:24.064Z"
      },
      {
        "duration": 2,
        "start_time": "2022-06-02T11:09:30.503Z"
      },
      {
        "duration": 31,
        "start_time": "2022-06-02T11:09:30.507Z"
      },
      {
        "duration": 1032,
        "start_time": "2022-06-02T11:09:59.615Z"
      },
      {
        "duration": 872,
        "start_time": "2022-06-02T11:10:00.649Z"
      },
      {
        "duration": 43,
        "start_time": "2022-06-02T11:10:01.522Z"
      },
      {
        "duration": 18,
        "start_time": "2022-06-02T11:10:01.567Z"
      },
      {
        "duration": 80192,
        "start_time": "2022-06-02T11:10:01.588Z"
      },
      {
        "duration": 27,
        "start_time": "2022-06-02T11:11:21.782Z"
      },
      {
        "duration": 3,
        "start_time": "2022-06-02T11:11:21.810Z"
      },
      {
        "duration": 20,
        "start_time": "2022-06-02T11:11:21.814Z"
      },
      {
        "duration": 4,
        "start_time": "2022-06-02T11:11:21.835Z"
      },
      {
        "duration": 6430,
        "start_time": "2022-06-02T11:11:21.841Z"
      },
      {
        "duration": 3,
        "start_time": "2022-06-02T11:11:28.273Z"
      },
      {
        "duration": 9,
        "start_time": "2022-06-02T11:11:28.277Z"
      },
      {
        "duration": 47579,
        "start_time": "2022-06-02T11:11:28.287Z"
      },
      {
        "duration": 570056,
        "start_time": "2022-06-02T11:12:15.868Z"
      },
      {
        "duration": 212318,
        "start_time": "2022-06-02T11:21:45.925Z"
      },
      {
        "duration": 3498,
        "start_time": "2022-06-02T11:25:18.245Z"
      },
      {
        "duration": 22,
        "start_time": "2022-06-02T11:25:21.745Z"
      },
      {
        "duration": 3396,
        "start_time": "2022-06-02T11:26:51.665Z"
      },
      {
        "duration": 1031,
        "start_time": "2022-06-02T11:34:59.519Z"
      },
      {
        "duration": 868,
        "start_time": "2022-06-02T11:35:00.552Z"
      },
      {
        "duration": 31,
        "start_time": "2022-06-02T11:35:01.421Z"
      },
      {
        "duration": 3,
        "start_time": "2022-06-02T11:35:01.464Z"
      },
      {
        "duration": 80534,
        "start_time": "2022-06-02T11:35:01.469Z"
      },
      {
        "duration": 28,
        "start_time": "2022-06-02T11:36:22.005Z"
      },
      {
        "duration": 2,
        "start_time": "2022-06-02T11:36:22.035Z"
      },
      {
        "duration": 37,
        "start_time": "2022-06-02T11:36:22.039Z"
      },
      {
        "duration": 5,
        "start_time": "2022-06-02T11:36:22.077Z"
      },
      {
        "duration": 6626,
        "start_time": "2022-06-02T11:36:22.084Z"
      },
      {
        "duration": 3,
        "start_time": "2022-06-02T11:36:28.711Z"
      },
      {
        "duration": 9,
        "start_time": "2022-06-02T11:36:28.715Z"
      },
      {
        "duration": 46239,
        "start_time": "2022-06-02T11:36:28.726Z"
      },
      {
        "duration": 584577,
        "start_time": "2022-06-02T11:37:14.967Z"
      },
      {
        "duration": 213485,
        "start_time": "2022-06-02T11:46:59.546Z"
      },
      {
        "duration": 3442,
        "start_time": "2022-06-02T11:50:33.033Z"
      }
    ],
    "kernelspec": {
      "display_name": "Python 3 (ipykernel)",
      "language": "python",
      "name": "python3"
    },
    "language_info": {
      "codemirror_mode": {
        "name": "ipython",
        "version": 3
      },
      "file_extension": ".py",
      "mimetype": "text/x-python",
      "name": "python",
      "nbconvert_exporter": "python",
      "pygments_lexer": "ipython3",
      "version": "3.9.5"
    },
    "toc": {
      "base_numbering": 1,
      "nav_menu": {},
      "number_sections": false,
      "sideBar": true,
      "skip_h1_title": true,
      "title_cell": "Содержание",
      "title_sidebar": "Contents",
      "toc_cell": true,
      "toc_position": {
        "height": "calc(100% - 180px)",
        "left": "10px",
        "top": "150px",
        "width": "302.391px"
      },
      "toc_section_display": true,
      "toc_window_display": false
    },
    "colab": {
      "provenance": []
    }
  },
  "nbformat": 4,
  "nbformat_minor": 0
}