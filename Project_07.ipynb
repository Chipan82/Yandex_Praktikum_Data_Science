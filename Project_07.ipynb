{
  "cells": [
    {
      "cell_type": "markdown",
      "metadata": {
        "id": "8HrkGibJ1uIC"
      },
      "source": [
        "# Выбор локации для скважины"
      ]
    },
    {
      "cell_type": "markdown",
      "metadata": {
        "id": "BFlLmUv_1uID"
      },
      "source": [
        "Допустим, вы работаете в добывающей компании «ГлавРосГосНефть». Нужно решить, где бурить новую скважину.\n",
        "\n",
        "Вам предоставлены пробы нефти в трёх регионах: в каждом 10 000 месторождений, где измерили качество нефти и объём её запасов. Постройте модель машинного обучения, которая поможет определить регион, где добыча принесёт наибольшую прибыль. Проанализируйте возможную прибыль и риски техникой *Bootstrap.*\n",
        "\n",
        "Шаги для выбора локации:\n",
        "\n",
        "- В избранном регионе ищут месторождения, для каждого определяют значения признаков;\n",
        "- Строят модель и оценивают объём запасов;\n",
        "- Выбирают месторождения с самым высокими оценками значений. Количество месторождений зависит от бюджета компании и стоимости разработки одной скважины;\n",
        "- Прибыль равна суммарной прибыли отобранных месторождений."
      ]
    },
    {
      "cell_type": "markdown",
      "metadata": {
        "id": "ua0ufjdU1uIE"
      },
      "source": [
        "#### План работы\n",
        "###### Шаг 1. Откроем, изучим и подготовим данные\n",
        "###### Шаг 2. Обучим и проверим модель для каждого региона\n",
        "    Разобьём данные на обучающую и валидационную выборки в соотношении 75:25\n",
        "    Обучим модель и сделаем предсказания на валидационной выборке\n",
        "    Сохраним предсказания и правильные ответы на валидационной выборке\n",
        "    Покажем средний запас предсказанного сырья и RMSE модели\n",
        "    Проанализируем результаты\n",
        "###### Шаг 3. Подготовка к расчёту прибыли\n",
        "    Все ключевые значения для расчётов сохраним в отдельных переменных\n",
        "    Рассчитаем достаточный объём сырья для безубыточной разработки новой скважины. Сравним полученный объём сырья со средним запасом в каждом регионе\n",
        "    Напишем выводы по этапу подготовки расчёта прибыли\n",
        "###### Шаг 4. Напишем функцию для расчёта прибыли по выбранным скважинам и предсказаниям модели\n",
        "    Выберем скважины с максимальными значениями предсказаний\n",
        "    Просуммируем целевое значение объёма сырья, соответствующее этим предсказаниям\n",
        "    Рассчитаем прибыль для полученного объёма сырья\n",
        "###### Шаг 5. Посчитаем риски и прибыль для каждого региона\n",
        "    Применим технику Bootstrap с 1000 выборок, чтобы найти распределение прибыли\n",
        "    Найдём среднюю прибыль, 95%-й доверительный интервал и риск убытков. Убыток — это отрицательная прибыль\n",
        "    Напишем выводы: предложим регион для разработки скважин и обоснуем выбор"
      ]
    },
    {
      "cell_type": "markdown",
      "metadata": {
        "id": "7w77jASU1uIE"
      },
      "source": [
        "### Описание данных\n",
        "\n",
        "    Данные геологоразведки трёх регионов:\n",
        "\n",
        "    id — уникальный идентификатор скважины;\n",
        "    f0, f1, f2 — три признака точек (неважно, что они означают, но сами признаки значимы);\n",
        "    product — объём запасов в скважине (тыс. баррелей)."
      ]
    },
    {
      "cell_type": "markdown",
      "metadata": {
        "id": "oS98wqNk1uIF"
      },
      "source": [
        "#### Условия задачи:\n",
        "\n",
        "    Для обучения модели подходит только линейная регрессия (остальные — недостаточно предсказуемые).\n",
        "    При разведке региона исследуют 500 точек, из которых с помощью машинного обучения выбирают 200 лучших для разработки.\n",
        "    Бюджет на разработку скважин в регионе — 10 млрд рублей.\n",
        "    При нынешних ценах один баррель сырья приносит 450 рублей дохода. Доход с каждой единицы продукта составляет 450 тыс. рублей, поскольку объём указан в тысячах баррелей.\n",
        "    После оценки рисков нужно оставить лишь те регионы, в которых вероятность убытков меньше 2.5%. Среди них выбирают регион с наибольшей средней прибылью."
      ]
    },
    {
      "cell_type": "markdown",
      "metadata": {
        "id": "W6Re-znn1uIF"
      },
      "source": [
        "## Загрузка и подготовка данных"
      ]
    },
    {
      "cell_type": "code",
      "execution_count": null,
      "metadata": {
        "id": "jDoF-Zj91uIG"
      },
      "outputs": [],
      "source": [
        "import pandas as pd\n",
        "import numpy as np\n",
        "from scipy import stats as st\n",
        "from sklearn.linear_model import LinearRegression\n",
        "from sklearn.metrics import mean_squared_error\n",
        "from sklearn.model_selection import train_test_split"
      ]
    },
    {
      "cell_type": "code",
      "execution_count": null,
      "metadata": {
        "id": "fIDZGG871uIH"
      },
      "outputs": [],
      "source": [
        "data_0 = pd.read_csv('/datasets/geo_data_0.csv')\n",
        "data_1 = pd.read_csv('/datasets/geo_data_1.csv')\n",
        "data_2 = pd.read_csv('/datasets/geo_data_2.csv')"
      ]
    },
    {
      "cell_type": "code",
      "execution_count": null,
      "metadata": {
        "id": "BQxZExAl1uIH",
        "outputId": "3a9b8a74-ff0d-4d1c-bf79-fa8bb883deaa"
      },
      "outputs": [
        {
          "data": {
            "text/plain": [
              "(100000, 5)"
            ]
          },
          "execution_count": 3,
          "metadata": {},
          "output_type": "execute_result"
        }
      ],
      "source": [
        "data_0.shape"
      ]
    },
    {
      "cell_type": "code",
      "execution_count": null,
      "metadata": {
        "id": "TWJrcah01uII",
        "outputId": "6a59e9bc-f2d7-4318-e340-353656096126"
      },
      "outputs": [
        {
          "data": {
            "text/plain": [
              "(100000, 5)"
            ]
          },
          "execution_count": 4,
          "metadata": {},
          "output_type": "execute_result"
        }
      ],
      "source": [
        "data_1.shape"
      ]
    },
    {
      "cell_type": "code",
      "execution_count": null,
      "metadata": {
        "id": "rtr773Zn1uIJ",
        "outputId": "221a4d28-bf13-43a3-ae24-4b136e205342"
      },
      "outputs": [
        {
          "data": {
            "text/plain": [
              "(100000, 5)"
            ]
          },
          "execution_count": 5,
          "metadata": {},
          "output_type": "execute_result"
        }
      ],
      "source": [
        "data_2.shape"
      ]
    },
    {
      "cell_type": "code",
      "execution_count": null,
      "metadata": {
        "id": "DxCqyCzW1uIJ",
        "outputId": "d996100c-571e-4155-d279-7424eaeb2518"
      },
      "outputs": [
        {
          "name": "stdout",
          "output_type": "stream",
          "text": [
            "<class 'pandas.core.frame.DataFrame'>\n",
            "RangeIndex: 100000 entries, 0 to 99999\n",
            "Data columns (total 5 columns):\n",
            " #   Column   Non-Null Count   Dtype  \n",
            "---  ------   --------------   -----  \n",
            " 0   id       100000 non-null  object \n",
            " 1   f0       100000 non-null  float64\n",
            " 2   f1       100000 non-null  float64\n",
            " 3   f2       100000 non-null  float64\n",
            " 4   product  100000 non-null  float64\n",
            "dtypes: float64(4), object(1)\n",
            "memory usage: 3.8+ MB\n"
          ]
        }
      ],
      "source": [
        "data_0.info()"
      ]
    },
    {
      "cell_type": "code",
      "execution_count": null,
      "metadata": {
        "id": "GnKegClc1uIJ",
        "outputId": "ec0bd9ce-787b-4b1f-fc45-ff9b3d76c931"
      },
      "outputs": [
        {
          "name": "stdout",
          "output_type": "stream",
          "text": [
            "<class 'pandas.core.frame.DataFrame'>\n",
            "RangeIndex: 100000 entries, 0 to 99999\n",
            "Data columns (total 5 columns):\n",
            " #   Column   Non-Null Count   Dtype  \n",
            "---  ------   --------------   -----  \n",
            " 0   id       100000 non-null  object \n",
            " 1   f0       100000 non-null  float64\n",
            " 2   f1       100000 non-null  float64\n",
            " 3   f2       100000 non-null  float64\n",
            " 4   product  100000 non-null  float64\n",
            "dtypes: float64(4), object(1)\n",
            "memory usage: 3.8+ MB\n"
          ]
        }
      ],
      "source": [
        "data_1.info()"
      ]
    },
    {
      "cell_type": "code",
      "execution_count": null,
      "metadata": {
        "id": "wLcFKrZe1uIK",
        "outputId": "50555e0e-7925-4876-e70e-cdec615caaed"
      },
      "outputs": [
        {
          "name": "stdout",
          "output_type": "stream",
          "text": [
            "<class 'pandas.core.frame.DataFrame'>\n",
            "RangeIndex: 100000 entries, 0 to 99999\n",
            "Data columns (total 5 columns):\n",
            " #   Column   Non-Null Count   Dtype  \n",
            "---  ------   --------------   -----  \n",
            " 0   id       100000 non-null  object \n",
            " 1   f0       100000 non-null  float64\n",
            " 2   f1       100000 non-null  float64\n",
            " 3   f2       100000 non-null  float64\n",
            " 4   product  100000 non-null  float64\n",
            "dtypes: float64(4), object(1)\n",
            "memory usage: 3.8+ MB\n"
          ]
        }
      ],
      "source": [
        "data_2.info()"
      ]
    },
    {
      "cell_type": "markdown",
      "metadata": {
        "id": "0ITQL_mU1uIK"
      },
      "source": [
        "Пропусков в данных нет."
      ]
    },
    {
      "cell_type": "code",
      "execution_count": null,
      "metadata": {
        "id": "FFEGR5ud1uIK",
        "outputId": "59fb359e-766e-457a-a0e7-37b95130843e"
      },
      "outputs": [
        {
          "data": {
            "text/html": [
              "<div>\n",
              "<style scoped>\n",
              "    .dataframe tbody tr th:only-of-type {\n",
              "        vertical-align: middle;\n",
              "    }\n",
              "\n",
              "    .dataframe tbody tr th {\n",
              "        vertical-align: top;\n",
              "    }\n",
              "\n",
              "    .dataframe thead th {\n",
              "        text-align: right;\n",
              "    }\n",
              "</style>\n",
              "<table border=\"1\" class=\"dataframe\">\n",
              "  <thead>\n",
              "    <tr style=\"text-align: right;\">\n",
              "      <th></th>\n",
              "      <th>f0</th>\n",
              "      <th>f1</th>\n",
              "      <th>f2</th>\n",
              "      <th>product</th>\n",
              "    </tr>\n",
              "  </thead>\n",
              "  <tbody>\n",
              "    <tr>\n",
              "      <th>count</th>\n",
              "      <td>100000.000000</td>\n",
              "      <td>100000.000000</td>\n",
              "      <td>100000.000000</td>\n",
              "      <td>100000.000000</td>\n",
              "    </tr>\n",
              "    <tr>\n",
              "      <th>mean</th>\n",
              "      <td>0.500419</td>\n",
              "      <td>0.250143</td>\n",
              "      <td>2.502647</td>\n",
              "      <td>92.500000</td>\n",
              "    </tr>\n",
              "    <tr>\n",
              "      <th>std</th>\n",
              "      <td>0.871832</td>\n",
              "      <td>0.504433</td>\n",
              "      <td>3.248248</td>\n",
              "      <td>44.288691</td>\n",
              "    </tr>\n",
              "    <tr>\n",
              "      <th>min</th>\n",
              "      <td>-1.408605</td>\n",
              "      <td>-0.848218</td>\n",
              "      <td>-12.088328</td>\n",
              "      <td>0.000000</td>\n",
              "    </tr>\n",
              "    <tr>\n",
              "      <th>25%</th>\n",
              "      <td>-0.072580</td>\n",
              "      <td>-0.200881</td>\n",
              "      <td>0.287748</td>\n",
              "      <td>56.497507</td>\n",
              "    </tr>\n",
              "    <tr>\n",
              "      <th>50%</th>\n",
              "      <td>0.502360</td>\n",
              "      <td>0.250252</td>\n",
              "      <td>2.515969</td>\n",
              "      <td>91.849972</td>\n",
              "    </tr>\n",
              "    <tr>\n",
              "      <th>75%</th>\n",
              "      <td>1.073581</td>\n",
              "      <td>0.700646</td>\n",
              "      <td>4.715088</td>\n",
              "      <td>128.564089</td>\n",
              "    </tr>\n",
              "    <tr>\n",
              "      <th>max</th>\n",
              "      <td>2.362331</td>\n",
              "      <td>1.343769</td>\n",
              "      <td>16.003790</td>\n",
              "      <td>185.364347</td>\n",
              "    </tr>\n",
              "  </tbody>\n",
              "</table>\n",
              "</div>"
            ],
            "text/plain": [
              "                  f0             f1             f2        product\n",
              "count  100000.000000  100000.000000  100000.000000  100000.000000\n",
              "mean        0.500419       0.250143       2.502647      92.500000\n",
              "std         0.871832       0.504433       3.248248      44.288691\n",
              "min        -1.408605      -0.848218     -12.088328       0.000000\n",
              "25%        -0.072580      -0.200881       0.287748      56.497507\n",
              "50%         0.502360       0.250252       2.515969      91.849972\n",
              "75%         1.073581       0.700646       4.715088     128.564089\n",
              "max         2.362331       1.343769      16.003790     185.364347"
            ]
          },
          "execution_count": 9,
          "metadata": {},
          "output_type": "execute_result"
        }
      ],
      "source": [
        "data_0.describe()"
      ]
    },
    {
      "cell_type": "code",
      "execution_count": null,
      "metadata": {
        "id": "-MJN07mS1uIL",
        "outputId": "660937f9-dce9-4321-a538-b6b054e06dad"
      },
      "outputs": [
        {
          "data": {
            "text/html": [
              "<div>\n",
              "<style scoped>\n",
              "    .dataframe tbody tr th:only-of-type {\n",
              "        vertical-align: middle;\n",
              "    }\n",
              "\n",
              "    .dataframe tbody tr th {\n",
              "        vertical-align: top;\n",
              "    }\n",
              "\n",
              "    .dataframe thead th {\n",
              "        text-align: right;\n",
              "    }\n",
              "</style>\n",
              "<table border=\"1\" class=\"dataframe\">\n",
              "  <thead>\n",
              "    <tr style=\"text-align: right;\">\n",
              "      <th></th>\n",
              "      <th>f0</th>\n",
              "      <th>f1</th>\n",
              "      <th>f2</th>\n",
              "      <th>product</th>\n",
              "    </tr>\n",
              "  </thead>\n",
              "  <tbody>\n",
              "    <tr>\n",
              "      <th>count</th>\n",
              "      <td>100000.000000</td>\n",
              "      <td>100000.000000</td>\n",
              "      <td>100000.000000</td>\n",
              "      <td>100000.000000</td>\n",
              "    </tr>\n",
              "    <tr>\n",
              "      <th>mean</th>\n",
              "      <td>1.141296</td>\n",
              "      <td>-4.796579</td>\n",
              "      <td>2.494541</td>\n",
              "      <td>68.825000</td>\n",
              "    </tr>\n",
              "    <tr>\n",
              "      <th>std</th>\n",
              "      <td>8.965932</td>\n",
              "      <td>5.119872</td>\n",
              "      <td>1.703572</td>\n",
              "      <td>45.944423</td>\n",
              "    </tr>\n",
              "    <tr>\n",
              "      <th>min</th>\n",
              "      <td>-31.609576</td>\n",
              "      <td>-26.358598</td>\n",
              "      <td>-0.018144</td>\n",
              "      <td>0.000000</td>\n",
              "    </tr>\n",
              "    <tr>\n",
              "      <th>25%</th>\n",
              "      <td>-6.298551</td>\n",
              "      <td>-8.267985</td>\n",
              "      <td>1.000021</td>\n",
              "      <td>26.953261</td>\n",
              "    </tr>\n",
              "    <tr>\n",
              "      <th>50%</th>\n",
              "      <td>1.153055</td>\n",
              "      <td>-4.813172</td>\n",
              "      <td>2.011479</td>\n",
              "      <td>57.085625</td>\n",
              "    </tr>\n",
              "    <tr>\n",
              "      <th>75%</th>\n",
              "      <td>8.621015</td>\n",
              "      <td>-1.332816</td>\n",
              "      <td>3.999904</td>\n",
              "      <td>107.813044</td>\n",
              "    </tr>\n",
              "    <tr>\n",
              "      <th>max</th>\n",
              "      <td>29.421755</td>\n",
              "      <td>18.734063</td>\n",
              "      <td>5.019721</td>\n",
              "      <td>137.945408</td>\n",
              "    </tr>\n",
              "  </tbody>\n",
              "</table>\n",
              "</div>"
            ],
            "text/plain": [
              "                  f0             f1             f2        product\n",
              "count  100000.000000  100000.000000  100000.000000  100000.000000\n",
              "mean        1.141296      -4.796579       2.494541      68.825000\n",
              "std         8.965932       5.119872       1.703572      45.944423\n",
              "min       -31.609576     -26.358598      -0.018144       0.000000\n",
              "25%        -6.298551      -8.267985       1.000021      26.953261\n",
              "50%         1.153055      -4.813172       2.011479      57.085625\n",
              "75%         8.621015      -1.332816       3.999904     107.813044\n",
              "max        29.421755      18.734063       5.019721     137.945408"
            ]
          },
          "execution_count": 10,
          "metadata": {},
          "output_type": "execute_result"
        }
      ],
      "source": [
        "data_1.describe()"
      ]
    },
    {
      "cell_type": "code",
      "execution_count": null,
      "metadata": {
        "id": "DM_GTvDP1uIL",
        "outputId": "397324cb-9cfe-4d3f-c3d1-0dae1f5d781c"
      },
      "outputs": [
        {
          "data": {
            "text/html": [
              "<div>\n",
              "<style scoped>\n",
              "    .dataframe tbody tr th:only-of-type {\n",
              "        vertical-align: middle;\n",
              "    }\n",
              "\n",
              "    .dataframe tbody tr th {\n",
              "        vertical-align: top;\n",
              "    }\n",
              "\n",
              "    .dataframe thead th {\n",
              "        text-align: right;\n",
              "    }\n",
              "</style>\n",
              "<table border=\"1\" class=\"dataframe\">\n",
              "  <thead>\n",
              "    <tr style=\"text-align: right;\">\n",
              "      <th></th>\n",
              "      <th>f0</th>\n",
              "      <th>f1</th>\n",
              "      <th>f2</th>\n",
              "      <th>product</th>\n",
              "    </tr>\n",
              "  </thead>\n",
              "  <tbody>\n",
              "    <tr>\n",
              "      <th>count</th>\n",
              "      <td>100000.000000</td>\n",
              "      <td>100000.000000</td>\n",
              "      <td>100000.000000</td>\n",
              "      <td>100000.000000</td>\n",
              "    </tr>\n",
              "    <tr>\n",
              "      <th>mean</th>\n",
              "      <td>0.002023</td>\n",
              "      <td>-0.002081</td>\n",
              "      <td>2.495128</td>\n",
              "      <td>95.000000</td>\n",
              "    </tr>\n",
              "    <tr>\n",
              "      <th>std</th>\n",
              "      <td>1.732045</td>\n",
              "      <td>1.730417</td>\n",
              "      <td>3.473445</td>\n",
              "      <td>44.749921</td>\n",
              "    </tr>\n",
              "    <tr>\n",
              "      <th>min</th>\n",
              "      <td>-8.760004</td>\n",
              "      <td>-7.084020</td>\n",
              "      <td>-11.970335</td>\n",
              "      <td>0.000000</td>\n",
              "    </tr>\n",
              "    <tr>\n",
              "      <th>25%</th>\n",
              "      <td>-1.162288</td>\n",
              "      <td>-1.174820</td>\n",
              "      <td>0.130359</td>\n",
              "      <td>59.450441</td>\n",
              "    </tr>\n",
              "    <tr>\n",
              "      <th>50%</th>\n",
              "      <td>0.009424</td>\n",
              "      <td>-0.009482</td>\n",
              "      <td>2.484236</td>\n",
              "      <td>94.925613</td>\n",
              "    </tr>\n",
              "    <tr>\n",
              "      <th>75%</th>\n",
              "      <td>1.158535</td>\n",
              "      <td>1.163678</td>\n",
              "      <td>4.858794</td>\n",
              "      <td>130.595027</td>\n",
              "    </tr>\n",
              "    <tr>\n",
              "      <th>max</th>\n",
              "      <td>7.238262</td>\n",
              "      <td>7.844801</td>\n",
              "      <td>16.739402</td>\n",
              "      <td>190.029838</td>\n",
              "    </tr>\n",
              "  </tbody>\n",
              "</table>\n",
              "</div>"
            ],
            "text/plain": [
              "                  f0             f1             f2        product\n",
              "count  100000.000000  100000.000000  100000.000000  100000.000000\n",
              "mean        0.002023      -0.002081       2.495128      95.000000\n",
              "std         1.732045       1.730417       3.473445      44.749921\n",
              "min        -8.760004      -7.084020     -11.970335       0.000000\n",
              "25%        -1.162288      -1.174820       0.130359      59.450441\n",
              "50%         0.009424      -0.009482       2.484236      94.925613\n",
              "75%         1.158535       1.163678       4.858794     130.595027\n",
              "max         7.238262       7.844801      16.739402     190.029838"
            ]
          },
          "execution_count": 11,
          "metadata": {},
          "output_type": "execute_result"
        }
      ],
      "source": [
        "data_2.describe()"
      ]
    },
    {
      "cell_type": "markdown",
      "metadata": {
        "id": "EO5pjcBt1uIL"
      },
      "source": [
        "id не несет нужной для расчетов информации, удаляем."
      ]
    },
    {
      "cell_type": "code",
      "execution_count": null,
      "metadata": {
        "id": "hbtJzM5B1uIM"
      },
      "outputs": [],
      "source": [
        "data_0 = data_0.drop(['id'], axis=1)\n",
        "data_1 = data_1.drop(['id'], axis=1)\n",
        "data_2 = data_2.drop(['id'], axis=1)"
      ]
    },
    {
      "cell_type": "markdown",
      "metadata": {
        "id": "O6yuFD8H1uIM"
      },
      "source": [
        "#### Вывод\n",
        "    импортировали все необходимые инструменты\n",
        "    загрузили датасеты и ознакомились с ними\n",
        "    выяснили, что пропусков в данных нет\n",
        "    удалили столбец id\n",
        "    нулевые значения заменить на среднее нельзя и удалять тоже не стоит."
      ]
    },
    {
      "cell_type": "markdown",
      "metadata": {
        "id": "a_o3OFbp1uIM"
      },
      "source": [
        "## Обучение и проверка модели"
      ]
    },
    {
      "cell_type": "code",
      "execution_count": null,
      "metadata": {
        "id": "yUn4O1oN1uIN"
      },
      "outputs": [],
      "source": [
        "model = LinearRegression()"
      ]
    },
    {
      "cell_type": "markdown",
      "metadata": {
        "id": "RMwOOoeB1uIN"
      },
      "source": [
        "Фунцией разобьем данные на выборки, обучим модель и сделаем предсказания"
      ]
    },
    {
      "cell_type": "code",
      "execution_count": null,
      "metadata": {
        "id": "fIuQLN7F1uIN"
      },
      "outputs": [],
      "source": [
        "def get_predictions_target(data):\n",
        "    features = data.drop(['product'], axis = 1)\n",
        "    target = data['product']\n",
        "    features_train, features_valid, target_train, target_valid = train_test_split(features, target, test_size=.25, random_state=666)\n",
        "    model.fit(features_train, target_train)\n",
        "    return pd.Series(model.predict(features_valid)), target_valid"
      ]
    },
    {
      "cell_type": "markdown",
      "metadata": {
        "id": "7yftyeOK1uIN"
      },
      "source": [
        "Сохраним предсказания и правильные ответы."
      ]
    },
    {
      "cell_type": "code",
      "execution_count": null,
      "metadata": {
        "id": "_5ah539Z1uIO"
      },
      "outputs": [],
      "source": [
        "predicted_0, target_0 = get_predictions_target(data_0)\n",
        "predicted_1, target_1 = get_predictions_target(data_1)\n",
        "predicted_2, target_2 = get_predictions_target(data_2)"
      ]
    },
    {
      "cell_type": "markdown",
      "metadata": {
        "id": "pADxxv8R1uIO"
      },
      "source": [
        "Средний запас предсказанного сырья для каждого региона и RMSE"
      ]
    },
    {
      "cell_type": "code",
      "execution_count": null,
      "metadata": {
        "id": "bgiV5f3f1uIO"
      },
      "outputs": [],
      "source": [
        "def get_product_mean_rmse (answers, predictions):\n",
        "    mse = mean_squared_error(answers, predictions)\n",
        "    print('Средний запас, тысяч баррелей:', predictions.mean())\n",
        "    print('RMSE:', mse ** 0.5)"
      ]
    },
    {
      "cell_type": "code",
      "execution_count": null,
      "metadata": {
        "id": "OZvaEXPG1uIO",
        "outputId": "72d18236-c921-4e06-feaf-6f5e3333ddd8"
      },
      "outputs": [
        {
          "name": "stdout",
          "output_type": "stream",
          "text": [
            "Месторождение 1\n",
            "Средний запас, тысяч баррелей: 92.59883747361133\n",
            "RMSE: 37.78852914975086\n"
          ]
        }
      ],
      "source": [
        "print('Месторождение 1')\n",
        "get_product_mean_rmse(target_0, predicted_0)"
      ]
    },
    {
      "cell_type": "code",
      "execution_count": null,
      "metadata": {
        "id": "G5cVYXPM1uIP",
        "outputId": "278f042c-99fc-4868-8a96-9548aede6f51"
      },
      "outputs": [
        {
          "name": "stdout",
          "output_type": "stream",
          "text": [
            "Месторождение 2\n",
            "Средний запас, тысяч баррелей: 69.119604542144\n",
            "RMSE: 0.8899276270922485\n"
          ]
        }
      ],
      "source": [
        "print('Месторождение 2')\n",
        "get_product_mean_rmse(target_1, predicted_1)"
      ]
    },
    {
      "cell_type": "code",
      "execution_count": null,
      "metadata": {
        "id": "3cqYUhLT1uIP",
        "outputId": "d06b06ab-d246-4c3d-b9b8-3437faf30dc1"
      },
      "outputs": [
        {
          "name": "stdout",
          "output_type": "stream",
          "text": [
            "Месторождение 3\n",
            "Средний запас, тысяч баррелей: 95.05831290258574\n",
            "RMSE: 40.008583723061925\n"
          ]
        }
      ],
      "source": [
        "print('Месторождение 3')\n",
        "get_product_mean_rmse(target_2, predicted_2)"
      ]
    },
    {
      "cell_type": "markdown",
      "metadata": {
        "id": "4NUXDdcL1uIQ"
      },
      "source": [
        "#### Вывод:\n",
        "\n",
        "    разбили данные на обучающую и валидационную выборки\n",
        "    обучили модели и сделали предсказания, сохранили их и правильные ответы\n",
        "    посчитали средний запас сырья для каждого региона по предсказаниям и RMSE\n",
        "    качественнее всего модель отработала для региона №2, здесь метрика RMSE с самым маленьким значением\n",
        "    средний предсказанный запас сырья больше всего у регионов 1 и 3, больше 90 тыс. бареллей. Здесь же значение RMSE получилось очень большим"
      ]
    },
    {
      "cell_type": "markdown",
      "metadata": {
        "id": "XD65R4Y81uIQ"
      },
      "source": [
        "## Подготовка к расчёту прибыли"
      ]
    },
    {
      "cell_type": "markdown",
      "metadata": {
        "id": "tRXDqgUb1uIQ"
      },
      "source": [
        "Данные для расчета прибыли сохраним в переменные:"
      ]
    },
    {
      "cell_type": "code",
      "execution_count": null,
      "metadata": {
        "id": "omIw9cyr1uIR"
      },
      "outputs": [],
      "source": [
        "COUNT_OF_WELLS = 200"
      ]
    },
    {
      "cell_type": "markdown",
      "metadata": {
        "id": "9CdJEPWW1uIR"
      },
      "source": [
        "Бюджет на разработку скважин в регионе — 10 млрд рублей."
      ]
    },
    {
      "cell_type": "code",
      "execution_count": null,
      "metadata": {
        "id": "WCF2pcaT1uIR"
      },
      "outputs": [],
      "source": [
        "BUDGET = 10000000000"
      ]
    },
    {
      "cell_type": "markdown",
      "metadata": {
        "id": "TOBQ6Vv31uIR"
      },
      "source": [
        "При нынешних ценах один баррель сырья приносит 450 рублей дохода. Доход с каждой единицы продукта составляет 450 тыс. рублей, поскольку объём указан в тысячах баррелей."
      ]
    },
    {
      "cell_type": "code",
      "execution_count": null,
      "metadata": {
        "id": "q-nVqd4H1uIS"
      },
      "outputs": [],
      "source": [
        "REVENUE_1K_BAR = 450000"
      ]
    },
    {
      "cell_type": "markdown",
      "metadata": {
        "id": "4aYDTS2t1uIS"
      },
      "source": [
        "Бюджет на одну скважину"
      ]
    },
    {
      "cell_type": "code",
      "execution_count": null,
      "metadata": {
        "id": "wKjhImYW1uIS"
      },
      "outputs": [],
      "source": [
        "BUDGET_FOR_ONE = BUDGET / COUNT_OF_WELLS"
      ]
    },
    {
      "cell_type": "markdown",
      "metadata": {
        "id": "qjclSy2g1uIT"
      },
      "source": [
        "максимальная доля убытков"
      ]
    },
    {
      "cell_type": "code",
      "execution_count": null,
      "metadata": {
        "id": "2rVDcmMg1uIT"
      },
      "outputs": [],
      "source": [
        "MAX_RISK = 0.025"
      ]
    },
    {
      "cell_type": "markdown",
      "metadata": {
        "id": "-4DamG0S1uIU"
      },
      "source": [
        "Объём сырья для безубыточной разработки новой скважины."
      ]
    },
    {
      "cell_type": "code",
      "execution_count": null,
      "metadata": {
        "id": "4EB24j-R1uIU",
        "outputId": "4613815d-bab6-4a70-c410-1c8a443f83fa"
      },
      "outputs": [
        {
          "data": {
            "text/plain": [
              "111.11111111111111"
            ]
          },
          "execution_count": 25,
          "metadata": {},
          "output_type": "execute_result"
        }
      ],
      "source": [
        "BUDGET_FOR_ONE / REVENUE_1K_BAR"
      ]
    },
    {
      "cell_type": "code",
      "execution_count": null,
      "metadata": {
        "id": "0myfutPE1uIU",
        "outputId": "c7224e75-9b23-475d-ff4a-3d7c2286b821"
      },
      "outputs": [
        {
          "name": "stdout",
          "output_type": "stream",
          "text": [
            "Средний запас сырья в регионах, тыс. баррелей:\n",
            "\n",
            "Регион 1: 92.7335845019874\n",
            "Регион 2: 69.12651161786542\n",
            "Регион 3: 95.29994745917732\n"
          ]
        }
      ],
      "source": [
        "print(\"Средний запас сырья в регионах, тыс. баррелей:\")\n",
        "print()\n",
        "print(\"Регион 1:\", target_0.mean())\n",
        "print(\"Регион 2:\", target_1.mean())\n",
        "print(\"Регион 3:\", target_2.mean())"
      ]
    },
    {
      "cell_type": "markdown",
      "metadata": {
        "id": "d37_duZ21uIU"
      },
      "source": [
        "#### Вывод\n",
        "    111.111 тыс. баррелей в одной скважине - минимальный объем сырья, для безубыточной разработки.\n",
        "    Если сравнивать со средним объемом, который мы посчитали в каждом регионе, то проект будет убыточным в любом регионе. "
      ]
    },
    {
      "cell_type": "markdown",
      "metadata": {
        "id": "FN6O2Bu-1uIV"
      },
      "source": [
        "Напишем функцию рассчета прибыли по 200 скважинам каждого региона, из которых получается самый большой объем сырья."
      ]
    },
    {
      "cell_type": "code",
      "execution_count": null,
      "metadata": {
        "id": "RcCVTp9Q1uIV"
      },
      "outputs": [],
      "source": [
        "def profit(target, probabilities):\n",
        "    target = pd.Series(target).reset_index(drop=True)\n",
        "    probabilities = pd.Series(probabilities).reset_index(drop=True)\n",
        "    probs_sorted = probabilities.sort_values(ascending=False)\n",
        "    selected = target[probs_sorted.index][:COUNT_OF_WELLS]\n",
        "    mlrd = 1000000000\n",
        "    return ((REVENUE_1K_BAR * selected.sum()) - BUDGET) / mlrd"
      ]
    },
    {
      "cell_type": "code",
      "execution_count": null,
      "metadata": {
        "id": "ktRo02911uIW",
        "outputId": "ca66550c-eeb1-40d9-d7bd-4a51ab31bb65"
      },
      "outputs": [
        {
          "data": {
            "text/plain": [
              "3.3651062961070406"
            ]
          },
          "execution_count": 28,
          "metadata": {},
          "output_type": "execute_result"
        }
      ],
      "source": [
        "profit(target_0, predicted_0)"
      ]
    },
    {
      "cell_type": "code",
      "execution_count": null,
      "metadata": {
        "id": "dL6jV5PY1uIW",
        "outputId": "11dd9457-28a6-49fc-9b50-754d40f14ac1"
      },
      "outputs": [
        {
          "data": {
            "text/plain": [
              "2.4150866966815108"
            ]
          },
          "execution_count": 29,
          "metadata": {},
          "output_type": "execute_result"
        }
      ],
      "source": [
        "profit(target_1, predicted_1)"
      ]
    },
    {
      "cell_type": "code",
      "execution_count": null,
      "metadata": {
        "id": "rKHjhfDI1uIX",
        "outputId": "81a62723-2634-4182-8d95-a49dfb7cf78d"
      },
      "outputs": [
        {
          "data": {
            "text/plain": [
              "2.0007895216939278"
            ]
          },
          "execution_count": 30,
          "metadata": {},
          "output_type": "execute_result"
        }
      ],
      "source": [
        "profit(target_2, predicted_2)"
      ]
    },
    {
      "cell_type": "markdown",
      "metadata": {
        "id": "PGC9wuJj1uIX"
      },
      "source": [
        "Cамым прибыльным является регион 1 - выручка здесь больше 3-х млрд рублей."
      ]
    },
    {
      "cell_type": "markdown",
      "metadata": {
        "id": "Ia_pJrE_1uIX"
      },
      "source": [
        "## Расчёт прибыли и рисков "
      ]
    },
    {
      "cell_type": "markdown",
      "metadata": {
        "id": "2xPYyEBt1uIY"
      },
      "source": [
        "Посчитаtем риски и прибыль для каждого региона"
      ]
    },
    {
      "cell_type": "code",
      "execution_count": null,
      "metadata": {
        "id": "Tn0zzQop1uIY"
      },
      "outputs": [],
      "source": [
        "state = np.random.RandomState(12345)"
      ]
    },
    {
      "cell_type": "code",
      "execution_count": null,
      "metadata": {
        "id": "rLNaamMo1uIY"
      },
      "outputs": [],
      "source": [
        "def bootstrap (target, predictions):\n",
        "    values = []\n",
        "    for i in range(1000):\n",
        "        target_subsample = target.reset_index(drop=True).sample(n=500, replace=True, random_state=state)\n",
        "        pred_subsample = predictions[target_subsample.index]\n",
        "        rev = profit(target_subsample, pred_subsample)\n",
        "        values.append(rev)\n",
        "\n",
        "    values = pd.Series(values)\n",
        "    lower = values.quantile(MAX_RISK)\n",
        "    #confidence_interval = st.t.interval(0.95, len(values)-1, values.mean(), values.sem())\n",
        "    confidence_interval = (values.quantile(0.025), values.quantile(0.975))\n",
        "    mean = values.mean()\n",
        "\n",
        "    print(\"Средняя выручка:\", mean)\n",
        "    print(\"2.5%-квантиль:\", lower)\n",
        "    print(\"Доверительный интервал:\", confidence_interval)\n",
        "    print(\"Риски убытка:\", (values < 0).mean())"
      ]
    },
    {
      "cell_type": "code",
      "execution_count": null,
      "metadata": {
        "id": "skKajWu31uIZ",
        "outputId": "d4ed81d1-2046-4611-9750-fba3c0feb676"
      },
      "outputs": [
        {
          "name": "stdout",
          "output_type": "stream",
          "text": [
            "Средняя выручка: 0.43069839930828546\n",
            "2.5%-квантиль: -0.10671743695636005\n",
            "Доверительный интервал: (-0.10671743695636005, 0.9307130825630421)\n",
            "Риски убытка: 0.052\n"
          ]
        }
      ],
      "source": [
        "bootstrap(target_0, predicted_0)"
      ]
    },
    {
      "cell_type": "code",
      "execution_count": null,
      "metadata": {
        "id": "78rtroQg1uIZ",
        "outputId": "0d4ddd61-6ab1-49ba-f3d6-5c2f2a11b51b"
      },
      "outputs": [
        {
          "name": "stdout",
          "output_type": "stream",
          "text": [
            "Средняя выручка: 0.48536834632742604\n",
            "2.5%-квантиль: 0.08284952787924067\n",
            "Доверительный интервал: (0.08284952787924067, 0.8787523728795791)\n",
            "Риски убытка: 0.005\n"
          ]
        }
      ],
      "source": [
        "bootstrap(target_1, predicted_1)"
      ]
    },
    {
      "cell_type": "code",
      "execution_count": null,
      "metadata": {
        "id": "qfhUT64x1uIa",
        "outputId": "de29ee42-dd7a-4de0-f999-4e2dc9fa8e8b"
      },
      "outputs": [
        {
          "name": "stdout",
          "output_type": "stream",
          "text": [
            "Средняя выручка: 0.3484111749716312\n",
            "2.5%-квантиль: -0.18284438789284505\n",
            "Доверительный интервал: (-0.18284438789284505, 0.8567012626397866)\n",
            "Риски убытка: 0.098\n"
          ]
        }
      ],
      "source": [
        "bootstrap(target_2, predicted_2)"
      ]
    },
    {
      "cell_type": "markdown",
      "metadata": {
        "id": "_o5p5jdw1uIa"
      },
      "source": [
        "#### Вывод\n",
        "Исходя из проведенного анализа, можно сказать, что 'Месторождение 2' самое выгодное, об этом говорит и показатель RMSE и процент убытков.\n"
      ]
    }
  ],
  "metadata": {
    "ExecuteTimeLog": [
      {
        "duration": 47,
        "start_time": "2022-03-29T08:02:39.237Z"
      },
      {
        "duration": 1694,
        "start_time": "2022-03-29T08:02:41.260Z"
      },
      {
        "duration": 337,
        "start_time": "2022-03-29T08:02:44.286Z"
      },
      {
        "duration": 67,
        "start_time": "2022-03-29T08:02:46.324Z"
      },
      {
        "duration": 3,
        "start_time": "2022-03-29T08:02:49.972Z"
      },
      {
        "duration": 516,
        "start_time": "2022-03-29T08:02:49.977Z"
      },
      {
        "duration": 12,
        "start_time": "2022-03-29T08:02:50.495Z"
      },
      {
        "duration": 2115,
        "start_time": "2022-03-29T08:21:16.482Z"
      },
      {
        "duration": 417,
        "start_time": "2022-03-29T08:21:18.599Z"
      },
      {
        "duration": 153,
        "start_time": "2022-03-29T08:21:19.018Z"
      },
      {
        "duration": 6,
        "start_time": "2022-03-29T08:22:17.127Z"
      },
      {
        "duration": 435,
        "start_time": "2022-03-29T08:22:17.135Z"
      },
      {
        "duration": 6,
        "start_time": "2022-03-29T08:22:17.573Z"
      },
      {
        "duration": 23,
        "start_time": "2022-03-29T08:22:17.582Z"
      },
      {
        "duration": 45,
        "start_time": "2022-03-29T08:22:17.607Z"
      },
      {
        "duration": 19,
        "start_time": "2022-03-29T08:22:17.654Z"
      },
      {
        "duration": 12,
        "start_time": "2022-03-29T08:22:52.923Z"
      },
      {
        "duration": 5,
        "start_time": "2022-03-29T08:22:57.802Z"
      },
      {
        "duration": 447,
        "start_time": "2022-03-29T08:22:57.809Z"
      },
      {
        "duration": 12,
        "start_time": "2022-03-29T08:22:58.258Z"
      },
      {
        "duration": 0,
        "start_time": "2022-03-29T08:22:58.272Z"
      },
      {
        "duration": 0,
        "start_time": "2022-03-29T08:22:58.274Z"
      },
      {
        "duration": 0,
        "start_time": "2022-03-29T08:22:58.275Z"
      },
      {
        "duration": 8,
        "start_time": "2022-03-29T08:23:07.418Z"
      },
      {
        "duration": 4,
        "start_time": "2022-03-29T08:23:28.667Z"
      },
      {
        "duration": 5,
        "start_time": "2022-03-29T08:23:30.651Z"
      },
      {
        "duration": 6,
        "start_time": "2022-03-29T08:23:32.404Z"
      },
      {
        "duration": 20,
        "start_time": "2022-03-29T08:23:34.457Z"
      },
      {
        "duration": 22,
        "start_time": "2022-03-29T08:23:37.913Z"
      },
      {
        "duration": 20,
        "start_time": "2022-03-29T08:23:40.938Z"
      },
      {
        "duration": 47,
        "start_time": "2022-03-29T08:25:20.034Z"
      },
      {
        "duration": 44,
        "start_time": "2022-03-29T08:25:22.665Z"
      },
      {
        "duration": 45,
        "start_time": "2022-03-29T08:25:25.321Z"
      },
      {
        "duration": 15,
        "start_time": "2022-03-29T13:30:53.590Z"
      },
      {
        "duration": 48,
        "start_time": "2022-03-29T13:32:14.382Z"
      },
      {
        "duration": 1718,
        "start_time": "2022-03-29T13:32:18.432Z"
      },
      {
        "duration": 395,
        "start_time": "2022-03-29T13:32:20.152Z"
      },
      {
        "duration": 5,
        "start_time": "2022-03-29T13:32:20.549Z"
      },
      {
        "duration": 9,
        "start_time": "2022-03-29T13:32:20.557Z"
      },
      {
        "duration": 8,
        "start_time": "2022-03-29T13:32:20.568Z"
      },
      {
        "duration": 25,
        "start_time": "2022-03-29T13:32:20.577Z"
      },
      {
        "duration": 37,
        "start_time": "2022-03-29T13:32:20.603Z"
      },
      {
        "duration": 16,
        "start_time": "2022-03-29T13:32:20.642Z"
      },
      {
        "duration": 46,
        "start_time": "2022-03-29T13:32:20.661Z"
      },
      {
        "duration": 53,
        "start_time": "2022-03-29T13:32:20.734Z"
      },
      {
        "duration": 62,
        "start_time": "2022-03-29T13:32:20.789Z"
      },
      {
        "duration": 15,
        "start_time": "2022-03-29T13:32:20.853Z"
      },
      {
        "duration": 104,
        "start_time": "2022-03-29T13:32:20.871Z"
      },
      {
        "duration": 0,
        "start_time": "2022-03-29T13:32:20.977Z"
      },
      {
        "duration": 0,
        "start_time": "2022-03-29T13:32:20.978Z"
      },
      {
        "duration": 10,
        "start_time": "2022-03-29T13:35:37.487Z"
      },
      {
        "duration": 4,
        "start_time": "2022-03-29T13:35:40.230Z"
      },
      {
        "duration": 419,
        "start_time": "2022-03-29T13:35:40.236Z"
      },
      {
        "duration": 5,
        "start_time": "2022-03-29T13:35:40.657Z"
      },
      {
        "duration": 11,
        "start_time": "2022-03-29T13:35:40.665Z"
      },
      {
        "duration": 12,
        "start_time": "2022-03-29T13:35:40.679Z"
      },
      {
        "duration": 22,
        "start_time": "2022-03-29T13:35:40.693Z"
      },
      {
        "duration": 17,
        "start_time": "2022-03-29T13:35:40.731Z"
      },
      {
        "duration": 23,
        "start_time": "2022-03-29T13:35:40.750Z"
      },
      {
        "duration": 83,
        "start_time": "2022-03-29T13:35:40.775Z"
      },
      {
        "duration": 50,
        "start_time": "2022-03-29T13:35:40.862Z"
      },
      {
        "duration": 59,
        "start_time": "2022-03-29T13:35:40.914Z"
      },
      {
        "duration": 13,
        "start_time": "2022-03-29T13:35:40.975Z"
      },
      {
        "duration": 17,
        "start_time": "2022-03-29T13:35:40.991Z"
      },
      {
        "duration": 0,
        "start_time": "2022-03-29T13:35:41.010Z"
      },
      {
        "duration": 0,
        "start_time": "2022-03-29T13:35:41.033Z"
      },
      {
        "duration": 0,
        "start_time": "2022-03-29T13:35:41.034Z"
      },
      {
        "duration": 0,
        "start_time": "2022-03-29T13:35:41.036Z"
      },
      {
        "duration": 5,
        "start_time": "2022-03-29T13:36:33.230Z"
      },
      {
        "duration": 406,
        "start_time": "2022-03-29T13:36:33.238Z"
      },
      {
        "duration": 4,
        "start_time": "2022-03-29T13:36:33.647Z"
      },
      {
        "duration": 8,
        "start_time": "2022-03-29T13:36:33.654Z"
      },
      {
        "duration": 9,
        "start_time": "2022-03-29T13:36:33.664Z"
      },
      {
        "duration": 20,
        "start_time": "2022-03-29T13:36:33.675Z"
      },
      {
        "duration": 37,
        "start_time": "2022-03-29T13:36:33.697Z"
      },
      {
        "duration": 16,
        "start_time": "2022-03-29T13:36:33.736Z"
      },
      {
        "duration": 39,
        "start_time": "2022-03-29T13:36:33.754Z"
      },
      {
        "duration": 61,
        "start_time": "2022-03-29T13:36:33.795Z"
      },
      {
        "duration": 40,
        "start_time": "2022-03-29T13:36:33.858Z"
      },
      {
        "duration": 34,
        "start_time": "2022-03-29T13:36:33.900Z"
      },
      {
        "duration": 9,
        "start_time": "2022-03-29T13:36:33.936Z"
      },
      {
        "duration": 7,
        "start_time": "2022-03-29T13:36:33.947Z"
      },
      {
        "duration": 17,
        "start_time": "2022-03-29T13:36:33.956Z"
      },
      {
        "duration": 0,
        "start_time": "2022-03-29T13:36:33.975Z"
      },
      {
        "duration": 0,
        "start_time": "2022-03-29T13:36:33.976Z"
      },
      {
        "duration": 22,
        "start_time": "2022-03-29T13:37:04.801Z"
      },
      {
        "duration": 4,
        "start_time": "2022-03-29T13:37:08.085Z"
      },
      {
        "duration": 391,
        "start_time": "2022-03-29T13:37:08.091Z"
      },
      {
        "duration": 5,
        "start_time": "2022-03-29T13:37:08.484Z"
      },
      {
        "duration": 6,
        "start_time": "2022-03-29T13:37:08.491Z"
      },
      {
        "duration": 5,
        "start_time": "2022-03-29T13:37:08.500Z"
      },
      {
        "duration": 36,
        "start_time": "2022-03-29T13:37:08.507Z"
      },
      {
        "duration": 20,
        "start_time": "2022-03-29T13:37:08.545Z"
      },
      {
        "duration": 21,
        "start_time": "2022-03-29T13:37:08.568Z"
      },
      {
        "duration": 69,
        "start_time": "2022-03-29T13:37:08.591Z"
      },
      {
        "duration": 38,
        "start_time": "2022-03-29T13:37:08.662Z"
      },
      {
        "duration": 59,
        "start_time": "2022-03-29T13:37:08.704Z"
      },
      {
        "duration": 13,
        "start_time": "2022-03-29T13:37:08.765Z"
      },
      {
        "duration": 6,
        "start_time": "2022-03-29T13:37:08.780Z"
      },
      {
        "duration": 7,
        "start_time": "2022-03-29T13:37:08.787Z"
      },
      {
        "duration": 38,
        "start_time": "2022-03-29T13:37:08.796Z"
      },
      {
        "duration": 0,
        "start_time": "2022-03-29T13:37:08.836Z"
      },
      {
        "duration": 0,
        "start_time": "2022-03-29T13:37:08.838Z"
      },
      {
        "duration": 4,
        "start_time": "2022-03-29T13:38:38.125Z"
      },
      {
        "duration": 443,
        "start_time": "2022-03-29T13:38:38.132Z"
      },
      {
        "duration": 5,
        "start_time": "2022-03-29T13:38:38.576Z"
      },
      {
        "duration": 6,
        "start_time": "2022-03-29T13:38:38.582Z"
      },
      {
        "duration": 8,
        "start_time": "2022-03-29T13:38:38.591Z"
      },
      {
        "duration": 32,
        "start_time": "2022-03-29T13:38:38.601Z"
      },
      {
        "duration": 17,
        "start_time": "2022-03-29T13:38:38.635Z"
      },
      {
        "duration": 16,
        "start_time": "2022-03-29T13:38:38.654Z"
      },
      {
        "duration": 80,
        "start_time": "2022-03-29T13:38:38.672Z"
      },
      {
        "duration": 41,
        "start_time": "2022-03-29T13:38:38.755Z"
      },
      {
        "duration": 62,
        "start_time": "2022-03-29T13:38:38.797Z"
      },
      {
        "duration": 16,
        "start_time": "2022-03-29T13:38:38.861Z"
      },
      {
        "duration": 4,
        "start_time": "2022-03-29T13:38:38.881Z"
      },
      {
        "duration": 10,
        "start_time": "2022-03-29T13:38:38.887Z"
      },
      {
        "duration": 40,
        "start_time": "2022-03-29T13:38:38.899Z"
      },
      {
        "duration": 0,
        "start_time": "2022-03-29T13:38:38.940Z"
      },
      {
        "duration": 0,
        "start_time": "2022-03-29T13:38:38.942Z"
      },
      {
        "duration": 4,
        "start_time": "2022-03-29T13:39:16.878Z"
      },
      {
        "duration": 402,
        "start_time": "2022-03-29T13:39:16.885Z"
      },
      {
        "duration": 5,
        "start_time": "2022-03-29T13:39:17.289Z"
      },
      {
        "duration": 8,
        "start_time": "2022-03-29T13:39:17.297Z"
      },
      {
        "duration": 7,
        "start_time": "2022-03-29T13:39:17.307Z"
      },
      {
        "duration": 27,
        "start_time": "2022-03-29T13:39:17.315Z"
      },
      {
        "duration": 16,
        "start_time": "2022-03-29T13:39:17.344Z"
      },
      {
        "duration": 17,
        "start_time": "2022-03-29T13:39:17.361Z"
      },
      {
        "duration": 73,
        "start_time": "2022-03-29T13:39:17.380Z"
      },
      {
        "duration": 38,
        "start_time": "2022-03-29T13:39:17.457Z"
      },
      {
        "duration": 70,
        "start_time": "2022-03-29T13:39:17.497Z"
      },
      {
        "duration": 13,
        "start_time": "2022-03-29T13:39:17.569Z"
      },
      {
        "duration": 9,
        "start_time": "2022-03-29T13:39:17.584Z"
      },
      {
        "duration": 16,
        "start_time": "2022-03-29T13:39:17.595Z"
      },
      {
        "duration": 436,
        "start_time": "2022-03-29T13:39:17.613Z"
      },
      {
        "duration": 4,
        "start_time": "2022-03-29T13:39:18.133Z"
      },
      {
        "duration": 100,
        "start_time": "2022-03-29T13:39:18.140Z"
      },
      {
        "duration": 4,
        "start_time": "2022-03-29T13:39:39.500Z"
      },
      {
        "duration": 422,
        "start_time": "2022-03-29T13:39:39.507Z"
      },
      {
        "duration": 4,
        "start_time": "2022-03-29T13:39:39.932Z"
      },
      {
        "duration": 10,
        "start_time": "2022-03-29T13:39:39.938Z"
      },
      {
        "duration": 9,
        "start_time": "2022-03-29T13:39:39.951Z"
      },
      {
        "duration": 22,
        "start_time": "2022-03-29T13:39:39.962Z"
      },
      {
        "duration": 16,
        "start_time": "2022-03-29T13:39:39.986Z"
      },
      {
        "duration": 40,
        "start_time": "2022-03-29T13:39:40.004Z"
      },
      {
        "duration": 41,
        "start_time": "2022-03-29T13:39:40.046Z"
      },
      {
        "duration": 64,
        "start_time": "2022-03-29T13:39:40.089Z"
      },
      {
        "duration": 39,
        "start_time": "2022-03-29T13:39:40.157Z"
      },
      {
        "duration": 16,
        "start_time": "2022-03-29T13:39:40.198Z"
      },
      {
        "duration": 3,
        "start_time": "2022-03-29T13:39:40.232Z"
      },
      {
        "duration": 10,
        "start_time": "2022-03-29T13:39:40.237Z"
      },
      {
        "duration": 483,
        "start_time": "2022-03-29T13:39:40.249Z"
      },
      {
        "duration": 6,
        "start_time": "2022-03-29T13:39:40.735Z"
      },
      {
        "duration": 99,
        "start_time": "2022-03-29T13:39:40.743Z"
      },
      {
        "duration": 6,
        "start_time": "2022-03-29T13:39:51.815Z"
      },
      {
        "duration": 4,
        "start_time": "2022-03-29T13:40:38.734Z"
      },
      {
        "duration": 5,
        "start_time": "2022-03-29T13:40:39.686Z"
      },
      {
        "duration": 6,
        "start_time": "2022-03-29T13:40:40.213Z"
      },
      {
        "duration": 7,
        "start_time": "2022-03-29T13:40:43.636Z"
      },
      {
        "duration": 1485,
        "start_time": "2022-03-29T15:34:05.634Z"
      },
      {
        "duration": 320,
        "start_time": "2022-03-29T15:34:07.121Z"
      },
      {
        "duration": 5,
        "start_time": "2022-03-29T15:34:07.443Z"
      },
      {
        "duration": 5,
        "start_time": "2022-03-29T15:34:07.450Z"
      },
      {
        "duration": 4,
        "start_time": "2022-03-29T15:34:07.456Z"
      },
      {
        "duration": 16,
        "start_time": "2022-03-29T15:34:07.462Z"
      },
      {
        "duration": 30,
        "start_time": "2022-03-29T15:34:07.480Z"
      },
      {
        "duration": 13,
        "start_time": "2022-03-29T15:34:07.512Z"
      },
      {
        "duration": 37,
        "start_time": "2022-03-29T15:34:07.527Z"
      },
      {
        "duration": 58,
        "start_time": "2022-03-29T15:34:07.567Z"
      },
      {
        "duration": 32,
        "start_time": "2022-03-29T15:34:07.627Z"
      },
      {
        "duration": 13,
        "start_time": "2022-03-29T15:34:07.661Z"
      },
      {
        "duration": 4,
        "start_time": "2022-03-29T15:34:07.676Z"
      },
      {
        "duration": 6,
        "start_time": "2022-03-29T15:34:07.682Z"
      },
      {
        "duration": 503,
        "start_time": "2022-03-29T15:34:07.708Z"
      },
      {
        "duration": 4,
        "start_time": "2022-03-29T15:34:08.214Z"
      },
      {
        "duration": 7,
        "start_time": "2022-03-29T15:34:08.309Z"
      },
      {
        "duration": 7,
        "start_time": "2022-03-29T15:34:08.318Z"
      },
      {
        "duration": 11,
        "start_time": "2022-03-29T15:34:08.328Z"
      },
      {
        "duration": 3,
        "start_time": "2022-03-29T15:34:08.409Z"
      },
      {
        "duration": 4,
        "start_time": "2022-03-29T15:34:08.414Z"
      },
      {
        "duration": 4,
        "start_time": "2022-03-29T15:34:08.420Z"
      },
      {
        "duration": 4,
        "start_time": "2022-03-29T15:34:08.426Z"
      },
      {
        "duration": 5,
        "start_time": "2022-03-29T15:34:08.432Z"
      },
      {
        "duration": 143,
        "start_time": "2022-03-29T15:34:08.438Z"
      },
      {
        "duration": 5,
        "start_time": "2022-03-29T15:34:30.051Z"
      },
      {
        "duration": 5,
        "start_time": "2022-03-29T15:34:57.357Z"
      },
      {
        "duration": 3,
        "start_time": "2022-03-29T15:43:00.698Z"
      },
      {
        "duration": 4,
        "start_time": "2022-03-29T16:07:21.916Z"
      },
      {
        "duration": 361,
        "start_time": "2022-03-29T16:07:21.922Z"
      },
      {
        "duration": 4,
        "start_time": "2022-03-29T16:07:22.285Z"
      },
      {
        "duration": 11,
        "start_time": "2022-03-29T16:07:22.290Z"
      },
      {
        "duration": 4,
        "start_time": "2022-03-29T16:07:22.309Z"
      },
      {
        "duration": 18,
        "start_time": "2022-03-29T16:07:22.315Z"
      },
      {
        "duration": 13,
        "start_time": "2022-03-29T16:07:22.335Z"
      },
      {
        "duration": 15,
        "start_time": "2022-03-29T16:07:22.350Z"
      },
      {
        "duration": 69,
        "start_time": "2022-03-29T16:07:22.366Z"
      },
      {
        "duration": 35,
        "start_time": "2022-03-29T16:07:22.436Z"
      },
      {
        "duration": 54,
        "start_time": "2022-03-29T16:07:22.474Z"
      },
      {
        "duration": 12,
        "start_time": "2022-03-29T16:07:22.530Z"
      },
      {
        "duration": 6,
        "start_time": "2022-03-29T16:07:22.543Z"
      },
      {
        "duration": 6,
        "start_time": "2022-03-29T16:07:22.550Z"
      },
      {
        "duration": 263,
        "start_time": "2022-03-29T16:07:22.558Z"
      },
      {
        "duration": 86,
        "start_time": "2022-03-29T16:07:22.824Z"
      },
      {
        "duration": 96,
        "start_time": "2022-03-29T16:07:22.913Z"
      },
      {
        "duration": 6,
        "start_time": "2022-03-29T16:07:23.012Z"
      },
      {
        "duration": 10,
        "start_time": "2022-03-29T16:07:23.020Z"
      },
      {
        "duration": 5,
        "start_time": "2022-03-29T16:07:23.032Z"
      },
      {
        "duration": 9,
        "start_time": "2022-03-29T16:07:23.038Z"
      },
      {
        "duration": 5,
        "start_time": "2022-03-29T16:07:23.049Z"
      },
      {
        "duration": 6,
        "start_time": "2022-03-29T16:07:23.056Z"
      },
      {
        "duration": 5,
        "start_time": "2022-03-29T16:07:23.064Z"
      },
      {
        "duration": 7,
        "start_time": "2022-03-29T16:07:23.070Z"
      },
      {
        "duration": 35,
        "start_time": "2022-03-29T16:07:23.079Z"
      },
      {
        "duration": 4,
        "start_time": "2022-03-29T16:07:23.116Z"
      },
      {
        "duration": 12,
        "start_time": "2022-03-29T16:07:23.122Z"
      },
      {
        "duration": 9,
        "start_time": "2022-03-29T16:07:23.137Z"
      },
      {
        "duration": 9,
        "start_time": "2022-03-29T16:07:23.148Z"
      },
      {
        "duration": 4,
        "start_time": "2022-03-29T16:30:07.749Z"
      },
      {
        "duration": 372,
        "start_time": "2022-03-29T16:30:07.755Z"
      },
      {
        "duration": 4,
        "start_time": "2022-03-29T16:30:08.129Z"
      },
      {
        "duration": 14,
        "start_time": "2022-03-29T16:30:08.134Z"
      },
      {
        "duration": 5,
        "start_time": "2022-03-29T16:30:08.150Z"
      },
      {
        "duration": 23,
        "start_time": "2022-03-29T16:30:08.156Z"
      },
      {
        "duration": 52,
        "start_time": "2022-03-29T16:30:08.180Z"
      },
      {
        "duration": 38,
        "start_time": "2022-03-29T16:30:08.240Z"
      },
      {
        "duration": 38,
        "start_time": "2022-03-29T16:30:08.280Z"
      },
      {
        "duration": 42,
        "start_time": "2022-03-29T16:30:08.320Z"
      },
      {
        "duration": 52,
        "start_time": "2022-03-29T16:30:08.366Z"
      },
      {
        "duration": 15,
        "start_time": "2022-03-29T16:30:08.420Z"
      },
      {
        "duration": 8,
        "start_time": "2022-03-29T16:30:08.437Z"
      },
      {
        "duration": 5,
        "start_time": "2022-03-29T16:30:08.447Z"
      },
      {
        "duration": 355,
        "start_time": "2022-03-29T16:30:08.454Z"
      },
      {
        "duration": 5,
        "start_time": "2022-03-29T16:30:08.812Z"
      },
      {
        "duration": 97,
        "start_time": "2022-03-29T16:30:08.819Z"
      },
      {
        "duration": 5,
        "start_time": "2022-03-29T16:30:08.918Z"
      },
      {
        "duration": 6,
        "start_time": "2022-03-29T16:30:08.925Z"
      },
      {
        "duration": 2,
        "start_time": "2022-03-29T16:30:08.933Z"
      },
      {
        "duration": 11,
        "start_time": "2022-03-29T16:30:08.937Z"
      },
      {
        "duration": 11,
        "start_time": "2022-03-29T16:30:08.950Z"
      },
      {
        "duration": 10,
        "start_time": "2022-03-29T16:30:08.963Z"
      },
      {
        "duration": 7,
        "start_time": "2022-03-29T16:30:08.975Z"
      },
      {
        "duration": 25,
        "start_time": "2022-03-29T16:30:08.984Z"
      },
      {
        "duration": 8,
        "start_time": "2022-03-29T16:30:09.011Z"
      },
      {
        "duration": 5,
        "start_time": "2022-03-29T16:30:09.021Z"
      },
      {
        "duration": 16,
        "start_time": "2022-03-29T16:30:09.028Z"
      },
      {
        "duration": 10,
        "start_time": "2022-03-29T16:30:09.047Z"
      },
      {
        "duration": 11,
        "start_time": "2022-03-29T16:30:09.058Z"
      },
      {
        "duration": 3,
        "start_time": "2022-03-29T16:30:09.071Z"
      },
      {
        "duration": 35,
        "start_time": "2022-03-29T16:30:09.076Z"
      },
      {
        "duration": 1369,
        "start_time": "2022-03-29T16:30:09.112Z"
      },
      {
        "duration": 0,
        "start_time": "2022-03-29T16:30:10.483Z"
      },
      {
        "duration": 0,
        "start_time": "2022-03-29T16:30:10.484Z"
      },
      {
        "duration": 2103,
        "start_time": "2022-03-30T09:01:59.971Z"
      },
      {
        "duration": 396,
        "start_time": "2022-03-30T09:02:02.077Z"
      },
      {
        "duration": 9,
        "start_time": "2022-03-30T09:02:02.475Z"
      },
      {
        "duration": 11,
        "start_time": "2022-03-30T09:02:02.488Z"
      },
      {
        "duration": 8,
        "start_time": "2022-03-30T09:02:02.502Z"
      },
      {
        "duration": 32,
        "start_time": "2022-03-30T09:02:02.512Z"
      },
      {
        "duration": 48,
        "start_time": "2022-03-30T09:02:02.547Z"
      },
      {
        "duration": 21,
        "start_time": "2022-03-30T09:02:02.598Z"
      },
      {
        "duration": 75,
        "start_time": "2022-03-30T09:02:02.621Z"
      },
      {
        "duration": 43,
        "start_time": "2022-03-30T09:02:02.700Z"
      },
      {
        "duration": 62,
        "start_time": "2022-03-30T09:02:02.745Z"
      },
      {
        "duration": 18,
        "start_time": "2022-03-30T09:02:02.810Z"
      },
      {
        "duration": 9,
        "start_time": "2022-03-30T09:02:02.830Z"
      },
      {
        "duration": 8,
        "start_time": "2022-03-30T09:02:02.841Z"
      },
      {
        "duration": 444,
        "start_time": "2022-03-30T09:02:02.851Z"
      },
      {
        "duration": 86,
        "start_time": "2022-03-30T09:02:03.298Z"
      },
      {
        "duration": 99,
        "start_time": "2022-03-30T09:02:03.388Z"
      },
      {
        "duration": 7,
        "start_time": "2022-03-30T09:02:03.490Z"
      },
      {
        "duration": 9,
        "start_time": "2022-03-30T09:02:03.499Z"
      },
      {
        "duration": 8,
        "start_time": "2022-03-30T09:02:03.511Z"
      },
      {
        "duration": 5,
        "start_time": "2022-03-30T09:02:03.521Z"
      },
      {
        "duration": 12,
        "start_time": "2022-03-30T09:02:03.528Z"
      },
      {
        "duration": 42,
        "start_time": "2022-03-30T09:02:03.542Z"
      },
      {
        "duration": 9,
        "start_time": "2022-03-30T09:02:03.586Z"
      },
      {
        "duration": 8,
        "start_time": "2022-03-30T09:02:03.598Z"
      },
      {
        "duration": 10,
        "start_time": "2022-03-30T09:02:03.609Z"
      },
      {
        "duration": 13,
        "start_time": "2022-03-30T09:02:03.621Z"
      },
      {
        "duration": 12,
        "start_time": "2022-03-30T09:02:03.638Z"
      },
      {
        "duration": 11,
        "start_time": "2022-03-30T09:02:03.682Z"
      },
      {
        "duration": 11,
        "start_time": "2022-03-30T09:02:03.695Z"
      },
      {
        "duration": 4,
        "start_time": "2022-03-30T09:02:03.708Z"
      },
      {
        "duration": 12,
        "start_time": "2022-03-30T09:02:03.714Z"
      },
      {
        "duration": 2032,
        "start_time": "2022-03-30T09:02:03.728Z"
      },
      {
        "duration": 0,
        "start_time": "2022-03-30T09:02:05.763Z"
      },
      {
        "duration": 0,
        "start_time": "2022-03-30T09:02:05.765Z"
      },
      {
        "duration": 4,
        "start_time": "2022-03-30T09:02:41.350Z"
      },
      {
        "duration": 420,
        "start_time": "2022-03-30T09:02:41.356Z"
      },
      {
        "duration": 5,
        "start_time": "2022-03-30T09:02:41.778Z"
      },
      {
        "duration": 33,
        "start_time": "2022-03-30T09:02:41.785Z"
      },
      {
        "duration": 17,
        "start_time": "2022-03-30T09:02:41.821Z"
      },
      {
        "duration": 37,
        "start_time": "2022-03-30T09:02:41.840Z"
      },
      {
        "duration": 18,
        "start_time": "2022-03-30T09:02:41.879Z"
      },
      {
        "duration": 23,
        "start_time": "2022-03-30T09:02:41.899Z"
      },
      {
        "duration": 59,
        "start_time": "2022-03-30T09:02:41.924Z"
      },
      {
        "duration": 42,
        "start_time": "2022-03-30T09:02:41.986Z"
      },
      {
        "duration": 65,
        "start_time": "2022-03-30T09:02:42.032Z"
      },
      {
        "duration": 17,
        "start_time": "2022-03-30T09:02:42.099Z"
      },
      {
        "duration": 8,
        "start_time": "2022-03-30T09:02:42.118Z"
      },
      {
        "duration": 5,
        "start_time": "2022-03-30T09:02:42.128Z"
      },
      {
        "duration": 450,
        "start_time": "2022-03-30T09:02:42.136Z"
      },
      {
        "duration": 94,
        "start_time": "2022-03-30T09:02:42.589Z"
      },
      {
        "duration": 101,
        "start_time": "2022-03-30T09:02:42.686Z"
      },
      {
        "duration": 7,
        "start_time": "2022-03-30T09:02:42.789Z"
      },
      {
        "duration": 6,
        "start_time": "2022-03-30T09:02:42.798Z"
      },
      {
        "duration": 4,
        "start_time": "2022-03-30T09:02:42.806Z"
      },
      {
        "duration": 6,
        "start_time": "2022-03-30T09:02:42.812Z"
      },
      {
        "duration": 7,
        "start_time": "2022-03-30T09:02:42.820Z"
      },
      {
        "duration": 5,
        "start_time": "2022-03-30T09:02:42.829Z"
      },
      {
        "duration": 48,
        "start_time": "2022-03-30T09:02:42.836Z"
      },
      {
        "duration": 7,
        "start_time": "2022-03-30T09:02:42.887Z"
      },
      {
        "duration": 10,
        "start_time": "2022-03-30T09:02:42.896Z"
      },
      {
        "duration": 5,
        "start_time": "2022-03-30T09:02:42.908Z"
      },
      {
        "duration": 13,
        "start_time": "2022-03-30T09:02:42.915Z"
      },
      {
        "duration": 51,
        "start_time": "2022-03-30T09:02:42.932Z"
      },
      {
        "duration": 12,
        "start_time": "2022-03-30T09:02:42.985Z"
      },
      {
        "duration": 4,
        "start_time": "2022-03-30T09:02:42.999Z"
      },
      {
        "duration": 7,
        "start_time": "2022-03-30T09:02:43.005Z"
      },
      {
        "duration": 1888,
        "start_time": "2022-03-30T09:02:43.014Z"
      },
      {
        "duration": 1826,
        "start_time": "2022-03-30T09:02:44.904Z"
      },
      {
        "duration": 1858,
        "start_time": "2022-03-30T09:02:46.732Z"
      },
      {
        "duration": 1409,
        "start_time": "2022-03-30T09:16:22.223Z"
      },
      {
        "duration": 386,
        "start_time": "2022-03-30T09:16:23.635Z"
      },
      {
        "duration": 13,
        "start_time": "2022-03-30T09:16:24.023Z"
      },
      {
        "duration": 21,
        "start_time": "2022-03-30T09:16:24.040Z"
      },
      {
        "duration": 20,
        "start_time": "2022-03-30T09:16:24.063Z"
      },
      {
        "duration": 23,
        "start_time": "2022-03-30T09:16:24.086Z"
      },
      {
        "duration": 19,
        "start_time": "2022-03-30T09:16:24.111Z"
      },
      {
        "duration": 18,
        "start_time": "2022-03-30T09:16:24.132Z"
      },
      {
        "duration": 48,
        "start_time": "2022-03-30T09:16:24.182Z"
      },
      {
        "duration": 63,
        "start_time": "2022-03-30T09:16:24.234Z"
      },
      {
        "duration": 41,
        "start_time": "2022-03-30T09:16:24.300Z"
      },
      {
        "duration": 38,
        "start_time": "2022-03-30T09:16:24.344Z"
      },
      {
        "duration": 3,
        "start_time": "2022-03-30T09:16:24.384Z"
      },
      {
        "duration": 5,
        "start_time": "2022-03-30T09:16:24.390Z"
      },
      {
        "duration": 396,
        "start_time": "2022-03-30T09:16:24.398Z"
      },
      {
        "duration": 85,
        "start_time": "2022-03-30T09:16:24.798Z"
      },
      {
        "duration": 100,
        "start_time": "2022-03-30T09:16:24.887Z"
      },
      {
        "duration": 8,
        "start_time": "2022-03-30T09:16:24.989Z"
      },
      {
        "duration": 8,
        "start_time": "2022-03-30T09:16:24.999Z"
      },
      {
        "duration": 4,
        "start_time": "2022-03-30T09:16:25.009Z"
      },
      {
        "duration": 9,
        "start_time": "2022-03-30T09:16:25.015Z"
      },
      {
        "duration": 6,
        "start_time": "2022-03-30T09:16:25.027Z"
      },
      {
        "duration": 47,
        "start_time": "2022-03-30T09:16:25.035Z"
      },
      {
        "duration": 6,
        "start_time": "2022-03-30T09:16:25.085Z"
      },
      {
        "duration": 8,
        "start_time": "2022-03-30T09:16:25.094Z"
      },
      {
        "duration": 11,
        "start_time": "2022-03-30T09:16:25.104Z"
      },
      {
        "duration": 7,
        "start_time": "2022-03-30T09:16:25.117Z"
      },
      {
        "duration": 14,
        "start_time": "2022-03-30T09:16:25.130Z"
      },
      {
        "duration": 13,
        "start_time": "2022-03-30T09:16:25.183Z"
      },
      {
        "duration": 13,
        "start_time": "2022-03-30T09:16:25.199Z"
      },
      {
        "duration": 5,
        "start_time": "2022-03-30T09:16:25.214Z"
      },
      {
        "duration": 9,
        "start_time": "2022-03-30T09:16:25.222Z"
      },
      {
        "duration": 1931,
        "start_time": "2022-03-30T09:16:25.233Z"
      },
      {
        "duration": 1778,
        "start_time": "2022-03-30T09:16:27.166Z"
      },
      {
        "duration": 1796,
        "start_time": "2022-03-30T09:16:28.947Z"
      },
      {
        "duration": 1449,
        "start_time": "2022-03-31T16:10:28.699Z"
      },
      {
        "duration": 472,
        "start_time": "2022-03-31T16:10:30.150Z"
      },
      {
        "duration": 11,
        "start_time": "2022-03-31T16:10:30.623Z"
      },
      {
        "duration": 24,
        "start_time": "2022-03-31T16:10:30.636Z"
      },
      {
        "duration": 19,
        "start_time": "2022-03-31T16:10:30.661Z"
      },
      {
        "duration": 27,
        "start_time": "2022-03-31T16:10:30.681Z"
      },
      {
        "duration": 12,
        "start_time": "2022-03-31T16:10:30.709Z"
      },
      {
        "duration": 28,
        "start_time": "2022-03-31T16:10:30.723Z"
      },
      {
        "duration": 53,
        "start_time": "2022-03-31T16:10:30.753Z"
      },
      {
        "duration": 31,
        "start_time": "2022-03-31T16:10:30.808Z"
      },
      {
        "duration": 41,
        "start_time": "2022-03-31T16:10:30.841Z"
      },
      {
        "duration": 14,
        "start_time": "2022-03-31T16:10:30.883Z"
      },
      {
        "duration": 8,
        "start_time": "2022-03-31T16:10:30.899Z"
      },
      {
        "duration": 9,
        "start_time": "2022-03-31T16:10:30.909Z"
      },
      {
        "duration": 270,
        "start_time": "2022-03-31T16:10:30.920Z"
      },
      {
        "duration": 4,
        "start_time": "2022-03-31T16:10:31.193Z"
      },
      {
        "duration": 183,
        "start_time": "2022-03-31T16:10:31.198Z"
      },
      {
        "duration": 6,
        "start_time": "2022-03-31T16:10:31.383Z"
      },
      {
        "duration": 11,
        "start_time": "2022-03-31T16:10:31.390Z"
      },
      {
        "duration": 4,
        "start_time": "2022-03-31T16:10:31.402Z"
      },
      {
        "duration": 5,
        "start_time": "2022-03-31T16:10:31.407Z"
      },
      {
        "duration": 5,
        "start_time": "2022-03-31T16:10:31.413Z"
      },
      {
        "duration": 7,
        "start_time": "2022-03-31T16:10:31.420Z"
      },
      {
        "duration": 8,
        "start_time": "2022-03-31T16:10:31.428Z"
      },
      {
        "duration": 12,
        "start_time": "2022-03-31T16:10:31.438Z"
      },
      {
        "duration": 6,
        "start_time": "2022-03-31T16:10:31.452Z"
      },
      {
        "duration": 6,
        "start_time": "2022-03-31T16:10:31.460Z"
      },
      {
        "duration": 8,
        "start_time": "2022-03-31T16:10:31.483Z"
      },
      {
        "duration": 8,
        "start_time": "2022-03-31T16:10:31.493Z"
      },
      {
        "duration": 8,
        "start_time": "2022-03-31T16:10:31.502Z"
      },
      {
        "duration": 3,
        "start_time": "2022-03-31T16:10:31.512Z"
      },
      {
        "duration": 7,
        "start_time": "2022-03-31T16:10:31.516Z"
      },
      {
        "duration": 123,
        "start_time": "2022-03-31T16:10:31.524Z"
      },
      {
        "duration": 0,
        "start_time": "2022-03-31T16:10:31.648Z"
      },
      {
        "duration": 0,
        "start_time": "2022-03-31T16:10:31.649Z"
      },
      {
        "duration": 4,
        "start_time": "2022-03-31T16:15:12.882Z"
      },
      {
        "duration": 4,
        "start_time": "2022-03-31T16:15:17.646Z"
      },
      {
        "duration": 1217,
        "start_time": "2022-03-31T16:15:23.178Z"
      },
      {
        "duration": 334,
        "start_time": "2022-03-31T16:15:24.397Z"
      },
      {
        "duration": 7,
        "start_time": "2022-03-31T16:15:24.733Z"
      },
      {
        "duration": 10,
        "start_time": "2022-03-31T16:15:24.742Z"
      },
      {
        "duration": 5,
        "start_time": "2022-03-31T16:15:24.753Z"
      },
      {
        "duration": 23,
        "start_time": "2022-03-31T16:15:24.760Z"
      },
      {
        "duration": 13,
        "start_time": "2022-03-31T16:15:24.785Z"
      },
      {
        "duration": 12,
        "start_time": "2022-03-31T16:15:24.799Z"
      },
      {
        "duration": 35,
        "start_time": "2022-03-31T16:15:24.812Z"
      },
      {
        "duration": 32,
        "start_time": "2022-03-31T16:15:24.880Z"
      },
      {
        "duration": 30,
        "start_time": "2022-03-31T16:15:24.913Z"
      },
      {
        "duration": 13,
        "start_time": "2022-03-31T16:15:24.944Z"
      },
      {
        "duration": 23,
        "start_time": "2022-03-31T16:15:24.958Z"
      },
      {
        "duration": 7,
        "start_time": "2022-03-31T16:15:24.982Z"
      },
      {
        "duration": 300,
        "start_time": "2022-03-31T16:15:24.990Z"
      },
      {
        "duration": 4,
        "start_time": "2022-03-31T16:15:25.382Z"
      },
      {
        "duration": 96,
        "start_time": "2022-03-31T16:15:25.388Z"
      },
      {
        "duration": 4,
        "start_time": "2022-03-31T16:15:25.486Z"
      },
      {
        "duration": 5,
        "start_time": "2022-03-31T16:15:25.492Z"
      },
      {
        "duration": 2,
        "start_time": "2022-03-31T16:15:25.499Z"
      },
      {
        "duration": 5,
        "start_time": "2022-03-31T16:15:25.502Z"
      },
      {
        "duration": 4,
        "start_time": "2022-03-31T16:15:25.509Z"
      },
      {
        "duration": 4,
        "start_time": "2022-03-31T16:15:25.515Z"
      },
      {
        "duration": 5,
        "start_time": "2022-03-31T16:15:25.521Z"
      },
      {
        "duration": 5,
        "start_time": "2022-03-31T16:15:25.528Z"
      },
      {
        "duration": 8,
        "start_time": "2022-03-31T16:15:25.535Z"
      },
      {
        "duration": 5,
        "start_time": "2022-03-31T16:15:25.544Z"
      },
      {
        "duration": 9,
        "start_time": "2022-03-31T16:15:25.583Z"
      },
      {
        "duration": 8,
        "start_time": "2022-03-31T16:15:25.593Z"
      },
      {
        "duration": 7,
        "start_time": "2022-03-31T16:15:25.603Z"
      },
      {
        "duration": 2,
        "start_time": "2022-03-31T16:15:25.612Z"
      },
      {
        "duration": 6,
        "start_time": "2022-03-31T16:15:25.616Z"
      },
      {
        "duration": 1677,
        "start_time": "2022-03-31T16:15:25.623Z"
      },
      {
        "duration": 1611,
        "start_time": "2022-03-31T16:15:27.301Z"
      },
      {
        "duration": 1503,
        "start_time": "2022-03-31T16:15:28.914Z"
      }
    ],
    "kernelspec": {
      "display_name": "Python 3 (ipykernel)",
      "language": "python",
      "name": "python3"
    },
    "language_info": {
      "codemirror_mode": {
        "name": "ipython",
        "version": 3
      },
      "file_extension": ".py",
      "mimetype": "text/x-python",
      "name": "python",
      "nbconvert_exporter": "python",
      "pygments_lexer": "ipython3",
      "version": "3.9.5"
    },
    "toc": {
      "base_numbering": 1,
      "nav_menu": {},
      "number_sections": false,
      "sideBar": true,
      "skip_h1_title": true,
      "title_cell": "Table of Contents",
      "title_sidebar": "Contents",
      "toc_cell": false,
      "toc_position": {},
      "toc_section_display": true,
      "toc_window_display": false
    },
    "colab": {
      "provenance": []
    }
  },
  "nbformat": 4,
  "nbformat_minor": 0
}