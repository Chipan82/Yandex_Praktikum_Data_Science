{
  "cells": [
    {
      "cell_type": "markdown",
      "metadata": {
        "id": "lCfBL-AQe4ji"
      },
      "source": [
        "# Определение стоимости автомобилей"
      ]
    },
    {
      "cell_type": "markdown",
      "metadata": {
        "id": "wsy8xCHqe4jl"
      },
      "source": [
        "Цель - построить модель для определения стоимости. \n",
        "Разработать приложение,чтобы в нём можно быстро узнать рыночную стоимость своего автомобиля.  "
      ]
    },
    {
      "cell_type": "markdown",
      "metadata": {
        "id": "t8ZiLM_-e4jm"
      },
      "source": [
        "##### Признаки\n",
        "\n",
        "- DateCrawled — дата скачивания анкеты из базы\n",
        "- VehicleType — тип автомобильного кузова\n",
        "- RegistrationYear — год регистрации автомобиля\n",
        "- Gearbox — тип коробки передач\n",
        "- Power — мощность (л. с.)\n",
        "- Model — модель автомобиля\n",
        "- Kilometer — пробег (км)\n",
        "- RegistrationMonth — месяц регистрации автомобиля\n",
        "- FuelType — тип топлива\n",
        "- Brand — марка автомобиля\n",
        "- NotRepaired — была машина в ремонте или нет\n",
        "- DateCreated — дата создания анкеты\n",
        "- NumberOfPictures — количество фотографий автомобиля\n",
        "- PostalCode — почтовый индекс владельца анкеты (пользователя)\n",
        "- LastSeen — дата последней активности пользователя\n",
        "\n",
        "##### Целевой признак\n",
        "\n",
        "- Price — цена (евро)"
      ]
    },
    {
      "cell_type": "markdown",
      "metadata": {
        "id": "WRH8Y3qHe4jp"
      },
      "source": [
        "## Подготовка данных"
      ]
    },
    {
      "cell_type": "code",
      "execution_count": null,
      "metadata": {
        "id": "BWoHC55he4jp"
      },
      "outputs": [],
      "source": [
        "import pandas as pd\n",
        "import numpy as np\n",
        "import matplotlib.pyplot as plt\n",
        "from sklearn.metrics import mean_squared_error\n",
        "from sklearn.model_selection import train_test_split\n",
        "from sklearn.preprocessing import StandardScaler\n",
        "from sklearn.preprocessing import OrdinalEncoder\n",
        "from sklearn  import metrics\n",
        "from sklearn.model_selection import GridSearchCV\n",
        "from sklearn.linear_model import LinearRegression\n",
        "from sklearn.ensemble import RandomForestRegressor\n",
        "from catboost import CatBoostRegressor\n",
        "from sklearn.tree import DecisionTreeRegressor\n",
        "from lightgbm import LGBMRegressor\n",
        "import warnings\n",
        "warnings.filterwarnings('ignore')"
      ]
    },
    {
      "cell_type": "code",
      "execution_count": null,
      "metadata": {
        "id": "WQVHtS6ne4jr",
        "outputId": "d9e88df5-bdef-4b44-d1a2-4b62addd186a"
      },
      "outputs": [
        {
          "data": {
            "text/html": [
              "<div>\n",
              "<style scoped>\n",
              "    .dataframe tbody tr th:only-of-type {\n",
              "        vertical-align: middle;\n",
              "    }\n",
              "\n",
              "    .dataframe tbody tr th {\n",
              "        vertical-align: top;\n",
              "    }\n",
              "\n",
              "    .dataframe thead th {\n",
              "        text-align: right;\n",
              "    }\n",
              "</style>\n",
              "<table border=\"1\" class=\"dataframe\">\n",
              "  <thead>\n",
              "    <tr style=\"text-align: right;\">\n",
              "      <th></th>\n",
              "      <th>DateCrawled</th>\n",
              "      <th>Price</th>\n",
              "      <th>VehicleType</th>\n",
              "      <th>RegistrationYear</th>\n",
              "      <th>Gearbox</th>\n",
              "      <th>Power</th>\n",
              "      <th>Model</th>\n",
              "      <th>Kilometer</th>\n",
              "      <th>RegistrationMonth</th>\n",
              "      <th>FuelType</th>\n",
              "      <th>Brand</th>\n",
              "      <th>NotRepaired</th>\n",
              "      <th>DateCreated</th>\n",
              "      <th>NumberOfPictures</th>\n",
              "      <th>PostalCode</th>\n",
              "      <th>LastSeen</th>\n",
              "    </tr>\n",
              "  </thead>\n",
              "  <tbody>\n",
              "    <tr>\n",
              "      <th>0</th>\n",
              "      <td>2016-03-24 11:52:17</td>\n",
              "      <td>480</td>\n",
              "      <td>NaN</td>\n",
              "      <td>1993</td>\n",
              "      <td>manual</td>\n",
              "      <td>0</td>\n",
              "      <td>golf</td>\n",
              "      <td>150000</td>\n",
              "      <td>0</td>\n",
              "      <td>petrol</td>\n",
              "      <td>volkswagen</td>\n",
              "      <td>NaN</td>\n",
              "      <td>2016-03-24 00:00:00</td>\n",
              "      <td>0</td>\n",
              "      <td>70435</td>\n",
              "      <td>2016-04-07 03:16:57</td>\n",
              "    </tr>\n",
              "    <tr>\n",
              "      <th>1</th>\n",
              "      <td>2016-03-24 10:58:45</td>\n",
              "      <td>18300</td>\n",
              "      <td>coupe</td>\n",
              "      <td>2011</td>\n",
              "      <td>manual</td>\n",
              "      <td>190</td>\n",
              "      <td>NaN</td>\n",
              "      <td>125000</td>\n",
              "      <td>5</td>\n",
              "      <td>gasoline</td>\n",
              "      <td>audi</td>\n",
              "      <td>yes</td>\n",
              "      <td>2016-03-24 00:00:00</td>\n",
              "      <td>0</td>\n",
              "      <td>66954</td>\n",
              "      <td>2016-04-07 01:46:50</td>\n",
              "    </tr>\n",
              "    <tr>\n",
              "      <th>2</th>\n",
              "      <td>2016-03-14 12:52:21</td>\n",
              "      <td>9800</td>\n",
              "      <td>suv</td>\n",
              "      <td>2004</td>\n",
              "      <td>auto</td>\n",
              "      <td>163</td>\n",
              "      <td>grand</td>\n",
              "      <td>125000</td>\n",
              "      <td>8</td>\n",
              "      <td>gasoline</td>\n",
              "      <td>jeep</td>\n",
              "      <td>NaN</td>\n",
              "      <td>2016-03-14 00:00:00</td>\n",
              "      <td>0</td>\n",
              "      <td>90480</td>\n",
              "      <td>2016-04-05 12:47:46</td>\n",
              "    </tr>\n",
              "    <tr>\n",
              "      <th>3</th>\n",
              "      <td>2016-03-17 16:54:04</td>\n",
              "      <td>1500</td>\n",
              "      <td>small</td>\n",
              "      <td>2001</td>\n",
              "      <td>manual</td>\n",
              "      <td>75</td>\n",
              "      <td>golf</td>\n",
              "      <td>150000</td>\n",
              "      <td>6</td>\n",
              "      <td>petrol</td>\n",
              "      <td>volkswagen</td>\n",
              "      <td>no</td>\n",
              "      <td>2016-03-17 00:00:00</td>\n",
              "      <td>0</td>\n",
              "      <td>91074</td>\n",
              "      <td>2016-03-17 17:40:17</td>\n",
              "    </tr>\n",
              "    <tr>\n",
              "      <th>4</th>\n",
              "      <td>2016-03-31 17:25:20</td>\n",
              "      <td>3600</td>\n",
              "      <td>small</td>\n",
              "      <td>2008</td>\n",
              "      <td>manual</td>\n",
              "      <td>69</td>\n",
              "      <td>fabia</td>\n",
              "      <td>90000</td>\n",
              "      <td>7</td>\n",
              "      <td>gasoline</td>\n",
              "      <td>skoda</td>\n",
              "      <td>no</td>\n",
              "      <td>2016-03-31 00:00:00</td>\n",
              "      <td>0</td>\n",
              "      <td>60437</td>\n",
              "      <td>2016-04-06 10:17:21</td>\n",
              "    </tr>\n",
              "    <tr>\n",
              "      <th>5</th>\n",
              "      <td>2016-04-04 17:36:23</td>\n",
              "      <td>650</td>\n",
              "      <td>sedan</td>\n",
              "      <td>1995</td>\n",
              "      <td>manual</td>\n",
              "      <td>102</td>\n",
              "      <td>3er</td>\n",
              "      <td>150000</td>\n",
              "      <td>10</td>\n",
              "      <td>petrol</td>\n",
              "      <td>bmw</td>\n",
              "      <td>yes</td>\n",
              "      <td>2016-04-04 00:00:00</td>\n",
              "      <td>0</td>\n",
              "      <td>33775</td>\n",
              "      <td>2016-04-06 19:17:07</td>\n",
              "    </tr>\n",
              "    <tr>\n",
              "      <th>6</th>\n",
              "      <td>2016-04-01 20:48:51</td>\n",
              "      <td>2200</td>\n",
              "      <td>convertible</td>\n",
              "      <td>2004</td>\n",
              "      <td>manual</td>\n",
              "      <td>109</td>\n",
              "      <td>2_reihe</td>\n",
              "      <td>150000</td>\n",
              "      <td>8</td>\n",
              "      <td>petrol</td>\n",
              "      <td>peugeot</td>\n",
              "      <td>no</td>\n",
              "      <td>2016-04-01 00:00:00</td>\n",
              "      <td>0</td>\n",
              "      <td>67112</td>\n",
              "      <td>2016-04-05 18:18:39</td>\n",
              "    </tr>\n",
              "    <tr>\n",
              "      <th>7</th>\n",
              "      <td>2016-03-21 18:54:38</td>\n",
              "      <td>0</td>\n",
              "      <td>sedan</td>\n",
              "      <td>1980</td>\n",
              "      <td>manual</td>\n",
              "      <td>50</td>\n",
              "      <td>other</td>\n",
              "      <td>40000</td>\n",
              "      <td>7</td>\n",
              "      <td>petrol</td>\n",
              "      <td>volkswagen</td>\n",
              "      <td>no</td>\n",
              "      <td>2016-03-21 00:00:00</td>\n",
              "      <td>0</td>\n",
              "      <td>19348</td>\n",
              "      <td>2016-03-25 16:47:58</td>\n",
              "    </tr>\n",
              "    <tr>\n",
              "      <th>8</th>\n",
              "      <td>2016-04-04 23:42:13</td>\n",
              "      <td>14500</td>\n",
              "      <td>bus</td>\n",
              "      <td>2014</td>\n",
              "      <td>manual</td>\n",
              "      <td>125</td>\n",
              "      <td>c_max</td>\n",
              "      <td>30000</td>\n",
              "      <td>8</td>\n",
              "      <td>petrol</td>\n",
              "      <td>ford</td>\n",
              "      <td>NaN</td>\n",
              "      <td>2016-04-04 00:00:00</td>\n",
              "      <td>0</td>\n",
              "      <td>94505</td>\n",
              "      <td>2016-04-04 23:42:13</td>\n",
              "    </tr>\n",
              "    <tr>\n",
              "      <th>9</th>\n",
              "      <td>2016-03-17 10:53:50</td>\n",
              "      <td>999</td>\n",
              "      <td>small</td>\n",
              "      <td>1998</td>\n",
              "      <td>manual</td>\n",
              "      <td>101</td>\n",
              "      <td>golf</td>\n",
              "      <td>150000</td>\n",
              "      <td>0</td>\n",
              "      <td>NaN</td>\n",
              "      <td>volkswagen</td>\n",
              "      <td>NaN</td>\n",
              "      <td>2016-03-17 00:00:00</td>\n",
              "      <td>0</td>\n",
              "      <td>27472</td>\n",
              "      <td>2016-03-31 17:17:06</td>\n",
              "    </tr>\n",
              "  </tbody>\n",
              "</table>\n",
              "</div>"
            ],
            "text/plain": [
              "           DateCrawled  Price  VehicleType  RegistrationYear Gearbox  Power  \\\n",
              "0  2016-03-24 11:52:17    480          NaN              1993  manual      0   \n",
              "1  2016-03-24 10:58:45  18300        coupe              2011  manual    190   \n",
              "2  2016-03-14 12:52:21   9800          suv              2004    auto    163   \n",
              "3  2016-03-17 16:54:04   1500        small              2001  manual     75   \n",
              "4  2016-03-31 17:25:20   3600        small              2008  manual     69   \n",
              "5  2016-04-04 17:36:23    650        sedan              1995  manual    102   \n",
              "6  2016-04-01 20:48:51   2200  convertible              2004  manual    109   \n",
              "7  2016-03-21 18:54:38      0        sedan              1980  manual     50   \n",
              "8  2016-04-04 23:42:13  14500          bus              2014  manual    125   \n",
              "9  2016-03-17 10:53:50    999        small              1998  manual    101   \n",
              "\n",
              "     Model  Kilometer  RegistrationMonth  FuelType       Brand NotRepaired  \\\n",
              "0     golf     150000                  0    petrol  volkswagen         NaN   \n",
              "1      NaN     125000                  5  gasoline        audi         yes   \n",
              "2    grand     125000                  8  gasoline        jeep         NaN   \n",
              "3     golf     150000                  6    petrol  volkswagen          no   \n",
              "4    fabia      90000                  7  gasoline       skoda          no   \n",
              "5      3er     150000                 10    petrol         bmw         yes   \n",
              "6  2_reihe     150000                  8    petrol     peugeot          no   \n",
              "7    other      40000                  7    petrol  volkswagen          no   \n",
              "8    c_max      30000                  8    petrol        ford         NaN   \n",
              "9     golf     150000                  0       NaN  volkswagen         NaN   \n",
              "\n",
              "           DateCreated  NumberOfPictures  PostalCode             LastSeen  \n",
              "0  2016-03-24 00:00:00                 0       70435  2016-04-07 03:16:57  \n",
              "1  2016-03-24 00:00:00                 0       66954  2016-04-07 01:46:50  \n",
              "2  2016-03-14 00:00:00                 0       90480  2016-04-05 12:47:46  \n",
              "3  2016-03-17 00:00:00                 0       91074  2016-03-17 17:40:17  \n",
              "4  2016-03-31 00:00:00                 0       60437  2016-04-06 10:17:21  \n",
              "5  2016-04-04 00:00:00                 0       33775  2016-04-06 19:17:07  \n",
              "6  2016-04-01 00:00:00                 0       67112  2016-04-05 18:18:39  \n",
              "7  2016-03-21 00:00:00                 0       19348  2016-03-25 16:47:58  \n",
              "8  2016-04-04 00:00:00                 0       94505  2016-04-04 23:42:13  \n",
              "9  2016-03-17 00:00:00                 0       27472  2016-03-31 17:17:06  "
            ]
          },
          "execution_count": 2,
          "metadata": {},
          "output_type": "execute_result"
        }
      ],
      "source": [
        "data = pd.read_csv('/datasets/autos.csv')\n",
        "data.head(10)"
      ]
    },
    {
      "cell_type": "code",
      "execution_count": null,
      "metadata": {
        "id": "tZCuewnqe4js",
        "outputId": "b22f6303-5c2c-410f-ad5e-943c0cdb241f"
      },
      "outputs": [
        {
          "name": "stdout",
          "output_type": "stream",
          "text": [
            "<class 'pandas.core.frame.DataFrame'>\n",
            "RangeIndex: 354369 entries, 0 to 354368\n",
            "Data columns (total 16 columns):\n",
            " #   Column             Non-Null Count   Dtype \n",
            "---  ------             --------------   ----- \n",
            " 0   DateCrawled        354369 non-null  object\n",
            " 1   Price              354369 non-null  int64 \n",
            " 2   VehicleType        316879 non-null  object\n",
            " 3   RegistrationYear   354369 non-null  int64 \n",
            " 4   Gearbox            334536 non-null  object\n",
            " 5   Power              354369 non-null  int64 \n",
            " 6   Model              334664 non-null  object\n",
            " 7   Kilometer          354369 non-null  int64 \n",
            " 8   RegistrationMonth  354369 non-null  int64 \n",
            " 9   FuelType           321474 non-null  object\n",
            " 10  Brand              354369 non-null  object\n",
            " 11  NotRepaired        283215 non-null  object\n",
            " 12  DateCreated        354369 non-null  object\n",
            " 13  NumberOfPictures   354369 non-null  int64 \n",
            " 14  PostalCode         354369 non-null  int64 \n",
            " 15  LastSeen           354369 non-null  object\n",
            "dtypes: int64(7), object(9)\n",
            "memory usage: 43.3+ MB\n"
          ]
        }
      ],
      "source": [
        "data.info()"
      ]
    },
    {
      "cell_type": "code",
      "execution_count": null,
      "metadata": {
        "id": "GNfo4DBze4jz",
        "outputId": "3fafedd8-189d-43fb-8823-97242687429d"
      },
      "outputs": [
        {
          "data": {
            "text/html": [
              "<div>\n",
              "<style scoped>\n",
              "    .dataframe tbody tr th:only-of-type {\n",
              "        vertical-align: middle;\n",
              "    }\n",
              "\n",
              "    .dataframe tbody tr th {\n",
              "        vertical-align: top;\n",
              "    }\n",
              "\n",
              "    .dataframe thead th {\n",
              "        text-align: right;\n",
              "    }\n",
              "</style>\n",
              "<table border=\"1\" class=\"dataframe\">\n",
              "  <thead>\n",
              "    <tr style=\"text-align: right;\">\n",
              "      <th></th>\n",
              "      <th>Price</th>\n",
              "      <th>RegistrationYear</th>\n",
              "      <th>Power</th>\n",
              "      <th>Kilometer</th>\n",
              "      <th>RegistrationMonth</th>\n",
              "      <th>NumberOfPictures</th>\n",
              "      <th>PostalCode</th>\n",
              "    </tr>\n",
              "  </thead>\n",
              "  <tbody>\n",
              "    <tr>\n",
              "      <th>count</th>\n",
              "      <td>354369.000000</td>\n",
              "      <td>354369.000000</td>\n",
              "      <td>354369.000000</td>\n",
              "      <td>354369.000000</td>\n",
              "      <td>354369.000000</td>\n",
              "      <td>354369.0</td>\n",
              "      <td>354369.000000</td>\n",
              "    </tr>\n",
              "    <tr>\n",
              "      <th>mean</th>\n",
              "      <td>4416.656776</td>\n",
              "      <td>2004.234448</td>\n",
              "      <td>110.094337</td>\n",
              "      <td>128211.172535</td>\n",
              "      <td>5.714645</td>\n",
              "      <td>0.0</td>\n",
              "      <td>50508.689087</td>\n",
              "    </tr>\n",
              "    <tr>\n",
              "      <th>std</th>\n",
              "      <td>4514.158514</td>\n",
              "      <td>90.227958</td>\n",
              "      <td>189.850405</td>\n",
              "      <td>37905.341530</td>\n",
              "      <td>3.726421</td>\n",
              "      <td>0.0</td>\n",
              "      <td>25783.096248</td>\n",
              "    </tr>\n",
              "    <tr>\n",
              "      <th>min</th>\n",
              "      <td>0.000000</td>\n",
              "      <td>1000.000000</td>\n",
              "      <td>0.000000</td>\n",
              "      <td>5000.000000</td>\n",
              "      <td>0.000000</td>\n",
              "      <td>0.0</td>\n",
              "      <td>1067.000000</td>\n",
              "    </tr>\n",
              "    <tr>\n",
              "      <th>25%</th>\n",
              "      <td>1050.000000</td>\n",
              "      <td>1999.000000</td>\n",
              "      <td>69.000000</td>\n",
              "      <td>125000.000000</td>\n",
              "      <td>3.000000</td>\n",
              "      <td>0.0</td>\n",
              "      <td>30165.000000</td>\n",
              "    </tr>\n",
              "    <tr>\n",
              "      <th>50%</th>\n",
              "      <td>2700.000000</td>\n",
              "      <td>2003.000000</td>\n",
              "      <td>105.000000</td>\n",
              "      <td>150000.000000</td>\n",
              "      <td>6.000000</td>\n",
              "      <td>0.0</td>\n",
              "      <td>49413.000000</td>\n",
              "    </tr>\n",
              "    <tr>\n",
              "      <th>75%</th>\n",
              "      <td>6400.000000</td>\n",
              "      <td>2008.000000</td>\n",
              "      <td>143.000000</td>\n",
              "      <td>150000.000000</td>\n",
              "      <td>9.000000</td>\n",
              "      <td>0.0</td>\n",
              "      <td>71083.000000</td>\n",
              "    </tr>\n",
              "    <tr>\n",
              "      <th>max</th>\n",
              "      <td>20000.000000</td>\n",
              "      <td>9999.000000</td>\n",
              "      <td>20000.000000</td>\n",
              "      <td>150000.000000</td>\n",
              "      <td>12.000000</td>\n",
              "      <td>0.0</td>\n",
              "      <td>99998.000000</td>\n",
              "    </tr>\n",
              "  </tbody>\n",
              "</table>\n",
              "</div>"
            ],
            "text/plain": [
              "               Price  RegistrationYear          Power      Kilometer  \\\n",
              "count  354369.000000     354369.000000  354369.000000  354369.000000   \n",
              "mean     4416.656776       2004.234448     110.094337  128211.172535   \n",
              "std      4514.158514         90.227958     189.850405   37905.341530   \n",
              "min         0.000000       1000.000000       0.000000    5000.000000   \n",
              "25%      1050.000000       1999.000000      69.000000  125000.000000   \n",
              "50%      2700.000000       2003.000000     105.000000  150000.000000   \n",
              "75%      6400.000000       2008.000000     143.000000  150000.000000   \n",
              "max     20000.000000       9999.000000   20000.000000  150000.000000   \n",
              "\n",
              "       RegistrationMonth  NumberOfPictures     PostalCode  \n",
              "count      354369.000000          354369.0  354369.000000  \n",
              "mean            5.714645               0.0   50508.689087  \n",
              "std             3.726421               0.0   25783.096248  \n",
              "min             0.000000               0.0    1067.000000  \n",
              "25%             3.000000               0.0   30165.000000  \n",
              "50%             6.000000               0.0   49413.000000  \n",
              "75%             9.000000               0.0   71083.000000  \n",
              "max            12.000000               0.0   99998.000000  "
            ]
          },
          "execution_count": 4,
          "metadata": {},
          "output_type": "execute_result"
        }
      ],
      "source": [
        "data.describe()"
      ]
    },
    {
      "cell_type": "code",
      "execution_count": null,
      "metadata": {
        "id": "rrzrsI6de4j0",
        "outputId": "b83ba98c-48c9-4a7d-cd63-c35ac139a9cb"
      },
      "outputs": [
        {
          "data": {
            "text/plain": [
              "4"
            ]
          },
          "execution_count": 5,
          "metadata": {},
          "output_type": "execute_result"
        }
      ],
      "source": [
        "data.duplicated().sum()"
      ]
    },
    {
      "cell_type": "code",
      "execution_count": null,
      "metadata": {
        "id": "RBuoIP2de4j0",
        "outputId": "4c246818-2cf0-4635-b4c8-354b2ca72e2f"
      },
      "outputs": [
        {
          "data": {
            "text/plain": [
              "0"
            ]
          },
          "execution_count": 6,
          "metadata": {},
          "output_type": "execute_result"
        }
      ],
      "source": [
        "data = data.drop_duplicates()\n",
        "data.duplicated().sum()"
      ]
    },
    {
      "cell_type": "code",
      "execution_count": null,
      "metadata": {
        "id": "NxkZ0tOxe4j1",
        "outputId": "ee26ecd0-13ef-4a66-b7d2-e187087995a2"
      },
      "outputs": [
        {
          "data": {
            "text/plain": [
              "DateCrawled              0\n",
              "Price                    0\n",
              "VehicleType          37490\n",
              "RegistrationYear         0\n",
              "Gearbox              19833\n",
              "Power                    0\n",
              "Model                19705\n",
              "Kilometer                0\n",
              "RegistrationMonth        0\n",
              "FuelType             32895\n",
              "Brand                    0\n",
              "NotRepaired          71154\n",
              "DateCreated              0\n",
              "NumberOfPictures         0\n",
              "PostalCode               0\n",
              "LastSeen                 0\n",
              "dtype: int64"
            ]
          },
          "execution_count": 7,
          "metadata": {},
          "output_type": "execute_result"
        }
      ],
      "source": [
        "data.isna().sum()"
      ]
    },
    {
      "cell_type": "code",
      "execution_count": null,
      "metadata": {
        "id": "kzzKkovue4j1",
        "outputId": "d4f2c259-4b36-43b3-8ebf-9690c950ab70"
      },
      "outputs": [
        {
          "name": "stdout",
          "output_type": "stream",
          "text": [
            "DateCrawled           0.000000\n",
            "Price                 0.000000\n",
            "VehicleType          10.579487\n",
            "RegistrationYear      0.000000\n",
            "Gearbox               5.596772\n",
            "Power                 0.000000\n",
            "Model                 5.560651\n",
            "Kilometer             0.000000\n",
            "RegistrationMonth     0.000000\n",
            "FuelType              9.282802\n",
            "Brand                 0.000000\n",
            "NotRepaired          20.079297\n",
            "DateCreated           0.000000\n",
            "NumberOfPictures      0.000000\n",
            "PostalCode            0.000000\n",
            "LastSeen              0.000000\n",
            "dtype: float64\n"
          ]
        }
      ],
      "source": [
        "print(data.isna().sum()/len(data)*100)"
      ]
    },
    {
      "cell_type": "code",
      "execution_count": null,
      "metadata": {
        "id": "gr8mMJSpe4j2",
        "outputId": "1a5d8a74-c25e-49a4-ce3d-8e4dd6e080bd"
      },
      "outputs": [
        {
          "data": {
            "text/plain": [
              "Timestamp('2016-04-07 14:36:58')"
            ]
          },
          "execution_count": 9,
          "metadata": {},
          "output_type": "execute_result"
        }
      ],
      "source": [
        "datecrawled = pd.to_datetime(data['DateCrawled'])\n",
        "datecrawled.max()"
      ]
    },
    {
      "cell_type": "markdown",
      "metadata": {
        "id": "l_rTlC_ie4j3"
      },
      "source": [
        "Удалим столбцы, которые не пригодятся для обучения модели."
      ]
    },
    {
      "cell_type": "code",
      "execution_count": null,
      "metadata": {
        "id": "k1XpS3aWe4j3"
      },
      "outputs": [],
      "source": [
        "data = data.drop(['DateCrawled', 'RegistrationMonth',  'NumberOfPictures', 'PostalCode', 'LastSeen', 'DateCreated'], axis='columns')"
      ]
    },
    {
      "cell_type": "markdown",
      "metadata": {
        "id": "q-kUwgSne4j4"
      },
      "source": [
        "В столбцах 'Model' и 'NotRepaired' пропуски заполнить корректно не получится, заменим на 'unknown'"
      ]
    },
    {
      "cell_type": "code",
      "execution_count": null,
      "metadata": {
        "id": "dtQapn-5e4j4"
      },
      "outputs": [],
      "source": [
        "data['Model'] = data['Model'].fillna('unknown')"
      ]
    },
    {
      "cell_type": "code",
      "execution_count": null,
      "metadata": {
        "id": "BRmHqAnxe4j4",
        "outputId": "b8a2983c-2dbb-4e98-8b89-41a870a2669a"
      },
      "outputs": [
        {
          "data": {
            "text/html": [
              "<div>\n",
              "<style scoped>\n",
              "    .dataframe tbody tr th:only-of-type {\n",
              "        vertical-align: middle;\n",
              "    }\n",
              "\n",
              "    .dataframe tbody tr th {\n",
              "        vertical-align: top;\n",
              "    }\n",
              "\n",
              "    .dataframe thead th {\n",
              "        text-align: right;\n",
              "    }\n",
              "</style>\n",
              "<table border=\"1\" class=\"dataframe\">\n",
              "  <thead>\n",
              "    <tr style=\"text-align: right;\">\n",
              "      <th></th>\n",
              "      <th>Price</th>\n",
              "      <th>VehicleType</th>\n",
              "      <th>RegistrationYear</th>\n",
              "      <th>Gearbox</th>\n",
              "      <th>Power</th>\n",
              "      <th>Model</th>\n",
              "      <th>Kilometer</th>\n",
              "      <th>FuelType</th>\n",
              "      <th>Brand</th>\n",
              "      <th>NotRepaired</th>\n",
              "    </tr>\n",
              "  </thead>\n",
              "  <tbody>\n",
              "    <tr>\n",
              "      <th>354359</th>\n",
              "      <td>7900</td>\n",
              "      <td>sedan</td>\n",
              "      <td>2010</td>\n",
              "      <td>manual</td>\n",
              "      <td>140</td>\n",
              "      <td>golf</td>\n",
              "      <td>150000</td>\n",
              "      <td>gasoline</td>\n",
              "      <td>volkswagen</td>\n",
              "      <td>no</td>\n",
              "    </tr>\n",
              "    <tr>\n",
              "      <th>354360</th>\n",
              "      <td>3999</td>\n",
              "      <td>wagon</td>\n",
              "      <td>2005</td>\n",
              "      <td>manual</td>\n",
              "      <td>3</td>\n",
              "      <td>3er</td>\n",
              "      <td>150000</td>\n",
              "      <td>gasoline</td>\n",
              "      <td>bmw</td>\n",
              "      <td>no</td>\n",
              "    </tr>\n",
              "    <tr>\n",
              "      <th>354361</th>\n",
              "      <td>5250</td>\n",
              "      <td>NaN</td>\n",
              "      <td>2016</td>\n",
              "      <td>auto</td>\n",
              "      <td>150</td>\n",
              "      <td>159</td>\n",
              "      <td>150000</td>\n",
              "      <td>NaN</td>\n",
              "      <td>alfa_romeo</td>\n",
              "      <td>no</td>\n",
              "    </tr>\n",
              "    <tr>\n",
              "      <th>354362</th>\n",
              "      <td>3200</td>\n",
              "      <td>sedan</td>\n",
              "      <td>2004</td>\n",
              "      <td>manual</td>\n",
              "      <td>225</td>\n",
              "      <td>leon</td>\n",
              "      <td>150000</td>\n",
              "      <td>petrol</td>\n",
              "      <td>seat</td>\n",
              "      <td>yes</td>\n",
              "    </tr>\n",
              "    <tr>\n",
              "      <th>354363</th>\n",
              "      <td>1150</td>\n",
              "      <td>bus</td>\n",
              "      <td>2000</td>\n",
              "      <td>manual</td>\n",
              "      <td>0</td>\n",
              "      <td>zafira</td>\n",
              "      <td>150000</td>\n",
              "      <td>petrol</td>\n",
              "      <td>opel</td>\n",
              "      <td>no</td>\n",
              "    </tr>\n",
              "    <tr>\n",
              "      <th>354364</th>\n",
              "      <td>0</td>\n",
              "      <td>NaN</td>\n",
              "      <td>2005</td>\n",
              "      <td>manual</td>\n",
              "      <td>0</td>\n",
              "      <td>colt</td>\n",
              "      <td>150000</td>\n",
              "      <td>petrol</td>\n",
              "      <td>mitsubishi</td>\n",
              "      <td>yes</td>\n",
              "    </tr>\n",
              "    <tr>\n",
              "      <th>354365</th>\n",
              "      <td>2200</td>\n",
              "      <td>NaN</td>\n",
              "      <td>2005</td>\n",
              "      <td>NaN</td>\n",
              "      <td>0</td>\n",
              "      <td>unknown</td>\n",
              "      <td>20000</td>\n",
              "      <td>NaN</td>\n",
              "      <td>sonstige_autos</td>\n",
              "      <td>unknown</td>\n",
              "    </tr>\n",
              "    <tr>\n",
              "      <th>354366</th>\n",
              "      <td>1199</td>\n",
              "      <td>convertible</td>\n",
              "      <td>2000</td>\n",
              "      <td>auto</td>\n",
              "      <td>101</td>\n",
              "      <td>fortwo</td>\n",
              "      <td>125000</td>\n",
              "      <td>petrol</td>\n",
              "      <td>smart</td>\n",
              "      <td>no</td>\n",
              "    </tr>\n",
              "    <tr>\n",
              "      <th>354367</th>\n",
              "      <td>9200</td>\n",
              "      <td>bus</td>\n",
              "      <td>1996</td>\n",
              "      <td>manual</td>\n",
              "      <td>102</td>\n",
              "      <td>transporter</td>\n",
              "      <td>150000</td>\n",
              "      <td>gasoline</td>\n",
              "      <td>volkswagen</td>\n",
              "      <td>no</td>\n",
              "    </tr>\n",
              "    <tr>\n",
              "      <th>354368</th>\n",
              "      <td>3400</td>\n",
              "      <td>wagon</td>\n",
              "      <td>2002</td>\n",
              "      <td>manual</td>\n",
              "      <td>100</td>\n",
              "      <td>golf</td>\n",
              "      <td>150000</td>\n",
              "      <td>gasoline</td>\n",
              "      <td>volkswagen</td>\n",
              "      <td>unknown</td>\n",
              "    </tr>\n",
              "  </tbody>\n",
              "</table>\n",
              "</div>"
            ],
            "text/plain": [
              "        Price  VehicleType  RegistrationYear Gearbox  Power        Model  \\\n",
              "354359   7900        sedan              2010  manual    140         golf   \n",
              "354360   3999        wagon              2005  manual      3          3er   \n",
              "354361   5250          NaN              2016    auto    150          159   \n",
              "354362   3200        sedan              2004  manual    225         leon   \n",
              "354363   1150          bus              2000  manual      0       zafira   \n",
              "354364      0          NaN              2005  manual      0         colt   \n",
              "354365   2200          NaN              2005     NaN      0      unknown   \n",
              "354366   1199  convertible              2000    auto    101       fortwo   \n",
              "354367   9200          bus              1996  manual    102  transporter   \n",
              "354368   3400        wagon              2002  manual    100         golf   \n",
              "\n",
              "        Kilometer  FuelType           Brand NotRepaired  \n",
              "354359     150000  gasoline      volkswagen          no  \n",
              "354360     150000  gasoline             bmw          no  \n",
              "354361     150000       NaN      alfa_romeo          no  \n",
              "354362     150000    petrol            seat         yes  \n",
              "354363     150000    petrol            opel          no  \n",
              "354364     150000    petrol      mitsubishi         yes  \n",
              "354365      20000       NaN  sonstige_autos     unknown  \n",
              "354366     125000    petrol           smart          no  \n",
              "354367     150000  gasoline      volkswagen          no  \n",
              "354368     150000  gasoline      volkswagen     unknown  "
            ]
          },
          "execution_count": 12,
          "metadata": {},
          "output_type": "execute_result"
        }
      ],
      "source": [
        "data['NotRepaired'] = data['NotRepaired'].fillna('unknown')\n",
        "data.tail(10)"
      ]
    },
    {
      "cell_type": "markdown",
      "metadata": {
        "id": "QMXtjmtZe4j5"
      },
      "source": [
        "Данные в столбце 'VehicleType' заполним самыми частыми значениями в сгруппированной таблице."
      ]
    },
    {
      "cell_type": "code",
      "execution_count": null,
      "metadata": {
        "id": "1N1sxqthe4j5",
        "outputId": "3bbc87bb-f5f0-45f9-b63c-eb50c936085e"
      },
      "outputs": [
        {
          "name": "stdout",
          "output_type": "stream",
          "text": [
            "0\n"
          ]
        }
      ],
      "source": [
        "data['VehicleType'] = data['VehicleType'].fillna(data.groupby('Model')['VehicleType'].transform(lambda x: x.value_counts().idxmax()))\n",
        "print(sum(data['VehicleType'].isna()))"
      ]
    },
    {
      "cell_type": "markdown",
      "metadata": {
        "id": "O93xIEFae4j6"
      },
      "source": [
        "Также заполним пропуски в столбцах 'Gearbox' и 'FuelType'  "
      ]
    },
    {
      "cell_type": "code",
      "execution_count": null,
      "metadata": {
        "id": "kVvwLbDce4j6",
        "outputId": "000c4b40-344d-47bc-dbf8-f99f03b4406b"
      },
      "outputs": [
        {
          "name": "stdout",
          "output_type": "stream",
          "text": [
            "0\n"
          ]
        }
      ],
      "source": [
        "data['Gearbox'] = data['Gearbox'].fillna(data.groupby('Model')['Gearbox'].transform(lambda x: x.value_counts().idxmax()))\n",
        "print(sum(data['Gearbox'].isna()))"
      ]
    },
    {
      "cell_type": "code",
      "execution_count": null,
      "metadata": {
        "id": "fjgfIF3xe4j6",
        "outputId": "21ee5c6d-f83a-428f-9ba7-12d275d399a8"
      },
      "outputs": [
        {
          "name": "stdout",
          "output_type": "stream",
          "text": [
            "0\n"
          ]
        }
      ],
      "source": [
        "data['FuelType'] = data['FuelType'].fillna(data.groupby('Model')['FuelType'].transform(lambda x: x.value_counts().idxmax()))\n",
        "print(sum(data['FuelType'].isna()))"
      ]
    },
    {
      "cell_type": "code",
      "execution_count": null,
      "metadata": {
        "id": "4Njc_0cDe4kE",
        "outputId": "ae407216-ccd3-4679-f047-226d1a148945"
      },
      "outputs": [
        {
          "data": {
            "text/plain": [
              "Price                   5555\n",
              "VehicleType            sedan\n",
              "RegistrationYear        2017\n",
              "Gearbox               manual\n",
              "Power                    125\n",
              "Model                     c4\n",
              "Kilometer             125000\n",
              "FuelType            gasoline\n",
              "Brand                citroen\n",
              "NotRepaired               no\n",
              "Name: 26, dtype: object"
            ]
          },
          "execution_count": 16,
          "metadata": {},
          "output_type": "execute_result"
        }
      ],
      "source": [
        "data.iloc[26]"
      ]
    },
    {
      "cell_type": "code",
      "execution_count": null,
      "metadata": {
        "id": "3T2P8C9je4kF",
        "outputId": "fb1dd8a0-fb3c-406c-c31d-c58bfd162ea1"
      },
      "outputs": [
        {
          "data": {
            "text/html": [
              "<div>\n",
              "<style scoped>\n",
              "    .dataframe tbody tr th:only-of-type {\n",
              "        vertical-align: middle;\n",
              "    }\n",
              "\n",
              "    .dataframe tbody tr th {\n",
              "        vertical-align: top;\n",
              "    }\n",
              "\n",
              "    .dataframe thead th {\n",
              "        text-align: right;\n",
              "    }\n",
              "</style>\n",
              "<table border=\"1\" class=\"dataframe\">\n",
              "  <thead>\n",
              "    <tr style=\"text-align: right;\">\n",
              "      <th></th>\n",
              "      <th>Price</th>\n",
              "      <th>VehicleType</th>\n",
              "      <th>RegistrationYear</th>\n",
              "      <th>Gearbox</th>\n",
              "      <th>Power</th>\n",
              "      <th>Model</th>\n",
              "      <th>Kilometer</th>\n",
              "      <th>FuelType</th>\n",
              "      <th>Brand</th>\n",
              "      <th>NotRepaired</th>\n",
              "    </tr>\n",
              "  </thead>\n",
              "  <tbody>\n",
              "    <tr>\n",
              "      <th>354359</th>\n",
              "      <td>7900</td>\n",
              "      <td>sedan</td>\n",
              "      <td>2010</td>\n",
              "      <td>manual</td>\n",
              "      <td>140</td>\n",
              "      <td>golf</td>\n",
              "      <td>150000</td>\n",
              "      <td>gasoline</td>\n",
              "      <td>volkswagen</td>\n",
              "      <td>no</td>\n",
              "    </tr>\n",
              "    <tr>\n",
              "      <th>354360</th>\n",
              "      <td>3999</td>\n",
              "      <td>wagon</td>\n",
              "      <td>2005</td>\n",
              "      <td>manual</td>\n",
              "      <td>3</td>\n",
              "      <td>3er</td>\n",
              "      <td>150000</td>\n",
              "      <td>gasoline</td>\n",
              "      <td>bmw</td>\n",
              "      <td>no</td>\n",
              "    </tr>\n",
              "    <tr>\n",
              "      <th>354361</th>\n",
              "      <td>5250</td>\n",
              "      <td>wagon</td>\n",
              "      <td>2016</td>\n",
              "      <td>auto</td>\n",
              "      <td>150</td>\n",
              "      <td>159</td>\n",
              "      <td>150000</td>\n",
              "      <td>gasoline</td>\n",
              "      <td>alfa_romeo</td>\n",
              "      <td>no</td>\n",
              "    </tr>\n",
              "    <tr>\n",
              "      <th>354362</th>\n",
              "      <td>3200</td>\n",
              "      <td>sedan</td>\n",
              "      <td>2004</td>\n",
              "      <td>manual</td>\n",
              "      <td>225</td>\n",
              "      <td>leon</td>\n",
              "      <td>150000</td>\n",
              "      <td>petrol</td>\n",
              "      <td>seat</td>\n",
              "      <td>yes</td>\n",
              "    </tr>\n",
              "    <tr>\n",
              "      <th>354363</th>\n",
              "      <td>1150</td>\n",
              "      <td>bus</td>\n",
              "      <td>2000</td>\n",
              "      <td>manual</td>\n",
              "      <td>0</td>\n",
              "      <td>zafira</td>\n",
              "      <td>150000</td>\n",
              "      <td>petrol</td>\n",
              "      <td>opel</td>\n",
              "      <td>no</td>\n",
              "    </tr>\n",
              "    <tr>\n",
              "      <th>354364</th>\n",
              "      <td>0</td>\n",
              "      <td>sedan</td>\n",
              "      <td>2005</td>\n",
              "      <td>manual</td>\n",
              "      <td>0</td>\n",
              "      <td>colt</td>\n",
              "      <td>150000</td>\n",
              "      <td>petrol</td>\n",
              "      <td>mitsubishi</td>\n",
              "      <td>yes</td>\n",
              "    </tr>\n",
              "    <tr>\n",
              "      <th>354365</th>\n",
              "      <td>2200</td>\n",
              "      <td>sedan</td>\n",
              "      <td>2005</td>\n",
              "      <td>manual</td>\n",
              "      <td>0</td>\n",
              "      <td>unknown</td>\n",
              "      <td>20000</td>\n",
              "      <td>petrol</td>\n",
              "      <td>sonstige_autos</td>\n",
              "      <td>unknown</td>\n",
              "    </tr>\n",
              "    <tr>\n",
              "      <th>354366</th>\n",
              "      <td>1199</td>\n",
              "      <td>convertible</td>\n",
              "      <td>2000</td>\n",
              "      <td>auto</td>\n",
              "      <td>101</td>\n",
              "      <td>fortwo</td>\n",
              "      <td>125000</td>\n",
              "      <td>petrol</td>\n",
              "      <td>smart</td>\n",
              "      <td>no</td>\n",
              "    </tr>\n",
              "    <tr>\n",
              "      <th>354367</th>\n",
              "      <td>9200</td>\n",
              "      <td>bus</td>\n",
              "      <td>1996</td>\n",
              "      <td>manual</td>\n",
              "      <td>102</td>\n",
              "      <td>transporter</td>\n",
              "      <td>150000</td>\n",
              "      <td>gasoline</td>\n",
              "      <td>volkswagen</td>\n",
              "      <td>no</td>\n",
              "    </tr>\n",
              "    <tr>\n",
              "      <th>354368</th>\n",
              "      <td>3400</td>\n",
              "      <td>wagon</td>\n",
              "      <td>2002</td>\n",
              "      <td>manual</td>\n",
              "      <td>100</td>\n",
              "      <td>golf</td>\n",
              "      <td>150000</td>\n",
              "      <td>gasoline</td>\n",
              "      <td>volkswagen</td>\n",
              "      <td>unknown</td>\n",
              "    </tr>\n",
              "  </tbody>\n",
              "</table>\n",
              "</div>"
            ],
            "text/plain": [
              "        Price  VehicleType  RegistrationYear Gearbox  Power        Model  \\\n",
              "354359   7900        sedan              2010  manual    140         golf   \n",
              "354360   3999        wagon              2005  manual      3          3er   \n",
              "354361   5250        wagon              2016    auto    150          159   \n",
              "354362   3200        sedan              2004  manual    225         leon   \n",
              "354363   1150          bus              2000  manual      0       zafira   \n",
              "354364      0        sedan              2005  manual      0         colt   \n",
              "354365   2200        sedan              2005  manual      0      unknown   \n",
              "354366   1199  convertible              2000    auto    101       fortwo   \n",
              "354367   9200          bus              1996  manual    102  transporter   \n",
              "354368   3400        wagon              2002  manual    100         golf   \n",
              "\n",
              "        Kilometer  FuelType           Brand NotRepaired  \n",
              "354359     150000  gasoline      volkswagen          no  \n",
              "354360     150000  gasoline             bmw          no  \n",
              "354361     150000  gasoline      alfa_romeo          no  \n",
              "354362     150000    petrol            seat         yes  \n",
              "354363     150000    petrol            opel          no  \n",
              "354364     150000    petrol      mitsubishi         yes  \n",
              "354365      20000    petrol  sonstige_autos     unknown  \n",
              "354366     125000    petrol           smart          no  \n",
              "354367     150000  gasoline      volkswagen          no  \n",
              "354368     150000  gasoline      volkswagen     unknown  "
            ]
          },
          "execution_count": 17,
          "metadata": {},
          "output_type": "execute_result"
        }
      ],
      "source": [
        "data.tail(10)"
      ]
    },
    {
      "cell_type": "code",
      "execution_count": null,
      "metadata": {
        "id": "VTpPkAbze4kF",
        "outputId": "5843bc82-21c8-41f2-b946-de44af5d7dc6"
      },
      "outputs": [
        {
          "name": "stdout",
          "output_type": "stream",
          "text": [
            "Строки с нулевой ценой:  10772\n",
            "Строки с нулевой ценой, %:  3.0398035923412303\n"
          ]
        }
      ],
      "source": [
        "print('Строки с нулевой ценой: ',len(data.loc[data['Price']==0]))\n",
        "print('Строки с нулевой ценой, %: ', len(data.loc[data['Price']==0])/len(data)*100)"
      ]
    },
    {
      "cell_type": "markdown",
      "metadata": {
        "id": "PbIQRsLqe4kG"
      },
      "source": [
        "Причина нулевой цены неизвестна, но цена авто не может быть 0. Пропусков всего 3%, удалим эти строки."
      ]
    },
    {
      "cell_type": "code",
      "execution_count": null,
      "metadata": {
        "id": "rYEbyHQ8e4kG"
      },
      "outputs": [],
      "source": [
        "data = data.loc[data['Price']!=0]"
      ]
    },
    {
      "cell_type": "markdown",
      "metadata": {
        "id": "kiHWLV1He4kG"
      },
      "source": [
        "Первый автомобиль с ДВС был зарегистрирован в 1886 году. Будем считать это минимальным значением. Максимальным будем считать 2022 г."
      ]
    },
    {
      "cell_type": "code",
      "execution_count": null,
      "metadata": {
        "id": "2ju36qL8e4kH",
        "outputId": "2d002f3c-0ded-45cb-d996-cde5fd15b527"
      },
      "outputs": [
        {
          "data": {
            "image/png": "[encoded data removed]",
            "text/plain": [
              "<Figure size 576x432 with 1 Axes>"
            ]
          },
          "metadata": {
            "needs_background": "light"
          },
          "output_type": "display_data"
        }
      ],
      "source": [
        "data = data.loc[(data['RegistrationYear'] >= 1886) & (data['RegistrationYear'] <= 2022)]\n",
        "data['RegistrationYear'].hist(bins=20, figsize=(8,6), ec='black', grid=False)\n",
        "plt.xlabel('Registration Year', fontsize=13)\n",
        "plt.ylabel('Count', fontsize=13)\n",
        "plt.title('Распределение года регистрации автомобилей', fontsize=15, fontweight='bold')\n",
        "plt.show()"
      ]
    },
    {
      "cell_type": "markdown",
      "metadata": {
        "id": "R4KfiUzwe4kH"
      },
      "source": [
        "<div class=\"alert alert-info\">\n",
        "    \n",
        "'DateCrawled' нам говорит, что дата скачивания анкеты из базы '2016-04-07 14:36:58'. Это значит, что максимальное значение будет 2016 год. А из графика видно, что минимальное значение 1960 год.\n",
        "</div>"
      ]
    },
    {
      "cell_type": "code",
      "execution_count": null,
      "metadata": {
        "id": "d-exM1OIe4kI",
        "outputId": "4dbad9bf-3af1-4f1f-e938-90a9b249c788"
      },
      "outputs": [
        {
          "data": {
            "image/png": "[encoded data removed]",
            "text/plain": [
              "<Figure size 576x432 with 1 Axes>"
            ]
          },
          "metadata": {
            "needs_background": "light"
          },
          "output_type": "display_data"
        }
      ],
      "source": [
        "data = data.loc[(data['RegistrationYear'] >= 1960) & (data['RegistrationYear'] <= 2016)]\n",
        "data['RegistrationYear'].hist(bins=20, figsize=(8,6), ec='black', grid=False)\n",
        "plt.xlabel('Registration Year', fontsize=13)\n",
        "plt.ylabel('Count', fontsize=13)\n",
        "plt.title('Распределение года регистрации автомобилей', fontsize=15, fontweight='bold')\n",
        "plt.show()"
      ]
    },
    {
      "cell_type": "markdown",
      "metadata": {
        "id": "pLFy8EB7e4kI"
      },
      "source": [
        "Не нашел автомобиль мощнее 2012 лс. Удалим аномальные значения, которые больше 2012. И нулевые значения уберем."
      ]
    },
    {
      "cell_type": "code",
      "execution_count": null,
      "metadata": {
        "id": "fnGt0AUGe4kI",
        "outputId": "5481fa07-3bbe-4d8c-9539-0c96cb55d2d7"
      },
      "outputs": [
        {
          "name": "stdout",
          "output_type": "stream",
          "text": [
            "0\n"
          ]
        }
      ],
      "source": [
        "data = data.loc[(data['Power'] < 2012) & (data['Power'] != 0)]\n",
        "print(sum(data['Power'].isna()))"
      ]
    },
    {
      "cell_type": "code",
      "execution_count": null,
      "metadata": {
        "id": "ytMVjxzqe4kJ",
        "outputId": "98ad1b2c-0576-4fbc-fc9e-87c5d0a52d5b"
      },
      "outputs": [
        {
          "data": {
            "text/plain": [
              "(296644, 10)"
            ]
          },
          "execution_count": 23,
          "metadata": {},
          "output_type": "execute_result"
        }
      ],
      "source": [
        "data.shape"
      ]
    },
    {
      "cell_type": "code",
      "execution_count": null,
      "metadata": {
        "id": "Fvpd4rENe4kJ",
        "outputId": "99df9c71-0ba1-4296-b6e2-f2ffefa729a6"
      },
      "outputs": [
        {
          "name": "stdout",
          "output_type": "stream",
          "text": [
            "Удалено: 16.29%\n"
          ]
        }
      ],
      "source": [
        "print('Удалено: {:.2%}'.format((354369-296644)/354369))"
      ]
    },
    {
      "cell_type": "markdown",
      "metadata": {
        "id": "F-chVvlle4kJ"
      },
      "source": [
        "##### Вывод\n",
        "* Загрузили и изучили данные\n",
        "* Удалили дубли (их всего 4)\n",
        "* Часть пропусков заполнены на основе данных датасета\n",
        "* Удалили 16.29% данных"
      ]
    },
    {
      "cell_type": "markdown",
      "metadata": {
        "id": "MJzN13V_e4kK"
      },
      "source": [
        "   \n",
        "Если дубли возникли после заполнения пропусков, то далеко не факт, что это истинные дубли (то есть абсолютно аналогичные объекты, которые почему-то несколько раз попали в выборку). Я бы не удалял."
      ]
    },
    {
      "cell_type": "code",
      "execution_count": null,
      "metadata": {
        "id": "8p1f0dIXe4kK",
        "outputId": "8f1a71d4-917f-45f1-9d24-80e6ac02da9d"
      },
      "outputs": [
        {
          "data": {
            "text/plain": [
              "41424"
            ]
          },
          "execution_count": 25,
          "metadata": {},
          "output_type": "execute_result"
        }
      ],
      "source": [
        "data.duplicated().sum()"
      ]
    },
    {
      "cell_type": "code",
      "execution_count": null,
      "metadata": {
        "id": "HChwGV3_e4kK",
        "outputId": "44367ac5-6546-478c-8277-9d9b3900841e"
      },
      "outputs": [
        {
          "name": "stdout",
          "output_type": "stream",
          "text": [
            "Price               0\n",
            "VehicleType         0\n",
            "RegistrationYear    0\n",
            "Gearbox             0\n",
            "Power               0\n",
            "Model               0\n",
            "Kilometer           0\n",
            "FuelType            0\n",
            "Brand               0\n",
            "NotRepaired         0\n",
            "dtype: int64\n"
          ]
        }
      ],
      "source": [
        "print(data.isna().sum())"
      ]
    },
    {
      "cell_type": "markdown",
      "metadata": {
        "id": "Ifn2uFeZe4kL"
      },
      "source": [
        "## Обучение моделей"
      ]
    },
    {
      "cell_type": "markdown",
      "metadata": {
        "id": "oHDn-283e4kL"
      },
      "source": [
        "Задействуем технику прямого кодирования, чтобы преобразовать категориальные признаки в численные."
      ]
    },
    {
      "cell_type": "code",
      "execution_count": null,
      "metadata": {
        "id": "pmOC7VMne4kL"
      },
      "outputs": [],
      "source": [
        "data_ohe = pd.get_dummies(data, drop_first=True)"
      ]
    },
    {
      "cell_type": "code",
      "execution_count": null,
      "metadata": {
        "id": "3pTEt_QLe4kM"
      },
      "outputs": [],
      "source": [
        "features_lr = data_ohe.drop(['Price'], axis = 1)\n",
        "target_lr = data_ohe['Price']"
      ]
    },
    {
      "cell_type": "code",
      "execution_count": null,
      "metadata": {
        "id": "rwnmL3T7e4kM"
      },
      "outputs": [],
      "source": [
        "data[['VehicleType','Gearbox', 'Model', 'FuelType','Brand','NotRepaired']] = data[['VehicleType',\n",
        "            'Gearbox', 'Model', 'FuelType','Brand','NotRepaired']].astype('category')"
      ]
    },
    {
      "cell_type": "markdown",
      "metadata": {
        "id": "4Ea0gb9We4kM"
      },
      "source": [
        "Признаки для обучения модели LGBM"
      ]
    },
    {
      "cell_type": "code",
      "execution_count": null,
      "metadata": {
        "id": "iuyXWBv9e4kM"
      },
      "outputs": [],
      "source": [
        "features = data.drop(['Price'], axis = 1)\n",
        "target = data['Price']"
      ]
    },
    {
      "cell_type": "code",
      "execution_count": null,
      "metadata": {
        "id": "roXC_wIje4ks",
        "outputId": "50a14004-78f3-4e77-e788-c1f686c69509"
      },
      "outputs": [
        {
          "name": "stdout",
          "output_type": "stream",
          "text": [
            "(237315, 307) (59329, 307) (237315,) (59329,)\n"
          ]
        }
      ],
      "source": [
        "features_train_lr, features_test_lr, target_train_lr, target_test_lr = train_test_split(features_lr, target_lr, test_size=.2, random_state=12345)\n",
        "print(features_train_lr.shape, features_test_lr.shape, target_train_lr.shape, target_test_lr.shape)"
      ]
    },
    {
      "cell_type": "code",
      "execution_count": null,
      "metadata": {
        "id": "AL3h-YzOe4ks",
        "outputId": "285b794f-ab65-4a74-9f26-0b89e54b6b5d"
      },
      "outputs": [
        {
          "name": "stdout",
          "output_type": "stream",
          "text": [
            "(177986, 9) (118658, 9) (177986,) (118658,)\n"
          ]
        }
      ],
      "source": [
        "features_train, features_test, target_train, target_test = train_test_split(features, target, test_size=.4, random_state=12345)\n",
        "print(features_train.shape, features_test.shape, target_train.shape, target_test.shape)"
      ]
    },
    {
      "cell_type": "code",
      "execution_count": null,
      "metadata": {
        "id": "b44W8x4Re4kt"
      },
      "outputs": [],
      "source": [
        "features_test, features_valid, target_test, target_valid = train_test_split(features_test, target_test, test_size=0.5)"
      ]
    },
    {
      "cell_type": "markdown",
      "metadata": {
        "id": "carS16rWe4kt"
      },
      "source": [
        "##### LinearRegression"
      ]
    },
    {
      "cell_type": "code",
      "execution_count": null,
      "metadata": {
        "id": "nfxilXKLe4ku"
      },
      "outputs": [],
      "source": [
        "model_lr = LinearRegression()"
      ]
    },
    {
      "cell_type": "code",
      "execution_count": null,
      "metadata": {
        "id": "rsOIryETe4ku",
        "outputId": "c888e2fe-15ba-4da7-cf78-2705edd891c8"
      },
      "outputs": [
        {
          "name": "stdout",
          "output_type": "stream",
          "text": [
            "CPU times: user 25.7 s, sys: 26.7 s, total: 52.4 s\n",
            "Wall time: 52.6 s\n"
          ]
        },
        {
          "data": {
            "text/plain": [
              "LinearRegression()"
            ]
          },
          "execution_count": 35,
          "metadata": {},
          "output_type": "execute_result"
        }
      ],
      "source": [
        "%%time\n",
        "model_lr.fit(features_train_lr, target_train_lr)"
      ]
    },
    {
      "cell_type": "code",
      "execution_count": null,
      "metadata": {
        "id": "LjabX1ixe4ku",
        "outputId": "6026c349-eac2-4729-cb2f-634cdc4e32b6"
      },
      "outputs": [
        {
          "name": "stdout",
          "output_type": "stream",
          "text": [
            "RMSE для LinearRegression на тестовой выборке: 5937.65\n",
            "CPU times: user 153 ms, sys: 152 ms, total: 304 ms\n",
            "Wall time: 284 ms\n"
          ]
        }
      ],
      "source": [
        "%%time\n",
        "predicted_lr = pd.Series(model_lr.predict(features_test_lr))\n",
        "\n",
        "mse = mean_squared_error(target_test, predicted_lr)\n",
        "print('RMSE для LinearRegression на тестовой выборке: {:.2f}'.format((mse.mean()**0.5)))"
      ]
    },
    {
      "cell_type": "code",
      "execution_count": null,
      "metadata": {
        "id": "6_Tn2_bZe4kv"
      },
      "outputs": [],
      "source": [
        "scaler = StandardScaler()\n",
        "scaler.fit(features_train_lr)\n",
        "features_train_scaled = scaler.transform(features_train_lr)\n",
        "features_test_scaled = scaler.transform(features_test_lr)"
      ]
    },
    {
      "cell_type": "code",
      "execution_count": null,
      "metadata": {
        "id": "KoQZNewZe4kv",
        "outputId": "5f0864ec-a28e-4ad6-9177-a273ea972a9e"
      },
      "outputs": [
        {
          "name": "stdout",
          "output_type": "stream",
          "text": [
            "CPU times: user 23.4 s, sys: 21.7 s, total: 45.1 s\n",
            "Wall time: 45.2 s\n"
          ]
        },
        {
          "data": {
            "text/plain": [
              "LinearRegression()"
            ]
          },
          "execution_count": 38,
          "metadata": {},
          "output_type": "execute_result"
        }
      ],
      "source": [
        "%%time\n",
        "model_lr.fit(features_train_scaled, target_train_lr)"
      ]
    },
    {
      "cell_type": "code",
      "execution_count": null,
      "metadata": {
        "id": "oGN0TPDEe4kw",
        "outputId": "0aae48fa-a089-48ac-85a6-81486d8e29a1"
      },
      "outputs": [
        {
          "name": "stdout",
          "output_type": "stream",
          "text": [
            "RMSE для LinearRegression на тестовой выборке: 5937.65\n",
            "CPU times: user 84.2 ms, sys: 89.5 ms, total: 174 ms\n",
            "Wall time: 185 ms\n"
          ]
        }
      ],
      "source": [
        "%%time\n",
        "predicted_lr = pd.Series(model_lr.predict(features_test_scaled))\n",
        "\n",
        "mse = mean_squared_error(target_test, predicted_lr)\n",
        "print('RMSE для LinearRegression на тестовой выборке: {:.2f}'.format((mse.mean()**0.5)))"
      ]
    },
    {
      "cell_type": "markdown",
      "metadata": {
        "id": "ufbNYBQUe4kx"
      },
      "source": [
        "##### LightGBM"
      ]
    },
    {
      "cell_type": "code",
      "execution_count": null,
      "metadata": {
        "id": "-u1cKLN6e4kx"
      },
      "outputs": [],
      "source": [
        "params = {\n",
        "    'boosting_type': 'gbdt',\n",
        "    'objective': 'regression',\n",
        "    'metric': 'rmse',\n",
        "    'max_depth': 6, \n",
        "    'learning_rate': 0.1,\n",
        "    'verbose': 0,\n",
        "    \"num_leaves\": 45\n",
        "}"
      ]
    },
    {
      "cell_type": "code",
      "execution_count": null,
      "metadata": {
        "id": "V5Kx3Wgre4kx"
      },
      "outputs": [],
      "source": [
        "model_lgbm = LGBMRegressor(**params)"
      ]
    },
    {
      "cell_type": "code",
      "execution_count": null,
      "metadata": {
        "id": "qoTvZZA4e4ky",
        "outputId": "4b7beb55-80de-4fa1-e98d-1945f2963918"
      },
      "outputs": [
        {
          "name": "stdout",
          "output_type": "stream",
          "text": [
            "[LightGBM] [Warning] Auto-choosing row-wise multi-threading, the overhead of testing was 0.306808 seconds.\n",
            "You can set `force_row_wise=true` to remove the overhead.\n",
            "And if memory is not enough, you can set `force_col_wise=true`.\n",
            "[LightGBM] [Warning] No further splits with positive gain, best gain: -inf\n",
            "[LightGBM] [Warning] No further splits with positive gain, best gain: -inf\n",
            "[LightGBM] [Warning] No further splits with positive gain, best gain: -inf\n",
            "[LightGBM] [Warning] No further splits with positive gain, best gain: -inf\n",
            "[LightGBM] [Warning] No further splits with positive gain, best gain: -inf\n",
            "[LightGBM] [Warning] No further splits with positive gain, best gain: -inf\n",
            "[LightGBM] [Warning] No further splits with positive gain, best gain: -inf\n",
            "[LightGBM] [Warning] No further splits with positive gain, best gain: -inf\n",
            "[LightGBM] [Warning] No further splits with positive gain, best gain: -inf\n",
            "[LightGBM] [Warning] No further splits with positive gain, best gain: -inf\n",
            "[LightGBM] [Warning] No further splits with positive gain, best gain: -inf\n",
            "[LightGBM] [Warning] No further splits with positive gain, best gain: -inf\n",
            "[LightGBM] [Warning] No further splits with positive gain, best gain: -inf\n",
            "[LightGBM] [Warning] No further splits with positive gain, best gain: -inf\n",
            "[LightGBM] [Warning] No further splits with positive gain, best gain: -inf\n",
            "[LightGBM] [Warning] No further splits with positive gain, best gain: -inf\n",
            "CPU times: user 6min 4s, sys: 3.3 s, total: 6min 7s\n",
            "Wall time: 6min 9s\n"
          ]
        },
        {
          "data": {
            "text/plain": [
              "LGBMRegressor(max_depth=6, metric='rmse', num_leaves=45, objective='regression',\n",
              "              verbose=0)"
            ]
          },
          "execution_count": 42,
          "metadata": {},
          "output_type": "execute_result"
        }
      ],
      "source": [
        "%%time\n",
        "model_lgbm.fit(features_train, target_train)"
      ]
    },
    {
      "cell_type": "code",
      "execution_count": null,
      "metadata": {
        "id": "m9mVIp5We4ky",
        "outputId": "c1b57fa2-3933-4653-9ee6-1d3e95ae5c07"
      },
      "outputs": [
        {
          "name": "stdout",
          "output_type": "stream",
          "text": [
            "RMSE для LightGBM на тестовой выборке: 1634.98\n",
            "CPU times: user 741 ms, sys: 0 ns, total: 741 ms\n",
            "Wall time: 767 ms\n"
          ]
        }
      ],
      "source": [
        "%%time\n",
        "predictions_lgbm = model_lgbm.predict(features_test)\n",
        "\n",
        "mse = mean_squared_error(target_test, predictions_lgbm)\n",
        "print('RMSE для LightGBM на тестовой выборке: {:.2f}'.format((mse.mean()**0.5)))"
      ]
    },
    {
      "cell_type": "markdown",
      "metadata": {
        "id": "qc9eMd8Ze4ky"
      },
      "source": [
        "##### CatBoost"
      ]
    },
    {
      "cell_type": "code",
      "execution_count": null,
      "metadata": {
        "id": "JLlGql2oe4ky"
      },
      "outputs": [],
      "source": [
        "cat_features = ['VehicleType','Gearbox', 'Model', 'FuelType','Brand','NotRepaired']"
      ]
    },
    {
      "cell_type": "code",
      "execution_count": null,
      "metadata": {
        "id": "lFC1tCnEe4kz",
        "outputId": "36b73539-1ff7-49ae-958b-c7e0e7dbe7ef"
      },
      "outputs": [
        {
          "name": "stdout",
          "output_type": "stream",
          "text": [
            "Лучшие гиперпараметры для модели:  {'depth': 15, 'learning_rate': 0.3}\n",
            "CPU times: user 9min 32s, sys: 1min 36s, total: 11min 9s\n",
            "Wall time: 11min 22s\n"
          ]
        }
      ],
      "source": [
        "%%time\n",
        "cat = CatBoostRegressor(iterations=100, verbose=False,cat_features=cat_features)\n",
        "cat_params = {'learning_rate':[0.1, 0.3, 0.5], 'depth':[5,10, 15]} \n",
        "cat_grid = GridSearchCV(cat, cat_params, scoring='neg_mean_squared_error',  cv=3, n_jobs = -1)\n",
        "cat_grid.fit(features_train, target_train)\n",
        "print('Лучшие гиперпараметры для модели: ', cat_grid.best_params_)"
      ]
    },
    {
      "cell_type": "code",
      "execution_count": null,
      "metadata": {
        "id": "3tQR-lcae4k2",
        "outputId": "ffaaf8e0-6e6c-4eff-81c0-668d798c472f"
      },
      "outputs": [
        {
          "name": "stdout",
          "output_type": "stream",
          "text": [
            "CPU times: user 53 s, sys: 11 s, total: 1min 4s\n",
            "Wall time: 1min 5s\n"
          ]
        },
        {
          "data": {
            "text/plain": [
              "<catboost.core.CatBoostRegressor at 0x7fbc2a99ce20>"
            ]
          },
          "execution_count": 46,
          "metadata": {},
          "output_type": "execute_result"
        }
      ],
      "source": [
        "%%time\n",
        "cat_test = CatBoostRegressor(iterations=100, verbose=False,cat_features = cat_features, \n",
        "                        learning_rate=0.3, depth=15, random_state=12345 )\n",
        "cat_test.fit(features_train, target_train)"
      ]
    },
    {
      "cell_type": "code",
      "execution_count": null,
      "metadata": {
        "id": "ZjV_R1vCe4k2",
        "outputId": "80646779-6c34-464b-a593-bfd405069a78"
      },
      "outputs": [
        {
          "name": "stdout",
          "output_type": "stream",
          "text": [
            "CPU times: user 97.8 ms, sys: 429 µs, total: 98.2 ms\n",
            "Wall time: 103 ms\n"
          ]
        }
      ],
      "source": [
        "%%time\n",
        "predictions_cat = cat_test.predict(features_test)"
      ]
    },
    {
      "cell_type": "code",
      "execution_count": null,
      "metadata": {
        "id": "U7GR8NnHe4k2",
        "outputId": "5e84d9b7-9c5b-40c0-a142-8f8e0bc6dea0"
      },
      "outputs": [
        {
          "name": "stdout",
          "output_type": "stream",
          "text": [
            "RMSE для CatBoost на тестовой выборке: 1591.03\n"
          ]
        }
      ],
      "source": [
        "mse = mean_squared_error(target_test, predictions_cat)\n",
        "print('RMSE для CatBoost на тестовой выборке: {:.2f}'.format((mse.mean()**0.5)))"
      ]
    },
    {
      "cell_type": "markdown",
      "metadata": {
        "id": "MSWGwSyee4k3"
      },
      "source": [
        "## Анализ моделей"
      ]
    },
    {
      "cell_type": "code",
      "execution_count": null,
      "metadata": {
        "id": "IsSqU8iOe4k3",
        "outputId": "f6aa2153-d648-42be-aaf1-68dcc773176f"
      },
      "outputs": [
        {
          "data": {
            "text/html": [
              "<div>\n",
              "<style scoped>\n",
              "    .dataframe tbody tr th:only-of-type {\n",
              "        vertical-align: middle;\n",
              "    }\n",
              "\n",
              "    .dataframe tbody tr th {\n",
              "        vertical-align: top;\n",
              "    }\n",
              "\n",
              "    .dataframe thead th {\n",
              "        text-align: right;\n",
              "    }\n",
              "</style>\n",
              "<table border=\"1\" class=\"dataframe\">\n",
              "  <thead>\n",
              "    <tr style=\"text-align: right;\">\n",
              "      <th></th>\n",
              "      <th>Модель</th>\n",
              "      <th>RMSE</th>\n",
              "      <th>Время обучения</th>\n",
              "      <th>Время предсказания</th>\n",
              "    </tr>\n",
              "  </thead>\n",
              "  <tbody>\n",
              "    <tr>\n",
              "      <th>0</th>\n",
              "      <td>Linear Regression</td>\n",
              "      <td>5937.65</td>\n",
              "      <td>44.3 s</td>\n",
              "      <td>185 ms</td>\n",
              "    </tr>\n",
              "    <tr>\n",
              "      <th>1</th>\n",
              "      <td>LightGBM</td>\n",
              "      <td>1634.98</td>\n",
              "      <td>6min 10s</td>\n",
              "      <td>767 ms</td>\n",
              "    </tr>\n",
              "    <tr>\n",
              "      <th>2</th>\n",
              "      <td>CatBoost</td>\n",
              "      <td>1591.03</td>\n",
              "      <td>1min 1s</td>\n",
              "      <td>103 ms</td>\n",
              "    </tr>\n",
              "  </tbody>\n",
              "</table>\n",
              "</div>"
            ],
            "text/plain": [
              "              Модель     RMSE Время обучения Время предсказания\n",
              "0  Linear Regression  5937.65         44.3 s             185 ms\n",
              "1           LightGBM  1634.98       6min 10s             767 ms\n",
              "2           CatBoost  1591.03        1min 1s             103 ms"
            ]
          },
          "metadata": {},
          "output_type": "display_data"
        }
      ],
      "source": [
        "data = {'Модель': ['Linear Regression', 'LightGBM', 'CatBoost'], 'RMSE': [5937.65, 1634.98, 1591.03],\n",
        "     'Время обучения':['44.3 s' , '6min 10s' , '1min 1s'],'Время предсказания' : ['185 ms', '767 ms', '103 ms']}\n",
        "data_pivot = pd.DataFrame.from_dict(data)\n",
        "display(data_pivot)"
      ]
    },
    {
      "cell_type": "markdown",
      "metadata": {
        "id": "MAUXW-yPe4k3"
      },
      "source": [
        "#### Вывод\n",
        "Метрика RMSE лучше всего у модели CatBoost, и время предсказания у нее лучшее, а вот время обучения лучше всех у 'Linear Regression'. Дольше всего обучается модель LightGBM, но RMSE у нее не сильно хуже CatBoost."
      ]
    }
  ],
  "metadata": {
    "ExecuteTimeLog": [
      {
        "duration": 69,
        "start_time": "2022-05-11T14:48:34.029Z"
      },
      {
        "duration": 2197,
        "start_time": "2022-05-11T14:48:42.486Z"
      },
      {
        "duration": 1185,
        "start_time": "2022-05-11T14:48:46.654Z"
      },
      {
        "duration": 1058,
        "start_time": "2022-05-11T14:49:24.703Z"
      },
      {
        "duration": 1043,
        "start_time": "2022-05-11T14:49:32.576Z"
      },
      {
        "duration": 164,
        "start_time": "2022-05-11T14:49:54.014Z"
      },
      {
        "duration": 119,
        "start_time": "2022-05-11T14:50:11.366Z"
      },
      {
        "duration": 110,
        "start_time": "2022-05-11T14:50:15.829Z"
      },
      {
        "duration": 12,
        "start_time": "2022-05-11T14:51:20.766Z"
      },
      {
        "duration": 110,
        "start_time": "2022-05-11T14:51:25.317Z"
      },
      {
        "duration": 633,
        "start_time": "2022-05-11T14:52:59.910Z"
      },
      {
        "duration": 613,
        "start_time": "2022-05-11T14:53:11.749Z"
      },
      {
        "duration": 1301,
        "start_time": "2022-05-11T14:54:08.494Z"
      },
      {
        "duration": 5,
        "start_time": "2022-05-11T15:20:49.274Z"
      },
      {
        "duration": 1158,
        "start_time": "2022-05-11T15:20:49.281Z"
      },
      {
        "duration": 177,
        "start_time": "2022-05-11T15:20:50.441Z"
      },
      {
        "duration": 138,
        "start_time": "2022-05-11T15:20:50.621Z"
      },
      {
        "duration": 628,
        "start_time": "2022-05-11T15:20:50.762Z"
      },
      {
        "duration": 1336,
        "start_time": "2022-05-11T15:20:51.392Z"
      },
      {
        "duration": 178,
        "start_time": "2022-05-11T15:20:52.730Z"
      },
      {
        "duration": 156,
        "start_time": "2022-05-11T15:23:10.186Z"
      },
      {
        "duration": 50,
        "start_time": "2022-05-11T15:41:10.579Z"
      },
      {
        "duration": 49,
        "start_time": "2022-05-11T15:41:46.524Z"
      },
      {
        "duration": 62,
        "start_time": "2022-05-11T15:41:49.155Z"
      },
      {
        "duration": 55,
        "start_time": "2022-05-11T15:42:16.925Z"
      },
      {
        "duration": 83,
        "start_time": "2022-05-11T15:42:30.884Z"
      },
      {
        "duration": 61,
        "start_time": "2022-05-11T15:42:43.030Z"
      },
      {
        "duration": 860,
        "start_time": "2022-05-11T15:47:02.337Z"
      },
      {
        "duration": 561,
        "start_time": "2022-05-11T15:50:30.738Z"
      },
      {
        "duration": 452,
        "start_time": "2022-05-11T15:52:35.335Z"
      },
      {
        "duration": 490,
        "start_time": "2022-05-11T15:52:37.342Z"
      },
      {
        "duration": 67,
        "start_time": "2022-05-11T15:54:41.789Z"
      },
      {
        "duration": 5,
        "start_time": "2022-05-11T15:56:36.987Z"
      },
      {
        "duration": 1009,
        "start_time": "2022-05-11T15:56:36.995Z"
      },
      {
        "duration": 181,
        "start_time": "2022-05-11T15:56:38.007Z"
      },
      {
        "duration": 128,
        "start_time": "2022-05-11T15:56:38.191Z"
      },
      {
        "duration": 612,
        "start_time": "2022-05-11T15:56:38.323Z"
      },
      {
        "duration": 1314,
        "start_time": "2022-05-11T15:56:38.937Z"
      },
      {
        "duration": 165,
        "start_time": "2022-05-11T15:56:40.254Z"
      },
      {
        "duration": 169,
        "start_time": "2022-05-11T15:56:40.421Z"
      },
      {
        "duration": 27,
        "start_time": "2022-05-11T15:56:40.592Z"
      },
      {
        "duration": 82,
        "start_time": "2022-05-11T15:56:40.621Z"
      },
      {
        "duration": 464,
        "start_time": "2022-05-11T15:56:40.707Z"
      },
      {
        "duration": 478,
        "start_time": "2022-05-11T15:56:41.173Z"
      },
      {
        "duration": 468,
        "start_time": "2022-05-11T15:56:41.653Z"
      },
      {
        "duration": 614,
        "start_time": "2022-05-11T16:00:06.187Z"
      },
      {
        "duration": 4,
        "start_time": "2022-05-11T16:00:10.954Z"
      },
      {
        "duration": 1009,
        "start_time": "2022-05-11T16:00:10.961Z"
      },
      {
        "duration": 174,
        "start_time": "2022-05-11T16:00:11.973Z"
      },
      {
        "duration": 118,
        "start_time": "2022-05-11T16:00:12.152Z"
      },
      {
        "duration": 673,
        "start_time": "2022-05-11T16:00:12.274Z"
      },
      {
        "duration": 1250,
        "start_time": "2022-05-11T16:00:12.949Z"
      },
      {
        "duration": 163,
        "start_time": "2022-05-11T16:00:14.201Z"
      },
      {
        "duration": 170,
        "start_time": "2022-05-11T16:00:14.366Z"
      },
      {
        "duration": 38,
        "start_time": "2022-05-11T16:00:14.538Z"
      },
      {
        "duration": 96,
        "start_time": "2022-05-11T16:00:14.578Z"
      },
      {
        "duration": 710,
        "start_time": "2022-05-11T16:00:14.679Z"
      },
      {
        "duration": 472,
        "start_time": "2022-05-11T16:00:15.391Z"
      },
      {
        "duration": 456,
        "start_time": "2022-05-11T16:00:15.866Z"
      },
      {
        "duration": 635,
        "start_time": "2022-05-11T16:01:33.780Z"
      },
      {
        "duration": 5,
        "start_time": "2022-05-11T16:02:05.641Z"
      },
      {
        "duration": 1019,
        "start_time": "2022-05-11T16:02:05.648Z"
      },
      {
        "duration": 172,
        "start_time": "2022-05-11T16:02:06.669Z"
      },
      {
        "duration": 112,
        "start_time": "2022-05-11T16:02:06.852Z"
      },
      {
        "duration": 610,
        "start_time": "2022-05-11T16:02:06.967Z"
      },
      {
        "duration": 1281,
        "start_time": "2022-05-11T16:02:07.579Z"
      },
      {
        "duration": 165,
        "start_time": "2022-05-11T16:02:08.862Z"
      },
      {
        "duration": 172,
        "start_time": "2022-05-11T16:02:09.029Z"
      },
      {
        "duration": 27,
        "start_time": "2022-05-11T16:02:09.203Z"
      },
      {
        "duration": 79,
        "start_time": "2022-05-11T16:02:09.232Z"
      },
      {
        "duration": 629,
        "start_time": "2022-05-11T16:02:09.315Z"
      },
      {
        "duration": 624,
        "start_time": "2022-05-11T16:02:09.946Z"
      },
      {
        "duration": 684,
        "start_time": "2022-05-11T16:02:10.572Z"
      },
      {
        "duration": 30,
        "start_time": "2022-05-11T16:16:03.741Z"
      },
      {
        "duration": 6,
        "start_time": "2022-05-11T16:16:09.993Z"
      },
      {
        "duration": 1151,
        "start_time": "2022-05-11T16:16:10.002Z"
      },
      {
        "duration": 170,
        "start_time": "2022-05-11T16:16:11.157Z"
      },
      {
        "duration": 112,
        "start_time": "2022-05-11T16:16:11.330Z"
      },
      {
        "duration": 705,
        "start_time": "2022-05-11T16:16:11.453Z"
      },
      {
        "duration": 1323,
        "start_time": "2022-05-11T16:16:12.161Z"
      },
      {
        "duration": 167,
        "start_time": "2022-05-11T16:16:13.486Z"
      },
      {
        "duration": 158,
        "start_time": "2022-05-11T16:16:13.655Z"
      },
      {
        "duration": 59,
        "start_time": "2022-05-11T16:16:13.815Z"
      },
      {
        "duration": 35,
        "start_time": "2022-05-11T16:16:13.876Z"
      },
      {
        "duration": 74,
        "start_time": "2022-05-11T16:16:13.914Z"
      },
      {
        "duration": 617,
        "start_time": "2022-05-11T16:16:13.990Z"
      },
      {
        "duration": 645,
        "start_time": "2022-05-11T16:16:14.610Z"
      },
      {
        "duration": 623,
        "start_time": "2022-05-11T16:16:15.257Z"
      },
      {
        "duration": 105,
        "start_time": "2022-05-11T16:16:28.318Z"
      },
      {
        "duration": 42,
        "start_time": "2022-05-11T16:16:33.523Z"
      },
      {
        "duration": 85,
        "start_time": "2022-05-11T16:17:00.172Z"
      },
      {
        "duration": 19,
        "start_time": "2022-05-11T16:17:13.492Z"
      },
      {
        "duration": 19,
        "start_time": "2022-05-11T16:17:22.484Z"
      },
      {
        "duration": 5,
        "start_time": "2022-05-11T16:17:30.627Z"
      },
      {
        "duration": 1054,
        "start_time": "2022-05-11T16:17:30.635Z"
      },
      {
        "duration": 179,
        "start_time": "2022-05-11T16:17:31.691Z"
      },
      {
        "duration": 122,
        "start_time": "2022-05-11T16:17:31.873Z"
      },
      {
        "duration": 589,
        "start_time": "2022-05-11T16:17:31.997Z"
      },
      {
        "duration": 1257,
        "start_time": "2022-05-11T16:17:32.589Z"
      },
      {
        "duration": 165,
        "start_time": "2022-05-11T16:17:33.848Z"
      },
      {
        "duration": 172,
        "start_time": "2022-05-11T16:17:34.016Z"
      },
      {
        "duration": 63,
        "start_time": "2022-05-11T16:17:34.192Z"
      },
      {
        "duration": 29,
        "start_time": "2022-05-11T16:17:34.257Z"
      },
      {
        "duration": 65,
        "start_time": "2022-05-11T16:17:34.288Z"
      },
      {
        "duration": 622,
        "start_time": "2022-05-11T16:17:34.356Z"
      },
      {
        "duration": 627,
        "start_time": "2022-05-11T16:17:34.980Z"
      },
      {
        "duration": 646,
        "start_time": "2022-05-11T16:17:35.610Z"
      },
      {
        "duration": 18,
        "start_time": "2022-05-11T16:18:34.267Z"
      },
      {
        "duration": 18,
        "start_time": "2022-05-11T16:20:47.995Z"
      },
      {
        "duration": 19,
        "start_time": "2022-05-11T16:20:53.498Z"
      },
      {
        "duration": 27,
        "start_time": "2022-05-11T16:32:09.175Z"
      },
      {
        "duration": 22,
        "start_time": "2022-05-11T16:32:29.125Z"
      },
      {
        "duration": 20,
        "start_time": "2022-05-11T16:32:33.124Z"
      },
      {
        "duration": 37,
        "start_time": "2022-05-11T16:33:22.028Z"
      },
      {
        "duration": 75,
        "start_time": "2022-05-11T16:55:21.300Z"
      },
      {
        "duration": 5,
        "start_time": "2022-05-11T16:55:37.565Z"
      },
      {
        "duration": 1017,
        "start_time": "2022-05-11T16:55:37.573Z"
      },
      {
        "duration": 176,
        "start_time": "2022-05-11T16:55:38.594Z"
      },
      {
        "duration": 125,
        "start_time": "2022-05-11T16:55:38.773Z"
      },
      {
        "duration": 610,
        "start_time": "2022-05-11T16:55:38.902Z"
      },
      {
        "duration": 1275,
        "start_time": "2022-05-11T16:55:39.514Z"
      },
      {
        "duration": 163,
        "start_time": "2022-05-11T16:55:40.792Z"
      },
      {
        "duration": 171,
        "start_time": "2022-05-11T16:55:40.958Z"
      },
      {
        "duration": 54,
        "start_time": "2022-05-11T16:55:41.131Z"
      },
      {
        "duration": 28,
        "start_time": "2022-05-11T16:55:41.187Z"
      },
      {
        "duration": 60,
        "start_time": "2022-05-11T16:55:41.218Z"
      },
      {
        "duration": 622,
        "start_time": "2022-05-11T16:55:41.280Z"
      },
      {
        "duration": 615,
        "start_time": "2022-05-11T16:55:41.904Z"
      },
      {
        "duration": 634,
        "start_time": "2022-05-11T16:55:42.521Z"
      },
      {
        "duration": 18,
        "start_time": "2022-05-11T16:55:43.159Z"
      },
      {
        "duration": 22,
        "start_time": "2022-05-11T16:55:43.180Z"
      },
      {
        "duration": 70,
        "start_time": "2022-05-11T16:55:43.205Z"
      },
      {
        "duration": 1587,
        "start_time": "2022-05-11T16:55:43.277Z"
      },
      {
        "duration": 5,
        "start_time": "2022-05-11T16:57:13.676Z"
      },
      {
        "duration": 991,
        "start_time": "2022-05-11T16:57:13.684Z"
      },
      {
        "duration": 179,
        "start_time": "2022-05-11T16:57:14.678Z"
      },
      {
        "duration": 124,
        "start_time": "2022-05-11T16:57:14.859Z"
      },
      {
        "duration": 609,
        "start_time": "2022-05-11T16:57:14.986Z"
      },
      {
        "duration": 1265,
        "start_time": "2022-05-11T16:57:15.597Z"
      },
      {
        "duration": 170,
        "start_time": "2022-05-11T16:57:16.864Z"
      },
      {
        "duration": 172,
        "start_time": "2022-05-11T16:57:17.036Z"
      },
      {
        "duration": 65,
        "start_time": "2022-05-11T16:57:17.210Z"
      },
      {
        "duration": 27,
        "start_time": "2022-05-11T16:57:17.277Z"
      },
      {
        "duration": 60,
        "start_time": "2022-05-11T16:57:17.307Z"
      },
      {
        "duration": 606,
        "start_time": "2022-05-11T16:57:17.369Z"
      },
      {
        "duration": 615,
        "start_time": "2022-05-11T16:57:17.977Z"
      },
      {
        "duration": 624,
        "start_time": "2022-05-11T16:57:18.595Z"
      },
      {
        "duration": 18,
        "start_time": "2022-05-11T16:57:19.221Z"
      },
      {
        "duration": 22,
        "start_time": "2022-05-11T16:57:19.252Z"
      },
      {
        "duration": 40,
        "start_time": "2022-05-11T16:57:19.276Z"
      },
      {
        "duration": 96,
        "start_time": "2022-05-11T16:57:19.318Z"
      },
      {
        "duration": 51,
        "start_time": "2022-05-11T17:11:52.470Z"
      },
      {
        "duration": 504,
        "start_time": "2022-05-11T17:12:21.766Z"
      },
      {
        "duration": 302,
        "start_time": "2022-05-11T17:13:44.309Z"
      },
      {
        "duration": 313,
        "start_time": "2022-05-11T17:14:09.645Z"
      },
      {
        "duration": 144,
        "start_time": "2022-05-12T12:09:13.590Z"
      },
      {
        "duration": 5,
        "start_time": "2022-05-12T12:17:19.046Z"
      },
      {
        "duration": 10,
        "start_time": "2022-05-12T12:18:05.254Z"
      },
      {
        "duration": 2542,
        "start_time": "2022-05-12T12:19:42.078Z"
      },
      {
        "duration": 1362,
        "start_time": "2022-05-12T12:19:44.626Z"
      },
      {
        "duration": 191,
        "start_time": "2022-05-12T12:19:45.990Z"
      },
      {
        "duration": 164,
        "start_time": "2022-05-12T12:19:46.184Z"
      },
      {
        "duration": 823,
        "start_time": "2022-05-12T12:19:46.350Z"
      },
      {
        "duration": 1627,
        "start_time": "2022-05-12T12:19:47.175Z"
      },
      {
        "duration": 194,
        "start_time": "2022-05-12T12:19:48.805Z"
      },
      {
        "duration": 213,
        "start_time": "2022-05-12T12:19:49.001Z"
      },
      {
        "duration": 52,
        "start_time": "2022-05-12T12:19:49.217Z"
      },
      {
        "duration": 52,
        "start_time": "2022-05-12T12:19:49.275Z"
      },
      {
        "duration": 120,
        "start_time": "2022-05-12T12:19:49.330Z"
      },
      {
        "duration": 874,
        "start_time": "2022-05-12T12:19:49.453Z"
      },
      {
        "duration": 746,
        "start_time": "2022-05-12T12:19:50.331Z"
      },
      {
        "duration": 768,
        "start_time": "2022-05-12T12:19:51.080Z"
      },
      {
        "duration": 20,
        "start_time": "2022-05-12T12:19:51.851Z"
      },
      {
        "duration": 36,
        "start_time": "2022-05-12T12:19:51.874Z"
      },
      {
        "duration": 52,
        "start_time": "2022-05-12T12:19:51.934Z"
      },
      {
        "duration": 426,
        "start_time": "2022-05-12T12:19:51.988Z"
      },
      {
        "duration": 81,
        "start_time": "2022-05-12T12:19:52.417Z"
      },
      {
        "duration": 6,
        "start_time": "2022-05-12T12:21:02.142Z"
      },
      {
        "duration": 7,
        "start_time": "2022-05-12T12:28:02.523Z"
      },
      {
        "duration": 1699,
        "start_time": "2022-05-12T15:28:24.515Z"
      },
      {
        "duration": 857,
        "start_time": "2022-05-12T15:28:26.216Z"
      },
      {
        "duration": 151,
        "start_time": "2022-05-12T15:28:27.075Z"
      },
      {
        "duration": 116,
        "start_time": "2022-05-12T15:28:27.229Z"
      },
      {
        "duration": 483,
        "start_time": "2022-05-12T15:28:27.347Z"
      },
      {
        "duration": 953,
        "start_time": "2022-05-12T15:28:27.832Z"
      },
      {
        "duration": 131,
        "start_time": "2022-05-12T15:28:28.786Z"
      },
      {
        "duration": 139,
        "start_time": "2022-05-12T15:28:28.919Z"
      },
      {
        "duration": 27,
        "start_time": "2022-05-12T15:28:29.060Z"
      },
      {
        "duration": 36,
        "start_time": "2022-05-12T15:28:29.089Z"
      },
      {
        "duration": 31,
        "start_time": "2022-05-12T15:28:29.127Z"
      },
      {
        "duration": 403,
        "start_time": "2022-05-12T15:28:29.160Z"
      },
      {
        "duration": 388,
        "start_time": "2022-05-12T15:28:29.564Z"
      },
      {
        "duration": 395,
        "start_time": "2022-05-12T15:28:29.953Z"
      },
      {
        "duration": 13,
        "start_time": "2022-05-12T15:28:30.350Z"
      },
      {
        "duration": 21,
        "start_time": "2022-05-12T15:28:30.364Z"
      },
      {
        "duration": 49,
        "start_time": "2022-05-12T15:28:30.387Z"
      },
      {
        "duration": 226,
        "start_time": "2022-05-12T15:28:30.438Z"
      },
      {
        "duration": 52,
        "start_time": "2022-05-12T15:28:30.666Z"
      },
      {
        "duration": 5,
        "start_time": "2022-05-12T15:28:30.721Z"
      },
      {
        "duration": 6,
        "start_time": "2022-05-12T15:28:30.728Z"
      },
      {
        "duration": 140,
        "start_time": "2022-05-12T15:28:30.736Z"
      },
      {
        "duration": 831,
        "start_time": "2022-05-12T15:28:36.921Z"
      },
      {
        "duration": 10,
        "start_time": "2022-05-12T15:37:31.855Z"
      },
      {
        "duration": 4,
        "start_time": "2022-05-12T15:37:35.877Z"
      },
      {
        "duration": 761,
        "start_time": "2022-05-12T15:37:35.883Z"
      },
      {
        "duration": 136,
        "start_time": "2022-05-12T15:37:36.646Z"
      },
      {
        "duration": 98,
        "start_time": "2022-05-12T15:37:36.783Z"
      },
      {
        "duration": 407,
        "start_time": "2022-05-12T15:37:36.883Z"
      },
      {
        "duration": 841,
        "start_time": "2022-05-12T15:37:37.291Z"
      },
      {
        "duration": 130,
        "start_time": "2022-05-12T15:37:38.133Z"
      },
      {
        "duration": 134,
        "start_time": "2022-05-12T15:37:38.264Z"
      },
      {
        "duration": 25,
        "start_time": "2022-05-12T15:37:38.407Z"
      },
      {
        "duration": 19,
        "start_time": "2022-05-12T15:37:38.433Z"
      },
      {
        "duration": 28,
        "start_time": "2022-05-12T15:37:38.455Z"
      },
      {
        "duration": 382,
        "start_time": "2022-05-12T15:37:38.485Z"
      },
      {
        "duration": 435,
        "start_time": "2022-05-12T15:37:38.869Z"
      },
      {
        "duration": 366,
        "start_time": "2022-05-12T15:37:39.307Z"
      },
      {
        "duration": 12,
        "start_time": "2022-05-12T15:37:39.675Z"
      },
      {
        "duration": 29,
        "start_time": "2022-05-12T15:37:39.688Z"
      },
      {
        "duration": 21,
        "start_time": "2022-05-12T15:37:39.718Z"
      },
      {
        "duration": 201,
        "start_time": "2022-05-12T15:37:39.740Z"
      },
      {
        "duration": 44,
        "start_time": "2022-05-12T15:37:39.943Z"
      },
      {
        "duration": 19,
        "start_time": "2022-05-12T15:37:39.989Z"
      },
      {
        "duration": 5,
        "start_time": "2022-05-12T15:37:40.010Z"
      },
      {
        "duration": 808,
        "start_time": "2022-05-12T15:37:40.016Z"
      },
      {
        "duration": 244,
        "start_time": "2022-05-12T15:37:40.826Z"
      },
      {
        "duration": 367,
        "start_time": "2022-05-12T15:37:41.072Z"
      },
      {
        "duration": 212,
        "start_time": "2022-05-12T15:39:25.422Z"
      },
      {
        "duration": 494,
        "start_time": "2022-05-12T15:46:33.580Z"
      },
      {
        "duration": 3,
        "start_time": "2022-05-12T15:46:50.722Z"
      },
      {
        "duration": 3,
        "start_time": "2022-05-12T15:46:55.201Z"
      },
      {
        "duration": 805,
        "start_time": "2022-05-12T15:46:55.206Z"
      },
      {
        "duration": 140,
        "start_time": "2022-05-12T15:46:56.013Z"
      },
      {
        "duration": 106,
        "start_time": "2022-05-12T15:46:56.155Z"
      },
      {
        "duration": 411,
        "start_time": "2022-05-12T15:46:56.263Z"
      },
      {
        "duration": 888,
        "start_time": "2022-05-12T15:46:56.675Z"
      },
      {
        "duration": 124,
        "start_time": "2022-05-12T15:46:57.565Z"
      },
      {
        "duration": 139,
        "start_time": "2022-05-12T15:46:57.690Z"
      },
      {
        "duration": 25,
        "start_time": "2022-05-12T15:46:57.831Z"
      },
      {
        "duration": 22,
        "start_time": "2022-05-12T15:46:57.858Z"
      },
      {
        "duration": 52,
        "start_time": "2022-05-12T15:46:57.883Z"
      },
      {
        "duration": 396,
        "start_time": "2022-05-12T15:46:57.937Z"
      },
      {
        "duration": 373,
        "start_time": "2022-05-12T15:46:58.334Z"
      },
      {
        "duration": 389,
        "start_time": "2022-05-12T15:46:58.709Z"
      },
      {
        "duration": 18,
        "start_time": "2022-05-12T15:46:59.100Z"
      },
      {
        "duration": 17,
        "start_time": "2022-05-12T15:46:59.119Z"
      },
      {
        "duration": 22,
        "start_time": "2022-05-12T15:46:59.138Z"
      },
      {
        "duration": 213,
        "start_time": "2022-05-12T15:46:59.161Z"
      },
      {
        "duration": 58,
        "start_time": "2022-05-12T15:46:59.375Z"
      },
      {
        "duration": 4,
        "start_time": "2022-05-12T15:46:59.435Z"
      },
      {
        "duration": 4,
        "start_time": "2022-05-12T15:46:59.441Z"
      },
      {
        "duration": 104,
        "start_time": "2022-05-12T15:46:59.446Z"
      },
      {
        "duration": 4,
        "start_time": "2022-05-12T15:46:59.552Z"
      },
      {
        "duration": 1023,
        "start_time": "2022-05-12T16:25:53.850Z"
      },
      {
        "duration": 3,
        "start_time": "2022-05-12T16:27:04.554Z"
      },
      {
        "duration": 833,
        "start_time": "2022-05-12T16:27:04.559Z"
      },
      {
        "duration": 153,
        "start_time": "2022-05-12T16:27:05.394Z"
      },
      {
        "duration": 108,
        "start_time": "2022-05-12T16:27:05.549Z"
      },
      {
        "duration": 424,
        "start_time": "2022-05-12T16:27:05.660Z"
      },
      {
        "duration": 901,
        "start_time": "2022-05-12T16:27:06.086Z"
      },
      {
        "duration": 144,
        "start_time": "2022-05-12T16:27:06.988Z"
      },
      {
        "duration": 160,
        "start_time": "2022-05-12T16:27:07.133Z"
      },
      {
        "duration": 40,
        "start_time": "2022-05-12T16:27:07.295Z"
      },
      {
        "duration": 21,
        "start_time": "2022-05-12T16:27:07.337Z"
      },
      {
        "duration": 54,
        "start_time": "2022-05-12T16:27:07.361Z"
      },
      {
        "duration": 393,
        "start_time": "2022-05-12T16:27:07.417Z"
      },
      {
        "duration": 425,
        "start_time": "2022-05-12T16:27:07.813Z"
      },
      {
        "duration": 418,
        "start_time": "2022-05-12T16:27:08.239Z"
      },
      {
        "duration": 12,
        "start_time": "2022-05-12T16:27:08.659Z"
      },
      {
        "duration": 18,
        "start_time": "2022-05-12T16:27:08.673Z"
      },
      {
        "duration": 32,
        "start_time": "2022-05-12T16:27:08.707Z"
      },
      {
        "duration": 200,
        "start_time": "2022-05-12T16:27:08.741Z"
      },
      {
        "duration": 43,
        "start_time": "2022-05-12T16:27:08.943Z"
      },
      {
        "duration": 24,
        "start_time": "2022-05-12T16:27:08.988Z"
      },
      {
        "duration": 5,
        "start_time": "2022-05-12T16:27:09.014Z"
      },
      {
        "duration": 103,
        "start_time": "2022-05-12T16:27:09.021Z"
      },
      {
        "duration": 4,
        "start_time": "2022-05-12T16:27:09.126Z"
      },
      {
        "duration": 734,
        "start_time": "2022-05-12T16:27:09.132Z"
      },
      {
        "duration": 891,
        "start_time": "2022-05-12T16:27:23.528Z"
      },
      {
        "duration": 3,
        "start_time": "2022-05-12T16:33:42.439Z"
      },
      {
        "duration": 740,
        "start_time": "2022-05-12T16:33:42.444Z"
      },
      {
        "duration": 135,
        "start_time": "2022-05-12T16:33:43.185Z"
      },
      {
        "duration": 98,
        "start_time": "2022-05-12T16:33:43.321Z"
      },
      {
        "duration": 411,
        "start_time": "2022-05-12T16:33:43.422Z"
      },
      {
        "duration": 829,
        "start_time": "2022-05-12T16:33:43.834Z"
      },
      {
        "duration": 132,
        "start_time": "2022-05-12T16:33:44.664Z"
      },
      {
        "duration": 126,
        "start_time": "2022-05-12T16:33:44.807Z"
      },
      {
        "duration": 23,
        "start_time": "2022-05-12T16:33:44.935Z"
      },
      {
        "duration": 20,
        "start_time": "2022-05-12T16:33:44.960Z"
      },
      {
        "duration": 53,
        "start_time": "2022-05-12T16:33:44.983Z"
      },
      {
        "duration": 369,
        "start_time": "2022-05-12T16:33:45.037Z"
      },
      {
        "duration": 366,
        "start_time": "2022-05-12T16:33:45.408Z"
      },
      {
        "duration": 363,
        "start_time": "2022-05-12T16:33:45.776Z"
      },
      {
        "duration": 11,
        "start_time": "2022-05-12T16:33:46.141Z"
      },
      {
        "duration": 15,
        "start_time": "2022-05-12T16:33:46.154Z"
      },
      {
        "duration": 37,
        "start_time": "2022-05-12T16:33:46.170Z"
      },
      {
        "duration": 180,
        "start_time": "2022-05-12T16:33:46.209Z"
      },
      {
        "duration": 46,
        "start_time": "2022-05-12T16:33:46.390Z"
      },
      {
        "duration": 4,
        "start_time": "2022-05-12T16:33:46.437Z"
      },
      {
        "duration": 4,
        "start_time": "2022-05-12T16:33:46.443Z"
      },
      {
        "duration": 95,
        "start_time": "2022-05-12T16:33:46.449Z"
      },
      {
        "duration": 4,
        "start_time": "2022-05-12T16:33:46.546Z"
      },
      {
        "duration": 672,
        "start_time": "2022-05-12T16:33:46.551Z"
      },
      {
        "duration": 459,
        "start_time": "2022-05-12T16:33:47.225Z"
      },
      {
        "duration": 5,
        "start_time": "2022-05-12T16:33:47.686Z"
      },
      {
        "duration": 355713,
        "start_time": "2022-05-12T16:33:47.693Z"
      },
      {
        "duration": 25555,
        "start_time": "2022-05-12T16:42:12.859Z"
      },
      {
        "duration": 182,
        "start_time": "2022-05-12T16:42:55.234Z"
      },
      {
        "duration": 4,
        "start_time": "2022-05-12T16:43:11.922Z"
      },
      {
        "duration": 125731,
        "start_time": "2022-05-12T16:43:41.083Z"
      },
      {
        "duration": 5623,
        "start_time": "2022-05-12T16:50:35.663Z"
      },
      {
        "duration": 147,
        "start_time": "2022-05-12T16:50:56.471Z"
      },
      {
        "duration": 5,
        "start_time": "2022-05-12T16:51:13.823Z"
      },
      {
        "duration": 3,
        "start_time": "2022-05-12T16:52:32.678Z"
      },
      {
        "duration": 32496,
        "start_time": "2022-05-12T16:52:35.087Z"
      },
      {
        "duration": 11,
        "start_time": "2022-05-12T16:55:09.566Z"
      },
      {
        "duration": 151,
        "start_time": "2022-05-12T16:55:17.728Z"
      },
      {
        "duration": 38,
        "start_time": "2022-05-12T16:55:19.854Z"
      },
      {
        "duration": 154478,
        "start_time": "2022-05-12T16:55:21.846Z"
      },
      {
        "duration": 1727,
        "start_time": "2022-05-13T11:51:03.347Z"
      },
      {
        "duration": 1086,
        "start_time": "2022-05-13T11:51:05.077Z"
      },
      {
        "duration": 188,
        "start_time": "2022-05-13T11:51:06.165Z"
      },
      {
        "duration": 101,
        "start_time": "2022-05-13T11:51:06.356Z"
      },
      {
        "duration": 439,
        "start_time": "2022-05-13T11:51:06.461Z"
      },
      {
        "duration": 897,
        "start_time": "2022-05-13T11:51:06.902Z"
      },
      {
        "duration": 124,
        "start_time": "2022-05-13T11:51:07.801Z"
      },
      {
        "duration": 121,
        "start_time": "2022-05-13T11:51:07.926Z"
      },
      {
        "duration": 33,
        "start_time": "2022-05-13T11:51:08.049Z"
      },
      {
        "duration": 19,
        "start_time": "2022-05-13T11:51:08.085Z"
      },
      {
        "duration": 31,
        "start_time": "2022-05-13T11:51:08.105Z"
      },
      {
        "duration": 385,
        "start_time": "2022-05-13T11:51:08.137Z"
      },
      {
        "duration": 345,
        "start_time": "2022-05-13T11:51:08.524Z"
      },
      {
        "duration": 359,
        "start_time": "2022-05-13T11:51:08.871Z"
      },
      {
        "duration": 15,
        "start_time": "2022-05-13T11:51:09.233Z"
      },
      {
        "duration": 14,
        "start_time": "2022-05-13T11:51:09.262Z"
      },
      {
        "duration": 19,
        "start_time": "2022-05-13T11:51:09.278Z"
      },
      {
        "duration": 199,
        "start_time": "2022-05-13T11:51:09.299Z"
      },
      {
        "duration": 42,
        "start_time": "2022-05-13T11:51:09.499Z"
      },
      {
        "duration": 20,
        "start_time": "2022-05-13T11:51:09.543Z"
      },
      {
        "duration": 4,
        "start_time": "2022-05-13T11:51:09.565Z"
      },
      {
        "duration": 73,
        "start_time": "2022-05-13T11:51:09.571Z"
      },
      {
        "duration": 18,
        "start_time": "2022-05-13T11:51:09.645Z"
      },
      {
        "duration": 651,
        "start_time": "2022-05-13T11:51:09.665Z"
      },
      {
        "duration": 432,
        "start_time": "2022-05-13T11:51:10.318Z"
      },
      {
        "duration": 10,
        "start_time": "2022-05-13T11:51:10.752Z"
      },
      {
        "duration": 445403,
        "start_time": "2022-05-13T11:51:10.764Z"
      },
      {
        "duration": 26494,
        "start_time": "2022-05-13T11:58:36.171Z"
      },
      {
        "duration": 300,
        "start_time": "2022-05-13T11:59:02.666Z"
      },
      {
        "duration": 5,
        "start_time": "2022-05-13T11:59:02.968Z"
      },
      {
        "duration": 119490,
        "start_time": "2022-05-13T11:59:03.061Z"
      },
      {
        "duration": 5645,
        "start_time": "2022-05-13T12:01:02.553Z"
      },
      {
        "duration": 140,
        "start_time": "2022-05-13T12:01:08.199Z"
      },
      {
        "duration": 5,
        "start_time": "2022-05-13T12:01:08.341Z"
      },
      {
        "duration": 15,
        "start_time": "2022-05-13T12:01:08.347Z"
      },
      {
        "duration": 860858,
        "start_time": "2022-05-13T12:01:08.363Z"
      },
      {
        "duration": 68717,
        "start_time": "2022-05-13T12:15:29.222Z"
      },
      {
        "duration": 166,
        "start_time": "2022-05-13T12:16:37.941Z"
      },
      {
        "duration": 5,
        "start_time": "2022-05-13T12:16:38.109Z"
      },
      {
        "duration": 174,
        "start_time": "2022-05-13T12:16:38.116Z"
      },
      {
        "duration": 32,
        "start_time": "2022-05-13T12:16:38.292Z"
      },
      {
        "duration": 1971,
        "start_time": "2022-05-13T12:54:10.016Z"
      },
      {
        "duration": 1151,
        "start_time": "2022-05-13T12:54:11.990Z"
      },
      {
        "duration": 266,
        "start_time": "2022-05-13T12:54:13.143Z"
      },
      {
        "duration": 135,
        "start_time": "2022-05-13T12:54:13.412Z"
      },
      {
        "duration": 842,
        "start_time": "2022-05-13T12:54:13.549Z"
      },
      {
        "duration": 1645,
        "start_time": "2022-05-13T12:54:14.393Z"
      },
      {
        "duration": 147,
        "start_time": "2022-05-13T12:54:16.039Z"
      },
      {
        "duration": 169,
        "start_time": "2022-05-13T12:54:16.188Z"
      },
      {
        "duration": 33,
        "start_time": "2022-05-13T12:54:16.359Z"
      },
      {
        "duration": 24,
        "start_time": "2022-05-13T12:54:16.396Z"
      },
      {
        "duration": 52,
        "start_time": "2022-05-13T12:54:16.422Z"
      },
      {
        "duration": 409,
        "start_time": "2022-05-13T12:54:16.477Z"
      },
      {
        "duration": 408,
        "start_time": "2022-05-13T12:54:16.888Z"
      },
      {
        "duration": 381,
        "start_time": "2022-05-13T12:54:17.297Z"
      },
      {
        "duration": 13,
        "start_time": "2022-05-13T12:54:17.682Z"
      },
      {
        "duration": 19,
        "start_time": "2022-05-13T12:54:17.697Z"
      },
      {
        "duration": 22,
        "start_time": "2022-05-13T12:54:17.718Z"
      },
      {
        "duration": 223,
        "start_time": "2022-05-13T12:54:17.742Z"
      },
      {
        "duration": 45,
        "start_time": "2022-05-13T12:54:17.967Z"
      },
      {
        "duration": 5,
        "start_time": "2022-05-13T12:54:18.014Z"
      },
      {
        "duration": 8,
        "start_time": "2022-05-13T12:54:18.020Z"
      },
      {
        "duration": 106,
        "start_time": "2022-05-13T12:54:18.030Z"
      },
      {
        "duration": 4,
        "start_time": "2022-05-13T12:54:18.138Z"
      },
      {
        "duration": 962,
        "start_time": "2022-05-13T12:54:18.144Z"
      },
      {
        "duration": 513,
        "start_time": "2022-05-13T12:54:19.108Z"
      },
      {
        "duration": 5,
        "start_time": "2022-05-13T12:54:19.623Z"
      },
      {
        "duration": 904953,
        "start_time": "2022-05-13T12:54:19.629Z"
      },
      {
        "duration": 47385,
        "start_time": "2022-05-13T13:09:24.587Z"
      },
      {
        "duration": 291,
        "start_time": "2022-05-13T13:10:11.973Z"
      },
      {
        "duration": 5,
        "start_time": "2022-05-13T13:10:12.266Z"
      },
      {
        "duration": 155700,
        "start_time": "2022-05-13T13:10:12.276Z"
      },
      {
        "duration": 6389,
        "start_time": "2022-05-13T13:12:47.978Z"
      },
      {
        "duration": 151,
        "start_time": "2022-05-13T13:12:54.369Z"
      },
      {
        "duration": 6,
        "start_time": "2022-05-13T13:12:54.522Z"
      },
      {
        "duration": 5,
        "start_time": "2022-05-13T13:12:54.530Z"
      },
      {
        "duration": 986800,
        "start_time": "2022-05-13T13:12:54.537Z"
      },
      {
        "duration": 68620,
        "start_time": "2022-05-13T13:29:21.339Z"
      },
      {
        "duration": 176,
        "start_time": "2022-05-13T13:30:29.964Z"
      },
      {
        "duration": 5,
        "start_time": "2022-05-13T13:30:30.142Z"
      },
      {
        "duration": 171,
        "start_time": "2022-05-13T13:30:30.161Z"
      },
      {
        "duration": 51,
        "start_time": "2022-05-13T13:30:30.334Z"
      },
      {
        "duration": 4719593,
        "start_time": "2022-05-13T13:30:30.387Z"
      },
      {
        "duration": 109742,
        "start_time": "2022-05-13T14:49:09.982Z"
      },
      {
        "duration": 265,
        "start_time": "2022-05-13T14:50:59.726Z"
      },
      {
        "duration": 0,
        "start_time": "2022-05-13T14:50:59.993Z"
      },
      {
        "duration": 1768,
        "start_time": "2022-05-13T15:20:45.247Z"
      },
      {
        "duration": 1100,
        "start_time": "2022-05-13T15:20:47.017Z"
      },
      {
        "duration": 192,
        "start_time": "2022-05-13T15:20:48.119Z"
      },
      {
        "duration": 119,
        "start_time": "2022-05-13T15:20:48.313Z"
      },
      {
        "duration": 688,
        "start_time": "2022-05-13T15:20:48.433Z"
      },
      {
        "duration": 1391,
        "start_time": "2022-05-13T15:20:49.123Z"
      },
      {
        "duration": 165,
        "start_time": "2022-05-13T15:20:50.515Z"
      },
      {
        "duration": 135,
        "start_time": "2022-05-13T15:20:50.682Z"
      },
      {
        "duration": 27,
        "start_time": "2022-05-13T15:20:50.818Z"
      },
      {
        "duration": 43,
        "start_time": "2022-05-13T15:20:50.848Z"
      },
      {
        "duration": 41,
        "start_time": "2022-05-13T15:20:50.893Z"
      },
      {
        "duration": 536,
        "start_time": "2022-05-13T15:20:50.935Z"
      },
      {
        "duration": 355,
        "start_time": "2022-05-13T15:20:51.472Z"
      },
      {
        "duration": 373,
        "start_time": "2022-05-13T15:20:51.829Z"
      },
      {
        "duration": 12,
        "start_time": "2022-05-13T15:20:52.204Z"
      },
      {
        "duration": 14,
        "start_time": "2022-05-13T15:20:52.218Z"
      },
      {
        "duration": 45,
        "start_time": "2022-05-13T15:20:52.234Z"
      },
      {
        "duration": 252,
        "start_time": "2022-05-13T15:20:52.281Z"
      },
      {
        "duration": 55,
        "start_time": "2022-05-13T15:20:52.536Z"
      },
      {
        "duration": 5,
        "start_time": "2022-05-13T15:20:52.592Z"
      },
      {
        "duration": 10,
        "start_time": "2022-05-13T15:20:52.598Z"
      },
      {
        "duration": 87,
        "start_time": "2022-05-13T15:20:52.610Z"
      },
      {
        "duration": 4,
        "start_time": "2022-05-13T15:20:52.698Z"
      },
      {
        "duration": 643,
        "start_time": "2022-05-13T15:20:52.704Z"
      },
      {
        "duration": 443,
        "start_time": "2022-05-13T15:20:53.348Z"
      },
      {
        "duration": 3,
        "start_time": "2022-05-13T15:20:53.793Z"
      },
      {
        "duration": 829579,
        "start_time": "2022-05-13T15:20:53.798Z"
      },
      {
        "duration": 32199,
        "start_time": "2022-05-13T15:34:43.381Z"
      },
      {
        "duration": 285,
        "start_time": "2022-05-13T15:35:15.582Z"
      },
      {
        "duration": 92,
        "start_time": "2022-05-13T15:35:15.872Z"
      },
      {
        "duration": 133747,
        "start_time": "2022-05-13T15:35:15.965Z"
      },
      {
        "duration": 5738,
        "start_time": "2022-05-13T15:37:29.714Z"
      },
      {
        "duration": 146,
        "start_time": "2022-05-13T15:37:35.454Z"
      },
      {
        "duration": 5,
        "start_time": "2022-05-13T15:37:35.602Z"
      },
      {
        "duration": 4,
        "start_time": "2022-05-13T15:37:35.608Z"
      },
      {
        "duration": 9,
        "start_time": "2022-05-13T15:37:35.613Z"
      },
      {
        "duration": 137,
        "start_time": "2022-05-13T15:37:35.623Z"
      },
      {
        "duration": 0,
        "start_time": "2022-05-13T15:37:35.762Z"
      },
      {
        "duration": 0,
        "start_time": "2022-05-13T15:37:35.763Z"
      },
      {
        "duration": 0,
        "start_time": "2022-05-13T15:37:35.764Z"
      },
      {
        "duration": 0,
        "start_time": "2022-05-13T15:37:35.765Z"
      },
      {
        "duration": 0,
        "start_time": "2022-05-13T15:37:35.767Z"
      },
      {
        "duration": 0,
        "start_time": "2022-05-13T15:37:35.768Z"
      },
      {
        "duration": 0,
        "start_time": "2022-05-13T15:37:35.769Z"
      },
      {
        "duration": 0,
        "start_time": "2022-05-13T15:37:35.770Z"
      },
      {
        "duration": 0,
        "start_time": "2022-05-13T15:37:35.771Z"
      },
      {
        "duration": 0,
        "start_time": "2022-05-13T15:37:35.772Z"
      },
      {
        "duration": 0,
        "start_time": "2022-05-13T15:37:35.774Z"
      },
      {
        "duration": 0,
        "start_time": "2022-05-13T15:37:35.775Z"
      },
      {
        "duration": 0,
        "start_time": "2022-05-13T15:37:35.775Z"
      },
      {
        "duration": 0,
        "start_time": "2022-05-13T15:37:35.776Z"
      },
      {
        "duration": 0,
        "start_time": "2022-05-13T15:37:35.778Z"
      },
      {
        "duration": 0,
        "start_time": "2022-05-13T15:37:35.779Z"
      },
      {
        "duration": 0,
        "start_time": "2022-05-13T15:37:35.780Z"
      },
      {
        "duration": 0,
        "start_time": "2022-05-13T15:37:35.783Z"
      },
      {
        "duration": 0,
        "start_time": "2022-05-13T15:37:35.784Z"
      },
      {
        "duration": 0,
        "start_time": "2022-05-13T15:37:35.784Z"
      },
      {
        "duration": 0,
        "start_time": "2022-05-13T15:37:35.785Z"
      },
      {
        "duration": 0,
        "start_time": "2022-05-13T15:37:35.787Z"
      },
      {
        "duration": 0,
        "start_time": "2022-05-13T15:37:35.788Z"
      },
      {
        "duration": 0,
        "start_time": "2022-05-13T15:37:35.789Z"
      },
      {
        "duration": 0,
        "start_time": "2022-05-13T15:37:35.790Z"
      },
      {
        "duration": 0,
        "start_time": "2022-05-13T15:37:35.791Z"
      },
      {
        "duration": 0,
        "start_time": "2022-05-13T15:37:35.792Z"
      },
      {
        "duration": 0,
        "start_time": "2022-05-13T15:37:35.797Z"
      },
      {
        "duration": 0,
        "start_time": "2022-05-13T15:37:35.798Z"
      },
      {
        "duration": 0,
        "start_time": "2022-05-13T15:37:35.799Z"
      },
      {
        "duration": 0,
        "start_time": "2022-05-13T15:37:35.800Z"
      },
      {
        "duration": 0,
        "start_time": "2022-05-13T15:37:35.802Z"
      },
      {
        "duration": 0,
        "start_time": "2022-05-13T15:37:35.804Z"
      },
      {
        "duration": 0,
        "start_time": "2022-05-13T15:37:35.805Z"
      },
      {
        "duration": 0,
        "start_time": "2022-05-13T15:37:35.806Z"
      },
      {
        "duration": 0,
        "start_time": "2022-05-13T15:37:35.862Z"
      },
      {
        "duration": 0,
        "start_time": "2022-05-13T15:37:35.863Z"
      },
      {
        "duration": 0,
        "start_time": "2022-05-13T15:37:35.865Z"
      },
      {
        "duration": 151,
        "start_time": "2022-05-13T15:38:16.149Z"
      },
      {
        "duration": 0,
        "start_time": "2022-05-13T15:38:16.303Z"
      },
      {
        "duration": 0,
        "start_time": "2022-05-13T15:38:16.304Z"
      },
      {
        "duration": 0,
        "start_time": "2022-05-13T15:38:16.305Z"
      },
      {
        "duration": 0,
        "start_time": "2022-05-13T15:38:16.306Z"
      },
      {
        "duration": 0,
        "start_time": "2022-05-13T15:38:16.308Z"
      },
      {
        "duration": 0,
        "start_time": "2022-05-13T15:38:16.309Z"
      },
      {
        "duration": 0,
        "start_time": "2022-05-13T15:38:16.310Z"
      },
      {
        "duration": 0,
        "start_time": "2022-05-13T15:38:16.311Z"
      },
      {
        "duration": 0,
        "start_time": "2022-05-13T15:38:16.312Z"
      },
      {
        "duration": 0,
        "start_time": "2022-05-13T15:38:16.313Z"
      },
      {
        "duration": 0,
        "start_time": "2022-05-13T15:38:16.314Z"
      },
      {
        "duration": 0,
        "start_time": "2022-05-13T15:38:16.315Z"
      },
      {
        "duration": 0,
        "start_time": "2022-05-13T15:38:16.316Z"
      },
      {
        "duration": 0,
        "start_time": "2022-05-13T15:38:16.317Z"
      },
      {
        "duration": 0,
        "start_time": "2022-05-13T15:38:16.318Z"
      },
      {
        "duration": 0,
        "start_time": "2022-05-13T15:38:16.319Z"
      },
      {
        "duration": 0,
        "start_time": "2022-05-13T15:38:16.320Z"
      },
      {
        "duration": 0,
        "start_time": "2022-05-13T15:38:16.321Z"
      },
      {
        "duration": 0,
        "start_time": "2022-05-13T15:38:16.322Z"
      },
      {
        "duration": 0,
        "start_time": "2022-05-13T15:38:16.323Z"
      },
      {
        "duration": 0,
        "start_time": "2022-05-13T15:38:16.323Z"
      },
      {
        "duration": 0,
        "start_time": "2022-05-13T15:38:16.324Z"
      },
      {
        "duration": 0,
        "start_time": "2022-05-13T15:38:16.325Z"
      },
      {
        "duration": 0,
        "start_time": "2022-05-13T15:38:16.362Z"
      },
      {
        "duration": 0,
        "start_time": "2022-05-13T15:38:16.390Z"
      },
      {
        "duration": 0,
        "start_time": "2022-05-13T15:38:16.392Z"
      },
      {
        "duration": 0,
        "start_time": "2022-05-13T15:38:16.393Z"
      },
      {
        "duration": 0,
        "start_time": "2022-05-13T15:38:16.395Z"
      },
      {
        "duration": 0,
        "start_time": "2022-05-13T15:38:16.396Z"
      },
      {
        "duration": 18,
        "start_time": "2022-05-13T15:38:57.294Z"
      },
      {
        "duration": 81,
        "start_time": "2022-05-13T15:38:57.315Z"
      },
      {
        "duration": 4,
        "start_time": "2022-05-13T15:38:57.398Z"
      },
      {
        "duration": 139,
        "start_time": "2022-05-13T15:38:57.404Z"
      },
      {
        "duration": 0,
        "start_time": "2022-05-13T15:38:57.545Z"
      },
      {
        "duration": 0,
        "start_time": "2022-05-13T15:38:57.546Z"
      },
      {
        "duration": 0,
        "start_time": "2022-05-13T15:38:57.547Z"
      },
      {
        "duration": 0,
        "start_time": "2022-05-13T15:38:57.547Z"
      },
      {
        "duration": 0,
        "start_time": "2022-05-13T15:38:57.549Z"
      },
      {
        "duration": 0,
        "start_time": "2022-05-13T15:38:57.550Z"
      },
      {
        "duration": 0,
        "start_time": "2022-05-13T15:38:57.551Z"
      },
      {
        "duration": 0,
        "start_time": "2022-05-13T15:38:57.551Z"
      },
      {
        "duration": 0,
        "start_time": "2022-05-13T15:38:57.552Z"
      },
      {
        "duration": 0,
        "start_time": "2022-05-13T15:38:57.554Z"
      },
      {
        "duration": 0,
        "start_time": "2022-05-13T15:38:57.554Z"
      },
      {
        "duration": 0,
        "start_time": "2022-05-13T15:38:57.555Z"
      },
      {
        "duration": 0,
        "start_time": "2022-05-13T15:38:57.556Z"
      },
      {
        "duration": 0,
        "start_time": "2022-05-13T15:38:57.557Z"
      },
      {
        "duration": 0,
        "start_time": "2022-05-13T15:38:57.558Z"
      },
      {
        "duration": 0,
        "start_time": "2022-05-13T15:38:57.559Z"
      },
      {
        "duration": 0,
        "start_time": "2022-05-13T15:38:57.560Z"
      },
      {
        "duration": 0,
        "start_time": "2022-05-13T15:38:57.561Z"
      },
      {
        "duration": 0,
        "start_time": "2022-05-13T15:38:57.563Z"
      },
      {
        "duration": 0,
        "start_time": "2022-05-13T15:38:57.564Z"
      },
      {
        "duration": 0,
        "start_time": "2022-05-13T15:38:57.565Z"
      },
      {
        "duration": 0,
        "start_time": "2022-05-13T15:38:57.566Z"
      },
      {
        "duration": 1,
        "start_time": "2022-05-13T15:38:57.568Z"
      },
      {
        "duration": 0,
        "start_time": "2022-05-13T15:38:57.570Z"
      },
      {
        "duration": 0,
        "start_time": "2022-05-13T15:38:57.571Z"
      },
      {
        "duration": 0,
        "start_time": "2022-05-13T15:38:57.572Z"
      },
      {
        "duration": 21,
        "start_time": "2022-05-13T15:39:17.679Z"
      },
      {
        "duration": 78,
        "start_time": "2022-05-13T15:39:17.702Z"
      },
      {
        "duration": 3,
        "start_time": "2022-05-13T15:39:17.782Z"
      },
      {
        "duration": 12,
        "start_time": "2022-05-13T15:39:17.787Z"
      },
      {
        "duration": 0,
        "start_time": "2022-05-13T15:39:17.801Z"
      },
      {
        "duration": 0,
        "start_time": "2022-05-13T15:39:17.802Z"
      },
      {
        "duration": 0,
        "start_time": "2022-05-13T15:39:17.803Z"
      },
      {
        "duration": 0,
        "start_time": "2022-05-13T15:39:17.804Z"
      },
      {
        "duration": 0,
        "start_time": "2022-05-13T15:39:17.805Z"
      },
      {
        "duration": 0,
        "start_time": "2022-05-13T15:39:17.806Z"
      },
      {
        "duration": 0,
        "start_time": "2022-05-13T15:39:17.807Z"
      },
      {
        "duration": 0,
        "start_time": "2022-05-13T15:39:17.808Z"
      },
      {
        "duration": 0,
        "start_time": "2022-05-13T15:39:17.809Z"
      },
      {
        "duration": 0,
        "start_time": "2022-05-13T15:39:17.810Z"
      },
      {
        "duration": 0,
        "start_time": "2022-05-13T15:39:17.812Z"
      },
      {
        "duration": 0,
        "start_time": "2022-05-13T15:39:17.813Z"
      },
      {
        "duration": 0,
        "start_time": "2022-05-13T15:39:17.814Z"
      },
      {
        "duration": 0,
        "start_time": "2022-05-13T15:39:17.815Z"
      },
      {
        "duration": 0,
        "start_time": "2022-05-13T15:39:17.816Z"
      },
      {
        "duration": 0,
        "start_time": "2022-05-13T15:39:17.818Z"
      },
      {
        "duration": 0,
        "start_time": "2022-05-13T15:39:17.818Z"
      },
      {
        "duration": 0,
        "start_time": "2022-05-13T15:39:17.819Z"
      },
      {
        "duration": 0,
        "start_time": "2022-05-13T15:39:17.820Z"
      },
      {
        "duration": 0,
        "start_time": "2022-05-13T15:39:17.821Z"
      },
      {
        "duration": 0,
        "start_time": "2022-05-13T15:39:17.877Z"
      },
      {
        "duration": 0,
        "start_time": "2022-05-13T15:39:17.878Z"
      },
      {
        "duration": 0,
        "start_time": "2022-05-13T15:39:17.878Z"
      },
      {
        "duration": 0,
        "start_time": "2022-05-13T15:39:17.879Z"
      },
      {
        "duration": 0,
        "start_time": "2022-05-13T15:39:17.880Z"
      },
      {
        "duration": 10,
        "start_time": "2022-05-13T15:39:48.971Z"
      },
      {
        "duration": 962,
        "start_time": "2022-05-13T15:39:48.986Z"
      },
      {
        "duration": 183,
        "start_time": "2022-05-13T15:39:49.950Z"
      },
      {
        "duration": 104,
        "start_time": "2022-05-13T15:39:50.135Z"
      },
      {
        "duration": 471,
        "start_time": "2022-05-13T15:39:50.241Z"
      },
      {
        "duration": 1037,
        "start_time": "2022-05-13T15:39:50.714Z"
      },
      {
        "duration": 183,
        "start_time": "2022-05-13T15:39:51.753Z"
      },
      {
        "duration": 155,
        "start_time": "2022-05-13T15:39:51.937Z"
      },
      {
        "duration": 34,
        "start_time": "2022-05-13T15:39:52.094Z"
      },
      {
        "duration": 39,
        "start_time": "2022-05-13T15:39:52.131Z"
      },
      {
        "duration": 51,
        "start_time": "2022-05-13T15:39:52.172Z"
      },
      {
        "duration": 582,
        "start_time": "2022-05-13T15:39:52.228Z"
      },
      {
        "duration": 505,
        "start_time": "2022-05-13T15:39:52.815Z"
      },
      {
        "duration": 527,
        "start_time": "2022-05-13T15:39:53.323Z"
      },
      {
        "duration": 17,
        "start_time": "2022-05-13T15:39:53.852Z"
      },
      {
        "duration": 24,
        "start_time": "2022-05-13T15:39:53.871Z"
      },
      {
        "duration": 54,
        "start_time": "2022-05-13T15:39:53.897Z"
      },
      {
        "duration": 277,
        "start_time": "2022-05-13T15:39:53.954Z"
      },
      {
        "duration": 100,
        "start_time": "2022-05-13T15:39:54.234Z"
      },
      {
        "duration": 9,
        "start_time": "2022-05-13T15:39:54.336Z"
      },
      {
        "duration": 20,
        "start_time": "2022-05-13T15:39:54.349Z"
      },
      {
        "duration": 129,
        "start_time": "2022-05-13T15:39:54.371Z"
      },
      {
        "duration": 6,
        "start_time": "2022-05-13T15:39:54.504Z"
      },
      {
        "duration": 813,
        "start_time": "2022-05-13T15:39:54.512Z"
      },
      {
        "duration": 487,
        "start_time": "2022-05-13T15:39:55.326Z"
      },
      {
        "duration": 3,
        "start_time": "2022-05-13T15:39:55.815Z"
      },
      {
        "duration": 619845,
        "start_time": "2022-05-13T15:39:55.820Z"
      },
      {
        "duration": 32501,
        "start_time": "2022-05-13T15:50:15.670Z"
      },
      {
        "duration": 300,
        "start_time": "2022-05-13T15:50:48.173Z"
      },
      {
        "duration": 10,
        "start_time": "2022-05-13T15:50:48.475Z"
      },
      {
        "duration": 138319,
        "start_time": "2022-05-13T15:50:48.487Z"
      },
      {
        "duration": 6433,
        "start_time": "2022-05-13T15:53:06.807Z"
      },
      {
        "duration": 169,
        "start_time": "2022-05-13T15:53:13.242Z"
      },
      {
        "duration": 6,
        "start_time": "2022-05-13T15:53:13.413Z"
      },
      {
        "duration": 5,
        "start_time": "2022-05-13T15:53:13.420Z"
      },
      {
        "duration": 6,
        "start_time": "2022-05-13T15:53:13.427Z"
      },
      {
        "duration": 4,
        "start_time": "2022-05-13T15:53:13.435Z"
      },
      {
        "duration": 4,
        "start_time": "2022-05-13T15:53:13.475Z"
      },
      {
        "duration": 27,
        "start_time": "2022-05-13T15:53:13.482Z"
      },
      {
        "duration": 185,
        "start_time": "2022-05-13T15:53:13.511Z"
      },
      {
        "duration": 0,
        "start_time": "2022-05-13T15:53:13.698Z"
      },
      {
        "duration": 0,
        "start_time": "2022-05-13T15:53:13.700Z"
      },
      {
        "duration": 0,
        "start_time": "2022-05-13T15:53:13.701Z"
      },
      {
        "duration": 0,
        "start_time": "2022-05-13T15:53:13.702Z"
      },
      {
        "duration": 0,
        "start_time": "2022-05-13T15:53:13.703Z"
      },
      {
        "duration": 0,
        "start_time": "2022-05-13T15:53:13.704Z"
      },
      {
        "duration": 0,
        "start_time": "2022-05-13T15:53:13.705Z"
      },
      {
        "duration": 0,
        "start_time": "2022-05-13T15:53:13.707Z"
      },
      {
        "duration": 0,
        "start_time": "2022-05-13T15:53:13.708Z"
      },
      {
        "duration": 0,
        "start_time": "2022-05-13T15:53:13.709Z"
      },
      {
        "duration": 0,
        "start_time": "2022-05-13T15:53:13.720Z"
      },
      {
        "duration": 0,
        "start_time": "2022-05-13T15:53:13.721Z"
      },
      {
        "duration": 0,
        "start_time": "2022-05-13T15:53:13.722Z"
      },
      {
        "duration": 0,
        "start_time": "2022-05-13T15:53:13.723Z"
      },
      {
        "duration": 0,
        "start_time": "2022-05-13T15:53:13.724Z"
      },
      {
        "duration": 0,
        "start_time": "2022-05-13T15:53:13.726Z"
      },
      {
        "duration": 0,
        "start_time": "2022-05-13T15:53:13.727Z"
      },
      {
        "duration": 0,
        "start_time": "2022-05-13T15:53:13.728Z"
      },
      {
        "duration": 0,
        "start_time": "2022-05-13T15:53:13.730Z"
      },
      {
        "duration": 0,
        "start_time": "2022-05-13T15:53:13.731Z"
      },
      {
        "duration": 0,
        "start_time": "2022-05-13T15:53:13.732Z"
      },
      {
        "duration": 0,
        "start_time": "2022-05-13T15:53:13.734Z"
      },
      {
        "duration": 0,
        "start_time": "2022-05-13T15:53:13.735Z"
      },
      {
        "duration": 0,
        "start_time": "2022-05-13T15:53:13.736Z"
      },
      {
        "duration": 0,
        "start_time": "2022-05-13T15:53:13.737Z"
      },
      {
        "duration": 0,
        "start_time": "2022-05-13T15:53:13.738Z"
      },
      {
        "duration": 0,
        "start_time": "2022-05-13T15:53:13.739Z"
      },
      {
        "duration": 0,
        "start_time": "2022-05-13T15:53:13.741Z"
      },
      {
        "duration": 0,
        "start_time": "2022-05-13T15:53:13.762Z"
      },
      {
        "duration": 0,
        "start_time": "2022-05-13T15:53:13.763Z"
      },
      {
        "duration": 0,
        "start_time": "2022-05-13T15:53:13.764Z"
      },
      {
        "duration": 0,
        "start_time": "2022-05-13T15:53:13.765Z"
      },
      {
        "duration": 0,
        "start_time": "2022-05-13T15:53:13.765Z"
      },
      {
        "duration": 0,
        "start_time": "2022-05-13T15:53:13.766Z"
      },
      {
        "duration": 4,
        "start_time": "2022-05-13T15:53:39.218Z"
      },
      {
        "duration": 1132,
        "start_time": "2022-05-13T15:53:39.224Z"
      },
      {
        "duration": 210,
        "start_time": "2022-05-13T15:53:40.361Z"
      },
      {
        "duration": 102,
        "start_time": "2022-05-13T15:53:40.575Z"
      },
      {
        "duration": 608,
        "start_time": "2022-05-13T15:53:40.679Z"
      },
      {
        "duration": 934,
        "start_time": "2022-05-13T15:53:41.289Z"
      },
      {
        "duration": 145,
        "start_time": "2022-05-13T15:53:42.226Z"
      },
      {
        "duration": 140,
        "start_time": "2022-05-13T15:53:42.374Z"
      },
      {
        "duration": 24,
        "start_time": "2022-05-13T15:53:42.516Z"
      },
      {
        "duration": 35,
        "start_time": "2022-05-13T15:53:42.542Z"
      },
      {
        "duration": 39,
        "start_time": "2022-05-13T15:53:42.578Z"
      },
      {
        "duration": 379,
        "start_time": "2022-05-13T15:53:42.618Z"
      },
      {
        "duration": 402,
        "start_time": "2022-05-13T15:53:42.999Z"
      },
      {
        "duration": 421,
        "start_time": "2022-05-13T15:53:43.403Z"
      },
      {
        "duration": 11,
        "start_time": "2022-05-13T15:53:43.826Z"
      },
      {
        "duration": 24,
        "start_time": "2022-05-13T15:53:43.839Z"
      },
      {
        "duration": 27,
        "start_time": "2022-05-13T15:53:43.865Z"
      },
      {
        "duration": 223,
        "start_time": "2022-05-13T15:53:43.894Z"
      },
      {
        "duration": 66,
        "start_time": "2022-05-13T15:53:44.119Z"
      },
      {
        "duration": 4,
        "start_time": "2022-05-13T15:53:44.187Z"
      },
      {
        "duration": 6,
        "start_time": "2022-05-13T15:53:44.193Z"
      },
      {
        "duration": 82,
        "start_time": "2022-05-13T15:53:44.201Z"
      },
      {
        "duration": 5,
        "start_time": "2022-05-13T15:53:44.286Z"
      },
      {
        "duration": 1173,
        "start_time": "2022-05-13T15:53:44.294Z"
      },
      {
        "duration": 449,
        "start_time": "2022-05-13T15:53:45.470Z"
      },
      {
        "duration": 5,
        "start_time": "2022-05-13T15:53:45.920Z"
      },
      {
        "duration": 2466,
        "start_time": "2022-05-13T15:55:36.310Z"
      },
      {
        "duration": 1715,
        "start_time": "2022-05-13T15:55:38.779Z"
      },
      {
        "duration": 192,
        "start_time": "2022-05-13T15:55:40.496Z"
      },
      {
        "duration": 107,
        "start_time": "2022-05-13T15:55:40.691Z"
      },
      {
        "duration": 511,
        "start_time": "2022-05-13T15:55:40.800Z"
      },
      {
        "duration": 1047,
        "start_time": "2022-05-13T15:55:41.312Z"
      },
      {
        "duration": 165,
        "start_time": "2022-05-13T15:55:42.364Z"
      },
      {
        "duration": 174,
        "start_time": "2022-05-13T15:55:42.531Z"
      },
      {
        "duration": 33,
        "start_time": "2022-05-13T15:55:42.707Z"
      },
      {
        "duration": 45,
        "start_time": "2022-05-13T15:55:42.744Z"
      },
      {
        "duration": 41,
        "start_time": "2022-05-13T15:55:42.791Z"
      },
      {
        "duration": 554,
        "start_time": "2022-05-13T15:55:42.834Z"
      },
      {
        "duration": 519,
        "start_time": "2022-05-13T15:55:43.390Z"
      },
      {
        "duration": 704,
        "start_time": "2022-05-13T15:55:43.910Z"
      },
      {
        "duration": 20,
        "start_time": "2022-05-13T15:55:44.616Z"
      },
      {
        "duration": 43,
        "start_time": "2022-05-13T15:55:44.637Z"
      },
      {
        "duration": 21,
        "start_time": "2022-05-13T15:55:44.686Z"
      },
      {
        "duration": 288,
        "start_time": "2022-05-13T15:55:44.709Z"
      },
      {
        "duration": 57,
        "start_time": "2022-05-13T15:55:44.999Z"
      },
      {
        "duration": 6,
        "start_time": "2022-05-13T15:55:45.065Z"
      },
      {
        "duration": 17,
        "start_time": "2022-05-13T15:55:45.073Z"
      },
      {
        "duration": 136,
        "start_time": "2022-05-13T15:55:45.093Z"
      },
      {
        "duration": 5,
        "start_time": "2022-05-13T15:55:45.232Z"
      },
      {
        "duration": 810,
        "start_time": "2022-05-13T15:55:45.239Z"
      },
      {
        "duration": 460,
        "start_time": "2022-05-13T15:55:46.051Z"
      },
      {
        "duration": 6,
        "start_time": "2022-05-13T15:55:46.513Z"
      },
      {
        "duration": 9,
        "start_time": "2022-05-13T15:55:46.520Z"
      },
      {
        "duration": 8,
        "start_time": "2022-05-13T15:55:46.533Z"
      },
      {
        "duration": 4,
        "start_time": "2022-05-13T15:55:46.542Z"
      },
      {
        "duration": 16,
        "start_time": "2022-05-13T15:55:46.548Z"
      },
      {
        "duration": 2,
        "start_time": "2022-05-13T15:55:46.568Z"
      },
      {
        "duration": 10,
        "start_time": "2022-05-13T15:55:46.575Z"
      },
      {
        "duration": 10,
        "start_time": "2022-05-13T15:55:46.586Z"
      },
      {
        "duration": 6,
        "start_time": "2022-05-13T15:55:46.598Z"
      },
      {
        "duration": 7,
        "start_time": "2022-05-13T15:55:46.606Z"
      },
      {
        "duration": 5,
        "start_time": "2022-05-13T15:55:46.615Z"
      },
      {
        "duration": 8,
        "start_time": "2022-05-13T15:55:46.621Z"
      },
      {
        "duration": 12,
        "start_time": "2022-05-13T15:55:46.631Z"
      },
      {
        "duration": 8,
        "start_time": "2022-05-13T15:55:46.645Z"
      },
      {
        "duration": 7,
        "start_time": "2022-05-13T15:55:46.654Z"
      },
      {
        "duration": 138,
        "start_time": "2022-05-13T15:55:46.663Z"
      },
      {
        "duration": 0,
        "start_time": "2022-05-13T15:55:46.803Z"
      },
      {
        "duration": 0,
        "start_time": "2022-05-13T15:55:46.804Z"
      },
      {
        "duration": 0,
        "start_time": "2022-05-13T15:55:46.806Z"
      },
      {
        "duration": 0,
        "start_time": "2022-05-13T15:55:46.807Z"
      },
      {
        "duration": 0,
        "start_time": "2022-05-13T15:55:46.808Z"
      },
      {
        "duration": 0,
        "start_time": "2022-05-13T15:55:46.809Z"
      },
      {
        "duration": 0,
        "start_time": "2022-05-13T15:55:46.810Z"
      },
      {
        "duration": 0,
        "start_time": "2022-05-13T15:55:46.811Z"
      },
      {
        "duration": 0,
        "start_time": "2022-05-13T15:55:46.812Z"
      },
      {
        "duration": 0,
        "start_time": "2022-05-13T15:55:46.813Z"
      },
      {
        "duration": 0,
        "start_time": "2022-05-13T15:55:46.814Z"
      },
      {
        "duration": 0,
        "start_time": "2022-05-13T15:55:46.816Z"
      },
      {
        "duration": 0,
        "start_time": "2022-05-13T15:55:46.817Z"
      },
      {
        "duration": 0,
        "start_time": "2022-05-13T15:55:46.818Z"
      },
      {
        "duration": 0,
        "start_time": "2022-05-13T15:55:46.819Z"
      },
      {
        "duration": 0,
        "start_time": "2022-05-13T15:55:46.820Z"
      },
      {
        "duration": 0,
        "start_time": "2022-05-13T15:55:46.821Z"
      },
      {
        "duration": 0,
        "start_time": "2022-05-13T15:55:46.822Z"
      },
      {
        "duration": 0,
        "start_time": "2022-05-13T15:55:46.823Z"
      },
      {
        "duration": 0,
        "start_time": "2022-05-13T15:55:46.824Z"
      },
      {
        "duration": 0,
        "start_time": "2022-05-13T15:55:46.825Z"
      },
      {
        "duration": 0,
        "start_time": "2022-05-13T15:55:46.826Z"
      },
      {
        "duration": 0,
        "start_time": "2022-05-13T15:55:46.827Z"
      },
      {
        "duration": 0,
        "start_time": "2022-05-13T15:55:46.827Z"
      },
      {
        "duration": 0,
        "start_time": "2022-05-13T15:55:46.829Z"
      },
      {
        "duration": 0,
        "start_time": "2022-05-13T15:55:46.830Z"
      },
      {
        "duration": 0,
        "start_time": "2022-05-13T15:55:46.831Z"
      },
      {
        "duration": 0,
        "start_time": "2022-05-13T15:55:46.832Z"
      },
      {
        "duration": 0,
        "start_time": "2022-05-13T15:55:46.833Z"
      },
      {
        "duration": 0,
        "start_time": "2022-05-13T15:55:46.835Z"
      },
      {
        "duration": 0,
        "start_time": "2022-05-13T15:55:46.836Z"
      },
      {
        "duration": 0,
        "start_time": "2022-05-13T15:55:46.837Z"
      },
      {
        "duration": 0,
        "start_time": "2022-05-13T15:55:46.864Z"
      },
      {
        "duration": 1619,
        "start_time": "2022-05-13T15:56:15.121Z"
      },
      {
        "duration": 1206,
        "start_time": "2022-05-13T15:56:16.742Z"
      },
      {
        "duration": 254,
        "start_time": "2022-05-13T15:56:17.950Z"
      },
      {
        "duration": 136,
        "start_time": "2022-05-13T15:56:18.206Z"
      },
      {
        "duration": 636,
        "start_time": "2022-05-13T15:56:18.344Z"
      },
      {
        "duration": 1367,
        "start_time": "2022-05-13T15:56:18.982Z"
      },
      {
        "duration": 241,
        "start_time": "2022-05-13T15:56:20.351Z"
      },
      {
        "duration": 237,
        "start_time": "2022-05-13T15:56:20.594Z"
      },
      {
        "duration": 46,
        "start_time": "2022-05-13T15:56:20.833Z"
      },
      {
        "duration": 21,
        "start_time": "2022-05-13T15:56:20.882Z"
      },
      {
        "duration": 35,
        "start_time": "2022-05-13T15:56:20.905Z"
      },
      {
        "duration": 543,
        "start_time": "2022-05-13T15:56:20.942Z"
      },
      {
        "duration": 543,
        "start_time": "2022-05-13T15:56:21.487Z"
      },
      {
        "duration": 524,
        "start_time": "2022-05-13T15:56:22.032Z"
      },
      {
        "duration": 17,
        "start_time": "2022-05-13T15:56:22.558Z"
      },
      {
        "duration": 31,
        "start_time": "2022-05-13T15:56:22.576Z"
      },
      {
        "duration": 25,
        "start_time": "2022-05-13T15:56:22.609Z"
      },
      {
        "duration": 220,
        "start_time": "2022-05-13T15:56:22.636Z"
      },
      {
        "duration": 55,
        "start_time": "2022-05-13T15:56:22.861Z"
      },
      {
        "duration": 5,
        "start_time": "2022-05-13T15:56:22.918Z"
      },
      {
        "duration": 4,
        "start_time": "2022-05-13T15:56:22.926Z"
      },
      {
        "duration": 132,
        "start_time": "2022-05-13T15:56:22.932Z"
      },
      {
        "duration": 4,
        "start_time": "2022-05-13T15:56:23.070Z"
      },
      {
        "duration": 708,
        "start_time": "2022-05-13T15:56:23.076Z"
      },
      {
        "duration": 460,
        "start_time": "2022-05-13T15:56:23.786Z"
      },
      {
        "duration": 4,
        "start_time": "2022-05-13T15:56:24.248Z"
      },
      {
        "duration": 3,
        "start_time": "2022-05-13T15:56:24.263Z"
      },
      {
        "duration": 10,
        "start_time": "2022-05-13T15:56:24.276Z"
      },
      {
        "duration": 10,
        "start_time": "2022-05-13T15:56:24.291Z"
      },
      {
        "duration": 10,
        "start_time": "2022-05-13T15:56:24.303Z"
      },
      {
        "duration": 7,
        "start_time": "2022-05-13T15:56:24.317Z"
      },
      {
        "duration": 9,
        "start_time": "2022-05-13T15:56:24.326Z"
      },
      {
        "duration": 9,
        "start_time": "2022-05-13T15:56:24.337Z"
      },
      {
        "duration": 7,
        "start_time": "2022-05-13T15:56:24.349Z"
      },
      {
        "duration": 15,
        "start_time": "2022-05-13T15:56:24.359Z"
      },
      {
        "duration": 18,
        "start_time": "2022-05-13T15:56:24.377Z"
      },
      {
        "duration": 5,
        "start_time": "2022-05-13T15:56:24.398Z"
      },
      {
        "duration": 6,
        "start_time": "2022-05-13T15:56:24.406Z"
      },
      {
        "duration": 9,
        "start_time": "2022-05-13T15:56:24.414Z"
      },
      {
        "duration": 29,
        "start_time": "2022-05-13T15:56:24.425Z"
      },
      {
        "duration": 34,
        "start_time": "2022-05-13T15:56:24.456Z"
      },
      {
        "duration": 9,
        "start_time": "2022-05-13T15:56:24.493Z"
      },
      {
        "duration": 7,
        "start_time": "2022-05-13T15:56:24.504Z"
      },
      {
        "duration": 8,
        "start_time": "2022-05-13T15:56:24.513Z"
      },
      {
        "duration": 14,
        "start_time": "2022-05-13T15:56:24.523Z"
      },
      {
        "duration": 37,
        "start_time": "2022-05-13T15:56:24.539Z"
      },
      {
        "duration": 66,
        "start_time": "2022-05-13T15:56:24.580Z"
      },
      {
        "duration": 4,
        "start_time": "2022-05-13T15:56:24.648Z"
      },
      {
        "duration": 242,
        "start_time": "2022-05-13T15:56:24.654Z"
      },
      {
        "duration": 0,
        "start_time": "2022-05-13T15:56:24.898Z"
      },
      {
        "duration": 0,
        "start_time": "2022-05-13T15:56:24.899Z"
      },
      {
        "duration": 0,
        "start_time": "2022-05-13T15:56:24.900Z"
      },
      {
        "duration": 0,
        "start_time": "2022-05-13T15:56:24.901Z"
      },
      {
        "duration": 0,
        "start_time": "2022-05-13T15:56:24.903Z"
      },
      {
        "duration": 0,
        "start_time": "2022-05-13T15:56:24.904Z"
      },
      {
        "duration": 0,
        "start_time": "2022-05-13T15:56:24.905Z"
      },
      {
        "duration": 0,
        "start_time": "2022-05-13T15:56:24.906Z"
      },
      {
        "duration": 0,
        "start_time": "2022-05-13T15:56:24.908Z"
      },
      {
        "duration": 0,
        "start_time": "2022-05-13T15:56:24.909Z"
      },
      {
        "duration": 0,
        "start_time": "2022-05-13T15:56:24.910Z"
      },
      {
        "duration": 0,
        "start_time": "2022-05-13T15:56:24.912Z"
      },
      {
        "duration": 0,
        "start_time": "2022-05-13T15:56:24.913Z"
      },
      {
        "duration": 0,
        "start_time": "2022-05-13T15:56:24.916Z"
      },
      {
        "duration": 0,
        "start_time": "2022-05-13T15:56:24.917Z"
      },
      {
        "duration": 0,
        "start_time": "2022-05-13T15:56:24.919Z"
      },
      {
        "duration": 0,
        "start_time": "2022-05-13T15:56:24.920Z"
      },
      {
        "duration": 0,
        "start_time": "2022-05-13T15:56:24.922Z"
      },
      {
        "duration": 0,
        "start_time": "2022-05-13T15:56:24.924Z"
      },
      {
        "duration": 0,
        "start_time": "2022-05-13T15:56:24.926Z"
      },
      {
        "duration": 0,
        "start_time": "2022-05-13T15:56:24.927Z"
      },
      {
        "duration": 0,
        "start_time": "2022-05-13T15:56:24.929Z"
      },
      {
        "duration": 0,
        "start_time": "2022-05-13T15:56:24.930Z"
      },
      {
        "duration": 0,
        "start_time": "2022-05-13T15:56:24.932Z"
      },
      {
        "duration": 0,
        "start_time": "2022-05-13T15:56:24.933Z"
      },
      {
        "duration": 175,
        "start_time": "2022-05-13T16:01:04.962Z"
      },
      {
        "duration": 10,
        "start_time": "2022-05-13T16:01:07.321Z"
      },
      {
        "duration": 5,
        "start_time": "2022-05-13T16:01:29.051Z"
      },
      {
        "duration": 846,
        "start_time": "2022-05-13T16:01:29.058Z"
      },
      {
        "duration": 135,
        "start_time": "2022-05-13T16:01:29.906Z"
      },
      {
        "duration": 96,
        "start_time": "2022-05-13T16:01:30.043Z"
      },
      {
        "duration": 431,
        "start_time": "2022-05-13T16:01:30.141Z"
      },
      {
        "duration": 924,
        "start_time": "2022-05-13T16:01:30.574Z"
      },
      {
        "duration": 137,
        "start_time": "2022-05-13T16:01:31.499Z"
      },
      {
        "duration": 137,
        "start_time": "2022-05-13T16:01:31.637Z"
      },
      {
        "duration": 23,
        "start_time": "2022-05-13T16:01:31.776Z"
      },
      {
        "duration": 24,
        "start_time": "2022-05-13T16:01:31.801Z"
      },
      {
        "duration": 45,
        "start_time": "2022-05-13T16:01:31.828Z"
      },
      {
        "duration": 451,
        "start_time": "2022-05-13T16:01:31.875Z"
      },
      {
        "duration": 480,
        "start_time": "2022-05-13T16:01:32.328Z"
      },
      {
        "duration": 392,
        "start_time": "2022-05-13T16:01:32.810Z"
      },
      {
        "duration": 18,
        "start_time": "2022-05-13T16:01:33.205Z"
      },
      {
        "duration": 18,
        "start_time": "2022-05-13T16:01:33.225Z"
      },
      {
        "duration": 23,
        "start_time": "2022-05-13T16:01:33.266Z"
      },
      {
        "duration": 188,
        "start_time": "2022-05-13T16:01:33.291Z"
      },
      {
        "duration": 42,
        "start_time": "2022-05-13T16:01:33.481Z"
      },
      {
        "duration": 5,
        "start_time": "2022-05-13T16:01:33.525Z"
      },
      {
        "duration": 6,
        "start_time": "2022-05-13T16:01:33.532Z"
      },
      {
        "duration": 104,
        "start_time": "2022-05-13T16:01:33.540Z"
      },
      {
        "duration": 4,
        "start_time": "2022-05-13T16:01:33.646Z"
      },
      {
        "duration": 11,
        "start_time": "2022-05-13T16:01:33.652Z"
      },
      {
        "duration": 175,
        "start_time": "2022-05-13T16:01:33.666Z"
      },
      {
        "duration": 3,
        "start_time": "2022-05-13T16:01:33.843Z"
      },
      {
        "duration": 95,
        "start_time": "2022-05-13T16:01:33.848Z"
      },
      {
        "duration": 50,
        "start_time": "2022-05-13T16:01:33.945Z"
      },
      {
        "duration": 391,
        "start_time": "2022-05-13T16:01:33.999Z"
      },
      {
        "duration": 4,
        "start_time": "2022-05-13T16:01:34.392Z"
      },
      {
        "duration": 8,
        "start_time": "2022-05-13T16:01:34.397Z"
      },
      {
        "duration": 12,
        "start_time": "2022-05-13T16:01:34.406Z"
      },
      {
        "duration": 4,
        "start_time": "2022-05-13T16:01:34.420Z"
      },
      {
        "duration": 6,
        "start_time": "2022-05-13T16:01:34.426Z"
      },
      {
        "duration": 8,
        "start_time": "2022-05-13T16:01:34.433Z"
      },
      {
        "duration": 6,
        "start_time": "2022-05-13T16:01:34.443Z"
      },
      {
        "duration": 10,
        "start_time": "2022-05-13T16:01:34.465Z"
      },
      {
        "duration": 12,
        "start_time": "2022-05-13T16:01:34.477Z"
      },
      {
        "duration": 5,
        "start_time": "2022-05-13T16:01:34.492Z"
      },
      {
        "duration": 5,
        "start_time": "2022-05-13T16:01:34.499Z"
      },
      {
        "duration": 8,
        "start_time": "2022-05-13T16:01:34.506Z"
      },
      {
        "duration": 7,
        "start_time": "2022-05-13T16:01:34.516Z"
      },
      {
        "duration": 20,
        "start_time": "2022-05-13T16:01:34.525Z"
      },
      {
        "duration": 38,
        "start_time": "2022-05-13T16:01:34.547Z"
      },
      {
        "duration": 5,
        "start_time": "2022-05-13T16:01:34.588Z"
      },
      {
        "duration": 5,
        "start_time": "2022-05-13T16:01:34.595Z"
      },
      {
        "duration": 8,
        "start_time": "2022-05-13T16:01:34.602Z"
      },
      {
        "duration": 4,
        "start_time": "2022-05-13T16:01:34.612Z"
      },
      {
        "duration": 5,
        "start_time": "2022-05-13T16:01:34.618Z"
      },
      {
        "duration": 24,
        "start_time": "2022-05-13T16:01:34.625Z"
      },
      {
        "duration": 75,
        "start_time": "2022-05-13T16:01:34.651Z"
      },
      {
        "duration": 4,
        "start_time": "2022-05-13T16:01:34.728Z"
      },
      {
        "duration": 383,
        "start_time": "2022-05-13T16:01:34.734Z"
      },
      {
        "duration": 4,
        "start_time": "2022-05-13T16:01:35.119Z"
      },
      {
        "duration": 3632,
        "start_time": "2022-05-13T16:01:35.124Z"
      },
      {
        "duration": 3,
        "start_time": "2022-05-13T16:01:38.758Z"
      },
      {
        "duration": 24,
        "start_time": "2022-05-13T16:01:38.763Z"
      },
      {
        "duration": 1560,
        "start_time": "2022-05-13T16:03:35.787Z"
      },
      {
        "duration": 992,
        "start_time": "2022-05-13T16:03:37.349Z"
      },
      {
        "duration": 205,
        "start_time": "2022-05-13T16:03:38.343Z"
      },
      {
        "duration": 143,
        "start_time": "2022-05-13T16:03:38.563Z"
      },
      {
        "duration": 515,
        "start_time": "2022-05-13T16:03:38.708Z"
      },
      {
        "duration": 1184,
        "start_time": "2022-05-13T16:03:39.226Z"
      },
      {
        "duration": 178,
        "start_time": "2022-05-13T16:03:40.412Z"
      },
      {
        "duration": 142,
        "start_time": "2022-05-13T16:03:40.593Z"
      },
      {
        "duration": 56,
        "start_time": "2022-05-13T16:03:40.738Z"
      },
      {
        "duration": 35,
        "start_time": "2022-05-13T16:03:40.799Z"
      },
      {
        "duration": 49,
        "start_time": "2022-05-13T16:03:40.836Z"
      },
      {
        "duration": 684,
        "start_time": "2022-05-13T16:03:40.892Z"
      },
      {
        "duration": 680,
        "start_time": "2022-05-13T16:03:41.578Z"
      },
      {
        "duration": 374,
        "start_time": "2022-05-13T16:03:42.262Z"
      },
      {
        "duration": 12,
        "start_time": "2022-05-13T16:03:42.638Z"
      },
      {
        "duration": 30,
        "start_time": "2022-05-13T16:03:42.652Z"
      },
      {
        "duration": 22,
        "start_time": "2022-05-13T16:03:42.684Z"
      },
      {
        "duration": 225,
        "start_time": "2022-05-13T16:03:42.708Z"
      },
      {
        "duration": 54,
        "start_time": "2022-05-13T16:03:42.935Z"
      },
      {
        "duration": 4,
        "start_time": "2022-05-13T16:03:42.992Z"
      },
      {
        "duration": 13,
        "start_time": "2022-05-13T16:03:42.998Z"
      },
      {
        "duration": 142,
        "start_time": "2022-05-13T16:03:43.013Z"
      },
      {
        "duration": 7,
        "start_time": "2022-05-13T16:03:43.158Z"
      },
      {
        "duration": 36,
        "start_time": "2022-05-13T16:03:43.166Z"
      },
      {
        "duration": 183,
        "start_time": "2022-05-13T16:03:43.204Z"
      },
      {
        "duration": 3,
        "start_time": "2022-05-13T16:03:43.389Z"
      },
      {
        "duration": 99,
        "start_time": "2022-05-13T16:03:43.393Z"
      },
      {
        "duration": 41,
        "start_time": "2022-05-13T16:03:43.498Z"
      },
      {
        "duration": 125,
        "start_time": "2022-05-13T16:03:43.541Z"
      },
      {
        "duration": 0,
        "start_time": "2022-05-13T16:03:43.668Z"
      },
      {
        "duration": 0,
        "start_time": "2022-05-13T16:03:43.669Z"
      },
      {
        "duration": 0,
        "start_time": "2022-05-13T16:03:43.670Z"
      },
      {
        "duration": 0,
        "start_time": "2022-05-13T16:03:43.672Z"
      },
      {
        "duration": 0,
        "start_time": "2022-05-13T16:03:43.673Z"
      },
      {
        "duration": 0,
        "start_time": "2022-05-13T16:03:43.674Z"
      },
      {
        "duration": 0,
        "start_time": "2022-05-13T16:03:43.675Z"
      },
      {
        "duration": 0,
        "start_time": "2022-05-13T16:03:43.677Z"
      },
      {
        "duration": 0,
        "start_time": "2022-05-13T16:03:43.678Z"
      },
      {
        "duration": 0,
        "start_time": "2022-05-13T16:03:43.679Z"
      },
      {
        "duration": 0,
        "start_time": "2022-05-13T16:03:43.681Z"
      },
      {
        "duration": 0,
        "start_time": "2022-05-13T16:03:43.682Z"
      },
      {
        "duration": 0,
        "start_time": "2022-05-13T16:03:43.683Z"
      },
      {
        "duration": 0,
        "start_time": "2022-05-13T16:03:43.684Z"
      },
      {
        "duration": 0,
        "start_time": "2022-05-13T16:03:43.685Z"
      },
      {
        "duration": 0,
        "start_time": "2022-05-13T16:03:43.686Z"
      },
      {
        "duration": 1,
        "start_time": "2022-05-13T16:03:43.687Z"
      },
      {
        "duration": 0,
        "start_time": "2022-05-13T16:03:43.688Z"
      },
      {
        "duration": 0,
        "start_time": "2022-05-13T16:03:43.690Z"
      },
      {
        "duration": 0,
        "start_time": "2022-05-13T16:03:43.690Z"
      },
      {
        "duration": 0,
        "start_time": "2022-05-13T16:03:43.691Z"
      },
      {
        "duration": 0,
        "start_time": "2022-05-13T16:03:43.692Z"
      },
      {
        "duration": 0,
        "start_time": "2022-05-13T16:03:43.693Z"
      },
      {
        "duration": 0,
        "start_time": "2022-05-13T16:03:43.694Z"
      },
      {
        "duration": 0,
        "start_time": "2022-05-13T16:03:43.695Z"
      },
      {
        "duration": 0,
        "start_time": "2022-05-13T16:03:43.696Z"
      },
      {
        "duration": 0,
        "start_time": "2022-05-13T16:03:43.697Z"
      },
      {
        "duration": 0,
        "start_time": "2022-05-13T16:03:43.698Z"
      },
      {
        "duration": 0,
        "start_time": "2022-05-13T16:03:43.700Z"
      },
      {
        "duration": 0,
        "start_time": "2022-05-13T16:03:43.701Z"
      },
      {
        "duration": 0,
        "start_time": "2022-05-13T16:03:43.702Z"
      },
      {
        "duration": 0,
        "start_time": "2022-05-13T16:03:43.703Z"
      },
      {
        "duration": 0,
        "start_time": "2022-05-13T16:03:43.704Z"
      },
      {
        "duration": 1,
        "start_time": "2022-05-13T16:03:43.779Z"
      },
      {
        "duration": 0,
        "start_time": "2022-05-13T16:03:43.784Z"
      },
      {
        "duration": 0,
        "start_time": "2022-05-13T16:03:43.786Z"
      },
      {
        "duration": 0,
        "start_time": "2022-05-13T16:03:43.787Z"
      },
      {
        "duration": 0,
        "start_time": "2022-05-13T16:03:43.790Z"
      },
      {
        "duration": 0,
        "start_time": "2022-05-13T16:03:43.791Z"
      },
      {
        "duration": 0,
        "start_time": "2022-05-13T16:03:43.792Z"
      },
      {
        "duration": 0,
        "start_time": "2022-05-13T16:03:43.793Z"
      },
      {
        "duration": 0,
        "start_time": "2022-05-13T16:03:43.794Z"
      },
      {
        "duration": 0,
        "start_time": "2022-05-13T16:03:43.795Z"
      },
      {
        "duration": 0,
        "start_time": "2022-05-13T16:03:43.796Z"
      },
      {
        "duration": 0,
        "start_time": "2022-05-13T16:03:43.798Z"
      },
      {
        "duration": 0,
        "start_time": "2022-05-13T16:03:43.799Z"
      },
      {
        "duration": 0,
        "start_time": "2022-05-13T16:03:43.800Z"
      },
      {
        "duration": 0,
        "start_time": "2022-05-13T16:03:43.801Z"
      },
      {
        "duration": 0,
        "start_time": "2022-05-13T16:03:43.802Z"
      },
      {
        "duration": 5,
        "start_time": "2022-05-13T16:04:30.467Z"
      },
      {
        "duration": 847,
        "start_time": "2022-05-13T16:04:30.474Z"
      },
      {
        "duration": 153,
        "start_time": "2022-05-13T16:04:31.322Z"
      },
      {
        "duration": 95,
        "start_time": "2022-05-13T16:04:31.478Z"
      },
      {
        "duration": 417,
        "start_time": "2022-05-13T16:04:31.576Z"
      },
      {
        "duration": 986,
        "start_time": "2022-05-13T16:04:31.995Z"
      },
      {
        "duration": 150,
        "start_time": "2022-05-13T16:04:32.983Z"
      },
      {
        "duration": 156,
        "start_time": "2022-05-13T16:04:33.134Z"
      },
      {
        "duration": 30,
        "start_time": "2022-05-13T16:04:33.292Z"
      },
      {
        "duration": 41,
        "start_time": "2022-05-13T16:04:33.326Z"
      },
      {
        "duration": 40,
        "start_time": "2022-05-13T16:04:33.369Z"
      },
      {
        "duration": 457,
        "start_time": "2022-05-13T16:04:33.410Z"
      },
      {
        "duration": 643,
        "start_time": "2022-05-13T16:04:33.869Z"
      },
      {
        "duration": 641,
        "start_time": "2022-05-13T16:04:34.514Z"
      },
      {
        "duration": 18,
        "start_time": "2022-05-13T16:04:35.161Z"
      },
      {
        "duration": 21,
        "start_time": "2022-05-13T16:04:35.181Z"
      },
      {
        "duration": 20,
        "start_time": "2022-05-13T16:04:35.204Z"
      },
      {
        "duration": 185,
        "start_time": "2022-05-13T16:04:35.226Z"
      },
      {
        "duration": 52,
        "start_time": "2022-05-13T16:04:35.413Z"
      },
      {
        "duration": 6,
        "start_time": "2022-05-13T16:04:35.468Z"
      },
      {
        "duration": 16,
        "start_time": "2022-05-13T16:04:35.476Z"
      },
      {
        "duration": 92,
        "start_time": "2022-05-13T16:04:35.494Z"
      },
      {
        "duration": 5,
        "start_time": "2022-05-13T16:04:35.588Z"
      },
      {
        "duration": 5,
        "start_time": "2022-05-13T16:04:35.594Z"
      },
      {
        "duration": 167,
        "start_time": "2022-05-13T16:04:35.600Z"
      },
      {
        "duration": 3,
        "start_time": "2022-05-13T16:04:35.769Z"
      },
      {
        "duration": 87,
        "start_time": "2022-05-13T16:04:35.773Z"
      },
      {
        "duration": 38,
        "start_time": "2022-05-13T16:04:35.864Z"
      },
      {
        "duration": 3,
        "start_time": "2022-05-13T16:04:35.903Z"
      },
      {
        "duration": 6,
        "start_time": "2022-05-13T16:04:35.907Z"
      },
      {
        "duration": 19,
        "start_time": "2022-05-13T16:04:35.915Z"
      },
      {
        "duration": 7,
        "start_time": "2022-05-13T16:04:35.935Z"
      },
      {
        "duration": 9,
        "start_time": "2022-05-13T16:04:35.944Z"
      },
      {
        "duration": 25,
        "start_time": "2022-05-13T16:04:35.954Z"
      },
      {
        "duration": 4,
        "start_time": "2022-05-13T16:04:35.981Z"
      },
      {
        "duration": 8,
        "start_time": "2022-05-13T16:04:35.987Z"
      },
      {
        "duration": 7,
        "start_time": "2022-05-13T16:04:35.996Z"
      },
      {
        "duration": 5,
        "start_time": "2022-05-13T16:04:36.005Z"
      },
      {
        "duration": 6,
        "start_time": "2022-05-13T16:04:36.011Z"
      },
      {
        "duration": 7,
        "start_time": "2022-05-13T16:04:36.018Z"
      },
      {
        "duration": 10,
        "start_time": "2022-05-13T16:04:36.026Z"
      },
      {
        "duration": 4,
        "start_time": "2022-05-13T16:04:36.038Z"
      },
      {
        "duration": 5,
        "start_time": "2022-05-13T16:04:36.044Z"
      },
      {
        "duration": 6,
        "start_time": "2022-05-13T16:04:36.051Z"
      },
      {
        "duration": 8,
        "start_time": "2022-05-13T16:04:36.059Z"
      },
      {
        "duration": 20,
        "start_time": "2022-05-13T16:04:36.069Z"
      },
      {
        "duration": 7,
        "start_time": "2022-05-13T16:04:36.091Z"
      },
      {
        "duration": 5,
        "start_time": "2022-05-13T16:04:36.099Z"
      },
      {
        "duration": 4,
        "start_time": "2022-05-13T16:04:36.106Z"
      },
      {
        "duration": 26,
        "start_time": "2022-05-13T16:04:36.111Z"
      },
      {
        "duration": 73,
        "start_time": "2022-05-13T16:04:36.139Z"
      },
      {
        "duration": 4,
        "start_time": "2022-05-13T16:04:36.214Z"
      },
      {
        "duration": 400,
        "start_time": "2022-05-13T16:04:36.219Z"
      },
      {
        "duration": 2,
        "start_time": "2022-05-13T16:04:36.621Z"
      },
      {
        "duration": 3570,
        "start_time": "2022-05-13T16:04:36.625Z"
      },
      {
        "duration": 67,
        "start_time": "2022-05-13T16:04:40.199Z"
      },
      {
        "duration": 26,
        "start_time": "2022-05-13T16:04:40.268Z"
      },
      {
        "duration": 266700,
        "start_time": "2022-05-13T16:04:40.296Z"
      },
      {
        "duration": 4,
        "start_time": "2022-05-13T16:09:06.998Z"
      },
      {
        "duration": 7,
        "start_time": "2022-05-13T16:09:07.003Z"
      },
      {
        "duration": 2011,
        "start_time": "2022-05-13T16:09:07.012Z"
      },
      {
        "duration": 4,
        "start_time": "2022-05-13T16:09:09.025Z"
      },
      {
        "duration": 14,
        "start_time": "2022-05-13T16:09:09.031Z"
      },
      {
        "duration": 0,
        "start_time": "2022-05-13T16:09:09.047Z"
      },
      {
        "duration": 0,
        "start_time": "2022-05-13T16:09:09.064Z"
      },
      {
        "duration": 0,
        "start_time": "2022-05-13T16:09:09.065Z"
      },
      {
        "duration": 0,
        "start_time": "2022-05-13T16:09:09.066Z"
      },
      {
        "duration": 0,
        "start_time": "2022-05-13T16:09:09.066Z"
      },
      {
        "duration": 0,
        "start_time": "2022-05-13T16:09:09.067Z"
      },
      {
        "duration": 0,
        "start_time": "2022-05-13T16:09:09.069Z"
      },
      {
        "duration": 0,
        "start_time": "2022-05-13T16:09:09.070Z"
      },
      {
        "duration": 0,
        "start_time": "2022-05-13T16:09:09.071Z"
      },
      {
        "duration": 0,
        "start_time": "2022-05-13T16:09:09.072Z"
      },
      {
        "duration": 0,
        "start_time": "2022-05-13T16:09:09.073Z"
      },
      {
        "duration": 0,
        "start_time": "2022-05-13T16:09:09.074Z"
      },
      {
        "duration": 0,
        "start_time": "2022-05-13T16:09:09.075Z"
      },
      {
        "duration": 0,
        "start_time": "2022-05-13T16:09:09.076Z"
      },
      {
        "duration": 0,
        "start_time": "2022-05-13T16:09:09.077Z"
      },
      {
        "duration": 9,
        "start_time": "2022-05-13T16:11:07.987Z"
      },
      {
        "duration": 34,
        "start_time": "2022-05-13T16:11:10.387Z"
      },
      {
        "duration": 4,
        "start_time": "2022-05-13T16:13:16.224Z"
      },
      {
        "duration": 3,
        "start_time": "2022-05-13T16:13:18.087Z"
      },
      {
        "duration": 1028173,
        "start_time": "2022-05-13T16:13:19.691Z"
      },
      {
        "duration": 8,
        "start_time": "2022-05-13T16:30:53.082Z"
      },
      {
        "duration": 5,
        "start_time": "2022-05-13T16:31:09.230Z"
      },
      {
        "duration": 99492,
        "start_time": "2022-05-13T16:31:14.413Z"
      },
      {
        "duration": 4,
        "start_time": "2022-05-13T16:33:06.229Z"
      },
      {
        "duration": 47,
        "start_time": "2022-05-13T16:33:08.805Z"
      },
      {
        "duration": 3,
        "start_time": "2022-05-13T16:34:05.517Z"
      },
      {
        "duration": 34,
        "start_time": "2022-05-13T16:34:08.288Z"
      },
      {
        "duration": 3,
        "start_time": "2022-05-13T16:39:01.220Z"
      },
      {
        "duration": 4,
        "start_time": "2022-05-13T16:39:03.467Z"
      },
      {
        "duration": 31,
        "start_time": "2022-05-13T16:39:05.245Z"
      },
      {
        "duration": 14,
        "start_time": "2022-05-13T16:41:42.682Z"
      },
      {
        "duration": 1082,
        "start_time": "2022-05-13T16:41:42.699Z"
      },
      {
        "duration": 162,
        "start_time": "2022-05-13T16:41:43.782Z"
      },
      {
        "duration": 110,
        "start_time": "2022-05-13T16:41:43.946Z"
      },
      {
        "duration": 511,
        "start_time": "2022-05-13T16:41:44.063Z"
      },
      {
        "duration": 999,
        "start_time": "2022-05-13T16:41:44.579Z"
      },
      {
        "duration": 161,
        "start_time": "2022-05-13T16:41:45.580Z"
      },
      {
        "duration": 153,
        "start_time": "2022-05-13T16:41:45.743Z"
      },
      {
        "duration": 28,
        "start_time": "2022-05-13T16:41:45.898Z"
      },
      {
        "duration": 40,
        "start_time": "2022-05-13T16:41:45.927Z"
      },
      {
        "duration": 42,
        "start_time": "2022-05-13T16:41:45.970Z"
      },
      {
        "duration": 524,
        "start_time": "2022-05-13T16:41:46.014Z"
      },
      {
        "duration": 527,
        "start_time": "2022-05-13T16:41:46.540Z"
      },
      {
        "duration": 435,
        "start_time": "2022-05-13T16:41:47.071Z"
      },
      {
        "duration": 15,
        "start_time": "2022-05-13T16:41:47.508Z"
      },
      {
        "duration": 22,
        "start_time": "2022-05-13T16:41:47.525Z"
      },
      {
        "duration": 34,
        "start_time": "2022-05-13T16:41:47.549Z"
      },
      {
        "duration": 209,
        "start_time": "2022-05-13T16:41:47.585Z"
      },
      {
        "duration": 52,
        "start_time": "2022-05-13T16:41:47.797Z"
      },
      {
        "duration": 5,
        "start_time": "2022-05-13T16:41:47.862Z"
      },
      {
        "duration": 12,
        "start_time": "2022-05-13T16:41:47.869Z"
      },
      {
        "duration": 83,
        "start_time": "2022-05-13T16:41:47.884Z"
      },
      {
        "duration": 6,
        "start_time": "2022-05-13T16:41:47.969Z"
      },
      {
        "duration": 9,
        "start_time": "2022-05-13T16:41:47.978Z"
      },
      {
        "duration": 178,
        "start_time": "2022-05-13T16:41:47.989Z"
      },
      {
        "duration": 3,
        "start_time": "2022-05-13T16:41:48.171Z"
      },
      {
        "duration": 96,
        "start_time": "2022-05-13T16:41:48.176Z"
      },
      {
        "duration": 42,
        "start_time": "2022-05-13T16:41:48.274Z"
      },
      {
        "duration": 2,
        "start_time": "2022-05-13T16:41:48.318Z"
      },
      {
        "duration": 10,
        "start_time": "2022-05-13T16:41:48.321Z"
      },
      {
        "duration": 7,
        "start_time": "2022-05-13T16:41:48.333Z"
      },
      {
        "duration": 4,
        "start_time": "2022-05-13T16:41:48.342Z"
      },
      {
        "duration": 15,
        "start_time": "2022-05-13T16:41:48.347Z"
      },
      {
        "duration": 6,
        "start_time": "2022-05-13T16:41:48.364Z"
      },
      {
        "duration": 21,
        "start_time": "2022-05-13T16:41:48.374Z"
      },
      {
        "duration": 7,
        "start_time": "2022-05-13T16:41:48.396Z"
      },
      {
        "duration": 8,
        "start_time": "2022-05-13T16:41:48.405Z"
      },
      {
        "duration": 9,
        "start_time": "2022-05-13T16:41:48.415Z"
      },
      {
        "duration": 5,
        "start_time": "2022-05-13T16:41:48.426Z"
      },
      {
        "duration": 6,
        "start_time": "2022-05-13T16:41:48.432Z"
      },
      {
        "duration": 4,
        "start_time": "2022-05-13T16:41:48.442Z"
      },
      {
        "duration": 5,
        "start_time": "2022-05-13T16:41:48.448Z"
      },
      {
        "duration": 6,
        "start_time": "2022-05-13T16:41:48.454Z"
      },
      {
        "duration": 21,
        "start_time": "2022-05-13T16:41:48.462Z"
      },
      {
        "duration": 7,
        "start_time": "2022-05-13T16:41:48.485Z"
      },
      {
        "duration": 8,
        "start_time": "2022-05-13T16:41:48.494Z"
      },
      {
        "duration": 8,
        "start_time": "2022-05-13T16:41:48.503Z"
      },
      {
        "duration": 4,
        "start_time": "2022-05-13T16:41:48.513Z"
      },
      {
        "duration": 9,
        "start_time": "2022-05-13T16:41:48.519Z"
      },
      {
        "duration": 23,
        "start_time": "2022-05-13T16:41:48.530Z"
      },
      {
        "duration": 95,
        "start_time": "2022-05-13T16:41:48.555Z"
      },
      {
        "duration": 11,
        "start_time": "2022-05-13T16:41:48.652Z"
      },
      {
        "duration": 398,
        "start_time": "2022-05-13T16:41:48.666Z"
      },
      {
        "duration": 5,
        "start_time": "2022-05-13T16:41:49.066Z"
      },
      {
        "duration": 3513,
        "start_time": "2022-05-13T16:41:49.073Z"
      },
      {
        "duration": 3,
        "start_time": "2022-05-13T16:41:52.589Z"
      },
      {
        "duration": 68,
        "start_time": "2022-05-13T16:41:52.594Z"
      },
      {
        "duration": 1814,
        "start_time": "2022-05-13T16:43:19.656Z"
      },
      {
        "duration": 959,
        "start_time": "2022-05-13T16:43:21.472Z"
      },
      {
        "duration": 185,
        "start_time": "2022-05-13T16:43:22.433Z"
      },
      {
        "duration": 113,
        "start_time": "2022-05-13T16:43:22.621Z"
      },
      {
        "duration": 545,
        "start_time": "2022-05-13T16:43:22.736Z"
      },
      {
        "duration": 1138,
        "start_time": "2022-05-13T16:43:23.283Z"
      },
      {
        "duration": 167,
        "start_time": "2022-05-13T16:43:24.423Z"
      },
      {
        "duration": 158,
        "start_time": "2022-05-13T16:43:24.592Z"
      },
      {
        "duration": 31,
        "start_time": "2022-05-13T16:43:24.751Z"
      },
      {
        "duration": 23,
        "start_time": "2022-05-13T16:43:24.785Z"
      },
      {
        "duration": 57,
        "start_time": "2022-05-13T16:43:24.811Z"
      },
      {
        "duration": 459,
        "start_time": "2022-05-13T16:43:24.869Z"
      },
      {
        "duration": 424,
        "start_time": "2022-05-13T16:43:25.330Z"
      },
      {
        "duration": 443,
        "start_time": "2022-05-13T16:43:25.756Z"
      },
      {
        "duration": 14,
        "start_time": "2022-05-13T16:43:26.203Z"
      },
      {
        "duration": 21,
        "start_time": "2022-05-13T16:43:26.219Z"
      },
      {
        "duration": 39,
        "start_time": "2022-05-13T16:43:26.242Z"
      },
      {
        "duration": 236,
        "start_time": "2022-05-13T16:43:26.283Z"
      },
      {
        "duration": 65,
        "start_time": "2022-05-13T16:43:26.521Z"
      },
      {
        "duration": 4,
        "start_time": "2022-05-13T16:43:26.588Z"
      },
      {
        "duration": 12,
        "start_time": "2022-05-13T16:43:26.594Z"
      },
      {
        "duration": 99,
        "start_time": "2022-05-13T16:43:26.609Z"
      },
      {
        "duration": 5,
        "start_time": "2022-05-13T16:43:26.710Z"
      },
      {
        "duration": 12,
        "start_time": "2022-05-13T16:43:26.716Z"
      },
      {
        "duration": 238,
        "start_time": "2022-05-13T16:43:26.730Z"
      },
      {
        "duration": 7,
        "start_time": "2022-05-13T16:43:26.972Z"
      },
      {
        "duration": 114,
        "start_time": "2022-05-13T16:43:26.982Z"
      },
      {
        "duration": 40,
        "start_time": "2022-05-13T16:43:27.191Z"
      },
      {
        "duration": 2,
        "start_time": "2022-05-13T16:43:27.233Z"
      },
      {
        "duration": 5,
        "start_time": "2022-05-13T16:43:27.237Z"
      },
      {
        "duration": 36,
        "start_time": "2022-05-13T16:43:27.244Z"
      },
      {
        "duration": 5,
        "start_time": "2022-05-13T16:43:27.282Z"
      },
      {
        "duration": 6,
        "start_time": "2022-05-13T16:43:27.289Z"
      },
      {
        "duration": 6,
        "start_time": "2022-05-13T16:43:27.297Z"
      },
      {
        "duration": 9,
        "start_time": "2022-05-13T16:43:27.304Z"
      },
      {
        "duration": 6,
        "start_time": "2022-05-13T16:43:27.315Z"
      },
      {
        "duration": 5,
        "start_time": "2022-05-13T16:43:27.323Z"
      },
      {
        "duration": 6,
        "start_time": "2022-05-13T16:43:27.330Z"
      },
      {
        "duration": 9,
        "start_time": "2022-05-13T16:43:27.338Z"
      },
      {
        "duration": 7,
        "start_time": "2022-05-13T16:43:27.348Z"
      },
      {
        "duration": 20,
        "start_time": "2022-05-13T16:43:27.356Z"
      },
      {
        "duration": 10,
        "start_time": "2022-05-13T16:43:27.377Z"
      },
      {
        "duration": 9,
        "start_time": "2022-05-13T16:43:27.389Z"
      },
      {
        "duration": 5,
        "start_time": "2022-05-13T16:43:27.400Z"
      },
      {
        "duration": 6,
        "start_time": "2022-05-13T16:43:27.407Z"
      },
      {
        "duration": 5,
        "start_time": "2022-05-13T16:43:27.415Z"
      },
      {
        "duration": 8,
        "start_time": "2022-05-13T16:43:27.421Z"
      },
      {
        "duration": 5,
        "start_time": "2022-05-13T16:43:27.431Z"
      },
      {
        "duration": 5,
        "start_time": "2022-05-13T16:43:27.438Z"
      },
      {
        "duration": 29,
        "start_time": "2022-05-13T16:43:27.444Z"
      },
      {
        "duration": 74,
        "start_time": "2022-05-13T16:43:27.476Z"
      },
      {
        "duration": 4,
        "start_time": "2022-05-13T16:43:27.552Z"
      },
      {
        "duration": 400,
        "start_time": "2022-05-13T16:43:27.557Z"
      },
      {
        "duration": 8,
        "start_time": "2022-05-13T16:43:27.961Z"
      },
      {
        "duration": 3816,
        "start_time": "2022-05-13T16:43:27.970Z"
      },
      {
        "duration": 3,
        "start_time": "2022-05-13T16:43:31.789Z"
      },
      {
        "duration": 168,
        "start_time": "2022-05-13T16:43:31.794Z"
      },
      {
        "duration": 25,
        "start_time": "2022-05-13T16:43:31.966Z"
      },
      {
        "duration": 5,
        "start_time": "2022-05-13T16:43:31.993Z"
      },
      {
        "duration": 14,
        "start_time": "2022-05-13T16:43:32.001Z"
      },
      {
        "duration": 12,
        "start_time": "2022-05-13T16:43:32.017Z"
      },
      {
        "duration": 12,
        "start_time": "2022-05-13T16:43:32.031Z"
      },
      {
        "duration": 9,
        "start_time": "2022-05-13T16:43:32.045Z"
      },
      {
        "duration": 22,
        "start_time": "2022-05-13T16:43:32.056Z"
      },
      {
        "duration": 10,
        "start_time": "2022-05-13T16:43:32.080Z"
      },
      {
        "duration": 10,
        "start_time": "2022-05-13T16:43:32.092Z"
      },
      {
        "duration": 8,
        "start_time": "2022-05-13T16:43:32.103Z"
      },
      {
        "duration": 8,
        "start_time": "2022-05-13T16:43:32.113Z"
      },
      {
        "duration": 5,
        "start_time": "2022-05-13T16:43:32.124Z"
      },
      {
        "duration": 4,
        "start_time": "2022-05-13T16:43:32.131Z"
      },
      {
        "duration": 9,
        "start_time": "2022-05-13T16:43:32.137Z"
      },
      {
        "duration": 6,
        "start_time": "2022-05-13T16:43:32.148Z"
      },
      {
        "duration": 5,
        "start_time": "2022-05-13T16:43:32.155Z"
      },
      {
        "duration": 11,
        "start_time": "2022-05-13T16:43:32.164Z"
      },
      {
        "duration": 157,
        "start_time": "2022-05-13T16:43:32.178Z"
      },
      {
        "duration": 0,
        "start_time": "2022-05-13T16:43:32.336Z"
      },
      {
        "duration": 0,
        "start_time": "2022-05-13T16:43:32.338Z"
      },
      {
        "duration": 0,
        "start_time": "2022-05-13T16:43:32.338Z"
      },
      {
        "duration": 23,
        "start_time": "2022-05-13T16:48:20.887Z"
      },
      {
        "duration": 6,
        "start_time": "2022-05-13T16:49:25.578Z"
      },
      {
        "duration": 1030,
        "start_time": "2022-05-13T16:49:25.586Z"
      },
      {
        "duration": 177,
        "start_time": "2022-05-13T16:49:26.618Z"
      },
      {
        "duration": 107,
        "start_time": "2022-05-13T16:49:26.798Z"
      },
      {
        "duration": 509,
        "start_time": "2022-05-13T16:49:26.908Z"
      },
      {
        "duration": 1048,
        "start_time": "2022-05-13T16:49:27.419Z"
      },
      {
        "duration": 170,
        "start_time": "2022-05-13T16:49:28.469Z"
      },
      {
        "duration": 188,
        "start_time": "2022-05-13T16:49:28.640Z"
      },
      {
        "duration": 56,
        "start_time": "2022-05-13T16:49:28.830Z"
      },
      {
        "duration": 37,
        "start_time": "2022-05-13T16:49:28.887Z"
      },
      {
        "duration": 30,
        "start_time": "2022-05-13T16:49:28.927Z"
      },
      {
        "duration": 603,
        "start_time": "2022-05-13T16:49:28.958Z"
      },
      {
        "duration": 471,
        "start_time": "2022-05-13T16:49:29.564Z"
      },
      {
        "duration": 460,
        "start_time": "2022-05-13T16:49:30.037Z"
      },
      {
        "duration": 16,
        "start_time": "2022-05-13T16:49:30.508Z"
      },
      {
        "duration": 30,
        "start_time": "2022-05-13T16:49:30.525Z"
      },
      {
        "duration": 43,
        "start_time": "2022-05-13T16:49:30.556Z"
      },
      {
        "duration": 215,
        "start_time": "2022-05-13T16:49:30.604Z"
      },
      {
        "duration": 63,
        "start_time": "2022-05-13T16:49:30.820Z"
      },
      {
        "duration": 6,
        "start_time": "2022-05-13T16:49:30.885Z"
      },
      {
        "duration": 21,
        "start_time": "2022-05-13T16:49:30.893Z"
      },
      {
        "duration": 105,
        "start_time": "2022-05-13T16:49:30.916Z"
      },
      {
        "duration": 5,
        "start_time": "2022-05-13T16:49:31.023Z"
      },
      {
        "duration": 19,
        "start_time": "2022-05-13T16:49:31.030Z"
      },
      {
        "duration": 188,
        "start_time": "2022-05-13T16:49:31.051Z"
      },
      {
        "duration": 4,
        "start_time": "2022-05-13T16:49:31.241Z"
      },
      {
        "duration": 118,
        "start_time": "2022-05-13T16:49:31.247Z"
      },
      {
        "duration": 56,
        "start_time": "2022-05-13T16:49:31.368Z"
      },
      {
        "duration": 2,
        "start_time": "2022-05-13T16:49:31.430Z"
      },
      {
        "duration": 28,
        "start_time": "2022-05-13T16:49:31.434Z"
      },
      {
        "duration": 33,
        "start_time": "2022-05-13T16:49:31.464Z"
      },
      {
        "duration": 16,
        "start_time": "2022-05-13T16:49:31.499Z"
      },
      {
        "duration": 7,
        "start_time": "2022-05-13T16:49:31.517Z"
      },
      {
        "duration": 22,
        "start_time": "2022-05-13T16:49:31.526Z"
      },
      {
        "duration": 15,
        "start_time": "2022-05-13T16:49:31.550Z"
      },
      {
        "duration": 45,
        "start_time": "2022-05-13T16:49:31.568Z"
      },
      {
        "duration": 7,
        "start_time": "2022-05-13T16:49:31.615Z"
      },
      {
        "duration": 14,
        "start_time": "2022-05-13T16:49:31.624Z"
      },
      {
        "duration": 8,
        "start_time": "2022-05-13T16:49:31.640Z"
      },
      {
        "duration": 6,
        "start_time": "2022-05-13T16:49:31.650Z"
      },
      {
        "duration": 50,
        "start_time": "2022-05-13T16:49:31.658Z"
      },
      {
        "duration": 5,
        "start_time": "2022-05-13T16:49:31.711Z"
      },
      {
        "duration": 10,
        "start_time": "2022-05-13T16:49:31.717Z"
      },
      {
        "duration": 12,
        "start_time": "2022-05-13T16:49:31.728Z"
      },
      {
        "duration": 14,
        "start_time": "2022-05-13T16:49:31.742Z"
      },
      {
        "duration": 48,
        "start_time": "2022-05-13T16:49:31.758Z"
      },
      {
        "duration": 4,
        "start_time": "2022-05-13T16:49:31.809Z"
      },
      {
        "duration": 5,
        "start_time": "2022-05-13T16:49:31.814Z"
      },
      {
        "duration": 4,
        "start_time": "2022-05-13T16:49:31.821Z"
      },
      {
        "duration": 24,
        "start_time": "2022-05-13T16:49:31.827Z"
      },
      {
        "duration": 99,
        "start_time": "2022-05-13T16:49:31.853Z"
      },
      {
        "duration": 4,
        "start_time": "2022-05-13T16:49:31.954Z"
      },
      {
        "duration": 454,
        "start_time": "2022-05-13T16:49:31.959Z"
      },
      {
        "duration": 2,
        "start_time": "2022-05-13T16:49:32.415Z"
      },
      {
        "duration": 2750,
        "start_time": "2022-05-13T16:49:32.419Z"
      },
      {
        "duration": 6,
        "start_time": "2022-05-13T16:49:35.172Z"
      },
      {
        "duration": 33,
        "start_time": "2022-05-13T16:49:35.180Z"
      },
      {
        "duration": 5,
        "start_time": "2022-05-13T16:49:35.216Z"
      },
      {
        "duration": 7,
        "start_time": "2022-05-13T16:49:35.223Z"
      },
      {
        "duration": 74,
        "start_time": "2022-05-13T16:49:35.231Z"
      },
      {
        "duration": 5,
        "start_time": "2022-05-13T16:49:35.307Z"
      },
      {
        "duration": 8,
        "start_time": "2022-05-13T16:49:35.313Z"
      },
      {
        "duration": 4,
        "start_time": "2022-05-13T16:49:35.322Z"
      },
      {
        "duration": 5,
        "start_time": "2022-05-13T16:49:35.328Z"
      },
      {
        "duration": 7,
        "start_time": "2022-05-13T16:49:35.334Z"
      },
      {
        "duration": 6,
        "start_time": "2022-05-13T16:49:35.343Z"
      },
      {
        "duration": 4,
        "start_time": "2022-05-13T16:49:35.351Z"
      },
      {
        "duration": 33,
        "start_time": "2022-05-13T16:49:35.357Z"
      },
      {
        "duration": 24,
        "start_time": "2022-05-13T16:49:35.391Z"
      },
      {
        "duration": 5,
        "start_time": "2022-05-13T16:49:35.417Z"
      },
      {
        "duration": 7,
        "start_time": "2022-05-13T16:49:35.423Z"
      },
      {
        "duration": 7,
        "start_time": "2022-05-13T16:49:35.431Z"
      },
      {
        "duration": 6,
        "start_time": "2022-05-13T16:49:35.440Z"
      },
      {
        "duration": 5,
        "start_time": "2022-05-13T16:49:35.447Z"
      },
      {
        "duration": 48,
        "start_time": "2022-05-13T16:49:35.454Z"
      },
      {
        "duration": 12,
        "start_time": "2022-05-13T16:49:35.505Z"
      },
      {
        "duration": 0,
        "start_time": "2022-05-13T16:49:35.518Z"
      },
      {
        "duration": 0,
        "start_time": "2022-05-13T16:49:35.519Z"
      },
      {
        "duration": 0,
        "start_time": "2022-05-13T16:49:35.520Z"
      },
      {
        "duration": 0,
        "start_time": "2022-05-13T16:49:35.521Z"
      },
      {
        "duration": 0,
        "start_time": "2022-05-13T16:49:35.523Z"
      },
      {
        "duration": 0,
        "start_time": "2022-05-13T16:49:35.524Z"
      },
      {
        "duration": 0,
        "start_time": "2022-05-13T16:49:35.525Z"
      },
      {
        "duration": 0,
        "start_time": "2022-05-13T16:49:35.526Z"
      },
      {
        "duration": 4,
        "start_time": "2022-05-13T16:49:52.925Z"
      },
      {
        "duration": 857,
        "start_time": "2022-05-13T16:49:52.931Z"
      },
      {
        "duration": 145,
        "start_time": "2022-05-13T16:49:53.790Z"
      },
      {
        "duration": 104,
        "start_time": "2022-05-13T16:49:53.936Z"
      },
      {
        "duration": 458,
        "start_time": "2022-05-13T16:49:54.042Z"
      },
      {
        "duration": 911,
        "start_time": "2022-05-13T16:49:54.502Z"
      },
      {
        "duration": 137,
        "start_time": "2022-05-13T16:49:55.415Z"
      },
      {
        "duration": 146,
        "start_time": "2022-05-13T16:49:55.565Z"
      },
      {
        "duration": 24,
        "start_time": "2022-05-13T16:49:55.713Z"
      },
      {
        "duration": 40,
        "start_time": "2022-05-13T16:49:55.739Z"
      },
      {
        "duration": 36,
        "start_time": "2022-05-13T16:49:55.782Z"
      },
      {
        "duration": 394,
        "start_time": "2022-05-13T16:49:55.820Z"
      },
      {
        "duration": 400,
        "start_time": "2022-05-13T16:49:56.216Z"
      },
      {
        "duration": 376,
        "start_time": "2022-05-13T16:49:56.618Z"
      },
      {
        "duration": 11,
        "start_time": "2022-05-13T16:49:56.995Z"
      },
      {
        "duration": 13,
        "start_time": "2022-05-13T16:49:57.008Z"
      },
      {
        "duration": 41,
        "start_time": "2022-05-13T16:49:57.023Z"
      },
      {
        "duration": 175,
        "start_time": "2022-05-13T16:49:57.074Z"
      },
      {
        "duration": 56,
        "start_time": "2022-05-13T16:49:57.251Z"
      },
      {
        "duration": 4,
        "start_time": "2022-05-13T16:49:57.309Z"
      },
      {
        "duration": 6,
        "start_time": "2022-05-13T16:49:57.315Z"
      },
      {
        "duration": 101,
        "start_time": "2022-05-13T16:49:57.322Z"
      },
      {
        "duration": 5,
        "start_time": "2022-05-13T16:49:57.425Z"
      },
      {
        "duration": 4,
        "start_time": "2022-05-13T16:49:57.432Z"
      },
      {
        "duration": 178,
        "start_time": "2022-05-13T16:49:57.438Z"
      },
      {
        "duration": 4,
        "start_time": "2022-05-13T16:49:57.618Z"
      },
      {
        "duration": 105,
        "start_time": "2022-05-13T16:49:57.623Z"
      },
      {
        "duration": 52,
        "start_time": "2022-05-13T16:49:57.730Z"
      },
      {
        "duration": 3,
        "start_time": "2022-05-13T16:49:57.786Z"
      },
      {
        "duration": 11,
        "start_time": "2022-05-13T16:49:57.791Z"
      },
      {
        "duration": 5,
        "start_time": "2022-05-13T16:49:57.803Z"
      },
      {
        "duration": 7,
        "start_time": "2022-05-13T16:49:57.809Z"
      },
      {
        "duration": 4,
        "start_time": "2022-05-13T16:49:57.818Z"
      },
      {
        "duration": 4,
        "start_time": "2022-05-13T16:49:57.824Z"
      },
      {
        "duration": 5,
        "start_time": "2022-05-13T16:49:57.829Z"
      },
      {
        "duration": 5,
        "start_time": "2022-05-13T16:49:57.835Z"
      },
      {
        "duration": 4,
        "start_time": "2022-05-13T16:49:57.841Z"
      },
      {
        "duration": 5,
        "start_time": "2022-05-13T16:49:57.847Z"
      },
      {
        "duration": 22,
        "start_time": "2022-05-13T16:49:57.867Z"
      },
      {
        "duration": 10,
        "start_time": "2022-05-13T16:49:57.890Z"
      },
      {
        "duration": 8,
        "start_time": "2022-05-13T16:49:57.901Z"
      },
      {
        "duration": 3,
        "start_time": "2022-05-13T16:49:57.911Z"
      },
      {
        "duration": 4,
        "start_time": "2022-05-13T16:49:57.916Z"
      },
      {
        "duration": 4,
        "start_time": "2022-05-13T16:49:57.921Z"
      },
      {
        "duration": 6,
        "start_time": "2022-05-13T16:49:57.927Z"
      },
      {
        "duration": 5,
        "start_time": "2022-05-13T16:49:57.934Z"
      },
      {
        "duration": 7,
        "start_time": "2022-05-13T16:49:57.940Z"
      },
      {
        "duration": 5,
        "start_time": "2022-05-13T16:49:57.948Z"
      },
      {
        "duration": 5,
        "start_time": "2022-05-13T16:49:57.954Z"
      },
      {
        "duration": 45,
        "start_time": "2022-05-13T16:49:57.960Z"
      },
      {
        "duration": 76,
        "start_time": "2022-05-13T16:49:58.007Z"
      },
      {
        "duration": 5,
        "start_time": "2022-05-13T16:49:58.085Z"
      },
      {
        "duration": 395,
        "start_time": "2022-05-13T16:49:58.091Z"
      },
      {
        "duration": 8,
        "start_time": "2022-05-13T16:49:58.488Z"
      },
      {
        "duration": 3700,
        "start_time": "2022-05-13T16:49:58.499Z"
      },
      {
        "duration": 68,
        "start_time": "2022-05-13T16:50:02.201Z"
      },
      {
        "duration": 88,
        "start_time": "2022-05-13T16:50:02.279Z"
      },
      {
        "duration": 23,
        "start_time": "2022-05-13T16:50:02.375Z"
      },
      {
        "duration": 8,
        "start_time": "2022-05-13T16:50:02.400Z"
      },
      {
        "duration": 15,
        "start_time": "2022-05-13T16:50:02.409Z"
      },
      {
        "duration": 6,
        "start_time": "2022-05-13T16:50:02.426Z"
      },
      {
        "duration": 17,
        "start_time": "2022-05-13T16:50:02.434Z"
      },
      {
        "duration": 17,
        "start_time": "2022-05-13T16:50:02.453Z"
      },
      {
        "duration": 29,
        "start_time": "2022-05-13T16:50:02.471Z"
      },
      {
        "duration": 12,
        "start_time": "2022-05-13T16:50:02.503Z"
      },
      {
        "duration": 6,
        "start_time": "2022-05-13T16:50:02.517Z"
      },
      {
        "duration": 7,
        "start_time": "2022-05-13T16:50:02.524Z"
      },
      {
        "duration": 7,
        "start_time": "2022-05-13T16:50:02.532Z"
      },
      {
        "duration": 16,
        "start_time": "2022-05-13T16:50:02.540Z"
      },
      {
        "duration": 7,
        "start_time": "2022-05-13T16:50:02.558Z"
      },
      {
        "duration": 31,
        "start_time": "2022-05-13T16:50:02.567Z"
      },
      {
        "duration": 4,
        "start_time": "2022-05-13T16:50:02.600Z"
      },
      {
        "duration": 6,
        "start_time": "2022-05-13T16:50:02.606Z"
      },
      {
        "duration": 6,
        "start_time": "2022-05-13T16:50:02.614Z"
      },
      {
        "duration": 6,
        "start_time": "2022-05-13T16:50:02.622Z"
      },
      {
        "duration": 5,
        "start_time": "2022-05-13T16:50:02.629Z"
      },
      {
        "duration": 9,
        "start_time": "2022-05-13T16:50:02.635Z"
      },
      {
        "duration": 6,
        "start_time": "2022-05-13T16:50:02.646Z"
      },
      {
        "duration": 21,
        "start_time": "2022-05-13T16:50:02.654Z"
      },
      {
        "duration": 0,
        "start_time": "2022-05-13T16:50:02.676Z"
      },
      {
        "duration": 0,
        "start_time": "2022-05-13T16:50:02.677Z"
      },
      {
        "duration": 0,
        "start_time": "2022-05-13T16:50:02.678Z"
      },
      {
        "duration": 0,
        "start_time": "2022-05-13T16:50:02.679Z"
      },
      {
        "duration": 0,
        "start_time": "2022-05-13T16:50:02.685Z"
      },
      {
        "duration": 5,
        "start_time": "2022-05-13T16:51:48.325Z"
      },
      {
        "duration": 891,
        "start_time": "2022-05-13T16:51:48.333Z"
      },
      {
        "duration": 156,
        "start_time": "2022-05-13T16:51:49.226Z"
      },
      {
        "duration": 120,
        "start_time": "2022-05-13T16:51:49.386Z"
      },
      {
        "duration": 561,
        "start_time": "2022-05-13T16:51:49.510Z"
      },
      {
        "duration": 1028,
        "start_time": "2022-05-13T16:51:50.073Z"
      },
      {
        "duration": 167,
        "start_time": "2022-05-13T16:51:51.108Z"
      },
      {
        "duration": 193,
        "start_time": "2022-05-13T16:51:51.277Z"
      },
      {
        "duration": 51,
        "start_time": "2022-05-13T16:51:51.476Z"
      },
      {
        "duration": 20,
        "start_time": "2022-05-13T16:51:51.529Z"
      },
      {
        "duration": 53,
        "start_time": "2022-05-13T16:51:51.552Z"
      },
      {
        "duration": 419,
        "start_time": "2022-05-13T16:51:51.606Z"
      },
      {
        "duration": 419,
        "start_time": "2022-05-13T16:51:52.028Z"
      },
      {
        "duration": 409,
        "start_time": "2022-05-13T16:51:52.449Z"
      },
      {
        "duration": 26,
        "start_time": "2022-05-13T16:51:52.862Z"
      },
      {
        "duration": 35,
        "start_time": "2022-05-13T16:51:52.889Z"
      },
      {
        "duration": 19,
        "start_time": "2022-05-13T16:51:52.925Z"
      },
      {
        "duration": 185,
        "start_time": "2022-05-13T16:51:52.946Z"
      },
      {
        "duration": 73,
        "start_time": "2022-05-13T16:51:53.133Z"
      },
      {
        "duration": 4,
        "start_time": "2022-05-13T16:51:53.208Z"
      },
      {
        "duration": 4,
        "start_time": "2022-05-13T16:51:53.214Z"
      },
      {
        "duration": 100,
        "start_time": "2022-05-13T16:51:53.220Z"
      },
      {
        "duration": 4,
        "start_time": "2022-05-13T16:51:53.322Z"
      },
      {
        "duration": 4,
        "start_time": "2022-05-13T16:51:53.327Z"
      },
      {
        "duration": 176,
        "start_time": "2022-05-13T16:51:53.333Z"
      },
      {
        "duration": 2,
        "start_time": "2022-05-13T16:51:53.511Z"
      },
      {
        "duration": 106,
        "start_time": "2022-05-13T16:51:53.515Z"
      },
      {
        "duration": 31,
        "start_time": "2022-05-13T16:51:53.623Z"
      },
      {
        "duration": 10,
        "start_time": "2022-05-13T16:51:53.662Z"
      },
      {
        "duration": 5,
        "start_time": "2022-05-13T16:51:53.674Z"
      },
      {
        "duration": 30,
        "start_time": "2022-05-13T16:51:53.680Z"
      },
      {
        "duration": 5,
        "start_time": "2022-05-13T16:51:53.711Z"
      },
      {
        "duration": 5,
        "start_time": "2022-05-13T16:51:53.717Z"
      },
      {
        "duration": 5,
        "start_time": "2022-05-13T16:51:53.723Z"
      },
      {
        "duration": 4,
        "start_time": "2022-05-13T16:51:53.730Z"
      },
      {
        "duration": 5,
        "start_time": "2022-05-13T16:51:53.735Z"
      },
      {
        "duration": 4,
        "start_time": "2022-05-13T16:51:53.741Z"
      },
      {
        "duration": 4,
        "start_time": "2022-05-13T16:51:53.747Z"
      },
      {
        "duration": 5,
        "start_time": "2022-05-13T16:51:53.752Z"
      },
      {
        "duration": 46,
        "start_time": "2022-05-13T16:51:53.759Z"
      },
      {
        "duration": 5,
        "start_time": "2022-05-13T16:51:53.807Z"
      },
      {
        "duration": 8,
        "start_time": "2022-05-13T16:51:53.814Z"
      },
      {
        "duration": 4,
        "start_time": "2022-05-13T16:51:53.824Z"
      },
      {
        "duration": 4,
        "start_time": "2022-05-13T16:51:53.830Z"
      },
      {
        "duration": 4,
        "start_time": "2022-05-13T16:51:53.836Z"
      },
      {
        "duration": 5,
        "start_time": "2022-05-13T16:51:53.841Z"
      },
      {
        "duration": 7,
        "start_time": "2022-05-13T16:51:53.847Z"
      },
      {
        "duration": 4,
        "start_time": "2022-05-13T16:51:53.855Z"
      },
      {
        "duration": 48,
        "start_time": "2022-05-13T16:51:53.861Z"
      },
      {
        "duration": 22,
        "start_time": "2022-05-13T16:51:53.910Z"
      },
      {
        "duration": 84,
        "start_time": "2022-05-13T16:51:53.934Z"
      },
      {
        "duration": 3,
        "start_time": "2022-05-13T16:51:54.020Z"
      },
      {
        "duration": 396,
        "start_time": "2022-05-13T16:51:54.026Z"
      },
      {
        "duration": 3,
        "start_time": "2022-05-13T16:51:54.424Z"
      },
      {
        "duration": 3844,
        "start_time": "2022-05-13T16:51:54.428Z"
      },
      {
        "duration": 8,
        "start_time": "2022-05-13T16:51:58.277Z"
      },
      {
        "duration": 78,
        "start_time": "2022-05-13T16:51:58.292Z"
      },
      {
        "duration": 38,
        "start_time": "2022-05-13T16:51:58.375Z"
      },
      {
        "duration": 6,
        "start_time": "2022-05-13T16:51:58.415Z"
      },
      {
        "duration": 6,
        "start_time": "2022-05-13T16:51:58.422Z"
      },
      {
        "duration": 11,
        "start_time": "2022-05-13T16:51:58.429Z"
      },
      {
        "duration": 5,
        "start_time": "2022-05-13T16:51:58.441Z"
      },
      {
        "duration": 4,
        "start_time": "2022-05-13T16:51:58.448Z"
      },
      {
        "duration": 5,
        "start_time": "2022-05-13T16:51:58.453Z"
      },
      {
        "duration": 29,
        "start_time": "2022-05-13T16:51:58.477Z"
      },
      {
        "duration": 4,
        "start_time": "2022-05-13T16:51:58.508Z"
      },
      {
        "duration": 4,
        "start_time": "2022-05-13T16:51:58.514Z"
      },
      {
        "duration": 4,
        "start_time": "2022-05-13T16:51:58.520Z"
      },
      {
        "duration": 7,
        "start_time": "2022-05-13T16:51:58.526Z"
      },
      {
        "duration": 6,
        "start_time": "2022-05-13T16:51:58.534Z"
      },
      {
        "duration": 5,
        "start_time": "2022-05-13T16:51:58.542Z"
      },
      {
        "duration": 5,
        "start_time": "2022-05-13T16:51:58.549Z"
      },
      {
        "duration": 17,
        "start_time": "2022-05-13T16:51:58.556Z"
      },
      {
        "duration": 34,
        "start_time": "2022-05-13T16:51:58.574Z"
      },
      {
        "duration": 4,
        "start_time": "2022-05-13T16:51:58.610Z"
      },
      {
        "duration": 4,
        "start_time": "2022-05-13T16:51:58.616Z"
      },
      {
        "duration": 4,
        "start_time": "2022-05-13T16:51:58.622Z"
      },
      {
        "duration": 6,
        "start_time": "2022-05-13T16:51:58.628Z"
      },
      {
        "duration": 12,
        "start_time": "2022-05-13T16:51:58.635Z"
      },
      {
        "duration": 0,
        "start_time": "2022-05-13T16:51:58.649Z"
      },
      {
        "duration": 0,
        "start_time": "2022-05-13T16:51:58.650Z"
      },
      {
        "duration": 0,
        "start_time": "2022-05-13T16:51:58.651Z"
      },
      {
        "duration": 0,
        "start_time": "2022-05-13T16:51:58.652Z"
      },
      {
        "duration": 103,
        "start_time": "2022-05-13T16:52:10.981Z"
      },
      {
        "duration": 114889,
        "start_time": "2022-05-13T16:52:13.913Z"
      },
      {
        "duration": 5,
        "start_time": "2022-05-13T16:55:15.901Z"
      },
      {
        "duration": 3,
        "start_time": "2022-05-13T16:55:18.858Z"
      },
      {
        "duration": 169,
        "start_time": "2022-05-13T16:55:21.286Z"
      },
      {
        "duration": 3,
        "start_time": "2022-05-13T16:56:28.808Z"
      },
      {
        "duration": 3,
        "start_time": "2022-05-13T16:56:30.592Z"
      },
      {
        "duration": 188,
        "start_time": "2022-05-13T16:56:32.265Z"
      },
      {
        "duration": 5,
        "start_time": "2022-05-13T17:03:29.109Z"
      },
      {
        "duration": 983,
        "start_time": "2022-05-13T17:03:29.116Z"
      },
      {
        "duration": 232,
        "start_time": "2022-05-13T17:03:30.102Z"
      },
      {
        "duration": 111,
        "start_time": "2022-05-13T17:03:30.336Z"
      },
      {
        "duration": 653,
        "start_time": "2022-05-13T17:03:30.449Z"
      },
      {
        "duration": 1228,
        "start_time": "2022-05-13T17:03:31.103Z"
      },
      {
        "duration": 167,
        "start_time": "2022-05-13T17:03:32.334Z"
      },
      {
        "duration": 165,
        "start_time": "2022-05-13T17:03:32.503Z"
      },
      {
        "duration": 32,
        "start_time": "2022-05-13T17:03:32.670Z"
      },
      {
        "duration": 25,
        "start_time": "2022-05-13T17:03:32.705Z"
      },
      {
        "duration": 55,
        "start_time": "2022-05-13T17:03:32.733Z"
      },
      {
        "duration": 532,
        "start_time": "2022-05-13T17:03:32.790Z"
      },
      {
        "duration": 442,
        "start_time": "2022-05-13T17:03:33.324Z"
      },
      {
        "duration": 471,
        "start_time": "2022-05-13T17:03:33.771Z"
      },
      {
        "duration": 12,
        "start_time": "2022-05-13T17:03:34.243Z"
      },
      {
        "duration": 26,
        "start_time": "2022-05-13T17:03:34.267Z"
      },
      {
        "duration": 41,
        "start_time": "2022-05-13T17:03:34.295Z"
      },
      {
        "duration": 202,
        "start_time": "2022-05-13T17:03:34.338Z"
      },
      {
        "duration": 65,
        "start_time": "2022-05-13T17:03:34.542Z"
      },
      {
        "duration": 4,
        "start_time": "2022-05-13T17:03:34.610Z"
      },
      {
        "duration": 25,
        "start_time": "2022-05-13T17:03:34.616Z"
      },
      {
        "duration": 724,
        "start_time": "2022-05-13T17:03:34.643Z"
      },
      {
        "duration": 167,
        "start_time": "2022-05-13T17:03:35.369Z"
      },
      {
        "duration": 12,
        "start_time": "2022-05-13T17:03:35.539Z"
      },
      {
        "duration": 0,
        "start_time": "2022-05-13T17:03:35.554Z"
      },
      {
        "duration": 0,
        "start_time": "2022-05-13T17:03:35.565Z"
      },
      {
        "duration": 0,
        "start_time": "2022-05-13T17:03:35.571Z"
      },
      {
        "duration": 0,
        "start_time": "2022-05-13T17:03:35.572Z"
      },
      {
        "duration": 0,
        "start_time": "2022-05-13T17:03:35.574Z"
      },
      {
        "duration": 0,
        "start_time": "2022-05-13T17:03:35.577Z"
      },
      {
        "duration": 0,
        "start_time": "2022-05-13T17:03:35.578Z"
      },
      {
        "duration": 0,
        "start_time": "2022-05-13T17:03:35.579Z"
      },
      {
        "duration": 0,
        "start_time": "2022-05-13T17:03:35.580Z"
      },
      {
        "duration": 0,
        "start_time": "2022-05-13T17:03:35.580Z"
      },
      {
        "duration": 0,
        "start_time": "2022-05-13T17:03:35.581Z"
      },
      {
        "duration": 0,
        "start_time": "2022-05-13T17:03:35.582Z"
      },
      {
        "duration": 0,
        "start_time": "2022-05-13T17:03:35.583Z"
      },
      {
        "duration": 5,
        "start_time": "2022-05-13T17:04:12.238Z"
      },
      {
        "duration": 950,
        "start_time": "2022-05-13T17:04:12.245Z"
      },
      {
        "duration": 211,
        "start_time": "2022-05-13T17:04:13.197Z"
      },
      {
        "duration": 104,
        "start_time": "2022-05-13T17:04:13.410Z"
      },
      {
        "duration": 615,
        "start_time": "2022-05-13T17:04:13.515Z"
      },
      {
        "duration": 1093,
        "start_time": "2022-05-13T17:04:14.133Z"
      },
      {
        "duration": 182,
        "start_time": "2022-05-13T17:04:15.228Z"
      },
      {
        "duration": 192,
        "start_time": "2022-05-13T17:04:15.412Z"
      },
      {
        "duration": 38,
        "start_time": "2022-05-13T17:04:15.607Z"
      },
      {
        "duration": 43,
        "start_time": "2022-05-13T17:04:15.647Z"
      },
      {
        "duration": 54,
        "start_time": "2022-05-13T17:04:15.692Z"
      },
      {
        "duration": 485,
        "start_time": "2022-05-13T17:04:15.748Z"
      },
      {
        "duration": 512,
        "start_time": "2022-05-13T17:04:16.235Z"
      },
      {
        "duration": 527,
        "start_time": "2022-05-13T17:04:16.750Z"
      },
      {
        "duration": 23,
        "start_time": "2022-05-13T17:04:17.286Z"
      },
      {
        "duration": 19,
        "start_time": "2022-05-13T17:04:17.316Z"
      },
      {
        "duration": 21,
        "start_time": "2022-05-13T17:04:17.337Z"
      },
      {
        "duration": 229,
        "start_time": "2022-05-13T17:04:17.359Z"
      },
      {
        "duration": 54,
        "start_time": "2022-05-13T17:04:17.590Z"
      },
      {
        "duration": 5,
        "start_time": "2022-05-13T17:04:17.647Z"
      },
      {
        "duration": 17,
        "start_time": "2022-05-13T17:04:17.653Z"
      },
      {
        "duration": 756,
        "start_time": "2022-05-13T17:04:17.672Z"
      },
      {
        "duration": 173,
        "start_time": "2022-05-13T17:04:18.430Z"
      },
      {
        "duration": 191,
        "start_time": "2022-05-13T17:04:18.607Z"
      },
      {
        "duration": 6,
        "start_time": "2022-05-13T17:04:18.801Z"
      },
      {
        "duration": 323,
        "start_time": "2022-05-13T17:04:18.809Z"
      },
      {
        "duration": 51,
        "start_time": "2022-05-13T17:04:19.134Z"
      },
      {
        "duration": 6,
        "start_time": "2022-05-13T17:04:19.188Z"
      },
      {
        "duration": 11,
        "start_time": "2022-05-13T17:04:19.196Z"
      },
      {
        "duration": 92767,
        "start_time": "2022-05-13T17:04:19.209Z"
      },
      {
        "duration": 300,
        "start_time": "2022-05-13T17:05:51.978Z"
      },
      {
        "duration": 10,
        "start_time": "2022-05-13T17:05:52.282Z"
      },
      {
        "duration": 39,
        "start_time": "2022-05-13T17:05:52.361Z"
      },
      {
        "duration": 8,
        "start_time": "2022-05-13T17:05:52.402Z"
      },
      {
        "duration": 307987,
        "start_time": "2022-05-13T17:05:52.413Z"
      },
      {
        "duration": 796,
        "start_time": "2022-05-13T17:11:00.403Z"
      },
      {
        "duration": 7,
        "start_time": "2022-05-13T17:11:01.203Z"
      },
      {
        "duration": 1834,
        "start_time": "2022-05-14T10:29:41.695Z"
      },
      {
        "duration": 946,
        "start_time": "2022-05-14T10:29:43.531Z"
      },
      {
        "duration": 147,
        "start_time": "2022-05-14T10:29:44.478Z"
      },
      {
        "duration": 123,
        "start_time": "2022-05-14T10:29:44.634Z"
      },
      {
        "duration": 529,
        "start_time": "2022-05-14T10:29:44.758Z"
      },
      {
        "duration": 1086,
        "start_time": "2022-05-14T10:29:45.289Z"
      },
      {
        "duration": 158,
        "start_time": "2022-05-14T10:29:46.377Z"
      },
      {
        "duration": 157,
        "start_time": "2022-05-14T10:29:46.537Z"
      },
      {
        "duration": 39,
        "start_time": "2022-05-14T10:29:46.695Z"
      },
      {
        "duration": 28,
        "start_time": "2022-05-14T10:29:46.739Z"
      },
      {
        "duration": 31,
        "start_time": "2022-05-14T10:29:46.769Z"
      },
      {
        "duration": 466,
        "start_time": "2022-05-14T10:29:46.802Z"
      },
      {
        "duration": 429,
        "start_time": "2022-05-14T10:29:47.270Z"
      },
      {
        "duration": 422,
        "start_time": "2022-05-14T10:29:47.700Z"
      },
      {
        "duration": 21,
        "start_time": "2022-05-14T10:29:48.123Z"
      },
      {
        "duration": 25,
        "start_time": "2022-05-14T10:29:48.147Z"
      },
      {
        "duration": 21,
        "start_time": "2022-05-14T10:29:48.174Z"
      },
      {
        "duration": 266,
        "start_time": "2022-05-14T10:29:48.197Z"
      },
      {
        "duration": 43,
        "start_time": "2022-05-14T10:29:48.465Z"
      },
      {
        "duration": 4,
        "start_time": "2022-05-14T10:29:48.510Z"
      },
      {
        "duration": 7,
        "start_time": "2022-05-14T10:29:48.515Z"
      },
      {
        "duration": 833,
        "start_time": "2022-05-14T10:29:48.535Z"
      },
      {
        "duration": 200,
        "start_time": "2022-05-14T10:29:49.370Z"
      },
      {
        "duration": 156,
        "start_time": "2022-05-14T10:29:49.572Z"
      },
      {
        "duration": 7,
        "start_time": "2022-05-14T10:29:49.729Z"
      },
      {
        "duration": 323,
        "start_time": "2022-05-14T10:29:49.738Z"
      },
      {
        "duration": 116,
        "start_time": "2022-05-14T10:29:50.063Z"
      },
      {
        "duration": 2,
        "start_time": "2022-05-14T10:29:50.183Z"
      },
      {
        "duration": 10,
        "start_time": "2022-05-14T10:29:50.187Z"
      },
      {
        "duration": 24948,
        "start_time": "2022-05-14T10:29:50.199Z"
      },
      {
        "duration": 309,
        "start_time": "2022-05-14T10:30:15.150Z"
      },
      {
        "duration": 9,
        "start_time": "2022-05-14T10:30:15.540Z"
      },
      {
        "duration": 7,
        "start_time": "2022-05-14T10:30:15.556Z"
      },
      {
        "duration": 374779,
        "start_time": "2022-05-14T10:30:15.568Z"
      },
      {
        "duration": 1084,
        "start_time": "2022-05-14T10:36:30.351Z"
      },
      {
        "duration": 6,
        "start_time": "2022-05-14T10:36:31.438Z"
      },
      {
        "duration": 3,
        "start_time": "2022-05-14T10:39:40.560Z"
      },
      {
        "duration": 3,
        "start_time": "2022-05-14T10:39:44.349Z"
      },
      {
        "duration": 3,
        "start_time": "2022-05-14T10:39:55.656Z"
      },
      {
        "duration": 343,
        "start_time": "2022-05-14T10:39:59.118Z"
      },
      {
        "duration": 3,
        "start_time": "2022-05-14T10:40:44.903Z"
      },
      {
        "duration": 3,
        "start_time": "2022-05-14T10:40:47.778Z"
      },
      {
        "duration": 203984,
        "start_time": "2022-05-14T10:40:50.063Z"
      },
      {
        "duration": 798,
        "start_time": "2022-05-14T10:44:14.051Z"
      },
      {
        "duration": 6,
        "start_time": "2022-05-14T10:44:14.851Z"
      },
      {
        "duration": 5,
        "start_time": "2022-05-14T10:44:30.935Z"
      },
      {
        "duration": 3,
        "start_time": "2022-05-14T10:44:34.049Z"
      },
      {
        "duration": 365608,
        "start_time": "2022-05-14T10:44:37.250Z"
      },
      {
        "duration": 986,
        "start_time": "2022-05-14T10:50:42.860Z"
      },
      {
        "duration": 7,
        "start_time": "2022-05-14T10:50:43.849Z"
      },
      {
        "duration": 3,
        "start_time": "2022-05-14T10:50:55.080Z"
      },
      {
        "duration": 3,
        "start_time": "2022-05-14T10:50:56.873Z"
      },
      {
        "duration": 598673,
        "start_time": "2022-05-14T10:50:58.192Z"
      },
      {
        "duration": 1037,
        "start_time": "2022-05-14T11:00:56.935Z"
      },
      {
        "duration": 5,
        "start_time": "2022-05-14T11:00:57.974Z"
      },
      {
        "duration": 20,
        "start_time": "2022-05-14T11:05:13.337Z"
      },
      {
        "duration": 9,
        "start_time": "2022-05-14T11:05:23.474Z"
      },
      {
        "duration": 5,
        "start_time": "2022-05-14T11:05:27.062Z"
      },
      {
        "duration": 317,
        "start_time": "2022-05-14T11:05:29.046Z"
      },
      {
        "duration": 35,
        "start_time": "2022-05-14T11:05:30.792Z"
      },
      {
        "duration": 3,
        "start_time": "2022-05-14T11:05:34.270Z"
      },
      {
        "duration": 3,
        "start_time": "2022-05-14T11:05:37.730Z"
      },
      {
        "duration": 23283,
        "start_time": "2022-05-14T11:05:40.862Z"
      },
      {
        "duration": 388,
        "start_time": "2022-05-14T11:06:04.147Z"
      },
      {
        "duration": 4,
        "start_time": "2022-05-14T11:06:04.537Z"
      },
      {
        "duration": 107,
        "start_time": "2022-05-14T11:06:04.544Z"
      },
      {
        "duration": 6700,
        "start_time": "2022-05-14T11:06:04.653Z"
      },
      {
        "duration": 881,
        "start_time": "2022-05-14T11:06:11.356Z"
      },
      {
        "duration": 7,
        "start_time": "2022-05-14T11:06:12.239Z"
      },
      {
        "duration": 4,
        "start_time": "2022-05-14T11:06:36.786Z"
      },
      {
        "duration": 900,
        "start_time": "2022-05-14T11:06:36.795Z"
      },
      {
        "duration": 160,
        "start_time": "2022-05-14T11:06:37.697Z"
      },
      {
        "duration": 118,
        "start_time": "2022-05-14T11:06:37.860Z"
      },
      {
        "duration": 449,
        "start_time": "2022-05-14T11:06:37.980Z"
      },
      {
        "duration": 951,
        "start_time": "2022-05-14T11:06:38.431Z"
      },
      {
        "duration": 141,
        "start_time": "2022-05-14T11:06:39.384Z"
      },
      {
        "duration": 151,
        "start_time": "2022-05-14T11:06:39.527Z"
      },
      {
        "duration": 28,
        "start_time": "2022-05-14T11:06:39.680Z"
      },
      {
        "duration": 47,
        "start_time": "2022-05-14T11:06:39.710Z"
      },
      {
        "duration": 31,
        "start_time": "2022-05-14T11:06:39.760Z"
      },
      {
        "duration": 419,
        "start_time": "2022-05-14T11:06:39.793Z"
      },
      {
        "duration": 413,
        "start_time": "2022-05-14T11:06:40.214Z"
      },
      {
        "duration": 420,
        "start_time": "2022-05-14T11:06:40.634Z"
      },
      {
        "duration": 12,
        "start_time": "2022-05-14T11:06:41.056Z"
      },
      {
        "duration": 17,
        "start_time": "2022-05-14T11:06:41.069Z"
      },
      {
        "duration": 19,
        "start_time": "2022-05-14T11:06:41.087Z"
      },
      {
        "duration": 248,
        "start_time": "2022-05-14T11:06:41.108Z"
      },
      {
        "duration": 43,
        "start_time": "2022-05-14T11:06:41.357Z"
      },
      {
        "duration": 5,
        "start_time": "2022-05-14T11:06:41.402Z"
      },
      {
        "duration": 26,
        "start_time": "2022-05-14T11:06:41.409Z"
      },
      {
        "duration": 808,
        "start_time": "2022-05-14T11:06:41.437Z"
      },
      {
        "duration": 212,
        "start_time": "2022-05-14T11:06:42.248Z"
      },
      {
        "duration": 166,
        "start_time": "2022-05-14T11:06:42.462Z"
      },
      {
        "duration": 7,
        "start_time": "2022-05-14T11:06:42.630Z"
      },
      {
        "duration": 329,
        "start_time": "2022-05-14T11:06:42.640Z"
      },
      {
        "duration": 38,
        "start_time": "2022-05-14T11:06:42.970Z"
      },
      {
        "duration": 18,
        "start_time": "2022-05-14T11:06:43.010Z"
      },
      {
        "duration": 35,
        "start_time": "2022-05-14T11:06:43.031Z"
      },
      {
        "duration": 23281,
        "start_time": "2022-05-14T11:06:43.068Z"
      },
      {
        "duration": 480,
        "start_time": "2022-05-14T11:07:06.353Z"
      },
      {
        "duration": 4,
        "start_time": "2022-05-14T11:07:06.836Z"
      },
      {
        "duration": 19,
        "start_time": "2022-05-14T11:07:06.843Z"
      },
      {
        "duration": 10979,
        "start_time": "2022-05-14T11:07:06.864Z"
      },
      {
        "duration": 830,
        "start_time": "2022-05-14T11:07:17.846Z"
      },
      {
        "duration": 60,
        "start_time": "2022-05-14T11:07:18.678Z"
      },
      {
        "duration": 7,
        "start_time": "2022-05-14T11:08:20.876Z"
      },
      {
        "duration": 820,
        "start_time": "2022-05-14T11:08:20.885Z"
      },
      {
        "duration": 136,
        "start_time": "2022-05-14T11:08:21.707Z"
      },
      {
        "duration": 99,
        "start_time": "2022-05-14T11:08:21.846Z"
      },
      {
        "duration": 415,
        "start_time": "2022-05-14T11:08:21.947Z"
      },
      {
        "duration": 855,
        "start_time": "2022-05-14T11:08:22.364Z"
      },
      {
        "duration": 133,
        "start_time": "2022-05-14T11:08:23.221Z"
      },
      {
        "duration": 131,
        "start_time": "2022-05-14T11:08:23.356Z"
      },
      {
        "duration": 44,
        "start_time": "2022-05-14T11:08:23.490Z"
      },
      {
        "duration": 26,
        "start_time": "2022-05-14T11:08:23.536Z"
      },
      {
        "duration": 32,
        "start_time": "2022-05-14T11:08:23.564Z"
      },
      {
        "duration": 373,
        "start_time": "2022-05-14T11:08:23.597Z"
      },
      {
        "duration": 369,
        "start_time": "2022-05-14T11:08:23.972Z"
      },
      {
        "duration": 391,
        "start_time": "2022-05-14T11:08:24.342Z"
      },
      {
        "duration": 12,
        "start_time": "2022-05-14T11:08:24.735Z"
      },
      {
        "duration": 21,
        "start_time": "2022-05-14T11:08:24.749Z"
      },
      {
        "duration": 20,
        "start_time": "2022-05-14T11:08:24.772Z"
      },
      {
        "duration": 214,
        "start_time": "2022-05-14T11:08:24.793Z"
      },
      {
        "duration": 54,
        "start_time": "2022-05-14T11:08:25.008Z"
      },
      {
        "duration": 4,
        "start_time": "2022-05-14T11:08:25.063Z"
      },
      {
        "duration": 6,
        "start_time": "2022-05-14T11:08:25.069Z"
      },
      {
        "duration": 832,
        "start_time": "2022-05-14T11:08:25.077Z"
      },
      {
        "duration": 187,
        "start_time": "2022-05-14T11:08:25.910Z"
      },
      {
        "duration": 156,
        "start_time": "2022-05-14T11:08:26.100Z"
      },
      {
        "duration": 5,
        "start_time": "2022-05-14T11:08:26.258Z"
      },
      {
        "duration": 283,
        "start_time": "2022-05-14T11:08:26.266Z"
      },
      {
        "duration": 34,
        "start_time": "2022-05-14T11:08:26.552Z"
      },
      {
        "duration": 3,
        "start_time": "2022-05-14T11:08:26.588Z"
      },
      {
        "duration": 6,
        "start_time": "2022-05-14T11:08:26.592Z"
      },
      {
        "duration": 26141,
        "start_time": "2022-05-14T11:08:26.600Z"
      },
      {
        "duration": 301,
        "start_time": "2022-05-14T11:08:52.742Z"
      },
      {
        "duration": 4,
        "start_time": "2022-05-14T11:08:53.134Z"
      },
      {
        "duration": 9,
        "start_time": "2022-05-14T11:08:53.140Z"
      },
      {
        "duration": 4284,
        "start_time": "2022-05-14T11:08:53.151Z"
      },
      {
        "duration": 701,
        "start_time": "2022-05-14T11:08:57.436Z"
      },
      {
        "duration": 5,
        "start_time": "2022-05-14T11:08:58.139Z"
      },
      {
        "duration": 696,
        "start_time": "2022-05-14T11:16:40.040Z"
      },
      {
        "duration": 3,
        "start_time": "2022-05-14T11:44:04.418Z"
      },
      {
        "duration": 841311,
        "start_time": "2022-05-14T11:44:06.011Z"
      },
      {
        "duration": 68697,
        "start_time": "2022-05-14T12:10:05.094Z"
      },
      {
        "duration": 133,
        "start_time": "2022-05-14T12:11:13.793Z"
      },
      {
        "duration": 10,
        "start_time": "2022-05-14T12:11:13.932Z"
      },
      {
        "duration": 5,
        "start_time": "2022-05-14T12:15:37.387Z"
      },
      {
        "duration": 119,
        "start_time": "2022-05-14T12:15:43.566Z"
      },
      {
        "duration": 5,
        "start_time": "2022-05-14T12:15:45.896Z"
      },
      {
        "duration": 5,
        "start_time": "2022-05-14T12:15:47.311Z"
      },
      {
        "duration": 5,
        "start_time": "2022-05-14T12:15:48.364Z"
      },
      {
        "duration": 697,
        "start_time": "2022-05-14T12:23:22.442Z"
      },
      {
        "duration": 172,
        "start_time": "2022-05-14T12:24:39.064Z"
      },
      {
        "duration": 3,
        "start_time": "2022-05-14T12:24:49.752Z"
      },
      {
        "duration": 21780,
        "start_time": "2022-05-14T12:24:51.455Z"
      },
      {
        "duration": 298,
        "start_time": "2022-05-14T12:25:13.237Z"
      },
      {
        "duration": 10,
        "start_time": "2022-05-14T12:29:36.664Z"
      },
      {
        "duration": 43243,
        "start_time": "2022-05-14T12:33:19.480Z"
      },
      {
        "duration": 1635,
        "start_time": "2022-05-14T12:34:05.949Z"
      },
      {
        "duration": 907,
        "start_time": "2022-05-14T12:34:07.586Z"
      },
      {
        "duration": 144,
        "start_time": "2022-05-14T12:34:08.495Z"
      },
      {
        "duration": 149,
        "start_time": "2022-05-14T12:34:08.640Z"
      },
      {
        "duration": 503,
        "start_time": "2022-05-14T12:34:08.791Z"
      },
      {
        "duration": 987,
        "start_time": "2022-05-14T12:34:09.296Z"
      },
      {
        "duration": 141,
        "start_time": "2022-05-14T12:34:10.285Z"
      },
      {
        "duration": 141,
        "start_time": "2022-05-14T12:34:10.427Z"
      },
      {
        "duration": 35,
        "start_time": "2022-05-14T12:34:10.570Z"
      },
      {
        "duration": 40,
        "start_time": "2022-05-14T12:34:10.608Z"
      },
      {
        "duration": 32,
        "start_time": "2022-05-14T12:34:10.650Z"
      },
      {
        "duration": 429,
        "start_time": "2022-05-14T12:34:10.684Z"
      },
      {
        "duration": 409,
        "start_time": "2022-05-14T12:34:11.115Z"
      },
      {
        "duration": 388,
        "start_time": "2022-05-14T12:34:11.533Z"
      },
      {
        "duration": 20,
        "start_time": "2022-05-14T12:34:11.923Z"
      },
      {
        "duration": 14,
        "start_time": "2022-05-14T12:34:11.945Z"
      },
      {
        "duration": 20,
        "start_time": "2022-05-14T12:34:11.961Z"
      },
      {
        "duration": 246,
        "start_time": "2022-05-14T12:34:11.983Z"
      },
      {
        "duration": 43,
        "start_time": "2022-05-14T12:34:12.232Z"
      },
      {
        "duration": 4,
        "start_time": "2022-05-14T12:34:12.277Z"
      },
      {
        "duration": 5,
        "start_time": "2022-05-14T12:34:12.283Z"
      },
      {
        "duration": 814,
        "start_time": "2022-05-14T12:34:12.290Z"
      },
      {
        "duration": 189,
        "start_time": "2022-05-14T12:34:13.106Z"
      },
      {
        "duration": 158,
        "start_time": "2022-05-14T12:34:13.297Z"
      },
      {
        "duration": 5,
        "start_time": "2022-05-14T12:34:13.457Z"
      },
      {
        "duration": 291,
        "start_time": "2022-05-14T12:34:13.464Z"
      },
      {
        "duration": 110,
        "start_time": "2022-05-14T12:34:13.757Z"
      },
      {
        "duration": 3,
        "start_time": "2022-05-14T12:34:13.872Z"
      },
      {
        "duration": 21359,
        "start_time": "2022-05-14T12:34:13.877Z"
      },
      {
        "duration": 298,
        "start_time": "2022-05-14T12:34:35.238Z"
      },
      {
        "duration": 94,
        "start_time": "2022-05-14T12:34:35.538Z"
      },
      {
        "duration": 39,
        "start_time": "2022-05-14T12:34:35.635Z"
      },
      {
        "duration": 4163,
        "start_time": "2022-05-14T12:34:35.676Z"
      },
      {
        "duration": 711,
        "start_time": "2022-05-14T12:34:39.841Z"
      },
      {
        "duration": 3,
        "start_time": "2022-05-14T12:34:40.553Z"
      },
      {
        "duration": 873139,
        "start_time": "2022-05-14T12:34:40.633Z"
      },
      {
        "duration": 68486,
        "start_time": "2022-05-14T12:49:13.773Z"
      },
      {
        "duration": 131,
        "start_time": "2022-05-14T12:50:22.260Z"
      },
      {
        "duration": 5,
        "start_time": "2022-05-14T12:50:22.393Z"
      },
      {
        "duration": 11,
        "start_time": "2022-05-14T12:50:22.400Z"
      },
      {
        "duration": 1581,
        "start_time": "2022-05-14T12:55:34.357Z"
      },
      {
        "duration": 1008,
        "start_time": "2022-05-14T12:55:35.940Z"
      },
      {
        "duration": 144,
        "start_time": "2022-05-14T12:55:36.950Z"
      },
      {
        "duration": 112,
        "start_time": "2022-05-14T12:55:37.096Z"
      },
      {
        "duration": 518,
        "start_time": "2022-05-14T12:55:37.210Z"
      },
      {
        "duration": 1044,
        "start_time": "2022-05-14T12:55:37.729Z"
      },
      {
        "duration": 141,
        "start_time": "2022-05-14T12:55:38.775Z"
      },
      {
        "duration": 142,
        "start_time": "2022-05-14T12:55:38.918Z"
      },
      {
        "duration": 28,
        "start_time": "2022-05-14T12:55:39.062Z"
      },
      {
        "duration": 43,
        "start_time": "2022-05-14T12:55:39.093Z"
      },
      {
        "duration": 33,
        "start_time": "2022-05-14T12:55:39.138Z"
      },
      {
        "duration": 427,
        "start_time": "2022-05-14T12:55:39.173Z"
      },
      {
        "duration": 407,
        "start_time": "2022-05-14T12:55:39.602Z"
      },
      {
        "duration": 409,
        "start_time": "2022-05-14T12:55:40.010Z"
      },
      {
        "duration": 18,
        "start_time": "2022-05-14T12:55:40.421Z"
      },
      {
        "duration": 19,
        "start_time": "2022-05-14T12:55:40.440Z"
      },
      {
        "duration": 23,
        "start_time": "2022-05-14T12:55:40.461Z"
      },
      {
        "duration": 256,
        "start_time": "2022-05-14T12:55:40.486Z"
      },
      {
        "duration": 46,
        "start_time": "2022-05-14T12:55:40.743Z"
      },
      {
        "duration": 4,
        "start_time": "2022-05-14T12:55:40.790Z"
      },
      {
        "duration": 9,
        "start_time": "2022-05-14T12:55:40.796Z"
      },
      {
        "duration": 864,
        "start_time": "2022-05-14T12:55:40.834Z"
      },
      {
        "duration": 194,
        "start_time": "2022-05-14T12:55:41.700Z"
      },
      {
        "duration": 166,
        "start_time": "2022-05-14T12:55:41.896Z"
      },
      {
        "duration": 6,
        "start_time": "2022-05-14T12:55:42.063Z"
      },
      {
        "duration": 291,
        "start_time": "2022-05-14T12:55:42.071Z"
      },
      {
        "duration": 115,
        "start_time": "2022-05-14T12:55:42.364Z"
      },
      {
        "duration": 3,
        "start_time": "2022-05-14T12:55:42.483Z"
      },
      {
        "duration": 22349,
        "start_time": "2022-05-14T12:55:42.487Z"
      },
      {
        "duration": 300,
        "start_time": "2022-05-14T12:56:04.839Z"
      },
      {
        "duration": 93,
        "start_time": "2022-05-14T12:56:05.142Z"
      },
      {
        "duration": 6,
        "start_time": "2022-05-14T12:56:05.237Z"
      },
      {
        "duration": 5494,
        "start_time": "2022-05-14T12:56:05.245Z"
      },
      {
        "duration": 266,
        "start_time": "2022-05-14T12:56:10.741Z"
      },
      {
        "duration": 2,
        "start_time": "2022-05-14T12:56:11.009Z"
      },
      {
        "duration": 845682,
        "start_time": "2022-05-14T12:56:11.013Z"
      },
      {
        "duration": 70512,
        "start_time": "2022-05-14T13:10:16.697Z"
      },
      {
        "duration": 129,
        "start_time": "2022-05-14T13:11:27.211Z"
      },
      {
        "duration": 5,
        "start_time": "2022-05-14T13:11:27.341Z"
      },
      {
        "duration": 11,
        "start_time": "2022-05-14T13:11:27.347Z"
      },
      {
        "duration": 1591,
        "start_time": "2022-05-14T13:16:11.913Z"
      },
      {
        "duration": 954,
        "start_time": "2022-05-14T13:16:13.506Z"
      },
      {
        "duration": 141,
        "start_time": "2022-05-14T13:16:14.461Z"
      },
      {
        "duration": 108,
        "start_time": "2022-05-14T13:16:14.605Z"
      },
      {
        "duration": 525,
        "start_time": "2022-05-14T13:16:14.715Z"
      },
      {
        "duration": 1030,
        "start_time": "2022-05-14T13:16:15.241Z"
      },
      {
        "duration": 138,
        "start_time": "2022-05-14T13:16:16.273Z"
      },
      {
        "duration": 143,
        "start_time": "2022-05-14T13:16:16.413Z"
      },
      {
        "duration": 28,
        "start_time": "2022-05-14T13:16:16.558Z"
      },
      {
        "duration": 21,
        "start_time": "2022-05-14T13:16:16.589Z"
      },
      {
        "duration": 49,
        "start_time": "2022-05-14T13:16:16.612Z"
      },
      {
        "duration": 416,
        "start_time": "2022-05-14T13:16:16.663Z"
      },
      {
        "duration": 391,
        "start_time": "2022-05-14T13:16:17.081Z"
      },
      {
        "duration": 391,
        "start_time": "2022-05-14T13:16:17.474Z"
      },
      {
        "duration": 13,
        "start_time": "2022-05-14T13:16:17.867Z"
      },
      {
        "duration": 18,
        "start_time": "2022-05-14T13:16:17.882Z"
      },
      {
        "duration": 40,
        "start_time": "2022-05-14T13:16:17.901Z"
      },
      {
        "duration": 222,
        "start_time": "2022-05-14T13:16:17.943Z"
      },
      {
        "duration": 42,
        "start_time": "2022-05-14T13:16:18.167Z"
      },
      {
        "duration": 3,
        "start_time": "2022-05-14T13:16:18.211Z"
      },
      {
        "duration": 19,
        "start_time": "2022-05-14T13:16:18.216Z"
      },
      {
        "duration": 760,
        "start_time": "2022-05-14T13:16:18.237Z"
      },
      {
        "duration": 188,
        "start_time": "2022-05-14T13:16:18.999Z"
      },
      {
        "duration": 163,
        "start_time": "2022-05-14T13:16:19.188Z"
      },
      {
        "duration": 6,
        "start_time": "2022-05-14T13:16:19.352Z"
      },
      {
        "duration": 292,
        "start_time": "2022-05-14T13:16:19.359Z"
      },
      {
        "duration": 115,
        "start_time": "2022-05-14T13:16:19.652Z"
      },
      {
        "duration": 3,
        "start_time": "2022-05-14T13:16:19.771Z"
      },
      {
        "duration": 21867,
        "start_time": "2022-05-14T13:16:19.775Z"
      },
      {
        "duration": 299,
        "start_time": "2022-05-14T13:16:41.643Z"
      },
      {
        "duration": 4,
        "start_time": "2022-05-14T13:16:42.034Z"
      },
      {
        "duration": 94,
        "start_time": "2022-05-14T13:16:42.040Z"
      },
      {
        "duration": 5410,
        "start_time": "2022-05-14T13:16:42.136Z"
      },
      {
        "duration": 987,
        "start_time": "2022-05-14T13:16:47.548Z"
      },
      {
        "duration": 2,
        "start_time": "2022-05-14T13:16:48.537Z"
      },
      {
        "duration": 852059,
        "start_time": "2022-05-14T13:16:48.542Z"
      },
      {
        "duration": 66054,
        "start_time": "2022-05-14T13:31:00.603Z"
      },
      {
        "duration": 129,
        "start_time": "2022-05-14T13:32:06.659Z"
      },
      {
        "duration": 5,
        "start_time": "2022-05-14T13:32:06.789Z"
      },
      {
        "duration": 14,
        "start_time": "2022-05-14T13:32:06.795Z"
      },
      {
        "duration": 11,
        "start_time": "2022-05-14T13:35:51.954Z"
      },
      {
        "duration": 1726,
        "start_time": "2022-05-15T08:13:30.265Z"
      },
      {
        "duration": 813,
        "start_time": "2022-05-15T08:13:31.993Z"
      },
      {
        "duration": 148,
        "start_time": "2022-05-15T08:13:34.769Z"
      },
      {
        "duration": 92,
        "start_time": "2022-05-15T08:13:36.737Z"
      },
      {
        "duration": 469,
        "start_time": "2022-05-15T08:13:38.671Z"
      },
      {
        "duration": 966,
        "start_time": "2022-05-15T08:13:47.403Z"
      },
      {
        "duration": 128,
        "start_time": "2022-05-15T08:13:48.485Z"
      },
      {
        "duration": 130,
        "start_time": "2022-05-15T08:13:52.980Z"
      },
      {
        "duration": 29,
        "start_time": "2022-05-15T08:15:03.179Z"
      },
      {
        "duration": 20,
        "start_time": "2022-05-15T08:15:24.334Z"
      },
      {
        "duration": 31,
        "start_time": "2022-05-15T08:15:25.135Z"
      },
      {
        "duration": 378,
        "start_time": "2022-05-15T08:17:05.502Z"
      },
      {
        "duration": 19,
        "start_time": "2022-05-15T08:28:18.998Z"
      },
      {
        "duration": 388,
        "start_time": "2022-05-15T08:28:19.581Z"
      },
      {
        "duration": 125,
        "start_time": "2022-05-15T08:31:15.046Z"
      },
      {
        "duration": 237,
        "start_time": "2022-05-15T08:31:24.511Z"
      },
      {
        "duration": 238,
        "start_time": "2022-05-15T08:31:31.095Z"
      },
      {
        "duration": 4,
        "start_time": "2022-05-15T08:32:50.448Z"
      },
      {
        "duration": 102,
        "start_time": "2022-05-15T08:32:54.608Z"
      },
      {
        "duration": 281,
        "start_time": "2022-05-15T08:33:02.172Z"
      },
      {
        "duration": 271,
        "start_time": "2022-05-15T08:33:32.671Z"
      },
      {
        "duration": 272,
        "start_time": "2022-05-15T08:36:06.524Z"
      },
      {
        "duration": 597,
        "start_time": "2022-05-15T08:36:20.392Z"
      },
      {
        "duration": 380,
        "start_time": "2022-05-15T08:38:16.333Z"
      },
      {
        "duration": 42,
        "start_time": "2022-05-15T08:38:42.019Z"
      },
      {
        "duration": 4,
        "start_time": "2022-05-15T08:39:20.631Z"
      },
      {
        "duration": 816,
        "start_time": "2022-05-15T08:39:20.638Z"
      },
      {
        "duration": 138,
        "start_time": "2022-05-15T08:39:21.456Z"
      },
      {
        "duration": 103,
        "start_time": "2022-05-15T08:39:21.607Z"
      },
      {
        "duration": 414,
        "start_time": "2022-05-15T08:39:21.713Z"
      },
      {
        "duration": 858,
        "start_time": "2022-05-15T08:39:22.129Z"
      },
      {
        "duration": 135,
        "start_time": "2022-05-15T08:39:22.989Z"
      },
      {
        "duration": 141,
        "start_time": "2022-05-15T08:39:23.126Z"
      },
      {
        "duration": 24,
        "start_time": "2022-05-15T08:39:23.269Z"
      },
      {
        "duration": 27,
        "start_time": "2022-05-15T08:39:23.307Z"
      },
      {
        "duration": 33,
        "start_time": "2022-05-15T08:39:23.336Z"
      },
      {
        "duration": 11,
        "start_time": "2022-05-15T08:39:26.409Z"
      },
      {
        "duration": 383,
        "start_time": "2022-05-15T08:39:28.641Z"
      },
      {
        "duration": 54,
        "start_time": "2022-05-15T08:39:29.426Z"
      },
      {
        "duration": 425,
        "start_time": "2022-05-15T08:40:07.420Z"
      },
      {
        "duration": 18,
        "start_time": "2022-05-15T08:40:41.264Z"
      },
      {
        "duration": 54,
        "start_time": "2022-05-15T08:43:03.117Z"
      },
      {
        "duration": 42,
        "start_time": "2022-05-15T08:43:24.341Z"
      },
      {
        "duration": 40,
        "start_time": "2022-05-15T08:43:31.007Z"
      },
      {
        "duration": 11,
        "start_time": "2022-05-15T08:44:27.432Z"
      },
      {
        "duration": 384,
        "start_time": "2022-05-15T08:45:12.198Z"
      },
      {
        "duration": 10,
        "start_time": "2022-05-15T08:45:28.017Z"
      },
      {
        "duration": 334,
        "start_time": "2022-05-15T08:45:52.403Z"
      },
      {
        "duration": 376,
        "start_time": "2022-05-15T08:45:52.740Z"
      },
      {
        "duration": 14,
        "start_time": "2022-05-15T08:47:49.836Z"
      },
      {
        "duration": 4,
        "start_time": "2022-05-15T08:47:54.095Z"
      },
      {
        "duration": 748,
        "start_time": "2022-05-15T08:47:54.102Z"
      },
      {
        "duration": 134,
        "start_time": "2022-05-15T08:47:54.852Z"
      },
      {
        "duration": 94,
        "start_time": "2022-05-15T08:47:54.988Z"
      },
      {
        "duration": 429,
        "start_time": "2022-05-15T08:47:55.084Z"
      },
      {
        "duration": 857,
        "start_time": "2022-05-15T08:47:55.515Z"
      },
      {
        "duration": 134,
        "start_time": "2022-05-15T08:47:56.374Z"
      },
      {
        "duration": 130,
        "start_time": "2022-05-15T08:47:56.510Z"
      },
      {
        "duration": 30,
        "start_time": "2022-05-15T08:47:56.642Z"
      },
      {
        "duration": 40,
        "start_time": "2022-05-15T08:47:56.673Z"
      },
      {
        "duration": 30,
        "start_time": "2022-05-15T08:47:56.715Z"
      },
      {
        "duration": 382,
        "start_time": "2022-05-15T08:47:56.747Z"
      },
      {
        "duration": 361,
        "start_time": "2022-05-15T08:47:57.131Z"
      },
      {
        "duration": 18,
        "start_time": "2022-05-15T08:47:57.495Z"
      },
      {
        "duration": 14,
        "start_time": "2022-05-15T08:47:57.514Z"
      },
      {
        "duration": 87,
        "start_time": "2022-05-15T08:48:10.528Z"
      },
      {
        "duration": 23,
        "start_time": "2022-05-15T08:48:19.257Z"
      },
      {
        "duration": 207,
        "start_time": "2022-05-15T08:48:37.540Z"
      },
      {
        "duration": 44,
        "start_time": "2022-05-15T08:49:13.931Z"
      },
      {
        "duration": 5,
        "start_time": "2022-05-15T08:49:15.150Z"
      },
      {
        "duration": 4,
        "start_time": "2022-05-15T08:49:18.238Z"
      },
      {
        "duration": 74,
        "start_time": "2022-05-15T08:49:41.153Z"
      },
      {
        "duration": 4,
        "start_time": "2022-05-15T08:50:10.190Z"
      },
      {
        "duration": 814,
        "start_time": "2022-05-15T08:50:10.196Z"
      },
      {
        "duration": 134,
        "start_time": "2022-05-15T08:50:11.012Z"
      },
      {
        "duration": 106,
        "start_time": "2022-05-15T08:50:11.148Z"
      },
      {
        "duration": 423,
        "start_time": "2022-05-15T08:50:11.256Z"
      },
      {
        "duration": 911,
        "start_time": "2022-05-15T08:50:11.681Z"
      },
      {
        "duration": 128,
        "start_time": "2022-05-15T08:50:12.594Z"
      },
      {
        "duration": 138,
        "start_time": "2022-05-15T08:50:12.724Z"
      },
      {
        "duration": 25,
        "start_time": "2022-05-15T08:50:12.864Z"
      },
      {
        "duration": 34,
        "start_time": "2022-05-15T08:50:12.890Z"
      },
      {
        "duration": 31,
        "start_time": "2022-05-15T08:50:12.926Z"
      },
      {
        "duration": 393,
        "start_time": "2022-05-15T08:50:12.959Z"
      },
      {
        "duration": 388,
        "start_time": "2022-05-15T08:50:13.354Z"
      },
      {
        "duration": 12,
        "start_time": "2022-05-15T08:50:13.745Z"
      },
      {
        "duration": 17,
        "start_time": "2022-05-15T08:50:13.759Z"
      },
      {
        "duration": 42,
        "start_time": "2022-05-15T08:50:13.777Z"
      },
      {
        "duration": 194,
        "start_time": "2022-05-15T08:50:13.821Z"
      },
      {
        "duration": 43,
        "start_time": "2022-05-15T08:50:14.017Z"
      },
      {
        "duration": 4,
        "start_time": "2022-05-15T08:50:14.062Z"
      },
      {
        "duration": 8,
        "start_time": "2022-05-15T08:50:14.067Z"
      },
      {
        "duration": 78,
        "start_time": "2022-05-15T08:50:19.732Z"
      },
      {
        "duration": 137,
        "start_time": "2022-05-15T08:51:17.420Z"
      },
      {
        "duration": 637,
        "start_time": "2022-05-15T08:51:30.316Z"
      },
      {
        "duration": 183,
        "start_time": "2022-05-15T08:51:52.493Z"
      },
      {
        "duration": 152,
        "start_time": "2022-05-15T08:52:04.545Z"
      },
      {
        "duration": 6,
        "start_time": "2022-05-15T08:52:10.107Z"
      },
      {
        "duration": 278,
        "start_time": "2022-05-15T08:52:21.520Z"
      },
      {
        "duration": 30,
        "start_time": "2022-05-15T08:52:25.897Z"
      },
      {
        "duration": 3,
        "start_time": "2022-05-15T08:53:38.625Z"
      },
      {
        "duration": 22533,
        "start_time": "2022-05-15T08:53:39.076Z"
      },
      {
        "duration": 244,
        "start_time": "2022-05-15T08:54:03.466Z"
      },
      {
        "duration": 26,
        "start_time": "2022-05-15T09:00:49.282Z"
      },
      {
        "duration": 27,
        "start_time": "2022-05-15T09:01:45.426Z"
      },
      {
        "duration": 70,
        "start_time": "2022-05-15T10:01:39.245Z"
      },
      {
        "duration": 2163,
        "start_time": "2022-05-15T10:01:48.160Z"
      },
      {
        "duration": 1054,
        "start_time": "2022-05-15T10:01:50.325Z"
      },
      {
        "duration": 168,
        "start_time": "2022-05-15T10:01:53.984Z"
      },
      {
        "duration": 114,
        "start_time": "2022-05-15T10:01:55.456Z"
      },
      {
        "duration": 647,
        "start_time": "2022-05-15T10:01:57.376Z"
      },
      {
        "duration": 1298,
        "start_time": "2022-05-15T10:01:59.400Z"
      },
      {
        "duration": 153,
        "start_time": "2022-05-15T10:02:01.057Z"
      },
      {
        "duration": 155,
        "start_time": "2022-05-15T10:02:05.073Z"
      },
      {
        "duration": 52,
        "start_time": "2022-05-15T10:02:12.116Z"
      },
      {
        "duration": 29,
        "start_time": "2022-05-15T10:02:17.149Z"
      },
      {
        "duration": 43,
        "start_time": "2022-05-15T10:02:18.848Z"
      },
      {
        "duration": 619,
        "start_time": "2022-05-15T10:02:24.190Z"
      },
      {
        "duration": 771,
        "start_time": "2022-05-15T10:02:25.584Z"
      },
      {
        "duration": 1728,
        "start_time": "2022-05-15T10:02:29.370Z"
      },
      {
        "duration": 7,
        "start_time": "2022-05-15T10:06:48.668Z"
      },
      {
        "duration": 7,
        "start_time": "2022-05-15T10:06:50.701Z"
      },
      {
        "duration": 680,
        "start_time": "2022-05-15T10:11:46.026Z"
      },
      {
        "duration": 655,
        "start_time": "2022-05-15T10:11:50.688Z"
      },
      {
        "duration": 725,
        "start_time": "2022-05-15T10:11:52.157Z"
      },
      {
        "duration": 9,
        "start_time": "2022-05-15T10:11:54.549Z"
      },
      {
        "duration": 17,
        "start_time": "2022-05-15T10:12:21.126Z"
      },
      {
        "duration": 21,
        "start_time": "2022-05-15T10:12:52.089Z"
      },
      {
        "duration": 239,
        "start_time": "2022-05-15T10:20:46.871Z"
      },
      {
        "duration": 90,
        "start_time": "2022-05-15T10:45:18.389Z"
      },
      {
        "duration": 199,
        "start_time": "2022-05-15T10:54:26.222Z"
      },
      {
        "duration": 103,
        "start_time": "2022-05-15T10:54:37.697Z"
      },
      {
        "duration": 30,
        "start_time": "2022-05-15T11:38:09.134Z"
      },
      {
        "duration": 90,
        "start_time": "2022-05-15T11:38:13.634Z"
      },
      {
        "duration": 29,
        "start_time": "2022-05-15T11:40:41.354Z"
      },
      {
        "duration": 92,
        "start_time": "2022-05-15T11:40:42.619Z"
      },
      {
        "duration": 28,
        "start_time": "2022-05-15T11:40:44.972Z"
      },
      {
        "duration": 178,
        "start_time": "2022-05-15T11:40:47.636Z"
      },
      {
        "duration": 29,
        "start_time": "2022-05-15T11:40:49.517Z"
      },
      {
        "duration": 90,
        "start_time": "2022-05-15T11:40:53.728Z"
      },
      {
        "duration": 7,
        "start_time": "2022-05-15T11:42:32.150Z"
      },
      {
        "duration": 27,
        "start_time": "2022-05-15T11:43:30.819Z"
      },
      {
        "duration": 92,
        "start_time": "2022-05-15T11:43:33.048Z"
      },
      {
        "duration": 27,
        "start_time": "2022-05-15T11:43:34.890Z"
      },
      {
        "duration": 99,
        "start_time": "2022-05-15T11:43:36.268Z"
      },
      {
        "duration": 28,
        "start_time": "2022-05-15T11:43:38.459Z"
      },
      {
        "duration": 95,
        "start_time": "2022-05-15T11:43:39.509Z"
      },
      {
        "duration": 7,
        "start_time": "2022-05-15T11:43:43.695Z"
      },
      {
        "duration": 7,
        "start_time": "2022-05-15T11:43:45.703Z"
      },
      {
        "duration": 7,
        "start_time": "2022-05-15T11:43:46.428Z"
      },
      {
        "duration": 18,
        "start_time": "2022-05-15T11:48:02.298Z"
      },
      {
        "duration": 21,
        "start_time": "2022-05-15T11:48:09.813Z"
      },
      {
        "duration": 12,
        "start_time": "2022-05-15T12:25:56.952Z"
      },
      {
        "duration": 1560,
        "start_time": "2022-05-15T12:26:07.100Z"
      },
      {
        "duration": 1643,
        "start_time": "2022-05-15T12:26:23.705Z"
      },
      {
        "duration": 6,
        "start_time": "2022-05-15T12:26:34.677Z"
      },
      {
        "duration": 1119,
        "start_time": "2022-05-15T12:26:36.841Z"
      },
      {
        "duration": 177,
        "start_time": "2022-05-15T12:26:41.876Z"
      },
      {
        "duration": 119,
        "start_time": "2022-05-15T12:26:44.465Z"
      },
      {
        "duration": 622,
        "start_time": "2022-05-15T12:26:46.186Z"
      },
      {
        "duration": 1170,
        "start_time": "2022-05-15T12:26:48.101Z"
      },
      {
        "duration": 157,
        "start_time": "2022-05-15T12:26:51.484Z"
      },
      {
        "duration": 172,
        "start_time": "2022-05-15T12:26:57.997Z"
      },
      {
        "duration": 86,
        "start_time": "2022-05-15T12:27:04.455Z"
      },
      {
        "duration": 70,
        "start_time": "2022-05-15T12:27:47.131Z"
      },
      {
        "duration": 74,
        "start_time": "2022-05-15T12:37:57.637Z"
      },
      {
        "duration": 1504,
        "start_time": "2022-05-17T05:32:03.860Z"
      },
      {
        "duration": 745,
        "start_time": "2022-05-17T05:32:05.367Z"
      },
      {
        "duration": 127,
        "start_time": "2022-05-17T05:32:06.114Z"
      },
      {
        "duration": 95,
        "start_time": "2022-05-17T05:32:06.243Z"
      },
      {
        "duration": 424,
        "start_time": "2022-05-17T05:32:06.340Z"
      },
      {
        "duration": 951,
        "start_time": "2022-05-17T05:32:06.766Z"
      },
      {
        "duration": 114,
        "start_time": "2022-05-17T05:32:07.719Z"
      },
      {
        "duration": 129,
        "start_time": "2022-05-17T05:32:07.835Z"
      },
      {
        "duration": 55,
        "start_time": "2022-05-17T05:32:07.965Z"
      },
      {
        "duration": 25,
        "start_time": "2022-05-17T05:32:08.022Z"
      },
      {
        "duration": 18,
        "start_time": "2022-05-17T05:32:08.061Z"
      },
      {
        "duration": 27,
        "start_time": "2022-05-17T05:32:08.081Z"
      },
      {
        "duration": 294,
        "start_time": "2022-05-17T05:32:08.110Z"
      },
      {
        "duration": 274,
        "start_time": "2022-05-17T05:32:08.408Z"
      },
      {
        "duration": 278,
        "start_time": "2022-05-17T05:32:08.684Z"
      },
      {
        "duration": 5,
        "start_time": "2022-05-17T05:32:08.964Z"
      },
      {
        "duration": 13,
        "start_time": "2022-05-17T05:32:08.970Z"
      },
      {
        "duration": 14,
        "start_time": "2022-05-17T05:32:08.985Z"
      },
      {
        "duration": 21,
        "start_time": "2022-05-17T05:32:09.001Z"
      },
      {
        "duration": 197,
        "start_time": "2022-05-17T05:32:09.024Z"
      },
      {
        "duration": 157,
        "start_time": "2022-05-17T05:32:09.222Z"
      },
      {
        "duration": 37,
        "start_time": "2022-05-17T05:32:09.380Z"
      },
      {
        "duration": 3,
        "start_time": "2022-05-17T05:32:09.419Z"
      },
      {
        "duration": 5,
        "start_time": "2022-05-17T05:32:09.424Z"
      },
      {
        "duration": 146,
        "start_time": "2022-05-17T05:32:09.430Z"
      },
      {
        "duration": 64,
        "start_time": "2022-05-17T05:32:09.578Z"
      },
      {
        "duration": 552,
        "start_time": "2022-05-17T05:32:09.643Z"
      },
      {
        "duration": 165,
        "start_time": "2022-05-17T05:32:10.197Z"
      },
      {
        "duration": 201,
        "start_time": "2022-05-17T05:32:10.363Z"
      },
      {
        "duration": 6,
        "start_time": "2022-05-17T05:32:10.565Z"
      },
      {
        "duration": 259,
        "start_time": "2022-05-17T05:32:10.572Z"
      },
      {
        "duration": 39,
        "start_time": "2022-05-17T05:32:10.833Z"
      },
      {
        "duration": 14,
        "start_time": "2022-05-17T05:32:10.874Z"
      },
      {
        "duration": 3,
        "start_time": "2022-05-17T05:32:32.669Z"
      },
      {
        "duration": 19898,
        "start_time": "2022-05-17T05:32:33.065Z"
      },
      {
        "duration": 212,
        "start_time": "2022-05-17T05:33:04.450Z"
      },
      {
        "duration": 27,
        "start_time": "2022-05-17T05:33:14.435Z"
      },
      {
        "duration": 2301,
        "start_time": "2022-05-17T05:33:43.843Z"
      },
      {
        "duration": 19068,
        "start_time": "2022-05-17T05:33:47.201Z"
      },
      {
        "duration": 24,
        "start_time": "2022-05-17T05:34:10.097Z"
      },
      {
        "duration": 25,
        "start_time": "2022-05-17T05:36:17.042Z"
      },
      {
        "duration": 43,
        "start_time": "2022-05-17T05:38:27.458Z"
      },
      {
        "duration": 35,
        "start_time": "2022-05-17T05:38:51.580Z"
      },
      {
        "duration": 15,
        "start_time": "2022-05-17T05:39:15.999Z"
      },
      {
        "duration": 11,
        "start_time": "2022-05-17T05:39:18.458Z"
      },
      {
        "duration": 36,
        "start_time": "2022-05-17T05:39:23.328Z"
      },
      {
        "duration": 11,
        "start_time": "2022-05-17T05:39:24.120Z"
      },
      {
        "duration": 21362,
        "start_time": "2022-05-17T05:39:42.413Z"
      },
      {
        "duration": 36,
        "start_time": "2022-05-17T05:40:05.382Z"
      },
      {
        "duration": 11,
        "start_time": "2022-05-17T05:40:06.473Z"
      },
      {
        "duration": 1574,
        "start_time": "2022-05-17T05:44:32.825Z"
      },
      {
        "duration": 783,
        "start_time": "2022-05-17T05:44:34.400Z"
      },
      {
        "duration": 124,
        "start_time": "2022-05-17T05:44:35.185Z"
      },
      {
        "duration": 93,
        "start_time": "2022-05-17T05:44:35.311Z"
      },
      {
        "duration": 438,
        "start_time": "2022-05-17T05:44:35.406Z"
      },
      {
        "duration": 878,
        "start_time": "2022-05-17T05:44:35.845Z"
      },
      {
        "duration": 116,
        "start_time": "2022-05-17T05:44:36.725Z"
      },
      {
        "duration": 126,
        "start_time": "2022-05-17T05:44:36.843Z"
      },
      {
        "duration": 55,
        "start_time": "2022-05-17T05:44:36.970Z"
      },
      {
        "duration": 40,
        "start_time": "2022-05-17T05:44:37.027Z"
      },
      {
        "duration": 18,
        "start_time": "2022-05-17T05:44:37.068Z"
      },
      {
        "duration": 28,
        "start_time": "2022-05-17T05:44:37.087Z"
      },
      {
        "duration": 296,
        "start_time": "2022-05-17T05:44:37.117Z"
      },
      {
        "duration": 274,
        "start_time": "2022-05-17T05:44:37.416Z"
      },
      {
        "duration": 276,
        "start_time": "2022-05-17T05:44:37.692Z"
      },
      {
        "duration": 4,
        "start_time": "2022-05-17T05:44:37.970Z"
      },
      {
        "duration": 13,
        "start_time": "2022-05-17T05:44:37.976Z"
      },
      {
        "duration": 16,
        "start_time": "2022-05-17T05:44:37.991Z"
      },
      {
        "duration": 22,
        "start_time": "2022-05-17T05:44:38.009Z"
      },
      {
        "duration": 209,
        "start_time": "2022-05-17T05:44:38.033Z"
      },
      {
        "duration": 166,
        "start_time": "2022-05-17T05:44:38.243Z"
      },
      {
        "duration": 38,
        "start_time": "2022-05-17T05:44:38.410Z"
      },
      {
        "duration": 4,
        "start_time": "2022-05-17T05:44:38.461Z"
      },
      {
        "duration": 4,
        "start_time": "2022-05-17T05:44:38.466Z"
      },
      {
        "duration": 133,
        "start_time": "2022-05-17T05:44:38.472Z"
      },
      {
        "duration": 70,
        "start_time": "2022-05-17T05:44:38.607Z"
      },
      {
        "duration": 572,
        "start_time": "2022-05-17T05:44:38.679Z"
      },
      {
        "duration": 162,
        "start_time": "2022-05-17T05:44:39.253Z"
      },
      {
        "duration": 209,
        "start_time": "2022-05-17T05:44:39.417Z"
      },
      {
        "duration": 5,
        "start_time": "2022-05-17T05:44:39.628Z"
      },
      {
        "duration": 254,
        "start_time": "2022-05-17T05:44:39.634Z"
      },
      {
        "duration": 32,
        "start_time": "2022-05-17T05:44:39.889Z"
      },
      {
        "duration": 14,
        "start_time": "2022-05-17T05:44:39.923Z"
      },
      {
        "duration": 2,
        "start_time": "2022-05-17T05:44:39.939Z"
      },
      {
        "duration": 19506,
        "start_time": "2022-05-17T05:44:39.962Z"
      },
      {
        "duration": 207,
        "start_time": "2022-05-17T05:44:59.470Z"
      },
      {
        "duration": 2394,
        "start_time": "2022-05-17T05:44:59.763Z"
      },
      {
        "duration": 19703,
        "start_time": "2022-05-17T05:45:02.161Z"
      },
      {
        "duration": 98,
        "start_time": "2022-05-17T05:45:21.866Z"
      },
      {
        "duration": 1230,
        "start_time": "2022-05-17T05:45:40.068Z"
      },
      {
        "duration": 1558,
        "start_time": "2022-05-17T05:46:00.653Z"
      },
      {
        "duration": 774,
        "start_time": "2022-05-17T05:46:02.213Z"
      },
      {
        "duration": 136,
        "start_time": "2022-05-17T05:46:02.989Z"
      },
      {
        "duration": 93,
        "start_time": "2022-05-17T05:46:03.126Z"
      },
      {
        "duration": 442,
        "start_time": "2022-05-17T05:46:03.221Z"
      },
      {
        "duration": 920,
        "start_time": "2022-05-17T05:46:03.665Z"
      },
      {
        "duration": 123,
        "start_time": "2022-05-17T05:46:04.586Z"
      },
      {
        "duration": 125,
        "start_time": "2022-05-17T05:46:04.710Z"
      },
      {
        "duration": 62,
        "start_time": "2022-05-17T05:46:04.837Z"
      },
      {
        "duration": 27,
        "start_time": "2022-05-17T05:46:04.901Z"
      },
      {
        "duration": 37,
        "start_time": "2022-05-17T05:46:04.929Z"
      },
      {
        "duration": 28,
        "start_time": "2022-05-17T05:46:04.968Z"
      },
      {
        "duration": 301,
        "start_time": "2022-05-17T05:46:04.997Z"
      },
      {
        "duration": 281,
        "start_time": "2022-05-17T05:46:05.301Z"
      },
      {
        "duration": 271,
        "start_time": "2022-05-17T05:46:05.583Z"
      },
      {
        "duration": 9,
        "start_time": "2022-05-17T05:46:05.855Z"
      },
      {
        "duration": 14,
        "start_time": "2022-05-17T05:46:05.866Z"
      },
      {
        "duration": 16,
        "start_time": "2022-05-17T05:46:05.882Z"
      },
      {
        "duration": 25,
        "start_time": "2022-05-17T05:46:05.899Z"
      },
      {
        "duration": 198,
        "start_time": "2022-05-17T05:46:05.926Z"
      },
      {
        "duration": 171,
        "start_time": "2022-05-17T05:46:06.126Z"
      },
      {
        "duration": 40,
        "start_time": "2022-05-17T05:46:06.298Z"
      },
      {
        "duration": 4,
        "start_time": "2022-05-17T05:46:06.339Z"
      },
      {
        "duration": 19,
        "start_time": "2022-05-17T05:46:06.345Z"
      },
      {
        "duration": 138,
        "start_time": "2022-05-17T05:46:06.366Z"
      },
      {
        "duration": 67,
        "start_time": "2022-05-17T05:46:06.506Z"
      },
      {
        "duration": 549,
        "start_time": "2022-05-17T05:46:06.575Z"
      },
      {
        "duration": 164,
        "start_time": "2022-05-17T05:46:07.126Z"
      },
      {
        "duration": 204,
        "start_time": "2022-05-17T05:46:07.292Z"
      },
      {
        "duration": 5,
        "start_time": "2022-05-17T05:46:07.498Z"
      },
      {
        "duration": 259,
        "start_time": "2022-05-17T05:46:07.504Z"
      },
      {
        "duration": 30,
        "start_time": "2022-05-17T05:46:07.765Z"
      },
      {
        "duration": 14,
        "start_time": "2022-05-17T05:46:07.797Z"
      },
      {
        "duration": 2,
        "start_time": "2022-05-17T05:46:07.813Z"
      },
      {
        "duration": 20048,
        "start_time": "2022-05-17T05:46:07.817Z"
      },
      {
        "duration": 207,
        "start_time": "2022-05-17T05:46:27.867Z"
      },
      {
        "duration": 2464,
        "start_time": "2022-05-17T05:46:28.075Z"
      },
      {
        "duration": 20328,
        "start_time": "2022-05-17T05:46:30.541Z"
      },
      {
        "duration": 1802,
        "start_time": "2022-05-17T09:43:24.669Z"
      },
      {
        "duration": 753,
        "start_time": "2022-05-17T09:43:26.473Z"
      },
      {
        "duration": 134,
        "start_time": "2022-05-17T09:43:27.228Z"
      },
      {
        "duration": 77,
        "start_time": "2022-05-17T09:43:27.364Z"
      },
      {
        "duration": 420,
        "start_time": "2022-05-17T09:43:27.443Z"
      },
      {
        "duration": 873,
        "start_time": "2022-05-17T09:43:27.864Z"
      },
      {
        "duration": 124,
        "start_time": "2022-05-17T09:43:28.739Z"
      },
      {
        "duration": 119,
        "start_time": "2022-05-17T09:43:28.864Z"
      },
      {
        "duration": 55,
        "start_time": "2022-05-17T09:43:28.985Z"
      },
      {
        "duration": 46,
        "start_time": "2022-05-17T09:43:29.042Z"
      },
      {
        "duration": 21,
        "start_time": "2022-05-17T09:43:29.090Z"
      },
      {
        "duration": 29,
        "start_time": "2022-05-17T09:43:29.113Z"
      },
      {
        "duration": 298,
        "start_time": "2022-05-17T09:43:29.143Z"
      },
      {
        "duration": 308,
        "start_time": "2022-05-17T09:43:29.444Z"
      },
      {
        "duration": 286,
        "start_time": "2022-05-17T09:43:29.753Z"
      },
      {
        "duration": 5,
        "start_time": "2022-05-17T09:43:30.041Z"
      },
      {
        "duration": 21,
        "start_time": "2022-05-17T09:43:30.048Z"
      },
      {
        "duration": 15,
        "start_time": "2022-05-17T09:43:30.071Z"
      },
      {
        "duration": 21,
        "start_time": "2022-05-17T09:43:30.088Z"
      },
      {
        "duration": 197,
        "start_time": "2022-05-17T09:43:30.111Z"
      },
      {
        "duration": 163,
        "start_time": "2022-05-17T09:43:30.309Z"
      },
      {
        "duration": 37,
        "start_time": "2022-05-17T09:43:30.473Z"
      },
      {
        "duration": 4,
        "start_time": "2022-05-17T09:43:30.511Z"
      },
      {
        "duration": 10,
        "start_time": "2022-05-17T09:43:30.516Z"
      },
      {
        "duration": 136,
        "start_time": "2022-05-17T09:43:30.527Z"
      },
      {
        "duration": 62,
        "start_time": "2022-05-17T09:43:30.664Z"
      },
      {
        "duration": 625,
        "start_time": "2022-05-17T09:43:30.728Z"
      },
      {
        "duration": 168,
        "start_time": "2022-05-17T09:43:31.355Z"
      },
      {
        "duration": 210,
        "start_time": "2022-05-17T09:43:31.524Z"
      },
      {
        "duration": 5,
        "start_time": "2022-05-17T09:43:31.735Z"
      },
      {
        "duration": 261,
        "start_time": "2022-05-17T09:43:31.741Z"
      },
      {
        "duration": 32,
        "start_time": "2022-05-17T09:43:32.004Z"
      },
      {
        "duration": 32,
        "start_time": "2022-05-17T09:43:32.038Z"
      },
      {
        "duration": 2,
        "start_time": "2022-05-17T09:43:32.072Z"
      },
      {
        "duration": 19188,
        "start_time": "2022-05-17T09:43:32.076Z"
      },
      {
        "duration": 206,
        "start_time": "2022-05-17T09:43:51.266Z"
      },
      {
        "duration": 2441,
        "start_time": "2022-05-17T09:43:51.473Z"
      },
      {
        "duration": 20247,
        "start_time": "2022-05-17T09:43:53.916Z"
      },
      {
        "duration": 3,
        "start_time": "2022-05-17T10:07:03.717Z"
      },
      {
        "duration": 724,
        "start_time": "2022-05-17T10:07:03.722Z"
      },
      {
        "duration": 187,
        "start_time": "2022-05-17T10:07:04.448Z"
      },
      {
        "duration": 83,
        "start_time": "2022-05-17T10:07:04.636Z"
      },
      {
        "duration": 376,
        "start_time": "2022-05-17T10:07:04.721Z"
      },
      {
        "duration": 773,
        "start_time": "2022-05-17T10:07:05.098Z"
      },
      {
        "duration": 116,
        "start_time": "2022-05-17T10:07:05.872Z"
      },
      {
        "duration": 119,
        "start_time": "2022-05-17T10:07:05.990Z"
      },
      {
        "duration": 58,
        "start_time": "2022-05-17T10:07:06.110Z"
      },
      {
        "duration": 28,
        "start_time": "2022-05-17T10:07:06.170Z"
      },
      {
        "duration": 19,
        "start_time": "2022-05-17T10:07:06.199Z"
      },
      {
        "duration": 45,
        "start_time": "2022-05-17T10:07:06.220Z"
      },
      {
        "duration": 288,
        "start_time": "2022-05-17T10:07:06.268Z"
      },
      {
        "duration": 278,
        "start_time": "2022-05-17T10:07:06.558Z"
      },
      {
        "duration": 272,
        "start_time": "2022-05-17T10:07:06.838Z"
      },
      {
        "duration": 4,
        "start_time": "2022-05-17T10:07:07.112Z"
      },
      {
        "duration": 14,
        "start_time": "2022-05-17T10:07:07.118Z"
      },
      {
        "duration": 14,
        "start_time": "2022-05-17T10:07:07.133Z"
      },
      {
        "duration": 18,
        "start_time": "2022-05-17T10:07:07.161Z"
      },
      {
        "duration": 168,
        "start_time": "2022-05-17T10:07:07.180Z"
      },
      {
        "duration": 156,
        "start_time": "2022-05-17T10:07:07.350Z"
      },
      {
        "duration": 36,
        "start_time": "2022-05-17T10:07:07.508Z"
      },
      {
        "duration": 18,
        "start_time": "2022-05-17T10:07:07.545Z"
      },
      {
        "duration": 8,
        "start_time": "2022-05-17T10:07:07.564Z"
      },
      {
        "duration": 122,
        "start_time": "2022-05-17T10:07:07.574Z"
      },
      {
        "duration": 67,
        "start_time": "2022-05-17T10:07:07.697Z"
      },
      {
        "duration": 563,
        "start_time": "2022-05-17T10:07:07.766Z"
      },
      {
        "duration": 169,
        "start_time": "2022-05-17T10:07:08.331Z"
      },
      {
        "duration": 135,
        "start_time": "2022-05-17T10:07:08.502Z"
      },
      {
        "duration": 5,
        "start_time": "2022-05-17T10:07:08.639Z"
      },
      {
        "duration": 253,
        "start_time": "2022-05-17T10:07:08.646Z"
      },
      {
        "duration": 31,
        "start_time": "2022-05-17T10:07:08.900Z"
      },
      {
        "duration": 527,
        "start_time": "2022-05-17T10:07:11.039Z"
      },
      {
        "duration": 425,
        "start_time": "2022-05-17T10:11:07.740Z"
      }
    ],
    "kernelspec": {
      "display_name": "Python 3 (ipykernel)",
      "language": "python",
      "name": "python3"
    },
    "language_info": {
      "codemirror_mode": {
        "name": "ipython",
        "version": 3
      },
      "file_extension": ".py",
      "mimetype": "text/x-python",
      "name": "python",
      "nbconvert_exporter": "python",
      "pygments_lexer": "ipython3",
      "version": "3.9.5"
    },
    "toc": {
      "base_numbering": 1,
      "nav_menu": {},
      "number_sections": false,
      "sideBar": true,
      "skip_h1_title": true,
      "title_cell": "Table of Contents",
      "title_sidebar": "Contents",
      "toc_cell": false,
      "toc_position": {
        "height": "calc(100% - 180px)",
        "left": "10px",
        "top": "150px",
        "width": "176px"
      },
      "toc_section_display": true,
      "toc_window_display": true
    },
    "colab": {
      "provenance": []
    }
  },
  "nbformat": 4,
  "nbformat_minor": 0
}