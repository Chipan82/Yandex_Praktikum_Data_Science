{
  "cells": [
    {
      "cell_type": "markdown",
      "metadata": {
        "id": "44pGnvO2gT5I"
      },
      "source": [
        "# Исследование объявлений о продаже квартир\n",
        "\n",
        "Цель - научиться определять рыночную стоимость объектов недвижимости. Задача — установить параметры. Это позволит построить автоматизированную систему: она отследит аномалии и мошенническую деятельность. \n",
        " "
      ]
    },
    {
      "cell_type": "markdown",
      "metadata": {
        "id": "RNggug07gT5J"
      },
      "source": [
        "## Изучение данных из файла"
      ]
    },
    {
      "cell_type": "markdown",
      "metadata": {
        "id": "PzgLw6FdgT5L"
      },
      "source": [
        "- Таблица содержит 22 столбца и 23699 строк c типом данных в скобках:\n",
        "     - airports_nearest — расстояние до ближайшего аэропорта в метрах (м)\n",
        "     - balcony — число балконов\n",
        "     - ceiling_height — высота потолков (м)\n",
        "     - cityCenters_nearest — расстояние до центра города (м)\n",
        "     - days_exposition — сколько дней было размещено объявление (от публикации до снятия)\n",
        "     - first_day_exposition — дата публикации\n",
        "     - floor — этаж\n",
        "     - floors_total — всего этажей в доме\n",
        "     - is_apartment — апартаменты (булев тип)\n",
        "     - kitchen_area — площадь кухни в квадратных метрах (м²)\n",
        "     - last_price — цена на момент снятия с публикации\n",
        "     - living_area — жилая площадь в квадратных метрах (м²)\n",
        "     \n",
        "     - locality_name — название населённого пункта\n",
        "     - open_plan — свободная планировка (булев тип)\n",
        "     - parks_around3000 — число парков в радиусе 3 км\n",
        "     - parks_nearest — расстояние до ближайшего парка (м)\n",
        "     - ponds_around3000 — число водоёмов в радиусе 3 км\n",
        "     - ponds_nearest — расстояние до ближайшего водоёма (м)\n",
        "     - rooms — число комнат\n",
        "     - studio — квартира-студия (булев тип)\n",
        "     - total_area — площадь квартиры в квадратных метрах (м²)\n",
        "     - total_images — число фотографий квартиры в объявлении"
      ]
    },
    {
      "cell_type": "code",
      "execution_count": null,
      "metadata": {
        "id": "CEt6elNXgT5N"
      },
      "outputs": [],
      "source": [
        "import pandas as pd\n",
        "import seaborn as sns\n",
        "import matplotlib.pyplot as plt\n"
      ]
    },
    {
      "cell_type": "code",
      "execution_count": null,
      "metadata": {
        "id": "8v4EHP3EgT5O",
        "outputId": "f21d038e-b3fb-428e-ad68-6f8ba2eb8ced"
      },
      "outputs": [
        {
          "data": {
            "text/html": [
              "<div>\n",
              "<style scoped>\n",
              "    .dataframe tbody tr th:only-of-type {\n",
              "        vertical-align: middle;\n",
              "    }\n",
              "\n",
              "    .dataframe tbody tr th {\n",
              "        vertical-align: top;\n",
              "    }\n",
              "\n",
              "    .dataframe thead th {\n",
              "        text-align: right;\n",
              "    }\n",
              "</style>\n",
              "<table border=\"1\" class=\"dataframe\">\n",
              "  <thead>\n",
              "    <tr style=\"text-align: right;\">\n",
              "      <th></th>\n",
              "      <th>total_images</th>\n",
              "      <th>last_price</th>\n",
              "      <th>total_area</th>\n",
              "      <th>first_day_exposition</th>\n",
              "      <th>rooms</th>\n",
              "      <th>ceiling_height</th>\n",
              "      <th>floors_total</th>\n",
              "      <th>living_area</th>\n",
              "      <th>floor</th>\n",
              "      <th>is_apartment</th>\n",
              "      <th>...</th>\n",
              "      <th>kitchen_area</th>\n",
              "      <th>balcony</th>\n",
              "      <th>locality_name</th>\n",
              "      <th>airports_nearest</th>\n",
              "      <th>cityCenters_nearest</th>\n",
              "      <th>parks_around3000</th>\n",
              "      <th>parks_nearest</th>\n",
              "      <th>ponds_around3000</th>\n",
              "      <th>ponds_nearest</th>\n",
              "      <th>days_exposition</th>\n",
              "    </tr>\n",
              "  </thead>\n",
              "  <tbody>\n",
              "    <tr>\n",
              "      <th>0</th>\n",
              "      <td>20</td>\n",
              "      <td>13000000.0</td>\n",
              "      <td>108.00</td>\n",
              "      <td>2019-03-07T00:00:00</td>\n",
              "      <td>3</td>\n",
              "      <td>2.70</td>\n",
              "      <td>16.0</td>\n",
              "      <td>51.00</td>\n",
              "      <td>8</td>\n",
              "      <td>NaN</td>\n",
              "      <td>...</td>\n",
              "      <td>25.00</td>\n",
              "      <td>NaN</td>\n",
              "      <td>Санкт-Петербург</td>\n",
              "      <td>18863.0</td>\n",
              "      <td>16028.0</td>\n",
              "      <td>1.0</td>\n",
              "      <td>482.0</td>\n",
              "      <td>2.0</td>\n",
              "      <td>755.0</td>\n",
              "      <td>NaN</td>\n",
              "    </tr>\n",
              "    <tr>\n",
              "      <th>1</th>\n",
              "      <td>7</td>\n",
              "      <td>3350000.0</td>\n",
              "      <td>40.40</td>\n",
              "      <td>2018-12-04T00:00:00</td>\n",
              "      <td>1</td>\n",
              "      <td>NaN</td>\n",
              "      <td>11.0</td>\n",
              "      <td>18.60</td>\n",
              "      <td>1</td>\n",
              "      <td>NaN</td>\n",
              "      <td>...</td>\n",
              "      <td>11.00</td>\n",
              "      <td>2.0</td>\n",
              "      <td>посёлок Шушары</td>\n",
              "      <td>12817.0</td>\n",
              "      <td>18603.0</td>\n",
              "      <td>0.0</td>\n",
              "      <td>NaN</td>\n",
              "      <td>0.0</td>\n",
              "      <td>NaN</td>\n",
              "      <td>81.0</td>\n",
              "    </tr>\n",
              "    <tr>\n",
              "      <th>2</th>\n",
              "      <td>10</td>\n",
              "      <td>5196000.0</td>\n",
              "      <td>56.00</td>\n",
              "      <td>2015-08-20T00:00:00</td>\n",
              "      <td>2</td>\n",
              "      <td>NaN</td>\n",
              "      <td>5.0</td>\n",
              "      <td>34.30</td>\n",
              "      <td>4</td>\n",
              "      <td>NaN</td>\n",
              "      <td>...</td>\n",
              "      <td>8.30</td>\n",
              "      <td>0.0</td>\n",
              "      <td>Санкт-Петербург</td>\n",
              "      <td>21741.0</td>\n",
              "      <td>13933.0</td>\n",
              "      <td>1.0</td>\n",
              "      <td>90.0</td>\n",
              "      <td>2.0</td>\n",
              "      <td>574.0</td>\n",
              "      <td>558.0</td>\n",
              "    </tr>\n",
              "    <tr>\n",
              "      <th>3</th>\n",
              "      <td>0</td>\n",
              "      <td>64900000.0</td>\n",
              "      <td>159.00</td>\n",
              "      <td>2015-07-24T00:00:00</td>\n",
              "      <td>3</td>\n",
              "      <td>NaN</td>\n",
              "      <td>14.0</td>\n",
              "      <td>NaN</td>\n",
              "      <td>9</td>\n",
              "      <td>NaN</td>\n",
              "      <td>...</td>\n",
              "      <td>NaN</td>\n",
              "      <td>0.0</td>\n",
              "      <td>Санкт-Петербург</td>\n",
              "      <td>28098.0</td>\n",
              "      <td>6800.0</td>\n",
              "      <td>2.0</td>\n",
              "      <td>84.0</td>\n",
              "      <td>3.0</td>\n",
              "      <td>234.0</td>\n",
              "      <td>424.0</td>\n",
              "    </tr>\n",
              "    <tr>\n",
              "      <th>4</th>\n",
              "      <td>2</td>\n",
              "      <td>10000000.0</td>\n",
              "      <td>100.00</td>\n",
              "      <td>2018-06-19T00:00:00</td>\n",
              "      <td>2</td>\n",
              "      <td>3.03</td>\n",
              "      <td>14.0</td>\n",
              "      <td>32.00</td>\n",
              "      <td>13</td>\n",
              "      <td>NaN</td>\n",
              "      <td>...</td>\n",
              "      <td>41.00</td>\n",
              "      <td>NaN</td>\n",
              "      <td>Санкт-Петербург</td>\n",
              "      <td>31856.0</td>\n",
              "      <td>8098.0</td>\n",
              "      <td>2.0</td>\n",
              "      <td>112.0</td>\n",
              "      <td>1.0</td>\n",
              "      <td>48.0</td>\n",
              "      <td>121.0</td>\n",
              "    </tr>\n",
              "    <tr>\n",
              "      <th>5</th>\n",
              "      <td>10</td>\n",
              "      <td>2890000.0</td>\n",
              "      <td>30.40</td>\n",
              "      <td>2018-09-10T00:00:00</td>\n",
              "      <td>1</td>\n",
              "      <td>NaN</td>\n",
              "      <td>12.0</td>\n",
              "      <td>14.40</td>\n",
              "      <td>5</td>\n",
              "      <td>NaN</td>\n",
              "      <td>...</td>\n",
              "      <td>9.10</td>\n",
              "      <td>NaN</td>\n",
              "      <td>городской посёлок Янино-1</td>\n",
              "      <td>NaN</td>\n",
              "      <td>NaN</td>\n",
              "      <td>NaN</td>\n",
              "      <td>NaN</td>\n",
              "      <td>NaN</td>\n",
              "      <td>NaN</td>\n",
              "      <td>55.0</td>\n",
              "    </tr>\n",
              "    <tr>\n",
              "      <th>6</th>\n",
              "      <td>6</td>\n",
              "      <td>3700000.0</td>\n",
              "      <td>37.30</td>\n",
              "      <td>2017-11-02T00:00:00</td>\n",
              "      <td>1</td>\n",
              "      <td>NaN</td>\n",
              "      <td>26.0</td>\n",
              "      <td>10.60</td>\n",
              "      <td>6</td>\n",
              "      <td>NaN</td>\n",
              "      <td>...</td>\n",
              "      <td>14.40</td>\n",
              "      <td>1.0</td>\n",
              "      <td>посёлок Парголово</td>\n",
              "      <td>52996.0</td>\n",
              "      <td>19143.0</td>\n",
              "      <td>0.0</td>\n",
              "      <td>NaN</td>\n",
              "      <td>0.0</td>\n",
              "      <td>NaN</td>\n",
              "      <td>155.0</td>\n",
              "    </tr>\n",
              "    <tr>\n",
              "      <th>7</th>\n",
              "      <td>5</td>\n",
              "      <td>7915000.0</td>\n",
              "      <td>71.60</td>\n",
              "      <td>2019-04-18T00:00:00</td>\n",
              "      <td>2</td>\n",
              "      <td>NaN</td>\n",
              "      <td>24.0</td>\n",
              "      <td>NaN</td>\n",
              "      <td>22</td>\n",
              "      <td>NaN</td>\n",
              "      <td>...</td>\n",
              "      <td>18.90</td>\n",
              "      <td>2.0</td>\n",
              "      <td>Санкт-Петербург</td>\n",
              "      <td>23982.0</td>\n",
              "      <td>11634.0</td>\n",
              "      <td>0.0</td>\n",
              "      <td>NaN</td>\n",
              "      <td>0.0</td>\n",
              "      <td>NaN</td>\n",
              "      <td>NaN</td>\n",
              "    </tr>\n",
              "    <tr>\n",
              "      <th>8</th>\n",
              "      <td>20</td>\n",
              "      <td>2900000.0</td>\n",
              "      <td>33.16</td>\n",
              "      <td>2018-05-23T00:00:00</td>\n",
              "      <td>1</td>\n",
              "      <td>NaN</td>\n",
              "      <td>27.0</td>\n",
              "      <td>15.43</td>\n",
              "      <td>26</td>\n",
              "      <td>NaN</td>\n",
              "      <td>...</td>\n",
              "      <td>8.81</td>\n",
              "      <td>NaN</td>\n",
              "      <td>посёлок Мурино</td>\n",
              "      <td>NaN</td>\n",
              "      <td>NaN</td>\n",
              "      <td>NaN</td>\n",
              "      <td>NaN</td>\n",
              "      <td>NaN</td>\n",
              "      <td>NaN</td>\n",
              "      <td>189.0</td>\n",
              "    </tr>\n",
              "    <tr>\n",
              "      <th>9</th>\n",
              "      <td>18</td>\n",
              "      <td>5400000.0</td>\n",
              "      <td>61.00</td>\n",
              "      <td>2017-02-26T00:00:00</td>\n",
              "      <td>3</td>\n",
              "      <td>2.50</td>\n",
              "      <td>9.0</td>\n",
              "      <td>43.60</td>\n",
              "      <td>7</td>\n",
              "      <td>NaN</td>\n",
              "      <td>...</td>\n",
              "      <td>6.50</td>\n",
              "      <td>2.0</td>\n",
              "      <td>Санкт-Петербург</td>\n",
              "      <td>50898.0</td>\n",
              "      <td>15008.0</td>\n",
              "      <td>0.0</td>\n",
              "      <td>NaN</td>\n",
              "      <td>0.0</td>\n",
              "      <td>NaN</td>\n",
              "      <td>289.0</td>\n",
              "    </tr>\n",
              "  </tbody>\n",
              "</table>\n",
              "<p>10 rows × 22 columns</p>\n",
              "</div>"
            ],
            "text/plain": [
              "   total_images  last_price  total_area first_day_exposition  rooms  \\\n",
              "0            20  13000000.0      108.00  2019-03-07T00:00:00      3   \n",
              "1             7   3350000.0       40.40  2018-12-04T00:00:00      1   \n",
              "2            10   5196000.0       56.00  2015-08-20T00:00:00      2   \n",
              "3             0  64900000.0      159.00  2015-07-24T00:00:00      3   \n",
              "4             2  10000000.0      100.00  2018-06-19T00:00:00      2   \n",
              "5            10   2890000.0       30.40  2018-09-10T00:00:00      1   \n",
              "6             6   3700000.0       37.30  2017-11-02T00:00:00      1   \n",
              "7             5   7915000.0       71.60  2019-04-18T00:00:00      2   \n",
              "8            20   2900000.0       33.16  2018-05-23T00:00:00      1   \n",
              "9            18   5400000.0       61.00  2017-02-26T00:00:00      3   \n",
              "\n",
              "   ceiling_height  floors_total  living_area  floor is_apartment  ...  \\\n",
              "0            2.70          16.0        51.00      8          NaN  ...   \n",
              "1             NaN          11.0        18.60      1          NaN  ...   \n",
              "2             NaN           5.0        34.30      4          NaN  ...   \n",
              "3             NaN          14.0          NaN      9          NaN  ...   \n",
              "4            3.03          14.0        32.00     13          NaN  ...   \n",
              "5             NaN          12.0        14.40      5          NaN  ...   \n",
              "6             NaN          26.0        10.60      6          NaN  ...   \n",
              "7             NaN          24.0          NaN     22          NaN  ...   \n",
              "8             NaN          27.0        15.43     26          NaN  ...   \n",
              "9            2.50           9.0        43.60      7          NaN  ...   \n",
              "\n",
              "   kitchen_area  balcony              locality_name  airports_nearest  \\\n",
              "0         25.00      NaN            Санкт-Петербург           18863.0   \n",
              "1         11.00      2.0             посёлок Шушары           12817.0   \n",
              "2          8.30      0.0            Санкт-Петербург           21741.0   \n",
              "3           NaN      0.0            Санкт-Петербург           28098.0   \n",
              "4         41.00      NaN            Санкт-Петербург           31856.0   \n",
              "5          9.10      NaN  городской посёлок Янино-1               NaN   \n",
              "6         14.40      1.0          посёлок Парголово           52996.0   \n",
              "7         18.90      2.0            Санкт-Петербург           23982.0   \n",
              "8          8.81      NaN             посёлок Мурино               NaN   \n",
              "9          6.50      2.0            Санкт-Петербург           50898.0   \n",
              "\n",
              "  cityCenters_nearest  parks_around3000  parks_nearest  ponds_around3000  \\\n",
              "0             16028.0               1.0          482.0               2.0   \n",
              "1             18603.0               0.0            NaN               0.0   \n",
              "2             13933.0               1.0           90.0               2.0   \n",
              "3              6800.0               2.0           84.0               3.0   \n",
              "4              8098.0               2.0          112.0               1.0   \n",
              "5                 NaN               NaN            NaN               NaN   \n",
              "6             19143.0               0.0            NaN               0.0   \n",
              "7             11634.0               0.0            NaN               0.0   \n",
              "8                 NaN               NaN            NaN               NaN   \n",
              "9             15008.0               0.0            NaN               0.0   \n",
              "\n",
              "   ponds_nearest  days_exposition  \n",
              "0          755.0              NaN  \n",
              "1            NaN             81.0  \n",
              "2          574.0            558.0  \n",
              "3          234.0            424.0  \n",
              "4           48.0            121.0  \n",
              "5            NaN             55.0  \n",
              "6            NaN            155.0  \n",
              "7            NaN              NaN  \n",
              "8            NaN            189.0  \n",
              "9            NaN            289.0  \n",
              "\n",
              "[10 rows x 22 columns]"
            ]
          },
          "execution_count": 2,
          "metadata": {},
          "output_type": "execute_result"
        }
      ],
      "source": [
        "data = pd.read_csv('/datasets/real_estate_data.csv', sep='\\t')\n",
        "data.head(10)"
      ]
    },
    {
      "cell_type": "code",
      "execution_count": null,
      "metadata": {
        "id": "d6Obb9Z-gT5Q",
        "outputId": "7bf2935c-d25f-4801-95f2-5d4e20936e1e"
      },
      "outputs": [
        {
          "name": "stdout",
          "output_type": "stream",
          "text": [
            "<class 'pandas.core.frame.DataFrame'>\n",
            "RangeIndex: 23699 entries, 0 to 23698\n",
            "Data columns (total 22 columns):\n",
            " #   Column                Non-Null Count  Dtype  \n",
            "---  ------                --------------  -----  \n",
            " 0   total_images          23699 non-null  int64  \n",
            " 1   last_price            23699 non-null  float64\n",
            " 2   total_area            23699 non-null  float64\n",
            " 3   first_day_exposition  23699 non-null  object \n",
            " 4   rooms                 23699 non-null  int64  \n",
            " 5   ceiling_height        14504 non-null  float64\n",
            " 6   floors_total          23613 non-null  float64\n",
            " 7   living_area           21796 non-null  float64\n",
            " 8   floor                 23699 non-null  int64  \n",
            " 9   is_apartment          2775 non-null   object \n",
            " 10  studio                23699 non-null  bool   \n",
            " 11  open_plan             23699 non-null  bool   \n",
            " 12  kitchen_area          21421 non-null  float64\n",
            " 13  balcony               12180 non-null  float64\n",
            " 14  locality_name         23650 non-null  object \n",
            " 15  airports_nearest      18157 non-null  float64\n",
            " 16  cityCenters_nearest   18180 non-null  float64\n",
            " 17  parks_around3000      18181 non-null  float64\n",
            " 18  parks_nearest         8079 non-null   float64\n",
            " 19  ponds_around3000      18181 non-null  float64\n",
            " 20  ponds_nearest         9110 non-null   float64\n",
            " 21  days_exposition       20518 non-null  float64\n",
            "dtypes: bool(2), float64(14), int64(3), object(3)\n",
            "memory usage: 3.7+ MB\n"
          ]
        }
      ],
      "source": [
        "data.info()"
      ]
    },
    {
      "cell_type": "code",
      "execution_count": null,
      "metadata": {
        "id": "pE6Mlik8gT5Q",
        "outputId": "34db92b8-7eed-4edc-d03b-14670749b717"
      },
      "outputs": [
        {
          "data": {
            "text/html": [
              "<div>\n",
              "<style scoped>\n",
              "    .dataframe tbody tr th:only-of-type {\n",
              "        vertical-align: middle;\n",
              "    }\n",
              "\n",
              "    .dataframe tbody tr th {\n",
              "        vertical-align: top;\n",
              "    }\n",
              "\n",
              "    .dataframe thead th {\n",
              "        text-align: right;\n",
              "    }\n",
              "</style>\n",
              "<table border=\"1\" class=\"dataframe\">\n",
              "  <thead>\n",
              "    <tr style=\"text-align: right;\">\n",
              "      <th></th>\n",
              "      <th>total_images</th>\n",
              "      <th>last_price</th>\n",
              "      <th>total_area</th>\n",
              "      <th>rooms</th>\n",
              "      <th>ceiling_height</th>\n",
              "      <th>floors_total</th>\n",
              "      <th>living_area</th>\n",
              "      <th>floor</th>\n",
              "      <th>kitchen_area</th>\n",
              "      <th>balcony</th>\n",
              "      <th>airports_nearest</th>\n",
              "      <th>cityCenters_nearest</th>\n",
              "      <th>parks_around3000</th>\n",
              "      <th>parks_nearest</th>\n",
              "      <th>ponds_around3000</th>\n",
              "      <th>ponds_nearest</th>\n",
              "      <th>days_exposition</th>\n",
              "    </tr>\n",
              "  </thead>\n",
              "  <tbody>\n",
              "    <tr>\n",
              "      <th>count</th>\n",
              "      <td>23699.000000</td>\n",
              "      <td>2.369900e+04</td>\n",
              "      <td>23699.000000</td>\n",
              "      <td>23699.000000</td>\n",
              "      <td>14504.000000</td>\n",
              "      <td>23613.000000</td>\n",
              "      <td>21796.000000</td>\n",
              "      <td>23699.000000</td>\n",
              "      <td>21421.000000</td>\n",
              "      <td>12180.000000</td>\n",
              "      <td>18157.000000</td>\n",
              "      <td>18180.000000</td>\n",
              "      <td>18181.000000</td>\n",
              "      <td>8079.000000</td>\n",
              "      <td>18181.000000</td>\n",
              "      <td>9110.000000</td>\n",
              "      <td>20518.000000</td>\n",
              "    </tr>\n",
              "    <tr>\n",
              "      <th>mean</th>\n",
              "      <td>9.858475</td>\n",
              "      <td>6.541549e+06</td>\n",
              "      <td>60.348651</td>\n",
              "      <td>2.070636</td>\n",
              "      <td>2.771499</td>\n",
              "      <td>10.673824</td>\n",
              "      <td>34.457852</td>\n",
              "      <td>5.892358</td>\n",
              "      <td>10.569807</td>\n",
              "      <td>1.150082</td>\n",
              "      <td>28793.672193</td>\n",
              "      <td>14191.277833</td>\n",
              "      <td>0.611408</td>\n",
              "      <td>490.804555</td>\n",
              "      <td>0.770255</td>\n",
              "      <td>517.980900</td>\n",
              "      <td>180.888634</td>\n",
              "    </tr>\n",
              "    <tr>\n",
              "      <th>std</th>\n",
              "      <td>5.682529</td>\n",
              "      <td>1.088701e+07</td>\n",
              "      <td>35.654083</td>\n",
              "      <td>1.078405</td>\n",
              "      <td>1.261056</td>\n",
              "      <td>6.597173</td>\n",
              "      <td>22.030445</td>\n",
              "      <td>4.885249</td>\n",
              "      <td>5.905438</td>\n",
              "      <td>1.071300</td>\n",
              "      <td>12630.880622</td>\n",
              "      <td>8608.386210</td>\n",
              "      <td>0.802074</td>\n",
              "      <td>342.317995</td>\n",
              "      <td>0.938346</td>\n",
              "      <td>277.720643</td>\n",
              "      <td>219.727988</td>\n",
              "    </tr>\n",
              "    <tr>\n",
              "      <th>min</th>\n",
              "      <td>0.000000</td>\n",
              "      <td>1.219000e+04</td>\n",
              "      <td>12.000000</td>\n",
              "      <td>0.000000</td>\n",
              "      <td>1.000000</td>\n",
              "      <td>1.000000</td>\n",
              "      <td>2.000000</td>\n",
              "      <td>1.000000</td>\n",
              "      <td>1.300000</td>\n",
              "      <td>0.000000</td>\n",
              "      <td>0.000000</td>\n",
              "      <td>181.000000</td>\n",
              "      <td>0.000000</td>\n",
              "      <td>1.000000</td>\n",
              "      <td>0.000000</td>\n",
              "      <td>13.000000</td>\n",
              "      <td>1.000000</td>\n",
              "    </tr>\n",
              "    <tr>\n",
              "      <th>25%</th>\n",
              "      <td>6.000000</td>\n",
              "      <td>3.400000e+06</td>\n",
              "      <td>40.000000</td>\n",
              "      <td>1.000000</td>\n",
              "      <td>2.520000</td>\n",
              "      <td>5.000000</td>\n",
              "      <td>18.600000</td>\n",
              "      <td>2.000000</td>\n",
              "      <td>7.000000</td>\n",
              "      <td>0.000000</td>\n",
              "      <td>18585.000000</td>\n",
              "      <td>9238.000000</td>\n",
              "      <td>0.000000</td>\n",
              "      <td>288.000000</td>\n",
              "      <td>0.000000</td>\n",
              "      <td>294.000000</td>\n",
              "      <td>45.000000</td>\n",
              "    </tr>\n",
              "    <tr>\n",
              "      <th>50%</th>\n",
              "      <td>9.000000</td>\n",
              "      <td>4.650000e+06</td>\n",
              "      <td>52.000000</td>\n",
              "      <td>2.000000</td>\n",
              "      <td>2.650000</td>\n",
              "      <td>9.000000</td>\n",
              "      <td>30.000000</td>\n",
              "      <td>4.000000</td>\n",
              "      <td>9.100000</td>\n",
              "      <td>1.000000</td>\n",
              "      <td>26726.000000</td>\n",
              "      <td>13098.500000</td>\n",
              "      <td>0.000000</td>\n",
              "      <td>455.000000</td>\n",
              "      <td>1.000000</td>\n",
              "      <td>502.000000</td>\n",
              "      <td>95.000000</td>\n",
              "    </tr>\n",
              "    <tr>\n",
              "      <th>75%</th>\n",
              "      <td>14.000000</td>\n",
              "      <td>6.800000e+06</td>\n",
              "      <td>69.900000</td>\n",
              "      <td>3.000000</td>\n",
              "      <td>2.800000</td>\n",
              "      <td>16.000000</td>\n",
              "      <td>42.300000</td>\n",
              "      <td>8.000000</td>\n",
              "      <td>12.000000</td>\n",
              "      <td>2.000000</td>\n",
              "      <td>37273.000000</td>\n",
              "      <td>16293.000000</td>\n",
              "      <td>1.000000</td>\n",
              "      <td>612.000000</td>\n",
              "      <td>1.000000</td>\n",
              "      <td>729.000000</td>\n",
              "      <td>232.000000</td>\n",
              "    </tr>\n",
              "    <tr>\n",
              "      <th>max</th>\n",
              "      <td>50.000000</td>\n",
              "      <td>7.630000e+08</td>\n",
              "      <td>900.000000</td>\n",
              "      <td>19.000000</td>\n",
              "      <td>100.000000</td>\n",
              "      <td>60.000000</td>\n",
              "      <td>409.700000</td>\n",
              "      <td>33.000000</td>\n",
              "      <td>112.000000</td>\n",
              "      <td>5.000000</td>\n",
              "      <td>84869.000000</td>\n",
              "      <td>65968.000000</td>\n",
              "      <td>3.000000</td>\n",
              "      <td>3190.000000</td>\n",
              "      <td>3.000000</td>\n",
              "      <td>1344.000000</td>\n",
              "      <td>1580.000000</td>\n",
              "    </tr>\n",
              "  </tbody>\n",
              "</table>\n",
              "</div>"
            ],
            "text/plain": [
              "       total_images    last_price    total_area         rooms  ceiling_height  \\\n",
              "count  23699.000000  2.369900e+04  23699.000000  23699.000000    14504.000000   \n",
              "mean       9.858475  6.541549e+06     60.348651      2.070636        2.771499   \n",
              "std        5.682529  1.088701e+07     35.654083      1.078405        1.261056   \n",
              "min        0.000000  1.219000e+04     12.000000      0.000000        1.000000   \n",
              "25%        6.000000  3.400000e+06     40.000000      1.000000        2.520000   \n",
              "50%        9.000000  4.650000e+06     52.000000      2.000000        2.650000   \n",
              "75%       14.000000  6.800000e+06     69.900000      3.000000        2.800000   \n",
              "max       50.000000  7.630000e+08    900.000000     19.000000      100.000000   \n",
              "\n",
              "       floors_total   living_area         floor  kitchen_area       balcony  \\\n",
              "count  23613.000000  21796.000000  23699.000000  21421.000000  12180.000000   \n",
              "mean      10.673824     34.457852      5.892358     10.569807      1.150082   \n",
              "std        6.597173     22.030445      4.885249      5.905438      1.071300   \n",
              "min        1.000000      2.000000      1.000000      1.300000      0.000000   \n",
              "25%        5.000000     18.600000      2.000000      7.000000      0.000000   \n",
              "50%        9.000000     30.000000      4.000000      9.100000      1.000000   \n",
              "75%       16.000000     42.300000      8.000000     12.000000      2.000000   \n",
              "max       60.000000    409.700000     33.000000    112.000000      5.000000   \n",
              "\n",
              "       airports_nearest  cityCenters_nearest  parks_around3000  parks_nearest  \\\n",
              "count      18157.000000         18180.000000      18181.000000    8079.000000   \n",
              "mean       28793.672193         14191.277833          0.611408     490.804555   \n",
              "std        12630.880622          8608.386210          0.802074     342.317995   \n",
              "min            0.000000           181.000000          0.000000       1.000000   \n",
              "25%        18585.000000          9238.000000          0.000000     288.000000   \n",
              "50%        26726.000000         13098.500000          0.000000     455.000000   \n",
              "75%        37273.000000         16293.000000          1.000000     612.000000   \n",
              "max        84869.000000         65968.000000          3.000000    3190.000000   \n",
              "\n",
              "       ponds_around3000  ponds_nearest  days_exposition  \n",
              "count      18181.000000    9110.000000     20518.000000  \n",
              "mean           0.770255     517.980900       180.888634  \n",
              "std            0.938346     277.720643       219.727988  \n",
              "min            0.000000      13.000000         1.000000  \n",
              "25%            0.000000     294.000000        45.000000  \n",
              "50%            1.000000     502.000000        95.000000  \n",
              "75%            1.000000     729.000000       232.000000  \n",
              "max            3.000000    1344.000000      1580.000000  "
            ]
          },
          "execution_count": 4,
          "metadata": {},
          "output_type": "execute_result"
        }
      ],
      "source": [
        "data.describe()"
      ]
    },
    {
      "cell_type": "markdown",
      "metadata": {
        "id": "RFZw9nvsgT5R"
      },
      "source": [
        "### Вывод"
      ]
    },
    {
      "cell_type": "markdown",
      "metadata": {
        "id": "PiEKvLxbgT5R"
      },
      "source": [
        "Изучили основную информацию о датасете. Видим в таблице много пропусков и нулевых значений. Пропуски и нулевые значения в количестве парков, прудов и расстояния до них говорят о том, что, скорее всего, их нет. Пропуски в балконах, говорят о том же. Пропуски в аппартаментах - скорее всего, это не аппартаменты. Высота потолков 1 м и 100 - очень интересно! 0 в аэропортах возможен, т.к. нет аэропорта. Также присутствуют ошибки в типах данных. Будем разбираться."
      ]
    },
    {
      "cell_type": "markdown",
      "metadata": {
        "id": "6sBXX-N3gT5S"
      },
      "source": [
        "## Предобработка данных"
      ]
    },
    {
      "cell_type": "markdown",
      "metadata": {
        "id": "w3pH66ZvgT5S"
      },
      "source": [
        "#### Посмотрим на столбцы\n",
        "#####  Изменим 'last_price' на тип int для удобства \n",
        "#####  Изменим формат столбца на 'datetime'\n",
        "##### Заменили пропущенные значения в 'ceiling_height' на медианные и обратим внимание на потолки выше 20 м\n",
        "##### Заменим пропуски в 'living_area' на медианное по количеству комнат\n",
        "##### В столбце 'is_apartment' заменим пропуски на False\n",
        "##### 'kitchen_area' заменим на медианное по жилой площади\n",
        "##### Заменим пропуски в 'balcony' на 0 и изменим тип данных\n",
        "##### days_exposition заменим на среднее по населенному пункту и округлим"
      ]
    },
    {
      "cell_type": "code",
      "execution_count": null,
      "metadata": {
        "id": "iGTpX6LegT5S",
        "outputId": "31240ea0-4340-4aac-8427-b2a30e775179"
      },
      "outputs": [
        {
          "data": {
            "text/html": [
              "<div>\n",
              "<style scoped>\n",
              "    .dataframe tbody tr th:only-of-type {\n",
              "        vertical-align: middle;\n",
              "    }\n",
              "\n",
              "    .dataframe tbody tr th {\n",
              "        vertical-align: top;\n",
              "    }\n",
              "\n",
              "    .dataframe thead th {\n",
              "        text-align: right;\n",
              "    }\n",
              "</style>\n",
              "<table border=\"1\" class=\"dataframe\">\n",
              "  <thead>\n",
              "    <tr style=\"text-align: right;\">\n",
              "      <th></th>\n",
              "      <th>total_images</th>\n",
              "      <th>last_price</th>\n",
              "      <th>total_area</th>\n",
              "      <th>first_day_exposition</th>\n",
              "      <th>rooms</th>\n",
              "      <th>ceiling_height</th>\n",
              "      <th>floors_total</th>\n",
              "      <th>living_area</th>\n",
              "      <th>floor</th>\n",
              "      <th>is_apartment</th>\n",
              "      <th>...</th>\n",
              "      <th>kitchen_area</th>\n",
              "      <th>balcony</th>\n",
              "      <th>locality_name</th>\n",
              "      <th>airports_nearest</th>\n",
              "      <th>cityCenters_nearest</th>\n",
              "      <th>parks_around3000</th>\n",
              "      <th>parks_nearest</th>\n",
              "      <th>ponds_around3000</th>\n",
              "      <th>ponds_nearest</th>\n",
              "      <th>days_exposition</th>\n",
              "    </tr>\n",
              "  </thead>\n",
              "  <tbody>\n",
              "    <tr>\n",
              "      <th>186</th>\n",
              "      <td>12</td>\n",
              "      <td>11640000</td>\n",
              "      <td>65.2</td>\n",
              "      <td>2018-10-02</td>\n",
              "      <td>2</td>\n",
              "      <td>2.65</td>\n",
              "      <td>NaN</td>\n",
              "      <td>30.80</td>\n",
              "      <td>4</td>\n",
              "      <td>NaN</td>\n",
              "      <td>...</td>\n",
              "      <td>12.00</td>\n",
              "      <td>NaN</td>\n",
              "      <td>Санкт-Петербург</td>\n",
              "      <td>39197.0</td>\n",
              "      <td>12373.0</td>\n",
              "      <td>1.0</td>\n",
              "      <td>123.0</td>\n",
              "      <td>0.0</td>\n",
              "      <td>NaN</td>\n",
              "      <td>49.0</td>\n",
              "    </tr>\n",
              "    <tr>\n",
              "      <th>237</th>\n",
              "      <td>4</td>\n",
              "      <td>2438033</td>\n",
              "      <td>28.1</td>\n",
              "      <td>2016-11-23</td>\n",
              "      <td>1</td>\n",
              "      <td>2.65</td>\n",
              "      <td>NaN</td>\n",
              "      <td>20.75</td>\n",
              "      <td>1</td>\n",
              "      <td>NaN</td>\n",
              "      <td>...</td>\n",
              "      <td>NaN</td>\n",
              "      <td>0.0</td>\n",
              "      <td>Санкт-Петербург</td>\n",
              "      <td>22041.0</td>\n",
              "      <td>17369.0</td>\n",
              "      <td>0.0</td>\n",
              "      <td>NaN</td>\n",
              "      <td>1.0</td>\n",
              "      <td>374.0</td>\n",
              "      <td>251.0</td>\n",
              "    </tr>\n",
              "    <tr>\n",
              "      <th>457</th>\n",
              "      <td>4</td>\n",
              "      <td>9788348</td>\n",
              "      <td>70.8</td>\n",
              "      <td>2015-08-01</td>\n",
              "      <td>2</td>\n",
              "      <td>2.65</td>\n",
              "      <td>NaN</td>\n",
              "      <td>38.40</td>\n",
              "      <td>12</td>\n",
              "      <td>NaN</td>\n",
              "      <td>...</td>\n",
              "      <td>10.63</td>\n",
              "      <td>0.0</td>\n",
              "      <td>Санкт-Петербург</td>\n",
              "      <td>37364.0</td>\n",
              "      <td>8322.0</td>\n",
              "      <td>2.0</td>\n",
              "      <td>309.0</td>\n",
              "      <td>2.0</td>\n",
              "      <td>706.0</td>\n",
              "      <td>727.0</td>\n",
              "    </tr>\n",
              "    <tr>\n",
              "      <th>671</th>\n",
              "      <td>4</td>\n",
              "      <td>6051191</td>\n",
              "      <td>93.6</td>\n",
              "      <td>2017-04-06</td>\n",
              "      <td>3</td>\n",
              "      <td>2.65</td>\n",
              "      <td>NaN</td>\n",
              "      <td>47.10</td>\n",
              "      <td>8</td>\n",
              "      <td>NaN</td>\n",
              "      <td>...</td>\n",
              "      <td>16.80</td>\n",
              "      <td>0.0</td>\n",
              "      <td>Санкт-Петербург</td>\n",
              "      <td>22041.0</td>\n",
              "      <td>17369.0</td>\n",
              "      <td>0.0</td>\n",
              "      <td>NaN</td>\n",
              "      <td>1.0</td>\n",
              "      <td>374.0</td>\n",
              "      <td>123.0</td>\n",
              "    </tr>\n",
              "    <tr>\n",
              "      <th>1757</th>\n",
              "      <td>5</td>\n",
              "      <td>3600000</td>\n",
              "      <td>39.0</td>\n",
              "      <td>2017-04-22</td>\n",
              "      <td>1</td>\n",
              "      <td>2.65</td>\n",
              "      <td>NaN</td>\n",
              "      <td>NaN</td>\n",
              "      <td>9</td>\n",
              "      <td>NaN</td>\n",
              "      <td>...</td>\n",
              "      <td>NaN</td>\n",
              "      <td>0.0</td>\n",
              "      <td>Санкт-Петербург</td>\n",
              "      <td>22735.0</td>\n",
              "      <td>11618.0</td>\n",
              "      <td>1.0</td>\n",
              "      <td>835.0</td>\n",
              "      <td>1.0</td>\n",
              "      <td>652.0</td>\n",
              "      <td>77.0</td>\n",
              "    </tr>\n",
              "    <tr>\n",
              "      <th>...</th>\n",
              "      <td>...</td>\n",
              "      <td>...</td>\n",
              "      <td>...</td>\n",
              "      <td>...</td>\n",
              "      <td>...</td>\n",
              "      <td>...</td>\n",
              "      <td>...</td>\n",
              "      <td>...</td>\n",
              "      <td>...</td>\n",
              "      <td>...</td>\n",
              "      <td>...</td>\n",
              "      <td>...</td>\n",
              "      <td>...</td>\n",
              "      <td>...</td>\n",
              "      <td>...</td>\n",
              "      <td>...</td>\n",
              "      <td>...</td>\n",
              "      <td>...</td>\n",
              "      <td>...</td>\n",
              "      <td>...</td>\n",
              "      <td>...</td>\n",
              "    </tr>\n",
              "    <tr>\n",
              "      <th>22542</th>\n",
              "      <td>5</td>\n",
              "      <td>8500000</td>\n",
              "      <td>63.5</td>\n",
              "      <td>2017-05-24</td>\n",
              "      <td>2</td>\n",
              "      <td>2.80</td>\n",
              "      <td>NaN</td>\n",
              "      <td>NaN</td>\n",
              "      <td>3</td>\n",
              "      <td>NaN</td>\n",
              "      <td>...</td>\n",
              "      <td>NaN</td>\n",
              "      <td>NaN</td>\n",
              "      <td>Санкт-Петербург</td>\n",
              "      <td>51340.0</td>\n",
              "      <td>15363.0</td>\n",
              "      <td>0.0</td>\n",
              "      <td>NaN</td>\n",
              "      <td>1.0</td>\n",
              "      <td>853.0</td>\n",
              "      <td>512.0</td>\n",
              "    </tr>\n",
              "    <tr>\n",
              "      <th>22656</th>\n",
              "      <td>4</td>\n",
              "      <td>4574160</td>\n",
              "      <td>64.5</td>\n",
              "      <td>2017-04-02</td>\n",
              "      <td>2</td>\n",
              "      <td>2.65</td>\n",
              "      <td>NaN</td>\n",
              "      <td>31.70</td>\n",
              "      <td>20</td>\n",
              "      <td>NaN</td>\n",
              "      <td>...</td>\n",
              "      <td>14.40</td>\n",
              "      <td>0.0</td>\n",
              "      <td>Санкт-Петербург</td>\n",
              "      <td>22041.0</td>\n",
              "      <td>17369.0</td>\n",
              "      <td>0.0</td>\n",
              "      <td>NaN</td>\n",
              "      <td>1.0</td>\n",
              "      <td>374.0</td>\n",
              "      <td>127.0</td>\n",
              "    </tr>\n",
              "    <tr>\n",
              "      <th>22808</th>\n",
              "      <td>0</td>\n",
              "      <td>14569263</td>\n",
              "      <td>110.4</td>\n",
              "      <td>2016-11-20</td>\n",
              "      <td>3</td>\n",
              "      <td>2.65</td>\n",
              "      <td>NaN</td>\n",
              "      <td>45.38</td>\n",
              "      <td>6</td>\n",
              "      <td>NaN</td>\n",
              "      <td>...</td>\n",
              "      <td>23.42</td>\n",
              "      <td>0.0</td>\n",
              "      <td>Санкт-Петербург</td>\n",
              "      <td>19095.0</td>\n",
              "      <td>4529.0</td>\n",
              "      <td>0.0</td>\n",
              "      <td>NaN</td>\n",
              "      <td>0.0</td>\n",
              "      <td>NaN</td>\n",
              "      <td>260.0</td>\n",
              "    </tr>\n",
              "    <tr>\n",
              "      <th>23590</th>\n",
              "      <td>0</td>\n",
              "      <td>21187872</td>\n",
              "      <td>123.3</td>\n",
              "      <td>2017-04-25</td>\n",
              "      <td>3</td>\n",
              "      <td>2.65</td>\n",
              "      <td>NaN</td>\n",
              "      <td>50.40</td>\n",
              "      <td>18</td>\n",
              "      <td>NaN</td>\n",
              "      <td>...</td>\n",
              "      <td>23.60</td>\n",
              "      <td>0.0</td>\n",
              "      <td>Санкт-Петербург</td>\n",
              "      <td>19095.0</td>\n",
              "      <td>4529.0</td>\n",
              "      <td>0.0</td>\n",
              "      <td>NaN</td>\n",
              "      <td>0.0</td>\n",
              "      <td>NaN</td>\n",
              "      <td>104.0</td>\n",
              "    </tr>\n",
              "    <tr>\n",
              "      <th>23658</th>\n",
              "      <td>6</td>\n",
              "      <td>3063600</td>\n",
              "      <td>43.8</td>\n",
              "      <td>2016-11-28</td>\n",
              "      <td>1</td>\n",
              "      <td>2.70</td>\n",
              "      <td>NaN</td>\n",
              "      <td>14.00</td>\n",
              "      <td>8</td>\n",
              "      <td>NaN</td>\n",
              "      <td>...</td>\n",
              "      <td>15.50</td>\n",
              "      <td>2.0</td>\n",
              "      <td>Санкт-Петербург</td>\n",
              "      <td>8426.0</td>\n",
              "      <td>12082.0</td>\n",
              "      <td>2.0</td>\n",
              "      <td>24.0</td>\n",
              "      <td>1.0</td>\n",
              "      <td>271.0</td>\n",
              "      <td>246.0</td>\n",
              "    </tr>\n",
              "  </tbody>\n",
              "</table>\n",
              "<p>86 rows × 22 columns</p>\n",
              "</div>"
            ],
            "text/plain": [
              "       total_images  last_price  total_area first_day_exposition  rooms  \\\n",
              "186              12    11640000        65.2           2018-10-02      2   \n",
              "237               4     2438033        28.1           2016-11-23      1   \n",
              "457               4     9788348        70.8           2015-08-01      2   \n",
              "671               4     6051191        93.6           2017-04-06      3   \n",
              "1757              5     3600000        39.0           2017-04-22      1   \n",
              "...             ...         ...         ...                  ...    ...   \n",
              "22542             5     8500000        63.5           2017-05-24      2   \n",
              "22656             4     4574160        64.5           2017-04-02      2   \n",
              "22808             0    14569263       110.4           2016-11-20      3   \n",
              "23590             0    21187872       123.3           2017-04-25      3   \n",
              "23658             6     3063600        43.8           2016-11-28      1   \n",
              "\n",
              "       ceiling_height  floors_total  living_area  floor is_apartment  ...  \\\n",
              "186              2.65           NaN        30.80      4          NaN  ...   \n",
              "237              2.65           NaN        20.75      1          NaN  ...   \n",
              "457              2.65           NaN        38.40     12          NaN  ...   \n",
              "671              2.65           NaN        47.10      8          NaN  ...   \n",
              "1757             2.65           NaN          NaN      9          NaN  ...   \n",
              "...               ...           ...          ...    ...          ...  ...   \n",
              "22542            2.80           NaN          NaN      3          NaN  ...   \n",
              "22656            2.65           NaN        31.70     20          NaN  ...   \n",
              "22808            2.65           NaN        45.38      6          NaN  ...   \n",
              "23590            2.65           NaN        50.40     18          NaN  ...   \n",
              "23658            2.70           NaN        14.00      8          NaN  ...   \n",
              "\n",
              "       kitchen_area  balcony    locality_name  airports_nearest  \\\n",
              "186           12.00      NaN  Санкт-Петербург           39197.0   \n",
              "237             NaN      0.0  Санкт-Петербург           22041.0   \n",
              "457           10.63      0.0  Санкт-Петербург           37364.0   \n",
              "671           16.80      0.0  Санкт-Петербург           22041.0   \n",
              "1757            NaN      0.0  Санкт-Петербург           22735.0   \n",
              "...             ...      ...              ...               ...   \n",
              "22542           NaN      NaN  Санкт-Петербург           51340.0   \n",
              "22656         14.40      0.0  Санкт-Петербург           22041.0   \n",
              "22808         23.42      0.0  Санкт-Петербург           19095.0   \n",
              "23590         23.60      0.0  Санкт-Петербург           19095.0   \n",
              "23658         15.50      2.0  Санкт-Петербург            8426.0   \n",
              "\n",
              "      cityCenters_nearest  parks_around3000  parks_nearest  ponds_around3000  \\\n",
              "186               12373.0               1.0          123.0               0.0   \n",
              "237               17369.0               0.0            NaN               1.0   \n",
              "457                8322.0               2.0          309.0               2.0   \n",
              "671               17369.0               0.0            NaN               1.0   \n",
              "1757              11618.0               1.0          835.0               1.0   \n",
              "...                   ...               ...            ...               ...   \n",
              "22542             15363.0               0.0            NaN               1.0   \n",
              "22656             17369.0               0.0            NaN               1.0   \n",
              "22808              4529.0               0.0            NaN               0.0   \n",
              "23590              4529.0               0.0            NaN               0.0   \n",
              "23658             12082.0               2.0           24.0               1.0   \n",
              "\n",
              "       ponds_nearest  days_exposition  \n",
              "186              NaN             49.0  \n",
              "237            374.0            251.0  \n",
              "457            706.0            727.0  \n",
              "671            374.0            123.0  \n",
              "1757           652.0             77.0  \n",
              "...              ...              ...  \n",
              "22542          853.0            512.0  \n",
              "22656          374.0            127.0  \n",
              "22808            NaN            260.0  \n",
              "23590            NaN            104.0  \n",
              "23658          271.0            246.0  \n",
              "\n",
              "[86 rows x 22 columns]"
            ]
          },
          "execution_count": 5,
          "metadata": {},
          "output_type": "execute_result"
        }
      ],
      "source": [
        "#посмотрим значения по столбцам\n",
        "data['total_images'].value_counts() #столбец оставляем, все коррекно\n",
        "\n",
        "data['last_price'] = data['last_price'].astype(int) #изменим на тип int для удобства\n",
        "\n",
        "data['total_area'].value_counts() #столбец оставляем\n",
        "\n",
        "data['first_day_exposition'] = pd.to_datetime(data['first_day_exposition'], format = '%Y-%m-%d') #изменим формат столбца на datetime\n",
        "\n",
        "data['rooms'].value_counts() #столбец оставляем\n",
        "\n",
        "data['ceiling_height'].value_counts()\n",
        "\n",
        "# разделили значения больше 20 на 10\n",
        "ceiling_height_query = data.query('ceiling_height > 19 and ceiling_height < 35').index\n",
        "data.loc[ceiling_height_query, 'ceiling_height'] = data.loc[ceiling_height_query, 'ceiling_height'] / 10\n",
        "data.describe()\n",
        "data['ceiling_height'] = data['ceiling_height'].fillna(2.65) # заменили пропущенные значения на медианные\n",
        "\n",
        "data[data['floors_total'].isna()] #столбец оставляем\n"
      ]
    },
    {
      "cell_type": "code",
      "execution_count": null,
      "metadata": {
        "id": "m4yvDkqJgT5T",
        "outputId": "d89e4cbf-6ef2-4cb3-d6ac-003a9f3afa8d"
      },
      "outputs": [
        {
          "data": {
            "text/plain": [
              "18.00    882\n",
              "17.00    675\n",
              "30.00    598\n",
              "16.00    486\n",
              "20.00    481\n",
              "        ... \n",
              "96.40      1\n",
              "50.26      1\n",
              "43.81      1\n",
              "54.43      1\n",
              "16.74      1\n",
              "Name: living_area, Length: 1782, dtype: int64"
            ]
          },
          "metadata": {},
          "output_type": "display_data"
        },
        {
          "data": {
            "text/html": [
              "<div>\n",
              "<style scoped>\n",
              "    .dataframe tbody tr th:only-of-type {\n",
              "        vertical-align: middle;\n",
              "    }\n",
              "\n",
              "    .dataframe tbody tr th {\n",
              "        vertical-align: top;\n",
              "    }\n",
              "\n",
              "    .dataframe thead th {\n",
              "        text-align: right;\n",
              "    }\n",
              "</style>\n",
              "<table border=\"1\" class=\"dataframe\">\n",
              "  <thead>\n",
              "    <tr style=\"text-align: right;\">\n",
              "      <th></th>\n",
              "      <th>total_images</th>\n",
              "      <th>last_price</th>\n",
              "      <th>total_area</th>\n",
              "      <th>first_day_exposition</th>\n",
              "      <th>rooms</th>\n",
              "      <th>ceiling_height</th>\n",
              "      <th>floors_total</th>\n",
              "      <th>living_area</th>\n",
              "      <th>floor</th>\n",
              "      <th>is_apartment</th>\n",
              "      <th>...</th>\n",
              "      <th>kitchen_area</th>\n",
              "      <th>balcony</th>\n",
              "      <th>locality_name</th>\n",
              "      <th>airports_nearest</th>\n",
              "      <th>cityCenters_nearest</th>\n",
              "      <th>parks_around3000</th>\n",
              "      <th>parks_nearest</th>\n",
              "      <th>ponds_around3000</th>\n",
              "      <th>ponds_nearest</th>\n",
              "      <th>days_exposition</th>\n",
              "    </tr>\n",
              "  </thead>\n",
              "  <tbody>\n",
              "    <tr>\n",
              "      <th>0</th>\n",
              "      <td>20</td>\n",
              "      <td>13000000</td>\n",
              "      <td>108.00</td>\n",
              "      <td>2019-03-07</td>\n",
              "      <td>3</td>\n",
              "      <td>2.70</td>\n",
              "      <td>16.0</td>\n",
              "      <td>51.00</td>\n",
              "      <td>8</td>\n",
              "      <td>NaN</td>\n",
              "      <td>...</td>\n",
              "      <td>25.00</td>\n",
              "      <td>NaN</td>\n",
              "      <td>Санкт-Петербург</td>\n",
              "      <td>18863.0</td>\n",
              "      <td>16028.0</td>\n",
              "      <td>1.0</td>\n",
              "      <td>482.0</td>\n",
              "      <td>2.0</td>\n",
              "      <td>755.0</td>\n",
              "      <td>NaN</td>\n",
              "    </tr>\n",
              "    <tr>\n",
              "      <th>1</th>\n",
              "      <td>7</td>\n",
              "      <td>3350000</td>\n",
              "      <td>40.40</td>\n",
              "      <td>2018-12-04</td>\n",
              "      <td>1</td>\n",
              "      <td>2.65</td>\n",
              "      <td>11.0</td>\n",
              "      <td>18.60</td>\n",
              "      <td>1</td>\n",
              "      <td>NaN</td>\n",
              "      <td>...</td>\n",
              "      <td>11.00</td>\n",
              "      <td>2.0</td>\n",
              "      <td>посёлок Шушары</td>\n",
              "      <td>12817.0</td>\n",
              "      <td>18603.0</td>\n",
              "      <td>0.0</td>\n",
              "      <td>NaN</td>\n",
              "      <td>0.0</td>\n",
              "      <td>NaN</td>\n",
              "      <td>81.0</td>\n",
              "    </tr>\n",
              "    <tr>\n",
              "      <th>2</th>\n",
              "      <td>10</td>\n",
              "      <td>5196000</td>\n",
              "      <td>56.00</td>\n",
              "      <td>2015-08-20</td>\n",
              "      <td>2</td>\n",
              "      <td>2.65</td>\n",
              "      <td>5.0</td>\n",
              "      <td>34.30</td>\n",
              "      <td>4</td>\n",
              "      <td>NaN</td>\n",
              "      <td>...</td>\n",
              "      <td>8.30</td>\n",
              "      <td>0.0</td>\n",
              "      <td>Санкт-Петербург</td>\n",
              "      <td>21741.0</td>\n",
              "      <td>13933.0</td>\n",
              "      <td>1.0</td>\n",
              "      <td>90.0</td>\n",
              "      <td>2.0</td>\n",
              "      <td>574.0</td>\n",
              "      <td>558.0</td>\n",
              "    </tr>\n",
              "    <tr>\n",
              "      <th>3</th>\n",
              "      <td>0</td>\n",
              "      <td>64900000</td>\n",
              "      <td>159.00</td>\n",
              "      <td>2015-07-24</td>\n",
              "      <td>3</td>\n",
              "      <td>2.65</td>\n",
              "      <td>14.0</td>\n",
              "      <td>45.00</td>\n",
              "      <td>9</td>\n",
              "      <td>NaN</td>\n",
              "      <td>...</td>\n",
              "      <td>NaN</td>\n",
              "      <td>0.0</td>\n",
              "      <td>Санкт-Петербург</td>\n",
              "      <td>28098.0</td>\n",
              "      <td>6800.0</td>\n",
              "      <td>2.0</td>\n",
              "      <td>84.0</td>\n",
              "      <td>3.0</td>\n",
              "      <td>234.0</td>\n",
              "      <td>424.0</td>\n",
              "    </tr>\n",
              "    <tr>\n",
              "      <th>4</th>\n",
              "      <td>2</td>\n",
              "      <td>10000000</td>\n",
              "      <td>100.00</td>\n",
              "      <td>2018-06-19</td>\n",
              "      <td>2</td>\n",
              "      <td>3.03</td>\n",
              "      <td>14.0</td>\n",
              "      <td>32.00</td>\n",
              "      <td>13</td>\n",
              "      <td>NaN</td>\n",
              "      <td>...</td>\n",
              "      <td>41.00</td>\n",
              "      <td>NaN</td>\n",
              "      <td>Санкт-Петербург</td>\n",
              "      <td>31856.0</td>\n",
              "      <td>8098.0</td>\n",
              "      <td>2.0</td>\n",
              "      <td>112.0</td>\n",
              "      <td>1.0</td>\n",
              "      <td>48.0</td>\n",
              "      <td>121.0</td>\n",
              "    </tr>\n",
              "    <tr>\n",
              "      <th>5</th>\n",
              "      <td>10</td>\n",
              "      <td>2890000</td>\n",
              "      <td>30.40</td>\n",
              "      <td>2018-09-10</td>\n",
              "      <td>1</td>\n",
              "      <td>2.65</td>\n",
              "      <td>12.0</td>\n",
              "      <td>14.40</td>\n",
              "      <td>5</td>\n",
              "      <td>NaN</td>\n",
              "      <td>...</td>\n",
              "      <td>9.10</td>\n",
              "      <td>NaN</td>\n",
              "      <td>городской посёлок Янино-1</td>\n",
              "      <td>NaN</td>\n",
              "      <td>NaN</td>\n",
              "      <td>NaN</td>\n",
              "      <td>NaN</td>\n",
              "      <td>NaN</td>\n",
              "      <td>NaN</td>\n",
              "      <td>55.0</td>\n",
              "    </tr>\n",
              "    <tr>\n",
              "      <th>6</th>\n",
              "      <td>6</td>\n",
              "      <td>3700000</td>\n",
              "      <td>37.30</td>\n",
              "      <td>2017-11-02</td>\n",
              "      <td>1</td>\n",
              "      <td>2.65</td>\n",
              "      <td>26.0</td>\n",
              "      <td>10.60</td>\n",
              "      <td>6</td>\n",
              "      <td>NaN</td>\n",
              "      <td>...</td>\n",
              "      <td>14.40</td>\n",
              "      <td>1.0</td>\n",
              "      <td>посёлок Парголово</td>\n",
              "      <td>52996.0</td>\n",
              "      <td>19143.0</td>\n",
              "      <td>0.0</td>\n",
              "      <td>NaN</td>\n",
              "      <td>0.0</td>\n",
              "      <td>NaN</td>\n",
              "      <td>155.0</td>\n",
              "    </tr>\n",
              "    <tr>\n",
              "      <th>7</th>\n",
              "      <td>5</td>\n",
              "      <td>7915000</td>\n",
              "      <td>71.60</td>\n",
              "      <td>2019-04-18</td>\n",
              "      <td>2</td>\n",
              "      <td>2.65</td>\n",
              "      <td>24.0</td>\n",
              "      <td>30.50</td>\n",
              "      <td>22</td>\n",
              "      <td>NaN</td>\n",
              "      <td>...</td>\n",
              "      <td>18.90</td>\n",
              "      <td>2.0</td>\n",
              "      <td>Санкт-Петербург</td>\n",
              "      <td>23982.0</td>\n",
              "      <td>11634.0</td>\n",
              "      <td>0.0</td>\n",
              "      <td>NaN</td>\n",
              "      <td>0.0</td>\n",
              "      <td>NaN</td>\n",
              "      <td>NaN</td>\n",
              "    </tr>\n",
              "    <tr>\n",
              "      <th>8</th>\n",
              "      <td>20</td>\n",
              "      <td>2900000</td>\n",
              "      <td>33.16</td>\n",
              "      <td>2018-05-23</td>\n",
              "      <td>1</td>\n",
              "      <td>2.65</td>\n",
              "      <td>27.0</td>\n",
              "      <td>15.43</td>\n",
              "      <td>26</td>\n",
              "      <td>NaN</td>\n",
              "      <td>...</td>\n",
              "      <td>8.81</td>\n",
              "      <td>NaN</td>\n",
              "      <td>посёлок Мурино</td>\n",
              "      <td>NaN</td>\n",
              "      <td>NaN</td>\n",
              "      <td>NaN</td>\n",
              "      <td>NaN</td>\n",
              "      <td>NaN</td>\n",
              "      <td>NaN</td>\n",
              "      <td>189.0</td>\n",
              "    </tr>\n",
              "    <tr>\n",
              "      <th>9</th>\n",
              "      <td>18</td>\n",
              "      <td>5400000</td>\n",
              "      <td>61.00</td>\n",
              "      <td>2017-02-26</td>\n",
              "      <td>3</td>\n",
              "      <td>2.50</td>\n",
              "      <td>9.0</td>\n",
              "      <td>43.60</td>\n",
              "      <td>7</td>\n",
              "      <td>NaN</td>\n",
              "      <td>...</td>\n",
              "      <td>6.50</td>\n",
              "      <td>2.0</td>\n",
              "      <td>Санкт-Петербург</td>\n",
              "      <td>50898.0</td>\n",
              "      <td>15008.0</td>\n",
              "      <td>0.0</td>\n",
              "      <td>NaN</td>\n",
              "      <td>0.0</td>\n",
              "      <td>NaN</td>\n",
              "      <td>289.0</td>\n",
              "    </tr>\n",
              "  </tbody>\n",
              "</table>\n",
              "<p>10 rows × 22 columns</p>\n",
              "</div>"
            ],
            "text/plain": [
              "   total_images  last_price  total_area first_day_exposition  rooms  \\\n",
              "0            20    13000000      108.00           2019-03-07      3   \n",
              "1             7     3350000       40.40           2018-12-04      1   \n",
              "2            10     5196000       56.00           2015-08-20      2   \n",
              "3             0    64900000      159.00           2015-07-24      3   \n",
              "4             2    10000000      100.00           2018-06-19      2   \n",
              "5            10     2890000       30.40           2018-09-10      1   \n",
              "6             6     3700000       37.30           2017-11-02      1   \n",
              "7             5     7915000       71.60           2019-04-18      2   \n",
              "8            20     2900000       33.16           2018-05-23      1   \n",
              "9            18     5400000       61.00           2017-02-26      3   \n",
              "\n",
              "   ceiling_height  floors_total  living_area  floor is_apartment  ...  \\\n",
              "0            2.70          16.0        51.00      8          NaN  ...   \n",
              "1            2.65          11.0        18.60      1          NaN  ...   \n",
              "2            2.65           5.0        34.30      4          NaN  ...   \n",
              "3            2.65          14.0        45.00      9          NaN  ...   \n",
              "4            3.03          14.0        32.00     13          NaN  ...   \n",
              "5            2.65          12.0        14.40      5          NaN  ...   \n",
              "6            2.65          26.0        10.60      6          NaN  ...   \n",
              "7            2.65          24.0        30.50     22          NaN  ...   \n",
              "8            2.65          27.0        15.43     26          NaN  ...   \n",
              "9            2.50           9.0        43.60      7          NaN  ...   \n",
              "\n",
              "   kitchen_area  balcony              locality_name  airports_nearest  \\\n",
              "0         25.00      NaN            Санкт-Петербург           18863.0   \n",
              "1         11.00      2.0             посёлок Шушары           12817.0   \n",
              "2          8.30      0.0            Санкт-Петербург           21741.0   \n",
              "3           NaN      0.0            Санкт-Петербург           28098.0   \n",
              "4         41.00      NaN            Санкт-Петербург           31856.0   \n",
              "5          9.10      NaN  городской посёлок Янино-1               NaN   \n",
              "6         14.40      1.0          посёлок Парголово           52996.0   \n",
              "7         18.90      2.0            Санкт-Петербург           23982.0   \n",
              "8          8.81      NaN             посёлок Мурино               NaN   \n",
              "9          6.50      2.0            Санкт-Петербург           50898.0   \n",
              "\n",
              "  cityCenters_nearest  parks_around3000  parks_nearest  ponds_around3000  \\\n",
              "0             16028.0               1.0          482.0               2.0   \n",
              "1             18603.0               0.0            NaN               0.0   \n",
              "2             13933.0               1.0           90.0               2.0   \n",
              "3              6800.0               2.0           84.0               3.0   \n",
              "4              8098.0               2.0          112.0               1.0   \n",
              "5                 NaN               NaN            NaN               NaN   \n",
              "6             19143.0               0.0            NaN               0.0   \n",
              "7             11634.0               0.0            NaN               0.0   \n",
              "8                 NaN               NaN            NaN               NaN   \n",
              "9             15008.0               0.0            NaN               0.0   \n",
              "\n",
              "   ponds_nearest  days_exposition  \n",
              "0          755.0              NaN  \n",
              "1            NaN             81.0  \n",
              "2          574.0            558.0  \n",
              "3          234.0            424.0  \n",
              "4           48.0            121.0  \n",
              "5            NaN             55.0  \n",
              "6            NaN            155.0  \n",
              "7            NaN              NaN  \n",
              "8            NaN            189.0  \n",
              "9            NaN            289.0  \n",
              "\n",
              "[10 rows x 22 columns]"
            ]
          },
          "execution_count": 6,
          "metadata": {},
          "output_type": "execute_result"
        }
      ],
      "source": [
        "display(data['living_area'].value_counts())\n",
        "living_area_group_median = data.groupby('rooms')['living_area'].transform('median') # медианное значение для жилой площади по количеству комнат \n",
        "data['living_area'].fillna(living_area_group_median, inplace=True) #заменяем пропуски на медианное\n",
        "data.head(10)\n"
      ]
    },
    {
      "cell_type": "code",
      "execution_count": null,
      "metadata": {
        "id": "SJKBcjjggT5U"
      },
      "outputs": [],
      "source": [
        "data['floor'].value_counts() #столбец оставляем\n",
        "\n",
        "data['is_apartment'] = data['is_apartment'].fillna(False) #заменили пропуски на False"
      ]
    },
    {
      "cell_type": "code",
      "execution_count": null,
      "metadata": {
        "id": "giGO9cG1gT5U",
        "outputId": "e649b2ff-e3a8-4921-a928-ab756f8ff1d6"
      },
      "outputs": [
        {
          "data": {
            "text/html": [
              "<div>\n",
              "<style scoped>\n",
              "    .dataframe tbody tr th:only-of-type {\n",
              "        vertical-align: middle;\n",
              "    }\n",
              "\n",
              "    .dataframe tbody tr th {\n",
              "        vertical-align: top;\n",
              "    }\n",
              "\n",
              "    .dataframe thead th {\n",
              "        text-align: right;\n",
              "    }\n",
              "</style>\n",
              "<table border=\"1\" class=\"dataframe\">\n",
              "  <thead>\n",
              "    <tr style=\"text-align: right;\">\n",
              "      <th></th>\n",
              "      <th>total_images</th>\n",
              "      <th>last_price</th>\n",
              "      <th>total_area</th>\n",
              "      <th>rooms</th>\n",
              "      <th>ceiling_height</th>\n",
              "      <th>floors_total</th>\n",
              "      <th>living_area</th>\n",
              "      <th>floor</th>\n",
              "      <th>is_apartment</th>\n",
              "      <th>studio</th>\n",
              "      <th>open_plan</th>\n",
              "      <th>kitchen_area</th>\n",
              "      <th>balcony</th>\n",
              "      <th>airports_nearest</th>\n",
              "      <th>cityCenters_nearest</th>\n",
              "      <th>parks_around3000</th>\n",
              "      <th>parks_nearest</th>\n",
              "      <th>ponds_around3000</th>\n",
              "      <th>ponds_nearest</th>\n",
              "      <th>days_exposition</th>\n",
              "    </tr>\n",
              "  </thead>\n",
              "  <tbody>\n",
              "    <tr>\n",
              "      <th>total_images</th>\n",
              "      <td>1.000000</td>\n",
              "      <td>0.104473</td>\n",
              "      <td>0.115352</td>\n",
              "      <td>0.099288</td>\n",
              "      <td>0.008987</td>\n",
              "      <td>0.010427</td>\n",
              "      <td>0.106486</td>\n",
              "      <td>0.031340</td>\n",
              "      <td>0.010532</td>\n",
              "      <td>-0.029303</td>\n",
              "      <td>-0.024407</td>\n",
              "      <td>0.104756</td>\n",
              "      <td>0.121693</td>\n",
              "      <td>-0.002298</td>\n",
              "      <td>-0.047666</td>\n",
              "      <td>0.021120</td>\n",
              "      <td>-0.008347</td>\n",
              "      <td>-0.011553</td>\n",
              "      <td>-0.003034</td>\n",
              "      <td>-0.026657</td>\n",
              "    </tr>\n",
              "    <tr>\n",
              "      <th>last_price</th>\n",
              "      <td>0.104473</td>\n",
              "      <td>1.000000</td>\n",
              "      <td>0.653675</td>\n",
              "      <td>0.363343</td>\n",
              "      <td>0.099948</td>\n",
              "      <td>-0.006984</td>\n",
              "      <td>0.556066</td>\n",
              "      <td>0.026576</td>\n",
              "      <td>0.026958</td>\n",
              "      <td>-0.025362</td>\n",
              "      <td>-0.008802</td>\n",
              "      <td>0.519869</td>\n",
              "      <td>0.029646</td>\n",
              "      <td>-0.026239</td>\n",
              "      <td>-0.206747</td>\n",
              "      <td>0.151058</td>\n",
              "      <td>-0.016414</td>\n",
              "      <td>0.159996</td>\n",
              "      <td>-0.084809</td>\n",
              "      <td>0.081146</td>\n",
              "    </tr>\n",
              "    <tr>\n",
              "      <th>total_area</th>\n",
              "      <td>0.115352</td>\n",
              "      <td>0.653675</td>\n",
              "      <td>1.000000</td>\n",
              "      <td>0.758344</td>\n",
              "      <td>0.121980</td>\n",
              "      <td>-0.075774</td>\n",
              "      <td>0.909446</td>\n",
              "      <td>-0.024754</td>\n",
              "      <td>0.029633</td>\n",
              "      <td>-0.072653</td>\n",
              "      <td>-0.034885</td>\n",
              "      <td>0.609121</td>\n",
              "      <td>0.047937</td>\n",
              "      <td>-0.030753</td>\n",
              "      <td>-0.231446</td>\n",
              "      <td>0.164689</td>\n",
              "      <td>-0.021497</td>\n",
              "      <td>0.162346</td>\n",
              "      <td>-0.097969</td>\n",
              "      <td>0.149675</td>\n",
              "    </tr>\n",
              "    <tr>\n",
              "      <th>rooms</th>\n",
              "      <td>0.099288</td>\n",
              "      <td>0.363343</td>\n",
              "      <td>0.758344</td>\n",
              "      <td>1.000000</td>\n",
              "      <td>0.073205</td>\n",
              "      <td>-0.228215</td>\n",
              "      <td>0.852852</td>\n",
              "      <td>-0.150862</td>\n",
              "      <td>0.000399</td>\n",
              "      <td>-0.147286</td>\n",
              "      <td>-0.087500</td>\n",
              "      <td>0.269945</td>\n",
              "      <td>0.017991</td>\n",
              "      <td>-0.061199</td>\n",
              "      <td>-0.184864</td>\n",
              "      <td>0.137257</td>\n",
              "      <td>-0.054549</td>\n",
              "      <td>0.092693</td>\n",
              "      <td>-0.057689</td>\n",
              "      <td>0.126961</td>\n",
              "    </tr>\n",
              "    <tr>\n",
              "      <th>ceiling_height</th>\n",
              "      <td>0.008987</td>\n",
              "      <td>0.099948</td>\n",
              "      <td>0.121980</td>\n",
              "      <td>0.073205</td>\n",
              "      <td>1.000000</td>\n",
              "      <td>-0.032247</td>\n",
              "      <td>0.114976</td>\n",
              "      <td>-0.015584</td>\n",
              "      <td>0.152567</td>\n",
              "      <td>0.002951</td>\n",
              "      <td>-0.000993</td>\n",
              "      <td>0.105685</td>\n",
              "      <td>0.026315</td>\n",
              "      <td>-0.022672</td>\n",
              "      <td>-0.096140</td>\n",
              "      <td>0.073442</td>\n",
              "      <td>-0.023083</td>\n",
              "      <td>0.074536</td>\n",
              "      <td>-0.044906</td>\n",
              "      <td>0.028744</td>\n",
              "    </tr>\n",
              "    <tr>\n",
              "      <th>floors_total</th>\n",
              "      <td>0.010427</td>\n",
              "      <td>-0.006984</td>\n",
              "      <td>-0.075774</td>\n",
              "      <td>-0.228215</td>\n",
              "      <td>-0.032247</td>\n",
              "      <td>1.000000</td>\n",
              "      <td>-0.170914</td>\n",
              "      <td>0.678059</td>\n",
              "      <td>-0.026351</td>\n",
              "      <td>0.070151</td>\n",
              "      <td>0.050791</td>\n",
              "      <td>0.163944</td>\n",
              "      <td>0.194065</td>\n",
              "      <td>0.108288</td>\n",
              "      <td>0.019774</td>\n",
              "      <td>-0.252833</td>\n",
              "      <td>0.097527</td>\n",
              "      <td>-0.122735</td>\n",
              "      <td>0.038864</td>\n",
              "      <td>-0.052234</td>\n",
              "    </tr>\n",
              "    <tr>\n",
              "      <th>living_area</th>\n",
              "      <td>0.106486</td>\n",
              "      <td>0.556066</td>\n",
              "      <td>0.909446</td>\n",
              "      <td>0.852852</td>\n",
              "      <td>0.114976</td>\n",
              "      <td>-0.170914</td>\n",
              "      <td>1.000000</td>\n",
              "      <td>-0.098591</td>\n",
              "      <td>0.028001</td>\n",
              "      <td>-0.056425</td>\n",
              "      <td>-0.031550</td>\n",
              "      <td>0.423638</td>\n",
              "      <td>0.017778</td>\n",
              "      <td>-0.057625</td>\n",
              "      <td>-0.226490</td>\n",
              "      <td>0.180828</td>\n",
              "      <td>-0.054066</td>\n",
              "      <td>0.145199</td>\n",
              "      <td>-0.081538</td>\n",
              "      <td>0.140794</td>\n",
              "    </tr>\n",
              "    <tr>\n",
              "      <th>floor</th>\n",
              "      <td>0.031340</td>\n",
              "      <td>0.026576</td>\n",
              "      <td>-0.024754</td>\n",
              "      <td>-0.150862</td>\n",
              "      <td>-0.015584</td>\n",
              "      <td>0.678059</td>\n",
              "      <td>-0.098591</td>\n",
              "      <td>1.000000</td>\n",
              "      <td>-0.013294</td>\n",
              "      <td>0.036940</td>\n",
              "      <td>0.035824</td>\n",
              "      <td>0.135531</td>\n",
              "      <td>0.168773</td>\n",
              "      <td>0.071597</td>\n",
              "      <td>0.009084</td>\n",
              "      <td>-0.163784</td>\n",
              "      <td>0.073045</td>\n",
              "      <td>-0.076312</td>\n",
              "      <td>0.024850</td>\n",
              "      <td>-0.039463</td>\n",
              "    </tr>\n",
              "    <tr>\n",
              "      <th>is_apartment</th>\n",
              "      <td>0.010532</td>\n",
              "      <td>0.026958</td>\n",
              "      <td>0.029633</td>\n",
              "      <td>0.000399</td>\n",
              "      <td>0.152567</td>\n",
              "      <td>-0.026351</td>\n",
              "      <td>0.028001</td>\n",
              "      <td>-0.013294</td>\n",
              "      <td>1.000000</td>\n",
              "      <td>-0.003657</td>\n",
              "      <td>-0.002448</td>\n",
              "      <td>0.049034</td>\n",
              "      <td>0.043119</td>\n",
              "      <td>0.016470</td>\n",
              "      <td>0.003732</td>\n",
              "      <td>0.020767</td>\n",
              "      <td>-0.033410</td>\n",
              "      <td>0.023989</td>\n",
              "      <td>0.003357</td>\n",
              "      <td>0.015262</td>\n",
              "    </tr>\n",
              "    <tr>\n",
              "      <th>studio</th>\n",
              "      <td>-0.029303</td>\n",
              "      <td>-0.025362</td>\n",
              "      <td>-0.072653</td>\n",
              "      <td>-0.147286</td>\n",
              "      <td>0.002951</td>\n",
              "      <td>0.070151</td>\n",
              "      <td>-0.056425</td>\n",
              "      <td>0.036940</td>\n",
              "      <td>-0.003657</td>\n",
              "      <td>1.000000</td>\n",
              "      <td>-0.004235</td>\n",
              "      <td>NaN</td>\n",
              "      <td>0.031455</td>\n",
              "      <td>-0.021876</td>\n",
              "      <td>-0.007029</td>\n",
              "      <td>-0.030202</td>\n",
              "      <td>0.009134</td>\n",
              "      <td>0.000939</td>\n",
              "      <td>0.002606</td>\n",
              "      <td>-0.022476</td>\n",
              "    </tr>\n",
              "    <tr>\n",
              "      <th>open_plan</th>\n",
              "      <td>-0.024407</td>\n",
              "      <td>-0.008802</td>\n",
              "      <td>-0.034885</td>\n",
              "      <td>-0.087500</td>\n",
              "      <td>-0.000993</td>\n",
              "      <td>0.050791</td>\n",
              "      <td>-0.031550</td>\n",
              "      <td>0.035824</td>\n",
              "      <td>-0.002448</td>\n",
              "      <td>-0.004235</td>\n",
              "      <td>1.000000</td>\n",
              "      <td>NaN</td>\n",
              "      <td>0.019491</td>\n",
              "      <td>-0.013583</td>\n",
              "      <td>-0.004204</td>\n",
              "      <td>-0.010077</td>\n",
              "      <td>0.010612</td>\n",
              "      <td>0.008455</td>\n",
              "      <td>-0.003328</td>\n",
              "      <td>-0.024112</td>\n",
              "    </tr>\n",
              "    <tr>\n",
              "      <th>kitchen_area</th>\n",
              "      <td>0.104756</td>\n",
              "      <td>0.519869</td>\n",
              "      <td>0.609121</td>\n",
              "      <td>0.269945</td>\n",
              "      <td>0.105685</td>\n",
              "      <td>0.163944</td>\n",
              "      <td>0.423638</td>\n",
              "      <td>0.135531</td>\n",
              "      <td>0.049034</td>\n",
              "      <td>NaN</td>\n",
              "      <td>NaN</td>\n",
              "      <td>1.000000</td>\n",
              "      <td>0.098634</td>\n",
              "      <td>0.008200</td>\n",
              "      <td>-0.190049</td>\n",
              "      <td>0.087503</td>\n",
              "      <td>0.029641</td>\n",
              "      <td>0.150148</td>\n",
              "      <td>-0.105223</td>\n",
              "      <td>0.100586</td>\n",
              "    </tr>\n",
              "    <tr>\n",
              "      <th>balcony</th>\n",
              "      <td>0.121693</td>\n",
              "      <td>0.029646</td>\n",
              "      <td>0.047937</td>\n",
              "      <td>0.017991</td>\n",
              "      <td>0.026315</td>\n",
              "      <td>0.194065</td>\n",
              "      <td>0.017778</td>\n",
              "      <td>0.168773</td>\n",
              "      <td>0.043119</td>\n",
              "      <td>0.031455</td>\n",
              "      <td>0.019491</td>\n",
              "      <td>0.098634</td>\n",
              "      <td>1.000000</td>\n",
              "      <td>0.066834</td>\n",
              "      <td>0.051051</td>\n",
              "      <td>-0.082850</td>\n",
              "      <td>0.052328</td>\n",
              "      <td>-0.032709</td>\n",
              "      <td>0.010847</td>\n",
              "      <td>-0.032909</td>\n",
              "    </tr>\n",
              "    <tr>\n",
              "      <th>airports_nearest</th>\n",
              "      <td>-0.002298</td>\n",
              "      <td>-0.026239</td>\n",
              "      <td>-0.030753</td>\n",
              "      <td>-0.061199</td>\n",
              "      <td>-0.022672</td>\n",
              "      <td>0.108288</td>\n",
              "      <td>-0.057625</td>\n",
              "      <td>0.071597</td>\n",
              "      <td>0.016470</td>\n",
              "      <td>-0.021876</td>\n",
              "      <td>-0.013583</td>\n",
              "      <td>0.008200</td>\n",
              "      <td>0.066834</td>\n",
              "      <td>1.000000</td>\n",
              "      <td>0.272184</td>\n",
              "      <td>0.000759</td>\n",
              "      <td>-0.070058</td>\n",
              "      <td>-0.049583</td>\n",
              "      <td>0.014049</td>\n",
              "      <td>-0.018271</td>\n",
              "    </tr>\n",
              "    <tr>\n",
              "      <th>cityCenters_nearest</th>\n",
              "      <td>-0.047666</td>\n",
              "      <td>-0.206747</td>\n",
              "      <td>-0.231446</td>\n",
              "      <td>-0.184864</td>\n",
              "      <td>-0.096140</td>\n",
              "      <td>0.019774</td>\n",
              "      <td>-0.226490</td>\n",
              "      <td>0.009084</td>\n",
              "      <td>0.003732</td>\n",
              "      <td>-0.007029</td>\n",
              "      <td>-0.004204</td>\n",
              "      <td>-0.190049</td>\n",
              "      <td>0.051051</td>\n",
              "      <td>0.272184</td>\n",
              "      <td>1.000000</td>\n",
              "      <td>-0.161738</td>\n",
              "      <td>-0.040650</td>\n",
              "      <td>-0.074577</td>\n",
              "      <td>0.028903</td>\n",
              "      <td>-0.060714</td>\n",
              "    </tr>\n",
              "    <tr>\n",
              "      <th>parks_around3000</th>\n",
              "      <td>0.021120</td>\n",
              "      <td>0.151058</td>\n",
              "      <td>0.164689</td>\n",
              "      <td>0.137257</td>\n",
              "      <td>0.073442</td>\n",
              "      <td>-0.252833</td>\n",
              "      <td>0.180828</td>\n",
              "      <td>-0.163784</td>\n",
              "      <td>0.020767</td>\n",
              "      <td>-0.030202</td>\n",
              "      <td>-0.010077</td>\n",
              "      <td>0.087503</td>\n",
              "      <td>-0.082850</td>\n",
              "      <td>0.000759</td>\n",
              "      <td>-0.161738</td>\n",
              "      <td>1.000000</td>\n",
              "      <td>-0.259514</td>\n",
              "      <td>0.304316</td>\n",
              "      <td>-0.167103</td>\n",
              "      <td>0.060491</td>\n",
              "    </tr>\n",
              "    <tr>\n",
              "      <th>parks_nearest</th>\n",
              "      <td>-0.008347</td>\n",
              "      <td>-0.016414</td>\n",
              "      <td>-0.021497</td>\n",
              "      <td>-0.054549</td>\n",
              "      <td>-0.023083</td>\n",
              "      <td>0.097527</td>\n",
              "      <td>-0.054066</td>\n",
              "      <td>0.073045</td>\n",
              "      <td>-0.033410</td>\n",
              "      <td>0.009134</td>\n",
              "      <td>0.010612</td>\n",
              "      <td>0.029641</td>\n",
              "      <td>0.052328</td>\n",
              "      <td>-0.070058</td>\n",
              "      <td>-0.040650</td>\n",
              "      <td>-0.259514</td>\n",
              "      <td>1.000000</td>\n",
              "      <td>0.077280</td>\n",
              "      <td>0.000692</td>\n",
              "      <td>0.023254</td>\n",
              "    </tr>\n",
              "    <tr>\n",
              "      <th>ponds_around3000</th>\n",
              "      <td>-0.011553</td>\n",
              "      <td>0.159996</td>\n",
              "      <td>0.162346</td>\n",
              "      <td>0.092693</td>\n",
              "      <td>0.074536</td>\n",
              "      <td>-0.122735</td>\n",
              "      <td>0.145199</td>\n",
              "      <td>-0.076312</td>\n",
              "      <td>0.023989</td>\n",
              "      <td>0.000939</td>\n",
              "      <td>0.008455</td>\n",
              "      <td>0.150148</td>\n",
              "      <td>-0.032709</td>\n",
              "      <td>-0.049583</td>\n",
              "      <td>-0.074577</td>\n",
              "      <td>0.304316</td>\n",
              "      <td>0.077280</td>\n",
              "      <td>1.000000</td>\n",
              "      <td>-0.341840</td>\n",
              "      <td>0.073162</td>\n",
              "    </tr>\n",
              "    <tr>\n",
              "      <th>ponds_nearest</th>\n",
              "      <td>-0.003034</td>\n",
              "      <td>-0.084809</td>\n",
              "      <td>-0.097969</td>\n",
              "      <td>-0.057689</td>\n",
              "      <td>-0.044906</td>\n",
              "      <td>0.038864</td>\n",
              "      <td>-0.081538</td>\n",
              "      <td>0.024850</td>\n",
              "      <td>0.003357</td>\n",
              "      <td>0.002606</td>\n",
              "      <td>-0.003328</td>\n",
              "      <td>-0.105223</td>\n",
              "      <td>0.010847</td>\n",
              "      <td>0.014049</td>\n",
              "      <td>0.028903</td>\n",
              "      <td>-0.167103</td>\n",
              "      <td>0.000692</td>\n",
              "      <td>-0.341840</td>\n",
              "      <td>1.000000</td>\n",
              "      <td>-0.077879</td>\n",
              "    </tr>\n",
              "    <tr>\n",
              "      <th>days_exposition</th>\n",
              "      <td>-0.026657</td>\n",
              "      <td>0.081146</td>\n",
              "      <td>0.149675</td>\n",
              "      <td>0.126961</td>\n",
              "      <td>0.028744</td>\n",
              "      <td>-0.052234</td>\n",
              "      <td>0.140794</td>\n",
              "      <td>-0.039463</td>\n",
              "      <td>0.015262</td>\n",
              "      <td>-0.022476</td>\n",
              "      <td>-0.024112</td>\n",
              "      <td>0.100586</td>\n",
              "      <td>-0.032909</td>\n",
              "      <td>-0.018271</td>\n",
              "      <td>-0.060714</td>\n",
              "      <td>0.060491</td>\n",
              "      <td>0.023254</td>\n",
              "      <td>0.073162</td>\n",
              "      <td>-0.077879</td>\n",
              "      <td>1.000000</td>\n",
              "    </tr>\n",
              "  </tbody>\n",
              "</table>\n",
              "</div>"
            ],
            "text/plain": [
              "                     total_images  last_price  total_area     rooms  \\\n",
              "total_images             1.000000    0.104473    0.115352  0.099288   \n",
              "last_price               0.104473    1.000000    0.653675  0.363343   \n",
              "total_area               0.115352    0.653675    1.000000  0.758344   \n",
              "rooms                    0.099288    0.363343    0.758344  1.000000   \n",
              "ceiling_height           0.008987    0.099948    0.121980  0.073205   \n",
              "floors_total             0.010427   -0.006984   -0.075774 -0.228215   \n",
              "living_area              0.106486    0.556066    0.909446  0.852852   \n",
              "floor                    0.031340    0.026576   -0.024754 -0.150862   \n",
              "is_apartment             0.010532    0.026958    0.029633  0.000399   \n",
              "studio                  -0.029303   -0.025362   -0.072653 -0.147286   \n",
              "open_plan               -0.024407   -0.008802   -0.034885 -0.087500   \n",
              "kitchen_area             0.104756    0.519869    0.609121  0.269945   \n",
              "balcony                  0.121693    0.029646    0.047937  0.017991   \n",
              "airports_nearest        -0.002298   -0.026239   -0.030753 -0.061199   \n",
              "cityCenters_nearest     -0.047666   -0.206747   -0.231446 -0.184864   \n",
              "parks_around3000         0.021120    0.151058    0.164689  0.137257   \n",
              "parks_nearest           -0.008347   -0.016414   -0.021497 -0.054549   \n",
              "ponds_around3000        -0.011553    0.159996    0.162346  0.092693   \n",
              "ponds_nearest           -0.003034   -0.084809   -0.097969 -0.057689   \n",
              "days_exposition         -0.026657    0.081146    0.149675  0.126961   \n",
              "\n",
              "                     ceiling_height  floors_total  living_area     floor  \\\n",
              "total_images               0.008987      0.010427     0.106486  0.031340   \n",
              "last_price                 0.099948     -0.006984     0.556066  0.026576   \n",
              "total_area                 0.121980     -0.075774     0.909446 -0.024754   \n",
              "rooms                      0.073205     -0.228215     0.852852 -0.150862   \n",
              "ceiling_height             1.000000     -0.032247     0.114976 -0.015584   \n",
              "floors_total              -0.032247      1.000000    -0.170914  0.678059   \n",
              "living_area                0.114976     -0.170914     1.000000 -0.098591   \n",
              "floor                     -0.015584      0.678059    -0.098591  1.000000   \n",
              "is_apartment               0.152567     -0.026351     0.028001 -0.013294   \n",
              "studio                     0.002951      0.070151    -0.056425  0.036940   \n",
              "open_plan                 -0.000993      0.050791    -0.031550  0.035824   \n",
              "kitchen_area               0.105685      0.163944     0.423638  0.135531   \n",
              "balcony                    0.026315      0.194065     0.017778  0.168773   \n",
              "airports_nearest          -0.022672      0.108288    -0.057625  0.071597   \n",
              "cityCenters_nearest       -0.096140      0.019774    -0.226490  0.009084   \n",
              "parks_around3000           0.073442     -0.252833     0.180828 -0.163784   \n",
              "parks_nearest             -0.023083      0.097527    -0.054066  0.073045   \n",
              "ponds_around3000           0.074536     -0.122735     0.145199 -0.076312   \n",
              "ponds_nearest             -0.044906      0.038864    -0.081538  0.024850   \n",
              "days_exposition            0.028744     -0.052234     0.140794 -0.039463   \n",
              "\n",
              "                     is_apartment    studio  open_plan  kitchen_area  \\\n",
              "total_images             0.010532 -0.029303  -0.024407      0.104756   \n",
              "last_price               0.026958 -0.025362  -0.008802      0.519869   \n",
              "total_area               0.029633 -0.072653  -0.034885      0.609121   \n",
              "rooms                    0.000399 -0.147286  -0.087500      0.269945   \n",
              "ceiling_height           0.152567  0.002951  -0.000993      0.105685   \n",
              "floors_total            -0.026351  0.070151   0.050791      0.163944   \n",
              "living_area              0.028001 -0.056425  -0.031550      0.423638   \n",
              "floor                   -0.013294  0.036940   0.035824      0.135531   \n",
              "is_apartment             1.000000 -0.003657  -0.002448      0.049034   \n",
              "studio                  -0.003657  1.000000  -0.004235           NaN   \n",
              "open_plan               -0.002448 -0.004235   1.000000           NaN   \n",
              "kitchen_area             0.049034       NaN        NaN      1.000000   \n",
              "balcony                  0.043119  0.031455   0.019491      0.098634   \n",
              "airports_nearest         0.016470 -0.021876  -0.013583      0.008200   \n",
              "cityCenters_nearest      0.003732 -0.007029  -0.004204     -0.190049   \n",
              "parks_around3000         0.020767 -0.030202  -0.010077      0.087503   \n",
              "parks_nearest           -0.033410  0.009134   0.010612      0.029641   \n",
              "ponds_around3000         0.023989  0.000939   0.008455      0.150148   \n",
              "ponds_nearest            0.003357  0.002606  -0.003328     -0.105223   \n",
              "days_exposition          0.015262 -0.022476  -0.024112      0.100586   \n",
              "\n",
              "                      balcony  airports_nearest  cityCenters_nearest  \\\n",
              "total_images         0.121693         -0.002298            -0.047666   \n",
              "last_price           0.029646         -0.026239            -0.206747   \n",
              "total_area           0.047937         -0.030753            -0.231446   \n",
              "rooms                0.017991         -0.061199            -0.184864   \n",
              "ceiling_height       0.026315         -0.022672            -0.096140   \n",
              "floors_total         0.194065          0.108288             0.019774   \n",
              "living_area          0.017778         -0.057625            -0.226490   \n",
              "floor                0.168773          0.071597             0.009084   \n",
              "is_apartment         0.043119          0.016470             0.003732   \n",
              "studio               0.031455         -0.021876            -0.007029   \n",
              "open_plan            0.019491         -0.013583            -0.004204   \n",
              "kitchen_area         0.098634          0.008200            -0.190049   \n",
              "balcony              1.000000          0.066834             0.051051   \n",
              "airports_nearest     0.066834          1.000000             0.272184   \n",
              "cityCenters_nearest  0.051051          0.272184             1.000000   \n",
              "parks_around3000    -0.082850          0.000759            -0.161738   \n",
              "parks_nearest        0.052328         -0.070058            -0.040650   \n",
              "ponds_around3000    -0.032709         -0.049583            -0.074577   \n",
              "ponds_nearest        0.010847          0.014049             0.028903   \n",
              "days_exposition     -0.032909         -0.018271            -0.060714   \n",
              "\n",
              "                     parks_around3000  parks_nearest  ponds_around3000  \\\n",
              "total_images                 0.021120      -0.008347         -0.011553   \n",
              "last_price                   0.151058      -0.016414          0.159996   \n",
              "total_area                   0.164689      -0.021497          0.162346   \n",
              "rooms                        0.137257      -0.054549          0.092693   \n",
              "ceiling_height               0.073442      -0.023083          0.074536   \n",
              "floors_total                -0.252833       0.097527         -0.122735   \n",
              "living_area                  0.180828      -0.054066          0.145199   \n",
              "floor                       -0.163784       0.073045         -0.076312   \n",
              "is_apartment                 0.020767      -0.033410          0.023989   \n",
              "studio                      -0.030202       0.009134          0.000939   \n",
              "open_plan                   -0.010077       0.010612          0.008455   \n",
              "kitchen_area                 0.087503       0.029641          0.150148   \n",
              "balcony                     -0.082850       0.052328         -0.032709   \n",
              "airports_nearest             0.000759      -0.070058         -0.049583   \n",
              "cityCenters_nearest         -0.161738      -0.040650         -0.074577   \n",
              "parks_around3000             1.000000      -0.259514          0.304316   \n",
              "parks_nearest               -0.259514       1.000000          0.077280   \n",
              "ponds_around3000             0.304316       0.077280          1.000000   \n",
              "ponds_nearest               -0.167103       0.000692         -0.341840   \n",
              "days_exposition              0.060491       0.023254          0.073162   \n",
              "\n",
              "                     ponds_nearest  days_exposition  \n",
              "total_images             -0.003034        -0.026657  \n",
              "last_price               -0.084809         0.081146  \n",
              "total_area               -0.097969         0.149675  \n",
              "rooms                    -0.057689         0.126961  \n",
              "ceiling_height           -0.044906         0.028744  \n",
              "floors_total              0.038864        -0.052234  \n",
              "living_area              -0.081538         0.140794  \n",
              "floor                     0.024850        -0.039463  \n",
              "is_apartment              0.003357         0.015262  \n",
              "studio                    0.002606        -0.022476  \n",
              "open_plan                -0.003328        -0.024112  \n",
              "kitchen_area             -0.105223         0.100586  \n",
              "balcony                   0.010847        -0.032909  \n",
              "airports_nearest          0.014049        -0.018271  \n",
              "cityCenters_nearest       0.028903        -0.060714  \n",
              "parks_around3000         -0.167103         0.060491  \n",
              "parks_nearest             0.000692         0.023254  \n",
              "ponds_around3000         -0.341840         0.073162  \n",
              "ponds_nearest             1.000000        -0.077879  \n",
              "days_exposition          -0.077879         1.000000  "
            ]
          },
          "execution_count": 8,
          "metadata": {},
          "output_type": "execute_result"
        }
      ],
      "source": [
        "data['studio'].value_counts() #столбец оставляем\n",
        "data['open_plan'].value_counts() #столбец оставляем\n",
        "\n",
        "data.corr() # посмотрим корреляцию площади кухни с другими параметрами"
      ]
    },
    {
      "cell_type": "code",
      "execution_count": null,
      "metadata": {
        "id": "ySswsNlcgT5U",
        "outputId": "95486f87-daec-4554-e14b-15db3b77ac21"
      },
      "outputs": [
        {
          "data": {
            "text/html": [
              "<div>\n",
              "<style scoped>\n",
              "    .dataframe tbody tr th:only-of-type {\n",
              "        vertical-align: middle;\n",
              "    }\n",
              "\n",
              "    .dataframe tbody tr th {\n",
              "        vertical-align: top;\n",
              "    }\n",
              "\n",
              "    .dataframe thead th {\n",
              "        text-align: right;\n",
              "    }\n",
              "</style>\n",
              "<table border=\"1\" class=\"dataframe\">\n",
              "  <thead>\n",
              "    <tr style=\"text-align: right;\">\n",
              "      <th></th>\n",
              "      <th>total_images</th>\n",
              "      <th>last_price</th>\n",
              "      <th>total_area</th>\n",
              "      <th>first_day_exposition</th>\n",
              "      <th>rooms</th>\n",
              "      <th>ceiling_height</th>\n",
              "      <th>floors_total</th>\n",
              "      <th>living_area</th>\n",
              "      <th>floor</th>\n",
              "      <th>is_apartment</th>\n",
              "      <th>...</th>\n",
              "      <th>kitchen_area</th>\n",
              "      <th>balcony</th>\n",
              "      <th>locality_name</th>\n",
              "      <th>airports_nearest</th>\n",
              "      <th>cityCenters_nearest</th>\n",
              "      <th>parks_around3000</th>\n",
              "      <th>parks_nearest</th>\n",
              "      <th>ponds_around3000</th>\n",
              "      <th>ponds_nearest</th>\n",
              "      <th>days_exposition</th>\n",
              "    </tr>\n",
              "  </thead>\n",
              "  <tbody>\n",
              "    <tr>\n",
              "      <th>0</th>\n",
              "      <td>20</td>\n",
              "      <td>13000000</td>\n",
              "      <td>108.00</td>\n",
              "      <td>2019-03-07</td>\n",
              "      <td>3</td>\n",
              "      <td>2.70</td>\n",
              "      <td>16.0</td>\n",
              "      <td>51.00</td>\n",
              "      <td>8</td>\n",
              "      <td>False</td>\n",
              "      <td>...</td>\n",
              "      <td>25.00</td>\n",
              "      <td>NaN</td>\n",
              "      <td>Санкт-Петербург</td>\n",
              "      <td>18863.0</td>\n",
              "      <td>16028.0</td>\n",
              "      <td>1.0</td>\n",
              "      <td>482.0</td>\n",
              "      <td>2.0</td>\n",
              "      <td>755.0</td>\n",
              "      <td>NaN</td>\n",
              "    </tr>\n",
              "    <tr>\n",
              "      <th>1</th>\n",
              "      <td>7</td>\n",
              "      <td>3350000</td>\n",
              "      <td>40.40</td>\n",
              "      <td>2018-12-04</td>\n",
              "      <td>1</td>\n",
              "      <td>2.65</td>\n",
              "      <td>11.0</td>\n",
              "      <td>18.60</td>\n",
              "      <td>1</td>\n",
              "      <td>False</td>\n",
              "      <td>...</td>\n",
              "      <td>11.00</td>\n",
              "      <td>2.0</td>\n",
              "      <td>посёлок Шушары</td>\n",
              "      <td>12817.0</td>\n",
              "      <td>18603.0</td>\n",
              "      <td>0.0</td>\n",
              "      <td>NaN</td>\n",
              "      <td>0.0</td>\n",
              "      <td>NaN</td>\n",
              "      <td>81.0</td>\n",
              "    </tr>\n",
              "    <tr>\n",
              "      <th>2</th>\n",
              "      <td>10</td>\n",
              "      <td>5196000</td>\n",
              "      <td>56.00</td>\n",
              "      <td>2015-08-20</td>\n",
              "      <td>2</td>\n",
              "      <td>2.65</td>\n",
              "      <td>5.0</td>\n",
              "      <td>34.30</td>\n",
              "      <td>4</td>\n",
              "      <td>False</td>\n",
              "      <td>...</td>\n",
              "      <td>8.30</td>\n",
              "      <td>0.0</td>\n",
              "      <td>Санкт-Петербург</td>\n",
              "      <td>21741.0</td>\n",
              "      <td>13933.0</td>\n",
              "      <td>1.0</td>\n",
              "      <td>90.0</td>\n",
              "      <td>2.0</td>\n",
              "      <td>574.0</td>\n",
              "      <td>558.0</td>\n",
              "    </tr>\n",
              "    <tr>\n",
              "      <th>3</th>\n",
              "      <td>0</td>\n",
              "      <td>64900000</td>\n",
              "      <td>159.00</td>\n",
              "      <td>2015-07-24</td>\n",
              "      <td>3</td>\n",
              "      <td>2.65</td>\n",
              "      <td>14.0</td>\n",
              "      <td>45.00</td>\n",
              "      <td>9</td>\n",
              "      <td>False</td>\n",
              "      <td>...</td>\n",
              "      <td>15.00</td>\n",
              "      <td>0.0</td>\n",
              "      <td>Санкт-Петербург</td>\n",
              "      <td>28098.0</td>\n",
              "      <td>6800.0</td>\n",
              "      <td>2.0</td>\n",
              "      <td>84.0</td>\n",
              "      <td>3.0</td>\n",
              "      <td>234.0</td>\n",
              "      <td>424.0</td>\n",
              "    </tr>\n",
              "    <tr>\n",
              "      <th>4</th>\n",
              "      <td>2</td>\n",
              "      <td>10000000</td>\n",
              "      <td>100.00</td>\n",
              "      <td>2018-06-19</td>\n",
              "      <td>2</td>\n",
              "      <td>3.03</td>\n",
              "      <td>14.0</td>\n",
              "      <td>32.00</td>\n",
              "      <td>13</td>\n",
              "      <td>False</td>\n",
              "      <td>...</td>\n",
              "      <td>41.00</td>\n",
              "      <td>NaN</td>\n",
              "      <td>Санкт-Петербург</td>\n",
              "      <td>31856.0</td>\n",
              "      <td>8098.0</td>\n",
              "      <td>2.0</td>\n",
              "      <td>112.0</td>\n",
              "      <td>1.0</td>\n",
              "      <td>48.0</td>\n",
              "      <td>121.0</td>\n",
              "    </tr>\n",
              "    <tr>\n",
              "      <th>5</th>\n",
              "      <td>10</td>\n",
              "      <td>2890000</td>\n",
              "      <td>30.40</td>\n",
              "      <td>2018-09-10</td>\n",
              "      <td>1</td>\n",
              "      <td>2.65</td>\n",
              "      <td>12.0</td>\n",
              "      <td>14.40</td>\n",
              "      <td>5</td>\n",
              "      <td>False</td>\n",
              "      <td>...</td>\n",
              "      <td>9.10</td>\n",
              "      <td>NaN</td>\n",
              "      <td>городской посёлок Янино-1</td>\n",
              "      <td>NaN</td>\n",
              "      <td>NaN</td>\n",
              "      <td>NaN</td>\n",
              "      <td>NaN</td>\n",
              "      <td>NaN</td>\n",
              "      <td>NaN</td>\n",
              "      <td>55.0</td>\n",
              "    </tr>\n",
              "    <tr>\n",
              "      <th>6</th>\n",
              "      <td>6</td>\n",
              "      <td>3700000</td>\n",
              "      <td>37.30</td>\n",
              "      <td>2017-11-02</td>\n",
              "      <td>1</td>\n",
              "      <td>2.65</td>\n",
              "      <td>26.0</td>\n",
              "      <td>10.60</td>\n",
              "      <td>6</td>\n",
              "      <td>False</td>\n",
              "      <td>...</td>\n",
              "      <td>14.40</td>\n",
              "      <td>1.0</td>\n",
              "      <td>посёлок Парголово</td>\n",
              "      <td>52996.0</td>\n",
              "      <td>19143.0</td>\n",
              "      <td>0.0</td>\n",
              "      <td>NaN</td>\n",
              "      <td>0.0</td>\n",
              "      <td>NaN</td>\n",
              "      <td>155.0</td>\n",
              "    </tr>\n",
              "    <tr>\n",
              "      <th>7</th>\n",
              "      <td>5</td>\n",
              "      <td>7915000</td>\n",
              "      <td>71.60</td>\n",
              "      <td>2019-04-18</td>\n",
              "      <td>2</td>\n",
              "      <td>2.65</td>\n",
              "      <td>24.0</td>\n",
              "      <td>30.50</td>\n",
              "      <td>22</td>\n",
              "      <td>False</td>\n",
              "      <td>...</td>\n",
              "      <td>18.90</td>\n",
              "      <td>2.0</td>\n",
              "      <td>Санкт-Петербург</td>\n",
              "      <td>23982.0</td>\n",
              "      <td>11634.0</td>\n",
              "      <td>0.0</td>\n",
              "      <td>NaN</td>\n",
              "      <td>0.0</td>\n",
              "      <td>NaN</td>\n",
              "      <td>NaN</td>\n",
              "    </tr>\n",
              "    <tr>\n",
              "      <th>8</th>\n",
              "      <td>20</td>\n",
              "      <td>2900000</td>\n",
              "      <td>33.16</td>\n",
              "      <td>2018-05-23</td>\n",
              "      <td>1</td>\n",
              "      <td>2.65</td>\n",
              "      <td>27.0</td>\n",
              "      <td>15.43</td>\n",
              "      <td>26</td>\n",
              "      <td>False</td>\n",
              "      <td>...</td>\n",
              "      <td>8.81</td>\n",
              "      <td>NaN</td>\n",
              "      <td>посёлок Мурино</td>\n",
              "      <td>NaN</td>\n",
              "      <td>NaN</td>\n",
              "      <td>NaN</td>\n",
              "      <td>NaN</td>\n",
              "      <td>NaN</td>\n",
              "      <td>NaN</td>\n",
              "      <td>189.0</td>\n",
              "    </tr>\n",
              "    <tr>\n",
              "      <th>9</th>\n",
              "      <td>18</td>\n",
              "      <td>5400000</td>\n",
              "      <td>61.00</td>\n",
              "      <td>2017-02-26</td>\n",
              "      <td>3</td>\n",
              "      <td>2.50</td>\n",
              "      <td>9.0</td>\n",
              "      <td>43.60</td>\n",
              "      <td>7</td>\n",
              "      <td>False</td>\n",
              "      <td>...</td>\n",
              "      <td>6.50</td>\n",
              "      <td>2.0</td>\n",
              "      <td>Санкт-Петербург</td>\n",
              "      <td>50898.0</td>\n",
              "      <td>15008.0</td>\n",
              "      <td>0.0</td>\n",
              "      <td>NaN</td>\n",
              "      <td>0.0</td>\n",
              "      <td>NaN</td>\n",
              "      <td>289.0</td>\n",
              "    </tr>\n",
              "  </tbody>\n",
              "</table>\n",
              "<p>10 rows × 22 columns</p>\n",
              "</div>"
            ],
            "text/plain": [
              "   total_images  last_price  total_area first_day_exposition  rooms  \\\n",
              "0            20    13000000      108.00           2019-03-07      3   \n",
              "1             7     3350000       40.40           2018-12-04      1   \n",
              "2            10     5196000       56.00           2015-08-20      2   \n",
              "3             0    64900000      159.00           2015-07-24      3   \n",
              "4             2    10000000      100.00           2018-06-19      2   \n",
              "5            10     2890000       30.40           2018-09-10      1   \n",
              "6             6     3700000       37.30           2017-11-02      1   \n",
              "7             5     7915000       71.60           2019-04-18      2   \n",
              "8            20     2900000       33.16           2018-05-23      1   \n",
              "9            18     5400000       61.00           2017-02-26      3   \n",
              "\n",
              "   ceiling_height  floors_total  living_area  floor  is_apartment  ...  \\\n",
              "0            2.70          16.0        51.00      8         False  ...   \n",
              "1            2.65          11.0        18.60      1         False  ...   \n",
              "2            2.65           5.0        34.30      4         False  ...   \n",
              "3            2.65          14.0        45.00      9         False  ...   \n",
              "4            3.03          14.0        32.00     13         False  ...   \n",
              "5            2.65          12.0        14.40      5         False  ...   \n",
              "6            2.65          26.0        10.60      6         False  ...   \n",
              "7            2.65          24.0        30.50     22         False  ...   \n",
              "8            2.65          27.0        15.43     26         False  ...   \n",
              "9            2.50           9.0        43.60      7         False  ...   \n",
              "\n",
              "   kitchen_area  balcony              locality_name  airports_nearest  \\\n",
              "0         25.00      NaN            Санкт-Петербург           18863.0   \n",
              "1         11.00      2.0             посёлок Шушары           12817.0   \n",
              "2          8.30      0.0            Санкт-Петербург           21741.0   \n",
              "3         15.00      0.0            Санкт-Петербург           28098.0   \n",
              "4         41.00      NaN            Санкт-Петербург           31856.0   \n",
              "5          9.10      NaN  городской посёлок Янино-1               NaN   \n",
              "6         14.40      1.0          посёлок Парголово           52996.0   \n",
              "7         18.90      2.0            Санкт-Петербург           23982.0   \n",
              "8          8.81      NaN             посёлок Мурино               NaN   \n",
              "9          6.50      2.0            Санкт-Петербург           50898.0   \n",
              "\n",
              "  cityCenters_nearest  parks_around3000  parks_nearest  ponds_around3000  \\\n",
              "0             16028.0               1.0          482.0               2.0   \n",
              "1             18603.0               0.0            NaN               0.0   \n",
              "2             13933.0               1.0           90.0               2.0   \n",
              "3              6800.0               2.0           84.0               3.0   \n",
              "4              8098.0               2.0          112.0               1.0   \n",
              "5                 NaN               NaN            NaN               NaN   \n",
              "6             19143.0               0.0            NaN               0.0   \n",
              "7             11634.0               0.0            NaN               0.0   \n",
              "8                 NaN               NaN            NaN               NaN   \n",
              "9             15008.0               0.0            NaN               0.0   \n",
              "\n",
              "   ponds_nearest  days_exposition  \n",
              "0          755.0              NaN  \n",
              "1            NaN             81.0  \n",
              "2          574.0            558.0  \n",
              "3          234.0            424.0  \n",
              "4           48.0            121.0  \n",
              "5            NaN             55.0  \n",
              "6            NaN            155.0  \n",
              "7            NaN              NaN  \n",
              "8            NaN            189.0  \n",
              "9            NaN            289.0  \n",
              "\n",
              "[10 rows x 22 columns]"
            ]
          },
          "execution_count": 9,
          "metadata": {},
          "output_type": "execute_result"
        }
      ],
      "source": [
        "kitchen_area_group_median = data.groupby('total_area')['kitchen_area'].transform('median') # медианное значение площади кухни по жилой площади \n",
        "data['kitchen_area'].fillna(kitchen_area_group_median, inplace=True)\n",
        "data.head(10)"
      ]
    },
    {
      "cell_type": "code",
      "execution_count": null,
      "metadata": {
        "id": "cljbaurEgT5V",
        "outputId": "ee6994ba-3cc4-44ef-b2d9-b303daaef061"
      },
      "outputs": [
        {
          "data": {
            "text/html": [
              "<div>\n",
              "<style scoped>\n",
              "    .dataframe tbody tr th:only-of-type {\n",
              "        vertical-align: middle;\n",
              "    }\n",
              "\n",
              "    .dataframe tbody tr th {\n",
              "        vertical-align: top;\n",
              "    }\n",
              "\n",
              "    .dataframe thead th {\n",
              "        text-align: right;\n",
              "    }\n",
              "</style>\n",
              "<table border=\"1\" class=\"dataframe\">\n",
              "  <thead>\n",
              "    <tr style=\"text-align: right;\">\n",
              "      <th></th>\n",
              "      <th>total_images</th>\n",
              "      <th>last_price</th>\n",
              "      <th>total_area</th>\n",
              "      <th>first_day_exposition</th>\n",
              "      <th>rooms</th>\n",
              "      <th>ceiling_height</th>\n",
              "      <th>floors_total</th>\n",
              "      <th>living_area</th>\n",
              "      <th>floor</th>\n",
              "      <th>is_apartment</th>\n",
              "      <th>...</th>\n",
              "      <th>kitchen_area</th>\n",
              "      <th>balcony</th>\n",
              "      <th>locality_name</th>\n",
              "      <th>airports_nearest</th>\n",
              "      <th>cityCenters_nearest</th>\n",
              "      <th>parks_around3000</th>\n",
              "      <th>parks_nearest</th>\n",
              "      <th>ponds_around3000</th>\n",
              "      <th>ponds_nearest</th>\n",
              "      <th>days_exposition</th>\n",
              "    </tr>\n",
              "  </thead>\n",
              "  <tbody>\n",
              "    <tr>\n",
              "      <th>0</th>\n",
              "      <td>20</td>\n",
              "      <td>13000000</td>\n",
              "      <td>108.00</td>\n",
              "      <td>2019-03-07</td>\n",
              "      <td>3</td>\n",
              "      <td>2.70</td>\n",
              "      <td>16.0</td>\n",
              "      <td>51.00</td>\n",
              "      <td>8</td>\n",
              "      <td>False</td>\n",
              "      <td>...</td>\n",
              "      <td>25.00</td>\n",
              "      <td>0</td>\n",
              "      <td>Санкт-Петербург</td>\n",
              "      <td>18863.0</td>\n",
              "      <td>16028.0</td>\n",
              "      <td>1.0</td>\n",
              "      <td>482.0</td>\n",
              "      <td>2.0</td>\n",
              "      <td>755.0</td>\n",
              "      <td>95.0</td>\n",
              "    </tr>\n",
              "    <tr>\n",
              "      <th>1</th>\n",
              "      <td>7</td>\n",
              "      <td>3350000</td>\n",
              "      <td>40.40</td>\n",
              "      <td>2018-12-04</td>\n",
              "      <td>1</td>\n",
              "      <td>2.65</td>\n",
              "      <td>11.0</td>\n",
              "      <td>18.60</td>\n",
              "      <td>1</td>\n",
              "      <td>False</td>\n",
              "      <td>...</td>\n",
              "      <td>11.00</td>\n",
              "      <td>2</td>\n",
              "      <td>посёлок Шушары</td>\n",
              "      <td>12817.0</td>\n",
              "      <td>18603.0</td>\n",
              "      <td>0.0</td>\n",
              "      <td>NaN</td>\n",
              "      <td>0.0</td>\n",
              "      <td>NaN</td>\n",
              "      <td>81.0</td>\n",
              "    </tr>\n",
              "    <tr>\n",
              "      <th>2</th>\n",
              "      <td>10</td>\n",
              "      <td>5196000</td>\n",
              "      <td>56.00</td>\n",
              "      <td>2015-08-20</td>\n",
              "      <td>2</td>\n",
              "      <td>2.65</td>\n",
              "      <td>5.0</td>\n",
              "      <td>34.30</td>\n",
              "      <td>4</td>\n",
              "      <td>False</td>\n",
              "      <td>...</td>\n",
              "      <td>8.30</td>\n",
              "      <td>0</td>\n",
              "      <td>Санкт-Петербург</td>\n",
              "      <td>21741.0</td>\n",
              "      <td>13933.0</td>\n",
              "      <td>1.0</td>\n",
              "      <td>90.0</td>\n",
              "      <td>2.0</td>\n",
              "      <td>574.0</td>\n",
              "      <td>558.0</td>\n",
              "    </tr>\n",
              "    <tr>\n",
              "      <th>3</th>\n",
              "      <td>0</td>\n",
              "      <td>64900000</td>\n",
              "      <td>159.00</td>\n",
              "      <td>2015-07-24</td>\n",
              "      <td>3</td>\n",
              "      <td>2.65</td>\n",
              "      <td>14.0</td>\n",
              "      <td>45.00</td>\n",
              "      <td>9</td>\n",
              "      <td>False</td>\n",
              "      <td>...</td>\n",
              "      <td>15.00</td>\n",
              "      <td>0</td>\n",
              "      <td>Санкт-Петербург</td>\n",
              "      <td>28098.0</td>\n",
              "      <td>6800.0</td>\n",
              "      <td>2.0</td>\n",
              "      <td>84.0</td>\n",
              "      <td>3.0</td>\n",
              "      <td>234.0</td>\n",
              "      <td>424.0</td>\n",
              "    </tr>\n",
              "    <tr>\n",
              "      <th>4</th>\n",
              "      <td>2</td>\n",
              "      <td>10000000</td>\n",
              "      <td>100.00</td>\n",
              "      <td>2018-06-19</td>\n",
              "      <td>2</td>\n",
              "      <td>3.03</td>\n",
              "      <td>14.0</td>\n",
              "      <td>32.00</td>\n",
              "      <td>13</td>\n",
              "      <td>False</td>\n",
              "      <td>...</td>\n",
              "      <td>41.00</td>\n",
              "      <td>0</td>\n",
              "      <td>Санкт-Петербург</td>\n",
              "      <td>31856.0</td>\n",
              "      <td>8098.0</td>\n",
              "      <td>2.0</td>\n",
              "      <td>112.0</td>\n",
              "      <td>1.0</td>\n",
              "      <td>48.0</td>\n",
              "      <td>121.0</td>\n",
              "    </tr>\n",
              "    <tr>\n",
              "      <th>5</th>\n",
              "      <td>10</td>\n",
              "      <td>2890000</td>\n",
              "      <td>30.40</td>\n",
              "      <td>2018-09-10</td>\n",
              "      <td>1</td>\n",
              "      <td>2.65</td>\n",
              "      <td>12.0</td>\n",
              "      <td>14.40</td>\n",
              "      <td>5</td>\n",
              "      <td>False</td>\n",
              "      <td>...</td>\n",
              "      <td>9.10</td>\n",
              "      <td>0</td>\n",
              "      <td>городской посёлок Янино-1</td>\n",
              "      <td>NaN</td>\n",
              "      <td>NaN</td>\n",
              "      <td>NaN</td>\n",
              "      <td>NaN</td>\n",
              "      <td>NaN</td>\n",
              "      <td>NaN</td>\n",
              "      <td>55.0</td>\n",
              "    </tr>\n",
              "    <tr>\n",
              "      <th>6</th>\n",
              "      <td>6</td>\n",
              "      <td>3700000</td>\n",
              "      <td>37.30</td>\n",
              "      <td>2017-11-02</td>\n",
              "      <td>1</td>\n",
              "      <td>2.65</td>\n",
              "      <td>26.0</td>\n",
              "      <td>10.60</td>\n",
              "      <td>6</td>\n",
              "      <td>False</td>\n",
              "      <td>...</td>\n",
              "      <td>14.40</td>\n",
              "      <td>1</td>\n",
              "      <td>посёлок Парголово</td>\n",
              "      <td>52996.0</td>\n",
              "      <td>19143.0</td>\n",
              "      <td>0.0</td>\n",
              "      <td>NaN</td>\n",
              "      <td>0.0</td>\n",
              "      <td>NaN</td>\n",
              "      <td>155.0</td>\n",
              "    </tr>\n",
              "    <tr>\n",
              "      <th>7</th>\n",
              "      <td>5</td>\n",
              "      <td>7915000</td>\n",
              "      <td>71.60</td>\n",
              "      <td>2019-04-18</td>\n",
              "      <td>2</td>\n",
              "      <td>2.65</td>\n",
              "      <td>24.0</td>\n",
              "      <td>30.50</td>\n",
              "      <td>22</td>\n",
              "      <td>False</td>\n",
              "      <td>...</td>\n",
              "      <td>18.90</td>\n",
              "      <td>2</td>\n",
              "      <td>Санкт-Петербург</td>\n",
              "      <td>23982.0</td>\n",
              "      <td>11634.0</td>\n",
              "      <td>0.0</td>\n",
              "      <td>NaN</td>\n",
              "      <td>0.0</td>\n",
              "      <td>NaN</td>\n",
              "      <td>95.0</td>\n",
              "    </tr>\n",
              "    <tr>\n",
              "      <th>8</th>\n",
              "      <td>20</td>\n",
              "      <td>2900000</td>\n",
              "      <td>33.16</td>\n",
              "      <td>2018-05-23</td>\n",
              "      <td>1</td>\n",
              "      <td>2.65</td>\n",
              "      <td>27.0</td>\n",
              "      <td>15.43</td>\n",
              "      <td>26</td>\n",
              "      <td>False</td>\n",
              "      <td>...</td>\n",
              "      <td>8.81</td>\n",
              "      <td>0</td>\n",
              "      <td>посёлок Мурино</td>\n",
              "      <td>NaN</td>\n",
              "      <td>NaN</td>\n",
              "      <td>NaN</td>\n",
              "      <td>NaN</td>\n",
              "      <td>NaN</td>\n",
              "      <td>NaN</td>\n",
              "      <td>189.0</td>\n",
              "    </tr>\n",
              "    <tr>\n",
              "      <th>9</th>\n",
              "      <td>18</td>\n",
              "      <td>5400000</td>\n",
              "      <td>61.00</td>\n",
              "      <td>2017-02-26</td>\n",
              "      <td>3</td>\n",
              "      <td>2.50</td>\n",
              "      <td>9.0</td>\n",
              "      <td>43.60</td>\n",
              "      <td>7</td>\n",
              "      <td>False</td>\n",
              "      <td>...</td>\n",
              "      <td>6.50</td>\n",
              "      <td>2</td>\n",
              "      <td>Санкт-Петербург</td>\n",
              "      <td>50898.0</td>\n",
              "      <td>15008.0</td>\n",
              "      <td>0.0</td>\n",
              "      <td>NaN</td>\n",
              "      <td>0.0</td>\n",
              "      <td>NaN</td>\n",
              "      <td>289.0</td>\n",
              "    </tr>\n",
              "  </tbody>\n",
              "</table>\n",
              "<p>10 rows × 22 columns</p>\n",
              "</div>"
            ],
            "text/plain": [
              "   total_images  last_price  total_area first_day_exposition  rooms  \\\n",
              "0            20    13000000      108.00           2019-03-07      3   \n",
              "1             7     3350000       40.40           2018-12-04      1   \n",
              "2            10     5196000       56.00           2015-08-20      2   \n",
              "3             0    64900000      159.00           2015-07-24      3   \n",
              "4             2    10000000      100.00           2018-06-19      2   \n",
              "5            10     2890000       30.40           2018-09-10      1   \n",
              "6             6     3700000       37.30           2017-11-02      1   \n",
              "7             5     7915000       71.60           2019-04-18      2   \n",
              "8            20     2900000       33.16           2018-05-23      1   \n",
              "9            18     5400000       61.00           2017-02-26      3   \n",
              "\n",
              "   ceiling_height  floors_total  living_area  floor  is_apartment  ...  \\\n",
              "0            2.70          16.0        51.00      8         False  ...   \n",
              "1            2.65          11.0        18.60      1         False  ...   \n",
              "2            2.65           5.0        34.30      4         False  ...   \n",
              "3            2.65          14.0        45.00      9         False  ...   \n",
              "4            3.03          14.0        32.00     13         False  ...   \n",
              "5            2.65          12.0        14.40      5         False  ...   \n",
              "6            2.65          26.0        10.60      6         False  ...   \n",
              "7            2.65          24.0        30.50     22         False  ...   \n",
              "8            2.65          27.0        15.43     26         False  ...   \n",
              "9            2.50           9.0        43.60      7         False  ...   \n",
              "\n",
              "   kitchen_area  balcony              locality_name  airports_nearest  \\\n",
              "0         25.00        0            Санкт-Петербург           18863.0   \n",
              "1         11.00        2             посёлок Шушары           12817.0   \n",
              "2          8.30        0            Санкт-Петербург           21741.0   \n",
              "3         15.00        0            Санкт-Петербург           28098.0   \n",
              "4         41.00        0            Санкт-Петербург           31856.0   \n",
              "5          9.10        0  городской посёлок Янино-1               NaN   \n",
              "6         14.40        1          посёлок Парголово           52996.0   \n",
              "7         18.90        2            Санкт-Петербург           23982.0   \n",
              "8          8.81        0             посёлок Мурино               NaN   \n",
              "9          6.50        2            Санкт-Петербург           50898.0   \n",
              "\n",
              "  cityCenters_nearest  parks_around3000  parks_nearest  ponds_around3000  \\\n",
              "0             16028.0               1.0          482.0               2.0   \n",
              "1             18603.0               0.0            NaN               0.0   \n",
              "2             13933.0               1.0           90.0               2.0   \n",
              "3              6800.0               2.0           84.0               3.0   \n",
              "4              8098.0               2.0          112.0               1.0   \n",
              "5                 NaN               NaN            NaN               NaN   \n",
              "6             19143.0               0.0            NaN               0.0   \n",
              "7             11634.0               0.0            NaN               0.0   \n",
              "8                 NaN               NaN            NaN               NaN   \n",
              "9             15008.0               0.0            NaN               0.0   \n",
              "\n",
              "   ponds_nearest  days_exposition  \n",
              "0          755.0             95.0  \n",
              "1            NaN             81.0  \n",
              "2          574.0            558.0  \n",
              "3          234.0            424.0  \n",
              "4           48.0            121.0  \n",
              "5            NaN             55.0  \n",
              "6            NaN            155.0  \n",
              "7            NaN             95.0  \n",
              "8            NaN            189.0  \n",
              "9            NaN            289.0  \n",
              "\n",
              "[10 rows x 22 columns]"
            ]
          },
          "execution_count": 10,
          "metadata": {},
          "output_type": "execute_result"
        }
      ],
      "source": [
        "data['balcony'].value_counts()\n",
        "data['balcony'] = data['balcony'].fillna(0) #заменим пропуски на 0\n",
        "data['balcony'] = data['balcony'].astype('int') #изменим тип данных\n",
        "\n",
        "data['locality_name'].value_counts() #причина пропусков не ясна\n",
        "data['airports_nearest'].value_counts() #столбец оставляем\n",
        "data['cityCenters_nearest'].value_counts() #столбец оставляем\n",
        "data['parks_around3000'].value_counts() #столбец оставляем\n",
        "data['parks_nearest'].value_counts() #столбец оставляем\n",
        "data['ponds_around3000'].value_counts() #столбец оставляем\n",
        "data['ponds_nearest'].value_counts() #столбец оставляем\n",
        "\n",
        "days_exposition_group_median = data.groupby('locality_name')['days_exposition'].transform('median') # среднее значение размещения по населенному пункту \n",
        "data['days_exposition'].fillna(days_exposition_group_median, inplace=True)\n",
        "data['days_exposition'] = data['days_exposition'].round()\n",
        "data.head(10)"
      ]
    },
    {
      "cell_type": "markdown",
      "metadata": {
        "id": "0b6j7tShgT5V"
      },
      "source": [
        "### Вывод"
      ]
    },
    {
      "cell_type": "markdown",
      "metadata": {
        "id": "tv863zV3gT5V"
      },
      "source": [
        "#### 1. Заменили пропущенные значения в высоте плтолков на медианные. \n",
        "#### 2. Значения потолков выше 20 метров разделили на 10, скорее всего, опечатка, не поставили запятую. \n",
        "#### 3. Пропущенные значения в жилой площади заменили на медианное по количеству комнат. \n",
        "#### 4. Пропуски в балконах заменили на 0, скорее всего их нет. \n",
        "#### 5. Заменили в столбце аппартаменты пропущенные значения на False, скорее всего, продавец не знает что это такое, следовательно не владеет ими. \n",
        "#### 6. В таблице корреляции видно, что площадь кухни корелирует с общей площадью, поэтому заменили на медианное по площади. \n",
        "#### 7. Количество дней размещения заменили на медиану по населенному пункту."
      ]
    },
    {
      "cell_type": "markdown",
      "metadata": {
        "id": "uJL1WWF2gT5X"
      },
      "source": [
        "## Посчитаем и добавим в таблицу\n",
        "#### 1. цену квадратного метра;\n",
        "#### 2. день недели, месяц и год публикации объявления;\n",
        "#### 3.этаж квартиры; варианты — первый, последний, другой;\n",
        "#### 4.соотношение жилой и общей площади, а также отношение площади кухни к общей."
      ]
    },
    {
      "cell_type": "markdown",
      "metadata": {
        "id": "47MYLKj3gT5X"
      },
      "source": [
        "### 1. Цена квадратного метра"
      ]
    },
    {
      "cell_type": "code",
      "execution_count": null,
      "metadata": {
        "id": "GzLBMeVXgT5X",
        "outputId": "cd1808b6-ba9c-4da5-e858-cd16710bf378"
      },
      "outputs": [
        {
          "data": {
            "text/html": [
              "<div>\n",
              "<style scoped>\n",
              "    .dataframe tbody tr th:only-of-type {\n",
              "        vertical-align: middle;\n",
              "    }\n",
              "\n",
              "    .dataframe tbody tr th {\n",
              "        vertical-align: top;\n",
              "    }\n",
              "\n",
              "    .dataframe thead th {\n",
              "        text-align: right;\n",
              "    }\n",
              "</style>\n",
              "<table border=\"1\" class=\"dataframe\">\n",
              "  <thead>\n",
              "    <tr style=\"text-align: right;\">\n",
              "      <th></th>\n",
              "      <th>total_images</th>\n",
              "      <th>last_price</th>\n",
              "      <th>total_area</th>\n",
              "      <th>first_day_exposition</th>\n",
              "      <th>rooms</th>\n",
              "      <th>ceiling_height</th>\n",
              "      <th>floors_total</th>\n",
              "      <th>living_area</th>\n",
              "      <th>floor</th>\n",
              "      <th>is_apartment</th>\n",
              "      <th>...</th>\n",
              "      <th>balcony</th>\n",
              "      <th>locality_name</th>\n",
              "      <th>airports_nearest</th>\n",
              "      <th>cityCenters_nearest</th>\n",
              "      <th>parks_around3000</th>\n",
              "      <th>parks_nearest</th>\n",
              "      <th>ponds_around3000</th>\n",
              "      <th>ponds_nearest</th>\n",
              "      <th>days_exposition</th>\n",
              "      <th>squere_meter_price</th>\n",
              "    </tr>\n",
              "  </thead>\n",
              "  <tbody>\n",
              "    <tr>\n",
              "      <th>0</th>\n",
              "      <td>20</td>\n",
              "      <td>13000000</td>\n",
              "      <td>108.00</td>\n",
              "      <td>2019-03-07</td>\n",
              "      <td>3</td>\n",
              "      <td>2.70</td>\n",
              "      <td>16.0</td>\n",
              "      <td>51.00</td>\n",
              "      <td>8</td>\n",
              "      <td>False</td>\n",
              "      <td>...</td>\n",
              "      <td>0</td>\n",
              "      <td>Санкт-Петербург</td>\n",
              "      <td>18863.0</td>\n",
              "      <td>16028.0</td>\n",
              "      <td>1.0</td>\n",
              "      <td>482.0</td>\n",
              "      <td>2.0</td>\n",
              "      <td>755.0</td>\n",
              "      <td>95.0</td>\n",
              "      <td>120370</td>\n",
              "    </tr>\n",
              "    <tr>\n",
              "      <th>1</th>\n",
              "      <td>7</td>\n",
              "      <td>3350000</td>\n",
              "      <td>40.40</td>\n",
              "      <td>2018-12-04</td>\n",
              "      <td>1</td>\n",
              "      <td>2.65</td>\n",
              "      <td>11.0</td>\n",
              "      <td>18.60</td>\n",
              "      <td>1</td>\n",
              "      <td>False</td>\n",
              "      <td>...</td>\n",
              "      <td>2</td>\n",
              "      <td>посёлок Шушары</td>\n",
              "      <td>12817.0</td>\n",
              "      <td>18603.0</td>\n",
              "      <td>0.0</td>\n",
              "      <td>NaN</td>\n",
              "      <td>0.0</td>\n",
              "      <td>NaN</td>\n",
              "      <td>81.0</td>\n",
              "      <td>82920</td>\n",
              "    </tr>\n",
              "    <tr>\n",
              "      <th>2</th>\n",
              "      <td>10</td>\n",
              "      <td>5196000</td>\n",
              "      <td>56.00</td>\n",
              "      <td>2015-08-20</td>\n",
              "      <td>2</td>\n",
              "      <td>2.65</td>\n",
              "      <td>5.0</td>\n",
              "      <td>34.30</td>\n",
              "      <td>4</td>\n",
              "      <td>False</td>\n",
              "      <td>...</td>\n",
              "      <td>0</td>\n",
              "      <td>Санкт-Петербург</td>\n",
              "      <td>21741.0</td>\n",
              "      <td>13933.0</td>\n",
              "      <td>1.0</td>\n",
              "      <td>90.0</td>\n",
              "      <td>2.0</td>\n",
              "      <td>574.0</td>\n",
              "      <td>558.0</td>\n",
              "      <td>92785</td>\n",
              "    </tr>\n",
              "    <tr>\n",
              "      <th>3</th>\n",
              "      <td>0</td>\n",
              "      <td>64900000</td>\n",
              "      <td>159.00</td>\n",
              "      <td>2015-07-24</td>\n",
              "      <td>3</td>\n",
              "      <td>2.65</td>\n",
              "      <td>14.0</td>\n",
              "      <td>45.00</td>\n",
              "      <td>9</td>\n",
              "      <td>False</td>\n",
              "      <td>...</td>\n",
              "      <td>0</td>\n",
              "      <td>Санкт-Петербург</td>\n",
              "      <td>28098.0</td>\n",
              "      <td>6800.0</td>\n",
              "      <td>2.0</td>\n",
              "      <td>84.0</td>\n",
              "      <td>3.0</td>\n",
              "      <td>234.0</td>\n",
              "      <td>424.0</td>\n",
              "      <td>408176</td>\n",
              "    </tr>\n",
              "    <tr>\n",
              "      <th>4</th>\n",
              "      <td>2</td>\n",
              "      <td>10000000</td>\n",
              "      <td>100.00</td>\n",
              "      <td>2018-06-19</td>\n",
              "      <td>2</td>\n",
              "      <td>3.03</td>\n",
              "      <td>14.0</td>\n",
              "      <td>32.00</td>\n",
              "      <td>13</td>\n",
              "      <td>False</td>\n",
              "      <td>...</td>\n",
              "      <td>0</td>\n",
              "      <td>Санкт-Петербург</td>\n",
              "      <td>31856.0</td>\n",
              "      <td>8098.0</td>\n",
              "      <td>2.0</td>\n",
              "      <td>112.0</td>\n",
              "      <td>1.0</td>\n",
              "      <td>48.0</td>\n",
              "      <td>121.0</td>\n",
              "      <td>100000</td>\n",
              "    </tr>\n",
              "    <tr>\n",
              "      <th>5</th>\n",
              "      <td>10</td>\n",
              "      <td>2890000</td>\n",
              "      <td>30.40</td>\n",
              "      <td>2018-09-10</td>\n",
              "      <td>1</td>\n",
              "      <td>2.65</td>\n",
              "      <td>12.0</td>\n",
              "      <td>14.40</td>\n",
              "      <td>5</td>\n",
              "      <td>False</td>\n",
              "      <td>...</td>\n",
              "      <td>0</td>\n",
              "      <td>городской посёлок Янино-1</td>\n",
              "      <td>NaN</td>\n",
              "      <td>NaN</td>\n",
              "      <td>NaN</td>\n",
              "      <td>NaN</td>\n",
              "      <td>NaN</td>\n",
              "      <td>NaN</td>\n",
              "      <td>55.0</td>\n",
              "      <td>95065</td>\n",
              "    </tr>\n",
              "    <tr>\n",
              "      <th>6</th>\n",
              "      <td>6</td>\n",
              "      <td>3700000</td>\n",
              "      <td>37.30</td>\n",
              "      <td>2017-11-02</td>\n",
              "      <td>1</td>\n",
              "      <td>2.65</td>\n",
              "      <td>26.0</td>\n",
              "      <td>10.60</td>\n",
              "      <td>6</td>\n",
              "      <td>False</td>\n",
              "      <td>...</td>\n",
              "      <td>1</td>\n",
              "      <td>посёлок Парголово</td>\n",
              "      <td>52996.0</td>\n",
              "      <td>19143.0</td>\n",
              "      <td>0.0</td>\n",
              "      <td>NaN</td>\n",
              "      <td>0.0</td>\n",
              "      <td>NaN</td>\n",
              "      <td>155.0</td>\n",
              "      <td>99195</td>\n",
              "    </tr>\n",
              "    <tr>\n",
              "      <th>7</th>\n",
              "      <td>5</td>\n",
              "      <td>7915000</td>\n",
              "      <td>71.60</td>\n",
              "      <td>2019-04-18</td>\n",
              "      <td>2</td>\n",
              "      <td>2.65</td>\n",
              "      <td>24.0</td>\n",
              "      <td>30.50</td>\n",
              "      <td>22</td>\n",
              "      <td>False</td>\n",
              "      <td>...</td>\n",
              "      <td>2</td>\n",
              "      <td>Санкт-Петербург</td>\n",
              "      <td>23982.0</td>\n",
              "      <td>11634.0</td>\n",
              "      <td>0.0</td>\n",
              "      <td>NaN</td>\n",
              "      <td>0.0</td>\n",
              "      <td>NaN</td>\n",
              "      <td>95.0</td>\n",
              "      <td>110544</td>\n",
              "    </tr>\n",
              "    <tr>\n",
              "      <th>8</th>\n",
              "      <td>20</td>\n",
              "      <td>2900000</td>\n",
              "      <td>33.16</td>\n",
              "      <td>2018-05-23</td>\n",
              "      <td>1</td>\n",
              "      <td>2.65</td>\n",
              "      <td>27.0</td>\n",
              "      <td>15.43</td>\n",
              "      <td>26</td>\n",
              "      <td>False</td>\n",
              "      <td>...</td>\n",
              "      <td>0</td>\n",
              "      <td>посёлок Мурино</td>\n",
              "      <td>NaN</td>\n",
              "      <td>NaN</td>\n",
              "      <td>NaN</td>\n",
              "      <td>NaN</td>\n",
              "      <td>NaN</td>\n",
              "      <td>NaN</td>\n",
              "      <td>189.0</td>\n",
              "      <td>87454</td>\n",
              "    </tr>\n",
              "    <tr>\n",
              "      <th>9</th>\n",
              "      <td>18</td>\n",
              "      <td>5400000</td>\n",
              "      <td>61.00</td>\n",
              "      <td>2017-02-26</td>\n",
              "      <td>3</td>\n",
              "      <td>2.50</td>\n",
              "      <td>9.0</td>\n",
              "      <td>43.60</td>\n",
              "      <td>7</td>\n",
              "      <td>False</td>\n",
              "      <td>...</td>\n",
              "      <td>2</td>\n",
              "      <td>Санкт-Петербург</td>\n",
              "      <td>50898.0</td>\n",
              "      <td>15008.0</td>\n",
              "      <td>0.0</td>\n",
              "      <td>NaN</td>\n",
              "      <td>0.0</td>\n",
              "      <td>NaN</td>\n",
              "      <td>289.0</td>\n",
              "      <td>88524</td>\n",
              "    </tr>\n",
              "  </tbody>\n",
              "</table>\n",
              "<p>10 rows × 23 columns</p>\n",
              "</div>"
            ],
            "text/plain": [
              "   total_images  last_price  total_area first_day_exposition  rooms  \\\n",
              "0            20    13000000      108.00           2019-03-07      3   \n",
              "1             7     3350000       40.40           2018-12-04      1   \n",
              "2            10     5196000       56.00           2015-08-20      2   \n",
              "3             0    64900000      159.00           2015-07-24      3   \n",
              "4             2    10000000      100.00           2018-06-19      2   \n",
              "5            10     2890000       30.40           2018-09-10      1   \n",
              "6             6     3700000       37.30           2017-11-02      1   \n",
              "7             5     7915000       71.60           2019-04-18      2   \n",
              "8            20     2900000       33.16           2018-05-23      1   \n",
              "9            18     5400000       61.00           2017-02-26      3   \n",
              "\n",
              "   ceiling_height  floors_total  living_area  floor  is_apartment  ...  \\\n",
              "0            2.70          16.0        51.00      8         False  ...   \n",
              "1            2.65          11.0        18.60      1         False  ...   \n",
              "2            2.65           5.0        34.30      4         False  ...   \n",
              "3            2.65          14.0        45.00      9         False  ...   \n",
              "4            3.03          14.0        32.00     13         False  ...   \n",
              "5            2.65          12.0        14.40      5         False  ...   \n",
              "6            2.65          26.0        10.60      6         False  ...   \n",
              "7            2.65          24.0        30.50     22         False  ...   \n",
              "8            2.65          27.0        15.43     26         False  ...   \n",
              "9            2.50           9.0        43.60      7         False  ...   \n",
              "\n",
              "   balcony              locality_name  airports_nearest  cityCenters_nearest  \\\n",
              "0        0            Санкт-Петербург           18863.0              16028.0   \n",
              "1        2             посёлок Шушары           12817.0              18603.0   \n",
              "2        0            Санкт-Петербург           21741.0              13933.0   \n",
              "3        0            Санкт-Петербург           28098.0               6800.0   \n",
              "4        0            Санкт-Петербург           31856.0               8098.0   \n",
              "5        0  городской посёлок Янино-1               NaN                  NaN   \n",
              "6        1          посёлок Парголово           52996.0              19143.0   \n",
              "7        2            Санкт-Петербург           23982.0              11634.0   \n",
              "8        0             посёлок Мурино               NaN                  NaN   \n",
              "9        2            Санкт-Петербург           50898.0              15008.0   \n",
              "\n",
              "  parks_around3000  parks_nearest  ponds_around3000  ponds_nearest  \\\n",
              "0              1.0          482.0               2.0          755.0   \n",
              "1              0.0            NaN               0.0            NaN   \n",
              "2              1.0           90.0               2.0          574.0   \n",
              "3              2.0           84.0               3.0          234.0   \n",
              "4              2.0          112.0               1.0           48.0   \n",
              "5              NaN            NaN               NaN            NaN   \n",
              "6              0.0            NaN               0.0            NaN   \n",
              "7              0.0            NaN               0.0            NaN   \n",
              "8              NaN            NaN               NaN            NaN   \n",
              "9              0.0            NaN               0.0            NaN   \n",
              "\n",
              "   days_exposition  squere_meter_price  \n",
              "0             95.0              120370  \n",
              "1             81.0               82920  \n",
              "2            558.0               92785  \n",
              "3            424.0              408176  \n",
              "4            121.0              100000  \n",
              "5             55.0               95065  \n",
              "6            155.0               99195  \n",
              "7             95.0              110544  \n",
              "8            189.0               87454  \n",
              "9            289.0               88524  \n",
              "\n",
              "[10 rows x 23 columns]"
            ]
          },
          "execution_count": 11,
          "metadata": {},
          "output_type": "execute_result"
        }
      ],
      "source": [
        "data['squere_meter_price'] = data['last_price'] / data['total_area'] #добавили столбец цена квадратного метра\n",
        "data['squere_meter_price'] = data['squere_meter_price'].astype(int) #меняем тип столбца\n",
        "data.head(10)"
      ]
    },
    {
      "cell_type": "markdown",
      "metadata": {
        "id": "Zs5hg7zMgT5Y"
      },
      "source": [
        "### 2. День недели, месяц и год публикации объявления"
      ]
    },
    {
      "cell_type": "code",
      "execution_count": null,
      "metadata": {
        "id": "uwFg0cVVgT5Y",
        "outputId": "b7fa723a-3b1b-4d03-becd-98dc4c7c95a3"
      },
      "outputs": [
        {
          "data": {
            "text/html": [
              "<div>\n",
              "<style scoped>\n",
              "    .dataframe tbody tr th:only-of-type {\n",
              "        vertical-align: middle;\n",
              "    }\n",
              "\n",
              "    .dataframe tbody tr th {\n",
              "        vertical-align: top;\n",
              "    }\n",
              "\n",
              "    .dataframe thead th {\n",
              "        text-align: right;\n",
              "    }\n",
              "</style>\n",
              "<table border=\"1\" class=\"dataframe\">\n",
              "  <thead>\n",
              "    <tr style=\"text-align: right;\">\n",
              "      <th></th>\n",
              "      <th>total_images</th>\n",
              "      <th>last_price</th>\n",
              "      <th>total_area</th>\n",
              "      <th>first_day_exposition</th>\n",
              "      <th>rooms</th>\n",
              "      <th>ceiling_height</th>\n",
              "      <th>floors_total</th>\n",
              "      <th>living_area</th>\n",
              "      <th>floor</th>\n",
              "      <th>is_apartment</th>\n",
              "      <th>...</th>\n",
              "      <th>cityCenters_nearest</th>\n",
              "      <th>parks_around3000</th>\n",
              "      <th>parks_nearest</th>\n",
              "      <th>ponds_around3000</th>\n",
              "      <th>ponds_nearest</th>\n",
              "      <th>days_exposition</th>\n",
              "      <th>squere_meter_price</th>\n",
              "      <th>weekday_exposition</th>\n",
              "      <th>month_exposition</th>\n",
              "      <th>year_exposition</th>\n",
              "    </tr>\n",
              "  </thead>\n",
              "  <tbody>\n",
              "    <tr>\n",
              "      <th>0</th>\n",
              "      <td>20</td>\n",
              "      <td>13000000</td>\n",
              "      <td>108.00</td>\n",
              "      <td>2019-03-07</td>\n",
              "      <td>3</td>\n",
              "      <td>2.70</td>\n",
              "      <td>16.0</td>\n",
              "      <td>51.00</td>\n",
              "      <td>8</td>\n",
              "      <td>False</td>\n",
              "      <td>...</td>\n",
              "      <td>16028.0</td>\n",
              "      <td>1.0</td>\n",
              "      <td>482.0</td>\n",
              "      <td>2.0</td>\n",
              "      <td>755.0</td>\n",
              "      <td>95.0</td>\n",
              "      <td>120370</td>\n",
              "      <td>3</td>\n",
              "      <td>3</td>\n",
              "      <td>2019</td>\n",
              "    </tr>\n",
              "    <tr>\n",
              "      <th>1</th>\n",
              "      <td>7</td>\n",
              "      <td>3350000</td>\n",
              "      <td>40.40</td>\n",
              "      <td>2018-12-04</td>\n",
              "      <td>1</td>\n",
              "      <td>2.65</td>\n",
              "      <td>11.0</td>\n",
              "      <td>18.60</td>\n",
              "      <td>1</td>\n",
              "      <td>False</td>\n",
              "      <td>...</td>\n",
              "      <td>18603.0</td>\n",
              "      <td>0.0</td>\n",
              "      <td>NaN</td>\n",
              "      <td>0.0</td>\n",
              "      <td>NaN</td>\n",
              "      <td>81.0</td>\n",
              "      <td>82920</td>\n",
              "      <td>1</td>\n",
              "      <td>12</td>\n",
              "      <td>2018</td>\n",
              "    </tr>\n",
              "    <tr>\n",
              "      <th>2</th>\n",
              "      <td>10</td>\n",
              "      <td>5196000</td>\n",
              "      <td>56.00</td>\n",
              "      <td>2015-08-20</td>\n",
              "      <td>2</td>\n",
              "      <td>2.65</td>\n",
              "      <td>5.0</td>\n",
              "      <td>34.30</td>\n",
              "      <td>4</td>\n",
              "      <td>False</td>\n",
              "      <td>...</td>\n",
              "      <td>13933.0</td>\n",
              "      <td>1.0</td>\n",
              "      <td>90.0</td>\n",
              "      <td>2.0</td>\n",
              "      <td>574.0</td>\n",
              "      <td>558.0</td>\n",
              "      <td>92785</td>\n",
              "      <td>3</td>\n",
              "      <td>8</td>\n",
              "      <td>2015</td>\n",
              "    </tr>\n",
              "    <tr>\n",
              "      <th>3</th>\n",
              "      <td>0</td>\n",
              "      <td>64900000</td>\n",
              "      <td>159.00</td>\n",
              "      <td>2015-07-24</td>\n",
              "      <td>3</td>\n",
              "      <td>2.65</td>\n",
              "      <td>14.0</td>\n",
              "      <td>45.00</td>\n",
              "      <td>9</td>\n",
              "      <td>False</td>\n",
              "      <td>...</td>\n",
              "      <td>6800.0</td>\n",
              "      <td>2.0</td>\n",
              "      <td>84.0</td>\n",
              "      <td>3.0</td>\n",
              "      <td>234.0</td>\n",
              "      <td>424.0</td>\n",
              "      <td>408176</td>\n",
              "      <td>4</td>\n",
              "      <td>7</td>\n",
              "      <td>2015</td>\n",
              "    </tr>\n",
              "    <tr>\n",
              "      <th>4</th>\n",
              "      <td>2</td>\n",
              "      <td>10000000</td>\n",
              "      <td>100.00</td>\n",
              "      <td>2018-06-19</td>\n",
              "      <td>2</td>\n",
              "      <td>3.03</td>\n",
              "      <td>14.0</td>\n",
              "      <td>32.00</td>\n",
              "      <td>13</td>\n",
              "      <td>False</td>\n",
              "      <td>...</td>\n",
              "      <td>8098.0</td>\n",
              "      <td>2.0</td>\n",
              "      <td>112.0</td>\n",
              "      <td>1.0</td>\n",
              "      <td>48.0</td>\n",
              "      <td>121.0</td>\n",
              "      <td>100000</td>\n",
              "      <td>1</td>\n",
              "      <td>6</td>\n",
              "      <td>2018</td>\n",
              "    </tr>\n",
              "    <tr>\n",
              "      <th>5</th>\n",
              "      <td>10</td>\n",
              "      <td>2890000</td>\n",
              "      <td>30.40</td>\n",
              "      <td>2018-09-10</td>\n",
              "      <td>1</td>\n",
              "      <td>2.65</td>\n",
              "      <td>12.0</td>\n",
              "      <td>14.40</td>\n",
              "      <td>5</td>\n",
              "      <td>False</td>\n",
              "      <td>...</td>\n",
              "      <td>NaN</td>\n",
              "      <td>NaN</td>\n",
              "      <td>NaN</td>\n",
              "      <td>NaN</td>\n",
              "      <td>NaN</td>\n",
              "      <td>55.0</td>\n",
              "      <td>95065</td>\n",
              "      <td>0</td>\n",
              "      <td>9</td>\n",
              "      <td>2018</td>\n",
              "    </tr>\n",
              "    <tr>\n",
              "      <th>6</th>\n",
              "      <td>6</td>\n",
              "      <td>3700000</td>\n",
              "      <td>37.30</td>\n",
              "      <td>2017-11-02</td>\n",
              "      <td>1</td>\n",
              "      <td>2.65</td>\n",
              "      <td>26.0</td>\n",
              "      <td>10.60</td>\n",
              "      <td>6</td>\n",
              "      <td>False</td>\n",
              "      <td>...</td>\n",
              "      <td>19143.0</td>\n",
              "      <td>0.0</td>\n",
              "      <td>NaN</td>\n",
              "      <td>0.0</td>\n",
              "      <td>NaN</td>\n",
              "      <td>155.0</td>\n",
              "      <td>99195</td>\n",
              "      <td>3</td>\n",
              "      <td>11</td>\n",
              "      <td>2017</td>\n",
              "    </tr>\n",
              "    <tr>\n",
              "      <th>7</th>\n",
              "      <td>5</td>\n",
              "      <td>7915000</td>\n",
              "      <td>71.60</td>\n",
              "      <td>2019-04-18</td>\n",
              "      <td>2</td>\n",
              "      <td>2.65</td>\n",
              "      <td>24.0</td>\n",
              "      <td>30.50</td>\n",
              "      <td>22</td>\n",
              "      <td>False</td>\n",
              "      <td>...</td>\n",
              "      <td>11634.0</td>\n",
              "      <td>0.0</td>\n",
              "      <td>NaN</td>\n",
              "      <td>0.0</td>\n",
              "      <td>NaN</td>\n",
              "      <td>95.0</td>\n",
              "      <td>110544</td>\n",
              "      <td>3</td>\n",
              "      <td>4</td>\n",
              "      <td>2019</td>\n",
              "    </tr>\n",
              "    <tr>\n",
              "      <th>8</th>\n",
              "      <td>20</td>\n",
              "      <td>2900000</td>\n",
              "      <td>33.16</td>\n",
              "      <td>2018-05-23</td>\n",
              "      <td>1</td>\n",
              "      <td>2.65</td>\n",
              "      <td>27.0</td>\n",
              "      <td>15.43</td>\n",
              "      <td>26</td>\n",
              "      <td>False</td>\n",
              "      <td>...</td>\n",
              "      <td>NaN</td>\n",
              "      <td>NaN</td>\n",
              "      <td>NaN</td>\n",
              "      <td>NaN</td>\n",
              "      <td>NaN</td>\n",
              "      <td>189.0</td>\n",
              "      <td>87454</td>\n",
              "      <td>2</td>\n",
              "      <td>5</td>\n",
              "      <td>2018</td>\n",
              "    </tr>\n",
              "    <tr>\n",
              "      <th>9</th>\n",
              "      <td>18</td>\n",
              "      <td>5400000</td>\n",
              "      <td>61.00</td>\n",
              "      <td>2017-02-26</td>\n",
              "      <td>3</td>\n",
              "      <td>2.50</td>\n",
              "      <td>9.0</td>\n",
              "      <td>43.60</td>\n",
              "      <td>7</td>\n",
              "      <td>False</td>\n",
              "      <td>...</td>\n",
              "      <td>15008.0</td>\n",
              "      <td>0.0</td>\n",
              "      <td>NaN</td>\n",
              "      <td>0.0</td>\n",
              "      <td>NaN</td>\n",
              "      <td>289.0</td>\n",
              "      <td>88524</td>\n",
              "      <td>6</td>\n",
              "      <td>2</td>\n",
              "      <td>2017</td>\n",
              "    </tr>\n",
              "  </tbody>\n",
              "</table>\n",
              "<p>10 rows × 26 columns</p>\n",
              "</div>"
            ],
            "text/plain": [
              "   total_images  last_price  total_area first_day_exposition  rooms  \\\n",
              "0            20    13000000      108.00           2019-03-07      3   \n",
              "1             7     3350000       40.40           2018-12-04      1   \n",
              "2            10     5196000       56.00           2015-08-20      2   \n",
              "3             0    64900000      159.00           2015-07-24      3   \n",
              "4             2    10000000      100.00           2018-06-19      2   \n",
              "5            10     2890000       30.40           2018-09-10      1   \n",
              "6             6     3700000       37.30           2017-11-02      1   \n",
              "7             5     7915000       71.60           2019-04-18      2   \n",
              "8            20     2900000       33.16           2018-05-23      1   \n",
              "9            18     5400000       61.00           2017-02-26      3   \n",
              "\n",
              "   ceiling_height  floors_total  living_area  floor  is_apartment  ...  \\\n",
              "0            2.70          16.0        51.00      8         False  ...   \n",
              "1            2.65          11.0        18.60      1         False  ...   \n",
              "2            2.65           5.0        34.30      4         False  ...   \n",
              "3            2.65          14.0        45.00      9         False  ...   \n",
              "4            3.03          14.0        32.00     13         False  ...   \n",
              "5            2.65          12.0        14.40      5         False  ...   \n",
              "6            2.65          26.0        10.60      6         False  ...   \n",
              "7            2.65          24.0        30.50     22         False  ...   \n",
              "8            2.65          27.0        15.43     26         False  ...   \n",
              "9            2.50           9.0        43.60      7         False  ...   \n",
              "\n",
              "   cityCenters_nearest  parks_around3000  parks_nearest  ponds_around3000  \\\n",
              "0              16028.0               1.0          482.0               2.0   \n",
              "1              18603.0               0.0            NaN               0.0   \n",
              "2              13933.0               1.0           90.0               2.0   \n",
              "3               6800.0               2.0           84.0               3.0   \n",
              "4               8098.0               2.0          112.0               1.0   \n",
              "5                  NaN               NaN            NaN               NaN   \n",
              "6              19143.0               0.0            NaN               0.0   \n",
              "7              11634.0               0.0            NaN               0.0   \n",
              "8                  NaN               NaN            NaN               NaN   \n",
              "9              15008.0               0.0            NaN               0.0   \n",
              "\n",
              "  ponds_nearest  days_exposition  squere_meter_price  weekday_exposition  \\\n",
              "0         755.0             95.0              120370                   3   \n",
              "1           NaN             81.0               82920                   1   \n",
              "2         574.0            558.0               92785                   3   \n",
              "3         234.0            424.0              408176                   4   \n",
              "4          48.0            121.0              100000                   1   \n",
              "5           NaN             55.0               95065                   0   \n",
              "6           NaN            155.0               99195                   3   \n",
              "7           NaN             95.0              110544                   3   \n",
              "8           NaN            189.0               87454                   2   \n",
              "9           NaN            289.0               88524                   6   \n",
              "\n",
              "   month_exposition  year_exposition  \n",
              "0                 3             2019  \n",
              "1                12             2018  \n",
              "2                 8             2015  \n",
              "3                 7             2015  \n",
              "4                 6             2018  \n",
              "5                 9             2018  \n",
              "6                11             2017  \n",
              "7                 4             2019  \n",
              "8                 5             2018  \n",
              "9                 2             2017  \n",
              "\n",
              "[10 rows x 26 columns]"
            ]
          },
          "execution_count": 12,
          "metadata": {},
          "output_type": "execute_result"
        }
      ],
      "source": [
        "data['weekday_exposition'] = data['first_day_exposition'].dt.weekday #создаем столбец дня недели\n",
        "data['month_exposition'] = data['first_day_exposition'].dt.month #создаем столбец месяца\n",
        "data['year_exposition'] = data['first_day_exposition'].dt.year #создаем столбец года\n",
        "\n",
        "data.head(10)"
      ]
    },
    {
      "cell_type": "markdown",
      "metadata": {
        "id": "QwIhDwCxgT5Y"
      },
      "source": [
        "### 3. Этаж квартиры; варианты — первый, последний, другой"
      ]
    },
    {
      "cell_type": "code",
      "execution_count": null,
      "metadata": {
        "id": "-_yXo0yIgT5Z",
        "outputId": "e56f4fa3-ce09-4f6b-af78-29e7c8c0ec1e"
      },
      "outputs": [
        {
          "data": {
            "text/html": [
              "<div>\n",
              "<style scoped>\n",
              "    .dataframe tbody tr th:only-of-type {\n",
              "        vertical-align: middle;\n",
              "    }\n",
              "\n",
              "    .dataframe tbody tr th {\n",
              "        vertical-align: top;\n",
              "    }\n",
              "\n",
              "    .dataframe thead th {\n",
              "        text-align: right;\n",
              "    }\n",
              "</style>\n",
              "<table border=\"1\" class=\"dataframe\">\n",
              "  <thead>\n",
              "    <tr style=\"text-align: right;\">\n",
              "      <th></th>\n",
              "      <th>total_images</th>\n",
              "      <th>last_price</th>\n",
              "      <th>total_area</th>\n",
              "      <th>first_day_exposition</th>\n",
              "      <th>rooms</th>\n",
              "      <th>ceiling_height</th>\n",
              "      <th>floors_total</th>\n",
              "      <th>living_area</th>\n",
              "      <th>floor</th>\n",
              "      <th>is_apartment</th>\n",
              "      <th>...</th>\n",
              "      <th>parks_around3000</th>\n",
              "      <th>parks_nearest</th>\n",
              "      <th>ponds_around3000</th>\n",
              "      <th>ponds_nearest</th>\n",
              "      <th>days_exposition</th>\n",
              "      <th>squere_meter_price</th>\n",
              "      <th>weekday_exposition</th>\n",
              "      <th>month_exposition</th>\n",
              "      <th>year_exposition</th>\n",
              "      <th>floor_category</th>\n",
              "    </tr>\n",
              "  </thead>\n",
              "  <tbody>\n",
              "    <tr>\n",
              "      <th>0</th>\n",
              "      <td>20</td>\n",
              "      <td>13000000</td>\n",
              "      <td>108.00</td>\n",
              "      <td>2019-03-07</td>\n",
              "      <td>3</td>\n",
              "      <td>2.70</td>\n",
              "      <td>16.0</td>\n",
              "      <td>51.00</td>\n",
              "      <td>8</td>\n",
              "      <td>False</td>\n",
              "      <td>...</td>\n",
              "      <td>1.0</td>\n",
              "      <td>482.0</td>\n",
              "      <td>2.0</td>\n",
              "      <td>755.0</td>\n",
              "      <td>95.0</td>\n",
              "      <td>120370</td>\n",
              "      <td>3</td>\n",
              "      <td>3</td>\n",
              "      <td>2019</td>\n",
              "      <td>другой</td>\n",
              "    </tr>\n",
              "    <tr>\n",
              "      <th>1</th>\n",
              "      <td>7</td>\n",
              "      <td>3350000</td>\n",
              "      <td>40.40</td>\n",
              "      <td>2018-12-04</td>\n",
              "      <td>1</td>\n",
              "      <td>2.65</td>\n",
              "      <td>11.0</td>\n",
              "      <td>18.60</td>\n",
              "      <td>1</td>\n",
              "      <td>False</td>\n",
              "      <td>...</td>\n",
              "      <td>0.0</td>\n",
              "      <td>NaN</td>\n",
              "      <td>0.0</td>\n",
              "      <td>NaN</td>\n",
              "      <td>81.0</td>\n",
              "      <td>82920</td>\n",
              "      <td>1</td>\n",
              "      <td>12</td>\n",
              "      <td>2018</td>\n",
              "      <td>первый</td>\n",
              "    </tr>\n",
              "    <tr>\n",
              "      <th>2</th>\n",
              "      <td>10</td>\n",
              "      <td>5196000</td>\n",
              "      <td>56.00</td>\n",
              "      <td>2015-08-20</td>\n",
              "      <td>2</td>\n",
              "      <td>2.65</td>\n",
              "      <td>5.0</td>\n",
              "      <td>34.30</td>\n",
              "      <td>4</td>\n",
              "      <td>False</td>\n",
              "      <td>...</td>\n",
              "      <td>1.0</td>\n",
              "      <td>90.0</td>\n",
              "      <td>2.0</td>\n",
              "      <td>574.0</td>\n",
              "      <td>558.0</td>\n",
              "      <td>92785</td>\n",
              "      <td>3</td>\n",
              "      <td>8</td>\n",
              "      <td>2015</td>\n",
              "      <td>другой</td>\n",
              "    </tr>\n",
              "    <tr>\n",
              "      <th>3</th>\n",
              "      <td>0</td>\n",
              "      <td>64900000</td>\n",
              "      <td>159.00</td>\n",
              "      <td>2015-07-24</td>\n",
              "      <td>3</td>\n",
              "      <td>2.65</td>\n",
              "      <td>14.0</td>\n",
              "      <td>45.00</td>\n",
              "      <td>9</td>\n",
              "      <td>False</td>\n",
              "      <td>...</td>\n",
              "      <td>2.0</td>\n",
              "      <td>84.0</td>\n",
              "      <td>3.0</td>\n",
              "      <td>234.0</td>\n",
              "      <td>424.0</td>\n",
              "      <td>408176</td>\n",
              "      <td>4</td>\n",
              "      <td>7</td>\n",
              "      <td>2015</td>\n",
              "      <td>другой</td>\n",
              "    </tr>\n",
              "    <tr>\n",
              "      <th>4</th>\n",
              "      <td>2</td>\n",
              "      <td>10000000</td>\n",
              "      <td>100.00</td>\n",
              "      <td>2018-06-19</td>\n",
              "      <td>2</td>\n",
              "      <td>3.03</td>\n",
              "      <td>14.0</td>\n",
              "      <td>32.00</td>\n",
              "      <td>13</td>\n",
              "      <td>False</td>\n",
              "      <td>...</td>\n",
              "      <td>2.0</td>\n",
              "      <td>112.0</td>\n",
              "      <td>1.0</td>\n",
              "      <td>48.0</td>\n",
              "      <td>121.0</td>\n",
              "      <td>100000</td>\n",
              "      <td>1</td>\n",
              "      <td>6</td>\n",
              "      <td>2018</td>\n",
              "      <td>другой</td>\n",
              "    </tr>\n",
              "    <tr>\n",
              "      <th>5</th>\n",
              "      <td>10</td>\n",
              "      <td>2890000</td>\n",
              "      <td>30.40</td>\n",
              "      <td>2018-09-10</td>\n",
              "      <td>1</td>\n",
              "      <td>2.65</td>\n",
              "      <td>12.0</td>\n",
              "      <td>14.40</td>\n",
              "      <td>5</td>\n",
              "      <td>False</td>\n",
              "      <td>...</td>\n",
              "      <td>NaN</td>\n",
              "      <td>NaN</td>\n",
              "      <td>NaN</td>\n",
              "      <td>NaN</td>\n",
              "      <td>55.0</td>\n",
              "      <td>95065</td>\n",
              "      <td>0</td>\n",
              "      <td>9</td>\n",
              "      <td>2018</td>\n",
              "      <td>другой</td>\n",
              "    </tr>\n",
              "    <tr>\n",
              "      <th>6</th>\n",
              "      <td>6</td>\n",
              "      <td>3700000</td>\n",
              "      <td>37.30</td>\n",
              "      <td>2017-11-02</td>\n",
              "      <td>1</td>\n",
              "      <td>2.65</td>\n",
              "      <td>26.0</td>\n",
              "      <td>10.60</td>\n",
              "      <td>6</td>\n",
              "      <td>False</td>\n",
              "      <td>...</td>\n",
              "      <td>0.0</td>\n",
              "      <td>NaN</td>\n",
              "      <td>0.0</td>\n",
              "      <td>NaN</td>\n",
              "      <td>155.0</td>\n",
              "      <td>99195</td>\n",
              "      <td>3</td>\n",
              "      <td>11</td>\n",
              "      <td>2017</td>\n",
              "      <td>другой</td>\n",
              "    </tr>\n",
              "    <tr>\n",
              "      <th>7</th>\n",
              "      <td>5</td>\n",
              "      <td>7915000</td>\n",
              "      <td>71.60</td>\n",
              "      <td>2019-04-18</td>\n",
              "      <td>2</td>\n",
              "      <td>2.65</td>\n",
              "      <td>24.0</td>\n",
              "      <td>30.50</td>\n",
              "      <td>22</td>\n",
              "      <td>False</td>\n",
              "      <td>...</td>\n",
              "      <td>0.0</td>\n",
              "      <td>NaN</td>\n",
              "      <td>0.0</td>\n",
              "      <td>NaN</td>\n",
              "      <td>95.0</td>\n",
              "      <td>110544</td>\n",
              "      <td>3</td>\n",
              "      <td>4</td>\n",
              "      <td>2019</td>\n",
              "      <td>другой</td>\n",
              "    </tr>\n",
              "    <tr>\n",
              "      <th>8</th>\n",
              "      <td>20</td>\n",
              "      <td>2900000</td>\n",
              "      <td>33.16</td>\n",
              "      <td>2018-05-23</td>\n",
              "      <td>1</td>\n",
              "      <td>2.65</td>\n",
              "      <td>27.0</td>\n",
              "      <td>15.43</td>\n",
              "      <td>26</td>\n",
              "      <td>False</td>\n",
              "      <td>...</td>\n",
              "      <td>NaN</td>\n",
              "      <td>NaN</td>\n",
              "      <td>NaN</td>\n",
              "      <td>NaN</td>\n",
              "      <td>189.0</td>\n",
              "      <td>87454</td>\n",
              "      <td>2</td>\n",
              "      <td>5</td>\n",
              "      <td>2018</td>\n",
              "      <td>другой</td>\n",
              "    </tr>\n",
              "    <tr>\n",
              "      <th>9</th>\n",
              "      <td>18</td>\n",
              "      <td>5400000</td>\n",
              "      <td>61.00</td>\n",
              "      <td>2017-02-26</td>\n",
              "      <td>3</td>\n",
              "      <td>2.50</td>\n",
              "      <td>9.0</td>\n",
              "      <td>43.60</td>\n",
              "      <td>7</td>\n",
              "      <td>False</td>\n",
              "      <td>...</td>\n",
              "      <td>0.0</td>\n",
              "      <td>NaN</td>\n",
              "      <td>0.0</td>\n",
              "      <td>NaN</td>\n",
              "      <td>289.0</td>\n",
              "      <td>88524</td>\n",
              "      <td>6</td>\n",
              "      <td>2</td>\n",
              "      <td>2017</td>\n",
              "      <td>другой</td>\n",
              "    </tr>\n",
              "  </tbody>\n",
              "</table>\n",
              "<p>10 rows × 27 columns</p>\n",
              "</div>"
            ],
            "text/plain": [
              "   total_images  last_price  total_area first_day_exposition  rooms  \\\n",
              "0            20    13000000      108.00           2019-03-07      3   \n",
              "1             7     3350000       40.40           2018-12-04      1   \n",
              "2            10     5196000       56.00           2015-08-20      2   \n",
              "3             0    64900000      159.00           2015-07-24      3   \n",
              "4             2    10000000      100.00           2018-06-19      2   \n",
              "5            10     2890000       30.40           2018-09-10      1   \n",
              "6             6     3700000       37.30           2017-11-02      1   \n",
              "7             5     7915000       71.60           2019-04-18      2   \n",
              "8            20     2900000       33.16           2018-05-23      1   \n",
              "9            18     5400000       61.00           2017-02-26      3   \n",
              "\n",
              "   ceiling_height  floors_total  living_area  floor  is_apartment  ...  \\\n",
              "0            2.70          16.0        51.00      8         False  ...   \n",
              "1            2.65          11.0        18.60      1         False  ...   \n",
              "2            2.65           5.0        34.30      4         False  ...   \n",
              "3            2.65          14.0        45.00      9         False  ...   \n",
              "4            3.03          14.0        32.00     13         False  ...   \n",
              "5            2.65          12.0        14.40      5         False  ...   \n",
              "6            2.65          26.0        10.60      6         False  ...   \n",
              "7            2.65          24.0        30.50     22         False  ...   \n",
              "8            2.65          27.0        15.43     26         False  ...   \n",
              "9            2.50           9.0        43.60      7         False  ...   \n",
              "\n",
              "   parks_around3000  parks_nearest  ponds_around3000  ponds_nearest  \\\n",
              "0               1.0          482.0               2.0          755.0   \n",
              "1               0.0            NaN               0.0            NaN   \n",
              "2               1.0           90.0               2.0          574.0   \n",
              "3               2.0           84.0               3.0          234.0   \n",
              "4               2.0          112.0               1.0           48.0   \n",
              "5               NaN            NaN               NaN            NaN   \n",
              "6               0.0            NaN               0.0            NaN   \n",
              "7               0.0            NaN               0.0            NaN   \n",
              "8               NaN            NaN               NaN            NaN   \n",
              "9               0.0            NaN               0.0            NaN   \n",
              "\n",
              "  days_exposition  squere_meter_price  weekday_exposition  month_exposition  \\\n",
              "0            95.0              120370                   3                 3   \n",
              "1            81.0               82920                   1                12   \n",
              "2           558.0               92785                   3                 8   \n",
              "3           424.0              408176                   4                 7   \n",
              "4           121.0              100000                   1                 6   \n",
              "5            55.0               95065                   0                 9   \n",
              "6           155.0               99195                   3                11   \n",
              "7            95.0              110544                   3                 4   \n",
              "8           189.0               87454                   2                 5   \n",
              "9           289.0               88524                   6                 2   \n",
              "\n",
              "   year_exposition  floor_category  \n",
              "0             2019          другой  \n",
              "1             2018          первый  \n",
              "2             2015          другой  \n",
              "3             2015          другой  \n",
              "4             2018          другой  \n",
              "5             2018          другой  \n",
              "6             2017          другой  \n",
              "7             2019          другой  \n",
              "8             2018          другой  \n",
              "9             2017          другой  \n",
              "\n",
              "[10 rows x 27 columns]"
            ]
          },
          "execution_count": 13,
          "metadata": {},
          "output_type": "execute_result"
        }
      ],
      "source": [
        "def floor_category(row):\n",
        "    if row['floor'] == 1:\n",
        "        return 'первый'\n",
        "    elif row['floor'] == row['floors_total']:\n",
        "        return 'последний'\n",
        "    else:\n",
        "        return 'другой'\n",
        "\n",
        "data['floor_category'] = data.apply(floor_category, axis=1)\n",
        "data['floor_category'].value_counts()\n",
        "data.head(10)"
      ]
    },
    {
      "cell_type": "markdown",
      "metadata": {
        "id": "l9YBNaB5gT5Z"
      },
      "source": [
        "### 4. Cоотношение жилой и общей площади"
      ]
    },
    {
      "cell_type": "code",
      "execution_count": null,
      "metadata": {
        "id": "mMlrH94mgT5Z"
      },
      "outputs": [],
      "source": [
        "data['living_to_total_area'] = data['living_area'] / data['total_area']"
      ]
    },
    {
      "cell_type": "markdown",
      "metadata": {
        "id": "1hVwtFeMgT5a"
      },
      "source": [
        "### 5. Отношение площади кухни к общей площади"
      ]
    },
    {
      "cell_type": "code",
      "execution_count": null,
      "metadata": {
        "id": "FBBK2rM8gT5a"
      },
      "outputs": [],
      "source": [
        "data['kitchen_to_total_area'] = data['kitchen_area'] / data['total_area']"
      ]
    },
    {
      "cell_type": "markdown",
      "metadata": {
        "id": "SxDh9W_wgT5a"
      },
      "source": [
        "## Исследовательский анализ данных"
      ]
    },
    {
      "cell_type": "markdown",
      "metadata": {
        "id": "-lxTwIUjgT5a"
      },
      "source": [
        "### Изучим следующие параметры: площадь, цена, число комнат, высота потолков. Построем гистограммы для каждого параметра."
      ]
    },
    {
      "cell_type": "code",
      "execution_count": null,
      "metadata": {
        "id": "4b-kKrXigT5b",
        "outputId": "fa8ea1a1-8d6a-4d0a-80a5-27e6e8c4a2a8"
      },
      "outputs": [
        {
          "data": {
            "image/png": "[encoded data removed]",
            "text/plain": [
              "<Figure size 720x360 with 1 Axes>"
            ]
          },
          "metadata": {
            "needs_background": "light"
          },
          "output_type": "display_data"
        },
        {
          "data": {
            "text/plain": [
              "52.0"
            ]
          },
          "execution_count": 16,
          "metadata": {},
          "output_type": "execute_result"
        }
      ],
      "source": [
        "data.plot(y='total_area', bins=100, range=(0, 200), kind='hist', figsize=(10, 5), grid=True, title='Общая площадь')\n",
        "plt.show()\n",
        "data['total_area'].median()"
      ]
    },
    {
      "cell_type": "markdown",
      "metadata": {
        "id": "INTXWVHWgT5b"
      },
      "source": [
        "###### Больше всего в продаже квартир от 30 до 48 кв.м. С увеличением площади квартиры, уменьшается количество объявлений. Распределение похоже на распределение Пуассона"
      ]
    },
    {
      "cell_type": "code",
      "execution_count": null,
      "metadata": {
        "id": "cJ_znv7kgT5b",
        "outputId": "fbeb12a7-ffec-4ce2-e895-c373fce9c66c"
      },
      "outputs": [
        {
          "data": {
            "image/png": "[encoded data removed]",
            "text/plain": [
              "<Figure size 720x360 with 1 Axes>"
            ]
          },
          "metadata": {
            "needs_background": "light"
          },
          "output_type": "display_data"
        },
        {
          "data": {
            "text/plain": [
              "4650000.0"
            ]
          },
          "execution_count": 17,
          "metadata": {},
          "output_type": "execute_result"
        }
      ],
      "source": [
        "data.plot(y='last_price', bins=100, kind='hist', figsize=(10, 5), range=(0, 15000000), grid=True, title='Цена')\n",
        "plt.show()\n",
        "data['last_price'].median()"
      ]
    },
    {
      "cell_type": "markdown",
      "metadata": {
        "id": "8CxV3U3FgT5c"
      },
      "source": [
        "###### Чаще всего всречаются объявления о продаже квартир с ценой от 1,9 до 7 млн. рублей. Распределение похоже на распределение Пуассона."
      ]
    },
    {
      "cell_type": "code",
      "execution_count": null,
      "metadata": {
        "id": "UZNel9sFgT5c",
        "outputId": "a6347779-7d0a-4ff6-a081-a49cf76ecd75"
      },
      "outputs": [
        {
          "data": {
            "image/png": "[encoded data removed]",
            "text/plain": [
              "<Figure size 720x360 with 1 Axes>"
            ]
          },
          "metadata": {
            "needs_background": "light"
          },
          "output_type": "display_data"
        }
      ],
      "source": [
        "data.plot(y='rooms', bins=7, kind='hist', figsize=(10, 5), range=(0, 19), grid=True, title='Число комнат')\n",
        "plt.show()"
      ]
    },
    {
      "cell_type": "markdown",
      "metadata": {
        "id": "Sefe-9pggT5d"
      },
      "source": [
        "###### Чаще всего продают 1 и 2-х комнатные квартиры, реже 3-х комнатные. И дальше чем больше комнат, тем меньше объявлений о продаже. Похоже на распределени Пауссона."
      ]
    },
    {
      "cell_type": "code",
      "execution_count": null,
      "metadata": {
        "id": "6L1ofLXagT5d",
        "outputId": "24c09f2e-d4d7-4cbb-9f7c-9b7e757361ef"
      },
      "outputs": [
        {
          "data": {
            "image/png": "[encoded data removed]",
            "text/plain": [
              "<Figure size 720x360 with 1 Axes>"
            ]
          },
          "metadata": {
            "needs_background": "light"
          },
          "output_type": "display_data"
        },
        {
          "data": {
            "text/plain": [
              "2.65"
            ]
          },
          "execution_count": 19,
          "metadata": {},
          "output_type": "execute_result"
        }
      ],
      "source": [
        "data.plot(y='ceiling_height', bins=10, kind='hist', figsize=(10, 5), range=(2, 5), grid=True, title='Высота потолков')\n",
        "plt.show()\n",
        "data['ceiling_height'].median()"
      ]
    },
    {
      "cell_type": "markdown",
      "metadata": {
        "id": "hDxxoh1UgT5d"
      },
      "source": [
        "###### Болше всего квартир с потолками от 2,65 м до 2,80 м. Потолки ниже 2,65 м - это или старые дома, или высота за вычетом навесных, подвесных потолков. Потолки выше 2,8 м редки."
      ]
    },
    {
      "cell_type": "markdown",
      "metadata": {
        "id": "sMv054EagT5d"
      },
      "source": [
        "### Изучим время продажи квартиры. Построим гистограмму. Посчитаем среднее и медиану. Опишим, сколько обычно занимает продажа. Когда можно считать, что продажи прошли очень быстро, а когда необычно долго?"
      ]
    },
    {
      "cell_type": "code",
      "execution_count": null,
      "metadata": {
        "id": "rG4Bm9rwgT5e",
        "outputId": "47280a0a-b38b-40a2-a1f4-c85a1c3ceab6"
      },
      "outputs": [
        {
          "data": {
            "image/png": "[encoded data removed]",
            "text/plain": [
              "<Figure size 720x360 with 1 Axes>"
            ]
          },
          "metadata": {
            "needs_background": "light"
          },
          "output_type": "display_data"
        }
      ],
      "source": [
        "data.plot(y='days_exposition', kind='hist', bins=100, figsize=(10,5), range=(0,1000), title='Время продажи') #гистограмма по времени продажи\n",
        "plt.show()"
      ]
    },
    {
      "cell_type": "code",
      "execution_count": null,
      "metadata": {
        "id": "pm4ZXGqbgT5e",
        "outputId": "8bc3f1db-c10a-4556-e176-d98af54344e2"
      },
      "outputs": [
        {
          "data": {
            "text/plain": [
              "170.33330510627488"
            ]
          },
          "execution_count": 21,
          "metadata": {},
          "output_type": "execute_result"
        }
      ],
      "source": [
        "data['days_exposition'].median() #медиана времени публикации объявления\n",
        "data['days_exposition'].mean() #среднее временя публикации объявления"
      ]
    },
    {
      "cell_type": "markdown",
      "metadata": {
        "id": "7M38VaiwgT5f"
      },
      "source": [
        "###### В среднем продажа квартиры занимает от 2-х до 4-х месяцев. Средний срок продажи квартиры в России составляет 90 дней (эта инфа здесь https://realty.rbc.ru/news/5d89eb989a79474e76307ad5)."
      ]
    },
    {
      "cell_type": "markdown",
      "metadata": {
        "id": "k1JC9zltgT5f"
      },
      "source": [
        "### Уберем редкие и выбивающиеся значения. Опишим, какие особенности обнаружили."
      ]
    },
    {
      "cell_type": "code",
      "execution_count": null,
      "metadata": {
        "id": "4f3joQAvgT5f",
        "outputId": "f2ea01c5-67d0-4147-a5b9-1d426429a1a5"
      },
      "outputs": [
        {
          "data": {
            "image/png": "[encoded data removed]",
            "text/plain": [
              "<Figure size 288x360 with 1 Axes>"
            ]
          },
          "metadata": {
            "needs_background": "light"
          },
          "output_type": "display_data"
        }
      ],
      "source": [
        "data.boxplot([\"days_exposition\"], figsize=(4,5), fontsize=14)\n",
        "plt.ylabel(\"days\", fontsize=14)\n",
        "plt.show()"
      ]
    },
    {
      "cell_type": "markdown",
      "metadata": {
        "id": "pecCWFYCgT5f"
      },
      "source": [
        "###### Будем считать быструю продажу, если продали за неделю, и долгую, если длится 440 дней."
      ]
    },
    {
      "cell_type": "code",
      "execution_count": null,
      "metadata": {
        "id": "JqIDazcjgT5g",
        "outputId": "81537a75-4694-466b-b544-382099764713"
      },
      "outputs": [
        {
          "data": {
            "image/png": "[encoded data removed]",
            "text/plain": [
              "<Figure size 720x360 with 1 Axes>"
            ]
          },
          "metadata": {
            "needs_background": "light"
          },
          "output_type": "display_data"
        },
        {
          "data": {
            "text/plain": [
              "count    20534.000000\n",
              "mean       120.167040\n",
              "std         99.565878\n",
              "min          8.000000\n",
              "25%         45.000000\n",
              "50%         95.000000\n",
              "75%        158.000000\n",
              "max        439.000000\n",
              "Name: days_exposition, dtype: float64"
            ]
          },
          "execution_count": 23,
          "metadata": {},
          "output_type": "execute_result"
        }
      ],
      "source": [
        "good_exposition_data = data.query('7 < days_exposition < 440')\n",
        "\n",
        "good_exposition_data.plot(y='days_exposition', kind='hist', bins=440, figsize=(10,5), range=(0,440))\n",
        "plt.show()\n",
        "good_exposition_data['days_exposition'].describe()\n"
      ]
    },
    {
      "cell_type": "markdown",
      "metadata": {
        "id": "DwZS0TYJgT5g"
      },
      "source": [
        "###### Значения 45, 60, 95 - самые выдающиеся, скорее всего, это связано с правилами размещения на ЯндексНедвижимости"
      ]
    },
    {
      "cell_type": "code",
      "execution_count": null,
      "metadata": {
        "id": "3mjohnEUgT5h",
        "outputId": "b6dfcb49-1993-4062-c4ac-83991e889b43"
      },
      "outputs": [
        {
          "data": {
            "image/png": "[encoded data removed]",
            "text/plain": [
              "<Figure size 720x360 with 1 Axes>"
            ]
          },
          "metadata": {
            "needs_background": "light"
          },
          "output_type": "display_data"
        },
        {
          "data": {
            "text/plain": [
              "count    16915.000000\n",
              "mean       129.416790\n",
              "std        106.969927\n",
              "min          8.000000\n",
              "25%         44.000000\n",
              "50%         98.000000\n",
              "75%        182.000000\n",
              "max        439.000000\n",
              "Name: days_exposition, dtype: float64"
            ]
          },
          "execution_count": 24,
          "metadata": {},
          "output_type": "execute_result"
        }
      ],
      "source": [
        "good_exposition_data = data.query('7 < days_exposition < 440 and days_exposition != 45  and days_exposition != 60 and days_exposition != 95')\n",
        "good_exposition_data.plot(y='days_exposition', kind='hist', bins=440, figsize=(10,5), range=(0,440))\n",
        "plt.show()\n",
        "good_exposition_data['days_exposition'].describe()"
      ]
    },
    {
      "cell_type": "markdown",
      "metadata": {
        "id": "ASqke0WcgT5h"
      },
      "source": [
        "### Цена"
      ]
    },
    {
      "cell_type": "code",
      "execution_count": null,
      "metadata": {
        "id": "ZCtmuufpgT5i",
        "outputId": "640fbee3-6353-4d67-ed95-8febf973915c"
      },
      "outputs": [
        {
          "data": {
            "image/png": "[encoded data removed]",
            "text/plain": [
              "<Figure size 720x360 with 1 Axes>"
            ]
          },
          "metadata": {
            "needs_background": "light"
          },
          "output_type": "display_data"
        },
        {
          "data": {
            "text/plain": [
              "count    2.369900e+04\n",
              "mean     6.541549e+06\n",
              "std      1.088701e+07\n",
              "min      1.219000e+04\n",
              "25%      3.400000e+06\n",
              "50%      4.650000e+06\n",
              "75%      6.800000e+06\n",
              "max      7.630000e+08\n",
              "Name: last_price, dtype: float64"
            ]
          },
          "execution_count": 25,
          "metadata": {},
          "output_type": "execute_result"
        }
      ],
      "source": [
        "data.boxplot(['last_price'], figsize=(10,5), fontsize=14)\n",
        "plt.show()\n",
        "data['last_price'].describe()"
      ]
    },
    {
      "cell_type": "markdown",
      "metadata": {
        "id": "dGX2bD9SgT5i"
      },
      "source": [
        "##### Видим стоимость квартир и за 12190 р. и за 763 млн. р. Примим, что квартира не может стоить меньше 0.5 млн. и больше 15 млн. Избавимся от выбивающихся значений."
      ]
    },
    {
      "cell_type": "code",
      "execution_count": null,
      "metadata": {
        "id": "z2Gn8ZAfgT5i",
        "outputId": "373cdbdc-de64-414e-f9ec-d3a66c9a959c"
      },
      "outputs": [
        {
          "data": {
            "image/png": "[encoded data removed]",
            "text/plain": [
              "<Figure size 720x360 with 1 Axes>"
            ]
          },
          "metadata": {
            "needs_background": "light"
          },
          "output_type": "display_data"
        },
        {
          "data": {
            "text/plain": [
              "count    2.243600e+04\n",
              "mean     5.147341e+06\n",
              "std      2.683236e+06\n",
              "min      5.200000e+05\n",
              "25%      3.370000e+06\n",
              "50%      4.500000e+06\n",
              "75%      6.300000e+06\n",
              "max      1.500000e+07\n",
              "Name: last_price, dtype: float64"
            ]
          },
          "execution_count": 26,
          "metadata": {},
          "output_type": "execute_result"
        }
      ],
      "source": [
        "good_last_price_data = data.query('500000 < last_price < 15000000')\n",
        "\n",
        "good_last_price_data.plot(y='last_price', kind='hist', bins=50, figsize=(10,5), range=(0,15000000))\n",
        "plt.show()\n",
        "good_last_price_data['last_price'].describe()"
      ]
    },
    {
      "cell_type": "markdown",
      "metadata": {
        "id": "qYcyUSu-gT5j"
      },
      "source": [
        "### Площадь"
      ]
    },
    {
      "cell_type": "code",
      "execution_count": null,
      "metadata": {
        "id": "tcNxVpNOgT5j",
        "outputId": "bd2cf46a-1e70-4bf9-97b6-091428028196"
      },
      "outputs": [
        {
          "data": {
            "image/png": "[encoded data removed]",
            "text/plain": [
              "<Figure size 720x360 with 1 Axes>"
            ]
          },
          "metadata": {
            "needs_background": "light"
          },
          "output_type": "display_data"
        },
        {
          "data": {
            "text/plain": [
              "count    23699.000000\n",
              "mean        60.348651\n",
              "std         35.654083\n",
              "min         12.000000\n",
              "25%         40.000000\n",
              "50%         52.000000\n",
              "75%         69.900000\n",
              "max        900.000000\n",
              "Name: total_area, dtype: float64"
            ]
          },
          "execution_count": 27,
          "metadata": {},
          "output_type": "execute_result"
        }
      ],
      "source": [
        "data.boxplot(['total_area'], figsize=(10,5), fontsize=14)\n",
        "plt.show()\n",
        "data['total_area'].describe()"
      ]
    },
    {
      "cell_type": "markdown",
      "metadata": {
        "id": "wVx72xZQgT5j"
      },
      "source": [
        "#### Видим площадь 900 кв.м., возможно опечатка. Избавимся от выбросов, квартир больше 160 кв.м."
      ]
    },
    {
      "cell_type": "code",
      "execution_count": null,
      "metadata": {
        "id": "nPvt3eO8gT5l",
        "outputId": "f7b74a2a-f72c-4972-ceb9-d1360802aa5a"
      },
      "outputs": [
        {
          "data": {
            "image/png": "[encoded data removed]",
            "text/plain": [
              "<Figure size 720x360 with 1 Axes>"
            ]
          },
          "metadata": {
            "needs_background": "light"
          },
          "output_type": "display_data"
        },
        {
          "data": {
            "text/plain": [
              "count    23231.000000\n",
              "mean        56.957762\n",
              "std         23.757890\n",
              "min         12.000000\n",
              "25%         40.000000\n",
              "50%         51.200000\n",
              "75%         68.000000\n",
              "max        159.900000\n",
              "Name: total_area, dtype: float64"
            ]
          },
          "execution_count": 28,
          "metadata": {},
          "output_type": "execute_result"
        }
      ],
      "source": [
        "good_total_area_data = data.query('total_area < 160')\n",
        "\n",
        "good_total_area_data.plot(y='total_area', kind='hist', bins=50, figsize=(10,5), range=(0,160))\n",
        "plt.show()\n",
        "good_total_area_data['total_area'].describe()"
      ]
    },
    {
      "cell_type": "markdown",
      "metadata": {
        "id": "pdQSTJ7zgT5t"
      },
      "source": [
        "### Высота потолков"
      ]
    },
    {
      "cell_type": "code",
      "execution_count": null,
      "metadata": {
        "id": "wIqycfkIgT5u",
        "outputId": "0ab83dc1-7de8-4a0c-aec3-5495c611b877"
      },
      "outputs": [
        {
          "data": {
            "image/png": "[encoded data removed]",
            "text/plain": [
              "<Figure size 720x360 with 1 Axes>"
            ]
          },
          "metadata": {
            "needs_background": "light"
          },
          "output_type": "display_data"
        },
        {
          "data": {
            "text/plain": [
              "count    23699.000000\n",
              "mean         2.702518\n",
              "std          0.679234\n",
              "min          1.000000\n",
              "25%          2.600000\n",
              "50%          2.650000\n",
              "75%          2.700000\n",
              "max        100.000000\n",
              "Name: ceiling_height, dtype: float64"
            ]
          },
          "execution_count": 29,
          "metadata": {},
          "output_type": "execute_result"
        }
      ],
      "source": [
        "data.boxplot(['ceiling_height'], figsize=(10,5), fontsize=14)\n",
        "plt.show()\n",
        "data['ceiling_height'].describe()"
      ]
    },
    {
      "cell_type": "markdown",
      "metadata": {
        "id": "vhe4mp_ZgT5u"
      },
      "source": [
        "#### Высота потолков от 1 до 100 метров. Избавимся от выбросов. Примем, что нормальная высота потолков от 2,4 м до 3,5 м."
      ]
    },
    {
      "cell_type": "code",
      "execution_count": null,
      "metadata": {
        "id": "hY0eQsBlgT5u",
        "outputId": "103dff0f-c047-44fa-f831-67fa818d83c6"
      },
      "outputs": [
        {
          "data": {
            "image/png": "[encoded data removed]",
            "text/plain": [
              "<Figure size 720x360 with 1 Axes>"
            ]
          },
          "metadata": {
            "needs_background": "light"
          },
          "output_type": "display_data"
        },
        {
          "data": {
            "text/plain": [
              "count    23240.000000\n",
              "mean         2.679218\n",
              "std          0.165084\n",
              "min          2.450000\n",
              "25%          2.600000\n",
              "50%          2.650000\n",
              "75%          2.700000\n",
              "max          3.490000\n",
              "Name: ceiling_height, dtype: float64"
            ]
          },
          "execution_count": 30,
          "metadata": {},
          "output_type": "execute_result"
        }
      ],
      "source": [
        "good_ceiling_height_data = data.query('2.4 < ceiling_height < 3.5')\n",
        "\n",
        "good_ceiling_height_data.plot(y='ceiling_height', kind='hist', bins=50, figsize=(10,5), range=(2,4))\n",
        "plt.show()\n",
        "good_ceiling_height_data['ceiling_height'].describe()"
      ]
    },
    {
      "cell_type": "markdown",
      "metadata": {
        "id": "Blg9AtzHgT5w"
      },
      "source": [
        "### Комнаты"
      ]
    },
    {
      "cell_type": "code",
      "execution_count": null,
      "metadata": {
        "id": "sGp_N-ungT5x",
        "outputId": "e49b66bb-2ce4-4c06-e2cc-7cf4c513513e"
      },
      "outputs": [
        {
          "data": {
            "image/png": "[encoded data removed]",
            "text/plain": [
              "<Figure size 720x360 with 1 Axes>"
            ]
          },
          "metadata": {
            "needs_background": "light"
          },
          "output_type": "display_data"
        },
        {
          "data": {
            "text/plain": [
              "count    23699.000000\n",
              "mean         2.070636\n",
              "std          1.078405\n",
              "min          0.000000\n",
              "25%          1.000000\n",
              "50%          2.000000\n",
              "75%          3.000000\n",
              "max         19.000000\n",
              "Name: rooms, dtype: float64"
            ]
          },
          "execution_count": 31,
          "metadata": {},
          "output_type": "execute_result"
        }
      ],
      "source": [
        "data.boxplot(['rooms'], figsize=(10,5), fontsize=14)\n",
        "plt.show()\n",
        "data['rooms'].describe()"
      ]
    },
    {
      "cell_type": "markdown",
      "metadata": {
        "id": "MaKgqroHgT5x"
      },
      "source": [
        "#### Количество комнат не может быть меньше 1, и , как видно на \"ящике с усами\", больше 6 комнат редкие значения."
      ]
    },
    {
      "cell_type": "code",
      "execution_count": null,
      "metadata": {
        "id": "iYQQl_NagT5x",
        "outputId": "d70dab56-3079-41e8-e5c0-deb2dd67aea1"
      },
      "outputs": [
        {
          "data": {
            "image/png": "[encoded data removed]",
            "text/plain": [
              "<Figure size 720x360 with 1 Axes>"
            ]
          },
          "metadata": {
            "needs_background": "light"
          },
          "output_type": "display_data"
        },
        {
          "data": {
            "text/plain": [
              "count    23412.000000\n",
              "mean         2.065138\n",
              "std          0.993242\n",
              "min          1.000000\n",
              "25%          1.000000\n",
              "50%          2.000000\n",
              "75%          3.000000\n",
              "max          6.000000\n",
              "Name: rooms, dtype: float64"
            ]
          },
          "execution_count": 32,
          "metadata": {},
          "output_type": "execute_result"
        }
      ],
      "source": [
        "good_rooms_data = data.query('1 <= rooms <= 6')\n",
        "\n",
        "good_rooms_data.plot(y='rooms', kind='hist', bins=10, figsize=(10,5), range=(1,6))\n",
        "plt.show()\n",
        "good_rooms_data['rooms'].describe()"
      ]
    },
    {
      "cell_type": "markdown",
      "metadata": {
        "id": "USkhQFA1gT5x"
      },
      "source": [
        "### Какие факторы больше всего влияют на стоимость квартиры? Изучим, зависит ли цена от площади, числа комнат, удалённости от центра. Изучим зависимость цены от того, на каком этаже расположена квартира: первом, последнем или другом. Также изучим зависимость от даты размещения: дня недели, месяца и года."
      ]
    },
    {
      "cell_type": "code",
      "execution_count": null,
      "metadata": {
        "id": "NsqOD3BCgT5y",
        "outputId": "432574eb-5d20-4b36-e02d-2601589c403c"
      },
      "outputs": [
        {
          "data": {
            "image/png": "[encoded data removed]",
            "text/plain": [
              "<Figure size 1008x360 with 1 Axes>"
            ]
          },
          "metadata": {
            "needs_background": "light"
          },
          "output_type": "display_data"
        }
      ],
      "source": [
        "data.plot(x='total_area', y='last_price', kind='scatter',figsize=(14, 5), grid=True, alpha=0.5) #зависимость цены от площади\n",
        "plt.show()"
      ]
    },
    {
      "cell_type": "markdown",
      "metadata": {
        "id": "uDrbFot_gT5y"
      },
      "source": [
        "###### Видно, что зависимость цены от площади есть, чем больше площадь, тем выше цена."
      ]
    },
    {
      "cell_type": "code",
      "execution_count": null,
      "metadata": {
        "id": "ingwXQMHgT5y",
        "outputId": "4969c1f7-6f76-424f-c354-de400fe45b36"
      },
      "outputs": [
        {
          "data": {
            "image/png": "[encoded data removed]",
            "text/plain": [
              "<Figure size 1008x360 with 1 Axes>"
            ]
          },
          "metadata": {
            "needs_background": "light"
          },
          "output_type": "display_data"
        }
      ],
      "source": [
        "data.plot(x='rooms', y='last_price', kind='scatter',figsize=(14, 5), grid=True, alpha=0.5) #зависимость цены от количеста комнат\n",
        "plt.show()"
      ]
    },
    {
      "cell_type": "markdown",
      "metadata": {
        "id": "gRPcXP1ZgT50"
      },
      "source": [
        "###### Зависимость цены от числа комнат есть, скорее, из-за того, что с увеличением числа комнат, увеличивается и площадь."
      ]
    },
    {
      "cell_type": "code",
      "execution_count": null,
      "metadata": {
        "id": "8D1Svr3EgT50",
        "outputId": "80f7e812-4da4-4c35-8b16-0e8e5e78578b"
      },
      "outputs": [
        {
          "data": {
            "image/png": "[encoded data removed]",
            "text/plain": [
              "<Figure size 1008x360 with 1 Axes>"
            ]
          },
          "metadata": {
            "needs_background": "light"
          },
          "output_type": "display_data"
        }
      ],
      "source": [
        "data.plot(x='cityCenters_nearest', y='last_price', kind='scatter',figsize=(14, 5), grid=True, alpha=0.5) #зависимость цены от удаленности от центра\n",
        "plt.show()"
      ]
    },
    {
      "cell_type": "markdown",
      "metadata": {
        "id": "S92G_987gT51"
      },
      "source": [
        "###### Видно, что есть небольшая зависимость цены от расстояния до центра. "
      ]
    },
    {
      "cell_type": "code",
      "execution_count": null,
      "metadata": {
        "id": "twlvIE0ngT51",
        "outputId": "f13ab12c-0fa5-4a02-c0c9-5c58ef2032e1"
      },
      "outputs": [
        {
          "data": {
            "image/png": "[encoded data removed]",
            "text/plain": [
              "<Figure size 720x360 with 1 Axes>"
            ]
          },
          "metadata": {
            "needs_background": "light"
          },
          "output_type": "display_data"
        }
      ],
      "source": [
        "floor_category_mean = data.groupby('floor_category')['last_price'].mean() #средняя цена по категории этажности\n",
        "floor_category_mean.plot(x=floor_category_mean.index, y=floor_category_mean.values, kind='bar',figsize=(10, 5), grid=True) #зависимость цены от этажа\n",
        "plt.show()"
      ]
    },
    {
      "cell_type": "markdown",
      "metadata": {
        "id": "YFoi5J49gT51"
      },
      "source": [
        "###### Видно, что первый этаж самый не популярный. Самый популярный последний этаж."
      ]
    },
    {
      "cell_type": "code",
      "execution_count": null,
      "metadata": {
        "id": "3R3G_lYlgT51",
        "outputId": "04bce7c3-ec3d-4efa-f44e-99a291092048"
      },
      "outputs": [
        {
          "data": {
            "image/png": "[encoded data removed]",
            "text/plain": [
              "<Figure size 720x360 with 1 Axes>"
            ]
          },
          "metadata": {
            "needs_background": "light"
          },
          "output_type": "display_data"
        }
      ],
      "source": [
        "(data.groupby('weekday_exposition')['last_price'].mean()\n",
        ".plot(x='weekday_exposition', y='last_price', kind='bar',figsize=(10, 5), grid=True)\n",
        ") #размещение по дням недели\n",
        "plt.show()"
      ]
    },
    {
      "cell_type": "markdown",
      "metadata": {
        "id": "1miT1X_lgT52"
      },
      "source": [
        "###### Видно, что зависимость от дня размещения объявления, крайне мала."
      ]
    },
    {
      "cell_type": "code",
      "execution_count": null,
      "metadata": {
        "id": "HnT1NU4agT59",
        "outputId": "130cd0d4-0b4d-4801-9235-5a481be338cb"
      },
      "outputs": [
        {
          "data": {
            "image/png": "[encoded data removed]",
            "text/plain": [
              "<Figure size 720x360 with 1 Axes>"
            ]
          },
          "metadata": {
            "needs_background": "light"
          },
          "output_type": "display_data"
        }
      ],
      "source": [
        "(data.groupby('month_exposition')['last_price'].mean()\n",
        ".plot(x='month_exposition', y='last_price', kind='bar',figsize=(10, 5), grid=True)\n",
        ") #размещение по дням недели\n",
        "plt.show()"
      ]
    },
    {
      "cell_type": "markdown",
      "metadata": {
        "id": "--HW4ZYrgT59"
      },
      "source": [
        "###### Видно, ято в декабре самые высокие цены."
      ]
    },
    {
      "cell_type": "code",
      "execution_count": null,
      "metadata": {
        "id": "VM6m7M8JgT59",
        "outputId": "8309d1aa-4d50-499d-99fd-3817337e24d9"
      },
      "outputs": [
        {
          "data": {
            "image/png": "[encoded data removed]",
            "text/plain": [
              "<Figure size 720x360 with 1 Axes>"
            ]
          },
          "metadata": {
            "needs_background": "light"
          },
          "output_type": "display_data"
        }
      ],
      "source": [
        "(data.groupby('year_exposition')['last_price'].mean()\n",
        ".plot(x='year_exposition', y='last_price', kind='bar',figsize=(10, 5), grid=True)\n",
        ") #размещение по годам\n",
        "plt.show()"
      ]
    },
    {
      "cell_type": "markdown",
      "metadata": {
        "id": "3MBbg8x0gT5-"
      },
      "source": [
        "###### Самые высокие цены на недвижимость были в 2014 году. В 2019 году вернулись к уровню 2016-го."
      ]
    },
    {
      "cell_type": "markdown",
      "metadata": {
        "id": "HYmp3BwzgT5-"
      },
      "source": [
        "### Выберем 10 населённых пунктов с наибольшим числом объявлений. Посчитаем среднюю цену квадратного метра в этих населённых пунктах. Выделим населённые пункты с самой высокой и низкой стоимостью жилья."
      ]
    },
    {
      "cell_type": "code",
      "execution_count": null,
      "metadata": {
        "id": "ujrO3pYEgT5-",
        "outputId": "574a49b9-4033-4f5c-eabc-4ed182db16cd"
      },
      "outputs": [
        {
          "data": {
            "text/html": [
              "<div>\n",
              "<style scoped>\n",
              "    .dataframe tbody tr th:only-of-type {\n",
              "        vertical-align: middle;\n",
              "    }\n",
              "\n",
              "    .dataframe tbody tr th {\n",
              "        vertical-align: top;\n",
              "    }\n",
              "\n",
              "    .dataframe thead th {\n",
              "        text-align: right;\n",
              "    }\n",
              "</style>\n",
              "<table border=\"1\" class=\"dataframe\">\n",
              "  <thead>\n",
              "    <tr style=\"text-align: right;\">\n",
              "      <th></th>\n",
              "      <th>count</th>\n",
              "      <th>mean</th>\n",
              "    </tr>\n",
              "    <tr>\n",
              "      <th>locality_name</th>\n",
              "      <th></th>\n",
              "      <th></th>\n",
              "    </tr>\n",
              "  </thead>\n",
              "  <tbody>\n",
              "    <tr>\n",
              "      <th>Санкт-Петербург</th>\n",
              "      <td>15721</td>\n",
              "      <td>114848.565231</td>\n",
              "    </tr>\n",
              "    <tr>\n",
              "      <th>посёлок Мурино</th>\n",
              "      <td>522</td>\n",
              "      <td>85751.733716</td>\n",
              "    </tr>\n",
              "    <tr>\n",
              "      <th>посёлок Шушары</th>\n",
              "      <td>440</td>\n",
              "      <td>78676.904545</td>\n",
              "    </tr>\n",
              "    <tr>\n",
              "      <th>Всеволожск</th>\n",
              "      <td>398</td>\n",
              "      <td>68654.007538</td>\n",
              "    </tr>\n",
              "    <tr>\n",
              "      <th>Пушкин</th>\n",
              "      <td>369</td>\n",
              "      <td>103125.373984</td>\n",
              "    </tr>\n",
              "    <tr>\n",
              "      <th>Колпино</th>\n",
              "      <td>338</td>\n",
              "      <td>75424.150888</td>\n",
              "    </tr>\n",
              "    <tr>\n",
              "      <th>посёлок Парголово</th>\n",
              "      <td>327</td>\n",
              "      <td>90175.489297</td>\n",
              "    </tr>\n",
              "    <tr>\n",
              "      <th>Гатчина</th>\n",
              "      <td>307</td>\n",
              "      <td>68745.693811</td>\n",
              "    </tr>\n",
              "    <tr>\n",
              "      <th>деревня Кудрово</th>\n",
              "      <td>299</td>\n",
              "      <td>92473.086957</td>\n",
              "    </tr>\n",
              "    <tr>\n",
              "      <th>Выборг</th>\n",
              "      <td>237</td>\n",
              "      <td>58141.489451</td>\n",
              "    </tr>\n",
              "  </tbody>\n",
              "</table>\n",
              "</div>"
            ],
            "text/plain": [
              "                   count           mean\n",
              "locality_name                          \n",
              "Санкт-Петербург    15721  114848.565231\n",
              "посёлок Мурино       522   85751.733716\n",
              "посёлок Шушары       440   78676.904545\n",
              "Всеволожск           398   68654.007538\n",
              "Пушкин               369  103125.373984\n",
              "Колпино              338   75424.150888\n",
              "посёлок Парголово    327   90175.489297\n",
              "Гатчина              307   68745.693811\n",
              "деревня Кудрово      299   92473.086957\n",
              "Выборг               237   58141.489451"
            ]
          },
          "execution_count": 40,
          "metadata": {},
          "output_type": "execute_result"
        }
      ],
      "source": [
        "top_ads_by_city = data.pivot_table(index='locality_name', values='squere_meter_price', aggfunc=['count', 'mean'])\n",
        "top_ads_by_city.columns = ['count', 'mean']\n",
        "top_ads_by_city.sort_values('count', ascending=False).head(10)"
      ]
    },
    {
      "cell_type": "markdown",
      "metadata": {
        "id": "YR55JZfWgT6A"
      },
      "source": [
        "###### Самая высокая стоимость жилья в Санкт-Петербурге, самая низкая в Выборге."
      ]
    },
    {
      "cell_type": "markdown",
      "metadata": {
        "id": "sAXy6z5IgT6A"
      },
      "source": [
        "### Изучим предложения квартир: для каждой квартиры есть информация о расстоянии до центра. Выделим квартиры в Санкт-Петербурге (locality_name). Наша задача — выяснить, какая область входит в центр. Создадим столбец с расстоянием до центра в километрах: округлите до целых значений. После этого посчитаем среднюю цену для каждого километра. Построим график: он должен показывать, как цена зависит от удалённости от центра. Определим границу, где график сильно меняется, — это и будет центральная зона."
      ]
    },
    {
      "cell_type": "code",
      "execution_count": null,
      "metadata": {
        "id": "PCQchmnRgT6A",
        "outputId": "439e27c8-c003-416d-dec1-5acc37a65930"
      },
      "outputs": [
        {
          "data": {
            "text/html": [
              "<div>\n",
              "<style scoped>\n",
              "    .dataframe tbody tr th:only-of-type {\n",
              "        vertical-align: middle;\n",
              "    }\n",
              "\n",
              "    .dataframe tbody tr th {\n",
              "        vertical-align: top;\n",
              "    }\n",
              "\n",
              "    .dataframe thead th {\n",
              "        text-align: right;\n",
              "    }\n",
              "</style>\n",
              "<table border=\"1\" class=\"dataframe\">\n",
              "  <thead>\n",
              "    <tr style=\"text-align: right;\">\n",
              "      <th></th>\n",
              "      <th>total_images</th>\n",
              "      <th>last_price</th>\n",
              "      <th>total_area</th>\n",
              "      <th>first_day_exposition</th>\n",
              "      <th>rooms</th>\n",
              "      <th>ceiling_height</th>\n",
              "      <th>floors_total</th>\n",
              "      <th>living_area</th>\n",
              "      <th>floor</th>\n",
              "      <th>is_apartment</th>\n",
              "      <th>...</th>\n",
              "      <th>ponds_nearest</th>\n",
              "      <th>days_exposition</th>\n",
              "      <th>squere_meter_price</th>\n",
              "      <th>weekday_exposition</th>\n",
              "      <th>month_exposition</th>\n",
              "      <th>year_exposition</th>\n",
              "      <th>floor_category</th>\n",
              "      <th>living_to_total_area</th>\n",
              "      <th>kitchen_to_total_area</th>\n",
              "      <th>cityCenters_nearest_km</th>\n",
              "    </tr>\n",
              "  </thead>\n",
              "  <tbody>\n",
              "    <tr>\n",
              "      <th>0</th>\n",
              "      <td>20</td>\n",
              "      <td>13000000</td>\n",
              "      <td>108.00</td>\n",
              "      <td>2019-03-07</td>\n",
              "      <td>3</td>\n",
              "      <td>2.70</td>\n",
              "      <td>16.0</td>\n",
              "      <td>51.0</td>\n",
              "      <td>8</td>\n",
              "      <td>False</td>\n",
              "      <td>...</td>\n",
              "      <td>755.0</td>\n",
              "      <td>95.0</td>\n",
              "      <td>120370</td>\n",
              "      <td>3</td>\n",
              "      <td>3</td>\n",
              "      <td>2019</td>\n",
              "      <td>другой</td>\n",
              "      <td>0.472222</td>\n",
              "      <td>0.231481</td>\n",
              "      <td>16.0</td>\n",
              "    </tr>\n",
              "    <tr>\n",
              "      <th>2</th>\n",
              "      <td>10</td>\n",
              "      <td>5196000</td>\n",
              "      <td>56.00</td>\n",
              "      <td>2015-08-20</td>\n",
              "      <td>2</td>\n",
              "      <td>2.65</td>\n",
              "      <td>5.0</td>\n",
              "      <td>34.3</td>\n",
              "      <td>4</td>\n",
              "      <td>False</td>\n",
              "      <td>...</td>\n",
              "      <td>574.0</td>\n",
              "      <td>558.0</td>\n",
              "      <td>92785</td>\n",
              "      <td>3</td>\n",
              "      <td>8</td>\n",
              "      <td>2015</td>\n",
              "      <td>другой</td>\n",
              "      <td>0.612500</td>\n",
              "      <td>0.148214</td>\n",
              "      <td>14.0</td>\n",
              "    </tr>\n",
              "    <tr>\n",
              "      <th>3</th>\n",
              "      <td>0</td>\n",
              "      <td>64900000</td>\n",
              "      <td>159.00</td>\n",
              "      <td>2015-07-24</td>\n",
              "      <td>3</td>\n",
              "      <td>2.65</td>\n",
              "      <td>14.0</td>\n",
              "      <td>45.0</td>\n",
              "      <td>9</td>\n",
              "      <td>False</td>\n",
              "      <td>...</td>\n",
              "      <td>234.0</td>\n",
              "      <td>424.0</td>\n",
              "      <td>408176</td>\n",
              "      <td>4</td>\n",
              "      <td>7</td>\n",
              "      <td>2015</td>\n",
              "      <td>другой</td>\n",
              "      <td>0.283019</td>\n",
              "      <td>0.094340</td>\n",
              "      <td>7.0</td>\n",
              "    </tr>\n",
              "    <tr>\n",
              "      <th>4</th>\n",
              "      <td>2</td>\n",
              "      <td>10000000</td>\n",
              "      <td>100.00</td>\n",
              "      <td>2018-06-19</td>\n",
              "      <td>2</td>\n",
              "      <td>3.03</td>\n",
              "      <td>14.0</td>\n",
              "      <td>32.0</td>\n",
              "      <td>13</td>\n",
              "      <td>False</td>\n",
              "      <td>...</td>\n",
              "      <td>48.0</td>\n",
              "      <td>121.0</td>\n",
              "      <td>100000</td>\n",
              "      <td>1</td>\n",
              "      <td>6</td>\n",
              "      <td>2018</td>\n",
              "      <td>другой</td>\n",
              "      <td>0.320000</td>\n",
              "      <td>0.410000</td>\n",
              "      <td>8.0</td>\n",
              "    </tr>\n",
              "    <tr>\n",
              "      <th>7</th>\n",
              "      <td>5</td>\n",
              "      <td>7915000</td>\n",
              "      <td>71.60</td>\n",
              "      <td>2019-04-18</td>\n",
              "      <td>2</td>\n",
              "      <td>2.65</td>\n",
              "      <td>24.0</td>\n",
              "      <td>30.5</td>\n",
              "      <td>22</td>\n",
              "      <td>False</td>\n",
              "      <td>...</td>\n",
              "      <td>NaN</td>\n",
              "      <td>95.0</td>\n",
              "      <td>110544</td>\n",
              "      <td>3</td>\n",
              "      <td>4</td>\n",
              "      <td>2019</td>\n",
              "      <td>другой</td>\n",
              "      <td>0.425978</td>\n",
              "      <td>0.263966</td>\n",
              "      <td>12.0</td>\n",
              "    </tr>\n",
              "    <tr>\n",
              "      <th>...</th>\n",
              "      <td>...</td>\n",
              "      <td>...</td>\n",
              "      <td>...</td>\n",
              "      <td>...</td>\n",
              "      <td>...</td>\n",
              "      <td>...</td>\n",
              "      <td>...</td>\n",
              "      <td>...</td>\n",
              "      <td>...</td>\n",
              "      <td>...</td>\n",
              "      <td>...</td>\n",
              "      <td>...</td>\n",
              "      <td>...</td>\n",
              "      <td>...</td>\n",
              "      <td>...</td>\n",
              "      <td>...</td>\n",
              "      <td>...</td>\n",
              "      <td>...</td>\n",
              "      <td>...</td>\n",
              "      <td>...</td>\n",
              "      <td>...</td>\n",
              "    </tr>\n",
              "    <tr>\n",
              "      <th>23689</th>\n",
              "      <td>13</td>\n",
              "      <td>3550000</td>\n",
              "      <td>35.30</td>\n",
              "      <td>2018-02-28</td>\n",
              "      <td>1</td>\n",
              "      <td>2.86</td>\n",
              "      <td>15.0</td>\n",
              "      <td>16.3</td>\n",
              "      <td>4</td>\n",
              "      <td>False</td>\n",
              "      <td>...</td>\n",
              "      <td>652.0</td>\n",
              "      <td>29.0</td>\n",
              "      <td>100566</td>\n",
              "      <td>2</td>\n",
              "      <td>2</td>\n",
              "      <td>2018</td>\n",
              "      <td>другой</td>\n",
              "      <td>0.461756</td>\n",
              "      <td>0.257790</td>\n",
              "      <td>16.0</td>\n",
              "    </tr>\n",
              "    <tr>\n",
              "      <th>23690</th>\n",
              "      <td>3</td>\n",
              "      <td>5500000</td>\n",
              "      <td>52.00</td>\n",
              "      <td>2018-07-19</td>\n",
              "      <td>2</td>\n",
              "      <td>2.65</td>\n",
              "      <td>5.0</td>\n",
              "      <td>31.0</td>\n",
              "      <td>2</td>\n",
              "      <td>False</td>\n",
              "      <td>...</td>\n",
              "      <td>NaN</td>\n",
              "      <td>15.0</td>\n",
              "      <td>105769</td>\n",
              "      <td>3</td>\n",
              "      <td>7</td>\n",
              "      <td>2018</td>\n",
              "      <td>другой</td>\n",
              "      <td>0.596154</td>\n",
              "      <td>0.115385</td>\n",
              "      <td>6.0</td>\n",
              "    </tr>\n",
              "    <tr>\n",
              "      <th>23691</th>\n",
              "      <td>11</td>\n",
              "      <td>9470000</td>\n",
              "      <td>72.90</td>\n",
              "      <td>2016-10-13</td>\n",
              "      <td>2</td>\n",
              "      <td>2.75</td>\n",
              "      <td>25.0</td>\n",
              "      <td>40.3</td>\n",
              "      <td>7</td>\n",
              "      <td>False</td>\n",
              "      <td>...</td>\n",
              "      <td>806.0</td>\n",
              "      <td>519.0</td>\n",
              "      <td>129903</td>\n",
              "      <td>3</td>\n",
              "      <td>10</td>\n",
              "      <td>2016</td>\n",
              "      <td>другой</td>\n",
              "      <td>0.552812</td>\n",
              "      <td>0.145405</td>\n",
              "      <td>4.0</td>\n",
              "    </tr>\n",
              "    <tr>\n",
              "      <th>23694</th>\n",
              "      <td>9</td>\n",
              "      <td>9700000</td>\n",
              "      <td>133.81</td>\n",
              "      <td>2017-03-21</td>\n",
              "      <td>3</td>\n",
              "      <td>3.70</td>\n",
              "      <td>5.0</td>\n",
              "      <td>73.3</td>\n",
              "      <td>3</td>\n",
              "      <td>False</td>\n",
              "      <td>...</td>\n",
              "      <td>381.0</td>\n",
              "      <td>95.0</td>\n",
              "      <td>72490</td>\n",
              "      <td>1</td>\n",
              "      <td>3</td>\n",
              "      <td>2017</td>\n",
              "      <td>другой</td>\n",
              "      <td>0.547792</td>\n",
              "      <td>0.103356</td>\n",
              "      <td>4.0</td>\n",
              "    </tr>\n",
              "    <tr>\n",
              "      <th>23697</th>\n",
              "      <td>13</td>\n",
              "      <td>11475000</td>\n",
              "      <td>76.75</td>\n",
              "      <td>2017-03-28</td>\n",
              "      <td>2</td>\n",
              "      <td>3.00</td>\n",
              "      <td>17.0</td>\n",
              "      <td>30.5</td>\n",
              "      <td>12</td>\n",
              "      <td>False</td>\n",
              "      <td>...</td>\n",
              "      <td>196.0</td>\n",
              "      <td>602.0</td>\n",
              "      <td>149511</td>\n",
              "      <td>1</td>\n",
              "      <td>3</td>\n",
              "      <td>2017</td>\n",
              "      <td>другой</td>\n",
              "      <td>0.397394</td>\n",
              "      <td>0.303583</td>\n",
              "      <td>10.0</td>\n",
              "    </tr>\n",
              "  </tbody>\n",
              "</table>\n",
              "<p>15721 rows × 30 columns</p>\n",
              "</div>"
            ],
            "text/plain": [
              "       total_images  last_price  total_area first_day_exposition  rooms  \\\n",
              "0                20    13000000      108.00           2019-03-07      3   \n",
              "2                10     5196000       56.00           2015-08-20      2   \n",
              "3                 0    64900000      159.00           2015-07-24      3   \n",
              "4                 2    10000000      100.00           2018-06-19      2   \n",
              "7                 5     7915000       71.60           2019-04-18      2   \n",
              "...             ...         ...         ...                  ...    ...   \n",
              "23689            13     3550000       35.30           2018-02-28      1   \n",
              "23690             3     5500000       52.00           2018-07-19      2   \n",
              "23691            11     9470000       72.90           2016-10-13      2   \n",
              "23694             9     9700000      133.81           2017-03-21      3   \n",
              "23697            13    11475000       76.75           2017-03-28      2   \n",
              "\n",
              "       ceiling_height  floors_total  living_area  floor  is_apartment  ...  \\\n",
              "0                2.70          16.0         51.0      8         False  ...   \n",
              "2                2.65           5.0         34.3      4         False  ...   \n",
              "3                2.65          14.0         45.0      9         False  ...   \n",
              "4                3.03          14.0         32.0     13         False  ...   \n",
              "7                2.65          24.0         30.5     22         False  ...   \n",
              "...               ...           ...          ...    ...           ...  ...   \n",
              "23689            2.86          15.0         16.3      4         False  ...   \n",
              "23690            2.65           5.0         31.0      2         False  ...   \n",
              "23691            2.75          25.0         40.3      7         False  ...   \n",
              "23694            3.70           5.0         73.3      3         False  ...   \n",
              "23697            3.00          17.0         30.5     12         False  ...   \n",
              "\n",
              "       ponds_nearest  days_exposition  squere_meter_price  weekday_exposition  \\\n",
              "0              755.0             95.0              120370                   3   \n",
              "2              574.0            558.0               92785                   3   \n",
              "3              234.0            424.0              408176                   4   \n",
              "4               48.0            121.0              100000                   1   \n",
              "7                NaN             95.0              110544                   3   \n",
              "...              ...              ...                 ...                 ...   \n",
              "23689          652.0             29.0              100566                   2   \n",
              "23690            NaN             15.0              105769                   3   \n",
              "23691          806.0            519.0              129903                   3   \n",
              "23694          381.0             95.0               72490                   1   \n",
              "23697          196.0            602.0              149511                   1   \n",
              "\n",
              "      month_exposition  year_exposition  floor_category  living_to_total_area  \\\n",
              "0                    3             2019          другой              0.472222   \n",
              "2                    8             2015          другой              0.612500   \n",
              "3                    7             2015          другой              0.283019   \n",
              "4                    6             2018          другой              0.320000   \n",
              "7                    4             2019          другой              0.425978   \n",
              "...                ...              ...             ...                   ...   \n",
              "23689                2             2018          другой              0.461756   \n",
              "23690                7             2018          другой              0.596154   \n",
              "23691               10             2016          другой              0.552812   \n",
              "23694                3             2017          другой              0.547792   \n",
              "23697                3             2017          другой              0.397394   \n",
              "\n",
              "       kitchen_to_total_area  cityCenters_nearest_km  \n",
              "0                   0.231481                    16.0  \n",
              "2                   0.148214                    14.0  \n",
              "3                   0.094340                     7.0  \n",
              "4                   0.410000                     8.0  \n",
              "7                   0.263966                    12.0  \n",
              "...                      ...                     ...  \n",
              "23689               0.257790                    16.0  \n",
              "23690               0.115385                     6.0  \n",
              "23691               0.145405                     4.0  \n",
              "23694               0.103356                     4.0  \n",
              "23697               0.303583                    10.0  \n",
              "\n",
              "[15721 rows x 30 columns]"
            ]
          },
          "execution_count": 41,
          "metadata": {},
          "output_type": "execute_result"
        }
      ],
      "source": [
        "data['cityCenters_nearest_km'] = round(data['cityCenters_nearest']/1000).round()\n",
        "data_spb = data.query('locality_name == \"Санкт-Петербург\"')\n",
        "data_spb"
      ]
    },
    {
      "cell_type": "code",
      "execution_count": null,
      "metadata": {
        "id": "xnCgzO8EgT6B",
        "outputId": "c86984d0-f142-46ae-c8cd-9c18e76198d3"
      },
      "outputs": [
        {
          "data": {
            "image/png": "[encoded data removed]",
            "text/plain": [
              "<Figure size 432x288 with 1 Axes>"
            ]
          },
          "metadata": {
            "needs_background": "light"
          },
          "output_type": "display_data"
        }
      ],
      "source": [
        "(data_spb.groupby('cityCenters_nearest_km')['squere_meter_price']\n",
        " .mean().plot(x='km_to_cityCenters', y='price_for_meter', grid = True)\n",
        ")\n",
        "plt.show()"
      ]
    },
    {
      "cell_type": "markdown",
      "metadata": {
        "id": "Fv-xEJoygT6C"
      },
      "source": [
        "###### На графике видно снижение цены до 3 км и скачек до 6 км. После 6 км идет снижение со скачком на 27 км. Я думаю, что центральная зона - это радиус до 6 км."
      ]
    },
    {
      "cell_type": "markdown",
      "metadata": {
        "id": "kgxJbsrLgT6C"
      },
      "source": [
        "### Выделим сегмент квартир в центре. Проанализируем эту территорию и изучим следующие параметры: площадь, цена, число комнат, высота потолков. Также выделим факторы, которые влияют на стоимость квартиры (число комнат, этаж, удалённость от центра, дата размещения объявления). "
      ]
    },
    {
      "cell_type": "code",
      "execution_count": null,
      "metadata": {
        "id": "rSoVWUvjgT6D"
      },
      "outputs": [],
      "source": [
        "spb_centr = data_spb.query('cityCenters_nearest_km <= 6') #выделяем центр с радиусом 6 км"
      ]
    },
    {
      "cell_type": "code",
      "execution_count": null,
      "metadata": {
        "id": "CXcM3EfxgT6D",
        "outputId": "2a6d10dd-ba26-41a2-830e-8ffdb0652d30"
      },
      "outputs": [
        {
          "data": {
            "image/png": "[encoded data removed]",
            "text/plain": [
              "<Figure size 720x360 with 1 Axes>"
            ]
          },
          "metadata": {
            "needs_background": "light"
          },
          "output_type": "display_data"
        },
        {
          "data": {
            "text/plain": [
              "80.0"
            ]
          },
          "execution_count": 44,
          "metadata": {},
          "output_type": "execute_result"
        }
      ],
      "source": [
        "spb_centr.plot(y='total_area', kind='hist', density=True, bins=100, xlim=(0,500), figsize=(10, 5), title='Общая площадь')\n",
        "plt.show()\n",
        "spb_centr['total_area'].median()"
      ]
    },
    {
      "cell_type": "code",
      "execution_count": null,
      "metadata": {
        "id": "CgGw2BE_gT6D",
        "outputId": "35fd4d4a-35b1-4e3c-fc7f-7dacf0802e98"
      },
      "outputs": [
        {
          "data": {
            "image/png": "[encoded data removed]",
            "text/plain": [
              "<Figure size 720x360 with 1 Axes>"
            ]
          },
          "metadata": {
            "needs_background": "light"
          },
          "output_type": "display_data"
        },
        {
          "data": {
            "text/plain": [
              "9386000.0"
            ]
          },
          "execution_count": 45,
          "metadata": {},
          "output_type": "execute_result"
        }
      ],
      "source": [
        "spb_centr.plot(y='last_price', kind='hist', density=True, bins=200, xlim=(0,50000000.0), figsize=(10, 5), title='Стоимость')\n",
        "plt.show()\n",
        "spb_centr['last_price'].median()"
      ]
    },
    {
      "cell_type": "code",
      "execution_count": null,
      "metadata": {
        "id": "kw7uQl44gT6D",
        "outputId": "6e58f0b1-897a-435f-9b09-46a77f118712"
      },
      "outputs": [
        {
          "data": {
            "image/png": "[encoded data removed]",
            "text/plain": [
              "<Figure size 720x360 with 1 Axes>"
            ]
          },
          "metadata": {
            "needs_background": "light"
          },
          "output_type": "display_data"
        },
        {
          "data": {
            "text/plain": [
              "3.0"
            ]
          },
          "execution_count": 46,
          "metadata": {},
          "output_type": "execute_result"
        }
      ],
      "source": [
        "spb_centr.plot(y='rooms', kind='hist', bins=10, range=(0, 10), figsize=(10, 5), title='Число комнат')\n",
        "plt.show()\n",
        "spb_centr['rooms'].median()"
      ]
    },
    {
      "cell_type": "code",
      "execution_count": null,
      "metadata": {
        "id": "MCM-ZYaFgT6E",
        "outputId": "f12f79ca-41cd-4d88-a066-b00ab9278a6f"
      },
      "outputs": [
        {
          "data": {
            "image/png": "[encoded data removed]",
            "text/plain": [
              "<Figure size 720x360 with 1 Axes>"
            ]
          },
          "metadata": {
            "needs_background": "light"
          },
          "output_type": "display_data"
        },
        {
          "data": {
            "text/plain": [
              "2.84"
            ]
          },
          "execution_count": 47,
          "metadata": {},
          "output_type": "execute_result"
        }
      ],
      "source": [
        "spb_centr.plot(y='ceiling_height', kind='hist', bins=50, range=(2.5, 5), density=True, figsize=(10, 5), title='Высота потолков')\n",
        "plt.show()\n",
        "spb_centr['ceiling_height'].median()"
      ]
    },
    {
      "cell_type": "markdown",
      "metadata": {
        "id": "PfBMjQuggT6E"
      },
      "source": [
        "###### В центре площадь составляет 80 кв.м, по всему датасету 52 кв.м.\n",
        "###### Стоимость в центре почти 10 млн. по всему датасету 4 650 000\n",
        "###### В центре больше 2-х и 3-х комнатных квартир, а во всем датасете 1-комнатных и 2-х комнатных квартир больше\n",
        "###### Медианное высоты потолков в центре составляет 2,84 м, во всем датасете 2,65 м"
      ]
    },
    {
      "cell_type": "code",
      "execution_count": null,
      "metadata": {
        "id": "KejQjeiTgT6E",
        "outputId": "9d93716c-1938-4364-85d3-e235f39d4212"
      },
      "outputs": [
        {
          "data": {
            "image/png": "[encoded data removed]",
            "text/plain": [
              "<Figure size 1008x360 with 1 Axes>"
            ]
          },
          "metadata": {
            "needs_background": "light"
          },
          "output_type": "display_data"
        }
      ],
      "source": [
        "spb_centr.plot(x='rooms', y='last_price', kind='scatter',figsize=(14, 5), grid=True, alpha=0.5) #зависимость цены от количеста комнат\n",
        "plt.show()"
      ]
    },
    {
      "cell_type": "markdown",
      "metadata": {
        "id": "yV42KP6NgT6E"
      },
      "source": [
        "###### Зависимость цены от количества комнат, как и во всем датасете. С увеличением количества комнат, цена растет."
      ]
    },
    {
      "cell_type": "code",
      "execution_count": null,
      "metadata": {
        "scrolled": true,
        "id": "KqwkIWoJgT6F",
        "outputId": "d8f891ed-5555-4c85-deeb-6238e4e5a88a"
      },
      "outputs": [
        {
          "data": {
            "image/png": "[encoded data removed]",
            "text/plain": [
              "<Figure size 720x360 with 1 Axes>"
            ]
          },
          "metadata": {
            "needs_background": "light"
          },
          "output_type": "display_data"
        }
      ],
      "source": [
        "floor_category_mean_spb = spb_centr.groupby('floor_category')['last_price'].mean() #средняя цена по категории этажности\n",
        "floor_category_mean_spb.plot(x=floor_category_mean_spb.index, y=floor_category_mean_spb.values, kind='bar',figsize=(10, 5), grid=True) #зависимость цены от этажа\n",
        "plt.show()"
      ]
    },
    {
      "cell_type": "markdown",
      "metadata": {
        "id": "aZeB2g73gT6F"
      },
      "source": [
        "###### На первом этаже квартиры дешевле, как и по всему датасету"
      ]
    },
    {
      "cell_type": "code",
      "execution_count": null,
      "metadata": {
        "scrolled": true,
        "id": "45uJKmzxgT6F",
        "outputId": "c94195df-84b1-47a2-edca-54be9eb0ccb5"
      },
      "outputs": [
        {
          "data": {
            "image/png": "[encoded data removed]",
            "text/plain": [
              "<Figure size 1008x360 with 1 Axes>"
            ]
          },
          "metadata": {
            "needs_background": "light"
          },
          "output_type": "display_data"
        }
      ],
      "source": [
        "spb_centr.plot(x='cityCenters_nearest', y='last_price', kind='scatter',figsize=(14, 5), grid=True, alpha=0.5) #зависимость цены от удаленности от центра\n",
        "plt.show()"
      ]
    },
    {
      "cell_type": "markdown",
      "metadata": {
        "id": "FGMWH5YCgT6F"
      },
      "source": [
        "###### Зависимости от удаленности не наблюдаем, т.к. это и есть центр"
      ]
    },
    {
      "cell_type": "code",
      "execution_count": null,
      "metadata": {
        "id": "2wGJwbRogT6G",
        "outputId": "a9ee9188-ad4b-48eb-f020-b6fb1cda0eaa"
      },
      "outputs": [
        {
          "data": {
            "image/png": "[encoded data removed]",
            "text/plain": [
              "<Figure size 720x360 with 1 Axes>"
            ]
          },
          "metadata": {
            "needs_background": "light"
          },
          "output_type": "display_data"
        }
      ],
      "source": [
        "(spb_centr.groupby('weekday_exposition')['last_price'].mean()\n",
        ".plot(x='weekday_exposition', y='last_price', kind='bar',figsize=(10, 5), grid=True)\n",
        ") #размещение по дням недели\n",
        "plt.show()"
      ]
    },
    {
      "cell_type": "markdown",
      "metadata": {
        "id": "SaSkBfFDgT6G"
      },
      "source": [
        "###### Отличие от всего датасета имеется. На этой графике выделяется суббота, когда на все датасете резких отличий нет. Хотя суббота тоже чуть выше всех."
      ]
    },
    {
      "cell_type": "code",
      "execution_count": null,
      "metadata": {
        "id": "SZmmDVXxgT6G",
        "outputId": "37d1a3a6-559a-4d14-ea04-53cf78e82ebc"
      },
      "outputs": [
        {
          "data": {
            "image/png": "[encoded data removed]",
            "text/plain": [
              "<Figure size 720x360 with 1 Axes>"
            ]
          },
          "metadata": {
            "needs_background": "light"
          },
          "output_type": "display_data"
        }
      ],
      "source": [
        "(spb_centr.groupby('month_exposition')['last_price'].mean()\n",
        ".plot(x='month_exposition', y='last_price', kind='bar',figsize=(10, 5), grid=True)\n",
        ") #размещение по дням недели\n",
        "plt.show()"
      ]
    },
    {
      "cell_type": "markdown",
      "metadata": {
        "id": "asCijIUQgT6G"
      },
      "source": [
        "###### В центре в июне цена наименьшая, в отличии от всего датасета."
      ]
    },
    {
      "cell_type": "code",
      "execution_count": null,
      "metadata": {
        "id": "aodFrMfsgT6G",
        "outputId": "f299c4c4-8b92-47db-ceb9-4b72daa2a771"
      },
      "outputs": [
        {
          "data": {
            "image/png": "[encoded data removed]",
            "text/plain": [
              "<Figure size 720x360 with 1 Axes>"
            ]
          },
          "metadata": {
            "needs_background": "light"
          },
          "output_type": "display_data"
        }
      ],
      "source": [
        "(spb_centr.groupby('year_exposition')['last_price'].mean()\n",
        ".plot(x='year_exposition', y='last_price', kind='bar',figsize=(10, 5), grid=True)\n",
        ") #размещение по годам\n",
        "plt.show()"
      ]
    },
    {
      "cell_type": "markdown",
      "metadata": {
        "id": "mL2eqEvMgT6H"
      },
      "source": [
        "###### В целом картина, как и во всем датасете. В 2014 году бали самые высокие цены и в 2019 начали снова рости."
      ]
    },
    {
      "cell_type": "markdown",
      "metadata": {
        "id": "-7vmXtuYgT6H"
      },
      "source": [
        "## Общий вывод"
      ]
    },
    {
      "cell_type": "markdown",
      "metadata": {
        "id": "5iLLAImygT6H"
      },
      "source": [
        "- Изучили основную информацию о датасете. Обработали пропущенные значения там, где это было необходимо и возможно. \n",
        "- Заменили типы данных в столбцах, для удобства.\n",
        "- Рассчитали и добавили в таблицу цену квадратного метра, день недели, месяц и год публикации объявления, добавили категории квартир по этажам и соотношение жилой и общей площади, а также отношение площади кухни к общей.\n",
        "- Провели исследовательский анализ данных.Изучили параметры: площадь, цена, число комнат, высота потолков. Построили гистограммы для каждого параметра. Изучая время продажи квартир мы выяснили, что большое количество объявлений было автоматически снято с публикации Яндекс Недвижимость. С помощью диаграммы размаха выявили нормальные сроки продажи квартиры, они составляют от 7 до 440 дней. Среднее время продажи квартиры – 90 дней. Выяснили, что на стоимость квартиры больше всего влияют количество комнат, этаж и отдаленность от центра. Самые высокие цены на недвижимость были в 2014 году.\n",
        "- Выяснили, что самая высокая стоимость квартир в Санкт-Петербургу, а самая низкая в Выборге.\n",
        "- Выделите сегмент квартир в центре с радиусом 6 км. Проанализировали эту территорию и изучили параметры: площадь, цена, число комнат, высота потолков. Также выделили факторы, влияющие на стоимость квартиры (число комнат, этаж, удалённость от центра, дата размещения объявления). Сравнили их со всем датасетом и выяснили следующее:\n",
        "  - В центре медианная площадь составляет 80 кв.м, по всему датасету 52 кв.м.;\n",
        "  - Стоимость в центре почти 10 млн., а по всему датасету 4 650 000;\n",
        "  - В центре в продаже больше 2-х и 3-х комнатных квартир, а во всем датасете 1-комнатных и 2-х комнатных квартиры;\n",
        "  - Медианное высоты потолков в центре составляет 2,84 м, во всем датасете 2,65 м;\n",
        "  - Зависимость цены от количества комнат, как и во всем датасете. С увеличением количества комнат, цена растет;\n",
        "  - На первом этаже квартиры дешевле, как и по всему датасету;\n",
        "  - Квартиры, размещаемые на продажу по субботам в центре продаются дороже, чем в остальные дни;\n",
        "  - В центре в июне, стоимость квартиры ниже, чем в остальные месяцы.\n"
      ]
    }
  ],
  "metadata": {
    "ExecuteTimeLog": [
      {
        "duration": 982,
        "start_time": "2022-01-17T12:10:34.869Z"
      },
      {
        "duration": 66,
        "start_time": "2022-01-17T12:11:03.682Z"
      },
      {
        "duration": 64,
        "start_time": "2022-01-17T12:11:06.313Z"
      },
      {
        "duration": 1462,
        "start_time": "2022-01-17T12:11:15.740Z"
      },
      {
        "duration": 4310,
        "start_time": "2022-01-17T12:11:20.946Z"
      },
      {
        "duration": 68,
        "start_time": "2022-01-17T12:11:33.137Z"
      },
      {
        "duration": 92,
        "start_time": "2022-01-17T12:11:44.545Z"
      },
      {
        "duration": 79,
        "start_time": "2022-01-17T12:11:53.322Z"
      },
      {
        "duration": 658,
        "start_time": "2022-01-17T16:15:56.772Z"
      },
      {
        "duration": 9,
        "start_time": "2022-01-17T16:37:36.467Z"
      },
      {
        "duration": 61,
        "start_time": "2022-01-17T16:39:09.825Z"
      },
      {
        "duration": 292,
        "start_time": "2022-01-18T09:26:05.626Z"
      },
      {
        "duration": 780,
        "start_time": "2022-01-18T09:26:22.299Z"
      },
      {
        "duration": 106,
        "start_time": "2022-01-18T09:26:45.093Z"
      },
      {
        "duration": 10,
        "start_time": "2022-01-18T09:26:45.200Z"
      },
      {
        "duration": 73,
        "start_time": "2022-01-18T09:26:45.211Z"
      },
      {
        "duration": 3,
        "start_time": "2022-01-18T09:26:45.286Z"
      },
      {
        "duration": 5,
        "start_time": "2022-01-18T09:28:13.755Z"
      },
      {
        "duration": 8,
        "start_time": "2022-01-18T09:42:03.510Z"
      },
      {
        "duration": 6,
        "start_time": "2022-01-18T09:44:01.140Z"
      },
      {
        "duration": 1287,
        "start_time": "2022-01-19T07:10:22.017Z"
      },
      {
        "duration": 11,
        "start_time": "2022-01-19T07:10:23.306Z"
      },
      {
        "duration": 83,
        "start_time": "2022-01-19T07:10:23.319Z"
      },
      {
        "duration": 6,
        "start_time": "2022-01-19T07:10:23.403Z"
      },
      {
        "duration": 7,
        "start_time": "2022-01-19T07:11:42.480Z"
      },
      {
        "duration": 7,
        "start_time": "2022-01-19T07:12:11.591Z"
      },
      {
        "duration": 363,
        "start_time": "2022-01-19T07:12:50.615Z"
      },
      {
        "duration": 7,
        "start_time": "2022-01-19T07:13:01.423Z"
      },
      {
        "duration": 5,
        "start_time": "2022-01-19T07:13:36.263Z"
      },
      {
        "duration": 246,
        "start_time": "2022-01-19T07:13:54.462Z"
      },
      {
        "duration": 6,
        "start_time": "2022-01-19T07:14:04.526Z"
      },
      {
        "duration": 68,
        "start_time": "2022-01-19T07:14:27.671Z"
      },
      {
        "duration": 268,
        "start_time": "2022-01-19T07:55:22.902Z"
      },
      {
        "duration": 191,
        "start_time": "2022-01-19T07:55:42.253Z"
      },
      {
        "duration": 197,
        "start_time": "2022-01-19T07:55:51.725Z"
      },
      {
        "duration": 344,
        "start_time": "2022-01-19T07:56:58.495Z"
      },
      {
        "duration": 6,
        "start_time": "2022-01-19T08:27:59.521Z"
      },
      {
        "duration": 5,
        "start_time": "2022-01-19T08:29:39.592Z"
      },
      {
        "duration": 7,
        "start_time": "2022-01-19T08:33:25.669Z"
      },
      {
        "duration": 7,
        "start_time": "2022-01-19T08:33:26.965Z"
      },
      {
        "duration": 8,
        "start_time": "2022-01-19T08:33:38.405Z"
      },
      {
        "duration": 9,
        "start_time": "2022-01-19T08:36:38.261Z"
      },
      {
        "duration": 11,
        "start_time": "2022-01-19T08:38:03.501Z"
      },
      {
        "duration": 10,
        "start_time": "2022-01-19T08:41:29.043Z"
      },
      {
        "duration": 10,
        "start_time": "2022-01-19T08:42:53.290Z"
      },
      {
        "duration": 219,
        "start_time": "2022-01-19T08:44:38.450Z"
      },
      {
        "duration": 240,
        "start_time": "2022-01-19T08:44:45.603Z"
      },
      {
        "duration": 243,
        "start_time": "2022-01-19T08:45:17.828Z"
      },
      {
        "duration": 258,
        "start_time": "2022-01-19T08:45:35.732Z"
      },
      {
        "duration": 205,
        "start_time": "2022-01-19T08:46:24.020Z"
      },
      {
        "duration": 206,
        "start_time": "2022-01-19T08:46:50.144Z"
      },
      {
        "duration": 282,
        "start_time": "2022-01-19T08:51:31.143Z"
      },
      {
        "duration": 281,
        "start_time": "2022-01-19T09:02:40.806Z"
      },
      {
        "duration": 273,
        "start_time": "2022-01-19T09:03:00.878Z"
      },
      {
        "duration": 302,
        "start_time": "2022-01-19T09:03:41.259Z"
      },
      {
        "duration": 131,
        "start_time": "2022-01-19T09:03:47.137Z"
      },
      {
        "duration": 13,
        "start_time": "2022-01-19T09:03:47.270Z"
      },
      {
        "duration": 93,
        "start_time": "2022-01-19T09:03:47.285Z"
      },
      {
        "duration": 278,
        "start_time": "2022-01-19T09:03:47.380Z"
      },
      {
        "duration": 274,
        "start_time": "2022-01-19T09:04:25.828Z"
      },
      {
        "duration": 107,
        "start_time": "2022-01-19T09:04:29.424Z"
      },
      {
        "duration": 11,
        "start_time": "2022-01-19T09:04:29.542Z"
      },
      {
        "duration": 98,
        "start_time": "2022-01-19T09:04:29.555Z"
      },
      {
        "duration": 280,
        "start_time": "2022-01-19T09:04:29.655Z"
      },
      {
        "duration": 246,
        "start_time": "2022-01-19T09:04:59.653Z"
      },
      {
        "duration": 108,
        "start_time": "2022-01-19T09:05:03.240Z"
      },
      {
        "duration": 10,
        "start_time": "2022-01-19T09:05:03.350Z"
      },
      {
        "duration": 182,
        "start_time": "2022-01-19T09:05:03.362Z"
      },
      {
        "duration": 287,
        "start_time": "2022-01-19T09:05:03.545Z"
      },
      {
        "duration": 277,
        "start_time": "2022-01-19T09:05:34.253Z"
      },
      {
        "duration": 264,
        "start_time": "2022-01-19T09:06:31.654Z"
      },
      {
        "duration": 108,
        "start_time": "2022-01-19T09:06:35.607Z"
      },
      {
        "duration": 11,
        "start_time": "2022-01-19T09:06:35.717Z"
      },
      {
        "duration": 77,
        "start_time": "2022-01-19T09:06:35.730Z"
      },
      {
        "duration": 293,
        "start_time": "2022-01-19T09:06:35.809Z"
      },
      {
        "duration": 316,
        "start_time": "2022-01-19T09:07:39.748Z"
      },
      {
        "duration": 148,
        "start_time": "2022-01-19T09:07:42.751Z"
      },
      {
        "duration": 16,
        "start_time": "2022-01-19T09:07:42.902Z"
      },
      {
        "duration": 106,
        "start_time": "2022-01-19T09:07:42.920Z"
      },
      {
        "duration": 413,
        "start_time": "2022-01-19T09:07:43.028Z"
      },
      {
        "duration": 487,
        "start_time": "2022-01-19T09:08:01.571Z"
      },
      {
        "duration": 101,
        "start_time": "2022-01-19T09:08:06.792Z"
      },
      {
        "duration": 10,
        "start_time": "2022-01-19T09:08:06.894Z"
      },
      {
        "duration": 72,
        "start_time": "2022-01-19T09:08:06.906Z"
      },
      {
        "duration": 98,
        "start_time": "2022-01-19T09:08:10.734Z"
      },
      {
        "duration": 15,
        "start_time": "2022-01-19T09:08:10.833Z"
      },
      {
        "duration": 64,
        "start_time": "2022-01-19T09:08:10.850Z"
      },
      {
        "duration": 276,
        "start_time": "2022-01-19T09:08:10.916Z"
      },
      {
        "duration": 101,
        "start_time": "2022-01-19T09:08:55.143Z"
      },
      {
        "duration": 9,
        "start_time": "2022-01-19T09:08:55.246Z"
      },
      {
        "duration": 64,
        "start_time": "2022-01-19T09:08:55.257Z"
      },
      {
        "duration": 269,
        "start_time": "2022-01-19T09:08:55.322Z"
      },
      {
        "duration": 113,
        "start_time": "2022-01-19T09:09:26.958Z"
      },
      {
        "duration": 13,
        "start_time": "2022-01-19T09:09:27.073Z"
      },
      {
        "duration": 88,
        "start_time": "2022-01-19T09:09:27.089Z"
      },
      {
        "duration": 304,
        "start_time": "2022-01-19T09:09:27.180Z"
      },
      {
        "duration": 103,
        "start_time": "2022-01-19T09:09:46.845Z"
      },
      {
        "duration": 13,
        "start_time": "2022-01-19T09:09:46.950Z"
      },
      {
        "duration": 83,
        "start_time": "2022-01-19T09:09:46.965Z"
      },
      {
        "duration": 264,
        "start_time": "2022-01-19T09:09:47.049Z"
      },
      {
        "duration": 111,
        "start_time": "2022-01-19T09:11:03.366Z"
      },
      {
        "duration": 11,
        "start_time": "2022-01-19T09:11:03.479Z"
      },
      {
        "duration": 86,
        "start_time": "2022-01-19T09:11:03.493Z"
      },
      {
        "duration": 290,
        "start_time": "2022-01-19T09:11:03.581Z"
      },
      {
        "duration": 21,
        "start_time": "2022-01-19T09:13:53.424Z"
      },
      {
        "duration": 109,
        "start_time": "2022-01-19T09:14:06.188Z"
      },
      {
        "duration": 11,
        "start_time": "2022-01-19T09:14:06.299Z"
      },
      {
        "duration": 96,
        "start_time": "2022-01-19T09:14:06.312Z"
      },
      {
        "duration": 23,
        "start_time": "2022-01-19T09:14:06.410Z"
      },
      {
        "duration": 29,
        "start_time": "2022-01-19T09:15:32.799Z"
      },
      {
        "duration": 691,
        "start_time": "2022-01-19T09:27:12.166Z"
      },
      {
        "duration": 10,
        "start_time": "2022-01-19T09:27:12.858Z"
      },
      {
        "duration": 78,
        "start_time": "2022-01-19T09:27:12.870Z"
      },
      {
        "duration": 27,
        "start_time": "2022-01-19T09:27:12.950Z"
      },
      {
        "duration": 76,
        "start_time": "2022-01-19T09:28:05.210Z"
      },
      {
        "duration": 102,
        "start_time": "2022-01-19T09:28:15.791Z"
      },
      {
        "duration": 9,
        "start_time": "2022-01-19T09:28:15.895Z"
      },
      {
        "duration": 72,
        "start_time": "2022-01-19T09:28:15.906Z"
      },
      {
        "duration": 83,
        "start_time": "2022-01-19T09:28:15.980Z"
      },
      {
        "duration": 73,
        "start_time": "2022-01-19T09:32:53.761Z"
      },
      {
        "duration": 97,
        "start_time": "2022-01-19T09:33:06.766Z"
      },
      {
        "duration": 9,
        "start_time": "2022-01-19T09:33:06.865Z"
      },
      {
        "duration": 67,
        "start_time": "2022-01-19T09:33:06.876Z"
      },
      {
        "duration": 76,
        "start_time": "2022-01-19T09:33:06.945Z"
      },
      {
        "duration": 406,
        "start_time": "2022-01-19T09:37:22.175Z"
      },
      {
        "duration": 77,
        "start_time": "2022-01-19T09:41:36.942Z"
      },
      {
        "duration": 102,
        "start_time": "2022-01-19T09:42:30.622Z"
      },
      {
        "duration": 99,
        "start_time": "2022-01-19T09:42:48.112Z"
      },
      {
        "duration": 97,
        "start_time": "2022-01-19T09:43:51.619Z"
      },
      {
        "duration": 9,
        "start_time": "2022-01-19T09:43:51.718Z"
      },
      {
        "duration": 72,
        "start_time": "2022-01-19T09:43:51.729Z"
      },
      {
        "duration": 109,
        "start_time": "2022-01-19T09:43:51.802Z"
      },
      {
        "duration": 89,
        "start_time": "2022-01-19T09:45:35.214Z"
      },
      {
        "duration": 66,
        "start_time": "2022-01-19T09:46:14.780Z"
      },
      {
        "duration": 67,
        "start_time": "2022-01-19T09:47:18.523Z"
      },
      {
        "duration": 66,
        "start_time": "2022-01-19T09:47:24.235Z"
      },
      {
        "duration": 104,
        "start_time": "2022-01-19T09:47:35.202Z"
      },
      {
        "duration": 167,
        "start_time": "2022-01-19T09:48:17.170Z"
      },
      {
        "duration": 110,
        "start_time": "2022-01-19T09:48:29.165Z"
      },
      {
        "duration": 99,
        "start_time": "2022-01-19T09:48:44.652Z"
      },
      {
        "duration": 102,
        "start_time": "2022-01-19T09:49:06.416Z"
      },
      {
        "duration": 24,
        "start_time": "2022-01-19T09:49:06.520Z"
      },
      {
        "duration": 66,
        "start_time": "2022-01-19T09:49:06.547Z"
      },
      {
        "duration": 113,
        "start_time": "2022-01-19T09:49:06.615Z"
      },
      {
        "duration": 69,
        "start_time": "2022-01-19T09:49:25.645Z"
      },
      {
        "duration": 97,
        "start_time": "2022-01-19T09:49:49.590Z"
      },
      {
        "duration": 100,
        "start_time": "2022-01-19T09:49:56.160Z"
      },
      {
        "duration": 10,
        "start_time": "2022-01-19T09:49:56.261Z"
      },
      {
        "duration": 85,
        "start_time": "2022-01-19T09:49:56.273Z"
      },
      {
        "duration": 99,
        "start_time": "2022-01-19T09:49:56.360Z"
      },
      {
        "duration": 91,
        "start_time": "2022-01-19T09:50:12.026Z"
      },
      {
        "duration": 101,
        "start_time": "2022-01-19T09:50:15.358Z"
      },
      {
        "duration": 11,
        "start_time": "2022-01-19T09:50:15.461Z"
      },
      {
        "duration": 80,
        "start_time": "2022-01-19T09:50:15.474Z"
      },
      {
        "duration": 108,
        "start_time": "2022-01-19T09:50:15.555Z"
      },
      {
        "duration": 703,
        "start_time": "2022-01-19T09:50:46.846Z"
      },
      {
        "duration": 10,
        "start_time": "2022-01-19T09:50:47.551Z"
      },
      {
        "duration": 80,
        "start_time": "2022-01-19T09:50:47.563Z"
      },
      {
        "duration": 109,
        "start_time": "2022-01-19T09:50:47.645Z"
      },
      {
        "duration": 84,
        "start_time": "2022-01-19T10:02:12.522Z"
      },
      {
        "duration": 97,
        "start_time": "2022-01-19T10:02:18.702Z"
      },
      {
        "duration": 9,
        "start_time": "2022-01-19T10:02:18.801Z"
      },
      {
        "duration": 69,
        "start_time": "2022-01-19T10:02:18.812Z"
      },
      {
        "duration": 92,
        "start_time": "2022-01-19T10:02:18.883Z"
      },
      {
        "duration": 29,
        "start_time": "2022-01-19T10:02:48.440Z"
      },
      {
        "duration": 5,
        "start_time": "2022-01-19T10:02:57.968Z"
      },
      {
        "duration": 5,
        "start_time": "2022-01-19T10:03:16.568Z"
      },
      {
        "duration": 98,
        "start_time": "2022-01-19T10:03:20.302Z"
      },
      {
        "duration": 9,
        "start_time": "2022-01-19T10:03:20.402Z"
      },
      {
        "duration": 78,
        "start_time": "2022-01-19T10:03:20.412Z"
      },
      {
        "duration": 70,
        "start_time": "2022-01-19T10:03:20.492Z"
      },
      {
        "duration": 5,
        "start_time": "2022-01-19T10:03:20.564Z"
      },
      {
        "duration": 43,
        "start_time": "2022-01-19T10:04:08.280Z"
      },
      {
        "duration": 12,
        "start_time": "2022-01-19T10:05:02.288Z"
      },
      {
        "duration": 84,
        "start_time": "2022-01-19T10:26:43.536Z"
      },
      {
        "duration": 111,
        "start_time": "2022-01-19T10:26:50.710Z"
      },
      {
        "duration": 11,
        "start_time": "2022-01-19T10:26:50.823Z"
      },
      {
        "duration": 107,
        "start_time": "2022-01-19T10:26:50.840Z"
      },
      {
        "duration": 106,
        "start_time": "2022-01-19T10:26:50.949Z"
      },
      {
        "duration": 108,
        "start_time": "2022-01-19T10:26:51.057Z"
      },
      {
        "duration": 323,
        "start_time": "2022-01-19T10:27:09.143Z"
      },
      {
        "duration": 80,
        "start_time": "2022-01-19T10:27:17.320Z"
      },
      {
        "duration": 7,
        "start_time": "2022-01-19T10:30:50.631Z"
      },
      {
        "duration": 92,
        "start_time": "2022-01-19T10:30:54.052Z"
      },
      {
        "duration": 9,
        "start_time": "2022-01-19T10:30:54.146Z"
      },
      {
        "duration": 65,
        "start_time": "2022-01-19T10:30:54.156Z"
      },
      {
        "duration": 105,
        "start_time": "2022-01-19T10:30:54.223Z"
      },
      {
        "duration": 15,
        "start_time": "2022-01-19T10:30:54.329Z"
      },
      {
        "duration": 40,
        "start_time": "2022-01-19T10:31:07.862Z"
      },
      {
        "duration": 250,
        "start_time": "2022-01-19T10:31:43.952Z"
      },
      {
        "duration": 148,
        "start_time": "2022-01-19T10:31:47.931Z"
      },
      {
        "duration": 15,
        "start_time": "2022-01-19T10:31:48.081Z"
      },
      {
        "duration": 121,
        "start_time": "2022-01-19T10:31:48.098Z"
      },
      {
        "duration": 151,
        "start_time": "2022-01-19T10:31:48.221Z"
      },
      {
        "duration": 232,
        "start_time": "2022-01-19T10:31:48.374Z"
      },
      {
        "duration": 42,
        "start_time": "2022-01-19T10:32:16.029Z"
      },
      {
        "duration": 8,
        "start_time": "2022-01-19T10:32:25.072Z"
      },
      {
        "duration": 11,
        "start_time": "2022-01-19T10:32:55.494Z"
      },
      {
        "duration": 112,
        "start_time": "2022-01-19T10:33:03.035Z"
      },
      {
        "duration": 11,
        "start_time": "2022-01-19T10:33:03.149Z"
      },
      {
        "duration": 95,
        "start_time": "2022-01-19T10:33:03.162Z"
      },
      {
        "duration": 101,
        "start_time": "2022-01-19T10:33:03.259Z"
      },
      {
        "duration": 13,
        "start_time": "2022-01-19T10:33:03.362Z"
      },
      {
        "duration": 40,
        "start_time": "2022-01-19T10:33:40.893Z"
      },
      {
        "duration": 42,
        "start_time": "2022-01-19T10:34:19.576Z"
      },
      {
        "duration": 95,
        "start_time": "2022-01-19T10:34:24.691Z"
      },
      {
        "duration": 10,
        "start_time": "2022-01-19T10:34:24.787Z"
      },
      {
        "duration": 73,
        "start_time": "2022-01-19T10:34:24.799Z"
      },
      {
        "duration": 98,
        "start_time": "2022-01-19T10:34:24.874Z"
      },
      {
        "duration": 40,
        "start_time": "2022-01-19T10:34:24.974Z"
      },
      {
        "duration": 67,
        "start_time": "2022-01-19T10:37:32.365Z"
      },
      {
        "duration": 44,
        "start_time": "2022-01-19T11:02:35.180Z"
      },
      {
        "duration": 9,
        "start_time": "2022-01-19T11:02:46.329Z"
      },
      {
        "duration": 238,
        "start_time": "2022-01-19T11:03:09.076Z"
      },
      {
        "duration": 11,
        "start_time": "2022-01-19T11:13:22.579Z"
      },
      {
        "duration": 48,
        "start_time": "2022-01-19T11:15:26.456Z"
      },
      {
        "duration": 47,
        "start_time": "2022-01-19T11:16:25.237Z"
      },
      {
        "duration": 7,
        "start_time": "2022-01-19T11:17:57.512Z"
      },
      {
        "duration": 14,
        "start_time": "2022-01-19T11:18:20.544Z"
      },
      {
        "duration": 9,
        "start_time": "2022-01-19T11:24:15.935Z"
      },
      {
        "duration": 45,
        "start_time": "2022-01-19T11:24:32.973Z"
      },
      {
        "duration": 97,
        "start_time": "2022-01-19T11:24:43.118Z"
      },
      {
        "duration": 10,
        "start_time": "2022-01-19T11:24:43.217Z"
      },
      {
        "duration": 67,
        "start_time": "2022-01-19T11:24:43.241Z"
      },
      {
        "duration": 103,
        "start_time": "2022-01-19T11:24:43.310Z"
      },
      {
        "duration": 60,
        "start_time": "2022-01-19T11:24:43.415Z"
      },
      {
        "duration": 43,
        "start_time": "2022-01-19T11:24:43.476Z"
      },
      {
        "duration": 45,
        "start_time": "2022-01-19T11:28:09.233Z"
      },
      {
        "duration": 10,
        "start_time": "2022-01-19T12:10:01.357Z"
      },
      {
        "duration": 11,
        "start_time": "2022-01-19T12:10:22.955Z"
      },
      {
        "duration": 13,
        "start_time": "2022-01-19T12:11:34.448Z"
      },
      {
        "duration": 81,
        "start_time": "2022-01-19T12:36:41.845Z"
      },
      {
        "duration": 7,
        "start_time": "2022-01-19T12:41:36.616Z"
      },
      {
        "duration": 44,
        "start_time": "2022-01-19T12:41:50.379Z"
      },
      {
        "duration": 56,
        "start_time": "2022-01-19T13:04:51.560Z"
      },
      {
        "duration": 60,
        "start_time": "2022-01-19T13:05:19.726Z"
      },
      {
        "duration": 4,
        "start_time": "2022-01-19T13:36:42.573Z"
      },
      {
        "duration": 35,
        "start_time": "2022-01-19T13:36:58.140Z"
      },
      {
        "duration": 36,
        "start_time": "2022-01-19T13:41:19.340Z"
      },
      {
        "duration": 99,
        "start_time": "2022-01-19T13:46:55.025Z"
      },
      {
        "duration": 269,
        "start_time": "2022-01-19T13:47:00.048Z"
      },
      {
        "duration": 100,
        "start_time": "2022-01-19T13:47:19.094Z"
      },
      {
        "duration": 10,
        "start_time": "2022-01-19T13:47:19.195Z"
      },
      {
        "duration": 77,
        "start_time": "2022-01-19T13:47:19.207Z"
      },
      {
        "duration": 99,
        "start_time": "2022-01-19T13:47:19.286Z"
      },
      {
        "duration": 43,
        "start_time": "2022-01-19T13:47:19.386Z"
      },
      {
        "duration": 7,
        "start_time": "2022-01-19T13:47:19.441Z"
      },
      {
        "duration": 95,
        "start_time": "2022-01-19T13:47:19.450Z"
      },
      {
        "duration": 43,
        "start_time": "2022-01-19T13:47:19.548Z"
      },
      {
        "duration": 76,
        "start_time": "2022-01-19T13:47:19.592Z"
      },
      {
        "duration": 36,
        "start_time": "2022-01-19T13:47:19.669Z"
      },
      {
        "duration": 36,
        "start_time": "2022-01-19T13:47:19.707Z"
      },
      {
        "duration": 27,
        "start_time": "2022-01-19T13:49:38.439Z"
      },
      {
        "duration": 28,
        "start_time": "2022-01-19T13:50:22.871Z"
      },
      {
        "duration": 174,
        "start_time": "2022-01-19T14:26:28.968Z"
      },
      {
        "duration": 650,
        "start_time": "2022-01-19T14:49:49.776Z"
      },
      {
        "duration": 696,
        "start_time": "2022-01-19T15:01:46.612Z"
      },
      {
        "duration": 10,
        "start_time": "2022-01-19T15:01:47.310Z"
      },
      {
        "duration": 74,
        "start_time": "2022-01-19T15:01:47.322Z"
      },
      {
        "duration": 108,
        "start_time": "2022-01-19T15:01:47.398Z"
      },
      {
        "duration": 52,
        "start_time": "2022-01-19T15:01:47.507Z"
      },
      {
        "duration": 6,
        "start_time": "2022-01-19T15:01:47.561Z"
      },
      {
        "duration": 99,
        "start_time": "2022-01-19T15:01:47.568Z"
      },
      {
        "duration": 41,
        "start_time": "2022-01-19T15:01:47.669Z"
      },
      {
        "duration": 71,
        "start_time": "2022-01-19T15:01:47.711Z"
      },
      {
        "duration": 38,
        "start_time": "2022-01-19T15:01:47.784Z"
      },
      {
        "duration": 37,
        "start_time": "2022-01-19T15:01:47.824Z"
      },
      {
        "duration": 553,
        "start_time": "2022-01-19T15:01:47.863Z"
      },
      {
        "duration": 3,
        "start_time": "2022-01-19T15:01:48.418Z"
      },
      {
        "duration": 8,
        "start_time": "2022-01-19T15:01:48.422Z"
      },
      {
        "duration": 3,
        "start_time": "2022-01-19T15:03:15.197Z"
      },
      {
        "duration": 725,
        "start_time": "2022-01-19T15:21:51.436Z"
      },
      {
        "duration": 114,
        "start_time": "2022-01-19T15:22:36.063Z"
      },
      {
        "duration": 71,
        "start_time": "2022-01-19T15:23:16.765Z"
      },
      {
        "duration": 104,
        "start_time": "2022-01-19T15:23:21.018Z"
      },
      {
        "duration": 24,
        "start_time": "2022-01-19T15:23:21.124Z"
      },
      {
        "duration": 64,
        "start_time": "2022-01-19T15:23:21.150Z"
      },
      {
        "duration": 117,
        "start_time": "2022-01-19T15:23:21.216Z"
      },
      {
        "duration": 46,
        "start_time": "2022-01-19T15:23:21.335Z"
      },
      {
        "duration": 6,
        "start_time": "2022-01-19T15:23:21.382Z"
      },
      {
        "duration": 95,
        "start_time": "2022-01-19T15:23:21.390Z"
      },
      {
        "duration": 53,
        "start_time": "2022-01-19T15:23:21.488Z"
      },
      {
        "duration": 53,
        "start_time": "2022-01-19T15:23:21.543Z"
      },
      {
        "duration": 54,
        "start_time": "2022-01-19T15:23:21.597Z"
      },
      {
        "duration": 28,
        "start_time": "2022-01-19T15:23:21.653Z"
      },
      {
        "duration": 644,
        "start_time": "2022-01-19T15:23:21.682Z"
      },
      {
        "duration": 3,
        "start_time": "2022-01-19T15:23:22.328Z"
      },
      {
        "duration": 3,
        "start_time": "2022-01-19T15:23:22.340Z"
      },
      {
        "duration": 75,
        "start_time": "2022-01-19T15:23:22.345Z"
      },
      {
        "duration": 76,
        "start_time": "2022-01-19T15:23:40.180Z"
      },
      {
        "duration": 81,
        "start_time": "2022-01-19T15:24:47.171Z"
      },
      {
        "duration": 361,
        "start_time": "2022-01-19T15:24:58.467Z"
      },
      {
        "duration": 373,
        "start_time": "2022-01-19T15:25:19.924Z"
      },
      {
        "duration": 1431,
        "start_time": "2022-01-19T15:26:21.091Z"
      },
      {
        "duration": 19,
        "start_time": "2022-01-19T15:26:22.527Z"
      },
      {
        "duration": 180,
        "start_time": "2022-01-19T15:26:22.548Z"
      },
      {
        "duration": 104,
        "start_time": "2022-01-19T15:26:22.730Z"
      },
      {
        "duration": 50,
        "start_time": "2022-01-19T15:26:22.836Z"
      },
      {
        "duration": 6,
        "start_time": "2022-01-19T15:26:22.888Z"
      },
      {
        "duration": 116,
        "start_time": "2022-01-19T15:26:22.896Z"
      },
      {
        "duration": 65,
        "start_time": "2022-01-19T15:26:23.015Z"
      },
      {
        "duration": 66,
        "start_time": "2022-01-19T15:26:23.082Z"
      },
      {
        "duration": 159,
        "start_time": "2022-01-19T15:26:23.150Z"
      },
      {
        "duration": 38,
        "start_time": "2022-01-19T15:26:23.311Z"
      },
      {
        "duration": 706,
        "start_time": "2022-01-19T15:26:23.351Z"
      },
      {
        "duration": 4,
        "start_time": "2022-01-19T15:26:24.059Z"
      },
      {
        "duration": 19,
        "start_time": "2022-01-19T15:26:24.065Z"
      },
      {
        "duration": 462,
        "start_time": "2022-01-19T15:26:24.086Z"
      },
      {
        "duration": 282,
        "start_time": "2022-01-19T15:29:36.922Z"
      },
      {
        "duration": 426,
        "start_time": "2022-01-19T15:29:52.866Z"
      },
      {
        "duration": 391,
        "start_time": "2022-01-19T15:30:00.386Z"
      },
      {
        "duration": 375,
        "start_time": "2022-01-19T15:30:10.058Z"
      },
      {
        "duration": 365,
        "start_time": "2022-01-19T15:30:37.083Z"
      },
      {
        "duration": 354,
        "start_time": "2022-01-19T15:30:47.721Z"
      },
      {
        "duration": 459,
        "start_time": "2022-01-19T15:30:53.289Z"
      },
      {
        "duration": 1170,
        "start_time": "2022-01-19T15:31:04.313Z"
      },
      {
        "duration": 378,
        "start_time": "2022-01-19T15:31:12.225Z"
      },
      {
        "duration": 502,
        "start_time": "2022-01-19T15:31:43.241Z"
      },
      {
        "duration": 404,
        "start_time": "2022-01-19T15:31:50.769Z"
      },
      {
        "duration": 410,
        "start_time": "2022-01-19T15:32:05.321Z"
      },
      {
        "duration": 701,
        "start_time": "2022-01-19T15:32:46.145Z"
      },
      {
        "duration": 404,
        "start_time": "2022-01-19T15:33:07.473Z"
      },
      {
        "duration": 632,
        "start_time": "2022-01-19T15:35:24.608Z"
      },
      {
        "duration": 367,
        "start_time": "2022-01-19T15:35:38.847Z"
      },
      {
        "duration": 366,
        "start_time": "2022-01-19T15:35:46.527Z"
      },
      {
        "duration": 373,
        "start_time": "2022-01-19T15:35:53.704Z"
      },
      {
        "duration": 419,
        "start_time": "2022-01-19T15:35:58.343Z"
      },
      {
        "duration": 431,
        "start_time": "2022-01-19T15:36:03.824Z"
      },
      {
        "duration": 540,
        "start_time": "2022-01-19T15:36:10.912Z"
      },
      {
        "duration": 352,
        "start_time": "2022-01-19T15:47:52.195Z"
      },
      {
        "duration": 100,
        "start_time": "2022-01-19T15:48:04.464Z"
      },
      {
        "duration": 9,
        "start_time": "2022-01-19T15:48:04.566Z"
      },
      {
        "duration": 79,
        "start_time": "2022-01-19T15:48:04.577Z"
      },
      {
        "duration": 112,
        "start_time": "2022-01-19T15:48:04.658Z"
      },
      {
        "duration": 49,
        "start_time": "2022-01-19T15:48:04.771Z"
      },
      {
        "duration": 23,
        "start_time": "2022-01-19T15:48:04.822Z"
      },
      {
        "duration": 96,
        "start_time": "2022-01-19T15:48:04.847Z"
      },
      {
        "duration": 45,
        "start_time": "2022-01-19T15:48:04.945Z"
      },
      {
        "duration": 84,
        "start_time": "2022-01-19T15:48:04.992Z"
      },
      {
        "duration": 41,
        "start_time": "2022-01-19T15:48:05.078Z"
      },
      {
        "duration": 47,
        "start_time": "2022-01-19T15:48:05.121Z"
      },
      {
        "duration": 595,
        "start_time": "2022-01-19T15:48:05.170Z"
      },
      {
        "duration": 4,
        "start_time": "2022-01-19T15:48:05.767Z"
      },
      {
        "duration": 16,
        "start_time": "2022-01-19T15:48:05.772Z"
      },
      {
        "duration": 389,
        "start_time": "2022-01-19T15:48:05.789Z"
      },
      {
        "duration": 364,
        "start_time": "2022-01-19T15:48:06.179Z"
      },
      {
        "duration": 366,
        "start_time": "2022-01-19T15:48:25.755Z"
      },
      {
        "duration": 330,
        "start_time": "2022-01-19T15:49:00.419Z"
      },
      {
        "duration": 232,
        "start_time": "2022-01-19T15:49:04.682Z"
      },
      {
        "duration": 239,
        "start_time": "2022-01-19T15:50:21.946Z"
      },
      {
        "duration": 395,
        "start_time": "2022-01-19T15:50:30.234Z"
      },
      {
        "duration": 418,
        "start_time": "2022-01-19T15:50:48.098Z"
      },
      {
        "duration": 377,
        "start_time": "2022-01-19T15:57:36.600Z"
      },
      {
        "duration": 367,
        "start_time": "2022-01-19T15:57:42.880Z"
      },
      {
        "duration": 218,
        "start_time": "2022-01-19T15:57:49.904Z"
      },
      {
        "duration": 234,
        "start_time": "2022-01-19T15:57:54.495Z"
      },
      {
        "duration": 240,
        "start_time": "2022-01-19T15:58:00.191Z"
      },
      {
        "duration": 235,
        "start_time": "2022-01-19T15:58:08.263Z"
      },
      {
        "duration": 236,
        "start_time": "2022-01-19T15:58:49.119Z"
      },
      {
        "duration": 211,
        "start_time": "2022-01-19T15:58:53.967Z"
      },
      {
        "duration": 222,
        "start_time": "2022-01-19T16:03:30.710Z"
      },
      {
        "duration": 229,
        "start_time": "2022-01-19T16:03:39.157Z"
      },
      {
        "duration": 220,
        "start_time": "2022-01-19T16:03:49.238Z"
      },
      {
        "duration": 218,
        "start_time": "2022-01-19T16:03:52.437Z"
      },
      {
        "duration": 221,
        "start_time": "2022-01-19T16:04:30.222Z"
      },
      {
        "duration": 210,
        "start_time": "2022-01-19T16:05:54.628Z"
      },
      {
        "duration": 226,
        "start_time": "2022-01-19T16:06:00.083Z"
      },
      {
        "duration": 379,
        "start_time": "2022-01-19T16:07:57.948Z"
      },
      {
        "duration": 436,
        "start_time": "2022-01-19T16:08:14.019Z"
      },
      {
        "duration": 219,
        "start_time": "2022-01-19T16:10:18.210Z"
      },
      {
        "duration": 234,
        "start_time": "2022-01-19T16:10:34.665Z"
      },
      {
        "duration": 216,
        "start_time": "2022-01-19T16:10:40.978Z"
      },
      {
        "duration": 204,
        "start_time": "2022-01-19T16:11:13.002Z"
      },
      {
        "duration": 223,
        "start_time": "2022-01-19T16:11:24.994Z"
      },
      {
        "duration": 216,
        "start_time": "2022-01-19T16:11:30.474Z"
      },
      {
        "duration": 377,
        "start_time": "2022-01-19T16:28:15.557Z"
      },
      {
        "duration": 264,
        "start_time": "2022-01-19T16:28:22.956Z"
      },
      {
        "duration": 302,
        "start_time": "2022-01-19T16:28:51.139Z"
      },
      {
        "duration": 219,
        "start_time": "2022-01-19T16:28:58.796Z"
      },
      {
        "duration": 250,
        "start_time": "2022-01-19T16:29:04.755Z"
      },
      {
        "duration": 224,
        "start_time": "2022-01-19T16:29:19.291Z"
      },
      {
        "duration": 417,
        "start_time": "2022-01-19T16:30:19.253Z"
      },
      {
        "duration": 369,
        "start_time": "2022-01-19T16:31:53.882Z"
      },
      {
        "duration": 361,
        "start_time": "2022-01-19T16:32:22.882Z"
      },
      {
        "duration": 6,
        "start_time": "2022-01-19T16:33:13.729Z"
      },
      {
        "duration": 6,
        "start_time": "2022-01-19T16:33:29.122Z"
      },
      {
        "duration": 100,
        "start_time": "2022-01-19T16:34:35.942Z"
      },
      {
        "duration": 9,
        "start_time": "2022-01-19T16:34:36.044Z"
      },
      {
        "duration": 84,
        "start_time": "2022-01-19T16:34:36.055Z"
      },
      {
        "duration": 93,
        "start_time": "2022-01-19T16:34:36.141Z"
      },
      {
        "duration": 42,
        "start_time": "2022-01-19T16:34:36.241Z"
      },
      {
        "duration": 8,
        "start_time": "2022-01-19T16:34:36.285Z"
      },
      {
        "duration": 103,
        "start_time": "2022-01-19T16:34:36.294Z"
      },
      {
        "duration": 53,
        "start_time": "2022-01-19T16:34:36.400Z"
      },
      {
        "duration": 57,
        "start_time": "2022-01-19T16:34:36.455Z"
      },
      {
        "duration": 55,
        "start_time": "2022-01-19T16:34:36.513Z"
      },
      {
        "duration": 27,
        "start_time": "2022-01-19T16:34:36.570Z"
      },
      {
        "duration": 792,
        "start_time": "2022-01-19T16:34:36.599Z"
      },
      {
        "duration": 4,
        "start_time": "2022-01-19T16:34:37.393Z"
      },
      {
        "duration": 28,
        "start_time": "2022-01-19T16:34:37.398Z"
      },
      {
        "duration": 383,
        "start_time": "2022-01-19T16:34:37.427Z"
      },
      {
        "duration": 373,
        "start_time": "2022-01-19T16:34:37.811Z"
      },
      {
        "duration": 211,
        "start_time": "2022-01-19T16:34:38.186Z"
      },
      {
        "duration": 231,
        "start_time": "2022-01-19T16:34:38.399Z"
      },
      {
        "duration": 361,
        "start_time": "2022-01-19T16:34:38.631Z"
      },
      {
        "duration": 4,
        "start_time": "2022-01-19T16:34:38.994Z"
      },
      {
        "duration": 5,
        "start_time": "2022-01-19T16:34:48.313Z"
      },
      {
        "duration": 1660,
        "start_time": "2022-01-20T14:09:57.328Z"
      },
      {
        "duration": 18,
        "start_time": "2022-01-20T14:09:58.991Z"
      },
      {
        "duration": 125,
        "start_time": "2022-01-20T14:09:59.012Z"
      },
      {
        "duration": 173,
        "start_time": "2022-01-20T14:09:59.141Z"
      },
      {
        "duration": 93,
        "start_time": "2022-01-20T14:09:59.317Z"
      },
      {
        "duration": 9,
        "start_time": "2022-01-20T14:09:59.413Z"
      },
      {
        "duration": 141,
        "start_time": "2022-01-20T14:09:59.424Z"
      },
      {
        "duration": 72,
        "start_time": "2022-01-20T14:09:59.569Z"
      },
      {
        "duration": 131,
        "start_time": "2022-01-20T14:09:59.644Z"
      },
      {
        "duration": 90,
        "start_time": "2022-01-20T14:09:59.777Z"
      },
      {
        "duration": 55,
        "start_time": "2022-01-20T14:09:59.870Z"
      },
      {
        "duration": 1185,
        "start_time": "2022-01-20T14:09:59.927Z"
      },
      {
        "duration": 6,
        "start_time": "2022-01-20T14:10:01.114Z"
      },
      {
        "duration": 44,
        "start_time": "2022-01-20T14:10:01.122Z"
      },
      {
        "duration": 838,
        "start_time": "2022-01-20T14:10:01.168Z"
      },
      {
        "duration": 830,
        "start_time": "2022-01-20T14:10:02.008Z"
      },
      {
        "duration": 387,
        "start_time": "2022-01-20T14:10:02.840Z"
      },
      {
        "duration": 412,
        "start_time": "2022-01-20T14:10:03.230Z"
      },
      {
        "duration": 696,
        "start_time": "2022-01-20T14:10:03.646Z"
      },
      {
        "duration": 21,
        "start_time": "2022-01-20T14:10:04.345Z"
      },
      {
        "duration": 234,
        "start_time": "2022-01-20T14:10:04.368Z"
      },
      {
        "duration": 198,
        "start_time": "2022-01-20T14:10:12.130Z"
      },
      {
        "duration": 206,
        "start_time": "2022-01-20T14:11:04.579Z"
      },
      {
        "duration": 210,
        "start_time": "2022-01-20T14:11:15.409Z"
      },
      {
        "duration": 218,
        "start_time": "2022-01-20T14:11:22.625Z"
      },
      {
        "duration": 290,
        "start_time": "2022-01-20T14:11:42.444Z"
      },
      {
        "duration": 297,
        "start_time": "2022-01-20T14:12:01.018Z"
      },
      {
        "duration": 452,
        "start_time": "2022-01-20T14:13:15.176Z"
      },
      {
        "duration": 219,
        "start_time": "2022-01-20T14:13:23.345Z"
      },
      {
        "duration": 9970,
        "start_time": "2022-01-20T14:34:26.314Z"
      },
      {
        "duration": 656,
        "start_time": "2022-01-20T14:35:26.673Z"
      },
      {
        "duration": 901,
        "start_time": "2022-01-20T14:35:46.087Z"
      },
      {
        "duration": 1016,
        "start_time": "2022-01-20T14:42:23.726Z"
      },
      {
        "duration": 162,
        "start_time": "2022-01-20T14:42:41.186Z"
      },
      {
        "duration": 26,
        "start_time": "2022-01-20T14:42:41.352Z"
      },
      {
        "duration": 133,
        "start_time": "2022-01-20T14:42:41.381Z"
      },
      {
        "duration": 214,
        "start_time": "2022-01-20T14:42:41.518Z"
      },
      {
        "duration": 125,
        "start_time": "2022-01-20T14:42:41.735Z"
      },
      {
        "duration": 12,
        "start_time": "2022-01-20T14:42:41.866Z"
      },
      {
        "duration": 193,
        "start_time": "2022-01-20T14:42:41.881Z"
      },
      {
        "duration": 127,
        "start_time": "2022-01-20T14:42:42.080Z"
      },
      {
        "duration": 157,
        "start_time": "2022-01-20T14:42:42.210Z"
      },
      {
        "duration": 129,
        "start_time": "2022-01-20T14:42:42.370Z"
      },
      {
        "duration": 94,
        "start_time": "2022-01-20T14:42:42.502Z"
      },
      {
        "duration": 1045,
        "start_time": "2022-01-20T14:42:42.599Z"
      },
      {
        "duration": 18,
        "start_time": "2022-01-20T14:42:43.648Z"
      },
      {
        "duration": 11,
        "start_time": "2022-01-20T14:42:43.669Z"
      },
      {
        "duration": 880,
        "start_time": "2022-01-20T14:42:43.684Z"
      },
      {
        "duration": 814,
        "start_time": "2022-01-20T14:42:44.567Z"
      },
      {
        "duration": 540,
        "start_time": "2022-01-20T14:42:45.384Z"
      },
      {
        "duration": 638,
        "start_time": "2022-01-20T14:42:45.927Z"
      },
      {
        "duration": 700,
        "start_time": "2022-01-20T14:42:46.567Z"
      },
      {
        "duration": 11,
        "start_time": "2022-01-20T14:42:47.270Z"
      },
      {
        "duration": 659,
        "start_time": "2022-01-20T14:42:47.284Z"
      },
      {
        "duration": 701,
        "start_time": "2022-01-20T14:42:47.946Z"
      },
      {
        "duration": 678,
        "start_time": "2022-01-20T14:43:41.710Z"
      },
      {
        "duration": 171,
        "start_time": "2022-01-20T14:43:46.628Z"
      },
      {
        "duration": 19,
        "start_time": "2022-01-20T14:43:46.802Z"
      },
      {
        "duration": 139,
        "start_time": "2022-01-20T14:43:46.825Z"
      },
      {
        "duration": 170,
        "start_time": "2022-01-20T14:43:46.968Z"
      },
      {
        "duration": 92,
        "start_time": "2022-01-20T14:43:47.141Z"
      },
      {
        "duration": 10,
        "start_time": "2022-01-20T14:43:47.235Z"
      },
      {
        "duration": 147,
        "start_time": "2022-01-20T14:43:47.247Z"
      },
      {
        "duration": 95,
        "start_time": "2022-01-20T14:43:47.398Z"
      },
      {
        "duration": 115,
        "start_time": "2022-01-20T14:43:47.497Z"
      },
      {
        "duration": 92,
        "start_time": "2022-01-20T14:43:47.615Z"
      },
      {
        "duration": 70,
        "start_time": "2022-01-20T14:43:47.710Z"
      },
      {
        "duration": 963,
        "start_time": "2022-01-20T14:43:47.783Z"
      },
      {
        "duration": 14,
        "start_time": "2022-01-20T14:43:48.750Z"
      },
      {
        "duration": 6,
        "start_time": "2022-01-20T14:43:48.768Z"
      },
      {
        "duration": 711,
        "start_time": "2022-01-20T14:43:48.778Z"
      },
      {
        "duration": 712,
        "start_time": "2022-01-20T14:43:49.492Z"
      },
      {
        "duration": 392,
        "start_time": "2022-01-20T14:43:50.207Z"
      },
      {
        "duration": 384,
        "start_time": "2022-01-20T14:43:50.602Z"
      },
      {
        "duration": 859,
        "start_time": "2022-01-20T14:43:50.988Z"
      },
      {
        "duration": 19,
        "start_time": "2022-01-20T14:43:51.850Z"
      },
      {
        "duration": 263,
        "start_time": "2022-01-20T14:43:51.872Z"
      },
      {
        "duration": 1006,
        "start_time": "2022-01-20T14:43:52.138Z"
      },
      {
        "duration": 106,
        "start_time": "2022-01-20T14:44:06.428Z"
      },
      {
        "duration": 690,
        "start_time": "2022-01-20T14:44:18.491Z"
      },
      {
        "duration": 1151,
        "start_time": "2022-01-20T14:47:56.355Z"
      },
      {
        "duration": 1124,
        "start_time": "2022-01-20T14:48:04.324Z"
      },
      {
        "duration": 678,
        "start_time": "2022-01-20T14:48:27.314Z"
      },
      {
        "duration": 898,
        "start_time": "2022-01-20T14:48:42.666Z"
      },
      {
        "duration": 1040,
        "start_time": "2022-01-20T14:49:54.920Z"
      },
      {
        "duration": 1152,
        "start_time": "2022-01-20T14:50:01.978Z"
      },
      {
        "duration": 689,
        "start_time": "2022-01-20T14:50:22.314Z"
      },
      {
        "duration": 665,
        "start_time": "2022-01-20T14:50:31.153Z"
      },
      {
        "duration": 671,
        "start_time": "2022-01-20T14:50:41.657Z"
      },
      {
        "duration": 1051,
        "start_time": "2022-01-20T14:50:48.705Z"
      },
      {
        "duration": 686,
        "start_time": "2022-01-20T14:50:56.930Z"
      },
      {
        "duration": 923,
        "start_time": "2022-01-20T14:51:02.793Z"
      },
      {
        "duration": 666,
        "start_time": "2022-01-20T14:51:06.904Z"
      },
      {
        "duration": 671,
        "start_time": "2022-01-20T14:51:11.513Z"
      },
      {
        "duration": 1030,
        "start_time": "2022-01-20T14:51:15.369Z"
      },
      {
        "duration": 684,
        "start_time": "2022-01-20T14:51:20.417Z"
      },
      {
        "duration": 669,
        "start_time": "2022-01-20T14:51:25.412Z"
      },
      {
        "duration": 913,
        "start_time": "2022-01-20T14:51:29.656Z"
      },
      {
        "duration": 871,
        "start_time": "2022-01-20T14:51:40.528Z"
      },
      {
        "duration": 1137,
        "start_time": "2022-01-20T14:51:48.745Z"
      },
      {
        "duration": 1219,
        "start_time": "2022-01-20T14:51:57.001Z"
      },
      {
        "duration": 1131,
        "start_time": "2022-01-20T14:52:05.193Z"
      },
      {
        "duration": 644,
        "start_time": "2022-01-20T14:52:12.464Z"
      },
      {
        "duration": 787,
        "start_time": "2022-01-20T14:52:19.560Z"
      },
      {
        "duration": 4032,
        "start_time": "2022-01-20T14:52:34.111Z"
      },
      {
        "duration": 2144,
        "start_time": "2022-01-20T14:52:45.839Z"
      },
      {
        "duration": 2189,
        "start_time": "2022-01-20T14:52:57.864Z"
      },
      {
        "duration": 2017,
        "start_time": "2022-01-20T14:53:11.087Z"
      },
      {
        "duration": 2304,
        "start_time": "2022-01-20T14:53:38.625Z"
      },
      {
        "duration": 2323,
        "start_time": "2022-01-20T14:53:54.785Z"
      },
      {
        "duration": 2233,
        "start_time": "2022-01-20T14:54:08.431Z"
      },
      {
        "duration": 2181,
        "start_time": "2022-01-20T14:54:19.575Z"
      },
      {
        "duration": 1938,
        "start_time": "2022-01-20T14:54:27.614Z"
      },
      {
        "duration": 2223,
        "start_time": "2022-01-20T14:54:34.991Z"
      },
      {
        "duration": 2261,
        "start_time": "2022-01-20T14:54:42.118Z"
      },
      {
        "duration": 2094,
        "start_time": "2022-01-20T14:54:49.303Z"
      },
      {
        "duration": 2138,
        "start_time": "2022-01-20T14:54:56.639Z"
      },
      {
        "duration": 2316,
        "start_time": "2022-01-20T14:55:25.096Z"
      },
      {
        "duration": 1994,
        "start_time": "2022-01-20T14:55:34.951Z"
      },
      {
        "duration": 2180,
        "start_time": "2022-01-20T14:55:41.374Z"
      },
      {
        "duration": 1987,
        "start_time": "2022-01-20T14:55:51.839Z"
      },
      {
        "duration": 2206,
        "start_time": "2022-01-20T14:56:01.022Z"
      },
      {
        "duration": 2635,
        "start_time": "2022-01-20T14:56:08.830Z"
      },
      {
        "duration": 2600,
        "start_time": "2022-01-20T14:56:23.511Z"
      },
      {
        "duration": 2172,
        "start_time": "2022-01-20T14:56:31.334Z"
      },
      {
        "duration": 2214,
        "start_time": "2022-01-20T14:56:53.742Z"
      },
      {
        "duration": 1991,
        "start_time": "2022-01-20T14:57:06.845Z"
      },
      {
        "duration": 2210,
        "start_time": "2022-01-20T14:57:12.469Z"
      },
      {
        "duration": 2394,
        "start_time": "2022-01-20T14:57:20.286Z"
      },
      {
        "duration": 2221,
        "start_time": "2022-01-20T14:57:28.397Z"
      },
      {
        "duration": 2321,
        "start_time": "2022-01-20T14:57:39.725Z"
      },
      {
        "duration": 1976,
        "start_time": "2022-01-20T14:57:49.519Z"
      },
      {
        "duration": 2165,
        "start_time": "2022-01-20T14:57:59.101Z"
      },
      {
        "duration": 2165,
        "start_time": "2022-01-20T14:58:10.462Z"
      },
      {
        "duration": 1951,
        "start_time": "2022-01-20T14:58:18.622Z"
      },
      {
        "duration": 2240,
        "start_time": "2022-01-20T14:58:25.270Z"
      },
      {
        "duration": 2180,
        "start_time": "2022-01-20T14:58:35.005Z"
      },
      {
        "duration": 1974,
        "start_time": "2022-01-20T14:58:44.541Z"
      },
      {
        "duration": 2360,
        "start_time": "2022-01-20T14:58:53.342Z"
      },
      {
        "duration": 2153,
        "start_time": "2022-01-20T14:59:06.677Z"
      },
      {
        "duration": 1996,
        "start_time": "2022-01-20T14:59:18.389Z"
      },
      {
        "duration": 2172,
        "start_time": "2022-01-20T14:59:31.892Z"
      },
      {
        "duration": 2025,
        "start_time": "2022-01-20T14:59:43.301Z"
      },
      {
        "duration": 2193,
        "start_time": "2022-01-20T14:59:50.342Z"
      },
      {
        "duration": 2578,
        "start_time": "2022-01-20T14:59:57.060Z"
      },
      {
        "duration": 1992,
        "start_time": "2022-01-20T15:00:06.701Z"
      },
      {
        "duration": 152,
        "start_time": "2022-01-20T15:00:14.763Z"
      },
      {
        "duration": 15,
        "start_time": "2022-01-20T15:00:14.918Z"
      },
      {
        "duration": 130,
        "start_time": "2022-01-20T15:00:14.937Z"
      },
      {
        "duration": 169,
        "start_time": "2022-01-20T15:00:15.070Z"
      },
      {
        "duration": 94,
        "start_time": "2022-01-20T15:00:15.242Z"
      },
      {
        "duration": 9,
        "start_time": "2022-01-20T15:00:15.339Z"
      },
      {
        "duration": 136,
        "start_time": "2022-01-20T15:00:15.351Z"
      },
      {
        "duration": 83,
        "start_time": "2022-01-20T15:00:15.490Z"
      },
      {
        "duration": 111,
        "start_time": "2022-01-20T15:00:15.577Z"
      },
      {
        "duration": 89,
        "start_time": "2022-01-20T15:00:15.691Z"
      },
      {
        "duration": 46,
        "start_time": "2022-01-20T15:00:15.782Z"
      },
      {
        "duration": 1166,
        "start_time": "2022-01-20T15:00:15.830Z"
      },
      {
        "duration": 7,
        "start_time": "2022-01-20T15:00:16.999Z"
      },
      {
        "duration": 10,
        "start_time": "2022-01-20T15:00:17.008Z"
      },
      {
        "duration": 882,
        "start_time": "2022-01-20T15:00:17.020Z"
      },
      {
        "duration": 694,
        "start_time": "2022-01-20T15:00:17.905Z"
      },
      {
        "duration": 397,
        "start_time": "2022-01-20T15:00:18.603Z"
      },
      {
        "duration": 391,
        "start_time": "2022-01-20T15:00:19.003Z"
      },
      {
        "duration": 702,
        "start_time": "2022-01-20T15:00:19.396Z"
      },
      {
        "duration": 8,
        "start_time": "2022-01-20T15:00:20.101Z"
      },
      {
        "duration": 268,
        "start_time": "2022-01-20T15:00:20.112Z"
      },
      {
        "duration": 3058,
        "start_time": "2022-01-20T15:00:20.382Z"
      },
      {
        "duration": 2003,
        "start_time": "2022-01-20T15:03:19.692Z"
      },
      {
        "duration": 126,
        "start_time": "2022-01-20T15:03:55.142Z"
      },
      {
        "duration": 99,
        "start_time": "2022-01-20T15:04:06.179Z"
      },
      {
        "duration": 2115,
        "start_time": "2022-01-20T15:04:14.332Z"
      },
      {
        "duration": 1850,
        "start_time": "2022-01-20T15:05:07.486Z"
      },
      {
        "duration": 2452,
        "start_time": "2022-01-20T15:14:37.177Z"
      },
      {
        "duration": 2081,
        "start_time": "2022-01-20T15:14:48.608Z"
      },
      {
        "duration": 1800,
        "start_time": "2022-01-20T15:15:10.825Z"
      },
      {
        "duration": 362,
        "start_time": "2022-01-21T09:23:12.551Z"
      },
      {
        "duration": 1206,
        "start_time": "2022-01-21T09:23:19.311Z"
      },
      {
        "duration": 12,
        "start_time": "2022-01-21T09:23:20.519Z"
      },
      {
        "duration": 67,
        "start_time": "2022-01-21T09:23:20.533Z"
      },
      {
        "duration": 107,
        "start_time": "2022-01-21T09:23:20.602Z"
      },
      {
        "duration": 56,
        "start_time": "2022-01-21T09:23:20.710Z"
      },
      {
        "duration": 6,
        "start_time": "2022-01-21T09:23:20.767Z"
      },
      {
        "duration": 89,
        "start_time": "2022-01-21T09:23:20.774Z"
      },
      {
        "duration": 43,
        "start_time": "2022-01-21T09:23:20.866Z"
      },
      {
        "duration": 68,
        "start_time": "2022-01-21T09:23:20.911Z"
      },
      {
        "duration": 48,
        "start_time": "2022-01-21T09:23:20.980Z"
      },
      {
        "duration": 30,
        "start_time": "2022-01-21T09:23:21.030Z"
      },
      {
        "duration": 597,
        "start_time": "2022-01-21T09:23:21.061Z"
      },
      {
        "duration": 3,
        "start_time": "2022-01-21T09:23:21.660Z"
      },
      {
        "duration": 30,
        "start_time": "2022-01-21T09:23:21.664Z"
      },
      {
        "duration": 410,
        "start_time": "2022-01-21T09:23:21.695Z"
      },
      {
        "duration": 458,
        "start_time": "2022-01-21T09:23:22.107Z"
      },
      {
        "duration": 224,
        "start_time": "2022-01-21T09:23:22.566Z"
      },
      {
        "duration": 231,
        "start_time": "2022-01-21T09:23:22.792Z"
      },
      {
        "duration": 388,
        "start_time": "2022-01-21T09:23:23.024Z"
      },
      {
        "duration": 5,
        "start_time": "2022-01-21T09:23:23.414Z"
      },
      {
        "duration": 152,
        "start_time": "2022-01-21T09:23:23.420Z"
      },
      {
        "duration": 1107,
        "start_time": "2022-01-21T09:23:23.574Z"
      },
      {
        "duration": 272,
        "start_time": "2022-01-21T09:23:24.684Z"
      },
      {
        "duration": 179,
        "start_time": "2022-01-21T09:24:13.681Z"
      },
      {
        "duration": 337,
        "start_time": "2022-01-21T09:24:29.657Z"
      },
      {
        "duration": 389,
        "start_time": "2022-01-21T09:25:40.825Z"
      },
      {
        "duration": 556,
        "start_time": "2022-01-21T09:25:49.640Z"
      },
      {
        "duration": 573,
        "start_time": "2022-01-21T09:25:56.216Z"
      },
      {
        "duration": 100,
        "start_time": "2022-01-21T09:26:10.856Z"
      },
      {
        "duration": 133,
        "start_time": "2022-01-21T09:26:21.131Z"
      },
      {
        "duration": 260,
        "start_time": "2022-01-21T09:26:46.615Z"
      },
      {
        "duration": 185,
        "start_time": "2022-01-21T09:26:52.440Z"
      },
      {
        "duration": 360,
        "start_time": "2022-01-21T09:27:02.014Z"
      },
      {
        "duration": 359,
        "start_time": "2022-01-21T09:27:08.103Z"
      },
      {
        "duration": 117,
        "start_time": "2022-01-21T09:27:33.368Z"
      },
      {
        "duration": 384,
        "start_time": "2022-01-21T09:27:37.343Z"
      },
      {
        "duration": 496,
        "start_time": "2022-01-21T09:27:45.590Z"
      },
      {
        "duration": 475,
        "start_time": "2022-01-21T09:27:55.348Z"
      },
      {
        "duration": 525,
        "start_time": "2022-01-21T09:32:20.678Z"
      },
      {
        "duration": 523,
        "start_time": "2022-01-21T09:32:38.165Z"
      },
      {
        "duration": 667,
        "start_time": "2022-01-21T09:33:21.692Z"
      },
      {
        "duration": 517,
        "start_time": "2022-01-21T09:34:03.141Z"
      },
      {
        "duration": 517,
        "start_time": "2022-01-21T09:34:43.677Z"
      },
      {
        "duration": 612,
        "start_time": "2022-01-21T09:34:58.163Z"
      },
      {
        "duration": 551,
        "start_time": "2022-01-21T09:35:44.653Z"
      },
      {
        "duration": 546,
        "start_time": "2022-01-21T09:36:39.444Z"
      },
      {
        "duration": 235,
        "start_time": "2022-01-21T09:38:12.723Z"
      },
      {
        "duration": 347,
        "start_time": "2022-01-21T09:39:06.082Z"
      },
      {
        "duration": 266,
        "start_time": "2022-01-21T09:39:22.258Z"
      },
      {
        "duration": 365,
        "start_time": "2022-01-21T09:39:27.058Z"
      },
      {
        "duration": 329,
        "start_time": "2022-01-21T09:39:42.777Z"
      },
      {
        "duration": 492,
        "start_time": "2022-01-21T09:39:53.922Z"
      },
      {
        "duration": 540,
        "start_time": "2022-01-21T09:41:10.729Z"
      },
      {
        "duration": 1020,
        "start_time": "2022-01-21T09:41:52.720Z"
      },
      {
        "duration": 460,
        "start_time": "2022-01-21T09:44:20.672Z"
      },
      {
        "duration": 443,
        "start_time": "2022-01-21T09:44:31.879Z"
      },
      {
        "duration": 744,
        "start_time": "2022-01-21T09:44:42.551Z"
      },
      {
        "duration": 463,
        "start_time": "2022-01-21T09:45:00.767Z"
      },
      {
        "duration": 433,
        "start_time": "2022-01-21T09:45:24.479Z"
      },
      {
        "duration": 520,
        "start_time": "2022-01-21T09:45:49.863Z"
      },
      {
        "duration": 548,
        "start_time": "2022-01-21T09:48:00.191Z"
      },
      {
        "duration": 535,
        "start_time": "2022-01-21T09:49:13.743Z"
      },
      {
        "duration": 615,
        "start_time": "2022-01-21T10:00:12.355Z"
      },
      {
        "duration": 555,
        "start_time": "2022-01-21T10:06:12.272Z"
      },
      {
        "duration": 577,
        "start_time": "2022-01-21T10:06:25.811Z"
      },
      {
        "duration": 112,
        "start_time": "2022-01-21T10:06:51.135Z"
      },
      {
        "duration": 332,
        "start_time": "2022-01-21T10:07:00.815Z"
      },
      {
        "duration": 9777,
        "start_time": "2022-01-21T10:08:14.480Z"
      },
      {
        "duration": 325,
        "start_time": "2022-01-21T10:09:08.248Z"
      },
      {
        "duration": 198,
        "start_time": "2022-01-21T10:09:30.454Z"
      },
      {
        "duration": 153,
        "start_time": "2022-01-21T10:13:21.022Z"
      },
      {
        "duration": 154,
        "start_time": "2022-01-21T10:13:27.500Z"
      },
      {
        "duration": 291,
        "start_time": "2022-01-21T11:34:09.101Z"
      },
      {
        "duration": 226,
        "start_time": "2022-01-21T11:36:41.924Z"
      },
      {
        "duration": 377,
        "start_time": "2022-01-21T11:37:30.229Z"
      },
      {
        "duration": 493,
        "start_time": "2022-01-21T11:37:51.612Z"
      },
      {
        "duration": 166,
        "start_time": "2022-01-21T11:38:16.204Z"
      },
      {
        "duration": 169,
        "start_time": "2022-01-21T11:38:42.936Z"
      },
      {
        "duration": 167,
        "start_time": "2022-01-21T11:39:04.414Z"
      },
      {
        "duration": 104,
        "start_time": "2022-01-21T11:39:10.593Z"
      },
      {
        "duration": 176,
        "start_time": "2022-01-21T11:39:18.570Z"
      },
      {
        "duration": 164,
        "start_time": "2022-01-21T11:41:37.672Z"
      },
      {
        "duration": 94,
        "start_time": "2022-01-21T11:41:45.752Z"
      },
      {
        "duration": 10,
        "start_time": "2022-01-21T11:41:45.848Z"
      },
      {
        "duration": 76,
        "start_time": "2022-01-21T11:41:45.860Z"
      },
      {
        "duration": 99,
        "start_time": "2022-01-21T11:41:45.937Z"
      },
      {
        "duration": 42,
        "start_time": "2022-01-21T11:41:46.037Z"
      },
      {
        "duration": 6,
        "start_time": "2022-01-21T11:41:46.081Z"
      },
      {
        "duration": 93,
        "start_time": "2022-01-21T11:41:46.089Z"
      },
      {
        "duration": 47,
        "start_time": "2022-01-21T11:41:46.184Z"
      },
      {
        "duration": 53,
        "start_time": "2022-01-21T11:41:46.233Z"
      },
      {
        "duration": 52,
        "start_time": "2022-01-21T11:41:46.288Z"
      },
      {
        "duration": 27,
        "start_time": "2022-01-21T11:41:46.342Z"
      },
      {
        "duration": 561,
        "start_time": "2022-01-21T11:41:46.370Z"
      },
      {
        "duration": 4,
        "start_time": "2022-01-21T11:41:46.932Z"
      },
      {
        "duration": 6,
        "start_time": "2022-01-21T11:41:46.937Z"
      },
      {
        "duration": 373,
        "start_time": "2022-01-21T11:41:46.944Z"
      },
      {
        "duration": 489,
        "start_time": "2022-01-21T11:41:47.319Z"
      },
      {
        "duration": 211,
        "start_time": "2022-01-21T11:41:47.810Z"
      },
      {
        "duration": 222,
        "start_time": "2022-01-21T11:41:48.026Z"
      },
      {
        "duration": 364,
        "start_time": "2022-01-21T11:41:48.250Z"
      },
      {
        "duration": 15,
        "start_time": "2022-01-21T11:41:48.615Z"
      },
      {
        "duration": 218,
        "start_time": "2022-01-21T11:41:48.632Z"
      },
      {
        "duration": 2040,
        "start_time": "2022-01-21T11:41:48.852Z"
      },
      {
        "duration": 795,
        "start_time": "2022-01-21T11:41:50.896Z"
      },
      {
        "duration": 787,
        "start_time": "2022-01-21T11:41:51.694Z"
      },
      {
        "duration": 752,
        "start_time": "2022-01-21T11:41:52.483Z"
      },
      {
        "duration": 262,
        "start_time": "2022-01-21T11:41:53.237Z"
      },
      {
        "duration": 286,
        "start_time": "2022-01-21T11:41:53.501Z"
      },
      {
        "duration": 322,
        "start_time": "2022-01-21T11:43:15.126Z"
      },
      {
        "duration": 200,
        "start_time": "2022-01-21T11:44:04.153Z"
      },
      {
        "duration": 10,
        "start_time": "2022-01-21T12:15:31.836Z"
      },
      {
        "duration": 11,
        "start_time": "2022-01-21T12:16:31.067Z"
      },
      {
        "duration": 386,
        "start_time": "2022-01-21T12:17:17.479Z"
      },
      {
        "duration": 333,
        "start_time": "2022-01-21T12:17:29.515Z"
      },
      {
        "duration": 10,
        "start_time": "2022-01-21T12:17:53.235Z"
      },
      {
        "duration": 352,
        "start_time": "2022-01-21T12:27:59.880Z"
      },
      {
        "duration": 22,
        "start_time": "2022-01-21T12:29:12.629Z"
      },
      {
        "duration": 23,
        "start_time": "2022-01-21T12:29:23.741Z"
      },
      {
        "duration": 20,
        "start_time": "2022-01-21T12:29:29.758Z"
      },
      {
        "duration": 616,
        "start_time": "2022-01-21T12:30:33.888Z"
      },
      {
        "duration": 20,
        "start_time": "2022-01-21T12:30:45.448Z"
      },
      {
        "duration": 18,
        "start_time": "2022-01-21T12:31:03.149Z"
      },
      {
        "duration": 20,
        "start_time": "2022-01-21T12:31:15.701Z"
      },
      {
        "duration": 4,
        "start_time": "2022-01-21T13:15:09.418Z"
      },
      {
        "duration": 37,
        "start_time": "2022-01-21T13:15:23.642Z"
      },
      {
        "duration": 22,
        "start_time": "2022-01-21T13:15:29.118Z"
      },
      {
        "duration": 13,
        "start_time": "2022-01-21T13:27:31.671Z"
      },
      {
        "duration": 9,
        "start_time": "2022-01-21T13:27:42.381Z"
      },
      {
        "duration": 100,
        "start_time": "2022-01-21T13:27:46.478Z"
      },
      {
        "duration": 9,
        "start_time": "2022-01-21T13:27:46.580Z"
      },
      {
        "duration": 85,
        "start_time": "2022-01-21T13:27:46.591Z"
      },
      {
        "duration": 99,
        "start_time": "2022-01-21T13:27:46.677Z"
      },
      {
        "duration": 54,
        "start_time": "2022-01-21T13:27:46.778Z"
      },
      {
        "duration": 8,
        "start_time": "2022-01-21T13:27:46.833Z"
      },
      {
        "duration": 92,
        "start_time": "2022-01-21T13:27:46.842Z"
      },
      {
        "duration": 39,
        "start_time": "2022-01-21T13:27:46.937Z"
      },
      {
        "duration": 73,
        "start_time": "2022-01-21T13:27:46.978Z"
      },
      {
        "duration": 39,
        "start_time": "2022-01-21T13:27:47.052Z"
      },
      {
        "duration": 44,
        "start_time": "2022-01-21T13:27:47.092Z"
      },
      {
        "duration": 556,
        "start_time": "2022-01-21T13:27:47.138Z"
      },
      {
        "duration": 4,
        "start_time": "2022-01-21T13:27:47.695Z"
      },
      {
        "duration": 7,
        "start_time": "2022-01-21T13:27:47.700Z"
      },
      {
        "duration": 505,
        "start_time": "2022-01-21T13:27:47.708Z"
      },
      {
        "duration": 394,
        "start_time": "2022-01-21T13:27:48.214Z"
      },
      {
        "duration": 221,
        "start_time": "2022-01-21T13:27:48.610Z"
      },
      {
        "duration": 217,
        "start_time": "2022-01-21T13:27:48.832Z"
      },
      {
        "duration": 357,
        "start_time": "2022-01-21T13:27:49.051Z"
      },
      {
        "duration": 5,
        "start_time": "2022-01-21T13:27:49.409Z"
      },
      {
        "duration": 132,
        "start_time": "2022-01-21T13:27:49.415Z"
      },
      {
        "duration": 1067,
        "start_time": "2022-01-21T13:27:49.548Z"
      },
      {
        "duration": 512,
        "start_time": "2022-01-21T13:27:50.626Z"
      },
      {
        "duration": 505,
        "start_time": "2022-01-21T13:27:51.140Z"
      },
      {
        "duration": 510,
        "start_time": "2022-01-21T13:27:51.647Z"
      },
      {
        "duration": 156,
        "start_time": "2022-01-21T13:27:52.159Z"
      },
      {
        "duration": 172,
        "start_time": "2022-01-21T13:27:52.317Z"
      },
      {
        "duration": 190,
        "start_time": "2022-01-21T13:27:52.490Z"
      },
      {
        "duration": 165,
        "start_time": "2022-01-21T13:27:52.682Z"
      },
      {
        "duration": 21,
        "start_time": "2022-01-21T13:27:52.848Z"
      },
      {
        "duration": 8,
        "start_time": "2022-01-21T13:27:52.870Z"
      },
      {
        "duration": 7,
        "start_time": "2022-01-21T13:29:14.932Z"
      },
      {
        "duration": 7,
        "start_time": "2022-01-21T13:29:18.539Z"
      },
      {
        "duration": 33,
        "start_time": "2022-01-21T13:29:28.052Z"
      },
      {
        "duration": 9,
        "start_time": "2022-01-21T13:30:00.469Z"
      },
      {
        "duration": 9,
        "start_time": "2022-01-21T13:30:04.579Z"
      },
      {
        "duration": 9,
        "start_time": "2022-01-21T13:33:37.298Z"
      },
      {
        "duration": 9,
        "start_time": "2022-01-21T13:33:41.208Z"
      },
      {
        "duration": 8,
        "start_time": "2022-01-21T13:33:42.745Z"
      },
      {
        "duration": 344,
        "start_time": "2022-01-21T13:34:11.212Z"
      },
      {
        "duration": 8,
        "start_time": "2022-01-21T13:34:31.444Z"
      },
      {
        "duration": 6,
        "start_time": "2022-01-21T13:34:49.330Z"
      },
      {
        "duration": 9,
        "start_time": "2022-01-21T13:34:55.194Z"
      },
      {
        "duration": 4,
        "start_time": "2022-01-21T13:35:11.537Z"
      },
      {
        "duration": 4,
        "start_time": "2022-01-21T13:35:12.784Z"
      },
      {
        "duration": 4,
        "start_time": "2022-01-21T13:35:13.952Z"
      },
      {
        "duration": 10,
        "start_time": "2022-01-21T13:35:21.288Z"
      },
      {
        "duration": 7,
        "start_time": "2022-01-21T13:35:25.945Z"
      },
      {
        "duration": 34,
        "start_time": "2022-01-21T13:35:33.617Z"
      },
      {
        "duration": 36,
        "start_time": "2022-01-21T13:35:58.803Z"
      },
      {
        "duration": 12,
        "start_time": "2022-01-21T13:37:02.363Z"
      },
      {
        "duration": 98,
        "start_time": "2022-01-21T13:37:20.209Z"
      },
      {
        "duration": 26,
        "start_time": "2022-01-21T13:37:20.308Z"
      },
      {
        "duration": 62,
        "start_time": "2022-01-21T13:37:20.336Z"
      },
      {
        "duration": 111,
        "start_time": "2022-01-21T13:37:20.399Z"
      },
      {
        "duration": 52,
        "start_time": "2022-01-21T13:37:20.512Z"
      },
      {
        "duration": 6,
        "start_time": "2022-01-21T13:37:20.566Z"
      },
      {
        "duration": 87,
        "start_time": "2022-01-21T13:37:20.573Z"
      },
      {
        "duration": 40,
        "start_time": "2022-01-21T13:37:20.662Z"
      },
      {
        "duration": 72,
        "start_time": "2022-01-21T13:37:20.704Z"
      },
      {
        "duration": 38,
        "start_time": "2022-01-21T13:37:20.778Z"
      },
      {
        "duration": 32,
        "start_time": "2022-01-21T13:37:20.818Z"
      },
      {
        "duration": 683,
        "start_time": "2022-01-21T13:37:20.852Z"
      },
      {
        "duration": 4,
        "start_time": "2022-01-21T13:37:21.536Z"
      },
      {
        "duration": 14,
        "start_time": "2022-01-21T13:37:21.541Z"
      },
      {
        "duration": 370,
        "start_time": "2022-01-21T13:37:21.557Z"
      },
      {
        "duration": 384,
        "start_time": "2022-01-21T13:37:21.929Z"
      },
      {
        "duration": 209,
        "start_time": "2022-01-21T13:37:22.315Z"
      },
      {
        "duration": 216,
        "start_time": "2022-01-21T13:37:22.526Z"
      },
      {
        "duration": 348,
        "start_time": "2022-01-21T13:37:22.743Z"
      },
      {
        "duration": 5,
        "start_time": "2022-01-21T13:37:23.093Z"
      },
      {
        "duration": 135,
        "start_time": "2022-01-21T13:37:23.099Z"
      },
      {
        "duration": 1197,
        "start_time": "2022-01-21T13:37:23.235Z"
      },
      {
        "duration": 672,
        "start_time": "2022-01-21T13:37:24.435Z"
      },
      {
        "duration": 502,
        "start_time": "2022-01-21T13:37:25.108Z"
      },
      {
        "duration": 492,
        "start_time": "2022-01-21T13:37:25.611Z"
      },
      {
        "duration": 166,
        "start_time": "2022-01-21T13:37:26.104Z"
      },
      {
        "duration": 176,
        "start_time": "2022-01-21T13:37:26.272Z"
      },
      {
        "duration": 198,
        "start_time": "2022-01-21T13:37:26.449Z"
      },
      {
        "duration": 170,
        "start_time": "2022-01-21T13:37:26.648Z"
      },
      {
        "duration": 26,
        "start_time": "2022-01-21T13:37:26.819Z"
      },
      {
        "duration": 22,
        "start_time": "2022-01-21T13:37:26.847Z"
      },
      {
        "duration": 13,
        "start_time": "2022-01-21T13:39:05.705Z"
      },
      {
        "duration": 100,
        "start_time": "2022-01-21T13:39:10.896Z"
      },
      {
        "duration": 30,
        "start_time": "2022-01-21T13:39:10.997Z"
      },
      {
        "duration": 62,
        "start_time": "2022-01-21T13:39:11.029Z"
      },
      {
        "duration": 148,
        "start_time": "2022-01-21T13:39:11.093Z"
      },
      {
        "duration": 43,
        "start_time": "2022-01-21T13:39:11.243Z"
      },
      {
        "duration": 6,
        "start_time": "2022-01-21T13:39:11.287Z"
      },
      {
        "duration": 94,
        "start_time": "2022-01-21T13:39:11.294Z"
      },
      {
        "duration": 49,
        "start_time": "2022-01-21T13:39:11.390Z"
      },
      {
        "duration": 53,
        "start_time": "2022-01-21T13:39:11.441Z"
      },
      {
        "duration": 47,
        "start_time": "2022-01-21T13:39:11.496Z"
      },
      {
        "duration": 26,
        "start_time": "2022-01-21T13:39:11.545Z"
      },
      {
        "duration": 776,
        "start_time": "2022-01-21T13:39:11.573Z"
      },
      {
        "duration": 3,
        "start_time": "2022-01-21T13:39:12.350Z"
      },
      {
        "duration": 5,
        "start_time": "2022-01-21T13:39:12.355Z"
      },
      {
        "duration": 368,
        "start_time": "2022-01-21T13:39:12.362Z"
      },
      {
        "duration": 380,
        "start_time": "2022-01-21T13:39:12.732Z"
      },
      {
        "duration": 214,
        "start_time": "2022-01-21T13:39:13.113Z"
      },
      {
        "duration": 220,
        "start_time": "2022-01-21T13:39:13.328Z"
      },
      {
        "duration": 350,
        "start_time": "2022-01-21T13:39:13.549Z"
      },
      {
        "duration": 5,
        "start_time": "2022-01-21T13:39:13.900Z"
      },
      {
        "duration": 142,
        "start_time": "2022-01-21T13:39:13.907Z"
      },
      {
        "duration": 1177,
        "start_time": "2022-01-21T13:39:14.051Z"
      },
      {
        "duration": 473,
        "start_time": "2022-01-21T13:39:15.231Z"
      },
      {
        "duration": 512,
        "start_time": "2022-01-21T13:39:15.705Z"
      },
      {
        "duration": 480,
        "start_time": "2022-01-21T13:39:16.218Z"
      },
      {
        "duration": 161,
        "start_time": "2022-01-21T13:39:16.700Z"
      },
      {
        "duration": 175,
        "start_time": "2022-01-21T13:39:16.862Z"
      },
      {
        "duration": 322,
        "start_time": "2022-01-21T13:39:17.039Z"
      },
      {
        "duration": 168,
        "start_time": "2022-01-21T13:39:17.363Z"
      },
      {
        "duration": 21,
        "start_time": "2022-01-21T13:39:17.533Z"
      },
      {
        "duration": 16,
        "start_time": "2022-01-21T13:39:17.556Z"
      },
      {
        "duration": 15,
        "start_time": "2022-01-21T13:40:02.545Z"
      },
      {
        "duration": 36,
        "start_time": "2022-01-21T13:40:10.496Z"
      },
      {
        "duration": 35,
        "start_time": "2022-01-21T13:40:29.736Z"
      },
      {
        "duration": 7,
        "start_time": "2022-01-21T13:47:02.525Z"
      },
      {
        "duration": 7,
        "start_time": "2022-01-21T13:51:36.450Z"
      },
      {
        "duration": 151,
        "start_time": "2022-01-21T13:52:22.986Z"
      },
      {
        "duration": 164,
        "start_time": "2022-01-21T13:53:12.227Z"
      },
      {
        "duration": 146,
        "start_time": "2022-01-21T13:53:29.833Z"
      },
      {
        "duration": 29,
        "start_time": "2022-01-21T14:10:51.914Z"
      },
      {
        "duration": 29,
        "start_time": "2022-01-21T14:11:03.948Z"
      },
      {
        "duration": 30,
        "start_time": "2022-01-21T14:11:13.531Z"
      },
      {
        "duration": 96,
        "start_time": "2022-01-21T14:11:25.716Z"
      },
      {
        "duration": 16,
        "start_time": "2022-01-21T14:11:25.814Z"
      },
      {
        "duration": 61,
        "start_time": "2022-01-21T14:11:25.832Z"
      },
      {
        "duration": 115,
        "start_time": "2022-01-21T14:11:25.895Z"
      },
      {
        "duration": 52,
        "start_time": "2022-01-21T14:11:26.012Z"
      },
      {
        "duration": 5,
        "start_time": "2022-01-21T14:11:26.066Z"
      },
      {
        "duration": 89,
        "start_time": "2022-01-21T14:11:26.073Z"
      },
      {
        "duration": 45,
        "start_time": "2022-01-21T14:11:26.164Z"
      },
      {
        "duration": 66,
        "start_time": "2022-01-21T14:11:26.211Z"
      },
      {
        "duration": 50,
        "start_time": "2022-01-21T14:11:26.278Z"
      },
      {
        "duration": 27,
        "start_time": "2022-01-21T14:11:26.329Z"
      },
      {
        "duration": 559,
        "start_time": "2022-01-21T14:11:26.357Z"
      },
      {
        "duration": 12,
        "start_time": "2022-01-21T14:11:26.918Z"
      },
      {
        "duration": 4,
        "start_time": "2022-01-21T14:11:26.931Z"
      },
      {
        "duration": 379,
        "start_time": "2022-01-21T14:11:26.936Z"
      },
      {
        "duration": 396,
        "start_time": "2022-01-21T14:11:27.317Z"
      },
      {
        "duration": 340,
        "start_time": "2022-01-21T14:11:27.715Z"
      },
      {
        "duration": 243,
        "start_time": "2022-01-21T14:11:28.057Z"
      },
      {
        "duration": 369,
        "start_time": "2022-01-21T14:11:28.302Z"
      },
      {
        "duration": 5,
        "start_time": "2022-01-21T14:11:28.672Z"
      },
      {
        "duration": 140,
        "start_time": "2022-01-21T14:11:28.679Z"
      },
      {
        "duration": 943,
        "start_time": "2022-01-21T14:11:28.821Z"
      },
      {
        "duration": 657,
        "start_time": "2022-01-21T14:11:29.767Z"
      },
      {
        "duration": 508,
        "start_time": "2022-01-21T14:11:30.427Z"
      },
      {
        "duration": 491,
        "start_time": "2022-01-21T14:11:30.936Z"
      },
      {
        "duration": 160,
        "start_time": "2022-01-21T14:11:31.428Z"
      },
      {
        "duration": 175,
        "start_time": "2022-01-21T14:11:31.589Z"
      },
      {
        "duration": 195,
        "start_time": "2022-01-21T14:11:31.766Z"
      },
      {
        "duration": 171,
        "start_time": "2022-01-21T14:11:31.962Z"
      },
      {
        "duration": 21,
        "start_time": "2022-01-21T14:11:32.135Z"
      },
      {
        "duration": 37,
        "start_time": "2022-01-21T14:11:32.157Z"
      },
      {
        "duration": 169,
        "start_time": "2022-01-21T14:11:32.196Z"
      },
      {
        "duration": 29,
        "start_time": "2022-01-21T14:11:32.367Z"
      },
      {
        "duration": 1204,
        "start_time": "2022-01-21T14:20:27.518Z"
      },
      {
        "duration": 150,
        "start_time": "2022-01-21T14:22:45.359Z"
      },
      {
        "duration": 25,
        "start_time": "2022-01-21T14:22:45.511Z"
      },
      {
        "duration": 270,
        "start_time": "2022-01-21T14:22:45.538Z"
      },
      {
        "duration": 141,
        "start_time": "2022-01-21T14:22:45.810Z"
      },
      {
        "duration": 75,
        "start_time": "2022-01-21T14:22:45.952Z"
      },
      {
        "duration": 8,
        "start_time": "2022-01-21T14:22:46.029Z"
      },
      {
        "duration": 119,
        "start_time": "2022-01-21T14:22:46.039Z"
      },
      {
        "duration": 74,
        "start_time": "2022-01-21T14:22:46.161Z"
      },
      {
        "duration": 95,
        "start_time": "2022-01-21T14:22:46.237Z"
      },
      {
        "duration": 60,
        "start_time": "2022-01-21T14:22:46.333Z"
      },
      {
        "duration": 52,
        "start_time": "2022-01-21T14:22:46.395Z"
      },
      {
        "duration": 550,
        "start_time": "2022-01-21T14:22:46.448Z"
      },
      {
        "duration": 4,
        "start_time": "2022-01-21T14:22:46.999Z"
      },
      {
        "duration": 7,
        "start_time": "2022-01-21T14:22:47.004Z"
      },
      {
        "duration": 377,
        "start_time": "2022-01-21T14:22:47.013Z"
      },
      {
        "duration": 385,
        "start_time": "2022-01-21T14:22:47.392Z"
      },
      {
        "duration": 214,
        "start_time": "2022-01-21T14:22:47.779Z"
      },
      {
        "duration": 219,
        "start_time": "2022-01-21T14:22:47.994Z"
      },
      {
        "duration": 356,
        "start_time": "2022-01-21T14:22:48.215Z"
      },
      {
        "duration": 5,
        "start_time": "2022-01-21T14:22:48.573Z"
      },
      {
        "duration": 260,
        "start_time": "2022-01-21T14:22:48.579Z"
      },
      {
        "duration": 945,
        "start_time": "2022-01-21T14:22:48.841Z"
      },
      {
        "duration": 546,
        "start_time": "2022-01-21T14:22:49.789Z"
      },
      {
        "duration": 564,
        "start_time": "2022-01-21T14:22:50.338Z"
      },
      {
        "duration": 522,
        "start_time": "2022-01-21T14:22:50.903Z"
      },
      {
        "duration": 158,
        "start_time": "2022-01-21T14:22:51.427Z"
      },
      {
        "duration": 300,
        "start_time": "2022-01-21T14:22:51.586Z"
      },
      {
        "duration": 207,
        "start_time": "2022-01-21T14:22:51.888Z"
      },
      {
        "duration": 172,
        "start_time": "2022-01-21T14:22:52.097Z"
      },
      {
        "duration": 22,
        "start_time": "2022-01-21T14:22:52.271Z"
      },
      {
        "duration": 55,
        "start_time": "2022-01-21T14:22:52.295Z"
      },
      {
        "duration": 166,
        "start_time": "2022-01-21T14:22:52.351Z"
      },
      {
        "duration": 13,
        "start_time": "2022-01-21T14:22:52.518Z"
      },
      {
        "duration": 267,
        "start_time": "2022-01-21T14:22:52.532Z"
      },
      {
        "duration": 505,
        "start_time": "2022-01-21T14:22:52.800Z"
      },
      {
        "duration": 188,
        "start_time": "2022-01-21T14:22:53.307Z"
      },
      {
        "duration": 268,
        "start_time": "2022-01-21T14:22:53.496Z"
      },
      {
        "duration": 342,
        "start_time": "2022-01-21T14:26:06.269Z"
      },
      {
        "duration": 645,
        "start_time": "2022-01-21T14:26:54.747Z"
      },
      {
        "duration": 556,
        "start_time": "2022-01-21T14:27:10.811Z"
      },
      {
        "duration": 493,
        "start_time": "2022-01-21T14:27:15.867Z"
      },
      {
        "duration": 498,
        "start_time": "2022-01-21T14:27:21.241Z"
      },
      {
        "duration": 633,
        "start_time": "2022-01-21T14:27:28.787Z"
      },
      {
        "duration": 629,
        "start_time": "2022-01-21T14:27:34.115Z"
      },
      {
        "duration": 560,
        "start_time": "2022-01-21T14:27:50.370Z"
      },
      {
        "duration": 661,
        "start_time": "2022-01-21T14:27:54.739Z"
      },
      {
        "duration": 368,
        "start_time": "2022-01-21T14:29:12.363Z"
      },
      {
        "duration": 548,
        "start_time": "2022-01-21T14:29:23.637Z"
      },
      {
        "duration": 202,
        "start_time": "2022-01-21T14:29:36.234Z"
      },
      {
        "duration": 344,
        "start_time": "2022-01-21T14:29:49.437Z"
      },
      {
        "duration": 529,
        "start_time": "2022-01-21T14:30:21.761Z"
      },
      {
        "duration": 681,
        "start_time": "2022-01-21T14:30:27.146Z"
      },
      {
        "duration": 387,
        "start_time": "2022-01-21T14:33:48.910Z"
      },
      {
        "duration": 105,
        "start_time": "2022-01-21T14:34:32.978Z"
      },
      {
        "duration": 9,
        "start_time": "2022-01-21T14:34:33.085Z"
      },
      {
        "duration": 93,
        "start_time": "2022-01-21T14:34:33.096Z"
      },
      {
        "duration": 115,
        "start_time": "2022-01-21T14:34:33.191Z"
      },
      {
        "duration": 59,
        "start_time": "2022-01-21T14:34:33.308Z"
      },
      {
        "duration": 6,
        "start_time": "2022-01-21T14:34:33.368Z"
      },
      {
        "duration": 92,
        "start_time": "2022-01-21T14:34:33.376Z"
      },
      {
        "duration": 40,
        "start_time": "2022-01-21T14:34:33.470Z"
      },
      {
        "duration": 73,
        "start_time": "2022-01-21T14:34:33.511Z"
      },
      {
        "duration": 56,
        "start_time": "2022-01-21T14:34:33.586Z"
      },
      {
        "duration": 28,
        "start_time": "2022-01-21T14:34:33.644Z"
      },
      {
        "duration": 588,
        "start_time": "2022-01-21T14:34:33.674Z"
      },
      {
        "duration": 3,
        "start_time": "2022-01-21T14:34:34.263Z"
      },
      {
        "duration": 8,
        "start_time": "2022-01-21T14:34:34.268Z"
      },
      {
        "duration": 419,
        "start_time": "2022-01-21T14:34:34.277Z"
      },
      {
        "duration": 554,
        "start_time": "2022-01-21T14:34:34.698Z"
      },
      {
        "duration": 261,
        "start_time": "2022-01-21T14:34:35.253Z"
      },
      {
        "duration": 253,
        "start_time": "2022-01-21T14:34:35.515Z"
      },
      {
        "duration": 404,
        "start_time": "2022-01-21T14:34:35.770Z"
      },
      {
        "duration": 5,
        "start_time": "2022-01-21T14:34:36.175Z"
      },
      {
        "duration": 157,
        "start_time": "2022-01-21T14:34:36.182Z"
      },
      {
        "duration": 1155,
        "start_time": "2022-01-21T14:34:36.342Z"
      },
      {
        "duration": 650,
        "start_time": "2022-01-21T14:34:37.501Z"
      },
      {
        "duration": 661,
        "start_time": "2022-01-21T14:34:38.152Z"
      },
      {
        "duration": 536,
        "start_time": "2022-01-21T14:34:38.814Z"
      },
      {
        "duration": 167,
        "start_time": "2022-01-21T14:34:39.351Z"
      },
      {
        "duration": 186,
        "start_time": "2022-01-21T14:34:39.519Z"
      },
      {
        "duration": 210,
        "start_time": "2022-01-21T14:34:39.707Z"
      },
      {
        "duration": 179,
        "start_time": "2022-01-21T14:34:39.919Z"
      },
      {
        "duration": 28,
        "start_time": "2022-01-21T14:34:40.100Z"
      },
      {
        "duration": 46,
        "start_time": "2022-01-21T14:34:40.130Z"
      },
      {
        "duration": 183,
        "start_time": "2022-01-21T14:34:40.178Z"
      },
      {
        "duration": 7,
        "start_time": "2022-01-21T14:34:40.362Z"
      },
      {
        "duration": 383,
        "start_time": "2022-01-21T14:34:40.370Z"
      },
      {
        "duration": 557,
        "start_time": "2022-01-21T14:34:40.755Z"
      },
      {
        "duration": 209,
        "start_time": "2022-01-21T14:34:41.313Z"
      },
      {
        "duration": 457,
        "start_time": "2022-01-21T14:34:41.528Z"
      },
      {
        "duration": 394,
        "start_time": "2022-01-21T14:37:16.120Z"
      },
      {
        "duration": 411,
        "start_time": "2022-01-21T14:39:10.216Z"
      },
      {
        "duration": 231,
        "start_time": "2022-01-21T14:42:10.814Z"
      },
      {
        "duration": 360,
        "start_time": "2022-01-21T14:55:29.609Z"
      },
      {
        "duration": 99,
        "start_time": "2022-01-21T14:57:05.351Z"
      },
      {
        "duration": 10,
        "start_time": "2022-01-21T14:57:05.451Z"
      },
      {
        "duration": 88,
        "start_time": "2022-01-21T14:57:05.462Z"
      },
      {
        "duration": 100,
        "start_time": "2022-01-21T14:57:05.551Z"
      },
      {
        "duration": 41,
        "start_time": "2022-01-21T14:57:05.653Z"
      },
      {
        "duration": 5,
        "start_time": "2022-01-21T14:57:05.695Z"
      },
      {
        "duration": 93,
        "start_time": "2022-01-21T14:57:05.702Z"
      },
      {
        "duration": 47,
        "start_time": "2022-01-21T14:57:05.797Z"
      },
      {
        "duration": 52,
        "start_time": "2022-01-21T14:57:05.846Z"
      },
      {
        "duration": 53,
        "start_time": "2022-01-21T14:57:05.899Z"
      },
      {
        "duration": 27,
        "start_time": "2022-01-21T14:57:05.953Z"
      },
      {
        "duration": 551,
        "start_time": "2022-01-21T14:57:05.981Z"
      },
      {
        "duration": 4,
        "start_time": "2022-01-21T14:57:06.534Z"
      },
      {
        "duration": 6,
        "start_time": "2022-01-21T14:57:06.539Z"
      },
      {
        "duration": 493,
        "start_time": "2022-01-21T14:57:06.546Z"
      },
      {
        "duration": 380,
        "start_time": "2022-01-21T14:57:07.040Z"
      },
      {
        "duration": 211,
        "start_time": "2022-01-21T14:57:07.421Z"
      },
      {
        "duration": 221,
        "start_time": "2022-01-21T14:57:07.633Z"
      },
      {
        "duration": 349,
        "start_time": "2022-01-21T14:57:07.855Z"
      },
      {
        "duration": 5,
        "start_time": "2022-01-21T14:57:08.206Z"
      },
      {
        "duration": 136,
        "start_time": "2022-01-21T14:57:08.212Z"
      },
      {
        "duration": 1078,
        "start_time": "2022-01-21T14:57:08.350Z"
      },
      {
        "duration": 490,
        "start_time": "2022-01-21T14:57:09.431Z"
      },
      {
        "duration": 504,
        "start_time": "2022-01-21T14:57:09.923Z"
      },
      {
        "duration": 495,
        "start_time": "2022-01-21T14:57:10.428Z"
      },
      {
        "duration": 162,
        "start_time": "2022-01-21T14:57:10.924Z"
      },
      {
        "duration": 188,
        "start_time": "2022-01-21T14:57:11.087Z"
      },
      {
        "duration": 195,
        "start_time": "2022-01-21T14:57:11.277Z"
      },
      {
        "duration": 174,
        "start_time": "2022-01-21T14:57:11.474Z"
      },
      {
        "duration": 31,
        "start_time": "2022-01-21T14:57:11.650Z"
      },
      {
        "duration": 77,
        "start_time": "2022-01-21T14:57:11.694Z"
      },
      {
        "duration": 237,
        "start_time": "2022-01-21T14:57:11.773Z"
      },
      {
        "duration": 8,
        "start_time": "2022-01-21T14:57:12.016Z"
      },
      {
        "duration": 447,
        "start_time": "2022-01-21T14:57:12.031Z"
      },
      {
        "duration": 649,
        "start_time": "2022-01-21T14:57:12.479Z"
      },
      {
        "duration": 194,
        "start_time": "2022-01-21T14:57:13.129Z"
      },
      {
        "duration": 273,
        "start_time": "2022-01-21T14:57:13.327Z"
      },
      {
        "duration": 373,
        "start_time": "2022-01-21T14:57:13.601Z"
      },
      {
        "duration": 162,
        "start_time": "2022-01-21T15:01:53.021Z"
      },
      {
        "duration": 331,
        "start_time": "2022-01-21T15:04:05.253Z"
      },
      {
        "duration": 186,
        "start_time": "2022-01-21T15:06:49.155Z"
      },
      {
        "duration": 190,
        "start_time": "2022-01-21T15:11:06.537Z"
      },
      {
        "duration": 161,
        "start_time": "2022-01-21T15:15:40.543Z"
      },
      {
        "duration": 1316,
        "start_time": "2022-01-21T16:22:39.817Z"
      },
      {
        "duration": 13,
        "start_time": "2022-01-21T16:22:41.135Z"
      },
      {
        "duration": 79,
        "start_time": "2022-01-21T16:22:41.150Z"
      },
      {
        "duration": 102,
        "start_time": "2022-01-21T16:22:41.231Z"
      },
      {
        "duration": 41,
        "start_time": "2022-01-21T16:22:41.335Z"
      },
      {
        "duration": 5,
        "start_time": "2022-01-21T16:22:41.377Z"
      },
      {
        "duration": 98,
        "start_time": "2022-01-21T16:22:41.384Z"
      },
      {
        "duration": 48,
        "start_time": "2022-01-21T16:22:41.484Z"
      },
      {
        "duration": 53,
        "start_time": "2022-01-21T16:22:41.534Z"
      },
      {
        "duration": 57,
        "start_time": "2022-01-21T16:22:41.589Z"
      },
      {
        "duration": 27,
        "start_time": "2022-01-21T16:22:41.647Z"
      },
      {
        "duration": 558,
        "start_time": "2022-01-21T16:22:41.675Z"
      },
      {
        "duration": 3,
        "start_time": "2022-01-21T16:22:42.235Z"
      },
      {
        "duration": 13,
        "start_time": "2022-01-21T16:22:42.240Z"
      },
      {
        "duration": 376,
        "start_time": "2022-01-21T16:22:42.254Z"
      },
      {
        "duration": 453,
        "start_time": "2022-01-21T16:22:42.631Z"
      },
      {
        "duration": 224,
        "start_time": "2022-01-21T16:22:43.086Z"
      },
      {
        "duration": 234,
        "start_time": "2022-01-21T16:22:43.312Z"
      },
      {
        "duration": 366,
        "start_time": "2022-01-21T16:22:43.548Z"
      },
      {
        "duration": 12,
        "start_time": "2022-01-21T16:22:43.916Z"
      },
      {
        "duration": 138,
        "start_time": "2022-01-21T16:22:43.929Z"
      },
      {
        "duration": 1047,
        "start_time": "2022-01-21T16:22:44.069Z"
      },
      {
        "duration": 484,
        "start_time": "2022-01-21T16:22:45.127Z"
      },
      {
        "duration": 503,
        "start_time": "2022-01-21T16:22:45.613Z"
      },
      {
        "duration": 485,
        "start_time": "2022-01-21T16:22:46.118Z"
      },
      {
        "duration": 163,
        "start_time": "2022-01-21T16:22:46.605Z"
      },
      {
        "duration": 171,
        "start_time": "2022-01-21T16:22:46.770Z"
      },
      {
        "duration": 198,
        "start_time": "2022-01-21T16:22:46.943Z"
      },
      {
        "duration": 174,
        "start_time": "2022-01-21T16:22:47.142Z"
      },
      {
        "duration": 27,
        "start_time": "2022-01-21T16:22:47.318Z"
      },
      {
        "duration": 41,
        "start_time": "2022-01-21T16:22:47.347Z"
      },
      {
        "duration": 172,
        "start_time": "2022-01-21T16:22:47.389Z"
      },
      {
        "duration": 8,
        "start_time": "2022-01-21T16:22:47.563Z"
      },
      {
        "duration": 356,
        "start_time": "2022-01-21T16:22:47.572Z"
      },
      {
        "duration": 598,
        "start_time": "2022-01-21T16:22:47.930Z"
      },
      {
        "duration": 202,
        "start_time": "2022-01-21T16:22:48.529Z"
      },
      {
        "duration": 272,
        "start_time": "2022-01-21T16:22:48.733Z"
      },
      {
        "duration": 367,
        "start_time": "2022-01-21T16:22:49.007Z"
      },
      {
        "duration": 161,
        "start_time": "2022-01-21T16:22:49.376Z"
      },
      {
        "duration": 360,
        "start_time": "2022-01-21T16:22:49.538Z"
      },
      {
        "duration": 178,
        "start_time": "2022-01-21T16:22:49.899Z"
      },
      {
        "duration": 199,
        "start_time": "2022-01-21T16:22:50.079Z"
      },
      {
        "duration": 163,
        "start_time": "2022-01-21T16:22:50.280Z"
      },
      {
        "duration": 1911,
        "start_time": "2022-01-26T10:32:33.373Z"
      },
      {
        "duration": 18,
        "start_time": "2022-01-26T10:32:35.286Z"
      },
      {
        "duration": 134,
        "start_time": "2022-01-26T10:32:35.308Z"
      },
      {
        "duration": 179,
        "start_time": "2022-01-26T10:32:35.446Z"
      },
      {
        "duration": 99,
        "start_time": "2022-01-26T10:32:35.627Z"
      },
      {
        "duration": 12,
        "start_time": "2022-01-26T10:32:35.729Z"
      },
      {
        "duration": 141,
        "start_time": "2022-01-26T10:32:35.743Z"
      },
      {
        "duration": 89,
        "start_time": "2022-01-26T10:32:35.887Z"
      },
      {
        "duration": 115,
        "start_time": "2022-01-26T10:32:35.980Z"
      },
      {
        "duration": 84,
        "start_time": "2022-01-26T10:32:36.097Z"
      },
      {
        "duration": 48,
        "start_time": "2022-01-26T10:32:36.183Z"
      },
      {
        "duration": 1068,
        "start_time": "2022-01-26T10:32:36.233Z"
      },
      {
        "duration": 5,
        "start_time": "2022-01-26T10:32:37.303Z"
      },
      {
        "duration": 12,
        "start_time": "2022-01-26T10:32:37.310Z"
      },
      {
        "duration": 711,
        "start_time": "2022-01-26T10:32:37.324Z"
      },
      {
        "duration": 770,
        "start_time": "2022-01-26T10:32:38.038Z"
      },
      {
        "duration": 392,
        "start_time": "2022-01-26T10:32:38.811Z"
      },
      {
        "duration": 434,
        "start_time": "2022-01-26T10:32:39.206Z"
      },
      {
        "duration": 684,
        "start_time": "2022-01-26T10:32:39.642Z"
      },
      {
        "duration": 7,
        "start_time": "2022-01-26T10:32:40.329Z"
      },
      {
        "duration": 276,
        "start_time": "2022-01-26T10:32:40.338Z"
      },
      {
        "duration": 1963,
        "start_time": "2022-01-26T10:32:40.616Z"
      },
      {
        "duration": 894,
        "start_time": "2022-01-26T10:32:42.582Z"
      },
      {
        "duration": 930,
        "start_time": "2022-01-26T10:32:43.479Z"
      },
      {
        "duration": 913,
        "start_time": "2022-01-26T10:32:44.412Z"
      },
      {
        "duration": 296,
        "start_time": "2022-01-26T10:32:45.327Z"
      },
      {
        "duration": 317,
        "start_time": "2022-01-26T10:32:45.630Z"
      },
      {
        "duration": 450,
        "start_time": "2022-01-26T10:32:45.951Z"
      },
      {
        "duration": 304,
        "start_time": "2022-01-26T10:32:46.404Z"
      },
      {
        "duration": 37,
        "start_time": "2022-01-26T10:32:46.711Z"
      },
      {
        "duration": 82,
        "start_time": "2022-01-26T10:32:46.750Z"
      },
      {
        "duration": 293,
        "start_time": "2022-01-26T10:32:46.835Z"
      },
      {
        "duration": 9,
        "start_time": "2022-01-26T10:32:47.131Z"
      },
      {
        "duration": 683,
        "start_time": "2022-01-26T10:32:47.142Z"
      },
      {
        "duration": 1256,
        "start_time": "2022-01-26T10:32:47.827Z"
      },
      {
        "duration": 356,
        "start_time": "2022-01-26T10:32:49.085Z"
      },
      {
        "duration": 508,
        "start_time": "2022-01-26T10:32:49.443Z"
      },
      {
        "duration": 566,
        "start_time": "2022-01-26T10:32:49.953Z"
      },
      {
        "duration": 300,
        "start_time": "2022-01-26T10:32:50.521Z"
      },
      {
        "duration": 561,
        "start_time": "2022-01-26T10:32:50.823Z"
      },
      {
        "duration": 333,
        "start_time": "2022-01-26T10:32:51.387Z"
      },
      {
        "duration": 380,
        "start_time": "2022-01-26T10:32:51.722Z"
      },
      {
        "duration": 411,
        "start_time": "2022-01-26T10:32:52.104Z"
      },
      {
        "duration": 16,
        "start_time": "2022-01-26T10:35:57.773Z"
      },
      {
        "duration": 8,
        "start_time": "2022-01-26T10:36:21.422Z"
      },
      {
        "duration": 1468,
        "start_time": "2022-01-26T13:09:06.068Z"
      },
      {
        "duration": 153,
        "start_time": "2022-01-26T13:09:07.539Z"
      },
      {
        "duration": 17,
        "start_time": "2022-01-26T13:09:07.696Z"
      },
      {
        "duration": 133,
        "start_time": "2022-01-26T13:09:07.717Z"
      },
      {
        "duration": 173,
        "start_time": "2022-01-26T13:09:07.853Z"
      },
      {
        "duration": 86,
        "start_time": "2022-01-26T13:09:08.028Z"
      },
      {
        "duration": 33,
        "start_time": "2022-01-26T13:09:08.116Z"
      },
      {
        "duration": 122,
        "start_time": "2022-01-26T13:09:08.153Z"
      },
      {
        "duration": 81,
        "start_time": "2022-01-26T13:09:08.278Z"
      },
      {
        "duration": 103,
        "start_time": "2022-01-26T13:09:08.361Z"
      },
      {
        "duration": 63,
        "start_time": "2022-01-26T13:09:08.467Z"
      },
      {
        "duration": 45,
        "start_time": "2022-01-26T13:09:08.548Z"
      },
      {
        "duration": 989,
        "start_time": "2022-01-26T13:09:08.596Z"
      },
      {
        "duration": 5,
        "start_time": "2022-01-26T13:09:09.587Z"
      },
      {
        "duration": 14,
        "start_time": "2022-01-26T13:09:09.596Z"
      },
      {
        "duration": 709,
        "start_time": "2022-01-26T13:09:09.613Z"
      },
      {
        "duration": 778,
        "start_time": "2022-01-26T13:09:10.325Z"
      },
      {
        "duration": 386,
        "start_time": "2022-01-26T13:09:11.106Z"
      },
      {
        "duration": 403,
        "start_time": "2022-01-26T13:09:11.494Z"
      },
      {
        "duration": 848,
        "start_time": "2022-01-26T13:09:11.900Z"
      },
      {
        "duration": 8,
        "start_time": "2022-01-26T13:09:12.751Z"
      },
      {
        "duration": 235,
        "start_time": "2022-01-26T13:09:12.761Z"
      },
      {
        "duration": 1814,
        "start_time": "2022-01-26T13:09:13.002Z"
      },
      {
        "duration": 92,
        "start_time": "2022-01-26T13:09:14.819Z"
      },
      {
        "duration": 1724,
        "start_time": "2022-01-26T13:09:13.190Z"
      },
      {
        "duration": 1718,
        "start_time": "2022-01-26T13:09:13.197Z"
      },
      {
        "duration": 1713,
        "start_time": "2022-01-26T13:09:13.204Z"
      },
      {
        "duration": 1710,
        "start_time": "2022-01-26T13:09:13.209Z"
      },
      {
        "duration": 1705,
        "start_time": "2022-01-26T13:09:13.215Z"
      },
      {
        "duration": 1701,
        "start_time": "2022-01-26T13:09:13.221Z"
      },
      {
        "duration": 1696,
        "start_time": "2022-01-26T13:09:13.227Z"
      },
      {
        "duration": 1670,
        "start_time": "2022-01-26T13:09:13.255Z"
      },
      {
        "duration": 1665,
        "start_time": "2022-01-26T13:09:13.261Z"
      },
      {
        "duration": 1662,
        "start_time": "2022-01-26T13:09:13.266Z"
      },
      {
        "duration": 1657,
        "start_time": "2022-01-26T13:09:13.272Z"
      },
      {
        "duration": 1653,
        "start_time": "2022-01-26T13:09:13.277Z"
      },
      {
        "duration": 1641,
        "start_time": "2022-01-26T13:09:13.291Z"
      },
      {
        "duration": 1636,
        "start_time": "2022-01-26T13:09:13.297Z"
      },
      {
        "duration": 1632,
        "start_time": "2022-01-26T13:09:13.303Z"
      },
      {
        "duration": 1627,
        "start_time": "2022-01-26T13:09:13.309Z"
      },
      {
        "duration": 1623,
        "start_time": "2022-01-26T13:09:13.315Z"
      },
      {
        "duration": 1618,
        "start_time": "2022-01-26T13:09:13.321Z"
      },
      {
        "duration": 1615,
        "start_time": "2022-01-26T13:09:13.326Z"
      },
      {
        "duration": 1610,
        "start_time": "2022-01-26T13:09:13.332Z"
      },
      {
        "duration": 1605,
        "start_time": "2022-01-26T13:09:13.338Z"
      },
      {
        "duration": 4,
        "start_time": "2022-01-26T13:09:49.685Z"
      },
      {
        "duration": 3864,
        "start_time": "2022-01-26T13:10:23.501Z"
      },
      {
        "duration": 4759,
        "start_time": "2022-01-26T13:13:21.116Z"
      },
      {
        "duration": 1155,
        "start_time": "2022-01-26T13:13:43.971Z"
      },
      {
        "duration": 2960,
        "start_time": "2022-01-26T13:14:13.003Z"
      },
      {
        "duration": 340,
        "start_time": "2022-01-26T13:38:44.268Z"
      },
      {
        "duration": 503,
        "start_time": "2022-01-26T13:40:37.672Z"
      },
      {
        "duration": 306,
        "start_time": "2022-01-26T13:40:43.657Z"
      },
      {
        "duration": 318,
        "start_time": "2022-01-26T13:41:10.906Z"
      },
      {
        "duration": 2147,
        "start_time": "2022-01-26T13:46:42.704Z"
      },
      {
        "duration": 1862,
        "start_time": "2022-01-26T13:46:59.344Z"
      },
      {
        "duration": 2027,
        "start_time": "2022-01-26T13:47:11.958Z"
      },
      {
        "duration": 1999,
        "start_time": "2022-01-26T13:47:22.694Z"
      },
      {
        "duration": 1907,
        "start_time": "2022-01-26T13:47:30.430Z"
      },
      {
        "duration": 3009,
        "start_time": "2022-01-26T13:47:36.582Z"
      },
      {
        "duration": 1934,
        "start_time": "2022-01-26T13:47:46.206Z"
      },
      {
        "duration": 1773,
        "start_time": "2022-01-26T13:48:05.310Z"
      },
      {
        "duration": 15,
        "start_time": "2022-01-26T13:48:26.934Z"
      },
      {
        "duration": 2068,
        "start_time": "2022-01-26T13:48:49.389Z"
      },
      {
        "duration": 4,
        "start_time": "2022-01-26T13:48:57.980Z"
      },
      {
        "duration": 164,
        "start_time": "2022-01-26T13:48:57.989Z"
      },
      {
        "duration": 16,
        "start_time": "2022-01-26T13:48:58.156Z"
      },
      {
        "duration": 152,
        "start_time": "2022-01-26T13:48:58.176Z"
      },
      {
        "duration": 172,
        "start_time": "2022-01-26T13:48:58.331Z"
      },
      {
        "duration": 93,
        "start_time": "2022-01-26T13:48:58.506Z"
      },
      {
        "duration": 9,
        "start_time": "2022-01-26T13:48:58.602Z"
      },
      {
        "duration": 129,
        "start_time": "2022-01-26T13:48:58.614Z"
      },
      {
        "duration": 77,
        "start_time": "2022-01-26T13:48:58.750Z"
      },
      {
        "duration": 131,
        "start_time": "2022-01-26T13:48:58.830Z"
      },
      {
        "duration": 97,
        "start_time": "2022-01-26T13:48:58.964Z"
      },
      {
        "duration": 49,
        "start_time": "2022-01-26T13:48:59.064Z"
      },
      {
        "duration": 992,
        "start_time": "2022-01-26T13:48:59.117Z"
      },
      {
        "duration": 5,
        "start_time": "2022-01-26T13:49:00.112Z"
      },
      {
        "duration": 31,
        "start_time": "2022-01-26T13:49:00.119Z"
      },
      {
        "duration": 706,
        "start_time": "2022-01-26T13:49:00.152Z"
      },
      {
        "duration": 817,
        "start_time": "2022-01-26T13:49:00.861Z"
      },
      {
        "duration": 383,
        "start_time": "2022-01-26T13:49:01.681Z"
      },
      {
        "duration": 409,
        "start_time": "2022-01-26T13:49:02.067Z"
      },
      {
        "duration": 672,
        "start_time": "2022-01-26T13:49:02.479Z"
      },
      {
        "duration": 8,
        "start_time": "2022-01-26T13:49:03.153Z"
      },
      {
        "duration": 241,
        "start_time": "2022-01-26T13:49:03.163Z"
      },
      {
        "duration": 1990,
        "start_time": "2022-01-26T13:49:03.406Z"
      },
      {
        "duration": 1849,
        "start_time": "2022-01-26T13:49:05.401Z"
      },
      {
        "duration": 296,
        "start_time": "2022-01-26T13:49:07.253Z"
      },
      {
        "duration": 2012,
        "start_time": "2022-01-26T13:49:05.540Z"
      },
      {
        "duration": 2009,
        "start_time": "2022-01-26T13:49:05.545Z"
      },
      {
        "duration": 2004,
        "start_time": "2022-01-26T13:49:05.551Z"
      },
      {
        "duration": 1998,
        "start_time": "2022-01-26T13:49:05.558Z"
      },
      {
        "duration": 1995,
        "start_time": "2022-01-26T13:49:05.563Z"
      },
      {
        "duration": 1987,
        "start_time": "2022-01-26T13:49:05.572Z"
      },
      {
        "duration": 1984,
        "start_time": "2022-01-26T13:49:05.577Z"
      },
      {
        "duration": 1979,
        "start_time": "2022-01-26T13:49:05.583Z"
      },
      {
        "duration": 1975,
        "start_time": "2022-01-26T13:49:05.588Z"
      },
      {
        "duration": 1970,
        "start_time": "2022-01-26T13:49:05.595Z"
      },
      {
        "duration": 1965,
        "start_time": "2022-01-26T13:49:05.601Z"
      },
      {
        "duration": 1955,
        "start_time": "2022-01-26T13:49:05.613Z"
      },
      {
        "duration": 1951,
        "start_time": "2022-01-26T13:49:05.618Z"
      },
      {
        "duration": 1957,
        "start_time": "2022-01-26T13:49:05.624Z"
      },
      {
        "duration": 1954,
        "start_time": "2022-01-26T13:49:05.629Z"
      },
      {
        "duration": 1950,
        "start_time": "2022-01-26T13:49:05.635Z"
      },
      {
        "duration": 1946,
        "start_time": "2022-01-26T13:49:05.641Z"
      },
      {
        "duration": 1943,
        "start_time": "2022-01-26T13:49:05.646Z"
      },
      {
        "duration": 1934,
        "start_time": "2022-01-26T13:49:05.657Z"
      },
      {
        "duration": 1930,
        "start_time": "2022-01-26T13:49:05.662Z"
      },
      {
        "duration": 1927,
        "start_time": "2022-01-26T13:49:05.667Z"
      },
      {
        "duration": 4,
        "start_time": "2022-01-26T13:49:50.714Z"
      },
      {
        "duration": 177,
        "start_time": "2022-01-26T13:49:50.725Z"
      },
      {
        "duration": 49,
        "start_time": "2022-01-26T13:49:50.905Z"
      },
      {
        "duration": 117,
        "start_time": "2022-01-26T13:49:50.957Z"
      },
      {
        "duration": 182,
        "start_time": "2022-01-26T13:49:51.077Z"
      },
      {
        "duration": 89,
        "start_time": "2022-01-26T13:49:51.263Z"
      },
      {
        "duration": 9,
        "start_time": "2022-01-26T13:49:51.355Z"
      },
      {
        "duration": 141,
        "start_time": "2022-01-26T13:49:51.367Z"
      },
      {
        "duration": 86,
        "start_time": "2022-01-26T13:49:51.514Z"
      },
      {
        "duration": 115,
        "start_time": "2022-01-26T13:49:51.603Z"
      },
      {
        "duration": 88,
        "start_time": "2022-01-26T13:49:51.720Z"
      },
      {
        "duration": 65,
        "start_time": "2022-01-26T13:49:51.810Z"
      },
      {
        "duration": 1134,
        "start_time": "2022-01-26T13:49:51.877Z"
      },
      {
        "duration": 5,
        "start_time": "2022-01-26T13:49:53.014Z"
      },
      {
        "duration": 26,
        "start_time": "2022-01-26T13:49:53.022Z"
      },
      {
        "duration": 697,
        "start_time": "2022-01-26T13:49:53.051Z"
      },
      {
        "duration": 1085,
        "start_time": "2022-01-26T13:49:53.751Z"
      },
      {
        "duration": 559,
        "start_time": "2022-01-26T13:49:54.839Z"
      },
      {
        "duration": 587,
        "start_time": "2022-01-26T13:49:55.400Z"
      },
      {
        "duration": 685,
        "start_time": "2022-01-26T13:49:55.990Z"
      },
      {
        "duration": 7,
        "start_time": "2022-01-26T13:49:56.678Z"
      },
      {
        "duration": 252,
        "start_time": "2022-01-26T13:49:56.688Z"
      },
      {
        "duration": 304,
        "start_time": "2022-01-26T13:49:56.942Z"
      },
      {
        "duration": 2024,
        "start_time": "2022-01-26T13:49:55.225Z"
      },
      {
        "duration": 2020,
        "start_time": "2022-01-26T13:49:55.231Z"
      },
      {
        "duration": 2016,
        "start_time": "2022-01-26T13:49:55.237Z"
      },
      {
        "duration": 2013,
        "start_time": "2022-01-26T13:49:55.243Z"
      },
      {
        "duration": 2010,
        "start_time": "2022-01-26T13:49:55.248Z"
      },
      {
        "duration": 2000,
        "start_time": "2022-01-26T13:49:55.260Z"
      },
      {
        "duration": 1997,
        "start_time": "2022-01-26T13:49:55.265Z"
      },
      {
        "duration": 1994,
        "start_time": "2022-01-26T13:49:55.270Z"
      },
      {
        "duration": 1991,
        "start_time": "2022-01-26T13:49:55.275Z"
      },
      {
        "duration": 1987,
        "start_time": "2022-01-26T13:49:55.281Z"
      },
      {
        "duration": 1984,
        "start_time": "2022-01-26T13:49:55.286Z"
      },
      {
        "duration": 1980,
        "start_time": "2022-01-26T13:49:55.292Z"
      },
      {
        "duration": 1971,
        "start_time": "2022-01-26T13:49:55.303Z"
      },
      {
        "duration": 1966,
        "start_time": "2022-01-26T13:49:55.310Z"
      },
      {
        "duration": 1963,
        "start_time": "2022-01-26T13:49:55.315Z"
      },
      {
        "duration": 1960,
        "start_time": "2022-01-26T13:49:55.321Z"
      },
      {
        "duration": 1956,
        "start_time": "2022-01-26T13:49:55.327Z"
      },
      {
        "duration": 1952,
        "start_time": "2022-01-26T13:49:55.333Z"
      },
      {
        "duration": 1949,
        "start_time": "2022-01-26T13:49:55.338Z"
      },
      {
        "duration": 1940,
        "start_time": "2022-01-26T13:49:55.349Z"
      },
      {
        "duration": 1937,
        "start_time": "2022-01-26T13:49:55.354Z"
      },
      {
        "duration": 1988,
        "start_time": "2022-01-26T13:49:55.360Z"
      },
      {
        "duration": 4,
        "start_time": "2022-01-26T13:50:24.755Z"
      },
      {
        "duration": 182,
        "start_time": "2022-01-26T13:50:24.766Z"
      },
      {
        "duration": 17,
        "start_time": "2022-01-26T13:50:24.951Z"
      },
      {
        "duration": 139,
        "start_time": "2022-01-26T13:50:24.971Z"
      },
      {
        "duration": 170,
        "start_time": "2022-01-26T13:50:25.113Z"
      },
      {
        "duration": 93,
        "start_time": "2022-01-26T13:50:25.286Z"
      },
      {
        "duration": 9,
        "start_time": "2022-01-26T13:50:25.382Z"
      },
      {
        "duration": 132,
        "start_time": "2022-01-26T13:50:25.393Z"
      },
      {
        "duration": 76,
        "start_time": "2022-01-26T13:50:25.529Z"
      },
      {
        "duration": 109,
        "start_time": "2022-01-26T13:50:25.608Z"
      },
      {
        "duration": 82,
        "start_time": "2022-01-26T13:50:25.720Z"
      },
      {
        "duration": 64,
        "start_time": "2022-01-26T13:50:25.805Z"
      },
      {
        "duration": 1052,
        "start_time": "2022-01-26T13:50:25.871Z"
      },
      {
        "duration": 6,
        "start_time": "2022-01-26T13:50:26.925Z"
      },
      {
        "duration": 17,
        "start_time": "2022-01-26T13:50:26.933Z"
      },
      {
        "duration": 699,
        "start_time": "2022-01-26T13:50:26.953Z"
      },
      {
        "duration": 701,
        "start_time": "2022-01-26T13:50:27.654Z"
      },
      {
        "duration": 370,
        "start_time": "2022-01-26T13:50:28.358Z"
      },
      {
        "duration": 395,
        "start_time": "2022-01-26T13:50:28.731Z"
      },
      {
        "duration": 649,
        "start_time": "2022-01-26T13:50:29.128Z"
      },
      {
        "duration": 7,
        "start_time": "2022-01-26T13:50:29.780Z"
      },
      {
        "duration": 250,
        "start_time": "2022-01-26T13:50:29.790Z"
      },
      {
        "duration": 2223,
        "start_time": "2022-01-26T13:50:30.042Z"
      },
      {
        "duration": 1838,
        "start_time": "2022-01-26T13:50:32.272Z"
      },
      {
        "duration": 946,
        "start_time": "2022-01-26T13:50:34.113Z"
      },
      {
        "duration": 826,
        "start_time": "2022-01-26T13:50:35.061Z"
      },
      {
        "duration": 790,
        "start_time": "2022-01-26T13:50:35.890Z"
      },
      {
        "duration": 291,
        "start_time": "2022-01-26T13:50:36.682Z"
      },
      {
        "duration": 323,
        "start_time": "2022-01-26T13:50:36.976Z"
      },
      {
        "duration": 350,
        "start_time": "2022-01-26T13:50:37.302Z"
      },
      {
        "duration": 309,
        "start_time": "2022-01-26T13:50:37.655Z"
      },
      {
        "duration": 37,
        "start_time": "2022-01-26T13:50:37.966Z"
      },
      {
        "duration": 89,
        "start_time": "2022-01-26T13:50:38.006Z"
      },
      {
        "duration": 288,
        "start_time": "2022-01-26T13:50:38.097Z"
      },
      {
        "duration": 10,
        "start_time": "2022-01-26T13:50:38.387Z"
      },
      {
        "duration": 677,
        "start_time": "2022-01-26T13:50:38.399Z"
      },
      {
        "duration": 1052,
        "start_time": "2022-01-26T13:50:39.078Z"
      },
      {
        "duration": 345,
        "start_time": "2022-01-26T13:50:40.132Z"
      },
      {
        "duration": 503,
        "start_time": "2022-01-26T13:50:40.480Z"
      },
      {
        "duration": 551,
        "start_time": "2022-01-26T13:50:40.985Z"
      },
      {
        "duration": 289,
        "start_time": "2022-01-26T13:50:41.539Z"
      },
      {
        "duration": 567,
        "start_time": "2022-01-26T13:50:41.831Z"
      },
      {
        "duration": 332,
        "start_time": "2022-01-26T13:50:42.400Z"
      },
      {
        "duration": 367,
        "start_time": "2022-01-26T13:50:42.734Z"
      },
      {
        "duration": 330,
        "start_time": "2022-01-26T13:50:43.103Z"
      },
      {
        "duration": 2031,
        "start_time": "2022-01-26T13:52:33.468Z"
      },
      {
        "duration": 1930,
        "start_time": "2022-01-26T13:52:42.440Z"
      },
      {
        "duration": 1878,
        "start_time": "2022-01-26T13:52:57.572Z"
      },
      {
        "duration": 1849,
        "start_time": "2022-01-26T13:53:04.315Z"
      },
      {
        "duration": 1772,
        "start_time": "2022-01-26T13:53:09.989Z"
      },
      {
        "duration": 1886,
        "start_time": "2022-01-26T13:53:16.147Z"
      },
      {
        "duration": 1984,
        "start_time": "2022-01-26T13:53:22.779Z"
      },
      {
        "duration": 1944,
        "start_time": "2022-01-26T13:53:34.339Z"
      },
      {
        "duration": 1969,
        "start_time": "2022-01-26T13:53:41.092Z"
      },
      {
        "duration": 2181,
        "start_time": "2022-01-26T13:53:49.715Z"
      },
      {
        "duration": 2353,
        "start_time": "2022-01-26T13:53:57.052Z"
      },
      {
        "duration": 2088,
        "start_time": "2022-01-26T13:54:03.724Z"
      },
      {
        "duration": 2253,
        "start_time": "2022-01-26T14:00:00.732Z"
      },
      {
        "duration": 2297,
        "start_time": "2022-01-26T14:01:06.129Z"
      },
      {
        "duration": 1909,
        "start_time": "2022-01-26T14:01:51.416Z"
      },
      {
        "duration": 1896,
        "start_time": "2022-01-26T14:03:05.391Z"
      },
      {
        "duration": 1898,
        "start_time": "2022-01-26T14:03:11.224Z"
      },
      {
        "duration": 1769,
        "start_time": "2022-01-26T14:03:26.231Z"
      },
      {
        "duration": 2188,
        "start_time": "2022-01-26T14:03:32.751Z"
      },
      {
        "duration": 1910,
        "start_time": "2022-01-26T14:03:40.726Z"
      },
      {
        "duration": 1957,
        "start_time": "2022-01-26T14:03:51.249Z"
      },
      {
        "duration": 1958,
        "start_time": "2022-01-26T14:03:59.479Z"
      },
      {
        "duration": 2546,
        "start_time": "2022-01-26T14:05:34.207Z"
      },
      {
        "duration": 1780,
        "start_time": "2022-01-26T14:06:12.352Z"
      },
      {
        "duration": 640,
        "start_time": "2022-01-26T14:09:48.741Z"
      },
      {
        "duration": 2897,
        "start_time": "2022-01-26T14:10:50.661Z"
      },
      {
        "duration": 2583,
        "start_time": "2022-01-26T14:11:32.704Z"
      },
      {
        "duration": 2524,
        "start_time": "2022-01-26T14:12:02.349Z"
      },
      {
        "duration": 2420,
        "start_time": "2022-01-26T14:12:45.940Z"
      },
      {
        "duration": 2303,
        "start_time": "2022-01-26T14:12:57.076Z"
      },
      {
        "duration": 2477,
        "start_time": "2022-01-26T14:27:48.246Z"
      },
      {
        "duration": 2485,
        "start_time": "2022-01-26T14:29:07.207Z"
      },
      {
        "duration": 2643,
        "start_time": "2022-01-26T14:42:01.193Z"
      },
      {
        "duration": 3499,
        "start_time": "2022-01-26T14:42:31.993Z"
      },
      {
        "duration": 2766,
        "start_time": "2022-01-26T14:44:17.656Z"
      },
      {
        "duration": 4,
        "start_time": "2022-01-26T14:44:34.420Z"
      },
      {
        "duration": 253,
        "start_time": "2022-01-26T14:44:34.431Z"
      },
      {
        "duration": 23,
        "start_time": "2022-01-26T14:44:34.687Z"
      },
      {
        "duration": 185,
        "start_time": "2022-01-26T14:44:34.714Z"
      },
      {
        "duration": 249,
        "start_time": "2022-01-26T14:44:34.903Z"
      },
      {
        "duration": 96,
        "start_time": "2022-01-26T14:44:35.155Z"
      },
      {
        "duration": 12,
        "start_time": "2022-01-26T14:44:35.254Z"
      },
      {
        "duration": 146,
        "start_time": "2022-01-26T14:44:35.269Z"
      },
      {
        "duration": 94,
        "start_time": "2022-01-26T14:44:35.419Z"
      },
      {
        "duration": 105,
        "start_time": "2022-01-26T14:44:35.517Z"
      },
      {
        "duration": 78,
        "start_time": "2022-01-26T14:44:35.625Z"
      },
      {
        "duration": 65,
        "start_time": "2022-01-26T14:44:35.706Z"
      },
      {
        "duration": 1002,
        "start_time": "2022-01-26T14:44:35.773Z"
      },
      {
        "duration": 5,
        "start_time": "2022-01-26T14:44:36.778Z"
      },
      {
        "duration": 9,
        "start_time": "2022-01-26T14:44:36.785Z"
      },
      {
        "duration": 869,
        "start_time": "2022-01-26T14:44:36.796Z"
      },
      {
        "duration": 862,
        "start_time": "2022-01-26T14:44:37.668Z"
      },
      {
        "duration": 497,
        "start_time": "2022-01-26T14:44:38.533Z"
      },
      {
        "duration": 400,
        "start_time": "2022-01-26T14:44:39.033Z"
      },
      {
        "duration": 679,
        "start_time": "2022-01-26T14:44:39.435Z"
      },
      {
        "duration": 8,
        "start_time": "2022-01-26T14:44:40.116Z"
      },
      {
        "duration": 257,
        "start_time": "2022-01-26T14:44:40.126Z"
      },
      {
        "duration": 2017,
        "start_time": "2022-01-26T14:44:40.385Z"
      },
      {
        "duration": 2370,
        "start_time": "2022-01-26T14:44:42.409Z"
      },
      {
        "duration": 816,
        "start_time": "2022-01-26T14:44:44.783Z"
      },
      {
        "duration": 864,
        "start_time": "2022-01-26T14:44:45.602Z"
      },
      {
        "duration": 1165,
        "start_time": "2022-01-26T14:44:46.469Z"
      },
      {
        "duration": 361,
        "start_time": "2022-01-26T14:44:47.637Z"
      },
      {
        "duration": 410,
        "start_time": "2022-01-26T14:44:48.001Z"
      },
      {
        "duration": 449,
        "start_time": "2022-01-26T14:44:48.413Z"
      },
      {
        "duration": 374,
        "start_time": "2022-01-26T14:44:48.866Z"
      },
      {
        "duration": 59,
        "start_time": "2022-01-26T14:44:49.242Z"
      },
      {
        "duration": 130,
        "start_time": "2022-01-26T14:44:49.304Z"
      },
      {
        "duration": 393,
        "start_time": "2022-01-26T14:44:49.436Z"
      },
      {
        "duration": 20,
        "start_time": "2022-01-26T14:44:49.832Z"
      },
      {
        "duration": 709,
        "start_time": "2022-01-26T14:44:49.855Z"
      },
      {
        "duration": 1336,
        "start_time": "2022-01-26T14:44:50.567Z"
      },
      {
        "duration": 838,
        "start_time": "2022-01-26T14:44:51.921Z"
      },
      {
        "duration": 611,
        "start_time": "2022-01-26T14:44:52.763Z"
      },
      {
        "duration": 642,
        "start_time": "2022-01-26T14:44:53.377Z"
      },
      {
        "duration": 436,
        "start_time": "2022-01-26T14:44:54.022Z"
      },
      {
        "duration": 771,
        "start_time": "2022-01-26T14:44:54.460Z"
      },
      {
        "duration": 406,
        "start_time": "2022-01-26T14:44:55.233Z"
      },
      {
        "duration": 426,
        "start_time": "2022-01-26T14:44:55.641Z"
      },
      {
        "duration": 324,
        "start_time": "2022-01-26T14:44:56.070Z"
      },
      {
        "duration": 2476,
        "start_time": "2022-01-26T14:45:57.712Z"
      },
      {
        "duration": 139,
        "start_time": "2022-01-26T14:51:32.273Z"
      },
      {
        "duration": 84,
        "start_time": "2022-01-26T14:51:52.836Z"
      },
      {
        "duration": 4,
        "start_time": "2022-01-26T14:52:14.085Z"
      },
      {
        "duration": 169,
        "start_time": "2022-01-26T14:52:14.096Z"
      },
      {
        "duration": 17,
        "start_time": "2022-01-26T14:52:14.268Z"
      },
      {
        "duration": 149,
        "start_time": "2022-01-26T14:52:14.289Z"
      },
      {
        "duration": 174,
        "start_time": "2022-01-26T14:52:14.449Z"
      },
      {
        "duration": 97,
        "start_time": "2022-01-26T14:52:14.626Z"
      },
      {
        "duration": 22,
        "start_time": "2022-01-26T14:52:14.726Z"
      },
      {
        "duration": 137,
        "start_time": "2022-01-26T14:52:14.752Z"
      },
      {
        "duration": 88,
        "start_time": "2022-01-26T14:52:14.895Z"
      },
      {
        "duration": 115,
        "start_time": "2022-01-26T14:52:14.988Z"
      },
      {
        "duration": 112,
        "start_time": "2022-01-26T14:52:15.106Z"
      },
      {
        "duration": 82,
        "start_time": "2022-01-26T14:52:15.222Z"
      },
      {
        "duration": 1717,
        "start_time": "2022-01-26T14:52:15.308Z"
      },
      {
        "duration": 5,
        "start_time": "2022-01-26T14:52:17.028Z"
      },
      {
        "duration": 7,
        "start_time": "2022-01-26T14:52:17.058Z"
      },
      {
        "duration": 747,
        "start_time": "2022-01-26T14:52:17.067Z"
      },
      {
        "duration": 938,
        "start_time": "2022-01-26T14:52:17.817Z"
      },
      {
        "duration": 414,
        "start_time": "2022-01-26T14:52:18.758Z"
      },
      {
        "duration": 404,
        "start_time": "2022-01-26T14:52:19.175Z"
      },
      {
        "duration": 719,
        "start_time": "2022-01-26T14:52:19.582Z"
      },
      {
        "duration": 8,
        "start_time": "2022-01-26T14:52:20.304Z"
      },
      {
        "duration": 258,
        "start_time": "2022-01-26T14:52:20.314Z"
      },
      {
        "duration": 2316,
        "start_time": "2022-01-26T14:52:20.574Z"
      },
      {
        "duration": 2934,
        "start_time": "2022-01-26T14:52:22.948Z"
      },
      {
        "duration": 808,
        "start_time": "2022-01-26T14:52:25.886Z"
      },
      {
        "duration": 1156,
        "start_time": "2022-01-26T14:52:26.697Z"
      },
      {
        "duration": 1029,
        "start_time": "2022-01-26T14:52:27.856Z"
      },
      {
        "duration": 279,
        "start_time": "2022-01-26T14:52:28.888Z"
      },
      {
        "duration": 325,
        "start_time": "2022-01-26T14:52:29.170Z"
      },
      {
        "duration": 367,
        "start_time": "2022-01-26T14:52:29.498Z"
      },
      {
        "duration": 318,
        "start_time": "2022-01-26T14:52:29.868Z"
      },
      {
        "duration": 38,
        "start_time": "2022-01-26T14:52:30.189Z"
      },
      {
        "duration": 68,
        "start_time": "2022-01-26T14:52:30.249Z"
      },
      {
        "duration": 341,
        "start_time": "2022-01-26T14:52:30.320Z"
      },
      {
        "duration": 11,
        "start_time": "2022-01-26T14:52:30.664Z"
      },
      {
        "duration": 742,
        "start_time": "2022-01-26T14:52:30.677Z"
      },
      {
        "duration": 1047,
        "start_time": "2022-01-26T14:52:31.422Z"
      },
      {
        "duration": 557,
        "start_time": "2022-01-26T14:52:32.472Z"
      },
      {
        "duration": 511,
        "start_time": "2022-01-26T14:52:33.032Z"
      },
      {
        "duration": 593,
        "start_time": "2022-01-26T14:52:33.549Z"
      },
      {
        "duration": 302,
        "start_time": "2022-01-26T14:52:34.149Z"
      },
      {
        "duration": 524,
        "start_time": "2022-01-26T14:52:34.454Z"
      },
      {
        "duration": 338,
        "start_time": "2022-01-26T14:52:34.980Z"
      },
      {
        "duration": 369,
        "start_time": "2022-01-26T14:52:35.321Z"
      },
      {
        "duration": 289,
        "start_time": "2022-01-26T14:52:35.693Z"
      },
      {
        "duration": 2488,
        "start_time": "2022-01-26T14:53:39.966Z"
      },
      {
        "duration": 3043,
        "start_time": "2022-01-26T14:53:51.917Z"
      },
      {
        "duration": 1989,
        "start_time": "2022-01-26T14:54:12.968Z"
      },
      {
        "duration": 1984,
        "start_time": "2022-01-26T14:54:49.406Z"
      },
      {
        "duration": 1931,
        "start_time": "2022-01-26T14:55:03.189Z"
      },
      {
        "duration": 2341,
        "start_time": "2022-01-26T16:12:02.565Z"
      },
      {
        "duration": 2082,
        "start_time": "2022-01-26T16:12:11.472Z"
      },
      {
        "duration": 1508,
        "start_time": "2022-01-26T16:29:06.996Z"
      },
      {
        "duration": 328,
        "start_time": "2022-01-26T16:30:22.697Z"
      },
      {
        "duration": 378,
        "start_time": "2022-01-26T16:30:29.960Z"
      },
      {
        "duration": 2471,
        "start_time": "2022-01-26T16:31:16.590Z"
      },
      {
        "duration": 10923,
        "start_time": "2022-01-26T16:31:20.783Z"
      },
      {
        "duration": 516,
        "start_time": "2022-01-26T16:31:33.317Z"
      },
      {
        "duration": 7,
        "start_time": "2022-01-26T16:35:07.527Z"
      },
      {
        "duration": 184,
        "start_time": "2022-01-26T16:35:18.421Z"
      },
      {
        "duration": 375,
        "start_time": "2022-01-26T16:39:10.198Z"
      },
      {
        "duration": 297,
        "start_time": "2022-01-26T16:39:57.980Z"
      },
      {
        "duration": 287,
        "start_time": "2022-01-26T16:40:09.380Z"
      },
      {
        "duration": 394,
        "start_time": "2022-01-26T16:40:17.019Z"
      },
      {
        "duration": 364,
        "start_time": "2022-01-26T16:40:30.996Z"
      },
      {
        "duration": 359,
        "start_time": "2022-01-26T16:40:50.356Z"
      },
      {
        "duration": 364,
        "start_time": "2022-01-26T16:40:53.171Z"
      },
      {
        "duration": 4,
        "start_time": "2022-01-26T16:40:56.561Z"
      },
      {
        "duration": 143,
        "start_time": "2022-01-26T16:40:56.571Z"
      },
      {
        "duration": 39,
        "start_time": "2022-01-26T16:40:56.717Z"
      },
      {
        "duration": 151,
        "start_time": "2022-01-26T16:40:56.760Z"
      },
      {
        "duration": 261,
        "start_time": "2022-01-26T16:40:56.914Z"
      },
      {
        "duration": 108,
        "start_time": "2022-01-26T16:40:57.177Z"
      },
      {
        "duration": 14,
        "start_time": "2022-01-26T16:40:57.288Z"
      },
      {
        "duration": 139,
        "start_time": "2022-01-26T16:40:57.305Z"
      },
      {
        "duration": 77,
        "start_time": "2022-01-26T16:40:57.448Z"
      },
      {
        "duration": 102,
        "start_time": "2022-01-26T16:40:57.528Z"
      },
      {
        "duration": 122,
        "start_time": "2022-01-26T16:40:57.632Z"
      },
      {
        "duration": 49,
        "start_time": "2022-01-26T16:40:57.756Z"
      },
      {
        "duration": 1043,
        "start_time": "2022-01-26T16:40:57.807Z"
      },
      {
        "duration": 6,
        "start_time": "2022-01-26T16:40:58.852Z"
      },
      {
        "duration": 13,
        "start_time": "2022-01-26T16:40:58.861Z"
      },
      {
        "duration": 890,
        "start_time": "2022-01-26T16:40:58.877Z"
      },
      {
        "duration": 895,
        "start_time": "2022-01-26T16:40:59.770Z"
      },
      {
        "duration": 403,
        "start_time": "2022-01-26T16:41:00.668Z"
      },
      {
        "duration": 448,
        "start_time": "2022-01-26T16:41:01.074Z"
      },
      {
        "duration": 737,
        "start_time": "2022-01-26T16:41:01.525Z"
      },
      {
        "duration": 9,
        "start_time": "2022-01-26T16:41:02.265Z"
      },
      {
        "duration": 282,
        "start_time": "2022-01-26T16:41:02.277Z"
      },
      {
        "duration": 2761,
        "start_time": "2022-01-26T16:41:02.563Z"
      },
      {
        "duration": 2054,
        "start_time": "2022-01-26T16:41:05.329Z"
      },
      {
        "duration": 890,
        "start_time": "2022-01-26T16:41:07.387Z"
      },
      {
        "duration": 827,
        "start_time": "2022-01-26T16:41:08.279Z"
      },
      {
        "duration": 371,
        "start_time": "2022-01-26T16:41:09.108Z"
      },
      {
        "duration": 826,
        "start_time": "2022-01-26T16:41:09.482Z"
      },
      {
        "duration": 483,
        "start_time": "2022-01-26T16:41:10.310Z"
      },
      {
        "duration": 318,
        "start_time": "2022-01-26T16:41:10.796Z"
      },
      {
        "duration": 354,
        "start_time": "2022-01-26T16:41:11.117Z"
      },
      {
        "duration": 307,
        "start_time": "2022-01-26T16:41:11.474Z"
      },
      {
        "duration": 36,
        "start_time": "2022-01-26T16:41:11.784Z"
      },
      {
        "duration": 83,
        "start_time": "2022-01-26T16:41:11.824Z"
      },
      {
        "duration": 303,
        "start_time": "2022-01-26T16:41:11.910Z"
      },
      {
        "duration": 10,
        "start_time": "2022-01-26T16:41:12.216Z"
      },
      {
        "duration": 676,
        "start_time": "2022-01-26T16:41:12.228Z"
      },
      {
        "duration": 957,
        "start_time": "2022-01-26T16:41:12.906Z"
      },
      {
        "duration": 365,
        "start_time": "2022-01-26T16:41:13.866Z"
      },
      {
        "duration": 856,
        "start_time": "2022-01-26T16:41:14.233Z"
      },
      {
        "duration": 796,
        "start_time": "2022-01-26T16:41:15.093Z"
      },
      {
        "duration": 672,
        "start_time": "2022-01-26T16:41:15.893Z"
      },
      {
        "duration": 824,
        "start_time": "2022-01-26T16:41:16.569Z"
      },
      {
        "duration": 346,
        "start_time": "2022-01-26T16:41:17.396Z"
      },
      {
        "duration": 370,
        "start_time": "2022-01-26T16:41:17.744Z"
      },
      {
        "duration": 309,
        "start_time": "2022-01-26T16:41:18.116Z"
      },
      {
        "duration": 380,
        "start_time": "2022-01-26T16:43:18.316Z"
      },
      {
        "duration": 394,
        "start_time": "2022-01-26T16:45:19.593Z"
      },
      {
        "duration": 17,
        "start_time": "2022-01-26T16:45:24.713Z"
      },
      {
        "duration": 262,
        "start_time": "2022-01-26T16:45:24.733Z"
      },
      {
        "duration": 19,
        "start_time": "2022-01-26T16:45:24.998Z"
      },
      {
        "duration": 151,
        "start_time": "2022-01-26T16:45:25.021Z"
      },
      {
        "duration": 209,
        "start_time": "2022-01-26T16:45:25.175Z"
      },
      {
        "duration": 115,
        "start_time": "2022-01-26T16:45:25.386Z"
      },
      {
        "duration": 13,
        "start_time": "2022-01-26T16:45:25.505Z"
      },
      {
        "duration": 156,
        "start_time": "2022-01-26T16:45:25.522Z"
      },
      {
        "duration": 84,
        "start_time": "2022-01-26T16:45:25.682Z"
      },
      {
        "duration": 96,
        "start_time": "2022-01-26T16:45:25.768Z"
      },
      {
        "duration": 87,
        "start_time": "2022-01-26T16:45:25.867Z"
      },
      {
        "duration": 49,
        "start_time": "2022-01-26T16:45:25.956Z"
      },
      {
        "duration": 1151,
        "start_time": "2022-01-26T16:45:26.008Z"
      },
      {
        "duration": 6,
        "start_time": "2022-01-26T16:45:27.162Z"
      },
      {
        "duration": 30,
        "start_time": "2022-01-26T16:45:27.173Z"
      },
      {
        "duration": 766,
        "start_time": "2022-01-26T16:45:27.206Z"
      },
      {
        "duration": 1315,
        "start_time": "2022-01-26T16:45:27.974Z"
      },
      {
        "duration": 406,
        "start_time": "2022-01-26T16:45:29.291Z"
      },
      {
        "duration": 417,
        "start_time": "2022-01-26T16:45:29.700Z"
      },
      {
        "duration": 683,
        "start_time": "2022-01-26T16:45:30.119Z"
      },
      {
        "duration": 12,
        "start_time": "2022-01-26T16:45:30.805Z"
      },
      {
        "duration": 258,
        "start_time": "2022-01-26T16:45:30.820Z"
      },
      {
        "duration": 2450,
        "start_time": "2022-01-26T16:45:31.083Z"
      },
      {
        "duration": 2253,
        "start_time": "2022-01-26T16:45:33.536Z"
      },
      {
        "duration": 880,
        "start_time": "2022-01-26T16:45:35.793Z"
      },
      {
        "duration": 873,
        "start_time": "2022-01-26T16:45:36.675Z"
      },
      {
        "duration": 652,
        "start_time": "2022-01-26T16:45:37.551Z"
      },
      {
        "duration": 1122,
        "start_time": "2022-01-26T16:45:38.221Z"
      },
      {
        "duration": 291,
        "start_time": "2022-01-26T16:45:39.349Z"
      },
      {
        "duration": 328,
        "start_time": "2022-01-26T16:45:39.643Z"
      },
      {
        "duration": 359,
        "start_time": "2022-01-26T16:45:39.974Z"
      },
      {
        "duration": 302,
        "start_time": "2022-01-26T16:45:40.336Z"
      },
      {
        "duration": 37,
        "start_time": "2022-01-26T16:45:40.648Z"
      },
      {
        "duration": 87,
        "start_time": "2022-01-26T16:45:40.688Z"
      },
      {
        "duration": 299,
        "start_time": "2022-01-26T16:45:40.777Z"
      },
      {
        "duration": 9,
        "start_time": "2022-01-26T16:45:41.078Z"
      },
      {
        "duration": 863,
        "start_time": "2022-01-26T16:45:41.090Z"
      },
      {
        "duration": 1252,
        "start_time": "2022-01-26T16:45:41.955Z"
      },
      {
        "duration": 360,
        "start_time": "2022-01-26T16:45:43.210Z"
      },
      {
        "duration": 606,
        "start_time": "2022-01-26T16:45:43.573Z"
      },
      {
        "duration": 869,
        "start_time": "2022-01-26T16:45:44.182Z"
      },
      {
        "duration": 319,
        "start_time": "2022-01-26T16:45:45.054Z"
      },
      {
        "duration": 798,
        "start_time": "2022-01-26T16:45:45.377Z"
      },
      {
        "duration": 326,
        "start_time": "2022-01-26T16:45:46.178Z"
      },
      {
        "duration": 393,
        "start_time": "2022-01-26T16:45:46.507Z"
      },
      {
        "duration": 368,
        "start_time": "2022-01-26T16:45:46.904Z"
      },
      {
        "duration": 300,
        "start_time": "2022-01-26T16:47:43.689Z"
      },
      {
        "duration": 318,
        "start_time": "2022-01-26T16:48:02.386Z"
      },
      {
        "duration": 717,
        "start_time": "2022-01-26T16:49:25.448Z"
      },
      {
        "duration": 366,
        "start_time": "2022-01-26T16:49:54.536Z"
      },
      {
        "duration": 1780,
        "start_time": "2022-01-26T16:55:16.156Z"
      },
      {
        "duration": 164,
        "start_time": "2022-01-26T16:55:17.939Z"
      },
      {
        "duration": 19,
        "start_time": "2022-01-26T16:55:18.106Z"
      },
      {
        "duration": 115,
        "start_time": "2022-01-26T16:55:18.150Z"
      },
      {
        "duration": 184,
        "start_time": "2022-01-26T16:55:18.268Z"
      },
      {
        "duration": 111,
        "start_time": "2022-01-26T16:55:18.455Z"
      },
      {
        "duration": 11,
        "start_time": "2022-01-26T16:55:18.569Z"
      },
      {
        "duration": 149,
        "start_time": "2022-01-26T16:55:18.586Z"
      },
      {
        "duration": 79,
        "start_time": "2022-01-26T16:55:18.738Z"
      },
      {
        "duration": 103,
        "start_time": "2022-01-26T16:55:18.819Z"
      },
      {
        "duration": 90,
        "start_time": "2022-01-26T16:55:18.925Z"
      },
      {
        "duration": 74,
        "start_time": "2022-01-26T16:55:19.018Z"
      },
      {
        "duration": 1211,
        "start_time": "2022-01-26T16:55:19.095Z"
      },
      {
        "duration": 7,
        "start_time": "2022-01-26T16:55:20.309Z"
      },
      {
        "duration": 30,
        "start_time": "2022-01-26T16:55:20.318Z"
      },
      {
        "duration": 808,
        "start_time": "2022-01-26T16:55:20.351Z"
      },
      {
        "duration": 873,
        "start_time": "2022-01-26T16:55:21.162Z"
      },
      {
        "duration": 461,
        "start_time": "2022-01-26T16:55:22.038Z"
      },
      {
        "duration": 423,
        "start_time": "2022-01-26T16:55:22.502Z"
      },
      {
        "duration": 767,
        "start_time": "2022-01-26T16:55:22.928Z"
      },
      {
        "duration": 9,
        "start_time": "2022-01-26T16:55:23.698Z"
      },
      {
        "duration": 277,
        "start_time": "2022-01-26T16:55:23.709Z"
      },
      {
        "duration": 2186,
        "start_time": "2022-01-26T16:55:23.994Z"
      },
      {
        "duration": 2020,
        "start_time": "2022-01-26T16:55:26.183Z"
      },
      {
        "duration": 865,
        "start_time": "2022-01-26T16:55:28.205Z"
      },
      {
        "duration": 1012,
        "start_time": "2022-01-26T16:55:29.072Z"
      },
      {
        "duration": 853,
        "start_time": "2022-01-26T16:55:30.086Z"
      },
      {
        "duration": 296,
        "start_time": "2022-01-26T16:55:30.949Z"
      },
      {
        "duration": 448,
        "start_time": "2022-01-26T16:55:31.249Z"
      },
      {
        "duration": 413,
        "start_time": "2022-01-26T16:55:31.701Z"
      },
      {
        "duration": 325,
        "start_time": "2022-01-26T16:55:32.117Z"
      },
      {
        "duration": 38,
        "start_time": "2022-01-26T16:55:32.445Z"
      },
      {
        "duration": 118,
        "start_time": "2022-01-26T16:55:32.486Z"
      },
      {
        "duration": 331,
        "start_time": "2022-01-26T16:55:32.607Z"
      },
      {
        "duration": 14,
        "start_time": "2022-01-26T16:55:32.942Z"
      },
      {
        "duration": 692,
        "start_time": "2022-01-26T16:55:32.958Z"
      },
      {
        "duration": 1096,
        "start_time": "2022-01-26T16:55:33.653Z"
      },
      {
        "duration": 351,
        "start_time": "2022-01-26T16:55:34.752Z"
      },
      {
        "duration": 560,
        "start_time": "2022-01-26T16:55:35.105Z"
      },
      {
        "duration": 690,
        "start_time": "2022-01-26T16:55:35.668Z"
      },
      {
        "duration": 301,
        "start_time": "2022-01-26T16:55:36.361Z"
      },
      {
        "duration": 576,
        "start_time": "2022-01-26T16:55:36.664Z"
      },
      {
        "duration": 328,
        "start_time": "2022-01-26T16:55:37.242Z"
      },
      {
        "duration": 376,
        "start_time": "2022-01-26T16:55:37.573Z"
      },
      {
        "duration": 302,
        "start_time": "2022-01-26T16:55:37.951Z"
      },
      {
        "duration": 434,
        "start_time": "2022-01-27T13:28:49.874Z"
      },
      {
        "duration": 1102,
        "start_time": "2022-01-27T13:28:55.378Z"
      },
      {
        "duration": 119,
        "start_time": "2022-01-27T13:28:56.482Z"
      },
      {
        "duration": 14,
        "start_time": "2022-01-27T13:28:56.603Z"
      },
      {
        "duration": 81,
        "start_time": "2022-01-27T13:28:56.619Z"
      },
      {
        "duration": 105,
        "start_time": "2022-01-27T13:28:56.701Z"
      },
      {
        "duration": 49,
        "start_time": "2022-01-27T13:28:56.807Z"
      },
      {
        "duration": 17,
        "start_time": "2022-01-27T13:28:56.858Z"
      },
      {
        "duration": 95,
        "start_time": "2022-01-27T13:28:56.878Z"
      },
      {
        "duration": 48,
        "start_time": "2022-01-27T13:28:56.975Z"
      },
      {
        "duration": 63,
        "start_time": "2022-01-27T13:28:57.024Z"
      },
      {
        "duration": 39,
        "start_time": "2022-01-27T13:28:57.089Z"
      },
      {
        "duration": 45,
        "start_time": "2022-01-27T13:28:57.130Z"
      },
      {
        "duration": 601,
        "start_time": "2022-01-27T13:28:57.177Z"
      },
      {
        "duration": 4,
        "start_time": "2022-01-27T13:28:57.780Z"
      },
      {
        "duration": 5,
        "start_time": "2022-01-27T13:28:57.786Z"
      },
      {
        "duration": 432,
        "start_time": "2022-01-27T13:28:57.792Z"
      },
      {
        "duration": 450,
        "start_time": "2022-01-27T13:28:58.226Z"
      },
      {
        "duration": 219,
        "start_time": "2022-01-27T13:28:58.677Z"
      },
      {
        "duration": 226,
        "start_time": "2022-01-27T13:28:58.898Z"
      },
      {
        "duration": 368,
        "start_time": "2022-01-27T13:28:59.125Z"
      },
      {
        "duration": 5,
        "start_time": "2022-01-27T13:28:59.495Z"
      },
      {
        "duration": 146,
        "start_time": "2022-01-27T13:28:59.501Z"
      },
      {
        "duration": 1055,
        "start_time": "2022-01-27T13:28:59.650Z"
      },
      {
        "duration": 990,
        "start_time": "2022-01-27T13:29:00.706Z"
      },
      {
        "duration": 555,
        "start_time": "2022-01-27T13:29:01.698Z"
      },
      {
        "duration": 519,
        "start_time": "2022-01-27T13:29:02.255Z"
      },
      {
        "duration": 516,
        "start_time": "2022-01-27T13:29:02.776Z"
      },
      {
        "duration": 171,
        "start_time": "2022-01-27T13:29:03.293Z"
      },
      {
        "duration": 275,
        "start_time": "2022-01-27T13:29:03.466Z"
      },
      {
        "duration": 209,
        "start_time": "2022-01-27T13:29:03.742Z"
      },
      {
        "duration": 174,
        "start_time": "2022-01-27T13:29:03.952Z"
      },
      {
        "duration": 22,
        "start_time": "2022-01-27T13:29:04.128Z"
      },
      {
        "duration": 48,
        "start_time": "2022-01-27T13:29:04.152Z"
      },
      {
        "duration": 163,
        "start_time": "2022-01-27T13:29:04.202Z"
      },
      {
        "duration": 8,
        "start_time": "2022-01-27T13:29:04.367Z"
      },
      {
        "duration": 390,
        "start_time": "2022-01-27T13:29:04.377Z"
      },
      {
        "duration": 520,
        "start_time": "2022-01-27T13:29:04.772Z"
      },
      {
        "duration": 205,
        "start_time": "2022-01-27T13:29:05.294Z"
      },
      {
        "duration": 288,
        "start_time": "2022-01-27T13:29:05.501Z"
      },
      {
        "duration": 437,
        "start_time": "2022-01-27T13:29:05.791Z"
      },
      {
        "duration": 160,
        "start_time": "2022-01-27T13:29:06.230Z"
      },
      {
        "duration": 346,
        "start_time": "2022-01-27T13:29:06.391Z"
      },
      {
        "duration": 182,
        "start_time": "2022-01-27T13:29:06.738Z"
      },
      {
        "duration": 201,
        "start_time": "2022-01-27T13:29:06.922Z"
      },
      {
        "duration": 177,
        "start_time": "2022-01-27T13:29:07.125Z"
      },
      {
        "duration": 217,
        "start_time": "2022-01-27T13:30:21.180Z"
      },
      {
        "duration": 215,
        "start_time": "2022-01-27T13:30:54.286Z"
      },
      {
        "duration": 214,
        "start_time": "2022-01-27T13:31:11.167Z"
      },
      {
        "duration": 223,
        "start_time": "2022-01-27T13:32:01.063Z"
      },
      {
        "duration": 674,
        "start_time": "2022-01-27T13:39:56.090Z"
      },
      {
        "duration": 287,
        "start_time": "2022-01-27T13:40:04.275Z"
      },
      {
        "duration": 221,
        "start_time": "2022-01-27T13:40:13.162Z"
      },
      {
        "duration": 227,
        "start_time": "2022-01-27T13:44:27.025Z"
      },
      {
        "duration": 210,
        "start_time": "2022-01-27T13:44:48.945Z"
      },
      {
        "duration": 113,
        "start_time": "2022-01-27T13:47:58.004Z"
      },
      {
        "duration": 319,
        "start_time": "2022-01-27T13:58:23.873Z"
      },
      {
        "duration": 112,
        "start_time": "2022-01-27T13:58:52.147Z"
      },
      {
        "duration": 159,
        "start_time": "2022-01-27T13:59:59.440Z"
      },
      {
        "duration": 160,
        "start_time": "2022-01-27T14:00:24.875Z"
      },
      {
        "duration": 325,
        "start_time": "2022-01-27T14:07:43.064Z"
      },
      {
        "duration": 409,
        "start_time": "2022-01-27T14:08:13.297Z"
      },
      {
        "duration": 127,
        "start_time": "2022-01-27T14:18:44.353Z"
      },
      {
        "duration": 127,
        "start_time": "2022-01-27T14:19:21.098Z"
      },
      {
        "duration": 141,
        "start_time": "2022-01-27T14:20:17.362Z"
      },
      {
        "duration": 468,
        "start_time": "2022-01-27T14:24:19.082Z"
      },
      {
        "duration": 157,
        "start_time": "2022-01-27T14:27:13.071Z"
      },
      {
        "duration": 174,
        "start_time": "2022-01-27T14:28:26.150Z"
      },
      {
        "duration": 1034,
        "start_time": "2022-01-27T14:36:09.101Z"
      },
      {
        "duration": 1333,
        "start_time": "2022-01-27T14:37:46.891Z"
      },
      {
        "duration": 2,
        "start_time": "2022-01-27T14:38:56.876Z"
      },
      {
        "duration": 118,
        "start_time": "2022-01-27T14:38:56.882Z"
      },
      {
        "duration": 10,
        "start_time": "2022-01-27T14:38:57.001Z"
      },
      {
        "duration": 88,
        "start_time": "2022-01-27T14:38:57.013Z"
      },
      {
        "duration": 109,
        "start_time": "2022-01-27T14:38:57.102Z"
      },
      {
        "duration": 42,
        "start_time": "2022-01-27T14:38:57.212Z"
      },
      {
        "duration": 18,
        "start_time": "2022-01-27T14:38:57.256Z"
      },
      {
        "duration": 77,
        "start_time": "2022-01-27T14:38:57.275Z"
      },
      {
        "duration": 52,
        "start_time": "2022-01-27T14:38:57.355Z"
      },
      {
        "duration": 45,
        "start_time": "2022-01-27T14:38:57.409Z"
      },
      {
        "duration": 51,
        "start_time": "2022-01-27T14:38:57.456Z"
      },
      {
        "duration": 28,
        "start_time": "2022-01-27T14:38:57.508Z"
      },
      {
        "duration": 682,
        "start_time": "2022-01-27T14:38:57.538Z"
      },
      {
        "duration": 3,
        "start_time": "2022-01-27T14:38:58.222Z"
      },
      {
        "duration": 5,
        "start_time": "2022-01-27T14:38:58.226Z"
      },
      {
        "duration": 409,
        "start_time": "2022-01-27T14:38:58.233Z"
      },
      {
        "duration": 403,
        "start_time": "2022-01-27T14:38:58.643Z"
      },
      {
        "duration": 241,
        "start_time": "2022-01-27T14:38:59.048Z"
      },
      {
        "duration": 235,
        "start_time": "2022-01-27T14:38:59.290Z"
      },
      {
        "duration": 409,
        "start_time": "2022-01-27T14:38:59.526Z"
      },
      {
        "duration": 5,
        "start_time": "2022-01-27T14:38:59.937Z"
      },
      {
        "duration": 149,
        "start_time": "2022-01-27T14:38:59.943Z"
      },
      {
        "duration": 1099,
        "start_time": "2022-01-27T14:39:00.093Z"
      },
      {
        "duration": 977,
        "start_time": "2022-01-27T14:39:01.195Z"
      },
      {
        "duration": 169,
        "start_time": "2022-01-27T14:39:02.174Z"
      },
      {
        "duration": 1089,
        "start_time": "2022-01-27T14:39:02.344Z"
      },
      {
        "duration": 532,
        "start_time": "2022-01-27T14:39:03.435Z"
      },
      {
        "duration": 505,
        "start_time": "2022-01-27T14:39:03.968Z"
      },
      {
        "duration": 500,
        "start_time": "2022-01-27T14:39:04.475Z"
      },
      {
        "duration": 156,
        "start_time": "2022-01-27T14:39:04.977Z"
      },
      {
        "duration": 175,
        "start_time": "2022-01-27T14:39:05.135Z"
      },
      {
        "duration": 276,
        "start_time": "2022-01-27T14:39:05.311Z"
      },
      {
        "duration": 171,
        "start_time": "2022-01-27T14:39:05.589Z"
      },
      {
        "duration": 25,
        "start_time": "2022-01-27T14:39:05.762Z"
      },
      {
        "duration": 37,
        "start_time": "2022-01-27T14:39:05.789Z"
      },
      {
        "duration": 177,
        "start_time": "2022-01-27T14:39:05.828Z"
      },
      {
        "duration": 7,
        "start_time": "2022-01-27T14:39:06.007Z"
      },
      {
        "duration": 363,
        "start_time": "2022-01-27T14:39:06.015Z"
      },
      {
        "duration": 510,
        "start_time": "2022-01-27T14:39:06.379Z"
      },
      {
        "duration": 196,
        "start_time": "2022-01-27T14:39:06.891Z"
      },
      {
        "duration": 273,
        "start_time": "2022-01-27T14:39:07.089Z"
      },
      {
        "duration": 359,
        "start_time": "2022-01-27T14:39:07.364Z"
      },
      {
        "duration": 253,
        "start_time": "2022-01-27T14:39:07.725Z"
      },
      {
        "duration": 358,
        "start_time": "2022-01-27T14:39:07.979Z"
      },
      {
        "duration": 188,
        "start_time": "2022-01-27T14:39:08.338Z"
      },
      {
        "duration": 210,
        "start_time": "2022-01-27T14:39:08.528Z"
      },
      {
        "duration": 168,
        "start_time": "2022-01-27T14:39:08.740Z"
      },
      {
        "duration": 979,
        "start_time": "2022-01-27T14:39:46.605Z"
      },
      {
        "duration": 1044,
        "start_time": "2022-01-27T14:42:42.065Z"
      },
      {
        "duration": 1050,
        "start_time": "2022-01-27T14:42:48.640Z"
      },
      {
        "duration": 987,
        "start_time": "2022-01-27T14:43:36.975Z"
      },
      {
        "duration": 1281,
        "start_time": "2022-01-27T14:45:32.265Z"
      },
      {
        "duration": 1994,
        "start_time": "2022-01-27T14:45:54.440Z"
      },
      {
        "duration": 1247,
        "start_time": "2022-01-27T14:47:43.080Z"
      },
      {
        "duration": 1215,
        "start_time": "2022-01-27T14:48:06.663Z"
      },
      {
        "duration": 1131,
        "start_time": "2022-01-27T14:55:37.398Z"
      },
      {
        "duration": 1218,
        "start_time": "2022-01-27T14:56:49.213Z"
      },
      {
        "duration": 1358,
        "start_time": "2022-01-27T14:58:07.076Z"
      },
      {
        "duration": 1136,
        "start_time": "2022-01-27T14:58:25.659Z"
      },
      {
        "duration": 1217,
        "start_time": "2022-01-27T14:59:06.708Z"
      },
      {
        "duration": 1152,
        "start_time": "2022-01-27T15:22:31.167Z"
      },
      {
        "duration": 237,
        "start_time": "2022-01-27T15:27:34.161Z"
      },
      {
        "duration": 1143,
        "start_time": "2022-01-27T15:28:12.655Z"
      },
      {
        "duration": 1073,
        "start_time": "2022-01-27T15:29:16.015Z"
      },
      {
        "duration": 1030,
        "start_time": "2022-01-27T15:35:23.924Z"
      },
      {
        "duration": 1157,
        "start_time": "2022-01-27T15:35:35.374Z"
      },
      {
        "duration": 677,
        "start_time": "2022-01-27T15:37:01.571Z"
      },
      {
        "duration": 451,
        "start_time": "2022-01-27T15:37:12.547Z"
      },
      {
        "duration": 462,
        "start_time": "2022-01-27T15:37:32.756Z"
      },
      {
        "duration": 516,
        "start_time": "2022-01-27T15:38:01.331Z"
      },
      {
        "duration": 932,
        "start_time": "2022-01-27T15:45:41.186Z"
      },
      {
        "duration": 509,
        "start_time": "2022-01-27T15:46:54.199Z"
      },
      {
        "duration": 140,
        "start_time": "2022-01-27T15:47:34.768Z"
      },
      {
        "duration": 933,
        "start_time": "2022-01-27T15:50:59.392Z"
      },
      {
        "duration": 371,
        "start_time": "2022-01-27T15:51:15.166Z"
      },
      {
        "duration": 514,
        "start_time": "2022-01-27T15:51:23.149Z"
      },
      {
        "duration": 276,
        "start_time": "2022-01-27T15:51:32.854Z"
      },
      {
        "duration": 237,
        "start_time": "2022-01-27T15:51:41.605Z"
      },
      {
        "duration": 273,
        "start_time": "2022-01-27T15:51:46.005Z"
      },
      {
        "duration": 147,
        "start_time": "2022-01-27T15:54:07.781Z"
      },
      {
        "duration": 292,
        "start_time": "2022-01-27T16:04:56.770Z"
      },
      {
        "duration": 282,
        "start_time": "2022-01-27T16:05:30.324Z"
      },
      {
        "duration": 279,
        "start_time": "2022-01-27T16:05:53.496Z"
      },
      {
        "duration": 313,
        "start_time": "2022-01-27T16:05:59.064Z"
      },
      {
        "duration": 495,
        "start_time": "2022-01-27T16:06:23.113Z"
      },
      {
        "duration": 589,
        "start_time": "2022-01-27T16:06:52.496Z"
      },
      {
        "duration": 171,
        "start_time": "2022-01-27T16:07:17.921Z"
      },
      {
        "duration": 448,
        "start_time": "2022-01-27T16:09:02.056Z"
      },
      {
        "duration": 438,
        "start_time": "2022-01-27T16:09:23.095Z"
      },
      {
        "duration": 298,
        "start_time": "2022-01-27T16:10:06.174Z"
      },
      {
        "duration": 249,
        "start_time": "2022-01-27T16:11:08.095Z"
      },
      {
        "duration": 274,
        "start_time": "2022-01-27T16:18:16.356Z"
      },
      {
        "duration": 276,
        "start_time": "2022-01-27T16:18:27.761Z"
      },
      {
        "duration": 290,
        "start_time": "2022-01-27T16:19:09.658Z"
      },
      {
        "duration": 294,
        "start_time": "2022-01-27T16:19:23.729Z"
      },
      {
        "duration": 294,
        "start_time": "2022-01-27T16:19:31.432Z"
      },
      {
        "duration": 248,
        "start_time": "2022-01-27T16:19:45.289Z"
      },
      {
        "duration": 239,
        "start_time": "2022-01-27T16:19:56.505Z"
      },
      {
        "duration": 234,
        "start_time": "2022-01-27T16:20:01.817Z"
      },
      {
        "duration": 246,
        "start_time": "2022-01-27T16:20:05.656Z"
      },
      {
        "duration": 1341,
        "start_time": "2022-01-27T16:20:15.776Z"
      },
      {
        "duration": 115,
        "start_time": "2022-01-27T16:20:17.118Z"
      },
      {
        "duration": 14,
        "start_time": "2022-01-27T16:20:17.236Z"
      },
      {
        "duration": 142,
        "start_time": "2022-01-27T16:20:17.252Z"
      },
      {
        "duration": 125,
        "start_time": "2022-01-27T16:20:17.397Z"
      },
      {
        "duration": 60,
        "start_time": "2022-01-27T16:20:17.524Z"
      },
      {
        "duration": 8,
        "start_time": "2022-01-27T16:20:17.586Z"
      },
      {
        "duration": 104,
        "start_time": "2022-01-27T16:20:17.597Z"
      },
      {
        "duration": 70,
        "start_time": "2022-01-27T16:20:17.703Z"
      },
      {
        "duration": 58,
        "start_time": "2022-01-27T16:20:17.775Z"
      },
      {
        "duration": 100,
        "start_time": "2022-01-27T16:20:17.836Z"
      },
      {
        "duration": 63,
        "start_time": "2022-01-27T16:20:17.938Z"
      },
      {
        "duration": 1039,
        "start_time": "2022-01-27T16:20:18.003Z"
      },
      {
        "duration": 6,
        "start_time": "2022-01-27T16:20:19.044Z"
      },
      {
        "duration": 20,
        "start_time": "2022-01-27T16:20:19.052Z"
      },
      {
        "duration": 750,
        "start_time": "2022-01-27T16:20:19.074Z"
      },
      {
        "duration": 857,
        "start_time": "2022-01-27T16:20:19.827Z"
      },
      {
        "duration": 407,
        "start_time": "2022-01-27T16:20:20.686Z"
      },
      {
        "duration": 403,
        "start_time": "2022-01-27T16:20:21.095Z"
      },
      {
        "duration": 708,
        "start_time": "2022-01-27T16:20:21.500Z"
      },
      {
        "duration": 7,
        "start_time": "2022-01-27T16:20:22.211Z"
      },
      {
        "duration": 254,
        "start_time": "2022-01-27T16:20:22.220Z"
      },
      {
        "duration": 2002,
        "start_time": "2022-01-27T16:20:22.480Z"
      },
      {
        "duration": 1869,
        "start_time": "2022-01-27T16:20:24.484Z"
      },
      {
        "duration": 175,
        "start_time": "2022-01-27T16:20:26.355Z"
      },
      {
        "duration": 325,
        "start_time": "2022-01-27T16:20:26.531Z"
      },
      {
        "duration": 159,
        "start_time": "2022-01-27T16:20:26.858Z"
      },
      {
        "duration": 406,
        "start_time": "2022-01-27T16:20:27.019Z"
      },
      {
        "duration": 169,
        "start_time": "2022-01-27T16:20:27.426Z"
      },
      {
        "duration": 319,
        "start_time": "2022-01-27T16:20:27.597Z"
      },
      {
        "duration": 179,
        "start_time": "2022-01-27T16:20:27.918Z"
      },
      {
        "duration": 224,
        "start_time": "2022-01-27T16:20:28.099Z"
      },
      {
        "duration": 534,
        "start_time": "2022-01-27T16:20:28.324Z"
      },
      {
        "duration": 510,
        "start_time": "2022-01-27T16:20:28.860Z"
      },
      {
        "duration": 510,
        "start_time": "2022-01-27T16:20:29.372Z"
      },
      {
        "duration": 169,
        "start_time": "2022-01-27T16:20:29.884Z"
      },
      {
        "duration": 184,
        "start_time": "2022-01-27T16:20:30.054Z"
      },
      {
        "duration": 280,
        "start_time": "2022-01-27T16:20:30.239Z"
      },
      {
        "duration": 179,
        "start_time": "2022-01-27T16:20:30.520Z"
      },
      {
        "duration": 23,
        "start_time": "2022-01-27T16:20:30.701Z"
      },
      {
        "duration": 76,
        "start_time": "2022-01-27T16:20:30.726Z"
      },
      {
        "duration": 280,
        "start_time": "2022-01-27T16:20:30.805Z"
      },
      {
        "duration": 9,
        "start_time": "2022-01-27T16:20:31.087Z"
      },
      {
        "duration": 495,
        "start_time": "2022-01-27T16:20:31.098Z"
      },
      {
        "duration": 562,
        "start_time": "2022-01-27T16:20:31.594Z"
      },
      {
        "duration": 208,
        "start_time": "2022-01-27T16:20:32.157Z"
      },
      {
        "duration": 300,
        "start_time": "2022-01-27T16:20:32.366Z"
      },
      {
        "duration": 381,
        "start_time": "2022-01-27T16:20:32.667Z"
      },
      {
        "duration": 261,
        "start_time": "2022-01-27T16:20:33.050Z"
      },
      {
        "duration": 367,
        "start_time": "2022-01-27T16:20:33.313Z"
      },
      {
        "duration": 195,
        "start_time": "2022-01-27T16:20:33.682Z"
      },
      {
        "duration": 218,
        "start_time": "2022-01-27T16:20:33.879Z"
      },
      {
        "duration": 187,
        "start_time": "2022-01-27T16:20:34.098Z"
      },
      {
        "duration": 236,
        "start_time": "2022-01-27T16:20:48.410Z"
      },
      {
        "duration": 210,
        "start_time": "2022-01-27T16:20:53.946Z"
      },
      {
        "duration": 1517,
        "start_time": "2022-01-27T16:20:59.880Z"
      },
      {
        "duration": 165,
        "start_time": "2022-01-27T16:21:01.399Z"
      },
      {
        "duration": 16,
        "start_time": "2022-01-27T16:21:01.567Z"
      },
      {
        "duration": 127,
        "start_time": "2022-01-27T16:21:01.586Z"
      },
      {
        "duration": 181,
        "start_time": "2022-01-27T16:21:01.716Z"
      },
      {
        "duration": 94,
        "start_time": "2022-01-27T16:21:01.900Z"
      },
      {
        "duration": 9,
        "start_time": "2022-01-27T16:21:01.996Z"
      },
      {
        "duration": 145,
        "start_time": "2022-01-27T16:21:02.009Z"
      },
      {
        "duration": 87,
        "start_time": "2022-01-27T16:21:02.157Z"
      },
      {
        "duration": 89,
        "start_time": "2022-01-27T16:21:02.246Z"
      },
      {
        "duration": 83,
        "start_time": "2022-01-27T16:21:02.337Z"
      },
      {
        "duration": 57,
        "start_time": "2022-01-27T16:21:02.422Z"
      },
      {
        "duration": 1092,
        "start_time": "2022-01-27T16:21:02.481Z"
      },
      {
        "duration": 5,
        "start_time": "2022-01-27T16:21:03.575Z"
      },
      {
        "duration": 8,
        "start_time": "2022-01-27T16:21:03.582Z"
      },
      {
        "duration": 745,
        "start_time": "2022-01-27T16:21:03.593Z"
      },
      {
        "duration": 823,
        "start_time": "2022-01-27T16:21:04.340Z"
      },
      {
        "duration": 386,
        "start_time": "2022-01-27T16:21:05.172Z"
      },
      {
        "duration": 386,
        "start_time": "2022-01-27T16:21:05.560Z"
      },
      {
        "duration": 683,
        "start_time": "2022-01-27T16:21:05.948Z"
      },
      {
        "duration": 7,
        "start_time": "2022-01-27T16:21:06.633Z"
      },
      {
        "duration": 244,
        "start_time": "2022-01-27T16:21:06.642Z"
      },
      {
        "duration": 2024,
        "start_time": "2022-01-27T16:21:06.891Z"
      },
      {
        "duration": 1889,
        "start_time": "2022-01-27T16:21:08.918Z"
      },
      {
        "duration": 182,
        "start_time": "2022-01-27T16:21:10.809Z"
      },
      {
        "duration": 321,
        "start_time": "2022-01-27T16:21:10.993Z"
      },
      {
        "duration": 240,
        "start_time": "2022-01-27T16:21:11.315Z"
      },
      {
        "duration": 436,
        "start_time": "2022-01-27T16:21:11.556Z"
      },
      {
        "duration": 166,
        "start_time": "2022-01-27T16:21:11.994Z"
      },
      {
        "duration": 289,
        "start_time": "2022-01-27T16:21:12.162Z"
      },
      {
        "duration": 167,
        "start_time": "2022-01-27T16:21:12.452Z"
      },
      {
        "duration": 222,
        "start_time": "2022-01-27T16:21:12.620Z"
      },
      {
        "duration": 557,
        "start_time": "2022-01-27T16:21:12.844Z"
      },
      {
        "duration": 591,
        "start_time": "2022-01-27T16:21:13.402Z"
      },
      {
        "duration": 531,
        "start_time": "2022-01-27T16:21:13.994Z"
      },
      {
        "duration": 268,
        "start_time": "2022-01-27T16:21:14.528Z"
      },
      {
        "duration": 189,
        "start_time": "2022-01-27T16:21:14.798Z"
      },
      {
        "duration": 285,
        "start_time": "2022-01-27T16:21:14.989Z"
      },
      {
        "duration": 184,
        "start_time": "2022-01-27T16:21:15.276Z"
      },
      {
        "duration": 26,
        "start_time": "2022-01-27T16:21:15.462Z"
      },
      {
        "duration": 40,
        "start_time": "2022-01-27T16:21:15.489Z"
      },
      {
        "duration": 181,
        "start_time": "2022-01-27T16:21:15.531Z"
      },
      {
        "duration": 6,
        "start_time": "2022-01-27T16:21:15.713Z"
      },
      {
        "duration": 378,
        "start_time": "2022-01-27T16:21:15.721Z"
      },
      {
        "duration": 519,
        "start_time": "2022-01-27T16:21:16.100Z"
      },
      {
        "duration": 203,
        "start_time": "2022-01-27T16:21:16.620Z"
      },
      {
        "duration": 286,
        "start_time": "2022-01-27T16:21:16.825Z"
      },
      {
        "duration": 327,
        "start_time": "2022-01-27T16:21:17.113Z"
      },
      {
        "duration": 363,
        "start_time": "2022-01-27T16:21:17.443Z"
      },
      {
        "duration": 497,
        "start_time": "2022-01-27T16:21:17.808Z"
      },
      {
        "duration": 283,
        "start_time": "2022-01-27T16:21:18.307Z"
      },
      {
        "duration": 316,
        "start_time": "2022-01-27T16:21:18.592Z"
      },
      {
        "duration": 269,
        "start_time": "2022-01-27T16:21:18.910Z"
      },
      {
        "duration": 1133,
        "start_time": "2022-01-27T16:22:07.589Z"
      },
      {
        "duration": 113,
        "start_time": "2022-01-27T16:22:08.724Z"
      },
      {
        "duration": 11,
        "start_time": "2022-01-27T16:22:08.839Z"
      },
      {
        "duration": 82,
        "start_time": "2022-01-27T16:22:08.852Z"
      },
      {
        "duration": 121,
        "start_time": "2022-01-27T16:22:08.935Z"
      },
      {
        "duration": 54,
        "start_time": "2022-01-27T16:22:09.057Z"
      },
      {
        "duration": 6,
        "start_time": "2022-01-27T16:22:09.113Z"
      },
      {
        "duration": 98,
        "start_time": "2022-01-27T16:22:09.122Z"
      },
      {
        "duration": 52,
        "start_time": "2022-01-27T16:22:09.222Z"
      },
      {
        "duration": 45,
        "start_time": "2022-01-27T16:22:09.276Z"
      },
      {
        "duration": 61,
        "start_time": "2022-01-27T16:22:09.322Z"
      },
      {
        "duration": 29,
        "start_time": "2022-01-27T16:22:09.384Z"
      },
      {
        "duration": 592,
        "start_time": "2022-01-27T16:22:09.414Z"
      },
      {
        "duration": 5,
        "start_time": "2022-01-27T16:22:10.007Z"
      },
      {
        "duration": 9,
        "start_time": "2022-01-27T16:22:10.013Z"
      },
      {
        "duration": 432,
        "start_time": "2022-01-27T16:22:10.024Z"
      },
      {
        "duration": 804,
        "start_time": "2022-01-27T16:22:10.457Z"
      },
      {
        "duration": 370,
        "start_time": "2022-01-27T16:22:11.263Z"
      },
      {
        "duration": 366,
        "start_time": "2022-01-27T16:22:11.635Z"
      },
      {
        "duration": 662,
        "start_time": "2022-01-27T16:22:12.003Z"
      },
      {
        "duration": 7,
        "start_time": "2022-01-27T16:22:12.671Z"
      },
      {
        "duration": 143,
        "start_time": "2022-01-27T16:22:12.679Z"
      },
      {
        "duration": 1194,
        "start_time": "2022-01-27T16:22:12.826Z"
      },
      {
        "duration": 1058,
        "start_time": "2022-01-27T16:22:14.023Z"
      },
      {
        "duration": 165,
        "start_time": "2022-01-27T16:22:15.083Z"
      },
      {
        "duration": 334,
        "start_time": "2022-01-27T16:22:15.250Z"
      },
      {
        "duration": 166,
        "start_time": "2022-01-27T16:22:15.586Z"
      },
      {
        "duration": 442,
        "start_time": "2022-01-27T16:22:15.753Z"
      },
      {
        "duration": 181,
        "start_time": "2022-01-27T16:22:16.197Z"
      },
      {
        "duration": 411,
        "start_time": "2022-01-27T16:22:16.380Z"
      },
      {
        "duration": 185,
        "start_time": "2022-01-27T16:22:16.793Z"
      },
      {
        "duration": 239,
        "start_time": "2022-01-27T16:22:16.980Z"
      },
      {
        "duration": 558,
        "start_time": "2022-01-27T16:22:17.220Z"
      },
      {
        "duration": 613,
        "start_time": "2022-01-27T16:22:17.780Z"
      },
      {
        "duration": 600,
        "start_time": "2022-01-27T16:22:18.395Z"
      },
      {
        "duration": 185,
        "start_time": "2022-01-27T16:22:18.997Z"
      },
      {
        "duration": 190,
        "start_time": "2022-01-27T16:22:19.184Z"
      },
      {
        "duration": 366,
        "start_time": "2022-01-27T16:22:19.376Z"
      },
      {
        "duration": 207,
        "start_time": "2022-01-27T16:22:19.745Z"
      },
      {
        "duration": 39,
        "start_time": "2022-01-27T16:22:19.954Z"
      },
      {
        "duration": 42,
        "start_time": "2022-01-27T16:22:19.995Z"
      },
      {
        "duration": 180,
        "start_time": "2022-01-27T16:22:20.039Z"
      },
      {
        "duration": 7,
        "start_time": "2022-01-27T16:22:20.221Z"
      },
      {
        "duration": 419,
        "start_time": "2022-01-27T16:22:20.229Z"
      },
      {
        "duration": 543,
        "start_time": "2022-01-27T16:22:20.650Z"
      },
      {
        "duration": 204,
        "start_time": "2022-01-27T16:22:21.195Z"
      },
      {
        "duration": 308,
        "start_time": "2022-01-27T16:22:21.401Z"
      },
      {
        "duration": 363,
        "start_time": "2022-01-27T16:22:21.711Z"
      },
      {
        "duration": 261,
        "start_time": "2022-01-27T16:22:22.076Z"
      },
      {
        "duration": 383,
        "start_time": "2022-01-27T16:22:22.339Z"
      },
      {
        "duration": 236,
        "start_time": "2022-01-27T16:22:22.724Z"
      },
      {
        "duration": 222,
        "start_time": "2022-01-27T16:22:22.961Z"
      },
      {
        "duration": 188,
        "start_time": "2022-01-27T16:22:23.185Z"
      },
      {
        "duration": 1382,
        "start_time": "2022-11-22T13:03:04.617Z"
      },
      {
        "duration": 371,
        "start_time": "2022-11-22T13:03:06.002Z"
      },
      {
        "duration": 15,
        "start_time": "2022-11-22T13:03:06.375Z"
      },
      {
        "duration": 76,
        "start_time": "2022-11-22T13:03:06.392Z"
      },
      {
        "duration": 123,
        "start_time": "2022-11-22T13:03:06.469Z"
      },
      {
        "duration": 33,
        "start_time": "2022-11-22T13:03:06.595Z"
      },
      {
        "duration": 5,
        "start_time": "2022-11-22T13:03:06.630Z"
      },
      {
        "duration": 77,
        "start_time": "2022-11-22T13:03:06.637Z"
      },
      {
        "duration": 31,
        "start_time": "2022-11-22T13:03:06.715Z"
      },
      {
        "duration": 62,
        "start_time": "2022-11-22T13:03:06.749Z"
      },
      {
        "duration": 30,
        "start_time": "2022-11-22T13:03:06.812Z"
      },
      {
        "duration": 36,
        "start_time": "2022-11-22T13:03:06.844Z"
      },
      {
        "duration": 376,
        "start_time": "2022-11-22T13:03:06.897Z"
      },
      {
        "duration": 4,
        "start_time": "2022-11-22T13:03:07.274Z"
      },
      {
        "duration": 16,
        "start_time": "2022-11-22T13:03:07.280Z"
      },
      {
        "duration": 327,
        "start_time": "2022-11-22T13:03:07.298Z"
      },
      {
        "duration": 344,
        "start_time": "2022-11-22T13:03:07.627Z"
      },
      {
        "duration": 184,
        "start_time": "2022-11-22T13:03:07.973Z"
      },
      {
        "duration": 197,
        "start_time": "2022-11-22T13:03:08.159Z"
      },
      {
        "duration": 367,
        "start_time": "2022-11-22T13:03:08.358Z"
      },
      {
        "duration": 5,
        "start_time": "2022-11-22T13:03:08.727Z"
      },
      {
        "duration": 154,
        "start_time": "2022-11-22T13:03:08.734Z"
      },
      {
        "duration": 795,
        "start_time": "2022-11-22T13:03:08.890Z"
      },
      {
        "duration": 925,
        "start_time": "2022-11-22T13:03:09.686Z"
      },
      {
        "duration": 146,
        "start_time": "2022-11-22T13:03:10.613Z"
      },
      {
        "duration": 263,
        "start_time": "2022-11-22T13:03:10.761Z"
      },
      {
        "duration": 138,
        "start_time": "2022-11-22T13:03:11.026Z"
      },
      {
        "duration": 263,
        "start_time": "2022-11-22T13:03:11.169Z"
      },
      {
        "duration": 140,
        "start_time": "2022-11-22T13:03:11.433Z"
      },
      {
        "duration": 334,
        "start_time": "2022-11-22T13:03:11.574Z"
      },
      {
        "duration": 146,
        "start_time": "2022-11-22T13:03:11.910Z"
      },
      {
        "duration": 188,
        "start_time": "2022-11-22T13:03:12.058Z"
      },
      {
        "duration": 229,
        "start_time": "2022-11-22T13:03:12.248Z"
      },
      {
        "duration": 227,
        "start_time": "2022-11-22T13:03:12.480Z"
      },
      {
        "duration": 219,
        "start_time": "2022-11-22T13:03:12.709Z"
      },
      {
        "duration": 136,
        "start_time": "2022-11-22T13:03:12.930Z"
      },
      {
        "duration": 152,
        "start_time": "2022-11-22T13:03:13.068Z"
      },
      {
        "duration": 177,
        "start_time": "2022-11-22T13:03:13.223Z"
      },
      {
        "duration": 143,
        "start_time": "2022-11-22T13:03:13.402Z"
      },
      {
        "duration": 24,
        "start_time": "2022-11-22T13:03:13.547Z"
      },
      {
        "duration": 60,
        "start_time": "2022-11-22T13:03:13.573Z"
      },
      {
        "duration": 143,
        "start_time": "2022-11-22T13:03:13.635Z"
      },
      {
        "duration": 16,
        "start_time": "2022-11-22T13:03:13.780Z"
      },
      {
        "duration": 388,
        "start_time": "2022-11-22T13:03:13.798Z"
      },
      {
        "duration": 432,
        "start_time": "2022-11-22T13:03:14.188Z"
      },
      {
        "duration": 160,
        "start_time": "2022-11-22T13:03:14.622Z"
      },
      {
        "duration": 237,
        "start_time": "2022-11-22T13:03:14.784Z"
      },
      {
        "duration": 190,
        "start_time": "2022-11-22T13:03:15.022Z"
      },
      {
        "duration": 143,
        "start_time": "2022-11-22T13:03:15.214Z"
      },
      {
        "duration": 184,
        "start_time": "2022-11-22T13:03:15.359Z"
      },
      {
        "duration": 154,
        "start_time": "2022-11-22T13:03:15.544Z"
      },
      {
        "duration": 285,
        "start_time": "2022-11-22T13:03:15.700Z"
      },
      {
        "duration": 171,
        "start_time": "2022-11-22T13:03:15.987Z"
      }
    ],
    "kernelspec": {
      "display_name": "Python 3 (ipykernel)",
      "language": "python",
      "name": "python3"
    },
    "language_info": {
      "codemirror_mode": {
        "name": "ipython",
        "version": 3
      },
      "file_extension": ".py",
      "mimetype": "text/x-python",
      "name": "python",
      "nbconvert_exporter": "python",
      "pygments_lexer": "ipython3",
      "version": "3.9.5"
    },
    "toc": {
      "base_numbering": 1,
      "nav_menu": {},
      "number_sections": false,
      "sideBar": true,
      "skip_h1_title": false,
      "title_cell": "Содержание",
      "title_sidebar": "Contents",
      "toc_cell": true,
      "toc_position": {
        "height": "calc(100% - 180px)",
        "left": "10px",
        "top": "150px",
        "width": "348.352px"
      },
      "toc_section_display": true,
      "toc_window_display": true
    },
    "colab": {
      "provenance": []
    }
  },
  "nbformat": 4,
  "nbformat_minor": 0
}