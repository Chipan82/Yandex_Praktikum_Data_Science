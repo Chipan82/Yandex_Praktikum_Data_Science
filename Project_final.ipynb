{
  "cells": [
    {
      "cell_type": "markdown",
      "metadata": {
        "id": "XovxuECmoR_0"
      },
      "source": [
        "# Прогнозирование оттока клиентов"
      ]
    },
    {
      "cell_type": "markdown",
      "metadata": {
        "id": "LpfEmtpgoR_1"
      },
      "source": [
        "## Описание проекта\n",
        "Оператор связи «Ниединогоразрыва.ком» хочет научиться прогнозировать отток клиентов. Если выяснится, что пользователь планирует уйти, ему будут предложены промокоды и специальные условия. Команда оператора собрала персональные данные о некоторых клиентах, информацию об их тарифах и договорах."
      ]
    },
    {
      "cell_type": "markdown",
      "metadata": {
        "id": "SmANVNsPoR_2"
      },
      "source": [
        "### Описание услуг\n",
        "\n",
        "Оператор предоставляет два основных типа услуг: \n",
        "\n",
        "1. Стационарную телефонную связь. Возможно подключение телефонного аппарата к нескольким линиям одновременно.\n",
        "2. Интернет. Подключение может быть двух типов: через телефонную линию (DSL*,* от англ. *digital subscriber line*, «цифровая абонентская линия») или оптоволоконный кабель (*Fiber optic*)."
      ]
    },
    {
      "cell_type": "markdown",
      "metadata": {
        "id": "jWfZR_OuoR_2"
      },
      "source": [
        "##### Также доступны такие услуги:\n",
        "\n",
        "- Интернет-безопасность: антивирус (*DeviceProtection*) и блокировка небезопасных сайтов (*OnlineSecurity*);\n",
        "- Выделенная линия технической поддержки (*TechSupport*);\n",
        "- Облачное хранилище файлов для резервного копирования данных (*OnlineBackup*);\n",
        "- Стриминговое телевидение (*StreamingTV*) и каталог фильмов (*StreamingMovies*).\n",
        "\n",
        "За услуги клиенты могут платить каждый месяц или заключить договор на 1–2 года. Доступны различные способы расчёта и возможность получения электронного чека."
      ]
    },
    {
      "cell_type": "markdown",
      "metadata": {
        "id": "Gh_zTum2oR_3"
      },
      "source": [
        "### Описание данных\n",
        "\n",
        "Данные состоят из файлов, полученных из разных источников:\n",
        "\n",
        "- `contract.csv` — информация о договоре;\n",
        "- `personal.csv` — персональные данные клиента;\n",
        "- `internet.csv` — информация об интернет-услугах;\n",
        "- `phone.csv` — информация об услугах телефонии.\n"
      ]
    },
    {
      "cell_type": "markdown",
      "metadata": {
        "id": "RiaHtQ0SoR_4"
      },
      "source": [
        "###### contract:\n",
        "\n",
        "    customerID - уникальный идентификатор клиента;\n",
        "    BeginDate - дата начала пользования услугами;\n",
        "    EndDate - дата окончания пользования услугами;\n",
        "    Type - тип оплаты: ежемесячный, годовой и тд;\n",
        "    PaperlessBilling – безналичный расчет;\n",
        "    PaymentMethod – способ оплаты;\n",
        "    MonthlyCharges – ежемесячные траты на услуги;\n",
        "    TotalCharges – всего потрачено денег на услуги.\n",
        "    \n",
        "###### personal:\n",
        "\n",
        "    customerID - уникальный идентификатор клиента;\n",
        "    Gender - пол клиента;\n",
        "    Senior Citizen – наличие пенсионного статуса по возрасту;\n",
        "    Partner – наличие супруга(и);\n",
        "    Dependents – наличие иждивенцев.\n",
        "    \n",
        "###### internet:\n",
        "   \n",
        "    customerID - уникальный идентификатор клиента;\n",
        "    InternetService - Тип интернет-соединения (оптика, DSL);\n",
        "    OnlineSecurity - предоставлнение услуги интернет-безопасности;\n",
        "    OnlineBackup - удаленное резервное копирование данных;\n",
        "    DeviceProtection - защита устройства;\n",
        "    TechSupport - техническая поддержка;\n",
        "    StreamingTV - услуга потоковой трансляции TV;\n",
        "    StreamingMovies - слуга потоковой трансляции фильмов.\n",
        "    \n",
        "###### phone:\n",
        "    \n",
        "    customerID - уникальный идентификатор клиента;\n",
        "    MultipleLines – наличие возможности ведения параллельных линий во время звонка.\n",
        "    \n",
        "\n",
        "Информация о договорах актуальна на 1 февраля 2020."
      ]
    },
    {
      "cell_type": "markdown",
      "metadata": {
        "id": "ACWcVT2foR_5"
      },
      "source": [
        "#### План выполнения проекта\n",
        "\n",
        "1. Загрузка и изучение данных\n",
        "2. Предобработка данных\n",
        "3. Обучение моделей\n",
        "4. Тестирование модели\n",
        "5. Общий вывод"
      ]
    },
    {
      "cell_type": "markdown",
      "metadata": {
        "id": "H0AvShi2oR_5"
      },
      "source": [
        "### Загрузка и изучение данных"
      ]
    },
    {
      "cell_type": "code",
      "execution_count": null,
      "metadata": {
        "id": "_k6AHG25oR_6"
      },
      "outputs": [],
      "source": [
        "import pandas as pd\n",
        "import numpy as np\n",
        "import seaborn as sns\n",
        "import matplotlib.pyplot as plt\n",
        "from sklearn.preprocessing import StandardScaler\n",
        "from sklearn.model_selection import train_test_split, GridSearchCV\n",
        "from sklearn.metrics import roc_auc_score, accuracy_score, roc_curve, make_scorer\n",
        "from sklearn.linear_model import LogisticRegression\n",
        "from sklearn.ensemble import RandomForestClassifier\n",
        "from sklearn.tree import DecisionTreeClassifier\n",
        "from catboost import CatBoostClassifier\n",
        "\n",
        "import warnings\n",
        "warnings.filterwarnings(\"ignore\")"
      ]
    },
    {
      "cell_type": "code",
      "execution_count": null,
      "metadata": {
        "id": "xtpZp1nnoR_7"
      },
      "outputs": [],
      "source": [
        "contract = pd.read_csv('/datasets/final_provider/contract.csv')\n",
        "personal = pd.read_csv('/datasets/final_provider/personal.csv')\n",
        "internet = pd.read_csv('/datasets/final_provider/internet.csv')\n",
        "phone = pd.read_csv('/datasets/final_provider/phone.csv')"
      ]
    },
    {
      "cell_type": "markdown",
      "metadata": {
        "id": "z3-h1qe1oR_8"
      },
      "source": [
        "Выведем основную информацию о наших данных"
      ]
    },
    {
      "cell_type": "code",
      "execution_count": null,
      "metadata": {
        "id": "AvHGZ2xToR_8"
      },
      "outputs": [],
      "source": [
        "def view_table(data):\n",
        "    data.columns = data.columns.str.lower()\n",
        "    display(data.sample(10))\n",
        "    display(data.info())\n",
        "    display(data.describe())\n",
        "    display(data.shape)\n",
        "    print('Дубликатов:', contract.duplicated().sum())"
      ]
    },
    {
      "cell_type": "code",
      "execution_count": null,
      "metadata": {
        "id": "YPz754nNoR_8",
        "outputId": "5bdd834b-d012-4be9-912e-624c5b0655d2"
      },
      "outputs": [
        {
          "data": {
            "text/html": [
              "<div>\n",
              "<style scoped>\n",
              "    .dataframe tbody tr th:only-of-type {\n",
              "        vertical-align: middle;\n",
              "    }\n",
              "\n",
              "    .dataframe tbody tr th {\n",
              "        vertical-align: top;\n",
              "    }\n",
              "\n",
              "    .dataframe thead th {\n",
              "        text-align: right;\n",
              "    }\n",
              "</style>\n",
              "<table border=\"1\" class=\"dataframe\">\n",
              "  <thead>\n",
              "    <tr style=\"text-align: right;\">\n",
              "      <th></th>\n",
              "      <th>customerid</th>\n",
              "      <th>begindate</th>\n",
              "      <th>enddate</th>\n",
              "      <th>type</th>\n",
              "      <th>paperlessbilling</th>\n",
              "      <th>paymentmethod</th>\n",
              "      <th>monthlycharges</th>\n",
              "      <th>totalcharges</th>\n",
              "    </tr>\n",
              "  </thead>\n",
              "  <tbody>\n",
              "    <tr>\n",
              "      <th>6515</th>\n",
              "      <td>7016-BPGEU</td>\n",
              "      <td>2017-05-01</td>\n",
              "      <td>2019-10-01 00:00:00</td>\n",
              "      <td>Month-to-month</td>\n",
              "      <td>Yes</td>\n",
              "      <td>Credit card (automatic)</td>\n",
              "      <td>25.10</td>\n",
              "      <td>712.85</td>\n",
              "    </tr>\n",
              "    <tr>\n",
              "      <th>2068</th>\n",
              "      <td>9079-LWTFD</td>\n",
              "      <td>2016-03-01</td>\n",
              "      <td>No</td>\n",
              "      <td>Month-to-month</td>\n",
              "      <td>No</td>\n",
              "      <td>Mailed check</td>\n",
              "      <td>100.75</td>\n",
              "      <td>4669.2</td>\n",
              "    </tr>\n",
              "    <tr>\n",
              "      <th>2929</th>\n",
              "      <td>2606-PKWJB</td>\n",
              "      <td>2016-10-01</td>\n",
              "      <td>No</td>\n",
              "      <td>One year</td>\n",
              "      <td>No</td>\n",
              "      <td>Mailed check</td>\n",
              "      <td>40.25</td>\n",
              "      <td>1564.05</td>\n",
              "    </tr>\n",
              "    <tr>\n",
              "      <th>118</th>\n",
              "      <td>8402-OOOHJ</td>\n",
              "      <td>2016-09-01</td>\n",
              "      <td>No</td>\n",
              "      <td>Two year</td>\n",
              "      <td>No</td>\n",
              "      <td>Mailed check</td>\n",
              "      <td>20.65</td>\n",
              "      <td>835.15</td>\n",
              "    </tr>\n",
              "    <tr>\n",
              "      <th>570</th>\n",
              "      <td>7293-LSCDV</td>\n",
              "      <td>2015-02-01</td>\n",
              "      <td>No</td>\n",
              "      <td>Two year</td>\n",
              "      <td>Yes</td>\n",
              "      <td>Credit card (automatic)</td>\n",
              "      <td>19.25</td>\n",
              "      <td>1103.25</td>\n",
              "    </tr>\n",
              "    <tr>\n",
              "      <th>4764</th>\n",
              "      <td>2962-XPMCQ</td>\n",
              "      <td>2019-11-01</td>\n",
              "      <td>2020-01-01 00:00:00</td>\n",
              "      <td>Month-to-month</td>\n",
              "      <td>Yes</td>\n",
              "      <td>Electronic check</td>\n",
              "      <td>45.15</td>\n",
              "      <td>98.5</td>\n",
              "    </tr>\n",
              "    <tr>\n",
              "      <th>3257</th>\n",
              "      <td>5482-VXSXJ</td>\n",
              "      <td>2018-04-01</td>\n",
              "      <td>No</td>\n",
              "      <td>Month-to-month</td>\n",
              "      <td>Yes</td>\n",
              "      <td>Mailed check</td>\n",
              "      <td>93.20</td>\n",
              "      <td>2157.3</td>\n",
              "    </tr>\n",
              "    <tr>\n",
              "      <th>1174</th>\n",
              "      <td>6994-ORCWG</td>\n",
              "      <td>2018-12-01</td>\n",
              "      <td>No</td>\n",
              "      <td>One year</td>\n",
              "      <td>Yes</td>\n",
              "      <td>Mailed check</td>\n",
              "      <td>54.25</td>\n",
              "      <td>773.2</td>\n",
              "    </tr>\n",
              "    <tr>\n",
              "      <th>2005</th>\n",
              "      <td>9139-WQQDY</td>\n",
              "      <td>2015-10-01</td>\n",
              "      <td>2019-11-01 00:00:00</td>\n",
              "      <td>One year</td>\n",
              "      <td>No</td>\n",
              "      <td>Mailed check</td>\n",
              "      <td>100.45</td>\n",
              "      <td>4941.8</td>\n",
              "    </tr>\n",
              "    <tr>\n",
              "      <th>295</th>\n",
              "      <td>8203-XJZRC</td>\n",
              "      <td>2020-01-01</td>\n",
              "      <td>No</td>\n",
              "      <td>Month-to-month</td>\n",
              "      <td>No</td>\n",
              "      <td>Mailed check</td>\n",
              "      <td>20.25</td>\n",
              "      <td>20.25</td>\n",
              "    </tr>\n",
              "  </tbody>\n",
              "</table>\n",
              "</div>"
            ],
            "text/plain": [
              "      customerid   begindate              enddate            type  \\\n",
              "6515  7016-BPGEU  2017-05-01  2019-10-01 00:00:00  Month-to-month   \n",
              "2068  9079-LWTFD  2016-03-01                   No  Month-to-month   \n",
              "2929  2606-PKWJB  2016-10-01                   No        One year   \n",
              "118   8402-OOOHJ  2016-09-01                   No        Two year   \n",
              "570   7293-LSCDV  2015-02-01                   No        Two year   \n",
              "4764  2962-XPMCQ  2019-11-01  2020-01-01 00:00:00  Month-to-month   \n",
              "3257  5482-VXSXJ  2018-04-01                   No  Month-to-month   \n",
              "1174  6994-ORCWG  2018-12-01                   No        One year   \n",
              "2005  9139-WQQDY  2015-10-01  2019-11-01 00:00:00        One year   \n",
              "295   8203-XJZRC  2020-01-01                   No  Month-to-month   \n",
              "\n",
              "     paperlessbilling            paymentmethod  monthlycharges totalcharges  \n",
              "6515              Yes  Credit card (automatic)           25.10       712.85  \n",
              "2068               No             Mailed check          100.75       4669.2  \n",
              "2929               No             Mailed check           40.25      1564.05  \n",
              "118                No             Mailed check           20.65       835.15  \n",
              "570               Yes  Credit card (automatic)           19.25      1103.25  \n",
              "4764              Yes         Electronic check           45.15         98.5  \n",
              "3257              Yes             Mailed check           93.20       2157.3  \n",
              "1174              Yes             Mailed check           54.25        773.2  \n",
              "2005               No             Mailed check          100.45       4941.8  \n",
              "295                No             Mailed check           20.25        20.25  "
            ]
          },
          "metadata": {},
          "output_type": "display_data"
        },
        {
          "name": "stdout",
          "output_type": "stream",
          "text": [
            "<class 'pandas.core.frame.DataFrame'>\n",
            "RangeIndex: 7043 entries, 0 to 7042\n",
            "Data columns (total 8 columns):\n",
            " #   Column            Non-Null Count  Dtype  \n",
            "---  ------            --------------  -----  \n",
            " 0   customerid        7043 non-null   object \n",
            " 1   begindate         7043 non-null   object \n",
            " 2   enddate           7043 non-null   object \n",
            " 3   type              7043 non-null   object \n",
            " 4   paperlessbilling  7043 non-null   object \n",
            " 5   paymentmethod     7043 non-null   object \n",
            " 6   monthlycharges    7043 non-null   float64\n",
            " 7   totalcharges      7043 non-null   object \n",
            "dtypes: float64(1), object(7)\n",
            "memory usage: 440.3+ KB\n"
          ]
        },
        {
          "data": {
            "text/plain": [
              "None"
            ]
          },
          "metadata": {},
          "output_type": "display_data"
        },
        {
          "data": {
            "text/html": [
              "<div>\n",
              "<style scoped>\n",
              "    .dataframe tbody tr th:only-of-type {\n",
              "        vertical-align: middle;\n",
              "    }\n",
              "\n",
              "    .dataframe tbody tr th {\n",
              "        vertical-align: top;\n",
              "    }\n",
              "\n",
              "    .dataframe thead th {\n",
              "        text-align: right;\n",
              "    }\n",
              "</style>\n",
              "<table border=\"1\" class=\"dataframe\">\n",
              "  <thead>\n",
              "    <tr style=\"text-align: right;\">\n",
              "      <th></th>\n",
              "      <th>monthlycharges</th>\n",
              "    </tr>\n",
              "  </thead>\n",
              "  <tbody>\n",
              "    <tr>\n",
              "      <th>count</th>\n",
              "      <td>7043.000000</td>\n",
              "    </tr>\n",
              "    <tr>\n",
              "      <th>mean</th>\n",
              "      <td>64.761692</td>\n",
              "    </tr>\n",
              "    <tr>\n",
              "      <th>std</th>\n",
              "      <td>30.090047</td>\n",
              "    </tr>\n",
              "    <tr>\n",
              "      <th>min</th>\n",
              "      <td>18.250000</td>\n",
              "    </tr>\n",
              "    <tr>\n",
              "      <th>25%</th>\n",
              "      <td>35.500000</td>\n",
              "    </tr>\n",
              "    <tr>\n",
              "      <th>50%</th>\n",
              "      <td>70.350000</td>\n",
              "    </tr>\n",
              "    <tr>\n",
              "      <th>75%</th>\n",
              "      <td>89.850000</td>\n",
              "    </tr>\n",
              "    <tr>\n",
              "      <th>max</th>\n",
              "      <td>118.750000</td>\n",
              "    </tr>\n",
              "  </tbody>\n",
              "</table>\n",
              "</div>"
            ],
            "text/plain": [
              "       monthlycharges\n",
              "count     7043.000000\n",
              "mean        64.761692\n",
              "std         30.090047\n",
              "min         18.250000\n",
              "25%         35.500000\n",
              "50%         70.350000\n",
              "75%         89.850000\n",
              "max        118.750000"
            ]
          },
          "metadata": {},
          "output_type": "display_data"
        },
        {
          "data": {
            "text/plain": [
              "(7043, 8)"
            ]
          },
          "metadata": {},
          "output_type": "display_data"
        },
        {
          "name": "stdout",
          "output_type": "stream",
          "text": [
            "Дубликатов: 0\n"
          ]
        }
      ],
      "source": [
        "view_table(contract)"
      ]
    },
    {
      "cell_type": "code",
      "execution_count": null,
      "metadata": {
        "id": "XBUYA56xoR_9",
        "outputId": "666a8875-7237-4f8c-e252-a176c23939b3"
      },
      "outputs": [
        {
          "data": {
            "text/html": [
              "<div>\n",
              "<style scoped>\n",
              "    .dataframe tbody tr th:only-of-type {\n",
              "        vertical-align: middle;\n",
              "    }\n",
              "\n",
              "    .dataframe tbody tr th {\n",
              "        vertical-align: top;\n",
              "    }\n",
              "\n",
              "    .dataframe thead th {\n",
              "        text-align: right;\n",
              "    }\n",
              "</style>\n",
              "<table border=\"1\" class=\"dataframe\">\n",
              "  <thead>\n",
              "    <tr style=\"text-align: right;\">\n",
              "      <th></th>\n",
              "      <th>customerid</th>\n",
              "      <th>gender</th>\n",
              "      <th>seniorcitizen</th>\n",
              "      <th>partner</th>\n",
              "      <th>dependents</th>\n",
              "    </tr>\n",
              "  </thead>\n",
              "  <tbody>\n",
              "    <tr>\n",
              "      <th>3989</th>\n",
              "      <td>7634-WSWDB</td>\n",
              "      <td>Female</td>\n",
              "      <td>0</td>\n",
              "      <td>No</td>\n",
              "      <td>Yes</td>\n",
              "    </tr>\n",
              "    <tr>\n",
              "      <th>6662</th>\n",
              "      <td>6810-VCAEX</td>\n",
              "      <td>Female</td>\n",
              "      <td>0</td>\n",
              "      <td>No</td>\n",
              "      <td>No</td>\n",
              "    </tr>\n",
              "    <tr>\n",
              "      <th>2048</th>\n",
              "      <td>9961-JBNMK</td>\n",
              "      <td>Male</td>\n",
              "      <td>1</td>\n",
              "      <td>No</td>\n",
              "      <td>No</td>\n",
              "    </tr>\n",
              "    <tr>\n",
              "      <th>2719</th>\n",
              "      <td>4295-YURET</td>\n",
              "      <td>Female</td>\n",
              "      <td>1</td>\n",
              "      <td>Yes</td>\n",
              "      <td>Yes</td>\n",
              "    </tr>\n",
              "    <tr>\n",
              "      <th>6254</th>\n",
              "      <td>9933-QRGTX</td>\n",
              "      <td>Female</td>\n",
              "      <td>0</td>\n",
              "      <td>Yes</td>\n",
              "      <td>No</td>\n",
              "    </tr>\n",
              "    <tr>\n",
              "      <th>3277</th>\n",
              "      <td>4323-ELYYB</td>\n",
              "      <td>Male</td>\n",
              "      <td>0</td>\n",
              "      <td>Yes</td>\n",
              "      <td>Yes</td>\n",
              "    </tr>\n",
              "    <tr>\n",
              "      <th>2127</th>\n",
              "      <td>8035-BUYVG</td>\n",
              "      <td>Male</td>\n",
              "      <td>0</td>\n",
              "      <td>Yes</td>\n",
              "      <td>No</td>\n",
              "    </tr>\n",
              "    <tr>\n",
              "      <th>6098</th>\n",
              "      <td>4700-UBQMV</td>\n",
              "      <td>Male</td>\n",
              "      <td>0</td>\n",
              "      <td>Yes</td>\n",
              "      <td>Yes</td>\n",
              "    </tr>\n",
              "    <tr>\n",
              "      <th>271</th>\n",
              "      <td>7633-MVPUY</td>\n",
              "      <td>Male</td>\n",
              "      <td>0</td>\n",
              "      <td>Yes</td>\n",
              "      <td>No</td>\n",
              "    </tr>\n",
              "    <tr>\n",
              "      <th>4607</th>\n",
              "      <td>2853-CWQFQ</td>\n",
              "      <td>Male</td>\n",
              "      <td>0</td>\n",
              "      <td>No</td>\n",
              "      <td>Yes</td>\n",
              "    </tr>\n",
              "  </tbody>\n",
              "</table>\n",
              "</div>"
            ],
            "text/plain": [
              "      customerid  gender  seniorcitizen partner dependents\n",
              "3989  7634-WSWDB  Female              0      No        Yes\n",
              "6662  6810-VCAEX  Female              0      No         No\n",
              "2048  9961-JBNMK    Male              1      No         No\n",
              "2719  4295-YURET  Female              1     Yes        Yes\n",
              "6254  9933-QRGTX  Female              0     Yes         No\n",
              "3277  4323-ELYYB    Male              0     Yes        Yes\n",
              "2127  8035-BUYVG    Male              0     Yes         No\n",
              "6098  4700-UBQMV    Male              0     Yes        Yes\n",
              "271   7633-MVPUY    Male              0     Yes         No\n",
              "4607  2853-CWQFQ    Male              0      No        Yes"
            ]
          },
          "metadata": {},
          "output_type": "display_data"
        },
        {
          "name": "stdout",
          "output_type": "stream",
          "text": [
            "<class 'pandas.core.frame.DataFrame'>\n",
            "RangeIndex: 7043 entries, 0 to 7042\n",
            "Data columns (total 5 columns):\n",
            " #   Column         Non-Null Count  Dtype \n",
            "---  ------         --------------  ----- \n",
            " 0   customerid     7043 non-null   object\n",
            " 1   gender         7043 non-null   object\n",
            " 2   seniorcitizen  7043 non-null   int64 \n",
            " 3   partner        7043 non-null   object\n",
            " 4   dependents     7043 non-null   object\n",
            "dtypes: int64(1), object(4)\n",
            "memory usage: 275.2+ KB\n"
          ]
        },
        {
          "data": {
            "text/plain": [
              "None"
            ]
          },
          "metadata": {},
          "output_type": "display_data"
        },
        {
          "data": {
            "text/html": [
              "<div>\n",
              "<style scoped>\n",
              "    .dataframe tbody tr th:only-of-type {\n",
              "        vertical-align: middle;\n",
              "    }\n",
              "\n",
              "    .dataframe tbody tr th {\n",
              "        vertical-align: top;\n",
              "    }\n",
              "\n",
              "    .dataframe thead th {\n",
              "        text-align: right;\n",
              "    }\n",
              "</style>\n",
              "<table border=\"1\" class=\"dataframe\">\n",
              "  <thead>\n",
              "    <tr style=\"text-align: right;\">\n",
              "      <th></th>\n",
              "      <th>seniorcitizen</th>\n",
              "    </tr>\n",
              "  </thead>\n",
              "  <tbody>\n",
              "    <tr>\n",
              "      <th>count</th>\n",
              "      <td>7043.000000</td>\n",
              "    </tr>\n",
              "    <tr>\n",
              "      <th>mean</th>\n",
              "      <td>0.162147</td>\n",
              "    </tr>\n",
              "    <tr>\n",
              "      <th>std</th>\n",
              "      <td>0.368612</td>\n",
              "    </tr>\n",
              "    <tr>\n",
              "      <th>min</th>\n",
              "      <td>0.000000</td>\n",
              "    </tr>\n",
              "    <tr>\n",
              "      <th>25%</th>\n",
              "      <td>0.000000</td>\n",
              "    </tr>\n",
              "    <tr>\n",
              "      <th>50%</th>\n",
              "      <td>0.000000</td>\n",
              "    </tr>\n",
              "    <tr>\n",
              "      <th>75%</th>\n",
              "      <td>0.000000</td>\n",
              "    </tr>\n",
              "    <tr>\n",
              "      <th>max</th>\n",
              "      <td>1.000000</td>\n",
              "    </tr>\n",
              "  </tbody>\n",
              "</table>\n",
              "</div>"
            ],
            "text/plain": [
              "       seniorcitizen\n",
              "count    7043.000000\n",
              "mean        0.162147\n",
              "std         0.368612\n",
              "min         0.000000\n",
              "25%         0.000000\n",
              "50%         0.000000\n",
              "75%         0.000000\n",
              "max         1.000000"
            ]
          },
          "metadata": {},
          "output_type": "display_data"
        },
        {
          "data": {
            "text/plain": [
              "(7043, 5)"
            ]
          },
          "metadata": {},
          "output_type": "display_data"
        },
        {
          "name": "stdout",
          "output_type": "stream",
          "text": [
            "Дубликатов: 0\n"
          ]
        }
      ],
      "source": [
        "view_table(personal)"
      ]
    },
    {
      "cell_type": "code",
      "execution_count": null,
      "metadata": {
        "id": "E6qz7ArJoR_-",
        "outputId": "d126e603-c2e6-4d43-c0db-d69e16fc8d7a"
      },
      "outputs": [
        {
          "data": {
            "text/html": [
              "<div>\n",
              "<style scoped>\n",
              "    .dataframe tbody tr th:only-of-type {\n",
              "        vertical-align: middle;\n",
              "    }\n",
              "\n",
              "    .dataframe tbody tr th {\n",
              "        vertical-align: top;\n",
              "    }\n",
              "\n",
              "    .dataframe thead th {\n",
              "        text-align: right;\n",
              "    }\n",
              "</style>\n",
              "<table border=\"1\" class=\"dataframe\">\n",
              "  <thead>\n",
              "    <tr style=\"text-align: right;\">\n",
              "      <th></th>\n",
              "      <th>customerid</th>\n",
              "      <th>internetservice</th>\n",
              "      <th>onlinesecurity</th>\n",
              "      <th>onlinebackup</th>\n",
              "      <th>deviceprotection</th>\n",
              "      <th>techsupport</th>\n",
              "      <th>streamingtv</th>\n",
              "      <th>streamingmovies</th>\n",
              "    </tr>\n",
              "  </thead>\n",
              "  <tbody>\n",
              "    <tr>\n",
              "      <th>3624</th>\n",
              "      <td>5701-ZIKJE</td>\n",
              "      <td>DSL</td>\n",
              "      <td>No</td>\n",
              "      <td>No</td>\n",
              "      <td>No</td>\n",
              "      <td>Yes</td>\n",
              "      <td>No</td>\n",
              "      <td>No</td>\n",
              "    </tr>\n",
              "    <tr>\n",
              "      <th>3147</th>\n",
              "      <td>1329-VHWNP</td>\n",
              "      <td>DSL</td>\n",
              "      <td>No</td>\n",
              "      <td>No</td>\n",
              "      <td>No</td>\n",
              "      <td>No</td>\n",
              "      <td>No</td>\n",
              "      <td>No</td>\n",
              "    </tr>\n",
              "    <tr>\n",
              "      <th>2845</th>\n",
              "      <td>3878-AVSOQ</td>\n",
              "      <td>Fiber optic</td>\n",
              "      <td>No</td>\n",
              "      <td>No</td>\n",
              "      <td>No</td>\n",
              "      <td>No</td>\n",
              "      <td>No</td>\n",
              "      <td>No</td>\n",
              "    </tr>\n",
              "    <tr>\n",
              "      <th>3021</th>\n",
              "      <td>0365-BZUWY</td>\n",
              "      <td>Fiber optic</td>\n",
              "      <td>No</td>\n",
              "      <td>Yes</td>\n",
              "      <td>Yes</td>\n",
              "      <td>No</td>\n",
              "      <td>Yes</td>\n",
              "      <td>Yes</td>\n",
              "    </tr>\n",
              "    <tr>\n",
              "      <th>5213</th>\n",
              "      <td>4186-ZBUEW</td>\n",
              "      <td>DSL</td>\n",
              "      <td>No</td>\n",
              "      <td>Yes</td>\n",
              "      <td>No</td>\n",
              "      <td>Yes</td>\n",
              "      <td>No</td>\n",
              "      <td>Yes</td>\n",
              "    </tr>\n",
              "    <tr>\n",
              "      <th>4369</th>\n",
              "      <td>4929-BSTRX</td>\n",
              "      <td>DSL</td>\n",
              "      <td>No</td>\n",
              "      <td>No</td>\n",
              "      <td>No</td>\n",
              "      <td>No</td>\n",
              "      <td>Yes</td>\n",
              "      <td>No</td>\n",
              "    </tr>\n",
              "    <tr>\n",
              "      <th>3013</th>\n",
              "      <td>7128-GGCNO</td>\n",
              "      <td>Fiber optic</td>\n",
              "      <td>No</td>\n",
              "      <td>No</td>\n",
              "      <td>No</td>\n",
              "      <td>No</td>\n",
              "      <td>No</td>\n",
              "      <td>No</td>\n",
              "    </tr>\n",
              "    <tr>\n",
              "      <th>1352</th>\n",
              "      <td>3280-MRDOF</td>\n",
              "      <td>DSL</td>\n",
              "      <td>No</td>\n",
              "      <td>No</td>\n",
              "      <td>Yes</td>\n",
              "      <td>Yes</td>\n",
              "      <td>Yes</td>\n",
              "      <td>No</td>\n",
              "    </tr>\n",
              "    <tr>\n",
              "      <th>61</th>\n",
              "      <td>7410-OIEDU</td>\n",
              "      <td>Fiber optic</td>\n",
              "      <td>Yes</td>\n",
              "      <td>No</td>\n",
              "      <td>Yes</td>\n",
              "      <td>No</td>\n",
              "      <td>No</td>\n",
              "      <td>No</td>\n",
              "    </tr>\n",
              "    <tr>\n",
              "      <th>601</th>\n",
              "      <td>8224-IVVPA</td>\n",
              "      <td>DSL</td>\n",
              "      <td>Yes</td>\n",
              "      <td>Yes</td>\n",
              "      <td>No</td>\n",
              "      <td>No</td>\n",
              "      <td>No</td>\n",
              "      <td>No</td>\n",
              "    </tr>\n",
              "  </tbody>\n",
              "</table>\n",
              "</div>"
            ],
            "text/plain": [
              "      customerid internetservice onlinesecurity onlinebackup deviceprotection  \\\n",
              "3624  5701-ZIKJE             DSL             No           No               No   \n",
              "3147  1329-VHWNP             DSL             No           No               No   \n",
              "2845  3878-AVSOQ     Fiber optic             No           No               No   \n",
              "3021  0365-BZUWY     Fiber optic             No          Yes              Yes   \n",
              "5213  4186-ZBUEW             DSL             No          Yes               No   \n",
              "4369  4929-BSTRX             DSL             No           No               No   \n",
              "3013  7128-GGCNO     Fiber optic             No           No               No   \n",
              "1352  3280-MRDOF             DSL             No           No              Yes   \n",
              "61    7410-OIEDU     Fiber optic            Yes           No              Yes   \n",
              "601   8224-IVVPA             DSL            Yes          Yes               No   \n",
              "\n",
              "     techsupport streamingtv streamingmovies  \n",
              "3624         Yes          No              No  \n",
              "3147          No          No              No  \n",
              "2845          No          No              No  \n",
              "3021          No         Yes             Yes  \n",
              "5213         Yes          No             Yes  \n",
              "4369          No         Yes              No  \n",
              "3013          No          No              No  \n",
              "1352         Yes         Yes              No  \n",
              "61            No          No              No  \n",
              "601           No          No              No  "
            ]
          },
          "metadata": {},
          "output_type": "display_data"
        },
        {
          "name": "stdout",
          "output_type": "stream",
          "text": [
            "<class 'pandas.core.frame.DataFrame'>\n",
            "RangeIndex: 5517 entries, 0 to 5516\n",
            "Data columns (total 8 columns):\n",
            " #   Column            Non-Null Count  Dtype \n",
            "---  ------            --------------  ----- \n",
            " 0   customerid        5517 non-null   object\n",
            " 1   internetservice   5517 non-null   object\n",
            " 2   onlinesecurity    5517 non-null   object\n",
            " 3   onlinebackup      5517 non-null   object\n",
            " 4   deviceprotection  5517 non-null   object\n",
            " 5   techsupport       5517 non-null   object\n",
            " 6   streamingtv       5517 non-null   object\n",
            " 7   streamingmovies   5517 non-null   object\n",
            "dtypes: object(8)\n",
            "memory usage: 344.9+ KB\n"
          ]
        },
        {
          "data": {
            "text/plain": [
              "None"
            ]
          },
          "metadata": {},
          "output_type": "display_data"
        },
        {
          "data": {
            "text/html": [
              "<div>\n",
              "<style scoped>\n",
              "    .dataframe tbody tr th:only-of-type {\n",
              "        vertical-align: middle;\n",
              "    }\n",
              "\n",
              "    .dataframe tbody tr th {\n",
              "        vertical-align: top;\n",
              "    }\n",
              "\n",
              "    .dataframe thead th {\n",
              "        text-align: right;\n",
              "    }\n",
              "</style>\n",
              "<table border=\"1\" class=\"dataframe\">\n",
              "  <thead>\n",
              "    <tr style=\"text-align: right;\">\n",
              "      <th></th>\n",
              "      <th>customerid</th>\n",
              "      <th>internetservice</th>\n",
              "      <th>onlinesecurity</th>\n",
              "      <th>onlinebackup</th>\n",
              "      <th>deviceprotection</th>\n",
              "      <th>techsupport</th>\n",
              "      <th>streamingtv</th>\n",
              "      <th>streamingmovies</th>\n",
              "    </tr>\n",
              "  </thead>\n",
              "  <tbody>\n",
              "    <tr>\n",
              "      <th>count</th>\n",
              "      <td>5517</td>\n",
              "      <td>5517</td>\n",
              "      <td>5517</td>\n",
              "      <td>5517</td>\n",
              "      <td>5517</td>\n",
              "      <td>5517</td>\n",
              "      <td>5517</td>\n",
              "      <td>5517</td>\n",
              "    </tr>\n",
              "    <tr>\n",
              "      <th>unique</th>\n",
              "      <td>5517</td>\n",
              "      <td>2</td>\n",
              "      <td>2</td>\n",
              "      <td>2</td>\n",
              "      <td>2</td>\n",
              "      <td>2</td>\n",
              "      <td>2</td>\n",
              "      <td>2</td>\n",
              "    </tr>\n",
              "    <tr>\n",
              "      <th>top</th>\n",
              "      <td>8868-GAGIO</td>\n",
              "      <td>Fiber optic</td>\n",
              "      <td>No</td>\n",
              "      <td>No</td>\n",
              "      <td>No</td>\n",
              "      <td>No</td>\n",
              "      <td>No</td>\n",
              "      <td>No</td>\n",
              "    </tr>\n",
              "    <tr>\n",
              "      <th>freq</th>\n",
              "      <td>1</td>\n",
              "      <td>3096</td>\n",
              "      <td>3498</td>\n",
              "      <td>3088</td>\n",
              "      <td>3095</td>\n",
              "      <td>3473</td>\n",
              "      <td>2810</td>\n",
              "      <td>2785</td>\n",
              "    </tr>\n",
              "  </tbody>\n",
              "</table>\n",
              "</div>"
            ],
            "text/plain": [
              "        customerid internetservice onlinesecurity onlinebackup  \\\n",
              "count         5517            5517           5517         5517   \n",
              "unique        5517               2              2            2   \n",
              "top     8868-GAGIO     Fiber optic             No           No   \n",
              "freq             1            3096           3498         3088   \n",
              "\n",
              "       deviceprotection techsupport streamingtv streamingmovies  \n",
              "count              5517        5517        5517            5517  \n",
              "unique                2           2           2               2  \n",
              "top                  No          No          No              No  \n",
              "freq               3095        3473        2810            2785  "
            ]
          },
          "metadata": {},
          "output_type": "display_data"
        },
        {
          "data": {
            "text/plain": [
              "(5517, 8)"
            ]
          },
          "metadata": {},
          "output_type": "display_data"
        },
        {
          "name": "stdout",
          "output_type": "stream",
          "text": [
            "Дубликатов: 0\n"
          ]
        }
      ],
      "source": [
        "view_table(internet)"
      ]
    },
    {
      "cell_type": "code",
      "execution_count": null,
      "metadata": {
        "id": "VV_1sG2RoR__",
        "outputId": "48dfc062-f6d8-4296-8544-4d57b430b13f"
      },
      "outputs": [
        {
          "data": {
            "text/html": [
              "<div>\n",
              "<style scoped>\n",
              "    .dataframe tbody tr th:only-of-type {\n",
              "        vertical-align: middle;\n",
              "    }\n",
              "\n",
              "    .dataframe tbody tr th {\n",
              "        vertical-align: top;\n",
              "    }\n",
              "\n",
              "    .dataframe thead th {\n",
              "        text-align: right;\n",
              "    }\n",
              "</style>\n",
              "<table border=\"1\" class=\"dataframe\">\n",
              "  <thead>\n",
              "    <tr style=\"text-align: right;\">\n",
              "      <th></th>\n",
              "      <th>customerid</th>\n",
              "      <th>multiplelines</th>\n",
              "    </tr>\n",
              "  </thead>\n",
              "  <tbody>\n",
              "    <tr>\n",
              "      <th>15</th>\n",
              "      <td>4190-MFLUW</td>\n",
              "      <td>No</td>\n",
              "    </tr>\n",
              "    <tr>\n",
              "      <th>1398</th>\n",
              "      <td>2091-GPPIQ</td>\n",
              "      <td>Yes</td>\n",
              "    </tr>\n",
              "    <tr>\n",
              "      <th>6066</th>\n",
              "      <td>4342-HFXWS</td>\n",
              "      <td>No</td>\n",
              "    </tr>\n",
              "    <tr>\n",
              "      <th>4946</th>\n",
              "      <td>2506-TNFCO</td>\n",
              "      <td>No</td>\n",
              "    </tr>\n",
              "    <tr>\n",
              "      <th>2156</th>\n",
              "      <td>5067-WJEUN</td>\n",
              "      <td>No</td>\n",
              "    </tr>\n",
              "    <tr>\n",
              "      <th>469</th>\n",
              "      <td>8397-MVTAZ</td>\n",
              "      <td>Yes</td>\n",
              "    </tr>\n",
              "    <tr>\n",
              "      <th>3872</th>\n",
              "      <td>9170-CCKOU</td>\n",
              "      <td>Yes</td>\n",
              "    </tr>\n",
              "    <tr>\n",
              "      <th>155</th>\n",
              "      <td>6727-IOTLZ</td>\n",
              "      <td>No</td>\n",
              "    </tr>\n",
              "    <tr>\n",
              "      <th>6299</th>\n",
              "      <td>7240-FQLHE</td>\n",
              "      <td>Yes</td>\n",
              "    </tr>\n",
              "    <tr>\n",
              "      <th>3839</th>\n",
              "      <td>0307-BCOPK</td>\n",
              "      <td>No</td>\n",
              "    </tr>\n",
              "  </tbody>\n",
              "</table>\n",
              "</div>"
            ],
            "text/plain": [
              "      customerid multiplelines\n",
              "15    4190-MFLUW            No\n",
              "1398  2091-GPPIQ           Yes\n",
              "6066  4342-HFXWS            No\n",
              "4946  2506-TNFCO            No\n",
              "2156  5067-WJEUN            No\n",
              "469   8397-MVTAZ           Yes\n",
              "3872  9170-CCKOU           Yes\n",
              "155   6727-IOTLZ            No\n",
              "6299  7240-FQLHE           Yes\n",
              "3839  0307-BCOPK            No"
            ]
          },
          "metadata": {},
          "output_type": "display_data"
        },
        {
          "name": "stdout",
          "output_type": "stream",
          "text": [
            "<class 'pandas.core.frame.DataFrame'>\n",
            "RangeIndex: 6361 entries, 0 to 6360\n",
            "Data columns (total 2 columns):\n",
            " #   Column         Non-Null Count  Dtype \n",
            "---  ------         --------------  ----- \n",
            " 0   customerid     6361 non-null   object\n",
            " 1   multiplelines  6361 non-null   object\n",
            "dtypes: object(2)\n",
            "memory usage: 99.5+ KB\n"
          ]
        },
        {
          "data": {
            "text/plain": [
              "None"
            ]
          },
          "metadata": {},
          "output_type": "display_data"
        },
        {
          "data": {
            "text/html": [
              "<div>\n",
              "<style scoped>\n",
              "    .dataframe tbody tr th:only-of-type {\n",
              "        vertical-align: middle;\n",
              "    }\n",
              "\n",
              "    .dataframe tbody tr th {\n",
              "        vertical-align: top;\n",
              "    }\n",
              "\n",
              "    .dataframe thead th {\n",
              "        text-align: right;\n",
              "    }\n",
              "</style>\n",
              "<table border=\"1\" class=\"dataframe\">\n",
              "  <thead>\n",
              "    <tr style=\"text-align: right;\">\n",
              "      <th></th>\n",
              "      <th>customerid</th>\n",
              "      <th>multiplelines</th>\n",
              "    </tr>\n",
              "  </thead>\n",
              "  <tbody>\n",
              "    <tr>\n",
              "      <th>count</th>\n",
              "      <td>6361</td>\n",
              "      <td>6361</td>\n",
              "    </tr>\n",
              "    <tr>\n",
              "      <th>unique</th>\n",
              "      <td>6361</td>\n",
              "      <td>2</td>\n",
              "    </tr>\n",
              "    <tr>\n",
              "      <th>top</th>\n",
              "      <td>1097-FSPVW</td>\n",
              "      <td>No</td>\n",
              "    </tr>\n",
              "    <tr>\n",
              "      <th>freq</th>\n",
              "      <td>1</td>\n",
              "      <td>3390</td>\n",
              "    </tr>\n",
              "  </tbody>\n",
              "</table>\n",
              "</div>"
            ],
            "text/plain": [
              "        customerid multiplelines\n",
              "count         6361          6361\n",
              "unique        6361             2\n",
              "top     1097-FSPVW            No\n",
              "freq             1          3390"
            ]
          },
          "metadata": {},
          "output_type": "display_data"
        },
        {
          "data": {
            "text/plain": [
              "(6361, 2)"
            ]
          },
          "metadata": {},
          "output_type": "display_data"
        },
        {
          "name": "stdout",
          "output_type": "stream",
          "text": [
            "Дубликатов: 0\n"
          ]
        }
      ],
      "source": [
        "view_table(phone)"
      ]
    },
    {
      "cell_type": "markdown",
      "metadata": {
        "id": "RBZL3T28oSAA"
      },
      "source": [
        "Пропусков и дубликатов в данных нет. У столбцов с датой 'BeginDate' и 'EndDate' заменим тип данных. Значение 'NO' в столбце EndDate значит, что клиент являлся обонентом компании на момент выгрузки данных. Столбец 'TotalCharges ' имеет тип данных object, приведем его к типу float64. Столбцы с бинарными данными ('yes' и 'no') заменим на 1 и 0. Для удобства приведем названия столбцов всех датафреймов к нижнему регистру. Объединим все датафреймы в одну таблицу."
      ]
    },
    {
      "cell_type": "markdown",
      "metadata": {
        "id": "yn7d7-FioSAA"
      },
      "source": [
        "### Предобработка данных"
      ]
    },
    {
      "cell_type": "markdown",
      "metadata": {
        "id": "5DHS7LZRoSAA"
      },
      "source": [
        "Объединим датафреймы в одну таблицу."
      ]
    },
    {
      "cell_type": "code",
      "execution_count": null,
      "metadata": {
        "id": "dk5fJb3hoSAB",
        "outputId": "bdfb6149-3581-4ff0-8985-596807eb5b01"
      },
      "outputs": [
        {
          "data": {
            "text/plain": [
              "(7043, 12)"
            ]
          },
          "execution_count": 8,
          "metadata": {},
          "output_type": "execute_result"
        }
      ],
      "source": [
        "data_full = pd.merge(contract, personal, on ='customerid',how= 'left')\n",
        "data_full.shape"
      ]
    },
    {
      "cell_type": "code",
      "execution_count": null,
      "metadata": {
        "id": "OGxU4dXtoSAB",
        "outputId": "c3d0489f-b5aa-4036-ff59-842d0c64c1b2"
      },
      "outputs": [
        {
          "data": {
            "text/plain": [
              "(7043, 19)"
            ]
          },
          "execution_count": 9,
          "metadata": {},
          "output_type": "execute_result"
        }
      ],
      "source": [
        "data_full = pd.merge(data_full, internet, on ='customerid',how= 'left')\n",
        "data_full.shape"
      ]
    },
    {
      "cell_type": "code",
      "execution_count": null,
      "metadata": {
        "id": "1BjAkVY2oSAB",
        "outputId": "97d22d07-1a6b-48a7-a60e-3062edaa906b"
      },
      "outputs": [
        {
          "data": {
            "text/plain": [
              "(7043, 20)"
            ]
          },
          "execution_count": 10,
          "metadata": {},
          "output_type": "execute_result"
        }
      ],
      "source": [
        "data_full = pd.merge(data_full, phone, on ='customerid',how= 'left')\n",
        "data_full.shape"
      ]
    },
    {
      "cell_type": "code",
      "execution_count": null,
      "metadata": {
        "id": "OAkRRuV9oSAC",
        "outputId": "ca9d5d76-a3d6-4125-8dd9-331618c78d67"
      },
      "outputs": [
        {
          "name": "stdout",
          "output_type": "stream",
          "text": [
            "<class 'pandas.core.frame.DataFrame'>\n",
            "Int64Index: 7043 entries, 0 to 7042\n",
            "Data columns (total 20 columns):\n",
            " #   Column            Non-Null Count  Dtype  \n",
            "---  ------            --------------  -----  \n",
            " 0   customerid        7043 non-null   object \n",
            " 1   begindate         7043 non-null   object \n",
            " 2   enddate           7043 non-null   object \n",
            " 3   type              7043 non-null   object \n",
            " 4   paperlessbilling  7043 non-null   object \n",
            " 5   paymentmethod     7043 non-null   object \n",
            " 6   monthlycharges    7043 non-null   float64\n",
            " 7   totalcharges      7043 non-null   object \n",
            " 8   gender            7043 non-null   object \n",
            " 9   seniorcitizen     7043 non-null   int64  \n",
            " 10  partner           7043 non-null   object \n",
            " 11  dependents        7043 non-null   object \n",
            " 12  internetservice   5517 non-null   object \n",
            " 13  onlinesecurity    5517 non-null   object \n",
            " 14  onlinebackup      5517 non-null   object \n",
            " 15  deviceprotection  5517 non-null   object \n",
            " 16  techsupport       5517 non-null   object \n",
            " 17  streamingtv       5517 non-null   object \n",
            " 18  streamingmovies   5517 non-null   object \n",
            " 19  multiplelines     6361 non-null   object \n",
            "dtypes: float64(1), int64(1), object(18)\n",
            "memory usage: 1.1+ MB\n"
          ]
        }
      ],
      "source": [
        "data_full.info()"
      ]
    },
    {
      "cell_type": "markdown",
      "metadata": {
        "id": "ejZ7mAjSoSAC"
      },
      "source": [
        "В таблице образовались пропуски. Можно предположить, что абонент не пользовалься данной услугой. Заменим на 'NO'."
      ]
    },
    {
      "cell_type": "code",
      "execution_count": null,
      "metadata": {
        "id": "tOtMWcNRoSAC",
        "outputId": "6f20ac00-62ba-442d-b6d2-c9ee532df98d"
      },
      "outputs": [
        {
          "name": "stdout",
          "output_type": "stream",
          "text": [
            "<class 'pandas.core.frame.DataFrame'>\n",
            "Int64Index: 7043 entries, 0 to 7042\n",
            "Data columns (total 20 columns):\n",
            " #   Column            Non-Null Count  Dtype  \n",
            "---  ------            --------------  -----  \n",
            " 0   customerid        7043 non-null   object \n",
            " 1   begindate         7043 non-null   object \n",
            " 2   enddate           7043 non-null   object \n",
            " 3   type              7043 non-null   object \n",
            " 4   paperlessbilling  7043 non-null   object \n",
            " 5   paymentmethod     7043 non-null   object \n",
            " 6   monthlycharges    7043 non-null   float64\n",
            " 7   totalcharges      7043 non-null   object \n",
            " 8   gender            7043 non-null   object \n",
            " 9   seniorcitizen     7043 non-null   int64  \n",
            " 10  partner           7043 non-null   object \n",
            " 11  dependents        7043 non-null   object \n",
            " 12  internetservice   7043 non-null   object \n",
            " 13  onlinesecurity    7043 non-null   object \n",
            " 14  onlinebackup      7043 non-null   object \n",
            " 15  deviceprotection  7043 non-null   object \n",
            " 16  techsupport       7043 non-null   object \n",
            " 17  streamingtv       7043 non-null   object \n",
            " 18  streamingmovies   7043 non-null   object \n",
            " 19  multiplelines     7043 non-null   object \n",
            "dtypes: float64(1), int64(1), object(18)\n",
            "memory usage: 1.1+ MB\n"
          ]
        }
      ],
      "source": [
        "data_full = data_full.fillna('No')\n",
        "data_full.info()"
      ]
    },
    {
      "cell_type": "markdown",
      "metadata": {
        "id": "wMuno6D-oSAD"
      },
      "source": [
        "Создадим новый столбец с целевым признаком 'exited'. Если даты в столбце 'EndDate' нет, то пользователь является клиентом , если дата есть, ушел."
      ]
    },
    {
      "cell_type": "code",
      "execution_count": null,
      "metadata": {
        "id": "HglfldmVoSAD",
        "outputId": "99c8a2a0-a0c2-41ec-94aa-d0301c5a4577"
      },
      "outputs": [
        {
          "data": {
            "text/html": [
              "<div>\n",
              "<style scoped>\n",
              "    .dataframe tbody tr th:only-of-type {\n",
              "        vertical-align: middle;\n",
              "    }\n",
              "\n",
              "    .dataframe tbody tr th {\n",
              "        vertical-align: top;\n",
              "    }\n",
              "\n",
              "    .dataframe thead th {\n",
              "        text-align: right;\n",
              "    }\n",
              "</style>\n",
              "<table border=\"1\" class=\"dataframe\">\n",
              "  <thead>\n",
              "    <tr style=\"text-align: right;\">\n",
              "      <th></th>\n",
              "      <th>customerid</th>\n",
              "      <th>begindate</th>\n",
              "      <th>enddate</th>\n",
              "      <th>type</th>\n",
              "      <th>paperlessbilling</th>\n",
              "      <th>paymentmethod</th>\n",
              "      <th>monthlycharges</th>\n",
              "      <th>totalcharges</th>\n",
              "      <th>gender</th>\n",
              "      <th>seniorcitizen</th>\n",
              "      <th>...</th>\n",
              "      <th>dependents</th>\n",
              "      <th>internetservice</th>\n",
              "      <th>onlinesecurity</th>\n",
              "      <th>onlinebackup</th>\n",
              "      <th>deviceprotection</th>\n",
              "      <th>techsupport</th>\n",
              "      <th>streamingtv</th>\n",
              "      <th>streamingmovies</th>\n",
              "      <th>multiplelines</th>\n",
              "      <th>exited</th>\n",
              "    </tr>\n",
              "  </thead>\n",
              "  <tbody>\n",
              "    <tr>\n",
              "      <th>0</th>\n",
              "      <td>7590-VHVEG</td>\n",
              "      <td>2020-01-01</td>\n",
              "      <td>No</td>\n",
              "      <td>Month-to-month</td>\n",
              "      <td>Yes</td>\n",
              "      <td>Electronic check</td>\n",
              "      <td>29.85</td>\n",
              "      <td>29.85</td>\n",
              "      <td>Female</td>\n",
              "      <td>0</td>\n",
              "      <td>...</td>\n",
              "      <td>No</td>\n",
              "      <td>DSL</td>\n",
              "      <td>No</td>\n",
              "      <td>Yes</td>\n",
              "      <td>No</td>\n",
              "      <td>No</td>\n",
              "      <td>No</td>\n",
              "      <td>No</td>\n",
              "      <td>No</td>\n",
              "      <td>0</td>\n",
              "    </tr>\n",
              "    <tr>\n",
              "      <th>1</th>\n",
              "      <td>5575-GNVDE</td>\n",
              "      <td>2017-04-01</td>\n",
              "      <td>No</td>\n",
              "      <td>One year</td>\n",
              "      <td>No</td>\n",
              "      <td>Mailed check</td>\n",
              "      <td>56.95</td>\n",
              "      <td>1889.5</td>\n",
              "      <td>Male</td>\n",
              "      <td>0</td>\n",
              "      <td>...</td>\n",
              "      <td>No</td>\n",
              "      <td>DSL</td>\n",
              "      <td>Yes</td>\n",
              "      <td>No</td>\n",
              "      <td>Yes</td>\n",
              "      <td>No</td>\n",
              "      <td>No</td>\n",
              "      <td>No</td>\n",
              "      <td>No</td>\n",
              "      <td>0</td>\n",
              "    </tr>\n",
              "    <tr>\n",
              "      <th>2</th>\n",
              "      <td>3668-QPYBK</td>\n",
              "      <td>2019-10-01</td>\n",
              "      <td>2019-12-01 00:00:00</td>\n",
              "      <td>Month-to-month</td>\n",
              "      <td>Yes</td>\n",
              "      <td>Mailed check</td>\n",
              "      <td>53.85</td>\n",
              "      <td>108.15</td>\n",
              "      <td>Male</td>\n",
              "      <td>0</td>\n",
              "      <td>...</td>\n",
              "      <td>No</td>\n",
              "      <td>DSL</td>\n",
              "      <td>Yes</td>\n",
              "      <td>Yes</td>\n",
              "      <td>No</td>\n",
              "      <td>No</td>\n",
              "      <td>No</td>\n",
              "      <td>No</td>\n",
              "      <td>No</td>\n",
              "      <td>1</td>\n",
              "    </tr>\n",
              "    <tr>\n",
              "      <th>3</th>\n",
              "      <td>7795-CFOCW</td>\n",
              "      <td>2016-05-01</td>\n",
              "      <td>No</td>\n",
              "      <td>One year</td>\n",
              "      <td>No</td>\n",
              "      <td>Bank transfer (automatic)</td>\n",
              "      <td>42.30</td>\n",
              "      <td>1840.75</td>\n",
              "      <td>Male</td>\n",
              "      <td>0</td>\n",
              "      <td>...</td>\n",
              "      <td>No</td>\n",
              "      <td>DSL</td>\n",
              "      <td>Yes</td>\n",
              "      <td>No</td>\n",
              "      <td>Yes</td>\n",
              "      <td>Yes</td>\n",
              "      <td>No</td>\n",
              "      <td>No</td>\n",
              "      <td>No</td>\n",
              "      <td>0</td>\n",
              "    </tr>\n",
              "    <tr>\n",
              "      <th>4</th>\n",
              "      <td>9237-HQITU</td>\n",
              "      <td>2019-09-01</td>\n",
              "      <td>2019-11-01 00:00:00</td>\n",
              "      <td>Month-to-month</td>\n",
              "      <td>Yes</td>\n",
              "      <td>Electronic check</td>\n",
              "      <td>70.70</td>\n",
              "      <td>151.65</td>\n",
              "      <td>Female</td>\n",
              "      <td>0</td>\n",
              "      <td>...</td>\n",
              "      <td>No</td>\n",
              "      <td>Fiber optic</td>\n",
              "      <td>No</td>\n",
              "      <td>No</td>\n",
              "      <td>No</td>\n",
              "      <td>No</td>\n",
              "      <td>No</td>\n",
              "      <td>No</td>\n",
              "      <td>No</td>\n",
              "      <td>1</td>\n",
              "    </tr>\n",
              "  </tbody>\n",
              "</table>\n",
              "<p>5 rows × 21 columns</p>\n",
              "</div>"
            ],
            "text/plain": [
              "   customerid   begindate              enddate            type  \\\n",
              "0  7590-VHVEG  2020-01-01                   No  Month-to-month   \n",
              "1  5575-GNVDE  2017-04-01                   No        One year   \n",
              "2  3668-QPYBK  2019-10-01  2019-12-01 00:00:00  Month-to-month   \n",
              "3  7795-CFOCW  2016-05-01                   No        One year   \n",
              "4  9237-HQITU  2019-09-01  2019-11-01 00:00:00  Month-to-month   \n",
              "\n",
              "  paperlessbilling              paymentmethod  monthlycharges totalcharges  \\\n",
              "0              Yes           Electronic check           29.85        29.85   \n",
              "1               No               Mailed check           56.95       1889.5   \n",
              "2              Yes               Mailed check           53.85       108.15   \n",
              "3               No  Bank transfer (automatic)           42.30      1840.75   \n",
              "4              Yes           Electronic check           70.70       151.65   \n",
              "\n",
              "   gender  seniorcitizen  ... dependents internetservice onlinesecurity  \\\n",
              "0  Female              0  ...         No             DSL             No   \n",
              "1    Male              0  ...         No             DSL            Yes   \n",
              "2    Male              0  ...         No             DSL            Yes   \n",
              "3    Male              0  ...         No             DSL            Yes   \n",
              "4  Female              0  ...         No     Fiber optic             No   \n",
              "\n",
              "  onlinebackup deviceprotection techsupport streamingtv streamingmovies  \\\n",
              "0          Yes               No          No          No              No   \n",
              "1           No              Yes          No          No              No   \n",
              "2          Yes               No          No          No              No   \n",
              "3           No              Yes         Yes          No              No   \n",
              "4           No               No          No          No              No   \n",
              "\n",
              "  multiplelines exited  \n",
              "0            No      0  \n",
              "1            No      0  \n",
              "2            No      1  \n",
              "3            No      0  \n",
              "4            No      1  \n",
              "\n",
              "[5 rows x 21 columns]"
            ]
          },
          "execution_count": 13,
          "metadata": {},
          "output_type": "execute_result"
        }
      ],
      "source": [
        "data_full['exited'] = data_full.apply(lambda x: 0 if x.enddate == 'No' else 1, axis=1)\n",
        "data_full.head()"
      ]
    },
    {
      "cell_type": "markdown",
      "metadata": {
        "id": "poPws2TLoSAD"
      },
      "source": [
        "В процессе работы выяснили, что в столбце 'totalcharges' нет пропусков, но есть пробелы."
      ]
    },
    {
      "cell_type": "code",
      "execution_count": null,
      "metadata": {
        "id": "8wYzbWBaoSAE",
        "outputId": "5f8ad0d6-cddd-4176-d2f8-7feb6ebe5ad0"
      },
      "outputs": [
        {
          "data": {
            "text/html": [
              "<div>\n",
              "<style scoped>\n",
              "    .dataframe tbody tr th:only-of-type {\n",
              "        vertical-align: middle;\n",
              "    }\n",
              "\n",
              "    .dataframe tbody tr th {\n",
              "        vertical-align: top;\n",
              "    }\n",
              "\n",
              "    .dataframe thead th {\n",
              "        text-align: right;\n",
              "    }\n",
              "</style>\n",
              "<table border=\"1\" class=\"dataframe\">\n",
              "  <thead>\n",
              "    <tr style=\"text-align: right;\">\n",
              "      <th></th>\n",
              "      <th>customerid</th>\n",
              "      <th>begindate</th>\n",
              "      <th>enddate</th>\n",
              "      <th>type</th>\n",
              "      <th>paperlessbilling</th>\n",
              "      <th>paymentmethod</th>\n",
              "      <th>monthlycharges</th>\n",
              "      <th>totalcharges</th>\n",
              "      <th>gender</th>\n",
              "      <th>seniorcitizen</th>\n",
              "      <th>...</th>\n",
              "      <th>dependents</th>\n",
              "      <th>internetservice</th>\n",
              "      <th>onlinesecurity</th>\n",
              "      <th>onlinebackup</th>\n",
              "      <th>deviceprotection</th>\n",
              "      <th>techsupport</th>\n",
              "      <th>streamingtv</th>\n",
              "      <th>streamingmovies</th>\n",
              "      <th>multiplelines</th>\n",
              "      <th>exited</th>\n",
              "    </tr>\n",
              "  </thead>\n",
              "  <tbody>\n",
              "    <tr>\n",
              "      <th>488</th>\n",
              "      <td>4472-LVYGI</td>\n",
              "      <td>2020-02-01</td>\n",
              "      <td>No</td>\n",
              "      <td>Two year</td>\n",
              "      <td>Yes</td>\n",
              "      <td>Bank transfer (automatic)</td>\n",
              "      <td>52.55</td>\n",
              "      <td></td>\n",
              "      <td>Female</td>\n",
              "      <td>0</td>\n",
              "      <td>...</td>\n",
              "      <td>Yes</td>\n",
              "      <td>DSL</td>\n",
              "      <td>Yes</td>\n",
              "      <td>No</td>\n",
              "      <td>Yes</td>\n",
              "      <td>Yes</td>\n",
              "      <td>Yes</td>\n",
              "      <td>No</td>\n",
              "      <td>No</td>\n",
              "      <td>0</td>\n",
              "    </tr>\n",
              "    <tr>\n",
              "      <th>753</th>\n",
              "      <td>3115-CZMZD</td>\n",
              "      <td>2020-02-01</td>\n",
              "      <td>No</td>\n",
              "      <td>Two year</td>\n",
              "      <td>No</td>\n",
              "      <td>Mailed check</td>\n",
              "      <td>20.25</td>\n",
              "      <td></td>\n",
              "      <td>Male</td>\n",
              "      <td>0</td>\n",
              "      <td>...</td>\n",
              "      <td>Yes</td>\n",
              "      <td>No</td>\n",
              "      <td>No</td>\n",
              "      <td>No</td>\n",
              "      <td>No</td>\n",
              "      <td>No</td>\n",
              "      <td>No</td>\n",
              "      <td>No</td>\n",
              "      <td>No</td>\n",
              "      <td>0</td>\n",
              "    </tr>\n",
              "    <tr>\n",
              "      <th>936</th>\n",
              "      <td>5709-LVOEQ</td>\n",
              "      <td>2020-02-01</td>\n",
              "      <td>No</td>\n",
              "      <td>Two year</td>\n",
              "      <td>No</td>\n",
              "      <td>Mailed check</td>\n",
              "      <td>80.85</td>\n",
              "      <td></td>\n",
              "      <td>Female</td>\n",
              "      <td>0</td>\n",
              "      <td>...</td>\n",
              "      <td>Yes</td>\n",
              "      <td>DSL</td>\n",
              "      <td>Yes</td>\n",
              "      <td>Yes</td>\n",
              "      <td>Yes</td>\n",
              "      <td>No</td>\n",
              "      <td>Yes</td>\n",
              "      <td>Yes</td>\n",
              "      <td>No</td>\n",
              "      <td>0</td>\n",
              "    </tr>\n",
              "    <tr>\n",
              "      <th>1082</th>\n",
              "      <td>4367-NUYAO</td>\n",
              "      <td>2020-02-01</td>\n",
              "      <td>No</td>\n",
              "      <td>Two year</td>\n",
              "      <td>No</td>\n",
              "      <td>Mailed check</td>\n",
              "      <td>25.75</td>\n",
              "      <td></td>\n",
              "      <td>Male</td>\n",
              "      <td>0</td>\n",
              "      <td>...</td>\n",
              "      <td>Yes</td>\n",
              "      <td>No</td>\n",
              "      <td>No</td>\n",
              "      <td>No</td>\n",
              "      <td>No</td>\n",
              "      <td>No</td>\n",
              "      <td>No</td>\n",
              "      <td>No</td>\n",
              "      <td>Yes</td>\n",
              "      <td>0</td>\n",
              "    </tr>\n",
              "    <tr>\n",
              "      <th>1340</th>\n",
              "      <td>1371-DWPAZ</td>\n",
              "      <td>2020-02-01</td>\n",
              "      <td>No</td>\n",
              "      <td>Two year</td>\n",
              "      <td>No</td>\n",
              "      <td>Credit card (automatic)</td>\n",
              "      <td>56.05</td>\n",
              "      <td></td>\n",
              "      <td>Female</td>\n",
              "      <td>0</td>\n",
              "      <td>...</td>\n",
              "      <td>Yes</td>\n",
              "      <td>DSL</td>\n",
              "      <td>Yes</td>\n",
              "      <td>Yes</td>\n",
              "      <td>Yes</td>\n",
              "      <td>Yes</td>\n",
              "      <td>Yes</td>\n",
              "      <td>No</td>\n",
              "      <td>No</td>\n",
              "      <td>0</td>\n",
              "    </tr>\n",
              "    <tr>\n",
              "      <th>3331</th>\n",
              "      <td>7644-OMVMY</td>\n",
              "      <td>2020-02-01</td>\n",
              "      <td>No</td>\n",
              "      <td>Two year</td>\n",
              "      <td>No</td>\n",
              "      <td>Mailed check</td>\n",
              "      <td>19.85</td>\n",
              "      <td></td>\n",
              "      <td>Male</td>\n",
              "      <td>0</td>\n",
              "      <td>...</td>\n",
              "      <td>Yes</td>\n",
              "      <td>No</td>\n",
              "      <td>No</td>\n",
              "      <td>No</td>\n",
              "      <td>No</td>\n",
              "      <td>No</td>\n",
              "      <td>No</td>\n",
              "      <td>No</td>\n",
              "      <td>No</td>\n",
              "      <td>0</td>\n",
              "    </tr>\n",
              "    <tr>\n",
              "      <th>3826</th>\n",
              "      <td>3213-VVOLG</td>\n",
              "      <td>2020-02-01</td>\n",
              "      <td>No</td>\n",
              "      <td>Two year</td>\n",
              "      <td>No</td>\n",
              "      <td>Mailed check</td>\n",
              "      <td>25.35</td>\n",
              "      <td></td>\n",
              "      <td>Male</td>\n",
              "      <td>0</td>\n",
              "      <td>...</td>\n",
              "      <td>Yes</td>\n",
              "      <td>No</td>\n",
              "      <td>No</td>\n",
              "      <td>No</td>\n",
              "      <td>No</td>\n",
              "      <td>No</td>\n",
              "      <td>No</td>\n",
              "      <td>No</td>\n",
              "      <td>Yes</td>\n",
              "      <td>0</td>\n",
              "    </tr>\n",
              "    <tr>\n",
              "      <th>4380</th>\n",
              "      <td>2520-SGTTA</td>\n",
              "      <td>2020-02-01</td>\n",
              "      <td>No</td>\n",
              "      <td>Two year</td>\n",
              "      <td>No</td>\n",
              "      <td>Mailed check</td>\n",
              "      <td>20.00</td>\n",
              "      <td></td>\n",
              "      <td>Female</td>\n",
              "      <td>0</td>\n",
              "      <td>...</td>\n",
              "      <td>Yes</td>\n",
              "      <td>No</td>\n",
              "      <td>No</td>\n",
              "      <td>No</td>\n",
              "      <td>No</td>\n",
              "      <td>No</td>\n",
              "      <td>No</td>\n",
              "      <td>No</td>\n",
              "      <td>No</td>\n",
              "      <td>0</td>\n",
              "    </tr>\n",
              "    <tr>\n",
              "      <th>5218</th>\n",
              "      <td>2923-ARZLG</td>\n",
              "      <td>2020-02-01</td>\n",
              "      <td>No</td>\n",
              "      <td>One year</td>\n",
              "      <td>Yes</td>\n",
              "      <td>Mailed check</td>\n",
              "      <td>19.70</td>\n",
              "      <td></td>\n",
              "      <td>Male</td>\n",
              "      <td>0</td>\n",
              "      <td>...</td>\n",
              "      <td>Yes</td>\n",
              "      <td>No</td>\n",
              "      <td>No</td>\n",
              "      <td>No</td>\n",
              "      <td>No</td>\n",
              "      <td>No</td>\n",
              "      <td>No</td>\n",
              "      <td>No</td>\n",
              "      <td>No</td>\n",
              "      <td>0</td>\n",
              "    </tr>\n",
              "    <tr>\n",
              "      <th>6670</th>\n",
              "      <td>4075-WKNIU</td>\n",
              "      <td>2020-02-01</td>\n",
              "      <td>No</td>\n",
              "      <td>Two year</td>\n",
              "      <td>No</td>\n",
              "      <td>Mailed check</td>\n",
              "      <td>73.35</td>\n",
              "      <td></td>\n",
              "      <td>Female</td>\n",
              "      <td>0</td>\n",
              "      <td>...</td>\n",
              "      <td>Yes</td>\n",
              "      <td>DSL</td>\n",
              "      <td>No</td>\n",
              "      <td>Yes</td>\n",
              "      <td>Yes</td>\n",
              "      <td>Yes</td>\n",
              "      <td>Yes</td>\n",
              "      <td>No</td>\n",
              "      <td>Yes</td>\n",
              "      <td>0</td>\n",
              "    </tr>\n",
              "    <tr>\n",
              "      <th>6754</th>\n",
              "      <td>2775-SEFEE</td>\n",
              "      <td>2020-02-01</td>\n",
              "      <td>No</td>\n",
              "      <td>Two year</td>\n",
              "      <td>Yes</td>\n",
              "      <td>Bank transfer (automatic)</td>\n",
              "      <td>61.90</td>\n",
              "      <td></td>\n",
              "      <td>Male</td>\n",
              "      <td>0</td>\n",
              "      <td>...</td>\n",
              "      <td>Yes</td>\n",
              "      <td>DSL</td>\n",
              "      <td>Yes</td>\n",
              "      <td>Yes</td>\n",
              "      <td>No</td>\n",
              "      <td>Yes</td>\n",
              "      <td>No</td>\n",
              "      <td>No</td>\n",
              "      <td>Yes</td>\n",
              "      <td>0</td>\n",
              "    </tr>\n",
              "  </tbody>\n",
              "</table>\n",
              "<p>11 rows × 21 columns</p>\n",
              "</div>"
            ],
            "text/plain": [
              "      customerid   begindate enddate      type paperlessbilling  \\\n",
              "488   4472-LVYGI  2020-02-01      No  Two year              Yes   \n",
              "753   3115-CZMZD  2020-02-01      No  Two year               No   \n",
              "936   5709-LVOEQ  2020-02-01      No  Two year               No   \n",
              "1082  4367-NUYAO  2020-02-01      No  Two year               No   \n",
              "1340  1371-DWPAZ  2020-02-01      No  Two year               No   \n",
              "3331  7644-OMVMY  2020-02-01      No  Two year               No   \n",
              "3826  3213-VVOLG  2020-02-01      No  Two year               No   \n",
              "4380  2520-SGTTA  2020-02-01      No  Two year               No   \n",
              "5218  2923-ARZLG  2020-02-01      No  One year              Yes   \n",
              "6670  4075-WKNIU  2020-02-01      No  Two year               No   \n",
              "6754  2775-SEFEE  2020-02-01      No  Two year              Yes   \n",
              "\n",
              "                  paymentmethod  monthlycharges totalcharges  gender  \\\n",
              "488   Bank transfer (automatic)           52.55               Female   \n",
              "753                Mailed check           20.25                 Male   \n",
              "936                Mailed check           80.85               Female   \n",
              "1082               Mailed check           25.75                 Male   \n",
              "1340    Credit card (automatic)           56.05               Female   \n",
              "3331               Mailed check           19.85                 Male   \n",
              "3826               Mailed check           25.35                 Male   \n",
              "4380               Mailed check           20.00               Female   \n",
              "5218               Mailed check           19.70                 Male   \n",
              "6670               Mailed check           73.35               Female   \n",
              "6754  Bank transfer (automatic)           61.90                 Male   \n",
              "\n",
              "      seniorcitizen  ... dependents internetservice onlinesecurity  \\\n",
              "488               0  ...        Yes             DSL            Yes   \n",
              "753               0  ...        Yes              No             No   \n",
              "936               0  ...        Yes             DSL            Yes   \n",
              "1082              0  ...        Yes              No             No   \n",
              "1340              0  ...        Yes             DSL            Yes   \n",
              "3331              0  ...        Yes              No             No   \n",
              "3826              0  ...        Yes              No             No   \n",
              "4380              0  ...        Yes              No             No   \n",
              "5218              0  ...        Yes              No             No   \n",
              "6670              0  ...        Yes             DSL             No   \n",
              "6754              0  ...        Yes             DSL            Yes   \n",
              "\n",
              "     onlinebackup deviceprotection techsupport streamingtv streamingmovies  \\\n",
              "488            No              Yes         Yes         Yes              No   \n",
              "753            No               No          No          No              No   \n",
              "936           Yes              Yes          No         Yes             Yes   \n",
              "1082           No               No          No          No              No   \n",
              "1340          Yes              Yes         Yes         Yes              No   \n",
              "3331           No               No          No          No              No   \n",
              "3826           No               No          No          No              No   \n",
              "4380           No               No          No          No              No   \n",
              "5218           No               No          No          No              No   \n",
              "6670          Yes              Yes         Yes         Yes              No   \n",
              "6754          Yes               No         Yes          No              No   \n",
              "\n",
              "     multiplelines exited  \n",
              "488             No      0  \n",
              "753             No      0  \n",
              "936             No      0  \n",
              "1082           Yes      0  \n",
              "1340            No      0  \n",
              "3331            No      0  \n",
              "3826           Yes      0  \n",
              "4380            No      0  \n",
              "5218            No      0  \n",
              "6670           Yes      0  \n",
              "6754           Yes      0  \n",
              "\n",
              "[11 rows x 21 columns]"
            ]
          },
          "execution_count": 14,
          "metadata": {},
          "output_type": "execute_result"
        }
      ],
      "source": [
        "data_full.loc[data_full['totalcharges']==' ']"
      ]
    },
    {
      "cell_type": "markdown",
      "metadata": {
        "id": "h5h-jtVSoSAE"
      },
      "source": [
        "Эти клиенты подключились в день сбора данных. Можно заполнить по этим клиентам значения столбца 'totalcharges' значением 'monthlycharges' или удалить, т.к их очень мало, всего 11 строк. Я их удалю."
      ]
    },
    {
      "cell_type": "code",
      "execution_count": null,
      "metadata": {
        "id": "HmC4ZH7qoSAE"
      },
      "outputs": [],
      "source": [
        "data_full = data_full.loc[data_full['totalcharges']!=' ']"
      ]
    },
    {
      "cell_type": "markdown",
      "metadata": {
        "id": "UE1nEI0ioSAE"
      },
      "source": [
        "Столбец 'totalcharges' имеет тип данных object, приведём его к типу float64."
      ]
    },
    {
      "cell_type": "code",
      "execution_count": null,
      "metadata": {
        "id": "xdxs4yvMoSAE"
      },
      "outputs": [],
      "source": [
        "data_full['totalcharges'] = data_full['totalcharges'].astype('float64')"
      ]
    },
    {
      "cell_type": "markdown",
      "metadata": {
        "id": "i1iFLX6koSAF"
      },
      "source": [
        "Приведем 'begindate' и 'enddate' к типу 'datetime'.Заполним 'NO' в 'enddate' датой выгрузки и, в новом столбце, посчитаем время, которое клиент являлся абонентом. Удалим 'begindate' и 'enddate'."
      ]
    },
    {
      "cell_type": "code",
      "execution_count": null,
      "metadata": {
        "id": "GEnAo1M6oSAF"
      },
      "outputs": [],
      "source": [
        "data_full['begindate'] = data_full['begindate'].astype('datetime64')\n",
        "date = '2020-02-01'\n",
        "data_full.loc[data_full['enddate'] == 'No', 'enddate'] = date\n",
        "data_full['enddate'] = data_full['enddate'].astype('datetime64')"
      ]
    },
    {
      "cell_type": "code",
      "execution_count": null,
      "metadata": {
        "id": "UhFHS0VyoSAF"
      },
      "outputs": [],
      "source": [
        "data_full['contract_time']=(data_full['enddate']-data_full['begindate']).dt.days"
      ]
    },
    {
      "cell_type": "code",
      "execution_count": null,
      "metadata": {
        "id": "G16WucvroSAG",
        "outputId": "129c1a17-646f-4198-f896-eeb0629e612f"
      },
      "outputs": [
        {
          "data": {
            "text/html": [
              "<div>\n",
              "<style scoped>\n",
              "    .dataframe tbody tr th:only-of-type {\n",
              "        vertical-align: middle;\n",
              "    }\n",
              "\n",
              "    .dataframe tbody tr th {\n",
              "        vertical-align: top;\n",
              "    }\n",
              "\n",
              "    .dataframe thead th {\n",
              "        text-align: right;\n",
              "    }\n",
              "</style>\n",
              "<table border=\"1\" class=\"dataframe\">\n",
              "  <thead>\n",
              "    <tr style=\"text-align: right;\">\n",
              "      <th></th>\n",
              "      <th>type</th>\n",
              "      <th>paperlessbilling</th>\n",
              "      <th>paymentmethod</th>\n",
              "      <th>monthlycharges</th>\n",
              "      <th>totalcharges</th>\n",
              "      <th>gender</th>\n",
              "      <th>seniorcitizen</th>\n",
              "      <th>partner</th>\n",
              "      <th>dependents</th>\n",
              "      <th>internetservice</th>\n",
              "      <th>onlinesecurity</th>\n",
              "      <th>onlinebackup</th>\n",
              "      <th>deviceprotection</th>\n",
              "      <th>techsupport</th>\n",
              "      <th>streamingtv</th>\n",
              "      <th>streamingmovies</th>\n",
              "      <th>multiplelines</th>\n",
              "      <th>exited</th>\n",
              "      <th>contract_time</th>\n",
              "    </tr>\n",
              "  </thead>\n",
              "  <tbody>\n",
              "    <tr>\n",
              "      <th>0</th>\n",
              "      <td>Month-to-month</td>\n",
              "      <td>Yes</td>\n",
              "      <td>Electronic check</td>\n",
              "      <td>29.85</td>\n",
              "      <td>29.85</td>\n",
              "      <td>Female</td>\n",
              "      <td>0</td>\n",
              "      <td>Yes</td>\n",
              "      <td>No</td>\n",
              "      <td>DSL</td>\n",
              "      <td>No</td>\n",
              "      <td>Yes</td>\n",
              "      <td>No</td>\n",
              "      <td>No</td>\n",
              "      <td>No</td>\n",
              "      <td>No</td>\n",
              "      <td>No</td>\n",
              "      <td>0</td>\n",
              "      <td>31</td>\n",
              "    </tr>\n",
              "    <tr>\n",
              "      <th>1</th>\n",
              "      <td>One year</td>\n",
              "      <td>No</td>\n",
              "      <td>Mailed check</td>\n",
              "      <td>56.95</td>\n",
              "      <td>1889.50</td>\n",
              "      <td>Male</td>\n",
              "      <td>0</td>\n",
              "      <td>No</td>\n",
              "      <td>No</td>\n",
              "      <td>DSL</td>\n",
              "      <td>Yes</td>\n",
              "      <td>No</td>\n",
              "      <td>Yes</td>\n",
              "      <td>No</td>\n",
              "      <td>No</td>\n",
              "      <td>No</td>\n",
              "      <td>No</td>\n",
              "      <td>0</td>\n",
              "      <td>1036</td>\n",
              "    </tr>\n",
              "    <tr>\n",
              "      <th>2</th>\n",
              "      <td>Month-to-month</td>\n",
              "      <td>Yes</td>\n",
              "      <td>Mailed check</td>\n",
              "      <td>53.85</td>\n",
              "      <td>108.15</td>\n",
              "      <td>Male</td>\n",
              "      <td>0</td>\n",
              "      <td>No</td>\n",
              "      <td>No</td>\n",
              "      <td>DSL</td>\n",
              "      <td>Yes</td>\n",
              "      <td>Yes</td>\n",
              "      <td>No</td>\n",
              "      <td>No</td>\n",
              "      <td>No</td>\n",
              "      <td>No</td>\n",
              "      <td>No</td>\n",
              "      <td>1</td>\n",
              "      <td>61</td>\n",
              "    </tr>\n",
              "    <tr>\n",
              "      <th>3</th>\n",
              "      <td>One year</td>\n",
              "      <td>No</td>\n",
              "      <td>Bank transfer (automatic)</td>\n",
              "      <td>42.30</td>\n",
              "      <td>1840.75</td>\n",
              "      <td>Male</td>\n",
              "      <td>0</td>\n",
              "      <td>No</td>\n",
              "      <td>No</td>\n",
              "      <td>DSL</td>\n",
              "      <td>Yes</td>\n",
              "      <td>No</td>\n",
              "      <td>Yes</td>\n",
              "      <td>Yes</td>\n",
              "      <td>No</td>\n",
              "      <td>No</td>\n",
              "      <td>No</td>\n",
              "      <td>0</td>\n",
              "      <td>1371</td>\n",
              "    </tr>\n",
              "    <tr>\n",
              "      <th>4</th>\n",
              "      <td>Month-to-month</td>\n",
              "      <td>Yes</td>\n",
              "      <td>Electronic check</td>\n",
              "      <td>70.70</td>\n",
              "      <td>151.65</td>\n",
              "      <td>Female</td>\n",
              "      <td>0</td>\n",
              "      <td>No</td>\n",
              "      <td>No</td>\n",
              "      <td>Fiber optic</td>\n",
              "      <td>No</td>\n",
              "      <td>No</td>\n",
              "      <td>No</td>\n",
              "      <td>No</td>\n",
              "      <td>No</td>\n",
              "      <td>No</td>\n",
              "      <td>No</td>\n",
              "      <td>1</td>\n",
              "      <td>61</td>\n",
              "    </tr>\n",
              "  </tbody>\n",
              "</table>\n",
              "</div>"
            ],
            "text/plain": [
              "             type paperlessbilling              paymentmethod  monthlycharges  \\\n",
              "0  Month-to-month              Yes           Electronic check           29.85   \n",
              "1        One year               No               Mailed check           56.95   \n",
              "2  Month-to-month              Yes               Mailed check           53.85   \n",
              "3        One year               No  Bank transfer (automatic)           42.30   \n",
              "4  Month-to-month              Yes           Electronic check           70.70   \n",
              "\n",
              "   totalcharges  gender  seniorcitizen partner dependents internetservice  \\\n",
              "0         29.85  Female              0     Yes         No             DSL   \n",
              "1       1889.50    Male              0      No         No             DSL   \n",
              "2        108.15    Male              0      No         No             DSL   \n",
              "3       1840.75    Male              0      No         No             DSL   \n",
              "4        151.65  Female              0      No         No     Fiber optic   \n",
              "\n",
              "  onlinesecurity onlinebackup deviceprotection techsupport streamingtv  \\\n",
              "0             No          Yes               No          No          No   \n",
              "1            Yes           No              Yes          No          No   \n",
              "2            Yes          Yes               No          No          No   \n",
              "3            Yes           No              Yes         Yes          No   \n",
              "4             No           No               No          No          No   \n",
              "\n",
              "  streamingmovies multiplelines  exited  contract_time  \n",
              "0              No            No       0             31  \n",
              "1              No            No       0           1036  \n",
              "2              No            No       1             61  \n",
              "3              No            No       0           1371  \n",
              "4              No            No       1             61  "
            ]
          },
          "execution_count": 19,
          "metadata": {},
          "output_type": "execute_result"
        }
      ],
      "source": [
        "data_full = data_full.drop(['enddate', 'begindate','customerid'], axis=1)\n",
        "data_full.head()"
      ]
    },
    {
      "cell_type": "markdown",
      "metadata": {
        "id": "VpMoJHWCoSAG"
      },
      "source": [
        "Сделаем выборку по ушедшим клиентам"
      ]
    },
    {
      "cell_type": "code",
      "execution_count": null,
      "metadata": {
        "id": "qNTcSdUOoSAG",
        "outputId": "204d9157-c0dd-4adc-858f-10f26ea950cb"
      },
      "outputs": [
        {
          "name": "stdout",
          "output_type": "stream",
          "text": [
            "26.578498293515356\n"
          ]
        }
      ],
      "source": [
        "data_exited = data_full[(data_full['exited']==1)]\n",
        "data_exited.shape\n",
        "print(len(data_exited)/len(data_full)*100)"
      ]
    },
    {
      "cell_type": "markdown",
      "metadata": {
        "id": "bUUDe_XaoSAG"
      },
      "source": [
        "Ушло 26,6% клиентов. Это много."
      ]
    },
    {
      "cell_type": "markdown",
      "metadata": {
        "id": "Gk4KG0nooSAH"
      },
      "source": [
        "Посмотрим сколько платили ушедшие клиенты"
      ]
    },
    {
      "cell_type": "code",
      "execution_count": null,
      "metadata": {
        "id": "DLRcYVChoSAH",
        "outputId": "11c49974-c37e-4aa5-da5a-f48b588f2dba"
      },
      "outputs": [
        {
          "data": {
            "image/png": "[encoded data removed]",
            "text/plain": [
              "<Figure size 864x432 with 1 Axes>"
            ]
          },
          "metadata": {
            "needs_background": "light"
          },
          "output_type": "display_data"
        }
      ],
      "source": [
        "ax = data_full.plot(kind='hist', y='monthlycharges', ec='black', bins=50, linewidth=1, alpha=0.5, label='Все клиенты', color='g')\n",
        "data_exited.plot(kind='hist', y='monthlycharges', ec='black', bins=50,linewidth=1, alpha=0.5, label='Ушедшие клиенты', ax=ax, figsize=(12,6),grid=True, legend=True, fontsize = 15, color='r')\n",
        "ax.set_title('Распределение ежемесячных платежей', fontsize=17, fontweight='bold')\n",
        "plt.show()"
      ]
    },
    {
      "cell_type": "markdown",
      "metadata": {
        "id": "LJeAIpxxoSAH"
      },
      "source": [
        "Видно, что много ушедших клиентов с ежемесячным платежем от 70 до 100. Также много клиентов ушло с ежемесячным платежем 20."
      ]
    },
    {
      "cell_type": "markdown",
      "metadata": {
        "id": "KvuYdWfxoSAH"
      },
      "source": [
        "Посмотрим на продолжительность контрактов"
      ]
    },
    {
      "cell_type": "code",
      "execution_count": null,
      "metadata": {
        "id": "TUUEScafoSAI",
        "outputId": "84d98383-3b23-4ccb-bc13-33f0a528c437"
      },
      "outputs": [
        {
          "data": {
            "text/plain": [
              "<AxesSubplot:xlabel='contract_time', ylabel='Density'>"
            ]
          },
          "execution_count": 22,
          "metadata": {},
          "output_type": "execute_result"
        },
        {
          "data": {
            "image/png": "[encoded data removed]",
            "text/plain": [
              "<Figure size 432x288 with 1 Axes>"
            ]
          },
          "metadata": {
            "needs_background": "light"
          },
          "output_type": "display_data"
        }
      ],
      "source": [
        "sns.distplot(data_exited['contract_time'])"
      ]
    },
    {
      "cell_type": "code",
      "execution_count": null,
      "metadata": {
        "id": "tLNqkMAXoSAI",
        "outputId": "80fc803b-d880-4919-a290-9dfd6d2453d2"
      },
      "outputs": [
        {
          "data": {
            "text/plain": [
              "<AxesSubplot:xlabel='contract_time', ylabel='Density'>"
            ]
          },
          "execution_count": 23,
          "metadata": {},
          "output_type": "execute_result"
        },
        {
          "data": {
            "image/png": "[encoded data removed]",
            "text/plain": [
              "<Figure size 432x288 with 1 Axes>"
            ]
          },
          "metadata": {
            "needs_background": "light"
          },
          "output_type": "display_data"
        }
      ],
      "source": [
        "sns.distplot(data_exited[data_exited['contract_time']<100]['contract_time'])"
      ]
    },
    {
      "cell_type": "markdown",
      "metadata": {
        "id": "FUONQhivoSAI"
      },
      "source": [
        "Видно, что чаще уходят те, кто пользуется услугами 1-2 месяца. Возможно для вновь подключившихся проводятся акции."
      ]
    },
    {
      "cell_type": "markdown",
      "metadata": {
        "id": "HyidLBcVoSAI"
      },
      "source": [
        "Посмотрим на корреляцию числовых признаков"
      ]
    },
    {
      "cell_type": "code",
      "execution_count": null,
      "metadata": {
        "id": "EHPxXOLCoSAJ",
        "outputId": "1e24404d-07de-40e5-87c8-f8ff2b9bcaa0"
      },
      "outputs": [
        {
          "data": {
            "image/png": "[encoded data removed]",
            "text/plain": [
              "<Figure size 432x288 with 2 Axes>"
            ]
          },
          "metadata": {},
          "output_type": "display_data"
        }
      ],
      "source": [
        "correlation = data_full[['totalcharges', 'monthlycharges', 'contract_time']]\n",
        "sns.set(font_scale=1)\n",
        "sns.heatmap(correlation.corr(), cmap='RdYlGn', annot=True)\n",
        "plt.title('Корреляция числовых признаков', fontsize=14)\n",
        "\n",
        "plt.show()"
      ]
    },
    {
      "cell_type": "markdown",
      "metadata": {
        "id": "rI2IaROUoSAJ"
      },
      "source": [
        "Сильная корреляция между признакаями 'contract_time' и 'totalcharges'. И средняя между 'totalcharges' и 'monthlycharges'. Удалим 'totalcharges'."
      ]
    },
    {
      "cell_type": "code",
      "execution_count": null,
      "metadata": {
        "id": "2ZOeFh1XoSAJ",
        "outputId": "f98eec58-d10a-4649-cf08-6e97ba144b5a"
      },
      "outputs": [
        {
          "data": {
            "text/html": [
              "<div>\n",
              "<style scoped>\n",
              "    .dataframe tbody tr th:only-of-type {\n",
              "        vertical-align: middle;\n",
              "    }\n",
              "\n",
              "    .dataframe tbody tr th {\n",
              "        vertical-align: top;\n",
              "    }\n",
              "\n",
              "    .dataframe thead th {\n",
              "        text-align: right;\n",
              "    }\n",
              "</style>\n",
              "<table border=\"1\" class=\"dataframe\">\n",
              "  <thead>\n",
              "    <tr style=\"text-align: right;\">\n",
              "      <th></th>\n",
              "      <th>type</th>\n",
              "      <th>paperlessbilling</th>\n",
              "      <th>paymentmethod</th>\n",
              "      <th>monthlycharges</th>\n",
              "      <th>gender</th>\n",
              "      <th>seniorcitizen</th>\n",
              "      <th>partner</th>\n",
              "      <th>dependents</th>\n",
              "      <th>internetservice</th>\n",
              "      <th>onlinesecurity</th>\n",
              "      <th>onlinebackup</th>\n",
              "      <th>deviceprotection</th>\n",
              "      <th>techsupport</th>\n",
              "      <th>streamingtv</th>\n",
              "      <th>streamingmovies</th>\n",
              "      <th>multiplelines</th>\n",
              "      <th>exited</th>\n",
              "      <th>contract_time</th>\n",
              "    </tr>\n",
              "  </thead>\n",
              "  <tbody>\n",
              "    <tr>\n",
              "      <th>0</th>\n",
              "      <td>Month-to-month</td>\n",
              "      <td>Yes</td>\n",
              "      <td>Electronic check</td>\n",
              "      <td>29.85</td>\n",
              "      <td>Female</td>\n",
              "      <td>0</td>\n",
              "      <td>Yes</td>\n",
              "      <td>No</td>\n",
              "      <td>DSL</td>\n",
              "      <td>No</td>\n",
              "      <td>Yes</td>\n",
              "      <td>No</td>\n",
              "      <td>No</td>\n",
              "      <td>No</td>\n",
              "      <td>No</td>\n",
              "      <td>No</td>\n",
              "      <td>0</td>\n",
              "      <td>31</td>\n",
              "    </tr>\n",
              "    <tr>\n",
              "      <th>1</th>\n",
              "      <td>One year</td>\n",
              "      <td>No</td>\n",
              "      <td>Mailed check</td>\n",
              "      <td>56.95</td>\n",
              "      <td>Male</td>\n",
              "      <td>0</td>\n",
              "      <td>No</td>\n",
              "      <td>No</td>\n",
              "      <td>DSL</td>\n",
              "      <td>Yes</td>\n",
              "      <td>No</td>\n",
              "      <td>Yes</td>\n",
              "      <td>No</td>\n",
              "      <td>No</td>\n",
              "      <td>No</td>\n",
              "      <td>No</td>\n",
              "      <td>0</td>\n",
              "      <td>1036</td>\n",
              "    </tr>\n",
              "    <tr>\n",
              "      <th>2</th>\n",
              "      <td>Month-to-month</td>\n",
              "      <td>Yes</td>\n",
              "      <td>Mailed check</td>\n",
              "      <td>53.85</td>\n",
              "      <td>Male</td>\n",
              "      <td>0</td>\n",
              "      <td>No</td>\n",
              "      <td>No</td>\n",
              "      <td>DSL</td>\n",
              "      <td>Yes</td>\n",
              "      <td>Yes</td>\n",
              "      <td>No</td>\n",
              "      <td>No</td>\n",
              "      <td>No</td>\n",
              "      <td>No</td>\n",
              "      <td>No</td>\n",
              "      <td>1</td>\n",
              "      <td>61</td>\n",
              "    </tr>\n",
              "    <tr>\n",
              "      <th>3</th>\n",
              "      <td>One year</td>\n",
              "      <td>No</td>\n",
              "      <td>Bank transfer (automatic)</td>\n",
              "      <td>42.30</td>\n",
              "      <td>Male</td>\n",
              "      <td>0</td>\n",
              "      <td>No</td>\n",
              "      <td>No</td>\n",
              "      <td>DSL</td>\n",
              "      <td>Yes</td>\n",
              "      <td>No</td>\n",
              "      <td>Yes</td>\n",
              "      <td>Yes</td>\n",
              "      <td>No</td>\n",
              "      <td>No</td>\n",
              "      <td>No</td>\n",
              "      <td>0</td>\n",
              "      <td>1371</td>\n",
              "    </tr>\n",
              "    <tr>\n",
              "      <th>4</th>\n",
              "      <td>Month-to-month</td>\n",
              "      <td>Yes</td>\n",
              "      <td>Electronic check</td>\n",
              "      <td>70.70</td>\n",
              "      <td>Female</td>\n",
              "      <td>0</td>\n",
              "      <td>No</td>\n",
              "      <td>No</td>\n",
              "      <td>Fiber optic</td>\n",
              "      <td>No</td>\n",
              "      <td>No</td>\n",
              "      <td>No</td>\n",
              "      <td>No</td>\n",
              "      <td>No</td>\n",
              "      <td>No</td>\n",
              "      <td>No</td>\n",
              "      <td>1</td>\n",
              "      <td>61</td>\n",
              "    </tr>\n",
              "  </tbody>\n",
              "</table>\n",
              "</div>"
            ],
            "text/plain": [
              "             type paperlessbilling              paymentmethod  monthlycharges  \\\n",
              "0  Month-to-month              Yes           Electronic check           29.85   \n",
              "1        One year               No               Mailed check           56.95   \n",
              "2  Month-to-month              Yes               Mailed check           53.85   \n",
              "3        One year               No  Bank transfer (automatic)           42.30   \n",
              "4  Month-to-month              Yes           Electronic check           70.70   \n",
              "\n",
              "   gender  seniorcitizen partner dependents internetservice onlinesecurity  \\\n",
              "0  Female              0     Yes         No             DSL             No   \n",
              "1    Male              0      No         No             DSL            Yes   \n",
              "2    Male              0      No         No             DSL            Yes   \n",
              "3    Male              0      No         No             DSL            Yes   \n",
              "4  Female              0      No         No     Fiber optic             No   \n",
              "\n",
              "  onlinebackup deviceprotection techsupport streamingtv streamingmovies  \\\n",
              "0          Yes               No          No          No              No   \n",
              "1           No              Yes          No          No              No   \n",
              "2          Yes               No          No          No              No   \n",
              "3           No              Yes         Yes          No              No   \n",
              "4           No               No          No          No              No   \n",
              "\n",
              "  multiplelines  exited  contract_time  \n",
              "0            No       0             31  \n",
              "1            No       0           1036  \n",
              "2            No       1             61  \n",
              "3            No       0           1371  \n",
              "4            No       1             61  "
            ]
          },
          "execution_count": 25,
          "metadata": {},
          "output_type": "execute_result"
        }
      ],
      "source": [
        "data_full = data_full.drop(['totalcharges'], axis=1)\n",
        "data_full.head()"
      ]
    },
    {
      "cell_type": "markdown",
      "metadata": {
        "id": "xFyYR7HyoSAJ"
      },
      "source": [
        "В столбцах с бинарными данными заменим 'yes' и 'no' на 1 и 0."
      ]
    },
    {
      "cell_type": "code",
      "execution_count": null,
      "metadata": {
        "id": "Ztc_vImToSAK",
        "outputId": "b66d4c6d-877b-47c8-a55f-4336374b56d2"
      },
      "outputs": [
        {
          "data": {
            "text/html": [
              "<div>\n",
              "<style scoped>\n",
              "    .dataframe tbody tr th:only-of-type {\n",
              "        vertical-align: middle;\n",
              "    }\n",
              "\n",
              "    .dataframe tbody tr th {\n",
              "        vertical-align: top;\n",
              "    }\n",
              "\n",
              "    .dataframe thead th {\n",
              "        text-align: right;\n",
              "    }\n",
              "</style>\n",
              "<table border=\"1\" class=\"dataframe\">\n",
              "  <thead>\n",
              "    <tr style=\"text-align: right;\">\n",
              "      <th></th>\n",
              "      <th>type</th>\n",
              "      <th>paperlessbilling</th>\n",
              "      <th>paymentmethod</th>\n",
              "      <th>monthlycharges</th>\n",
              "      <th>gender</th>\n",
              "      <th>seniorcitizen</th>\n",
              "      <th>partner</th>\n",
              "      <th>dependents</th>\n",
              "      <th>internetservice</th>\n",
              "      <th>onlinesecurity</th>\n",
              "      <th>onlinebackup</th>\n",
              "      <th>deviceprotection</th>\n",
              "      <th>techsupport</th>\n",
              "      <th>streamingtv</th>\n",
              "      <th>streamingmovies</th>\n",
              "      <th>multiplelines</th>\n",
              "      <th>exited</th>\n",
              "      <th>contract_time</th>\n",
              "    </tr>\n",
              "  </thead>\n",
              "  <tbody>\n",
              "    <tr>\n",
              "      <th>0</th>\n",
              "      <td>Month-to-month</td>\n",
              "      <td>1</td>\n",
              "      <td>Electronic check</td>\n",
              "      <td>29.85</td>\n",
              "      <td>1</td>\n",
              "      <td>0</td>\n",
              "      <td>1</td>\n",
              "      <td>0</td>\n",
              "      <td>DSL</td>\n",
              "      <td>0</td>\n",
              "      <td>1</td>\n",
              "      <td>0</td>\n",
              "      <td>0</td>\n",
              "      <td>0</td>\n",
              "      <td>0</td>\n",
              "      <td>0</td>\n",
              "      <td>0</td>\n",
              "      <td>31</td>\n",
              "    </tr>\n",
              "    <tr>\n",
              "      <th>1</th>\n",
              "      <td>One year</td>\n",
              "      <td>0</td>\n",
              "      <td>Mailed check</td>\n",
              "      <td>56.95</td>\n",
              "      <td>0</td>\n",
              "      <td>0</td>\n",
              "      <td>0</td>\n",
              "      <td>0</td>\n",
              "      <td>DSL</td>\n",
              "      <td>1</td>\n",
              "      <td>0</td>\n",
              "      <td>1</td>\n",
              "      <td>0</td>\n",
              "      <td>0</td>\n",
              "      <td>0</td>\n",
              "      <td>0</td>\n",
              "      <td>0</td>\n",
              "      <td>1036</td>\n",
              "    </tr>\n",
              "    <tr>\n",
              "      <th>2</th>\n",
              "      <td>Month-to-month</td>\n",
              "      <td>1</td>\n",
              "      <td>Mailed check</td>\n",
              "      <td>53.85</td>\n",
              "      <td>0</td>\n",
              "      <td>0</td>\n",
              "      <td>0</td>\n",
              "      <td>0</td>\n",
              "      <td>DSL</td>\n",
              "      <td>1</td>\n",
              "      <td>1</td>\n",
              "      <td>0</td>\n",
              "      <td>0</td>\n",
              "      <td>0</td>\n",
              "      <td>0</td>\n",
              "      <td>0</td>\n",
              "      <td>1</td>\n",
              "      <td>61</td>\n",
              "    </tr>\n",
              "    <tr>\n",
              "      <th>3</th>\n",
              "      <td>One year</td>\n",
              "      <td>0</td>\n",
              "      <td>Bank transfer (automatic)</td>\n",
              "      <td>42.30</td>\n",
              "      <td>0</td>\n",
              "      <td>0</td>\n",
              "      <td>0</td>\n",
              "      <td>0</td>\n",
              "      <td>DSL</td>\n",
              "      <td>1</td>\n",
              "      <td>0</td>\n",
              "      <td>1</td>\n",
              "      <td>1</td>\n",
              "      <td>0</td>\n",
              "      <td>0</td>\n",
              "      <td>0</td>\n",
              "      <td>0</td>\n",
              "      <td>1371</td>\n",
              "    </tr>\n",
              "    <tr>\n",
              "      <th>4</th>\n",
              "      <td>Month-to-month</td>\n",
              "      <td>1</td>\n",
              "      <td>Electronic check</td>\n",
              "      <td>70.70</td>\n",
              "      <td>1</td>\n",
              "      <td>0</td>\n",
              "      <td>0</td>\n",
              "      <td>0</td>\n",
              "      <td>Fiber optic</td>\n",
              "      <td>0</td>\n",
              "      <td>0</td>\n",
              "      <td>0</td>\n",
              "      <td>0</td>\n",
              "      <td>0</td>\n",
              "      <td>0</td>\n",
              "      <td>0</td>\n",
              "      <td>1</td>\n",
              "      <td>61</td>\n",
              "    </tr>\n",
              "  </tbody>\n",
              "</table>\n",
              "</div>"
            ],
            "text/plain": [
              "             type  paperlessbilling              paymentmethod  \\\n",
              "0  Month-to-month                 1           Electronic check   \n",
              "1        One year                 0               Mailed check   \n",
              "2  Month-to-month                 1               Mailed check   \n",
              "3        One year                 0  Bank transfer (automatic)   \n",
              "4  Month-to-month                 1           Electronic check   \n",
              "\n",
              "   monthlycharges  gender  seniorcitizen  partner  dependents internetservice  \\\n",
              "0           29.85       1              0        1           0             DSL   \n",
              "1           56.95       0              0        0           0             DSL   \n",
              "2           53.85       0              0        0           0             DSL   \n",
              "3           42.30       0              0        0           0             DSL   \n",
              "4           70.70       1              0        0           0     Fiber optic   \n",
              "\n",
              "   onlinesecurity  onlinebackup  deviceprotection  techsupport  streamingtv  \\\n",
              "0               0             1                 0            0            0   \n",
              "1               1             0                 1            0            0   \n",
              "2               1             1                 0            0            0   \n",
              "3               1             0                 1            1            0   \n",
              "4               0             0                 0            0            0   \n",
              "\n",
              "   streamingmovies  multiplelines  exited  contract_time  \n",
              "0                0              0       0             31  \n",
              "1                0              0       0           1036  \n",
              "2                0              0       1             61  \n",
              "3                0              0       0           1371  \n",
              "4                0              0       1             61  "
            ]
          },
          "execution_count": 26,
          "metadata": {},
          "output_type": "execute_result"
        }
      ],
      "source": [
        "data_full['multiplelines'] = pd.Series(np.where(data_full['multiplelines'].values == 'Yes', 1, 0),data_full.index)\n",
        "data_full['dependents'] = pd.Series(np.where(data_full['dependents'].values == 'Yes', 1, 0),data_full.index)\n",
        "data_full['partner'] = pd.Series(np.where(data_full['partner'].values == 'Yes', 1, 0),data_full.index)\n",
        "data_full['gender'] = pd.Series(np.where(data_full['gender'].values == 'Female', 1, 0),data_full.index)\n",
        "data_full['streamingmovies'] = pd.Series(np.where(data_full['streamingmovies'].values == 'Yes', 1, 0),data_full.index)\n",
        "data_full['streamingtv'] = pd.Series(np.where(data_full['streamingtv'].values == 'Yes', 1, 0),data_full.index)\n",
        "data_full['techsupport'] = pd.Series(np.where(data_full['techsupport'].values == 'Yes', 1, 0),data_full.index)\n",
        "data_full['deviceprotection'] = pd.Series(np.where(data_full['deviceprotection'].values == 'Yes', 1, 0),data_full.index)\n",
        "data_full['onlinebackup'] = pd.Series(np.where(data_full['onlinebackup'].values == 'Yes', 1, 0),data_full.index)\n",
        "data_full['onlinesecurity'] = pd.Series(np.where(data_full['onlinesecurity'].values == 'Yes', 1, 0),data_full.index)\n",
        "data_full['paperlessbilling'] = pd.Series(np.where(data_full['paperlessbilling'].values == 'Yes',1,0),data_full.index)\n",
        "data_full.head()"
      ]
    },
    {
      "cell_type": "markdown",
      "metadata": {
        "id": "HUv1x1L0oSAK"
      },
      "source": [
        "Метод ОНЕ применим для столбцов с более чем 2 призниками"
      ]
    },
    {
      "cell_type": "code",
      "execution_count": null,
      "metadata": {
        "id": "GUDA7-4coSAK",
        "outputId": "20f17e27-1288-48f2-88b5-92eeeddad2b6"
      },
      "outputs": [
        {
          "name": "stdout",
          "output_type": "stream",
          "text": [
            "<class 'pandas.core.frame.DataFrame'>\n",
            "Int64Index: 7032 entries, 0 to 7042\n",
            "Data columns (total 22 columns):\n",
            " #   Column                                 Non-Null Count  Dtype  \n",
            "---  ------                                 --------------  -----  \n",
            " 0   paperlessbilling                       7032 non-null   int64  \n",
            " 1   monthlycharges                         7032 non-null   float64\n",
            " 2   gender                                 7032 non-null   int64  \n",
            " 3   seniorcitizen                          7032 non-null   int64  \n",
            " 4   partner                                7032 non-null   int64  \n",
            " 5   dependents                             7032 non-null   int64  \n",
            " 6   onlinesecurity                         7032 non-null   int64  \n",
            " 7   onlinebackup                           7032 non-null   int64  \n",
            " 8   deviceprotection                       7032 non-null   int64  \n",
            " 9   techsupport                            7032 non-null   int64  \n",
            " 10  streamingtv                            7032 non-null   int64  \n",
            " 11  streamingmovies                        7032 non-null   int64  \n",
            " 12  multiplelines                          7032 non-null   int64  \n",
            " 13  exited                                 7032 non-null   int64  \n",
            " 14  contract_time                          7032 non-null   int64  \n",
            " 15  type_One year                          7032 non-null   uint8  \n",
            " 16  type_Two year                          7032 non-null   uint8  \n",
            " 17  internetservice_Fiber optic            7032 non-null   uint8  \n",
            " 18  internetservice_No                     7032 non-null   uint8  \n",
            " 19  paymentmethod_Credit card (automatic)  7032 non-null   uint8  \n",
            " 20  paymentmethod_Electronic check         7032 non-null   uint8  \n",
            " 21  paymentmethod_Mailed check             7032 non-null   uint8  \n",
            "dtypes: float64(1), int64(14), uint8(7)\n",
            "memory usage: 927.1 KB\n"
          ]
        }
      ],
      "source": [
        "data_ohe = pd.get_dummies(data_full, columns = ['type', 'internetservice','paymentmethod'], drop_first = True)\n",
        "data_ohe.info()"
      ]
    },
    {
      "cell_type": "markdown",
      "metadata": {
        "id": "d_6RTY8yoSAK"
      },
      "source": [
        "### Обучение моделей"
      ]
    },
    {
      "cell_type": "markdown",
      "metadata": {
        "id": "vEcGwR6xoSAL"
      },
      "source": [
        "Выделим признаки и целевой признак."
      ]
    },
    {
      "cell_type": "code",
      "execution_count": null,
      "metadata": {
        "id": "uM89a8kkoSAL"
      },
      "outputs": [],
      "source": [
        "target = data_ohe['exited']\n",
        "features = data_ohe.drop('exited', axis=1)"
      ]
    },
    {
      "cell_type": "markdown",
      "metadata": {
        "id": "3Adrehd5oSAL"
      },
      "source": [
        "Разобьем датасет на train и test."
      ]
    },
    {
      "cell_type": "code",
      "execution_count": null,
      "metadata": {
        "id": "wv-PPAtYoSAL"
      },
      "outputs": [],
      "source": [
        "features_train, features_test, target_train, target_test = train_test_split(features, target,\n",
        "                                                                              test_size = 0.20,\n",
        "                                                                              random_state = 25072022,\n",
        "                                                                              stratify = target,\n",
        "                                                                              shuffle = True)"
      ]
    },
    {
      "cell_type": "markdown",
      "metadata": {
        "id": "ps5RMUvuoSAM"
      },
      "source": [
        "Теперь масштабируем числовые признаки с помощью StandardScaler."
      ]
    },
    {
      "cell_type": "code",
      "execution_count": null,
      "metadata": {
        "id": "1jo81AEpoSAM"
      },
      "outputs": [],
      "source": [
        "numeric = ['monthlycharges', 'contract_time']\n",
        "\n",
        "scaler = StandardScaler()\n",
        "scaler.fit(features_train[numeric])\n",
        "\n",
        "features_train[numeric] = scaler.transform(features_train[numeric])\n",
        "features_test[numeric] = scaler.transform(features_test[numeric])\n",
        "\n",
        "#features_train.head()"
      ]
    },
    {
      "cell_type": "code",
      "execution_count": null,
      "metadata": {
        "id": "RfPcpIupoSAM",
        "outputId": "2c24ae51-d1fa-4440-8ce8-d1ff0becc588"
      },
      "outputs": [
        {
          "name": "stdout",
          "output_type": "stream",
          "text": [
            "Размер обучающей выборки:  (5625, 21)\n",
            "Размер тестовой выборки:  (1407, 21)\n"
          ]
        }
      ],
      "source": [
        "print('Размер обучающей выборки: ', features_train.shape)\n",
        "print('Размер тестовой выборки: ', features_test.shape)"
      ]
    },
    {
      "cell_type": "markdown",
      "metadata": {
        "id": "teKNZ1qhoSAM"
      },
      "source": [
        "Функция для кроссвалидации по модели."
      ]
    },
    {
      "cell_type": "code",
      "execution_count": null,
      "metadata": {
        "id": "jnLN19zEoSAN"
      },
      "outputs": [],
      "source": [
        "def grid(model, features, target, params):\n",
        "    roc_auc_scorer=make_scorer(roc_auc_score, greater_is_better=True, needs_threshold=True)\n",
        "    grid= GridSearchCV(model, params, scoring=roc_auc_scorer, cv=5, n_jobs = -1)\n",
        "    grid.fit(features, target)\n",
        "    print('Лучшие гиперпараметры для модели: ', grid.best_params_)\n",
        "    print('Лучшая метрика ROC_AUC: {:.3f}'.format(grid.best_score_))"
      ]
    },
    {
      "cell_type": "markdown",
      "metadata": {
        "id": "e-HYfYmJoSAN"
      },
      "source": [
        "Логистическая регрессия"
      ]
    },
    {
      "cell_type": "code",
      "execution_count": null,
      "metadata": {
        "id": "gpZiMbl7oSAN",
        "outputId": "16ed5f9d-e264-4601-e706-eed65ede53a1"
      },
      "outputs": [
        {
          "name": "stdout",
          "output_type": "stream",
          "text": [
            "Лучшие гиперпараметры для модели:  {'C': 8, 'class_weight': 'balanced'}\n",
            "Лучшая метрика ROC_AUC: 0.842\n",
            "CPU times: user 7.85 s, sys: 21.3 s, total: 29.1 s\n",
            "Wall time: 29 s\n"
          ]
        }
      ],
      "source": [
        "%%time\n",
        "lr_model = LogisticRegression(random_state=25072022)\n",
        "lr_params = {'class_weight':['balanced',None], 'C':[2, 5,8]}\n",
        "grid(lr_model, features_train, target_train, lr_params)"
      ]
    },
    {
      "cell_type": "markdown",
      "metadata": {
        "id": "67Ds0xsEoSAN"
      },
      "source": [
        "Дерево решений"
      ]
    },
    {
      "cell_type": "code",
      "execution_count": null,
      "metadata": {
        "id": "99XRlizhoSAO",
        "outputId": "94737c66-5814-429b-b20d-ee569713b0b5"
      },
      "outputs": [
        {
          "name": "stdout",
          "output_type": "stream",
          "text": [
            "Лучшие гиперпараметры для модели:  {'class_weight': None, 'max_depth': 6}\n",
            "Лучшая метрика ROC_AUC: 0.849\n",
            "CPU times: user 688 ms, sys: 68.7 ms, total: 757 ms\n",
            "Wall time: 786 ms\n"
          ]
        }
      ],
      "source": [
        "%%time\n",
        "tree_model = DecisionTreeClassifier(random_state=25072022)\n",
        "tree_params = {'max_depth': range(1, 17, 5),'class_weight':['balanced',None]}\n",
        "grid(tree_model, features_train, target_train, tree_params)"
      ]
    },
    {
      "cell_type": "markdown",
      "metadata": {
        "id": "uEkNgE3PoSAO"
      },
      "source": [
        "Случайный лес"
      ]
    },
    {
      "cell_type": "code",
      "execution_count": null,
      "metadata": {
        "id": "8PGCYawMoSAO",
        "outputId": "d907db56-1c55-4ed1-e42c-f8423aa56504"
      },
      "outputs": [
        {
          "name": "stdout",
          "output_type": "stream",
          "text": [
            "Лучшие гиперпараметры для модели:  {'class_weight': None, 'max_depth': 7, 'n_estimators': 41}\n",
            "Лучшая метрика ROC_AUC: 0.857\n",
            "CPU times: user 35 s, sys: 671 ms, total: 35.6 s\n",
            "Wall time: 35.7 s\n"
          ]
        }
      ],
      "source": [
        "%%time\n",
        "forest_model = RandomForestClassifier(random_state=25072022)\n",
        "forest_params={'max_depth': range(1, 13, 2), 'class_weight':['balanced',None], 'n_estimators':range(1,45,5)}\n",
        "grid(forest_model, features_train, target_train, forest_params)"
      ]
    },
    {
      "cell_type": "markdown",
      "metadata": {
        "id": "mi8ZshlroSAO"
      },
      "source": [
        "CatBoostClassifier"
      ]
    },
    {
      "cell_type": "code",
      "execution_count": null,
      "metadata": {
        "id": "6ZSgMGgKoSAP",
        "outputId": "1151a243-13f2-4d8e-8ea2-535f4be98f52"
      },
      "outputs": [
        {
          "name": "stdout",
          "output_type": "stream",
          "text": [
            "Лучшие гиперпараметры для модели:  {'learning_rate': 0.02, 'max_depth': 5, 'n_estimators': 800}\n",
            "Лучшая метрика ROC_AUC: 0.896\n",
            "CPU times: user 8.32 s, sys: 430 ms, total: 8.75 s\n",
            "Wall time: 15.8 s\n"
          ]
        }
      ],
      "source": [
        "%%time\n",
        "cbc_model = CatBoostClassifier(random_state=25072022, silent=True, loss_function='CrossEntropy')\n",
        "cbc_params = {'max_depth': [5], 'learning_rate': [0.02], 'n_estimators': [800]}\n",
        "               \n",
        "grid(cbc_model, features_train, target_train, cbc_params)"
      ]
    },
    {
      "cell_type": "markdown",
      "metadata": {
        "id": "BG6kxjXToSAP"
      },
      "source": [
        "Лучшая модель 'CatBoostClassifier' ROC_AUC: 0.896"
      ]
    },
    {
      "cell_type": "markdown",
      "metadata": {
        "id": "mrLNbRFfoSAP"
      },
      "source": [
        "### Тестирование модели"
      ]
    },
    {
      "cell_type": "code",
      "execution_count": null,
      "metadata": {
        "id": "n5pJ8odroSAP",
        "outputId": "f11aecfc-9fe5-4b92-9282-a0154053ca2f"
      },
      "outputs": [
        {
          "name": "stdout",
          "output_type": "stream",
          "text": [
            "Accuracy: 0.853\n",
            "AUC-ROC: 0.899\n",
            "CPU times: user 1.48 s, sys: 98.3 ms, total: 1.58 s\n",
            "Wall time: 2.58 s\n"
          ]
        },
        {
          "data": {
            "image/png": "[encoded data removed]",
            "text/plain": [
              "<Figure size 432x288 with 1 Axes>"
            ]
          },
          "metadata": {},
          "output_type": "display_data"
        }
      ],
      "source": [
        "%%time\n",
        "cbc_test = CatBoostClassifier(n_estimators=800, silent=True, loss_function='CrossEntropy', \n",
        "                        learning_rate=0.02, max_depth=5, random_state=25072022)\n",
        "cbc_test.fit(features_train, target_train)\n",
        "predictions_cbc = cbc_test.predict(features_test)\n",
        "probabilities_test = cbc_test.predict_proba(features_test)\n",
        "probabilities_one_test = probabilities_test[:,1]\n",
        "fpr, tpr, thresholds = roc_curve(target_test, probabilities_one_test)\n",
        "plt.figure()  \n",
        "plt.plot(fpr, tpr)\n",
        "plt.plot([0, 1], [0, 1], linestyle='--', label='RandomModel')\n",
        "plt.xlim([0,1])\n",
        "plt.ylim([0,1])\n",
        "plt.xlabel('False Positive Rate')\n",
        "plt.ylabel('True Positive Rate')\n",
        "plt.title('ROC - кривая')\n",
        "#plt.legend(loc='lower right', fontsize='x-large')\n",
        "print('Accuracy: {:.3f}' .format(accuracy_score(target_test, predictions_cbc)))\n",
        "print('AUC-ROC: {:.3f}' .format(roc_auc_score(target_test, probabilities_one_test)))"
      ]
    },
    {
      "cell_type": "markdown",
      "metadata": {
        "id": "RtxREBlZoSAQ"
      },
      "source": [
        "На тесте AUC-ROC= 0.899 и Accuracy= 0.853."
      ]
    },
    {
      "cell_type": "markdown",
      "metadata": {
        "id": "iPsyXzBSoSAQ"
      },
      "source": [
        "Посмотрим важность признаков для нашей модели"
      ]
    },
    {
      "cell_type": "code",
      "execution_count": null,
      "metadata": {
        "id": "amIxsTYnoSAQ",
        "outputId": "a62d02d0-0262-49b4-f9d9-855d63a9db9a"
      },
      "outputs": [
        {
          "data": {
            "text/html": [
              "<div>\n",
              "<style scoped>\n",
              "    .dataframe tbody tr th:only-of-type {\n",
              "        vertical-align: middle;\n",
              "    }\n",
              "\n",
              "    .dataframe tbody tr th {\n",
              "        vertical-align: top;\n",
              "    }\n",
              "\n",
              "    .dataframe thead th {\n",
              "        text-align: right;\n",
              "    }\n",
              "</style>\n",
              "<table border=\"1\" class=\"dataframe\">\n",
              "  <thead>\n",
              "    <tr style=\"text-align: right;\">\n",
              "      <th></th>\n",
              "      <th>feature</th>\n",
              "      <th>percent</th>\n",
              "    </tr>\n",
              "  </thead>\n",
              "  <tbody>\n",
              "    <tr>\n",
              "      <th>0</th>\n",
              "      <td>contract_time</td>\n",
              "      <td>59.485624</td>\n",
              "    </tr>\n",
              "    <tr>\n",
              "      <th>1</th>\n",
              "      <td>monthlycharges</td>\n",
              "      <td>9.066534</td>\n",
              "    </tr>\n",
              "    <tr>\n",
              "      <th>2</th>\n",
              "      <td>type_Two year</td>\n",
              "      <td>6.802025</td>\n",
              "    </tr>\n",
              "    <tr>\n",
              "      <th>3</th>\n",
              "      <td>internetservice_Fiber optic</td>\n",
              "      <td>3.581131</td>\n",
              "    </tr>\n",
              "    <tr>\n",
              "      <th>4</th>\n",
              "      <td>internetservice_No</td>\n",
              "      <td>2.469829</td>\n",
              "    </tr>\n",
              "    <tr>\n",
              "      <th>5</th>\n",
              "      <td>paymentmethod_Electronic check</td>\n",
              "      <td>2.176017</td>\n",
              "    </tr>\n",
              "    <tr>\n",
              "      <th>6</th>\n",
              "      <td>type_One year</td>\n",
              "      <td>2.151743</td>\n",
              "    </tr>\n",
              "    <tr>\n",
              "      <th>7</th>\n",
              "      <td>paperlessbilling</td>\n",
              "      <td>2.073436</td>\n",
              "    </tr>\n",
              "    <tr>\n",
              "      <th>8</th>\n",
              "      <td>techsupport</td>\n",
              "      <td>1.714963</td>\n",
              "    </tr>\n",
              "    <tr>\n",
              "      <th>9</th>\n",
              "      <td>seniorcitizen</td>\n",
              "      <td>1.162631</td>\n",
              "    </tr>\n",
              "    <tr>\n",
              "      <th>10</th>\n",
              "      <td>multiplelines</td>\n",
              "      <td>1.112840</td>\n",
              "    </tr>\n",
              "    <tr>\n",
              "      <th>11</th>\n",
              "      <td>paymentmethod_Credit card (automatic)</td>\n",
              "      <td>1.086769</td>\n",
              "    </tr>\n",
              "    <tr>\n",
              "      <th>12</th>\n",
              "      <td>onlinesecurity</td>\n",
              "      <td>1.029891</td>\n",
              "    </tr>\n",
              "    <tr>\n",
              "      <th>13</th>\n",
              "      <td>paymentmethod_Mailed check</td>\n",
              "      <td>0.966815</td>\n",
              "    </tr>\n",
              "    <tr>\n",
              "      <th>14</th>\n",
              "      <td>streamingmovies</td>\n",
              "      <td>0.936823</td>\n",
              "    </tr>\n",
              "    <tr>\n",
              "      <th>15</th>\n",
              "      <td>gender</td>\n",
              "      <td>0.932523</td>\n",
              "    </tr>\n",
              "    <tr>\n",
              "      <th>16</th>\n",
              "      <td>streamingtv</td>\n",
              "      <td>0.831343</td>\n",
              "    </tr>\n",
              "    <tr>\n",
              "      <th>17</th>\n",
              "      <td>onlinebackup</td>\n",
              "      <td>0.827805</td>\n",
              "    </tr>\n",
              "    <tr>\n",
              "      <th>18</th>\n",
              "      <td>dependents</td>\n",
              "      <td>0.700768</td>\n",
              "    </tr>\n",
              "    <tr>\n",
              "      <th>19</th>\n",
              "      <td>partner</td>\n",
              "      <td>0.537615</td>\n",
              "    </tr>\n",
              "    <tr>\n",
              "      <th>20</th>\n",
              "      <td>deviceprotection</td>\n",
              "      <td>0.352875</td>\n",
              "    </tr>\n",
              "  </tbody>\n",
              "</table>\n",
              "</div>"
            ],
            "text/plain": [
              "                                  feature    percent\n",
              "0                           contract_time  59.485624\n",
              "1                          monthlycharges   9.066534\n",
              "2                           type_Two year   6.802025\n",
              "3             internetservice_Fiber optic   3.581131\n",
              "4                      internetservice_No   2.469829\n",
              "5          paymentmethod_Electronic check   2.176017\n",
              "6                           type_One year   2.151743\n",
              "7                        paperlessbilling   2.073436\n",
              "8                             techsupport   1.714963\n",
              "9                           seniorcitizen   1.162631\n",
              "10                          multiplelines   1.112840\n",
              "11  paymentmethod_Credit card (automatic)   1.086769\n",
              "12                         onlinesecurity   1.029891\n",
              "13             paymentmethod_Mailed check   0.966815\n",
              "14                        streamingmovies   0.936823\n",
              "15                                 gender   0.932523\n",
              "16                            streamingtv   0.831343\n",
              "17                           onlinebackup   0.827805\n",
              "18                             dependents   0.700768\n",
              "19                                partner   0.537615\n",
              "20                       deviceprotection   0.352875"
            ]
          },
          "execution_count": 38,
          "metadata": {},
          "output_type": "execute_result"
        }
      ],
      "source": [
        "feat_import = pd.DataFrame(data = {'feature': features_train.columns, 'percent': cbc_test.feature_importances_})\n",
        "feat_import.sort_values('percent', ascending=False).reset_index(drop=True)"
      ]
    },
    {
      "cell_type": "code",
      "execution_count": null,
      "metadata": {
        "id": "16_XlmsdoSAQ",
        "outputId": "605f73ae-7ebc-4a4a-cde3-bca72ad1fb78"
      },
      "outputs": [
        {
          "data": {
            "text/plain": [
              "<BarContainer object of 21 artists>"
            ]
          },
          "execution_count": 39,
          "metadata": {},
          "output_type": "execute_result"
        },
        {
          "data": {
            "image/png": "[encoded data removed]",
            "text/plain": [
              "<Figure size 1152x648 with 1 Axes>"
            ]
          },
          "metadata": {},
          "output_type": "display_data"
        }
      ],
      "source": [
        "plt.figure(figsize=(16,9))\n",
        "feature_import2 = cbc_test.feature_importances_\n",
        "col_names = features_train.columns\n",
        "indices = np.argsort(feature_import2)[::-1]\n",
        "plt.barh(col_names,feature_import2)"
      ]
    },
    {
      "cell_type": "markdown",
      "metadata": {
        "id": "2uTO7SdZoSAR"
      },
      "source": [
        "Видим, что самый значимый признак, это время пользования услугами."
      ]
    },
    {
      "cell_type": "markdown",
      "metadata": {
        "id": "HO8X2OIvoSAR"
      },
      "source": [
        "В итоге получили лучшую модель: CatBoost с roc_auc = 0.899 и точностью в 85%."
      ]
    },
    {
      "cell_type": "markdown",
      "metadata": {
        "id": "vfmz_i8JoSAR"
      },
      "source": [
        "### Общий вывод\n",
        "\n",
        "    Загрузили данные, вывели на экран и изучили основную информацию о датасетах, проверили на пропуски и дубликаты. Наметили дальнейший ход работы.\n",
        "    \n",
        "    Объедилили все датасеты в одну таблицу. Пропуски заменили на 'NO', т.к. предположили, что клиент не пользовалься услугой. При соединении таблиц метедом 'join' пропадала часть данных, соединил через 'merge', сразу все получилось.\n",
        "    \n",
        "    Добавили столбец с целевым признаком \"Ушел клиент или нет\".\n",
        "    \n",
        "    Удалили строки с прпусками в столбце 'totalcharges', т.к. их было всего 11 строк. Эти строки обнаружил не сразу, только при смене типов столбца. Пришлось выяснять где косяк. Оказалось, что стояли пробелы. \n",
        "    \n",
        "    Создали признак \"Длительность контракта\".\n",
        "    \n",
        "    Построили график ежемесячных платежей по всем и ушедшим клиентам и график продолжительности контрактов. Выяснили, что много ушедших клиентов с ежемесячным платежем от 70 до 100. Также много клиентов ушло с ежемесячным платежем 20 и, что чаще уходят те, кто пользуется услугами 1-2 месяца.\n",
        "    \n",
        "    Увидели сильную корреляцию между признаками 'contract_time' и 'totalcharges'и средняю между 'totalcharges' и 'monthlycharges'. Удалили столбец'totalcharges'.\n",
        "    \n",
        "    Заменили в столбцах с бинарными данными 'yes' и 'no' на 1 и 0. Применили метод ОНЕ для столбцов с более чем 2 призниками 'type', 'internetservice','paymentmethod'.\n",
        "    \n",
        "    Данные разделили на обучающую и тестовую выборки в пропорции 80:20. Отмасштабировали числовые признаки.\n",
        "    \n",
        "    Для обучения взяли 3 простые модели 'Логистическая регрессия', 'Дерево решений' и 'Случайный лес' и  модель градиентного бустинга 'CatBoost' и с помощью кроссвалидации нашли оптимальные параметры.\n",
        "    \n",
        "    Наилучшей оказалась модель градиентного бустинга 'CatBoost' со значениями ROC_AUC: 0.896. \n",
        "    \n",
        "    На тесте 'CatBoost' показал AUC-ROC= 0.899 и Accuracy= 0.853. Модель можно брать в работу.\n",
        "    \n",
        "    Построили ROC-кривую. И график важности признаков для нашей модели. Самым значимым признаком оказалось время пользования услугами.\n",
        "    \n"
      ]
    }
  ],
  "metadata": {
    "ExecuteTimeLog": [
      {
        "duration": 684,
        "start_time": "2022-08-04T08:43:52.934Z"
      },
      {
        "duration": 1688,
        "start_time": "2022-08-04T09:23:17.351Z"
      },
      {
        "duration": 309,
        "start_time": "2022-08-04T09:23:19.041Z"
      },
      {
        "duration": 4,
        "start_time": "2022-08-04T09:23:19.353Z"
      },
      {
        "duration": 71,
        "start_time": "2022-08-04T09:23:19.361Z"
      },
      {
        "duration": 70,
        "start_time": "2022-08-04T09:23:19.434Z"
      },
      {
        "duration": 57,
        "start_time": "2022-08-04T09:23:19.507Z"
      },
      {
        "duration": 50,
        "start_time": "2022-08-04T09:23:19.587Z"
      },
      {
        "duration": 13,
        "start_time": "2022-08-04T09:23:19.640Z"
      },
      {
        "duration": 47,
        "start_time": "2022-08-04T09:23:19.654Z"
      },
      {
        "duration": 19,
        "start_time": "2022-08-04T09:23:19.707Z"
      },
      {
        "duration": 19,
        "start_time": "2022-08-04T09:23:19.728Z"
      },
      {
        "duration": 62,
        "start_time": "2022-08-04T09:23:19.750Z"
      },
      {
        "duration": 95,
        "start_time": "2022-08-04T09:23:19.814Z"
      },
      {
        "duration": 24,
        "start_time": "2022-08-04T09:23:19.911Z"
      },
      {
        "duration": 8,
        "start_time": "2022-08-04T09:23:19.936Z"
      },
      {
        "duration": 10,
        "start_time": "2022-08-04T09:23:19.946Z"
      },
      {
        "duration": 41,
        "start_time": "2022-08-04T09:23:19.958Z"
      },
      {
        "duration": 8,
        "start_time": "2022-08-04T09:23:20.003Z"
      },
      {
        "duration": 25,
        "start_time": "2022-08-04T09:23:20.013Z"
      },
      {
        "duration": 8,
        "start_time": "2022-08-04T09:23:20.040Z"
      },
      {
        "duration": 394,
        "start_time": "2022-08-04T09:23:20.050Z"
      },
      {
        "duration": 186,
        "start_time": "2022-08-04T09:23:20.446Z"
      },
      {
        "duration": 173,
        "start_time": "2022-08-04T09:23:20.634Z"
      },
      {
        "duration": 507,
        "start_time": "2022-08-04T09:23:20.810Z"
      },
      {
        "duration": 18,
        "start_time": "2022-08-04T09:23:21.319Z"
      },
      {
        "duration": 35,
        "start_time": "2022-08-04T09:23:21.338Z"
      },
      {
        "duration": 36,
        "start_time": "2022-08-04T09:23:21.375Z"
      },
      {
        "duration": 4,
        "start_time": "2022-08-04T09:23:21.415Z"
      },
      {
        "duration": 8,
        "start_time": "2022-08-04T09:23:21.421Z"
      },
      {
        "duration": 15,
        "start_time": "2022-08-04T09:23:21.431Z"
      },
      {
        "duration": 4,
        "start_time": "2022-08-04T09:23:21.448Z"
      },
      {
        "duration": 12,
        "start_time": "2022-08-04T09:23:21.489Z"
      },
      {
        "duration": 28290,
        "start_time": "2022-08-04T09:23:21.506Z"
      },
      {
        "duration": 740,
        "start_time": "2022-08-04T09:23:49.798Z"
      },
      {
        "duration": 37734,
        "start_time": "2022-08-04T09:23:50.540Z"
      },
      {
        "duration": 14329,
        "start_time": "2022-08-04T09:24:28.276Z"
      },
      {
        "duration": 2650,
        "start_time": "2022-08-04T09:24:42.607Z"
      },
      {
        "duration": 11,
        "start_time": "2022-08-04T09:24:45.258Z"
      },
      {
        "duration": 357,
        "start_time": "2022-08-04T09:24:45.270Z"
      },
      {
        "duration": 1980,
        "start_time": "2022-08-05T06:50:12.867Z"
      },
      {
        "duration": 369,
        "start_time": "2022-08-05T06:50:14.850Z"
      },
      {
        "duration": 3,
        "start_time": "2022-08-05T06:50:15.221Z"
      },
      {
        "duration": 76,
        "start_time": "2022-08-05T06:50:15.226Z"
      },
      {
        "duration": 41,
        "start_time": "2022-08-05T06:50:15.305Z"
      },
      {
        "duration": 104,
        "start_time": "2022-08-05T06:50:15.348Z"
      },
      {
        "duration": 43,
        "start_time": "2022-08-05T06:50:15.472Z"
      },
      {
        "duration": 14,
        "start_time": "2022-08-05T06:50:15.516Z"
      },
      {
        "duration": 43,
        "start_time": "2022-08-05T06:50:15.532Z"
      },
      {
        "duration": 19,
        "start_time": "2022-08-05T06:50:15.580Z"
      },
      {
        "duration": 23,
        "start_time": "2022-08-05T06:50:15.601Z"
      },
      {
        "duration": 46,
        "start_time": "2022-08-05T06:50:15.627Z"
      },
      {
        "duration": 115,
        "start_time": "2022-08-05T06:50:15.675Z"
      },
      {
        "duration": 25,
        "start_time": "2022-08-05T06:50:15.792Z"
      },
      {
        "duration": 26,
        "start_time": "2022-08-05T06:50:15.819Z"
      },
      {
        "duration": 39,
        "start_time": "2022-08-05T06:50:15.847Z"
      },
      {
        "duration": 23,
        "start_time": "2022-08-05T06:50:15.889Z"
      },
      {
        "duration": 10,
        "start_time": "2022-08-05T06:50:15.913Z"
      },
      {
        "duration": 34,
        "start_time": "2022-08-05T06:50:15.924Z"
      },
      {
        "duration": 22,
        "start_time": "2022-08-05T06:50:15.959Z"
      },
      {
        "duration": 415,
        "start_time": "2022-08-05T06:50:15.983Z"
      },
      {
        "duration": 228,
        "start_time": "2022-08-05T06:50:16.400Z"
      },
      {
        "duration": 193,
        "start_time": "2022-08-05T06:50:16.630Z"
      },
      {
        "duration": 470,
        "start_time": "2022-08-05T06:50:16.826Z"
      },
      {
        "duration": 17,
        "start_time": "2022-08-05T06:50:17.297Z"
      },
      {
        "duration": 46,
        "start_time": "2022-08-05T06:50:17.316Z"
      },
      {
        "duration": 29,
        "start_time": "2022-08-05T06:50:17.363Z"
      },
      {
        "duration": 8,
        "start_time": "2022-08-05T06:50:17.395Z"
      },
      {
        "duration": 21,
        "start_time": "2022-08-05T06:50:17.405Z"
      },
      {
        "duration": 23,
        "start_time": "2022-08-05T06:50:17.427Z"
      },
      {
        "duration": 45,
        "start_time": "2022-08-05T06:50:17.452Z"
      },
      {
        "duration": 26,
        "start_time": "2022-08-05T06:50:17.499Z"
      },
      {
        "duration": 29143,
        "start_time": "2022-08-05T06:50:17.526Z"
      },
      {
        "duration": 791,
        "start_time": "2022-08-05T06:50:46.670Z"
      },
      {
        "duration": 35659,
        "start_time": "2022-08-05T06:50:47.462Z"
      },
      {
        "duration": 15763,
        "start_time": "2022-08-05T06:51:23.122Z"
      },
      {
        "duration": 2747,
        "start_time": "2022-08-05T06:51:38.886Z"
      },
      {
        "duration": 12,
        "start_time": "2022-08-05T06:51:41.635Z"
      },
      {
        "duration": 340,
        "start_time": "2022-08-05T06:51:41.648Z"
      }
    ],
    "kernelspec": {
      "display_name": "Python 3 (ipykernel)",
      "language": "python",
      "name": "python3"
    },
    "language_info": {
      "codemirror_mode": {
        "name": "ipython",
        "version": 3
      },
      "file_extension": ".py",
      "mimetype": "text/x-python",
      "name": "python",
      "nbconvert_exporter": "python",
      "pygments_lexer": "ipython3",
      "version": "3.9.5"
    },
    "toc": {
      "base_numbering": 1,
      "nav_menu": {},
      "number_sections": false,
      "sideBar": true,
      "skip_h1_title": true,
      "title_cell": "Table of Contents",
      "title_sidebar": "Contents",
      "toc_cell": false,
      "toc_position": {},
      "toc_section_display": true,
      "toc_window_display": false
    },
    "colab": {
      "provenance": []
    }
  },
  "nbformat": 4,
  "nbformat_minor": 0
}