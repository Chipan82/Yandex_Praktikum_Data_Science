{
  "cells": [
    {
      "cell_type": "markdown",
      "metadata": {
        "id": "ztm871W3rAN0"
      },
      "source": [
        "### Описание проекта\n",
        "Вы работаете в интернет-магазине «Стримчик», который продаёт по всему миру компьютерные игры. Из открытых источников доступны исторические данные о продажах игр, оценки пользователей и экспертов, жанры и платформы (например, Xbox или PlayStation). Вам нужно выявить определяющие успешность игры закономерности. Это позволит сделать ставку на потенциально популярный продукт и спланировать рекламные кампании.\n",
        "\n",
        "Перед вами данные до 2016 года. Представим, что сейчас декабрь 2016 г., и вы планируете кампанию на 2017-й. Нужно отработать принцип работы с данными. Неважно, прогнозируете ли вы продажи на 2017 год по данным 2016-го или же 2027-й — по данным 2026 года.\n",
        "\n",
        "В наборе данных попадается аббревиатура ESRB (Entertainment Software Rating Board) — это ассоциация, определяющая возрастной рейтинг компьютерных игр. ESRB оценивает игровой контент и присваивает ему подходящую возрастную категорию, например, «Для взрослых», «Для детей младшего возраста» или «Для подростков»."
      ]
    },
    {
      "cell_type": "markdown",
      "metadata": {
        "id": "C_Gbk5byrAN1"
      },
      "source": [
        "#### Описание данных\n",
        "    •    Name — название игры\n",
        "    •    Platform — платформа\n",
        "    •    Year_of_Release — год выпуска\n",
        "    •    Genre — жанр игры\n",
        "    •    NA_sales — продажи в Северной Америке (миллионы проданных копий)\n",
        "    •    EU_sales — продажи в Европе (миллионы проданных копий)\n",
        "    •    JP_sales — продажи в Японии (миллионы проданных копий)\n",
        "    •    Other_sales — продажи в других странах (миллионы проданных копий)\n",
        "    •    Critic_Score — оценка критиков (максимум 100)\n",
        "    •    User_Score — оценка пользователей (максимум 10)\n",
        "    •    Rating — рейтинг от организации ESRB (англ. Entertainment Software Rating Board). Эта ассоциация определяет рейтинг компьютерных игр и присваивает им подходящую возрастную категорию.\n",
        "Данные за 2016 год могут быть неполными."
      ]
    },
    {
      "cell_type": "markdown",
      "metadata": {
        "id": "iVQp_mNtrAN2"
      },
      "source": [
        "## Шаг 1. Изучение данных из файла"
      ]
    },
    {
      "cell_type": "code",
      "execution_count": null,
      "metadata": {
        "id": "1rIeqClcrAN2"
      },
      "outputs": [],
      "source": [
        "import pandas as pd\n",
        "import matplotlib.pyplot as plt\n",
        "import os\n",
        "import numpy as np \n",
        "import matplotlib.pyplot as plt \n",
        "\n",
        "from scipy import stats as st\n",
        "from urllib.request import urlretrieve\n",
        "from pathlib import Path"
      ]
    },
    {
      "cell_type": "code",
      "execution_count": null,
      "metadata": {
        "id": "H_y-8TFsrAN4",
        "outputId": "1b43a1aa-775d-4574-ed1c-6a2e05b10ac7"
      },
      "outputs": [
        {
          "data": {
            "text/html": [
              "<div>\n",
              "<style scoped>\n",
              "    .dataframe tbody tr th:only-of-type {\n",
              "        vertical-align: middle;\n",
              "    }\n",
              "\n",
              "    .dataframe tbody tr th {\n",
              "        vertical-align: top;\n",
              "    }\n",
              "\n",
              "    .dataframe thead th {\n",
              "        text-align: right;\n",
              "    }\n",
              "</style>\n",
              "<table border=\"1\" class=\"dataframe\">\n",
              "  <thead>\n",
              "    <tr style=\"text-align: right;\">\n",
              "      <th></th>\n",
              "      <th>Name</th>\n",
              "      <th>Platform</th>\n",
              "      <th>Year_of_Release</th>\n",
              "      <th>Genre</th>\n",
              "      <th>NA_sales</th>\n",
              "      <th>EU_sales</th>\n",
              "      <th>JP_sales</th>\n",
              "      <th>Other_sales</th>\n",
              "      <th>Critic_Score</th>\n",
              "      <th>User_Score</th>\n",
              "      <th>Rating</th>\n",
              "    </tr>\n",
              "  </thead>\n",
              "  <tbody>\n",
              "    <tr>\n",
              "      <td>0</td>\n",
              "      <td>Wii Sports</td>\n",
              "      <td>Wii</td>\n",
              "      <td>2006.0</td>\n",
              "      <td>Sports</td>\n",
              "      <td>41.36</td>\n",
              "      <td>28.96</td>\n",
              "      <td>3.77</td>\n",
              "      <td>8.45</td>\n",
              "      <td>76.0</td>\n",
              "      <td>8</td>\n",
              "      <td>E</td>\n",
              "    </tr>\n",
              "    <tr>\n",
              "      <td>1</td>\n",
              "      <td>Super Mario Bros.</td>\n",
              "      <td>NES</td>\n",
              "      <td>1985.0</td>\n",
              "      <td>Platform</td>\n",
              "      <td>29.08</td>\n",
              "      <td>3.58</td>\n",
              "      <td>6.81</td>\n",
              "      <td>0.77</td>\n",
              "      <td>NaN</td>\n",
              "      <td>NaN</td>\n",
              "      <td>NaN</td>\n",
              "    </tr>\n",
              "    <tr>\n",
              "      <td>2</td>\n",
              "      <td>Mario Kart Wii</td>\n",
              "      <td>Wii</td>\n",
              "      <td>2008.0</td>\n",
              "      <td>Racing</td>\n",
              "      <td>15.68</td>\n",
              "      <td>12.76</td>\n",
              "      <td>3.79</td>\n",
              "      <td>3.29</td>\n",
              "      <td>82.0</td>\n",
              "      <td>8.3</td>\n",
              "      <td>E</td>\n",
              "    </tr>\n",
              "    <tr>\n",
              "      <td>3</td>\n",
              "      <td>Wii Sports Resort</td>\n",
              "      <td>Wii</td>\n",
              "      <td>2009.0</td>\n",
              "      <td>Sports</td>\n",
              "      <td>15.61</td>\n",
              "      <td>10.93</td>\n",
              "      <td>3.28</td>\n",
              "      <td>2.95</td>\n",
              "      <td>80.0</td>\n",
              "      <td>8</td>\n",
              "      <td>E</td>\n",
              "    </tr>\n",
              "    <tr>\n",
              "      <td>4</td>\n",
              "      <td>Pokemon Red/Pokemon Blue</td>\n",
              "      <td>GB</td>\n",
              "      <td>1996.0</td>\n",
              "      <td>Role-Playing</td>\n",
              "      <td>11.27</td>\n",
              "      <td>8.89</td>\n",
              "      <td>10.22</td>\n",
              "      <td>1.00</td>\n",
              "      <td>NaN</td>\n",
              "      <td>NaN</td>\n",
              "      <td>NaN</td>\n",
              "    </tr>\n",
              "    <tr>\n",
              "      <td>5</td>\n",
              "      <td>Tetris</td>\n",
              "      <td>GB</td>\n",
              "      <td>1989.0</td>\n",
              "      <td>Puzzle</td>\n",
              "      <td>23.20</td>\n",
              "      <td>2.26</td>\n",
              "      <td>4.22</td>\n",
              "      <td>0.58</td>\n",
              "      <td>NaN</td>\n",
              "      <td>NaN</td>\n",
              "      <td>NaN</td>\n",
              "    </tr>\n",
              "    <tr>\n",
              "      <td>6</td>\n",
              "      <td>New Super Mario Bros.</td>\n",
              "      <td>DS</td>\n",
              "      <td>2006.0</td>\n",
              "      <td>Platform</td>\n",
              "      <td>11.28</td>\n",
              "      <td>9.14</td>\n",
              "      <td>6.50</td>\n",
              "      <td>2.88</td>\n",
              "      <td>89.0</td>\n",
              "      <td>8.5</td>\n",
              "      <td>E</td>\n",
              "    </tr>\n",
              "    <tr>\n",
              "      <td>7</td>\n",
              "      <td>Wii Play</td>\n",
              "      <td>Wii</td>\n",
              "      <td>2006.0</td>\n",
              "      <td>Misc</td>\n",
              "      <td>13.96</td>\n",
              "      <td>9.18</td>\n",
              "      <td>2.93</td>\n",
              "      <td>2.84</td>\n",
              "      <td>58.0</td>\n",
              "      <td>6.6</td>\n",
              "      <td>E</td>\n",
              "    </tr>\n",
              "    <tr>\n",
              "      <td>8</td>\n",
              "      <td>New Super Mario Bros. Wii</td>\n",
              "      <td>Wii</td>\n",
              "      <td>2009.0</td>\n",
              "      <td>Platform</td>\n",
              "      <td>14.44</td>\n",
              "      <td>6.94</td>\n",
              "      <td>4.70</td>\n",
              "      <td>2.24</td>\n",
              "      <td>87.0</td>\n",
              "      <td>8.4</td>\n",
              "      <td>E</td>\n",
              "    </tr>\n",
              "    <tr>\n",
              "      <td>9</td>\n",
              "      <td>Duck Hunt</td>\n",
              "      <td>NES</td>\n",
              "      <td>1984.0</td>\n",
              "      <td>Shooter</td>\n",
              "      <td>26.93</td>\n",
              "      <td>0.63</td>\n",
              "      <td>0.28</td>\n",
              "      <td>0.47</td>\n",
              "      <td>NaN</td>\n",
              "      <td>NaN</td>\n",
              "      <td>NaN</td>\n",
              "    </tr>\n",
              "  </tbody>\n",
              "</table>\n",
              "</div>"
            ],
            "text/plain": [
              "                        Name Platform  Year_of_Release         Genre  \\\n",
              "0                 Wii Sports      Wii           2006.0        Sports   \n",
              "1          Super Mario Bros.      NES           1985.0      Platform   \n",
              "2             Mario Kart Wii      Wii           2008.0        Racing   \n",
              "3          Wii Sports Resort      Wii           2009.0        Sports   \n",
              "4   Pokemon Red/Pokemon Blue       GB           1996.0  Role-Playing   \n",
              "5                     Tetris       GB           1989.0        Puzzle   \n",
              "6      New Super Mario Bros.       DS           2006.0      Platform   \n",
              "7                   Wii Play      Wii           2006.0          Misc   \n",
              "8  New Super Mario Bros. Wii      Wii           2009.0      Platform   \n",
              "9                  Duck Hunt      NES           1984.0       Shooter   \n",
              "\n",
              "   NA_sales  EU_sales  JP_sales  Other_sales  Critic_Score User_Score Rating  \n",
              "0     41.36     28.96      3.77         8.45          76.0          8      E  \n",
              "1     29.08      3.58      6.81         0.77           NaN        NaN    NaN  \n",
              "2     15.68     12.76      3.79         3.29          82.0        8.3      E  \n",
              "3     15.61     10.93      3.28         2.95          80.0          8      E  \n",
              "4     11.27      8.89     10.22         1.00           NaN        NaN    NaN  \n",
              "5     23.20      2.26      4.22         0.58           NaN        NaN    NaN  \n",
              "6     11.28      9.14      6.50         2.88          89.0        8.5      E  \n",
              "7     13.96      9.18      2.93         2.84          58.0        6.6      E  \n",
              "8     14.44      6.94      4.70         2.24          87.0        8.4      E  \n",
              "9     26.93      0.63      0.28         0.47           NaN        NaN    NaN  "
            ]
          },
          "execution_count": 2,
          "metadata": {},
          "output_type": "execute_result"
        }
      ],
      "source": [
        "data_games = pd.read_csv('/datasets/games.csv', sep=',')\n",
        "data_games.head(10)"
      ]
    },
    {
      "cell_type": "code",
      "execution_count": null,
      "metadata": {
        "id": "xlZ3xFUQrAN6",
        "outputId": "4904e863-8e12-4a1f-e6eb-413d1f80b18c"
      },
      "outputs": [
        {
          "name": "stdout",
          "output_type": "stream",
          "text": [
            "<class 'pandas.core.frame.DataFrame'>\n",
            "RangeIndex: 16715 entries, 0 to 16714\n",
            "Data columns (total 11 columns):\n",
            "Name               16713 non-null object\n",
            "Platform           16715 non-null object\n",
            "Year_of_Release    16446 non-null float64\n",
            "Genre              16713 non-null object\n",
            "NA_sales           16715 non-null float64\n",
            "EU_sales           16715 non-null float64\n",
            "JP_sales           16715 non-null float64\n",
            "Other_sales        16715 non-null float64\n",
            "Critic_Score       8137 non-null float64\n",
            "User_Score         10014 non-null object\n",
            "Rating             9949 non-null object\n",
            "dtypes: float64(6), object(5)\n",
            "memory usage: 1.4+ MB\n"
          ]
        }
      ],
      "source": [
        "data_games.info()"
      ]
    },
    {
      "cell_type": "code",
      "execution_count": null,
      "metadata": {
        "id": "aVO129xMrAN7",
        "outputId": "81148057-dbd6-4c2b-8a32-5b4ee95e8957"
      },
      "outputs": [
        {
          "data": {
            "text/html": [
              "<div>\n",
              "<style scoped>\n",
              "    .dataframe tbody tr th:only-of-type {\n",
              "        vertical-align: middle;\n",
              "    }\n",
              "\n",
              "    .dataframe tbody tr th {\n",
              "        vertical-align: top;\n",
              "    }\n",
              "\n",
              "    .dataframe thead th {\n",
              "        text-align: right;\n",
              "    }\n",
              "</style>\n",
              "<table border=\"1\" class=\"dataframe\">\n",
              "  <thead>\n",
              "    <tr style=\"text-align: right;\">\n",
              "      <th></th>\n",
              "      <th>Year_of_Release</th>\n",
              "      <th>NA_sales</th>\n",
              "      <th>EU_sales</th>\n",
              "      <th>JP_sales</th>\n",
              "      <th>Other_sales</th>\n",
              "      <th>Critic_Score</th>\n",
              "    </tr>\n",
              "  </thead>\n",
              "  <tbody>\n",
              "    <tr>\n",
              "      <td>count</td>\n",
              "      <td>16446.000000</td>\n",
              "      <td>16715.000000</td>\n",
              "      <td>16715.000000</td>\n",
              "      <td>16715.000000</td>\n",
              "      <td>16715.000000</td>\n",
              "      <td>8137.000000</td>\n",
              "    </tr>\n",
              "    <tr>\n",
              "      <td>mean</td>\n",
              "      <td>2006.484616</td>\n",
              "      <td>0.263377</td>\n",
              "      <td>0.145060</td>\n",
              "      <td>0.077617</td>\n",
              "      <td>0.047342</td>\n",
              "      <td>68.967679</td>\n",
              "    </tr>\n",
              "    <tr>\n",
              "      <td>std</td>\n",
              "      <td>5.877050</td>\n",
              "      <td>0.813604</td>\n",
              "      <td>0.503339</td>\n",
              "      <td>0.308853</td>\n",
              "      <td>0.186731</td>\n",
              "      <td>13.938165</td>\n",
              "    </tr>\n",
              "    <tr>\n",
              "      <td>min</td>\n",
              "      <td>1980.000000</td>\n",
              "      <td>0.000000</td>\n",
              "      <td>0.000000</td>\n",
              "      <td>0.000000</td>\n",
              "      <td>0.000000</td>\n",
              "      <td>13.000000</td>\n",
              "    </tr>\n",
              "    <tr>\n",
              "      <td>25%</td>\n",
              "      <td>2003.000000</td>\n",
              "      <td>0.000000</td>\n",
              "      <td>0.000000</td>\n",
              "      <td>0.000000</td>\n",
              "      <td>0.000000</td>\n",
              "      <td>60.000000</td>\n",
              "    </tr>\n",
              "    <tr>\n",
              "      <td>50%</td>\n",
              "      <td>2007.000000</td>\n",
              "      <td>0.080000</td>\n",
              "      <td>0.020000</td>\n",
              "      <td>0.000000</td>\n",
              "      <td>0.010000</td>\n",
              "      <td>71.000000</td>\n",
              "    </tr>\n",
              "    <tr>\n",
              "      <td>75%</td>\n",
              "      <td>2010.000000</td>\n",
              "      <td>0.240000</td>\n",
              "      <td>0.110000</td>\n",
              "      <td>0.040000</td>\n",
              "      <td>0.030000</td>\n",
              "      <td>79.000000</td>\n",
              "    </tr>\n",
              "    <tr>\n",
              "      <td>max</td>\n",
              "      <td>2016.000000</td>\n",
              "      <td>41.360000</td>\n",
              "      <td>28.960000</td>\n",
              "      <td>10.220000</td>\n",
              "      <td>10.570000</td>\n",
              "      <td>98.000000</td>\n",
              "    </tr>\n",
              "  </tbody>\n",
              "</table>\n",
              "</div>"
            ],
            "text/plain": [
              "       Year_of_Release      NA_sales      EU_sales      JP_sales  \\\n",
              "count     16446.000000  16715.000000  16715.000000  16715.000000   \n",
              "mean       2006.484616      0.263377      0.145060      0.077617   \n",
              "std           5.877050      0.813604      0.503339      0.308853   \n",
              "min        1980.000000      0.000000      0.000000      0.000000   \n",
              "25%        2003.000000      0.000000      0.000000      0.000000   \n",
              "50%        2007.000000      0.080000      0.020000      0.000000   \n",
              "75%        2010.000000      0.240000      0.110000      0.040000   \n",
              "max        2016.000000     41.360000     28.960000     10.220000   \n",
              "\n",
              "        Other_sales  Critic_Score  \n",
              "count  16715.000000   8137.000000  \n",
              "mean       0.047342     68.967679  \n",
              "std        0.186731     13.938165  \n",
              "min        0.000000     13.000000  \n",
              "25%        0.000000     60.000000  \n",
              "50%        0.010000     71.000000  \n",
              "75%        0.030000     79.000000  \n",
              "max       10.570000     98.000000  "
            ]
          },
          "execution_count": 4,
          "metadata": {},
          "output_type": "execute_result"
        }
      ],
      "source": [
        "data_games.describe()"
      ]
    },
    {
      "cell_type": "markdown",
      "metadata": {
        "id": "ROMEvTu9rAN7"
      },
      "source": [
        "### Вывод\n",
        "Изучили основную информацию о датасете. \n",
        "\n",
        "Пропуски в столбце year_of_release. Возможно, игры не вышли в релиз на момент выгрузки датасета. Также неверный формат данных.\n",
        "\n",
        "Множество пропусков в столбцах оценок от критиков и игроков: critic_score и user_score.\n",
        "\n",
        "В столбце оценок от игроков user_score присутствуют значения tbd, что означают to be determined (будет определено). Скорее всего, игроки еще не дали своих оценок данным играм на тот момент."
      ]
    },
    {
      "cell_type": "markdown",
      "metadata": {
        "id": "Z49ckekkrAN8"
      },
      "source": [
        "## Шаг 2. Предобработка данных"
      ]
    },
    {
      "cell_type": "markdown",
      "metadata": {
        "id": "sFAX7Jj0rAN-"
      },
      "source": [
        "##### •\tЗаменим названия столбцов (приведем к нижнему регистру);"
      ]
    },
    {
      "cell_type": "code",
      "execution_count": null,
      "metadata": {
        "id": "oFYi3F3IrAN-",
        "outputId": "6777089c-d14d-4ac2-811d-74665859a6bf"
      },
      "outputs": [
        {
          "data": {
            "text/html": [
              "<div>\n",
              "<style scoped>\n",
              "    .dataframe tbody tr th:only-of-type {\n",
              "        vertical-align: middle;\n",
              "    }\n",
              "\n",
              "    .dataframe tbody tr th {\n",
              "        vertical-align: top;\n",
              "    }\n",
              "\n",
              "    .dataframe thead th {\n",
              "        text-align: right;\n",
              "    }\n",
              "</style>\n",
              "<table border=\"1\" class=\"dataframe\">\n",
              "  <thead>\n",
              "    <tr style=\"text-align: right;\">\n",
              "      <th></th>\n",
              "      <th>name</th>\n",
              "      <th>platform</th>\n",
              "      <th>year_of_release</th>\n",
              "      <th>genre</th>\n",
              "      <th>na_sales</th>\n",
              "      <th>eu_sales</th>\n",
              "      <th>jp_sales</th>\n",
              "      <th>other_sales</th>\n",
              "      <th>critic_score</th>\n",
              "      <th>user_score</th>\n",
              "      <th>rating</th>\n",
              "    </tr>\n",
              "  </thead>\n",
              "  <tbody>\n",
              "    <tr>\n",
              "      <td>0</td>\n",
              "      <td>Wii Sports</td>\n",
              "      <td>Wii</td>\n",
              "      <td>2006.0</td>\n",
              "      <td>Sports</td>\n",
              "      <td>41.36</td>\n",
              "      <td>28.96</td>\n",
              "      <td>3.77</td>\n",
              "      <td>8.45</td>\n",
              "      <td>76.0</td>\n",
              "      <td>8</td>\n",
              "      <td>E</td>\n",
              "    </tr>\n",
              "    <tr>\n",
              "      <td>1</td>\n",
              "      <td>Super Mario Bros.</td>\n",
              "      <td>NES</td>\n",
              "      <td>1985.0</td>\n",
              "      <td>Platform</td>\n",
              "      <td>29.08</td>\n",
              "      <td>3.58</td>\n",
              "      <td>6.81</td>\n",
              "      <td>0.77</td>\n",
              "      <td>NaN</td>\n",
              "      <td>NaN</td>\n",
              "      <td>NaN</td>\n",
              "    </tr>\n",
              "    <tr>\n",
              "      <td>2</td>\n",
              "      <td>Mario Kart Wii</td>\n",
              "      <td>Wii</td>\n",
              "      <td>2008.0</td>\n",
              "      <td>Racing</td>\n",
              "      <td>15.68</td>\n",
              "      <td>12.76</td>\n",
              "      <td>3.79</td>\n",
              "      <td>3.29</td>\n",
              "      <td>82.0</td>\n",
              "      <td>8.3</td>\n",
              "      <td>E</td>\n",
              "    </tr>\n",
              "    <tr>\n",
              "      <td>3</td>\n",
              "      <td>Wii Sports Resort</td>\n",
              "      <td>Wii</td>\n",
              "      <td>2009.0</td>\n",
              "      <td>Sports</td>\n",
              "      <td>15.61</td>\n",
              "      <td>10.93</td>\n",
              "      <td>3.28</td>\n",
              "      <td>2.95</td>\n",
              "      <td>80.0</td>\n",
              "      <td>8</td>\n",
              "      <td>E</td>\n",
              "    </tr>\n",
              "    <tr>\n",
              "      <td>4</td>\n",
              "      <td>Pokemon Red/Pokemon Blue</td>\n",
              "      <td>GB</td>\n",
              "      <td>1996.0</td>\n",
              "      <td>Role-Playing</td>\n",
              "      <td>11.27</td>\n",
              "      <td>8.89</td>\n",
              "      <td>10.22</td>\n",
              "      <td>1.00</td>\n",
              "      <td>NaN</td>\n",
              "      <td>NaN</td>\n",
              "      <td>NaN</td>\n",
              "    </tr>\n",
              "    <tr>\n",
              "      <td>...</td>\n",
              "      <td>...</td>\n",
              "      <td>...</td>\n",
              "      <td>...</td>\n",
              "      <td>...</td>\n",
              "      <td>...</td>\n",
              "      <td>...</td>\n",
              "      <td>...</td>\n",
              "      <td>...</td>\n",
              "      <td>...</td>\n",
              "      <td>...</td>\n",
              "      <td>...</td>\n",
              "    </tr>\n",
              "    <tr>\n",
              "      <td>16710</td>\n",
              "      <td>Samurai Warriors: Sanada Maru</td>\n",
              "      <td>PS3</td>\n",
              "      <td>2016.0</td>\n",
              "      <td>Action</td>\n",
              "      <td>0.00</td>\n",
              "      <td>0.00</td>\n",
              "      <td>0.01</td>\n",
              "      <td>0.00</td>\n",
              "      <td>NaN</td>\n",
              "      <td>NaN</td>\n",
              "      <td>NaN</td>\n",
              "    </tr>\n",
              "    <tr>\n",
              "      <td>16711</td>\n",
              "      <td>LMA Manager 2007</td>\n",
              "      <td>X360</td>\n",
              "      <td>2006.0</td>\n",
              "      <td>Sports</td>\n",
              "      <td>0.00</td>\n",
              "      <td>0.01</td>\n",
              "      <td>0.00</td>\n",
              "      <td>0.00</td>\n",
              "      <td>NaN</td>\n",
              "      <td>NaN</td>\n",
              "      <td>NaN</td>\n",
              "    </tr>\n",
              "    <tr>\n",
              "      <td>16712</td>\n",
              "      <td>Haitaka no Psychedelica</td>\n",
              "      <td>PSV</td>\n",
              "      <td>2016.0</td>\n",
              "      <td>Adventure</td>\n",
              "      <td>0.00</td>\n",
              "      <td>0.00</td>\n",
              "      <td>0.01</td>\n",
              "      <td>0.00</td>\n",
              "      <td>NaN</td>\n",
              "      <td>NaN</td>\n",
              "      <td>NaN</td>\n",
              "    </tr>\n",
              "    <tr>\n",
              "      <td>16713</td>\n",
              "      <td>Spirits &amp; Spells</td>\n",
              "      <td>GBA</td>\n",
              "      <td>2003.0</td>\n",
              "      <td>Platform</td>\n",
              "      <td>0.01</td>\n",
              "      <td>0.00</td>\n",
              "      <td>0.00</td>\n",
              "      <td>0.00</td>\n",
              "      <td>NaN</td>\n",
              "      <td>NaN</td>\n",
              "      <td>NaN</td>\n",
              "    </tr>\n",
              "    <tr>\n",
              "      <td>16714</td>\n",
              "      <td>Winning Post 8 2016</td>\n",
              "      <td>PSV</td>\n",
              "      <td>2016.0</td>\n",
              "      <td>Simulation</td>\n",
              "      <td>0.00</td>\n",
              "      <td>0.00</td>\n",
              "      <td>0.01</td>\n",
              "      <td>0.00</td>\n",
              "      <td>NaN</td>\n",
              "      <td>NaN</td>\n",
              "      <td>NaN</td>\n",
              "    </tr>\n",
              "  </tbody>\n",
              "</table>\n",
              "<p>16715 rows × 11 columns</p>\n",
              "</div>"
            ],
            "text/plain": [
              "                                name platform  year_of_release         genre  \\\n",
              "0                         Wii Sports      Wii           2006.0        Sports   \n",
              "1                  Super Mario Bros.      NES           1985.0      Platform   \n",
              "2                     Mario Kart Wii      Wii           2008.0        Racing   \n",
              "3                  Wii Sports Resort      Wii           2009.0        Sports   \n",
              "4           Pokemon Red/Pokemon Blue       GB           1996.0  Role-Playing   \n",
              "...                              ...      ...              ...           ...   \n",
              "16710  Samurai Warriors: Sanada Maru      PS3           2016.0        Action   \n",
              "16711               LMA Manager 2007     X360           2006.0        Sports   \n",
              "16712        Haitaka no Psychedelica      PSV           2016.0     Adventure   \n",
              "16713               Spirits & Spells      GBA           2003.0      Platform   \n",
              "16714            Winning Post 8 2016      PSV           2016.0    Simulation   \n",
              "\n",
              "       na_sales  eu_sales  jp_sales  other_sales  critic_score user_score  \\\n",
              "0         41.36     28.96      3.77         8.45          76.0          8   \n",
              "1         29.08      3.58      6.81         0.77           NaN        NaN   \n",
              "2         15.68     12.76      3.79         3.29          82.0        8.3   \n",
              "3         15.61     10.93      3.28         2.95          80.0          8   \n",
              "4         11.27      8.89     10.22         1.00           NaN        NaN   \n",
              "...         ...       ...       ...          ...           ...        ...   \n",
              "16710      0.00      0.00      0.01         0.00           NaN        NaN   \n",
              "16711      0.00      0.01      0.00         0.00           NaN        NaN   \n",
              "16712      0.00      0.00      0.01         0.00           NaN        NaN   \n",
              "16713      0.01      0.00      0.00         0.00           NaN        NaN   \n",
              "16714      0.00      0.00      0.01         0.00           NaN        NaN   \n",
              "\n",
              "      rating  \n",
              "0          E  \n",
              "1        NaN  \n",
              "2          E  \n",
              "3          E  \n",
              "4        NaN  \n",
              "...      ...  \n",
              "16710    NaN  \n",
              "16711    NaN  \n",
              "16712    NaN  \n",
              "16713    NaN  \n",
              "16714    NaN  \n",
              "\n",
              "[16715 rows x 11 columns]"
            ]
          },
          "execution_count": 5,
          "metadata": {},
          "output_type": "execute_result"
        }
      ],
      "source": [
        "data_games.columns = data_games.columns.str.lower()\n",
        "data_games"
      ]
    },
    {
      "cell_type": "markdown",
      "metadata": {
        "id": "WNJH54mxrAN_"
      },
      "source": [
        "##### •\tПреобразуем данные в нужные типы. "
      ]
    },
    {
      "cell_type": "code",
      "execution_count": null,
      "metadata": {
        "id": "HEsTJ__krAN_"
      },
      "outputs": [],
      "source": [
        "data_games.drop(data_games[data_games['year_of_release'].isna()].index,inplace=True)\n",
        "data_games['year_of_release'] = pd.to_numeric(data_games['year_of_release'], downcast='integer')"
      ]
    },
    {
      "cell_type": "markdown",
      "metadata": {
        "id": "ARvFzVh0rAOA"
      },
      "source": [
        "В столбце user_score есть значения tbd (to be determined). Поменяем его на nan"
      ]
    },
    {
      "cell_type": "code",
      "execution_count": null,
      "metadata": {
        "id": "uBXHjPptrAOA",
        "outputId": "7595d611-63bc-4e76-819a-cf6172441103"
      },
      "outputs": [
        {
          "name": "stdout",
          "output_type": "stream",
          "text": [
            "<class 'pandas.core.frame.DataFrame'>\n",
            "Int64Index: 16446 entries, 0 to 16714\n",
            "Data columns (total 11 columns):\n",
            "name               16444 non-null object\n",
            "platform           16446 non-null object\n",
            "year_of_release    16446 non-null int16\n",
            "genre              16444 non-null object\n",
            "na_sales           16446 non-null float64\n",
            "eu_sales           16446 non-null float64\n",
            "jp_sales           16446 non-null float64\n",
            "other_sales        16446 non-null float64\n",
            "critic_score       7983 non-null float64\n",
            "user_score         7463 non-null float64\n",
            "rating             9768 non-null object\n",
            "dtypes: float64(6), int16(1), object(4)\n",
            "memory usage: 1.4+ MB\n"
          ]
        }
      ],
      "source": [
        "tbd = data_games['user_score'] != 'tbd'\n",
        "data_games['user_score'].where(tbd, np.nan, inplace=True)\n",
        "data_games['user_score'] = data_games['user_score'].astype('float64')\n",
        "data_games.info()"
      ]
    },
    {
      "cell_type": "markdown",
      "metadata": {
        "id": "rVrO6xvxrAOB"
      },
      "source": [
        "##### •\tПосчитайте суммарные продажи во всех регионах и запишите их в отдельный столбец."
      ]
    },
    {
      "cell_type": "code",
      "execution_count": null,
      "metadata": {
        "id": "A-_TDyP-rAOB",
        "outputId": "db782f96-6d2a-474c-9a9e-635c9af9d64c"
      },
      "outputs": [
        {
          "data": {
            "text/html": [
              "<div>\n",
              "<style scoped>\n",
              "    .dataframe tbody tr th:only-of-type {\n",
              "        vertical-align: middle;\n",
              "    }\n",
              "\n",
              "    .dataframe tbody tr th {\n",
              "        vertical-align: top;\n",
              "    }\n",
              "\n",
              "    .dataframe thead th {\n",
              "        text-align: right;\n",
              "    }\n",
              "</style>\n",
              "<table border=\"1\" class=\"dataframe\">\n",
              "  <thead>\n",
              "    <tr style=\"text-align: right;\">\n",
              "      <th></th>\n",
              "      <th>name</th>\n",
              "      <th>platform</th>\n",
              "      <th>year_of_release</th>\n",
              "      <th>genre</th>\n",
              "      <th>na_sales</th>\n",
              "      <th>eu_sales</th>\n",
              "      <th>jp_sales</th>\n",
              "      <th>other_sales</th>\n",
              "      <th>critic_score</th>\n",
              "      <th>user_score</th>\n",
              "      <th>rating</th>\n",
              "      <th>world_sales</th>\n",
              "    </tr>\n",
              "  </thead>\n",
              "  <tbody>\n",
              "    <tr>\n",
              "      <td>0</td>\n",
              "      <td>Wii Sports</td>\n",
              "      <td>Wii</td>\n",
              "      <td>2006</td>\n",
              "      <td>Sports</td>\n",
              "      <td>41.36</td>\n",
              "      <td>28.96</td>\n",
              "      <td>3.77</td>\n",
              "      <td>8.45</td>\n",
              "      <td>76.0</td>\n",
              "      <td>8.0</td>\n",
              "      <td>E</td>\n",
              "      <td>82.54</td>\n",
              "    </tr>\n",
              "    <tr>\n",
              "      <td>1</td>\n",
              "      <td>Super Mario Bros.</td>\n",
              "      <td>NES</td>\n",
              "      <td>1985</td>\n",
              "      <td>Platform</td>\n",
              "      <td>29.08</td>\n",
              "      <td>3.58</td>\n",
              "      <td>6.81</td>\n",
              "      <td>0.77</td>\n",
              "      <td>NaN</td>\n",
              "      <td>NaN</td>\n",
              "      <td>NaN</td>\n",
              "      <td>40.24</td>\n",
              "    </tr>\n",
              "    <tr>\n",
              "      <td>2</td>\n",
              "      <td>Mario Kart Wii</td>\n",
              "      <td>Wii</td>\n",
              "      <td>2008</td>\n",
              "      <td>Racing</td>\n",
              "      <td>15.68</td>\n",
              "      <td>12.76</td>\n",
              "      <td>3.79</td>\n",
              "      <td>3.29</td>\n",
              "      <td>82.0</td>\n",
              "      <td>8.3</td>\n",
              "      <td>E</td>\n",
              "      <td>35.52</td>\n",
              "    </tr>\n",
              "    <tr>\n",
              "      <td>3</td>\n",
              "      <td>Wii Sports Resort</td>\n",
              "      <td>Wii</td>\n",
              "      <td>2009</td>\n",
              "      <td>Sports</td>\n",
              "      <td>15.61</td>\n",
              "      <td>10.93</td>\n",
              "      <td>3.28</td>\n",
              "      <td>2.95</td>\n",
              "      <td>80.0</td>\n",
              "      <td>8.0</td>\n",
              "      <td>E</td>\n",
              "      <td>32.77</td>\n",
              "    </tr>\n",
              "    <tr>\n",
              "      <td>4</td>\n",
              "      <td>Pokemon Red/Pokemon Blue</td>\n",
              "      <td>GB</td>\n",
              "      <td>1996</td>\n",
              "      <td>Role-Playing</td>\n",
              "      <td>11.27</td>\n",
              "      <td>8.89</td>\n",
              "      <td>10.22</td>\n",
              "      <td>1.00</td>\n",
              "      <td>NaN</td>\n",
              "      <td>NaN</td>\n",
              "      <td>NaN</td>\n",
              "      <td>31.38</td>\n",
              "    </tr>\n",
              "    <tr>\n",
              "      <td>...</td>\n",
              "      <td>...</td>\n",
              "      <td>...</td>\n",
              "      <td>...</td>\n",
              "      <td>...</td>\n",
              "      <td>...</td>\n",
              "      <td>...</td>\n",
              "      <td>...</td>\n",
              "      <td>...</td>\n",
              "      <td>...</td>\n",
              "      <td>...</td>\n",
              "      <td>...</td>\n",
              "      <td>...</td>\n",
              "    </tr>\n",
              "    <tr>\n",
              "      <td>16710</td>\n",
              "      <td>Samurai Warriors: Sanada Maru</td>\n",
              "      <td>PS3</td>\n",
              "      <td>2016</td>\n",
              "      <td>Action</td>\n",
              "      <td>0.00</td>\n",
              "      <td>0.00</td>\n",
              "      <td>0.01</td>\n",
              "      <td>0.00</td>\n",
              "      <td>NaN</td>\n",
              "      <td>NaN</td>\n",
              "      <td>NaN</td>\n",
              "      <td>0.01</td>\n",
              "    </tr>\n",
              "    <tr>\n",
              "      <td>16711</td>\n",
              "      <td>LMA Manager 2007</td>\n",
              "      <td>X360</td>\n",
              "      <td>2006</td>\n",
              "      <td>Sports</td>\n",
              "      <td>0.00</td>\n",
              "      <td>0.01</td>\n",
              "      <td>0.00</td>\n",
              "      <td>0.00</td>\n",
              "      <td>NaN</td>\n",
              "      <td>NaN</td>\n",
              "      <td>NaN</td>\n",
              "      <td>0.01</td>\n",
              "    </tr>\n",
              "    <tr>\n",
              "      <td>16712</td>\n",
              "      <td>Haitaka no Psychedelica</td>\n",
              "      <td>PSV</td>\n",
              "      <td>2016</td>\n",
              "      <td>Adventure</td>\n",
              "      <td>0.00</td>\n",
              "      <td>0.00</td>\n",
              "      <td>0.01</td>\n",
              "      <td>0.00</td>\n",
              "      <td>NaN</td>\n",
              "      <td>NaN</td>\n",
              "      <td>NaN</td>\n",
              "      <td>0.01</td>\n",
              "    </tr>\n",
              "    <tr>\n",
              "      <td>16713</td>\n",
              "      <td>Spirits &amp; Spells</td>\n",
              "      <td>GBA</td>\n",
              "      <td>2003</td>\n",
              "      <td>Platform</td>\n",
              "      <td>0.01</td>\n",
              "      <td>0.00</td>\n",
              "      <td>0.00</td>\n",
              "      <td>0.00</td>\n",
              "      <td>NaN</td>\n",
              "      <td>NaN</td>\n",
              "      <td>NaN</td>\n",
              "      <td>0.01</td>\n",
              "    </tr>\n",
              "    <tr>\n",
              "      <td>16714</td>\n",
              "      <td>Winning Post 8 2016</td>\n",
              "      <td>PSV</td>\n",
              "      <td>2016</td>\n",
              "      <td>Simulation</td>\n",
              "      <td>0.00</td>\n",
              "      <td>0.00</td>\n",
              "      <td>0.01</td>\n",
              "      <td>0.00</td>\n",
              "      <td>NaN</td>\n",
              "      <td>NaN</td>\n",
              "      <td>NaN</td>\n",
              "      <td>0.01</td>\n",
              "    </tr>\n",
              "  </tbody>\n",
              "</table>\n",
              "<p>16446 rows × 12 columns</p>\n",
              "</div>"
            ],
            "text/plain": [
              "                                name platform  year_of_release         genre  \\\n",
              "0                         Wii Sports      Wii             2006        Sports   \n",
              "1                  Super Mario Bros.      NES             1985      Platform   \n",
              "2                     Mario Kart Wii      Wii             2008        Racing   \n",
              "3                  Wii Sports Resort      Wii             2009        Sports   \n",
              "4           Pokemon Red/Pokemon Blue       GB             1996  Role-Playing   \n",
              "...                              ...      ...              ...           ...   \n",
              "16710  Samurai Warriors: Sanada Maru      PS3             2016        Action   \n",
              "16711               LMA Manager 2007     X360             2006        Sports   \n",
              "16712        Haitaka no Psychedelica      PSV             2016     Adventure   \n",
              "16713               Spirits & Spells      GBA             2003      Platform   \n",
              "16714            Winning Post 8 2016      PSV             2016    Simulation   \n",
              "\n",
              "       na_sales  eu_sales  jp_sales  other_sales  critic_score  user_score  \\\n",
              "0         41.36     28.96      3.77         8.45          76.0         8.0   \n",
              "1         29.08      3.58      6.81         0.77           NaN         NaN   \n",
              "2         15.68     12.76      3.79         3.29          82.0         8.3   \n",
              "3         15.61     10.93      3.28         2.95          80.0         8.0   \n",
              "4         11.27      8.89     10.22         1.00           NaN         NaN   \n",
              "...         ...       ...       ...          ...           ...         ...   \n",
              "16710      0.00      0.00      0.01         0.00           NaN         NaN   \n",
              "16711      0.00      0.01      0.00         0.00           NaN         NaN   \n",
              "16712      0.00      0.00      0.01         0.00           NaN         NaN   \n",
              "16713      0.01      0.00      0.00         0.00           NaN         NaN   \n",
              "16714      0.00      0.00      0.01         0.00           NaN         NaN   \n",
              "\n",
              "      rating  world_sales  \n",
              "0          E        82.54  \n",
              "1        NaN        40.24  \n",
              "2          E        35.52  \n",
              "3          E        32.77  \n",
              "4        NaN        31.38  \n",
              "...      ...          ...  \n",
              "16710    NaN         0.01  \n",
              "16711    NaN         0.01  \n",
              "16712    NaN         0.01  \n",
              "16713    NaN         0.01  \n",
              "16714    NaN         0.01  \n",
              "\n",
              "[16446 rows x 12 columns]"
            ]
          },
          "execution_count": 8,
          "metadata": {},
          "output_type": "execute_result"
        }
      ],
      "source": [
        "data_games['world_sales'] = (data_games['na_sales'] + data_games['eu_sales'] \n",
        "                             + data_games['jp_sales'] + data_games['other_sales'])\n",
        "data_games"
      ]
    },
    {
      "cell_type": "markdown",
      "metadata": {
        "id": "-zY0-hhmrAOB"
      },
      "source": [
        "### Вывод\n",
        "Слишком большое количество пропущенных данных в столбцах оценок критиков и игроков. Если заполнить их, то они сильно повлияют на распределения в дальнейшем. Предлагаю пока оставить.\n",
        "\n",
        "В столбце user_score есть значения tbd (to be determined). Поменяли его на nan.\n",
        "\n",
        "Данные в столбце года релиза должны быть целочисленными.\n",
        "\n",
        "Данные в столбце оценок от пользователей должны быть числами с плавающей точкой, так как оценки исчисляются средним.\n",
        "\n",
        "Посчитали суммарные продажи во всех регионах и записали их в отдельный столбец."
      ]
    },
    {
      "cell_type": "markdown",
      "metadata": {
        "id": "gD6KwPVvrAOC"
      },
      "source": [
        "## Шаг 3. Исследовательский анализ данных"
      ]
    },
    {
      "cell_type": "markdown",
      "metadata": {
        "id": "xaw1tU58rAOC"
      },
      "source": [
        "##### •\tПосмотрите, сколько игр выпускалось в разные годы. Важны ли данные за все периоды?"
      ]
    },
    {
      "cell_type": "code",
      "execution_count": null,
      "metadata": {
        "id": "05HhTyvlrAOD",
        "outputId": "63fd3a29-7bf5-47c1-f4ec-043394608f33"
      },
      "outputs": [
        {
          "data": {
            "image/png": "[encoded data removed]",
            "text/plain": [
              "<Figure size 864x432 with 1 Axes>"
            ]
          },
          "metadata": {
            "needs_background": "light"
          },
          "output_type": "display_data"
        }
      ],
      "source": [
        "games_year_release = pd.pivot_table(data_games, index='year_of_release', values='name', aggfunc='count')\n",
        "\n",
        "games_year_release.plot(figsize=(12, 6), legend=False, grid=True, title='Выпуск игр по годам').set(xlabel='Год', ylabel='Количество')\n",
        "plt.show()"
      ]
    },
    {
      "cell_type": "markdown",
      "metadata": {
        "id": "bPd-OFtJrAOE"
      },
      "source": [
        "Период до 1993 года выпускается довольно мало игр. Рост в релизах игр наступает в 1993 году - и после него начинается бум. В 2008 наступает переломный момент и до 2013 года релизы падают в 2 раза и до 2016 держатся примерно на одном уровне.\n",
        "\n",
        "С 1980 годов по 1993 было мало компаний и маленкий охват игроков.\n",
        "\n",
        "В 2000 году видно, что выпустилось много игр. Это означает что с 1997 по 2002 появились новые возможности для создания реалистичных игр и новые средства программирования.\n",
        "\n",
        "Спад индустри игр с 2013 по 2016 обусловлен экономическим кризисом и требованиям к игре. Крупные студии создают игры по 10-12 лет."
      ]
    },
    {
      "cell_type": "markdown",
      "metadata": {
        "id": "5-awn6dxrAOF"
      },
      "source": [
        "##### •\tПосмотрите, как менялись продажи по платформам. Выберите платформы с наибольшими суммарными продажами и постройте распределение по годам. За какой характерный срок появляются новые и исчезают старые платформы?"
      ]
    },
    {
      "cell_type": "code",
      "execution_count": null,
      "metadata": {
        "id": "iUglu59GrAOF",
        "outputId": "b44efe68-3897-4183-c9ca-a7a662440869"
      },
      "outputs": [
        {
          "data": {
            "text/html": [
              "<div>\n",
              "<style scoped>\n",
              "    .dataframe tbody tr th:only-of-type {\n",
              "        vertical-align: middle;\n",
              "    }\n",
              "\n",
              "    .dataframe tbody tr th {\n",
              "        vertical-align: top;\n",
              "    }\n",
              "\n",
              "    .dataframe thead th {\n",
              "        text-align: right;\n",
              "    }\n",
              "</style>\n",
              "<table border=\"1\" class=\"dataframe\">\n",
              "  <thead>\n",
              "    <tr style=\"text-align: right;\">\n",
              "      <th></th>\n",
              "      <th>world_sales</th>\n",
              "    </tr>\n",
              "    <tr>\n",
              "      <th>platform</th>\n",
              "      <th></th>\n",
              "    </tr>\n",
              "  </thead>\n",
              "  <tbody>\n",
              "    <tr>\n",
              "      <td>PS2</td>\n",
              "      <td>1233.56</td>\n",
              "    </tr>\n",
              "    <tr>\n",
              "      <td>X360</td>\n",
              "      <td>961.24</td>\n",
              "    </tr>\n",
              "    <tr>\n",
              "      <td>PS3</td>\n",
              "      <td>931.34</td>\n",
              "    </tr>\n",
              "    <tr>\n",
              "      <td>Wii</td>\n",
              "      <td>891.18</td>\n",
              "    </tr>\n",
              "    <tr>\n",
              "      <td>DS</td>\n",
              "      <td>802.78</td>\n",
              "    </tr>\n",
              "    <tr>\n",
              "      <td>PS</td>\n",
              "      <td>727.58</td>\n",
              "    </tr>\n",
              "    <tr>\n",
              "      <td>PS4</td>\n",
              "      <td>314.14</td>\n",
              "    </tr>\n",
              "    <tr>\n",
              "      <td>GBA</td>\n",
              "      <td>312.88</td>\n",
              "    </tr>\n",
              "    <tr>\n",
              "      <td>PSP</td>\n",
              "      <td>289.53</td>\n",
              "    </tr>\n",
              "    <tr>\n",
              "      <td>3DS</td>\n",
              "      <td>257.81</td>\n",
              "    </tr>\n",
              "    <tr>\n",
              "      <td>PC</td>\n",
              "      <td>255.76</td>\n",
              "    </tr>\n",
              "    <tr>\n",
              "      <td>GB</td>\n",
              "      <td>254.43</td>\n",
              "    </tr>\n",
              "    <tr>\n",
              "      <td>XB</td>\n",
              "      <td>251.57</td>\n",
              "    </tr>\n",
              "    <tr>\n",
              "      <td>NES</td>\n",
              "      <td>251.05</td>\n",
              "    </tr>\n",
              "    <tr>\n",
              "      <td>N64</td>\n",
              "      <td>218.01</td>\n",
              "    </tr>\n",
              "    <tr>\n",
              "      <td>SNES</td>\n",
              "      <td>200.04</td>\n",
              "    </tr>\n",
              "    <tr>\n",
              "      <td>GC</td>\n",
              "      <td>196.73</td>\n",
              "    </tr>\n",
              "    <tr>\n",
              "      <td>XOne</td>\n",
              "      <td>159.32</td>\n",
              "    </tr>\n",
              "    <tr>\n",
              "      <td>2600</td>\n",
              "      <td>86.48</td>\n",
              "    </tr>\n",
              "    <tr>\n",
              "      <td>WiiU</td>\n",
              "      <td>82.19</td>\n",
              "    </tr>\n",
              "    <tr>\n",
              "      <td>PSV</td>\n",
              "      <td>53.81</td>\n",
              "    </tr>\n",
              "    <tr>\n",
              "      <td>SAT</td>\n",
              "      <td>33.59</td>\n",
              "    </tr>\n",
              "    <tr>\n",
              "      <td>GEN</td>\n",
              "      <td>30.77</td>\n",
              "    </tr>\n",
              "    <tr>\n",
              "      <td>DC</td>\n",
              "      <td>15.95</td>\n",
              "    </tr>\n",
              "    <tr>\n",
              "      <td>SCD</td>\n",
              "      <td>1.86</td>\n",
              "    </tr>\n",
              "    <tr>\n",
              "      <td>NG</td>\n",
              "      <td>1.44</td>\n",
              "    </tr>\n",
              "    <tr>\n",
              "      <td>WS</td>\n",
              "      <td>1.42</td>\n",
              "    </tr>\n",
              "    <tr>\n",
              "      <td>TG16</td>\n",
              "      <td>0.16</td>\n",
              "    </tr>\n",
              "    <tr>\n",
              "      <td>3DO</td>\n",
              "      <td>0.10</td>\n",
              "    </tr>\n",
              "    <tr>\n",
              "      <td>GG</td>\n",
              "      <td>0.04</td>\n",
              "    </tr>\n",
              "    <tr>\n",
              "      <td>PCFX</td>\n",
              "      <td>0.03</td>\n",
              "    </tr>\n",
              "  </tbody>\n",
              "</table>\n",
              "</div>"
            ],
            "text/plain": [
              "          world_sales\n",
              "platform             \n",
              "PS2           1233.56\n",
              "X360           961.24\n",
              "PS3            931.34\n",
              "Wii            891.18\n",
              "DS             802.78\n",
              "PS             727.58\n",
              "PS4            314.14\n",
              "GBA            312.88\n",
              "PSP            289.53\n",
              "3DS            257.81\n",
              "PC             255.76\n",
              "GB             254.43\n",
              "XB             251.57\n",
              "NES            251.05\n",
              "N64            218.01\n",
              "SNES           200.04\n",
              "GC             196.73\n",
              "XOne           159.32\n",
              "2600            86.48\n",
              "WiiU            82.19\n",
              "PSV             53.81\n",
              "SAT             33.59\n",
              "GEN             30.77\n",
              "DC              15.95\n",
              "SCD              1.86\n",
              "NG               1.44\n",
              "WS               1.42\n",
              "TG16             0.16\n",
              "3DO              0.10\n",
              "GG               0.04\n",
              "PCFX             0.03"
            ]
          },
          "execution_count": 10,
          "metadata": {},
          "output_type": "execute_result"
        }
      ],
      "source": [
        "platform_sales_pivot_table = pd.pivot_table(data_games, index=['platform'], values=['world_sales'], aggfunc='sum')\n",
        "platform_sales_pivot_table = platform_sales_pivot_table.sort_values('world_sales',ascending=False)\n",
        "platform_sales_pivot_table"
      ]
    },
    {
      "cell_type": "markdown",
      "metadata": {
        "id": "FllqNOvIrAOG"
      },
      "source": [
        "Возьмем первые 6 платформ, как самые популярные"
      ]
    },
    {
      "cell_type": "code",
      "execution_count": null,
      "metadata": {
        "id": "SNoXG13yrAOG",
        "outputId": "0e3953c4-c85a-4989-f079-830cfe75ffe7"
      },
      "outputs": [
        {
          "data": {
            "text/html": [
              "<div>\n",
              "<style scoped>\n",
              "    .dataframe tbody tr th:only-of-type {\n",
              "        vertical-align: middle;\n",
              "    }\n",
              "\n",
              "    .dataframe tbody tr th {\n",
              "        vertical-align: top;\n",
              "    }\n",
              "\n",
              "    .dataframe thead th {\n",
              "        text-align: right;\n",
              "    }\n",
              "</style>\n",
              "<table border=\"1\" class=\"dataframe\">\n",
              "  <thead>\n",
              "    <tr style=\"text-align: right;\">\n",
              "      <th></th>\n",
              "      <th>world_sales</th>\n",
              "    </tr>\n",
              "    <tr>\n",
              "      <th>platform</th>\n",
              "      <th></th>\n",
              "    </tr>\n",
              "  </thead>\n",
              "  <tbody>\n",
              "    <tr>\n",
              "      <td>PS2</td>\n",
              "      <td>1233.56</td>\n",
              "    </tr>\n",
              "    <tr>\n",
              "      <td>X360</td>\n",
              "      <td>961.24</td>\n",
              "    </tr>\n",
              "    <tr>\n",
              "      <td>PS3</td>\n",
              "      <td>931.34</td>\n",
              "    </tr>\n",
              "    <tr>\n",
              "      <td>Wii</td>\n",
              "      <td>891.18</td>\n",
              "    </tr>\n",
              "    <tr>\n",
              "      <td>DS</td>\n",
              "      <td>802.78</td>\n",
              "    </tr>\n",
              "    <tr>\n",
              "      <td>PS</td>\n",
              "      <td>727.58</td>\n",
              "    </tr>\n",
              "  </tbody>\n",
              "</table>\n",
              "</div>"
            ],
            "text/plain": [
              "          world_sales\n",
              "platform             \n",
              "PS2           1233.56\n",
              "X360           961.24\n",
              "PS3            931.34\n",
              "Wii            891.18\n",
              "DS             802.78\n",
              "PS             727.58"
            ]
          },
          "execution_count": 11,
          "metadata": {},
          "output_type": "execute_result"
        }
      ],
      "source": [
        "top_6_platforms = platform_sales_pivot_table.head(6)\n",
        "top_6_platforms"
      ]
    },
    {
      "cell_type": "code",
      "execution_count": null,
      "metadata": {
        "id": "0Vm6p3TCrAOG",
        "outputId": "2c4ae60e-80f5-4f13-a3ad-0128e23968be"
      },
      "outputs": [
        {
          "data": {
            "text/plain": [
              "0"
            ]
          },
          "execution_count": 12,
          "metadata": {},
          "output_type": "execute_result"
        }
      ],
      "source": [
        "filled_year = data_games[pd.notnull(data_games['year_of_release'])]\n",
        "\n",
        "def fill_year(row, **col):\n",
        "    rows = filled_year[filled_year['name'] == row['name']]\n",
        "\n",
        "    if len(rows) > 0:\n",
        "        return rows.iloc[0]['year_of_release']\n",
        "    return row['year_of_release']\n",
        "\n",
        "data_games['year_of_release'] = data_games.apply(fill_year, axis=1)\n",
        "data_games['year_of_release'].isnull().sum()"
      ]
    },
    {
      "cell_type": "code",
      "execution_count": null,
      "metadata": {
        "id": "wYdaUYmQrAOH"
      },
      "outputs": [],
      "source": [
        "def year_total_sale_for_platform(name, data_games):\n",
        "    return (data_games.query('platform == @name').pivot_table(index='year_of_release', values='world_sales', aggfunc='sum')\n",
        "    .sort_values('year_of_release'))"
      ]
    },
    {
      "cell_type": "code",
      "execution_count": null,
      "metadata": {
        "id": "SYg-EUV2rAOH",
        "outputId": "71f3fa4a-4ca2-4e13-b9c9-5c5ee6acec4a"
      },
      "outputs": [
        {
          "data": {
            "image/png": "[encoded data removed]",
            "text/plain": [
              "<Figure size 1008x504 with 1 Axes>"
            ]
          },
          "metadata": {
            "needs_background": "light"
          },
          "output_type": "display_data"
        }
      ],
      "source": [
        "for i in list(top_6_platforms.index):\n",
        "    year_total_sale_for_platform(i, data_games)['world_sales'].plot(figsize=(14, 7), label=i, title='Количество продаж для популярных игровых платформ').set(xlabel='Годы игровых релизов', ylabel='Продажи')\n",
        "    plt.legend()"
      ]
    },
    {
      "cell_type": "markdown",
      "metadata": {
        "id": "soMKQs7-rAOH"
      },
      "source": [
        "#### Вывод: Из графика видно, что срок активного существования платформ 9-10 лет, и распределение продаж идет близко к нормальному распределению, поэтому будем считать, что средний срок  существования платформы - 10-12 лет. "
      ]
    },
    {
      "cell_type": "markdown",
      "metadata": {
        "id": "ZzAZ88mSrAOI"
      },
      "source": [
        "Актуальным периодом по продажам будем считать с 2013 по 2016 год."
      ]
    },
    {
      "cell_type": "code",
      "execution_count": null,
      "metadata": {
        "id": "K_MmrAQQrAOJ",
        "outputId": "da19a84a-8dd4-4926-a68f-a0983cc7c0a4"
      },
      "outputs": [
        {
          "data": {
            "text/html": [
              "<div>\n",
              "<style scoped>\n",
              "    .dataframe tbody tr th:only-of-type {\n",
              "        vertical-align: middle;\n",
              "    }\n",
              "\n",
              "    .dataframe tbody tr th {\n",
              "        vertical-align: top;\n",
              "    }\n",
              "\n",
              "    .dataframe thead th {\n",
              "        text-align: right;\n",
              "    }\n",
              "</style>\n",
              "<table border=\"1\" class=\"dataframe\">\n",
              "  <thead>\n",
              "    <tr style=\"text-align: right;\">\n",
              "      <th></th>\n",
              "      <th>name</th>\n",
              "      <th>platform</th>\n",
              "      <th>year_of_release</th>\n",
              "      <th>genre</th>\n",
              "      <th>na_sales</th>\n",
              "      <th>eu_sales</th>\n",
              "      <th>jp_sales</th>\n",
              "      <th>other_sales</th>\n",
              "      <th>critic_score</th>\n",
              "      <th>user_score</th>\n",
              "      <th>rating</th>\n",
              "      <th>world_sales</th>\n",
              "    </tr>\n",
              "  </thead>\n",
              "  <tbody>\n",
              "    <tr>\n",
              "      <td>16</td>\n",
              "      <td>Grand Theft Auto V</td>\n",
              "      <td>PS3</td>\n",
              "      <td>2013</td>\n",
              "      <td>Action</td>\n",
              "      <td>7.02</td>\n",
              "      <td>9.09</td>\n",
              "      <td>0.98</td>\n",
              "      <td>3.96</td>\n",
              "      <td>97.0</td>\n",
              "      <td>8.2</td>\n",
              "      <td>M</td>\n",
              "      <td>21.05</td>\n",
              "    </tr>\n",
              "    <tr>\n",
              "      <td>23</td>\n",
              "      <td>Grand Theft Auto V</td>\n",
              "      <td>X360</td>\n",
              "      <td>2013</td>\n",
              "      <td>Action</td>\n",
              "      <td>9.66</td>\n",
              "      <td>5.14</td>\n",
              "      <td>0.06</td>\n",
              "      <td>1.41</td>\n",
              "      <td>97.0</td>\n",
              "      <td>8.1</td>\n",
              "      <td>M</td>\n",
              "      <td>16.27</td>\n",
              "    </tr>\n",
              "    <tr>\n",
              "      <td>31</td>\n",
              "      <td>Call of Duty: Black Ops 3</td>\n",
              "      <td>PS4</td>\n",
              "      <td>2015</td>\n",
              "      <td>Shooter</td>\n",
              "      <td>6.03</td>\n",
              "      <td>5.86</td>\n",
              "      <td>0.36</td>\n",
              "      <td>2.38</td>\n",
              "      <td>NaN</td>\n",
              "      <td>NaN</td>\n",
              "      <td>NaN</td>\n",
              "      <td>14.63</td>\n",
              "    </tr>\n",
              "    <tr>\n",
              "      <td>33</td>\n",
              "      <td>Pokemon X/Pokemon Y</td>\n",
              "      <td>3DS</td>\n",
              "      <td>2013</td>\n",
              "      <td>Role-Playing</td>\n",
              "      <td>5.28</td>\n",
              "      <td>4.19</td>\n",
              "      <td>4.35</td>\n",
              "      <td>0.78</td>\n",
              "      <td>NaN</td>\n",
              "      <td>NaN</td>\n",
              "      <td>NaN</td>\n",
              "      <td>14.60</td>\n",
              "    </tr>\n",
              "    <tr>\n",
              "      <td>42</td>\n",
              "      <td>Grand Theft Auto V</td>\n",
              "      <td>PS4</td>\n",
              "      <td>2013</td>\n",
              "      <td>Action</td>\n",
              "      <td>3.96</td>\n",
              "      <td>6.31</td>\n",
              "      <td>0.38</td>\n",
              "      <td>1.97</td>\n",
              "      <td>97.0</td>\n",
              "      <td>8.3</td>\n",
              "      <td>M</td>\n",
              "      <td>12.62</td>\n",
              "    </tr>\n",
              "  </tbody>\n",
              "</table>\n",
              "</div>"
            ],
            "text/plain": [
              "                         name platform  year_of_release         genre  \\\n",
              "16         Grand Theft Auto V      PS3             2013        Action   \n",
              "23         Grand Theft Auto V     X360             2013        Action   \n",
              "31  Call of Duty: Black Ops 3      PS4             2015       Shooter   \n",
              "33        Pokemon X/Pokemon Y      3DS             2013  Role-Playing   \n",
              "42         Grand Theft Auto V      PS4             2013        Action   \n",
              "\n",
              "    na_sales  eu_sales  jp_sales  other_sales  critic_score  user_score  \\\n",
              "16      7.02      9.09      0.98         3.96          97.0         8.2   \n",
              "23      9.66      5.14      0.06         1.41          97.0         8.1   \n",
              "31      6.03      5.86      0.36         2.38           NaN         NaN   \n",
              "33      5.28      4.19      4.35         0.78           NaN         NaN   \n",
              "42      3.96      6.31      0.38         1.97          97.0         8.3   \n",
              "\n",
              "   rating  world_sales  \n",
              "16      M        21.05  \n",
              "23      M        16.27  \n",
              "31    NaN        14.63  \n",
              "33    NaN        14.60  \n",
              "42      M        12.62  "
            ]
          },
          "execution_count": 15,
          "metadata": {},
          "output_type": "execute_result"
        }
      ],
      "source": [
        "relevant_games = data_games.query('year_of_release > 2012')\n",
        "relevant_games.head()"
      ]
    },
    {
      "cell_type": "markdown",
      "metadata": {
        "id": "XFSmV1nWrAOJ"
      },
      "source": [
        "###### •\tКакие платформы лидируют по продажам, растут или падают? Выберите несколько потенциально прибыльных платформ."
      ]
    },
    {
      "cell_type": "code",
      "execution_count": null,
      "metadata": {
        "id": "iwa6PHhLrAOK",
        "outputId": "be9e93c8-4ce1-47c7-cc85-56d02edb335e"
      },
      "outputs": [
        {
          "data": {
            "image/png": "[encoded data removed]",
            "text/plain": [
              "<Figure size 864x432 with 1 Axes>"
            ]
          },
          "metadata": {
            "needs_background": "light"
          },
          "output_type": "display_data"
        }
      ],
      "source": [
        "profitable_platform = relevant_games.pivot_table(index='platform', values='world_sales', aggfunc='sum').sort_values('world_sales', ascending=False)\n",
        "\n",
        "profitable_platform.plot(kind='bar', y='world_sales', legend=False, title='Количество продаж по платформам', figsize=(12, 6)).set(xlabel='Платформа',ylabel='Продажи')\n",
        "plt.show()"
      ]
    },
    {
      "cell_type": "markdown",
      "metadata": {
        "id": "_JbgPF4zrAOK"
      },
      "source": [
        "<div class=\"alert alert-info\">\n",
        "<font size=\"5\"><b>Вывод</b></font> \n",
        "    \n",
        "Из графика видно, что самые популярные игровые платформы за весь период это PS4, PS3, XOne, 3DS, X360. Принадлежат Sony и Microsoft.\n",
        "    \n",
        "    \n",
        "    \n",
        "</div>"
      ]
    },
    {
      "cell_type": "markdown",
      "metadata": {
        "id": "_58nKESSrAOL"
      },
      "source": [
        "###### Возьмем 5 самых продаваемых платформ"
      ]
    },
    {
      "cell_type": "code",
      "execution_count": null,
      "metadata": {
        "id": "-DTaIIjDrAOL",
        "outputId": "194a4224-0be5-4623-cc9a-8134a1f21dd6"
      },
      "outputs": [
        {
          "data": {
            "text/html": [
              "<div>\n",
              "<style scoped>\n",
              "    .dataframe tbody tr th:only-of-type {\n",
              "        vertical-align: middle;\n",
              "    }\n",
              "\n",
              "    .dataframe tbody tr th {\n",
              "        vertical-align: top;\n",
              "    }\n",
              "\n",
              "    .dataframe thead th {\n",
              "        text-align: right;\n",
              "    }\n",
              "</style>\n",
              "<table border=\"1\" class=\"dataframe\">\n",
              "  <thead>\n",
              "    <tr style=\"text-align: right;\">\n",
              "      <th></th>\n",
              "      <th>world_sales</th>\n",
              "    </tr>\n",
              "    <tr>\n",
              "      <th>platform</th>\n",
              "      <th></th>\n",
              "    </tr>\n",
              "  </thead>\n",
              "  <tbody>\n",
              "    <tr>\n",
              "      <td>PS4</td>\n",
              "      <td>306.64</td>\n",
              "    </tr>\n",
              "    <tr>\n",
              "      <td>PS3</td>\n",
              "      <td>173.98</td>\n",
              "    </tr>\n",
              "    <tr>\n",
              "      <td>XOne</td>\n",
              "      <td>157.04</td>\n",
              "    </tr>\n",
              "    <tr>\n",
              "      <td>3DS</td>\n",
              "      <td>136.88</td>\n",
              "    </tr>\n",
              "    <tr>\n",
              "      <td>X360</td>\n",
              "      <td>134.24</td>\n",
              "    </tr>\n",
              "  </tbody>\n",
              "</table>\n",
              "</div>"
            ],
            "text/plain": [
              "          world_sales\n",
              "platform             \n",
              "PS4            306.64\n",
              "PS3            173.98\n",
              "XOne           157.04\n",
              "3DS            136.88\n",
              "X360           134.24"
            ]
          },
          "execution_count": 17,
          "metadata": {},
          "output_type": "execute_result"
        }
      ],
      "source": [
        "profitable_platform.head()"
      ]
    },
    {
      "cell_type": "markdown",
      "metadata": {
        "id": "2Dydv_FMrAOM"
      },
      "source": [
        "Топ 5 платформ по миру: PS4, PS3, XOne, 3DS и X360."
      ]
    },
    {
      "cell_type": "code",
      "execution_count": null,
      "metadata": {
        "id": "GJH9JbjHrAOM",
        "outputId": "b3c658dd-c1f7-4980-a30a-e50d67cf168f"
      },
      "outputs": [
        {
          "data": {
            "text/plain": [
              "count    373.000000\n",
              "mean       0.822091\n",
              "std        1.644046\n",
              "min        0.010000\n",
              "25%        0.060000\n",
              "50%        0.200000\n",
              "75%        0.730000\n",
              "max       14.630000\n",
              "Name: world_sales, dtype: float64"
            ]
          },
          "execution_count": 18,
          "metadata": {},
          "output_type": "execute_result"
        },
        {
          "data": {
            "image/png": "[encoded data removed]",
            "text/plain": [
              "<Figure size 432x288 with 1 Axes>"
            ]
          },
          "metadata": {
            "needs_background": "light"
          },
          "output_type": "display_data"
        }
      ],
      "source": [
        "games_sales_ps4 = relevant_games.query('platform ==\"PS4\"')\n",
        "games_sales_ps4.boxplot(column = 'world_sales')\n",
        "games_sales_ps4['world_sales'].describe()"
      ]
    },
    {
      "cell_type": "code",
      "execution_count": null,
      "metadata": {
        "id": "PclAaT_ZrAON",
        "outputId": "7ef40bdd-067d-44fc-c1a4-cf4c5a4cc282"
      },
      "outputs": [
        {
          "data": {
            "text/plain": [
              "count    334.000000\n",
              "mean       0.520898\n",
              "std        1.470204\n",
              "min        0.010000\n",
              "25%        0.050000\n",
              "50%        0.145000\n",
              "75%        0.457500\n",
              "max       21.050000\n",
              "Name: world_sales, dtype: float64"
            ]
          },
          "execution_count": 19,
          "metadata": {},
          "output_type": "execute_result"
        },
        {
          "data": {
            "image/png": "[encoded data removed]",
            "text/plain": [
              "<Figure size 432x288 with 1 Axes>"
            ]
          },
          "metadata": {
            "needs_background": "light"
          },
          "output_type": "display_data"
        }
      ],
      "source": [
        "games_sales_ps3 = relevant_games.query('platform ==\"PS3\"')\n",
        "games_sales_ps3.boxplot(column = 'world_sales')\n",
        "games_sales_ps3['world_sales'].describe()"
      ]
    },
    {
      "cell_type": "code",
      "execution_count": null,
      "metadata": {
        "id": "s_aKYiaQrAOP",
        "outputId": "74f9db21-11c0-4107-e7a8-8f2ad41ffde6"
      },
      "outputs": [
        {
          "data": {
            "text/plain": [
              "count    234.000000\n",
              "mean       0.671111\n",
              "std        1.057089\n",
              "min        0.010000\n",
              "25%        0.060000\n",
              "50%        0.240000\n",
              "75%        0.737500\n",
              "max        7.390000\n",
              "Name: world_sales, dtype: float64"
            ]
          },
          "execution_count": 20,
          "metadata": {},
          "output_type": "execute_result"
        },
        {
          "data": {
            "image/png": "[encoded data removed]",
            "text/plain": [
              "<Figure size 432x288 with 1 Axes>"
            ]
          },
          "metadata": {
            "needs_background": "light"
          },
          "output_type": "display_data"
        }
      ],
      "source": [
        "games_sales_x_one = relevant_games.query('platform ==\"XOne\"')\n",
        "games_sales_x_one.boxplot(column = 'world_sales')\n",
        "games_sales_x_one['world_sales'].describe()"
      ]
    },
    {
      "cell_type": "code",
      "execution_count": null,
      "metadata": {
        "id": "pAPpfUNArAOQ",
        "outputId": "bcd122ff-a4fe-4deb-90e8-b84d572de915"
      },
      "outputs": [
        {
          "data": {
            "text/plain": [
              "count    288.000000\n",
              "mean       0.475278\n",
              "std        1.411015\n",
              "min        0.010000\n",
              "25%        0.040000\n",
              "50%        0.090000\n",
              "75%        0.272500\n",
              "max       14.600000\n",
              "Name: world_sales, dtype: float64"
            ]
          },
          "execution_count": 21,
          "metadata": {},
          "output_type": "execute_result"
        },
        {
          "data": {
            "image/png": "[encoded data removed]",
            "text/plain": [
              "<Figure size 432x288 with 1 Axes>"
            ]
          },
          "metadata": {
            "needs_background": "light"
          },
          "output_type": "display_data"
        }
      ],
      "source": [
        "games_sales_3ds = relevant_games.query('platform ==\"3DS\"')\n",
        "games_sales_3ds.boxplot(column = 'world_sales')\n",
        "games_sales_3ds['world_sales'].describe()"
      ]
    },
    {
      "cell_type": "code",
      "execution_count": null,
      "metadata": {
        "id": "qsT_6IpZrAOQ",
        "outputId": "6f8353fd-6fad-42b0-99b0-07081411bf8a"
      },
      "outputs": [
        {
          "data": {
            "text/plain": [
              "count    183.000000\n",
              "mean       0.733552\n",
              "std        1.676471\n",
              "min        0.010000\n",
              "25%        0.080000\n",
              "50%        0.250000\n",
              "75%        0.790000\n",
              "max       16.270000\n",
              "Name: world_sales, dtype: float64"
            ]
          },
          "execution_count": 22,
          "metadata": {},
          "output_type": "execute_result"
        },
        {
          "data": {
            "image/png": "[encoded data removed]",
            "text/plain": [
              "<Figure size 432x288 with 1 Axes>"
            ]
          },
          "metadata": {
            "needs_background": "light"
          },
          "output_type": "display_data"
        }
      ],
      "source": [
        "games_sales_x360 = relevant_games.query('platform ==\"X360\"')\n",
        "games_sales_x360.boxplot(column = 'world_sales')\n",
        "games_sales_x360['world_sales'].describe()"
      ]
    },
    {
      "cell_type": "markdown",
      "metadata": {
        "id": "K8-va491rAOQ"
      },
      "source": [
        "Для PS4, PS3 и 3DS видна положительная тенденция к росту продаж. Средняя больше 3го квантиля, это означает, что эти платформы делаются более популярные, а игры продаваемыми, чем на XOne и X360."
      ]
    },
    {
      "cell_type": "markdown",
      "metadata": {
        "id": "wONNJDljrAOR"
      },
      "source": [
        "<div class=\"alert alert-info\">\n",
        "<font size=\"5\"><b></b></font> \n",
        "    \n",
        "Продажи растут, т.к. производители заменяют предыдущее поколение игровых приставок.\n",
        "    \n",
        "    \n",
        "    \n",
        "</div>"
      ]
    },
    {
      "cell_type": "markdown",
      "metadata": {
        "id": "LUMteqEurAOR"
      },
      "source": [
        "##### •\tПосмотрите, как влияют на продажи внутри одной популярной платформы отзывы пользователей и критиков. Постройте диаграмму рассеяния и посчитайте корреляцию между отзывами и продажами. Сформулируйте выводы."
      ]
    },
    {
      "cell_type": "code",
      "execution_count": null,
      "metadata": {
        "id": "W1Ew2euFrAOR",
        "outputId": "e6f209a7-092b-4040-e96f-24ab9e47a2e7"
      },
      "outputs": [
        {
          "data": {
            "text/html": [
              "<div>\n",
              "<style scoped>\n",
              "    .dataframe tbody tr th:only-of-type {\n",
              "        vertical-align: middle;\n",
              "    }\n",
              "\n",
              "    .dataframe tbody tr th {\n",
              "        vertical-align: top;\n",
              "    }\n",
              "\n",
              "    .dataframe thead th {\n",
              "        text-align: right;\n",
              "    }\n",
              "</style>\n",
              "<table border=\"1\" class=\"dataframe\">\n",
              "  <thead>\n",
              "    <tr style=\"text-align: right;\">\n",
              "      <th></th>\n",
              "      <th>world_sales</th>\n",
              "      <th>critic_score</th>\n",
              "      <th>user_score</th>\n",
              "    </tr>\n",
              "  </thead>\n",
              "  <tbody>\n",
              "    <tr>\n",
              "      <td>31</td>\n",
              "      <td>14.63</td>\n",
              "      <td>NaN</td>\n",
              "      <td>NaN</td>\n",
              "    </tr>\n",
              "    <tr>\n",
              "      <td>42</td>\n",
              "      <td>12.62</td>\n",
              "      <td>97.0</td>\n",
              "      <td>8.3</td>\n",
              "    </tr>\n",
              "    <tr>\n",
              "      <td>77</td>\n",
              "      <td>8.58</td>\n",
              "      <td>82.0</td>\n",
              "      <td>4.3</td>\n",
              "    </tr>\n",
              "    <tr>\n",
              "      <td>87</td>\n",
              "      <td>7.98</td>\n",
              "      <td>NaN</td>\n",
              "      <td>NaN</td>\n",
              "    </tr>\n",
              "    <tr>\n",
              "      <td>92</td>\n",
              "      <td>7.66</td>\n",
              "      <td>83.0</td>\n",
              "      <td>5.7</td>\n",
              "    </tr>\n",
              "  </tbody>\n",
              "</table>\n",
              "</div>"
            ],
            "text/plain": [
              "    world_sales  critic_score  user_score\n",
              "31        14.63           NaN         NaN\n",
              "42        12.62          97.0         8.3\n",
              "77         8.58          82.0         4.3\n",
              "87         7.98           NaN         NaN\n",
              "92         7.66          83.0         5.7"
            ]
          },
          "execution_count": 23,
          "metadata": {},
          "output_type": "execute_result"
        }
      ],
      "source": [
        "ps4_sales_crit_user_rating = games_sales_ps4.loc[:,['world_sales', 'critic_score', 'user_score']]\n",
        "ps4_sales_crit_user_rating.head()"
      ]
    },
    {
      "cell_type": "code",
      "execution_count": null,
      "metadata": {
        "id": "xXdoe23GrAOS",
        "outputId": "707f259c-bb7b-4a95-dc3e-36b084dc0fa2"
      },
      "outputs": [
        {
          "data": {
            "text/html": [
              "<div>\n",
              "<style scoped>\n",
              "    .dataframe tbody tr th:only-of-type {\n",
              "        vertical-align: middle;\n",
              "    }\n",
              "\n",
              "    .dataframe tbody tr th {\n",
              "        vertical-align: top;\n",
              "    }\n",
              "\n",
              "    .dataframe thead th {\n",
              "        text-align: right;\n",
              "    }\n",
              "</style>\n",
              "<table border=\"1\" class=\"dataframe\">\n",
              "  <thead>\n",
              "    <tr style=\"text-align: right;\">\n",
              "      <th></th>\n",
              "      <th>world_sales</th>\n",
              "      <th>critic_score</th>\n",
              "      <th>user_score</th>\n",
              "    </tr>\n",
              "  </thead>\n",
              "  <tbody>\n",
              "    <tr>\n",
              "      <td>world_sales</td>\n",
              "      <td>1.000000</td>\n",
              "      <td>0.408963</td>\n",
              "      <td>-0.032188</td>\n",
              "    </tr>\n",
              "    <tr>\n",
              "      <td>critic_score</td>\n",
              "      <td>0.408963</td>\n",
              "      <td>1.000000</td>\n",
              "      <td>0.560715</td>\n",
              "    </tr>\n",
              "    <tr>\n",
              "      <td>user_score</td>\n",
              "      <td>-0.032188</td>\n",
              "      <td>0.560715</td>\n",
              "      <td>1.000000</td>\n",
              "    </tr>\n",
              "  </tbody>\n",
              "</table>\n",
              "</div>"
            ],
            "text/plain": [
              "              world_sales  critic_score  user_score\n",
              "world_sales      1.000000      0.408963   -0.032188\n",
              "critic_score     0.408963      1.000000    0.560715\n",
              "user_score      -0.032188      0.560715    1.000000"
            ]
          },
          "execution_count": 24,
          "metadata": {},
          "output_type": "execute_result"
        }
      ],
      "source": [
        "ps4_sales_crit_user_rating.corr()"
      ]
    },
    {
      "cell_type": "code",
      "execution_count": null,
      "metadata": {
        "id": "Dxe8MJSqrAOS",
        "outputId": "09b25c4b-3cc9-4913-89b3-feaad1ed7084"
      },
      "outputs": [
        {
          "data": {
            "image/png": "[encoded data removed]",
            "text/plain": [
              "<Figure size 432x288 with 1 Axes>"
            ]
          },
          "metadata": {
            "needs_background": "light"
          },
          "output_type": "display_data"
        }
      ],
      "source": [
        "ps4_sales_crit_user_rating.plot(x='user_score', y='world_sales', kind='scatter', title='PS4')\n",
        "plt.show()"
      ]
    },
    {
      "cell_type": "code",
      "execution_count": null,
      "metadata": {
        "id": "Of68PFijrAOS",
        "outputId": "8f6c4183-9879-417d-9bf4-24863892d969"
      },
      "outputs": [
        {
          "data": {
            "image/png": "[encoded data removed]",
            "text/plain": [
              "<Figure size 432x288 with 1 Axes>"
            ]
          },
          "metadata": {
            "needs_background": "light"
          },
          "output_type": "display_data"
        }
      ],
      "source": [
        "ps4_sales_crit_user_rating.plot(x='critic_score', y='world_sales', kind='scatter', title='PS4')\n",
        "plt.show()"
      ]
    },
    {
      "cell_type": "markdown",
      "metadata": {
        "id": "Nzj3DbzyrAOT"
      },
      "source": [
        "Нет взаимосвязи между оценками игроков и продажами.\n",
        "\n",
        "Также присутствует связь между оценками критиков и продажами.\n",
        "\n",
        "Но как показано на графике, высокая оценка критиков не гарантирует высокие продажи."
      ]
    },
    {
      "cell_type": "code",
      "execution_count": null,
      "metadata": {
        "id": "bUD2Av5xrAOT",
        "outputId": "0bbccbdf-ecf9-4308-f2a9-cbc95e0c9ebe"
      },
      "outputs": [
        {
          "data": {
            "text/html": [
              "<div>\n",
              "<style scoped>\n",
              "    .dataframe tbody tr th:only-of-type {\n",
              "        vertical-align: middle;\n",
              "    }\n",
              "\n",
              "    .dataframe tbody tr th {\n",
              "        vertical-align: top;\n",
              "    }\n",
              "\n",
              "    .dataframe thead th {\n",
              "        text-align: right;\n",
              "    }\n",
              "</style>\n",
              "<table border=\"1\" class=\"dataframe\">\n",
              "  <thead>\n",
              "    <tr style=\"text-align: right;\">\n",
              "      <th></th>\n",
              "      <th>world_sales</th>\n",
              "      <th>critic_score</th>\n",
              "      <th>user_score</th>\n",
              "    </tr>\n",
              "  </thead>\n",
              "  <tbody>\n",
              "    <tr>\n",
              "      <td>16</td>\n",
              "      <td>21.05</td>\n",
              "      <td>97.0</td>\n",
              "      <td>8.2</td>\n",
              "    </tr>\n",
              "    <tr>\n",
              "      <td>69</td>\n",
              "      <td>9.36</td>\n",
              "      <td>71.0</td>\n",
              "      <td>2.6</td>\n",
              "    </tr>\n",
              "    <tr>\n",
              "      <td>126</td>\n",
              "      <td>6.46</td>\n",
              "      <td>86.0</td>\n",
              "      <td>4.3</td>\n",
              "    </tr>\n",
              "    <tr>\n",
              "      <td>149</td>\n",
              "      <td>5.86</td>\n",
              "      <td>95.0</td>\n",
              "      <td>9.1</td>\n",
              "    </tr>\n",
              "    <tr>\n",
              "      <td>180</td>\n",
              "      <td>5.27</td>\n",
              "      <td>NaN</td>\n",
              "      <td>NaN</td>\n",
              "    </tr>\n",
              "  </tbody>\n",
              "</table>\n",
              "</div>"
            ],
            "text/plain": [
              "     world_sales  critic_score  user_score\n",
              "16         21.05          97.0         8.2\n",
              "69          9.36          71.0         2.6\n",
              "126         6.46          86.0         4.3\n",
              "149         5.86          95.0         9.1\n",
              "180         5.27           NaN         NaN"
            ]
          },
          "execution_count": 27,
          "metadata": {},
          "output_type": "execute_result"
        }
      ],
      "source": [
        "ps3_sales_crit_user_rating = games_sales_ps3.loc[:,['world_sales', 'critic_score', 'user_score']]\n",
        "ps3_sales_crit_user_rating.head()"
      ]
    },
    {
      "cell_type": "code",
      "execution_count": null,
      "metadata": {
        "id": "nqxGGPIQrAOU",
        "outputId": "061ac77d-15dd-4606-baf4-1c91c10b06fb"
      },
      "outputs": [
        {
          "data": {
            "text/html": [
              "<div>\n",
              "<style scoped>\n",
              "    .dataframe tbody tr th:only-of-type {\n",
              "        vertical-align: middle;\n",
              "    }\n",
              "\n",
              "    .dataframe tbody tr th {\n",
              "        vertical-align: top;\n",
              "    }\n",
              "\n",
              "    .dataframe thead th {\n",
              "        text-align: right;\n",
              "    }\n",
              "</style>\n",
              "<table border=\"1\" class=\"dataframe\">\n",
              "  <thead>\n",
              "    <tr style=\"text-align: right;\">\n",
              "      <th></th>\n",
              "      <th>world_sales</th>\n",
              "      <th>critic_score</th>\n",
              "      <th>user_score</th>\n",
              "    </tr>\n",
              "  </thead>\n",
              "  <tbody>\n",
              "    <tr>\n",
              "      <td>world_sales</td>\n",
              "      <td>1.000000</td>\n",
              "      <td>0.333249</td>\n",
              "      <td>-0.001538</td>\n",
              "    </tr>\n",
              "    <tr>\n",
              "      <td>critic_score</td>\n",
              "      <td>0.333249</td>\n",
              "      <td>1.000000</td>\n",
              "      <td>0.586757</td>\n",
              "    </tr>\n",
              "    <tr>\n",
              "      <td>user_score</td>\n",
              "      <td>-0.001538</td>\n",
              "      <td>0.586757</td>\n",
              "      <td>1.000000</td>\n",
              "    </tr>\n",
              "  </tbody>\n",
              "</table>\n",
              "</div>"
            ],
            "text/plain": [
              "              world_sales  critic_score  user_score\n",
              "world_sales      1.000000      0.333249   -0.001538\n",
              "critic_score     0.333249      1.000000    0.586757\n",
              "user_score      -0.001538      0.586757    1.000000"
            ]
          },
          "execution_count": 28,
          "metadata": {},
          "output_type": "execute_result"
        }
      ],
      "source": [
        "ps3_sales_crit_user_rating.corr()"
      ]
    },
    {
      "cell_type": "code",
      "execution_count": null,
      "metadata": {
        "id": "37y0cSwerAOU",
        "outputId": "b2a8dbf7-d624-4e18-ab6a-dca713b61ec3"
      },
      "outputs": [
        {
          "data": {
            "image/png": "[encoded data removed]",
            "text/plain": [
              "<Figure size 432x288 with 1 Axes>"
            ]
          },
          "metadata": {
            "needs_background": "light"
          },
          "output_type": "display_data"
        }
      ],
      "source": [
        "ps3_sales_crit_user_rating.plot(x='user_score', y='world_sales', kind='scatter', title='PS3')\n",
        "plt.show()"
      ]
    },
    {
      "cell_type": "code",
      "execution_count": null,
      "metadata": {
        "id": "ac2TfZ_RrAOU",
        "outputId": "b9ca153f-5df3-4614-89b7-df5ae1fcf7f7"
      },
      "outputs": [
        {
          "data": {
            "image/png": "[encoded data removed]",
            "text/plain": [
              "<Figure size 432x288 with 1 Axes>"
            ]
          },
          "metadata": {
            "needs_background": "light"
          },
          "output_type": "display_data"
        }
      ],
      "source": [
        "ps3_sales_crit_user_rating.plot(x='critic_score', y='world_sales', kind='scatter', title='PS3')\n",
        "plt.show()"
      ]
    },
    {
      "cell_type": "code",
      "execution_count": null,
      "metadata": {
        "id": "T0U5IKiErAOV",
        "outputId": "b52f4f22-ddd2-4a84-cd05-5dba84c5d906"
      },
      "outputs": [
        {
          "data": {
            "text/html": [
              "<div>\n",
              "<style scoped>\n",
              "    .dataframe tbody tr th:only-of-type {\n",
              "        vertical-align: middle;\n",
              "    }\n",
              "\n",
              "    .dataframe tbody tr th {\n",
              "        vertical-align: top;\n",
              "    }\n",
              "\n",
              "    .dataframe thead th {\n",
              "        text-align: right;\n",
              "    }\n",
              "</style>\n",
              "<table border=\"1\" class=\"dataframe\">\n",
              "  <thead>\n",
              "    <tr style=\"text-align: right;\">\n",
              "      <th></th>\n",
              "      <th>world_sales</th>\n",
              "      <th>critic_score</th>\n",
              "      <th>user_score</th>\n",
              "    </tr>\n",
              "  </thead>\n",
              "  <tbody>\n",
              "    <tr>\n",
              "      <td>99</td>\n",
              "      <td>7.39</td>\n",
              "      <td>NaN</td>\n",
              "      <td>NaN</td>\n",
              "    </tr>\n",
              "    <tr>\n",
              "      <td>165</td>\n",
              "      <td>5.47</td>\n",
              "      <td>97.0</td>\n",
              "      <td>7.9</td>\n",
              "    </tr>\n",
              "    <tr>\n",
              "      <td>179</td>\n",
              "      <td>5.26</td>\n",
              "      <td>81.0</td>\n",
              "      <td>5.4</td>\n",
              "    </tr>\n",
              "    <tr>\n",
              "      <td>242</td>\n",
              "      <td>4.49</td>\n",
              "      <td>84.0</td>\n",
              "      <td>6.4</td>\n",
              "    </tr>\n",
              "    <tr>\n",
              "      <td>270</td>\n",
              "      <td>4.22</td>\n",
              "      <td>88.0</td>\n",
              "      <td>6.2</td>\n",
              "    </tr>\n",
              "  </tbody>\n",
              "</table>\n",
              "</div>"
            ],
            "text/plain": [
              "     world_sales  critic_score  user_score\n",
              "99          7.39           NaN         NaN\n",
              "165         5.47          97.0         7.9\n",
              "179         5.26          81.0         5.4\n",
              "242         4.49          84.0         6.4\n",
              "270         4.22          88.0         6.2"
            ]
          },
          "execution_count": 31,
          "metadata": {},
          "output_type": "execute_result"
        }
      ],
      "source": [
        "x_one_sales_crit_user_rating = games_sales_x_one.loc[:,['world_sales', 'critic_score', 'user_score']]\n",
        "x_one_sales_crit_user_rating.head()"
      ]
    },
    {
      "cell_type": "code",
      "execution_count": null,
      "metadata": {
        "id": "3ywwCnayrAOV",
        "outputId": "1108abfd-f272-42a7-8d85-372fe07d5098"
      },
      "outputs": [
        {
          "data": {
            "text/html": [
              "<div>\n",
              "<style scoped>\n",
              "    .dataframe tbody tr th:only-of-type {\n",
              "        vertical-align: middle;\n",
              "    }\n",
              "\n",
              "    .dataframe tbody tr th {\n",
              "        vertical-align: top;\n",
              "    }\n",
              "\n",
              "    .dataframe thead th {\n",
              "        text-align: right;\n",
              "    }\n",
              "</style>\n",
              "<table border=\"1\" class=\"dataframe\">\n",
              "  <thead>\n",
              "    <tr style=\"text-align: right;\">\n",
              "      <th></th>\n",
              "      <th>world_sales</th>\n",
              "      <th>critic_score</th>\n",
              "      <th>user_score</th>\n",
              "    </tr>\n",
              "  </thead>\n",
              "  <tbody>\n",
              "    <tr>\n",
              "      <td>world_sales</td>\n",
              "      <td>1.000000</td>\n",
              "      <td>0.415034</td>\n",
              "      <td>-0.063612</td>\n",
              "    </tr>\n",
              "    <tr>\n",
              "      <td>critic_score</td>\n",
              "      <td>0.415034</td>\n",
              "      <td>1.000000</td>\n",
              "      <td>0.472595</td>\n",
              "    </tr>\n",
              "    <tr>\n",
              "      <td>user_score</td>\n",
              "      <td>-0.063612</td>\n",
              "      <td>0.472595</td>\n",
              "      <td>1.000000</td>\n",
              "    </tr>\n",
              "  </tbody>\n",
              "</table>\n",
              "</div>"
            ],
            "text/plain": [
              "              world_sales  critic_score  user_score\n",
              "world_sales      1.000000      0.415034   -0.063612\n",
              "critic_score     0.415034      1.000000    0.472595\n",
              "user_score      -0.063612      0.472595    1.000000"
            ]
          },
          "execution_count": 32,
          "metadata": {},
          "output_type": "execute_result"
        }
      ],
      "source": [
        "x_one_sales_crit_user_rating.corr()"
      ]
    },
    {
      "cell_type": "code",
      "execution_count": null,
      "metadata": {
        "id": "HKRiz9KVrAOV",
        "outputId": "5d7f2eb3-8dfb-4fe8-d9e7-bdba8b0319db"
      },
      "outputs": [
        {
          "data": {
            "image/png": "[encoded data removed]",
            "text/plain": [
              "<Figure size 432x288 with 1 Axes>"
            ]
          },
          "metadata": {
            "needs_background": "light"
          },
          "output_type": "display_data"
        }
      ],
      "source": [
        "x_one_sales_crit_user_rating.plot(x='user_score', y='world_sales', kind='scatter', title='XOne')\n",
        "plt.show()"
      ]
    },
    {
      "cell_type": "code",
      "execution_count": null,
      "metadata": {
        "id": "4kYWU5NRrAOV",
        "outputId": "9e566e44-614e-4b53-d196-d68712aaa0ca"
      },
      "outputs": [
        {
          "data": {
            "image/png": "[encoded data removed]",
            "text/plain": [
              "<Figure size 432x288 with 1 Axes>"
            ]
          },
          "metadata": {
            "needs_background": "light"
          },
          "output_type": "display_data"
        }
      ],
      "source": [
        "x_one_sales_crit_user_rating.plot(x='critic_score', y='world_sales', kind='scatter', title='XOne')\n",
        "plt.show()"
      ]
    },
    {
      "cell_type": "code",
      "execution_count": null,
      "metadata": {
        "id": "FSpLVwR9rAOW",
        "outputId": "64a8cdea-61e6-4096-d1a4-de5ffa37db4b"
      },
      "outputs": [
        {
          "data": {
            "text/html": [
              "<div>\n",
              "<style scoped>\n",
              "    .dataframe tbody tr th:only-of-type {\n",
              "        vertical-align: middle;\n",
              "    }\n",
              "\n",
              "    .dataframe tbody tr th {\n",
              "        vertical-align: top;\n",
              "    }\n",
              "\n",
              "    .dataframe thead th {\n",
              "        text-align: right;\n",
              "    }\n",
              "</style>\n",
              "<table border=\"1\" class=\"dataframe\">\n",
              "  <thead>\n",
              "    <tr style=\"text-align: right;\">\n",
              "      <th></th>\n",
              "      <th>world_sales</th>\n",
              "      <th>critic_score</th>\n",
              "      <th>user_score</th>\n",
              "    </tr>\n",
              "  </thead>\n",
              "  <tbody>\n",
              "    <tr>\n",
              "      <td>33</td>\n",
              "      <td>14.60</td>\n",
              "      <td>NaN</td>\n",
              "      <td>NaN</td>\n",
              "    </tr>\n",
              "    <tr>\n",
              "      <td>47</td>\n",
              "      <td>11.68</td>\n",
              "      <td>NaN</td>\n",
              "      <td>NaN</td>\n",
              "    </tr>\n",
              "    <tr>\n",
              "      <td>96</td>\n",
              "      <td>7.55</td>\n",
              "      <td>NaN</td>\n",
              "      <td>NaN</td>\n",
              "    </tr>\n",
              "    <tr>\n",
              "      <td>108</td>\n",
              "      <td>7.14</td>\n",
              "      <td>NaN</td>\n",
              "      <td>NaN</td>\n",
              "    </tr>\n",
              "    <tr>\n",
              "      <td>184</td>\n",
              "      <td>5.22</td>\n",
              "      <td>NaN</td>\n",
              "      <td>NaN</td>\n",
              "    </tr>\n",
              "  </tbody>\n",
              "</table>\n",
              "</div>"
            ],
            "text/plain": [
              "     world_sales  critic_score  user_score\n",
              "33         14.60           NaN         NaN\n",
              "47         11.68           NaN         NaN\n",
              "96          7.55           NaN         NaN\n",
              "108         7.14           NaN         NaN\n",
              "184         5.22           NaN         NaN"
            ]
          },
          "execution_count": 35,
          "metadata": {},
          "output_type": "execute_result"
        }
      ],
      "source": [
        "ds3_sales_crit_user_rating = games_sales_3ds.loc[:,['world_sales', 'critic_score', 'user_score']]\n",
        "ds3_sales_crit_user_rating.head()"
      ]
    },
    {
      "cell_type": "code",
      "execution_count": null,
      "metadata": {
        "id": "dmuFIhtGrAOW",
        "outputId": "fcce760f-61fd-47bb-a73e-ddd5b96e2b9a"
      },
      "outputs": [
        {
          "data": {
            "text/html": [
              "<div>\n",
              "<style scoped>\n",
              "    .dataframe tbody tr th:only-of-type {\n",
              "        vertical-align: middle;\n",
              "    }\n",
              "\n",
              "    .dataframe tbody tr th {\n",
              "        vertical-align: top;\n",
              "    }\n",
              "\n",
              "    .dataframe thead th {\n",
              "        text-align: right;\n",
              "    }\n",
              "</style>\n",
              "<table border=\"1\" class=\"dataframe\">\n",
              "  <thead>\n",
              "    <tr style=\"text-align: right;\">\n",
              "      <th></th>\n",
              "      <th>world_sales</th>\n",
              "      <th>critic_score</th>\n",
              "      <th>user_score</th>\n",
              "    </tr>\n",
              "  </thead>\n",
              "  <tbody>\n",
              "    <tr>\n",
              "      <td>world_sales</td>\n",
              "      <td>1.000000</td>\n",
              "      <td>0.357057</td>\n",
              "      <td>0.241504</td>\n",
              "    </tr>\n",
              "    <tr>\n",
              "      <td>critic_score</td>\n",
              "      <td>0.357057</td>\n",
              "      <td>1.000000</td>\n",
              "      <td>0.769536</td>\n",
              "    </tr>\n",
              "    <tr>\n",
              "      <td>user_score</td>\n",
              "      <td>0.241504</td>\n",
              "      <td>0.769536</td>\n",
              "      <td>1.000000</td>\n",
              "    </tr>\n",
              "  </tbody>\n",
              "</table>\n",
              "</div>"
            ],
            "text/plain": [
              "              world_sales  critic_score  user_score\n",
              "world_sales      1.000000      0.357057    0.241504\n",
              "critic_score     0.357057      1.000000    0.769536\n",
              "user_score       0.241504      0.769536    1.000000"
            ]
          },
          "execution_count": 36,
          "metadata": {},
          "output_type": "execute_result"
        }
      ],
      "source": [
        "ds3_sales_crit_user_rating.corr()"
      ]
    },
    {
      "cell_type": "code",
      "execution_count": null,
      "metadata": {
        "id": "3s9gG1C-rAOW",
        "outputId": "3180ee60-a6e9-47eb-fe8f-6bab6163dc27"
      },
      "outputs": [
        {
          "data": {
            "image/png": "[encoded data removed]",
            "text/plain": [
              "<Figure size 432x288 with 1 Axes>"
            ]
          },
          "metadata": {
            "needs_background": "light"
          },
          "output_type": "display_data"
        }
      ],
      "source": [
        "ds3_sales_crit_user_rating.plot(x='user_score', y='world_sales', kind='scatter', title='3DS')\n",
        "plt.show()"
      ]
    },
    {
      "cell_type": "code",
      "execution_count": null,
      "metadata": {
        "id": "eAtdbNazrAOX",
        "outputId": "c0cd8373-e033-4c21-e304-e68a7b92e224"
      },
      "outputs": [
        {
          "data": {
            "image/png": "[encoded data removed]",
            "text/plain": [
              "<Figure size 432x288 with 1 Axes>"
            ]
          },
          "metadata": {
            "needs_background": "light"
          },
          "output_type": "display_data"
        }
      ],
      "source": [
        "ds3_sales_crit_user_rating.plot(x='critic_score', y='world_sales', kind='scatter', title='3DS')\n",
        "plt.show()"
      ]
    },
    {
      "cell_type": "code",
      "execution_count": null,
      "metadata": {
        "id": "f151EPVPrAOX",
        "outputId": "5eb2d457-43b6-46ea-ec26-1ce70622ce9f"
      },
      "outputs": [
        {
          "data": {
            "text/html": [
              "<div>\n",
              "<style scoped>\n",
              "    .dataframe tbody tr th:only-of-type {\n",
              "        vertical-align: middle;\n",
              "    }\n",
              "\n",
              "    .dataframe tbody tr th {\n",
              "        vertical-align: top;\n",
              "    }\n",
              "\n",
              "    .dataframe thead th {\n",
              "        text-align: right;\n",
              "    }\n",
              "</style>\n",
              "<table border=\"1\" class=\"dataframe\">\n",
              "  <thead>\n",
              "    <tr style=\"text-align: right;\">\n",
              "      <th></th>\n",
              "      <th>world_sales</th>\n",
              "      <th>critic_score</th>\n",
              "      <th>user_score</th>\n",
              "    </tr>\n",
              "  </thead>\n",
              "  <tbody>\n",
              "    <tr>\n",
              "      <td>23</td>\n",
              "      <td>16.27</td>\n",
              "      <td>97.0</td>\n",
              "      <td>8.1</td>\n",
              "    </tr>\n",
              "    <tr>\n",
              "      <td>60</td>\n",
              "      <td>10.24</td>\n",
              "      <td>73.0</td>\n",
              "      <td>2.6</td>\n",
              "    </tr>\n",
              "    <tr>\n",
              "      <td>72</td>\n",
              "      <td>9.18</td>\n",
              "      <td>NaN</td>\n",
              "      <td>NaN</td>\n",
              "    </tr>\n",
              "    <tr>\n",
              "      <td>263</td>\n",
              "      <td>4.28</td>\n",
              "      <td>NaN</td>\n",
              "      <td>4.9</td>\n",
              "    </tr>\n",
              "    <tr>\n",
              "      <td>271</td>\n",
              "      <td>4.22</td>\n",
              "      <td>84.0</td>\n",
              "      <td>4.2</td>\n",
              "    </tr>\n",
              "  </tbody>\n",
              "</table>\n",
              "</div>"
            ],
            "text/plain": [
              "     world_sales  critic_score  user_score\n",
              "23         16.27          97.0         8.1\n",
              "60         10.24          73.0         2.6\n",
              "72          9.18           NaN         NaN\n",
              "263         4.28           NaN         4.9\n",
              "271         4.22          84.0         4.2"
            ]
          },
          "execution_count": 39,
          "metadata": {},
          "output_type": "execute_result"
        }
      ],
      "source": [
        "x360_sales_crit_user_rating = games_sales_x360.loc[:,['world_sales', 'critic_score', 'user_score']]\n",
        "x360_sales_crit_user_rating.head()"
      ]
    },
    {
      "cell_type": "code",
      "execution_count": null,
      "metadata": {
        "id": "_ZS9SxiNrAOX",
        "outputId": "a6a416b0-8104-424c-ef38-4cd55332ad1b"
      },
      "outputs": [
        {
          "data": {
            "text/html": [
              "<div>\n",
              "<style scoped>\n",
              "    .dataframe tbody tr th:only-of-type {\n",
              "        vertical-align: middle;\n",
              "    }\n",
              "\n",
              "    .dataframe tbody tr th {\n",
              "        vertical-align: top;\n",
              "    }\n",
              "\n",
              "    .dataframe thead th {\n",
              "        text-align: right;\n",
              "    }\n",
              "</style>\n",
              "<table border=\"1\" class=\"dataframe\">\n",
              "  <thead>\n",
              "    <tr style=\"text-align: right;\">\n",
              "      <th></th>\n",
              "      <th>world_sales</th>\n",
              "      <th>critic_score</th>\n",
              "      <th>user_score</th>\n",
              "    </tr>\n",
              "  </thead>\n",
              "  <tbody>\n",
              "    <tr>\n",
              "      <td>world_sales</td>\n",
              "      <td>1.000000</td>\n",
              "      <td>0.349323</td>\n",
              "      <td>-0.013848</td>\n",
              "    </tr>\n",
              "    <tr>\n",
              "      <td>critic_score</td>\n",
              "      <td>0.349323</td>\n",
              "      <td>1.000000</td>\n",
              "      <td>0.543429</td>\n",
              "    </tr>\n",
              "    <tr>\n",
              "      <td>user_score</td>\n",
              "      <td>-0.013848</td>\n",
              "      <td>0.543429</td>\n",
              "      <td>1.000000</td>\n",
              "    </tr>\n",
              "  </tbody>\n",
              "</table>\n",
              "</div>"
            ],
            "text/plain": [
              "              world_sales  critic_score  user_score\n",
              "world_sales      1.000000      0.349323   -0.013848\n",
              "critic_score     0.349323      1.000000    0.543429\n",
              "user_score      -0.013848      0.543429    1.000000"
            ]
          },
          "execution_count": 40,
          "metadata": {},
          "output_type": "execute_result"
        }
      ],
      "source": [
        "x360_sales_crit_user_rating.corr()"
      ]
    },
    {
      "cell_type": "code",
      "execution_count": null,
      "metadata": {
        "id": "ceUcxxcXrAOX",
        "outputId": "e55b7738-ed52-45c3-dccb-6a5d53b2a5e0"
      },
      "outputs": [
        {
          "data": {
            "image/png": "[encoded data removed]",
            "text/plain": [
              "<Figure size 432x288 with 1 Axes>"
            ]
          },
          "metadata": {
            "needs_background": "light"
          },
          "output_type": "display_data"
        }
      ],
      "source": [
        "x360_sales_crit_user_rating.plot(x='user_score', y='world_sales', kind='scatter', title='X360')\n",
        "plt.show()"
      ]
    },
    {
      "cell_type": "code",
      "execution_count": null,
      "metadata": {
        "id": "iFB5XNFxrAOY",
        "outputId": "b5c9332e-f894-4b22-a52d-2a3f746555ef"
      },
      "outputs": [
        {
          "data": {
            "image/png": "[encoded data removed]",
            "text/plain": [
              "<Figure size 432x288 with 1 Axes>"
            ]
          },
          "metadata": {
            "needs_background": "light"
          },
          "output_type": "display_data"
        }
      ],
      "source": [
        "x360_sales_crit_user_rating.plot(x='critic_score', y='world_sales', kind='scatter', title='X360')\n",
        "plt.show()"
      ]
    },
    {
      "cell_type": "markdown",
      "metadata": {
        "id": "OhDONP9erAOY"
      },
      "source": [
        "<div class=\"alert alert-info\">\n",
        "<font size=\"5\"><b></b></font> \n",
        "    \n",
        "У всех платформ присутствуем корреляция, между оценками критиков и продажами.\n",
        "Оценка пользователей слабо влияет на продажи. Покупатели прислушиваются больше к критикам, чем к оценкам других пользователей.\n",
        "    \n",
        "    \n",
        "    \n",
        "</div>"
      ]
    },
    {
      "cell_type": "markdown",
      "metadata": {
        "id": "WAf344ENrAOY"
      },
      "source": [
        "##### •\tПосмотрите на общее распределение игр по жанрам. Что можно сказать о самых прибыльных жанрах? Выделяются ли жанры с высокими и низкими продажами?"
      ]
    },
    {
      "cell_type": "code",
      "execution_count": null,
      "metadata": {
        "id": "HAbvDGmPrAOZ",
        "outputId": "58aede97-e40f-465c-a449-e59858d70ca6"
      },
      "outputs": [
        {
          "data": {
            "text/html": [
              "<div>\n",
              "<style scoped>\n",
              "    .dataframe tbody tr th:only-of-type {\n",
              "        vertical-align: middle;\n",
              "    }\n",
              "\n",
              "    .dataframe tbody tr th {\n",
              "        vertical-align: top;\n",
              "    }\n",
              "\n",
              "    .dataframe thead th {\n",
              "        text-align: right;\n",
              "    }\n",
              "</style>\n",
              "<table border=\"1\" class=\"dataframe\">\n",
              "  <thead>\n",
              "    <tr style=\"text-align: right;\">\n",
              "      <th></th>\n",
              "      <th>world_sales</th>\n",
              "    </tr>\n",
              "    <tr>\n",
              "      <th>genre</th>\n",
              "      <th></th>\n",
              "    </tr>\n",
              "  </thead>\n",
              "  <tbody>\n",
              "    <tr>\n",
              "      <td>Action</td>\n",
              "      <td>315.45</td>\n",
              "    </tr>\n",
              "    <tr>\n",
              "      <td>Shooter</td>\n",
              "      <td>232.10</td>\n",
              "    </tr>\n",
              "    <tr>\n",
              "      <td>Sports</td>\n",
              "      <td>150.55</td>\n",
              "    </tr>\n",
              "    <tr>\n",
              "      <td>Role-Playing</td>\n",
              "      <td>127.35</td>\n",
              "    </tr>\n",
              "    <tr>\n",
              "      <td>Misc</td>\n",
              "      <td>62.76</td>\n",
              "    </tr>\n",
              "    <tr>\n",
              "      <td>Platform</td>\n",
              "      <td>40.73</td>\n",
              "    </tr>\n",
              "    <tr>\n",
              "      <td>Racing</td>\n",
              "      <td>39.61</td>\n",
              "    </tr>\n",
              "    <tr>\n",
              "      <td>Fighting</td>\n",
              "      <td>34.69</td>\n",
              "    </tr>\n",
              "    <tr>\n",
              "      <td>Adventure</td>\n",
              "      <td>22.60</td>\n",
              "    </tr>\n",
              "    <tr>\n",
              "      <td>Simulation</td>\n",
              "      <td>21.24</td>\n",
              "    </tr>\n",
              "    <tr>\n",
              "      <td>Strategy</td>\n",
              "      <td>10.05</td>\n",
              "    </tr>\n",
              "    <tr>\n",
              "      <td>Puzzle</td>\n",
              "      <td>3.17</td>\n",
              "    </tr>\n",
              "  </tbody>\n",
              "</table>\n",
              "</div>"
            ],
            "text/plain": [
              "              world_sales\n",
              "genre                    \n",
              "Action             315.45\n",
              "Shooter            232.10\n",
              "Sports             150.55\n",
              "Role-Playing       127.35\n",
              "Misc                62.76\n",
              "Platform            40.73\n",
              "Racing              39.61\n",
              "Fighting            34.69\n",
              "Adventure           22.60\n",
              "Simulation          21.24\n",
              "Strategy            10.05\n",
              "Puzzle               3.17"
            ]
          },
          "execution_count": 43,
          "metadata": {},
          "output_type": "execute_result"
        }
      ],
      "source": [
        "genre_pivot_table = pd.pivot_table(relevant_games, index='genre', values='world_sales', aggfunc='sum')\n",
        "genre_pivot_table.sort_values('world_sales', ascending=False)"
      ]
    },
    {
      "cell_type": "code",
      "execution_count": null,
      "metadata": {
        "id": "qdoi6ws-rAOZ",
        "outputId": "c5612a6d-05fa-48f2-8df3-f7b01004b255"
      },
      "outputs": [
        {
          "data": {
            "image/png": "[encoded data removed]",
            "text/plain": [
              "<Figure size 864x432 with 1 Axes>"
            ]
          },
          "metadata": {
            "needs_background": "light"
          },
          "output_type": "display_data"
        }
      ],
      "source": [
        "(relevant_games.pivot_table(index='genre', values='world_sales')\n",
        ".sort_values('world_sales', ascending=False)\n",
        ".plot(kind='bar', y='world_sales', figsize=(12, 6), legend=False)\n",
        ".set(xlabel='Жанр', ylabel='Общие продажи'))\n",
        "\n",
        "plt.show()"
      ]
    },
    {
      "cell_type": "markdown",
      "metadata": {
        "id": "q3eFhoNZrAOZ"
      },
      "source": [
        "###### Самым прибыльным жанром по миру является шутер. Жанр, приносящий прибыль меньше всех является квест."
      ]
    },
    {
      "cell_type": "markdown",
      "metadata": {
        "id": "kcnXKwPxrAOa"
      },
      "source": [
        "##### Определите для пользователя каждого региона (NA, EU, JP):\n",
        "    - Самые популярные платформы (топ-5). Опишите различия в долях продаж.\n",
        "    - Самые популярные жанры (топ-5). Поясните разницу.\n",
        "    - Влияет ли рейтинг ESRB на продажи в отдельном регионе?"
      ]
    },
    {
      "cell_type": "code",
      "execution_count": null,
      "metadata": {
        "id": "Tg5KXRRarAOa"
      },
      "outputs": [],
      "source": [
        "def regional_top5(column, region):\n",
        "    return relevant_games.pivot_table(index=column, values=region, aggfunc='sum').sort_values(by=region, ascending=False).head()"
      ]
    },
    {
      "cell_type": "code",
      "execution_count": null,
      "metadata": {
        "id": "3iQlFo-srAOa"
      },
      "outputs": [],
      "source": [
        "def regional_pie_of_sales(df, name, region):\n",
        "    (df.plot.pie(\n",
        "        y=region, \n",
        "        legend=False, \n",
        "        pctdistance=1.1, \n",
        "        labeldistance=1.2, \n",
        "        autopct='%1.0f%%', \n",
        "        figsize=(12,6), title=name))\n",
        "    plt.show()"
      ]
    },
    {
      "cell_type": "code",
      "execution_count": null,
      "metadata": {
        "id": "qJ3YhIasrAOa",
        "outputId": "989ff475-4cc0-4193-8a37-f9d4e0638fcb"
      },
      "outputs": [
        {
          "data": {
            "image/png": "[encoded data removed]",
            "text/plain": [
              "<Figure size 864x432 with 1 Axes>"
            ]
          },
          "metadata": {},
          "output_type": "display_data"
        }
      ],
      "source": [
        "regional_pie_of_sales(regional_top5('platform', 'na_sales'), 'Продажи в Северной Америке', 'na_sales')"
      ]
    },
    {
      "cell_type": "markdown",
      "metadata": {
        "id": "Wtmszm1drAOb"
      },
      "source": [
        "Самой популярной консолью в Северной Америке является PS4 - 28%."
      ]
    },
    {
      "cell_type": "code",
      "execution_count": null,
      "metadata": {
        "id": "MwGcUVjLrAOb",
        "outputId": "cbb5c3e0-6749-4557-c4c6-53076d7262eb"
      },
      "outputs": [
        {
          "data": {
            "image/png": "[encoded data removed]",
            "text/plain": [
              "<Figure size 864x432 with 1 Axes>"
            ]
          },
          "metadata": {},
          "output_type": "display_data"
        }
      ],
      "source": [
        "regional_pie_of_sales(regional_top5('platform', 'eu_sales'), 'Продажи в Европе', 'eu_sales')"
      ]
    },
    {
      "cell_type": "markdown",
      "metadata": {
        "id": "p0JVVAynrAOb"
      },
      "source": [
        "В Европе более популярна консоль от PS4"
      ]
    },
    {
      "cell_type": "code",
      "execution_count": null,
      "metadata": {
        "id": "AkdK-3AWrAOb",
        "outputId": "544cd98a-128f-4451-ba5f-76ea86a394bc"
      },
      "outputs": [
        {
          "data": {
            "image/png": "[encoded data removed]",
            "text/plain": [
              "<Figure size 864x432 with 1 Axes>"
            ]
          },
          "metadata": {},
          "output_type": "display_data"
        }
      ],
      "source": [
        "regional_pie_of_sales(regional_top5('platform', 'jp_sales'), 'Продажи в Японии', 'jp_sales')"
      ]
    },
    {
      "cell_type": "markdown",
      "metadata": {
        "id": "8U2KY6UDrAOc"
      },
      "source": [
        "В Японии местные жители отдают преподчтения консолям отечественных компаний."
      ]
    },
    {
      "cell_type": "markdown",
      "metadata": {
        "id": "uMzf3m-xrAOc"
      },
      "source": [
        "###### 5 популярных жанров видеоигр в каждом регионе"
      ]
    },
    {
      "cell_type": "code",
      "execution_count": null,
      "metadata": {
        "id": "ujKQyksmrAOd",
        "outputId": "5e7666d1-c88a-4115-e492-a752492cdf3d"
      },
      "outputs": [
        {
          "data": {
            "image/png": "[encoded data removed]",
            "text/plain": [
              "<Figure size 864x432 with 1 Axes>"
            ]
          },
          "metadata": {},
          "output_type": "display_data"
        }
      ],
      "source": [
        "regional_pie_of_sales(regional_top5('genre', 'na_sales'), 'Популярные жанры в Северной Америке', 'na_sales')"
      ]
    },
    {
      "cell_type": "markdown",
      "metadata": {
        "id": "u2VsZbbarAOd"
      },
      "source": [
        "Самым популярным жанром в Северной Америке является action"
      ]
    },
    {
      "cell_type": "code",
      "execution_count": null,
      "metadata": {
        "id": "6VJm929FrAOd",
        "outputId": "d9403c6b-3632-41e1-dd7c-9eb6fe003e77"
      },
      "outputs": [
        {
          "data": {
            "image/png": "[encoded data removed]",
            "text/plain": [
              "<Figure size 864x432 with 1 Axes>"
            ]
          },
          "metadata": {},
          "output_type": "display_data"
        }
      ],
      "source": [
        "regional_pie_of_sales(regional_top5('genre', 'eu_sales'), 'Популярные жанры в Европа', 'eu_sales')"
      ]
    },
    {
      "cell_type": "markdown",
      "metadata": {
        "id": "hhhszp3_rAOd"
      },
      "source": [
        "В Европе тоже самым популярным жанром остался action."
      ]
    },
    {
      "cell_type": "code",
      "execution_count": null,
      "metadata": {
        "id": "8PQxhls3rAOe",
        "outputId": "d4318071-c8c0-425b-a62a-c20a07e92e2d"
      },
      "outputs": [
        {
          "data": {
            "image/png": "[encoded data removed]",
            "text/plain": [
              "<Figure size 864x432 with 1 Axes>"
            ]
          },
          "metadata": {},
          "output_type": "display_data"
        }
      ],
      "source": [
        "regional_pie_of_sales(regional_top5('genre', 'jp_sales'), 'Популярные жанры в Японии', 'jp_sales')"
      ]
    },
    {
      "cell_type": "markdown",
      "metadata": {
        "id": "KUx9AsRyrAOe"
      },
      "source": [
        "В Японии уже самым продаваемым жанром стал Role-Playing"
      ]
    },
    {
      "cell_type": "markdown",
      "metadata": {
        "id": "WHmlTbcKrAOe"
      },
      "source": [
        "##### • Влияет ли рейтинг ESRB на продажи в отдельном регионе?"
      ]
    },
    {
      "cell_type": "code",
      "execution_count": null,
      "metadata": {
        "id": "8TpOk83WrAOf",
        "outputId": "f8b22cb5-56b8-49b3-c74c-9cd90dd99c58"
      },
      "outputs": [
        {
          "data": {
            "text/html": [
              "<div>\n",
              "<style scoped>\n",
              "    .dataframe tbody tr th:only-of-type {\n",
              "        vertical-align: middle;\n",
              "    }\n",
              "\n",
              "    .dataframe tbody tr th {\n",
              "        vertical-align: top;\n",
              "    }\n",
              "\n",
              "    .dataframe thead th {\n",
              "        text-align: right;\n",
              "    }\n",
              "</style>\n",
              "<table border=\"1\" class=\"dataframe\">\n",
              "  <thead>\n",
              "    <tr style=\"text-align: right;\">\n",
              "      <th></th>\n",
              "      <th>rating</th>\n",
              "      <th>na_sales</th>\n",
              "      <th>eu_sales</th>\n",
              "      <th>jp_sales</th>\n",
              "    </tr>\n",
              "  </thead>\n",
              "  <tbody>\n",
              "    <tr>\n",
              "      <td>0</td>\n",
              "      <td>E</td>\n",
              "      <td>1274.24</td>\n",
              "      <td>703.87</td>\n",
              "      <td>197.96</td>\n",
              "    </tr>\n",
              "    <tr>\n",
              "      <td>1</td>\n",
              "      <td>T</td>\n",
              "      <td>747.60</td>\n",
              "      <td>421.79</td>\n",
              "      <td>150.70</td>\n",
              "    </tr>\n",
              "    <tr>\n",
              "      <td>2</td>\n",
              "      <td>M</td>\n",
              "      <td>742.89</td>\n",
              "      <td>480.00</td>\n",
              "      <td>63.58</td>\n",
              "    </tr>\n",
              "    <tr>\n",
              "      <td>3</td>\n",
              "      <td>E10+</td>\n",
              "      <td>345.50</td>\n",
              "      <td>183.35</td>\n",
              "      <td>40.20</td>\n",
              "    </tr>\n",
              "    <tr>\n",
              "      <td>4</td>\n",
              "      <td>K-A</td>\n",
              "      <td>2.56</td>\n",
              "      <td>0.27</td>\n",
              "      <td>1.46</td>\n",
              "    </tr>\n",
              "    <tr>\n",
              "      <td>5</td>\n",
              "      <td>EC</td>\n",
              "      <td>1.53</td>\n",
              "      <td>0.11</td>\n",
              "      <td>0.00</td>\n",
              "    </tr>\n",
              "    <tr>\n",
              "      <td>6</td>\n",
              "      <td>AO</td>\n",
              "      <td>1.26</td>\n",
              "      <td>0.61</td>\n",
              "      <td>0.00</td>\n",
              "    </tr>\n",
              "    <tr>\n",
              "      <td>7</td>\n",
              "      <td>RP</td>\n",
              "      <td>0.00</td>\n",
              "      <td>0.03</td>\n",
              "      <td>0.00</td>\n",
              "    </tr>\n",
              "  </tbody>\n",
              "</table>\n",
              "</div>"
            ],
            "text/plain": [
              "  rating  na_sales  eu_sales  jp_sales\n",
              "0      E   1274.24    703.87    197.96\n",
              "1      T    747.60    421.79    150.70\n",
              "2      M    742.89    480.00     63.58\n",
              "3   E10+    345.50    183.35     40.20\n",
              "4    K-A      2.56      0.27      1.46\n",
              "5     EC      1.53      0.11      0.00\n",
              "6     AO      1.26      0.61      0.00\n",
              "7     RP      0.00      0.03      0.00"
            ]
          },
          "execution_count": 53,
          "metadata": {},
          "output_type": "execute_result"
        }
      ],
      "source": [
        "esrb_sale = data_games.groupby('rating')['na_sales', 'eu_sales', 'jp_sales'].sum().sort_values(by='na_sales',\n",
        "                                                                                      ascending=False).reset_index()\n",
        "esrb_sale"
      ]
    },
    {
      "cell_type": "markdown",
      "metadata": {
        "id": "-HUlHc4-rAOf"
      },
      "source": [
        "<div class=\"alert alert-info\">\n",
        "<font size=\"5\"><b></b></font> \n",
        "    \n",
        "заменим пропуски в столбце 'rating' на «RP» («Rating Pending») — «Рейтинг ожидается»\n",
        "    \n",
        "    \n",
        "    \n",
        "</div>"
      ]
    },
    {
      "cell_type": "code",
      "execution_count": null,
      "metadata": {
        "id": "r_J6ReOxrAOf"
      },
      "outputs": [],
      "source": [
        "data_games['rating'] = data_games['rating'].fillna('RP')"
      ]
    },
    {
      "cell_type": "code",
      "execution_count": null,
      "metadata": {
        "id": "L1_O8Nw5rAOg",
        "outputId": "1f54af1d-1b07-48ed-ee67-7c3c508b2c90"
      },
      "outputs": [
        {
          "data": {
            "text/html": [
              "<div>\n",
              "<style scoped>\n",
              "    .dataframe tbody tr th:only-of-type {\n",
              "        vertical-align: middle;\n",
              "    }\n",
              "\n",
              "    .dataframe tbody tr th {\n",
              "        vertical-align: top;\n",
              "    }\n",
              "\n",
              "    .dataframe thead th {\n",
              "        text-align: right;\n",
              "    }\n",
              "</style>\n",
              "<table border=\"1\" class=\"dataframe\">\n",
              "  <thead>\n",
              "    <tr style=\"text-align: right;\">\n",
              "      <th></th>\n",
              "      <th>rating</th>\n",
              "      <th>na_sales</th>\n",
              "      <th>eu_sales</th>\n",
              "      <th>jp_sales</th>\n",
              "    </tr>\n",
              "  </thead>\n",
              "  <tbody>\n",
              "    <tr>\n",
              "      <td>0</td>\n",
              "      <td>E</td>\n",
              "      <td>1274.24</td>\n",
              "      <td>703.87</td>\n",
              "      <td>197.96</td>\n",
              "    </tr>\n",
              "    <tr>\n",
              "      <td>1</td>\n",
              "      <td>RP</td>\n",
              "      <td>1227.62</td>\n",
              "      <td>610.21</td>\n",
              "      <td>836.77</td>\n",
              "    </tr>\n",
              "    <tr>\n",
              "      <td>2</td>\n",
              "      <td>T</td>\n",
              "      <td>747.60</td>\n",
              "      <td>421.79</td>\n",
              "      <td>150.70</td>\n",
              "    </tr>\n",
              "    <tr>\n",
              "      <td>3</td>\n",
              "      <td>M</td>\n",
              "      <td>742.89</td>\n",
              "      <td>480.00</td>\n",
              "      <td>63.58</td>\n",
              "    </tr>\n",
              "    <tr>\n",
              "      <td>4</td>\n",
              "      <td>E10+</td>\n",
              "      <td>345.50</td>\n",
              "      <td>183.35</td>\n",
              "      <td>40.20</td>\n",
              "    </tr>\n",
              "    <tr>\n",
              "      <td>5</td>\n",
              "      <td>K-A</td>\n",
              "      <td>2.56</td>\n",
              "      <td>0.27</td>\n",
              "      <td>1.46</td>\n",
              "    </tr>\n",
              "    <tr>\n",
              "      <td>6</td>\n",
              "      <td>EC</td>\n",
              "      <td>1.53</td>\n",
              "      <td>0.11</td>\n",
              "      <td>0.00</td>\n",
              "    </tr>\n",
              "    <tr>\n",
              "      <td>7</td>\n",
              "      <td>AO</td>\n",
              "      <td>1.26</td>\n",
              "      <td>0.61</td>\n",
              "      <td>0.00</td>\n",
              "    </tr>\n",
              "  </tbody>\n",
              "</table>\n",
              "</div>"
            ],
            "text/plain": [
              "  rating  na_sales  eu_sales  jp_sales\n",
              "0      E   1274.24    703.87    197.96\n",
              "1     RP   1227.62    610.21    836.77\n",
              "2      T    747.60    421.79    150.70\n",
              "3      M    742.89    480.00     63.58\n",
              "4   E10+    345.50    183.35     40.20\n",
              "5    K-A      2.56      0.27      1.46\n",
              "6     EC      1.53      0.11      0.00\n",
              "7     AO      1.26      0.61      0.00"
            ]
          },
          "execution_count": 55,
          "metadata": {},
          "output_type": "execute_result"
        }
      ],
      "source": [
        "esrb_sale_new = data_games.groupby('rating')['na_sales', 'eu_sales', 'jp_sales'].sum().sort_values(by='na_sales',\n",
        "                                                                                      ascending=False).reset_index()\n",
        "esrb_sale_new"
      ]
    },
    {
      "cell_type": "markdown",
      "metadata": {
        "id": "16D-XJ2rrAOg"
      },
      "source": [
        "<div class=\"alert alert-info\">\n",
        "<font size=\"5\"><b></b></font> \n",
        "    \n",
        "Теперь игры без рейтинга мы не потеряем. Они заняли второе место по продажам)\n",
        "       \n",
        "    \n",
        "</div>"
      ]
    },
    {
      "cell_type": "markdown",
      "metadata": {
        "id": "MZhN81EMrAOg"
      },
      "source": [
        "   - «E» («Everyone») — «Для всех»\n",
        "   - «T» («Teen») — «Подросткам»\n",
        "   - «M» («Mature») — «Для взрослых»\n",
        "   - «E10+» («Everyone 10 and older») — «Для всех от 10 лет и старше»\n",
        "\n",
        "   - «EC»(«K-A» - в ранних версиях с 1994-1997 годы) («Early childhood») — «Для детей младшего возраста»\n",
        "   - «AO» («Adults Only 18+») — «Только для взрослых»\n",
        "   - «RP» («Rating Pending») — «Рейтинг ожидается»\n",
        "\n",
        "#### Вывод: 4 основных рейтинга: «E»,«T»,«M» и «E10+». Влияние рейтинга на продажи в разных регионах почти одинаково. На первом месте «E» и далее «T», «M» и «E10+», исключение Европа, где продажи с рейтингом «M» на 13% больше, чем с «T». Доли этих рейтингов в своем регионе тоже примерно одинаковы."
      ]
    },
    {
      "cell_type": "markdown",
      "metadata": {
        "id": "wPjustBBrAOh"
      },
      "source": [
        "### Шаг 5. Проверьте гипотезы"
      ]
    },
    {
      "cell_type": "markdown",
      "metadata": {
        "id": "mKRbKkPNrAOi"
      },
      "source": [
        "###### •\tСредние пользовательские рейтинги платформ Xbox One и PC одинаковые;"
      ]
    },
    {
      "cell_type": "markdown",
      "metadata": {
        "id": "6qNW0rUBrAOi"
      },
      "source": [
        "H₀ всегда формулируется так, чтобы использовать знак равенства, поэтому нулевую гипотезу сформулируем как по заданию: Средние пользовательские рейтинги платформ Xbox One и PC одинаковые; тогда альтернативная гипотеза H₁ - Средние пользовательские рейтинги платформ Xbox One и PC различны."
      ]
    },
    {
      "cell_type": "code",
      "execution_count": null,
      "metadata": {
        "id": "jqf7QmqKrAOi",
        "outputId": "c5347c59-0b52-4f43-bc64-1eb9b23839e5"
      },
      "outputs": [
        {
          "name": "stdout",
          "output_type": "stream",
          "text": [
            "значение p-value:  0.15306319055798\n",
            "Не получилось отвергнуть Нулевую гипотезу\n"
          ]
        }
      ],
      "source": [
        "pc = relevant_games[relevant_games['platform'] == 'PC'] \n",
        "x_one = relevant_games[relevant_games['platform'] == 'XOne']\n",
        "\n",
        "alpha = .05\n",
        "results = st.ttest_ind(pc['user_score'], x_one['user_score'], nan_policy='omit')\n",
        "print('значение p-value: ', results.pvalue)\n",
        "\n",
        "if (results.pvalue < alpha):\n",
        "    print('Отвергаем Нулевую гипотезу')\n",
        "else:\n",
        "    print('Не получилось отвергнуть Нулевую гипотезу')"
      ]
    },
    {
      "cell_type": "markdown",
      "metadata": {
        "id": "1ivuv5V2rAOj"
      },
      "source": [
        "###### Вывод: Значение p-value равно чуть больше 15%. Таким образом, не получилось отвергнуть Нулевую гипотезу. "
      ]
    },
    {
      "cell_type": "markdown",
      "metadata": {
        "id": "pEL0SVQwrAOj"
      },
      "source": [
        "###### •\tСредние пользовательские рейтинги жанров Action (англ. «действие», экшен-игры) и Sports (англ. «спортивные соревнования») разные."
      ]
    },
    {
      "cell_type": "markdown",
      "metadata": {
        "id": "jmyj_1GXrAOj"
      },
      "source": [
        "H₀ всегда формулируется так, чтобы использовать знак равенства, нулевую гипотезу сформулируем так: Средние пользовательские рейтинги жанров Action и Sports равны; альтернативная гипотеза H₁ тогда будет - Средние пользовательские рейтинги жанров Action и Sports разные (как в задании)"
      ]
    },
    {
      "cell_type": "code",
      "execution_count": null,
      "metadata": {
        "id": "SW91g3XUrAOj",
        "outputId": "227fa307-cbbc-4a83-9628-75d0fd2a8a62"
      },
      "outputs": [
        {
          "name": "stdout",
          "output_type": "stream",
          "text": [
            "значение p-value:  6.406039298730121e-27\n",
            "Отвергаем Нулевую гипотезу\n"
          ]
        }
      ],
      "source": [
        "action = relevant_games[relevant_games['genre'] == 'Action'] \n",
        "sports = relevant_games[relevant_games['genre'] == 'Sports']\n",
        "\n",
        "alpha = .05\n",
        "results = st.ttest_ind(action['user_score'], sports['user_score'], nan_policy='omit')\n",
        "print('значение p-value: ', results.pvalue)\n",
        "\n",
        "if (results.pvalue < alpha):\n",
        "    print('Отвергаем Нулевую гипотезу')\n",
        "else:\n",
        "    print('Не получилось отвергнуть Нулевую гипотезу')"
      ]
    },
    {
      "cell_type": "markdown",
      "metadata": {
        "id": "8_tpvJmxrAOk"
      },
      "source": [
        "###### Вывод: Получив p-value, мы отвергли Нулевую гипотезу. Средние пользовательские рейтинги различаются."
      ]
    },
    {
      "cell_type": "markdown",
      "metadata": {
        "id": "85qLPRDhrAOk"
      },
      "source": [
        "### Шаг 6. Общий вывод\n",
        "\n",
        "1.Изучили основную информацию о датасете.\n",
        "\n",
        "2.Выявили пропуски в столбце year_of_release, Множество пропусков в столбцах оценок от критиков и игроков: critic_score и user_score. Измеили формат данных.\n",
        "\n",
        "3.В столбце оценок от игроков user_score значения tbd, заменили значениями NAN.\n",
        "\n",
        "4.Заменили названия столбцов в датасете(привели к нижнему регистру).\n",
        "\n",
        "5.Посчитали суммарные продажи во всех регионах и записали их в отдельный столбец.\n",
        "\n",
        "6.Выяснили, что с 1980 года до 1993 выпускалось довольно мало игр, а после 1993 года начался рост вплоть до 2008 года. Затем был спад до 2013.\n",
        "\n",
        "7.Выяснили, что срок активного существования платформ 9-10 лет.\n",
        "\n",
        "8 Выделили Топ 5 платформ по миру: PS4, PS3, XOne, 3DS и X360. Для PS4, PS3 и 3DS видна положительная тенденция к росту продаж.\n",
        "\n",
        "9.Выяснили,что нет взаимосвязи между оценками игроков и продажами. И что высокая оценка критиков не гарантирует высокие продажи.\n",
        "\n",
        "10.Также выяснили, что самым прибыльным жанром по миру является шутер.\n",
        "\n",
        "11.Определили, что:\n",
        "    Самой популярной консолью в Северной Америке является PS4 - 28%;\n",
        "    Самой популярной консолью в Европе является PS4 - 42%;\n",
        "    Самой популярной консолью в Японии является 3DS - 49%;\n",
        "    Самым популярным жанром в Северной Америке является action - 34%;\n",
        "    Самым популярным жанром в Европе является action - 37%;\n",
        "    Самым популярным жанром в Японии является Role-Playing - 42%.\n",
        "    \n",
        "12.Выяснили, что влияние рейтинга на продажи в разных регионах почти одинаково. На первом месте «E» и далее «T», «M» и «E10+», исключение Европа, где продажи с рейтингом «M» на 13% больше, чем с «T».\n",
        "\n",
        "13.Проверили гипотезы:\n",
        "\n",
        "     •Средние пользовательские рейтинги платформ Xbox One и PC одинаковые;\n",
        "     •Средние пользовательские рейтинги жанров Action (англ. «действие», экшен-игры) и Sports (англ. «спортивные соревнования») разные.\n",
        "Обе гипотезы не отвергнуты.\n",
        "    \n",
        "    "
      ]
    }
  ],
  "metadata": {
    "ExecuteTimeLog": [
      {
        "duration": 1133,
        "start_time": "2022-02-15T14:33:27.742Z"
      },
      {
        "duration": 68,
        "start_time": "2022-02-15T14:33:28.877Z"
      },
      {
        "duration": 12,
        "start_time": "2022-02-15T14:33:28.947Z"
      },
      {
        "duration": 31,
        "start_time": "2022-02-15T14:33:28.961Z"
      },
      {
        "duration": 16,
        "start_time": "2022-02-15T14:33:28.993Z"
      },
      {
        "duration": 37,
        "start_time": "2022-02-15T14:33:29.011Z"
      },
      {
        "duration": 4,
        "start_time": "2022-02-15T14:33:29.050Z"
      },
      {
        "duration": 25,
        "start_time": "2022-02-15T14:33:29.056Z"
      },
      {
        "duration": 226,
        "start_time": "2022-02-15T14:33:29.083Z"
      },
      {
        "duration": 13,
        "start_time": "2022-02-15T14:33:29.310Z"
      },
      {
        "duration": 7,
        "start_time": "2022-02-15T14:33:29.324Z"
      },
      {
        "duration": 22215,
        "start_time": "2022-02-15T14:33:29.332Z"
      },
      {
        "duration": 378,
        "start_time": "2022-02-15T14:33:51.549Z"
      },
      {
        "duration": -5870,
        "start_time": "2022-02-15T14:33:57.800Z"
      },
      {
        "duration": -5877,
        "start_time": "2022-02-15T14:33:57.807Z"
      },
      {
        "duration": -5881,
        "start_time": "2022-02-15T14:33:57.812Z"
      },
      {
        "duration": -5886,
        "start_time": "2022-02-15T14:33:57.818Z"
      },
      {
        "duration": -5890,
        "start_time": "2022-02-15T14:33:57.823Z"
      },
      {
        "duration": -5895,
        "start_time": "2022-02-15T14:33:57.829Z"
      },
      {
        "duration": -5899,
        "start_time": "2022-02-15T14:33:57.834Z"
      },
      {
        "duration": -5904,
        "start_time": "2022-02-15T14:33:57.841Z"
      },
      {
        "duration": -5908,
        "start_time": "2022-02-15T14:33:57.846Z"
      },
      {
        "duration": -5913,
        "start_time": "2022-02-15T14:33:57.852Z"
      },
      {
        "duration": -5917,
        "start_time": "2022-02-15T14:33:57.857Z"
      },
      {
        "duration": -5922,
        "start_time": "2022-02-15T14:33:57.863Z"
      },
      {
        "duration": -5926,
        "start_time": "2022-02-15T14:33:57.868Z"
      },
      {
        "duration": -5931,
        "start_time": "2022-02-15T14:33:57.874Z"
      },
      {
        "duration": -5935,
        "start_time": "2022-02-15T14:33:57.879Z"
      },
      {
        "duration": -5940,
        "start_time": "2022-02-15T14:33:57.885Z"
      },
      {
        "duration": -5944,
        "start_time": "2022-02-15T14:33:57.890Z"
      },
      {
        "duration": -5959,
        "start_time": "2022-02-15T14:33:57.906Z"
      },
      {
        "duration": -5965,
        "start_time": "2022-02-15T14:33:57.913Z"
      },
      {
        "duration": -5971,
        "start_time": "2022-02-15T14:33:57.919Z"
      },
      {
        "duration": -5975,
        "start_time": "2022-02-15T14:33:57.924Z"
      },
      {
        "duration": -5980,
        "start_time": "2022-02-15T14:33:57.930Z"
      },
      {
        "duration": -5984,
        "start_time": "2022-02-15T14:33:57.935Z"
      },
      {
        "duration": -5989,
        "start_time": "2022-02-15T14:33:57.941Z"
      },
      {
        "duration": -5993,
        "start_time": "2022-02-15T14:33:57.946Z"
      },
      {
        "duration": -5998,
        "start_time": "2022-02-15T14:33:57.952Z"
      },
      {
        "duration": 3,
        "start_time": "2022-02-15T14:36:27.462Z"
      },
      {
        "duration": 44,
        "start_time": "2022-02-15T14:36:27.469Z"
      },
      {
        "duration": 10,
        "start_time": "2022-02-15T14:36:27.516Z"
      },
      {
        "duration": 31,
        "start_time": "2022-02-15T14:36:27.528Z"
      },
      {
        "duration": 17,
        "start_time": "2022-02-15T14:36:27.561Z"
      },
      {
        "duration": 13,
        "start_time": "2022-02-15T14:36:27.580Z"
      },
      {
        "duration": 5,
        "start_time": "2022-02-15T14:36:27.595Z"
      },
      {
        "duration": 56,
        "start_time": "2022-02-15T14:36:27.602Z"
      },
      {
        "duration": 220,
        "start_time": "2022-02-15T14:36:27.661Z"
      },
      {
        "duration": 15,
        "start_time": "2022-02-15T14:36:27.883Z"
      },
      {
        "duration": 5,
        "start_time": "2022-02-15T14:36:27.899Z"
      },
      {
        "duration": 22290,
        "start_time": "2022-02-15T14:36:27.906Z"
      },
      {
        "duration": 2,
        "start_time": "2022-02-15T14:36:50.198Z"
      },
      {
        "duration": 357,
        "start_time": "2022-02-15T14:36:50.201Z"
      },
      {
        "duration": 13,
        "start_time": "2022-02-15T14:36:50.560Z"
      },
      {
        "duration": 229,
        "start_time": "2022-02-15T14:36:50.575Z"
      },
      {
        "duration": 6,
        "start_time": "2022-02-15T14:36:50.805Z"
      },
      {
        "duration": 135,
        "start_time": "2022-02-15T14:36:50.812Z"
      },
      {
        "duration": 132,
        "start_time": "2022-02-15T14:36:50.949Z"
      },
      {
        "duration": 129,
        "start_time": "2022-02-15T14:36:51.083Z"
      },
      {
        "duration": 133,
        "start_time": "2022-02-15T14:36:51.214Z"
      },
      {
        "duration": 187,
        "start_time": "2022-02-15T14:36:51.349Z"
      },
      {
        "duration": 8,
        "start_time": "2022-02-15T14:36:51.546Z"
      },
      {
        "duration": 6,
        "start_time": "2022-02-15T14:36:51.558Z"
      },
      {
        "duration": 333,
        "start_time": "2022-02-15T14:36:51.565Z"
      },
      {
        "duration": -5865,
        "start_time": "2022-02-15T14:36:57.765Z"
      },
      {
        "duration": -5873,
        "start_time": "2022-02-15T14:36:57.774Z"
      },
      {
        "duration": -5877,
        "start_time": "2022-02-15T14:36:57.779Z"
      },
      {
        "duration": -5882,
        "start_time": "2022-02-15T14:36:57.785Z"
      },
      {
        "duration": -5886,
        "start_time": "2022-02-15T14:36:57.790Z"
      },
      {
        "duration": -5891,
        "start_time": "2022-02-15T14:36:57.796Z"
      },
      {
        "duration": -5895,
        "start_time": "2022-02-15T14:36:57.801Z"
      },
      {
        "duration": -5900,
        "start_time": "2022-02-15T14:36:57.807Z"
      },
      {
        "duration": -5904,
        "start_time": "2022-02-15T14:36:57.812Z"
      },
      {
        "duration": -5908,
        "start_time": "2022-02-15T14:36:57.817Z"
      },
      {
        "duration": -5912,
        "start_time": "2022-02-15T14:36:57.822Z"
      },
      {
        "duration": -5917,
        "start_time": "2022-02-15T14:36:57.828Z"
      },
      {
        "duration": -5921,
        "start_time": "2022-02-15T14:36:57.833Z"
      },
      {
        "duration": -5926,
        "start_time": "2022-02-15T14:36:57.839Z"
      },
      {
        "duration": -5930,
        "start_time": "2022-02-15T14:36:57.844Z"
      },
      {
        "duration": 430,
        "start_time": "2022-02-15T14:44:42.035Z"
      },
      {
        "duration": 339,
        "start_time": "2022-02-15T14:44:52.166Z"
      },
      {
        "duration": 20,
        "start_time": "2022-02-15T14:44:58.705Z"
      },
      {
        "duration": 2,
        "start_time": "2022-02-15T14:45:19.853Z"
      },
      {
        "duration": 56,
        "start_time": "2022-02-15T14:45:19.857Z"
      },
      {
        "duration": 8,
        "start_time": "2022-02-15T14:45:19.915Z"
      },
      {
        "duration": 26,
        "start_time": "2022-02-15T14:45:19.925Z"
      },
      {
        "duration": 15,
        "start_time": "2022-02-15T14:45:19.953Z"
      },
      {
        "duration": 359,
        "start_time": "2022-02-15T14:45:19.969Z"
      },
      {
        "duration": -5904,
        "start_time": "2022-02-15T14:45:26.235Z"
      },
      {
        "duration": -5910,
        "start_time": "2022-02-15T14:45:26.242Z"
      },
      {
        "duration": -5916,
        "start_time": "2022-02-15T14:45:26.249Z"
      },
      {
        "duration": -5922,
        "start_time": "2022-02-15T14:45:26.256Z"
      },
      {
        "duration": -5928,
        "start_time": "2022-02-15T14:45:26.263Z"
      },
      {
        "duration": -5932,
        "start_time": "2022-02-15T14:45:26.268Z"
      },
      {
        "duration": -5936,
        "start_time": "2022-02-15T14:45:26.273Z"
      },
      {
        "duration": -5940,
        "start_time": "2022-02-15T14:45:26.278Z"
      },
      {
        "duration": -5945,
        "start_time": "2022-02-15T14:45:26.284Z"
      },
      {
        "duration": -5949,
        "start_time": "2022-02-15T14:45:26.289Z"
      },
      {
        "duration": -5953,
        "start_time": "2022-02-15T14:45:26.294Z"
      },
      {
        "duration": -5957,
        "start_time": "2022-02-15T14:45:26.299Z"
      },
      {
        "duration": -5962,
        "start_time": "2022-02-15T14:45:26.305Z"
      },
      {
        "duration": -5967,
        "start_time": "2022-02-15T14:45:26.311Z"
      },
      {
        "duration": -5971,
        "start_time": "2022-02-15T14:45:26.316Z"
      },
      {
        "duration": -5975,
        "start_time": "2022-02-15T14:45:26.321Z"
      },
      {
        "duration": -5991,
        "start_time": "2022-02-15T14:45:26.338Z"
      },
      {
        "duration": -5998,
        "start_time": "2022-02-15T14:45:26.345Z"
      },
      {
        "duration": -6002,
        "start_time": "2022-02-15T14:45:26.351Z"
      },
      {
        "duration": -6018,
        "start_time": "2022-02-15T14:45:26.368Z"
      },
      {
        "duration": -6035,
        "start_time": "2022-02-15T14:45:26.385Z"
      },
      {
        "duration": -6050,
        "start_time": "2022-02-15T14:45:26.401Z"
      },
      {
        "duration": -6066,
        "start_time": "2022-02-15T14:45:26.418Z"
      },
      {
        "duration": -6081,
        "start_time": "2022-02-15T14:45:26.435Z"
      },
      {
        "duration": -6097,
        "start_time": "2022-02-15T14:45:26.452Z"
      },
      {
        "duration": -6113,
        "start_time": "2022-02-15T14:45:26.469Z"
      },
      {
        "duration": -6121,
        "start_time": "2022-02-15T14:45:26.478Z"
      },
      {
        "duration": -6136,
        "start_time": "2022-02-15T14:45:26.494Z"
      },
      {
        "duration": -6156,
        "start_time": "2022-02-15T14:45:26.514Z"
      },
      {
        "duration": -6172,
        "start_time": "2022-02-15T14:45:26.531Z"
      },
      {
        "duration": -6178,
        "start_time": "2022-02-15T14:45:26.538Z"
      },
      {
        "duration": -6182,
        "start_time": "2022-02-15T14:45:26.543Z"
      },
      {
        "duration": -6189,
        "start_time": "2022-02-15T14:45:26.551Z"
      },
      {
        "duration": -6193,
        "start_time": "2022-02-15T14:45:26.556Z"
      },
      {
        "duration": 4,
        "start_time": "2022-02-15T14:46:14.685Z"
      },
      {
        "duration": 45,
        "start_time": "2022-02-15T14:46:14.692Z"
      },
      {
        "duration": 10,
        "start_time": "2022-02-15T14:46:14.739Z"
      },
      {
        "duration": 26,
        "start_time": "2022-02-15T14:46:14.751Z"
      },
      {
        "duration": 18,
        "start_time": "2022-02-15T14:46:14.779Z"
      },
      {
        "duration": 13,
        "start_time": "2022-02-15T14:46:14.799Z"
      },
      {
        "duration": 8,
        "start_time": "2022-02-15T14:46:14.846Z"
      },
      {
        "duration": 21,
        "start_time": "2022-02-15T14:46:14.856Z"
      },
      {
        "duration": 237,
        "start_time": "2022-02-15T14:46:14.879Z"
      },
      {
        "duration": 12,
        "start_time": "2022-02-15T14:46:15.118Z"
      },
      {
        "duration": 16,
        "start_time": "2022-02-15T14:46:15.132Z"
      },
      {
        "duration": 21968,
        "start_time": "2022-02-15T14:46:15.150Z"
      },
      {
        "duration": 3,
        "start_time": "2022-02-15T14:46:37.120Z"
      },
      {
        "duration": 379,
        "start_time": "2022-02-15T14:46:37.125Z"
      },
      {
        "duration": 14,
        "start_time": "2022-02-15T14:46:37.506Z"
      },
      {
        "duration": 227,
        "start_time": "2022-02-15T14:46:37.521Z"
      },
      {
        "duration": 6,
        "start_time": "2022-02-15T14:46:37.749Z"
      },
      {
        "duration": 136,
        "start_time": "2022-02-15T14:46:37.757Z"
      },
      {
        "duration": 123,
        "start_time": "2022-02-15T14:46:37.895Z"
      },
      {
        "duration": 132,
        "start_time": "2022-02-15T14:46:38.020Z"
      },
      {
        "duration": 135,
        "start_time": "2022-02-15T14:46:38.154Z"
      },
      {
        "duration": 138,
        "start_time": "2022-02-15T14:46:38.291Z"
      },
      {
        "duration": 9,
        "start_time": "2022-02-15T14:46:38.431Z"
      },
      {
        "duration": 21,
        "start_time": "2022-02-15T14:46:38.448Z"
      },
      {
        "duration": 286,
        "start_time": "2022-02-15T14:46:38.471Z"
      },
      {
        "duration": 367,
        "start_time": "2022-02-15T14:46:38.758Z"
      },
      {
        "duration": 20,
        "start_time": "2022-02-15T14:46:39.126Z"
      },
      {
        "duration": 215,
        "start_time": "2022-02-15T14:46:39.147Z"
      },
      {
        "duration": 104,
        "start_time": "2022-02-15T14:46:39.364Z"
      },
      {
        "duration": -5882,
        "start_time": "2022-02-15T14:46:45.352Z"
      },
      {
        "duration": -5899,
        "start_time": "2022-02-15T14:46:45.370Z"
      },
      {
        "duration": -5907,
        "start_time": "2022-02-15T14:46:45.379Z"
      },
      {
        "duration": -5910,
        "start_time": "2022-02-15T14:46:45.384Z"
      },
      {
        "duration": -5915,
        "start_time": "2022-02-15T14:46:45.390Z"
      },
      {
        "duration": -5919,
        "start_time": "2022-02-15T14:46:45.395Z"
      },
      {
        "duration": -5923,
        "start_time": "2022-02-15T14:46:45.401Z"
      },
      {
        "duration": -5927,
        "start_time": "2022-02-15T14:46:45.406Z"
      },
      {
        "duration": -5935,
        "start_time": "2022-02-15T14:46:45.415Z"
      },
      {
        "duration": -5938,
        "start_time": "2022-02-15T14:46:45.420Z"
      },
      {
        "duration": -5943,
        "start_time": "2022-02-15T14:46:45.426Z"
      },
      {
        "duration": 3,
        "start_time": "2022-02-15T14:48:29.696Z"
      },
      {
        "duration": 74,
        "start_time": "2022-02-15T14:48:29.703Z"
      },
      {
        "duration": 12,
        "start_time": "2022-02-15T14:48:29.779Z"
      },
      {
        "duration": 53,
        "start_time": "2022-02-15T14:48:29.794Z"
      },
      {
        "duration": 16,
        "start_time": "2022-02-15T14:48:29.849Z"
      },
      {
        "duration": 16,
        "start_time": "2022-02-15T14:48:29.866Z"
      },
      {
        "duration": 6,
        "start_time": "2022-02-15T14:48:29.884Z"
      },
      {
        "duration": 19,
        "start_time": "2022-02-15T14:48:29.892Z"
      },
      {
        "duration": 245,
        "start_time": "2022-02-15T14:48:29.913Z"
      },
      {
        "duration": 13,
        "start_time": "2022-02-15T14:48:30.160Z"
      },
      {
        "duration": 17,
        "start_time": "2022-02-15T14:48:30.174Z"
      },
      {
        "duration": 23290,
        "start_time": "2022-02-15T14:48:30.192Z"
      },
      {
        "duration": 3,
        "start_time": "2022-02-15T14:48:53.483Z"
      },
      {
        "duration": 458,
        "start_time": "2022-02-15T14:48:53.488Z"
      },
      {
        "duration": 17,
        "start_time": "2022-02-15T14:48:53.948Z"
      },
      {
        "duration": 220,
        "start_time": "2022-02-15T14:48:53.967Z"
      },
      {
        "duration": 6,
        "start_time": "2022-02-15T14:48:54.188Z"
      },
      {
        "duration": 206,
        "start_time": "2022-02-15T14:48:54.196Z"
      },
      {
        "duration": 188,
        "start_time": "2022-02-15T14:48:54.404Z"
      },
      {
        "duration": 196,
        "start_time": "2022-02-15T14:48:54.594Z"
      },
      {
        "duration": 185,
        "start_time": "2022-02-15T14:48:54.792Z"
      },
      {
        "duration": 201,
        "start_time": "2022-02-15T14:48:54.979Z"
      },
      {
        "duration": 10,
        "start_time": "2022-02-15T14:48:55.182Z"
      },
      {
        "duration": 7,
        "start_time": "2022-02-15T14:48:55.196Z"
      },
      {
        "duration": 323,
        "start_time": "2022-02-15T14:48:55.205Z"
      },
      {
        "duration": 286,
        "start_time": "2022-02-15T14:48:55.530Z"
      },
      {
        "duration": 13,
        "start_time": "2022-02-15T14:48:55.818Z"
      },
      {
        "duration": 224,
        "start_time": "2022-02-15T14:48:55.832Z"
      },
      {
        "duration": 4,
        "start_time": "2022-02-15T14:48:56.058Z"
      },
      {
        "duration": 26,
        "start_time": "2022-02-15T14:48:56.063Z"
      },
      {
        "duration": 130,
        "start_time": "2022-02-15T14:48:56.090Z"
      },
      {
        "duration": 113,
        "start_time": "2022-02-15T14:48:56.222Z"
      },
      {
        "duration": 116,
        "start_time": "2022-02-15T14:48:56.337Z"
      },
      {
        "duration": 119,
        "start_time": "2022-02-15T14:48:56.455Z"
      },
      {
        "duration": 128,
        "start_time": "2022-02-15T14:48:56.576Z"
      },
      {
        "duration": 128,
        "start_time": "2022-02-15T14:48:56.706Z"
      },
      {
        "duration": 21,
        "start_time": "2022-02-15T14:48:56.836Z"
      },
      {
        "duration": 19,
        "start_time": "2022-02-15T14:48:56.859Z"
      },
      {
        "duration": 14,
        "start_time": "2022-02-15T14:48:56.879Z"
      },
      {
        "duration": 1001,
        "start_time": "2022-02-15T17:09:03.908Z"
      },
      {
        "duration": 58,
        "start_time": "2022-02-15T17:09:04.911Z"
      },
      {
        "duration": 9,
        "start_time": "2022-02-15T17:09:04.972Z"
      },
      {
        "duration": 30,
        "start_time": "2022-02-15T17:09:04.983Z"
      },
      {
        "duration": 31,
        "start_time": "2022-02-15T17:09:05.015Z"
      },
      {
        "duration": 14,
        "start_time": "2022-02-15T17:09:05.047Z"
      },
      {
        "duration": 8,
        "start_time": "2022-02-15T17:09:05.062Z"
      },
      {
        "duration": 25,
        "start_time": "2022-02-15T17:09:05.072Z"
      },
      {
        "duration": 226,
        "start_time": "2022-02-15T17:09:05.099Z"
      },
      {
        "duration": 22,
        "start_time": "2022-02-15T17:09:05.327Z"
      },
      {
        "duration": 5,
        "start_time": "2022-02-15T17:09:05.350Z"
      },
      {
        "duration": 22399,
        "start_time": "2022-02-15T17:09:05.357Z"
      },
      {
        "duration": 3,
        "start_time": "2022-02-15T17:09:27.757Z"
      },
      {
        "duration": 360,
        "start_time": "2022-02-15T17:09:27.761Z"
      },
      {
        "duration": 24,
        "start_time": "2022-02-15T17:09:28.122Z"
      },
      {
        "duration": 311,
        "start_time": "2022-02-15T17:09:28.147Z"
      },
      {
        "duration": 7,
        "start_time": "2022-02-15T17:09:28.460Z"
      },
      {
        "duration": 185,
        "start_time": "2022-02-15T17:09:28.469Z"
      },
      {
        "duration": 124,
        "start_time": "2022-02-15T17:09:28.656Z"
      },
      {
        "duration": 132,
        "start_time": "2022-02-15T17:09:28.781Z"
      },
      {
        "duration": 140,
        "start_time": "2022-02-15T17:09:28.915Z"
      },
      {
        "duration": 129,
        "start_time": "2022-02-15T17:09:29.057Z"
      },
      {
        "duration": 8,
        "start_time": "2022-02-15T17:09:29.187Z"
      },
      {
        "duration": 8,
        "start_time": "2022-02-15T17:09:29.196Z"
      },
      {
        "duration": 359,
        "start_time": "2022-02-15T17:09:29.205Z"
      },
      {
        "duration": 265,
        "start_time": "2022-02-15T17:09:29.568Z"
      },
      {
        "duration": 22,
        "start_time": "2022-02-15T17:09:29.835Z"
      },
      {
        "duration": 217,
        "start_time": "2022-02-15T17:09:29.858Z"
      },
      {
        "duration": 3,
        "start_time": "2022-02-15T17:09:30.077Z"
      },
      {
        "duration": 7,
        "start_time": "2022-02-15T17:09:30.082Z"
      },
      {
        "duration": 125,
        "start_time": "2022-02-15T17:09:30.091Z"
      },
      {
        "duration": 121,
        "start_time": "2022-02-15T17:09:30.218Z"
      },
      {
        "duration": 116,
        "start_time": "2022-02-15T17:09:30.340Z"
      },
      {
        "duration": 122,
        "start_time": "2022-02-15T17:09:30.458Z"
      },
      {
        "duration": 128,
        "start_time": "2022-02-15T17:09:30.582Z"
      },
      {
        "duration": 121,
        "start_time": "2022-02-15T17:09:30.712Z"
      },
      {
        "duration": 17,
        "start_time": "2022-02-15T17:09:30.835Z"
      },
      {
        "duration": 11,
        "start_time": "2022-02-15T17:09:30.854Z"
      },
      {
        "duration": 7,
        "start_time": "2022-02-15T17:09:30.867Z"
      },
      {
        "duration": 267,
        "start_time": "2022-02-15T17:21:07.474Z"
      },
      {
        "duration": 305,
        "start_time": "2022-02-15T17:21:16.441Z"
      },
      {
        "duration": 3,
        "start_time": "2022-02-15T18:07:11.945Z"
      },
      {
        "duration": 47,
        "start_time": "2022-02-15T18:07:11.952Z"
      },
      {
        "duration": 9,
        "start_time": "2022-02-15T18:07:12.001Z"
      },
      {
        "duration": 35,
        "start_time": "2022-02-15T18:07:12.012Z"
      },
      {
        "duration": 16,
        "start_time": "2022-02-15T18:07:12.048Z"
      },
      {
        "duration": 10,
        "start_time": "2022-02-15T18:07:12.066Z"
      },
      {
        "duration": 13,
        "start_time": "2022-02-15T18:07:12.077Z"
      },
      {
        "duration": 22,
        "start_time": "2022-02-15T18:07:12.091Z"
      },
      {
        "duration": 250,
        "start_time": "2022-02-15T18:07:12.115Z"
      },
      {
        "duration": 15,
        "start_time": "2022-02-15T18:07:12.367Z"
      },
      {
        "duration": 6,
        "start_time": "2022-02-15T18:07:12.383Z"
      },
      {
        "duration": 1054,
        "start_time": "2022-02-15T18:07:29.170Z"
      },
      {
        "duration": 57,
        "start_time": "2022-02-15T18:07:30.226Z"
      },
      {
        "duration": 13,
        "start_time": "2022-02-15T18:07:30.287Z"
      },
      {
        "duration": 27,
        "start_time": "2022-02-15T18:07:30.302Z"
      },
      {
        "duration": 30,
        "start_time": "2022-02-15T18:07:30.331Z"
      },
      {
        "duration": 7,
        "start_time": "2022-02-15T18:07:30.362Z"
      },
      {
        "duration": 21,
        "start_time": "2022-02-15T18:07:30.371Z"
      },
      {
        "duration": 23,
        "start_time": "2022-02-15T18:07:30.393Z"
      },
      {
        "duration": 233,
        "start_time": "2022-02-15T18:07:30.418Z"
      },
      {
        "duration": 13,
        "start_time": "2022-02-15T18:07:30.653Z"
      },
      {
        "duration": 16,
        "start_time": "2022-02-15T18:07:30.667Z"
      },
      {
        "duration": 22408,
        "start_time": "2022-02-15T18:07:30.685Z"
      },
      {
        "duration": 3,
        "start_time": "2022-02-15T18:07:53.095Z"
      },
      {
        "duration": 391,
        "start_time": "2022-02-15T18:07:53.099Z"
      },
      {
        "duration": 15,
        "start_time": "2022-02-15T18:07:53.491Z"
      },
      {
        "duration": 225,
        "start_time": "2022-02-15T18:07:53.508Z"
      },
      {
        "duration": 12,
        "start_time": "2022-02-15T18:07:53.735Z"
      },
      {
        "duration": 130,
        "start_time": "2022-02-15T18:07:53.748Z"
      },
      {
        "duration": 116,
        "start_time": "2022-02-15T18:07:53.880Z"
      },
      {
        "duration": 128,
        "start_time": "2022-02-15T18:07:53.998Z"
      },
      {
        "duration": 156,
        "start_time": "2022-02-15T18:07:54.128Z"
      },
      {
        "duration": 139,
        "start_time": "2022-02-15T18:07:54.287Z"
      },
      {
        "duration": 8,
        "start_time": "2022-02-15T18:07:54.427Z"
      },
      {
        "duration": 14,
        "start_time": "2022-02-15T18:07:54.436Z"
      },
      {
        "duration": 302,
        "start_time": "2022-02-15T18:07:54.451Z"
      },
      {
        "duration": 267,
        "start_time": "2022-02-15T18:07:54.755Z"
      },
      {
        "duration": 23,
        "start_time": "2022-02-15T18:07:55.024Z"
      },
      {
        "duration": 215,
        "start_time": "2022-02-15T18:07:55.048Z"
      },
      {
        "duration": 2,
        "start_time": "2022-02-15T18:07:55.265Z"
      },
      {
        "duration": 14,
        "start_time": "2022-02-15T18:07:55.268Z"
      },
      {
        "duration": 127,
        "start_time": "2022-02-15T18:07:55.283Z"
      },
      {
        "duration": 109,
        "start_time": "2022-02-15T18:07:55.411Z"
      },
      {
        "duration": 116,
        "start_time": "2022-02-15T18:07:55.521Z"
      },
      {
        "duration": 122,
        "start_time": "2022-02-15T18:07:55.638Z"
      },
      {
        "duration": 124,
        "start_time": "2022-02-15T18:07:55.761Z"
      },
      {
        "duration": 122,
        "start_time": "2022-02-15T18:07:55.886Z"
      },
      {
        "duration": 11,
        "start_time": "2022-02-15T18:07:56.010Z"
      },
      {
        "duration": 8,
        "start_time": "2022-02-15T18:07:56.023Z"
      },
      {
        "duration": 18,
        "start_time": "2022-02-15T18:07:56.032Z"
      },
      {
        "duration": 1410,
        "start_time": "2022-02-24T11:54:35.680Z"
      },
      {
        "duration": 75,
        "start_time": "2022-02-24T11:54:37.093Z"
      },
      {
        "duration": 15,
        "start_time": "2022-02-24T11:54:37.171Z"
      },
      {
        "duration": 67,
        "start_time": "2022-02-24T11:54:37.189Z"
      },
      {
        "duration": 30,
        "start_time": "2022-02-24T11:54:37.258Z"
      },
      {
        "duration": 36,
        "start_time": "2022-02-24T11:54:37.291Z"
      },
      {
        "duration": 21,
        "start_time": "2022-02-24T11:54:37.330Z"
      },
      {
        "duration": 35,
        "start_time": "2022-02-24T11:54:37.356Z"
      },
      {
        "duration": 440,
        "start_time": "2022-02-24T11:54:37.428Z"
      },
      {
        "duration": 24,
        "start_time": "2022-02-24T11:54:37.870Z"
      },
      {
        "duration": 32,
        "start_time": "2022-02-24T11:54:37.897Z"
      },
      {
        "duration": 40853,
        "start_time": "2022-02-24T11:54:37.931Z"
      },
      {
        "duration": 4,
        "start_time": "2022-02-24T11:55:18.787Z"
      },
      {
        "duration": 703,
        "start_time": "2022-02-24T11:55:18.794Z"
      },
      {
        "duration": 38,
        "start_time": "2022-02-24T11:55:19.500Z"
      },
      {
        "duration": 419,
        "start_time": "2022-02-24T11:55:19.540Z"
      },
      {
        "duration": 10,
        "start_time": "2022-02-24T11:55:19.961Z"
      },
      {
        "duration": 299,
        "start_time": "2022-02-24T11:55:19.974Z"
      },
      {
        "duration": 368,
        "start_time": "2022-02-24T11:55:20.276Z"
      },
      {
        "duration": 261,
        "start_time": "2022-02-24T11:55:20.646Z"
      },
      {
        "duration": 246,
        "start_time": "2022-02-24T11:55:20.910Z"
      },
      {
        "duration": 244,
        "start_time": "2022-02-24T11:55:21.159Z"
      },
      {
        "duration": 20,
        "start_time": "2022-02-24T11:55:21.408Z"
      },
      {
        "duration": 13,
        "start_time": "2022-02-24T11:55:21.431Z"
      },
      {
        "duration": 543,
        "start_time": "2022-02-24T11:55:21.447Z"
      },
      {
        "duration": 455,
        "start_time": "2022-02-24T11:55:21.993Z"
      },
      {
        "duration": 20,
        "start_time": "2022-02-24T11:55:22.450Z"
      },
      {
        "duration": 434,
        "start_time": "2022-02-24T11:55:22.473Z"
      },
      {
        "duration": 4,
        "start_time": "2022-02-24T11:55:22.910Z"
      },
      {
        "duration": 13,
        "start_time": "2022-02-24T11:55:22.916Z"
      },
      {
        "duration": 225,
        "start_time": "2022-02-24T11:55:22.932Z"
      },
      {
        "duration": 362,
        "start_time": "2022-02-24T11:55:23.160Z"
      },
      {
        "duration": 328,
        "start_time": "2022-02-24T11:55:23.525Z"
      },
      {
        "duration": 384,
        "start_time": "2022-02-24T11:55:23.856Z"
      },
      {
        "duration": 238,
        "start_time": "2022-02-24T11:55:24.242Z"
      },
      {
        "duration": 296,
        "start_time": "2022-02-24T11:55:24.482Z"
      },
      {
        "duration": 28,
        "start_time": "2022-02-24T11:55:24.782Z"
      },
      {
        "duration": 25,
        "start_time": "2022-02-24T11:55:24.813Z"
      },
      {
        "duration": 17,
        "start_time": "2022-02-24T11:55:24.842Z"
      },
      {
        "duration": 1402,
        "start_time": "2022-02-24T16:23:03.715Z"
      },
      {
        "duration": 64,
        "start_time": "2022-02-24T16:23:05.120Z"
      },
      {
        "duration": 15,
        "start_time": "2022-02-24T16:23:05.187Z"
      },
      {
        "duration": 70,
        "start_time": "2022-02-24T16:23:05.205Z"
      },
      {
        "duration": 32,
        "start_time": "2022-02-24T16:23:05.278Z"
      },
      {
        "duration": 15,
        "start_time": "2022-02-24T16:23:05.313Z"
      },
      {
        "duration": 48,
        "start_time": "2022-02-24T16:23:05.330Z"
      },
      {
        "duration": 35,
        "start_time": "2022-02-24T16:23:05.382Z"
      },
      {
        "duration": 426,
        "start_time": "2022-02-24T16:23:05.420Z"
      },
      {
        "duration": 31,
        "start_time": "2022-02-24T16:23:05.848Z"
      },
      {
        "duration": 8,
        "start_time": "2022-02-24T16:23:05.881Z"
      },
      {
        "duration": 38312,
        "start_time": "2022-02-24T16:23:05.892Z"
      },
      {
        "duration": 4,
        "start_time": "2022-02-24T16:23:44.206Z"
      },
      {
        "duration": 700,
        "start_time": "2022-02-24T16:23:44.213Z"
      },
      {
        "duration": 46,
        "start_time": "2022-02-24T16:23:44.915Z"
      },
      {
        "duration": 436,
        "start_time": "2022-02-24T16:23:44.963Z"
      },
      {
        "duration": 9,
        "start_time": "2022-02-24T16:23:45.402Z"
      },
      {
        "duration": 257,
        "start_time": "2022-02-24T16:23:45.413Z"
      },
      {
        "duration": 234,
        "start_time": "2022-02-24T16:23:45.672Z"
      },
      {
        "duration": 256,
        "start_time": "2022-02-24T16:23:45.908Z"
      },
      {
        "duration": 262,
        "start_time": "2022-02-24T16:23:46.167Z"
      },
      {
        "duration": 257,
        "start_time": "2022-02-24T16:23:46.431Z"
      },
      {
        "duration": 14,
        "start_time": "2022-02-24T16:23:46.693Z"
      },
      {
        "duration": 11,
        "start_time": "2022-02-24T16:23:46.710Z"
      },
      {
        "duration": 507,
        "start_time": "2022-02-24T16:23:46.724Z"
      },
      {
        "duration": 435,
        "start_time": "2022-02-24T16:23:47.234Z"
      },
      {
        "duration": 13,
        "start_time": "2022-02-24T16:23:47.671Z"
      },
      {
        "duration": 18,
        "start_time": "2022-02-24T16:23:47.687Z"
      },
      {
        "duration": 422,
        "start_time": "2022-02-24T16:23:47.708Z"
      },
      {
        "duration": 401,
        "start_time": "2022-02-24T16:23:48.132Z"
      },
      {
        "duration": 25,
        "start_time": "2022-02-24T16:23:48.536Z"
      },
      {
        "duration": 11,
        "start_time": "2022-02-24T16:23:48.563Z"
      },
      {
        "duration": 414,
        "start_time": "2022-02-24T16:23:48.577Z"
      },
      {
        "duration": 395,
        "start_time": "2022-02-24T16:23:48.994Z"
      },
      {
        "duration": 413,
        "start_time": "2022-02-24T16:23:49.392Z"
      },
      {
        "duration": -652,
        "start_time": "2022-02-24T16:23:50.460Z"
      },
      {
        "duration": -656,
        "start_time": "2022-02-24T16:23:50.465Z"
      },
      {
        "duration": -659,
        "start_time": "2022-02-24T16:23:50.469Z"
      },
      {
        "duration": -661,
        "start_time": "2022-02-24T16:23:50.473Z"
      },
      {
        "duration": -665,
        "start_time": "2022-02-24T16:23:50.478Z"
      },
      {
        "duration": -671,
        "start_time": "2022-02-24T16:23:50.485Z"
      },
      {
        "duration": -673,
        "start_time": "2022-02-24T16:23:50.489Z"
      },
      {
        "duration": -676,
        "start_time": "2022-02-24T16:23:50.493Z"
      },
      {
        "duration": -680,
        "start_time": "2022-02-24T16:23:50.498Z"
      },
      {
        "duration": -683,
        "start_time": "2022-02-24T16:23:50.502Z"
      },
      {
        "duration": -685,
        "start_time": "2022-02-24T16:23:50.506Z"
      },
      {
        "duration": -688,
        "start_time": "2022-02-24T16:23:50.510Z"
      },
      {
        "duration": -696,
        "start_time": "2022-02-24T16:23:50.520Z"
      },
      {
        "duration": -700,
        "start_time": "2022-02-24T16:23:50.525Z"
      },
      {
        "duration": -702,
        "start_time": "2022-02-24T16:23:50.529Z"
      },
      {
        "duration": -705,
        "start_time": "2022-02-24T16:23:50.533Z"
      },
      {
        "duration": -707,
        "start_time": "2022-02-24T16:23:50.537Z"
      },
      {
        "duration": -710,
        "start_time": "2022-02-24T16:23:50.541Z"
      },
      {
        "duration": -712,
        "start_time": "2022-02-24T16:23:50.545Z"
      },
      {
        "duration": -715,
        "start_time": "2022-02-24T16:23:50.549Z"
      },
      {
        "duration": 1371,
        "start_time": "2022-02-24T16:24:54.173Z"
      },
      {
        "duration": 69,
        "start_time": "2022-02-24T16:24:55.547Z"
      },
      {
        "duration": 13,
        "start_time": "2022-02-24T16:24:55.620Z"
      },
      {
        "duration": 63,
        "start_time": "2022-02-24T16:24:55.637Z"
      },
      {
        "duration": 34,
        "start_time": "2022-02-24T16:24:55.703Z"
      },
      {
        "duration": 12,
        "start_time": "2022-02-24T16:24:55.761Z"
      },
      {
        "duration": 20,
        "start_time": "2022-02-24T16:24:55.775Z"
      },
      {
        "duration": 62,
        "start_time": "2022-02-24T16:24:55.799Z"
      },
      {
        "duration": 408,
        "start_time": "2022-02-24T16:24:55.864Z"
      },
      {
        "duration": 25,
        "start_time": "2022-02-24T16:24:56.274Z"
      },
      {
        "duration": 9,
        "start_time": "2022-02-24T16:24:56.302Z"
      },
      {
        "duration": 38295,
        "start_time": "2022-02-24T16:24:56.314Z"
      },
      {
        "duration": 4,
        "start_time": "2022-02-24T16:25:34.612Z"
      },
      {
        "duration": 663,
        "start_time": "2022-02-24T16:25:34.618Z"
      },
      {
        "duration": 25,
        "start_time": "2022-02-24T16:25:35.284Z"
      },
      {
        "duration": 440,
        "start_time": "2022-02-24T16:25:35.312Z"
      },
      {
        "duration": 9,
        "start_time": "2022-02-24T16:25:35.762Z"
      },
      {
        "duration": 245,
        "start_time": "2022-02-24T16:25:35.773Z"
      },
      {
        "duration": 234,
        "start_time": "2022-02-24T16:25:36.021Z"
      },
      {
        "duration": 254,
        "start_time": "2022-02-24T16:25:36.261Z"
      },
      {
        "duration": 244,
        "start_time": "2022-02-24T16:25:36.517Z"
      },
      {
        "duration": 257,
        "start_time": "2022-02-24T16:25:36.763Z"
      },
      {
        "duration": 14,
        "start_time": "2022-02-24T16:25:37.028Z"
      },
      {
        "duration": 13,
        "start_time": "2022-02-24T16:25:37.063Z"
      },
      {
        "duration": 517,
        "start_time": "2022-02-24T16:25:37.078Z"
      },
      {
        "duration": 388,
        "start_time": "2022-02-24T16:25:37.598Z"
      },
      {
        "duration": 13,
        "start_time": "2022-02-24T16:25:37.988Z"
      },
      {
        "duration": 12,
        "start_time": "2022-02-24T16:25:38.004Z"
      },
      {
        "duration": 432,
        "start_time": "2022-02-24T16:25:38.018Z"
      },
      {
        "duration": 404,
        "start_time": "2022-02-24T16:25:38.453Z"
      },
      {
        "duration": 12,
        "start_time": "2022-02-24T16:25:38.861Z"
      },
      {
        "duration": 14,
        "start_time": "2022-02-24T16:25:38.876Z"
      },
      {
        "duration": 396,
        "start_time": "2022-02-24T16:25:38.892Z"
      },
      {
        "duration": 381,
        "start_time": "2022-02-24T16:25:39.290Z"
      },
      {
        "duration": 13,
        "start_time": "2022-02-24T16:25:39.674Z"
      },
      {
        "duration": 14,
        "start_time": "2022-02-24T16:25:39.689Z"
      },
      {
        "duration": 419,
        "start_time": "2022-02-24T16:25:39.705Z"
      },
      {
        "duration": 431,
        "start_time": "2022-02-24T16:25:40.126Z"
      },
      {
        "duration": 13,
        "start_time": "2022-02-24T16:25:40.559Z"
      },
      {
        "duration": 13,
        "start_time": "2022-02-24T16:25:40.574Z"
      },
      {
        "duration": 410,
        "start_time": "2022-02-24T16:25:40.589Z"
      },
      {
        "duration": 402,
        "start_time": "2022-02-24T16:25:41.002Z"
      },
      {
        "duration": 20,
        "start_time": "2022-02-24T16:25:41.407Z"
      },
      {
        "duration": 453,
        "start_time": "2022-02-24T16:25:41.430Z"
      },
      {
        "duration": 4,
        "start_time": "2022-02-24T16:25:41.886Z"
      },
      {
        "duration": 8,
        "start_time": "2022-02-24T16:25:41.892Z"
      },
      {
        "duration": 284,
        "start_time": "2022-02-24T16:25:41.902Z"
      },
      {
        "duration": 229,
        "start_time": "2022-02-24T16:25:42.188Z"
      },
      {
        "duration": 231,
        "start_time": "2022-02-24T16:25:42.420Z"
      },
      {
        "duration": 233,
        "start_time": "2022-02-24T16:25:42.661Z"
      },
      {
        "duration": 229,
        "start_time": "2022-02-24T16:25:42.897Z"
      },
      {
        "duration": 227,
        "start_time": "2022-02-24T16:25:43.129Z"
      },
      {
        "duration": 19,
        "start_time": "2022-02-24T16:25:43.361Z"
      },
      {
        "duration": 12,
        "start_time": "2022-02-24T16:25:43.382Z"
      },
      {
        "duration": 12,
        "start_time": "2022-02-24T16:25:43.396Z"
      },
      {
        "duration": 424,
        "start_time": "2022-02-24T16:55:54.906Z"
      },
      {
        "duration": 7,
        "start_time": "2022-02-24T16:56:08.309Z"
      },
      {
        "duration": 19,
        "start_time": "2022-02-24T16:56:36.106Z"
      },
      {
        "duration": 19,
        "start_time": "2022-02-24T16:56:43.788Z"
      },
      {
        "duration": 7,
        "start_time": "2022-02-24T16:58:28.289Z"
      },
      {
        "duration": 1372,
        "start_time": "2022-02-24T16:58:49.756Z"
      },
      {
        "duration": 73,
        "start_time": "2022-02-24T16:58:51.131Z"
      },
      {
        "duration": 14,
        "start_time": "2022-02-24T16:58:51.208Z"
      },
      {
        "duration": 67,
        "start_time": "2022-02-24T16:58:51.226Z"
      },
      {
        "duration": 30,
        "start_time": "2022-02-24T16:58:51.296Z"
      },
      {
        "duration": 40,
        "start_time": "2022-02-24T16:58:51.329Z"
      },
      {
        "duration": 21,
        "start_time": "2022-02-24T16:58:51.371Z"
      },
      {
        "duration": 34,
        "start_time": "2022-02-24T16:58:51.396Z"
      },
      {
        "duration": 422,
        "start_time": "2022-02-24T16:58:51.434Z"
      },
      {
        "duration": 26,
        "start_time": "2022-02-24T16:58:51.862Z"
      },
      {
        "duration": 11,
        "start_time": "2022-02-24T16:58:51.890Z"
      },
      {
        "duration": 38286,
        "start_time": "2022-02-24T16:58:51.903Z"
      },
      {
        "duration": 4,
        "start_time": "2022-02-24T16:59:30.191Z"
      },
      {
        "duration": 675,
        "start_time": "2022-02-24T16:59:30.198Z"
      },
      {
        "duration": 26,
        "start_time": "2022-02-24T16:59:30.876Z"
      },
      {
        "duration": 419,
        "start_time": "2022-02-24T16:59:30.905Z"
      },
      {
        "duration": 11,
        "start_time": "2022-02-24T16:59:31.327Z"
      },
      {
        "duration": 270,
        "start_time": "2022-02-24T16:59:31.341Z"
      },
      {
        "duration": 240,
        "start_time": "2022-02-24T16:59:31.614Z"
      },
      {
        "duration": 249,
        "start_time": "2022-02-24T16:59:31.861Z"
      },
      {
        "duration": 254,
        "start_time": "2022-02-24T16:59:32.113Z"
      },
      {
        "duration": 256,
        "start_time": "2022-02-24T16:59:32.370Z"
      },
      {
        "duration": 12,
        "start_time": "2022-02-24T16:59:32.634Z"
      },
      {
        "duration": 22,
        "start_time": "2022-02-24T16:59:32.649Z"
      },
      {
        "duration": 496,
        "start_time": "2022-02-24T16:59:32.673Z"
      },
      {
        "duration": 388,
        "start_time": "2022-02-24T16:59:33.171Z"
      },
      {
        "duration": 15,
        "start_time": "2022-02-24T16:59:33.562Z"
      },
      {
        "duration": 13,
        "start_time": "2022-02-24T16:59:33.580Z"
      },
      {
        "duration": 430,
        "start_time": "2022-02-24T16:59:33.595Z"
      },
      {
        "duration": 394,
        "start_time": "2022-02-24T16:59:34.027Z"
      },
      {
        "duration": 12,
        "start_time": "2022-02-24T16:59:34.424Z"
      },
      {
        "duration": 30,
        "start_time": "2022-02-24T16:59:34.438Z"
      },
      {
        "duration": 403,
        "start_time": "2022-02-24T16:59:34.470Z"
      },
      {
        "duration": 392,
        "start_time": "2022-02-24T16:59:34.875Z"
      },
      {
        "duration": 13,
        "start_time": "2022-02-24T16:59:35.270Z"
      },
      {
        "duration": 16,
        "start_time": "2022-02-24T16:59:35.286Z"
      },
      {
        "duration": 428,
        "start_time": "2022-02-24T16:59:35.305Z"
      },
      {
        "duration": 408,
        "start_time": "2022-02-24T16:59:35.736Z"
      },
      {
        "duration": 20,
        "start_time": "2022-02-24T16:59:36.146Z"
      },
      {
        "duration": 12,
        "start_time": "2022-02-24T16:59:36.169Z"
      },
      {
        "duration": 411,
        "start_time": "2022-02-24T16:59:36.183Z"
      },
      {
        "duration": 413,
        "start_time": "2022-02-24T16:59:36.596Z"
      },
      {
        "duration": 20,
        "start_time": "2022-02-24T16:59:37.011Z"
      },
      {
        "duration": 432,
        "start_time": "2022-02-24T16:59:37.033Z"
      },
      {
        "duration": 5,
        "start_time": "2022-02-24T16:59:37.467Z"
      },
      {
        "duration": 6,
        "start_time": "2022-02-24T16:59:37.474Z"
      },
      {
        "duration": 412,
        "start_time": "2022-02-24T16:59:37.483Z"
      },
      {
        "duration": 217,
        "start_time": "2022-02-24T16:59:37.898Z"
      },
      {
        "duration": 222,
        "start_time": "2022-02-24T16:59:38.118Z"
      },
      {
        "duration": 222,
        "start_time": "2022-02-24T16:59:38.342Z"
      },
      {
        "duration": 233,
        "start_time": "2022-02-24T16:59:38.567Z"
      },
      {
        "duration": 230,
        "start_time": "2022-02-24T16:59:38.804Z"
      },
      {
        "duration": 33,
        "start_time": "2022-02-24T16:59:39.036Z"
      },
      {
        "duration": 7,
        "start_time": "2022-02-24T16:59:39.071Z"
      },
      {
        "duration": 6,
        "start_time": "2022-02-24T16:59:39.080Z"
      },
      {
        "duration": 21,
        "start_time": "2022-02-24T16:59:39.089Z"
      },
      {
        "duration": 12,
        "start_time": "2022-02-24T16:59:39.112Z"
      },
      {
        "duration": 14,
        "start_time": "2022-02-24T16:59:39.162Z"
      },
      {
        "duration": 10,
        "start_time": "2022-02-24T17:00:12.414Z"
      },
      {
        "duration": 1376,
        "start_time": "2022-02-24T17:00:28.477Z"
      },
      {
        "duration": 68,
        "start_time": "2022-02-24T17:00:29.855Z"
      },
      {
        "duration": 14,
        "start_time": "2022-02-24T17:00:29.926Z"
      },
      {
        "duration": 44,
        "start_time": "2022-02-24T17:00:29.961Z"
      },
      {
        "duration": 32,
        "start_time": "2022-02-24T17:00:30.007Z"
      },
      {
        "duration": 29,
        "start_time": "2022-02-24T17:00:30.041Z"
      },
      {
        "duration": 20,
        "start_time": "2022-02-24T17:00:30.072Z"
      },
      {
        "duration": 67,
        "start_time": "2022-02-24T17:00:30.096Z"
      },
      {
        "duration": 450,
        "start_time": "2022-02-24T17:00:30.166Z"
      },
      {
        "duration": 26,
        "start_time": "2022-02-24T17:00:30.618Z"
      },
      {
        "duration": 21,
        "start_time": "2022-02-24T17:00:30.646Z"
      },
      {
        "duration": 38576,
        "start_time": "2022-02-24T17:00:30.670Z"
      },
      {
        "duration": 13,
        "start_time": "2022-02-24T17:01:09.248Z"
      },
      {
        "duration": 674,
        "start_time": "2022-02-24T17:01:09.263Z"
      },
      {
        "duration": 36,
        "start_time": "2022-02-24T17:01:09.939Z"
      },
      {
        "duration": 425,
        "start_time": "2022-02-24T17:01:09.977Z"
      },
      {
        "duration": 9,
        "start_time": "2022-02-24T17:01:10.405Z"
      },
      {
        "duration": 258,
        "start_time": "2022-02-24T17:01:10.417Z"
      },
      {
        "duration": 247,
        "start_time": "2022-02-24T17:01:10.678Z"
      },
      {
        "duration": 255,
        "start_time": "2022-02-24T17:01:10.928Z"
      },
      {
        "duration": 268,
        "start_time": "2022-02-24T17:01:11.186Z"
      },
      {
        "duration": 260,
        "start_time": "2022-02-24T17:01:11.456Z"
      },
      {
        "duration": 13,
        "start_time": "2022-02-24T17:01:11.725Z"
      },
      {
        "duration": 31,
        "start_time": "2022-02-24T17:01:11.743Z"
      },
      {
        "duration": 501,
        "start_time": "2022-02-24T17:01:11.776Z"
      },
      {
        "duration": 416,
        "start_time": "2022-02-24T17:01:12.279Z"
      },
      {
        "duration": 13,
        "start_time": "2022-02-24T17:01:12.697Z"
      },
      {
        "duration": 13,
        "start_time": "2022-02-24T17:01:12.712Z"
      },
      {
        "duration": 414,
        "start_time": "2022-02-24T17:01:12.727Z"
      },
      {
        "duration": 387,
        "start_time": "2022-02-24T17:01:13.143Z"
      },
      {
        "duration": 13,
        "start_time": "2022-02-24T17:01:13.532Z"
      },
      {
        "duration": 22,
        "start_time": "2022-02-24T17:01:13.547Z"
      },
      {
        "duration": 395,
        "start_time": "2022-02-24T17:01:13.571Z"
      },
      {
        "duration": 406,
        "start_time": "2022-02-24T17:01:13.968Z"
      },
      {
        "duration": 14,
        "start_time": "2022-02-24T17:01:14.376Z"
      },
      {
        "duration": 15,
        "start_time": "2022-02-24T17:01:14.394Z"
      },
      {
        "duration": 439,
        "start_time": "2022-02-24T17:01:14.411Z"
      },
      {
        "duration": 406,
        "start_time": "2022-02-24T17:01:14.852Z"
      },
      {
        "duration": 13,
        "start_time": "2022-02-24T17:01:15.260Z"
      },
      {
        "duration": 13,
        "start_time": "2022-02-24T17:01:15.276Z"
      },
      {
        "duration": 405,
        "start_time": "2022-02-24T17:01:15.291Z"
      },
      {
        "duration": 404,
        "start_time": "2022-02-24T17:01:15.698Z"
      },
      {
        "duration": 21,
        "start_time": "2022-02-24T17:01:16.105Z"
      },
      {
        "duration": 436,
        "start_time": "2022-02-24T17:01:16.129Z"
      },
      {
        "duration": 3,
        "start_time": "2022-02-24T17:01:16.568Z"
      },
      {
        "duration": 6,
        "start_time": "2022-02-24T17:01:16.574Z"
      },
      {
        "duration": 295,
        "start_time": "2022-02-24T17:01:16.583Z"
      },
      {
        "duration": 214,
        "start_time": "2022-02-24T17:01:16.881Z"
      },
      {
        "duration": 218,
        "start_time": "2022-02-24T17:01:17.097Z"
      },
      {
        "duration": 232,
        "start_time": "2022-02-24T17:01:17.318Z"
      },
      {
        "duration": 237,
        "start_time": "2022-02-24T17:01:17.552Z"
      },
      {
        "duration": 228,
        "start_time": "2022-02-24T17:01:17.791Z"
      },
      {
        "duration": 20,
        "start_time": "2022-02-24T17:01:18.021Z"
      },
      {
        "duration": 23,
        "start_time": "2022-02-24T17:01:18.043Z"
      },
      {
        "duration": 8,
        "start_time": "2022-02-24T17:01:18.069Z"
      },
      {
        "duration": 19,
        "start_time": "2022-02-24T17:01:18.080Z"
      },
      {
        "duration": 14,
        "start_time": "2022-02-24T17:01:18.102Z"
      },
      {
        "duration": 57,
        "start_time": "2022-02-24T17:01:18.118Z"
      },
      {
        "duration": 1429,
        "start_time": "2022-02-24T17:06:01.307Z"
      },
      {
        "duration": 74,
        "start_time": "2022-02-24T17:06:02.739Z"
      },
      {
        "duration": 14,
        "start_time": "2022-02-24T17:06:02.817Z"
      },
      {
        "duration": 69,
        "start_time": "2022-02-24T17:06:02.834Z"
      },
      {
        "duration": 32,
        "start_time": "2022-02-24T17:06:02.906Z"
      },
      {
        "duration": 11,
        "start_time": "2022-02-24T17:06:02.963Z"
      },
      {
        "duration": 29,
        "start_time": "2022-02-24T17:06:02.977Z"
      },
      {
        "duration": 60,
        "start_time": "2022-02-24T17:06:03.010Z"
      },
      {
        "duration": 426,
        "start_time": "2022-02-24T17:06:03.074Z"
      },
      {
        "duration": 25,
        "start_time": "2022-02-24T17:06:03.503Z"
      },
      {
        "duration": 31,
        "start_time": "2022-02-24T17:06:03.530Z"
      },
      {
        "duration": 41168,
        "start_time": "2022-02-24T17:06:03.565Z"
      },
      {
        "duration": 5,
        "start_time": "2022-02-24T17:06:44.735Z"
      },
      {
        "duration": 738,
        "start_time": "2022-02-24T17:06:44.742Z"
      },
      {
        "duration": 25,
        "start_time": "2022-02-24T17:06:45.483Z"
      },
      {
        "duration": 422,
        "start_time": "2022-02-24T17:06:45.511Z"
      },
      {
        "duration": 10,
        "start_time": "2022-02-24T17:06:45.936Z"
      },
      {
        "duration": 239,
        "start_time": "2022-02-24T17:06:45.962Z"
      },
      {
        "duration": 233,
        "start_time": "2022-02-24T17:06:46.204Z"
      },
      {
        "duration": 237,
        "start_time": "2022-02-24T17:06:46.440Z"
      },
      {
        "duration": 243,
        "start_time": "2022-02-24T17:06:46.679Z"
      },
      {
        "duration": 249,
        "start_time": "2022-02-24T17:06:46.925Z"
      },
      {
        "duration": 12,
        "start_time": "2022-02-24T17:06:47.180Z"
      },
      {
        "duration": 15,
        "start_time": "2022-02-24T17:06:47.195Z"
      },
      {
        "duration": 491,
        "start_time": "2022-02-24T17:06:47.212Z"
      },
      {
        "duration": 403,
        "start_time": "2022-02-24T17:06:47.706Z"
      },
      {
        "duration": 13,
        "start_time": "2022-02-24T17:06:48.112Z"
      },
      {
        "duration": 22,
        "start_time": "2022-02-24T17:06:48.127Z"
      },
      {
        "duration": 413,
        "start_time": "2022-02-24T17:06:48.162Z"
      },
      {
        "duration": 373,
        "start_time": "2022-02-24T17:06:48.578Z"
      },
      {
        "duration": 14,
        "start_time": "2022-02-24T17:06:48.961Z"
      },
      {
        "duration": 16,
        "start_time": "2022-02-24T17:06:48.978Z"
      },
      {
        "duration": 402,
        "start_time": "2022-02-24T17:06:48.996Z"
      },
      {
        "duration": 427,
        "start_time": "2022-02-24T17:06:49.400Z"
      },
      {
        "duration": 12,
        "start_time": "2022-02-24T17:06:49.830Z"
      },
      {
        "duration": 13,
        "start_time": "2022-02-24T17:06:49.860Z"
      },
      {
        "duration": 400,
        "start_time": "2022-02-24T17:06:49.875Z"
      },
      {
        "duration": 392,
        "start_time": "2022-02-24T17:06:50.278Z"
      },
      {
        "duration": 14,
        "start_time": "2022-02-24T17:06:50.674Z"
      },
      {
        "duration": 15,
        "start_time": "2022-02-24T17:06:50.691Z"
      },
      {
        "duration": 487,
        "start_time": "2022-02-24T17:06:50.709Z"
      },
      {
        "duration": 426,
        "start_time": "2022-02-24T17:06:51.199Z"
      },
      {
        "duration": 33,
        "start_time": "2022-02-24T17:06:51.628Z"
      },
      {
        "duration": 431,
        "start_time": "2022-02-24T17:06:51.663Z"
      },
      {
        "duration": 4,
        "start_time": "2022-02-24T17:06:52.097Z"
      },
      {
        "duration": 5,
        "start_time": "2022-02-24T17:06:52.104Z"
      },
      {
        "duration": 304,
        "start_time": "2022-02-24T17:06:52.112Z"
      },
      {
        "duration": 221,
        "start_time": "2022-02-24T17:06:52.419Z"
      },
      {
        "duration": 221,
        "start_time": "2022-02-24T17:06:52.642Z"
      },
      {
        "duration": 231,
        "start_time": "2022-02-24T17:06:52.866Z"
      },
      {
        "duration": 223,
        "start_time": "2022-02-24T17:06:53.101Z"
      },
      {
        "duration": 234,
        "start_time": "2022-02-24T17:06:53.327Z"
      },
      {
        "duration": 23,
        "start_time": "2022-02-24T17:06:53.564Z"
      },
      {
        "duration": 7,
        "start_time": "2022-02-24T17:06:53.589Z"
      },
      {
        "duration": 21,
        "start_time": "2022-02-24T17:06:53.599Z"
      },
      {
        "duration": 49,
        "start_time": "2022-02-24T17:06:53.622Z"
      },
      {
        "duration": 14,
        "start_time": "2022-02-24T17:06:53.674Z"
      }
    ],
    "kernelspec": {
      "display_name": "Python 3 (ipykernel)",
      "language": "python",
      "name": "python3"
    },
    "language_info": {
      "codemirror_mode": {
        "name": "ipython",
        "version": 3
      },
      "file_extension": ".py",
      "mimetype": "text/x-python",
      "name": "python",
      "nbconvert_exporter": "python",
      "pygments_lexer": "ipython3",
      "version": "3.9.5"
    },
    "toc": {
      "base_numbering": 1,
      "nav_menu": {
        "height": "249px",
        "width": "818px"
      },
      "number_sections": false,
      "sideBar": true,
      "skip_h1_title": true,
      "title_cell": "Table of Contents",
      "title_sidebar": "Contents",
      "toc_cell": false,
      "toc_position": {},
      "toc_section_display": true,
      "toc_window_display": false
    },
    "colab": {
      "provenance": []
    }
  },
  "nbformat": 4,
  "nbformat_minor": 0
}