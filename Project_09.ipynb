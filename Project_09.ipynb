{
  "cells": [
    {
      "cell_type": "markdown",
      "metadata": {
        "id": "kGiK1WjCdHHX"
      },
      "source": [
        "# Защита персональных данных клиентов"
      ]
    },
    {
      "cell_type": "markdown",
      "metadata": {
        "id": "r5q2MypBdHHX"
      },
      "source": [
        "Вам нужно защитить данные клиентов страховой компании «Хоть потоп». Разработайте такой метод преобразования данных, чтобы по ним было сложно восстановить персональную информацию. Обоснуйте корректность его работы.\n",
        "\n",
        "Нужно защитить данные, чтобы при преобразовании качество моделей машинного обучения не ухудшилось. Подбирать наилучшую модель не требуется."
      ]
    },
    {
      "cell_type": "markdown",
      "metadata": {
        "id": "otHgbqZodHHX"
      },
      "source": [
        "## Загрузка данных"
      ]
    },
    {
      "cell_type": "code",
      "execution_count": null,
      "metadata": {
        "id": "FtUhr8OVdHHY"
      },
      "outputs": [],
      "source": [
        "import pandas as pd\n",
        "import sklearn\n",
        "import numpy as np\n",
        "from sklearn.linear_model import LinearRegression\n",
        "from sklearn.metrics import r2_score"
      ]
    },
    {
      "cell_type": "code",
      "execution_count": null,
      "metadata": {
        "id": "D-6O5QKudHHd"
      },
      "outputs": [],
      "source": [
        "data = pd.read_csv('/datasets/insurance.csv')"
      ]
    },
    {
      "cell_type": "code",
      "execution_count": null,
      "metadata": {
        "id": "4v-UVHtIdHHe",
        "outputId": "16eb0b3d-39cb-400c-8558-26359d6a87ee"
      },
      "outputs": [
        {
          "data": {
            "text/html": [
              "<div>\n",
              "<style scoped>\n",
              "    .dataframe tbody tr th:only-of-type {\n",
              "        vertical-align: middle;\n",
              "    }\n",
              "\n",
              "    .dataframe tbody tr th {\n",
              "        vertical-align: top;\n",
              "    }\n",
              "\n",
              "    .dataframe thead th {\n",
              "        text-align: right;\n",
              "    }\n",
              "</style>\n",
              "<table border=\"1\" class=\"dataframe\">\n",
              "  <thead>\n",
              "    <tr style=\"text-align: right;\">\n",
              "      <th></th>\n",
              "      <th>Пол</th>\n",
              "      <th>Возраст</th>\n",
              "      <th>Зарплата</th>\n",
              "      <th>Члены семьи</th>\n",
              "      <th>Страховые выплаты</th>\n",
              "    </tr>\n",
              "  </thead>\n",
              "  <tbody>\n",
              "    <tr>\n",
              "      <th>0</th>\n",
              "      <td>1</td>\n",
              "      <td>41.0</td>\n",
              "      <td>49600.0</td>\n",
              "      <td>1</td>\n",
              "      <td>0</td>\n",
              "    </tr>\n",
              "    <tr>\n",
              "      <th>1</th>\n",
              "      <td>0</td>\n",
              "      <td>46.0</td>\n",
              "      <td>38000.0</td>\n",
              "      <td>1</td>\n",
              "      <td>1</td>\n",
              "    </tr>\n",
              "    <tr>\n",
              "      <th>2</th>\n",
              "      <td>0</td>\n",
              "      <td>29.0</td>\n",
              "      <td>21000.0</td>\n",
              "      <td>0</td>\n",
              "      <td>0</td>\n",
              "    </tr>\n",
              "    <tr>\n",
              "      <th>3</th>\n",
              "      <td>0</td>\n",
              "      <td>21.0</td>\n",
              "      <td>41700.0</td>\n",
              "      <td>2</td>\n",
              "      <td>0</td>\n",
              "    </tr>\n",
              "    <tr>\n",
              "      <th>4</th>\n",
              "      <td>1</td>\n",
              "      <td>28.0</td>\n",
              "      <td>26100.0</td>\n",
              "      <td>0</td>\n",
              "      <td>0</td>\n",
              "    </tr>\n",
              "    <tr>\n",
              "      <th>5</th>\n",
              "      <td>1</td>\n",
              "      <td>43.0</td>\n",
              "      <td>41000.0</td>\n",
              "      <td>2</td>\n",
              "      <td>1</td>\n",
              "    </tr>\n",
              "    <tr>\n",
              "      <th>6</th>\n",
              "      <td>1</td>\n",
              "      <td>39.0</td>\n",
              "      <td>39700.0</td>\n",
              "      <td>2</td>\n",
              "      <td>0</td>\n",
              "    </tr>\n",
              "    <tr>\n",
              "      <th>7</th>\n",
              "      <td>1</td>\n",
              "      <td>25.0</td>\n",
              "      <td>38600.0</td>\n",
              "      <td>4</td>\n",
              "      <td>0</td>\n",
              "    </tr>\n",
              "    <tr>\n",
              "      <th>8</th>\n",
              "      <td>1</td>\n",
              "      <td>36.0</td>\n",
              "      <td>49700.0</td>\n",
              "      <td>1</td>\n",
              "      <td>0</td>\n",
              "    </tr>\n",
              "    <tr>\n",
              "      <th>9</th>\n",
              "      <td>1</td>\n",
              "      <td>32.0</td>\n",
              "      <td>51700.0</td>\n",
              "      <td>1</td>\n",
              "      <td>0</td>\n",
              "    </tr>\n",
              "  </tbody>\n",
              "</table>\n",
              "</div>"
            ],
            "text/plain": [
              "   Пол  Возраст  Зарплата  Члены семьи  Страховые выплаты\n",
              "0    1     41.0   49600.0            1                  0\n",
              "1    0     46.0   38000.0            1                  1\n",
              "2    0     29.0   21000.0            0                  0\n",
              "3    0     21.0   41700.0            2                  0\n",
              "4    1     28.0   26100.0            0                  0\n",
              "5    1     43.0   41000.0            2                  1\n",
              "6    1     39.0   39700.0            2                  0\n",
              "7    1     25.0   38600.0            4                  0\n",
              "8    1     36.0   49700.0            1                  0\n",
              "9    1     32.0   51700.0            1                  0"
            ]
          },
          "execution_count": 3,
          "metadata": {},
          "output_type": "execute_result"
        }
      ],
      "source": [
        "data.head(10)"
      ]
    },
    {
      "cell_type": "code",
      "execution_count": null,
      "metadata": {
        "id": "RTdnsGLqdHHg",
        "outputId": "d53ad84a-812c-434a-df48-c3c1013936a0"
      },
      "outputs": [
        {
          "name": "stdout",
          "output_type": "stream",
          "text": [
            "<class 'pandas.core.frame.DataFrame'>\n",
            "RangeIndex: 5000 entries, 0 to 4999\n",
            "Data columns (total 5 columns):\n",
            " #   Column             Non-Null Count  Dtype  \n",
            "---  ------             --------------  -----  \n",
            " 0   Пол                5000 non-null   int64  \n",
            " 1   Возраст            5000 non-null   float64\n",
            " 2   Зарплата           5000 non-null   float64\n",
            " 3   Члены семьи        5000 non-null   int64  \n",
            " 4   Страховые выплаты  5000 non-null   int64  \n",
            "dtypes: float64(2), int64(3)\n",
            "memory usage: 195.4 KB\n"
          ]
        }
      ],
      "source": [
        "data.info()"
      ]
    },
    {
      "cell_type": "code",
      "execution_count": null,
      "metadata": {
        "id": "AWzB2Ls5dHHh",
        "outputId": "7ab68b18-d973-4e62-a563-54211e4c3c55"
      },
      "outputs": [
        {
          "data": {
            "text/plain": [
              "153"
            ]
          },
          "execution_count": 5,
          "metadata": {},
          "output_type": "execute_result"
        }
      ],
      "source": [
        "data.duplicated().sum()"
      ]
    },
    {
      "cell_type": "code",
      "execution_count": null,
      "metadata": {
        "id": "CvxdKHXmdHHh",
        "outputId": "7a3fc0c3-d804-4b67-83ac-77a217d64dd9"
      },
      "outputs": [
        {
          "data": {
            "text/html": [
              "<div>\n",
              "<style scoped>\n",
              "    .dataframe tbody tr th:only-of-type {\n",
              "        vertical-align: middle;\n",
              "    }\n",
              "\n",
              "    .dataframe tbody tr th {\n",
              "        vertical-align: top;\n",
              "    }\n",
              "\n",
              "    .dataframe thead th {\n",
              "        text-align: right;\n",
              "    }\n",
              "</style>\n",
              "<table border=\"1\" class=\"dataframe\">\n",
              "  <thead>\n",
              "    <tr style=\"text-align: right;\">\n",
              "      <th></th>\n",
              "      <th>Пол</th>\n",
              "      <th>Возраст</th>\n",
              "      <th>Зарплата</th>\n",
              "      <th>Члены семьи</th>\n",
              "      <th>Страховые выплаты</th>\n",
              "    </tr>\n",
              "  </thead>\n",
              "  <tbody>\n",
              "    <tr>\n",
              "      <th>0</th>\n",
              "      <td>1</td>\n",
              "      <td>41.0</td>\n",
              "      <td>49600.0</td>\n",
              "      <td>1</td>\n",
              "      <td>0</td>\n",
              "    </tr>\n",
              "    <tr>\n",
              "      <th>1</th>\n",
              "      <td>0</td>\n",
              "      <td>46.0</td>\n",
              "      <td>38000.0</td>\n",
              "      <td>1</td>\n",
              "      <td>1</td>\n",
              "    </tr>\n",
              "    <tr>\n",
              "      <th>2</th>\n",
              "      <td>0</td>\n",
              "      <td>29.0</td>\n",
              "      <td>21000.0</td>\n",
              "      <td>0</td>\n",
              "      <td>0</td>\n",
              "    </tr>\n",
              "    <tr>\n",
              "      <th>3</th>\n",
              "      <td>0</td>\n",
              "      <td>21.0</td>\n",
              "      <td>41700.0</td>\n",
              "      <td>2</td>\n",
              "      <td>0</td>\n",
              "    </tr>\n",
              "    <tr>\n",
              "      <th>4</th>\n",
              "      <td>1</td>\n",
              "      <td>28.0</td>\n",
              "      <td>26100.0</td>\n",
              "      <td>0</td>\n",
              "      <td>0</td>\n",
              "    </tr>\n",
              "    <tr>\n",
              "      <th>...</th>\n",
              "      <td>...</td>\n",
              "      <td>...</td>\n",
              "      <td>...</td>\n",
              "      <td>...</td>\n",
              "      <td>...</td>\n",
              "    </tr>\n",
              "    <tr>\n",
              "      <th>4842</th>\n",
              "      <td>0</td>\n",
              "      <td>28.0</td>\n",
              "      <td>35700.0</td>\n",
              "      <td>2</td>\n",
              "      <td>0</td>\n",
              "    </tr>\n",
              "    <tr>\n",
              "      <th>4843</th>\n",
              "      <td>0</td>\n",
              "      <td>34.0</td>\n",
              "      <td>52400.0</td>\n",
              "      <td>1</td>\n",
              "      <td>0</td>\n",
              "    </tr>\n",
              "    <tr>\n",
              "      <th>4844</th>\n",
              "      <td>0</td>\n",
              "      <td>20.0</td>\n",
              "      <td>33900.0</td>\n",
              "      <td>2</td>\n",
              "      <td>0</td>\n",
              "    </tr>\n",
              "    <tr>\n",
              "      <th>4845</th>\n",
              "      <td>1</td>\n",
              "      <td>22.0</td>\n",
              "      <td>32700.0</td>\n",
              "      <td>3</td>\n",
              "      <td>0</td>\n",
              "    </tr>\n",
              "    <tr>\n",
              "      <th>4846</th>\n",
              "      <td>1</td>\n",
              "      <td>28.0</td>\n",
              "      <td>40600.0</td>\n",
              "      <td>1</td>\n",
              "      <td>0</td>\n",
              "    </tr>\n",
              "  </tbody>\n",
              "</table>\n",
              "<p>4847 rows × 5 columns</p>\n",
              "</div>"
            ],
            "text/plain": [
              "      Пол  Возраст  Зарплата  Члены семьи  Страховые выплаты\n",
              "0       1     41.0   49600.0            1                  0\n",
              "1       0     46.0   38000.0            1                  1\n",
              "2       0     29.0   21000.0            0                  0\n",
              "3       0     21.0   41700.0            2                  0\n",
              "4       1     28.0   26100.0            0                  0\n",
              "...   ...      ...       ...          ...                ...\n",
              "4842    0     28.0   35700.0            2                  0\n",
              "4843    0     34.0   52400.0            1                  0\n",
              "4844    0     20.0   33900.0            2                  0\n",
              "4845    1     22.0   32700.0            3                  0\n",
              "4846    1     28.0   40600.0            1                  0\n",
              "\n",
              "[4847 rows x 5 columns]"
            ]
          },
          "execution_count": 6,
          "metadata": {},
          "output_type": "execute_result"
        }
      ],
      "source": [
        "data.drop_duplicates().reset_index(drop= True)"
      ]
    },
    {
      "cell_type": "markdown",
      "metadata": {
        "id": "bXNKLXVHdHHj"
      },
      "source": [
        "##### Вывод\n",
        "\n",
        "    Датасет состоит из 5000 строк и 5 столбцов\n",
        "    Целевой признак: Страховые выплаты\n",
        "    Признаки: Пол, Возраст, Зарплата, Члены семьи\n",
        "    Аномальных значений нет\n",
        "    Дубликаты удалены."
      ]
    },
    {
      "cell_type": "code",
      "execution_count": null,
      "metadata": {
        "id": "kwcOL7NjdHHj",
        "outputId": "548b4d85-e758-4e20-c36c-cca2811508d8"
      },
      "outputs": [
        {
          "data": {
            "text/html": [
              "<div>\n",
              "<style scoped>\n",
              "    .dataframe tbody tr th:only-of-type {\n",
              "        vertical-align: middle;\n",
              "    }\n",
              "\n",
              "    .dataframe tbody tr th {\n",
              "        vertical-align: top;\n",
              "    }\n",
              "\n",
              "    .dataframe thead th {\n",
              "        text-align: right;\n",
              "    }\n",
              "</style>\n",
              "<table border=\"1\" class=\"dataframe\">\n",
              "  <thead>\n",
              "    <tr style=\"text-align: right;\">\n",
              "      <th></th>\n",
              "      <th>Пол</th>\n",
              "      <th>Возраст</th>\n",
              "      <th>Зарплата</th>\n",
              "      <th>Члены семьи</th>\n",
              "      <th>Страховые выплаты</th>\n",
              "    </tr>\n",
              "  </thead>\n",
              "  <tbody>\n",
              "    <tr>\n",
              "      <th>count</th>\n",
              "      <td>5000.000000</td>\n",
              "      <td>5000.000000</td>\n",
              "      <td>5000.000000</td>\n",
              "      <td>5000.000000</td>\n",
              "      <td>5000.000000</td>\n",
              "    </tr>\n",
              "    <tr>\n",
              "      <th>mean</th>\n",
              "      <td>0.499000</td>\n",
              "      <td>30.952800</td>\n",
              "      <td>39916.360000</td>\n",
              "      <td>1.194200</td>\n",
              "      <td>0.148000</td>\n",
              "    </tr>\n",
              "    <tr>\n",
              "      <th>std</th>\n",
              "      <td>0.500049</td>\n",
              "      <td>8.440807</td>\n",
              "      <td>9900.083569</td>\n",
              "      <td>1.091387</td>\n",
              "      <td>0.463183</td>\n",
              "    </tr>\n",
              "    <tr>\n",
              "      <th>min</th>\n",
              "      <td>0.000000</td>\n",
              "      <td>18.000000</td>\n",
              "      <td>5300.000000</td>\n",
              "      <td>0.000000</td>\n",
              "      <td>0.000000</td>\n",
              "    </tr>\n",
              "    <tr>\n",
              "      <th>25%</th>\n",
              "      <td>0.000000</td>\n",
              "      <td>24.000000</td>\n",
              "      <td>33300.000000</td>\n",
              "      <td>0.000000</td>\n",
              "      <td>0.000000</td>\n",
              "    </tr>\n",
              "    <tr>\n",
              "      <th>50%</th>\n",
              "      <td>0.000000</td>\n",
              "      <td>30.000000</td>\n",
              "      <td>40200.000000</td>\n",
              "      <td>1.000000</td>\n",
              "      <td>0.000000</td>\n",
              "    </tr>\n",
              "    <tr>\n",
              "      <th>75%</th>\n",
              "      <td>1.000000</td>\n",
              "      <td>37.000000</td>\n",
              "      <td>46600.000000</td>\n",
              "      <td>2.000000</td>\n",
              "      <td>0.000000</td>\n",
              "    </tr>\n",
              "    <tr>\n",
              "      <th>max</th>\n",
              "      <td>1.000000</td>\n",
              "      <td>65.000000</td>\n",
              "      <td>79000.000000</td>\n",
              "      <td>6.000000</td>\n",
              "      <td>5.000000</td>\n",
              "    </tr>\n",
              "  </tbody>\n",
              "</table>\n",
              "</div>"
            ],
            "text/plain": [
              "               Пол      Возраст      Зарплата  Члены семьи  Страховые выплаты\n",
              "count  5000.000000  5000.000000   5000.000000  5000.000000        5000.000000\n",
              "mean      0.499000    30.952800  39916.360000     1.194200           0.148000\n",
              "std       0.500049     8.440807   9900.083569     1.091387           0.463183\n",
              "min       0.000000    18.000000   5300.000000     0.000000           0.000000\n",
              "25%       0.000000    24.000000  33300.000000     0.000000           0.000000\n",
              "50%       0.000000    30.000000  40200.000000     1.000000           0.000000\n",
              "75%       1.000000    37.000000  46600.000000     2.000000           0.000000\n",
              "max       1.000000    65.000000  79000.000000     6.000000           5.000000"
            ]
          },
          "execution_count": 7,
          "metadata": {},
          "output_type": "execute_result"
        }
      ],
      "source": [
        "data.describe()"
      ]
    },
    {
      "cell_type": "code",
      "execution_count": null,
      "metadata": {
        "id": "phDDMpkGdHHk",
        "outputId": "69b567b4-052e-45e5-8c35-b0418dd50321"
      },
      "outputs": [
        {
          "data": {
            "text/html": [
              "<div>\n",
              "<style scoped>\n",
              "    .dataframe tbody tr th:only-of-type {\n",
              "        vertical-align: middle;\n",
              "    }\n",
              "\n",
              "    .dataframe tbody tr th {\n",
              "        vertical-align: top;\n",
              "    }\n",
              "\n",
              "    .dataframe thead th {\n",
              "        text-align: right;\n",
              "    }\n",
              "</style>\n",
              "<table border=\"1\" class=\"dataframe\">\n",
              "  <thead>\n",
              "    <tr style=\"text-align: right;\">\n",
              "      <th></th>\n",
              "      <th>Пол</th>\n",
              "      <th>Возраст</th>\n",
              "      <th>Зарплата</th>\n",
              "      <th>Члены семьи</th>\n",
              "      <th>Страховые выплаты</th>\n",
              "    </tr>\n",
              "  </thead>\n",
              "  <tbody>\n",
              "    <tr>\n",
              "      <th>Пол</th>\n",
              "      <td>1.000000</td>\n",
              "      <td>0.002074</td>\n",
              "      <td>0.014910</td>\n",
              "      <td>-0.008991</td>\n",
              "      <td>0.010140</td>\n",
              "    </tr>\n",
              "    <tr>\n",
              "      <th>Возраст</th>\n",
              "      <td>0.002074</td>\n",
              "      <td>1.000000</td>\n",
              "      <td>-0.019093</td>\n",
              "      <td>-0.006692</td>\n",
              "      <td>0.651030</td>\n",
              "    </tr>\n",
              "    <tr>\n",
              "      <th>Зарплата</th>\n",
              "      <td>0.014910</td>\n",
              "      <td>-0.019093</td>\n",
              "      <td>1.000000</td>\n",
              "      <td>-0.030296</td>\n",
              "      <td>-0.014963</td>\n",
              "    </tr>\n",
              "    <tr>\n",
              "      <th>Члены семьи</th>\n",
              "      <td>-0.008991</td>\n",
              "      <td>-0.006692</td>\n",
              "      <td>-0.030296</td>\n",
              "      <td>1.000000</td>\n",
              "      <td>-0.036290</td>\n",
              "    </tr>\n",
              "    <tr>\n",
              "      <th>Страховые выплаты</th>\n",
              "      <td>0.010140</td>\n",
              "      <td>0.651030</td>\n",
              "      <td>-0.014963</td>\n",
              "      <td>-0.036290</td>\n",
              "      <td>1.000000</td>\n",
              "    </tr>\n",
              "  </tbody>\n",
              "</table>\n",
              "</div>"
            ],
            "text/plain": [
              "                        Пол   Возраст  Зарплата  Члены семьи  \\\n",
              "Пол                1.000000  0.002074  0.014910    -0.008991   \n",
              "Возраст            0.002074  1.000000 -0.019093    -0.006692   \n",
              "Зарплата           0.014910 -0.019093  1.000000    -0.030296   \n",
              "Члены семьи       -0.008991 -0.006692 -0.030296     1.000000   \n",
              "Страховые выплаты  0.010140  0.651030 -0.014963    -0.036290   \n",
              "\n",
              "                   Страховые выплаты  \n",
              "Пол                         0.010140  \n",
              "Возраст                     0.651030  \n",
              "Зарплата                   -0.014963  \n",
              "Члены семьи                -0.036290  \n",
              "Страховые выплаты           1.000000  "
            ]
          },
          "execution_count": 8,
          "metadata": {},
          "output_type": "execute_result"
        }
      ],
      "source": [
        "data.corr()"
      ]
    },
    {
      "cell_type": "markdown",
      "metadata": {
        "id": "KX_3yg3qdHHl"
      },
      "source": [
        "## Умножение матриц"
      ]
    },
    {
      "cell_type": "markdown",
      "metadata": {
        "id": "4XTtRUCgdHHl"
      },
      "source": [
        "В этом задании вы можете записывать формулы в *Jupyter Notebook.*\n",
        "\n",
        "Чтобы записать формулу внутри текста, окружите её символами доллара \\\\$; если снаружи —  двойными символами \\\\$\\\\$. Эти формулы записываются на языке вёрстки *LaTeX.* \n",
        "\n",
        "Для примера мы записали формулы линейной регрессии. Можете их скопировать и отредактировать, чтобы решить задачу.\n",
        "\n",
        "Работать в *LaTeX* необязательно."
      ]
    },
    {
      "cell_type": "markdown",
      "metadata": {
        "id": "oW3aC0uJdHHl"
      },
      "source": [
        "Обозначения:\n",
        "\n",
        "- $X$ — матрица признаков (нулевой столбец состоит из единиц)\n",
        "\n",
        "- $y$ — вектор целевого признака\n",
        "\n",
        "- $P$ — матрица, на которую умножаются признаки\n",
        "\n",
        "- $w$ — вектор весов линейной регрессии (нулевой элемент равен сдвигу)"
      ]
    },
    {
      "cell_type": "markdown",
      "metadata": {
        "id": "uQZndmtddHHm"
      },
      "source": [
        "Предсказания:\n",
        "\n",
        "$$\n",
        "a = Xw\n",
        "$$\n",
        "\n",
        "Задача обучения:\n",
        "\n",
        "$$\n",
        "w = \\arg\\min_w MSE(Xw, y)\n",
        "$$\n",
        "\n",
        "Формула обучения:\n",
        "\n",
        "$$\n",
        "w = (X^T X)^{-1} X^T y\n",
        "$$"
      ]
    },
    {
      "cell_type": "markdown",
      "metadata": {
        "id": "jhT-zu2SdHHm"
      },
      "source": [
        "**Ответ:** Качество линейной регресии не изменится.\n",
        "\n",
        "**Обоснование:** \n",
        "\n",
        "Признаки умножаем на обратимую матрицу $P$ :\n",
        "\n",
        "$$\n",
        "w_1 = ((XP)^T XP)^{-1} (XP)^T y\n",
        "$$\n",
        "\n",
        "Транспонированное произведение матриц равно произведению транспонированных матриц, взятых в обратном порядке\n",
        "\n",
        "$$\n",
        "w_1 = (P^T X^T XP)^{-1} P^T X^T y\n",
        "$$\n",
        "\n",
        "Раскроем скобки $(P^T X^T XP)$\n",
        "\n",
        "$$\n",
        "w_1 = P^{-1} (X^T X)^{-1} (P^T)^{-1} P^T X^T y\n",
        "$$\n",
        "\n",
        "Так как $P$ по условию обратимая, то произведение  равно единичной матрице $E$\n",
        "\n",
        "$$\n",
        "w_1 = P^{-1} (X^T X)^{-1} E X^T y\n",
        "$$\n",
        "\n",
        "Умножение любой матрицы на единичную матрицыу равно этой матрице\n",
        "\n",
        "$$\n",
        "w_1 = P^{-1} (X^T X)^{-1} X^T y\n",
        "$$\n",
        "\n",
        "Подставим в формулу $a = Xw$ значение $w_1$, чтобы вычислить предсказания модели $a_1$:\n",
        "\n",
        "$$\n",
        "a_1 = XPw_1\n",
        "$$\n",
        "\n",
        "$$\n",
        "a_1 = XP P^{-1} (X^T X)^{-1} X^T y\n",
        "$$\n",
        "\n",
        "Так как $P$ по условию обратимая, то произведение $PP^{-1}$ снова равно $E$:\n",
        "\n",
        "$$\n",
        "a_1 = X (X^T X)^{-1} X^T y\n",
        "$$\n",
        "\n",
        "$$\n",
        "a_1 = Xw\n",
        "$$"
      ]
    },
    {
      "cell_type": "markdown",
      "metadata": {
        "id": "cmlr18kedHHn"
      },
      "source": [
        "## Алгоритм преобразования"
      ]
    },
    {
      "cell_type": "markdown",
      "metadata": {
        "id": "rgV35pI_dHHn"
      },
      "source": [
        "**Алгоритм**\n",
        "\n",
        "Запишем в переменные признаки и целевой признак\n",
        "\n",
        "Создадим случайную матрицу размерностью n, где n- ширина матрицы признаков\n",
        "\n",
        "Проверим матрицу на обратимость.\n",
        "\n",
        "Обучим модель без преобразования\n",
        "\n",
        "Получим метрику R2 на модели без преобразования\n",
        "\n",
        "Умножим матрицу признаков на случайную обратимую матрицу\n",
        "\n",
        "Обучим модель на преобразованных данных\n",
        "\n",
        "Получим мерику R2 на преобразованных данных\n",
        "\n",
        "Сравним метрики\n",
        "\n",
        "**Обоснование:** \n",
        "\n",
        "Мы умножим наши признаки на квадратную рандомную матрицу и сравним качество линейной регресии на двух матрицах. "
      ]
    },
    {
      "cell_type": "markdown",
      "metadata": {
        "id": "jQKO25kudHHn"
      },
      "source": [
        "## Проверка алгоритма"
      ]
    },
    {
      "cell_type": "code",
      "execution_count": null,
      "metadata": {
        "id": "8dlLk6DpdHHo"
      },
      "outputs": [],
      "source": [
        "features = data.drop('Страховые выплаты', axis=1).values\n",
        "target = data['Страховые выплаты'].values"
      ]
    },
    {
      "cell_type": "code",
      "execution_count": null,
      "metadata": {
        "id": "Mz_fP1INdHHo",
        "outputId": "a49d1243-5b5f-4e05-be49-4534eaf86af3"
      },
      "outputs": [
        {
          "name": "stdout",
          "output_type": "stream",
          "text": [
            "[[ 0.13100901 -0.25180398 -0.49672563  0.79170771]\n",
            " [ 1.27331382  0.33379016  0.4944544  -0.73047373]\n",
            " [ 2.22062515 -0.72885595  0.13042786  0.2965803 ]\n",
            " [-0.61000713  0.39058548  0.52020235 -0.1118882 ]]\n"
          ]
        }
      ],
      "source": [
        "matrix_rnd = np.random.normal(size =(4,4))\n",
        "print(matrix_rnd)"
      ]
    },
    {
      "cell_type": "code",
      "execution_count": null,
      "metadata": {
        "id": "qk0tn8dRdHHo",
        "outputId": "88351bfb-ef45-4891-87f3-eeea7bfb9343"
      },
      "outputs": [
        {
          "name": "stdout",
          "output_type": "stream",
          "text": [
            "[[ 0.52695384  0.60416701  0.04984234 -0.08358745]\n",
            " [ 2.07815993  1.76803839 -0.98508928  0.55083186]\n",
            " [-0.63273192 -0.60064594  0.84263374  1.67779894]\n",
            " [ 1.43987364  0.08550067  0.20712011  1.24169323]]\n"
          ]
        }
      ],
      "source": [
        "matrix_inv = np.linalg.inv(matrix_rnd)\n",
        "print(matrix_inv)"
      ]
    },
    {
      "cell_type": "code",
      "execution_count": null,
      "metadata": {
        "id": "tPMDJBlMdHHp",
        "outputId": "a10ea57f-ce06-402c-e201-e0486efdfef7"
      },
      "outputs": [
        {
          "name": "stdout",
          "output_type": "stream",
          "text": [
            "0.42494550286668\n"
          ]
        }
      ],
      "source": [
        "model = LinearRegression()\n",
        "model.fit(features, target)\n",
        "predictions = model.predict(features)\n",
        "print(r2_score(target, predictions))"
      ]
    },
    {
      "cell_type": "code",
      "execution_count": null,
      "metadata": {
        "id": "lGY3AvOddHHp"
      },
      "outputs": [],
      "source": [
        "matrix_new = features @ matrix_rnd"
      ]
    },
    {
      "cell_type": "code",
      "execution_count": null,
      "metadata": {
        "id": "Zca_ZUJjdHHp",
        "outputId": "632dcf68-24c9-4325-c800-50ec8a2f78b6"
      },
      "outputs": [
        {
          "name": "stdout",
          "output_type": "stream",
          "text": [
            "0.4249455028666739\n"
          ]
        }
      ],
      "source": [
        "model.fit(matrix_new, target)\n",
        "predictions = model.predict(matrix_new)\n",
        "print(r2_score(target, predictions))"
      ]
    },
    {
      "cell_type": "markdown",
      "metadata": {
        "id": "Prp4XQHGdHHq"
      },
      "source": [
        "##### Вывод:\n",
        "\n",
        "Качество линейной регрессии практически не изменилось. Алгоритм преобразования данных работает."
      ]
    }
  ],
  "metadata": {
    "ExecuteTimeLog": [
      {
        "duration": 46,
        "start_time": "2022-04-25T14:43:26.519Z"
      },
      {
        "duration": 1168,
        "start_time": "2022-04-25T14:43:31.662Z"
      },
      {
        "duration": 18,
        "start_time": "2022-04-25T14:43:32.832Z"
      },
      {
        "duration": 19,
        "start_time": "2022-04-25T14:43:32.852Z"
      },
      {
        "duration": 11,
        "start_time": "2022-04-25T14:46:42.791Z"
      },
      {
        "duration": 7,
        "start_time": "2022-04-25T14:48:03.078Z"
      },
      {
        "duration": 1530,
        "start_time": "2022-04-27T15:25:38.040Z"
      },
      {
        "duration": 28,
        "start_time": "2022-04-27T15:25:39.573Z"
      },
      {
        "duration": 24,
        "start_time": "2022-04-27T15:25:39.603Z"
      },
      {
        "duration": 28,
        "start_time": "2022-04-27T15:25:39.630Z"
      },
      {
        "duration": 16,
        "start_time": "2022-04-27T15:25:39.660Z"
      },
      {
        "duration": 39,
        "start_time": "2022-04-27T15:25:39.678Z"
      },
      {
        "duration": 7,
        "start_time": "2022-04-27T15:25:39.719Z"
      },
      {
        "duration": 48,
        "start_time": "2022-04-27T15:25:39.728Z"
      },
      {
        "duration": 22,
        "start_time": "2022-04-27T15:25:39.779Z"
      },
      {
        "duration": 148,
        "start_time": "2022-04-27T15:25:39.804Z"
      },
      {
        "duration": 112,
        "start_time": "2022-04-27T15:25:39.955Z"
      },
      {
        "duration": 82,
        "start_time": "2022-04-27T15:25:40.069Z"
      },
      {
        "duration": 1137,
        "start_time": "2022-04-28T14:29:11.711Z"
      },
      {
        "duration": 38,
        "start_time": "2022-04-28T14:29:12.850Z"
      },
      {
        "duration": 15,
        "start_time": "2022-04-28T14:29:12.889Z"
      },
      {
        "duration": 10,
        "start_time": "2022-04-28T14:29:12.906Z"
      },
      {
        "duration": 8,
        "start_time": "2022-04-28T14:29:12.917Z"
      },
      {
        "duration": 13,
        "start_time": "2022-04-28T14:29:12.927Z"
      },
      {
        "duration": 19,
        "start_time": "2022-04-28T14:29:12.942Z"
      },
      {
        "duration": 3,
        "start_time": "2022-04-28T14:29:12.963Z"
      },
      {
        "duration": 15,
        "start_time": "2022-04-28T14:29:12.968Z"
      },
      {
        "duration": 11,
        "start_time": "2022-04-28T14:29:12.985Z"
      },
      {
        "duration": 156,
        "start_time": "2022-04-28T14:29:12.998Z"
      },
      {
        "duration": 3,
        "start_time": "2022-04-28T14:29:13.156Z"
      },
      {
        "duration": 101,
        "start_time": "2022-04-28T14:29:13.162Z"
      },
      {
        "duration": 10,
        "start_time": "2022-04-28T14:31:19.843Z"
      },
      {
        "duration": 1214,
        "start_time": "2022-04-28T14:31:43.846Z"
      },
      {
        "duration": 13,
        "start_time": "2022-04-28T14:31:45.062Z"
      },
      {
        "duration": 22,
        "start_time": "2022-04-28T14:31:45.077Z"
      },
      {
        "duration": 14,
        "start_time": "2022-04-28T14:31:45.101Z"
      },
      {
        "duration": 7,
        "start_time": "2022-04-28T14:31:45.116Z"
      },
      {
        "duration": 36,
        "start_time": "2022-04-28T14:31:45.124Z"
      },
      {
        "duration": 29,
        "start_time": "2022-04-28T14:31:45.162Z"
      },
      {
        "duration": 13,
        "start_time": "2022-04-28T14:31:45.193Z"
      },
      {
        "duration": 12,
        "start_time": "2022-04-28T14:31:45.207Z"
      },
      {
        "duration": 5,
        "start_time": "2022-04-28T14:31:45.222Z"
      },
      {
        "duration": 35,
        "start_time": "2022-04-28T14:31:45.229Z"
      },
      {
        "duration": 96,
        "start_time": "2022-04-28T14:31:45.266Z"
      },
      {
        "duration": 5,
        "start_time": "2022-04-28T14:31:45.454Z"
      },
      {
        "duration": 16,
        "start_time": "2022-04-28T14:31:45.461Z"
      }
    ],
    "kernelspec": {
      "display_name": "Python 3 (ipykernel)",
      "language": "python",
      "name": "python3"
    },
    "language_info": {
      "codemirror_mode": {
        "name": "ipython",
        "version": 3
      },
      "file_extension": ".py",
      "mimetype": "text/x-python",
      "name": "python",
      "nbconvert_exporter": "python",
      "pygments_lexer": "ipython3",
      "version": "3.9.5"
    },
    "toc": {
      "base_numbering": 1,
      "nav_menu": {},
      "number_sections": false,
      "sideBar": true,
      "skip_h1_title": true,
      "title_cell": "Содержание",
      "title_sidebar": "Contents",
      "toc_cell": true,
      "toc_position": {},
      "toc_section_display": true,
      "toc_window_display": true
    },
    "colab": {
      "provenance": []
    }
  },
  "nbformat": 4,
  "nbformat_minor": 0
}