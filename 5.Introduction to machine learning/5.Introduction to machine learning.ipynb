{
  "cells": [
    {
      "cell_type": "markdown",
      "metadata": {
        "id": "CGZmNnwIx-WT"
      },
      "source": [
        "# Рекомендация тарифов"
      ]
    },
    {
      "cell_type": "markdown",
      "metadata": {
        "id": "-yNVYct5x-WT"
      },
      "source": [
        "Цель - построить модель для задачи классификации, которая выберет подходящий тариф и  довести долю правильных ответов до 0.75.\n"
      ]
    },
    {
      "cell_type": "markdown",
      "metadata": {
        "id": "KczPC5_Kx-WU"
      },
      "source": [
        "### Описание данных\n",
        "\n",
        "    сalls — количество звонков,\n",
        "    minutes — суммарная длительность звонков в минутах,\n",
        "    messages — количество sms-сообщений,\n",
        "    mb_used — израсходованный интернет-трафик в Мб,\n",
        "    is_ultra — каким тарифом пользовался в течение месяца («Ультра» — 1, «Смарт» — 0)."
      ]
    },
    {
      "cell_type": "markdown",
      "metadata": {
        "id": "7L4lIUm0x-WU"
      },
      "source": [
        "## Откроем и изучим файл"
      ]
    },
    {
      "cell_type": "code",
      "execution_count": null,
      "metadata": {
        "id": "SdaibWLDx-WV"
      },
      "outputs": [],
      "source": [
        "import pandas as pd\n",
        "from sklearn.tree import DecisionTreeClassifier\n",
        "from sklearn.metrics import accuracy_score\n",
        "from sklearn.tree import DecisionTreeRegressor\n",
        "from sklearn.ensemble import RandomForestRegressor\n",
        "from sklearn.ensemble import RandomForestClassifier\n",
        "from sklearn.linear_model import LogisticRegression\n",
        "from sklearn.linear_model import LinearRegression\n",
        "from sklearn.model_selection import train_test_split\n",
        "from sklearn.metrics import mean_squared_error\n",
        "from pandas.plotting import scatter_matrix\n",
        "import matplotlib.pyplot as plt\n",
        "from sklearn.dummy import DummyClassifier\n",
        "from warnings import simplefilter\n",
        "# ignore all future warnings\n",
        "simplefilter(action='ignore', category=FutureWarning)"
      ]
    },
    {
      "cell_type": "code",
      "execution_count": null,
      "metadata": {
        "id": "w41XUGdjx-WY"
      },
      "outputs": [],
      "source": [
        "df = pd.read_csv('/datasets/users_behavior.csv')"
      ]
    },
    {
      "cell_type": "code",
      "execution_count": null,
      "metadata": {
        "id": "k5it7nQnx-WZ",
        "outputId": "f0a9c518-b3a1-4010-9db5-128326b91143"
      },
      "outputs": [
        {
          "data": {
            "text/html": [
              "<div>\n",
              "<style scoped>\n",
              "    .dataframe tbody tr th:only-of-type {\n",
              "        vertical-align: middle;\n",
              "    }\n",
              "\n",
              "    .dataframe tbody tr th {\n",
              "        vertical-align: top;\n",
              "    }\n",
              "\n",
              "    .dataframe thead th {\n",
              "        text-align: right;\n",
              "    }\n",
              "</style>\n",
              "<table border=\"1\" class=\"dataframe\">\n",
              "  <thead>\n",
              "    <tr style=\"text-align: right;\">\n",
              "      <th></th>\n",
              "      <th>calls</th>\n",
              "      <th>minutes</th>\n",
              "      <th>messages</th>\n",
              "      <th>mb_used</th>\n",
              "      <th>is_ultra</th>\n",
              "    </tr>\n",
              "  </thead>\n",
              "  <tbody>\n",
              "    <tr>\n",
              "      <td>0</td>\n",
              "      <td>40.0</td>\n",
              "      <td>311.90</td>\n",
              "      <td>83.0</td>\n",
              "      <td>19915.42</td>\n",
              "      <td>0</td>\n",
              "    </tr>\n",
              "    <tr>\n",
              "      <td>1</td>\n",
              "      <td>85.0</td>\n",
              "      <td>516.75</td>\n",
              "      <td>56.0</td>\n",
              "      <td>22696.96</td>\n",
              "      <td>0</td>\n",
              "    </tr>\n",
              "    <tr>\n",
              "      <td>2</td>\n",
              "      <td>77.0</td>\n",
              "      <td>467.66</td>\n",
              "      <td>86.0</td>\n",
              "      <td>21060.45</td>\n",
              "      <td>0</td>\n",
              "    </tr>\n",
              "    <tr>\n",
              "      <td>3</td>\n",
              "      <td>106.0</td>\n",
              "      <td>745.53</td>\n",
              "      <td>81.0</td>\n",
              "      <td>8437.39</td>\n",
              "      <td>1</td>\n",
              "    </tr>\n",
              "    <tr>\n",
              "      <td>4</td>\n",
              "      <td>66.0</td>\n",
              "      <td>418.74</td>\n",
              "      <td>1.0</td>\n",
              "      <td>14502.75</td>\n",
              "      <td>0</td>\n",
              "    </tr>\n",
              "    <tr>\n",
              "      <td>...</td>\n",
              "      <td>...</td>\n",
              "      <td>...</td>\n",
              "      <td>...</td>\n",
              "      <td>...</td>\n",
              "      <td>...</td>\n",
              "    </tr>\n",
              "    <tr>\n",
              "      <td>3209</td>\n",
              "      <td>122.0</td>\n",
              "      <td>910.98</td>\n",
              "      <td>20.0</td>\n",
              "      <td>35124.90</td>\n",
              "      <td>1</td>\n",
              "    </tr>\n",
              "    <tr>\n",
              "      <td>3210</td>\n",
              "      <td>25.0</td>\n",
              "      <td>190.36</td>\n",
              "      <td>0.0</td>\n",
              "      <td>3275.61</td>\n",
              "      <td>0</td>\n",
              "    </tr>\n",
              "    <tr>\n",
              "      <td>3211</td>\n",
              "      <td>97.0</td>\n",
              "      <td>634.44</td>\n",
              "      <td>70.0</td>\n",
              "      <td>13974.06</td>\n",
              "      <td>0</td>\n",
              "    </tr>\n",
              "    <tr>\n",
              "      <td>3212</td>\n",
              "      <td>64.0</td>\n",
              "      <td>462.32</td>\n",
              "      <td>90.0</td>\n",
              "      <td>31239.78</td>\n",
              "      <td>0</td>\n",
              "    </tr>\n",
              "    <tr>\n",
              "      <td>3213</td>\n",
              "      <td>80.0</td>\n",
              "      <td>566.09</td>\n",
              "      <td>6.0</td>\n",
              "      <td>29480.52</td>\n",
              "      <td>1</td>\n",
              "    </tr>\n",
              "  </tbody>\n",
              "</table>\n",
              "<p>3214 rows × 5 columns</p>\n",
              "</div>"
            ],
            "text/plain": [
              "      calls  minutes  messages   mb_used  is_ultra\n",
              "0      40.0   311.90      83.0  19915.42         0\n",
              "1      85.0   516.75      56.0  22696.96         0\n",
              "2      77.0   467.66      86.0  21060.45         0\n",
              "3     106.0   745.53      81.0   8437.39         1\n",
              "4      66.0   418.74       1.0  14502.75         0\n",
              "...     ...      ...       ...       ...       ...\n",
              "3209  122.0   910.98      20.0  35124.90         1\n",
              "3210   25.0   190.36       0.0   3275.61         0\n",
              "3211   97.0   634.44      70.0  13974.06         0\n",
              "3212   64.0   462.32      90.0  31239.78         0\n",
              "3213   80.0   566.09       6.0  29480.52         1\n",
              "\n",
              "[3214 rows x 5 columns]"
            ]
          },
          "execution_count": 3,
          "metadata": {},
          "output_type": "execute_result"
        }
      ],
      "source": [
        "df"
      ]
    },
    {
      "cell_type": "code",
      "execution_count": null,
      "metadata": {
        "id": "x86tjaj4x-Wa",
        "outputId": "8fef8ec8-9697-4f22-ff27-147254d97ddc"
      },
      "outputs": [
        {
          "name": "stdout",
          "output_type": "stream",
          "text": [
            "<class 'pandas.core.frame.DataFrame'>\n",
            "RangeIndex: 3214 entries, 0 to 3213\n",
            "Data columns (total 5 columns):\n",
            "calls       3214 non-null float64\n",
            "minutes     3214 non-null float64\n",
            "messages    3214 non-null float64\n",
            "mb_used     3214 non-null float64\n",
            "is_ultra    3214 non-null int64\n",
            "dtypes: float64(4), int64(1)\n",
            "memory usage: 125.7 KB\n"
          ]
        }
      ],
      "source": [
        "df.info()"
      ]
    },
    {
      "cell_type": "code",
      "execution_count": null,
      "metadata": {
        "scrolled": true,
        "id": "BLo4kCCNx-Wb",
        "outputId": "4fec9e79-f93b-4582-de70-bfe92c605586"
      },
      "outputs": [
        {
          "data": {
            "text/html": [
              "<div>\n",
              "<style scoped>\n",
              "    .dataframe tbody tr th:only-of-type {\n",
              "        vertical-align: middle;\n",
              "    }\n",
              "\n",
              "    .dataframe tbody tr th {\n",
              "        vertical-align: top;\n",
              "    }\n",
              "\n",
              "    .dataframe thead th {\n",
              "        text-align: right;\n",
              "    }\n",
              "</style>\n",
              "<table border=\"1\" class=\"dataframe\">\n",
              "  <thead>\n",
              "    <tr style=\"text-align: right;\">\n",
              "      <th></th>\n",
              "      <th>calls</th>\n",
              "      <th>minutes</th>\n",
              "      <th>messages</th>\n",
              "      <th>mb_used</th>\n",
              "      <th>is_ultra</th>\n",
              "    </tr>\n",
              "  </thead>\n",
              "  <tbody>\n",
              "    <tr>\n",
              "      <td>count</td>\n",
              "      <td>3214.000000</td>\n",
              "      <td>3214.000000</td>\n",
              "      <td>3214.000000</td>\n",
              "      <td>3214.000000</td>\n",
              "      <td>3214.000000</td>\n",
              "    </tr>\n",
              "    <tr>\n",
              "      <td>mean</td>\n",
              "      <td>63.038892</td>\n",
              "      <td>438.208787</td>\n",
              "      <td>38.281269</td>\n",
              "      <td>17207.673836</td>\n",
              "      <td>0.306472</td>\n",
              "    </tr>\n",
              "    <tr>\n",
              "      <td>std</td>\n",
              "      <td>33.236368</td>\n",
              "      <td>234.569872</td>\n",
              "      <td>36.148326</td>\n",
              "      <td>7570.968246</td>\n",
              "      <td>0.461100</td>\n",
              "    </tr>\n",
              "    <tr>\n",
              "      <td>min</td>\n",
              "      <td>0.000000</td>\n",
              "      <td>0.000000</td>\n",
              "      <td>0.000000</td>\n",
              "      <td>0.000000</td>\n",
              "      <td>0.000000</td>\n",
              "    </tr>\n",
              "    <tr>\n",
              "      <td>25%</td>\n",
              "      <td>40.000000</td>\n",
              "      <td>274.575000</td>\n",
              "      <td>9.000000</td>\n",
              "      <td>12491.902500</td>\n",
              "      <td>0.000000</td>\n",
              "    </tr>\n",
              "    <tr>\n",
              "      <td>50%</td>\n",
              "      <td>62.000000</td>\n",
              "      <td>430.600000</td>\n",
              "      <td>30.000000</td>\n",
              "      <td>16943.235000</td>\n",
              "      <td>0.000000</td>\n",
              "    </tr>\n",
              "    <tr>\n",
              "      <td>75%</td>\n",
              "      <td>82.000000</td>\n",
              "      <td>571.927500</td>\n",
              "      <td>57.000000</td>\n",
              "      <td>21424.700000</td>\n",
              "      <td>1.000000</td>\n",
              "    </tr>\n",
              "    <tr>\n",
              "      <td>max</td>\n",
              "      <td>244.000000</td>\n",
              "      <td>1632.060000</td>\n",
              "      <td>224.000000</td>\n",
              "      <td>49745.730000</td>\n",
              "      <td>1.000000</td>\n",
              "    </tr>\n",
              "  </tbody>\n",
              "</table>\n",
              "</div>"
            ],
            "text/plain": [
              "             calls      minutes     messages       mb_used     is_ultra\n",
              "count  3214.000000  3214.000000  3214.000000   3214.000000  3214.000000\n",
              "mean     63.038892   438.208787    38.281269  17207.673836     0.306472\n",
              "std      33.236368   234.569872    36.148326   7570.968246     0.461100\n",
              "min       0.000000     0.000000     0.000000      0.000000     0.000000\n",
              "25%      40.000000   274.575000     9.000000  12491.902500     0.000000\n",
              "50%      62.000000   430.600000    30.000000  16943.235000     0.000000\n",
              "75%      82.000000   571.927500    57.000000  21424.700000     1.000000\n",
              "max     244.000000  1632.060000   224.000000  49745.730000     1.000000"
            ]
          },
          "execution_count": 5,
          "metadata": {},
          "output_type": "execute_result"
        }
      ],
      "source": [
        "df.describe()"
      ]
    },
    {
      "cell_type": "markdown",
      "metadata": {
        "id": "bMzY85lpx-Wb"
      },
      "source": [
        "##### Датасет имеет 5 столбцов и 3214 сторк. Пропусков нет."
      ]
    },
    {
      "cell_type": "markdown",
      "metadata": {
        "id": "7uq6lMdvx-Wc"
      },
      "source": [
        "## Разобьем данные на выборки"
      ]
    },
    {
      "cell_type": "code",
      "execution_count": null,
      "metadata": {
        "id": "4toz8USlx-Wc"
      },
      "outputs": [],
      "source": [
        "features_train = df.drop('is_ultra', axis=1)\n",
        "target_train = df['is_ultra']"
      ]
    },
    {
      "cell_type": "code",
      "execution_count": null,
      "metadata": {
        "id": "ksXFsm3cx-Wc",
        "outputId": "43b6c176-df6d-4618-f6a7-dfabc9155836"
      },
      "outputs": [
        {
          "data": {
            "text/plain": [
              "(1928,)"
            ]
          },
          "metadata": {},
          "output_type": "display_data"
        },
        {
          "data": {
            "text/plain": [
              "(643,)"
            ]
          },
          "metadata": {},
          "output_type": "display_data"
        },
        {
          "data": {
            "text/plain": [
              "(643,)"
            ]
          },
          "metadata": {},
          "output_type": "display_data"
        }
      ],
      "source": [
        "features_train, features_valid, target_train, target_valid = train_test_split(features_train, target_train,\n",
        "                                                                             stratify=target_train, test_size=0.4,\n",
        "                                                                             random_state=12345)\n",
        "features_valid, features_test, target_valid, target_test = train_test_split(features_valid, target_valid,\n",
        "                                                                           stratify=target_valid, test_size=0.5,\n",
        "                                                                           random_state=12345)\n",
        "display(target_train.shape, target_valid.shape, target_test.shape)"
      ]
    },
    {
      "cell_type": "markdown",
      "metadata": {
        "id": "SV2-wkRVx-Wd"
      },
      "source": [
        "Разбили датасет на 3 выборки: обучающую, валидационную и тестовую."
      ]
    },
    {
      "cell_type": "markdown",
      "metadata": {
        "id": "J5G3WS3Ex-Wd"
      },
      "source": [
        "## Исследуем модели"
      ]
    },
    {
      "cell_type": "code",
      "execution_count": null,
      "metadata": {
        "id": "u44WZMg-x-Wd",
        "outputId": "149f6299-4668-4ee2-8490-83090d5ce9e7"
      },
      "outputs": [
        {
          "name": "stdout",
          "output_type": "stream",
          "text": [
            "Accuracy лучшей модели дерева решений: 0.80248833592535\n"
          ]
        }
      ],
      "source": [
        "best_model = None\n",
        "best_result = 0\n",
        "for depth in range(1, 11):\n",
        "    model_decision = DecisionTreeClassifier(random_state=12345, max_depth=depth) \n",
        "    model_decision.fit(features_train, target_train) \n",
        "    predictions = model_decision.predict(features_valid)\n",
        "    result = accuracy_score(target_valid, predictions) \n",
        "    if result > best_result:\n",
        "        best_model_decision = model_decision\n",
        "        best_result = result\n",
        "print(\"Accuracy лучшей модели дерева решений:\", best_result)"
      ]
    },
    {
      "cell_type": "code",
      "execution_count": null,
      "metadata": {
        "id": "hg0Kjgsex-We",
        "outputId": "e052813e-fbd8-4e74-c6fc-2a52191107c1"
      },
      "outputs": [
        {
          "name": "stdout",
          "output_type": "stream",
          "text": [
            "Accuracy наилучшей модели случайного леса на валидационной выборке: 0.8211508553654744\n"
          ]
        }
      ],
      "source": [
        "best_model = None\n",
        "best_result = 0\n",
        "best_est = 0\n",
        "best_depth = 0\n",
        "for est in range(10, 51, 10):\n",
        "    for depth in range (1, 11):\n",
        "        model_forest = RandomForestClassifier(random_state=12345, n_estimators=est, max_depth=depth)\n",
        "        model_forest.fit(features_train, target_train) \n",
        "        predictions_valid = model_forest.predict(features_valid) \n",
        "        result = accuracy_score(target_valid, predictions_valid)\n",
        "        if result > best_result:\n",
        "            best_model_forest = model_forest\n",
        "            best_result = result\n",
        "            best_est = est\n",
        "            best_depth = depth\n",
        "\n",
        "print(\"Accuracy наилучшей модели случайного леса на валидационной выборке:\", best_result)"
      ]
    },
    {
      "cell_type": "code",
      "execution_count": null,
      "metadata": {
        "id": "l80qv4nSx-Wf",
        "outputId": "6fa8b098-ef4f-4637-f8d0-9bd46b8cd759"
      },
      "outputs": [
        {
          "name": "stdout",
          "output_type": "stream",
          "text": [
            "Accuracy модели логистической регрессии на валидационной выборке: 0.71850699844479\n"
          ]
        }
      ],
      "source": [
        "model_logistic = LogisticRegression(random_state=12345)\n",
        "model_logistic.fit(features_train, target_train) \n",
        "predictions = model_logistic.predict(features_valid) \n",
        "result = accuracy_score(target_valid, predictions) \n",
        "\n",
        "print(\"Accuracy модели логистической регрессии на валидационной выборке:\", result)"
      ]
    },
    {
      "cell_type": "code",
      "execution_count": null,
      "metadata": {
        "id": "62nkxxdfx-Wf",
        "outputId": "a6f399a5-7e4a-45f0-b473-e92375fa021a"
      },
      "outputs": [
        {
          "data": {
            "text/plain": [
              "DecisionTreeClassifier(class_weight=None, criterion='gini', max_depth=8,\n",
              "                       max_features=None, max_leaf_nodes=None,\n",
              "                       min_impurity_decrease=0.0, min_impurity_split=None,\n",
              "                       min_samples_leaf=1, min_samples_split=2,\n",
              "                       min_weight_fraction_leaf=0.0, presort=False,\n",
              "                       random_state=12345, splitter='best')"
            ]
          },
          "execution_count": 11,
          "metadata": {},
          "output_type": "execute_result"
        }
      ],
      "source": [
        "best_model_decision.fit(pd.concat([features_train, features_valid]), pd.concat([target_train, target_valid]))"
      ]
    },
    {
      "cell_type": "code",
      "execution_count": null,
      "metadata": {
        "id": "XeUf1s5fx-Wg",
        "outputId": "02a80f39-566a-477d-c0bf-192e850d0aab"
      },
      "outputs": [
        {
          "data": {
            "text/plain": [
              "RandomForestClassifier(bootstrap=True, class_weight=None, criterion='gini',\n",
              "                       max_depth=9, max_features='auto', max_leaf_nodes=None,\n",
              "                       min_impurity_decrease=0.0, min_impurity_split=None,\n",
              "                       min_samples_leaf=1, min_samples_split=2,\n",
              "                       min_weight_fraction_leaf=0.0, n_estimators=40,\n",
              "                       n_jobs=None, oob_score=False, random_state=12345,\n",
              "                       verbose=0, warm_start=False)"
            ]
          },
          "execution_count": 12,
          "metadata": {},
          "output_type": "execute_result"
        }
      ],
      "source": [
        "best_model_forest.fit(pd.concat([features_train, features_valid]), pd.concat([target_train, target_valid]))"
      ]
    },
    {
      "cell_type": "code",
      "execution_count": null,
      "metadata": {
        "id": "PDTKkpRIx-Wg",
        "outputId": "a0027e79-67ec-4b65-8407-68e559abdf69"
      },
      "outputs": [
        {
          "data": {
            "text/plain": [
              "LogisticRegression(C=1.0, class_weight=None, dual=False, fit_intercept=True,\n",
              "                   intercept_scaling=1, l1_ratio=None, max_iter=100,\n",
              "                   multi_class='warn', n_jobs=None, penalty='l2',\n",
              "                   random_state=12345, solver='warn', tol=0.0001, verbose=0,\n",
              "                   warm_start=False)"
            ]
          },
          "execution_count": 13,
          "metadata": {},
          "output_type": "execute_result"
        }
      ],
      "source": [
        "model_logistic.fit(pd.concat([features_train, features_valid]), pd.concat([target_train, target_valid]))"
      ]
    },
    {
      "cell_type": "markdown",
      "metadata": {
        "id": "hs7CT6Nex-Wh"
      },
      "source": [
        "#### Вывод:\n",
        "\n",
        "Обучая три разныемодели были полученны лучшие метрики качества:\n",
        "\n",
        "- Качество модели \"Дерево предсказания\": 0.80\n",
        "- Качество модели \"Случайный лес\": 0.82\n",
        "- Качество модели \"Логистическая регрессия\": 0.71\n",
        "\n",
        "Лучшей моделью получилась модель \"Случайный лес\""
      ]
    },
    {
      "cell_type": "markdown",
      "metadata": {
        "id": "DAfQyxErx-Wh"
      },
      "source": [
        "## Проверим модель на тестовой выборке"
      ]
    },
    {
      "cell_type": "code",
      "execution_count": null,
      "metadata": {
        "id": "gRCBXYAdx-Wh",
        "outputId": "21239043-d41d-49fd-d18e-f7724ae7fb32"
      },
      "outputs": [
        {
          "name": "stdout",
          "output_type": "stream",
          "text": [
            "Accuracy модели дерева решений на тестовой выборке: 0.807153965785381\n"
          ]
        }
      ],
      "source": [
        "predictions_model_decision = best_model_decision.predict(features_test)\n",
        "result = accuracy_score(target_test, predictions_model_decision)\n",
        "print(\"Accuracy модели дерева решений на тестовой выборке:\", result)"
      ]
    },
    {
      "cell_type": "code",
      "execution_count": null,
      "metadata": {
        "id": "aWNjDZrbx-Wi",
        "outputId": "efd44d50-2591-4877-aa43-af71d3842fff"
      },
      "outputs": [
        {
          "name": "stdout",
          "output_type": "stream",
          "text": [
            "Accuracy модели случайного леса на тестовой выборке: 0.8289269051321928\n"
          ]
        }
      ],
      "source": [
        "predictions_model_forest = best_model_forest.predict(features_test)\n",
        "result = accuracy_score(target_test, predictions_model_forest)\n",
        "print(\"Accuracy модели случайного леса на тестовой выборке:\", result)"
      ]
    },
    {
      "cell_type": "code",
      "execution_count": null,
      "metadata": {
        "id": "iZp8Ej6Yx-Wi",
        "outputId": "e74f23bc-662f-4319-e202-85440188e52a"
      },
      "outputs": [
        {
          "name": "stdout",
          "output_type": "stream",
          "text": [
            "Accuracy модели логистической регрессии на тестовой выборке: 0.7060653188180405\n"
          ]
        }
      ],
      "source": [
        "predictions_model_logistic = model_logistic.predict(features_test)\n",
        "result = accuracy_score(target_test, predictions_model_logistic)\n",
        "print(\"Accuracy модели логистической регрессии на тестовой выборке:\", result)"
      ]
    },
    {
      "cell_type": "markdown",
      "metadata": {
        "id": "53UH0F8ox-Wi"
      },
      "source": [
        "#### Вывод\n",
        "После проверки на тестовой выборке:\n",
        "\n",
        "    Качество модели \"Дерево предсказания\": 0.80\n",
        "    Качество модели \"Случайный лес\": 0.82\n",
        "    Качество модели \"Логистическая регрессия\": 0.70\n",
        "    \n",
        "Лучшей моделью получилась модель \"Случайный лес\""
      ]
    },
    {
      "cell_type": "markdown",
      "metadata": {
        "id": "G3OofVoyx-Wj"
      },
      "source": [
        "## Проверим модели на адекватность"
      ]
    },
    {
      "cell_type": "code",
      "execution_count": null,
      "metadata": {
        "id": "xnKb9b4Ux-Wj",
        "outputId": "b5b5913e-0db0-41e0-efd4-6d5b33e3165c"
      },
      "outputs": [
        {
          "data": {
            "text/plain": [
              "0.6936236391912908"
            ]
          },
          "execution_count": 17,
          "metadata": {},
          "output_type": "execute_result"
        }
      ],
      "source": [
        "dummy_clf = DummyClassifier(strategy=\"most_frequent\", random_state=0)\n",
        "dummy_clf.fit(features_train, target_train)\n",
        "dummy_clf.score(features_test, target_test)"
      ]
    },
    {
      "cell_type": "markdown",
      "metadata": {
        "id": "CiRLbU7zx-Wj"
      },
      "source": [
        "Простейшая модель ошибается в 30 %, выбранная в 17 %."
      ]
    },
    {
      "cell_type": "markdown",
      "metadata": {
        "id": "m80Fw35bx-Wk"
      },
      "source": [
        "#### Общий вывод\n",
        "\n",
        "    1. Разбили датасет на 3 выборки: обучающую - 60%, валидационную - 20% и тестовую - 20%.\n",
        "    2. Исследовали модели дерева решений, случайного леса и логистической регрессии.\n",
        "    3. Лучшее accuracy у случайного леса как на валидационной, так и на тестовой выборке.\n"
      ]
    }
  ],
  "metadata": {
    "ExecuteTimeLog": [
      {
        "duration": 274,
        "start_time": "2022-02-28T13:13:33.541Z"
      },
      {
        "duration": 1290,
        "start_time": "2022-02-28T13:13:40.296Z"
      },
      {
        "duration": 18,
        "start_time": "2022-02-28T13:13:41.589Z"
      },
      {
        "duration": 26,
        "start_time": "2022-02-28T13:13:41.609Z"
      },
      {
        "duration": 10,
        "start_time": "2022-02-28T13:14:02.539Z"
      },
      {
        "duration": 35,
        "start_time": "2022-02-28T13:14:36.779Z"
      },
      {
        "duration": 14,
        "start_time": "2022-02-28T13:18:21.289Z"
      },
      {
        "duration": 559,
        "start_time": "2022-02-28T13:19:27.129Z"
      },
      {
        "duration": 5,
        "start_time": "2022-02-28T13:19:35.909Z"
      },
      {
        "duration": 20,
        "start_time": "2022-02-28T13:19:35.917Z"
      },
      {
        "duration": 20,
        "start_time": "2022-02-28T13:19:35.940Z"
      },
      {
        "duration": 8,
        "start_time": "2022-02-28T13:19:35.963Z"
      },
      {
        "duration": 34,
        "start_time": "2022-02-28T13:19:35.974Z"
      },
      {
        "duration": 46,
        "start_time": "2022-02-28T13:19:36.011Z"
      },
      {
        "duration": 265,
        "start_time": "2022-02-28T13:19:36.061Z"
      },
      {
        "duration": 4,
        "start_time": "2022-02-28T13:20:08.425Z"
      },
      {
        "duration": 25,
        "start_time": "2022-02-28T13:20:08.432Z"
      },
      {
        "duration": 24,
        "start_time": "2022-02-28T13:20:08.462Z"
      },
      {
        "duration": 8,
        "start_time": "2022-02-28T13:20:08.489Z"
      },
      {
        "duration": 76,
        "start_time": "2022-02-28T13:20:08.500Z"
      },
      {
        "duration": 13,
        "start_time": "2022-02-28T13:20:08.578Z"
      },
      {
        "duration": 4924,
        "start_time": "2022-02-28T13:20:08.594Z"
      },
      {
        "duration": 4430,
        "start_time": "2022-02-28T13:20:46.672Z"
      },
      {
        "duration": 4,
        "start_time": "2022-02-28T13:21:03.414Z"
      },
      {
        "duration": 5,
        "start_time": "2022-02-28T13:21:05.806Z"
      },
      {
        "duration": 28,
        "start_time": "2022-02-28T13:21:05.813Z"
      },
      {
        "duration": 18,
        "start_time": "2022-02-28T13:21:05.844Z"
      },
      {
        "duration": 12,
        "start_time": "2022-02-28T13:21:05.865Z"
      },
      {
        "duration": 34,
        "start_time": "2022-02-28T13:21:05.879Z"
      },
      {
        "duration": 45,
        "start_time": "2022-02-28T13:21:05.915Z"
      },
      {
        "duration": 5131,
        "start_time": "2022-02-28T13:21:05.963Z"
      },
      {
        "duration": 4297,
        "start_time": "2022-02-28T13:21:17.656Z"
      },
      {
        "duration": 5015,
        "start_time": "2022-02-28T13:21:32.048Z"
      },
      {
        "duration": 229,
        "start_time": "2022-02-28T15:10:30.671Z"
      },
      {
        "duration": 4,
        "start_time": "2022-02-28T15:10:39.411Z"
      },
      {
        "duration": 20,
        "start_time": "2022-02-28T15:10:39.418Z"
      },
      {
        "duration": 15,
        "start_time": "2022-02-28T15:10:39.440Z"
      },
      {
        "duration": 9,
        "start_time": "2022-02-28T15:10:39.458Z"
      },
      {
        "duration": 31,
        "start_time": "2022-02-28T15:10:39.469Z"
      },
      {
        "duration": 4,
        "start_time": "2022-02-28T15:10:39.503Z"
      },
      {
        "duration": 223,
        "start_time": "2022-02-28T15:10:39.510Z"
      },
      {
        "duration": 5,
        "start_time": "2022-02-28T15:11:02.506Z"
      },
      {
        "duration": 16,
        "start_time": "2022-02-28T15:11:02.514Z"
      },
      {
        "duration": 15,
        "start_time": "2022-02-28T15:11:02.533Z"
      },
      {
        "duration": 10,
        "start_time": "2022-02-28T15:11:02.551Z"
      },
      {
        "duration": 32,
        "start_time": "2022-02-28T15:11:02.564Z"
      },
      {
        "duration": 5,
        "start_time": "2022-02-28T15:11:02.599Z"
      },
      {
        "duration": 218,
        "start_time": "2022-02-28T15:11:02.606Z"
      },
      {
        "duration": 1478,
        "start_time": "2022-02-28T15:16:53.610Z"
      },
      {
        "duration": 18,
        "start_time": "2022-02-28T15:16:55.092Z"
      },
      {
        "duration": 38,
        "start_time": "2022-02-28T15:16:55.113Z"
      },
      {
        "duration": 10,
        "start_time": "2022-02-28T15:16:55.154Z"
      },
      {
        "duration": 35,
        "start_time": "2022-02-28T15:16:55.167Z"
      },
      {
        "duration": 5,
        "start_time": "2022-02-28T15:16:55.205Z"
      },
      {
        "duration": 475,
        "start_time": "2022-02-28T15:16:55.251Z"
      },
      {
        "duration": -71,
        "start_time": "2022-02-28T15:16:56.212Z"
      },
      {
        "duration": -77,
        "start_time": "2022-02-28T15:16:56.219Z"
      },
      {
        "duration": -79,
        "start_time": "2022-02-28T15:16:56.222Z"
      },
      {
        "duration": -79,
        "start_time": "2022-02-28T15:16:56.224Z"
      },
      {
        "duration": -80,
        "start_time": "2022-02-28T15:16:56.226Z"
      },
      {
        "duration": -80,
        "start_time": "2022-02-28T15:16:56.227Z"
      },
      {
        "duration": -81,
        "start_time": "2022-02-28T15:16:56.229Z"
      },
      {
        "duration": 5,
        "start_time": "2022-02-28T15:18:56.544Z"
      },
      {
        "duration": 22,
        "start_time": "2022-02-28T15:18:56.551Z"
      },
      {
        "duration": 16,
        "start_time": "2022-02-28T15:18:56.575Z"
      },
      {
        "duration": 8,
        "start_time": "2022-02-28T15:18:56.594Z"
      },
      {
        "duration": 62,
        "start_time": "2022-02-28T15:18:56.605Z"
      },
      {
        "duration": 5,
        "start_time": "2022-02-28T15:18:56.669Z"
      },
      {
        "duration": 274,
        "start_time": "2022-02-28T15:18:56.676Z"
      },
      {
        "duration": 243,
        "start_time": "2022-02-28T15:19:47.899Z"
      },
      {
        "duration": 5,
        "start_time": "2022-02-28T15:19:54.058Z"
      },
      {
        "duration": 241,
        "start_time": "2022-02-28T15:20:17.474Z"
      },
      {
        "duration": 20,
        "start_time": "2022-02-28T15:20:29.074Z"
      },
      {
        "duration": 245,
        "start_time": "2022-02-28T15:52:41.966Z"
      },
      {
        "duration": 5,
        "start_time": "2022-02-28T15:53:47.874Z"
      },
      {
        "duration": 17,
        "start_time": "2022-02-28T15:53:47.882Z"
      },
      {
        "duration": 15,
        "start_time": "2022-02-28T15:53:47.902Z"
      },
      {
        "duration": 8,
        "start_time": "2022-02-28T15:53:47.920Z"
      },
      {
        "duration": 41,
        "start_time": "2022-02-28T15:53:47.930Z"
      },
      {
        "duration": 4,
        "start_time": "2022-02-28T15:53:47.973Z"
      },
      {
        "duration": 21,
        "start_time": "2022-02-28T15:53:47.979Z"
      },
      {
        "duration": 225,
        "start_time": "2022-02-28T15:53:48.003Z"
      },
      {
        "duration": 1434,
        "start_time": "2022-02-28T15:53:56.730Z"
      },
      {
        "duration": 17,
        "start_time": "2022-02-28T15:53:58.166Z"
      },
      {
        "duration": 21,
        "start_time": "2022-02-28T15:53:58.189Z"
      },
      {
        "duration": 10,
        "start_time": "2022-02-28T15:53:58.212Z"
      },
      {
        "duration": 33,
        "start_time": "2022-02-28T15:53:58.252Z"
      },
      {
        "duration": 4,
        "start_time": "2022-02-28T15:53:58.287Z"
      },
      {
        "duration": 16,
        "start_time": "2022-02-28T15:53:58.294Z"
      },
      {
        "duration": 399,
        "start_time": "2022-02-28T15:53:58.313Z"
      },
      {
        "duration": 1386,
        "start_time": "2022-02-28T15:55:42.782Z"
      },
      {
        "duration": 15,
        "start_time": "2022-02-28T15:55:44.171Z"
      },
      {
        "duration": 21,
        "start_time": "2022-02-28T15:55:44.189Z"
      },
      {
        "duration": 8,
        "start_time": "2022-02-28T15:55:44.213Z"
      },
      {
        "duration": 54,
        "start_time": "2022-02-28T15:55:44.223Z"
      },
      {
        "duration": 4,
        "start_time": "2022-02-28T15:55:44.280Z"
      },
      {
        "duration": 21,
        "start_time": "2022-02-28T15:55:44.287Z"
      },
      {
        "duration": 114,
        "start_time": "2022-02-28T15:55:44.311Z"
      },
      {
        "duration": 384,
        "start_time": "2022-02-28T15:56:24.728Z"
      },
      {
        "duration": 1429,
        "start_time": "2022-02-28T15:56:54.639Z"
      },
      {
        "duration": 15,
        "start_time": "2022-02-28T15:56:56.071Z"
      },
      {
        "duration": 20,
        "start_time": "2022-02-28T15:56:56.089Z"
      },
      {
        "duration": 10,
        "start_time": "2022-02-28T15:56:56.113Z"
      },
      {
        "duration": 33,
        "start_time": "2022-02-28T15:56:56.151Z"
      },
      {
        "duration": 4,
        "start_time": "2022-02-28T15:56:56.186Z"
      },
      {
        "duration": 17,
        "start_time": "2022-02-28T15:56:56.192Z"
      },
      {
        "duration": 115,
        "start_time": "2022-02-28T15:56:56.212Z"
      },
      {
        "duration": 32,
        "start_time": "2022-02-28T15:56:56.330Z"
      },
      {
        "duration": 397,
        "start_time": "2022-02-28T15:57:52.403Z"
      },
      {
        "duration": 1395,
        "start_time": "2022-02-28T15:58:18.089Z"
      },
      {
        "duration": 17,
        "start_time": "2022-02-28T15:58:19.488Z"
      },
      {
        "duration": 20,
        "start_time": "2022-02-28T15:58:19.508Z"
      },
      {
        "duration": 26,
        "start_time": "2022-02-28T15:58:19.531Z"
      },
      {
        "duration": 33,
        "start_time": "2022-02-28T15:58:19.560Z"
      },
      {
        "duration": 4,
        "start_time": "2022-02-28T15:58:19.596Z"
      },
      {
        "duration": 49,
        "start_time": "2022-02-28T15:58:19.603Z"
      },
      {
        "duration": 74,
        "start_time": "2022-02-28T15:58:19.654Z"
      },
      {
        "duration": 34,
        "start_time": "2022-02-28T15:58:19.731Z"
      },
      {
        "duration": 5046,
        "start_time": "2022-02-28T15:58:19.767Z"
      },
      {
        "duration": 1420,
        "start_time": "2022-02-28T15:59:19.941Z"
      },
      {
        "duration": 15,
        "start_time": "2022-02-28T15:59:21.364Z"
      },
      {
        "duration": 19,
        "start_time": "2022-02-28T15:59:21.382Z"
      },
      {
        "duration": 8,
        "start_time": "2022-02-28T15:59:21.404Z"
      },
      {
        "duration": 62,
        "start_time": "2022-02-28T15:59:21.414Z"
      },
      {
        "duration": 5,
        "start_time": "2022-02-28T15:59:21.478Z"
      },
      {
        "duration": 18,
        "start_time": "2022-02-28T15:59:21.485Z"
      },
      {
        "duration": 104,
        "start_time": "2022-02-28T15:59:21.506Z"
      },
      {
        "duration": 15,
        "start_time": "2022-02-28T15:59:21.612Z"
      },
      {
        "duration": 4870,
        "start_time": "2022-02-28T15:59:21.629Z"
      },
      {
        "duration": 18,
        "start_time": "2022-02-28T16:00:35.132Z"
      },
      {
        "duration": 19,
        "start_time": "2022-02-28T16:01:18.213Z"
      },
      {
        "duration": 186,
        "start_time": "2022-02-28T16:01:44.508Z"
      },
      {
        "duration": 16,
        "start_time": "2022-02-28T16:08:04.681Z"
      },
      {
        "duration": 8,
        "start_time": "2022-02-28T16:09:28.680Z"
      },
      {
        "duration": 7,
        "start_time": "2022-02-28T16:09:31.856Z"
      },
      {
        "duration": 18,
        "start_time": "2022-02-28T16:09:35.248Z"
      },
      {
        "duration": 16,
        "start_time": "2022-02-28T16:12:03.992Z"
      },
      {
        "duration": 7,
        "start_time": "2022-02-28T16:13:25.677Z"
      },
      {
        "duration": 17,
        "start_time": "2022-02-28T16:13:27.831Z"
      },
      {
        "duration": 8,
        "start_time": "2022-02-28T16:13:29.655Z"
      },
      {
        "duration": 8,
        "start_time": "2022-02-28T16:17:07.190Z"
      },
      {
        "duration": 18,
        "start_time": "2022-02-28T16:24:39.121Z"
      },
      {
        "duration": 398,
        "start_time": "2022-02-28T16:24:40.762Z"
      },
      {
        "duration": 244,
        "start_time": "2022-02-28T16:24:54.610Z"
      },
      {
        "duration": 184,
        "start_time": "2022-02-28T16:24:57.186Z"
      },
      {
        "duration": 6,
        "start_time": "2022-02-28T16:25:36.922Z"
      },
      {
        "duration": 28,
        "start_time": "2022-02-28T16:25:36.930Z"
      },
      {
        "duration": 21,
        "start_time": "2022-02-28T16:25:36.961Z"
      },
      {
        "duration": 7,
        "start_time": "2022-02-28T16:25:36.985Z"
      },
      {
        "duration": 56,
        "start_time": "2022-02-28T16:25:36.995Z"
      },
      {
        "duration": 4,
        "start_time": "2022-02-28T16:25:37.054Z"
      },
      {
        "duration": 22,
        "start_time": "2022-02-28T16:25:37.061Z"
      },
      {
        "duration": 96,
        "start_time": "2022-02-28T16:25:37.087Z"
      },
      {
        "duration": 4766,
        "start_time": "2022-02-28T16:25:37.186Z"
      },
      {
        "duration": 15,
        "start_time": "2022-02-28T16:25:41.955Z"
      },
      {
        "duration": 17,
        "start_time": "2022-02-28T16:25:41.973Z"
      },
      {
        "duration": 19,
        "start_time": "2022-02-28T16:25:41.992Z"
      },
      {
        "duration": 231,
        "start_time": "2022-02-28T16:25:42.014Z"
      },
      {
        "duration": 7,
        "start_time": "2022-02-28T16:25:42.252Z"
      },
      {
        "duration": 18,
        "start_time": "2022-02-28T16:25:42.261Z"
      },
      {
        "duration": 7,
        "start_time": "2022-02-28T16:25:42.282Z"
      },
      {
        "duration": 9,
        "start_time": "2022-02-28T16:25:42.291Z"
      },
      {
        "duration": 19,
        "start_time": "2022-02-28T16:30:46.745Z"
      },
      {
        "duration": 191,
        "start_time": "2022-02-28T16:30:48.599Z"
      },
      {
        "duration": 228,
        "start_time": "2022-02-28T16:30:50.504Z"
      },
      {
        "duration": 6,
        "start_time": "2022-02-28T16:30:56.407Z"
      },
      {
        "duration": 20,
        "start_time": "2022-02-28T16:30:56.416Z"
      },
      {
        "duration": 17,
        "start_time": "2022-02-28T16:30:56.440Z"
      },
      {
        "duration": 17,
        "start_time": "2022-02-28T16:30:56.460Z"
      },
      {
        "duration": 33,
        "start_time": "2022-02-28T16:30:56.480Z"
      },
      {
        "duration": 4,
        "start_time": "2022-02-28T16:30:56.515Z"
      },
      {
        "duration": 42,
        "start_time": "2022-02-28T16:30:56.522Z"
      },
      {
        "duration": 97,
        "start_time": "2022-02-28T16:30:56.568Z"
      },
      {
        "duration": 4812,
        "start_time": "2022-02-28T16:30:56.667Z"
      },
      {
        "duration": 16,
        "start_time": "2022-02-28T16:31:01.482Z"
      },
      {
        "duration": 19,
        "start_time": "2022-02-28T16:31:01.500Z"
      },
      {
        "duration": 230,
        "start_time": "2022-02-28T16:31:01.521Z"
      },
      {
        "duration": 18,
        "start_time": "2022-02-28T16:31:01.753Z"
      },
      {
        "duration": 6,
        "start_time": "2022-02-28T16:31:01.774Z"
      },
      {
        "duration": 18,
        "start_time": "2022-02-28T16:31:01.782Z"
      },
      {
        "duration": 8,
        "start_time": "2022-02-28T16:31:01.802Z"
      },
      {
        "duration": 50,
        "start_time": "2022-02-28T16:31:01.812Z"
      },
      {
        "duration": 8,
        "start_time": "2022-02-28T16:33:49.471Z"
      },
      {
        "duration": 8,
        "start_time": "2022-02-28T16:34:48.679Z"
      },
      {
        "duration": 8,
        "start_time": "2022-02-28T16:34:53.639Z"
      },
      {
        "duration": 5075,
        "start_time": "2022-02-28T16:43:23.561Z"
      },
      {
        "duration": 1827,
        "start_time": "2022-02-28T16:43:46.604Z"
      },
      {
        "duration": 20,
        "start_time": "2022-02-28T16:43:48.435Z"
      },
      {
        "duration": 20,
        "start_time": "2022-02-28T16:43:48.458Z"
      },
      {
        "duration": 8,
        "start_time": "2022-02-28T16:43:48.481Z"
      },
      {
        "duration": 61,
        "start_time": "2022-02-28T16:43:48.491Z"
      },
      {
        "duration": 5,
        "start_time": "2022-02-28T16:43:48.554Z"
      },
      {
        "duration": 18,
        "start_time": "2022-02-28T16:43:48.562Z"
      },
      {
        "duration": 112,
        "start_time": "2022-02-28T16:43:48.582Z"
      },
      {
        "duration": 4938,
        "start_time": "2022-02-28T16:43:48.698Z"
      },
      {
        "duration": 22,
        "start_time": "2022-02-28T16:43:53.639Z"
      },
      {
        "duration": 17,
        "start_time": "2022-02-28T16:43:53.664Z"
      },
      {
        "duration": 218,
        "start_time": "2022-02-28T16:43:53.683Z"
      },
      {
        "duration": 19,
        "start_time": "2022-02-28T16:43:53.903Z"
      },
      {
        "duration": 27,
        "start_time": "2022-02-28T16:43:53.924Z"
      },
      {
        "duration": 23,
        "start_time": "2022-02-28T16:43:53.953Z"
      },
      {
        "duration": 9,
        "start_time": "2022-02-28T16:43:53.979Z"
      },
      {
        "duration": 11,
        "start_time": "2022-02-28T16:43:53.990Z"
      }
    ],
    "kernelspec": {
      "display_name": "Python 3 (ipykernel)",
      "language": "python",
      "name": "python3"
    },
    "language_info": {
      "codemirror_mode": {
        "name": "ipython",
        "version": 3
      },
      "file_extension": ".py",
      "mimetype": "text/x-python",
      "name": "python",
      "nbconvert_exporter": "python",
      "pygments_lexer": "ipython3",
      "version": "3.9.5"
    },
    "toc": {
      "base_numbering": 1,
      "nav_menu": {},
      "number_sections": false,
      "sideBar": true,
      "skip_h1_title": true,
      "title_cell": "Table of Contents",
      "title_sidebar": "Contents",
      "toc_cell": false,
      "toc_position": {},
      "toc_section_display": true,
      "toc_window_display": false
    },
    "colab": {
      "provenance": []
    }
  },
  "nbformat": 4,
  "nbformat_minor": 0
}