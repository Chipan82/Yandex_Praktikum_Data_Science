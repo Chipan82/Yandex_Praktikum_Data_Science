{
  "cells": [
    {
      "cell_type": "markdown",
      "metadata": {
        "id": "61BoeO3G74Ds"
      },
      "source": [
        "# Восстановление золота из руды"
      ]
    },
    {
      "cell_type": "markdown",
      "metadata": {
        "id": "jfUBCGAe74Ds"
      },
      "source": [
        "Цель - подготовить прототип модели машинного обучения.\n",
        "Модель должна предсказать коэффициент восстановления золота из золотосодержащей руды.\n"
      ]
    },
    {
      "cell_type": "markdown",
      "metadata": {
        "id": "JAnwod-x74Du"
      },
      "source": [
        "## Подготовка данных"
      ]
    },
    {
      "cell_type": "code",
      "execution_count": null,
      "metadata": {
        "id": "CUk9LUYV74Dv"
      },
      "outputs": [],
      "source": [
        "import pandas as pd\n",
        "pd.options.mode.chained_assignment = None\n",
        "import numpy as np\n",
        "import matplotlib.pyplot as plt\n",
        "import seaborn as sns\n",
        "from sklearn.metrics import mean_absolute_error, accuracy_score, make_scorer\n",
        "from sklearn.preprocessing import StandardScaler\n",
        "from sklearn.model_selection import train_test_split, cross_val_score\n",
        "from sklearn.linear_model import LinearRegression\n",
        "from sklearn.ensemble import RandomForestRegressor\n",
        "from sklearn.tree import DecisionTreeRegressor\n",
        "from catboost import CatBoostRegressor\n",
        "from sklearn.dummy import DummyRegressor\n",
        "import warnings\n",
        "warnings.filterwarnings('ignore')"
      ]
    },
    {
      "cell_type": "code",
      "execution_count": null,
      "metadata": {
        "id": "VLlpZrOH74Dx"
      },
      "outputs": [],
      "source": [
        "train_data = pd.read_csv('/datasets/gold_recovery_train_new.csv')\n",
        "test_data = pd.read_csv('/datasets/gold_recovery_test_new.csv')\n",
        "full_data = pd.read_csv('/datasets/gold_recovery_full_new.csv')"
      ]
    },
    {
      "cell_type": "code",
      "execution_count": null,
      "metadata": {
        "id": "x5ydhBso74Dy"
      },
      "outputs": [],
      "source": [
        "def research(data):\n",
        "\n",
        "    print(data.shape)\n",
        "    print(data.info()) \n",
        "    print(data.head())"
      ]
    },
    {
      "cell_type": "code",
      "execution_count": null,
      "metadata": {
        "id": "oPE5QD5C74Dz",
        "outputId": "4d856910-5f8a-4fa2-da76-56d019864a2c"
      },
      "outputs": [
        {
          "name": "stdout",
          "output_type": "stream",
          "text": [
            "(14149, 87)\n",
            "<class 'pandas.core.frame.DataFrame'>\n",
            "RangeIndex: 14149 entries, 0 to 14148\n",
            "Data columns (total 87 columns):\n",
            " #   Column                                              Non-Null Count  Dtype  \n",
            "---  ------                                              --------------  -----  \n",
            " 0   date                                                14149 non-null  object \n",
            " 1   final.output.concentrate_ag                         14148 non-null  float64\n",
            " 2   final.output.concentrate_pb                         14148 non-null  float64\n",
            " 3   final.output.concentrate_sol                        13938 non-null  float64\n",
            " 4   final.output.concentrate_au                         14149 non-null  float64\n",
            " 5   final.output.recovery                               14149 non-null  float64\n",
            " 6   final.output.tail_ag                                14149 non-null  float64\n",
            " 7   final.output.tail_pb                                14049 non-null  float64\n",
            " 8   final.output.tail_sol                               14144 non-null  float64\n",
            " 9   final.output.tail_au                                14149 non-null  float64\n",
            " 10  primary_cleaner.input.sulfate                       14129 non-null  float64\n",
            " 11  primary_cleaner.input.depressant                    14117 non-null  float64\n",
            " 12  primary_cleaner.input.feed_size                     14149 non-null  float64\n",
            " 13  primary_cleaner.input.xanthate                      14049 non-null  float64\n",
            " 14  primary_cleaner.output.concentrate_ag               14149 non-null  float64\n",
            " 15  primary_cleaner.output.concentrate_pb               14063 non-null  float64\n",
            " 16  primary_cleaner.output.concentrate_sol              13863 non-null  float64\n",
            " 17  primary_cleaner.output.concentrate_au               14149 non-null  float64\n",
            " 18  primary_cleaner.output.tail_ag                      14148 non-null  float64\n",
            " 19  primary_cleaner.output.tail_pb                      14134 non-null  float64\n",
            " 20  primary_cleaner.output.tail_sol                     14103 non-null  float64\n",
            " 21  primary_cleaner.output.tail_au                      14149 non-null  float64\n",
            " 22  primary_cleaner.state.floatbank8_a_air              14145 non-null  float64\n",
            " 23  primary_cleaner.state.floatbank8_a_level            14148 non-null  float64\n",
            " 24  primary_cleaner.state.floatbank8_b_air              14145 non-null  float64\n",
            " 25  primary_cleaner.state.floatbank8_b_level            14148 non-null  float64\n",
            " 26  primary_cleaner.state.floatbank8_c_air              14147 non-null  float64\n",
            " 27  primary_cleaner.state.floatbank8_c_level            14148 non-null  float64\n",
            " 28  primary_cleaner.state.floatbank8_d_air              14146 non-null  float64\n",
            " 29  primary_cleaner.state.floatbank8_d_level            14148 non-null  float64\n",
            " 30  rougher.calculation.sulfate_to_au_concentrate       14148 non-null  float64\n",
            " 31  rougher.calculation.floatbank10_sulfate_to_au_feed  14148 non-null  float64\n",
            " 32  rougher.calculation.floatbank11_sulfate_to_au_feed  14148 non-null  float64\n",
            " 33  rougher.calculation.au_pb_ratio                     14149 non-null  float64\n",
            " 34  rougher.input.feed_ag                               14149 non-null  float64\n",
            " 35  rougher.input.feed_pb                               14049 non-null  float64\n",
            " 36  rougher.input.feed_rate                             14141 non-null  float64\n",
            " 37  rougher.input.feed_size                             14005 non-null  float64\n",
            " 38  rougher.input.feed_sol                              14071 non-null  float64\n",
            " 39  rougher.input.feed_au                               14149 non-null  float64\n",
            " 40  rougher.input.floatbank10_sulfate                   14120 non-null  float64\n",
            " 41  rougher.input.floatbank10_xanthate                  14141 non-null  float64\n",
            " 42  rougher.input.floatbank11_sulfate                   14113 non-null  float64\n",
            " 43  rougher.input.floatbank11_xanthate                  13721 non-null  float64\n",
            " 44  rougher.output.concentrate_ag                       14149 non-null  float64\n",
            " 45  rougher.output.concentrate_pb                       14149 non-null  float64\n",
            " 46  rougher.output.concentrate_sol                      14127 non-null  float64\n",
            " 47  rougher.output.concentrate_au                       14149 non-null  float64\n",
            " 48  rougher.output.recovery                             14149 non-null  float64\n",
            " 49  rougher.output.tail_ag                              14148 non-null  float64\n",
            " 50  rougher.output.tail_pb                              14149 non-null  float64\n",
            " 51  rougher.output.tail_sol                             14149 non-null  float64\n",
            " 52  rougher.output.tail_au                              14149 non-null  float64\n",
            " 53  rougher.state.floatbank10_a_air                     14148 non-null  float64\n",
            " 54  rougher.state.floatbank10_a_level                   14148 non-null  float64\n",
            " 55  rougher.state.floatbank10_b_air                     14148 non-null  float64\n",
            " 56  rougher.state.floatbank10_b_level                   14148 non-null  float64\n",
            " 57  rougher.state.floatbank10_c_air                     14148 non-null  float64\n",
            " 58  rougher.state.floatbank10_c_level                   14148 non-null  float64\n",
            " 59  rougher.state.floatbank10_d_air                     14149 non-null  float64\n",
            " 60  rougher.state.floatbank10_d_level                   14149 non-null  float64\n",
            " 61  rougher.state.floatbank10_e_air                     13713 non-null  float64\n",
            " 62  rougher.state.floatbank10_e_level                   14149 non-null  float64\n",
            " 63  rougher.state.floatbank10_f_air                     14149 non-null  float64\n",
            " 64  rougher.state.floatbank10_f_level                   14149 non-null  float64\n",
            " 65  secondary_cleaner.output.tail_ag                    14147 non-null  float64\n",
            " 66  secondary_cleaner.output.tail_pb                    14139 non-null  float64\n",
            " 67  secondary_cleaner.output.tail_sol                   12544 non-null  float64\n",
            " 68  secondary_cleaner.output.tail_au                    14149 non-null  float64\n",
            " 69  secondary_cleaner.state.floatbank2_a_air            13932 non-null  float64\n",
            " 70  secondary_cleaner.state.floatbank2_a_level          14148 non-null  float64\n",
            " 71  secondary_cleaner.state.floatbank2_b_air            14128 non-null  float64\n",
            " 72  secondary_cleaner.state.floatbank2_b_level          14148 non-null  float64\n",
            " 73  secondary_cleaner.state.floatbank3_a_air            14145 non-null  float64\n",
            " 74  secondary_cleaner.state.floatbank3_a_level          14148 non-null  float64\n",
            " 75  secondary_cleaner.state.floatbank3_b_air            14148 non-null  float64\n",
            " 76  secondary_cleaner.state.floatbank3_b_level          14148 non-null  float64\n",
            " 77  secondary_cleaner.state.floatbank4_a_air            14143 non-null  float64\n",
            " 78  secondary_cleaner.state.floatbank4_a_level          14148 non-null  float64\n",
            " 79  secondary_cleaner.state.floatbank4_b_air            14148 non-null  float64\n",
            " 80  secondary_cleaner.state.floatbank4_b_level          14148 non-null  float64\n",
            " 81  secondary_cleaner.state.floatbank5_a_air            14148 non-null  float64\n",
            " 82  secondary_cleaner.state.floatbank5_a_level          14148 non-null  float64\n",
            " 83  secondary_cleaner.state.floatbank5_b_air            14148 non-null  float64\n",
            " 84  secondary_cleaner.state.floatbank5_b_level          14148 non-null  float64\n",
            " 85  secondary_cleaner.state.floatbank6_a_air            14147 non-null  float64\n",
            " 86  secondary_cleaner.state.floatbank6_a_level          14148 non-null  float64\n",
            "dtypes: float64(86), object(1)\n",
            "memory usage: 9.4+ MB\n",
            "None\n",
            "                  date  final.output.concentrate_ag  \\\n",
            "0  2016-01-15 00:00:00                     6.055403   \n",
            "1  2016-01-15 01:00:00                     6.029369   \n",
            "2  2016-01-15 02:00:00                     6.055926   \n",
            "3  2016-01-15 03:00:00                     6.047977   \n",
            "4  2016-01-15 04:00:00                     6.148599   \n",
            "\n",
            "   final.output.concentrate_pb  final.output.concentrate_sol  \\\n",
            "0                     9.889648                      5.507324   \n",
            "1                     9.968944                      5.257781   \n",
            "2                    10.213995                      5.383759   \n",
            "3                     9.977019                      4.858634   \n",
            "4                    10.142511                      4.939416   \n",
            "\n",
            "   final.output.concentrate_au  final.output.recovery  final.output.tail_ag  \\\n",
            "0                    42.192020              70.541216             10.411962   \n",
            "1                    42.701629              69.266198             10.462676   \n",
            "2                    42.657501              68.116445             10.507046   \n",
            "3                    42.689819              68.347543             10.422762   \n",
            "4                    42.774141              66.927016             10.360302   \n",
            "\n",
            "   final.output.tail_pb  final.output.tail_sol  final.output.tail_au  ...  \\\n",
            "0              0.895447              16.904297              2.143149  ...   \n",
            "1              0.927452              16.634514              2.224930  ...   \n",
            "2              0.953716              16.208849              2.257889  ...   \n",
            "3              0.883763              16.532835              2.146849  ...   \n",
            "4              0.792826              16.525686              2.055292  ...   \n",
            "\n",
            "   secondary_cleaner.state.floatbank4_a_air  \\\n",
            "0                                 14.016835   \n",
            "1                                 13.992281   \n",
            "2                                 14.015015   \n",
            "3                                 14.036510   \n",
            "4                                 14.027298   \n",
            "\n",
            "   secondary_cleaner.state.floatbank4_a_level  \\\n",
            "0                                 -502.488007   \n",
            "1                                 -505.503262   \n",
            "2                                 -502.520901   \n",
            "3                                 -500.857308   \n",
            "4                                 -499.838632   \n",
            "\n",
            "   secondary_cleaner.state.floatbank4_b_air  \\\n",
            "0                                 12.099931   \n",
            "1                                 11.950531   \n",
            "2                                 11.912783   \n",
            "3                                 11.999550   \n",
            "4                                 11.953070   \n",
            "\n",
            "   secondary_cleaner.state.floatbank4_b_level  \\\n",
            "0                                 -504.715942   \n",
            "1                                 -501.331529   \n",
            "2                                 -501.133383   \n",
            "3                                 -501.193686   \n",
            "4                                 -501.053894   \n",
            "\n",
            "   secondary_cleaner.state.floatbank5_a_air  \\\n",
            "0                                  9.925633   \n",
            "1                                 10.039245   \n",
            "2                                 10.070913   \n",
            "3                                  9.970366   \n",
            "4                                  9.925709   \n",
            "\n",
            "   secondary_cleaner.state.floatbank5_a_level  \\\n",
            "0                                 -498.310211   \n",
            "1                                 -500.169983   \n",
            "2                                 -500.129135   \n",
            "3                                 -499.201640   \n",
            "4                                 -501.686727   \n",
            "\n",
            "   secondary_cleaner.state.floatbank5_b_air  \\\n",
            "0                                  8.079666   \n",
            "1                                  7.984757   \n",
            "2                                  8.013877   \n",
            "3                                  7.977324   \n",
            "4                                  7.894242   \n",
            "\n",
            "   secondary_cleaner.state.floatbank5_b_level  \\\n",
            "0                                 -500.470978   \n",
            "1                                 -500.582168   \n",
            "2                                 -500.517572   \n",
            "3                                 -500.255908   \n",
            "4                                 -500.356035   \n",
            "\n",
            "   secondary_cleaner.state.floatbank6_a_air  \\\n",
            "0                                 14.151341   \n",
            "1                                 13.998353   \n",
            "2                                 14.028663   \n",
            "3                                 14.005551   \n",
            "4                                 13.996647   \n",
            "\n",
            "   secondary_cleaner.state.floatbank6_a_level  \n",
            "0                                 -605.841980  \n",
            "1                                 -599.787184  \n",
            "2                                 -601.427363  \n",
            "3                                 -599.996129  \n",
            "4                                 -601.496691  \n",
            "\n",
            "[5 rows x 87 columns]\n"
          ]
        }
      ],
      "source": [
        "research(train_data)"
      ]
    },
    {
      "cell_type": "code",
      "execution_count": null,
      "metadata": {
        "id": "MGtmdDex74D0",
        "outputId": "313b6d41-da78-4820-ee2c-4c84e303cfb9"
      },
      "outputs": [
        {
          "name": "stdout",
          "output_type": "stream",
          "text": [
            "(5290, 53)\n",
            "<class 'pandas.core.frame.DataFrame'>\n",
            "RangeIndex: 5290 entries, 0 to 5289\n",
            "Data columns (total 53 columns):\n",
            " #   Column                                      Non-Null Count  Dtype  \n",
            "---  ------                                      --------------  -----  \n",
            " 0   date                                        5290 non-null   object \n",
            " 1   primary_cleaner.input.sulfate               5286 non-null   float64\n",
            " 2   primary_cleaner.input.depressant            5285 non-null   float64\n",
            " 3   primary_cleaner.input.feed_size             5290 non-null   float64\n",
            " 4   primary_cleaner.input.xanthate              5286 non-null   float64\n",
            " 5   primary_cleaner.state.floatbank8_a_air      5290 non-null   float64\n",
            " 6   primary_cleaner.state.floatbank8_a_level    5290 non-null   float64\n",
            " 7   primary_cleaner.state.floatbank8_b_air      5290 non-null   float64\n",
            " 8   primary_cleaner.state.floatbank8_b_level    5290 non-null   float64\n",
            " 9   primary_cleaner.state.floatbank8_c_air      5290 non-null   float64\n",
            " 10  primary_cleaner.state.floatbank8_c_level    5290 non-null   float64\n",
            " 11  primary_cleaner.state.floatbank8_d_air      5290 non-null   float64\n",
            " 12  primary_cleaner.state.floatbank8_d_level    5290 non-null   float64\n",
            " 13  rougher.input.feed_ag                       5290 non-null   float64\n",
            " 14  rougher.input.feed_pb                       5290 non-null   float64\n",
            " 15  rougher.input.feed_rate                     5287 non-null   float64\n",
            " 16  rougher.input.feed_size                     5289 non-null   float64\n",
            " 17  rougher.input.feed_sol                      5269 non-null   float64\n",
            " 18  rougher.input.feed_au                       5290 non-null   float64\n",
            " 19  rougher.input.floatbank10_sulfate           5285 non-null   float64\n",
            " 20  rougher.input.floatbank10_xanthate          5290 non-null   float64\n",
            " 21  rougher.input.floatbank11_sulfate           5282 non-null   float64\n",
            " 22  rougher.input.floatbank11_xanthate          5265 non-null   float64\n",
            " 23  rougher.state.floatbank10_a_air             5290 non-null   float64\n",
            " 24  rougher.state.floatbank10_a_level           5290 non-null   float64\n",
            " 25  rougher.state.floatbank10_b_air             5290 non-null   float64\n",
            " 26  rougher.state.floatbank10_b_level           5290 non-null   float64\n",
            " 27  rougher.state.floatbank10_c_air             5290 non-null   float64\n",
            " 28  rougher.state.floatbank10_c_level           5290 non-null   float64\n",
            " 29  rougher.state.floatbank10_d_air             5290 non-null   float64\n",
            " 30  rougher.state.floatbank10_d_level           5290 non-null   float64\n",
            " 31  rougher.state.floatbank10_e_air             5290 non-null   float64\n",
            " 32  rougher.state.floatbank10_e_level           5290 non-null   float64\n",
            " 33  rougher.state.floatbank10_f_air             5290 non-null   float64\n",
            " 34  rougher.state.floatbank10_f_level           5290 non-null   float64\n",
            " 35  secondary_cleaner.state.floatbank2_a_air    5287 non-null   float64\n",
            " 36  secondary_cleaner.state.floatbank2_a_level  5290 non-null   float64\n",
            " 37  secondary_cleaner.state.floatbank2_b_air    5288 non-null   float64\n",
            " 38  secondary_cleaner.state.floatbank2_b_level  5290 non-null   float64\n",
            " 39  secondary_cleaner.state.floatbank3_a_air    5281 non-null   float64\n",
            " 40  secondary_cleaner.state.floatbank3_a_level  5290 non-null   float64\n",
            " 41  secondary_cleaner.state.floatbank3_b_air    5290 non-null   float64\n",
            " 42  secondary_cleaner.state.floatbank3_b_level  5290 non-null   float64\n",
            " 43  secondary_cleaner.state.floatbank4_a_air    5290 non-null   float64\n",
            " 44  secondary_cleaner.state.floatbank4_a_level  5290 non-null   float64\n",
            " 45  secondary_cleaner.state.floatbank4_b_air    5290 non-null   float64\n",
            " 46  secondary_cleaner.state.floatbank4_b_level  5290 non-null   float64\n",
            " 47  secondary_cleaner.state.floatbank5_a_air    5290 non-null   float64\n",
            " 48  secondary_cleaner.state.floatbank5_a_level  5290 non-null   float64\n",
            " 49  secondary_cleaner.state.floatbank5_b_air    5290 non-null   float64\n",
            " 50  secondary_cleaner.state.floatbank5_b_level  5290 non-null   float64\n",
            " 51  secondary_cleaner.state.floatbank6_a_air    5290 non-null   float64\n",
            " 52  secondary_cleaner.state.floatbank6_a_level  5290 non-null   float64\n",
            "dtypes: float64(52), object(1)\n",
            "memory usage: 2.1+ MB\n",
            "None\n",
            "                  date  primary_cleaner.input.sulfate  \\\n",
            "0  2016-09-01 00:59:59                     210.800909   \n",
            "1  2016-09-01 01:59:59                     215.392455   \n",
            "2  2016-09-01 02:59:59                     215.259946   \n",
            "3  2016-09-01 03:59:59                     215.336236   \n",
            "4  2016-09-01 04:59:59                     199.099327   \n",
            "\n",
            "   primary_cleaner.input.depressant  primary_cleaner.input.feed_size  \\\n",
            "0                         14.993118                         8.080000   \n",
            "1                         14.987471                         8.080000   \n",
            "2                         12.884934                         7.786667   \n",
            "3                         12.006805                         7.640000   \n",
            "4                         10.682530                         7.530000   \n",
            "\n",
            "   primary_cleaner.input.xanthate  primary_cleaner.state.floatbank8_a_air  \\\n",
            "0                        1.005021                             1398.981301   \n",
            "1                        0.990469                             1398.777912   \n",
            "2                        0.996043                             1398.493666   \n",
            "3                        0.863514                             1399.618111   \n",
            "4                        0.805575                             1401.268123   \n",
            "\n",
            "   primary_cleaner.state.floatbank8_a_level  \\\n",
            "0                               -500.225577   \n",
            "1                               -500.057435   \n",
            "2                               -500.868360   \n",
            "3                               -498.863574   \n",
            "4                               -500.808305   \n",
            "\n",
            "   primary_cleaner.state.floatbank8_b_air  \\\n",
            "0                             1399.144926   \n",
            "1                             1398.055362   \n",
            "2                             1398.860436   \n",
            "3                             1397.440120   \n",
            "4                             1398.128818   \n",
            "\n",
            "   primary_cleaner.state.floatbank8_b_level  \\\n",
            "0                               -499.919735   \n",
            "1                               -499.778182   \n",
            "2                               -499.764529   \n",
            "3                               -499.211024   \n",
            "4                               -499.504543   \n",
            "\n",
            "   primary_cleaner.state.floatbank8_c_air  ...  \\\n",
            "0                             1400.102998  ...   \n",
            "1                             1396.151033  ...   \n",
            "2                             1398.075709  ...   \n",
            "3                             1400.129303  ...   \n",
            "4                             1402.172226  ...   \n",
            "\n",
            "   secondary_cleaner.state.floatbank4_a_air  \\\n",
            "0                                 12.023554   \n",
            "1                                 12.058140   \n",
            "2                                 11.962366   \n",
            "3                                 12.033091   \n",
            "4                                 12.025367   \n",
            "\n",
            "   secondary_cleaner.state.floatbank4_a_level  \\\n",
            "0                                 -497.795834   \n",
            "1                                 -498.695773   \n",
            "2                                 -498.767484   \n",
            "3                                 -498.350935   \n",
            "4                                 -500.786497   \n",
            "\n",
            "   secondary_cleaner.state.floatbank4_b_air  \\\n",
            "0                                  8.016656   \n",
            "1                                  8.130979   \n",
            "2                                  8.096893   \n",
            "3                                  8.074946   \n",
            "4                                  8.054678   \n",
            "\n",
            "   secondary_cleaner.state.floatbank4_b_level  \\\n",
            "0                                 -501.289139   \n",
            "1                                 -499.634209   \n",
            "2                                 -500.827423   \n",
            "3                                 -499.474407   \n",
            "4                                 -500.397500   \n",
            "\n",
            "   secondary_cleaner.state.floatbank5_a_air  \\\n",
            "0                                  7.946562   \n",
            "1                                  7.958270   \n",
            "2                                  8.071056   \n",
            "3                                  7.897085   \n",
            "4                                  8.107890   \n",
            "\n",
            "   secondary_cleaner.state.floatbank5_a_level  \\\n",
            "0                                 -432.317850   \n",
            "1                                 -525.839648   \n",
            "2                                 -500.801673   \n",
            "3                                 -500.868509   \n",
            "4                                 -509.526725   \n",
            "\n",
            "   secondary_cleaner.state.floatbank5_b_air  \\\n",
            "0                                  4.872511   \n",
            "1                                  4.878850   \n",
            "2                                  4.905125   \n",
            "3                                  4.931400   \n",
            "4                                  4.957674   \n",
            "\n",
            "   secondary_cleaner.state.floatbank5_b_level  \\\n",
            "0                                 -500.037437   \n",
            "1                                 -500.162375   \n",
            "2                                 -499.828510   \n",
            "3                                 -499.963623   \n",
            "4                                 -500.360026   \n",
            "\n",
            "   secondary_cleaner.state.floatbank6_a_air  \\\n",
            "0                                 26.705889   \n",
            "1                                 25.019940   \n",
            "2                                 24.994862   \n",
            "3                                 24.948919   \n",
            "4                                 25.003331   \n",
            "\n",
            "   secondary_cleaner.state.floatbank6_a_level  \n",
            "0                                 -499.709414  \n",
            "1                                 -499.819438  \n",
            "2                                 -500.622559  \n",
            "3                                 -498.709987  \n",
            "4                                 -500.856333  \n",
            "\n",
            "[5 rows x 53 columns]\n"
          ]
        }
      ],
      "source": [
        "research(test_data)"
      ]
    },
    {
      "cell_type": "code",
      "execution_count": null,
      "metadata": {
        "scrolled": false,
        "id": "xNQAxPlR74D1",
        "outputId": "e5759217-ceff-4816-a823-121efd59c410"
      },
      "outputs": [
        {
          "name": "stdout",
          "output_type": "stream",
          "text": [
            "(19439, 87)\n",
            "<class 'pandas.core.frame.DataFrame'>\n",
            "RangeIndex: 19439 entries, 0 to 19438\n",
            "Data columns (total 87 columns):\n",
            " #   Column                                              Non-Null Count  Dtype  \n",
            "---  ------                                              --------------  -----  \n",
            " 0   date                                                19439 non-null  object \n",
            " 1   final.output.concentrate_ag                         19438 non-null  float64\n",
            " 2   final.output.concentrate_pb                         19438 non-null  float64\n",
            " 3   final.output.concentrate_sol                        19228 non-null  float64\n",
            " 4   final.output.concentrate_au                         19439 non-null  float64\n",
            " 5   final.output.recovery                               19439 non-null  float64\n",
            " 6   final.output.tail_ag                                19438 non-null  float64\n",
            " 7   final.output.tail_pb                                19338 non-null  float64\n",
            " 8   final.output.tail_sol                               19433 non-null  float64\n",
            " 9   final.output.tail_au                                19439 non-null  float64\n",
            " 10  primary_cleaner.input.sulfate                       19415 non-null  float64\n",
            " 11  primary_cleaner.input.depressant                    19402 non-null  float64\n",
            " 12  primary_cleaner.input.feed_size                     19439 non-null  float64\n",
            " 13  primary_cleaner.input.xanthate                      19335 non-null  float64\n",
            " 14  primary_cleaner.output.concentrate_ag               19439 non-null  float64\n",
            " 15  primary_cleaner.output.concentrate_pb               19323 non-null  float64\n",
            " 16  primary_cleaner.output.concentrate_sol              19069 non-null  float64\n",
            " 17  primary_cleaner.output.concentrate_au               19439 non-null  float64\n",
            " 18  primary_cleaner.output.tail_ag                      19435 non-null  float64\n",
            " 19  primary_cleaner.output.tail_pb                      19418 non-null  float64\n",
            " 20  primary_cleaner.output.tail_sol                     19377 non-null  float64\n",
            " 21  primary_cleaner.output.tail_au                      19439 non-null  float64\n",
            " 22  primary_cleaner.state.floatbank8_a_air              19435 non-null  float64\n",
            " 23  primary_cleaner.state.floatbank8_a_level            19438 non-null  float64\n",
            " 24  primary_cleaner.state.floatbank8_b_air              19435 non-null  float64\n",
            " 25  primary_cleaner.state.floatbank8_b_level            19438 non-null  float64\n",
            " 26  primary_cleaner.state.floatbank8_c_air              19437 non-null  float64\n",
            " 27  primary_cleaner.state.floatbank8_c_level            19438 non-null  float64\n",
            " 28  primary_cleaner.state.floatbank8_d_air              19436 non-null  float64\n",
            " 29  primary_cleaner.state.floatbank8_d_level            19438 non-null  float64\n",
            " 30  rougher.calculation.sulfate_to_au_concentrate       19437 non-null  float64\n",
            " 31  rougher.calculation.floatbank10_sulfate_to_au_feed  19437 non-null  float64\n",
            " 32  rougher.calculation.floatbank11_sulfate_to_au_feed  19437 non-null  float64\n",
            " 33  rougher.calculation.au_pb_ratio                     19439 non-null  float64\n",
            " 34  rougher.input.feed_ag                               19439 non-null  float64\n",
            " 35  rougher.input.feed_pb                               19339 non-null  float64\n",
            " 36  rougher.input.feed_rate                             19428 non-null  float64\n",
            " 37  rougher.input.feed_size                             19294 non-null  float64\n",
            " 38  rougher.input.feed_sol                              19340 non-null  float64\n",
            " 39  rougher.input.feed_au                               19439 non-null  float64\n",
            " 40  rougher.input.floatbank10_sulfate                   19405 non-null  float64\n",
            " 41  rougher.input.floatbank10_xanthate                  19431 non-null  float64\n",
            " 42  rougher.input.floatbank11_sulfate                   19395 non-null  float64\n",
            " 43  rougher.input.floatbank11_xanthate                  18986 non-null  float64\n",
            " 44  rougher.output.concentrate_ag                       19439 non-null  float64\n",
            " 45  rougher.output.concentrate_pb                       19439 non-null  float64\n",
            " 46  rougher.output.concentrate_sol                      19416 non-null  float64\n",
            " 47  rougher.output.concentrate_au                       19439 non-null  float64\n",
            " 48  rougher.output.recovery                             19439 non-null  float64\n",
            " 49  rougher.output.tail_ag                              19438 non-null  float64\n",
            " 50  rougher.output.tail_pb                              19439 non-null  float64\n",
            " 51  rougher.output.tail_sol                             19439 non-null  float64\n",
            " 52  rougher.output.tail_au                              19439 non-null  float64\n",
            " 53  rougher.state.floatbank10_a_air                     19438 non-null  float64\n",
            " 54  rougher.state.floatbank10_a_level                   19438 non-null  float64\n",
            " 55  rougher.state.floatbank10_b_air                     19438 non-null  float64\n",
            " 56  rougher.state.floatbank10_b_level                   19438 non-null  float64\n",
            " 57  rougher.state.floatbank10_c_air                     19438 non-null  float64\n",
            " 58  rougher.state.floatbank10_c_level                   19438 non-null  float64\n",
            " 59  rougher.state.floatbank10_d_air                     19439 non-null  float64\n",
            " 60  rougher.state.floatbank10_d_level                   19439 non-null  float64\n",
            " 61  rougher.state.floatbank10_e_air                     19003 non-null  float64\n",
            " 62  rougher.state.floatbank10_e_level                   19439 non-null  float64\n",
            " 63  rougher.state.floatbank10_f_air                     19439 non-null  float64\n",
            " 64  rougher.state.floatbank10_f_level                   19439 non-null  float64\n",
            " 65  secondary_cleaner.output.tail_ag                    19437 non-null  float64\n",
            " 66  secondary_cleaner.output.tail_pb                    19427 non-null  float64\n",
            " 67  secondary_cleaner.output.tail_sol                   17691 non-null  float64\n",
            " 68  secondary_cleaner.output.tail_au                    19439 non-null  float64\n",
            " 69  secondary_cleaner.state.floatbank2_a_air            19219 non-null  float64\n",
            " 70  secondary_cleaner.state.floatbank2_a_level          19438 non-null  float64\n",
            " 71  secondary_cleaner.state.floatbank2_b_air            19416 non-null  float64\n",
            " 72  secondary_cleaner.state.floatbank2_b_level          19438 non-null  float64\n",
            " 73  secondary_cleaner.state.floatbank3_a_air            19426 non-null  float64\n",
            " 74  secondary_cleaner.state.floatbank3_a_level          19438 non-null  float64\n",
            " 75  secondary_cleaner.state.floatbank3_b_air            19438 non-null  float64\n",
            " 76  secondary_cleaner.state.floatbank3_b_level          19438 non-null  float64\n",
            " 77  secondary_cleaner.state.floatbank4_a_air            19433 non-null  float64\n",
            " 78  secondary_cleaner.state.floatbank4_a_level          19438 non-null  float64\n",
            " 79  secondary_cleaner.state.floatbank4_b_air            19438 non-null  float64\n",
            " 80  secondary_cleaner.state.floatbank4_b_level          19438 non-null  float64\n",
            " 81  secondary_cleaner.state.floatbank5_a_air            19438 non-null  float64\n",
            " 82  secondary_cleaner.state.floatbank5_a_level          19438 non-null  float64\n",
            " 83  secondary_cleaner.state.floatbank5_b_air            19438 non-null  float64\n",
            " 84  secondary_cleaner.state.floatbank5_b_level          19438 non-null  float64\n",
            " 85  secondary_cleaner.state.floatbank6_a_air            19437 non-null  float64\n",
            " 86  secondary_cleaner.state.floatbank6_a_level          19438 non-null  float64\n",
            "dtypes: float64(86), object(1)\n",
            "memory usage: 12.9+ MB\n",
            "None\n",
            "                  date  final.output.concentrate_ag  \\\n",
            "0  2016-01-15 00:00:00                     6.055403   \n",
            "1  2016-01-15 01:00:00                     6.029369   \n",
            "2  2016-01-15 02:00:00                     6.055926   \n",
            "3  2016-01-15 03:00:00                     6.047977   \n",
            "4  2016-01-15 04:00:00                     6.148599   \n",
            "\n",
            "   final.output.concentrate_pb  final.output.concentrate_sol  \\\n",
            "0                     9.889648                      5.507324   \n",
            "1                     9.968944                      5.257781   \n",
            "2                    10.213995                      5.383759   \n",
            "3                     9.977019                      4.858634   \n",
            "4                    10.142511                      4.939416   \n",
            "\n",
            "   final.output.concentrate_au  final.output.recovery  final.output.tail_ag  \\\n",
            "0                    42.192020              70.541216             10.411962   \n",
            "1                    42.701629              69.266198             10.462676   \n",
            "2                    42.657501              68.116445             10.507046   \n",
            "3                    42.689819              68.347543             10.422762   \n",
            "4                    42.774141              66.927016             10.360302   \n",
            "\n",
            "   final.output.tail_pb  final.output.tail_sol  final.output.tail_au  ...  \\\n",
            "0              0.895447              16.904297              2.143149  ...   \n",
            "1              0.927452              16.634514              2.224930  ...   \n",
            "2              0.953716              16.208849              2.257889  ...   \n",
            "3              0.883763              16.532835              2.146849  ...   \n",
            "4              0.792826              16.525686              2.055292  ...   \n",
            "\n",
            "   secondary_cleaner.state.floatbank4_a_air  \\\n",
            "0                                 14.016835   \n",
            "1                                 13.992281   \n",
            "2                                 14.015015   \n",
            "3                                 14.036510   \n",
            "4                                 14.027298   \n",
            "\n",
            "   secondary_cleaner.state.floatbank4_a_level  \\\n",
            "0                                 -502.488007   \n",
            "1                                 -505.503262   \n",
            "2                                 -502.520901   \n",
            "3                                 -500.857308   \n",
            "4                                 -499.838632   \n",
            "\n",
            "   secondary_cleaner.state.floatbank4_b_air  \\\n",
            "0                                 12.099931   \n",
            "1                                 11.950531   \n",
            "2                                 11.912783   \n",
            "3                                 11.999550   \n",
            "4                                 11.953070   \n",
            "\n",
            "   secondary_cleaner.state.floatbank4_b_level  \\\n",
            "0                                 -504.715942   \n",
            "1                                 -501.331529   \n",
            "2                                 -501.133383   \n",
            "3                                 -501.193686   \n",
            "4                                 -501.053894   \n",
            "\n",
            "   secondary_cleaner.state.floatbank5_a_air  \\\n",
            "0                                  9.925633   \n",
            "1                                 10.039245   \n",
            "2                                 10.070913   \n",
            "3                                  9.970366   \n",
            "4                                  9.925709   \n",
            "\n",
            "   secondary_cleaner.state.floatbank5_a_level  \\\n",
            "0                                 -498.310211   \n",
            "1                                 -500.169983   \n",
            "2                                 -500.129135   \n",
            "3                                 -499.201640   \n",
            "4                                 -501.686727   \n",
            "\n",
            "   secondary_cleaner.state.floatbank5_b_air  \\\n",
            "0                                  8.079666   \n",
            "1                                  7.984757   \n",
            "2                                  8.013877   \n",
            "3                                  7.977324   \n",
            "4                                  7.894242   \n",
            "\n",
            "   secondary_cleaner.state.floatbank5_b_level  \\\n",
            "0                                 -500.470978   \n",
            "1                                 -500.582168   \n",
            "2                                 -500.517572   \n",
            "3                                 -500.255908   \n",
            "4                                 -500.356035   \n",
            "\n",
            "   secondary_cleaner.state.floatbank6_a_air  \\\n",
            "0                                 14.151341   \n",
            "1                                 13.998353   \n",
            "2                                 14.028663   \n",
            "3                                 14.005551   \n",
            "4                                 13.996647   \n",
            "\n",
            "   secondary_cleaner.state.floatbank6_a_level  \n",
            "0                                 -605.841980  \n",
            "1                                 -599.787184  \n",
            "2                                 -601.427363  \n",
            "3                                 -599.996129  \n",
            "4                                 -601.496691  \n",
            "\n",
            "[5 rows x 87 columns]\n"
          ]
        }
      ],
      "source": [
        "research(full_data)"
      ]
    },
    {
      "cell_type": "markdown",
      "metadata": {
        "id": "3_psb4Y174D2"
      },
      "source": [
        "##### Проверка эффективности обогащения"
      ]
    },
    {
      "cell_type": "code",
      "execution_count": null,
      "metadata": {
        "id": "j43xlD1m74D2"
      },
      "outputs": [],
      "source": [
        "columns_mae = ['rougher.output.recovery',\n",
        "           'rougher.output.concentrate_au',\n",
        "           'rougher.input.feed_au',\n",
        "           'rougher.output.tail_au']\n",
        "\n",
        "data_temp = train_data[columns_mae].dropna()"
      ]
    },
    {
      "cell_type": "code",
      "execution_count": null,
      "metadata": {
        "id": "l_dMxSUn74D3"
      },
      "outputs": [],
      "source": [
        "C = train_data['rougher.output.concentrate_au']\n",
        "F = train_data['rougher.input.feed_au']\n",
        "T = train_data['rougher.output.tail_au']"
      ]
    },
    {
      "cell_type": "code",
      "execution_count": null,
      "metadata": {
        "id": "thcR1LEs74D4"
      },
      "outputs": [],
      "source": [
        "calculation = ((C * (F - T)) / (F * (C - T))) * 100"
      ]
    },
    {
      "cell_type": "code",
      "execution_count": null,
      "metadata": {
        "id": "pQ7pI6fi74D4",
        "outputId": "b78d2f6c-2a57-4353-cc33-41566106ecfb"
      },
      "outputs": [
        {
          "name": "stdout",
          "output_type": "stream",
          "text": [
            "MAE: 9.73512347450521e-15\n"
          ]
        }
      ],
      "source": [
        "print('MAE:', mean_absolute_error(data_temp['rougher.output.recovery'], calculation))"
      ]
    },
    {
      "cell_type": "markdown",
      "metadata": {
        "id": "3FYWC__c74D5"
      },
      "source": [
        "MAE довольна мала, считаем что Recovery посчитан верно."
      ]
    },
    {
      "cell_type": "code",
      "execution_count": null,
      "metadata": {
        "id": "T0qfu_2X74D5",
        "outputId": "c0686242-aac2-4541-ea61-f0d10a9752ac"
      },
      "outputs": [
        {
          "name": "stdout",
          "output_type": "stream",
          "text": [
            "(14149, 87)\n",
            "(5290, 53)\n"
          ]
        }
      ],
      "source": [
        "print(train_data.shape)\n",
        "print(test_data.shape)"
      ]
    },
    {
      "cell_type": "markdown",
      "metadata": {
        "id": "xfrje36Y74D5"
      },
      "source": [
        "##### Проанализируем признаки, недоступные в тестовой выборке."
      ]
    },
    {
      "cell_type": "code",
      "execution_count": null,
      "metadata": {
        "scrolled": true,
        "id": "iGGbb32w74D6",
        "outputId": "662a3055-7702-41eb-8c9e-c2cbe159c281"
      },
      "outputs": [
        {
          "data": {
            "text/html": [
              "<div>\n",
              "<style scoped>\n",
              "    .dataframe tbody tr th:only-of-type {\n",
              "        vertical-align: middle;\n",
              "    }\n",
              "\n",
              "    .dataframe tbody tr th {\n",
              "        vertical-align: top;\n",
              "    }\n",
              "\n",
              "    .dataframe thead th {\n",
              "        text-align: right;\n",
              "    }\n",
              "</style>\n",
              "<table border=\"1\" class=\"dataframe\">\n",
              "  <thead>\n",
              "    <tr style=\"text-align: right;\">\n",
              "      <th></th>\n",
              "      <th>final.output.concentrate_ag</th>\n",
              "      <th>final.output.concentrate_pb</th>\n",
              "      <th>final.output.concentrate_sol</th>\n",
              "      <th>final.output.concentrate_au</th>\n",
              "      <th>final.output.recovery</th>\n",
              "      <th>final.output.tail_ag</th>\n",
              "      <th>final.output.tail_pb</th>\n",
              "      <th>final.output.tail_sol</th>\n",
              "      <th>final.output.tail_au</th>\n",
              "      <th>primary_cleaner.output.concentrate_ag</th>\n",
              "      <th>...</th>\n",
              "      <th>rougher.output.concentrate_au</th>\n",
              "      <th>rougher.output.recovery</th>\n",
              "      <th>rougher.output.tail_ag</th>\n",
              "      <th>rougher.output.tail_pb</th>\n",
              "      <th>rougher.output.tail_sol</th>\n",
              "      <th>rougher.output.tail_au</th>\n",
              "      <th>secondary_cleaner.output.tail_ag</th>\n",
              "      <th>secondary_cleaner.output.tail_pb</th>\n",
              "      <th>secondary_cleaner.output.tail_sol</th>\n",
              "      <th>secondary_cleaner.output.tail_au</th>\n",
              "    </tr>\n",
              "  </thead>\n",
              "  <tbody>\n",
              "    <tr>\n",
              "      <th>0</th>\n",
              "      <td>6.055403</td>\n",
              "      <td>9.889648</td>\n",
              "      <td>5.507324</td>\n",
              "      <td>42.192020</td>\n",
              "      <td>70.541216</td>\n",
              "      <td>10.411962</td>\n",
              "      <td>0.895447</td>\n",
              "      <td>16.904297</td>\n",
              "      <td>2.143149</td>\n",
              "      <td>8.547551</td>\n",
              "      <td>...</td>\n",
              "      <td>19.793808</td>\n",
              "      <td>87.107763</td>\n",
              "      <td>5.008018</td>\n",
              "      <td>0.508728</td>\n",
              "      <td>19.154297</td>\n",
              "      <td>1.170244</td>\n",
              "      <td>14.500184</td>\n",
              "      <td>4.694824</td>\n",
              "      <td>8.764648</td>\n",
              "      <td>2.606185</td>\n",
              "    </tr>\n",
              "    <tr>\n",
              "      <th>1</th>\n",
              "      <td>6.029369</td>\n",
              "      <td>9.968944</td>\n",
              "      <td>5.257781</td>\n",
              "      <td>42.701629</td>\n",
              "      <td>69.266198</td>\n",
              "      <td>10.462676</td>\n",
              "      <td>0.927452</td>\n",
              "      <td>16.634514</td>\n",
              "      <td>2.224930</td>\n",
              "      <td>8.558743</td>\n",
              "      <td>...</td>\n",
              "      <td>20.050975</td>\n",
              "      <td>86.843261</td>\n",
              "      <td>4.955378</td>\n",
              "      <td>0.536689</td>\n",
              "      <td>18.965234</td>\n",
              "      <td>1.184827</td>\n",
              "      <td>14.265474</td>\n",
              "      <td>4.592547</td>\n",
              "      <td>9.001494</td>\n",
              "      <td>2.488248</td>\n",
              "    </tr>\n",
              "    <tr>\n",
              "      <th>2</th>\n",
              "      <td>6.055926</td>\n",
              "      <td>10.213995</td>\n",
              "      <td>5.383759</td>\n",
              "      <td>42.657501</td>\n",
              "      <td>68.116445</td>\n",
              "      <td>10.507046</td>\n",
              "      <td>0.953716</td>\n",
              "      <td>16.208849</td>\n",
              "      <td>2.257889</td>\n",
              "      <td>8.603505</td>\n",
              "      <td>...</td>\n",
              "      <td>19.737170</td>\n",
              "      <td>86.842308</td>\n",
              "      <td>4.843460</td>\n",
              "      <td>0.546416</td>\n",
              "      <td>18.808533</td>\n",
              "      <td>1.162562</td>\n",
              "      <td>14.115662</td>\n",
              "      <td>4.624775</td>\n",
              "      <td>8.842896</td>\n",
              "      <td>2.458187</td>\n",
              "    </tr>\n",
              "    <tr>\n",
              "      <th>3</th>\n",
              "      <td>6.047977</td>\n",
              "      <td>9.977019</td>\n",
              "      <td>4.858634</td>\n",
              "      <td>42.689819</td>\n",
              "      <td>68.347543</td>\n",
              "      <td>10.422762</td>\n",
              "      <td>0.883763</td>\n",
              "      <td>16.532835</td>\n",
              "      <td>2.146849</td>\n",
              "      <td>7.221879</td>\n",
              "      <td>...</td>\n",
              "      <td>19.320810</td>\n",
              "      <td>87.226430</td>\n",
              "      <td>4.655288</td>\n",
              "      <td>0.542525</td>\n",
              "      <td>19.330200</td>\n",
              "      <td>1.079755</td>\n",
              "      <td>13.732071</td>\n",
              "      <td>4.482453</td>\n",
              "      <td>9.122857</td>\n",
              "      <td>2.322062</td>\n",
              "    </tr>\n",
              "    <tr>\n",
              "      <th>4</th>\n",
              "      <td>6.148599</td>\n",
              "      <td>10.142511</td>\n",
              "      <td>4.939416</td>\n",
              "      <td>42.774141</td>\n",
              "      <td>66.927016</td>\n",
              "      <td>10.360302</td>\n",
              "      <td>0.792826</td>\n",
              "      <td>16.525686</td>\n",
              "      <td>2.055292</td>\n",
              "      <td>9.089428</td>\n",
              "      <td>...</td>\n",
              "      <td>19.216101</td>\n",
              "      <td>86.688794</td>\n",
              "      <td>4.552800</td>\n",
              "      <td>0.515438</td>\n",
              "      <td>19.267422</td>\n",
              "      <td>1.012642</td>\n",
              "      <td>14.079996</td>\n",
              "      <td>4.470737</td>\n",
              "      <td>8.871028</td>\n",
              "      <td>2.330448</td>\n",
              "    </tr>\n",
              "  </tbody>\n",
              "</table>\n",
              "<p>5 rows × 34 columns</p>\n",
              "</div>"
            ],
            "text/plain": [
              "   final.output.concentrate_ag  final.output.concentrate_pb  \\\n",
              "0                     6.055403                     9.889648   \n",
              "1                     6.029369                     9.968944   \n",
              "2                     6.055926                    10.213995   \n",
              "3                     6.047977                     9.977019   \n",
              "4                     6.148599                    10.142511   \n",
              "\n",
              "   final.output.concentrate_sol  final.output.concentrate_au  \\\n",
              "0                      5.507324                    42.192020   \n",
              "1                      5.257781                    42.701629   \n",
              "2                      5.383759                    42.657501   \n",
              "3                      4.858634                    42.689819   \n",
              "4                      4.939416                    42.774141   \n",
              "\n",
              "   final.output.recovery  final.output.tail_ag  final.output.tail_pb  \\\n",
              "0              70.541216             10.411962              0.895447   \n",
              "1              69.266198             10.462676              0.927452   \n",
              "2              68.116445             10.507046              0.953716   \n",
              "3              68.347543             10.422762              0.883763   \n",
              "4              66.927016             10.360302              0.792826   \n",
              "\n",
              "   final.output.tail_sol  final.output.tail_au  \\\n",
              "0              16.904297              2.143149   \n",
              "1              16.634514              2.224930   \n",
              "2              16.208849              2.257889   \n",
              "3              16.532835              2.146849   \n",
              "4              16.525686              2.055292   \n",
              "\n",
              "   primary_cleaner.output.concentrate_ag  ...  rougher.output.concentrate_au  \\\n",
              "0                               8.547551  ...                      19.793808   \n",
              "1                               8.558743  ...                      20.050975   \n",
              "2                               8.603505  ...                      19.737170   \n",
              "3                               7.221879  ...                      19.320810   \n",
              "4                               9.089428  ...                      19.216101   \n",
              "\n",
              "   rougher.output.recovery  rougher.output.tail_ag  rougher.output.tail_pb  \\\n",
              "0                87.107763                5.008018                0.508728   \n",
              "1                86.843261                4.955378                0.536689   \n",
              "2                86.842308                4.843460                0.546416   \n",
              "3                87.226430                4.655288                0.542525   \n",
              "4                86.688794                4.552800                0.515438   \n",
              "\n",
              "   rougher.output.tail_sol  rougher.output.tail_au  \\\n",
              "0                19.154297                1.170244   \n",
              "1                18.965234                1.184827   \n",
              "2                18.808533                1.162562   \n",
              "3                19.330200                1.079755   \n",
              "4                19.267422                1.012642   \n",
              "\n",
              "   secondary_cleaner.output.tail_ag  secondary_cleaner.output.tail_pb  \\\n",
              "0                         14.500184                          4.694824   \n",
              "1                         14.265474                          4.592547   \n",
              "2                         14.115662                          4.624775   \n",
              "3                         13.732071                          4.482453   \n",
              "4                         14.079996                          4.470737   \n",
              "\n",
              "   secondary_cleaner.output.tail_sol  secondary_cleaner.output.tail_au  \n",
              "0                           8.764648                          2.606185  \n",
              "1                           9.001494                          2.488248  \n",
              "2                           8.842896                          2.458187  \n",
              "3                           9.122857                          2.322062  \n",
              "4                           8.871028                          2.330448  \n",
              "\n",
              "[5 rows x 34 columns]"
            ]
          },
          "execution_count": 12,
          "metadata": {},
          "output_type": "execute_result"
        }
      ],
      "source": [
        "missing_cols = train_data.columns.drop(test_data.columns)\n",
        "train_data[missing_cols].head()"
      ]
    },
    {
      "cell_type": "markdown",
      "metadata": {
        "id": "FyKWyple74D6"
      },
      "source": [
        "\n",
        "    \n",
        "    В тесте отсутствуют параметры, которые обозначают характеристики этапов обработки, также содержат расчетные характеристики и целевые значения эффективности обогащения. Тип данных отсутствующих признаков: float64."
      ]
    },
    {
      "cell_type": "markdown",
      "metadata": {
        "id": "59RZS-CX74D7"
      },
      "source": [
        "Уберём из обучающей выборки ненужные признаки и добавим целевые признаки в тестовую выборку."
      ]
    },
    {
      "cell_type": "code",
      "execution_count": null,
      "metadata": {
        "id": "M363Pkyb74D7"
      },
      "outputs": [],
      "source": [
        "cols_to_drop = missing_cols.drop(['final.output.recovery', 'rougher.output.recovery'])\n",
        "right_cols = train_data.columns.drop(cols_to_drop)\n",
        "train_data = train_data[right_cols]"
      ]
    },
    {
      "cell_type": "markdown",
      "metadata": {
        "id": "G_vf80Wb74D8"
      },
      "source": [
        "Будем использовать столбец date как индексы, чтобы объединить датасеты и добавить в тестовую выборку недостающие столбцы."
      ]
    },
    {
      "cell_type": "code",
      "execution_count": null,
      "metadata": {
        "id": "dE2lKRvv74D8"
      },
      "outputs": [],
      "source": [
        "target_features_to_join = full_data[['date', 'final.output.recovery', 'rougher.output.recovery']].copy()"
      ]
    },
    {
      "cell_type": "code",
      "execution_count": null,
      "metadata": {
        "id": "SgWaupjZ74D8"
      },
      "outputs": [],
      "source": [
        "test_data = test_data.join(target_features_to_join.set_index('date'), on='date')"
      ]
    },
    {
      "cell_type": "code",
      "execution_count": null,
      "metadata": {
        "id": "zCggUpQU74D9",
        "outputId": "75605725-5e08-4c07-b89c-e2c802f6c002"
      },
      "outputs": [
        {
          "data": {
            "text/plain": [
              "False    14149\n",
              "Name: final.output.recovery, dtype: int64"
            ]
          },
          "execution_count": 16,
          "metadata": {},
          "output_type": "execute_result"
        }
      ],
      "source": [
        "train_data['final.output.recovery'].isnull().value_counts()"
      ]
    },
    {
      "cell_type": "code",
      "execution_count": null,
      "metadata": {
        "id": "cZSWHrgP74D9",
        "outputId": "96ca1a2b-1dd8-4791-8701-dafcd73a0df6"
      },
      "outputs": [
        {
          "data": {
            "text/plain": [
              "False    5290\n",
              "Name: final.output.recovery, dtype: int64"
            ]
          },
          "execution_count": 17,
          "metadata": {},
          "output_type": "execute_result"
        }
      ],
      "source": [
        "test_data['final.output.recovery'].isnull().value_counts()"
      ]
    },
    {
      "cell_type": "markdown",
      "metadata": {
        "id": "jxRbw4Ue74D9"
      },
      "source": [
        "Избавимся от значений NaN в целевых признаках обеих выборок"
      ]
    },
    {
      "cell_type": "code",
      "execution_count": null,
      "metadata": {
        "id": "f95x8G9o74D-"
      },
      "outputs": [],
      "source": [
        "train_data.dropna(subset = ['final.output.recovery', 'rougher.output.recovery'], inplace = True)\n",
        "test_data.dropna(subset = ['final.output.recovery', 'rougher.output.recovery'], inplace = True)"
      ]
    },
    {
      "cell_type": "code",
      "execution_count": null,
      "metadata": {
        "id": "DoY_9IHr74D-"
      },
      "outputs": [],
      "source": [
        "test_data.reset_index(drop=True, inplace=True)\n",
        "train_data.reset_index(drop=True, inplace=True)"
      ]
    },
    {
      "cell_type": "code",
      "execution_count": null,
      "metadata": {
        "id": "b1BxmosU74D-",
        "outputId": "7de3ffc3-1b94-40d8-93d6-d2de2a258a35"
      },
      "outputs": [
        {
          "name": "stdout",
          "output_type": "stream",
          "text": [
            "(14149, 55)\n",
            "(5290, 55)\n"
          ]
        }
      ],
      "source": [
        "print(train_data.shape)\n",
        "print(test_data.shape)"
      ]
    },
    {
      "cell_type": "markdown",
      "metadata": {
        "id": "aBlv4nPU74D_"
      },
      "source": [
        "##### Предобработка данных"
      ]
    },
    {
      "cell_type": "code",
      "execution_count": null,
      "metadata": {
        "id": "xnDgf_Uu74D_"
      },
      "outputs": [],
      "source": [
        "train_data['date'] = pd.to_datetime(train_data['date'], format='%Y-%m-%dT%H:%M:%S')\n",
        "test_data['date'] = pd.to_datetime(test_data['date'], format='%Y-%m-%dT%H:%M:%S')\n",
        "full_data['date'] = pd.to_datetime(full_data['date'], format='%Y-%m-%dT%H:%M:%S')"
      ]
    },
    {
      "cell_type": "code",
      "execution_count": null,
      "metadata": {
        "id": "a8Fjpzd074D_"
      },
      "outputs": [],
      "source": [
        "train_data = train_data.fillna(value=None, method=\"ffill\") \n",
        "test_data = test_data.fillna(value=None, method=\"ffill\") \n",
        "full_data = full_data.fillna(value=None, method=\"ffill\") "
      ]
    },
    {
      "cell_type": "markdown",
      "metadata": {
        "id": "8Xs0Oaet74EA"
      },
      "source": [
        "## Анализ данных"
      ]
    },
    {
      "cell_type": "markdown",
      "metadata": {
        "id": "LS_GBFf774EA"
      },
      "source": [
        "##### Посмотрим, как меняется концентрация металлов (Au, Ag, Pb) на различных этапах очистки."
      ]
    },
    {
      "cell_type": "code",
      "execution_count": null,
      "metadata": {
        "id": "1CfchSdT74EA",
        "outputId": "93b66b98-6211-45fb-a60c-ef925441eaba"
      },
      "outputs": [
        {
          "data": {
            "image/png": "[encoded data removed]",
            "text/plain": [
              "<Figure size 432x288 with 1 Axes>"
            ]
          },
          "metadata": {
            "needs_background": "light"
          },
          "output_type": "display_data"
        },
        {
          "data": {
            "image/png": "[encoded data removed]",
            "text/plain": [
              "<Figure size 432x288 with 1 Axes>"
            ]
          },
          "metadata": {
            "needs_background": "light"
          },
          "output_type": "display_data"
        },
        {
          "data": {
            "image/png": "[encoded data removed]",
            "text/plain": [
              "<Figure size 432x288 with 1 Axes>"
            ]
          },
          "metadata": {
            "needs_background": "light"
          },
          "output_type": "display_data"
        }
      ],
      "source": [
        "plt.title('Концетрация Au', fontweight='bold')\n",
        "fig = sns.kdeplot(full_data['rougher.output.concentrate_au'],color='r', legend=True,shade=True)\n",
        "fig = sns.kdeplot(full_data['primary_cleaner.output.concentrate_au'],color='g', legend=True,shade=True)\n",
        "fig = sns.kdeplot(full_data['final.output.concentrate_au'],color='b', legend=True,shade=True)\n",
        "plt.legend(['Флотация', 'Первичная очистка', \"На выходе\" ], loc=1)     \n",
        "plt.show()\n",
        "\n",
        "plt.title('Концетрация Ag', fontweight='bold')\n",
        "fig = sns.kdeplot(full_data['rougher.output.concentrate_ag'],color='r', legend=True,shade=True)\n",
        "fig = sns.kdeplot(full_data['primary_cleaner.output.concentrate_ag'],color='g', legend=True,shade=True)\n",
        "fig = sns.kdeplot(full_data['final.output.concentrate_ag'],color='b', legend=True,shade=True)\n",
        "plt.legend(['Флотация', 'Первичная очистка', \"На выходе\" ], loc=1)     \n",
        "plt.show()\n",
        "\n",
        "plt.title('Концетрация Pb', fontweight='bold')\n",
        "fig = sns.kdeplot(full_data['rougher.output.concentrate_pb'],color='r', legend=True,shade=True)\n",
        "fig = sns.kdeplot(full_data['primary_cleaner.output.concentrate_pb'],color='g', legend=True,shade=True)\n",
        "fig = sns.kdeplot(full_data['final.output.concentrate_pb'],color='b', legend=True,shade=True)\n",
        "plt.legend(['Флотация', 'Первичная очистка', \"На выходе\" ], loc=1)     \n",
        "plt.show()"
      ]
    },
    {
      "cell_type": "markdown",
      "metadata": {
        "id": "KAvJBrMM74EB"
      },
      "source": [
        "На каждом из графиков видны аномальные значения в нуле, наверное это отвальные хвосты. Концентрация золота увеличивается после каждого этапа очистки"
      ]
    },
    {
      "cell_type": "markdown",
      "metadata": {
        "id": "noW8opTU74EB"
      },
      "source": [
        "\n",
        "    Концентрация золота увеличивается после каждого этапа очистки\n",
        "    Концентрация серебра увеличивается после флотации и уменьшается после следующих этапов\n",
        "    Концентрация свинца снижается после первого этапа очистки "
      ]
    },
    {
      "cell_type": "code",
      "execution_count": null,
      "metadata": {
        "id": "H2gZ0mni74EC",
        "outputId": "fae1b9fd-a456-4928-a68a-e1dc3fbc2bd0"
      },
      "outputs": [
        {
          "data": {
            "image/png": "[encoded data removed]",
            "text/plain": [
              "<Figure size 432x288 with 1 Axes>"
            ]
          },
          "metadata": {
            "needs_background": "light"
          },
          "output_type": "display_data"
        },
        {
          "data": {
            "image/png": "[encoded data removed]",
            "text/plain": [
              "<Figure size 432x288 with 1 Axes>"
            ]
          },
          "metadata": {
            "needs_background": "light"
          },
          "output_type": "display_data"
        },
        {
          "data": {
            "image/png": "[encoded data removed]",
            "text/plain": [
              "<Figure size 432x288 with 1 Axes>"
            ]
          },
          "metadata": {
            "needs_background": "light"
          },
          "output_type": "display_data"
        }
      ],
      "source": [
        "plt.title('Концетрация Au', fontweight='bold')\n",
        "fig = sns.kdeplot(full_data['rougher.input.feed_au'],color='m', legend=True,shade=True)\n",
        "fig = sns.kdeplot(full_data['rougher.output.concentrate_au'],color='r', legend=True,shade=True)\n",
        "fig = sns.kdeplot(full_data['primary_cleaner.output.concentrate_au'],color='g', legend=True,shade=True)\n",
        "fig = sns.kdeplot(full_data['final.output.concentrate_au'],color='b', legend=True,shade=True)\n",
        "plt.legend(['Сырье','Флотация', 'Первичная очистка', \"На выходе\" ], loc=1)     \n",
        "plt.show()\n",
        "\n",
        "plt.title('Концетрация Ag', fontweight='bold')\n",
        "fig = sns.kdeplot(full_data['rougher.input.feed_ag'],color='m', legend=True,shade=True)\n",
        "fig = sns.kdeplot(full_data['rougher.output.concentrate_ag'],color='r', legend=True,shade=True)\n",
        "fig = sns.kdeplot(full_data['primary_cleaner.output.concentrate_ag'],color='g', legend=True,shade=True)\n",
        "fig = sns.kdeplot(full_data['final.output.concentrate_ag'],color='b', legend=True,shade=True)\n",
        "plt.legend(['Сырье','Флотация', 'Первичная очистка', \"На выходе\" ], loc=1)     \n",
        "plt.show()\n",
        "\n",
        "plt.title('Концетрация Pb', fontweight='bold')\n",
        "fig = sns.kdeplot(full_data['rougher.input.feed_pb'],color='m', legend=True,shade=True)\n",
        "fig = sns.kdeplot(full_data['rougher.output.concentrate_pb'],color='r', legend=True,shade=True)\n",
        "fig = sns.kdeplot(full_data['primary_cleaner.output.concentrate_pb'],color='g', legend=True,shade=True)\n",
        "fig = sns.kdeplot(full_data['final.output.concentrate_pb'],color='b', legend=True,shade=True)\n",
        "plt.legend(['Сырье','Флотация', 'Первичная очистка', \"На выходе\" ], loc=1)      \n",
        "plt.show()"
      ]
    },
    {
      "cell_type": "markdown",
      "metadata": {
        "id": "4cCgVh6g74EC"
      },
      "source": [
        "##### Распределения размеров гранул сырья"
      ]
    },
    {
      "cell_type": "code",
      "execution_count": null,
      "metadata": {
        "id": "qIutkJNt74EC",
        "outputId": "309bdcb2-f1ca-4fa2-ef34-3a193367a442"
      },
      "outputs": [
        {
          "data": {
            "image/png": "[encoded data removed]",
            "text/plain": [
              "<Figure size 432x288 with 1 Axes>"
            ]
          },
          "metadata": {
            "needs_background": "light"
          },
          "output_type": "display_data"
        }
      ],
      "source": [
        "plt.title('Распределение гранул сырья на обучающей выборке', fontweight='bold')\n",
        "fig = sns.kdeplot(train_data['rougher.input.feed_size'],color='r', legend=True,shade=True)\n",
        "fig = sns.kdeplot(test_data['rougher.input.feed_size'],color='g', legend=True,shade=True)\n",
        "plt.legend(['Флотация', 'Первичная очистка'], loc=1)     \n",
        "plt.xlim(0, 300)\n",
        "plt.show()"
      ]
    },
    {
      "cell_type": "code",
      "execution_count": null,
      "metadata": {
        "id": "SthrzRZG74ED",
        "outputId": "7d4252cb-3839-443a-d10f-e099b4650f5e"
      },
      "outputs": [
        {
          "name": "stdout",
          "output_type": "stream",
          "text": [
            "Среднее распределение гранул на обучающей выборке: 60.23985599255732\n",
            "Среднее распределение гранул на тестовой выборке: 55.952754028895136\n"
          ]
        }
      ],
      "source": [
        "feed_size_train = train_data['rougher.input.feed_size'].mean()\n",
        "print('Среднее распределение гранул на обучающей выборке:',feed_size_train)\n",
        "feed_size_test = test_data['rougher.input.feed_size'].mean()\n",
        "print('Среднее распределение гранул на тестовой выборке:',feed_size_test)"
      ]
    },
    {
      "cell_type": "markdown",
      "metadata": {
        "id": "rWDZ1tQy74ED"
      },
      "source": [
        "Распределения не сильно отличаются друг от друга - оценка модели правильная."
      ]
    },
    {
      "cell_type": "markdown",
      "metadata": {
        "id": "P_bh8bmu74EE"
      },
      "source": [
        "##### Суммарная концентрация всех веществ на разных стадиях"
      ]
    },
    {
      "cell_type": "code",
      "execution_count": null,
      "metadata": {
        "id": "pqYfsqr074EE"
      },
      "outputs": [],
      "source": [
        "full_data['raw'] = full_data[['rougher.input.feed_au', 'rougher.input.feed_ag', 'rougher.input.feed_pb', 'rougher.input.feed_sol']].sum(axis=1)\n",
        "full_data['rough concentrate'] = full_data[['rougher.output.concentrate_au', 'rougher.output.concentrate_ag', 'rougher.output.concentrate_pb', 'rougher.output.concentrate_sol']].sum(axis=1)\n",
        "full_data['primary concentrate'] = full_data[['primary_cleaner.output.concentrate_au','primary_cleaner.output.concentrate_ag', 'primary_cleaner.output.concentrate_pb', 'primary_cleaner.output.concentrate_sol']].sum(axis=1)\n",
        "full_data['final concentrate'] = full_data[['final.output.concentrate_au', 'final.output.concentrate_ag', 'final.output.concentrate_pb', 'final.output.concentrate_sol']].sum(axis=1)"
      ]
    },
    {
      "cell_type": "code",
      "execution_count": null,
      "metadata": {
        "id": "aGpef2mI74EE",
        "outputId": "fd677cf4-a7ab-4942-c6da-7881fd0b6ebd"
      },
      "outputs": [
        {
          "data": {
            "image/png": "[encoded data removed]",
            "text/plain": [
              "<Figure size 1002.12x576 with 1 Axes>"
            ]
          },
          "metadata": {
            "needs_background": "light"
          },
          "output_type": "display_data"
        }
      ],
      "source": [
        "sns.displot(full_data[['raw', 'rough concentrate', 'primary concentrate', 'final concentrate']], legend=True, kde=True, height=8, aspect=1.5)  \n",
        "plt.title('Суммарная концентрация всех веществ на разных стадиях', fontsize=15)\n",
        "plt.show()"
      ]
    },
    {
      "cell_type": "markdown",
      "metadata": {
        "id": "b_CahO8174EE"
      },
      "source": [
        "Суммарная концентрация всех веществ на разных стадиях для некоторых объектов равна 0. И имеет аномально большое количество таких значений судя по распределениям. 0 данные стоит удалить, они могут негативно повлиять на работу будущей модели."
      ]
    },
    {
      "cell_type": "markdown",
      "metadata": {
        "id": "XehpKQDQ74EF"
      },
      "source": [
        "Удалим нулевые значения."
      ]
    },
    {
      "cell_type": "code",
      "execution_count": null,
      "metadata": {
        "id": "Oz_lV3pC74EF"
      },
      "outputs": [],
      "source": [
        "good_data = full_data[\n",
        "    (full_data['raw'] >  0) & \n",
        "    (full_data['rough concentrate'] > 0) & \n",
        "    (full_data['primary concentrate'] > 0) & \n",
        "    (full_data['final concentrate'] > 0)]"
      ]
    },
    {
      "cell_type": "markdown",
      "metadata": {
        "id": "U_BvqODy74EG"
      },
      "source": [
        "## Модель"
      ]
    },
    {
      "cell_type": "markdown",
      "metadata": {
        "id": "8FJfRul_74EH"
      },
      "source": [
        "###### Напишем функцию для рассчета метрики качества модели - sMAPE (Symmetric Mean Absolute Percentage Error)."
      ]
    },
    {
      "cell_type": "code",
      "execution_count": null,
      "metadata": {
        "id": "PyB5hpN774EH"
      },
      "outputs": [],
      "source": [
        "def smape (target, predictions):\n",
        "    return 100/len(target) * np.sum(2 * np.abs(predictions - target) / (np.abs(target) + np.abs(predictions)))"
      ]
    },
    {
      "cell_type": "markdown",
      "metadata": {
        "id": "YsLxicPu74EH"
      },
      "source": [
        "##### А также функцию для рассчета итогового sMAPE."
      ]
    },
    {
      "cell_type": "code",
      "execution_count": null,
      "metadata": {
        "id": "KfRbEQgb74EH"
      },
      "outputs": [],
      "source": [
        "def final_smape (rougher, final):\n",
        "    return 0.25 * rougher + 0.75 * final"
      ]
    },
    {
      "cell_type": "code",
      "execution_count": null,
      "metadata": {
        "id": "pB_IyvzW74EI"
      },
      "outputs": [],
      "source": [
        "target_rougher_train = train_data['rougher.output.recovery']\n",
        "target_final_train = train_data['final.output.recovery']\n",
        "\n",
        "features_train = train_data.drop(['date', 'final.output.recovery', 'rougher.output.recovery'], axis='columns')"
      ]
    },
    {
      "cell_type": "markdown",
      "metadata": {
        "id": "z3WZYba674EI"
      },
      "source": [
        "Масштабируем признаки."
      ]
    },
    {
      "cell_type": "code",
      "execution_count": null,
      "metadata": {
        "id": "nwOTG0h774EI"
      },
      "outputs": [],
      "source": [
        "scaler = StandardScaler()\n",
        "scaler.fit(features_train)\n",
        "features_train = scaler.transform(features_train)"
      ]
    },
    {
      "cell_type": "markdown",
      "metadata": {
        "id": "Mf75TvsB74EJ"
      },
      "source": [
        "Проверим несколько моделей методом кросс-валидации и выберем лучший результат."
      ]
    },
    {
      "cell_type": "code",
      "execution_count": null,
      "metadata": {
        "id": "T9IAInxg74EJ"
      },
      "outputs": [],
      "source": [
        "scorer = make_scorer(smape, greater_is_better=False)"
      ]
    },
    {
      "cell_type": "code",
      "execution_count": null,
      "metadata": {
        "id": "0d0o2GOy74EJ",
        "outputId": "3d728316-11a5-41ac-d130-c38e45fb8242"
      },
      "outputs": [
        {
          "data": {
            "text/plain": [
              "-18.07270091879001"
            ]
          },
          "execution_count": 35,
          "metadata": {},
          "output_type": "execute_result"
        }
      ],
      "source": [
        "model_dtr = DecisionTreeRegressor(random_state=666)\n",
        "cross_val_score(model_dtr, features_train, target_rougher_train, scoring=scorer, cv=5).mean()"
      ]
    },
    {
      "cell_type": "code",
      "execution_count": null,
      "metadata": {
        "id": "R0N7obj074EK",
        "outputId": "45d88d00-631a-4c50-a9dc-3f43987b8bf0"
      },
      "outputs": [
        {
          "data": {
            "text/plain": [
              "-12.80248345848199"
            ]
          },
          "execution_count": 36,
          "metadata": {},
          "output_type": "execute_result"
        }
      ],
      "source": [
        "model_lr = LinearRegression()\n",
        "cross_val_score(model_lr, features_train, target_rougher_train, scoring=scorer, cv=5).mean()"
      ]
    },
    {
      "cell_type": "code",
      "execution_count": null,
      "metadata": {
        "id": "jgrnJCDC74EN",
        "outputId": "46a48cf7-9909-4079-8ee6-8808993edf49"
      },
      "outputs": [
        {
          "name": "stdout",
          "output_type": "stream",
          "text": [
            "Итоговое sMAPE: -11.765294836131238\n",
            "Итоговое sMAPE: -11.15026148595041\n",
            "Итоговое sMAPE: -11.192162289419617\n",
            "Итоговое sMAPE: -11.325229098999838\n",
            "Итоговое sMAPE: -11.291677449002854\n",
            "Итоговое sMAPE: -11.33035649969824\n",
            "Итоговое sMAPE: -11.616443136399138\n",
            "Итоговое sMAPE: -11.914630450459914\n",
            "Итоговое sMAPE: -12.172277335530335\n"
          ]
        }
      ],
      "source": [
        "\n",
        "for depth in range(1, 10): # подобрал параметры заранее \n",
        "    \n",
        "    \n",
        "    for estimator in range(1,20,1):\n",
        "        min_final_smape = 1000    \n",
        "        model = RandomForestRegressor(random_state=12345, \n",
        "                                       n_estimators=estimator, \n",
        "                                       max_depth=depth)\n",
        "        \n",
        "        scorer = make_scorer(smape, greater_is_better=False) \n",
        "    \n",
        "        cross_val_score_rougher = cross_val_score(model, features_train, target_rougher_train, cv=4, scoring=scorer).mean()\n",
        "        cross_val_score_final = cross_val_score(model, features_train, target_final_train, cv=4, scoring=scorer).mean()\n",
        "        \n",
        "        final_smape_result = final_smape(cross_val_score_rougher, cross_val_score_final)\n",
        "        \n",
        "        if final_smape_result < min_final_smape:\n",
        "            \n",
        "            min_final_smape = final_smape_result\n",
        "        \n",
        "    print('Итоговое sMAPE:', min_final_smape)"
      ]
    },
    {
      "cell_type": "markdown",
      "metadata": {
        "id": "qmg8Gw6t74EP"
      },
      "source": [
        "Лучший результат показывает модель RandomForestRegressor. Обучим её."
      ]
    },
    {
      "cell_type": "markdown",
      "metadata": {
        "id": "J1KVV0Tr74EP"
      },
      "source": [
        "Подготовим features и target для тестовой выборки и масштабируем признаки."
      ]
    },
    {
      "cell_type": "code",
      "execution_count": null,
      "metadata": {
        "id": "scz8E3VN74EQ"
      },
      "outputs": [],
      "source": [
        "target_rougher_test = test_data['rougher.output.recovery']\n",
        "target_final_test = test_data['final.output.recovery']\n",
        "\n",
        "features_test = test_data.drop(['date', 'final.output.recovery', 'rougher.output.recovery'], axis='columns')"
      ]
    },
    {
      "cell_type": "markdown",
      "metadata": {
        "id": "7vrAshZ374ER"
      },
      "source": [
        "Обучим модель и получим предсказания."
      ]
    },
    {
      "cell_type": "code",
      "execution_count": null,
      "metadata": {
        "id": "Zwn3d7ys74ES"
      },
      "outputs": [],
      "source": [
        "features_test = scaler.transform(features_test)"
      ]
    },
    {
      "cell_type": "code",
      "execution_count": null,
      "metadata": {
        "id": "_GQdChmz74ES"
      },
      "outputs": [],
      "source": [
        "model_final = RandomForestRegressor(random_state=12345, n_estimators=20, max_depth=6)\n",
        "\n",
        "model_final.fit(features_train, target_rougher_train)\n",
        "predictions_rougher = model_final.predict(features_test)\n",
        "\n",
        "model_final.fit(features_train, target_final_train)\n",
        "predictions_final = model_final.predict(features_test)"
      ]
    },
    {
      "cell_type": "markdown",
      "metadata": {
        "id": "KbApnY6374ES"
      },
      "source": [
        "Посчитаем sMAPE для обоих признаков и итоговый."
      ]
    },
    {
      "cell_type": "code",
      "execution_count": null,
      "metadata": {
        "id": "q_s-aBAO74ES"
      },
      "outputs": [],
      "source": [
        "smape_rougher = smape(target_rougher_test, predictions_rougher)"
      ]
    },
    {
      "cell_type": "code",
      "execution_count": null,
      "metadata": {
        "id": "wD5ZvPz474ET"
      },
      "outputs": [],
      "source": [
        "smape_final = smape(target_final_test, predictions_final)"
      ]
    },
    {
      "cell_type": "code",
      "execution_count": null,
      "metadata": {
        "scrolled": true,
        "id": "A-m_GtA874ET",
        "outputId": "0ea76da2-0d64-43fe-dfc9-883aaf9cc911"
      },
      "outputs": [
        {
          "data": {
            "text/plain": [
              "10.69263262434868"
            ]
          },
          "execution_count": 49,
          "metadata": {},
          "output_type": "execute_result"
        }
      ],
      "source": [
        "final_smape(smape_rougher, smape_final)"
      ]
    },
    {
      "cell_type": "code",
      "execution_count": null,
      "metadata": {
        "id": "NqSVx9uo74EU"
      },
      "outputs": [],
      "source": [
        "dummy = DummyRegressor(strategy = 'mean')\n",
        "dummy_1 = DummyRegressor(strategy = 'mean')\n",
        "\n",
        "dummy_rougher = dummy.fit(features_train, target_rougher_train)\n",
        "dummy_predictions_rougher = pd.Series(dummy_rougher.predict(features_train))\n",
        "\n",
        "dummy_final = dummy_1.fit(features_train, target_final_train)\n",
        "dummy_predictions_final = pd.Series(dummy_final.predict(features_train))"
      ]
    },
    {
      "cell_type": "code",
      "execution_count": null,
      "metadata": {
        "id": "HEC4U7hF74EV"
      },
      "outputs": [],
      "source": [
        "smape_rougher_dummy = smape(target_rougher_test, dummy_predictions_rougher)"
      ]
    },
    {
      "cell_type": "code",
      "execution_count": null,
      "metadata": {
        "id": "dC3fq8A174EV"
      },
      "outputs": [],
      "source": [
        "smape_final_dummy = smape(target_final_test, dummy_predictions_final)"
      ]
    },
    {
      "cell_type": "code",
      "execution_count": null,
      "metadata": {
        "id": "8QAbpwXD74EV",
        "outputId": "e5a91e7c-7520-4aa0-8d50-b22b69f0a2ef"
      },
      "outputs": [
        {
          "data": {
            "text/plain": [
              "10.289630376021034"
            ]
          },
          "execution_count": 53,
          "metadata": {},
          "output_type": "execute_result"
        }
      ],
      "source": [
        "final_smape(smape_rougher_dummy, smape_final_dummy)"
      ]
    },
    {
      "cell_type": "markdown",
      "metadata": {
        "id": "PatbI6Qj74EW"
      },
      "source": [
        "Обученная модель предсказывает результат хуже константной."
      ]
    },
    {
      "cell_type": "markdown",
      "metadata": {
        "id": "g1_-4dq074EW"
      },
      "source": [
        "##### Общий вывод\n",
        "    Подготовлены данные.\n",
        "    Проведен исследовательский анализ данных.\n",
        "    Итоговая модель построена на алгоритме RandomForestRegressor.\n",
        "    Обученная модель предсказывает результат хуже константной."
      ]
    }
  ],
  "metadata": {
    "ExecuteTimeLog": [
      {
        "duration": 1625,
        "start_time": "2022-04-06T13:19:45.897Z"
      },
      {
        "duration": 718,
        "start_time": "2022-04-06T13:19:47.524Z"
      },
      {
        "duration": 3,
        "start_time": "2022-04-06T13:19:48.243Z"
      },
      {
        "duration": 122,
        "start_time": "2022-04-06T13:19:48.248Z"
      },
      {
        "duration": 0,
        "start_time": "2022-04-06T13:19:48.371Z"
      },
      {
        "duration": 0,
        "start_time": "2022-04-06T13:19:48.373Z"
      },
      {
        "duration": 3,
        "start_time": "2022-04-06T13:21:45.180Z"
      },
      {
        "duration": 13,
        "start_time": "2022-04-06T13:21:48.225Z"
      },
      {
        "duration": 8,
        "start_time": "2022-04-06T13:32:33.865Z"
      },
      {
        "duration": 4,
        "start_time": "2022-04-06T13:32:41.143Z"
      },
      {
        "duration": 701,
        "start_time": "2022-04-06T13:32:41.148Z"
      },
      {
        "duration": 3,
        "start_time": "2022-04-06T13:32:41.850Z"
      },
      {
        "duration": 9,
        "start_time": "2022-04-06T13:32:41.855Z"
      },
      {
        "duration": 0,
        "start_time": "2022-04-06T13:32:41.866Z"
      },
      {
        "duration": 0,
        "start_time": "2022-04-06T13:32:41.867Z"
      },
      {
        "duration": 12,
        "start_time": "2022-04-06T13:35:44.761Z"
      },
      {
        "duration": 4,
        "start_time": "2022-04-06T13:35:50.884Z"
      },
      {
        "duration": 52,
        "start_time": "2022-04-06T13:35:50.890Z"
      },
      {
        "duration": 0,
        "start_time": "2022-04-06T13:35:50.943Z"
      },
      {
        "duration": 0,
        "start_time": "2022-04-06T13:35:50.944Z"
      },
      {
        "duration": 0,
        "start_time": "2022-04-06T13:35:50.945Z"
      },
      {
        "duration": 0,
        "start_time": "2022-04-06T13:35:50.946Z"
      },
      {
        "duration": 4,
        "start_time": "2022-04-06T13:37:19.515Z"
      },
      {
        "duration": 668,
        "start_time": "2022-04-06T13:37:19.522Z"
      },
      {
        "duration": 3,
        "start_time": "2022-04-06T13:37:20.192Z"
      },
      {
        "duration": 19,
        "start_time": "2022-04-06T13:37:20.198Z"
      },
      {
        "duration": 0,
        "start_time": "2022-04-06T13:37:20.219Z"
      },
      {
        "duration": 0,
        "start_time": "2022-04-06T13:37:20.221Z"
      },
      {
        "duration": 23,
        "start_time": "2022-04-06T13:37:48.238Z"
      },
      {
        "duration": 3,
        "start_time": "2022-04-06T13:38:15.124Z"
      },
      {
        "duration": 4,
        "start_time": "2022-04-06T13:38:19.412Z"
      },
      {
        "duration": 687,
        "start_time": "2022-04-06T13:38:19.418Z"
      },
      {
        "duration": 2,
        "start_time": "2022-04-06T13:38:20.107Z"
      },
      {
        "duration": 4,
        "start_time": "2022-04-06T13:38:20.112Z"
      },
      {
        "duration": 31,
        "start_time": "2022-04-06T13:38:20.117Z"
      },
      {
        "duration": 19,
        "start_time": "2022-04-06T13:38:20.150Z"
      },
      {
        "duration": 54,
        "start_time": "2022-04-06T13:38:20.171Z"
      },
      {
        "duration": 672,
        "start_time": "2022-04-06T13:40:11.756Z"
      },
      {
        "duration": 2,
        "start_time": "2022-04-06T13:40:14.676Z"
      },
      {
        "duration": 4,
        "start_time": "2022-04-06T13:40:18.160Z"
      },
      {
        "duration": 643,
        "start_time": "2022-04-06T13:40:18.166Z"
      },
      {
        "duration": 3,
        "start_time": "2022-04-06T13:40:18.810Z"
      },
      {
        "duration": 6,
        "start_time": "2022-04-06T13:40:18.815Z"
      },
      {
        "duration": 28,
        "start_time": "2022-04-06T13:40:18.823Z"
      },
      {
        "duration": 21,
        "start_time": "2022-04-06T13:40:18.853Z"
      },
      {
        "duration": 52,
        "start_time": "2022-04-06T13:40:18.875Z"
      },
      {
        "duration": 513,
        "start_time": "2022-04-06T13:40:35.317Z"
      },
      {
        "duration": 589,
        "start_time": "2022-04-06T13:40:46.501Z"
      },
      {
        "duration": 3,
        "start_time": "2022-04-06T13:40:50.362Z"
      },
      {
        "duration": 4,
        "start_time": "2022-04-06T13:40:54.760Z"
      },
      {
        "duration": 561,
        "start_time": "2022-04-06T13:40:54.766Z"
      },
      {
        "duration": 3,
        "start_time": "2022-04-06T13:40:55.328Z"
      },
      {
        "duration": 8,
        "start_time": "2022-04-06T13:40:55.332Z"
      },
      {
        "duration": 18,
        "start_time": "2022-04-06T13:40:55.342Z"
      },
      {
        "duration": 19,
        "start_time": "2022-04-06T13:40:55.361Z"
      },
      {
        "duration": 43,
        "start_time": "2022-04-06T13:40:55.382Z"
      },
      {
        "duration": 649,
        "start_time": "2022-04-06T13:41:09.131Z"
      },
      {
        "duration": 4,
        "start_time": "2022-04-06T13:41:13.048Z"
      },
      {
        "duration": 634,
        "start_time": "2022-04-06T13:41:13.053Z"
      },
      {
        "duration": 2,
        "start_time": "2022-04-06T13:41:13.689Z"
      },
      {
        "duration": 5,
        "start_time": "2022-04-06T13:41:13.693Z"
      },
      {
        "duration": 32,
        "start_time": "2022-04-06T13:41:13.700Z"
      },
      {
        "duration": 20,
        "start_time": "2022-04-06T13:41:13.733Z"
      },
      {
        "duration": 26,
        "start_time": "2022-04-06T13:41:13.754Z"
      },
      {
        "duration": 4,
        "start_time": "2022-04-06T14:47:09.134Z"
      },
      {
        "duration": 608,
        "start_time": "2022-04-06T14:47:09.141Z"
      },
      {
        "duration": 3,
        "start_time": "2022-04-06T14:47:09.750Z"
      },
      {
        "duration": 5,
        "start_time": "2022-04-06T14:47:09.755Z"
      },
      {
        "duration": 27,
        "start_time": "2022-04-06T14:47:09.761Z"
      },
      {
        "duration": 40,
        "start_time": "2022-04-06T14:47:09.790Z"
      },
      {
        "duration": 26,
        "start_time": "2022-04-06T14:47:09.831Z"
      },
      {
        "duration": 10,
        "start_time": "2022-04-06T14:47:09.859Z"
      },
      {
        "duration": 0,
        "start_time": "2022-04-06T14:47:09.871Z"
      },
      {
        "duration": 4,
        "start_time": "2022-04-06T14:49:17.136Z"
      },
      {
        "duration": 648,
        "start_time": "2022-04-06T14:49:17.142Z"
      },
      {
        "duration": 2,
        "start_time": "2022-04-06T14:49:17.792Z"
      },
      {
        "duration": 6,
        "start_time": "2022-04-06T14:49:17.796Z"
      },
      {
        "duration": 24,
        "start_time": "2022-04-06T14:49:17.809Z"
      },
      {
        "duration": 19,
        "start_time": "2022-04-06T14:49:17.835Z"
      },
      {
        "duration": 24,
        "start_time": "2022-04-06T14:49:17.855Z"
      },
      {
        "duration": 28,
        "start_time": "2022-04-06T14:49:17.881Z"
      },
      {
        "duration": 7,
        "start_time": "2022-04-06T14:49:17.912Z"
      },
      {
        "duration": 9,
        "start_time": "2022-04-06T14:49:17.920Z"
      },
      {
        "duration": 4,
        "start_time": "2022-04-06T14:49:30.540Z"
      },
      {
        "duration": 774,
        "start_time": "2022-04-06T14:49:30.546Z"
      },
      {
        "duration": 3,
        "start_time": "2022-04-06T14:49:31.321Z"
      },
      {
        "duration": 9,
        "start_time": "2022-04-06T14:49:31.326Z"
      },
      {
        "duration": 31,
        "start_time": "2022-04-06T14:49:31.336Z"
      },
      {
        "duration": 20,
        "start_time": "2022-04-06T14:49:31.368Z"
      },
      {
        "duration": 101,
        "start_time": "2022-04-06T14:49:31.390Z"
      },
      {
        "duration": 3,
        "start_time": "2022-04-06T14:49:31.492Z"
      },
      {
        "duration": 15,
        "start_time": "2022-04-06T14:49:31.496Z"
      },
      {
        "duration": 10,
        "start_time": "2022-04-06T14:49:31.513Z"
      },
      {
        "duration": 5,
        "start_time": "2022-04-06T14:55:02.423Z"
      },
      {
        "duration": 641,
        "start_time": "2022-04-06T14:55:02.430Z"
      },
      {
        "duration": 2,
        "start_time": "2022-04-06T14:55:03.073Z"
      },
      {
        "duration": 20,
        "start_time": "2022-04-06T14:55:03.077Z"
      },
      {
        "duration": 44,
        "start_time": "2022-04-06T14:55:03.099Z"
      },
      {
        "duration": 21,
        "start_time": "2022-04-06T14:55:03.144Z"
      },
      {
        "duration": 27,
        "start_time": "2022-04-06T14:55:03.167Z"
      },
      {
        "duration": 24,
        "start_time": "2022-04-06T14:55:03.195Z"
      },
      {
        "duration": 0,
        "start_time": "2022-04-06T14:55:03.221Z"
      },
      {
        "duration": 0,
        "start_time": "2022-04-06T14:55:03.222Z"
      },
      {
        "duration": 0,
        "start_time": "2022-04-06T14:55:03.223Z"
      },
      {
        "duration": 4,
        "start_time": "2022-04-06T14:55:33.820Z"
      },
      {
        "duration": 666,
        "start_time": "2022-04-06T14:55:33.826Z"
      },
      {
        "duration": 3,
        "start_time": "2022-04-06T14:55:34.494Z"
      },
      {
        "duration": 10,
        "start_time": "2022-04-06T14:55:34.499Z"
      },
      {
        "duration": 30,
        "start_time": "2022-04-06T14:55:34.510Z"
      },
      {
        "duration": 19,
        "start_time": "2022-04-06T14:55:34.542Z"
      },
      {
        "duration": 50,
        "start_time": "2022-04-06T14:55:34.562Z"
      },
      {
        "duration": 8,
        "start_time": "2022-04-06T14:55:34.614Z"
      },
      {
        "duration": 3,
        "start_time": "2022-04-06T14:55:34.625Z"
      },
      {
        "duration": 6,
        "start_time": "2022-04-06T14:55:34.629Z"
      },
      {
        "duration": 6,
        "start_time": "2022-04-06T14:55:34.636Z"
      },
      {
        "duration": 5,
        "start_time": "2022-04-06T15:18:50.851Z"
      },
      {
        "duration": 2306,
        "start_time": "2022-04-07T10:47:39.019Z"
      },
      {
        "duration": 766,
        "start_time": "2022-04-07T10:47:41.328Z"
      },
      {
        "duration": 4,
        "start_time": "2022-04-07T10:47:42.097Z"
      },
      {
        "duration": 13,
        "start_time": "2022-04-07T10:47:42.103Z"
      },
      {
        "duration": 51,
        "start_time": "2022-04-07T10:47:42.118Z"
      },
      {
        "duration": 31,
        "start_time": "2022-04-07T10:47:42.171Z"
      },
      {
        "duration": 60,
        "start_time": "2022-04-07T10:47:42.204Z"
      },
      {
        "duration": 9,
        "start_time": "2022-04-07T10:47:42.266Z"
      },
      {
        "duration": 6,
        "start_time": "2022-04-07T10:47:42.277Z"
      },
      {
        "duration": 11,
        "start_time": "2022-04-07T10:47:42.286Z"
      },
      {
        "duration": 8,
        "start_time": "2022-04-07T10:47:42.299Z"
      },
      {
        "duration": 35,
        "start_time": "2022-04-07T10:47:42.309Z"
      },
      {
        "duration": 20,
        "start_time": "2022-04-07T10:47:42.346Z"
      },
      {
        "duration": 175,
        "start_time": "2022-04-07T10:47:42.369Z"
      },
      {
        "duration": 6,
        "start_time": "2022-04-07T10:48:34.154Z"
      },
      {
        "duration": 782,
        "start_time": "2022-04-07T10:48:34.162Z"
      },
      {
        "duration": 3,
        "start_time": "2022-04-07T10:48:34.946Z"
      },
      {
        "duration": 13,
        "start_time": "2022-04-07T10:48:34.952Z"
      },
      {
        "duration": 46,
        "start_time": "2022-04-07T10:48:34.967Z"
      },
      {
        "duration": 51,
        "start_time": "2022-04-07T10:48:35.015Z"
      },
      {
        "duration": 39,
        "start_time": "2022-04-07T10:48:35.068Z"
      },
      {
        "duration": 7,
        "start_time": "2022-04-07T10:48:35.110Z"
      },
      {
        "duration": 4,
        "start_time": "2022-04-07T10:48:35.144Z"
      },
      {
        "duration": 24,
        "start_time": "2022-04-07T10:48:35.150Z"
      },
      {
        "duration": 17,
        "start_time": "2022-04-07T10:48:35.176Z"
      },
      {
        "duration": 12,
        "start_time": "2022-04-07T10:48:35.195Z"
      },
      {
        "duration": 31,
        "start_time": "2022-04-07T10:48:35.208Z"
      },
      {
        "duration": 23,
        "start_time": "2022-04-07T10:48:35.241Z"
      },
      {
        "duration": 5,
        "start_time": "2022-04-07T10:49:51.165Z"
      },
      {
        "duration": 932,
        "start_time": "2022-04-07T10:49:51.172Z"
      },
      {
        "duration": 3,
        "start_time": "2022-04-07T10:49:52.106Z"
      },
      {
        "duration": 11,
        "start_time": "2022-04-07T10:49:52.112Z"
      },
      {
        "duration": 48,
        "start_time": "2022-04-07T10:49:52.125Z"
      },
      {
        "duration": 30,
        "start_time": "2022-04-07T10:49:52.175Z"
      },
      {
        "duration": 65,
        "start_time": "2022-04-07T10:49:52.207Z"
      },
      {
        "duration": 8,
        "start_time": "2022-04-07T10:49:52.274Z"
      },
      {
        "duration": 10,
        "start_time": "2022-04-07T10:49:52.284Z"
      },
      {
        "duration": 9,
        "start_time": "2022-04-07T10:49:52.298Z"
      },
      {
        "duration": 14,
        "start_time": "2022-04-07T10:49:52.309Z"
      },
      {
        "duration": 6,
        "start_time": "2022-04-07T10:49:52.343Z"
      },
      {
        "duration": 21,
        "start_time": "2022-04-07T10:49:52.352Z"
      },
      {
        "duration": 29,
        "start_time": "2022-04-07T10:49:52.376Z"
      },
      {
        "duration": 3327,
        "start_time": "2022-04-07T12:51:07.184Z"
      },
      {
        "duration": 3245,
        "start_time": "2022-04-07T12:53:54.575Z"
      },
      {
        "duration": 1581,
        "start_time": "2022-04-07T14:36:25.612Z"
      },
      {
        "duration": 640,
        "start_time": "2022-04-07T14:36:27.195Z"
      },
      {
        "duration": 2,
        "start_time": "2022-04-07T14:36:27.837Z"
      },
      {
        "duration": 4,
        "start_time": "2022-04-07T14:36:27.841Z"
      },
      {
        "duration": 29,
        "start_time": "2022-04-07T14:36:27.847Z"
      },
      {
        "duration": 39,
        "start_time": "2022-04-07T14:36:27.878Z"
      },
      {
        "duration": 25,
        "start_time": "2022-04-07T14:36:27.918Z"
      },
      {
        "duration": 7,
        "start_time": "2022-04-07T14:36:27.945Z"
      },
      {
        "duration": 3,
        "start_time": "2022-04-07T14:36:27.953Z"
      },
      {
        "duration": 6,
        "start_time": "2022-04-07T14:36:27.959Z"
      },
      {
        "duration": 5,
        "start_time": "2022-04-07T14:36:27.967Z"
      },
      {
        "duration": 37,
        "start_time": "2022-04-07T14:36:27.973Z"
      },
      {
        "duration": 13,
        "start_time": "2022-04-07T14:36:28.012Z"
      },
      {
        "duration": 24,
        "start_time": "2022-04-07T14:36:28.026Z"
      },
      {
        "duration": 2748,
        "start_time": "2022-04-07T14:36:28.052Z"
      },
      {
        "duration": 116,
        "start_time": "2022-04-07T14:36:30.802Z"
      },
      {
        "duration": 10,
        "start_time": "2022-04-07T14:36:50.735Z"
      },
      {
        "duration": 927,
        "start_time": "2022-04-07T14:37:01.311Z"
      },
      {
        "duration": 432,
        "start_time": "2022-04-07T14:40:15.376Z"
      },
      {
        "duration": 5,
        "start_time": "2022-04-07T14:44:48.939Z"
      },
      {
        "duration": 11,
        "start_time": "2022-04-07T15:07:00.731Z"
      },
      {
        "duration": 54,
        "start_time": "2022-04-07T15:07:42.277Z"
      },
      {
        "duration": 3027,
        "start_time": "2022-04-07T15:08:20.562Z"
      },
      {
        "duration": 79,
        "start_time": "2022-04-08T11:53:58.011Z"
      },
      {
        "duration": 2352,
        "start_time": "2022-04-08T11:54:02.102Z"
      },
      {
        "duration": 826,
        "start_time": "2022-04-08T11:54:04.459Z"
      },
      {
        "duration": 3,
        "start_time": "2022-04-08T11:54:05.287Z"
      },
      {
        "duration": 7,
        "start_time": "2022-04-08T11:54:05.293Z"
      },
      {
        "duration": 68,
        "start_time": "2022-04-08T11:54:05.302Z"
      },
      {
        "duration": 31,
        "start_time": "2022-04-08T11:54:05.372Z"
      },
      {
        "duration": 65,
        "start_time": "2022-04-08T11:54:05.406Z"
      },
      {
        "duration": 11,
        "start_time": "2022-04-08T11:54:05.474Z"
      },
      {
        "duration": 4,
        "start_time": "2022-04-08T11:54:05.488Z"
      },
      {
        "duration": 5,
        "start_time": "2022-04-08T11:54:05.496Z"
      },
      {
        "duration": 44,
        "start_time": "2022-04-08T11:54:05.503Z"
      },
      {
        "duration": 13,
        "start_time": "2022-04-08T11:54:05.549Z"
      },
      {
        "duration": 23,
        "start_time": "2022-04-08T11:54:05.564Z"
      },
      {
        "duration": 24,
        "start_time": "2022-04-08T11:54:05.590Z"
      },
      {
        "duration": 3679,
        "start_time": "2022-04-08T11:54:05.616Z"
      },
      {
        "duration": 627,
        "start_time": "2022-04-08T11:54:09.298Z"
      },
      {
        "duration": 6,
        "start_time": "2022-04-08T11:54:09.927Z"
      },
      {
        "duration": 59,
        "start_time": "2022-04-08T11:54:09.944Z"
      },
      {
        "duration": 4355,
        "start_time": "2022-04-08T11:54:10.005Z"
      },
      {
        "duration": 121,
        "start_time": "2022-04-08T11:54:14.362Z"
      },
      {
        "duration": 0,
        "start_time": "2022-04-08T11:54:14.486Z"
      },
      {
        "duration": 0,
        "start_time": "2022-04-08T11:54:14.488Z"
      },
      {
        "duration": 0,
        "start_time": "2022-04-08T11:54:14.490Z"
      },
      {
        "duration": 12,
        "start_time": "2022-04-08T11:54:55.723Z"
      },
      {
        "duration": 16,
        "start_time": "2022-04-08T11:58:21.506Z"
      },
      {
        "duration": 17,
        "start_time": "2022-04-08T11:58:27.913Z"
      },
      {
        "duration": 7,
        "start_time": "2022-04-08T12:43:21.055Z"
      },
      {
        "duration": 1056,
        "start_time": "2022-04-08T12:43:21.066Z"
      },
      {
        "duration": 4,
        "start_time": "2022-04-08T12:43:22.125Z"
      },
      {
        "duration": 47,
        "start_time": "2022-04-08T12:43:22.131Z"
      },
      {
        "duration": 46,
        "start_time": "2022-04-08T12:43:22.182Z"
      },
      {
        "duration": 48,
        "start_time": "2022-04-08T12:43:22.231Z"
      },
      {
        "duration": 69,
        "start_time": "2022-04-08T12:43:22.281Z"
      },
      {
        "duration": 9,
        "start_time": "2022-04-08T12:43:22.355Z"
      },
      {
        "duration": 22,
        "start_time": "2022-04-08T12:43:22.367Z"
      },
      {
        "duration": 8,
        "start_time": "2022-04-08T12:43:22.392Z"
      },
      {
        "duration": 15,
        "start_time": "2022-04-08T12:43:22.403Z"
      },
      {
        "duration": 34,
        "start_time": "2022-04-08T12:43:22.420Z"
      },
      {
        "duration": 46,
        "start_time": "2022-04-08T12:43:22.456Z"
      },
      {
        "duration": 28,
        "start_time": "2022-04-08T12:43:22.507Z"
      },
      {
        "duration": 3595,
        "start_time": "2022-04-08T12:43:22.538Z"
      },
      {
        "duration": 622,
        "start_time": "2022-04-08T12:43:26.146Z"
      },
      {
        "duration": 8,
        "start_time": "2022-04-08T12:43:26.771Z"
      },
      {
        "duration": 62,
        "start_time": "2022-04-08T12:43:26.782Z"
      },
      {
        "duration": 4470,
        "start_time": "2022-04-08T12:43:26.846Z"
      },
      {
        "duration": 26,
        "start_time": "2022-04-08T12:43:31.318Z"
      },
      {
        "duration": 17,
        "start_time": "2022-04-08T12:43:31.347Z"
      },
      {
        "duration": 44,
        "start_time": "2022-04-08T12:43:31.367Z"
      },
      {
        "duration": 10,
        "start_time": "2022-04-08T12:43:31.413Z"
      },
      {
        "duration": 15,
        "start_time": "2022-04-08T12:43:31.426Z"
      },
      {
        "duration": 3512,
        "start_time": "2022-04-08T12:43:31.447Z"
      },
      {
        "duration": 0,
        "start_time": "2022-04-08T12:43:34.962Z"
      },
      {
        "duration": 0,
        "start_time": "2022-04-08T12:43:34.964Z"
      },
      {
        "duration": 0,
        "start_time": "2022-04-08T12:43:34.965Z"
      },
      {
        "duration": 0,
        "start_time": "2022-04-08T12:43:34.967Z"
      },
      {
        "duration": 20,
        "start_time": "2022-04-08T12:43:58.928Z"
      },
      {
        "duration": 8,
        "start_time": "2022-04-08T12:51:24.054Z"
      },
      {
        "duration": 1276,
        "start_time": "2022-04-08T12:51:24.066Z"
      },
      {
        "duration": 4,
        "start_time": "2022-04-08T12:51:25.345Z"
      },
      {
        "duration": 20,
        "start_time": "2022-04-08T12:51:25.353Z"
      },
      {
        "duration": 81,
        "start_time": "2022-04-08T12:51:25.376Z"
      },
      {
        "duration": 56,
        "start_time": "2022-04-08T12:51:25.460Z"
      },
      {
        "duration": 68,
        "start_time": "2022-04-08T12:51:25.544Z"
      },
      {
        "duration": 30,
        "start_time": "2022-04-08T12:51:25.615Z"
      },
      {
        "duration": 9,
        "start_time": "2022-04-08T12:51:25.649Z"
      },
      {
        "duration": 11,
        "start_time": "2022-04-08T12:51:25.664Z"
      },
      {
        "duration": 18,
        "start_time": "2022-04-08T12:51:25.678Z"
      },
      {
        "duration": 18,
        "start_time": "2022-04-08T12:51:25.704Z"
      },
      {
        "duration": 35,
        "start_time": "2022-04-08T12:51:25.725Z"
      },
      {
        "duration": 20,
        "start_time": "2022-04-08T12:51:25.763Z"
      },
      {
        "duration": 3328,
        "start_time": "2022-04-08T12:51:25.786Z"
      },
      {
        "duration": 605,
        "start_time": "2022-04-08T12:51:29.117Z"
      },
      {
        "duration": 6,
        "start_time": "2022-04-08T12:51:29.725Z"
      },
      {
        "duration": 54,
        "start_time": "2022-04-08T12:51:29.744Z"
      },
      {
        "duration": 6585,
        "start_time": "2022-04-08T12:51:29.801Z"
      },
      {
        "duration": 17,
        "start_time": "2022-04-08T12:51:36.389Z"
      },
      {
        "duration": 15,
        "start_time": "2022-04-08T12:51:36.410Z"
      },
      {
        "duration": 27,
        "start_time": "2022-04-08T12:51:36.443Z"
      },
      {
        "duration": 6,
        "start_time": "2022-04-08T12:51:36.473Z"
      },
      {
        "duration": 10,
        "start_time": "2022-04-08T12:51:36.482Z"
      },
      {
        "duration": 49,
        "start_time": "2022-04-08T12:51:36.495Z"
      },
      {
        "duration": 0,
        "start_time": "2022-04-08T12:51:36.548Z"
      },
      {
        "duration": 0,
        "start_time": "2022-04-08T12:51:36.550Z"
      },
      {
        "duration": 0,
        "start_time": "2022-04-08T12:51:36.552Z"
      },
      {
        "duration": 0,
        "start_time": "2022-04-08T12:51:36.554Z"
      },
      {
        "duration": 7,
        "start_time": "2022-04-08T12:55:30.864Z"
      },
      {
        "duration": 949,
        "start_time": "2022-04-08T12:55:30.874Z"
      },
      {
        "duration": 4,
        "start_time": "2022-04-08T12:55:31.826Z"
      },
      {
        "duration": 20,
        "start_time": "2022-04-08T12:55:31.833Z"
      },
      {
        "duration": 64,
        "start_time": "2022-04-08T12:55:31.855Z"
      },
      {
        "duration": 42,
        "start_time": "2022-04-08T12:55:31.921Z"
      },
      {
        "duration": 75,
        "start_time": "2022-04-08T12:55:31.967Z"
      },
      {
        "duration": 10,
        "start_time": "2022-04-08T12:55:32.046Z"
      },
      {
        "duration": 21,
        "start_time": "2022-04-08T12:55:32.061Z"
      },
      {
        "duration": 14,
        "start_time": "2022-04-08T12:55:32.086Z"
      },
      {
        "duration": 37,
        "start_time": "2022-04-08T12:55:32.104Z"
      },
      {
        "duration": 12,
        "start_time": "2022-04-08T12:55:32.144Z"
      },
      {
        "duration": 45,
        "start_time": "2022-04-08T12:55:32.159Z"
      },
      {
        "duration": 45,
        "start_time": "2022-04-08T12:55:32.207Z"
      },
      {
        "duration": 3571,
        "start_time": "2022-04-08T12:55:32.255Z"
      },
      {
        "duration": 698,
        "start_time": "2022-04-08T12:55:35.829Z"
      },
      {
        "duration": 8,
        "start_time": "2022-04-08T12:55:36.530Z"
      },
      {
        "duration": 51,
        "start_time": "2022-04-08T12:55:36.544Z"
      },
      {
        "duration": 6808,
        "start_time": "2022-04-08T12:55:36.598Z"
      },
      {
        "duration": 34,
        "start_time": "2022-04-08T12:55:43.410Z"
      },
      {
        "duration": 4,
        "start_time": "2022-04-08T12:55:43.447Z"
      },
      {
        "duration": 19,
        "start_time": "2022-04-08T12:55:43.453Z"
      },
      {
        "duration": 9,
        "start_time": "2022-04-08T12:55:43.475Z"
      },
      {
        "duration": 24,
        "start_time": "2022-04-08T12:55:43.490Z"
      },
      {
        "duration": 16,
        "start_time": "2022-04-08T12:55:43.517Z"
      },
      {
        "duration": 23,
        "start_time": "2022-04-08T12:55:43.536Z"
      },
      {
        "duration": 17,
        "start_time": "2022-04-08T12:55:43.562Z"
      },
      {
        "duration": 28,
        "start_time": "2022-04-08T12:55:43.581Z"
      },
      {
        "duration": 0,
        "start_time": "2022-04-08T12:55:43.611Z"
      },
      {
        "duration": 0,
        "start_time": "2022-04-08T12:55:43.613Z"
      },
      {
        "duration": 0,
        "start_time": "2022-04-08T12:55:43.615Z"
      },
      {
        "duration": 0,
        "start_time": "2022-04-08T12:55:43.617Z"
      },
      {
        "duration": 7,
        "start_time": "2022-04-08T12:56:56.004Z"
      },
      {
        "duration": 1046,
        "start_time": "2022-04-08T12:56:56.014Z"
      },
      {
        "duration": 4,
        "start_time": "2022-04-08T12:56:57.063Z"
      },
      {
        "duration": 15,
        "start_time": "2022-04-08T12:56:57.071Z"
      },
      {
        "duration": 54,
        "start_time": "2022-04-08T12:56:57.089Z"
      },
      {
        "duration": 50,
        "start_time": "2022-04-08T12:56:57.150Z"
      },
      {
        "duration": 58,
        "start_time": "2022-04-08T12:56:57.202Z"
      },
      {
        "duration": 11,
        "start_time": "2022-04-08T12:56:57.263Z"
      },
      {
        "duration": 8,
        "start_time": "2022-04-08T12:56:57.280Z"
      },
      {
        "duration": 13,
        "start_time": "2022-04-08T12:56:57.292Z"
      },
      {
        "duration": 39,
        "start_time": "2022-04-08T12:56:57.308Z"
      },
      {
        "duration": 19,
        "start_time": "2022-04-08T12:56:57.350Z"
      },
      {
        "duration": 32,
        "start_time": "2022-04-08T12:56:57.372Z"
      },
      {
        "duration": 37,
        "start_time": "2022-04-08T12:56:57.407Z"
      },
      {
        "duration": 3555,
        "start_time": "2022-04-08T12:56:57.446Z"
      },
      {
        "duration": 660,
        "start_time": "2022-04-08T12:57:01.004Z"
      },
      {
        "duration": 7,
        "start_time": "2022-04-08T12:57:01.667Z"
      },
      {
        "duration": 100,
        "start_time": "2022-04-08T12:57:01.676Z"
      },
      {
        "duration": 5475,
        "start_time": "2022-04-08T12:57:01.778Z"
      },
      {
        "duration": 17,
        "start_time": "2022-04-08T12:57:07.256Z"
      },
      {
        "duration": 6,
        "start_time": "2022-04-08T12:57:07.275Z"
      },
      {
        "duration": 16,
        "start_time": "2022-04-08T12:57:07.284Z"
      },
      {
        "duration": 11,
        "start_time": "2022-04-08T12:57:07.303Z"
      },
      {
        "duration": 23,
        "start_time": "2022-04-08T12:57:07.320Z"
      },
      {
        "duration": 37,
        "start_time": "2022-04-08T12:57:07.346Z"
      },
      {
        "duration": 46,
        "start_time": "2022-04-08T12:57:07.386Z"
      },
      {
        "duration": 5249,
        "start_time": "2022-04-08T12:57:07.435Z"
      },
      {
        "duration": 10,
        "start_time": "2022-04-08T12:57:12.687Z"
      },
      {
        "duration": 14,
        "start_time": "2022-04-08T12:57:12.701Z"
      },
      {
        "duration": 27,
        "start_time": "2022-04-08T12:57:12.719Z"
      },
      {
        "duration": 0,
        "start_time": "2022-04-08T12:57:12.750Z"
      },
      {
        "duration": 0,
        "start_time": "2022-04-08T12:57:12.753Z"
      },
      {
        "duration": 0,
        "start_time": "2022-04-08T12:57:12.755Z"
      },
      {
        "duration": 1,
        "start_time": "2022-04-08T12:57:12.757Z"
      },
      {
        "duration": 6,
        "start_time": "2022-04-08T12:58:19.637Z"
      },
      {
        "duration": 795,
        "start_time": "2022-04-08T12:58:19.646Z"
      },
      {
        "duration": 3,
        "start_time": "2022-04-08T12:58:20.444Z"
      },
      {
        "duration": 75,
        "start_time": "2022-04-08T12:58:20.450Z"
      },
      {
        "duration": 48,
        "start_time": "2022-04-08T12:58:20.528Z"
      },
      {
        "duration": 31,
        "start_time": "2022-04-08T12:58:20.578Z"
      },
      {
        "duration": 80,
        "start_time": "2022-04-08T12:58:20.611Z"
      },
      {
        "duration": 9,
        "start_time": "2022-04-08T12:58:20.693Z"
      },
      {
        "duration": 11,
        "start_time": "2022-04-08T12:58:20.706Z"
      },
      {
        "duration": 14,
        "start_time": "2022-04-08T12:58:20.720Z"
      },
      {
        "duration": 15,
        "start_time": "2022-04-08T12:58:20.736Z"
      },
      {
        "duration": 14,
        "start_time": "2022-04-08T12:58:20.754Z"
      },
      {
        "duration": 30,
        "start_time": "2022-04-08T12:58:20.770Z"
      },
      {
        "duration": 29,
        "start_time": "2022-04-08T12:58:20.803Z"
      },
      {
        "duration": 4339,
        "start_time": "2022-04-08T12:58:20.835Z"
      },
      {
        "duration": 555,
        "start_time": "2022-04-08T12:58:25.177Z"
      },
      {
        "duration": 7,
        "start_time": "2022-04-08T12:58:25.742Z"
      },
      {
        "duration": 45,
        "start_time": "2022-04-08T12:58:25.752Z"
      },
      {
        "duration": 4542,
        "start_time": "2022-04-08T12:58:25.800Z"
      },
      {
        "duration": 13,
        "start_time": "2022-04-08T12:58:30.344Z"
      },
      {
        "duration": 4,
        "start_time": "2022-04-08T12:58:30.360Z"
      },
      {
        "duration": 8,
        "start_time": "2022-04-08T12:58:30.367Z"
      },
      {
        "duration": 8,
        "start_time": "2022-04-08T12:58:30.377Z"
      },
      {
        "duration": 7,
        "start_time": "2022-04-08T12:58:30.390Z"
      },
      {
        "duration": 47,
        "start_time": "2022-04-08T12:58:30.400Z"
      },
      {
        "duration": 42,
        "start_time": "2022-04-08T12:58:30.450Z"
      },
      {
        "duration": 3380,
        "start_time": "2022-04-08T12:58:30.494Z"
      },
      {
        "duration": 1775,
        "start_time": "2022-04-08T12:58:33.876Z"
      },
      {
        "duration": 19673,
        "start_time": "2022-04-08T12:58:35.655Z"
      },
      {
        "duration": 13,
        "start_time": "2022-04-08T12:58:55.331Z"
      },
      {
        "duration": 19,
        "start_time": "2022-04-08T12:58:55.346Z"
      },
      {
        "duration": 44,
        "start_time": "2022-04-08T12:58:55.368Z"
      },
      {
        "duration": 0,
        "start_time": "2022-04-08T12:58:55.415Z"
      },
      {
        "duration": 0,
        "start_time": "2022-04-08T12:58:55.417Z"
      },
      {
        "duration": 0,
        "start_time": "2022-04-08T12:58:55.420Z"
      },
      {
        "duration": 0,
        "start_time": "2022-04-08T12:58:55.422Z"
      },
      {
        "duration": 24151,
        "start_time": "2022-04-08T12:59:10.098Z"
      },
      {
        "duration": 5038,
        "start_time": "2022-04-08T12:59:36.393Z"
      },
      {
        "duration": 558,
        "start_time": "2022-04-08T13:05:39.296Z"
      },
      {
        "duration": 6,
        "start_time": "2022-04-08T13:05:45.404Z"
      },
      {
        "duration": 763,
        "start_time": "2022-04-08T13:05:45.413Z"
      },
      {
        "duration": 4,
        "start_time": "2022-04-08T13:05:46.178Z"
      },
      {
        "duration": 7,
        "start_time": "2022-04-08T13:05:46.185Z"
      },
      {
        "duration": 62,
        "start_time": "2022-04-08T13:05:46.194Z"
      },
      {
        "duration": 32,
        "start_time": "2022-04-08T13:05:46.258Z"
      },
      {
        "duration": 63,
        "start_time": "2022-04-08T13:05:46.293Z"
      },
      {
        "duration": 10,
        "start_time": "2022-04-08T13:05:46.358Z"
      },
      {
        "duration": 6,
        "start_time": "2022-04-08T13:05:46.370Z"
      },
      {
        "duration": 9,
        "start_time": "2022-04-08T13:05:46.379Z"
      },
      {
        "duration": 9,
        "start_time": "2022-04-08T13:05:46.389Z"
      },
      {
        "duration": 44,
        "start_time": "2022-04-08T13:05:46.400Z"
      },
      {
        "duration": 24,
        "start_time": "2022-04-08T13:05:46.447Z"
      },
      {
        "duration": 22,
        "start_time": "2022-04-08T13:05:46.473Z"
      },
      {
        "duration": 3746,
        "start_time": "2022-04-08T13:05:46.497Z"
      },
      {
        "duration": 702,
        "start_time": "2022-04-08T13:05:50.245Z"
      },
      {
        "duration": 8,
        "start_time": "2022-04-08T13:05:50.949Z"
      },
      {
        "duration": 55,
        "start_time": "2022-04-08T13:05:50.960Z"
      },
      {
        "duration": 5885,
        "start_time": "2022-04-08T13:05:51.018Z"
      },
      {
        "duration": 16,
        "start_time": "2022-04-08T13:05:56.906Z"
      },
      {
        "duration": 19,
        "start_time": "2022-04-08T13:05:56.925Z"
      },
      {
        "duration": 14,
        "start_time": "2022-04-08T13:05:56.946Z"
      },
      {
        "duration": 8,
        "start_time": "2022-04-08T13:05:56.962Z"
      },
      {
        "duration": 14,
        "start_time": "2022-04-08T13:05:56.972Z"
      },
      {
        "duration": 14,
        "start_time": "2022-04-08T13:05:56.987Z"
      },
      {
        "duration": 51,
        "start_time": "2022-04-08T13:05:57.003Z"
      },
      {
        "duration": 3323,
        "start_time": "2022-04-08T13:05:57.057Z"
      },
      {
        "duration": 1862,
        "start_time": "2022-04-08T13:06:00.385Z"
      },
      {
        "duration": 20410,
        "start_time": "2022-04-08T13:06:02.249Z"
      },
      {
        "duration": 3425,
        "start_time": "2022-04-08T13:06:22.661Z"
      },
      {
        "duration": 0,
        "start_time": "2022-04-08T13:06:26.089Z"
      },
      {
        "duration": 0,
        "start_time": "2022-04-08T13:06:26.091Z"
      },
      {
        "duration": 0,
        "start_time": "2022-04-08T13:06:26.093Z"
      },
      {
        "duration": 0,
        "start_time": "2022-04-08T13:06:26.094Z"
      },
      {
        "duration": 0,
        "start_time": "2022-04-08T13:06:26.096Z"
      },
      {
        "duration": 0,
        "start_time": "2022-04-08T13:06:26.098Z"
      },
      {
        "duration": 0,
        "start_time": "2022-04-08T13:06:26.100Z"
      },
      {
        "duration": 0,
        "start_time": "2022-04-08T13:06:26.101Z"
      },
      {
        "duration": 0,
        "start_time": "2022-04-08T13:06:26.103Z"
      },
      {
        "duration": 6,
        "start_time": "2022-04-08T13:08:23.707Z"
      },
      {
        "duration": 1230,
        "start_time": "2022-04-08T13:08:23.717Z"
      },
      {
        "duration": 5,
        "start_time": "2022-04-08T13:08:24.950Z"
      },
      {
        "duration": 8,
        "start_time": "2022-04-08T13:08:24.959Z"
      },
      {
        "duration": 51,
        "start_time": "2022-04-08T13:08:24.969Z"
      },
      {
        "duration": 40,
        "start_time": "2022-04-08T13:08:25.042Z"
      },
      {
        "duration": 76,
        "start_time": "2022-04-08T13:08:25.085Z"
      },
      {
        "duration": 11,
        "start_time": "2022-04-08T13:08:25.163Z"
      },
      {
        "duration": 11,
        "start_time": "2022-04-08T13:08:25.178Z"
      },
      {
        "duration": 10,
        "start_time": "2022-04-08T13:08:25.194Z"
      },
      {
        "duration": 38,
        "start_time": "2022-04-08T13:08:25.207Z"
      },
      {
        "duration": 13,
        "start_time": "2022-04-08T13:08:25.248Z"
      },
      {
        "duration": 37,
        "start_time": "2022-04-08T13:08:25.263Z"
      },
      {
        "duration": 47,
        "start_time": "2022-04-08T13:08:25.302Z"
      },
      {
        "duration": 3862,
        "start_time": "2022-04-08T13:08:25.352Z"
      },
      {
        "duration": 519,
        "start_time": "2022-04-08T13:08:29.217Z"
      },
      {
        "duration": 9,
        "start_time": "2022-04-08T13:08:29.738Z"
      },
      {
        "duration": 52,
        "start_time": "2022-04-08T13:08:29.750Z"
      },
      {
        "duration": 4222,
        "start_time": "2022-04-08T13:08:29.805Z"
      },
      {
        "duration": 23,
        "start_time": "2022-04-08T13:08:34.029Z"
      },
      {
        "duration": 4,
        "start_time": "2022-04-08T13:08:34.055Z"
      },
      {
        "duration": 11,
        "start_time": "2022-04-08T13:08:34.061Z"
      },
      {
        "duration": 14,
        "start_time": "2022-04-08T13:08:34.074Z"
      },
      {
        "duration": 12,
        "start_time": "2022-04-08T13:08:34.093Z"
      },
      {
        "duration": 8,
        "start_time": "2022-04-08T13:08:34.109Z"
      },
      {
        "duration": 50,
        "start_time": "2022-04-08T13:08:34.120Z"
      },
      {
        "duration": 3356,
        "start_time": "2022-04-08T13:08:34.172Z"
      },
      {
        "duration": 1814,
        "start_time": "2022-04-08T13:08:37.531Z"
      },
      {
        "duration": 20209,
        "start_time": "2022-04-08T13:08:39.349Z"
      },
      {
        "duration": 13,
        "start_time": "2022-04-08T13:08:59.560Z"
      },
      {
        "duration": 0,
        "start_time": "2022-04-08T13:08:59.575Z"
      },
      {
        "duration": 0,
        "start_time": "2022-04-08T13:08:59.577Z"
      },
      {
        "duration": 0,
        "start_time": "2022-04-08T13:08:59.580Z"
      },
      {
        "duration": 0,
        "start_time": "2022-04-08T13:08:59.582Z"
      },
      {
        "duration": 0,
        "start_time": "2022-04-08T13:08:59.585Z"
      },
      {
        "duration": 0,
        "start_time": "2022-04-08T13:08:59.586Z"
      },
      {
        "duration": 0,
        "start_time": "2022-04-08T13:08:59.588Z"
      },
      {
        "duration": 0,
        "start_time": "2022-04-08T13:08:59.589Z"
      },
      {
        "duration": 22,
        "start_time": "2022-04-08T13:09:40.895Z"
      },
      {
        "duration": 20,
        "start_time": "2022-04-08T13:17:31.990Z"
      },
      {
        "duration": 6,
        "start_time": "2022-04-08T13:17:35.933Z"
      },
      {
        "duration": 1098,
        "start_time": "2022-04-08T13:17:35.942Z"
      },
      {
        "duration": 3,
        "start_time": "2022-04-08T13:17:37.044Z"
      },
      {
        "duration": 51,
        "start_time": "2022-04-08T13:17:37.051Z"
      },
      {
        "duration": 92,
        "start_time": "2022-04-08T13:17:37.105Z"
      },
      {
        "duration": 34,
        "start_time": "2022-04-08T13:17:37.201Z"
      },
      {
        "duration": 48,
        "start_time": "2022-04-08T13:17:37.243Z"
      },
      {
        "duration": 8,
        "start_time": "2022-04-08T13:17:37.293Z"
      },
      {
        "duration": 10,
        "start_time": "2022-04-08T13:17:37.304Z"
      },
      {
        "duration": 29,
        "start_time": "2022-04-08T13:17:37.316Z"
      },
      {
        "duration": 22,
        "start_time": "2022-04-08T13:17:37.348Z"
      },
      {
        "duration": 29,
        "start_time": "2022-04-08T13:17:37.373Z"
      },
      {
        "duration": 34,
        "start_time": "2022-04-08T13:17:37.404Z"
      },
      {
        "duration": 47,
        "start_time": "2022-04-08T13:17:37.441Z"
      },
      {
        "duration": 3450,
        "start_time": "2022-04-08T13:17:37.491Z"
      },
      {
        "duration": 552,
        "start_time": "2022-04-08T13:17:40.943Z"
      },
      {
        "duration": 8,
        "start_time": "2022-04-08T13:17:41.497Z"
      },
      {
        "duration": 73,
        "start_time": "2022-04-08T13:17:41.508Z"
      },
      {
        "duration": 4586,
        "start_time": "2022-04-08T13:17:41.583Z"
      },
      {
        "duration": 15,
        "start_time": "2022-04-08T13:17:46.171Z"
      },
      {
        "duration": 3,
        "start_time": "2022-04-08T13:17:46.188Z"
      },
      {
        "duration": 9,
        "start_time": "2022-04-08T13:17:46.194Z"
      },
      {
        "duration": 7,
        "start_time": "2022-04-08T13:17:46.205Z"
      },
      {
        "duration": 7,
        "start_time": "2022-04-08T13:17:46.242Z"
      },
      {
        "duration": 14,
        "start_time": "2022-04-08T13:17:46.251Z"
      },
      {
        "duration": 44,
        "start_time": "2022-04-08T13:17:46.268Z"
      },
      {
        "duration": 3966,
        "start_time": "2022-04-08T13:17:46.315Z"
      },
      {
        "duration": 1391,
        "start_time": "2022-04-08T13:17:50.283Z"
      },
      {
        "duration": 22033,
        "start_time": "2022-04-08T13:17:51.676Z"
      },
      {
        "duration": 38,
        "start_time": "2022-04-08T13:18:13.712Z"
      },
      {
        "duration": 0,
        "start_time": "2022-04-08T13:18:13.752Z"
      },
      {
        "duration": 0,
        "start_time": "2022-04-08T13:18:13.754Z"
      },
      {
        "duration": 0,
        "start_time": "2022-04-08T13:18:13.755Z"
      },
      {
        "duration": 0,
        "start_time": "2022-04-08T13:18:13.756Z"
      },
      {
        "duration": 0,
        "start_time": "2022-04-08T13:18:13.758Z"
      },
      {
        "duration": 0,
        "start_time": "2022-04-08T13:18:13.759Z"
      },
      {
        "duration": 0,
        "start_time": "2022-04-08T13:18:13.761Z"
      },
      {
        "duration": 0,
        "start_time": "2022-04-08T13:18:13.764Z"
      },
      {
        "duration": 0,
        "start_time": "2022-04-08T13:18:13.765Z"
      },
      {
        "duration": 20,
        "start_time": "2022-04-08T13:20:19.232Z"
      },
      {
        "duration": 12,
        "start_time": "2022-04-08T13:26:03.798Z"
      },
      {
        "duration": 22,
        "start_time": "2022-04-08T13:48:19.640Z"
      },
      {
        "duration": 7,
        "start_time": "2022-04-08T13:48:42.689Z"
      },
      {
        "duration": 6,
        "start_time": "2022-04-08T13:50:42.984Z"
      },
      {
        "duration": 768,
        "start_time": "2022-04-08T13:50:42.993Z"
      },
      {
        "duration": 3,
        "start_time": "2022-04-08T13:50:43.764Z"
      },
      {
        "duration": 17,
        "start_time": "2022-04-08T13:50:43.770Z"
      },
      {
        "duration": 59,
        "start_time": "2022-04-08T13:50:43.789Z"
      },
      {
        "duration": 35,
        "start_time": "2022-04-08T13:50:43.851Z"
      },
      {
        "duration": 79,
        "start_time": "2022-04-08T13:50:43.889Z"
      },
      {
        "duration": 10,
        "start_time": "2022-04-08T13:50:43.971Z"
      },
      {
        "duration": 19,
        "start_time": "2022-04-08T13:50:43.984Z"
      },
      {
        "duration": 22,
        "start_time": "2022-04-08T13:50:44.008Z"
      },
      {
        "duration": 19,
        "start_time": "2022-04-08T13:50:44.032Z"
      },
      {
        "duration": 8,
        "start_time": "2022-04-08T13:50:44.053Z"
      },
      {
        "duration": 29,
        "start_time": "2022-04-08T13:50:44.063Z"
      },
      {
        "duration": 34,
        "start_time": "2022-04-08T13:50:44.094Z"
      },
      {
        "duration": 3987,
        "start_time": "2022-04-08T13:50:44.130Z"
      },
      {
        "duration": 610,
        "start_time": "2022-04-08T13:50:48.119Z"
      },
      {
        "duration": 16,
        "start_time": "2022-04-08T13:50:48.731Z"
      },
      {
        "duration": 58,
        "start_time": "2022-04-08T13:50:48.750Z"
      },
      {
        "duration": 5993,
        "start_time": "2022-04-08T13:50:48.810Z"
      },
      {
        "duration": 16,
        "start_time": "2022-04-08T13:50:54.806Z"
      },
      {
        "duration": 3,
        "start_time": "2022-04-08T13:50:54.843Z"
      },
      {
        "duration": 7,
        "start_time": "2022-04-08T13:50:54.848Z"
      },
      {
        "duration": 10,
        "start_time": "2022-04-08T13:50:54.857Z"
      },
      {
        "duration": 29,
        "start_time": "2022-04-08T13:50:54.869Z"
      },
      {
        "duration": 49,
        "start_time": "2022-04-08T13:50:54.901Z"
      },
      {
        "duration": 8,
        "start_time": "2022-04-08T13:50:54.953Z"
      },
      {
        "duration": 289,
        "start_time": "2022-04-08T13:50:54.963Z"
      },
      {
        "duration": 394,
        "start_time": "2022-04-08T13:50:55.258Z"
      },
      {
        "duration": 8715,
        "start_time": "2022-04-08T13:50:55.656Z"
      },
      {
        "duration": 2380,
        "start_time": "2022-04-08T13:51:04.373Z"
      },
      {
        "duration": 48513,
        "start_time": "2022-04-08T13:51:06.756Z"
      },
      {
        "duration": 6,
        "start_time": "2022-04-08T15:38:03.109Z"
      },
      {
        "duration": 798,
        "start_time": "2022-04-08T15:38:03.118Z"
      },
      {
        "duration": 4,
        "start_time": "2022-04-08T15:38:03.918Z"
      },
      {
        "duration": 17,
        "start_time": "2022-04-08T15:38:03.925Z"
      },
      {
        "duration": 47,
        "start_time": "2022-04-08T15:38:03.944Z"
      },
      {
        "duration": 70,
        "start_time": "2022-04-08T15:38:03.993Z"
      },
      {
        "duration": 52,
        "start_time": "2022-04-08T15:38:04.066Z"
      },
      {
        "duration": 10,
        "start_time": "2022-04-08T15:38:04.143Z"
      },
      {
        "duration": 17,
        "start_time": "2022-04-08T15:38:04.158Z"
      },
      {
        "duration": 26,
        "start_time": "2022-04-08T15:38:04.178Z"
      },
      {
        "duration": 12,
        "start_time": "2022-04-08T15:38:04.207Z"
      },
      {
        "duration": 25,
        "start_time": "2022-04-08T15:38:04.222Z"
      },
      {
        "duration": 34,
        "start_time": "2022-04-08T15:38:04.250Z"
      },
      {
        "duration": 51,
        "start_time": "2022-04-08T15:38:04.286Z"
      },
      {
        "duration": 3470,
        "start_time": "2022-04-08T15:38:04.340Z"
      },
      {
        "duration": 522,
        "start_time": "2022-04-08T15:38:07.812Z"
      },
      {
        "duration": 9,
        "start_time": "2022-04-08T15:38:08.336Z"
      },
      {
        "duration": 46,
        "start_time": "2022-04-08T15:38:08.348Z"
      },
      {
        "duration": 4272,
        "start_time": "2022-04-08T15:38:08.396Z"
      },
      {
        "duration": 15,
        "start_time": "2022-04-08T15:38:12.670Z"
      },
      {
        "duration": 8,
        "start_time": "2022-04-08T15:38:12.687Z"
      },
      {
        "duration": 20,
        "start_time": "2022-04-08T15:38:12.697Z"
      },
      {
        "duration": 23,
        "start_time": "2022-04-08T15:38:12.719Z"
      },
      {
        "duration": 10,
        "start_time": "2022-04-08T15:38:12.746Z"
      },
      {
        "duration": 22,
        "start_time": "2022-04-08T15:38:12.758Z"
      },
      {
        "duration": 13,
        "start_time": "2022-04-08T15:38:23.885Z"
      },
      {
        "duration": 8,
        "start_time": "2022-04-08T15:38:32.525Z"
      },
      {
        "duration": 6,
        "start_time": "2022-04-08T15:41:50.759Z"
      },
      {
        "duration": 730,
        "start_time": "2022-04-08T15:41:50.767Z"
      },
      {
        "duration": 3,
        "start_time": "2022-04-08T15:41:51.499Z"
      },
      {
        "duration": 7,
        "start_time": "2022-04-08T15:41:51.505Z"
      },
      {
        "duration": 59,
        "start_time": "2022-04-08T15:41:51.515Z"
      },
      {
        "duration": 31,
        "start_time": "2022-04-08T15:41:51.576Z"
      },
      {
        "duration": 70,
        "start_time": "2022-04-08T15:41:51.610Z"
      },
      {
        "duration": 10,
        "start_time": "2022-04-08T15:41:51.683Z"
      },
      {
        "duration": 4,
        "start_time": "2022-04-08T15:41:51.699Z"
      },
      {
        "duration": 42,
        "start_time": "2022-04-08T15:41:51.706Z"
      },
      {
        "duration": 16,
        "start_time": "2022-04-08T15:41:51.751Z"
      },
      {
        "duration": 12,
        "start_time": "2022-04-08T15:41:51.770Z"
      },
      {
        "duration": 59,
        "start_time": "2022-04-08T15:41:51.785Z"
      },
      {
        "duration": 20,
        "start_time": "2022-04-08T15:41:51.847Z"
      },
      {
        "duration": 3430,
        "start_time": "2022-04-08T15:41:51.870Z"
      },
      {
        "duration": 506,
        "start_time": "2022-04-08T15:41:55.302Z"
      },
      {
        "duration": 7,
        "start_time": "2022-04-08T15:41:55.810Z"
      },
      {
        "duration": 55,
        "start_time": "2022-04-08T15:41:55.819Z"
      },
      {
        "duration": 4633,
        "start_time": "2022-04-08T15:41:55.876Z"
      },
      {
        "duration": 32,
        "start_time": "2022-04-08T15:42:00.511Z"
      },
      {
        "duration": 4,
        "start_time": "2022-04-08T15:42:00.545Z"
      },
      {
        "duration": 6,
        "start_time": "2022-04-08T15:42:00.551Z"
      },
      {
        "duration": 7,
        "start_time": "2022-04-08T15:42:00.559Z"
      },
      {
        "duration": 13,
        "start_time": "2022-04-08T15:42:00.570Z"
      },
      {
        "duration": 10,
        "start_time": "2022-04-08T15:42:00.585Z"
      },
      {
        "duration": 66,
        "start_time": "2022-04-08T15:42:00.598Z"
      },
      {
        "duration": 3389,
        "start_time": "2022-04-08T15:42:00.667Z"
      },
      {
        "duration": 1292,
        "start_time": "2022-04-08T15:42:04.058Z"
      },
      {
        "duration": 9682,
        "start_time": "2022-04-08T15:42:05.352Z"
      },
      {
        "duration": 18745,
        "start_time": "2022-04-08T15:42:15.036Z"
      },
      {
        "duration": 14,
        "start_time": "2022-04-08T15:48:16.299Z"
      },
      {
        "duration": 3349,
        "start_time": "2022-04-08T15:48:31.569Z"
      },
      {
        "duration": 5,
        "start_time": "2022-04-08T15:53:42.551Z"
      },
      {
        "duration": 12,
        "start_time": "2022-04-08T15:54:33.911Z"
      },
      {
        "duration": 32,
        "start_time": "2022-04-08T15:54:40.575Z"
      },
      {
        "duration": 14,
        "start_time": "2022-04-08T15:56:18.126Z"
      },
      {
        "duration": 8,
        "start_time": "2022-04-08T15:56:29.590Z"
      },
      {
        "duration": 6,
        "start_time": "2022-04-08T15:59:12.057Z"
      },
      {
        "duration": 861,
        "start_time": "2022-04-08T15:59:12.066Z"
      },
      {
        "duration": 4,
        "start_time": "2022-04-08T15:59:12.929Z"
      },
      {
        "duration": 14,
        "start_time": "2022-04-08T15:59:12.944Z"
      },
      {
        "duration": 42,
        "start_time": "2022-04-08T15:59:12.960Z"
      },
      {
        "duration": 67,
        "start_time": "2022-04-08T15:59:13.004Z"
      },
      {
        "duration": 39,
        "start_time": "2022-04-08T15:59:13.074Z"
      },
      {
        "duration": 34,
        "start_time": "2022-04-08T15:59:13.115Z"
      },
      {
        "duration": 24,
        "start_time": "2022-04-08T15:59:13.153Z"
      },
      {
        "duration": 9,
        "start_time": "2022-04-08T15:59:13.182Z"
      },
      {
        "duration": 21,
        "start_time": "2022-04-08T15:59:13.193Z"
      },
      {
        "duration": 15,
        "start_time": "2022-04-08T15:59:13.217Z"
      },
      {
        "duration": 36,
        "start_time": "2022-04-08T15:59:13.244Z"
      },
      {
        "duration": 12,
        "start_time": "2022-04-08T15:59:13.283Z"
      },
      {
        "duration": 9,
        "start_time": "2022-04-08T15:59:13.297Z"
      },
      {
        "duration": 55,
        "start_time": "2022-04-08T15:59:13.308Z"
      },
      {
        "duration": 9,
        "start_time": "2022-04-08T15:59:13.365Z"
      },
      {
        "duration": 8,
        "start_time": "2022-04-08T15:59:13.376Z"
      },
      {
        "duration": 57,
        "start_time": "2022-04-08T15:59:13.386Z"
      },
      {
        "duration": 31,
        "start_time": "2022-04-08T15:59:13.446Z"
      },
      {
        "duration": 3518,
        "start_time": "2022-04-08T15:59:13.480Z"
      },
      {
        "duration": 774,
        "start_time": "2022-04-08T15:59:17.001Z"
      },
      {
        "duration": 8,
        "start_time": "2022-04-08T15:59:17.778Z"
      },
      {
        "duration": 71,
        "start_time": "2022-04-08T15:59:17.789Z"
      },
      {
        "duration": 4256,
        "start_time": "2022-04-08T15:59:17.864Z"
      },
      {
        "duration": 25,
        "start_time": "2022-04-08T15:59:22.122Z"
      },
      {
        "duration": 5,
        "start_time": "2022-04-08T15:59:22.150Z"
      },
      {
        "duration": 9,
        "start_time": "2022-04-08T15:59:22.160Z"
      },
      {
        "duration": 7,
        "start_time": "2022-04-08T15:59:22.172Z"
      },
      {
        "duration": 5,
        "start_time": "2022-04-08T15:59:22.181Z"
      },
      {
        "duration": 12,
        "start_time": "2022-04-08T15:59:22.188Z"
      },
      {
        "duration": 23,
        "start_time": "2022-04-08T15:59:22.250Z"
      },
      {
        "duration": 3082,
        "start_time": "2022-04-08T15:59:22.276Z"
      },
      {
        "duration": 604,
        "start_time": "2022-04-08T15:59:25.361Z"
      },
      {
        "duration": 5437,
        "start_time": "2022-04-08T15:59:26.052Z"
      },
      {
        "duration": 17866,
        "start_time": "2022-04-08T15:59:31.491Z"
      },
      {
        "duration": 6,
        "start_time": "2022-04-08T15:59:49.359Z"
      },
      {
        "duration": 5,
        "start_time": "2022-04-08T16:02:03.149Z"
      },
      {
        "duration": 6,
        "start_time": "2022-04-08T16:07:21.869Z"
      },
      {
        "duration": 775,
        "start_time": "2022-04-08T16:07:21.878Z"
      },
      {
        "duration": 4,
        "start_time": "2022-04-08T16:07:22.655Z"
      },
      {
        "duration": 17,
        "start_time": "2022-04-08T16:07:22.662Z"
      },
      {
        "duration": 62,
        "start_time": "2022-04-08T16:07:22.681Z"
      },
      {
        "duration": 31,
        "start_time": "2022-04-08T16:07:22.745Z"
      },
      {
        "duration": 78,
        "start_time": "2022-04-08T16:07:22.778Z"
      },
      {
        "duration": 8,
        "start_time": "2022-04-08T16:07:22.859Z"
      },
      {
        "duration": 15,
        "start_time": "2022-04-08T16:07:22.871Z"
      },
      {
        "duration": 15,
        "start_time": "2022-04-08T16:07:22.888Z"
      },
      {
        "duration": 38,
        "start_time": "2022-04-08T16:07:22.905Z"
      },
      {
        "duration": 5,
        "start_time": "2022-04-08T16:07:22.946Z"
      },
      {
        "duration": 46,
        "start_time": "2022-04-08T16:07:22.953Z"
      },
      {
        "duration": 10,
        "start_time": "2022-04-08T16:07:23.001Z"
      },
      {
        "duration": 36,
        "start_time": "2022-04-08T16:07:23.013Z"
      },
      {
        "duration": 33,
        "start_time": "2022-04-08T16:07:23.051Z"
      },
      {
        "duration": 9,
        "start_time": "2022-04-08T16:07:23.086Z"
      },
      {
        "duration": 47,
        "start_time": "2022-04-08T16:07:23.097Z"
      },
      {
        "duration": 30,
        "start_time": "2022-04-08T16:07:23.147Z"
      },
      {
        "duration": 4,
        "start_time": "2022-04-08T16:07:23.180Z"
      },
      {
        "duration": 11,
        "start_time": "2022-04-08T16:07:23.186Z"
      },
      {
        "duration": 51,
        "start_time": "2022-04-08T16:07:23.199Z"
      },
      {
        "duration": 3557,
        "start_time": "2022-04-08T16:07:23.252Z"
      },
      {
        "duration": 719,
        "start_time": "2022-04-08T16:07:26.814Z"
      },
      {
        "duration": 8,
        "start_time": "2022-04-08T16:07:27.536Z"
      },
      {
        "duration": 66,
        "start_time": "2022-04-08T16:07:27.546Z"
      },
      {
        "duration": 5668,
        "start_time": "2022-04-08T16:07:27.615Z"
      },
      {
        "duration": 18,
        "start_time": "2022-04-08T16:07:33.286Z"
      },
      {
        "duration": 3,
        "start_time": "2022-04-08T16:07:33.307Z"
      },
      {
        "duration": 31,
        "start_time": "2022-04-08T16:07:33.313Z"
      },
      {
        "duration": 22,
        "start_time": "2022-04-08T16:07:33.346Z"
      },
      {
        "duration": 78,
        "start_time": "2022-04-08T16:07:33.371Z"
      },
      {
        "duration": 49,
        "start_time": "2022-04-08T16:07:33.451Z"
      },
      {
        "duration": 31,
        "start_time": "2022-04-08T16:07:33.503Z"
      },
      {
        "duration": 31,
        "start_time": "2022-04-08T16:07:33.537Z"
      },
      {
        "duration": 26,
        "start_time": "2022-04-08T16:07:33.571Z"
      },
      {
        "duration": 4945,
        "start_time": "2022-04-08T16:07:33.600Z"
      },
      {
        "duration": 29,
        "start_time": "2022-04-08T16:07:38.547Z"
      },
      {
        "duration": 6,
        "start_time": "2022-04-08T16:07:38.578Z"
      },
      {
        "duration": 21,
        "start_time": "2022-04-08T16:07:38.586Z"
      },
      {
        "duration": 18,
        "start_time": "2022-04-08T16:10:13.817Z"
      },
      {
        "duration": 7,
        "start_time": "2022-04-08T16:10:16.603Z"
      },
      {
        "duration": 826,
        "start_time": "2022-04-08T16:10:16.614Z"
      },
      {
        "duration": 4,
        "start_time": "2022-04-08T16:10:17.443Z"
      },
      {
        "duration": 20,
        "start_time": "2022-04-08T16:10:17.451Z"
      },
      {
        "duration": 78,
        "start_time": "2022-04-08T16:10:17.474Z"
      },
      {
        "duration": 48,
        "start_time": "2022-04-08T16:10:17.555Z"
      },
      {
        "duration": 68,
        "start_time": "2022-04-08T16:10:17.605Z"
      },
      {
        "duration": 11,
        "start_time": "2022-04-08T16:10:17.676Z"
      },
      {
        "duration": 42,
        "start_time": "2022-04-08T16:10:17.692Z"
      },
      {
        "duration": 16,
        "start_time": "2022-04-08T16:10:17.736Z"
      },
      {
        "duration": 16,
        "start_time": "2022-04-08T16:10:17.754Z"
      },
      {
        "duration": 9,
        "start_time": "2022-04-08T16:10:17.773Z"
      },
      {
        "duration": 58,
        "start_time": "2022-04-08T16:10:17.785Z"
      },
      {
        "duration": 11,
        "start_time": "2022-04-08T16:10:17.846Z"
      },
      {
        "duration": 19,
        "start_time": "2022-04-08T16:10:17.859Z"
      },
      {
        "duration": 24,
        "start_time": "2022-04-08T16:10:17.880Z"
      },
      {
        "duration": 38,
        "start_time": "2022-04-08T16:10:17.907Z"
      },
      {
        "duration": 12,
        "start_time": "2022-04-08T16:10:17.948Z"
      },
      {
        "duration": 26,
        "start_time": "2022-04-08T16:10:17.963Z"
      },
      {
        "duration": 4,
        "start_time": "2022-04-08T16:10:17.992Z"
      },
      {
        "duration": 44,
        "start_time": "2022-04-08T16:10:17.999Z"
      },
      {
        "duration": 43,
        "start_time": "2022-04-08T16:10:18.046Z"
      },
      {
        "duration": 39,
        "start_time": "2022-04-08T16:10:18.091Z"
      },
      {
        "duration": 3280,
        "start_time": "2022-04-08T16:10:18.137Z"
      },
      {
        "duration": 518,
        "start_time": "2022-04-08T16:10:21.420Z"
      },
      {
        "duration": 6,
        "start_time": "2022-04-08T16:10:21.943Z"
      },
      {
        "duration": 51,
        "start_time": "2022-04-08T16:10:21.950Z"
      },
      {
        "duration": 4339,
        "start_time": "2022-04-08T16:10:22.004Z"
      },
      {
        "duration": 18,
        "start_time": "2022-04-08T16:10:26.346Z"
      },
      {
        "duration": 6,
        "start_time": "2022-04-08T16:10:26.366Z"
      },
      {
        "duration": 33,
        "start_time": "2022-04-08T16:10:26.375Z"
      },
      {
        "duration": 11,
        "start_time": "2022-04-08T16:10:26.411Z"
      },
      {
        "duration": 21,
        "start_time": "2022-04-08T16:10:26.424Z"
      },
      {
        "duration": 26,
        "start_time": "2022-04-08T16:10:26.447Z"
      },
      {
        "duration": 36,
        "start_time": "2022-04-08T16:10:26.476Z"
      },
      {
        "duration": 4183,
        "start_time": "2022-04-08T16:10:26.515Z"
      },
      {
        "duration": 954,
        "start_time": "2022-04-08T16:10:30.700Z"
      },
      {
        "duration": 5632,
        "start_time": "2022-04-08T16:10:31.656Z"
      },
      {
        "duration": 24659,
        "start_time": "2022-04-08T16:10:37.290Z"
      },
      {
        "duration": 7,
        "start_time": "2022-04-08T16:11:01.952Z"
      },
      {
        "duration": 46,
        "start_time": "2022-04-08T16:11:01.962Z"
      },
      {
        "duration": 2878,
        "start_time": "2022-04-08T16:19:49.893Z"
      },
      {
        "duration": 7,
        "start_time": "2022-04-08T16:19:52.774Z"
      },
      {
        "duration": 17,
        "start_time": "2022-04-08T16:19:52.784Z"
      },
      {
        "duration": 18,
        "start_time": "2022-04-08T16:19:52.804Z"
      },
      {
        "duration": 6,
        "start_time": "2022-04-08T16:21:00.032Z"
      },
      {
        "duration": 772,
        "start_time": "2022-04-08T16:21:00.041Z"
      },
      {
        "duration": 3,
        "start_time": "2022-04-08T16:21:00.816Z"
      },
      {
        "duration": 12,
        "start_time": "2022-04-08T16:21:00.821Z"
      },
      {
        "duration": 40,
        "start_time": "2022-04-08T16:21:00.843Z"
      },
      {
        "duration": 58,
        "start_time": "2022-04-08T16:21:00.885Z"
      },
      {
        "duration": 40,
        "start_time": "2022-04-08T16:21:00.945Z"
      },
      {
        "duration": 8,
        "start_time": "2022-04-08T16:21:00.987Z"
      },
      {
        "duration": 7,
        "start_time": "2022-04-08T16:21:00.999Z"
      },
      {
        "duration": 40,
        "start_time": "2022-04-08T16:21:01.007Z"
      },
      {
        "duration": 27,
        "start_time": "2022-04-08T16:21:01.049Z"
      },
      {
        "duration": 18,
        "start_time": "2022-04-08T16:21:01.079Z"
      },
      {
        "duration": 45,
        "start_time": "2022-04-08T16:21:01.100Z"
      },
      {
        "duration": 21,
        "start_time": "2022-04-08T16:21:01.147Z"
      },
      {
        "duration": 14,
        "start_time": "2022-04-08T16:21:01.171Z"
      },
      {
        "duration": 31,
        "start_time": "2022-04-08T16:21:01.188Z"
      },
      {
        "duration": 17,
        "start_time": "2022-04-08T16:21:01.222Z"
      },
      {
        "duration": 15,
        "start_time": "2022-04-08T16:21:01.240Z"
      },
      {
        "duration": 33,
        "start_time": "2022-04-08T16:21:01.257Z"
      },
      {
        "duration": 11,
        "start_time": "2022-04-08T16:21:01.293Z"
      },
      {
        "duration": 22,
        "start_time": "2022-04-08T16:21:01.307Z"
      },
      {
        "duration": 47,
        "start_time": "2022-04-08T16:21:01.331Z"
      },
      {
        "duration": 52,
        "start_time": "2022-04-08T16:21:01.381Z"
      },
      {
        "duration": 3615,
        "start_time": "2022-04-08T16:21:01.439Z"
      },
      {
        "duration": 569,
        "start_time": "2022-04-08T16:21:05.057Z"
      },
      {
        "duration": 15,
        "start_time": "2022-04-08T16:21:05.629Z"
      },
      {
        "duration": 39,
        "start_time": "2022-04-08T16:21:05.646Z"
      },
      {
        "duration": 4728,
        "start_time": "2022-04-08T16:21:05.687Z"
      },
      {
        "duration": 27,
        "start_time": "2022-04-08T16:21:10.417Z"
      },
      {
        "duration": 4,
        "start_time": "2022-04-08T16:21:10.447Z"
      },
      {
        "duration": 7,
        "start_time": "2022-04-08T16:21:10.453Z"
      },
      {
        "duration": 8,
        "start_time": "2022-04-08T16:21:10.463Z"
      },
      {
        "duration": 7,
        "start_time": "2022-04-08T16:21:10.473Z"
      },
      {
        "duration": 12,
        "start_time": "2022-04-08T16:21:10.482Z"
      },
      {
        "duration": 68,
        "start_time": "2022-04-08T16:21:10.496Z"
      },
      {
        "duration": 2934,
        "start_time": "2022-04-08T16:21:10.567Z"
      },
      {
        "duration": 1245,
        "start_time": "2022-04-08T16:21:13.504Z"
      },
      {
        "duration": 5515,
        "start_time": "2022-04-08T16:21:14.752Z"
      },
      {
        "duration": 18181,
        "start_time": "2022-04-08T16:21:20.269Z"
      },
      {
        "duration": 6,
        "start_time": "2022-04-08T16:21:38.452Z"
      },
      {
        "duration": 18,
        "start_time": "2022-04-08T16:21:38.461Z"
      },
      {
        "duration": 2924,
        "start_time": "2022-04-08T16:21:38.481Z"
      },
      {
        "duration": 6,
        "start_time": "2022-04-08T16:21:41.407Z"
      },
      {
        "duration": 10,
        "start_time": "2022-04-08T16:21:41.415Z"
      },
      {
        "duration": 11,
        "start_time": "2022-04-08T16:21:41.427Z"
      },
      {
        "duration": 10,
        "start_time": "2022-04-08T16:21:41.440Z"
      },
      {
        "duration": 12,
        "start_time": "2022-04-08T16:21:41.453Z"
      },
      {
        "duration": 11,
        "start_time": "2022-04-08T16:21:41.467Z"
      },
      {
        "duration": 9,
        "start_time": "2022-04-08T16:21:41.480Z"
      },
      {
        "duration": 1747,
        "start_time": "2022-04-09T14:59:56.184Z"
      },
      {
        "duration": 641,
        "start_time": "2022-04-09T14:59:57.933Z"
      },
      {
        "duration": 3,
        "start_time": "2022-04-09T14:59:58.576Z"
      },
      {
        "duration": 31,
        "start_time": "2022-04-09T14:59:58.581Z"
      },
      {
        "duration": 18,
        "start_time": "2022-04-09T14:59:58.613Z"
      },
      {
        "duration": 48,
        "start_time": "2022-04-09T14:59:58.633Z"
      },
      {
        "duration": 6,
        "start_time": "2022-04-09T14:59:58.683Z"
      },
      {
        "duration": 3,
        "start_time": "2022-04-09T14:59:58.691Z"
      },
      {
        "duration": 7,
        "start_time": "2022-04-09T14:59:58.695Z"
      },
      {
        "duration": 4,
        "start_time": "2022-04-09T14:59:58.705Z"
      },
      {
        "duration": 4,
        "start_time": "2022-04-09T14:59:58.711Z"
      },
      {
        "duration": 56,
        "start_time": "2022-04-09T14:59:58.717Z"
      },
      {
        "duration": 11,
        "start_time": "2022-04-09T14:59:58.776Z"
      },
      {
        "duration": 7,
        "start_time": "2022-04-09T14:59:58.789Z"
      },
      {
        "duration": 13,
        "start_time": "2022-04-09T14:59:58.798Z"
      },
      {
        "duration": 6,
        "start_time": "2022-04-09T14:59:58.812Z"
      },
      {
        "duration": 9,
        "start_time": "2022-04-09T14:59:58.819Z"
      },
      {
        "duration": 35,
        "start_time": "2022-04-09T14:59:58.829Z"
      },
      {
        "duration": 5,
        "start_time": "2022-04-09T14:59:58.866Z"
      },
      {
        "duration": 8,
        "start_time": "2022-04-09T14:59:58.874Z"
      },
      {
        "duration": 14,
        "start_time": "2022-04-09T14:59:58.884Z"
      },
      {
        "duration": 24,
        "start_time": "2022-04-09T14:59:58.899Z"
      },
      {
        "duration": 2509,
        "start_time": "2022-04-09T14:59:58.925Z"
      },
      {
        "duration": 504,
        "start_time": "2022-04-09T15:00:01.436Z"
      },
      {
        "duration": 5,
        "start_time": "2022-04-09T15:00:01.942Z"
      },
      {
        "duration": 105,
        "start_time": "2022-04-09T15:00:01.948Z"
      },
      {
        "duration": 3001,
        "start_time": "2022-04-09T15:00:02.054Z"
      },
      {
        "duration": 17,
        "start_time": "2022-04-09T15:00:05.060Z"
      },
      {
        "duration": 3,
        "start_time": "2022-04-09T15:00:05.079Z"
      },
      {
        "duration": 7,
        "start_time": "2022-04-09T15:00:05.083Z"
      },
      {
        "duration": 7,
        "start_time": "2022-04-09T15:00:05.092Z"
      },
      {
        "duration": 7,
        "start_time": "2022-04-09T15:00:05.101Z"
      },
      {
        "duration": 15,
        "start_time": "2022-04-09T15:00:05.109Z"
      },
      {
        "duration": 48,
        "start_time": "2022-04-09T15:00:05.126Z"
      },
      {
        "duration": 2383,
        "start_time": "2022-04-09T15:00:05.176Z"
      },
      {
        "duration": 1699,
        "start_time": "2022-04-09T15:00:07.561Z"
      },
      {
        "duration": 4126,
        "start_time": "2022-04-09T15:00:09.262Z"
      },
      {
        "duration": 14897,
        "start_time": "2022-04-09T15:00:13.390Z"
      },
      {
        "duration": 5,
        "start_time": "2022-04-09T15:00:28.288Z"
      },
      {
        "duration": 12,
        "start_time": "2022-04-09T15:00:28.294Z"
      },
      {
        "duration": 2429,
        "start_time": "2022-04-09T15:00:28.308Z"
      },
      {
        "duration": 4,
        "start_time": "2022-04-09T15:00:30.739Z"
      },
      {
        "duration": 22,
        "start_time": "2022-04-09T15:00:30.745Z"
      },
      {
        "duration": 17,
        "start_time": "2022-04-09T15:00:30.769Z"
      },
      {
        "duration": 2845,
        "start_time": "2022-04-09T15:26:59.546Z"
      },
      {
        "duration": 714,
        "start_time": "2022-04-09T15:27:02.393Z"
      },
      {
        "duration": 3,
        "start_time": "2022-04-09T15:27:03.109Z"
      },
      {
        "duration": 27,
        "start_time": "2022-04-09T15:27:03.114Z"
      },
      {
        "duration": 30,
        "start_time": "2022-04-09T15:27:03.143Z"
      },
      {
        "duration": 21,
        "start_time": "2022-04-09T15:27:03.175Z"
      },
      {
        "duration": 6,
        "start_time": "2022-04-09T15:27:03.198Z"
      },
      {
        "duration": 4,
        "start_time": "2022-04-09T15:27:03.205Z"
      },
      {
        "duration": 10,
        "start_time": "2022-04-09T15:27:03.210Z"
      },
      {
        "duration": 4,
        "start_time": "2022-04-09T15:27:03.223Z"
      },
      {
        "duration": 29,
        "start_time": "2022-04-09T15:27:03.229Z"
      },
      {
        "duration": 23,
        "start_time": "2022-04-09T15:27:03.260Z"
      },
      {
        "duration": 7,
        "start_time": "2022-04-09T15:27:03.285Z"
      },
      {
        "duration": 17,
        "start_time": "2022-04-09T15:27:03.293Z"
      },
      {
        "duration": 15,
        "start_time": "2022-04-09T15:27:03.312Z"
      },
      {
        "duration": 7,
        "start_time": "2022-04-09T15:27:03.329Z"
      },
      {
        "duration": 23,
        "start_time": "2022-04-09T15:27:03.338Z"
      },
      {
        "duration": 17,
        "start_time": "2022-04-09T15:27:03.362Z"
      },
      {
        "duration": 3,
        "start_time": "2022-04-09T15:27:03.381Z"
      },
      {
        "duration": 8,
        "start_time": "2022-04-09T15:27:03.386Z"
      },
      {
        "duration": 39,
        "start_time": "2022-04-09T15:27:03.395Z"
      },
      {
        "duration": 24,
        "start_time": "2022-04-09T15:27:03.436Z"
      },
      {
        "duration": 2464,
        "start_time": "2022-04-09T15:27:03.461Z"
      },
      {
        "duration": 503,
        "start_time": "2022-04-09T15:27:05.927Z"
      },
      {
        "duration": 5,
        "start_time": "2022-04-09T15:27:06.433Z"
      },
      {
        "duration": 64,
        "start_time": "2022-04-09T15:27:06.440Z"
      },
      {
        "duration": 3764,
        "start_time": "2022-04-09T15:27:06.506Z"
      },
      {
        "duration": 13,
        "start_time": "2022-04-09T15:27:10.275Z"
      },
      {
        "duration": 4,
        "start_time": "2022-04-09T15:27:10.290Z"
      },
      {
        "duration": 6,
        "start_time": "2022-04-09T15:27:10.296Z"
      },
      {
        "duration": 12,
        "start_time": "2022-04-09T15:27:10.304Z"
      },
      {
        "duration": 26,
        "start_time": "2022-04-09T15:27:10.318Z"
      },
      {
        "duration": 3176,
        "start_time": "2022-04-09T15:27:10.346Z"
      },
      {
        "duration": 837,
        "start_time": "2022-04-09T15:27:13.524Z"
      },
      {
        "duration": 3618,
        "start_time": "2022-04-09T15:27:14.363Z"
      },
      {
        "duration": 13544,
        "start_time": "2022-04-09T15:27:17.983Z"
      },
      {
        "duration": 5,
        "start_time": "2022-04-09T15:27:31.529Z"
      },
      {
        "duration": 39,
        "start_time": "2022-04-09T15:27:31.535Z"
      },
      {
        "duration": 1967,
        "start_time": "2022-04-09T15:27:31.576Z"
      },
      {
        "duration": 4,
        "start_time": "2022-04-09T15:27:33.545Z"
      },
      {
        "duration": 5,
        "start_time": "2022-04-09T15:27:33.551Z"
      },
      {
        "duration": 7,
        "start_time": "2022-04-09T15:27:33.558Z"
      },
      {
        "duration": 1855,
        "start_time": "2022-04-11T09:33:50.832Z"
      },
      {
        "duration": 564,
        "start_time": "2022-04-11T09:33:52.689Z"
      },
      {
        "duration": 3,
        "start_time": "2022-04-11T09:33:53.255Z"
      },
      {
        "duration": 32,
        "start_time": "2022-04-11T09:33:53.260Z"
      },
      {
        "duration": 18,
        "start_time": "2022-04-11T09:33:53.293Z"
      },
      {
        "duration": 21,
        "start_time": "2022-04-11T09:33:53.313Z"
      },
      {
        "duration": 5,
        "start_time": "2022-04-11T09:33:53.336Z"
      },
      {
        "duration": 3,
        "start_time": "2022-04-11T09:33:53.370Z"
      },
      {
        "duration": 6,
        "start_time": "2022-04-11T09:33:53.375Z"
      },
      {
        "duration": 6,
        "start_time": "2022-04-11T09:33:53.384Z"
      },
      {
        "duration": 4,
        "start_time": "2022-04-11T09:33:53.392Z"
      },
      {
        "duration": 25,
        "start_time": "2022-04-11T09:33:53.397Z"
      },
      {
        "duration": 7,
        "start_time": "2022-04-11T09:33:53.424Z"
      },
      {
        "duration": 6,
        "start_time": "2022-04-11T09:33:53.433Z"
      },
      {
        "duration": 39,
        "start_time": "2022-04-11T09:33:53.440Z"
      },
      {
        "duration": 5,
        "start_time": "2022-04-11T09:33:53.481Z"
      },
      {
        "duration": 5,
        "start_time": "2022-04-11T09:33:53.488Z"
      },
      {
        "duration": 16,
        "start_time": "2022-04-11T09:33:53.495Z"
      },
      {
        "duration": 3,
        "start_time": "2022-04-11T09:33:53.512Z"
      },
      {
        "duration": 4,
        "start_time": "2022-04-11T09:33:53.517Z"
      },
      {
        "duration": 12,
        "start_time": "2022-04-11T09:33:53.523Z"
      },
      {
        "duration": 53,
        "start_time": "2022-04-11T09:33:53.536Z"
      },
      {
        "duration": 2336,
        "start_time": "2022-04-11T09:33:53.590Z"
      },
      {
        "duration": 488,
        "start_time": "2022-04-11T09:33:55.927Z"
      },
      {
        "duration": 5,
        "start_time": "2022-04-11T09:33:56.417Z"
      },
      {
        "duration": 53,
        "start_time": "2022-04-11T09:33:56.423Z"
      },
      {
        "duration": 2550,
        "start_time": "2022-04-11T09:33:56.477Z"
      },
      {
        "duration": 10,
        "start_time": "2022-04-11T09:33:59.030Z"
      },
      {
        "duration": 4,
        "start_time": "2022-04-11T09:33:59.041Z"
      },
      {
        "duration": 7,
        "start_time": "2022-04-11T09:33:59.046Z"
      },
      {
        "duration": 9,
        "start_time": "2022-04-11T09:33:59.054Z"
      },
      {
        "duration": 20,
        "start_time": "2022-04-11T09:33:59.064Z"
      },
      {
        "duration": 2,
        "start_time": "2022-04-11T09:33:59.085Z"
      },
      {
        "duration": 151,
        "start_time": "2022-04-11T09:33:59.089Z"
      },
      {
        "duration": 0,
        "start_time": "2022-04-11T09:33:59.242Z"
      },
      {
        "duration": 0,
        "start_time": "2022-04-11T09:33:59.243Z"
      },
      {
        "duration": 0,
        "start_time": "2022-04-11T09:33:59.245Z"
      },
      {
        "duration": 0,
        "start_time": "2022-04-11T09:33:59.246Z"
      },
      {
        "duration": 0,
        "start_time": "2022-04-11T09:33:59.247Z"
      },
      {
        "duration": 0,
        "start_time": "2022-04-11T09:33:59.247Z"
      },
      {
        "duration": 0,
        "start_time": "2022-04-11T09:33:59.248Z"
      },
      {
        "duration": 0,
        "start_time": "2022-04-11T09:33:59.249Z"
      },
      {
        "duration": 0,
        "start_time": "2022-04-11T09:33:59.250Z"
      },
      {
        "duration": 0,
        "start_time": "2022-04-11T09:33:59.251Z"
      },
      {
        "duration": 5,
        "start_time": "2022-04-11T09:36:16.958Z"
      },
      {
        "duration": 588,
        "start_time": "2022-04-11T09:36:16.965Z"
      },
      {
        "duration": 3,
        "start_time": "2022-04-11T09:36:17.555Z"
      },
      {
        "duration": 29,
        "start_time": "2022-04-11T09:36:17.559Z"
      },
      {
        "duration": 17,
        "start_time": "2022-04-11T09:36:17.590Z"
      },
      {
        "duration": 21,
        "start_time": "2022-04-11T09:36:17.608Z"
      },
      {
        "duration": 5,
        "start_time": "2022-04-11T09:36:17.631Z"
      },
      {
        "duration": 3,
        "start_time": "2022-04-11T09:36:17.637Z"
      },
      {
        "duration": 4,
        "start_time": "2022-04-11T09:36:17.671Z"
      },
      {
        "duration": 6,
        "start_time": "2022-04-11T09:36:17.676Z"
      },
      {
        "duration": 3,
        "start_time": "2022-04-11T09:36:17.685Z"
      },
      {
        "duration": 19,
        "start_time": "2022-04-11T09:36:17.689Z"
      },
      {
        "duration": 9,
        "start_time": "2022-04-11T09:36:17.709Z"
      },
      {
        "duration": 6,
        "start_time": "2022-04-11T09:36:17.719Z"
      },
      {
        "duration": 13,
        "start_time": "2022-04-11T09:36:17.726Z"
      },
      {
        "duration": 31,
        "start_time": "2022-04-11T09:36:17.740Z"
      },
      {
        "duration": 5,
        "start_time": "2022-04-11T09:36:17.773Z"
      },
      {
        "duration": 16,
        "start_time": "2022-04-11T09:36:17.779Z"
      },
      {
        "duration": 3,
        "start_time": "2022-04-11T09:36:17.797Z"
      },
      {
        "duration": 6,
        "start_time": "2022-04-11T09:36:17.802Z"
      },
      {
        "duration": 14,
        "start_time": "2022-04-11T09:36:17.810Z"
      },
      {
        "duration": 20,
        "start_time": "2022-04-11T09:36:17.825Z"
      },
      {
        "duration": 2373,
        "start_time": "2022-04-11T09:36:17.847Z"
      },
      {
        "duration": 403,
        "start_time": "2022-04-11T09:36:20.221Z"
      },
      {
        "duration": 5,
        "start_time": "2022-04-11T09:36:20.626Z"
      },
      {
        "duration": 47,
        "start_time": "2022-04-11T09:36:20.633Z"
      },
      {
        "duration": 2658,
        "start_time": "2022-04-11T09:36:20.682Z"
      },
      {
        "duration": 9,
        "start_time": "2022-04-11T09:36:23.342Z"
      },
      {
        "duration": 3,
        "start_time": "2022-04-11T09:36:23.355Z"
      },
      {
        "duration": 2,
        "start_time": "2022-04-11T09:36:23.370Z"
      },
      {
        "duration": 8,
        "start_time": "2022-04-11T09:36:23.374Z"
      },
      {
        "duration": 19,
        "start_time": "2022-04-11T09:36:23.384Z"
      },
      {
        "duration": 2,
        "start_time": "2022-04-11T09:36:23.405Z"
      },
      {
        "duration": 5,
        "start_time": "2022-04-11T09:36:23.409Z"
      },
      {
        "duration": 2557,
        "start_time": "2022-04-11T09:36:23.415Z"
      },
      {
        "duration": 0,
        "start_time": "2022-04-11T09:36:25.974Z"
      },
      {
        "duration": 0,
        "start_time": "2022-04-11T09:36:25.975Z"
      },
      {
        "duration": 0,
        "start_time": "2022-04-11T09:36:25.976Z"
      },
      {
        "duration": 0,
        "start_time": "2022-04-11T09:36:25.978Z"
      },
      {
        "duration": 0,
        "start_time": "2022-04-11T09:36:25.979Z"
      },
      {
        "duration": 0,
        "start_time": "2022-04-11T09:36:25.980Z"
      },
      {
        "duration": 0,
        "start_time": "2022-04-11T09:36:25.981Z"
      },
      {
        "duration": 0,
        "start_time": "2022-04-11T09:36:25.983Z"
      },
      {
        "duration": 0,
        "start_time": "2022-04-11T09:36:25.984Z"
      },
      {
        "duration": 3,
        "start_time": "2022-04-11T09:38:02.676Z"
      },
      {
        "duration": 532,
        "start_time": "2022-04-11T09:38:02.681Z"
      },
      {
        "duration": 3,
        "start_time": "2022-04-11T09:38:03.214Z"
      },
      {
        "duration": 25,
        "start_time": "2022-04-11T09:38:03.219Z"
      },
      {
        "duration": 31,
        "start_time": "2022-04-11T09:38:03.247Z"
      },
      {
        "duration": 22,
        "start_time": "2022-04-11T09:38:03.279Z"
      },
      {
        "duration": 6,
        "start_time": "2022-04-11T09:38:03.303Z"
      },
      {
        "duration": 5,
        "start_time": "2022-04-11T09:38:03.310Z"
      },
      {
        "duration": 7,
        "start_time": "2022-04-11T09:38:03.317Z"
      },
      {
        "duration": 6,
        "start_time": "2022-04-11T09:38:03.326Z"
      },
      {
        "duration": 6,
        "start_time": "2022-04-11T09:38:03.334Z"
      },
      {
        "duration": 36,
        "start_time": "2022-04-11T09:38:03.342Z"
      },
      {
        "duration": 7,
        "start_time": "2022-04-11T09:38:03.379Z"
      },
      {
        "duration": 9,
        "start_time": "2022-04-11T09:38:03.387Z"
      },
      {
        "duration": 16,
        "start_time": "2022-04-11T09:38:03.398Z"
      },
      {
        "duration": 5,
        "start_time": "2022-04-11T09:38:03.416Z"
      },
      {
        "duration": 11,
        "start_time": "2022-04-11T09:38:03.423Z"
      },
      {
        "duration": 11,
        "start_time": "2022-04-11T09:38:03.435Z"
      },
      {
        "duration": 2,
        "start_time": "2022-04-11T09:38:03.447Z"
      },
      {
        "duration": 19,
        "start_time": "2022-04-11T09:38:03.451Z"
      },
      {
        "duration": 12,
        "start_time": "2022-04-11T09:38:03.472Z"
      },
      {
        "duration": 16,
        "start_time": "2022-04-11T09:38:03.485Z"
      },
      {
        "duration": 2423,
        "start_time": "2022-04-11T09:38:03.502Z"
      },
      {
        "duration": 393,
        "start_time": "2022-04-11T09:38:05.927Z"
      },
      {
        "duration": 5,
        "start_time": "2022-04-11T09:38:06.322Z"
      },
      {
        "duration": 43,
        "start_time": "2022-04-11T09:38:06.329Z"
      },
      {
        "duration": 2539,
        "start_time": "2022-04-11T09:38:06.374Z"
      },
      {
        "duration": 10,
        "start_time": "2022-04-11T09:38:08.915Z"
      },
      {
        "duration": 3,
        "start_time": "2022-04-11T09:38:08.928Z"
      },
      {
        "duration": 4,
        "start_time": "2022-04-11T09:38:08.933Z"
      },
      {
        "duration": 7,
        "start_time": "2022-04-11T09:38:08.939Z"
      },
      {
        "duration": 33,
        "start_time": "2022-04-11T09:38:08.947Z"
      },
      {
        "duration": 2,
        "start_time": "2022-04-11T09:38:08.981Z"
      },
      {
        "duration": 4,
        "start_time": "2022-04-11T09:38:08.985Z"
      },
      {
        "duration": 1783,
        "start_time": "2022-04-11T09:38:08.991Z"
      },
      {
        "duration": 0,
        "start_time": "2022-04-11T09:38:10.776Z"
      },
      {
        "duration": 0,
        "start_time": "2022-04-11T09:38:10.777Z"
      },
      {
        "duration": 0,
        "start_time": "2022-04-11T09:38:10.778Z"
      },
      {
        "duration": 0,
        "start_time": "2022-04-11T09:38:10.779Z"
      },
      {
        "duration": 0,
        "start_time": "2022-04-11T09:38:10.780Z"
      },
      {
        "duration": 0,
        "start_time": "2022-04-11T09:38:10.781Z"
      },
      {
        "duration": 0,
        "start_time": "2022-04-11T09:38:10.782Z"
      },
      {
        "duration": 0,
        "start_time": "2022-04-11T09:38:10.782Z"
      },
      {
        "duration": 0,
        "start_time": "2022-04-11T09:38:10.784Z"
      },
      {
        "duration": 1533,
        "start_time": "2022-04-11T09:38:24.547Z"
      },
      {
        "duration": 6272,
        "start_time": "2022-04-11T09:44:28.968Z"
      },
      {
        "duration": 13546,
        "start_time": "2022-04-11T09:45:59.672Z"
      },
      {
        "duration": 9,
        "start_time": "2022-04-11T10:40:17.332Z"
      },
      {
        "duration": 4,
        "start_time": "2022-04-11T10:40:33.536Z"
      },
      {
        "duration": 543,
        "start_time": "2022-04-11T10:40:33.542Z"
      },
      {
        "duration": 3,
        "start_time": "2022-04-11T10:40:34.087Z"
      },
      {
        "duration": 24,
        "start_time": "2022-04-11T10:40:34.091Z"
      },
      {
        "duration": 18,
        "start_time": "2022-04-11T10:40:34.117Z"
      },
      {
        "duration": 43,
        "start_time": "2022-04-11T10:40:34.136Z"
      },
      {
        "duration": 5,
        "start_time": "2022-04-11T10:40:34.181Z"
      },
      {
        "duration": 4,
        "start_time": "2022-04-11T10:40:34.188Z"
      },
      {
        "duration": 5,
        "start_time": "2022-04-11T10:40:34.194Z"
      },
      {
        "duration": 5,
        "start_time": "2022-04-11T10:40:34.200Z"
      },
      {
        "duration": 8,
        "start_time": "2022-04-11T10:40:34.207Z"
      },
      {
        "duration": 21,
        "start_time": "2022-04-11T10:40:34.216Z"
      },
      {
        "duration": 33,
        "start_time": "2022-04-11T10:40:34.238Z"
      },
      {
        "duration": 6,
        "start_time": "2022-04-11T10:40:34.273Z"
      },
      {
        "duration": 10,
        "start_time": "2022-04-11T10:40:34.281Z"
      },
      {
        "duration": 6,
        "start_time": "2022-04-11T10:40:34.293Z"
      },
      {
        "duration": 5,
        "start_time": "2022-04-11T10:40:34.300Z"
      },
      {
        "duration": 11,
        "start_time": "2022-04-11T10:40:34.307Z"
      },
      {
        "duration": 3,
        "start_time": "2022-04-11T10:40:34.319Z"
      },
      {
        "duration": 7,
        "start_time": "2022-04-11T10:40:34.323Z"
      },
      {
        "duration": 49,
        "start_time": "2022-04-11T10:40:34.331Z"
      },
      {
        "duration": 12,
        "start_time": "2022-04-11T10:40:34.382Z"
      },
      {
        "duration": 2424,
        "start_time": "2022-04-11T10:40:34.396Z"
      },
      {
        "duration": 389,
        "start_time": "2022-04-11T10:40:36.823Z"
      },
      {
        "duration": 4,
        "start_time": "2022-04-11T10:40:37.213Z"
      },
      {
        "duration": 33,
        "start_time": "2022-04-11T10:40:37.218Z"
      },
      {
        "duration": 2493,
        "start_time": "2022-04-11T10:40:37.253Z"
      },
      {
        "duration": 8,
        "start_time": "2022-04-11T10:40:39.748Z"
      },
      {
        "duration": 13,
        "start_time": "2022-04-11T10:40:39.758Z"
      },
      {
        "duration": 7,
        "start_time": "2022-04-11T10:40:39.773Z"
      },
      {
        "duration": 6,
        "start_time": "2022-04-11T10:40:39.782Z"
      },
      {
        "duration": 17,
        "start_time": "2022-04-11T10:40:39.789Z"
      },
      {
        "duration": 2,
        "start_time": "2022-04-11T10:40:39.807Z"
      },
      {
        "duration": 5,
        "start_time": "2022-04-11T10:40:39.811Z"
      },
      {
        "duration": 1858,
        "start_time": "2022-04-11T10:40:39.818Z"
      },
      {
        "duration": 92,
        "start_time": "2022-04-11T10:40:41.678Z"
      },
      {
        "duration": 6189,
        "start_time": "2022-04-11T10:40:41.772Z"
      },
      {
        "duration": 14,
        "start_time": "2022-04-11T10:40:47.963Z"
      },
      {
        "duration": 0,
        "start_time": "2022-04-11T10:40:47.978Z"
      },
      {
        "duration": 0,
        "start_time": "2022-04-11T10:40:47.980Z"
      },
      {
        "duration": 0,
        "start_time": "2022-04-11T10:40:47.981Z"
      },
      {
        "duration": 0,
        "start_time": "2022-04-11T10:40:47.982Z"
      },
      {
        "duration": 0,
        "start_time": "2022-04-11T10:40:47.983Z"
      },
      {
        "duration": 0,
        "start_time": "2022-04-11T10:40:47.984Z"
      },
      {
        "duration": 1,
        "start_time": "2022-04-11T10:40:47.984Z"
      },
      {
        "duration": 0,
        "start_time": "2022-04-11T10:40:47.986Z"
      },
      {
        "duration": 550,
        "start_time": "2022-04-11T10:50:42.721Z"
      },
      {
        "duration": 1990,
        "start_time": "2022-04-11T10:51:48.594Z"
      },
      {
        "duration": 4033,
        "start_time": "2022-04-11T10:52:05.242Z"
      },
      {
        "duration": 2001,
        "start_time": "2022-04-11T10:52:14.296Z"
      },
      {
        "duration": 2005,
        "start_time": "2022-04-11T10:52:26.312Z"
      },
      {
        "duration": 3,
        "start_time": "2022-04-11T10:53:01.936Z"
      },
      {
        "duration": 2009,
        "start_time": "2022-04-11T10:53:04.333Z"
      },
      {
        "duration": 4,
        "start_time": "2022-04-11T10:53:10.000Z"
      },
      {
        "duration": 592,
        "start_time": "2022-04-11T10:53:10.006Z"
      },
      {
        "duration": 2,
        "start_time": "2022-04-11T10:53:10.600Z"
      },
      {
        "duration": 25,
        "start_time": "2022-04-11T10:53:10.604Z"
      },
      {
        "duration": 18,
        "start_time": "2022-04-11T10:53:10.630Z"
      },
      {
        "duration": 39,
        "start_time": "2022-04-11T10:53:10.650Z"
      },
      {
        "duration": 5,
        "start_time": "2022-04-11T10:53:10.691Z"
      },
      {
        "duration": 6,
        "start_time": "2022-04-11T10:53:10.697Z"
      },
      {
        "duration": 6,
        "start_time": "2022-04-11T10:53:10.704Z"
      },
      {
        "duration": 5,
        "start_time": "2022-04-11T10:53:10.711Z"
      },
      {
        "duration": 4,
        "start_time": "2022-04-11T10:53:10.719Z"
      },
      {
        "duration": 19,
        "start_time": "2022-04-11T10:53:10.725Z"
      },
      {
        "duration": 5,
        "start_time": "2022-04-11T10:53:10.771Z"
      },
      {
        "duration": 6,
        "start_time": "2022-04-11T10:53:10.778Z"
      },
      {
        "duration": 11,
        "start_time": "2022-04-11T10:53:10.785Z"
      },
      {
        "duration": 5,
        "start_time": "2022-04-11T10:53:10.797Z"
      },
      {
        "duration": 5,
        "start_time": "2022-04-11T10:53:10.804Z"
      },
      {
        "duration": 10,
        "start_time": "2022-04-11T10:53:10.811Z"
      },
      {
        "duration": 3,
        "start_time": "2022-04-11T10:53:10.822Z"
      },
      {
        "duration": 6,
        "start_time": "2022-04-11T10:53:10.826Z"
      },
      {
        "duration": 42,
        "start_time": "2022-04-11T10:53:10.833Z"
      },
      {
        "duration": 12,
        "start_time": "2022-04-11T10:53:10.876Z"
      },
      {
        "duration": 2341,
        "start_time": "2022-04-11T10:53:10.890Z"
      },
      {
        "duration": 498,
        "start_time": "2022-04-11T10:53:13.233Z"
      },
      {
        "duration": 4,
        "start_time": "2022-04-11T10:53:13.733Z"
      },
      {
        "duration": 42,
        "start_time": "2022-04-11T10:53:13.739Z"
      },
      {
        "duration": 2514,
        "start_time": "2022-04-11T10:53:13.783Z"
      },
      {
        "duration": 10,
        "start_time": "2022-04-11T10:53:16.299Z"
      },
      {
        "duration": 2,
        "start_time": "2022-04-11T10:53:16.313Z"
      },
      {
        "duration": 12,
        "start_time": "2022-04-11T10:53:16.317Z"
      },
      {
        "duration": 8,
        "start_time": "2022-04-11T10:53:16.330Z"
      },
      {
        "duration": 18,
        "start_time": "2022-04-11T10:53:16.339Z"
      },
      {
        "duration": 13,
        "start_time": "2022-04-11T10:53:16.358Z"
      },
      {
        "duration": 1989,
        "start_time": "2022-04-11T10:53:16.373Z"
      },
      {
        "duration": 2,
        "start_time": "2022-04-11T10:53:18.363Z"
      },
      {
        "duration": 1605,
        "start_time": "2022-04-11T10:53:18.371Z"
      },
      {
        "duration": 797,
        "start_time": "2022-04-11T10:53:19.978Z"
      },
      {
        "duration": 6249,
        "start_time": "2022-04-11T10:53:20.777Z"
      },
      {
        "duration": 2,
        "start_time": "2022-04-11T10:53:27.028Z"
      },
      {
        "duration": 7,
        "start_time": "2022-04-11T10:53:27.032Z"
      },
      {
        "duration": 14114,
        "start_time": "2022-04-11T10:53:27.040Z"
      },
      {
        "duration": 2,
        "start_time": "2022-04-11T10:53:41.156Z"
      },
      {
        "duration": 10,
        "start_time": "2022-04-11T10:53:41.160Z"
      },
      {
        "duration": 2198,
        "start_time": "2022-04-11T10:53:41.172Z"
      },
      {
        "duration": 0,
        "start_time": "2022-04-11T10:53:43.371Z"
      },
      {
        "duration": 0,
        "start_time": "2022-04-11T10:53:43.373Z"
      },
      {
        "duration": 0,
        "start_time": "2022-04-11T10:53:43.374Z"
      },
      {
        "duration": 12240,
        "start_time": "2022-04-11T10:56:19.368Z"
      },
      {
        "duration": 12086,
        "start_time": "2022-04-11T10:56:46.703Z"
      },
      {
        "duration": 24418,
        "start_time": "2022-04-11T10:57:05.956Z"
      },
      {
        "duration": 47387,
        "start_time": "2022-04-11T10:57:36.886Z"
      },
      {
        "duration": 1094,
        "start_time": "2022-04-11T11:00:04.477Z"
      },
      {
        "duration": 4235,
        "start_time": "2022-04-11T11:00:21.373Z"
      },
      {
        "duration": 4094,
        "start_time": "2022-04-11T11:00:47.245Z"
      },
      {
        "duration": 4125,
        "start_time": "2022-04-11T11:00:57.317Z"
      },
      {
        "duration": 12,
        "start_time": "2022-04-11T11:02:05.748Z"
      },
      {
        "duration": 11,
        "start_time": "2022-04-11T12:08:49.748Z"
      },
      {
        "duration": 10,
        "start_time": "2022-04-11T12:08:50.959Z"
      },
      {
        "duration": 10,
        "start_time": "2022-04-11T12:09:08.740Z"
      },
      {
        "duration": 11,
        "start_time": "2022-04-11T12:09:20.509Z"
      },
      {
        "duration": 11,
        "start_time": "2022-04-11T12:09:28.860Z"
      },
      {
        "duration": 11,
        "start_time": "2022-04-11T12:10:36.266Z"
      },
      {
        "duration": 11,
        "start_time": "2022-04-11T12:10:37.363Z"
      },
      {
        "duration": 4345,
        "start_time": "2022-04-11T12:12:05.803Z"
      },
      {
        "duration": 56,
        "start_time": "2022-04-11T12:22:16.920Z"
      },
      {
        "duration": 322,
        "start_time": "2022-04-11T12:22:29.752Z"
      },
      {
        "duration": 4,
        "start_time": "2022-04-11T12:23:14.960Z"
      },
      {
        "duration": 655,
        "start_time": "2022-04-11T12:23:14.965Z"
      },
      {
        "duration": 3,
        "start_time": "2022-04-11T12:23:15.623Z"
      },
      {
        "duration": 28,
        "start_time": "2022-04-11T12:23:15.627Z"
      },
      {
        "duration": 30,
        "start_time": "2022-04-11T12:23:15.658Z"
      },
      {
        "duration": 25,
        "start_time": "2022-04-11T12:23:15.690Z"
      },
      {
        "duration": 6,
        "start_time": "2022-04-11T12:23:15.717Z"
      },
      {
        "duration": 8,
        "start_time": "2022-04-11T12:23:15.724Z"
      },
      {
        "duration": 6,
        "start_time": "2022-04-11T12:23:15.733Z"
      },
      {
        "duration": 33,
        "start_time": "2022-04-11T12:23:15.741Z"
      },
      {
        "duration": 3,
        "start_time": "2022-04-11T12:23:15.777Z"
      },
      {
        "duration": 23,
        "start_time": "2022-04-11T12:23:15.782Z"
      },
      {
        "duration": 7,
        "start_time": "2022-04-11T12:23:15.806Z"
      },
      {
        "duration": 7,
        "start_time": "2022-04-11T12:23:15.814Z"
      },
      {
        "duration": 20,
        "start_time": "2022-04-11T12:23:15.822Z"
      },
      {
        "duration": 31,
        "start_time": "2022-04-11T12:23:15.843Z"
      },
      {
        "duration": 7,
        "start_time": "2022-04-11T12:23:15.876Z"
      },
      {
        "duration": 19,
        "start_time": "2022-04-11T12:23:15.884Z"
      },
      {
        "duration": 3,
        "start_time": "2022-04-11T12:23:15.904Z"
      },
      {
        "duration": 6,
        "start_time": "2022-04-11T12:23:15.908Z"
      },
      {
        "duration": 13,
        "start_time": "2022-04-11T12:23:15.915Z"
      },
      {
        "duration": 41,
        "start_time": "2022-04-11T12:23:15.929Z"
      },
      {
        "duration": 2673,
        "start_time": "2022-04-11T12:23:15.972Z"
      },
      {
        "duration": 404,
        "start_time": "2022-04-11T12:23:18.647Z"
      },
      {
        "duration": 5,
        "start_time": "2022-04-11T12:23:19.053Z"
      },
      {
        "duration": 47,
        "start_time": "2022-04-11T12:23:19.059Z"
      },
      {
        "duration": 2770,
        "start_time": "2022-04-11T12:23:19.108Z"
      },
      {
        "duration": 9,
        "start_time": "2022-04-11T12:23:21.880Z"
      },
      {
        "duration": 4,
        "start_time": "2022-04-11T12:23:21.892Z"
      },
      {
        "duration": 5,
        "start_time": "2022-04-11T12:23:21.897Z"
      },
      {
        "duration": 9,
        "start_time": "2022-04-11T12:23:21.903Z"
      },
      {
        "duration": 20,
        "start_time": "2022-04-11T12:23:21.913Z"
      },
      {
        "duration": 2,
        "start_time": "2022-04-11T12:23:21.935Z"
      },
      {
        "duration": 4645,
        "start_time": "2022-04-11T12:23:21.939Z"
      },
      {
        "duration": 2698,
        "start_time": "2022-04-11T12:23:26.586Z"
      },
      {
        "duration": 1630,
        "start_time": "2022-04-11T12:23:29.371Z"
      },
      {
        "duration": 7606,
        "start_time": "2022-04-11T12:23:31.003Z"
      },
      {
        "duration": 2,
        "start_time": "2022-04-11T12:23:38.611Z"
      },
      {
        "duration": 55984,
        "start_time": "2022-04-11T12:23:38.615Z"
      },
      {
        "duration": 16037,
        "start_time": "2022-04-11T12:24:34.601Z"
      },
      {
        "duration": 5,
        "start_time": "2022-04-11T12:24:50.640Z"
      },
      {
        "duration": 27,
        "start_time": "2022-04-11T12:24:50.647Z"
      },
      {
        "duration": 2168,
        "start_time": "2022-04-11T12:24:50.676Z"
      },
      {
        "duration": 233,
        "start_time": "2022-04-11T12:24:52.846Z"
      },
      {
        "duration": 4,
        "start_time": "2022-04-11T12:24:53.172Z"
      },
      {
        "duration": 10,
        "start_time": "2022-04-11T12:24:53.178Z"
      },
      {
        "duration": 84,
        "start_time": "2022-04-11T12:24:53.189Z"
      },
      {
        "duration": 664,
        "start_time": "2022-04-11T12:26:09.616Z"
      },
      {
        "duration": 5,
        "start_time": "2022-04-11T12:27:34.431Z"
      },
      {
        "duration": 555,
        "start_time": "2022-04-11T12:27:34.438Z"
      },
      {
        "duration": 4,
        "start_time": "2022-04-11T12:27:34.995Z"
      },
      {
        "duration": 27,
        "start_time": "2022-04-11T12:27:35.000Z"
      },
      {
        "duration": 21,
        "start_time": "2022-04-11T12:27:35.030Z"
      },
      {
        "duration": 24,
        "start_time": "2022-04-11T12:27:35.071Z"
      },
      {
        "duration": 6,
        "start_time": "2022-04-11T12:27:35.097Z"
      },
      {
        "duration": 5,
        "start_time": "2022-04-11T12:27:35.104Z"
      },
      {
        "duration": 6,
        "start_time": "2022-04-11T12:27:35.111Z"
      },
      {
        "duration": 6,
        "start_time": "2022-04-11T12:27:35.118Z"
      },
      {
        "duration": 5,
        "start_time": "2022-04-11T12:27:35.126Z"
      },
      {
        "duration": 51,
        "start_time": "2022-04-11T12:27:35.132Z"
      },
      {
        "duration": 6,
        "start_time": "2022-04-11T12:27:35.185Z"
      },
      {
        "duration": 7,
        "start_time": "2022-04-11T12:27:35.193Z"
      },
      {
        "duration": 15,
        "start_time": "2022-04-11T12:27:35.202Z"
      },
      {
        "duration": 5,
        "start_time": "2022-04-11T12:27:35.219Z"
      },
      {
        "duration": 7,
        "start_time": "2022-04-11T12:27:35.226Z"
      },
      {
        "duration": 37,
        "start_time": "2022-04-11T12:27:35.235Z"
      },
      {
        "duration": 2,
        "start_time": "2022-04-11T12:27:35.274Z"
      },
      {
        "duration": 5,
        "start_time": "2022-04-11T12:27:35.278Z"
      },
      {
        "duration": 12,
        "start_time": "2022-04-11T12:27:35.285Z"
      },
      {
        "duration": 14,
        "start_time": "2022-04-11T12:27:35.298Z"
      },
      {
        "duration": 2426,
        "start_time": "2022-04-11T12:27:35.314Z"
      },
      {
        "duration": 399,
        "start_time": "2022-04-11T12:27:37.742Z"
      },
      {
        "duration": 5,
        "start_time": "2022-04-11T12:27:38.143Z"
      },
      {
        "duration": 46,
        "start_time": "2022-04-11T12:27:38.150Z"
      },
      {
        "duration": 2646,
        "start_time": "2022-04-11T12:27:38.198Z"
      },
      {
        "duration": 8,
        "start_time": "2022-04-11T12:27:40.846Z"
      },
      {
        "duration": 2,
        "start_time": "2022-04-11T12:27:40.871Z"
      },
      {
        "duration": 5,
        "start_time": "2022-04-11T12:27:40.875Z"
      },
      {
        "duration": 9,
        "start_time": "2022-04-11T12:27:40.882Z"
      },
      {
        "duration": 23,
        "start_time": "2022-04-11T12:27:40.892Z"
      },
      {
        "duration": 2,
        "start_time": "2022-04-11T12:27:40.917Z"
      },
      {
        "duration": 4324,
        "start_time": "2022-04-11T12:27:40.921Z"
      },
      {
        "duration": 1533,
        "start_time": "2022-04-11T12:27:45.247Z"
      },
      {
        "duration": 1303,
        "start_time": "2022-04-11T12:27:46.872Z"
      },
      {
        "duration": 6918,
        "start_time": "2022-04-11T12:27:48.177Z"
      },
      {
        "duration": 2,
        "start_time": "2022-04-11T12:27:55.097Z"
      },
      {
        "duration": 52100,
        "start_time": "2022-04-11T12:27:55.101Z"
      },
      {
        "duration": 15254,
        "start_time": "2022-04-11T12:28:47.202Z"
      },
      {
        "duration": 4,
        "start_time": "2022-04-11T12:29:02.458Z"
      },
      {
        "duration": 9,
        "start_time": "2022-04-11T12:29:02.471Z"
      },
      {
        "duration": 2282,
        "start_time": "2022-04-11T12:29:02.482Z"
      },
      {
        "duration": 207,
        "start_time": "2022-04-11T12:29:04.766Z"
      },
      {
        "duration": 693,
        "start_time": "2022-04-11T12:29:04.975Z"
      },
      {
        "duration": 0,
        "start_time": "2022-04-11T12:29:05.669Z"
      },
      {
        "duration": 0,
        "start_time": "2022-04-11T12:29:05.671Z"
      },
      {
        "duration": 2575,
        "start_time": "2022-04-11T12:30:21.707Z"
      },
      {
        "duration": 309,
        "start_time": "2022-04-11T12:30:27.565Z"
      },
      {
        "duration": 696,
        "start_time": "2022-04-11T12:30:29.861Z"
      },
      {
        "duration": 283,
        "start_time": "2022-04-11T12:32:16.395Z"
      },
      {
        "duration": 5,
        "start_time": "2022-04-11T12:32:18.788Z"
      },
      {
        "duration": 6,
        "start_time": "2022-04-11T12:32:23.779Z"
      },
      {
        "duration": 4,
        "start_time": "2022-04-11T12:32:26.258Z"
      },
      {
        "duration": 10,
        "start_time": "2022-04-11T12:35:37.410Z"
      },
      {
        "duration": 4,
        "start_time": "2022-04-11T12:35:59.329Z"
      },
      {
        "duration": 619,
        "start_time": "2022-04-11T12:35:59.335Z"
      },
      {
        "duration": 3,
        "start_time": "2022-04-11T12:35:59.955Z"
      },
      {
        "duration": 30,
        "start_time": "2022-04-11T12:35:59.960Z"
      },
      {
        "duration": 21,
        "start_time": "2022-04-11T12:35:59.991Z"
      },
      {
        "duration": 26,
        "start_time": "2022-04-11T12:36:00.014Z"
      },
      {
        "duration": 30,
        "start_time": "2022-04-11T12:36:00.041Z"
      },
      {
        "duration": 3,
        "start_time": "2022-04-11T12:36:00.073Z"
      },
      {
        "duration": 10,
        "start_time": "2022-04-11T12:36:00.079Z"
      },
      {
        "duration": 6,
        "start_time": "2022-04-11T12:36:00.091Z"
      },
      {
        "duration": 5,
        "start_time": "2022-04-11T12:36:00.098Z"
      },
      {
        "duration": 24,
        "start_time": "2022-04-11T12:36:00.105Z"
      },
      {
        "duration": 7,
        "start_time": "2022-04-11T12:36:00.131Z"
      },
      {
        "duration": 32,
        "start_time": "2022-04-11T12:36:00.140Z"
      },
      {
        "duration": 11,
        "start_time": "2022-04-11T12:36:00.174Z"
      },
      {
        "duration": 7,
        "start_time": "2022-04-11T12:36:00.187Z"
      },
      {
        "duration": 6,
        "start_time": "2022-04-11T12:36:00.196Z"
      },
      {
        "duration": 14,
        "start_time": "2022-04-11T12:36:00.204Z"
      },
      {
        "duration": 3,
        "start_time": "2022-04-11T12:36:00.220Z"
      },
      {
        "duration": 8,
        "start_time": "2022-04-11T12:36:00.224Z"
      },
      {
        "duration": 41,
        "start_time": "2022-04-11T12:36:00.234Z"
      },
      {
        "duration": 16,
        "start_time": "2022-04-11T12:36:00.277Z"
      },
      {
        "duration": 2536,
        "start_time": "2022-04-11T12:36:00.295Z"
      },
      {
        "duration": 392,
        "start_time": "2022-04-11T12:36:02.835Z"
      },
      {
        "duration": 4,
        "start_time": "2022-04-11T12:36:03.229Z"
      },
      {
        "duration": 43,
        "start_time": "2022-04-11T12:36:03.235Z"
      },
      {
        "duration": 2549,
        "start_time": "2022-04-11T12:36:03.280Z"
      },
      {
        "duration": 9,
        "start_time": "2022-04-11T12:36:05.830Z"
      },
      {
        "duration": 2,
        "start_time": "2022-04-11T12:36:05.842Z"
      },
      {
        "duration": 11,
        "start_time": "2022-04-11T12:36:05.846Z"
      },
      {
        "duration": 12,
        "start_time": "2022-04-11T12:36:05.858Z"
      },
      {
        "duration": 19,
        "start_time": "2022-04-11T12:36:05.872Z"
      },
      {
        "duration": 3,
        "start_time": "2022-04-11T12:36:05.892Z"
      },
      {
        "duration": 4121,
        "start_time": "2022-04-11T12:36:05.896Z"
      },
      {
        "duration": 1751,
        "start_time": "2022-04-11T12:36:10.019Z"
      },
      {
        "duration": 1400,
        "start_time": "2022-04-11T12:36:11.772Z"
      },
      {
        "duration": 6310,
        "start_time": "2022-04-11T12:36:13.174Z"
      },
      {
        "duration": 2,
        "start_time": "2022-04-11T12:36:19.486Z"
      },
      {
        "duration": 48984,
        "start_time": "2022-04-11T12:36:19.490Z"
      },
      {
        "duration": 13939,
        "start_time": "2022-04-11T12:37:08.475Z"
      },
      {
        "duration": 2,
        "start_time": "2022-04-11T12:37:22.415Z"
      },
      {
        "duration": 6,
        "start_time": "2022-04-11T12:37:22.419Z"
      },
      {
        "duration": 2140,
        "start_time": "2022-04-11T12:37:22.426Z"
      },
      {
        "duration": 403,
        "start_time": "2022-04-11T12:37:24.568Z"
      },
      {
        "duration": 6,
        "start_time": "2022-04-11T12:37:24.973Z"
      },
      {
        "duration": 7,
        "start_time": "2022-04-11T12:37:24.980Z"
      },
      {
        "duration": 83,
        "start_time": "2022-04-11T12:37:24.988Z"
      },
      {
        "duration": 4,
        "start_time": "2022-04-11T12:37:25.073Z"
      },
      {
        "duration": 8,
        "start_time": "2022-04-11T12:37:25.079Z"
      },
      {
        "duration": 5,
        "start_time": "2022-04-11T12:37:25.088Z"
      },
      {
        "duration": 5,
        "start_time": "2022-04-11T12:37:25.095Z"
      },
      {
        "duration": 10,
        "start_time": "2022-04-11T12:41:01.520Z"
      },
      {
        "duration": 3749,
        "start_time": "2022-04-11T12:42:53.079Z"
      },
      {
        "duration": 753,
        "start_time": "2022-04-11T12:43:01.030Z"
      },
      {
        "duration": 3631,
        "start_time": "2022-04-11T12:46:17.084Z"
      },
      {
        "duration": 3459,
        "start_time": "2022-04-11T12:46:45.277Z"
      },
      {
        "duration": 4286,
        "start_time": "2022-04-11T12:47:57.652Z"
      },
      {
        "duration": 4260,
        "start_time": "2022-04-11T12:48:27.843Z"
      },
      {
        "duration": 1004,
        "start_time": "2022-04-11T12:48:48.868Z"
      },
      {
        "duration": 1492,
        "start_time": "2022-04-11T12:48:57.788Z"
      },
      {
        "duration": 545,
        "start_time": "2022-04-11T12:49:19.531Z"
      },
      {
        "duration": 1639,
        "start_time": "2022-04-11T12:49:24.155Z"
      },
      {
        "duration": 2430,
        "start_time": "2022-04-11T12:49:31.244Z"
      },
      {
        "duration": 987,
        "start_time": "2022-04-11T12:49:39.091Z"
      },
      {
        "duration": 4173,
        "start_time": "2022-04-11T12:58:29.431Z"
      },
      {
        "duration": 359,
        "start_time": "2022-04-11T13:12:09.444Z"
      },
      {
        "duration": 957,
        "start_time": "2022-04-11T13:12:27.069Z"
      },
      {
        "duration": 1009,
        "start_time": "2022-04-11T13:20:44.215Z"
      },
      {
        "duration": 1070,
        "start_time": "2022-04-11T13:21:10.767Z"
      },
      {
        "duration": 2936,
        "start_time": "2022-04-11T13:22:33.997Z"
      },
      {
        "duration": 3094,
        "start_time": "2022-04-11T13:22:50.039Z"
      },
      {
        "duration": 3106,
        "start_time": "2022-04-11T13:23:11.431Z"
      },
      {
        "duration": 1499,
        "start_time": "2022-04-11T13:26:23.467Z"
      },
      {
        "duration": 586,
        "start_time": "2022-04-11T13:26:24.968Z"
      },
      {
        "duration": 3,
        "start_time": "2022-04-11T13:26:25.556Z"
      },
      {
        "duration": 35,
        "start_time": "2022-04-11T13:26:25.561Z"
      },
      {
        "duration": 20,
        "start_time": "2022-04-11T13:26:25.598Z"
      },
      {
        "duration": 51,
        "start_time": "2022-04-11T13:26:25.620Z"
      },
      {
        "duration": 7,
        "start_time": "2022-04-11T13:26:25.673Z"
      },
      {
        "duration": 5,
        "start_time": "2022-04-11T13:26:25.681Z"
      },
      {
        "duration": 6,
        "start_time": "2022-04-11T13:26:25.687Z"
      },
      {
        "duration": 4,
        "start_time": "2022-04-11T13:26:25.695Z"
      },
      {
        "duration": 4,
        "start_time": "2022-04-11T13:26:25.700Z"
      },
      {
        "duration": 26,
        "start_time": "2022-04-11T13:26:25.706Z"
      },
      {
        "duration": 38,
        "start_time": "2022-04-11T13:26:25.733Z"
      },
      {
        "duration": 5,
        "start_time": "2022-04-11T13:26:25.772Z"
      },
      {
        "duration": 12,
        "start_time": "2022-04-11T13:26:25.778Z"
      },
      {
        "duration": 6,
        "start_time": "2022-04-11T13:26:25.791Z"
      },
      {
        "duration": 5,
        "start_time": "2022-04-11T13:26:25.799Z"
      },
      {
        "duration": 19,
        "start_time": "2022-04-11T13:26:25.806Z"
      },
      {
        "duration": 3,
        "start_time": "2022-04-11T13:26:25.827Z"
      },
      {
        "duration": 8,
        "start_time": "2022-04-11T13:26:25.831Z"
      },
      {
        "duration": 11,
        "start_time": "2022-04-11T13:26:25.870Z"
      },
      {
        "duration": 22,
        "start_time": "2022-04-11T13:26:25.883Z"
      },
      {
        "duration": 2511,
        "start_time": "2022-04-11T13:26:25.907Z"
      },
      {
        "duration": 3027,
        "start_time": "2022-04-11T13:26:28.419Z"
      },
      {
        "duration": 389,
        "start_time": "2022-04-11T13:26:31.448Z"
      },
      {
        "duration": 6,
        "start_time": "2022-04-11T13:26:31.839Z"
      },
      {
        "duration": 58,
        "start_time": "2022-04-11T13:26:31.847Z"
      },
      {
        "duration": 2634,
        "start_time": "2022-04-11T13:26:31.909Z"
      },
      {
        "duration": 12,
        "start_time": "2022-04-11T13:26:34.545Z"
      },
      {
        "duration": 3,
        "start_time": "2022-04-11T13:26:34.559Z"
      },
      {
        "duration": 5,
        "start_time": "2022-04-11T13:26:34.564Z"
      },
      {
        "duration": 9,
        "start_time": "2022-04-11T13:26:34.571Z"
      },
      {
        "duration": 18,
        "start_time": "2022-04-11T13:26:34.581Z"
      },
      {
        "duration": 2,
        "start_time": "2022-04-11T13:26:34.601Z"
      },
      {
        "duration": 4141,
        "start_time": "2022-04-11T13:26:34.604Z"
      },
      {
        "duration": 1525,
        "start_time": "2022-04-11T13:26:38.747Z"
      },
      {
        "duration": 3,
        "start_time": "2022-04-11T13:26:40.273Z"
      },
      {
        "duration": 50509,
        "start_time": "2022-04-11T13:26:40.277Z"
      },
      {
        "duration": 2,
        "start_time": "2022-04-11T13:27:30.788Z"
      },
      {
        "duration": 23,
        "start_time": "2022-04-11T13:27:30.792Z"
      },
      {
        "duration": 11,
        "start_time": "2022-04-11T13:27:30.817Z"
      },
      {
        "duration": 350,
        "start_time": "2022-04-11T13:27:30.830Z"
      },
      {
        "duration": 199,
        "start_time": "2022-04-11T13:27:31.273Z"
      },
      {
        "duration": 0,
        "start_time": "2022-04-11T13:27:31.474Z"
      },
      {
        "duration": 0,
        "start_time": "2022-04-11T13:27:31.475Z"
      },
      {
        "duration": 0,
        "start_time": "2022-04-11T13:27:31.477Z"
      },
      {
        "duration": 0,
        "start_time": "2022-04-11T13:27:31.479Z"
      },
      {
        "duration": 0,
        "start_time": "2022-04-11T13:27:31.480Z"
      },
      {
        "duration": 0,
        "start_time": "2022-04-11T13:27:31.481Z"
      },
      {
        "duration": 5,
        "start_time": "2022-04-11T13:29:28.577Z"
      },
      {
        "duration": 1484,
        "start_time": "2022-04-11T13:29:34.228Z"
      },
      {
        "duration": 581,
        "start_time": "2022-04-11T13:29:35.714Z"
      },
      {
        "duration": 3,
        "start_time": "2022-04-11T13:29:36.297Z"
      },
      {
        "duration": 30,
        "start_time": "2022-04-11T13:29:36.302Z"
      },
      {
        "duration": 48,
        "start_time": "2022-04-11T13:29:36.334Z"
      },
      {
        "duration": 34,
        "start_time": "2022-04-11T13:29:36.384Z"
      },
      {
        "duration": 7,
        "start_time": "2022-04-11T13:29:36.421Z"
      },
      {
        "duration": 3,
        "start_time": "2022-04-11T13:29:36.430Z"
      },
      {
        "duration": 8,
        "start_time": "2022-04-11T13:29:36.435Z"
      },
      {
        "duration": 6,
        "start_time": "2022-04-11T13:29:36.470Z"
      },
      {
        "duration": 5,
        "start_time": "2022-04-11T13:29:36.478Z"
      },
      {
        "duration": 36,
        "start_time": "2022-04-11T13:29:36.485Z"
      },
      {
        "duration": 7,
        "start_time": "2022-04-11T13:29:36.523Z"
      },
      {
        "duration": 7,
        "start_time": "2022-04-11T13:29:36.532Z"
      },
      {
        "duration": 34,
        "start_time": "2022-04-11T13:29:36.541Z"
      },
      {
        "duration": 7,
        "start_time": "2022-04-11T13:29:36.576Z"
      },
      {
        "duration": 8,
        "start_time": "2022-04-11T13:29:36.585Z"
      },
      {
        "duration": 16,
        "start_time": "2022-04-11T13:29:36.595Z"
      },
      {
        "duration": 4,
        "start_time": "2022-04-11T13:29:36.612Z"
      },
      {
        "duration": 8,
        "start_time": "2022-04-11T13:29:36.618Z"
      },
      {
        "duration": 44,
        "start_time": "2022-04-11T13:29:36.628Z"
      },
      {
        "duration": 19,
        "start_time": "2022-04-11T13:29:36.675Z"
      },
      {
        "duration": 2234,
        "start_time": "2022-04-11T13:29:36.696Z"
      },
      {
        "duration": 2991,
        "start_time": "2022-04-11T13:29:38.931Z"
      },
      {
        "duration": 397,
        "start_time": "2022-04-11T13:29:41.924Z"
      },
      {
        "duration": 5,
        "start_time": "2022-04-11T13:29:42.323Z"
      },
      {
        "duration": 60,
        "start_time": "2022-04-11T13:29:42.329Z"
      },
      {
        "duration": 2676,
        "start_time": "2022-04-11T13:29:42.392Z"
      },
      {
        "duration": 11,
        "start_time": "2022-04-11T13:29:45.069Z"
      },
      {
        "duration": 7,
        "start_time": "2022-04-11T13:29:45.081Z"
      },
      {
        "duration": 13,
        "start_time": "2022-04-11T13:29:45.089Z"
      },
      {
        "duration": 10,
        "start_time": "2022-04-11T13:29:45.104Z"
      },
      {
        "duration": 19,
        "start_time": "2022-04-11T13:29:45.116Z"
      },
      {
        "duration": 3,
        "start_time": "2022-04-11T13:29:45.136Z"
      },
      {
        "duration": 5984,
        "start_time": "2022-04-11T13:29:45.141Z"
      },
      {
        "duration": 1648,
        "start_time": "2022-04-11T13:29:51.127Z"
      },
      {
        "duration": 3,
        "start_time": "2022-04-11T13:29:52.776Z"
      },
      {
        "duration": 1513,
        "start_time": "2022-04-11T13:30:32.942Z"
      },
      {
        "duration": 807,
        "start_time": "2022-04-11T13:30:34.456Z"
      },
      {
        "duration": 3,
        "start_time": "2022-04-11T13:30:35.264Z"
      },
      {
        "duration": 35,
        "start_time": "2022-04-11T13:30:35.270Z"
      },
      {
        "duration": 21,
        "start_time": "2022-04-11T13:30:35.307Z"
      },
      {
        "duration": 42,
        "start_time": "2022-04-11T13:30:35.330Z"
      },
      {
        "duration": 7,
        "start_time": "2022-04-11T13:30:35.374Z"
      },
      {
        "duration": 3,
        "start_time": "2022-04-11T13:30:35.383Z"
      },
      {
        "duration": 5,
        "start_time": "2022-04-11T13:30:35.387Z"
      },
      {
        "duration": 9,
        "start_time": "2022-04-11T13:30:35.395Z"
      },
      {
        "duration": 9,
        "start_time": "2022-04-11T13:30:35.406Z"
      },
      {
        "duration": 26,
        "start_time": "2022-04-11T13:30:35.417Z"
      },
      {
        "duration": 32,
        "start_time": "2022-04-11T13:30:35.445Z"
      },
      {
        "duration": 6,
        "start_time": "2022-04-11T13:30:35.479Z"
      },
      {
        "duration": 11,
        "start_time": "2022-04-11T13:30:35.487Z"
      },
      {
        "duration": 6,
        "start_time": "2022-04-11T13:30:35.500Z"
      },
      {
        "duration": 7,
        "start_time": "2022-04-11T13:30:35.507Z"
      },
      {
        "duration": 34,
        "start_time": "2022-04-11T13:30:35.516Z"
      },
      {
        "duration": 3,
        "start_time": "2022-04-11T13:30:35.552Z"
      },
      {
        "duration": 16,
        "start_time": "2022-04-11T13:30:35.556Z"
      },
      {
        "duration": 16,
        "start_time": "2022-04-11T13:30:35.574Z"
      },
      {
        "duration": 22,
        "start_time": "2022-04-11T13:30:35.592Z"
      },
      {
        "duration": 2700,
        "start_time": "2022-04-11T13:30:35.616Z"
      },
      {
        "duration": 2921,
        "start_time": "2022-04-11T13:30:38.318Z"
      },
      {
        "duration": 384,
        "start_time": "2022-04-11T13:30:41.241Z"
      },
      {
        "duration": 5,
        "start_time": "2022-04-11T13:30:41.627Z"
      },
      {
        "duration": 66,
        "start_time": "2022-04-11T13:30:41.634Z"
      },
      {
        "duration": 2824,
        "start_time": "2022-04-11T13:30:41.704Z"
      },
      {
        "duration": 12,
        "start_time": "2022-04-11T13:30:44.529Z"
      },
      {
        "duration": 3,
        "start_time": "2022-04-11T13:30:44.542Z"
      },
      {
        "duration": 7,
        "start_time": "2022-04-11T13:30:44.547Z"
      },
      {
        "duration": 9,
        "start_time": "2022-04-11T13:30:44.556Z"
      },
      {
        "duration": 33,
        "start_time": "2022-04-11T13:30:44.566Z"
      },
      {
        "duration": 3,
        "start_time": "2022-04-11T13:30:44.600Z"
      },
      {
        "duration": 4291,
        "start_time": "2022-04-11T13:30:44.604Z"
      },
      {
        "duration": 1973,
        "start_time": "2022-04-11T13:30:48.897Z"
      },
      {
        "duration": 2,
        "start_time": "2022-04-11T13:30:50.872Z"
      },
      {
        "duration": 49441,
        "start_time": "2022-04-11T13:30:50.876Z"
      },
      {
        "duration": 3,
        "start_time": "2022-04-11T13:31:40.319Z"
      },
      {
        "duration": 5,
        "start_time": "2022-04-11T13:31:40.324Z"
      },
      {
        "duration": 6,
        "start_time": "2022-04-11T13:31:40.331Z"
      },
      {
        "duration": 143,
        "start_time": "2022-04-11T13:31:40.339Z"
      },
      {
        "duration": 194,
        "start_time": "2022-04-11T13:31:40.484Z"
      },
      {
        "duration": 8,
        "start_time": "2022-04-11T13:31:40.679Z"
      },
      {
        "duration": 6,
        "start_time": "2022-04-11T13:31:40.688Z"
      },
      {
        "duration": 111,
        "start_time": "2022-04-11T13:31:40.695Z"
      },
      {
        "duration": 0,
        "start_time": "2022-04-11T13:31:40.808Z"
      },
      {
        "duration": 0,
        "start_time": "2022-04-11T13:31:40.809Z"
      },
      {
        "duration": 0,
        "start_time": "2022-04-11T13:31:40.811Z"
      },
      {
        "duration": 6,
        "start_time": "2022-04-11T13:32:55.362Z"
      },
      {
        "duration": 4,
        "start_time": "2022-04-11T13:33:06.527Z"
      },
      {
        "duration": 599,
        "start_time": "2022-04-11T13:33:06.533Z"
      },
      {
        "duration": 3,
        "start_time": "2022-04-11T13:33:07.133Z"
      },
      {
        "duration": 32,
        "start_time": "2022-04-11T13:33:07.138Z"
      },
      {
        "duration": 20,
        "start_time": "2022-04-11T13:33:07.172Z"
      },
      {
        "duration": 24,
        "start_time": "2022-04-11T13:33:07.193Z"
      },
      {
        "duration": 5,
        "start_time": "2022-04-11T13:33:07.219Z"
      },
      {
        "duration": 4,
        "start_time": "2022-04-11T13:33:07.226Z"
      },
      {
        "duration": 7,
        "start_time": "2022-04-11T13:33:07.231Z"
      },
      {
        "duration": 34,
        "start_time": "2022-04-11T13:33:07.239Z"
      },
      {
        "duration": 4,
        "start_time": "2022-04-11T13:33:07.275Z"
      },
      {
        "duration": 21,
        "start_time": "2022-04-11T13:33:07.281Z"
      },
      {
        "duration": 10,
        "start_time": "2022-04-11T13:33:07.304Z"
      },
      {
        "duration": 6,
        "start_time": "2022-04-11T13:33:07.317Z"
      },
      {
        "duration": 13,
        "start_time": "2022-04-11T13:33:07.325Z"
      },
      {
        "duration": 30,
        "start_time": "2022-04-11T13:33:07.340Z"
      },
      {
        "duration": 6,
        "start_time": "2022-04-11T13:33:07.372Z"
      },
      {
        "duration": 13,
        "start_time": "2022-04-11T13:33:07.379Z"
      },
      {
        "duration": 3,
        "start_time": "2022-04-11T13:33:07.393Z"
      },
      {
        "duration": 5,
        "start_time": "2022-04-11T13:33:07.398Z"
      },
      {
        "duration": 14,
        "start_time": "2022-04-11T13:33:07.405Z"
      },
      {
        "duration": 15,
        "start_time": "2022-04-11T13:33:07.421Z"
      },
      {
        "duration": 2375,
        "start_time": "2022-04-11T13:33:07.438Z"
      },
      {
        "duration": 3011,
        "start_time": "2022-04-11T13:33:09.814Z"
      },
      {
        "duration": 396,
        "start_time": "2022-04-11T13:33:12.827Z"
      },
      {
        "duration": 5,
        "start_time": "2022-04-11T13:33:13.225Z"
      },
      {
        "duration": 54,
        "start_time": "2022-04-11T13:33:13.233Z"
      },
      {
        "duration": 3513,
        "start_time": "2022-04-11T13:33:13.289Z"
      },
      {
        "duration": 9,
        "start_time": "2022-04-11T13:33:16.804Z"
      },
      {
        "duration": 4,
        "start_time": "2022-04-11T13:33:16.815Z"
      },
      {
        "duration": 8,
        "start_time": "2022-04-11T13:33:16.820Z"
      },
      {
        "duration": 8,
        "start_time": "2022-04-11T13:33:16.829Z"
      },
      {
        "duration": 36,
        "start_time": "2022-04-11T13:33:16.838Z"
      },
      {
        "duration": 3,
        "start_time": "2022-04-11T13:33:16.876Z"
      },
      {
        "duration": 4390,
        "start_time": "2022-04-11T13:33:16.881Z"
      },
      {
        "duration": 1206,
        "start_time": "2022-04-11T13:33:21.274Z"
      },
      {
        "duration": 91,
        "start_time": "2022-04-11T13:33:22.481Z"
      },
      {
        "duration": 57438,
        "start_time": "2022-04-11T13:33:22.574Z"
      },
      {
        "duration": 2,
        "start_time": "2022-04-11T13:34:20.014Z"
      },
      {
        "duration": 17,
        "start_time": "2022-04-11T13:34:20.017Z"
      },
      {
        "duration": 13,
        "start_time": "2022-04-11T13:34:20.038Z"
      },
      {
        "duration": 518,
        "start_time": "2022-04-11T13:34:20.053Z"
      },
      {
        "duration": 6,
        "start_time": "2022-04-11T13:34:20.573Z"
      },
      {
        "duration": 95,
        "start_time": "2022-04-11T13:34:20.581Z"
      },
      {
        "duration": 10,
        "start_time": "2022-04-11T13:34:20.678Z"
      },
      {
        "duration": 14,
        "start_time": "2022-04-11T13:34:20.690Z"
      },
      {
        "duration": 13,
        "start_time": "2022-04-11T13:34:20.706Z"
      },
      {
        "duration": 0,
        "start_time": "2022-04-11T13:34:20.721Z"
      },
      {
        "duration": 0,
        "start_time": "2022-04-11T13:34:20.723Z"
      },
      {
        "duration": 6,
        "start_time": "2022-04-11T13:35:21.280Z"
      },
      {
        "duration": 6,
        "start_time": "2022-04-11T13:35:24.335Z"
      },
      {
        "duration": 4,
        "start_time": "2022-04-11T13:35:26.271Z"
      },
      {
        "duration": 4,
        "start_time": "2022-04-11T13:35:33.050Z"
      },
      {
        "duration": 572,
        "start_time": "2022-04-11T13:35:33.056Z"
      },
      {
        "duration": 3,
        "start_time": "2022-04-11T13:35:33.631Z"
      },
      {
        "duration": 35,
        "start_time": "2022-04-11T13:35:33.636Z"
      },
      {
        "duration": 22,
        "start_time": "2022-04-11T13:35:33.673Z"
      },
      {
        "duration": 25,
        "start_time": "2022-04-11T13:35:33.697Z"
      },
      {
        "duration": 6,
        "start_time": "2022-04-11T13:35:33.724Z"
      },
      {
        "duration": 6,
        "start_time": "2022-04-11T13:35:33.731Z"
      },
      {
        "duration": 35,
        "start_time": "2022-04-11T13:35:33.738Z"
      },
      {
        "duration": 13,
        "start_time": "2022-04-11T13:35:33.775Z"
      },
      {
        "duration": 11,
        "start_time": "2022-04-11T13:35:33.791Z"
      },
      {
        "duration": 31,
        "start_time": "2022-04-11T13:35:33.804Z"
      },
      {
        "duration": 11,
        "start_time": "2022-04-11T13:35:33.838Z"
      },
      {
        "duration": 22,
        "start_time": "2022-04-11T13:35:33.851Z"
      },
      {
        "duration": 14,
        "start_time": "2022-04-11T13:35:33.875Z"
      },
      {
        "duration": 7,
        "start_time": "2022-04-11T13:35:33.891Z"
      },
      {
        "duration": 8,
        "start_time": "2022-04-11T13:35:33.899Z"
      },
      {
        "duration": 13,
        "start_time": "2022-04-11T13:35:33.909Z"
      },
      {
        "duration": 3,
        "start_time": "2022-04-11T13:35:33.925Z"
      },
      {
        "duration": 4,
        "start_time": "2022-04-11T13:35:33.931Z"
      },
      {
        "duration": 49,
        "start_time": "2022-04-11T13:35:33.937Z"
      },
      {
        "duration": 14,
        "start_time": "2022-04-11T13:35:33.989Z"
      },
      {
        "duration": 2527,
        "start_time": "2022-04-11T13:35:34.005Z"
      },
      {
        "duration": 3010,
        "start_time": "2022-04-11T13:35:36.534Z"
      },
      {
        "duration": 383,
        "start_time": "2022-04-11T13:35:39.545Z"
      },
      {
        "duration": 5,
        "start_time": "2022-04-11T13:35:39.930Z"
      },
      {
        "duration": 40,
        "start_time": "2022-04-11T13:35:39.936Z"
      },
      {
        "duration": 2614,
        "start_time": "2022-04-11T13:35:39.978Z"
      },
      {
        "duration": 8,
        "start_time": "2022-04-11T13:35:42.596Z"
      },
      {
        "duration": 3,
        "start_time": "2022-04-11T13:35:42.606Z"
      },
      {
        "duration": 6,
        "start_time": "2022-04-11T13:35:42.610Z"
      },
      {
        "duration": 7,
        "start_time": "2022-04-11T13:35:42.617Z"
      },
      {
        "duration": 17,
        "start_time": "2022-04-11T13:35:42.626Z"
      },
      {
        "duration": 2,
        "start_time": "2022-04-11T13:35:42.645Z"
      },
      {
        "duration": 6265,
        "start_time": "2022-04-11T13:35:42.670Z"
      },
      {
        "duration": 1442,
        "start_time": "2022-04-11T13:35:48.937Z"
      },
      {
        "duration": 2,
        "start_time": "2022-04-11T13:35:50.470Z"
      },
      {
        "duration": 50111,
        "start_time": "2022-04-11T13:35:50.475Z"
      },
      {
        "duration": 3,
        "start_time": "2022-04-11T13:36:40.588Z"
      },
      {
        "duration": 9,
        "start_time": "2022-04-11T13:36:40.593Z"
      },
      {
        "duration": 5,
        "start_time": "2022-04-11T13:36:40.603Z"
      },
      {
        "duration": 272,
        "start_time": "2022-04-11T13:36:40.609Z"
      },
      {
        "duration": 89,
        "start_time": "2022-04-11T13:36:40.885Z"
      },
      {
        "duration": 14,
        "start_time": "2022-04-11T13:36:40.975Z"
      },
      {
        "duration": 88,
        "start_time": "2022-04-11T13:36:40.992Z"
      },
      {
        "duration": 10,
        "start_time": "2022-04-11T13:36:41.082Z"
      },
      {
        "duration": 7,
        "start_time": "2022-04-11T13:36:41.094Z"
      },
      {
        "duration": 5,
        "start_time": "2022-04-11T13:36:41.103Z"
      },
      {
        "duration": 5,
        "start_time": "2022-04-11T13:36:41.109Z"
      },
      {
        "duration": 1488,
        "start_time": "2022-04-11T13:37:55.089Z"
      },
      {
        "duration": 836,
        "start_time": "2022-04-11T13:37:56.579Z"
      },
      {
        "duration": 3,
        "start_time": "2022-04-11T13:37:57.417Z"
      },
      {
        "duration": 49,
        "start_time": "2022-04-11T13:37:57.423Z"
      },
      {
        "duration": 28,
        "start_time": "2022-04-11T13:37:57.474Z"
      },
      {
        "duration": 34,
        "start_time": "2022-04-11T13:37:57.504Z"
      },
      {
        "duration": 8,
        "start_time": "2022-04-11T13:37:57.539Z"
      },
      {
        "duration": 24,
        "start_time": "2022-04-11T13:37:57.548Z"
      },
      {
        "duration": 9,
        "start_time": "2022-04-11T13:37:57.574Z"
      },
      {
        "duration": 5,
        "start_time": "2022-04-11T13:37:57.586Z"
      },
      {
        "duration": 6,
        "start_time": "2022-04-11T13:37:57.593Z"
      },
      {
        "duration": 23,
        "start_time": "2022-04-11T13:37:57.601Z"
      },
      {
        "duration": 7,
        "start_time": "2022-04-11T13:37:57.626Z"
      },
      {
        "duration": 7,
        "start_time": "2022-04-11T13:37:57.634Z"
      },
      {
        "duration": 37,
        "start_time": "2022-04-11T13:37:57.643Z"
      },
      {
        "duration": 5,
        "start_time": "2022-04-11T13:37:57.682Z"
      },
      {
        "duration": 7,
        "start_time": "2022-04-11T13:37:57.689Z"
      },
      {
        "duration": 16,
        "start_time": "2022-04-11T13:37:57.698Z"
      },
      {
        "duration": 3,
        "start_time": "2022-04-11T13:37:57.716Z"
      },
      {
        "duration": 4,
        "start_time": "2022-04-11T13:37:57.721Z"
      },
      {
        "duration": 44,
        "start_time": "2022-04-11T13:37:57.727Z"
      },
      {
        "duration": 18,
        "start_time": "2022-04-11T13:37:57.772Z"
      },
      {
        "duration": 2915,
        "start_time": "2022-04-11T13:37:57.791Z"
      },
      {
        "duration": 3819,
        "start_time": "2022-04-11T13:38:00.708Z"
      },
      {
        "duration": 499,
        "start_time": "2022-04-11T13:38:04.529Z"
      },
      {
        "duration": 6,
        "start_time": "2022-04-11T13:38:05.030Z"
      },
      {
        "duration": 58,
        "start_time": "2022-04-11T13:38:05.037Z"
      },
      {
        "duration": 2660,
        "start_time": "2022-04-11T13:38:05.099Z"
      },
      {
        "duration": 10,
        "start_time": "2022-04-11T13:38:07.761Z"
      },
      {
        "duration": 5,
        "start_time": "2022-04-11T13:38:07.773Z"
      },
      {
        "duration": 8,
        "start_time": "2022-04-11T13:38:07.780Z"
      },
      {
        "duration": 11,
        "start_time": "2022-04-11T13:38:07.790Z"
      },
      {
        "duration": 20,
        "start_time": "2022-04-11T13:38:07.802Z"
      },
      {
        "duration": 2,
        "start_time": "2022-04-11T13:38:07.824Z"
      },
      {
        "duration": 4194,
        "start_time": "2022-04-11T13:38:07.828Z"
      },
      {
        "duration": 1449,
        "start_time": "2022-04-11T13:38:12.023Z"
      },
      {
        "duration": 3,
        "start_time": "2022-04-11T13:38:13.474Z"
      },
      {
        "duration": 52784,
        "start_time": "2022-04-11T13:38:13.478Z"
      },
      {
        "duration": 6,
        "start_time": "2022-04-11T13:39:06.264Z"
      },
      {
        "duration": 3,
        "start_time": "2022-04-11T13:39:06.272Z"
      },
      {
        "duration": 5,
        "start_time": "2022-04-11T13:39:06.276Z"
      },
      {
        "duration": 395,
        "start_time": "2022-04-11T13:39:06.282Z"
      },
      {
        "duration": 93,
        "start_time": "2022-04-11T13:39:06.679Z"
      },
      {
        "duration": 101,
        "start_time": "2022-04-11T13:39:06.775Z"
      },
      {
        "duration": 8,
        "start_time": "2022-04-11T13:39:06.878Z"
      },
      {
        "duration": 5,
        "start_time": "2022-04-11T13:39:06.887Z"
      },
      {
        "duration": 5,
        "start_time": "2022-04-11T13:39:06.894Z"
      },
      {
        "duration": 5,
        "start_time": "2022-04-11T13:39:06.901Z"
      },
      {
        "duration": 6,
        "start_time": "2022-04-11T13:39:06.907Z"
      },
      {
        "duration": 76,
        "start_time": "2022-04-12T07:13:10.488Z"
      },
      {
        "duration": 2349,
        "start_time": "2022-04-12T07:13:20.810Z"
      },
      {
        "duration": 850,
        "start_time": "2022-04-12T07:13:23.163Z"
      },
      {
        "duration": 3,
        "start_time": "2022-04-12T07:13:24.016Z"
      },
      {
        "duration": 61,
        "start_time": "2022-04-12T07:13:24.022Z"
      },
      {
        "duration": 37,
        "start_time": "2022-04-12T07:13:24.086Z"
      },
      {
        "duration": 52,
        "start_time": "2022-04-12T07:13:24.126Z"
      },
      {
        "duration": 16,
        "start_time": "2022-04-12T07:13:24.188Z"
      },
      {
        "duration": 4,
        "start_time": "2022-04-12T07:13:24.207Z"
      },
      {
        "duration": 13,
        "start_time": "2022-04-12T07:13:24.213Z"
      },
      {
        "duration": 6,
        "start_time": "2022-04-12T07:13:24.231Z"
      },
      {
        "duration": 5,
        "start_time": "2022-04-12T07:13:24.239Z"
      },
      {
        "duration": 67,
        "start_time": "2022-04-12T07:13:24.247Z"
      },
      {
        "duration": 11,
        "start_time": "2022-04-12T07:13:24.317Z"
      },
      {
        "duration": 12,
        "start_time": "2022-04-12T07:13:24.331Z"
      },
      {
        "duration": 39,
        "start_time": "2022-04-12T07:13:24.345Z"
      },
      {
        "duration": 22,
        "start_time": "2022-04-12T07:13:24.387Z"
      },
      {
        "duration": 10,
        "start_time": "2022-04-12T07:13:24.412Z"
      },
      {
        "duration": 21,
        "start_time": "2022-04-12T07:13:24.425Z"
      },
      {
        "duration": 4,
        "start_time": "2022-04-12T07:13:24.448Z"
      },
      {
        "duration": 28,
        "start_time": "2022-04-12T07:13:24.474Z"
      },
      {
        "duration": 20,
        "start_time": "2022-04-12T07:13:24.505Z"
      },
      {
        "duration": 26,
        "start_time": "2022-04-12T07:13:24.527Z"
      },
      {
        "duration": 3500,
        "start_time": "2022-04-12T07:13:24.556Z"
      },
      {
        "duration": 4339,
        "start_time": "2022-04-12T07:13:28.058Z"
      },
      {
        "duration": 496,
        "start_time": "2022-04-12T07:13:32.403Z"
      },
      {
        "duration": 8,
        "start_time": "2022-04-12T07:13:32.903Z"
      },
      {
        "duration": 87,
        "start_time": "2022-04-12T07:13:32.913Z"
      },
      {
        "duration": 4496,
        "start_time": "2022-04-12T07:13:33.007Z"
      },
      {
        "duration": 19,
        "start_time": "2022-04-12T07:13:37.505Z"
      },
      {
        "duration": 17,
        "start_time": "2022-04-12T07:13:37.526Z"
      },
      {
        "duration": 63,
        "start_time": "2022-04-12T07:13:37.545Z"
      },
      {
        "duration": 33,
        "start_time": "2022-04-12T07:13:37.610Z"
      },
      {
        "duration": 48,
        "start_time": "2022-04-12T07:13:37.645Z"
      },
      {
        "duration": 20,
        "start_time": "2022-04-12T07:13:37.695Z"
      },
      {
        "duration": 6619,
        "start_time": "2022-04-12T07:13:37.717Z"
      },
      {
        "duration": 3145,
        "start_time": "2022-04-12T07:13:44.339Z"
      },
      {
        "duration": 10,
        "start_time": "2022-04-12T07:13:47.486Z"
      },
      {
        "duration": 80028,
        "start_time": "2022-04-12T07:13:47.501Z"
      },
      {
        "duration": 4,
        "start_time": "2022-04-12T07:15:07.531Z"
      },
      {
        "duration": 7,
        "start_time": "2022-04-12T07:15:07.537Z"
      },
      {
        "duration": 10,
        "start_time": "2022-04-12T07:15:07.546Z"
      },
      {
        "duration": 4,
        "start_time": "2022-04-12T07:15:07.579Z"
      },
      {
        "duration": 1206,
        "start_time": "2022-04-12T07:15:07.585Z"
      },
      {
        "duration": 15,
        "start_time": "2022-04-12T07:15:08.794Z"
      },
      {
        "duration": 21,
        "start_time": "2022-04-12T07:15:08.879Z"
      },
      {
        "duration": 86,
        "start_time": "2022-04-12T07:15:08.902Z"
      },
      {
        "duration": 21,
        "start_time": "2022-04-12T07:15:08.991Z"
      },
      {
        "duration": 8,
        "start_time": "2022-04-12T07:15:09.015Z"
      },
      {
        "duration": 8,
        "start_time": "2022-04-12T07:15:09.025Z"
      },
      {
        "duration": 9,
        "start_time": "2022-04-12T07:15:09.035Z"
      },
      {
        "duration": 6,
        "start_time": "2022-04-12T07:20:51.743Z"
      },
      {
        "duration": 947,
        "start_time": "2022-04-12T07:20:51.752Z"
      },
      {
        "duration": 4,
        "start_time": "2022-04-12T07:20:52.702Z"
      },
      {
        "duration": 41,
        "start_time": "2022-04-12T07:20:52.710Z"
      },
      {
        "duration": 57,
        "start_time": "2022-04-12T07:20:52.752Z"
      },
      {
        "duration": 38,
        "start_time": "2022-04-12T07:20:52.811Z"
      },
      {
        "duration": 33,
        "start_time": "2022-04-12T07:20:52.851Z"
      },
      {
        "duration": 22,
        "start_time": "2022-04-12T07:20:52.886Z"
      },
      {
        "duration": 6,
        "start_time": "2022-04-12T07:20:52.911Z"
      },
      {
        "duration": 8,
        "start_time": "2022-04-12T07:20:52.919Z"
      },
      {
        "duration": 9,
        "start_time": "2022-04-12T07:20:52.929Z"
      },
      {
        "duration": 60,
        "start_time": "2022-04-12T07:20:52.940Z"
      },
      {
        "duration": 11,
        "start_time": "2022-04-12T07:20:53.002Z"
      },
      {
        "duration": 9,
        "start_time": "2022-04-12T07:20:53.015Z"
      },
      {
        "duration": 17,
        "start_time": "2022-04-12T07:20:53.026Z"
      },
      {
        "duration": 7,
        "start_time": "2022-04-12T07:20:53.046Z"
      },
      {
        "duration": 36,
        "start_time": "2022-04-12T07:20:53.055Z"
      },
      {
        "duration": 20,
        "start_time": "2022-04-12T07:20:53.096Z"
      },
      {
        "duration": 5,
        "start_time": "2022-04-12T07:20:53.119Z"
      },
      {
        "duration": 7,
        "start_time": "2022-04-12T07:20:53.126Z"
      },
      {
        "duration": 45,
        "start_time": "2022-04-12T07:20:53.135Z"
      },
      {
        "duration": 43,
        "start_time": "2022-04-12T07:20:53.184Z"
      },
      {
        "duration": 3534,
        "start_time": "2022-04-12T07:20:53.229Z"
      },
      {
        "duration": 4222,
        "start_time": "2022-04-12T07:20:56.775Z"
      },
      {
        "duration": 591,
        "start_time": "2022-04-12T07:21:01.001Z"
      },
      {
        "duration": 8,
        "start_time": "2022-04-12T07:21:01.594Z"
      },
      {
        "duration": 50,
        "start_time": "2022-04-12T07:21:01.604Z"
      },
      {
        "duration": 4457,
        "start_time": "2022-04-12T07:21:01.656Z"
      },
      {
        "duration": 17,
        "start_time": "2022-04-12T07:21:06.115Z"
      },
      {
        "duration": 12,
        "start_time": "2022-04-12T07:21:06.134Z"
      },
      {
        "duration": 33,
        "start_time": "2022-04-12T07:21:06.148Z"
      },
      {
        "duration": 39,
        "start_time": "2022-04-12T07:21:06.184Z"
      },
      {
        "duration": 37,
        "start_time": "2022-04-12T07:21:06.225Z"
      },
      {
        "duration": 5,
        "start_time": "2022-04-12T07:21:06.265Z"
      },
      {
        "duration": 7447,
        "start_time": "2022-04-12T07:21:06.273Z"
      },
      {
        "duration": 4188,
        "start_time": "2022-04-12T07:21:13.723Z"
      },
      {
        "duration": 17,
        "start_time": "2022-04-12T07:21:17.982Z"
      },
      {
        "duration": 77846,
        "start_time": "2022-04-12T07:21:18.001Z"
      },
      {
        "duration": 3,
        "start_time": "2022-04-12T07:22:35.849Z"
      },
      {
        "duration": 21,
        "start_time": "2022-04-12T07:22:35.854Z"
      },
      {
        "duration": 30,
        "start_time": "2022-04-12T07:22:35.878Z"
      },
      {
        "duration": 7,
        "start_time": "2022-04-12T07:22:35.910Z"
      },
      {
        "duration": 1053,
        "start_time": "2022-04-12T07:22:35.920Z"
      },
      {
        "duration": 134,
        "start_time": "2022-04-12T07:22:36.978Z"
      },
      {
        "duration": 14,
        "start_time": "2022-04-12T07:22:37.181Z"
      },
      {
        "duration": 82,
        "start_time": "2022-04-12T07:22:37.198Z"
      },
      {
        "duration": 29,
        "start_time": "2022-04-12T07:22:37.289Z"
      },
      {
        "duration": 17,
        "start_time": "2022-04-12T07:22:37.321Z"
      },
      {
        "duration": 12,
        "start_time": "2022-04-12T07:22:37.340Z"
      },
      {
        "duration": 30,
        "start_time": "2022-04-12T07:22:37.355Z"
      },
      {
        "duration": 21,
        "start_time": "2022-04-12T07:22:37.388Z"
      },
      {
        "duration": 22278,
        "start_time": "2022-04-12T07:47:24.520Z"
      },
      {
        "duration": 289078,
        "start_time": "2022-04-12T07:52:21.602Z"
      },
      {
        "duration": 6489,
        "start_time": "2022-04-12T07:57:29.677Z"
      },
      {
        "duration": 8,
        "start_time": "2022-04-12T07:57:57.603Z"
      },
      {
        "duration": 847,
        "start_time": "2022-04-12T07:57:57.614Z"
      },
      {
        "duration": 13,
        "start_time": "2022-04-12T07:57:58.464Z"
      },
      {
        "duration": 71,
        "start_time": "2022-04-12T07:57:58.480Z"
      },
      {
        "duration": 47,
        "start_time": "2022-04-12T07:57:58.555Z"
      },
      {
        "duration": 38,
        "start_time": "2022-04-12T07:57:58.605Z"
      },
      {
        "duration": 8,
        "start_time": "2022-04-12T07:57:58.645Z"
      },
      {
        "duration": 28,
        "start_time": "2022-04-12T07:57:58.656Z"
      },
      {
        "duration": 27,
        "start_time": "2022-04-12T07:57:58.686Z"
      },
      {
        "duration": 8,
        "start_time": "2022-04-12T07:57:58.715Z"
      },
      {
        "duration": 5,
        "start_time": "2022-04-12T07:57:58.727Z"
      },
      {
        "duration": 44,
        "start_time": "2022-04-12T07:57:58.734Z"
      },
      {
        "duration": 31,
        "start_time": "2022-04-12T07:57:58.781Z"
      },
      {
        "duration": 14,
        "start_time": "2022-04-12T07:57:58.814Z"
      },
      {
        "duration": 16,
        "start_time": "2022-04-12T07:57:58.830Z"
      },
      {
        "duration": 10,
        "start_time": "2022-04-12T07:57:58.848Z"
      },
      {
        "duration": 22,
        "start_time": "2022-04-12T07:57:58.860Z"
      },
      {
        "duration": 19,
        "start_time": "2022-04-12T07:57:58.889Z"
      },
      {
        "duration": 7,
        "start_time": "2022-04-12T07:57:58.910Z"
      },
      {
        "duration": 7,
        "start_time": "2022-04-12T07:57:58.919Z"
      },
      {
        "duration": 19,
        "start_time": "2022-04-12T07:57:58.928Z"
      },
      {
        "duration": 43,
        "start_time": "2022-04-12T07:57:58.950Z"
      },
      {
        "duration": 3318,
        "start_time": "2022-04-12T07:57:58.996Z"
      },
      {
        "duration": 4505,
        "start_time": "2022-04-12T07:58:02.317Z"
      },
      {
        "duration": 593,
        "start_time": "2022-04-12T07:58:06.825Z"
      },
      {
        "duration": 7,
        "start_time": "2022-04-12T07:58:07.420Z"
      },
      {
        "duration": 68,
        "start_time": "2022-04-12T07:58:07.429Z"
      },
      {
        "duration": 4693,
        "start_time": "2022-04-12T07:58:07.504Z"
      },
      {
        "duration": 18,
        "start_time": "2022-04-12T07:58:12.208Z"
      },
      {
        "duration": 5,
        "start_time": "2022-04-12T07:58:12.228Z"
      },
      {
        "duration": 7,
        "start_time": "2022-04-12T07:58:12.236Z"
      },
      {
        "duration": 38,
        "start_time": "2022-04-12T07:58:12.245Z"
      },
      {
        "duration": 43,
        "start_time": "2022-04-12T07:58:12.291Z"
      },
      {
        "duration": 3,
        "start_time": "2022-04-12T07:58:12.336Z"
      },
      {
        "duration": 6772,
        "start_time": "2022-04-12T07:58:12.341Z"
      },
      {
        "duration": 3673,
        "start_time": "2022-04-12T07:58:19.116Z"
      },
      {
        "duration": 8,
        "start_time": "2022-04-12T07:58:22.792Z"
      },
      {
        "duration": 77616,
        "start_time": "2022-04-12T07:58:22.807Z"
      },
      {
        "duration": 6169,
        "start_time": "2022-04-12T07:59:40.426Z"
      },
      {
        "duration": 4,
        "start_time": "2022-04-12T07:59:46.597Z"
      },
      {
        "duration": 10,
        "start_time": "2022-04-12T07:59:46.603Z"
      },
      {
        "duration": 9,
        "start_time": "2022-04-12T07:59:46.615Z"
      },
      {
        "duration": 6,
        "start_time": "2022-04-12T07:59:46.626Z"
      },
      {
        "duration": 1571,
        "start_time": "2022-04-12T07:59:46.634Z"
      },
      {
        "duration": 206,
        "start_time": "2022-04-12T07:59:48.207Z"
      },
      {
        "duration": 84,
        "start_time": "2022-04-12T07:59:48.493Z"
      },
      {
        "duration": 25,
        "start_time": "2022-04-12T07:59:48.586Z"
      },
      {
        "duration": 7,
        "start_time": "2022-04-12T07:59:48.613Z"
      },
      {
        "duration": 7,
        "start_time": "2022-04-12T07:59:48.622Z"
      },
      {
        "duration": 8,
        "start_time": "2022-04-12T07:59:48.631Z"
      },
      {
        "duration": 7,
        "start_time": "2022-04-12T07:59:48.641Z"
      },
      {
        "duration": 11,
        "start_time": "2022-04-12T07:59:48.651Z"
      },
      {
        "duration": 22,
        "start_time": "2022-04-12T08:00:47.980Z"
      },
      {
        "duration": 12,
        "start_time": "2022-04-12T08:00:55.878Z"
      },
      {
        "duration": 847,
        "start_time": "2022-04-12T08:00:55.895Z"
      },
      {
        "duration": 4,
        "start_time": "2022-04-12T08:00:56.745Z"
      },
      {
        "duration": 58,
        "start_time": "2022-04-12T08:00:56.751Z"
      },
      {
        "duration": 35,
        "start_time": "2022-04-12T08:00:56.811Z"
      },
      {
        "duration": 73,
        "start_time": "2022-04-12T08:00:56.849Z"
      },
      {
        "duration": 9,
        "start_time": "2022-04-12T08:00:56.925Z"
      },
      {
        "duration": 7,
        "start_time": "2022-04-12T08:00:56.937Z"
      },
      {
        "duration": 29,
        "start_time": "2022-04-12T08:00:56.947Z"
      },
      {
        "duration": 26,
        "start_time": "2022-04-12T08:00:56.980Z"
      },
      {
        "duration": 6,
        "start_time": "2022-04-12T08:00:57.008Z"
      },
      {
        "duration": 34,
        "start_time": "2022-04-12T08:00:57.017Z"
      },
      {
        "duration": 28,
        "start_time": "2022-04-12T08:00:57.053Z"
      },
      {
        "duration": 27,
        "start_time": "2022-04-12T08:00:57.087Z"
      },
      {
        "duration": 15,
        "start_time": "2022-04-12T08:00:57.117Z"
      },
      {
        "duration": 8,
        "start_time": "2022-04-12T08:00:57.134Z"
      },
      {
        "duration": 9,
        "start_time": "2022-04-12T08:00:57.144Z"
      },
      {
        "duration": 34,
        "start_time": "2022-04-12T08:00:57.156Z"
      },
      {
        "duration": 7,
        "start_time": "2022-04-12T08:00:57.194Z"
      },
      {
        "duration": 7,
        "start_time": "2022-04-12T08:00:57.203Z"
      },
      {
        "duration": 20,
        "start_time": "2022-04-12T08:00:57.213Z"
      },
      {
        "duration": 16,
        "start_time": "2022-04-12T08:00:57.235Z"
      },
      {
        "duration": 3293,
        "start_time": "2022-04-12T08:00:57.276Z"
      },
      {
        "duration": 4236,
        "start_time": "2022-04-12T08:01:00.571Z"
      },
      {
        "duration": 593,
        "start_time": "2022-04-12T08:01:04.810Z"
      },
      {
        "duration": 7,
        "start_time": "2022-04-12T08:01:05.406Z"
      },
      {
        "duration": 61,
        "start_time": "2022-04-12T08:01:05.415Z"
      },
      {
        "duration": 3688,
        "start_time": "2022-04-12T08:01:05.482Z"
      },
      {
        "duration": 0,
        "start_time": "2022-04-12T08:01:09.181Z"
      },
      {
        "duration": 0,
        "start_time": "2022-04-12T08:01:09.183Z"
      },
      {
        "duration": 0,
        "start_time": "2022-04-12T08:01:09.185Z"
      },
      {
        "duration": 0,
        "start_time": "2022-04-12T08:01:09.186Z"
      },
      {
        "duration": 1,
        "start_time": "2022-04-12T08:01:09.187Z"
      },
      {
        "duration": 0,
        "start_time": "2022-04-12T08:01:09.190Z"
      },
      {
        "duration": 0,
        "start_time": "2022-04-12T08:01:09.192Z"
      },
      {
        "duration": 0,
        "start_time": "2022-04-12T08:01:09.193Z"
      },
      {
        "duration": 0,
        "start_time": "2022-04-12T08:01:09.195Z"
      },
      {
        "duration": 0,
        "start_time": "2022-04-12T08:01:09.201Z"
      },
      {
        "duration": 0,
        "start_time": "2022-04-12T08:01:09.202Z"
      },
      {
        "duration": 0,
        "start_time": "2022-04-12T08:01:09.204Z"
      },
      {
        "duration": 0,
        "start_time": "2022-04-12T08:01:09.206Z"
      },
      {
        "duration": 0,
        "start_time": "2022-04-12T08:01:09.208Z"
      },
      {
        "duration": 0,
        "start_time": "2022-04-12T08:01:09.210Z"
      },
      {
        "duration": 0,
        "start_time": "2022-04-12T08:01:09.212Z"
      },
      {
        "duration": 76,
        "start_time": "2022-04-12T08:01:10.018Z"
      },
      {
        "duration": 623,
        "start_time": "2022-04-12T08:01:10.102Z"
      },
      {
        "duration": 0,
        "start_time": "2022-04-12T08:01:10.728Z"
      },
      {
        "duration": 0,
        "start_time": "2022-04-12T08:01:10.729Z"
      },
      {
        "duration": 0,
        "start_time": "2022-04-12T08:01:10.731Z"
      },
      {
        "duration": 0,
        "start_time": "2022-04-12T08:01:10.732Z"
      },
      {
        "duration": 0,
        "start_time": "2022-04-12T08:01:10.734Z"
      },
      {
        "duration": 0,
        "start_time": "2022-04-12T08:01:10.735Z"
      },
      {
        "duration": 54,
        "start_time": "2022-04-12T08:01:54.822Z"
      },
      {
        "duration": 21,
        "start_time": "2022-04-12T08:01:54.883Z"
      },
      {
        "duration": 98,
        "start_time": "2022-04-12T08:01:54.907Z"
      },
      {
        "duration": 9,
        "start_time": "2022-04-12T08:01:55.009Z"
      },
      {
        "duration": 8,
        "start_time": "2022-04-12T08:01:55.020Z"
      },
      {
        "duration": 7,
        "start_time": "2022-04-12T08:01:55.030Z"
      },
      {
        "duration": 8,
        "start_time": "2022-04-12T08:01:55.039Z"
      },
      {
        "duration": 8,
        "start_time": "2022-04-12T08:01:55.049Z"
      },
      {
        "duration": 68153,
        "start_time": "2022-04-12T08:02:48.663Z"
      },
      {
        "duration": 3087,
        "start_time": "2022-04-12T08:04:09.138Z"
      },
      {
        "duration": 7489,
        "start_time": "2022-04-12T08:04:29.394Z"
      },
      {
        "duration": 13457,
        "start_time": "2022-04-12T08:04:46.670Z"
      },
      {
        "duration": 24021,
        "start_time": "2022-04-12T08:05:16.111Z"
      },
      {
        "duration": 52377,
        "start_time": "2022-04-12T08:05:41.024Z"
      },
      {
        "duration": 3265,
        "start_time": "2022-04-12T08:07:40.201Z"
      },
      {
        "duration": 2634,
        "start_time": "2022-04-12T08:07:54.101Z"
      },
      {
        "duration": 7965,
        "start_time": "2022-04-12T08:09:55.077Z"
      },
      {
        "duration": 7946,
        "start_time": "2022-04-12T08:10:27.402Z"
      },
      {
        "duration": 7536,
        "start_time": "2022-04-12T08:11:01.026Z"
      },
      {
        "duration": 18,
        "start_time": "2022-04-12T08:11:08.565Z"
      },
      {
        "duration": 21,
        "start_time": "2022-04-12T08:11:08.585Z"
      },
      {
        "duration": 7,
        "start_time": "2022-04-12T08:11:08.608Z"
      },
      {
        "duration": 6,
        "start_time": "2022-04-12T08:11:08.617Z"
      },
      {
        "duration": 9,
        "start_time": "2022-04-12T08:11:08.625Z"
      },
      {
        "duration": 7,
        "start_time": "2022-04-12T08:11:08.636Z"
      },
      {
        "duration": 39,
        "start_time": "2022-04-12T08:11:08.645Z"
      },
      {
        "duration": 22,
        "start_time": "2022-04-12T08:17:25.185Z"
      },
      {
        "duration": 10,
        "start_time": "2022-04-12T08:17:35.806Z"
      },
      {
        "duration": 81,
        "start_time": "2022-04-12T08:17:35.819Z"
      },
      {
        "duration": 0,
        "start_time": "2022-04-12T08:17:35.975Z"
      },
      {
        "duration": 0,
        "start_time": "2022-04-12T08:17:35.977Z"
      },
      {
        "duration": 0,
        "start_time": "2022-04-12T08:17:35.979Z"
      },
      {
        "duration": 24,
        "start_time": "2022-04-12T08:17:35.982Z"
      },
      {
        "duration": 13,
        "start_time": "2022-04-12T08:17:36.009Z"
      },
      {
        "duration": 19,
        "start_time": "2022-04-12T08:17:36.024Z"
      },
      {
        "duration": 12,
        "start_time": "2022-04-12T08:17:36.045Z"
      },
      {
        "duration": 9,
        "start_time": "2022-04-12T08:20:04.190Z"
      },
      {
        "duration": 959,
        "start_time": "2022-04-12T08:20:04.202Z"
      },
      {
        "duration": 4,
        "start_time": "2022-04-12T08:20:05.163Z"
      },
      {
        "duration": 85,
        "start_time": "2022-04-12T08:20:05.170Z"
      },
      {
        "duration": 43,
        "start_time": "2022-04-12T08:20:05.258Z"
      },
      {
        "duration": 55,
        "start_time": "2022-04-12T08:20:05.304Z"
      },
      {
        "duration": 24,
        "start_time": "2022-04-12T08:20:05.362Z"
      },
      {
        "duration": 53,
        "start_time": "2022-04-12T08:20:05.389Z"
      },
      {
        "duration": 18,
        "start_time": "2022-04-12T08:20:05.445Z"
      },
      {
        "duration": 60,
        "start_time": "2022-04-12T08:20:05.465Z"
      },
      {
        "duration": 30,
        "start_time": "2022-04-12T08:20:05.528Z"
      },
      {
        "duration": 50,
        "start_time": "2022-04-12T08:20:05.560Z"
      },
      {
        "duration": 14,
        "start_time": "2022-04-12T08:20:05.619Z"
      },
      {
        "duration": 13,
        "start_time": "2022-04-12T08:20:05.638Z"
      },
      {
        "duration": 27,
        "start_time": "2022-04-12T08:20:05.654Z"
      },
      {
        "duration": 47,
        "start_time": "2022-04-12T08:20:05.684Z"
      },
      {
        "duration": 12,
        "start_time": "2022-04-12T08:20:05.734Z"
      },
      {
        "duration": 18,
        "start_time": "2022-04-12T08:20:05.749Z"
      },
      {
        "duration": 37,
        "start_time": "2022-04-12T08:20:05.769Z"
      },
      {
        "duration": 28,
        "start_time": "2022-04-12T08:20:05.809Z"
      },
      {
        "duration": 24,
        "start_time": "2022-04-12T08:20:05.840Z"
      },
      {
        "duration": 67,
        "start_time": "2022-04-12T08:20:05.867Z"
      },
      {
        "duration": 3445,
        "start_time": "2022-04-12T08:20:05.937Z"
      },
      {
        "duration": 4307,
        "start_time": "2022-04-12T08:20:09.384Z"
      },
      {
        "duration": 613,
        "start_time": "2022-04-12T08:20:13.694Z"
      },
      {
        "duration": 6,
        "start_time": "2022-04-12T08:20:14.309Z"
      },
      {
        "duration": 71,
        "start_time": "2022-04-12T08:20:14.317Z"
      },
      {
        "duration": 4293,
        "start_time": "2022-04-12T08:20:14.390Z"
      },
      {
        "duration": 17,
        "start_time": "2022-04-12T08:20:18.685Z"
      },
      {
        "duration": 4,
        "start_time": "2022-04-12T08:20:18.705Z"
      },
      {
        "duration": 9,
        "start_time": "2022-04-12T08:20:18.711Z"
      },
      {
        "duration": 14,
        "start_time": "2022-04-12T08:20:18.722Z"
      },
      {
        "duration": 52,
        "start_time": "2022-04-12T08:20:18.739Z"
      },
      {
        "duration": 4,
        "start_time": "2022-04-12T08:20:18.794Z"
      },
      {
        "duration": 6628,
        "start_time": "2022-04-12T08:20:18.803Z"
      },
      {
        "duration": 4067,
        "start_time": "2022-04-12T08:20:25.433Z"
      },
      {
        "duration": 5,
        "start_time": "2022-04-12T08:20:29.507Z"
      },
      {
        "duration": 77650,
        "start_time": "2022-04-12T08:20:29.586Z"
      },
      {
        "duration": 2413,
        "start_time": "2022-04-12T08:21:47.238Z"
      },
      {
        "duration": 3,
        "start_time": "2022-04-12T08:21:49.654Z"
      },
      {
        "duration": 5,
        "start_time": "2022-04-12T08:21:49.689Z"
      },
      {
        "duration": 17,
        "start_time": "2022-04-12T08:21:49.696Z"
      },
      {
        "duration": 6,
        "start_time": "2022-04-12T08:21:49.715Z"
      },
      {
        "duration": 6,
        "start_time": "2022-04-12T08:21:49.724Z"
      },
      {
        "duration": 66,
        "start_time": "2022-04-12T08:21:49.732Z"
      },
      {
        "duration": 10402,
        "start_time": "2022-04-12T08:21:49.801Z"
      },
      {
        "duration": 0,
        "start_time": "2022-04-12T08:22:00.205Z"
      },
      {
        "duration": 0,
        "start_time": "2022-04-12T08:22:00.207Z"
      },
      {
        "duration": 0,
        "start_time": "2022-04-12T08:22:00.210Z"
      },
      {
        "duration": 0,
        "start_time": "2022-04-12T08:22:00.212Z"
      },
      {
        "duration": 0,
        "start_time": "2022-04-12T08:22:00.215Z"
      },
      {
        "duration": 0,
        "start_time": "2022-04-12T08:22:00.217Z"
      },
      {
        "duration": 0,
        "start_time": "2022-04-12T08:22:00.219Z"
      },
      {
        "duration": 9,
        "start_time": "2022-04-12T08:30:38.969Z"
      },
      {
        "duration": 30,
        "start_time": "2022-04-12T08:30:38.981Z"
      },
      {
        "duration": 1277,
        "start_time": "2022-04-12T08:30:39.014Z"
      },
      {
        "duration": 97,
        "start_time": "2022-04-12T08:30:40.303Z"
      },
      {
        "duration": 9848,
        "start_time": "2022-04-12T08:30:40.406Z"
      },
      {
        "duration": 0,
        "start_time": "2022-04-12T08:30:50.256Z"
      },
      {
        "duration": 1,
        "start_time": "2022-04-12T08:30:50.258Z"
      },
      {
        "duration": 0,
        "start_time": "2022-04-12T08:30:50.261Z"
      },
      {
        "duration": 1,
        "start_time": "2022-04-12T08:30:50.273Z"
      },
      {
        "duration": 0,
        "start_time": "2022-04-12T08:30:50.275Z"
      },
      {
        "duration": 0,
        "start_time": "2022-04-12T08:30:50.276Z"
      },
      {
        "duration": 1,
        "start_time": "2022-04-12T08:30:50.278Z"
      },
      {
        "duration": 9977,
        "start_time": "2022-04-12T08:31:00.562Z"
      },
      {
        "duration": 9578,
        "start_time": "2022-04-12T08:31:20.912Z"
      },
      {
        "duration": 11,
        "start_time": "2022-04-12T08:31:30.492Z"
      },
      {
        "duration": 18,
        "start_time": "2022-04-12T08:31:30.506Z"
      },
      {
        "duration": 12,
        "start_time": "2022-04-12T08:31:30.526Z"
      },
      {
        "duration": 27,
        "start_time": "2022-04-12T08:31:30.540Z"
      },
      {
        "duration": 45,
        "start_time": "2022-04-12T08:31:30.570Z"
      },
      {
        "duration": 13,
        "start_time": "2022-04-12T08:31:30.617Z"
      },
      {
        "duration": 13,
        "start_time": "2022-04-12T08:31:30.632Z"
      },
      {
        "duration": 11958,
        "start_time": "2022-04-12T08:32:16.161Z"
      },
      {
        "duration": 19641,
        "start_time": "2022-04-12T08:32:36.049Z"
      },
      {
        "duration": 13927,
        "start_time": "2022-04-12T08:33:20.017Z"
      },
      {
        "duration": 8,
        "start_time": "2022-04-12T08:39:26.875Z"
      },
      {
        "duration": 841,
        "start_time": "2022-04-12T08:39:26.889Z"
      },
      {
        "duration": 3,
        "start_time": "2022-04-12T08:39:27.733Z"
      },
      {
        "duration": 65,
        "start_time": "2022-04-12T08:39:27.738Z"
      },
      {
        "duration": 33,
        "start_time": "2022-04-12T08:39:27.806Z"
      },
      {
        "duration": 63,
        "start_time": "2022-04-12T08:39:27.842Z"
      },
      {
        "duration": 8,
        "start_time": "2022-04-12T08:39:27.908Z"
      },
      {
        "duration": 5,
        "start_time": "2022-04-12T08:39:27.918Z"
      },
      {
        "duration": 10,
        "start_time": "2022-04-12T08:39:27.925Z"
      },
      {
        "duration": 16,
        "start_time": "2022-04-12T08:39:27.937Z"
      },
      {
        "duration": 6,
        "start_time": "2022-04-12T08:39:27.974Z"
      },
      {
        "duration": 58,
        "start_time": "2022-04-12T08:39:27.982Z"
      },
      {
        "duration": 8,
        "start_time": "2022-04-12T08:39:28.043Z"
      },
      {
        "duration": 8,
        "start_time": "2022-04-12T08:39:28.054Z"
      },
      {
        "duration": 24,
        "start_time": "2022-04-12T08:39:28.067Z"
      },
      {
        "duration": 15,
        "start_time": "2022-04-12T08:39:28.094Z"
      },
      {
        "duration": 9,
        "start_time": "2022-04-12T08:39:28.111Z"
      },
      {
        "duration": 17,
        "start_time": "2022-04-12T08:39:28.122Z"
      },
      {
        "duration": 4,
        "start_time": "2022-04-12T08:39:28.141Z"
      },
      {
        "duration": 33,
        "start_time": "2022-04-12T08:39:28.147Z"
      },
      {
        "duration": 32,
        "start_time": "2022-04-12T08:39:28.187Z"
      },
      {
        "duration": 17,
        "start_time": "2022-04-12T08:39:28.221Z"
      },
      {
        "duration": 3322,
        "start_time": "2022-04-12T08:39:28.240Z"
      },
      {
        "duration": 4428,
        "start_time": "2022-04-12T08:39:31.565Z"
      },
      {
        "duration": 581,
        "start_time": "2022-04-12T08:39:35.997Z"
      },
      {
        "duration": 9,
        "start_time": "2022-04-12T08:39:36.584Z"
      },
      {
        "duration": 54,
        "start_time": "2022-04-12T08:39:36.597Z"
      },
      {
        "duration": 4243,
        "start_time": "2022-04-12T08:39:36.654Z"
      },
      {
        "duration": 16,
        "start_time": "2022-04-12T08:39:40.900Z"
      },
      {
        "duration": 4,
        "start_time": "2022-04-12T08:39:40.919Z"
      },
      {
        "duration": 16,
        "start_time": "2022-04-12T08:39:40.926Z"
      },
      {
        "duration": 12,
        "start_time": "2022-04-12T08:39:40.944Z"
      },
      {
        "duration": 39,
        "start_time": "2022-04-12T08:39:40.983Z"
      },
      {
        "duration": 4,
        "start_time": "2022-04-12T08:39:41.024Z"
      },
      {
        "duration": 6513,
        "start_time": "2022-04-12T08:39:41.030Z"
      },
      {
        "duration": 2530,
        "start_time": "2022-04-12T08:39:47.546Z"
      },
      {
        "duration": 21,
        "start_time": "2022-04-12T08:39:50.080Z"
      },
      {
        "duration": 77,
        "start_time": "2022-04-12T08:39:50.106Z"
      },
      {
        "duration": 2550,
        "start_time": "2022-04-12T08:39:50.185Z"
      },
      {
        "duration": 4,
        "start_time": "2022-04-12T08:39:52.737Z"
      },
      {
        "duration": 16,
        "start_time": "2022-04-12T08:39:52.743Z"
      },
      {
        "duration": 8,
        "start_time": "2022-04-12T08:39:52.775Z"
      },
      {
        "duration": 25,
        "start_time": "2022-04-12T08:39:52.785Z"
      },
      {
        "duration": 8,
        "start_time": "2022-04-12T08:39:52.812Z"
      },
      {
        "duration": 69,
        "start_time": "2022-04-12T08:39:52.822Z"
      },
      {
        "duration": 14719,
        "start_time": "2022-04-12T08:39:52.893Z"
      },
      {
        "duration": 987,
        "start_time": "2022-04-12T08:40:07.615Z"
      },
      {
        "duration": 91,
        "start_time": "2022-04-12T08:40:08.605Z"
      },
      {
        "duration": 0,
        "start_time": "2022-04-12T08:40:08.700Z"
      },
      {
        "duration": 0,
        "start_time": "2022-04-12T08:40:08.703Z"
      },
      {
        "duration": 0,
        "start_time": "2022-04-12T08:40:08.774Z"
      },
      {
        "duration": 0,
        "start_time": "2022-04-12T08:40:08.776Z"
      },
      {
        "duration": 0,
        "start_time": "2022-04-12T08:40:08.778Z"
      },
      {
        "duration": 0,
        "start_time": "2022-04-12T08:40:08.780Z"
      },
      {
        "duration": 1379,
        "start_time": "2022-04-12T08:43:28.717Z"
      },
      {
        "duration": 10,
        "start_time": "2022-04-12T08:43:30.107Z"
      },
      {
        "duration": 126,
        "start_time": "2022-04-12T08:43:30.182Z"
      },
      {
        "duration": 7,
        "start_time": "2022-04-12T08:43:30.311Z"
      },
      {
        "duration": 14,
        "start_time": "2022-04-12T08:43:30.319Z"
      },
      {
        "duration": 17,
        "start_time": "2022-04-12T08:43:30.335Z"
      },
      {
        "duration": 6,
        "start_time": "2022-04-12T08:43:30.354Z"
      },
      {
        "duration": 8,
        "start_time": "2022-04-12T08:43:30.362Z"
      },
      {
        "duration": 14,
        "start_time": "2022-04-12T08:44:13.642Z"
      },
      {
        "duration": 23,
        "start_time": "2022-04-12T08:44:13.660Z"
      },
      {
        "duration": 1916,
        "start_time": "2022-04-12T08:44:13.690Z"
      },
      {
        "duration": 94,
        "start_time": "2022-04-12T08:44:15.611Z"
      },
      {
        "duration": 12,
        "start_time": "2022-04-12T08:44:15.775Z"
      },
      {
        "duration": 21,
        "start_time": "2022-04-12T08:44:15.790Z"
      },
      {
        "duration": 13,
        "start_time": "2022-04-12T08:44:15.813Z"
      },
      {
        "duration": 18,
        "start_time": "2022-04-12T08:44:15.828Z"
      },
      {
        "duration": 16,
        "start_time": "2022-04-12T08:44:15.848Z"
      },
      {
        "duration": 8,
        "start_time": "2022-04-12T08:44:15.868Z"
      },
      {
        "duration": 3,
        "start_time": "2022-04-12T08:46:10.684Z"
      },
      {
        "duration": 5,
        "start_time": "2022-04-12T08:46:10.697Z"
      },
      {
        "duration": 1192,
        "start_time": "2022-04-12T08:46:10.706Z"
      },
      {
        "duration": 81,
        "start_time": "2022-04-12T08:46:11.903Z"
      },
      {
        "duration": 114,
        "start_time": "2022-04-12T08:46:11.992Z"
      },
      {
        "duration": 7,
        "start_time": "2022-04-12T08:46:12.109Z"
      },
      {
        "duration": 9,
        "start_time": "2022-04-12T08:46:12.119Z"
      },
      {
        "duration": 7,
        "start_time": "2022-04-12T08:46:12.130Z"
      },
      {
        "duration": 6,
        "start_time": "2022-04-12T08:46:12.139Z"
      },
      {
        "duration": 6,
        "start_time": "2022-04-12T08:46:12.147Z"
      },
      {
        "duration": 14009,
        "start_time": "2022-04-12T08:49:40.530Z"
      },
      {
        "duration": 129,
        "start_time": "2022-04-12T09:01:25.621Z"
      },
      {
        "duration": 2145,
        "start_time": "2022-04-12T09:02:44.607Z"
      },
      {
        "duration": 878,
        "start_time": "2022-04-12T09:02:46.755Z"
      },
      {
        "duration": 4,
        "start_time": "2022-04-12T09:02:47.635Z"
      },
      {
        "duration": 62,
        "start_time": "2022-04-12T09:02:47.642Z"
      },
      {
        "duration": 31,
        "start_time": "2022-04-12T09:02:47.707Z"
      },
      {
        "duration": 76,
        "start_time": "2022-04-12T09:02:47.740Z"
      },
      {
        "duration": 12,
        "start_time": "2022-04-12T09:02:47.818Z"
      },
      {
        "duration": 7,
        "start_time": "2022-04-12T09:02:47.832Z"
      },
      {
        "duration": 9,
        "start_time": "2022-04-12T09:02:47.841Z"
      },
      {
        "duration": 37,
        "start_time": "2022-04-12T09:02:47.855Z"
      },
      {
        "duration": 24,
        "start_time": "2022-04-12T09:02:47.895Z"
      },
      {
        "duration": 40,
        "start_time": "2022-04-12T09:02:47.922Z"
      },
      {
        "duration": 24,
        "start_time": "2022-04-12T09:02:47.965Z"
      },
      {
        "duration": 24,
        "start_time": "2022-04-12T09:02:47.991Z"
      },
      {
        "duration": 16,
        "start_time": "2022-04-12T09:02:48.017Z"
      },
      {
        "duration": 8,
        "start_time": "2022-04-12T09:02:48.036Z"
      },
      {
        "duration": 7,
        "start_time": "2022-04-12T09:02:48.047Z"
      },
      {
        "duration": 39,
        "start_time": "2022-04-12T09:02:48.057Z"
      },
      {
        "duration": 7,
        "start_time": "2022-04-12T09:02:48.099Z"
      },
      {
        "duration": 9,
        "start_time": "2022-04-12T09:02:48.109Z"
      },
      {
        "duration": 20,
        "start_time": "2022-04-12T09:02:48.120Z"
      },
      {
        "duration": 49,
        "start_time": "2022-04-12T09:02:48.143Z"
      },
      {
        "duration": 3278,
        "start_time": "2022-04-12T09:02:48.194Z"
      },
      {
        "duration": 4515,
        "start_time": "2022-04-12T09:02:51.477Z"
      },
      {
        "duration": 595,
        "start_time": "2022-04-12T09:02:55.995Z"
      },
      {
        "duration": 11,
        "start_time": "2022-04-12T09:02:56.593Z"
      },
      {
        "duration": 61,
        "start_time": "2022-04-12T09:02:56.606Z"
      },
      {
        "duration": 4742,
        "start_time": "2022-04-12T09:02:56.677Z"
      },
      {
        "duration": 18,
        "start_time": "2022-04-12T09:03:01.421Z"
      },
      {
        "duration": 23,
        "start_time": "2022-04-12T09:03:01.441Z"
      },
      {
        "duration": 40,
        "start_time": "2022-04-12T09:03:01.466Z"
      },
      {
        "duration": 14,
        "start_time": "2022-04-12T09:03:01.508Z"
      },
      {
        "duration": 39,
        "start_time": "2022-04-12T09:03:01.524Z"
      },
      {
        "duration": 18,
        "start_time": "2022-04-12T09:03:01.565Z"
      },
      {
        "duration": 214,
        "start_time": "2022-04-12T09:03:01.588Z"
      },
      {
        "duration": 0,
        "start_time": "2022-04-12T09:03:01.806Z"
      },
      {
        "duration": 0,
        "start_time": "2022-04-12T09:03:01.808Z"
      },
      {
        "duration": 0,
        "start_time": "2022-04-12T09:03:01.809Z"
      },
      {
        "duration": 0,
        "start_time": "2022-04-12T09:03:01.811Z"
      },
      {
        "duration": 0,
        "start_time": "2022-04-12T09:03:01.813Z"
      },
      {
        "duration": 0,
        "start_time": "2022-04-12T09:03:01.815Z"
      },
      {
        "duration": 0,
        "start_time": "2022-04-12T09:03:01.816Z"
      },
      {
        "duration": 0,
        "start_time": "2022-04-12T09:03:01.818Z"
      },
      {
        "duration": 0,
        "start_time": "2022-04-12T09:03:01.819Z"
      },
      {
        "duration": 0,
        "start_time": "2022-04-12T09:03:01.821Z"
      },
      {
        "duration": 0,
        "start_time": "2022-04-12T09:03:01.822Z"
      },
      {
        "duration": 0,
        "start_time": "2022-04-12T09:03:01.824Z"
      },
      {
        "duration": 0,
        "start_time": "2022-04-12T09:03:01.825Z"
      },
      {
        "duration": 0,
        "start_time": "2022-04-12T09:03:01.826Z"
      },
      {
        "duration": 0,
        "start_time": "2022-04-12T09:03:01.827Z"
      },
      {
        "duration": 0,
        "start_time": "2022-04-12T09:03:01.828Z"
      },
      {
        "duration": 0,
        "start_time": "2022-04-12T09:03:01.829Z"
      },
      {
        "duration": 2316,
        "start_time": "2022-04-12T09:04:23.935Z"
      },
      {
        "duration": 868,
        "start_time": "2022-04-12T09:04:26.254Z"
      },
      {
        "duration": 4,
        "start_time": "2022-04-12T09:04:27.125Z"
      },
      {
        "duration": 75,
        "start_time": "2022-04-12T09:04:27.132Z"
      },
      {
        "duration": 33,
        "start_time": "2022-04-12T09:04:27.210Z"
      },
      {
        "duration": 73,
        "start_time": "2022-04-12T09:04:27.246Z"
      },
      {
        "duration": 14,
        "start_time": "2022-04-12T09:04:27.321Z"
      },
      {
        "duration": 6,
        "start_time": "2022-04-12T09:04:27.337Z"
      },
      {
        "duration": 36,
        "start_time": "2022-04-12T09:04:27.345Z"
      },
      {
        "duration": 36,
        "start_time": "2022-04-12T09:04:27.386Z"
      },
      {
        "duration": 17,
        "start_time": "2022-04-12T09:04:27.424Z"
      },
      {
        "duration": 59,
        "start_time": "2022-04-12T09:04:27.443Z"
      },
      {
        "duration": 19,
        "start_time": "2022-04-12T09:04:27.504Z"
      },
      {
        "duration": 7,
        "start_time": "2022-04-12T09:04:27.529Z"
      },
      {
        "duration": 20,
        "start_time": "2022-04-12T09:04:27.538Z"
      },
      {
        "duration": 26,
        "start_time": "2022-04-12T09:04:27.561Z"
      },
      {
        "duration": 28,
        "start_time": "2022-04-12T09:04:27.591Z"
      },
      {
        "duration": 26,
        "start_time": "2022-04-12T09:04:27.621Z"
      },
      {
        "duration": 4,
        "start_time": "2022-04-12T09:04:27.650Z"
      },
      {
        "duration": 25,
        "start_time": "2022-04-12T09:04:27.657Z"
      },
      {
        "duration": 37,
        "start_time": "2022-04-12T09:04:27.686Z"
      },
      {
        "duration": 25,
        "start_time": "2022-04-12T09:04:27.725Z"
      },
      {
        "duration": 3532,
        "start_time": "2022-04-12T09:04:27.752Z"
      },
      {
        "duration": 4620,
        "start_time": "2022-04-12T09:04:31.287Z"
      },
      {
        "duration": 594,
        "start_time": "2022-04-12T09:04:35.910Z"
      },
      {
        "duration": 7,
        "start_time": "2022-04-12T09:04:36.506Z"
      },
      {
        "duration": 89,
        "start_time": "2022-04-12T09:04:36.516Z"
      },
      {
        "duration": 5296,
        "start_time": "2022-04-12T09:04:36.611Z"
      },
      {
        "duration": 18,
        "start_time": "2022-04-12T09:04:41.909Z"
      },
      {
        "duration": 19,
        "start_time": "2022-04-12T09:04:41.930Z"
      },
      {
        "duration": 18,
        "start_time": "2022-04-12T09:04:41.951Z"
      },
      {
        "duration": 63,
        "start_time": "2022-04-12T09:04:41.972Z"
      },
      {
        "duration": 68,
        "start_time": "2022-04-12T09:04:42.037Z"
      },
      {
        "duration": 14,
        "start_time": "2022-04-12T09:04:42.107Z"
      },
      {
        "duration": 6781,
        "start_time": "2022-04-12T09:04:42.123Z"
      },
      {
        "duration": 2588,
        "start_time": "2022-04-12T09:04:48.906Z"
      },
      {
        "duration": 73,
        "start_time": "2022-04-12T09:04:51.515Z"
      },
      {
        "duration": 21,
        "start_time": "2022-04-12T09:04:51.595Z"
      },
      {
        "duration": 2409,
        "start_time": "2022-04-12T09:04:51.618Z"
      },
      {
        "duration": 4,
        "start_time": "2022-04-12T09:04:54.030Z"
      },
      {
        "duration": 10,
        "start_time": "2022-04-12T09:04:54.037Z"
      },
      {
        "duration": 26,
        "start_time": "2022-04-12T09:04:54.049Z"
      },
      {
        "duration": 9,
        "start_time": "2022-04-12T09:04:54.081Z"
      },
      {
        "duration": 19,
        "start_time": "2022-04-12T09:04:54.093Z"
      },
      {
        "duration": 16165,
        "start_time": "2022-04-12T09:04:54.115Z"
      },
      {
        "duration": 6,
        "start_time": "2022-04-12T09:05:10.284Z"
      },
      {
        "duration": 23,
        "start_time": "2022-04-12T09:05:10.295Z"
      },
      {
        "duration": 8,
        "start_time": "2022-04-12T09:05:10.320Z"
      },
      {
        "duration": 189,
        "start_time": "2022-04-12T09:05:10.330Z"
      },
      {
        "duration": 0,
        "start_time": "2022-04-12T09:05:10.521Z"
      },
      {
        "duration": 0,
        "start_time": "2022-04-12T09:05:10.523Z"
      },
      {
        "duration": 0,
        "start_time": "2022-04-12T09:05:10.525Z"
      },
      {
        "duration": 2206,
        "start_time": "2022-04-12T09:09:41.056Z"
      },
      {
        "duration": 877,
        "start_time": "2022-04-12T09:09:43.265Z"
      },
      {
        "duration": 4,
        "start_time": "2022-04-12T09:09:44.145Z"
      },
      {
        "duration": 62,
        "start_time": "2022-04-12T09:09:44.153Z"
      },
      {
        "duration": 31,
        "start_time": "2022-04-12T09:09:44.217Z"
      },
      {
        "duration": 45,
        "start_time": "2022-04-12T09:09:44.280Z"
      },
      {
        "duration": 11,
        "start_time": "2022-04-12T09:09:44.327Z"
      },
      {
        "duration": 4,
        "start_time": "2022-04-12T09:09:44.340Z"
      },
      {
        "duration": 30,
        "start_time": "2022-04-12T09:09:44.346Z"
      },
      {
        "duration": 16,
        "start_time": "2022-04-12T09:09:44.380Z"
      },
      {
        "duration": 9,
        "start_time": "2022-04-12T09:09:44.400Z"
      },
      {
        "duration": 38,
        "start_time": "2022-04-12T09:09:44.414Z"
      },
      {
        "duration": 31,
        "start_time": "2022-04-12T09:09:44.455Z"
      },
      {
        "duration": 25,
        "start_time": "2022-04-12T09:09:44.492Z"
      },
      {
        "duration": 26,
        "start_time": "2022-04-12T09:09:44.519Z"
      },
      {
        "duration": 8,
        "start_time": "2022-04-12T09:09:44.547Z"
      },
      {
        "duration": 9,
        "start_time": "2022-04-12T09:09:44.557Z"
      },
      {
        "duration": 30,
        "start_time": "2022-04-12T09:09:44.568Z"
      },
      {
        "duration": 12,
        "start_time": "2022-04-12T09:09:44.601Z"
      },
      {
        "duration": 13,
        "start_time": "2022-04-12T09:09:44.615Z"
      },
      {
        "duration": 19,
        "start_time": "2022-04-12T09:09:44.630Z"
      },
      {
        "duration": 33,
        "start_time": "2022-04-12T09:09:44.652Z"
      },
      {
        "duration": 3381,
        "start_time": "2022-04-12T09:09:44.688Z"
      },
      {
        "duration": 4235,
        "start_time": "2022-04-12T09:09:48.071Z"
      },
      {
        "duration": 710,
        "start_time": "2022-04-12T09:09:52.307Z"
      },
      {
        "duration": 9,
        "start_time": "2022-04-12T09:09:53.020Z"
      },
      {
        "duration": 88,
        "start_time": "2022-04-12T09:09:53.031Z"
      },
      {
        "duration": 4687,
        "start_time": "2022-04-12T09:09:53.127Z"
      },
      {
        "duration": 18,
        "start_time": "2022-04-12T09:09:57.816Z"
      },
      {
        "duration": 7,
        "start_time": "2022-04-12T09:09:57.836Z"
      },
      {
        "duration": 8,
        "start_time": "2022-04-12T09:09:57.845Z"
      },
      {
        "duration": 11,
        "start_time": "2022-04-12T09:09:57.855Z"
      },
      {
        "duration": 29,
        "start_time": "2022-04-12T09:09:57.868Z"
      },
      {
        "duration": 4,
        "start_time": "2022-04-12T09:09:57.903Z"
      },
      {
        "duration": 7225,
        "start_time": "2022-04-12T09:09:57.912Z"
      },
      {
        "duration": 3761,
        "start_time": "2022-04-12T09:10:05.139Z"
      },
      {
        "duration": 6,
        "start_time": "2022-04-12T09:10:08.914Z"
      },
      {
        "duration": 50,
        "start_time": "2022-04-12T09:10:08.927Z"
      },
      {
        "duration": 2491,
        "start_time": "2022-04-12T09:10:08.983Z"
      },
      {
        "duration": 4,
        "start_time": "2022-04-12T09:10:11.476Z"
      },
      {
        "duration": 38,
        "start_time": "2022-04-12T09:10:11.482Z"
      },
      {
        "duration": 9,
        "start_time": "2022-04-12T09:10:11.523Z"
      },
      {
        "duration": 6,
        "start_time": "2022-04-12T09:10:11.535Z"
      },
      {
        "duration": 9,
        "start_time": "2022-04-12T09:10:11.543Z"
      },
      {
        "duration": 15602,
        "start_time": "2022-04-12T09:10:11.554Z"
      },
      {
        "duration": 6,
        "start_time": "2022-04-12T09:10:27.158Z"
      },
      {
        "duration": 26,
        "start_time": "2022-04-12T09:10:27.180Z"
      },
      {
        "duration": 10,
        "start_time": "2022-04-12T09:10:27.208Z"
      },
      {
        "duration": 190,
        "start_time": "2022-04-12T09:10:27.221Z"
      },
      {
        "duration": 0,
        "start_time": "2022-04-12T09:10:27.415Z"
      },
      {
        "duration": 0,
        "start_time": "2022-04-12T09:10:27.417Z"
      },
      {
        "duration": 0,
        "start_time": "2022-04-12T09:10:27.420Z"
      },
      {
        "duration": 7,
        "start_time": "2022-04-12T09:11:32.797Z"
      },
      {
        "duration": 6,
        "start_time": "2022-04-12T09:11:38.306Z"
      },
      {
        "duration": 513,
        "start_time": "2022-04-12T09:11:38.315Z"
      },
      {
        "duration": 0,
        "start_time": "2022-04-12T09:11:38.830Z"
      },
      {
        "duration": 0,
        "start_time": "2022-04-12T09:11:38.832Z"
      },
      {
        "duration": 14115,
        "start_time": "2022-04-12T09:16:44.068Z"
      },
      {
        "duration": 14829,
        "start_time": "2022-04-12T09:17:04.907Z"
      },
      {
        "duration": 7,
        "start_time": "2022-04-12T09:17:19.739Z"
      },
      {
        "duration": 9,
        "start_time": "2022-04-12T09:17:19.748Z"
      },
      {
        "duration": 13,
        "start_time": "2022-04-12T09:17:19.774Z"
      },
      {
        "duration": 22,
        "start_time": "2022-04-12T09:17:19.790Z"
      },
      {
        "duration": 534,
        "start_time": "2022-04-12T09:17:19.815Z"
      },
      {
        "duration": 0,
        "start_time": "2022-04-12T09:17:20.352Z"
      },
      {
        "duration": 0,
        "start_time": "2022-04-12T09:17:20.354Z"
      },
      {
        "duration": 14,
        "start_time": "2022-04-12T09:18:18.195Z"
      },
      {
        "duration": 8,
        "start_time": "2022-04-12T09:18:21.707Z"
      },
      {
        "duration": 6,
        "start_time": "2022-04-12T09:18:25.758Z"
      },
      {
        "duration": 875,
        "start_time": "2022-04-12T09:18:25.767Z"
      },
      {
        "duration": 4,
        "start_time": "2022-04-12T09:18:26.644Z"
      },
      {
        "duration": 65,
        "start_time": "2022-04-12T09:18:26.651Z"
      },
      {
        "duration": 65,
        "start_time": "2022-04-12T09:18:26.719Z"
      },
      {
        "duration": 43,
        "start_time": "2022-04-12T09:18:26.787Z"
      },
      {
        "duration": 7,
        "start_time": "2022-04-12T09:18:26.833Z"
      },
      {
        "duration": 7,
        "start_time": "2022-04-12T09:18:26.843Z"
      },
      {
        "duration": 26,
        "start_time": "2022-04-12T09:18:26.854Z"
      },
      {
        "duration": 20,
        "start_time": "2022-04-12T09:18:26.886Z"
      },
      {
        "duration": 7,
        "start_time": "2022-04-12T09:18:26.909Z"
      },
      {
        "duration": 35,
        "start_time": "2022-04-12T09:18:26.918Z"
      },
      {
        "duration": 39,
        "start_time": "2022-04-12T09:18:26.955Z"
      },
      {
        "duration": 19,
        "start_time": "2022-04-12T09:18:26.996Z"
      },
      {
        "duration": 16,
        "start_time": "2022-04-12T09:18:27.018Z"
      },
      {
        "duration": 10,
        "start_time": "2022-04-12T09:18:27.036Z"
      },
      {
        "duration": 10,
        "start_time": "2022-04-12T09:18:27.049Z"
      },
      {
        "duration": 54,
        "start_time": "2022-04-12T09:18:27.061Z"
      },
      {
        "duration": 5,
        "start_time": "2022-04-12T09:18:27.117Z"
      },
      {
        "duration": 6,
        "start_time": "2022-04-12T09:18:27.125Z"
      },
      {
        "duration": 19,
        "start_time": "2022-04-12T09:18:27.134Z"
      },
      {
        "duration": 34,
        "start_time": "2022-04-12T09:18:27.155Z"
      },
      {
        "duration": 3430,
        "start_time": "2022-04-12T09:18:27.193Z"
      },
      {
        "duration": 4703,
        "start_time": "2022-04-12T09:18:30.630Z"
      },
      {
        "duration": 565,
        "start_time": "2022-04-12T09:18:35.335Z"
      },
      {
        "duration": 6,
        "start_time": "2022-04-12T09:18:35.903Z"
      },
      {
        "duration": 70,
        "start_time": "2022-04-12T09:18:35.912Z"
      },
      {
        "duration": 4654,
        "start_time": "2022-04-12T09:18:35.988Z"
      },
      {
        "duration": 29,
        "start_time": "2022-04-12T09:18:40.645Z"
      },
      {
        "duration": 7,
        "start_time": "2022-04-12T09:18:40.676Z"
      },
      {
        "duration": 27,
        "start_time": "2022-04-12T09:18:40.688Z"
      },
      {
        "duration": 10,
        "start_time": "2022-04-12T09:18:40.717Z"
      },
      {
        "duration": 30,
        "start_time": "2022-04-12T09:18:40.730Z"
      },
      {
        "duration": 4,
        "start_time": "2022-04-12T09:18:40.763Z"
      },
      {
        "duration": 8947,
        "start_time": "2022-04-12T09:18:40.770Z"
      },
      {
        "duration": 3965,
        "start_time": "2022-04-12T09:18:49.720Z"
      },
      {
        "duration": 7,
        "start_time": "2022-04-12T09:18:53.688Z"
      },
      {
        "duration": 107,
        "start_time": "2022-04-12T09:18:53.701Z"
      },
      {
        "duration": 2405,
        "start_time": "2022-04-12T09:18:53.811Z"
      },
      {
        "duration": 3,
        "start_time": "2022-04-12T09:18:56.218Z"
      },
      {
        "duration": 12,
        "start_time": "2022-04-12T09:18:56.224Z"
      },
      {
        "duration": 8,
        "start_time": "2022-04-12T09:18:56.239Z"
      },
      {
        "duration": 6,
        "start_time": "2022-04-12T09:18:56.250Z"
      },
      {
        "duration": 18,
        "start_time": "2022-04-12T09:18:56.287Z"
      },
      {
        "duration": 14423,
        "start_time": "2022-04-12T09:18:56.307Z"
      },
      {
        "duration": 6,
        "start_time": "2022-04-12T09:19:10.733Z"
      },
      {
        "duration": 28,
        "start_time": "2022-04-12T09:19:10.741Z"
      },
      {
        "duration": 17,
        "start_time": "2022-04-12T09:19:10.771Z"
      },
      {
        "duration": 26,
        "start_time": "2022-04-12T09:19:10.792Z"
      },
      {
        "duration": 15,
        "start_time": "2022-04-12T09:19:10.821Z"
      },
      {
        "duration": 6,
        "start_time": "2022-04-12T09:19:10.839Z"
      },
      {
        "duration": 5,
        "start_time": "2022-04-12T09:19:10.847Z"
      },
      {
        "duration": 2235,
        "start_time": "2022-04-12T09:19:35.803Z"
      },
      {
        "duration": 928,
        "start_time": "2022-04-12T09:19:38.041Z"
      },
      {
        "duration": 5,
        "start_time": "2022-04-12T09:19:38.973Z"
      },
      {
        "duration": 66,
        "start_time": "2022-04-12T09:19:38.983Z"
      },
      {
        "duration": 47,
        "start_time": "2022-04-12T09:19:39.051Z"
      },
      {
        "duration": 40,
        "start_time": "2022-04-12T09:19:39.100Z"
      },
      {
        "duration": 15,
        "start_time": "2022-04-12T09:19:39.143Z"
      },
      {
        "duration": 9,
        "start_time": "2022-04-12T09:19:39.177Z"
      },
      {
        "duration": 7,
        "start_time": "2022-04-12T09:19:39.189Z"
      },
      {
        "duration": 13,
        "start_time": "2022-04-12T09:19:39.202Z"
      },
      {
        "duration": 11,
        "start_time": "2022-04-12T09:19:39.217Z"
      },
      {
        "duration": 68,
        "start_time": "2022-04-12T09:19:39.231Z"
      },
      {
        "duration": 10,
        "start_time": "2022-04-12T09:19:39.306Z"
      },
      {
        "duration": 8,
        "start_time": "2022-04-12T09:19:39.318Z"
      },
      {
        "duration": 18,
        "start_time": "2022-04-12T09:19:39.328Z"
      },
      {
        "duration": 30,
        "start_time": "2022-04-12T09:19:39.348Z"
      },
      {
        "duration": 11,
        "start_time": "2022-04-12T09:19:39.381Z"
      },
      {
        "duration": 39,
        "start_time": "2022-04-12T09:19:39.399Z"
      },
      {
        "duration": 4,
        "start_time": "2022-04-12T09:19:39.441Z"
      },
      {
        "duration": 8,
        "start_time": "2022-04-12T09:19:39.447Z"
      },
      {
        "duration": 32,
        "start_time": "2022-04-12T09:19:39.491Z"
      },
      {
        "duration": 30,
        "start_time": "2022-04-12T09:19:39.526Z"
      },
      {
        "duration": 3401,
        "start_time": "2022-04-12T09:19:39.559Z"
      },
      {
        "duration": 4222,
        "start_time": "2022-04-12T09:19:42.963Z"
      },
      {
        "duration": 598,
        "start_time": "2022-04-12T09:19:47.187Z"
      },
      {
        "duration": 6,
        "start_time": "2022-04-12T09:19:47.788Z"
      },
      {
        "duration": 85,
        "start_time": "2022-04-12T09:19:47.796Z"
      },
      {
        "duration": 4618,
        "start_time": "2022-04-12T09:19:47.889Z"
      },
      {
        "duration": 17,
        "start_time": "2022-04-12T09:19:52.510Z"
      },
      {
        "duration": 5,
        "start_time": "2022-04-12T09:19:52.529Z"
      },
      {
        "duration": 12,
        "start_time": "2022-04-12T09:19:52.537Z"
      },
      {
        "duration": 11,
        "start_time": "2022-04-12T09:19:52.551Z"
      },
      {
        "duration": 29,
        "start_time": "2022-04-12T09:19:52.565Z"
      },
      {
        "duration": 16,
        "start_time": "2022-04-12T09:19:52.597Z"
      },
      {
        "duration": 8912,
        "start_time": "2022-04-12T09:19:52.616Z"
      },
      {
        "duration": 4481,
        "start_time": "2022-04-12T09:20:01.531Z"
      },
      {
        "duration": 71,
        "start_time": "2022-04-12T09:20:06.015Z"
      },
      {
        "duration": 13,
        "start_time": "2022-04-12T09:20:06.094Z"
      },
      {
        "duration": 2667,
        "start_time": "2022-04-12T09:20:06.113Z"
      },
      {
        "duration": 10,
        "start_time": "2022-04-12T09:20:08.784Z"
      },
      {
        "duration": 13,
        "start_time": "2022-04-12T09:20:08.797Z"
      },
      {
        "duration": 8,
        "start_time": "2022-04-12T09:20:08.812Z"
      },
      {
        "duration": 6,
        "start_time": "2022-04-12T09:20:08.822Z"
      },
      {
        "duration": 6,
        "start_time": "2022-04-12T09:20:08.830Z"
      },
      {
        "duration": 14314,
        "start_time": "2022-04-12T09:20:08.839Z"
      },
      {
        "duration": 7,
        "start_time": "2022-04-12T09:20:23.156Z"
      },
      {
        "duration": 37,
        "start_time": "2022-04-12T09:20:23.174Z"
      },
      {
        "duration": 9,
        "start_time": "2022-04-12T09:20:23.213Z"
      },
      {
        "duration": 11,
        "start_time": "2022-04-12T09:20:23.224Z"
      },
      {
        "duration": 17,
        "start_time": "2022-04-12T09:20:23.237Z"
      },
      {
        "duration": 8,
        "start_time": "2022-04-12T09:20:23.256Z"
      },
      {
        "duration": 5,
        "start_time": "2022-04-12T09:20:23.266Z"
      },
      {
        "duration": 2403,
        "start_time": "2022-04-13T12:28:07.476Z"
      },
      {
        "duration": 807,
        "start_time": "2022-04-13T12:28:09.881Z"
      },
      {
        "duration": 3,
        "start_time": "2022-04-13T12:28:10.690Z"
      },
      {
        "duration": 45,
        "start_time": "2022-04-13T12:28:10.695Z"
      },
      {
        "duration": 30,
        "start_time": "2022-04-13T12:28:10.744Z"
      },
      {
        "duration": 26,
        "start_time": "2022-04-13T12:28:10.776Z"
      },
      {
        "duration": 13,
        "start_time": "2022-04-13T12:28:10.824Z"
      },
      {
        "duration": 12,
        "start_time": "2022-04-13T12:28:10.841Z"
      },
      {
        "duration": 7,
        "start_time": "2022-04-13T12:28:10.855Z"
      },
      {
        "duration": 25,
        "start_time": "2022-04-13T12:28:10.866Z"
      },
      {
        "duration": 5,
        "start_time": "2022-04-13T12:28:10.893Z"
      },
      {
        "duration": 35,
        "start_time": "2022-04-13T12:28:10.899Z"
      },
      {
        "duration": 9,
        "start_time": "2022-04-13T12:28:10.936Z"
      },
      {
        "duration": 5,
        "start_time": "2022-04-13T12:28:10.947Z"
      },
      {
        "duration": 24,
        "start_time": "2022-04-13T12:28:10.953Z"
      },
      {
        "duration": 7,
        "start_time": "2022-04-13T12:28:10.979Z"
      },
      {
        "duration": 9,
        "start_time": "2022-04-13T12:28:10.988Z"
      },
      {
        "duration": 21,
        "start_time": "2022-04-13T12:28:11.025Z"
      },
      {
        "duration": 4,
        "start_time": "2022-04-13T12:28:11.048Z"
      },
      {
        "duration": 8,
        "start_time": "2022-04-13T12:28:11.054Z"
      },
      {
        "duration": 17,
        "start_time": "2022-04-13T12:28:11.064Z"
      },
      {
        "duration": 21,
        "start_time": "2022-04-13T12:28:11.083Z"
      },
      {
        "duration": 2903,
        "start_time": "2022-04-13T12:28:11.106Z"
      },
      {
        "duration": 3567,
        "start_time": "2022-04-13T12:28:14.012Z"
      },
      {
        "duration": 569,
        "start_time": "2022-04-13T12:28:17.581Z"
      },
      {
        "duration": 10,
        "start_time": "2022-04-13T12:28:18.152Z"
      },
      {
        "duration": 63,
        "start_time": "2022-04-13T12:28:18.164Z"
      },
      {
        "duration": 3279,
        "start_time": "2022-04-13T12:28:18.232Z"
      },
      {
        "duration": 42,
        "start_time": "2022-04-13T12:28:21.513Z"
      },
      {
        "duration": 6,
        "start_time": "2022-04-13T12:28:21.557Z"
      },
      {
        "duration": 15,
        "start_time": "2022-04-13T12:28:21.568Z"
      },
      {
        "duration": 12,
        "start_time": "2022-04-13T12:28:21.585Z"
      },
      {
        "duration": 44,
        "start_time": "2022-04-13T12:28:21.599Z"
      },
      {
        "duration": 6,
        "start_time": "2022-04-13T12:28:21.645Z"
      },
      {
        "duration": 5598,
        "start_time": "2022-04-13T12:28:21.654Z"
      },
      {
        "duration": 2998,
        "start_time": "2022-04-13T12:28:27.254Z"
      },
      {
        "duration": 6,
        "start_time": "2022-04-13T12:28:30.259Z"
      },
      {
        "duration": 59,
        "start_time": "2022-04-13T12:28:30.268Z"
      },
      {
        "duration": 566,
        "start_time": "2022-04-13T12:28:30.329Z"
      },
      {
        "duration": 0,
        "start_time": "2022-04-13T12:28:30.897Z"
      },
      {
        "duration": 0,
        "start_time": "2022-04-13T12:28:30.898Z"
      },
      {
        "duration": 0,
        "start_time": "2022-04-13T12:28:30.899Z"
      },
      {
        "duration": 0,
        "start_time": "2022-04-13T12:28:30.900Z"
      },
      {
        "duration": 0,
        "start_time": "2022-04-13T12:28:30.901Z"
      },
      {
        "duration": 0,
        "start_time": "2022-04-13T12:28:30.903Z"
      },
      {
        "duration": 0,
        "start_time": "2022-04-13T12:28:30.904Z"
      },
      {
        "duration": 0,
        "start_time": "2022-04-13T12:28:30.922Z"
      },
      {
        "duration": 0,
        "start_time": "2022-04-13T12:28:30.923Z"
      },
      {
        "duration": 0,
        "start_time": "2022-04-13T12:28:30.924Z"
      },
      {
        "duration": 0,
        "start_time": "2022-04-13T12:28:30.925Z"
      },
      {
        "duration": 1,
        "start_time": "2022-04-13T12:28:30.925Z"
      },
      {
        "duration": 0,
        "start_time": "2022-04-13T12:28:30.927Z"
      },
      {
        "duration": 0,
        "start_time": "2022-04-13T13:15:36.436Z"
      },
      {
        "duration": 18717,
        "start_time": "2022-04-13T13:15:42.788Z"
      },
      {
        "duration": 41214,
        "start_time": "2022-04-13T13:16:28.780Z"
      },
      {
        "duration": 1990,
        "start_time": "2022-04-13T13:17:59.971Z"
      },
      {
        "duration": 5,
        "start_time": "2022-04-13T13:31:17.892Z"
      },
      {
        "duration": 748,
        "start_time": "2022-04-13T13:31:17.899Z"
      },
      {
        "duration": 5,
        "start_time": "2022-04-13T13:31:18.649Z"
      },
      {
        "duration": 26,
        "start_time": "2022-04-13T13:31:18.655Z"
      },
      {
        "duration": 20,
        "start_time": "2022-04-13T13:31:18.683Z"
      },
      {
        "duration": 50,
        "start_time": "2022-04-13T13:31:18.704Z"
      },
      {
        "duration": 6,
        "start_time": "2022-04-13T13:31:18.756Z"
      },
      {
        "duration": 4,
        "start_time": "2022-04-13T13:31:18.764Z"
      },
      {
        "duration": 9,
        "start_time": "2022-04-13T13:31:18.769Z"
      },
      {
        "duration": 5,
        "start_time": "2022-04-13T13:31:18.779Z"
      },
      {
        "duration": 3,
        "start_time": "2022-04-13T13:31:18.786Z"
      },
      {
        "duration": 54,
        "start_time": "2022-04-13T13:31:18.791Z"
      },
      {
        "duration": 8,
        "start_time": "2022-04-13T13:31:18.847Z"
      },
      {
        "duration": 7,
        "start_time": "2022-04-13T13:31:18.857Z"
      },
      {
        "duration": 12,
        "start_time": "2022-04-13T13:31:18.866Z"
      },
      {
        "duration": 6,
        "start_time": "2022-04-13T13:31:18.880Z"
      },
      {
        "duration": 8,
        "start_time": "2022-04-13T13:31:18.889Z"
      },
      {
        "duration": 38,
        "start_time": "2022-04-13T13:31:18.899Z"
      },
      {
        "duration": 19,
        "start_time": "2022-04-13T13:31:18.938Z"
      },
      {
        "duration": 5,
        "start_time": "2022-04-13T13:31:18.959Z"
      },
      {
        "duration": 23,
        "start_time": "2022-04-13T13:31:18.966Z"
      },
      {
        "duration": 21,
        "start_time": "2022-04-13T13:31:18.992Z"
      },
      {
        "duration": 2783,
        "start_time": "2022-04-13T13:31:19.014Z"
      },
      {
        "duration": 3411,
        "start_time": "2022-04-13T13:31:21.799Z"
      },
      {
        "duration": 402,
        "start_time": "2022-04-13T13:31:25.211Z"
      },
      {
        "duration": 11,
        "start_time": "2022-04-13T13:31:25.615Z"
      },
      {
        "duration": 40,
        "start_time": "2022-04-13T13:31:25.628Z"
      },
      {
        "duration": 2972,
        "start_time": "2022-04-13T13:31:25.670Z"
      },
      {
        "duration": 9,
        "start_time": "2022-04-13T13:31:28.647Z"
      },
      {
        "duration": 7,
        "start_time": "2022-04-13T13:31:28.658Z"
      },
      {
        "duration": 24,
        "start_time": "2022-04-13T13:31:28.667Z"
      },
      {
        "duration": 24,
        "start_time": "2022-04-13T13:31:28.693Z"
      },
      {
        "duration": 27,
        "start_time": "2022-04-13T13:31:28.719Z"
      },
      {
        "duration": 3,
        "start_time": "2022-04-13T13:31:28.748Z"
      },
      {
        "duration": 5135,
        "start_time": "2022-04-13T13:31:28.753Z"
      },
      {
        "duration": 2750,
        "start_time": "2022-04-13T13:31:33.890Z"
      },
      {
        "duration": 3,
        "start_time": "2022-04-13T13:31:36.643Z"
      },
      {
        "duration": 76,
        "start_time": "2022-04-13T13:31:36.648Z"
      },
      {
        "duration": 1987,
        "start_time": "2022-04-13T13:31:36.726Z"
      },
      {
        "duration": 2,
        "start_time": "2022-04-13T13:31:38.715Z"
      },
      {
        "duration": 19,
        "start_time": "2022-04-13T13:31:38.718Z"
      },
      {
        "duration": 20,
        "start_time": "2022-04-13T13:31:38.740Z"
      },
      {
        "duration": 8,
        "start_time": "2022-04-13T13:31:38.762Z"
      },
      {
        "duration": 7,
        "start_time": "2022-04-13T13:31:38.771Z"
      },
      {
        "duration": 8,
        "start_time": "2022-04-13T13:31:38.780Z"
      },
      {
        "duration": 10981,
        "start_time": "2022-04-13T13:31:38.790Z"
      },
      {
        "duration": 4,
        "start_time": "2022-04-13T13:31:49.772Z"
      },
      {
        "duration": 6,
        "start_time": "2022-04-13T13:31:49.778Z"
      },
      {
        "duration": 5,
        "start_time": "2022-04-13T13:31:49.785Z"
      },
      {
        "duration": 6,
        "start_time": "2022-04-13T13:31:49.791Z"
      },
      {
        "duration": 23,
        "start_time": "2022-04-13T13:31:49.799Z"
      },
      {
        "duration": 11,
        "start_time": "2022-04-13T13:31:49.824Z"
      },
      {
        "duration": 7,
        "start_time": "2022-04-13T13:31:49.837Z"
      },
      {
        "duration": 1855,
        "start_time": "2022-04-13T13:48:26.422Z"
      },
      {
        "duration": 14247,
        "start_time": "2022-04-13T13:48:44.789Z"
      },
      {
        "duration": 33504,
        "start_time": "2022-04-13T13:50:47.026Z"
      },
      {
        "duration": 388,
        "start_time": "2022-04-13T13:51:23.177Z"
      },
      {
        "duration": 492,
        "start_time": "2022-04-13T13:51:47.255Z"
      },
      {
        "duration": 7,
        "start_time": "2022-04-13T13:51:51.629Z"
      },
      {
        "duration": 0,
        "start_time": "2022-04-13T14:02:07.310Z"
      },
      {
        "duration": 8444,
        "start_time": "2022-04-13T14:02:12.930Z"
      },
      {
        "duration": 824475,
        "start_time": "2022-04-13T14:02:25.740Z"
      },
      {
        "duration": 29328,
        "start_time": "2022-04-13T14:20:12.780Z"
      },
      {
        "duration": 7,
        "start_time": "2022-04-13T14:20:54.625Z"
      },
      {
        "duration": 997,
        "start_time": "2022-04-13T14:20:54.634Z"
      },
      {
        "duration": 4,
        "start_time": "2022-04-13T14:20:55.639Z"
      },
      {
        "duration": 54,
        "start_time": "2022-04-13T14:20:55.645Z"
      },
      {
        "duration": 34,
        "start_time": "2022-04-13T14:20:55.701Z"
      },
      {
        "duration": 45,
        "start_time": "2022-04-13T14:20:55.737Z"
      },
      {
        "duration": 8,
        "start_time": "2022-04-13T14:20:55.785Z"
      },
      {
        "duration": 28,
        "start_time": "2022-04-13T14:20:55.795Z"
      },
      {
        "duration": 27,
        "start_time": "2022-04-13T14:20:55.826Z"
      },
      {
        "duration": 6,
        "start_time": "2022-04-13T14:20:55.864Z"
      },
      {
        "duration": 13,
        "start_time": "2022-04-13T14:20:55.871Z"
      },
      {
        "duration": 46,
        "start_time": "2022-04-13T14:20:55.886Z"
      },
      {
        "duration": 19,
        "start_time": "2022-04-13T14:20:55.934Z"
      },
      {
        "duration": 20,
        "start_time": "2022-04-13T14:20:55.955Z"
      },
      {
        "duration": 13,
        "start_time": "2022-04-13T14:20:55.977Z"
      },
      {
        "duration": 21,
        "start_time": "2022-04-13T14:20:55.992Z"
      },
      {
        "duration": 33,
        "start_time": "2022-04-13T14:20:56.016Z"
      },
      {
        "duration": 25,
        "start_time": "2022-04-13T14:20:56.050Z"
      },
      {
        "duration": 11,
        "start_time": "2022-04-13T14:20:56.077Z"
      },
      {
        "duration": 26,
        "start_time": "2022-04-13T14:20:56.090Z"
      },
      {
        "duration": 41,
        "start_time": "2022-04-13T14:20:56.118Z"
      },
      {
        "duration": 21,
        "start_time": "2022-04-13T14:20:56.161Z"
      },
      {
        "duration": 3083,
        "start_time": "2022-04-13T14:20:56.184Z"
      },
      {
        "duration": 3298,
        "start_time": "2022-04-13T14:20:59.272Z"
      },
      {
        "duration": 534,
        "start_time": "2022-04-13T14:21:02.575Z"
      },
      {
        "duration": 20,
        "start_time": "2022-04-13T14:21:03.111Z"
      },
      {
        "duration": 46,
        "start_time": "2022-04-13T14:21:03.134Z"
      },
      {
        "duration": 3895,
        "start_time": "2022-04-13T14:21:03.182Z"
      },
      {
        "duration": 10,
        "start_time": "2022-04-13T14:21:07.078Z"
      },
      {
        "duration": 4,
        "start_time": "2022-04-13T14:21:07.089Z"
      },
      {
        "duration": 6,
        "start_time": "2022-04-13T14:21:07.095Z"
      },
      {
        "duration": 20,
        "start_time": "2022-04-13T14:21:07.103Z"
      },
      {
        "duration": 29,
        "start_time": "2022-04-13T14:21:07.135Z"
      },
      {
        "duration": 5,
        "start_time": "2022-04-13T14:21:07.166Z"
      },
      {
        "duration": 6388,
        "start_time": "2022-04-13T14:21:07.173Z"
      },
      {
        "duration": 3664,
        "start_time": "2022-04-13T14:21:13.565Z"
      },
      {
        "duration": 11,
        "start_time": "2022-04-13T14:21:17.248Z"
      },
      {
        "duration": 50,
        "start_time": "2022-04-13T14:21:17.276Z"
      },
      {
        "duration": 0,
        "start_time": "2022-04-13T14:29:03.613Z"
      },
      {
        "duration": 1,
        "start_time": "2022-04-13T14:29:03.627Z"
      },
      {
        "duration": 0,
        "start_time": "2022-04-13T14:29:03.629Z"
      },
      {
        "duration": 0,
        "start_time": "2022-04-13T14:29:03.630Z"
      },
      {
        "duration": 0,
        "start_time": "2022-04-13T14:29:03.631Z"
      },
      {
        "duration": 0,
        "start_time": "2022-04-13T14:29:03.633Z"
      },
      {
        "duration": 0,
        "start_time": "2022-04-13T14:29:03.634Z"
      },
      {
        "duration": 0,
        "start_time": "2022-04-13T14:29:03.635Z"
      },
      {
        "duration": 0,
        "start_time": "2022-04-13T14:29:03.636Z"
      },
      {
        "duration": 0,
        "start_time": "2022-04-13T14:29:03.637Z"
      },
      {
        "duration": 0,
        "start_time": "2022-04-13T14:29:03.638Z"
      },
      {
        "duration": 0,
        "start_time": "2022-04-13T14:29:03.639Z"
      },
      {
        "duration": 0,
        "start_time": "2022-04-13T14:29:03.640Z"
      },
      {
        "duration": 0,
        "start_time": "2022-04-13T14:29:03.641Z"
      },
      {
        "duration": 0,
        "start_time": "2022-04-13T14:29:03.643Z"
      },
      {
        "duration": 40338,
        "start_time": "2022-04-13T14:29:19.936Z"
      },
      {
        "duration": 52899,
        "start_time": "2022-04-13T14:32:46.296Z"
      },
      {
        "duration": 5,
        "start_time": "2022-04-13T14:33:41.405Z"
      },
      {
        "duration": 1286,
        "start_time": "2022-04-13T14:33:41.412Z"
      },
      {
        "duration": 3,
        "start_time": "2022-04-13T14:33:42.700Z"
      },
      {
        "duration": 48,
        "start_time": "2022-04-13T14:33:42.704Z"
      },
      {
        "duration": 21,
        "start_time": "2022-04-13T14:33:42.758Z"
      },
      {
        "duration": 27,
        "start_time": "2022-04-13T14:33:42.780Z"
      },
      {
        "duration": 8,
        "start_time": "2022-04-13T14:33:42.832Z"
      },
      {
        "duration": 23,
        "start_time": "2022-04-13T14:33:42.847Z"
      },
      {
        "duration": 13,
        "start_time": "2022-04-13T14:33:42.872Z"
      },
      {
        "duration": 25,
        "start_time": "2022-04-13T14:33:42.886Z"
      },
      {
        "duration": 28,
        "start_time": "2022-04-13T14:33:42.913Z"
      },
      {
        "duration": 29,
        "start_time": "2022-04-13T14:33:42.944Z"
      },
      {
        "duration": 10,
        "start_time": "2022-04-13T14:33:42.974Z"
      },
      {
        "duration": 25,
        "start_time": "2022-04-13T14:33:42.986Z"
      },
      {
        "duration": 46,
        "start_time": "2022-04-13T14:33:43.013Z"
      },
      {
        "duration": 8,
        "start_time": "2022-04-13T14:33:43.062Z"
      },
      {
        "duration": 28,
        "start_time": "2022-04-13T14:33:43.072Z"
      },
      {
        "duration": 24,
        "start_time": "2022-04-13T14:33:43.101Z"
      },
      {
        "duration": 10,
        "start_time": "2022-04-13T14:33:43.127Z"
      },
      {
        "duration": 19,
        "start_time": "2022-04-13T14:33:43.138Z"
      },
      {
        "duration": 31,
        "start_time": "2022-04-13T14:33:43.159Z"
      },
      {
        "duration": 45,
        "start_time": "2022-04-13T14:33:43.192Z"
      },
      {
        "duration": 2974,
        "start_time": "2022-04-13T14:33:43.239Z"
      },
      {
        "duration": 3731,
        "start_time": "2022-04-13T14:33:46.215Z"
      },
      {
        "duration": 511,
        "start_time": "2022-04-13T14:33:49.948Z"
      },
      {
        "duration": 7,
        "start_time": "2022-04-13T14:33:50.461Z"
      },
      {
        "duration": 36,
        "start_time": "2022-04-13T14:33:50.470Z"
      },
      {
        "duration": 3219,
        "start_time": "2022-04-13T14:33:50.507Z"
      },
      {
        "duration": 15,
        "start_time": "2022-04-13T14:33:53.731Z"
      },
      {
        "duration": 14,
        "start_time": "2022-04-13T14:33:53.748Z"
      },
      {
        "duration": 7,
        "start_time": "2022-04-13T14:33:53.764Z"
      },
      {
        "duration": 6,
        "start_time": "2022-04-13T14:33:53.773Z"
      },
      {
        "duration": 18,
        "start_time": "2022-04-13T14:33:53.781Z"
      },
      {
        "duration": 3,
        "start_time": "2022-04-13T14:33:53.801Z"
      },
      {
        "duration": 5628,
        "start_time": "2022-04-13T14:33:53.805Z"
      },
      {
        "duration": 4202,
        "start_time": "2022-04-13T14:33:59.434Z"
      },
      {
        "duration": 6,
        "start_time": "2022-04-13T14:34:03.646Z"
      },
      {
        "duration": 4,
        "start_time": "2022-04-13T14:34:03.655Z"
      },
      {
        "duration": 75765,
        "start_time": "2022-04-13T14:34:03.661Z"
      },
      {
        "duration": 0,
        "start_time": "2022-04-13T14:35:19.430Z"
      },
      {
        "duration": 0,
        "start_time": "2022-04-13T14:35:19.431Z"
      },
      {
        "duration": 0,
        "start_time": "2022-04-13T14:35:19.431Z"
      },
      {
        "duration": 0,
        "start_time": "2022-04-13T14:35:19.432Z"
      },
      {
        "duration": 0,
        "start_time": "2022-04-13T14:35:19.433Z"
      },
      {
        "duration": 0,
        "start_time": "2022-04-13T14:35:19.435Z"
      },
      {
        "duration": 0,
        "start_time": "2022-04-13T14:35:19.436Z"
      },
      {
        "duration": 0,
        "start_time": "2022-04-13T14:35:19.436Z"
      },
      {
        "duration": 0,
        "start_time": "2022-04-13T14:35:19.438Z"
      },
      {
        "duration": 0,
        "start_time": "2022-04-13T14:35:19.439Z"
      },
      {
        "duration": 0,
        "start_time": "2022-04-13T14:35:19.440Z"
      },
      {
        "duration": 0,
        "start_time": "2022-04-13T14:35:19.441Z"
      },
      {
        "duration": 0,
        "start_time": "2022-04-13T14:35:19.442Z"
      },
      {
        "duration": 0,
        "start_time": "2022-04-13T14:35:19.443Z"
      },
      {
        "duration": 523991,
        "start_time": "2022-04-13T14:35:26.913Z"
      },
      {
        "duration": 1851,
        "start_time": "2022-04-13T14:44:14.920Z"
      },
      {
        "duration": 797,
        "start_time": "2022-04-13T14:44:16.773Z"
      },
      {
        "duration": 6,
        "start_time": "2022-04-13T14:44:17.572Z"
      },
      {
        "duration": 29,
        "start_time": "2022-04-13T14:44:17.580Z"
      },
      {
        "duration": 44,
        "start_time": "2022-04-13T14:44:17.626Z"
      },
      {
        "duration": 27,
        "start_time": "2022-04-13T14:44:17.674Z"
      },
      {
        "duration": 7,
        "start_time": "2022-04-13T14:44:17.703Z"
      },
      {
        "duration": 19,
        "start_time": "2022-04-13T14:44:17.712Z"
      },
      {
        "duration": 6,
        "start_time": "2022-04-13T14:44:17.733Z"
      },
      {
        "duration": 6,
        "start_time": "2022-04-13T14:44:17.743Z"
      },
      {
        "duration": 4,
        "start_time": "2022-04-13T14:44:17.752Z"
      },
      {
        "duration": 30,
        "start_time": "2022-04-13T14:44:17.758Z"
      },
      {
        "duration": 34,
        "start_time": "2022-04-13T14:44:17.790Z"
      },
      {
        "duration": 10,
        "start_time": "2022-04-13T14:44:17.830Z"
      },
      {
        "duration": 21,
        "start_time": "2022-04-13T14:44:17.842Z"
      },
      {
        "duration": 6,
        "start_time": "2022-04-13T14:44:17.873Z"
      },
      {
        "duration": 10,
        "start_time": "2022-04-13T14:44:17.881Z"
      },
      {
        "duration": 36,
        "start_time": "2022-04-13T14:44:17.893Z"
      },
      {
        "duration": 4,
        "start_time": "2022-04-13T14:44:17.933Z"
      },
      {
        "duration": 7,
        "start_time": "2022-04-13T14:44:17.939Z"
      },
      {
        "duration": 26,
        "start_time": "2022-04-13T14:44:17.948Z"
      },
      {
        "duration": 22,
        "start_time": "2022-04-13T14:44:17.976Z"
      },
      {
        "duration": 3053,
        "start_time": "2022-04-13T14:44:18.000Z"
      },
      {
        "duration": 3811,
        "start_time": "2022-04-13T14:44:21.055Z"
      },
      {
        "duration": 477,
        "start_time": "2022-04-13T14:44:24.868Z"
      },
      {
        "duration": 8,
        "start_time": "2022-04-13T14:44:25.348Z"
      },
      {
        "duration": 47,
        "start_time": "2022-04-13T14:44:25.358Z"
      },
      {
        "duration": 3228,
        "start_time": "2022-04-13T14:44:25.409Z"
      },
      {
        "duration": 21,
        "start_time": "2022-04-13T14:44:28.642Z"
      },
      {
        "duration": 3,
        "start_time": "2022-04-13T14:44:28.665Z"
      },
      {
        "duration": 6,
        "start_time": "2022-04-13T14:44:28.670Z"
      },
      {
        "duration": 8,
        "start_time": "2022-04-13T14:44:28.677Z"
      },
      {
        "duration": 21,
        "start_time": "2022-04-13T14:44:28.687Z"
      },
      {
        "duration": 2,
        "start_time": "2022-04-13T14:44:28.711Z"
      },
      {
        "duration": 5546,
        "start_time": "2022-04-13T14:44:28.715Z"
      },
      {
        "duration": 2877,
        "start_time": "2022-04-13T14:44:34.263Z"
      },
      {
        "duration": 10,
        "start_time": "2022-04-13T14:44:37.149Z"
      },
      {
        "duration": 55,
        "start_time": "2022-04-13T14:44:37.168Z"
      },
      {
        "duration": 425833,
        "start_time": "2022-04-13T14:44:37.229Z"
      },
      {
        "duration": 0,
        "start_time": "2022-04-13T14:51:43.064Z"
      },
      {
        "duration": 0,
        "start_time": "2022-04-13T14:51:43.065Z"
      },
      {
        "duration": 0,
        "start_time": "2022-04-13T14:51:43.066Z"
      },
      {
        "duration": 0,
        "start_time": "2022-04-13T14:51:43.067Z"
      },
      {
        "duration": 0,
        "start_time": "2022-04-13T14:51:43.068Z"
      },
      {
        "duration": 0,
        "start_time": "2022-04-13T14:51:43.069Z"
      },
      {
        "duration": 0,
        "start_time": "2022-04-13T14:51:43.070Z"
      },
      {
        "duration": 0,
        "start_time": "2022-04-13T14:51:43.072Z"
      },
      {
        "duration": 0,
        "start_time": "2022-04-13T14:51:43.073Z"
      },
      {
        "duration": 0,
        "start_time": "2022-04-13T14:51:43.074Z"
      },
      {
        "duration": 0,
        "start_time": "2022-04-13T14:51:43.075Z"
      },
      {
        "duration": 0,
        "start_time": "2022-04-13T14:51:43.076Z"
      },
      {
        "duration": 0,
        "start_time": "2022-04-13T14:51:43.077Z"
      },
      {
        "duration": 0,
        "start_time": "2022-04-13T14:51:43.078Z"
      },
      {
        "duration": 192,
        "start_time": "2022-04-13T14:52:23.409Z"
      },
      {
        "duration": 9816,
        "start_time": "2022-04-13T14:52:34.116Z"
      },
      {
        "duration": 1656,
        "start_time": "2022-04-13T14:52:47.927Z"
      },
      {
        "duration": 868,
        "start_time": "2022-04-13T14:52:49.585Z"
      },
      {
        "duration": 3,
        "start_time": "2022-04-13T14:52:50.455Z"
      },
      {
        "duration": 36,
        "start_time": "2022-04-13T14:52:50.460Z"
      },
      {
        "duration": 27,
        "start_time": "2022-04-13T14:52:50.498Z"
      },
      {
        "duration": 32,
        "start_time": "2022-04-13T14:52:50.527Z"
      },
      {
        "duration": 7,
        "start_time": "2022-04-13T14:52:50.561Z"
      },
      {
        "duration": 21,
        "start_time": "2022-04-13T14:52:50.569Z"
      },
      {
        "duration": 18,
        "start_time": "2022-04-13T14:52:50.592Z"
      },
      {
        "duration": 23,
        "start_time": "2022-04-13T14:52:50.613Z"
      },
      {
        "duration": 6,
        "start_time": "2022-04-13T14:52:50.638Z"
      },
      {
        "duration": 33,
        "start_time": "2022-04-13T14:52:50.646Z"
      },
      {
        "duration": 8,
        "start_time": "2022-04-13T14:52:50.681Z"
      },
      {
        "duration": 12,
        "start_time": "2022-04-13T14:52:50.690Z"
      },
      {
        "duration": 44,
        "start_time": "2022-04-13T14:52:50.704Z"
      },
      {
        "duration": 30,
        "start_time": "2022-04-13T14:52:50.751Z"
      },
      {
        "duration": 17,
        "start_time": "2022-04-13T14:52:50.783Z"
      },
      {
        "duration": 39,
        "start_time": "2022-04-13T14:52:50.803Z"
      },
      {
        "duration": 10,
        "start_time": "2022-04-13T14:52:50.843Z"
      },
      {
        "duration": 16,
        "start_time": "2022-04-13T14:52:50.855Z"
      },
      {
        "duration": 32,
        "start_time": "2022-04-13T14:52:50.873Z"
      },
      {
        "duration": 26,
        "start_time": "2022-04-13T14:52:50.907Z"
      },
      {
        "duration": 2335,
        "start_time": "2022-04-13T14:52:50.936Z"
      },
      {
        "duration": 0,
        "start_time": "2022-04-13T14:52:53.274Z"
      },
      {
        "duration": 0,
        "start_time": "2022-04-13T14:52:53.275Z"
      },
      {
        "duration": 0,
        "start_time": "2022-04-13T14:52:53.277Z"
      },
      {
        "duration": 0,
        "start_time": "2022-04-13T14:52:53.278Z"
      },
      {
        "duration": 0,
        "start_time": "2022-04-13T14:52:53.279Z"
      },
      {
        "duration": 0,
        "start_time": "2022-04-13T14:52:53.280Z"
      },
      {
        "duration": 0,
        "start_time": "2022-04-13T14:52:53.281Z"
      },
      {
        "duration": 0,
        "start_time": "2022-04-13T14:52:53.282Z"
      },
      {
        "duration": 0,
        "start_time": "2022-04-13T14:52:53.283Z"
      },
      {
        "duration": 0,
        "start_time": "2022-04-13T14:52:53.285Z"
      },
      {
        "duration": 0,
        "start_time": "2022-04-13T14:52:53.285Z"
      },
      {
        "duration": 0,
        "start_time": "2022-04-13T14:52:53.286Z"
      },
      {
        "duration": 0,
        "start_time": "2022-04-13T14:52:53.391Z"
      },
      {
        "duration": 0,
        "start_time": "2022-04-13T14:52:53.393Z"
      },
      {
        "duration": 0,
        "start_time": "2022-04-13T14:52:53.394Z"
      },
      {
        "duration": 0,
        "start_time": "2022-04-13T14:52:53.395Z"
      },
      {
        "duration": 0,
        "start_time": "2022-04-13T14:52:53.396Z"
      },
      {
        "duration": 0,
        "start_time": "2022-04-13T14:52:53.397Z"
      },
      {
        "duration": 0,
        "start_time": "2022-04-13T14:52:53.428Z"
      },
      {
        "duration": 0,
        "start_time": "2022-04-13T14:52:53.429Z"
      },
      {
        "duration": 0,
        "start_time": "2022-04-13T14:52:53.430Z"
      },
      {
        "duration": 0,
        "start_time": "2022-04-13T14:52:53.431Z"
      },
      {
        "duration": 0,
        "start_time": "2022-04-13T14:52:53.432Z"
      },
      {
        "duration": 0,
        "start_time": "2022-04-13T14:52:53.433Z"
      },
      {
        "duration": 0,
        "start_time": "2022-04-13T14:52:53.438Z"
      },
      {
        "duration": 0,
        "start_time": "2022-04-13T14:52:53.439Z"
      },
      {
        "duration": 1,
        "start_time": "2022-04-13T14:52:53.440Z"
      },
      {
        "duration": 0,
        "start_time": "2022-04-13T14:52:53.442Z"
      },
      {
        "duration": 0,
        "start_time": "2022-04-13T14:52:53.443Z"
      },
      {
        "duration": 0,
        "start_time": "2022-04-13T14:52:53.444Z"
      },
      {
        "duration": 1645,
        "start_time": "2022-04-13T14:53:16.167Z"
      },
      {
        "duration": 742,
        "start_time": "2022-04-13T14:53:17.815Z"
      },
      {
        "duration": 4,
        "start_time": "2022-04-13T14:53:18.558Z"
      },
      {
        "duration": 31,
        "start_time": "2022-04-13T14:53:18.564Z"
      },
      {
        "duration": 51,
        "start_time": "2022-04-13T14:53:18.597Z"
      },
      {
        "duration": 27,
        "start_time": "2022-04-13T14:53:18.652Z"
      },
      {
        "duration": 7,
        "start_time": "2022-04-13T14:53:18.681Z"
      },
      {
        "duration": 3,
        "start_time": "2022-04-13T14:53:18.689Z"
      },
      {
        "duration": 6,
        "start_time": "2022-04-13T14:53:18.694Z"
      },
      {
        "duration": 7,
        "start_time": "2022-04-13T14:53:18.727Z"
      },
      {
        "duration": 8,
        "start_time": "2022-04-13T14:53:18.738Z"
      },
      {
        "duration": 29,
        "start_time": "2022-04-13T14:53:18.755Z"
      },
      {
        "duration": 7,
        "start_time": "2022-04-13T14:53:18.786Z"
      },
      {
        "duration": 6,
        "start_time": "2022-04-13T14:53:18.795Z"
      },
      {
        "duration": 33,
        "start_time": "2022-04-13T14:53:18.803Z"
      },
      {
        "duration": 14,
        "start_time": "2022-04-13T14:53:18.838Z"
      },
      {
        "duration": 6,
        "start_time": "2022-04-13T14:53:18.856Z"
      },
      {
        "duration": 16,
        "start_time": "2022-04-13T14:53:18.864Z"
      },
      {
        "duration": 4,
        "start_time": "2022-04-13T14:53:18.882Z"
      },
      {
        "duration": 14,
        "start_time": "2022-04-13T14:53:18.887Z"
      },
      {
        "duration": 34,
        "start_time": "2022-04-13T14:53:18.902Z"
      },
      {
        "duration": 22,
        "start_time": "2022-04-13T14:53:18.941Z"
      },
      {
        "duration": 2743,
        "start_time": "2022-04-13T14:53:18.965Z"
      },
      {
        "duration": 3572,
        "start_time": "2022-04-13T14:53:21.710Z"
      },
      {
        "duration": 460,
        "start_time": "2022-04-13T14:53:25.285Z"
      },
      {
        "duration": 8,
        "start_time": "2022-04-13T14:53:25.749Z"
      },
      {
        "duration": 65,
        "start_time": "2022-04-13T14:53:25.759Z"
      },
      {
        "duration": 3938,
        "start_time": "2022-04-13T14:53:25.830Z"
      },
      {
        "duration": 12,
        "start_time": "2022-04-13T14:53:29.771Z"
      },
      {
        "duration": 3,
        "start_time": "2022-04-13T14:53:29.785Z"
      },
      {
        "duration": 6,
        "start_time": "2022-04-13T14:53:29.790Z"
      },
      {
        "duration": 8,
        "start_time": "2022-04-13T14:53:29.798Z"
      },
      {
        "duration": 36,
        "start_time": "2022-04-13T14:53:29.808Z"
      },
      {
        "duration": 5,
        "start_time": "2022-04-13T14:53:29.846Z"
      },
      {
        "duration": 6634,
        "start_time": "2022-04-13T14:53:29.854Z"
      },
      {
        "duration": 1972,
        "start_time": "2022-04-13T14:53:36.490Z"
      },
      {
        "duration": 71,
        "start_time": "2022-04-13T14:53:38.464Z"
      },
      {
        "duration": 20,
        "start_time": "2022-04-13T14:53:38.537Z"
      },
      {
        "duration": 525,
        "start_time": "2022-04-13T14:53:38.560Z"
      },
      {
        "duration": 0,
        "start_time": "2022-04-13T14:53:39.086Z"
      },
      {
        "duration": 0,
        "start_time": "2022-04-13T14:53:39.088Z"
      },
      {
        "duration": 0,
        "start_time": "2022-04-13T14:53:39.089Z"
      },
      {
        "duration": 0,
        "start_time": "2022-04-13T14:53:39.090Z"
      },
      {
        "duration": 0,
        "start_time": "2022-04-13T14:53:39.091Z"
      },
      {
        "duration": 0,
        "start_time": "2022-04-13T14:53:39.092Z"
      },
      {
        "duration": 0,
        "start_time": "2022-04-13T14:53:39.093Z"
      },
      {
        "duration": 0,
        "start_time": "2022-04-13T14:53:39.094Z"
      },
      {
        "duration": 0,
        "start_time": "2022-04-13T14:53:39.095Z"
      },
      {
        "duration": 0,
        "start_time": "2022-04-13T14:53:39.096Z"
      },
      {
        "duration": 0,
        "start_time": "2022-04-13T14:53:39.097Z"
      },
      {
        "duration": 0,
        "start_time": "2022-04-13T14:53:39.098Z"
      },
      {
        "duration": 0,
        "start_time": "2022-04-13T14:53:39.122Z"
      },
      {
        "duration": 0,
        "start_time": "2022-04-13T14:53:39.123Z"
      },
      {
        "duration": 1907,
        "start_time": "2022-04-13T14:54:53.657Z"
      },
      {
        "duration": 754,
        "start_time": "2022-04-13T14:54:55.566Z"
      },
      {
        "duration": 3,
        "start_time": "2022-04-13T14:54:56.324Z"
      },
      {
        "duration": 44,
        "start_time": "2022-04-13T14:54:56.329Z"
      },
      {
        "duration": 32,
        "start_time": "2022-04-13T14:54:56.375Z"
      },
      {
        "duration": 54,
        "start_time": "2022-04-13T14:54:56.412Z"
      },
      {
        "duration": 13,
        "start_time": "2022-04-13T14:54:56.474Z"
      },
      {
        "duration": 8,
        "start_time": "2022-04-13T14:54:56.488Z"
      },
      {
        "duration": 6,
        "start_time": "2022-04-13T14:54:56.499Z"
      },
      {
        "duration": 6,
        "start_time": "2022-04-13T14:54:56.508Z"
      },
      {
        "duration": 4,
        "start_time": "2022-04-13T14:54:56.516Z"
      },
      {
        "duration": 45,
        "start_time": "2022-04-13T14:54:56.522Z"
      },
      {
        "duration": 8,
        "start_time": "2022-04-13T14:54:56.569Z"
      },
      {
        "duration": 10,
        "start_time": "2022-04-13T14:54:56.579Z"
      },
      {
        "duration": 22,
        "start_time": "2022-04-13T14:54:56.590Z"
      },
      {
        "duration": 14,
        "start_time": "2022-04-13T14:54:56.615Z"
      },
      {
        "duration": 16,
        "start_time": "2022-04-13T14:54:56.632Z"
      },
      {
        "duration": 22,
        "start_time": "2022-04-13T14:54:56.650Z"
      },
      {
        "duration": 4,
        "start_time": "2022-04-13T14:54:56.674Z"
      },
      {
        "duration": 8,
        "start_time": "2022-04-13T14:54:56.681Z"
      },
      {
        "duration": 20,
        "start_time": "2022-04-13T14:54:56.691Z"
      },
      {
        "duration": 42,
        "start_time": "2022-04-13T14:54:56.713Z"
      },
      {
        "duration": 2776,
        "start_time": "2022-04-13T14:54:56.757Z"
      },
      {
        "duration": 4100,
        "start_time": "2022-04-13T14:54:59.535Z"
      },
      {
        "duration": 382,
        "start_time": "2022-04-13T14:55:03.641Z"
      },
      {
        "duration": 8,
        "start_time": "2022-04-13T14:55:04.024Z"
      },
      {
        "duration": 50,
        "start_time": "2022-04-13T14:55:04.034Z"
      },
      {
        "duration": 3110,
        "start_time": "2022-04-13T14:55:04.089Z"
      },
      {
        "duration": 13,
        "start_time": "2022-04-13T14:55:07.201Z"
      },
      {
        "duration": 10,
        "start_time": "2022-04-13T14:55:07.216Z"
      },
      {
        "duration": 5,
        "start_time": "2022-04-13T14:55:07.249Z"
      },
      {
        "duration": 8,
        "start_time": "2022-04-13T14:55:07.256Z"
      },
      {
        "duration": 20,
        "start_time": "2022-04-13T14:55:07.266Z"
      },
      {
        "duration": 3,
        "start_time": "2022-04-13T14:55:07.287Z"
      },
      {
        "duration": 5613,
        "start_time": "2022-04-13T14:55:07.292Z"
      },
      {
        "duration": 3847,
        "start_time": "2022-04-13T14:55:12.907Z"
      },
      {
        "duration": 5,
        "start_time": "2022-04-13T14:55:16.823Z"
      },
      {
        "duration": 14,
        "start_time": "2022-04-13T14:55:16.830Z"
      },
      {
        "duration": 2438964,
        "start_time": "2022-04-13T14:55:16.847Z"
      },
      {
        "duration": 19,
        "start_time": "2022-04-13T15:35:55.813Z"
      },
      {
        "duration": 2,
        "start_time": "2022-04-13T15:35:55.840Z"
      },
      {
        "duration": 25,
        "start_time": "2022-04-13T15:35:55.843Z"
      },
      {
        "duration": 14,
        "start_time": "2022-04-13T15:35:55.870Z"
      },
      {
        "duration": 17,
        "start_time": "2022-04-13T15:35:55.886Z"
      },
      {
        "duration": 31,
        "start_time": "2022-04-13T15:35:55.905Z"
      },
      {
        "duration": 11282,
        "start_time": "2022-04-13T15:35:55.940Z"
      },
      {
        "duration": 6,
        "start_time": "2022-04-13T15:36:07.227Z"
      },
      {
        "duration": 5,
        "start_time": "2022-04-13T15:36:07.235Z"
      },
      {
        "duration": 7,
        "start_time": "2022-04-13T15:36:07.241Z"
      },
      {
        "duration": 7,
        "start_time": "2022-04-13T15:36:07.249Z"
      },
      {
        "duration": 8,
        "start_time": "2022-04-13T15:36:07.257Z"
      },
      {
        "duration": 8,
        "start_time": "2022-04-13T15:36:07.267Z"
      },
      {
        "duration": 9,
        "start_time": "2022-04-13T15:36:07.276Z"
      }
    ],
    "kernelspec": {
      "display_name": "Python 3 (ipykernel)",
      "language": "python",
      "name": "python3"
    },
    "language_info": {
      "codemirror_mode": {
        "name": "ipython",
        "version": 3
      },
      "file_extension": ".py",
      "mimetype": "text/x-python",
      "name": "python",
      "nbconvert_exporter": "python",
      "pygments_lexer": "ipython3",
      "version": "3.9.5"
    },
    "toc": {
      "base_numbering": 1,
      "nav_menu": {},
      "number_sections": false,
      "sideBar": true,
      "skip_h1_title": true,
      "title_cell": "Содержание",
      "title_sidebar": "Contents",
      "toc_cell": true,
      "toc_position": {
        "height": "calc(100% - 180px)",
        "left": "10px",
        "top": "150px",
        "width": "250px"
      },
      "toc_section_display": true,
      "toc_window_display": true
    },
    "colab": {
      "provenance": []
    }
  },
  "nbformat": 4,
  "nbformat_minor": 0
}