{
  "cells": [
    {
      "cell_type": "markdown",
      "metadata": {
        "id": "0Exmoco6fVNK"
      },
      "source": [
        "# Описание проекта\n",
        "Вы аналитик компании «Мегалайн» — федерального оператора сотовой связи. Клиентам предлагают два тарифных плана: «Смарт» и «Ультра». Чтобы скорректировать рекламный бюджет, коммерческий департамент хочет понять, какой тариф приносит больше денег.\n",
        "\n",
        "Вам предстоит сделать предварительный анализ тарифов на небольшой выборке клиентов. В вашем распоряжении данные 500 пользователей «Мегалайна»: кто они, откуда, каким тарифом пользуются, сколько звонков и сообщений каждый отправил за 2018 год. Нужно проанализировать поведение клиентов и сделать вывод — какой тариф лучше."
      ]
    },
    {
      "cell_type": "markdown",
      "metadata": {
        "id": "jBw9SkjkfVNM"
      },
      "source": [
        "## Описание тарифов\n",
        "\n",
        "### Тариф «Смарт»\n",
        "\n",
        "   1. Ежемесячная плата: 550 рублей\n",
        "   2. Включено 500 минут разговора, 50 сообщений и 15 Гб интернет-трафика\n",
        "   3. Стоимость услуг сверх тарифного пакета: 1. минута разговора: 3 рубля («Мегалайн» всегда округляет вверх значения минут и мегабайтов. Если пользователь проговорил всего 1 секунду, в тарифе засчитывается целая минута); 2. сообщение: 3 рубля; 3. 1 Гб интернет-трафика: 200 рублей.\n",
        "\n",
        "### Тариф «Ультра»\n",
        "\n",
        "   1. Ежемесячная плата: 1950 рублей\n",
        "   2. Включено 3000 минут разговора, 1000 сообщений и 30 Гб интернет-трафика\n",
        "   3. Стоимость услуг сверх тарифного пакета: 1. минута разговора: 1 рубль; 2. сообщение: 1 рубль; 3. 1 Гб интернет-трафика: 150 рублей."
      ]
    },
    {
      "cell_type": "markdown",
      "metadata": {
        "id": "W3auSWS2fVNM"
      },
      "source": [
        "# Описание данных"
      ]
    },
    {
      "cell_type": "markdown",
      "metadata": {
        "id": "Xa1WNim4fVNN"
      },
      "source": [
        "#### Таблица users (информация о пользователях):\n",
        "- user_id — уникальный идентификатор пользователя\n",
        "- first_name — имя пользователя\n",
        "- last_name — фамилия пользователя\n",
        "- age — возраст пользователя (годы)\n",
        "- reg_date — дата подключения тарифа (день, месяц, год)\n",
        "- churn_date — дата прекращения пользования тарифом (если значение пропущено, то тариф ещё действовал на момент выгрузки данных)\n",
        "- city — город проживания пользователя\n",
        "- tarif — название тарифного плана\n",
        "\n",
        "#### Таблица calls (информация о звонках):\n",
        "\n",
        "- id — уникальный номер звонка\n",
        "- call_date — дата звонка\n",
        "- duration — длительность звонка в минутах\n",
        "- user_id — идентификатор пользователя, сделавшего звонок\n",
        "\n",
        "#### Таблица messages (информация о сообщениях):\n",
        "\n",
        "- id — уникальный номер сообщения\n",
        "- message_date — дата сообщения\n",
        "- user_id — идентификатор пользователя, отправившего сообщение\n",
        "\n",
        "#### Таблица internet (информация об интернет-сессиях):\n",
        "\n",
        "- id — уникальный номер сессии\n",
        "- mb_used — объём потраченного за сессию интернет-трафика (в мегабайтах)\n",
        "- session_date — дата интернет-сессии\n",
        "- user_id — идентификатор пользователя\n",
        "\n",
        "#### Таблица tariffs (информация о тарифах):\n",
        "\n",
        "- tariff_name — название тарифа\n",
        "- rub_monthly_fee — ежемесячная абонентская плата в рублях\n",
        "- minutes_included — количество минут разговора в месяц, включённых в абонентскую плату\n",
        "- messages_included — количество сообщений в месяц, включённых в абонентскую плату\n",
        "- mb_per_month_included — объём интернет-трафика, включённого в абонентскую плату (в мегабайтах)\n",
        "- rub_per_minute — стоимость минуты разговора сверх тарифного пакета (например, если в тарифе 100 минут разговора в месяц, то со 101 минуты будет взиматься плата)\n",
        "- rub_per_message — стоимость отправки сообщения сверх тарифного пакета\n",
        "- rub_per_gb — стоимость дополнительного гигабайта интернет-трафика сверх тарифного пакета (1 гигабайт = 1024 мегабайта)"
      ]
    },
    {
      "cell_type": "markdown",
      "metadata": {
        "id": "pAzm6a4gfVNO"
      },
      "source": [
        "### Шаг 1. Откроем файлы с данными и изучим общую информацию"
      ]
    },
    {
      "cell_type": "code",
      "execution_count": null,
      "metadata": {
        "id": "YdxR-HVEfVNO"
      },
      "outputs": [],
      "source": [
        "import pandas as pd\n",
        "import seaborn as sns\n",
        "from pymystem3 import Mystem\n",
        "m = Mystem()\n",
        "\n",
        "import numpy as np\n",
        "import matplotlib.pyplot as plt\n",
        "import scipy.stats as st\n",
        "from scipy import stats as st\n",
        "from IPython.display import display"
      ]
    },
    {
      "cell_type": "code",
      "execution_count": null,
      "metadata": {
        "id": "b09XCP-KfVNQ"
      },
      "outputs": [],
      "source": [
        "df_calls = pd.read_csv('/datasets/calls.csv')\n",
        "df_internet = pd.read_csv('/datasets/internet.csv')\n",
        "df_messages = pd.read_csv('/datasets/messages.csv')\n",
        "df_tariffs = pd.read_csv('/datasets/tariffs.csv')\n",
        "df_users = pd.read_csv('/datasets/users.csv')"
      ]
    },
    {
      "cell_type": "code",
      "execution_count": null,
      "metadata": {
        "id": "kPsS80qkfVNQ",
        "outputId": "2b8874f9-d56c-4c7a-9da4-0f65e3a42f04"
      },
      "outputs": [
        {
          "name": "stdout",
          "output_type": "stream",
          "text": [
            "<class 'pandas.core.frame.DataFrame'>\n",
            "RangeIndex: 202607 entries, 0 to 202606\n",
            "Data columns (total 4 columns):\n",
            " #   Column     Non-Null Count   Dtype  \n",
            "---  ------     --------------   -----  \n",
            " 0   id         202607 non-null  object \n",
            " 1   call_date  202607 non-null  object \n",
            " 2   duration   202607 non-null  float64\n",
            " 3   user_id    202607 non-null  int64  \n",
            "dtypes: float64(1), int64(1), object(2)\n",
            "memory usage: 6.2+ MB\n"
          ]
        },
        {
          "data": {
            "text/html": [
              "<div>\n",
              "<style scoped>\n",
              "    .dataframe tbody tr th:only-of-type {\n",
              "        vertical-align: middle;\n",
              "    }\n",
              "\n",
              "    .dataframe tbody tr th {\n",
              "        vertical-align: top;\n",
              "    }\n",
              "\n",
              "    .dataframe thead th {\n",
              "        text-align: right;\n",
              "    }\n",
              "</style>\n",
              "<table border=\"1\" class=\"dataframe\">\n",
              "  <thead>\n",
              "    <tr style=\"text-align: right;\">\n",
              "      <th></th>\n",
              "      <th>id</th>\n",
              "      <th>call_date</th>\n",
              "      <th>duration</th>\n",
              "      <th>user_id</th>\n",
              "    </tr>\n",
              "  </thead>\n",
              "  <tbody>\n",
              "    <tr>\n",
              "      <th>202587</th>\n",
              "      <td>1499_200</td>\n",
              "      <td>2018-10-04</td>\n",
              "      <td>7.89</td>\n",
              "      <td>1499</td>\n",
              "    </tr>\n",
              "    <tr>\n",
              "      <th>202588</th>\n",
              "      <td>1499_201</td>\n",
              "      <td>2018-12-15</td>\n",
              "      <td>18.90</td>\n",
              "      <td>1499</td>\n",
              "    </tr>\n",
              "    <tr>\n",
              "      <th>202589</th>\n",
              "      <td>1499_202</td>\n",
              "      <td>2018-10-03</td>\n",
              "      <td>8.92</td>\n",
              "      <td>1499</td>\n",
              "    </tr>\n",
              "    <tr>\n",
              "      <th>202590</th>\n",
              "      <td>1499_203</td>\n",
              "      <td>2018-12-03</td>\n",
              "      <td>0.00</td>\n",
              "      <td>1499</td>\n",
              "    </tr>\n",
              "    <tr>\n",
              "      <th>202591</th>\n",
              "      <td>1499_204</td>\n",
              "      <td>2018-12-12</td>\n",
              "      <td>1.60</td>\n",
              "      <td>1499</td>\n",
              "    </tr>\n",
              "    <tr>\n",
              "      <th>202592</th>\n",
              "      <td>1499_205</td>\n",
              "      <td>2018-10-13</td>\n",
              "      <td>0.00</td>\n",
              "      <td>1499</td>\n",
              "    </tr>\n",
              "    <tr>\n",
              "      <th>202593</th>\n",
              "      <td>1499_206</td>\n",
              "      <td>2018-12-26</td>\n",
              "      <td>0.00</td>\n",
              "      <td>1499</td>\n",
              "    </tr>\n",
              "    <tr>\n",
              "      <th>202594</th>\n",
              "      <td>1499_207</td>\n",
              "      <td>2018-10-28</td>\n",
              "      <td>0.00</td>\n",
              "      <td>1499</td>\n",
              "    </tr>\n",
              "    <tr>\n",
              "      <th>202595</th>\n",
              "      <td>1499_208</td>\n",
              "      <td>2018-11-03</td>\n",
              "      <td>14.29</td>\n",
              "      <td>1499</td>\n",
              "    </tr>\n",
              "    <tr>\n",
              "      <th>202596</th>\n",
              "      <td>1499_209</td>\n",
              "      <td>2018-12-16</td>\n",
              "      <td>0.00</td>\n",
              "      <td>1499</td>\n",
              "    </tr>\n",
              "    <tr>\n",
              "      <th>202597</th>\n",
              "      <td>1499_210</td>\n",
              "      <td>2018-10-02</td>\n",
              "      <td>8.86</td>\n",
              "      <td>1499</td>\n",
              "    </tr>\n",
              "    <tr>\n",
              "      <th>202598</th>\n",
              "      <td>1499_211</td>\n",
              "      <td>2018-12-29</td>\n",
              "      <td>4.58</td>\n",
              "      <td>1499</td>\n",
              "    </tr>\n",
              "    <tr>\n",
              "      <th>202599</th>\n",
              "      <td>1499_212</td>\n",
              "      <td>2018-12-30</td>\n",
              "      <td>1.35</td>\n",
              "      <td>1499</td>\n",
              "    </tr>\n",
              "    <tr>\n",
              "      <th>202600</th>\n",
              "      <td>1499_213</td>\n",
              "      <td>2018-10-17</td>\n",
              "      <td>10.77</td>\n",
              "      <td>1499</td>\n",
              "    </tr>\n",
              "    <tr>\n",
              "      <th>202601</th>\n",
              "      <td>1499_214</td>\n",
              "      <td>2018-12-05</td>\n",
              "      <td>2.42</td>\n",
              "      <td>1499</td>\n",
              "    </tr>\n",
              "    <tr>\n",
              "      <th>202602</th>\n",
              "      <td>1499_215</td>\n",
              "      <td>2018-12-26</td>\n",
              "      <td>0.76</td>\n",
              "      <td>1499</td>\n",
              "    </tr>\n",
              "    <tr>\n",
              "      <th>202603</th>\n",
              "      <td>1499_216</td>\n",
              "      <td>2018-10-18</td>\n",
              "      <td>18.83</td>\n",
              "      <td>1499</td>\n",
              "    </tr>\n",
              "    <tr>\n",
              "      <th>202604</th>\n",
              "      <td>1499_217</td>\n",
              "      <td>2018-11-10</td>\n",
              "      <td>10.81</td>\n",
              "      <td>1499</td>\n",
              "    </tr>\n",
              "    <tr>\n",
              "      <th>202605</th>\n",
              "      <td>1499_218</td>\n",
              "      <td>2018-10-06</td>\n",
              "      <td>4.27</td>\n",
              "      <td>1499</td>\n",
              "    </tr>\n",
              "    <tr>\n",
              "      <th>202606</th>\n",
              "      <td>1499_219</td>\n",
              "      <td>2018-12-14</td>\n",
              "      <td>19.62</td>\n",
              "      <td>1499</td>\n",
              "    </tr>\n",
              "  </tbody>\n",
              "</table>\n",
              "</div>"
            ],
            "text/plain": [
              "              id   call_date  duration  user_id\n",
              "202587  1499_200  2018-10-04      7.89     1499\n",
              "202588  1499_201  2018-12-15     18.90     1499\n",
              "202589  1499_202  2018-10-03      8.92     1499\n",
              "202590  1499_203  2018-12-03      0.00     1499\n",
              "202591  1499_204  2018-12-12      1.60     1499\n",
              "202592  1499_205  2018-10-13      0.00     1499\n",
              "202593  1499_206  2018-12-26      0.00     1499\n",
              "202594  1499_207  2018-10-28      0.00     1499\n",
              "202595  1499_208  2018-11-03     14.29     1499\n",
              "202596  1499_209  2018-12-16      0.00     1499\n",
              "202597  1499_210  2018-10-02      8.86     1499\n",
              "202598  1499_211  2018-12-29      4.58     1499\n",
              "202599  1499_212  2018-12-30      1.35     1499\n",
              "202600  1499_213  2018-10-17     10.77     1499\n",
              "202601  1499_214  2018-12-05      2.42     1499\n",
              "202602  1499_215  2018-12-26      0.76     1499\n",
              "202603  1499_216  2018-10-18     18.83     1499\n",
              "202604  1499_217  2018-11-10     10.81     1499\n",
              "202605  1499_218  2018-10-06      4.27     1499\n",
              "202606  1499_219  2018-12-14     19.62     1499"
            ]
          },
          "execution_count": 3,
          "metadata": {},
          "output_type": "execute_result"
        }
      ],
      "source": [
        "df_calls.info()\n",
        "df_calls.tail(20)\n",
        "#df_calls.describe()"
      ]
    },
    {
      "cell_type": "code",
      "execution_count": null,
      "metadata": {
        "id": "mczJR0AkfVNR",
        "outputId": "0b11e920-9ca6-46c2-dde2-b3d326fe6812"
      },
      "outputs": [
        {
          "data": {
            "text/plain": [
              "id           0\n",
              "call_date    0\n",
              "duration     0\n",
              "user_id      0\n",
              "dtype: int64"
            ]
          },
          "execution_count": 4,
          "metadata": {},
          "output_type": "execute_result"
        }
      ],
      "source": [
        "df_calls.isna().sum()"
      ]
    },
    {
      "cell_type": "code",
      "execution_count": null,
      "metadata": {
        "id": "tLgNJIX6fVNR",
        "outputId": "a34b65b3-0830-462b-c24d-578641700cef"
      },
      "outputs": [
        {
          "name": "stdout",
          "output_type": "stream",
          "text": [
            "<class 'pandas.core.frame.DataFrame'>\n",
            "RangeIndex: 149396 entries, 0 to 149395\n",
            "Data columns (total 5 columns):\n",
            " #   Column        Non-Null Count   Dtype  \n",
            "---  ------        --------------   -----  \n",
            " 0   Unnamed: 0    149396 non-null  int64  \n",
            " 1   id            149396 non-null  object \n",
            " 2   mb_used       149396 non-null  float64\n",
            " 3   session_date  149396 non-null  object \n",
            " 4   user_id       149396 non-null  int64  \n",
            "dtypes: float64(1), int64(2), object(2)\n",
            "memory usage: 5.7+ MB\n"
          ]
        },
        {
          "data": {
            "text/html": [
              "<div>\n",
              "<style scoped>\n",
              "    .dataframe tbody tr th:only-of-type {\n",
              "        vertical-align: middle;\n",
              "    }\n",
              "\n",
              "    .dataframe tbody tr th {\n",
              "        vertical-align: top;\n",
              "    }\n",
              "\n",
              "    .dataframe thead th {\n",
              "        text-align: right;\n",
              "    }\n",
              "</style>\n",
              "<table border=\"1\" class=\"dataframe\">\n",
              "  <thead>\n",
              "    <tr style=\"text-align: right;\">\n",
              "      <th></th>\n",
              "      <th>Unnamed: 0</th>\n",
              "      <th>id</th>\n",
              "      <th>mb_used</th>\n",
              "      <th>session_date</th>\n",
              "      <th>user_id</th>\n",
              "    </tr>\n",
              "  </thead>\n",
              "  <tbody>\n",
              "    <tr>\n",
              "      <th>149386</th>\n",
              "      <td>149386</td>\n",
              "      <td>1499_147</td>\n",
              "      <td>0.00</td>\n",
              "      <td>2018-10-21</td>\n",
              "      <td>1499</td>\n",
              "    </tr>\n",
              "    <tr>\n",
              "      <th>149387</th>\n",
              "      <td>149387</td>\n",
              "      <td>1499_148</td>\n",
              "      <td>268.19</td>\n",
              "      <td>2018-11-13</td>\n",
              "      <td>1499</td>\n",
              "    </tr>\n",
              "    <tr>\n",
              "      <th>149388</th>\n",
              "      <td>149388</td>\n",
              "      <td>1499_149</td>\n",
              "      <td>778.68</td>\n",
              "      <td>2018-11-24</td>\n",
              "      <td>1499</td>\n",
              "    </tr>\n",
              "    <tr>\n",
              "      <th>149389</th>\n",
              "      <td>149389</td>\n",
              "      <td>1499_150</td>\n",
              "      <td>273.98</td>\n",
              "      <td>2018-11-20</td>\n",
              "      <td>1499</td>\n",
              "    </tr>\n",
              "    <tr>\n",
              "      <th>149390</th>\n",
              "      <td>149390</td>\n",
              "      <td>1499_151</td>\n",
              "      <td>752.72</td>\n",
              "      <td>2018-10-11</td>\n",
              "      <td>1499</td>\n",
              "    </tr>\n",
              "    <tr>\n",
              "      <th>149391</th>\n",
              "      <td>149391</td>\n",
              "      <td>1499_152</td>\n",
              "      <td>318.90</td>\n",
              "      <td>2018-10-03</td>\n",
              "      <td>1499</td>\n",
              "    </tr>\n",
              "    <tr>\n",
              "      <th>149392</th>\n",
              "      <td>149392</td>\n",
              "      <td>1499_153</td>\n",
              "      <td>490.13</td>\n",
              "      <td>2018-12-14</td>\n",
              "      <td>1499</td>\n",
              "    </tr>\n",
              "    <tr>\n",
              "      <th>149393</th>\n",
              "      <td>149393</td>\n",
              "      <td>1499_154</td>\n",
              "      <td>0.00</td>\n",
              "      <td>2018-10-27</td>\n",
              "      <td>1499</td>\n",
              "    </tr>\n",
              "    <tr>\n",
              "      <th>149394</th>\n",
              "      <td>149394</td>\n",
              "      <td>1499_155</td>\n",
              "      <td>1246.32</td>\n",
              "      <td>2018-11-26</td>\n",
              "      <td>1499</td>\n",
              "    </tr>\n",
              "    <tr>\n",
              "      <th>149395</th>\n",
              "      <td>149395</td>\n",
              "      <td>1499_156</td>\n",
              "      <td>544.37</td>\n",
              "      <td>2018-10-26</td>\n",
              "      <td>1499</td>\n",
              "    </tr>\n",
              "  </tbody>\n",
              "</table>\n",
              "</div>"
            ],
            "text/plain": [
              "        Unnamed: 0        id  mb_used session_date  user_id\n",
              "149386      149386  1499_147     0.00   2018-10-21     1499\n",
              "149387      149387  1499_148   268.19   2018-11-13     1499\n",
              "149388      149388  1499_149   778.68   2018-11-24     1499\n",
              "149389      149389  1499_150   273.98   2018-11-20     1499\n",
              "149390      149390  1499_151   752.72   2018-10-11     1499\n",
              "149391      149391  1499_152   318.90   2018-10-03     1499\n",
              "149392      149392  1499_153   490.13   2018-12-14     1499\n",
              "149393      149393  1499_154     0.00   2018-10-27     1499\n",
              "149394      149394  1499_155  1246.32   2018-11-26     1499\n",
              "149395      149395  1499_156   544.37   2018-10-26     1499"
            ]
          },
          "execution_count": 5,
          "metadata": {},
          "output_type": "execute_result"
        }
      ],
      "source": [
        "df_internet.info()\n",
        "df_internet.tail(10)\n",
        "#df_internet.describe()"
      ]
    },
    {
      "cell_type": "code",
      "execution_count": null,
      "metadata": {
        "id": "fmEFf4HxfVNS",
        "outputId": "2a8938d5-42c1-46bc-d6db-2d11713a16e9"
      },
      "outputs": [
        {
          "data": {
            "text/plain": [
              "Unnamed: 0      0\n",
              "id              0\n",
              "mb_used         0\n",
              "session_date    0\n",
              "user_id         0\n",
              "dtype: int64"
            ]
          },
          "execution_count": 6,
          "metadata": {},
          "output_type": "execute_result"
        }
      ],
      "source": [
        "df_internet.isna().sum()"
      ]
    },
    {
      "cell_type": "code",
      "execution_count": null,
      "metadata": {
        "id": "85E_KUz8fVNS",
        "outputId": "79bbf8d3-33bb-4752-cd0c-f8e72074ba53"
      },
      "outputs": [
        {
          "name": "stdout",
          "output_type": "stream",
          "text": [
            "<class 'pandas.core.frame.DataFrame'>\n",
            "RangeIndex: 123036 entries, 0 to 123035\n",
            "Data columns (total 3 columns):\n",
            " #   Column        Non-Null Count   Dtype \n",
            "---  ------        --------------   ----- \n",
            " 0   id            123036 non-null  object\n",
            " 1   message_date  123036 non-null  object\n",
            " 2   user_id       123036 non-null  int64 \n",
            "dtypes: int64(1), object(2)\n",
            "memory usage: 2.8+ MB\n"
          ]
        },
        {
          "data": {
            "text/html": [
              "<div>\n",
              "<style scoped>\n",
              "    .dataframe tbody tr th:only-of-type {\n",
              "        vertical-align: middle;\n",
              "    }\n",
              "\n",
              "    .dataframe tbody tr th {\n",
              "        vertical-align: top;\n",
              "    }\n",
              "\n",
              "    .dataframe thead th {\n",
              "        text-align: right;\n",
              "    }\n",
              "</style>\n",
              "<table border=\"1\" class=\"dataframe\">\n",
              "  <thead>\n",
              "    <tr style=\"text-align: right;\">\n",
              "      <th></th>\n",
              "      <th>id</th>\n",
              "      <th>message_date</th>\n",
              "      <th>user_id</th>\n",
              "    </tr>\n",
              "  </thead>\n",
              "  <tbody>\n",
              "    <tr>\n",
              "      <th>123026</th>\n",
              "      <td>1499_174</td>\n",
              "      <td>2018-12-14</td>\n",
              "      <td>1499</td>\n",
              "    </tr>\n",
              "    <tr>\n",
              "      <th>123027</th>\n",
              "      <td>1499_175</td>\n",
              "      <td>2018-10-09</td>\n",
              "      <td>1499</td>\n",
              "    </tr>\n",
              "    <tr>\n",
              "      <th>123028</th>\n",
              "      <td>1499_176</td>\n",
              "      <td>2018-12-17</td>\n",
              "      <td>1499</td>\n",
              "    </tr>\n",
              "    <tr>\n",
              "      <th>123029</th>\n",
              "      <td>1499_177</td>\n",
              "      <td>2018-12-30</td>\n",
              "      <td>1499</td>\n",
              "    </tr>\n",
              "    <tr>\n",
              "      <th>123030</th>\n",
              "      <td>1499_178</td>\n",
              "      <td>2018-10-25</td>\n",
              "      <td>1499</td>\n",
              "    </tr>\n",
              "    <tr>\n",
              "      <th>123031</th>\n",
              "      <td>1499_179</td>\n",
              "      <td>2018-12-12</td>\n",
              "      <td>1499</td>\n",
              "    </tr>\n",
              "    <tr>\n",
              "      <th>123032</th>\n",
              "      <td>1499_180</td>\n",
              "      <td>2018-09-28</td>\n",
              "      <td>1499</td>\n",
              "    </tr>\n",
              "    <tr>\n",
              "      <th>123033</th>\n",
              "      <td>1499_181</td>\n",
              "      <td>2018-09-27</td>\n",
              "      <td>1499</td>\n",
              "    </tr>\n",
              "    <tr>\n",
              "      <th>123034</th>\n",
              "      <td>1499_182</td>\n",
              "      <td>2018-11-15</td>\n",
              "      <td>1499</td>\n",
              "    </tr>\n",
              "    <tr>\n",
              "      <th>123035</th>\n",
              "      <td>1499_183</td>\n",
              "      <td>2018-11-16</td>\n",
              "      <td>1499</td>\n",
              "    </tr>\n",
              "  </tbody>\n",
              "</table>\n",
              "</div>"
            ],
            "text/plain": [
              "              id message_date  user_id\n",
              "123026  1499_174   2018-12-14     1499\n",
              "123027  1499_175   2018-10-09     1499\n",
              "123028  1499_176   2018-12-17     1499\n",
              "123029  1499_177   2018-12-30     1499\n",
              "123030  1499_178   2018-10-25     1499\n",
              "123031  1499_179   2018-12-12     1499\n",
              "123032  1499_180   2018-09-28     1499\n",
              "123033  1499_181   2018-09-27     1499\n",
              "123034  1499_182   2018-11-15     1499\n",
              "123035  1499_183   2018-11-16     1499"
            ]
          },
          "execution_count": 7,
          "metadata": {},
          "output_type": "execute_result"
        }
      ],
      "source": [
        "df_messages.info()\n",
        "df_messages.tail(10)\n",
        "#df_messages.describe()"
      ]
    },
    {
      "cell_type": "code",
      "execution_count": null,
      "metadata": {
        "id": "xpFTucl1fVNS",
        "outputId": "ef5a9a48-21d5-4d0b-91aa-390286e1be56"
      },
      "outputs": [
        {
          "data": {
            "text/plain": [
              "id              0\n",
              "message_date    0\n",
              "user_id         0\n",
              "dtype: int64"
            ]
          },
          "execution_count": 8,
          "metadata": {},
          "output_type": "execute_result"
        }
      ],
      "source": [
        "df_messages.isna().sum()"
      ]
    },
    {
      "cell_type": "code",
      "execution_count": null,
      "metadata": {
        "id": "17FmSCvGfVNT",
        "outputId": "56e76aa1-0376-4b2e-c5a3-0baa6f49c1c5"
      },
      "outputs": [
        {
          "name": "stdout",
          "output_type": "stream",
          "text": [
            "<class 'pandas.core.frame.DataFrame'>\n",
            "RangeIndex: 2 entries, 0 to 1\n",
            "Data columns (total 8 columns):\n",
            " #   Column                 Non-Null Count  Dtype \n",
            "---  ------                 --------------  ----- \n",
            " 0   messages_included      2 non-null      int64 \n",
            " 1   mb_per_month_included  2 non-null      int64 \n",
            " 2   minutes_included       2 non-null      int64 \n",
            " 3   rub_monthly_fee        2 non-null      int64 \n",
            " 4   rub_per_gb             2 non-null      int64 \n",
            " 5   rub_per_message        2 non-null      int64 \n",
            " 6   rub_per_minute         2 non-null      int64 \n",
            " 7   tariff_name            2 non-null      object\n",
            "dtypes: int64(7), object(1)\n",
            "memory usage: 256.0+ bytes\n"
          ]
        }
      ],
      "source": [
        "df_tariffs.info()"
      ]
    },
    {
      "cell_type": "code",
      "execution_count": null,
      "metadata": {
        "id": "m-L1ceoqfVNT",
        "outputId": "7b294b08-7342-4c67-a3ea-ecede5104154"
      },
      "outputs": [
        {
          "data": {
            "text/html": [
              "<div>\n",
              "<style scoped>\n",
              "    .dataframe tbody tr th:only-of-type {\n",
              "        vertical-align: middle;\n",
              "    }\n",
              "\n",
              "    .dataframe tbody tr th {\n",
              "        vertical-align: top;\n",
              "    }\n",
              "\n",
              "    .dataframe thead th {\n",
              "        text-align: right;\n",
              "    }\n",
              "</style>\n",
              "<table border=\"1\" class=\"dataframe\">\n",
              "  <thead>\n",
              "    <tr style=\"text-align: right;\">\n",
              "      <th></th>\n",
              "      <th>messages_included</th>\n",
              "      <th>mb_per_month_included</th>\n",
              "      <th>minutes_included</th>\n",
              "      <th>rub_monthly_fee</th>\n",
              "      <th>rub_per_gb</th>\n",
              "      <th>rub_per_message</th>\n",
              "      <th>rub_per_minute</th>\n",
              "      <th>tariff_name</th>\n",
              "    </tr>\n",
              "  </thead>\n",
              "  <tbody>\n",
              "    <tr>\n",
              "      <th>0</th>\n",
              "      <td>50</td>\n",
              "      <td>15360</td>\n",
              "      <td>500</td>\n",
              "      <td>550</td>\n",
              "      <td>200</td>\n",
              "      <td>3</td>\n",
              "      <td>3</td>\n",
              "      <td>smart</td>\n",
              "    </tr>\n",
              "    <tr>\n",
              "      <th>1</th>\n",
              "      <td>1000</td>\n",
              "      <td>30720</td>\n",
              "      <td>3000</td>\n",
              "      <td>1950</td>\n",
              "      <td>150</td>\n",
              "      <td>1</td>\n",
              "      <td>1</td>\n",
              "      <td>ultra</td>\n",
              "    </tr>\n",
              "  </tbody>\n",
              "</table>\n",
              "</div>"
            ],
            "text/plain": [
              "   messages_included  mb_per_month_included  minutes_included  \\\n",
              "0                 50                  15360               500   \n",
              "1               1000                  30720              3000   \n",
              "\n",
              "   rub_monthly_fee  rub_per_gb  rub_per_message  rub_per_minute tariff_name  \n",
              "0              550         200                3               3       smart  \n",
              "1             1950         150                1               1       ultra  "
            ]
          },
          "execution_count": 10,
          "metadata": {},
          "output_type": "execute_result"
        }
      ],
      "source": [
        "df_tariffs"
      ]
    },
    {
      "cell_type": "code",
      "execution_count": null,
      "metadata": {
        "id": "4jQZ7tVOfVNU",
        "outputId": "9ea12305-7d66-4bf0-b150-924e2be2cdaf"
      },
      "outputs": [
        {
          "name": "stdout",
          "output_type": "stream",
          "text": [
            "<class 'pandas.core.frame.DataFrame'>\n",
            "RangeIndex: 500 entries, 0 to 499\n",
            "Data columns (total 8 columns):\n",
            " #   Column      Non-Null Count  Dtype \n",
            "---  ------      --------------  ----- \n",
            " 0   user_id     500 non-null    int64 \n",
            " 1   age         500 non-null    int64 \n",
            " 2   churn_date  38 non-null     object\n",
            " 3   city        500 non-null    object\n",
            " 4   first_name  500 non-null    object\n",
            " 5   last_name   500 non-null    object\n",
            " 6   reg_date    500 non-null    object\n",
            " 7   tariff      500 non-null    object\n",
            "dtypes: int64(2), object(6)\n",
            "memory usage: 31.4+ KB\n"
          ]
        },
        {
          "data": {
            "text/html": [
              "<div>\n",
              "<style scoped>\n",
              "    .dataframe tbody tr th:only-of-type {\n",
              "        vertical-align: middle;\n",
              "    }\n",
              "\n",
              "    .dataframe tbody tr th {\n",
              "        vertical-align: top;\n",
              "    }\n",
              "\n",
              "    .dataframe thead th {\n",
              "        text-align: right;\n",
              "    }\n",
              "</style>\n",
              "<table border=\"1\" class=\"dataframe\">\n",
              "  <thead>\n",
              "    <tr style=\"text-align: right;\">\n",
              "      <th></th>\n",
              "      <th>user_id</th>\n",
              "      <th>age</th>\n",
              "      <th>churn_date</th>\n",
              "      <th>city</th>\n",
              "      <th>first_name</th>\n",
              "      <th>last_name</th>\n",
              "      <th>reg_date</th>\n",
              "      <th>tariff</th>\n",
              "    </tr>\n",
              "  </thead>\n",
              "  <tbody>\n",
              "    <tr>\n",
              "      <th>490</th>\n",
              "      <td>1490</td>\n",
              "      <td>30</td>\n",
              "      <td>NaN</td>\n",
              "      <td>Москва</td>\n",
              "      <td>Радомир</td>\n",
              "      <td>Алесин</td>\n",
              "      <td>2018-04-03</td>\n",
              "      <td>smart</td>\n",
              "    </tr>\n",
              "    <tr>\n",
              "      <th>491</th>\n",
              "      <td>1491</td>\n",
              "      <td>56</td>\n",
              "      <td>NaN</td>\n",
              "      <td>Челябинск</td>\n",
              "      <td>Радислав</td>\n",
              "      <td>Андрейкин</td>\n",
              "      <td>2018-04-25</td>\n",
              "      <td>ultra</td>\n",
              "    </tr>\n",
              "    <tr>\n",
              "      <th>492</th>\n",
              "      <td>1492</td>\n",
              "      <td>63</td>\n",
              "      <td>NaN</td>\n",
              "      <td>Санкт-Петербург</td>\n",
              "      <td>Руслана</td>\n",
              "      <td>Артёменко</td>\n",
              "      <td>2018-06-26</td>\n",
              "      <td>smart</td>\n",
              "    </tr>\n",
              "    <tr>\n",
              "      <th>493</th>\n",
              "      <td>1493</td>\n",
              "      <td>71</td>\n",
              "      <td>NaN</td>\n",
              "      <td>Красноярск</td>\n",
              "      <td>Таисия</td>\n",
              "      <td>Ахматулина</td>\n",
              "      <td>2018-11-24</td>\n",
              "      <td>ultra</td>\n",
              "    </tr>\n",
              "    <tr>\n",
              "      <th>494</th>\n",
              "      <td>1494</td>\n",
              "      <td>62</td>\n",
              "      <td>NaN</td>\n",
              "      <td>Омск</td>\n",
              "      <td>Ренат</td>\n",
              "      <td>Андропов</td>\n",
              "      <td>2018-08-17</td>\n",
              "      <td>smart</td>\n",
              "    </tr>\n",
              "    <tr>\n",
              "      <th>495</th>\n",
              "      <td>1495</td>\n",
              "      <td>65</td>\n",
              "      <td>NaN</td>\n",
              "      <td>Иркутск</td>\n",
              "      <td>Авксентий</td>\n",
              "      <td>Фокин</td>\n",
              "      <td>2018-08-28</td>\n",
              "      <td>ultra</td>\n",
              "    </tr>\n",
              "    <tr>\n",
              "      <th>496</th>\n",
              "      <td>1496</td>\n",
              "      <td>36</td>\n",
              "      <td>NaN</td>\n",
              "      <td>Вологда</td>\n",
              "      <td>Трифон</td>\n",
              "      <td>Блохин</td>\n",
              "      <td>2018-01-27</td>\n",
              "      <td>smart</td>\n",
              "    </tr>\n",
              "    <tr>\n",
              "      <th>497</th>\n",
              "      <td>1497</td>\n",
              "      <td>32</td>\n",
              "      <td>NaN</td>\n",
              "      <td>Челябинск</td>\n",
              "      <td>Каролина</td>\n",
              "      <td>Агеева</td>\n",
              "      <td>2018-10-09</td>\n",
              "      <td>smart</td>\n",
              "    </tr>\n",
              "    <tr>\n",
              "      <th>498</th>\n",
              "      <td>1498</td>\n",
              "      <td>68</td>\n",
              "      <td>2018-10-25</td>\n",
              "      <td>Владикавказ</td>\n",
              "      <td>Всеволод</td>\n",
              "      <td>Акимчин</td>\n",
              "      <td>2018-07-19</td>\n",
              "      <td>smart</td>\n",
              "    </tr>\n",
              "    <tr>\n",
              "      <th>499</th>\n",
              "      <td>1499</td>\n",
              "      <td>35</td>\n",
              "      <td>NaN</td>\n",
              "      <td>Пермь</td>\n",
              "      <td>Гектор</td>\n",
              "      <td>Корнилов</td>\n",
              "      <td>2018-09-27</td>\n",
              "      <td>smart</td>\n",
              "    </tr>\n",
              "  </tbody>\n",
              "</table>\n",
              "</div>"
            ],
            "text/plain": [
              "     user_id  age  churn_date             city first_name   last_name  \\\n",
              "490     1490   30         NaN           Москва    Радомир      Алесин   \n",
              "491     1491   56         NaN        Челябинск   Радислав   Андрейкин   \n",
              "492     1492   63         NaN  Санкт-Петербург    Руслана   Артёменко   \n",
              "493     1493   71         NaN       Красноярск     Таисия  Ахматулина   \n",
              "494     1494   62         NaN             Омск      Ренат    Андропов   \n",
              "495     1495   65         NaN          Иркутск  Авксентий       Фокин   \n",
              "496     1496   36         NaN          Вологда     Трифон      Блохин   \n",
              "497     1497   32         NaN        Челябинск   Каролина      Агеева   \n",
              "498     1498   68  2018-10-25      Владикавказ   Всеволод     Акимчин   \n",
              "499     1499   35         NaN            Пермь     Гектор    Корнилов   \n",
              "\n",
              "       reg_date tariff  \n",
              "490  2018-04-03  smart  \n",
              "491  2018-04-25  ultra  \n",
              "492  2018-06-26  smart  \n",
              "493  2018-11-24  ultra  \n",
              "494  2018-08-17  smart  \n",
              "495  2018-08-28  ultra  \n",
              "496  2018-01-27  smart  \n",
              "497  2018-10-09  smart  \n",
              "498  2018-07-19  smart  \n",
              "499  2018-09-27  smart  "
            ]
          },
          "execution_count": 11,
          "metadata": {},
          "output_type": "execute_result"
        }
      ],
      "source": [
        "df_users.info()\n",
        "df_users.tail(10)"
      ]
    },
    {
      "cell_type": "code",
      "execution_count": null,
      "metadata": {
        "id": "jFiledEsfVNU",
        "outputId": "3f918806-2dfe-4410-cb3b-84db0887aa9b"
      },
      "outputs": [
        {
          "data": {
            "text/plain": [
              "user_id         0\n",
              "age             0\n",
              "churn_date    462\n",
              "city            0\n",
              "first_name      0\n",
              "last_name       0\n",
              "reg_date        0\n",
              "tariff          0\n",
              "dtype: int64"
            ]
          },
          "execution_count": 12,
          "metadata": {},
          "output_type": "execute_result"
        }
      ],
      "source": [
        "df_users.isna().sum()"
      ]
    },
    {
      "cell_type": "markdown",
      "metadata": {
        "id": "ID2_jtDufVNU"
      },
      "source": [
        "## Вывод\n",
        "   1. В таблице df_calls заменим тип данных call_date на datetime64. Округлим duration в бОльшую сторону, изменим тип данных на int. Значения 0 и 38 мин. вполне реальны, оставим.\n",
        "   2. В таблице df_internet в столбце session_date заменим тип данных на datetime64. Округлим к бОльшему значению, изменим тип данных на int.\n",
        "   3. В таблице df_messages заменим тип данных в столбце message_date на datetime64.\n",
        "   4. Таблицу df_tariffs оставляем.\n",
        "   5. В таблице df_users изменим тип данных в столбцах churn_date и reg_date на datetime64. Отсутствующие значения означают, что тариф действовал на момент выгрузки."
      ]
    },
    {
      "cell_type": "markdown",
      "metadata": {
        "id": "I9ClkGmWfVNV"
      },
      "source": [
        "### Шаг 2. Подготовим данные"
      ]
    },
    {
      "cell_type": "markdown",
      "metadata": {
        "id": "Lkh4gyAnfVNV"
      },
      "source": [
        "#### Округлим значения в столбцах и поменяем тип данных"
      ]
    },
    {
      "cell_type": "code",
      "execution_count": null,
      "metadata": {
        "scrolled": true,
        "id": "HSpJlfoofVNV",
        "outputId": "f7a171ef-d2e9-46b3-c26a-cba7496ad5ba"
      },
      "outputs": [
        {
          "name": "stdout",
          "output_type": "stream",
          "text": [
            "<class 'pandas.core.frame.DataFrame'>\n",
            "RangeIndex: 202607 entries, 0 to 202606\n",
            "Data columns (total 4 columns):\n",
            " #   Column     Non-Null Count   Dtype         \n",
            "---  ------     --------------   -----         \n",
            " 0   id         202607 non-null  object        \n",
            " 1   call_date  202607 non-null  datetime64[ns]\n",
            " 2   duration   202607 non-null  int64         \n",
            " 3   user_id    202607 non-null  int64         \n",
            "dtypes: datetime64[ns](1), int64(2), object(1)\n",
            "memory usage: 6.2+ MB\n"
          ]
        }
      ],
      "source": [
        "df_calls['duration'] = df_calls['duration'].apply(np.ceil).astype(int)\n",
        "df_calls['call_date'] = pd.to_datetime(df_calls['call_date'], format='%Y-%m-%d')\n",
        "df_calls.info()"
      ]
    },
    {
      "cell_type": "code",
      "execution_count": null,
      "metadata": {
        "id": "TgSmrTyPfVNW",
        "outputId": "2aa6a251-a6a7-4aaa-ed0b-caff6e81973d"
      },
      "outputs": [
        {
          "name": "stdout",
          "output_type": "stream",
          "text": [
            "<class 'pandas.core.frame.DataFrame'>\n",
            "RangeIndex: 149396 entries, 0 to 149395\n",
            "Data columns (total 5 columns):\n",
            " #   Column        Non-Null Count   Dtype         \n",
            "---  ------        --------------   -----         \n",
            " 0   Unnamed: 0    149396 non-null  int64         \n",
            " 1   id            149396 non-null  object        \n",
            " 2   mb_used       149396 non-null  int64         \n",
            " 3   session_date  149396 non-null  datetime64[ns]\n",
            " 4   user_id       149396 non-null  int64         \n",
            "dtypes: datetime64[ns](1), int64(3), object(1)\n",
            "memory usage: 5.7+ MB\n"
          ]
        }
      ],
      "source": [
        "df_internet['mb_used'] = df_internet['mb_used'].apply(np.ceil).astype(int)\n",
        "df_internet['session_date'] = pd.to_datetime(df_internet['session_date'], format='%Y-%m-%d')\n",
        "df_internet.info()"
      ]
    },
    {
      "cell_type": "code",
      "execution_count": null,
      "metadata": {
        "id": "4kqdEyJUfVNW",
        "outputId": "96b63d95-826c-4ceb-b05b-aa62bed7157b"
      },
      "outputs": [
        {
          "name": "stdout",
          "output_type": "stream",
          "text": [
            "<class 'pandas.core.frame.DataFrame'>\n",
            "RangeIndex: 123036 entries, 0 to 123035\n",
            "Data columns (total 3 columns):\n",
            " #   Column        Non-Null Count   Dtype         \n",
            "---  ------        --------------   -----         \n",
            " 0   id            123036 non-null  object        \n",
            " 1   message_date  123036 non-null  datetime64[ns]\n",
            " 2   user_id       123036 non-null  int64         \n",
            "dtypes: datetime64[ns](1), int64(1), object(1)\n",
            "memory usage: 2.8+ MB\n"
          ]
        }
      ],
      "source": [
        "df_messages['message_date'] = pd.to_datetime(df_messages['message_date'], format='%Y-%m-%d')\n",
        "df_messages.info()"
      ]
    },
    {
      "cell_type": "code",
      "execution_count": null,
      "metadata": {
        "id": "2419RNr6fVNX",
        "outputId": "0946ac5f-572a-43c6-b59f-520ee9679d91"
      },
      "outputs": [
        {
          "name": "stdout",
          "output_type": "stream",
          "text": [
            "<class 'pandas.core.frame.DataFrame'>\n",
            "RangeIndex: 500 entries, 0 to 499\n",
            "Data columns (total 8 columns):\n",
            " #   Column      Non-Null Count  Dtype         \n",
            "---  ------      --------------  -----         \n",
            " 0   user_id     500 non-null    int64         \n",
            " 1   age         500 non-null    int64         \n",
            " 2   churn_date  38 non-null     datetime64[ns]\n",
            " 3   city        500 non-null    object        \n",
            " 4   first_name  500 non-null    object        \n",
            " 5   last_name   500 non-null    object        \n",
            " 6   reg_date    500 non-null    object        \n",
            " 7   tariff      500 non-null    object        \n",
            "dtypes: datetime64[ns](1), int64(2), object(5)\n",
            "memory usage: 31.4+ KB\n"
          ]
        }
      ],
      "source": [
        "df_users['churn_date'] = pd.to_datetime(df_users['churn_date'], format='%Y-%m-%d')\n",
        "df_users.info()"
      ]
    },
    {
      "cell_type": "markdown",
      "metadata": {
        "id": "uOxVaHALfVNX"
      },
      "source": [
        "#### Посчитаем для каждого пользователя"
      ]
    },
    {
      "cell_type": "markdown",
      "metadata": {
        "id": "u-LaTn-FfVNX"
      },
      "source": [
        "###### Количество сделанных звонков и израсходованных минут разговора по месяцам\n",
        "###### Количество отправленных сообщений по месяцам\n",
        "###### Объем израсходованного интернет-трафика по месяцам"
      ]
    },
    {
      "cell_type": "markdown",
      "metadata": {
        "id": "Fn0zmq2WfVNY"
      },
      "source": [
        "Добавим к таблицам df_calls, df_internet и df_messages столбец со значениями по месяцам и сгруппируем по user_id и month"
      ]
    },
    {
      "cell_type": "code",
      "execution_count": null,
      "metadata": {
        "id": "IXWYVWIPfVNY"
      },
      "outputs": [],
      "source": [
        "df_calls['month'] = df_calls['call_date'].dt.month\n",
        "df_internet['month'] = df_internet['session_date'].dt.month\n",
        "df_messages['month'] = df_messages['message_date'].dt.month"
      ]
    },
    {
      "cell_type": "code",
      "execution_count": null,
      "metadata": {
        "id": "tRLjHPDXfVNY"
      },
      "outputs": [],
      "source": [
        "df_calls_groupby = df_calls.groupby(['user_id', 'month'])['duration'].agg(['count','sum']).reset_index()\n",
        "df_calls_groupby.columns = ['user_id', 'month', 'call_count', 'call_duration']\n",
        "#df_calls_groupby.head(15)"
      ]
    },
    {
      "cell_type": "code",
      "execution_count": null,
      "metadata": {
        "id": "--1cPQACfVNa"
      },
      "outputs": [],
      "source": [
        "df_internet_groupby = df_internet.groupby(['user_id', 'month'])['mb_used'].sum().reset_index()\n",
        "df_internet_groupby.columns = ['user_id', 'month', 'sum_mb_used']\n",
        "#df_internet_groupby.head(15)"
      ]
    },
    {
      "cell_type": "code",
      "execution_count": null,
      "metadata": {
        "id": "hB3u9wmjfVNa"
      },
      "outputs": [],
      "source": [
        "df_messages_groupby = df_messages.groupby(['user_id', 'month'])['id'].count().reset_index()\n",
        "df_messages_groupby.columns = ['user_id', 'month', 'messages_count']\n",
        "#df_messages_groupby.head(15)"
      ]
    },
    {
      "cell_type": "code",
      "execution_count": null,
      "metadata": {
        "id": "24h1alX8fVNb"
      },
      "outputs": [],
      "source": [
        "df_users_loc = df_users.loc[:,['user_id', 'city', 'tariff']]\n",
        "statistic_data = pd.merge(df_calls_groupby, df_messages_groupby, how='outer', on=['user_id', 'month'])\n",
        "statistic_data = pd.merge(statistic_data, df_internet_groupby, how='outer', on=['user_id', 'month'])\n",
        "statistic_data = pd.merge(statistic_data, df_users_loc, how='outer', on=['user_id'])\n",
        "#statistic_data.head(15)"
      ]
    },
    {
      "cell_type": "markdown",
      "metadata": {
        "id": "VHPd7klzfVNb"
      },
      "source": [
        "Заменим пропущенные значения на 0"
      ]
    },
    {
      "cell_type": "code",
      "execution_count": null,
      "metadata": {
        "id": "E4X_Cqc0fVNc",
        "outputId": "0e354e55-fa0a-4a1b-c074-af0640948d09"
      },
      "outputs": [
        {
          "data": {
            "text/html": [
              "<div>\n",
              "<style scoped>\n",
              "    .dataframe tbody tr th:only-of-type {\n",
              "        vertical-align: middle;\n",
              "    }\n",
              "\n",
              "    .dataframe tbody tr th {\n",
              "        vertical-align: top;\n",
              "    }\n",
              "\n",
              "    .dataframe thead th {\n",
              "        text-align: right;\n",
              "    }\n",
              "</style>\n",
              "<table border=\"1\" class=\"dataframe\">\n",
              "  <thead>\n",
              "    <tr style=\"text-align: right;\">\n",
              "      <th></th>\n",
              "      <th>user_id</th>\n",
              "      <th>month</th>\n",
              "      <th>call_count</th>\n",
              "      <th>call_duration</th>\n",
              "      <th>messages_count</th>\n",
              "      <th>sum_mb_used</th>\n",
              "      <th>city</th>\n",
              "      <th>tariff</th>\n",
              "    </tr>\n",
              "  </thead>\n",
              "  <tbody>\n",
              "    <tr>\n",
              "      <th>0</th>\n",
              "      <td>1000</td>\n",
              "      <td>5.0</td>\n",
              "      <td>22.0</td>\n",
              "      <td>159.0</td>\n",
              "      <td>22.0</td>\n",
              "      <td>2256.0</td>\n",
              "      <td>Краснодар</td>\n",
              "      <td>ultra</td>\n",
              "    </tr>\n",
              "    <tr>\n",
              "      <th>1</th>\n",
              "      <td>1000</td>\n",
              "      <td>6.0</td>\n",
              "      <td>43.0</td>\n",
              "      <td>172.0</td>\n",
              "      <td>60.0</td>\n",
              "      <td>23257.0</td>\n",
              "      <td>Краснодар</td>\n",
              "      <td>ultra</td>\n",
              "    </tr>\n",
              "    <tr>\n",
              "      <th>2</th>\n",
              "      <td>1000</td>\n",
              "      <td>7.0</td>\n",
              "      <td>47.0</td>\n",
              "      <td>340.0</td>\n",
              "      <td>75.0</td>\n",
              "      <td>14016.0</td>\n",
              "      <td>Краснодар</td>\n",
              "      <td>ultra</td>\n",
              "    </tr>\n",
              "    <tr>\n",
              "      <th>3</th>\n",
              "      <td>1000</td>\n",
              "      <td>8.0</td>\n",
              "      <td>52.0</td>\n",
              "      <td>408.0</td>\n",
              "      <td>81.0</td>\n",
              "      <td>14070.0</td>\n",
              "      <td>Краснодар</td>\n",
              "      <td>ultra</td>\n",
              "    </tr>\n",
              "    <tr>\n",
              "      <th>4</th>\n",
              "      <td>1000</td>\n",
              "      <td>9.0</td>\n",
              "      <td>58.0</td>\n",
              "      <td>466.0</td>\n",
              "      <td>57.0</td>\n",
              "      <td>14581.0</td>\n",
              "      <td>Краснодар</td>\n",
              "      <td>ultra</td>\n",
              "    </tr>\n",
              "    <tr>\n",
              "      <th>5</th>\n",
              "      <td>1000</td>\n",
              "      <td>10.0</td>\n",
              "      <td>57.0</td>\n",
              "      <td>350.0</td>\n",
              "      <td>73.0</td>\n",
              "      <td>14717.0</td>\n",
              "      <td>Краснодар</td>\n",
              "      <td>ultra</td>\n",
              "    </tr>\n",
              "    <tr>\n",
              "      <th>6</th>\n",
              "      <td>1000</td>\n",
              "      <td>11.0</td>\n",
              "      <td>43.0</td>\n",
              "      <td>338.0</td>\n",
              "      <td>58.0</td>\n",
              "      <td>14768.0</td>\n",
              "      <td>Краснодар</td>\n",
              "      <td>ultra</td>\n",
              "    </tr>\n",
              "    <tr>\n",
              "      <th>7</th>\n",
              "      <td>1000</td>\n",
              "      <td>12.0</td>\n",
              "      <td>46.0</td>\n",
              "      <td>333.0</td>\n",
              "      <td>70.0</td>\n",
              "      <td>9827.0</td>\n",
              "      <td>Краснодар</td>\n",
              "      <td>ultra</td>\n",
              "    </tr>\n",
              "    <tr>\n",
              "      <th>8</th>\n",
              "      <td>1001</td>\n",
              "      <td>11.0</td>\n",
              "      <td>59.0</td>\n",
              "      <td>430.0</td>\n",
              "      <td>0.0</td>\n",
              "      <td>18452.0</td>\n",
              "      <td>Москва</td>\n",
              "      <td>smart</td>\n",
              "    </tr>\n",
              "    <tr>\n",
              "      <th>9</th>\n",
              "      <td>1001</td>\n",
              "      <td>12.0</td>\n",
              "      <td>63.0</td>\n",
              "      <td>414.0</td>\n",
              "      <td>0.0</td>\n",
              "      <td>14053.0</td>\n",
              "      <td>Москва</td>\n",
              "      <td>smart</td>\n",
              "    </tr>\n",
              "    <tr>\n",
              "      <th>10</th>\n",
              "      <td>1002</td>\n",
              "      <td>6.0</td>\n",
              "      <td>15.0</td>\n",
              "      <td>117.0</td>\n",
              "      <td>4.0</td>\n",
              "      <td>10871.0</td>\n",
              "      <td>Стерлитамак</td>\n",
              "      <td>smart</td>\n",
              "    </tr>\n",
              "    <tr>\n",
              "      <th>11</th>\n",
              "      <td>1002</td>\n",
              "      <td>7.0</td>\n",
              "      <td>26.0</td>\n",
              "      <td>214.0</td>\n",
              "      <td>11.0</td>\n",
              "      <td>17601.0</td>\n",
              "      <td>Стерлитамак</td>\n",
              "      <td>smart</td>\n",
              "    </tr>\n",
              "    <tr>\n",
              "      <th>12</th>\n",
              "      <td>1002</td>\n",
              "      <td>8.0</td>\n",
              "      <td>42.0</td>\n",
              "      <td>289.0</td>\n",
              "      <td>13.0</td>\n",
              "      <td>20347.0</td>\n",
              "      <td>Стерлитамак</td>\n",
              "      <td>smart</td>\n",
              "    </tr>\n",
              "    <tr>\n",
              "      <th>13</th>\n",
              "      <td>1002</td>\n",
              "      <td>9.0</td>\n",
              "      <td>36.0</td>\n",
              "      <td>206.0</td>\n",
              "      <td>4.0</td>\n",
              "      <td>16712.0</td>\n",
              "      <td>Стерлитамак</td>\n",
              "      <td>smart</td>\n",
              "    </tr>\n",
              "    <tr>\n",
              "      <th>14</th>\n",
              "      <td>1002</td>\n",
              "      <td>10.0</td>\n",
              "      <td>33.0</td>\n",
              "      <td>212.0</td>\n",
              "      <td>10.0</td>\n",
              "      <td>13905.0</td>\n",
              "      <td>Стерлитамак</td>\n",
              "      <td>smart</td>\n",
              "    </tr>\n",
              "  </tbody>\n",
              "</table>\n",
              "</div>"
            ],
            "text/plain": [
              "    user_id  month  call_count  call_duration  messages_count  sum_mb_used  \\\n",
              "0      1000    5.0        22.0          159.0            22.0       2256.0   \n",
              "1      1000    6.0        43.0          172.0            60.0      23257.0   \n",
              "2      1000    7.0        47.0          340.0            75.0      14016.0   \n",
              "3      1000    8.0        52.0          408.0            81.0      14070.0   \n",
              "4      1000    9.0        58.0          466.0            57.0      14581.0   \n",
              "5      1000   10.0        57.0          350.0            73.0      14717.0   \n",
              "6      1000   11.0        43.0          338.0            58.0      14768.0   \n",
              "7      1000   12.0        46.0          333.0            70.0       9827.0   \n",
              "8      1001   11.0        59.0          430.0             0.0      18452.0   \n",
              "9      1001   12.0        63.0          414.0             0.0      14053.0   \n",
              "10     1002    6.0        15.0          117.0             4.0      10871.0   \n",
              "11     1002    7.0        26.0          214.0            11.0      17601.0   \n",
              "12     1002    8.0        42.0          289.0            13.0      20347.0   \n",
              "13     1002    9.0        36.0          206.0             4.0      16712.0   \n",
              "14     1002   10.0        33.0          212.0            10.0      13905.0   \n",
              "\n",
              "           city tariff  \n",
              "0     Краснодар  ultra  \n",
              "1     Краснодар  ultra  \n",
              "2     Краснодар  ultra  \n",
              "3     Краснодар  ultra  \n",
              "4     Краснодар  ultra  \n",
              "5     Краснодар  ultra  \n",
              "6     Краснодар  ultra  \n",
              "7     Краснодар  ultra  \n",
              "8        Москва  smart  \n",
              "9        Москва  smart  \n",
              "10  Стерлитамак  smart  \n",
              "11  Стерлитамак  smart  \n",
              "12  Стерлитамак  smart  \n",
              "13  Стерлитамак  smart  \n",
              "14  Стерлитамак  smart  "
            ]
          },
          "execution_count": 22,
          "metadata": {},
          "output_type": "execute_result"
        }
      ],
      "source": [
        "statistic_data = statistic_data.fillna(0)\n",
        "statistic_data.head(15)"
      ]
    },
    {
      "cell_type": "code",
      "execution_count": null,
      "metadata": {
        "id": "KwaAbV6YfVNc",
        "outputId": "f242a0fe-59ed-4320-8132-45dab37542cd"
      },
      "outputs": [
        {
          "data": {
            "text/plain": [
              "user_id           0\n",
              "month             0\n",
              "call_count        0\n",
              "call_duration     0\n",
              "messages_count    0\n",
              "sum_mb_used       0\n",
              "city              0\n",
              "tariff            0\n",
              "dtype: int64"
            ]
          },
          "execution_count": 23,
          "metadata": {},
          "output_type": "execute_result"
        }
      ],
      "source": [
        "statistic_data.isna().sum()"
      ]
    },
    {
      "cell_type": "code",
      "execution_count": null,
      "metadata": {
        "id": "u-6ihAKSfVNc",
        "outputId": "31dcb05f-e578-4262-9c49-aa760f3af7fe"
      },
      "outputs": [
        {
          "data": {
            "text/plain": [
              "(3216, 8)"
            ]
          },
          "execution_count": 24,
          "metadata": {},
          "output_type": "execute_result"
        }
      ],
      "source": [
        "statistic_data.shape"
      ]
    },
    {
      "cell_type": "code",
      "execution_count": null,
      "metadata": {
        "id": "VE_pkCpDfVNc",
        "outputId": "6b89f8ae-0a32-4895-b4a1-05210e25eda3"
      },
      "outputs": [
        {
          "data": {
            "text/plain": [
              "500"
            ]
          },
          "execution_count": 25,
          "metadata": {},
          "output_type": "execute_result"
        }
      ],
      "source": [
        "statistic_data.user_id.nunique()"
      ]
    },
    {
      "cell_type": "markdown",
      "metadata": {
        "id": "WE_I-UgEfVNd"
      },
      "source": [
        "###### Помесячная выручка с каждого пользователя"
      ]
    },
    {
      "cell_type": "code",
      "execution_count": null,
      "metadata": {
        "id": "BMwzCmo4fVNd",
        "outputId": "b57a77cf-5492-40a6-badd-c0f228b03de7"
      },
      "outputs": [
        {
          "data": {
            "text/html": [
              "<div>\n",
              "<style scoped>\n",
              "    .dataframe tbody tr th:only-of-type {\n",
              "        vertical-align: middle;\n",
              "    }\n",
              "\n",
              "    .dataframe tbody tr th {\n",
              "        vertical-align: top;\n",
              "    }\n",
              "\n",
              "    .dataframe thead th {\n",
              "        text-align: right;\n",
              "    }\n",
              "</style>\n",
              "<table border=\"1\" class=\"dataframe\">\n",
              "  <thead>\n",
              "    <tr style=\"text-align: right;\">\n",
              "      <th></th>\n",
              "      <th>messages_included</th>\n",
              "      <th>mb_per_month_included</th>\n",
              "      <th>minutes_included</th>\n",
              "      <th>rub_monthly_fee</th>\n",
              "      <th>rub_per_gb</th>\n",
              "      <th>rub_per_message</th>\n",
              "      <th>rub_per_minute</th>\n",
              "      <th>tariff_name</th>\n",
              "    </tr>\n",
              "  </thead>\n",
              "  <tbody>\n",
              "    <tr>\n",
              "      <th>0</th>\n",
              "      <td>50</td>\n",
              "      <td>15360</td>\n",
              "      <td>500</td>\n",
              "      <td>550</td>\n",
              "      <td>200</td>\n",
              "      <td>3</td>\n",
              "      <td>3</td>\n",
              "      <td>smart</td>\n",
              "    </tr>\n",
              "    <tr>\n",
              "      <th>1</th>\n",
              "      <td>1000</td>\n",
              "      <td>30720</td>\n",
              "      <td>3000</td>\n",
              "      <td>1950</td>\n",
              "      <td>150</td>\n",
              "      <td>1</td>\n",
              "      <td>1</td>\n",
              "      <td>ultra</td>\n",
              "    </tr>\n",
              "  </tbody>\n",
              "</table>\n",
              "</div>"
            ],
            "text/plain": [
              "   messages_included  mb_per_month_included  minutes_included  \\\n",
              "0                 50                  15360               500   \n",
              "1               1000                  30720              3000   \n",
              "\n",
              "   rub_monthly_fee  rub_per_gb  rub_per_message  rub_per_minute tariff_name  \n",
              "0              550         200                3               3       smart  \n",
              "1             1950         150                1               1       ultra  "
            ]
          },
          "execution_count": 26,
          "metadata": {},
          "output_type": "execute_result"
        }
      ],
      "source": [
        "df_tariffs"
      ]
    },
    {
      "cell_type": "code",
      "execution_count": null,
      "metadata": {
        "id": "Hv9KvMtwfVNe",
        "outputId": "4c036a3d-26a6-4c04-925f-66d27df2d5de"
      },
      "outputs": [
        {
          "data": {
            "text/html": [
              "<div>\n",
              "<style scoped>\n",
              "    .dataframe tbody tr th:only-of-type {\n",
              "        vertical-align: middle;\n",
              "    }\n",
              "\n",
              "    .dataframe tbody tr th {\n",
              "        vertical-align: top;\n",
              "    }\n",
              "\n",
              "    .dataframe thead th {\n",
              "        text-align: right;\n",
              "    }\n",
              "</style>\n",
              "<table border=\"1\" class=\"dataframe\">\n",
              "  <thead>\n",
              "    <tr style=\"text-align: right;\">\n",
              "      <th></th>\n",
              "      <th>user_id</th>\n",
              "      <th>month</th>\n",
              "      <th>call_count</th>\n",
              "      <th>call_duration</th>\n",
              "      <th>messages_count</th>\n",
              "      <th>sum_mb_used</th>\n",
              "      <th>city</th>\n",
              "      <th>tariff</th>\n",
              "      <th>month_income</th>\n",
              "    </tr>\n",
              "  </thead>\n",
              "  <tbody>\n",
              "    <tr>\n",
              "      <th>0</th>\n",
              "      <td>1000</td>\n",
              "      <td>5.0</td>\n",
              "      <td>22.0</td>\n",
              "      <td>159.0</td>\n",
              "      <td>22.0</td>\n",
              "      <td>2256.0</td>\n",
              "      <td>Краснодар</td>\n",
              "      <td>ultra</td>\n",
              "      <td>1950.00000</td>\n",
              "    </tr>\n",
              "    <tr>\n",
              "      <th>1</th>\n",
              "      <td>1000</td>\n",
              "      <td>6.0</td>\n",
              "      <td>43.0</td>\n",
              "      <td>172.0</td>\n",
              "      <td>60.0</td>\n",
              "      <td>23257.0</td>\n",
              "      <td>Краснодар</td>\n",
              "      <td>ultra</td>\n",
              "      <td>1950.00000</td>\n",
              "    </tr>\n",
              "    <tr>\n",
              "      <th>2</th>\n",
              "      <td>1000</td>\n",
              "      <td>7.0</td>\n",
              "      <td>47.0</td>\n",
              "      <td>340.0</td>\n",
              "      <td>75.0</td>\n",
              "      <td>14016.0</td>\n",
              "      <td>Краснодар</td>\n",
              "      <td>ultra</td>\n",
              "      <td>1950.00000</td>\n",
              "    </tr>\n",
              "    <tr>\n",
              "      <th>3</th>\n",
              "      <td>1000</td>\n",
              "      <td>8.0</td>\n",
              "      <td>52.0</td>\n",
              "      <td>408.0</td>\n",
              "      <td>81.0</td>\n",
              "      <td>14070.0</td>\n",
              "      <td>Краснодар</td>\n",
              "      <td>ultra</td>\n",
              "      <td>1950.00000</td>\n",
              "    </tr>\n",
              "    <tr>\n",
              "      <th>4</th>\n",
              "      <td>1000</td>\n",
              "      <td>9.0</td>\n",
              "      <td>58.0</td>\n",
              "      <td>466.0</td>\n",
              "      <td>57.0</td>\n",
              "      <td>14581.0</td>\n",
              "      <td>Краснодар</td>\n",
              "      <td>ultra</td>\n",
              "      <td>1950.00000</td>\n",
              "    </tr>\n",
              "    <tr>\n",
              "      <th>5</th>\n",
              "      <td>1000</td>\n",
              "      <td>10.0</td>\n",
              "      <td>57.0</td>\n",
              "      <td>350.0</td>\n",
              "      <td>73.0</td>\n",
              "      <td>14717.0</td>\n",
              "      <td>Краснодар</td>\n",
              "      <td>ultra</td>\n",
              "      <td>1950.00000</td>\n",
              "    </tr>\n",
              "    <tr>\n",
              "      <th>6</th>\n",
              "      <td>1000</td>\n",
              "      <td>11.0</td>\n",
              "      <td>43.0</td>\n",
              "      <td>338.0</td>\n",
              "      <td>58.0</td>\n",
              "      <td>14768.0</td>\n",
              "      <td>Краснодар</td>\n",
              "      <td>ultra</td>\n",
              "      <td>1950.00000</td>\n",
              "    </tr>\n",
              "    <tr>\n",
              "      <th>7</th>\n",
              "      <td>1000</td>\n",
              "      <td>12.0</td>\n",
              "      <td>46.0</td>\n",
              "      <td>333.0</td>\n",
              "      <td>70.0</td>\n",
              "      <td>9827.0</td>\n",
              "      <td>Краснодар</td>\n",
              "      <td>ultra</td>\n",
              "      <td>1950.00000</td>\n",
              "    </tr>\n",
              "    <tr>\n",
              "      <th>8</th>\n",
              "      <td>1001</td>\n",
              "      <td>11.0</td>\n",
              "      <td>59.0</td>\n",
              "      <td>430.0</td>\n",
              "      <td>0.0</td>\n",
              "      <td>18452.0</td>\n",
              "      <td>Москва</td>\n",
              "      <td>smart</td>\n",
              "      <td>1153.90625</td>\n",
              "    </tr>\n",
              "    <tr>\n",
              "      <th>9</th>\n",
              "      <td>1001</td>\n",
              "      <td>12.0</td>\n",
              "      <td>63.0</td>\n",
              "      <td>414.0</td>\n",
              "      <td>0.0</td>\n",
              "      <td>14053.0</td>\n",
              "      <td>Москва</td>\n",
              "      <td>smart</td>\n",
              "      <td>550.00000</td>\n",
              "    </tr>\n",
              "  </tbody>\n",
              "</table>\n",
              "</div>"
            ],
            "text/plain": [
              "   user_id  month  call_count  call_duration  messages_count  sum_mb_used  \\\n",
              "0     1000    5.0        22.0          159.0            22.0       2256.0   \n",
              "1     1000    6.0        43.0          172.0            60.0      23257.0   \n",
              "2     1000    7.0        47.0          340.0            75.0      14016.0   \n",
              "3     1000    8.0        52.0          408.0            81.0      14070.0   \n",
              "4     1000    9.0        58.0          466.0            57.0      14581.0   \n",
              "5     1000   10.0        57.0          350.0            73.0      14717.0   \n",
              "6     1000   11.0        43.0          338.0            58.0      14768.0   \n",
              "7     1000   12.0        46.0          333.0            70.0       9827.0   \n",
              "8     1001   11.0        59.0          430.0             0.0      18452.0   \n",
              "9     1001   12.0        63.0          414.0             0.0      14053.0   \n",
              "\n",
              "        city tariff  month_income  \n",
              "0  Краснодар  ultra    1950.00000  \n",
              "1  Краснодар  ultra    1950.00000  \n",
              "2  Краснодар  ultra    1950.00000  \n",
              "3  Краснодар  ultra    1950.00000  \n",
              "4  Краснодар  ultra    1950.00000  \n",
              "5  Краснодар  ultra    1950.00000  \n",
              "6  Краснодар  ultra    1950.00000  \n",
              "7  Краснодар  ultra    1950.00000  \n",
              "8     Москва  smart    1153.90625  \n",
              "9     Москва  smart     550.00000  "
            ]
          },
          "execution_count": 27,
          "metadata": {},
          "output_type": "execute_result"
        }
      ],
      "source": [
        "#введем функцию подсчета помесячной выручки с каждого пользователя\n",
        "def det_revenue(row):\n",
        "    messages = row['messages_count']\n",
        "    mb_used = row['sum_mb_used']\n",
        "    tariff = row['tariff']\n",
        "    duration = row['call_duration']\n",
        "    \n",
        "    if tariff == 'smart':\n",
        "        above_duration = duration - df_tariffs.loc[0, 'minutes_included']\n",
        "        above_mb = mb_used - df_tariffs.loc[0, 'mb_per_month_included']\n",
        "        above_messages = messages - df_tariffs.loc[0, 'messages_included']\n",
        "        \n",
        "        if above_duration < 0: above_duration = 0\n",
        "        if above_mb < 0: above_mb = 0\n",
        "        if above_messages < 0: above_messages = 0\n",
        "        \n",
        "        return (df_tariffs.loc[0, 'rub_per_message'] * above_messages + \n",
        "                   (df_tariffs.loc[0, 'rub_per_gb'] / 1024) * above_mb + \n",
        "                   df_tariffs.loc[0, 'rub_per_minute'] * above_duration + \n",
        "                   df_tariffs.loc[0, 'rub_monthly_fee']\n",
        "                  ) \n",
        "    else:\n",
        "        above_duration = duration - df_tariffs.loc[1, 'minutes_included']\n",
        "        above_mb = mb_used - df_tariffs.loc[1, 'mb_per_month_included']\n",
        "        above_messages = messages - df_tariffs.loc[1, 'messages_included']\n",
        "        \n",
        "        if above_duration < 0: above_duration = 0\n",
        "        if above_mb < 0: above_mb = 0\n",
        "        if above_messages < 0: above_messages = 0\n",
        "        \n",
        "        return (df_tariffs.loc[1, 'rub_per_message'] * above_messages + \n",
        "                   (df_tariffs.loc[1, 'rub_per_gb'] / 1024) * above_mb + \n",
        "                   df_tariffs.loc[1, 'rub_per_minute'] * above_duration + \n",
        "                   df_tariffs.loc[1, 'rub_monthly_fee']\n",
        "                  )\n",
        "\n",
        "statistic_data['month_income'] = statistic_data.apply(det_revenue, axis=1)\n",
        "statistic_data.head(10)"
      ]
    },
    {
      "cell_type": "code",
      "execution_count": null,
      "metadata": {
        "id": "G40V-wjGfVNe",
        "outputId": "e78dff32-0ffb-4b23-b5a7-57bc835424dc"
      },
      "outputs": [
        {
          "data": {
            "text/plain": [
              "count    3216.000000\n",
              "mean     1486.709572\n",
              "std       783.935879\n",
              "min       550.000000\n",
              "25%       694.000000\n",
              "50%      1563.175781\n",
              "75%      1950.000000\n",
              "max      6711.015625\n",
              "Name: month_income, dtype: float64"
            ]
          },
          "execution_count": 28,
          "metadata": {},
          "output_type": "execute_result"
        }
      ],
      "source": [
        "statistic_data['month_income'].describe()"
      ]
    },
    {
      "cell_type": "markdown",
      "metadata": {
        "id": "PRafJzbZfVNf"
      },
      "source": [
        "### Вывод\n",
        "    Создали новую таблицу statistic_data - в которую сгруппировали данные по каждому абоненту за каждый месяц пользования.        \n",
        "    Заполнили пропущенные значения.  \n",
        "    Добавили в таблицу столбец с выручкой по месяцам."
      ]
    },
    {
      "cell_type": "markdown",
      "metadata": {
        "id": "Fs9BI1ctfVNf"
      },
      "source": [
        "### Шаг 3. Проанализируем данные"
      ]
    },
    {
      "cell_type": "markdown",
      "metadata": {
        "id": "JJ4E3vA4fVNf"
      },
      "source": [
        "###### Опишм поведение клиентов оператора, исходя из выборки.\n",
        "    Сколько минут разговора, сколько сообщений и какой объём интернет-трафика требуется пользователям каждого тарифа в месяц?\n",
        "    Посчитаем среднее количество, дисперсию и стандартное отклонение. \n",
        "    Построим гистограммы. \n",
        "    Опишим распределения."
      ]
    },
    {
      "cell_type": "code",
      "execution_count": null,
      "metadata": {
        "id": "uVGM9oxSfVNg",
        "outputId": "124e396c-05fa-4bc7-d740-3e282aefdff8"
      },
      "outputs": [
        {
          "data": {
            "text/html": [
              "<div>\n",
              "<style scoped>\n",
              "    .dataframe tbody tr th:only-of-type {\n",
              "        vertical-align: middle;\n",
              "    }\n",
              "\n",
              "    .dataframe tbody tr th {\n",
              "        vertical-align: top;\n",
              "    }\n",
              "\n",
              "    .dataframe thead tr th {\n",
              "        text-align: left;\n",
              "    }\n",
              "\n",
              "    .dataframe thead tr:last-of-type th {\n",
              "        text-align: right;\n",
              "    }\n",
              "</style>\n",
              "<table border=\"1\" class=\"dataframe\">\n",
              "  <thead>\n",
              "    <tr>\n",
              "      <th></th>\n",
              "      <th colspan=\"4\" halign=\"left\">median</th>\n",
              "      <th colspan=\"4\" halign=\"left\">mean</th>\n",
              "      <th colspan=\"4\" halign=\"left\">var</th>\n",
              "      <th colspan=\"4\" halign=\"left\">std</th>\n",
              "    </tr>\n",
              "    <tr>\n",
              "      <th></th>\n",
              "      <th>call_duration</th>\n",
              "      <th>messages_count</th>\n",
              "      <th>month_income</th>\n",
              "      <th>sum_mb_used</th>\n",
              "      <th>call_duration</th>\n",
              "      <th>messages_count</th>\n",
              "      <th>month_income</th>\n",
              "      <th>sum_mb_used</th>\n",
              "      <th>call_duration</th>\n",
              "      <th>messages_count</th>\n",
              "      <th>month_income</th>\n",
              "      <th>sum_mb_used</th>\n",
              "      <th>call_duration</th>\n",
              "      <th>messages_count</th>\n",
              "      <th>month_income</th>\n",
              "      <th>sum_mb_used</th>\n",
              "    </tr>\n",
              "    <tr>\n",
              "      <th>tariff</th>\n",
              "      <th></th>\n",
              "      <th></th>\n",
              "      <th></th>\n",
              "      <th></th>\n",
              "      <th></th>\n",
              "      <th></th>\n",
              "      <th></th>\n",
              "      <th></th>\n",
              "      <th></th>\n",
              "      <th></th>\n",
              "      <th></th>\n",
              "      <th></th>\n",
              "      <th></th>\n",
              "      <th></th>\n",
              "      <th></th>\n",
              "      <th></th>\n",
              "    </tr>\n",
              "  </thead>\n",
              "  <tbody>\n",
              "    <tr>\n",
              "      <th>smart</th>\n",
              "      <td>421.5</td>\n",
              "      <td>28.0</td>\n",
              "      <td>959.546875</td>\n",
              "      <td>16529.0</td>\n",
              "      <td>417.747534</td>\n",
              "      <td>33.369058</td>\n",
              "      <td>1233.043032</td>\n",
              "      <td>16221.910762</td>\n",
              "      <td>36281.393836</td>\n",
              "      <td>796.955256</td>\n",
              "      <td>620383.654857</td>\n",
              "      <td>3.464852e+07</td>\n",
              "      <td>190.476754</td>\n",
              "      <td>28.230396</td>\n",
              "      <td>787.644371</td>\n",
              "      <td>5886.299627</td>\n",
              "    </tr>\n",
              "    <tr>\n",
              "      <th>ultra</th>\n",
              "      <td>518.0</td>\n",
              "      <td>38.0</td>\n",
              "      <td>1950.000000</td>\n",
              "      <td>19320.0</td>\n",
              "      <td>526.089249</td>\n",
              "      <td>49.313387</td>\n",
              "      <td>2060.417872</td>\n",
              "      <td>19467.137931</td>\n",
              "      <td>101052.493549</td>\n",
              "      <td>2285.417425</td>\n",
              "      <td>126836.789215</td>\n",
              "      <td>1.022173e+08</td>\n",
              "      <td>317.887549</td>\n",
              "      <td>47.806040</td>\n",
              "      <td>356.141530</td>\n",
              "      <td>10110.255401</td>\n",
              "    </tr>\n",
              "  </tbody>\n",
              "</table>\n",
              "</div>"
            ],
            "text/plain": [
              "              median                                                  mean  \\\n",
              "       call_duration messages_count month_income sum_mb_used call_duration   \n",
              "tariff                                                                       \n",
              "smart          421.5           28.0   959.546875     16529.0    417.747534   \n",
              "ultra          518.0           38.0  1950.000000     19320.0    526.089249   \n",
              "\n",
              "                                                            var  \\\n",
              "       messages_count month_income   sum_mb_used  call_duration   \n",
              "tariff                                                            \n",
              "smart       33.369058  1233.043032  16221.910762   36281.393836   \n",
              "ultra       49.313387  2060.417872  19467.137931  101052.493549   \n",
              "\n",
              "                                                             std  \\\n",
              "       messages_count   month_income   sum_mb_used call_duration   \n",
              "tariff                                                             \n",
              "smart      796.955256  620383.654857  3.464852e+07    190.476754   \n",
              "ultra     2285.417425  126836.789215  1.022173e+08    317.887549   \n",
              "\n",
              "                                                  \n",
              "       messages_count month_income   sum_mb_used  \n",
              "tariff                                            \n",
              "smart       28.230396   787.644371   5886.299627  \n",
              "ultra       47.806040   356.141530  10110.255401  "
            ]
          },
          "execution_count": 29,
          "metadata": {},
          "output_type": "execute_result"
        }
      ],
      "source": [
        "statistic_data.pivot_table(index='tariff', values=['call_duration', 'messages_count', 'sum_mb_used', 'month_income'],\n",
        "                          aggfunc=['median', 'mean', 'var', 'std'])"
      ]
    },
    {
      "cell_type": "code",
      "execution_count": null,
      "metadata": {
        "id": "ug1HqhoXfVNg",
        "outputId": "bb2a6f8b-a638-42fd-89f6-d368803b9284"
      },
      "outputs": [
        {
          "data": {
            "text/html": [
              "<div>\n",
              "<style scoped>\n",
              "    .dataframe tbody tr th:only-of-type {\n",
              "        vertical-align: middle;\n",
              "    }\n",
              "\n",
              "    .dataframe tbody tr th {\n",
              "        vertical-align: top;\n",
              "    }\n",
              "\n",
              "    .dataframe thead th {\n",
              "        text-align: right;\n",
              "    }\n",
              "</style>\n",
              "<table border=\"1\" class=\"dataframe\">\n",
              "  <thead>\n",
              "    <tr style=\"text-align: right;\">\n",
              "      <th></th>\n",
              "      <th>tariff</th>\n",
              "      <th>smart</th>\n",
              "      <th>ultra</th>\n",
              "    </tr>\n",
              "  </thead>\n",
              "  <tbody>\n",
              "    <tr>\n",
              "      <th rowspan=\"4\" valign=\"top\">median</th>\n",
              "      <th>call_duration</th>\n",
              "      <td>422.0</td>\n",
              "      <td>518.0</td>\n",
              "    </tr>\n",
              "    <tr>\n",
              "      <th>messages_count</th>\n",
              "      <td>28.0</td>\n",
              "      <td>38.0</td>\n",
              "    </tr>\n",
              "    <tr>\n",
              "      <th>month_income</th>\n",
              "      <td>960.0</td>\n",
              "      <td>1950.0</td>\n",
              "    </tr>\n",
              "    <tr>\n",
              "      <th>sum_mb_used</th>\n",
              "      <td>16529.0</td>\n",
              "      <td>19320.0</td>\n",
              "    </tr>\n",
              "    <tr>\n",
              "      <th rowspan=\"4\" valign=\"top\">mean</th>\n",
              "      <th>call_duration</th>\n",
              "      <td>418.0</td>\n",
              "      <td>526.0</td>\n",
              "    </tr>\n",
              "    <tr>\n",
              "      <th>messages_count</th>\n",
              "      <td>33.0</td>\n",
              "      <td>49.0</td>\n",
              "    </tr>\n",
              "    <tr>\n",
              "      <th>month_income</th>\n",
              "      <td>1233.0</td>\n",
              "      <td>2060.0</td>\n",
              "    </tr>\n",
              "    <tr>\n",
              "      <th>sum_mb_used</th>\n",
              "      <td>16222.0</td>\n",
              "      <td>19467.0</td>\n",
              "    </tr>\n",
              "    <tr>\n",
              "      <th rowspan=\"4\" valign=\"top\">var</th>\n",
              "      <th>call_duration</th>\n",
              "      <td>36281.0</td>\n",
              "      <td>101052.0</td>\n",
              "    </tr>\n",
              "    <tr>\n",
              "      <th>messages_count</th>\n",
              "      <td>797.0</td>\n",
              "      <td>2285.0</td>\n",
              "    </tr>\n",
              "    <tr>\n",
              "      <th>month_income</th>\n",
              "      <td>620384.0</td>\n",
              "      <td>126837.0</td>\n",
              "    </tr>\n",
              "    <tr>\n",
              "      <th>sum_mb_used</th>\n",
              "      <td>34648523.0</td>\n",
              "      <td>102217264.0</td>\n",
              "    </tr>\n",
              "    <tr>\n",
              "      <th rowspan=\"4\" valign=\"top\">std</th>\n",
              "      <th>call_duration</th>\n",
              "      <td>190.0</td>\n",
              "      <td>318.0</td>\n",
              "    </tr>\n",
              "    <tr>\n",
              "      <th>messages_count</th>\n",
              "      <td>28.0</td>\n",
              "      <td>48.0</td>\n",
              "    </tr>\n",
              "    <tr>\n",
              "      <th>month_income</th>\n",
              "      <td>788.0</td>\n",
              "      <td>356.0</td>\n",
              "    </tr>\n",
              "    <tr>\n",
              "      <th>sum_mb_used</th>\n",
              "      <td>5886.0</td>\n",
              "      <td>10110.0</td>\n",
              "    </tr>\n",
              "  </tbody>\n",
              "</table>\n",
              "</div>"
            ],
            "text/plain": [
              "tariff                      smart        ultra\n",
              "median call_duration        422.0        518.0\n",
              "       messages_count        28.0         38.0\n",
              "       month_income         960.0       1950.0\n",
              "       sum_mb_used        16529.0      19320.0\n",
              "mean   call_duration        418.0        526.0\n",
              "       messages_count        33.0         49.0\n",
              "       month_income        1233.0       2060.0\n",
              "       sum_mb_used        16222.0      19467.0\n",
              "var    call_duration      36281.0     101052.0\n",
              "       messages_count       797.0       2285.0\n",
              "       month_income      620384.0     126837.0\n",
              "       sum_mb_used     34648523.0  102217264.0\n",
              "std    call_duration        190.0        318.0\n",
              "       messages_count        28.0         48.0\n",
              "       month_income         788.0        356.0\n",
              "       sum_mb_used         5886.0      10110.0"
            ]
          },
          "execution_count": 30,
          "metadata": {},
          "output_type": "execute_result"
        }
      ],
      "source": [
        "statistic_data.pivot_table(index='tariff', values=['call_duration', 'messages_count', 'sum_mb_used', 'month_income'],\n",
        "                          aggfunc=['median', 'mean', 'var', 'std']).T.round()"
      ]
    },
    {
      "cell_type": "markdown",
      "metadata": {
        "id": "gMm8sco4fVNh"
      },
      "source": [
        "    Пользователи тарифа смарт в среднем тратят интернет трафика больше лимита и переплачивают почти в два раза по тарифу.\n",
        "    Ползователи тарифа ультра укладываются в лимиты тарифа."
      ]
    },
    {
      "cell_type": "code",
      "execution_count": null,
      "metadata": {
        "id": "31QDBFYUfVNh",
        "outputId": "2033c24d-e09a-4877-86d4-b84ec3240c43"
      },
      "outputs": [
        {
          "data": {
            "image/png": "[encoded data removed]",
            "text/plain": [
              "<Figure size 720x360 with 1 Axes>"
            ]
          },
          "metadata": {
            "needs_background": "light"
          },
          "output_type": "display_data"
        },
        {
          "data": {
            "image/png": "[encoded data removed]",
            "text/plain": [
              "<Figure size 720x360 with 1 Axes>"
            ]
          },
          "metadata": {
            "needs_background": "light"
          },
          "output_type": "display_data"
        },
        {
          "data": {
            "image/png": "[encoded data removed]",
            "text/plain": [
              "<Figure size 720x360 with 1 Axes>"
            ]
          },
          "metadata": {
            "needs_background": "light"
          },
          "output_type": "display_data"
        }
      ],
      "source": [
        "list_of_columns=['call_duration','sum_mb_used', 'messages_count']\n",
        "df_tariffs = ['ultra','smart']\n",
        "for column in list_of_columns:\n",
        "        statistic_data.loc[statistic_data.loc[:,'tariff'] == 'smart'][column].plot(kind = 'hist',\n",
        "                                                                            bins = 40,\n",
        "                                                                            label = 'smart', figsize = (10,5), \n",
        "                                                                           )\n",
        "        statistic_data.loc[statistic_data.loc[:,'tariff'] == \"ultra\"][column].plot(kind = 'hist',\n",
        "                                                                            bins = 40,\n",
        "                                                                            alpha =0.7,\n",
        "                                                                            label = 'ultra', figsize = (10,5), \n",
        "                                                                           )\n",
        "        plt.title(column)\n",
        "        plt.legend()\n",
        "        plt.show()"
      ]
    },
    {
      "cell_type": "markdown",
      "metadata": {
        "id": "wm3ofY6gfVNh"
      },
      "source": [
        "#### Вывод\n",
        "    Распределения продолжительности звонков и использованного трафика для обоих тарифов близки к нормальному распределению и относительно симметричны.\n",
        "\n",
        "    Гистограмма распределения отправленных сообщений имеет ярко выраженный скос вправо. "
      ]
    },
    {
      "cell_type": "markdown",
      "metadata": {
        "id": "3ayAu5GBfVNi"
      },
      "source": [
        "### Шаг 4. Проверим гипотезы"
      ]
    },
    {
      "cell_type": "markdown",
      "metadata": {
        "id": "pS7Yx0KufVNi"
      },
      "source": [
        "   1. Средняя выручка пользователей тарифов «Ультра» и «Смарт» различается.\n",
        "   2. Средняя выручка пользователей из Москвы отличается от выручки пользователей из других регионов."
      ]
    },
    {
      "cell_type": "markdown",
      "metadata": {
        "id": "9AEdibNdfVNi"
      },
      "source": [
        "##### Гипотезы\n",
        "###### H<sub>0</sub> - средняя выручка пользователей тарифов «Смарт» и «Ультра» равны\n",
        "###### H<sub>1</sub> - средняя выручка пользователей тарифов «Смарт» и «Ультра» различается"
      ]
    },
    {
      "cell_type": "markdown",
      "metadata": {
        "id": "b1R-pwLdfVNj"
      },
      "source": [
        "Создадим два датасета, пользователи Смарт и Ультра."
      ]
    },
    {
      "cell_type": "code",
      "execution_count": null,
      "metadata": {
        "id": "7uYNTyIwfVNj",
        "outputId": "11fd17e8-89a2-4902-feb0-6e0d062abfdc"
      },
      "outputs": [
        {
          "name": "stdout",
          "output_type": "stream",
          "text": [
            "p-значение: 3.6656394049422593e-296\n",
            "Отвергаем нулевую гипотезу\n"
          ]
        }
      ],
      "source": [
        "smart = statistic_data.query('tariff == \"smart\"')['month_income']\n",
        "ultra = statistic_data.query('tariff == \"ultra\"')['month_income']\n",
        "alpha = .05\n",
        "\n",
        "results = st.ttest_ind(ultra, smart, equal_var=False)\n",
        "\n",
        "print('p-значение:', results.pvalue)\n",
        "\n",
        "if (results.pvalue < alpha):\n",
        "    print(\"Отвергаем нулевую гипотезу\")\n",
        "else:\n",
        "    print(\"Не получилось отвергнуть нулевую гипотезу\")"
      ]
    },
    {
      "cell_type": "code",
      "execution_count": null,
      "metadata": {
        "id": "bxY7JJTWfVNk",
        "outputId": "2c7699cd-262d-4223-805e-0a53976049ad"
      },
      "outputs": [
        {
          "data": {
            "text/html": [
              "<div>\n",
              "<style scoped>\n",
              "    .dataframe tbody tr th:only-of-type {\n",
              "        vertical-align: middle;\n",
              "    }\n",
              "\n",
              "    .dataframe tbody tr th {\n",
              "        vertical-align: top;\n",
              "    }\n",
              "\n",
              "    .dataframe thead th {\n",
              "        text-align: right;\n",
              "    }\n",
              "</style>\n",
              "<table border=\"1\" class=\"dataframe\">\n",
              "  <thead>\n",
              "    <tr style=\"text-align: right;\">\n",
              "      <th></th>\n",
              "      <th>month_income</th>\n",
              "    </tr>\n",
              "    <tr>\n",
              "      <th>tariff</th>\n",
              "      <th></th>\n",
              "    </tr>\n",
              "  </thead>\n",
              "  <tbody>\n",
              "    <tr>\n",
              "      <th>smart</th>\n",
              "      <td>1233.043032</td>\n",
              "    </tr>\n",
              "    <tr>\n",
              "      <th>ultra</th>\n",
              "      <td>2060.417872</td>\n",
              "    </tr>\n",
              "  </tbody>\n",
              "</table>\n",
              "</div>"
            ],
            "text/plain": [
              "        month_income\n",
              "tariff              \n",
              "smart    1233.043032\n",
              "ultra    2060.417872"
            ]
          },
          "execution_count": 33,
          "metadata": {},
          "output_type": "execute_result"
        }
      ],
      "source": [
        "statistic_data.pivot_table(index='tariff', values='month_income', aggfunc='mean')"
      ]
    },
    {
      "cell_type": "markdown",
      "metadata": {
        "id": "WuzVOtt3fVNk"
      },
      "source": [
        "    Мы отвергаем нулевую гипотезу, что средние выручки пользователей тарифов равны.\n",
        "    Cредняя выручка отличается почти в два раза."
      ]
    },
    {
      "cell_type": "markdown",
      "metadata": {
        "id": "FXSkpKg2fVNk"
      },
      "source": [
        "##### Гипотезы\n",
        "###### H<sub>0</sub> - средняя выручка пользователей из Москвы равна средней выручки пользователей из других регионов.\n",
        "###### H<sub>1</sub> - средняя выручка пользователей из Москвы отличается от выручки пользователей из других регионов."
      ]
    },
    {
      "cell_type": "code",
      "execution_count": null,
      "metadata": {
        "id": "AsfLRfahfVNl"
      },
      "outputs": [],
      "source": [
        "moscow = statistic_data.query('city == \"Москва\"')['month_income']\n",
        "others = statistic_data.query('city != \"Москва\"')['month_income']"
      ]
    },
    {
      "cell_type": "code",
      "execution_count": null,
      "metadata": {
        "id": "rbfJuwi8fVNl",
        "outputId": "0179d361-5cab-4c9e-c6f8-8bd4cb5af477"
      },
      "outputs": [
        {
          "name": "stdout",
          "output_type": "stream",
          "text": [
            "p-значение: 0.4517561756356935\n",
            "Не получилось отвергнуть нулевую гипотезу\n"
          ]
        }
      ],
      "source": [
        "results = st.ttest_ind(moscow, others, equal_var=False) \n",
        "print('p-значение:', results.pvalue)\n",
        "\n",
        "if (results.pvalue < alpha):\n",
        "    print(\"Отвергаем нулевую гипотезу\")\n",
        "else:\n",
        "    print(\"Не получилось отвергнуть нулевую гипотезу\")"
      ]
    },
    {
      "cell_type": "code",
      "execution_count": null,
      "metadata": {
        "id": "L_gACQANfVNl",
        "outputId": "5b671077-740d-434c-8b00-025e82ab7b65"
      },
      "outputs": [
        {
          "data": {
            "text/plain": [
              "1507.276761968085"
            ]
          },
          "execution_count": 36,
          "metadata": {},
          "output_type": "execute_result"
        }
      ],
      "source": [
        "statistic_data.query(\"city == 'Москва'\")['month_income'].mean()"
      ]
    },
    {
      "cell_type": "code",
      "execution_count": null,
      "metadata": {
        "id": "Lay-o3GqfVNm",
        "outputId": "2df3f4c6-3de7-4525-e39a-404d828cb4de"
      },
      "outputs": [
        {
          "data": {
            "text/plain": [
              "1481.8855588711613"
            ]
          },
          "execution_count": 37,
          "metadata": {},
          "output_type": "execute_result"
        }
      ],
      "source": [
        "statistic_data.query(\"city != 'Москва'\")['month_income'].mean()"
      ]
    },
    {
      "cell_type": "markdown",
      "metadata": {
        "id": "R833zuJ6fVNm"
      },
      "source": [
        "     Значения средних отличаются незначительно, что подтверждается нулевой гипотезой"
      ]
    },
    {
      "cell_type": "markdown",
      "metadata": {
        "id": "TNUxeAwjfVNn"
      },
      "source": [
        "### Шаг 5. Общий вывод"
      ]
    },
    {
      "cell_type": "markdown",
      "metadata": {
        "id": "b5WlAX6kfVNo"
      },
      "source": [
        "    Ознакомились с общей информацией по датасетам.\n",
        "    Выяснили, что в некоторых столбцах датасетов необходимо изменить тип данных, округлить значения.\n",
        "    Посчитали для каждого пользователя:\n",
        "    - Количество сделанных звонков и израсходованных минут разговора по месяцам\n",
        "    - Количество отправленных сообщений по месяцам\n",
        "    - Объем израсходованного интернет-трафика по месяцам\n",
        "    Заполнили пропущенные значения 0, т.к. абонент может не пользоваться интернетом или не отправлять СМС-сообщения.\n",
        "    Посчитали выручку с каждого пользователя.\n",
        "    Создали новую таблицу statistic_data - в которую сгруппировали данные по каждому абоненту за каждый месяц пользования.         Добавили в таблицу столбец с выручкой по месяцам.\n",
        "    Проанализировали данные. Увидели, что пользователи тарифа Smart в среднем тратят интернет трафика больше лимита и платят в среднем на 400 р. больше стоимости тарифа. Ползователи тарифа Ultra укладываются в лимиты тарифа.\n",
        "    Мы проверили гипотезы:\n",
        "    - что средняя выручка от пользователей тарифа Smart и Ultra равны.\n",
        "    - что средняя выручка пользователей из Москвы равна средней выручки пользователей из других регионов.\n",
        "    В качестве альтернативных гипотез мы предположили, что средние выручки не будут равны. Для оценки мы использовали уровень значимости критерия Стьюдента для независимых выборок. В данном случае мы используем именно его, т.к. средние выручки выборок не зависят друг от друга.\n",
        "    В случае с тарифами мы отвергли нулевую гипотезу, и можем утверждать, что средняя выручка пользователя тарифа Smart и тарифа Ultra отличаются.\n",
        "    В случае с городами мы не смогли отвергнуть нулевую гипотезу и сделали вывод о том, что с вероятностью 55%, сравнивая средние выручки, мы бы получали схожие значения."
      ]
    }
  ],
  "metadata": {
    "ExecuteTimeLog": [
      {
        "duration": 466,
        "start_time": "2022-02-01T14:01:15.780Z"
      },
      {
        "duration": 1414,
        "start_time": "2022-02-01T14:01:22.551Z"
      },
      {
        "duration": 794,
        "start_time": "2022-02-01T14:02:16.157Z"
      },
      {
        "duration": 611,
        "start_time": "2022-02-01T14:02:27.584Z"
      },
      {
        "duration": 64,
        "start_time": "2022-02-01T14:02:30.823Z"
      },
      {
        "duration": 67,
        "start_time": "2022-02-01T14:02:44.911Z"
      },
      {
        "duration": 52,
        "start_time": "2022-02-01T14:02:53.037Z"
      },
      {
        "duration": 76,
        "start_time": "2022-02-01T14:02:58.438Z"
      },
      {
        "duration": 42,
        "start_time": "2022-02-01T14:03:07.024Z"
      },
      {
        "duration": 45,
        "start_time": "2022-02-01T14:03:39.038Z"
      },
      {
        "duration": 57,
        "start_time": "2022-02-01T14:04:18.840Z"
      },
      {
        "duration": 26,
        "start_time": "2022-02-01T14:22:54.720Z"
      },
      {
        "duration": 4,
        "start_time": "2022-02-01T14:27:00.323Z"
      },
      {
        "duration": 889,
        "start_time": "2022-02-01T14:27:00.331Z"
      },
      {
        "duration": 69,
        "start_time": "2022-02-01T14:27:01.224Z"
      },
      {
        "duration": 54,
        "start_time": "2022-02-01T14:27:01.297Z"
      },
      {
        "duration": 53,
        "start_time": "2022-02-01T14:27:01.354Z"
      },
      {
        "duration": 33,
        "start_time": "2022-02-01T14:27:01.416Z"
      },
      {
        "duration": 46,
        "start_time": "2022-02-01T14:27:01.454Z"
      },
      {
        "duration": 30,
        "start_time": "2022-02-01T14:27:01.503Z"
      },
      {
        "duration": 8,
        "start_time": "2022-02-01T14:27:01.536Z"
      },
      {
        "duration": 44,
        "start_time": "2022-02-01T14:27:01.562Z"
      },
      {
        "duration": 18,
        "start_time": "2022-02-01T14:27:01.609Z"
      },
      {
        "duration": 21,
        "start_time": "2022-02-01T14:28:26.183Z"
      },
      {
        "duration": 63,
        "start_time": "2022-02-01T15:53:11.306Z"
      },
      {
        "duration": 90,
        "start_time": "2022-02-01T15:53:29.586Z"
      },
      {
        "duration": 6,
        "start_time": "2022-02-01T15:53:34.244Z"
      },
      {
        "duration": 847,
        "start_time": "2022-02-01T15:53:34.253Z"
      },
      {
        "duration": 81,
        "start_time": "2022-02-01T15:53:35.103Z"
      },
      {
        "duration": 49,
        "start_time": "2022-02-01T15:53:35.187Z"
      },
      {
        "duration": 70,
        "start_time": "2022-02-01T15:53:35.239Z"
      },
      {
        "duration": 36,
        "start_time": "2022-02-01T15:53:35.315Z"
      },
      {
        "duration": 49,
        "start_time": "2022-02-01T15:53:35.365Z"
      },
      {
        "duration": 19,
        "start_time": "2022-02-01T15:53:35.417Z"
      },
      {
        "duration": 37,
        "start_time": "2022-02-01T15:53:35.472Z"
      },
      {
        "duration": 24,
        "start_time": "2022-02-01T15:53:35.513Z"
      },
      {
        "duration": 57,
        "start_time": "2022-02-01T15:53:35.539Z"
      },
      {
        "duration": 22,
        "start_time": "2022-02-01T15:53:35.602Z"
      },
      {
        "duration": 957,
        "start_time": "2022-02-01T15:53:58.686Z"
      },
      {
        "duration": 117,
        "start_time": "2022-02-01T15:54:02.530Z"
      },
      {
        "duration": 85,
        "start_time": "2022-02-01T15:54:23.038Z"
      },
      {
        "duration": 8,
        "start_time": "2022-02-01T15:54:27.754Z"
      },
      {
        "duration": 896,
        "start_time": "2022-02-01T15:54:27.768Z"
      },
      {
        "duration": 110,
        "start_time": "2022-02-01T15:54:28.668Z"
      },
      {
        "duration": 102,
        "start_time": "2022-02-01T15:54:28.782Z"
      },
      {
        "duration": 78,
        "start_time": "2022-02-01T15:54:28.893Z"
      },
      {
        "duration": 55,
        "start_time": "2022-02-01T15:54:28.982Z"
      },
      {
        "duration": 52,
        "start_time": "2022-02-01T15:54:29.040Z"
      },
      {
        "duration": 110,
        "start_time": "2022-02-01T15:54:29.097Z"
      },
      {
        "duration": 34,
        "start_time": "2022-02-01T15:54:29.216Z"
      },
      {
        "duration": 43,
        "start_time": "2022-02-01T15:54:29.256Z"
      },
      {
        "duration": 100,
        "start_time": "2022-02-01T15:54:29.307Z"
      },
      {
        "duration": 35,
        "start_time": "2022-02-01T15:54:29.415Z"
      },
      {
        "duration": 75,
        "start_time": "2022-02-01T15:54:48.325Z"
      },
      {
        "duration": 58,
        "start_time": "2022-02-01T15:59:19.396Z"
      },
      {
        "duration": 64,
        "start_time": "2022-02-01T16:01:19.678Z"
      },
      {
        "duration": 198,
        "start_time": "2022-02-01T16:03:37.001Z"
      },
      {
        "duration": 5,
        "start_time": "2022-02-01T16:03:41.637Z"
      },
      {
        "duration": 632,
        "start_time": "2022-02-01T16:03:41.644Z"
      },
      {
        "duration": 86,
        "start_time": "2022-02-01T16:03:42.285Z"
      },
      {
        "duration": 41,
        "start_time": "2022-02-01T16:03:42.374Z"
      },
      {
        "duration": 60,
        "start_time": "2022-02-01T16:03:42.417Z"
      },
      {
        "duration": 29,
        "start_time": "2022-02-01T16:03:42.480Z"
      },
      {
        "duration": 61,
        "start_time": "2022-02-01T16:03:42.512Z"
      },
      {
        "duration": 26,
        "start_time": "2022-02-01T16:03:42.576Z"
      },
      {
        "duration": 8,
        "start_time": "2022-02-01T16:03:42.605Z"
      },
      {
        "duration": 14,
        "start_time": "2022-02-01T16:03:42.615Z"
      },
      {
        "duration": 61,
        "start_time": "2022-02-01T16:03:42.631Z"
      },
      {
        "duration": 9,
        "start_time": "2022-02-01T16:03:42.696Z"
      },
      {
        "duration": 170,
        "start_time": "2022-02-01T16:03:42.708Z"
      },
      {
        "duration": 412,
        "start_time": "2022-02-01T16:06:53.297Z"
      },
      {
        "duration": 43,
        "start_time": "2022-02-01T16:07:00.475Z"
      },
      {
        "duration": 36,
        "start_time": "2022-02-01T16:07:28.735Z"
      },
      {
        "duration": 470,
        "start_time": "2022-02-02T10:48:12.173Z"
      },
      {
        "duration": 1646,
        "start_time": "2022-02-02T10:48:15.532Z"
      },
      {
        "duration": 618,
        "start_time": "2022-02-02T10:48:17.181Z"
      },
      {
        "duration": 45,
        "start_time": "2022-02-02T10:48:17.802Z"
      },
      {
        "duration": 35,
        "start_time": "2022-02-02T10:48:17.855Z"
      },
      {
        "duration": 34,
        "start_time": "2022-02-02T10:48:17.893Z"
      },
      {
        "duration": 50,
        "start_time": "2022-02-02T10:48:17.929Z"
      },
      {
        "duration": 30,
        "start_time": "2022-02-02T10:48:17.982Z"
      },
      {
        "duration": 60,
        "start_time": "2022-02-02T10:48:18.016Z"
      },
      {
        "duration": 16,
        "start_time": "2022-02-02T10:48:18.080Z"
      },
      {
        "duration": 14,
        "start_time": "2022-02-02T10:48:18.099Z"
      },
      {
        "duration": 66,
        "start_time": "2022-02-02T10:48:18.116Z"
      },
      {
        "duration": 10,
        "start_time": "2022-02-02T10:48:18.185Z"
      },
      {
        "duration": 9,
        "start_time": "2022-02-02T10:50:44.905Z"
      },
      {
        "duration": 17,
        "start_time": "2022-02-02T10:51:07.792Z"
      },
      {
        "duration": 32,
        "start_time": "2022-02-02T11:20:28.470Z"
      },
      {
        "duration": 391,
        "start_time": "2022-02-02T11:21:00.662Z"
      },
      {
        "duration": 5,
        "start_time": "2022-02-02T11:21:09.311Z"
      },
      {
        "duration": 560,
        "start_time": "2022-02-02T11:21:09.320Z"
      },
      {
        "duration": 38,
        "start_time": "2022-02-02T11:21:09.883Z"
      },
      {
        "duration": 39,
        "start_time": "2022-02-02T11:21:09.924Z"
      },
      {
        "duration": 35,
        "start_time": "2022-02-02T11:21:09.966Z"
      },
      {
        "duration": 53,
        "start_time": "2022-02-02T11:21:10.004Z"
      },
      {
        "duration": 33,
        "start_time": "2022-02-02T11:21:10.061Z"
      },
      {
        "duration": 53,
        "start_time": "2022-02-02T11:21:10.099Z"
      },
      {
        "duration": 11,
        "start_time": "2022-02-02T11:21:10.155Z"
      },
      {
        "duration": 38,
        "start_time": "2022-02-02T11:21:10.170Z"
      },
      {
        "duration": 43,
        "start_time": "2022-02-02T11:21:10.211Z"
      },
      {
        "duration": 21,
        "start_time": "2022-02-02T11:21:10.257Z"
      },
      {
        "duration": 74,
        "start_time": "2022-02-02T11:21:10.281Z"
      },
      {
        "duration": 37,
        "start_time": "2022-02-02T11:21:32.381Z"
      },
      {
        "duration": 27,
        "start_time": "2022-02-02T11:21:49.148Z"
      },
      {
        "duration": 19,
        "start_time": "2022-02-02T11:22:42.053Z"
      },
      {
        "duration": 297,
        "start_time": "2022-02-02T11:25:11.099Z"
      },
      {
        "duration": 5,
        "start_time": "2022-02-02T11:25:14.696Z"
      },
      {
        "duration": 540,
        "start_time": "2022-02-02T11:25:14.703Z"
      },
      {
        "duration": 37,
        "start_time": "2022-02-02T11:25:15.246Z"
      },
      {
        "duration": 27,
        "start_time": "2022-02-02T11:25:15.286Z"
      },
      {
        "duration": 60,
        "start_time": "2022-02-02T11:25:15.316Z"
      },
      {
        "duration": 24,
        "start_time": "2022-02-02T11:25:15.379Z"
      },
      {
        "duration": 61,
        "start_time": "2022-02-02T11:25:15.408Z"
      },
      {
        "duration": 19,
        "start_time": "2022-02-02T11:25:15.473Z"
      },
      {
        "duration": 9,
        "start_time": "2022-02-02T11:25:15.496Z"
      },
      {
        "duration": 50,
        "start_time": "2022-02-02T11:25:15.508Z"
      },
      {
        "duration": 27,
        "start_time": "2022-02-02T11:25:15.561Z"
      },
      {
        "duration": 9,
        "start_time": "2022-02-02T11:25:15.591Z"
      },
      {
        "duration": 83,
        "start_time": "2022-02-02T11:25:15.604Z"
      },
      {
        "duration": 387,
        "start_time": "2022-02-02T11:25:15.690Z"
      },
      {
        "duration": 57,
        "start_time": "2022-02-02T11:25:30.186Z"
      },
      {
        "duration": 18,
        "start_time": "2022-02-02T11:28:12.362Z"
      },
      {
        "duration": 55,
        "start_time": "2022-02-02T11:28:23.337Z"
      },
      {
        "duration": 48,
        "start_time": "2022-02-02T11:28:28.098Z"
      },
      {
        "duration": 82,
        "start_time": "2022-02-02T12:39:11.796Z"
      },
      {
        "duration": 273,
        "start_time": "2022-02-02T13:21:54.560Z"
      },
      {
        "duration": 277,
        "start_time": "2022-02-02T13:22:07.030Z"
      },
      {
        "duration": 4,
        "start_time": "2022-02-02T13:22:10.259Z"
      },
      {
        "duration": 513,
        "start_time": "2022-02-02T13:22:10.266Z"
      },
      {
        "duration": 35,
        "start_time": "2022-02-02T13:22:10.782Z"
      },
      {
        "duration": 23,
        "start_time": "2022-02-02T13:22:10.820Z"
      },
      {
        "duration": 32,
        "start_time": "2022-02-02T13:22:10.846Z"
      },
      {
        "duration": 20,
        "start_time": "2022-02-02T13:22:10.880Z"
      },
      {
        "duration": 55,
        "start_time": "2022-02-02T13:22:10.904Z"
      },
      {
        "duration": 19,
        "start_time": "2022-02-02T13:22:10.962Z"
      },
      {
        "duration": 21,
        "start_time": "2022-02-02T13:22:10.984Z"
      },
      {
        "duration": 41,
        "start_time": "2022-02-02T13:22:11.008Z"
      },
      {
        "duration": 23,
        "start_time": "2022-02-02T13:22:11.051Z"
      },
      {
        "duration": 18,
        "start_time": "2022-02-02T13:22:11.077Z"
      },
      {
        "duration": 77,
        "start_time": "2022-02-02T13:22:11.097Z"
      },
      {
        "duration": 47,
        "start_time": "2022-02-02T13:22:11.176Z"
      },
      {
        "duration": 48,
        "start_time": "2022-02-02T13:22:11.225Z"
      },
      {
        "duration": 11,
        "start_time": "2022-02-02T13:22:11.275Z"
      },
      {
        "duration": 90,
        "start_time": "2022-02-02T13:22:11.289Z"
      },
      {
        "duration": 295,
        "start_time": "2022-02-02T13:22:11.382Z"
      },
      {
        "duration": 80,
        "start_time": "2022-02-02T13:22:19.908Z"
      },
      {
        "duration": 73,
        "start_time": "2022-02-02T13:30:01.680Z"
      },
      {
        "duration": 75,
        "start_time": "2022-02-02T13:30:20.154Z"
      },
      {
        "duration": 30,
        "start_time": "2022-02-02T13:35:44.286Z"
      },
      {
        "duration": 32,
        "start_time": "2022-02-02T13:39:15.318Z"
      },
      {
        "duration": 31,
        "start_time": "2022-02-02T13:39:26.983Z"
      },
      {
        "duration": 25,
        "start_time": "2022-02-02T13:39:44.940Z"
      },
      {
        "duration": 43,
        "start_time": "2022-02-02T13:50:28.944Z"
      },
      {
        "duration": 320,
        "start_time": "2022-02-02T14:47:35.699Z"
      },
      {
        "duration": 5,
        "start_time": "2022-02-02T14:47:43.681Z"
      },
      {
        "duration": 503,
        "start_time": "2022-02-02T14:47:43.688Z"
      },
      {
        "duration": 35,
        "start_time": "2022-02-02T14:47:44.194Z"
      },
      {
        "duration": 24,
        "start_time": "2022-02-02T14:47:44.232Z"
      },
      {
        "duration": 32,
        "start_time": "2022-02-02T14:47:44.258Z"
      },
      {
        "duration": 21,
        "start_time": "2022-02-02T14:47:44.292Z"
      },
      {
        "duration": 55,
        "start_time": "2022-02-02T14:47:44.317Z"
      },
      {
        "duration": 18,
        "start_time": "2022-02-02T14:47:44.374Z"
      },
      {
        "duration": 9,
        "start_time": "2022-02-02T14:47:44.395Z"
      },
      {
        "duration": 46,
        "start_time": "2022-02-02T14:47:44.406Z"
      },
      {
        "duration": 30,
        "start_time": "2022-02-02T14:47:44.454Z"
      },
      {
        "duration": 7,
        "start_time": "2022-02-02T14:47:44.486Z"
      },
      {
        "duration": 81,
        "start_time": "2022-02-02T14:47:44.496Z"
      },
      {
        "duration": 43,
        "start_time": "2022-02-02T14:47:44.580Z"
      },
      {
        "duration": 44,
        "start_time": "2022-02-02T14:47:44.626Z"
      },
      {
        "duration": 13,
        "start_time": "2022-02-02T14:47:44.672Z"
      },
      {
        "duration": 92,
        "start_time": "2022-02-02T14:47:44.687Z"
      },
      {
        "duration": 69,
        "start_time": "2022-02-02T14:47:44.782Z"
      },
      {
        "duration": 25,
        "start_time": "2022-02-02T14:47:44.856Z"
      },
      {
        "duration": 31,
        "start_time": "2022-02-02T14:47:44.884Z"
      },
      {
        "duration": 313,
        "start_time": "2022-02-02T14:47:44.918Z"
      },
      {
        "duration": 49,
        "start_time": "2022-02-02T14:48:13.741Z"
      },
      {
        "duration": 339,
        "start_time": "2022-02-02T15:02:56.722Z"
      },
      {
        "duration": 309,
        "start_time": "2022-02-02T15:03:21.736Z"
      },
      {
        "duration": 308,
        "start_time": "2022-02-02T15:05:14.082Z"
      },
      {
        "duration": 141,
        "start_time": "2022-02-02T15:05:29.757Z"
      },
      {
        "duration": 26,
        "start_time": "2022-02-02T15:05:36.790Z"
      },
      {
        "duration": 25,
        "start_time": "2022-02-02T15:05:39.005Z"
      },
      {
        "duration": 313,
        "start_time": "2022-02-02T15:11:12.572Z"
      },
      {
        "duration": 4,
        "start_time": "2022-02-02T15:11:20.899Z"
      },
      {
        "duration": 558,
        "start_time": "2022-02-02T15:11:20.906Z"
      },
      {
        "duration": 38,
        "start_time": "2022-02-02T15:11:21.468Z"
      },
      {
        "duration": 47,
        "start_time": "2022-02-02T15:11:21.509Z"
      },
      {
        "duration": 35,
        "start_time": "2022-02-02T15:11:21.559Z"
      },
      {
        "duration": 52,
        "start_time": "2022-02-02T15:11:21.598Z"
      },
      {
        "duration": 29,
        "start_time": "2022-02-02T15:11:21.655Z"
      },
      {
        "duration": 20,
        "start_time": "2022-02-02T15:11:21.689Z"
      },
      {
        "duration": 11,
        "start_time": "2022-02-02T15:11:21.748Z"
      },
      {
        "duration": 19,
        "start_time": "2022-02-02T15:11:21.763Z"
      },
      {
        "duration": 27,
        "start_time": "2022-02-02T15:11:21.785Z"
      },
      {
        "duration": 9,
        "start_time": "2022-02-02T15:11:21.849Z"
      },
      {
        "duration": 61,
        "start_time": "2022-02-02T15:11:21.861Z"
      },
      {
        "duration": 68,
        "start_time": "2022-02-02T15:11:21.925Z"
      },
      {
        "duration": 60,
        "start_time": "2022-02-02T15:11:21.996Z"
      },
      {
        "duration": 12,
        "start_time": "2022-02-02T15:11:22.059Z"
      },
      {
        "duration": 92,
        "start_time": "2022-02-02T15:11:22.074Z"
      },
      {
        "duration": 60,
        "start_time": "2022-02-02T15:11:22.168Z"
      },
      {
        "duration": 29,
        "start_time": "2022-02-02T15:11:22.248Z"
      },
      {
        "duration": 34,
        "start_time": "2022-02-02T15:11:22.279Z"
      },
      {
        "duration": 425,
        "start_time": "2022-02-02T15:11:22.316Z"
      },
      {
        "duration": 48,
        "start_time": "2022-02-02T15:11:44.276Z"
      },
      {
        "duration": 44,
        "start_time": "2022-02-02T15:12:27.977Z"
      },
      {
        "duration": 51,
        "start_time": "2022-02-02T15:12:58.812Z"
      },
      {
        "duration": 51,
        "start_time": "2022-02-02T15:13:14.970Z"
      },
      {
        "duration": 4,
        "start_time": "2022-02-02T15:14:27.395Z"
      },
      {
        "duration": 523,
        "start_time": "2022-02-02T15:14:27.402Z"
      },
      {
        "duration": 42,
        "start_time": "2022-02-02T15:14:27.928Z"
      },
      {
        "duration": 30,
        "start_time": "2022-02-02T15:14:27.973Z"
      },
      {
        "duration": 60,
        "start_time": "2022-02-02T15:14:28.006Z"
      },
      {
        "duration": 22,
        "start_time": "2022-02-02T15:14:28.069Z"
      },
      {
        "duration": 31,
        "start_time": "2022-02-02T15:14:28.094Z"
      },
      {
        "duration": 17,
        "start_time": "2022-02-02T15:14:28.149Z"
      },
      {
        "duration": 9,
        "start_time": "2022-02-02T15:14:28.168Z"
      },
      {
        "duration": 16,
        "start_time": "2022-02-02T15:14:28.179Z"
      },
      {
        "duration": 63,
        "start_time": "2022-02-02T15:14:28.197Z"
      },
      {
        "duration": 10,
        "start_time": "2022-02-02T15:14:28.262Z"
      },
      {
        "duration": 80,
        "start_time": "2022-02-02T15:14:28.275Z"
      },
      {
        "duration": 48,
        "start_time": "2022-02-02T15:14:28.357Z"
      },
      {
        "duration": 59,
        "start_time": "2022-02-02T15:14:28.408Z"
      },
      {
        "duration": 15,
        "start_time": "2022-02-02T15:14:28.470Z"
      },
      {
        "duration": 89,
        "start_time": "2022-02-02T15:14:28.488Z"
      },
      {
        "duration": 57,
        "start_time": "2022-02-02T15:14:28.579Z"
      },
      {
        "duration": 25,
        "start_time": "2022-02-02T15:14:28.650Z"
      },
      {
        "duration": 32,
        "start_time": "2022-02-02T15:14:28.678Z"
      },
      {
        "duration": 72,
        "start_time": "2022-02-02T15:14:28.712Z"
      },
      {
        "duration": 53,
        "start_time": "2022-02-02T15:16:10.994Z"
      },
      {
        "duration": 5,
        "start_time": "2022-02-02T15:16:18.709Z"
      },
      {
        "duration": 564,
        "start_time": "2022-02-02T15:16:18.717Z"
      },
      {
        "duration": 37,
        "start_time": "2022-02-02T15:16:19.284Z"
      },
      {
        "duration": 25,
        "start_time": "2022-02-02T15:16:19.324Z"
      },
      {
        "duration": 32,
        "start_time": "2022-02-02T15:16:19.351Z"
      },
      {
        "duration": 20,
        "start_time": "2022-02-02T15:16:19.385Z"
      },
      {
        "duration": 56,
        "start_time": "2022-02-02T15:16:19.408Z"
      },
      {
        "duration": 18,
        "start_time": "2022-02-02T15:16:19.468Z"
      },
      {
        "duration": 8,
        "start_time": "2022-02-02T15:16:19.489Z"
      },
      {
        "duration": 15,
        "start_time": "2022-02-02T15:16:19.499Z"
      },
      {
        "duration": 23,
        "start_time": "2022-02-02T15:16:19.549Z"
      },
      {
        "duration": 10,
        "start_time": "2022-02-02T15:16:19.575Z"
      },
      {
        "duration": 83,
        "start_time": "2022-02-02T15:16:19.587Z"
      },
      {
        "duration": 46,
        "start_time": "2022-02-02T15:16:19.673Z"
      },
      {
        "duration": 53,
        "start_time": "2022-02-02T15:16:19.722Z"
      },
      {
        "duration": 12,
        "start_time": "2022-02-02T15:16:19.778Z"
      },
      {
        "duration": 90,
        "start_time": "2022-02-02T15:16:19.792Z"
      },
      {
        "duration": 69,
        "start_time": "2022-02-02T15:16:19.884Z"
      },
      {
        "duration": 27,
        "start_time": "2022-02-02T15:16:19.956Z"
      },
      {
        "duration": 34,
        "start_time": "2022-02-02T15:16:19.986Z"
      },
      {
        "duration": 75,
        "start_time": "2022-02-02T15:16:20.023Z"
      },
      {
        "duration": 43,
        "start_time": "2022-02-02T15:16:42.147Z"
      },
      {
        "duration": 4,
        "start_time": "2022-02-02T15:16:45.725Z"
      },
      {
        "duration": 515,
        "start_time": "2022-02-02T15:16:45.731Z"
      },
      {
        "duration": 38,
        "start_time": "2022-02-02T15:16:46.249Z"
      },
      {
        "duration": 26,
        "start_time": "2022-02-02T15:16:46.290Z"
      },
      {
        "duration": 60,
        "start_time": "2022-02-02T15:16:46.319Z"
      },
      {
        "duration": 20,
        "start_time": "2022-02-02T15:16:46.382Z"
      },
      {
        "duration": 55,
        "start_time": "2022-02-02T15:16:46.405Z"
      },
      {
        "duration": 17,
        "start_time": "2022-02-02T15:16:46.464Z"
      },
      {
        "duration": 9,
        "start_time": "2022-02-02T15:16:46.484Z"
      },
      {
        "duration": 14,
        "start_time": "2022-02-02T15:16:46.495Z"
      },
      {
        "duration": 62,
        "start_time": "2022-02-02T15:16:46.511Z"
      },
      {
        "duration": 9,
        "start_time": "2022-02-02T15:16:46.576Z"
      },
      {
        "duration": 79,
        "start_time": "2022-02-02T15:16:46.588Z"
      },
      {
        "duration": 45,
        "start_time": "2022-02-02T15:16:46.669Z"
      },
      {
        "duration": 52,
        "start_time": "2022-02-02T15:16:46.717Z"
      },
      {
        "duration": 12,
        "start_time": "2022-02-02T15:16:46.771Z"
      },
      {
        "duration": 94,
        "start_time": "2022-02-02T15:16:46.786Z"
      },
      {
        "duration": 72,
        "start_time": "2022-02-02T15:16:46.882Z"
      },
      {
        "duration": 29,
        "start_time": "2022-02-02T15:16:46.957Z"
      },
      {
        "duration": 34,
        "start_time": "2022-02-02T15:16:46.990Z"
      },
      {
        "duration": 35,
        "start_time": "2022-02-02T15:16:47.048Z"
      },
      {
        "duration": 41,
        "start_time": "2022-02-02T15:17:04.193Z"
      },
      {
        "duration": 49,
        "start_time": "2022-02-02T15:17:35.423Z"
      },
      {
        "duration": 44,
        "start_time": "2022-02-02T15:18:01.930Z"
      },
      {
        "duration": 45,
        "start_time": "2022-02-02T15:18:24.968Z"
      },
      {
        "duration": 30,
        "start_time": "2022-02-02T15:18:47.432Z"
      },
      {
        "duration": 46,
        "start_time": "2022-02-02T15:18:49.569Z"
      },
      {
        "duration": 31,
        "start_time": "2022-02-02T15:18:58.096Z"
      },
      {
        "duration": 53,
        "start_time": "2022-02-02T15:19:08.420Z"
      },
      {
        "duration": 37,
        "start_time": "2022-02-02T15:19:25.736Z"
      },
      {
        "duration": 45,
        "start_time": "2022-02-02T15:25:45.936Z"
      },
      {
        "duration": 51,
        "start_time": "2022-02-02T15:25:53.134Z"
      },
      {
        "duration": 47,
        "start_time": "2022-02-02T15:27:15.239Z"
      },
      {
        "duration": 52,
        "start_time": "2022-02-02T15:32:16.757Z"
      },
      {
        "duration": 53,
        "start_time": "2022-02-02T15:33:26.413Z"
      },
      {
        "duration": 42,
        "start_time": "2022-02-02T15:34:41.989Z"
      },
      {
        "duration": 23,
        "start_time": "2022-02-02T15:34:52.763Z"
      },
      {
        "duration": 31,
        "start_time": "2022-02-02T15:35:27.777Z"
      },
      {
        "duration": 29,
        "start_time": "2022-02-02T15:35:51.434Z"
      },
      {
        "duration": 30,
        "start_time": "2022-02-02T15:36:01.986Z"
      },
      {
        "duration": 35,
        "start_time": "2022-02-02T15:36:13.434Z"
      },
      {
        "duration": 44,
        "start_time": "2022-02-02T15:36:18.852Z"
      },
      {
        "duration": 60,
        "start_time": "2022-02-02T15:38:33.792Z"
      },
      {
        "duration": 1251,
        "start_time": "2022-02-02T15:39:16.074Z"
      },
      {
        "duration": 33,
        "start_time": "2022-02-02T15:41:52.058Z"
      },
      {
        "duration": 302,
        "start_time": "2022-02-02T15:44:23.991Z"
      },
      {
        "duration": 27,
        "start_time": "2022-02-02T15:44:33.567Z"
      },
      {
        "duration": 28,
        "start_time": "2022-02-02T15:45:50.400Z"
      },
      {
        "duration": 47,
        "start_time": "2022-02-02T15:46:50.457Z"
      },
      {
        "duration": 4,
        "start_time": "2022-02-02T15:47:19.564Z"
      },
      {
        "duration": 495,
        "start_time": "2022-02-02T15:47:19.571Z"
      },
      {
        "duration": 34,
        "start_time": "2022-02-02T15:47:20.070Z"
      },
      {
        "duration": 25,
        "start_time": "2022-02-02T15:47:20.107Z"
      },
      {
        "duration": 49,
        "start_time": "2022-02-02T15:47:20.134Z"
      },
      {
        "duration": 22,
        "start_time": "2022-02-02T15:47:20.185Z"
      },
      {
        "duration": 48,
        "start_time": "2022-02-02T15:47:20.210Z"
      },
      {
        "duration": 17,
        "start_time": "2022-02-02T15:47:20.261Z"
      },
      {
        "duration": 8,
        "start_time": "2022-02-02T15:47:20.281Z"
      },
      {
        "duration": 13,
        "start_time": "2022-02-02T15:47:20.291Z"
      },
      {
        "duration": 61,
        "start_time": "2022-02-02T15:47:20.306Z"
      },
      {
        "duration": 10,
        "start_time": "2022-02-02T15:47:20.370Z"
      },
      {
        "duration": 77,
        "start_time": "2022-02-02T15:47:20.383Z"
      },
      {
        "duration": 44,
        "start_time": "2022-02-02T15:47:20.463Z"
      },
      {
        "duration": 57,
        "start_time": "2022-02-02T15:47:20.510Z"
      },
      {
        "duration": 11,
        "start_time": "2022-02-02T15:47:20.569Z"
      },
      {
        "duration": 84,
        "start_time": "2022-02-02T15:47:20.582Z"
      },
      {
        "duration": 25,
        "start_time": "2022-02-02T15:47:20.669Z"
      },
      {
        "duration": 21,
        "start_time": "2022-02-02T15:47:20.698Z"
      },
      {
        "duration": 41,
        "start_time": "2022-02-02T15:47:20.722Z"
      },
      {
        "duration": 43,
        "start_time": "2022-02-02T15:47:20.765Z"
      },
      {
        "duration": 51,
        "start_time": "2022-02-02T15:47:38.341Z"
      },
      {
        "duration": 47,
        "start_time": "2022-02-02T15:48:14.750Z"
      },
      {
        "duration": 9,
        "start_time": "2022-02-02T15:50:05.445Z"
      },
      {
        "duration": 20,
        "start_time": "2022-02-02T15:50:19.349Z"
      },
      {
        "duration": 300,
        "start_time": "2022-02-02T15:51:32.221Z"
      },
      {
        "duration": 9,
        "start_time": "2022-02-02T15:51:39.819Z"
      },
      {
        "duration": 24,
        "start_time": "2022-02-02T15:59:03.282Z"
      },
      {
        "duration": 10,
        "start_time": "2022-02-02T15:59:19.202Z"
      },
      {
        "duration": 46,
        "start_time": "2022-02-02T16:00:54.442Z"
      },
      {
        "duration": 22,
        "start_time": "2022-02-02T16:01:08.985Z"
      },
      {
        "duration": 9459,
        "start_time": "2022-02-02T16:39:59.547Z"
      },
      {
        "duration": 4,
        "start_time": "2022-02-02T16:40:19.546Z"
      },
      {
        "duration": 522,
        "start_time": "2022-02-02T16:40:19.554Z"
      },
      {
        "duration": 37,
        "start_time": "2022-02-02T16:40:20.079Z"
      },
      {
        "duration": 31,
        "start_time": "2022-02-02T16:40:20.119Z"
      },
      {
        "duration": 33,
        "start_time": "2022-02-02T16:40:20.152Z"
      },
      {
        "duration": 22,
        "start_time": "2022-02-02T16:40:20.188Z"
      },
      {
        "duration": 56,
        "start_time": "2022-02-02T16:40:20.213Z"
      },
      {
        "duration": 18,
        "start_time": "2022-02-02T16:40:20.272Z"
      },
      {
        "duration": 9,
        "start_time": "2022-02-02T16:40:20.292Z"
      },
      {
        "duration": 50,
        "start_time": "2022-02-02T16:40:20.304Z"
      },
      {
        "duration": 29,
        "start_time": "2022-02-02T16:40:20.357Z"
      },
      {
        "duration": 11,
        "start_time": "2022-02-02T16:40:20.388Z"
      },
      {
        "duration": 88,
        "start_time": "2022-02-02T16:40:20.401Z"
      },
      {
        "duration": 59,
        "start_time": "2022-02-02T16:40:20.492Z"
      },
      {
        "duration": 35,
        "start_time": "2022-02-02T16:40:20.554Z"
      },
      {
        "duration": 11,
        "start_time": "2022-02-02T16:40:20.592Z"
      },
      {
        "duration": 101,
        "start_time": "2022-02-02T16:40:20.606Z"
      },
      {
        "duration": 48,
        "start_time": "2022-02-02T16:40:20.710Z"
      },
      {
        "duration": 21,
        "start_time": "2022-02-02T16:40:20.763Z"
      },
      {
        "duration": 21,
        "start_time": "2022-02-02T16:40:20.786Z"
      },
      {
        "duration": 49,
        "start_time": "2022-02-02T16:40:20.810Z"
      },
      {
        "duration": 23,
        "start_time": "2022-02-02T16:40:20.862Z"
      },
      {
        "duration": 10,
        "start_time": "2022-02-02T16:40:20.888Z"
      },
      {
        "duration": 7978,
        "start_time": "2022-02-02T16:40:20.901Z"
      },
      {
        "duration": 1024,
        "start_time": "2022-02-02T16:44:45.292Z"
      },
      {
        "duration": 7995,
        "start_time": "2022-02-02T16:47:20.801Z"
      },
      {
        "duration": 11,
        "start_time": "2022-02-02T16:48:32.646Z"
      },
      {
        "duration": 7415,
        "start_time": "2022-02-02T16:49:11.090Z"
      },
      {
        "duration": 4,
        "start_time": "2022-02-02T16:49:26.717Z"
      },
      {
        "duration": 531,
        "start_time": "2022-02-02T16:49:26.724Z"
      },
      {
        "duration": 35,
        "start_time": "2022-02-02T16:49:27.258Z"
      },
      {
        "duration": 26,
        "start_time": "2022-02-02T16:49:27.296Z"
      },
      {
        "duration": 53,
        "start_time": "2022-02-02T16:49:27.324Z"
      },
      {
        "duration": 20,
        "start_time": "2022-02-02T16:49:27.380Z"
      },
      {
        "duration": 54,
        "start_time": "2022-02-02T16:49:27.404Z"
      },
      {
        "duration": 17,
        "start_time": "2022-02-02T16:49:27.461Z"
      },
      {
        "duration": 11,
        "start_time": "2022-02-02T16:49:27.481Z"
      },
      {
        "duration": 22,
        "start_time": "2022-02-02T16:49:27.495Z"
      },
      {
        "duration": 48,
        "start_time": "2022-02-02T16:49:27.520Z"
      },
      {
        "duration": 11,
        "start_time": "2022-02-02T16:49:27.572Z"
      },
      {
        "duration": 84,
        "start_time": "2022-02-02T16:49:27.585Z"
      },
      {
        "duration": 43,
        "start_time": "2022-02-02T16:49:27.672Z"
      },
      {
        "duration": 49,
        "start_time": "2022-02-02T16:49:27.718Z"
      },
      {
        "duration": 12,
        "start_time": "2022-02-02T16:49:27.770Z"
      },
      {
        "duration": 88,
        "start_time": "2022-02-02T16:49:27.785Z"
      },
      {
        "duration": 28,
        "start_time": "2022-02-02T16:49:27.878Z"
      },
      {
        "duration": 38,
        "start_time": "2022-02-02T16:49:27.910Z"
      },
      {
        "duration": 20,
        "start_time": "2022-02-02T16:49:27.951Z"
      },
      {
        "duration": 27,
        "start_time": "2022-02-02T16:49:27.973Z"
      },
      {
        "duration": 47,
        "start_time": "2022-02-02T16:49:28.003Z"
      },
      {
        "duration": 9,
        "start_time": "2022-02-02T16:49:28.052Z"
      },
      {
        "duration": 30,
        "start_time": "2022-02-02T16:49:28.063Z"
      },
      {
        "duration": 7942,
        "start_time": "2022-02-02T16:49:28.096Z"
      },
      {
        "duration": 630,
        "start_time": "2022-02-02T16:51:51.136Z"
      },
      {
        "duration": 569,
        "start_time": "2022-02-02T16:52:05.430Z"
      },
      {
        "duration": 4,
        "start_time": "2022-02-02T16:52:11.589Z"
      },
      {
        "duration": 529,
        "start_time": "2022-02-02T16:52:11.596Z"
      },
      {
        "duration": 55,
        "start_time": "2022-02-02T16:52:12.129Z"
      },
      {
        "duration": 38,
        "start_time": "2022-02-02T16:52:12.187Z"
      },
      {
        "duration": 65,
        "start_time": "2022-02-02T16:52:12.228Z"
      },
      {
        "duration": 53,
        "start_time": "2022-02-02T16:52:12.297Z"
      },
      {
        "duration": 31,
        "start_time": "2022-02-02T16:52:12.354Z"
      },
      {
        "duration": 19,
        "start_time": "2022-02-02T16:52:12.389Z"
      },
      {
        "duration": 45,
        "start_time": "2022-02-02T16:52:12.411Z"
      },
      {
        "duration": 15,
        "start_time": "2022-02-02T16:52:12.459Z"
      },
      {
        "duration": 29,
        "start_time": "2022-02-02T16:52:12.477Z"
      },
      {
        "duration": 42,
        "start_time": "2022-02-02T16:52:12.510Z"
      },
      {
        "duration": 65,
        "start_time": "2022-02-02T16:52:12.557Z"
      },
      {
        "duration": 48,
        "start_time": "2022-02-02T16:52:12.648Z"
      },
      {
        "duration": 63,
        "start_time": "2022-02-02T16:52:12.699Z"
      },
      {
        "duration": 12,
        "start_time": "2022-02-02T16:52:12.764Z"
      },
      {
        "duration": 95,
        "start_time": "2022-02-02T16:52:12.778Z"
      },
      {
        "duration": 29,
        "start_time": "2022-02-02T16:52:12.875Z"
      },
      {
        "duration": 41,
        "start_time": "2022-02-02T16:52:12.908Z"
      },
      {
        "duration": 22,
        "start_time": "2022-02-02T16:52:12.952Z"
      },
      {
        "duration": 27,
        "start_time": "2022-02-02T16:52:12.977Z"
      },
      {
        "duration": 59,
        "start_time": "2022-02-02T16:52:13.007Z"
      },
      {
        "duration": 9,
        "start_time": "2022-02-02T16:52:13.069Z"
      },
      {
        "duration": 23,
        "start_time": "2022-02-02T16:52:13.082Z"
      },
      {
        "duration": 634,
        "start_time": "2022-02-02T16:52:13.108Z"
      },
      {
        "duration": 592,
        "start_time": "2022-02-02T16:53:25.941Z"
      },
      {
        "duration": 627,
        "start_time": "2022-02-02T16:57:18.364Z"
      },
      {
        "duration": 4,
        "start_time": "2022-02-02T16:57:25.850Z"
      },
      {
        "duration": 506,
        "start_time": "2022-02-02T16:57:25.857Z"
      },
      {
        "duration": 37,
        "start_time": "2022-02-02T16:57:26.366Z"
      },
      {
        "duration": 26,
        "start_time": "2022-02-02T16:57:26.406Z"
      },
      {
        "duration": 33,
        "start_time": "2022-02-02T16:57:26.448Z"
      },
      {
        "duration": 20,
        "start_time": "2022-02-02T16:57:26.484Z"
      },
      {
        "duration": 50,
        "start_time": "2022-02-02T16:57:26.508Z"
      },
      {
        "duration": 22,
        "start_time": "2022-02-02T16:57:26.561Z"
      },
      {
        "duration": 11,
        "start_time": "2022-02-02T16:57:26.587Z"
      },
      {
        "duration": 47,
        "start_time": "2022-02-02T16:57:26.601Z"
      },
      {
        "duration": 23,
        "start_time": "2022-02-02T16:57:26.651Z"
      },
      {
        "duration": 12,
        "start_time": "2022-02-02T16:57:26.677Z"
      },
      {
        "duration": 82,
        "start_time": "2022-02-02T16:57:26.691Z"
      },
      {
        "duration": 43,
        "start_time": "2022-02-02T16:57:26.776Z"
      },
      {
        "duration": 47,
        "start_time": "2022-02-02T16:57:26.822Z"
      },
      {
        "duration": 12,
        "start_time": "2022-02-02T16:57:26.872Z"
      },
      {
        "duration": 98,
        "start_time": "2022-02-02T16:57:26.886Z"
      },
      {
        "duration": 27,
        "start_time": "2022-02-02T16:57:26.987Z"
      },
      {
        "duration": 37,
        "start_time": "2022-02-02T16:57:27.019Z"
      },
      {
        "duration": 23,
        "start_time": "2022-02-02T16:57:27.059Z"
      },
      {
        "duration": 31,
        "start_time": "2022-02-02T16:57:27.085Z"
      },
      {
        "duration": 51,
        "start_time": "2022-02-02T16:57:27.118Z"
      },
      {
        "duration": 10,
        "start_time": "2022-02-02T16:57:27.172Z"
      },
      {
        "duration": 14,
        "start_time": "2022-02-02T16:57:27.184Z"
      },
      {
        "duration": 581,
        "start_time": "2022-02-02T16:57:27.201Z"
      },
      {
        "duration": 427,
        "start_time": "2022-02-03T06:53:17.983Z"
      },
      {
        "duration": 1482,
        "start_time": "2022-02-03T06:53:21.532Z"
      },
      {
        "duration": 510,
        "start_time": "2022-02-03T06:53:23.017Z"
      },
      {
        "duration": 39,
        "start_time": "2022-02-03T06:53:23.530Z"
      },
      {
        "duration": 25,
        "start_time": "2022-02-03T06:53:23.572Z"
      },
      {
        "duration": 32,
        "start_time": "2022-02-03T06:53:23.600Z"
      },
      {
        "duration": 23,
        "start_time": "2022-02-03T06:53:23.660Z"
      },
      {
        "duration": 27,
        "start_time": "2022-02-03T06:53:23.685Z"
      },
      {
        "duration": 46,
        "start_time": "2022-02-03T06:53:23.715Z"
      },
      {
        "duration": 9,
        "start_time": "2022-02-03T06:53:23.764Z"
      },
      {
        "duration": 12,
        "start_time": "2022-02-03T06:53:23.775Z"
      },
      {
        "duration": 23,
        "start_time": "2022-02-03T06:53:23.789Z"
      },
      {
        "duration": 46,
        "start_time": "2022-02-03T06:53:23.814Z"
      },
      {
        "duration": 63,
        "start_time": "2022-02-03T06:53:23.863Z"
      },
      {
        "duration": 76,
        "start_time": "2022-02-03T06:53:23.929Z"
      },
      {
        "duration": 35,
        "start_time": "2022-02-03T06:53:24.007Z"
      },
      {
        "duration": 25,
        "start_time": "2022-02-03T06:53:24.044Z"
      },
      {
        "duration": 87,
        "start_time": "2022-02-03T06:53:24.072Z"
      },
      {
        "duration": 34,
        "start_time": "2022-02-03T06:53:24.161Z"
      },
      {
        "duration": 21,
        "start_time": "2022-02-03T06:53:24.197Z"
      },
      {
        "duration": 45,
        "start_time": "2022-02-03T06:53:24.220Z"
      },
      {
        "duration": 29,
        "start_time": "2022-02-03T06:53:24.267Z"
      },
      {
        "duration": 23,
        "start_time": "2022-02-03T06:53:24.298Z"
      },
      {
        "duration": 38,
        "start_time": "2022-02-03T06:53:24.327Z"
      },
      {
        "duration": 12,
        "start_time": "2022-02-03T06:53:24.368Z"
      },
      {
        "duration": 576,
        "start_time": "2022-02-03T06:53:24.383Z"
      },
      {
        "duration": 23,
        "start_time": "2022-02-03T08:29:52.350Z"
      },
      {
        "duration": 12,
        "start_time": "2022-02-03T08:38:36.042Z"
      },
      {
        "duration": 60,
        "start_time": "2022-02-03T09:39:08.885Z"
      },
      {
        "duration": 2235,
        "start_time": "2022-02-03T09:44:19.357Z"
      },
      {
        "duration": 6952,
        "start_time": "2022-02-03T14:00:18.276Z"
      },
      {
        "duration": 2304,
        "start_time": "2022-02-03T14:00:35.507Z"
      },
      {
        "duration": 2667,
        "start_time": "2022-02-03T14:07:35.441Z"
      },
      {
        "duration": 902,
        "start_time": "2022-02-03T14:27:39.377Z"
      },
      {
        "duration": 857,
        "start_time": "2022-02-03T14:28:38.690Z"
      },
      {
        "duration": 2520,
        "start_time": "2022-02-03T14:28:55.191Z"
      },
      {
        "duration": 1885,
        "start_time": "2022-02-03T14:33:49.127Z"
      },
      {
        "duration": 16,
        "start_time": "2022-02-03T14:54:54.470Z"
      },
      {
        "duration": 372,
        "start_time": "2022-02-03T15:01:17.393Z"
      },
      {
        "duration": 4,
        "start_time": "2022-02-03T15:01:59.354Z"
      },
      {
        "duration": 551,
        "start_time": "2022-02-03T15:01:59.362Z"
      },
      {
        "duration": 38,
        "start_time": "2022-02-03T15:01:59.916Z"
      },
      {
        "duration": 26,
        "start_time": "2022-02-03T15:01:59.956Z"
      },
      {
        "duration": 157,
        "start_time": "2022-02-03T15:01:59.984Z"
      },
      {
        "duration": 30,
        "start_time": "2022-02-03T15:02:00.144Z"
      },
      {
        "duration": 28,
        "start_time": "2022-02-03T15:02:00.177Z"
      },
      {
        "duration": 19,
        "start_time": "2022-02-03T15:02:00.208Z"
      },
      {
        "duration": 11,
        "start_time": "2022-02-03T15:02:00.260Z"
      },
      {
        "duration": 21,
        "start_time": "2022-02-03T15:02:00.274Z"
      },
      {
        "duration": 36,
        "start_time": "2022-02-03T15:02:00.298Z"
      },
      {
        "duration": 10,
        "start_time": "2022-02-03T15:02:00.360Z"
      },
      {
        "duration": 64,
        "start_time": "2022-02-03T15:02:00.373Z"
      },
      {
        "duration": 46,
        "start_time": "2022-02-03T15:02:00.459Z"
      },
      {
        "duration": 52,
        "start_time": "2022-02-03T15:02:00.507Z"
      },
      {
        "duration": 12,
        "start_time": "2022-02-03T15:02:00.562Z"
      },
      {
        "duration": 87,
        "start_time": "2022-02-03T15:02:00.576Z"
      },
      {
        "duration": 30,
        "start_time": "2022-02-03T15:02:00.666Z"
      },
      {
        "duration": 20,
        "start_time": "2022-02-03T15:02:00.700Z"
      },
      {
        "duration": 45,
        "start_time": "2022-02-03T15:02:00.723Z"
      },
      {
        "duration": 29,
        "start_time": "2022-02-03T15:02:00.770Z"
      },
      {
        "duration": 22,
        "start_time": "2022-02-03T15:02:00.801Z"
      },
      {
        "duration": 38,
        "start_time": "2022-02-03T15:02:00.826Z"
      },
      {
        "duration": 14,
        "start_time": "2022-02-03T15:02:00.866Z"
      },
      {
        "duration": 597,
        "start_time": "2022-02-03T15:02:00.882Z"
      },
      {
        "duration": 84,
        "start_time": "2022-02-03T15:02:01.481Z"
      },
      {
        "duration": 1903,
        "start_time": "2022-02-03T15:02:01.568Z"
      },
      {
        "duration": 366,
        "start_time": "2022-02-03T15:02:03.475Z"
      },
      {
        "duration": 4,
        "start_time": "2022-02-03T15:03:41.545Z"
      },
      {
        "duration": 4,
        "start_time": "2022-02-03T15:03:44.225Z"
      },
      {
        "duration": 524,
        "start_time": "2022-02-03T15:03:44.231Z"
      },
      {
        "duration": 37,
        "start_time": "2022-02-03T15:03:44.758Z"
      },
      {
        "duration": 26,
        "start_time": "2022-02-03T15:03:44.798Z"
      },
      {
        "duration": 54,
        "start_time": "2022-02-03T15:03:44.827Z"
      },
      {
        "duration": 22,
        "start_time": "2022-02-03T15:03:44.884Z"
      },
      {
        "duration": 56,
        "start_time": "2022-02-03T15:03:44.909Z"
      },
      {
        "duration": 17,
        "start_time": "2022-02-03T15:03:44.968Z"
      },
      {
        "duration": 8,
        "start_time": "2022-02-03T15:03:44.988Z"
      },
      {
        "duration": 13,
        "start_time": "2022-02-03T15:03:44.998Z"
      },
      {
        "duration": 59,
        "start_time": "2022-02-03T15:03:45.014Z"
      },
      {
        "duration": 8,
        "start_time": "2022-02-03T15:03:45.075Z"
      },
      {
        "duration": 91,
        "start_time": "2022-02-03T15:03:45.085Z"
      },
      {
        "duration": 49,
        "start_time": "2022-02-03T15:03:45.178Z"
      },
      {
        "duration": 57,
        "start_time": "2022-02-03T15:03:45.230Z"
      },
      {
        "duration": 12,
        "start_time": "2022-02-03T15:03:45.290Z"
      },
      {
        "duration": 96,
        "start_time": "2022-02-03T15:03:45.305Z"
      },
      {
        "duration": 30,
        "start_time": "2022-02-03T15:03:45.403Z"
      },
      {
        "duration": 38,
        "start_time": "2022-02-03T15:03:45.438Z"
      },
      {
        "duration": 20,
        "start_time": "2022-02-03T15:03:45.479Z"
      },
      {
        "duration": 28,
        "start_time": "2022-02-03T15:03:45.501Z"
      },
      {
        "duration": 47,
        "start_time": "2022-02-03T15:03:45.531Z"
      },
      {
        "duration": 8,
        "start_time": "2022-02-03T15:03:45.580Z"
      },
      {
        "duration": 12,
        "start_time": "2022-02-03T15:03:45.590Z"
      },
      {
        "duration": 597,
        "start_time": "2022-02-03T15:03:45.605Z"
      },
      {
        "duration": 80,
        "start_time": "2022-02-03T15:03:46.204Z"
      },
      {
        "duration": 1973,
        "start_time": "2022-02-03T15:03:46.286Z"
      },
      {
        "duration": 361,
        "start_time": "2022-02-03T15:03:48.261Z"
      },
      {
        "duration": 1482,
        "start_time": "2022-02-03T15:04:54.234Z"
      },
      {
        "duration": 624,
        "start_time": "2022-02-03T15:04:55.719Z"
      },
      {
        "duration": 43,
        "start_time": "2022-02-03T15:04:56.351Z"
      },
      {
        "duration": 26,
        "start_time": "2022-02-03T15:04:56.397Z"
      },
      {
        "duration": 63,
        "start_time": "2022-02-03T15:04:56.425Z"
      },
      {
        "duration": 20,
        "start_time": "2022-02-03T15:04:56.490Z"
      },
      {
        "duration": 56,
        "start_time": "2022-02-03T15:04:56.514Z"
      },
      {
        "duration": 20,
        "start_time": "2022-02-03T15:04:56.573Z"
      },
      {
        "duration": 11,
        "start_time": "2022-02-03T15:04:56.600Z"
      },
      {
        "duration": 47,
        "start_time": "2022-02-03T15:04:56.614Z"
      },
      {
        "duration": 27,
        "start_time": "2022-02-03T15:04:56.664Z"
      },
      {
        "duration": 8,
        "start_time": "2022-02-03T15:04:56.694Z"
      },
      {
        "duration": 653,
        "start_time": "2022-02-03T15:04:56.705Z"
      },
      {
        "duration": 1060,
        "start_time": "2022-02-03T15:04:56.301Z"
      },
      {
        "duration": 1058,
        "start_time": "2022-02-03T15:04:56.305Z"
      },
      {
        "duration": 1056,
        "start_time": "2022-02-03T15:04:56.308Z"
      },
      {
        "duration": 1050,
        "start_time": "2022-02-03T15:04:56.315Z"
      },
      {
        "duration": 1048,
        "start_time": "2022-02-03T15:04:56.319Z"
      },
      {
        "duration": 1047,
        "start_time": "2022-02-03T15:04:56.321Z"
      },
      {
        "duration": 1046,
        "start_time": "2022-02-03T15:04:56.324Z"
      },
      {
        "duration": 1044,
        "start_time": "2022-02-03T15:04:56.327Z"
      },
      {
        "duration": 1043,
        "start_time": "2022-02-03T15:04:56.330Z"
      },
      {
        "duration": 1042,
        "start_time": "2022-02-03T15:04:56.332Z"
      },
      {
        "duration": 1040,
        "start_time": "2022-02-03T15:04:56.336Z"
      },
      {
        "duration": 1039,
        "start_time": "2022-02-03T15:04:56.339Z"
      },
      {
        "duration": 1033,
        "start_time": "2022-02-03T15:04:56.347Z"
      },
      {
        "duration": 1033,
        "start_time": "2022-02-03T15:04:56.349Z"
      },
      {
        "duration": 1029,
        "start_time": "2022-02-03T15:04:56.355Z"
      },
      {
        "duration": 362,
        "start_time": "2022-02-03T15:05:09.175Z"
      },
      {
        "duration": 4,
        "start_time": "2022-02-03T15:05:19.296Z"
      },
      {
        "duration": 535,
        "start_time": "2022-02-03T15:05:19.303Z"
      },
      {
        "duration": 36,
        "start_time": "2022-02-03T15:05:19.841Z"
      },
      {
        "duration": 27,
        "start_time": "2022-02-03T15:05:19.879Z"
      },
      {
        "duration": 57,
        "start_time": "2022-02-03T15:05:19.908Z"
      },
      {
        "duration": 21,
        "start_time": "2022-02-03T15:05:19.968Z"
      },
      {
        "duration": 28,
        "start_time": "2022-02-03T15:05:19.993Z"
      },
      {
        "duration": 47,
        "start_time": "2022-02-03T15:05:20.023Z"
      },
      {
        "duration": 10,
        "start_time": "2022-02-03T15:05:20.073Z"
      },
      {
        "duration": 13,
        "start_time": "2022-02-03T15:05:20.088Z"
      },
      {
        "duration": 67,
        "start_time": "2022-02-03T15:05:20.104Z"
      },
      {
        "duration": 9,
        "start_time": "2022-02-03T15:05:20.174Z"
      },
      {
        "duration": 366,
        "start_time": "2022-02-03T15:05:20.186Z"
      },
      {
        "duration": 1062,
        "start_time": "2022-02-03T15:05:19.493Z"
      },
      {
        "duration": 1057,
        "start_time": "2022-02-03T15:05:19.499Z"
      },
      {
        "duration": 1050,
        "start_time": "2022-02-03T15:05:19.507Z"
      },
      {
        "duration": 1050,
        "start_time": "2022-02-03T15:05:19.509Z"
      },
      {
        "duration": 1048,
        "start_time": "2022-02-03T15:05:19.512Z"
      },
      {
        "duration": 1047,
        "start_time": "2022-02-03T15:05:19.514Z"
      },
      {
        "duration": 1046,
        "start_time": "2022-02-03T15:05:19.517Z"
      },
      {
        "duration": 1045,
        "start_time": "2022-02-03T15:05:19.519Z"
      },
      {
        "duration": 1043,
        "start_time": "2022-02-03T15:05:19.522Z"
      },
      {
        "duration": 1043,
        "start_time": "2022-02-03T15:05:19.524Z"
      },
      {
        "duration": 1042,
        "start_time": "2022-02-03T15:05:19.526Z"
      },
      {
        "duration": 1040,
        "start_time": "2022-02-03T15:05:19.529Z"
      },
      {
        "duration": 1040,
        "start_time": "2022-02-03T15:05:19.531Z"
      },
      {
        "duration": 1034,
        "start_time": "2022-02-03T15:05:19.538Z"
      },
      {
        "duration": 1034,
        "start_time": "2022-02-03T15:05:19.540Z"
      },
      {
        "duration": 4,
        "start_time": "2022-02-03T15:06:42.175Z"
      },
      {
        "duration": 523,
        "start_time": "2022-02-03T15:06:42.182Z"
      },
      {
        "duration": 37,
        "start_time": "2022-02-03T15:06:42.708Z"
      },
      {
        "duration": 25,
        "start_time": "2022-02-03T15:06:42.748Z"
      },
      {
        "duration": 35,
        "start_time": "2022-02-03T15:06:42.776Z"
      },
      {
        "duration": 52,
        "start_time": "2022-02-03T15:06:42.814Z"
      },
      {
        "duration": 30,
        "start_time": "2022-02-03T15:06:42.869Z"
      },
      {
        "duration": 19,
        "start_time": "2022-02-03T15:06:42.903Z"
      },
      {
        "duration": 42,
        "start_time": "2022-02-03T15:06:42.925Z"
      },
      {
        "duration": 12,
        "start_time": "2022-02-03T15:06:42.970Z"
      },
      {
        "duration": 25,
        "start_time": "2022-02-03T15:06:42.985Z"
      },
      {
        "duration": 7,
        "start_time": "2022-02-03T15:06:43.012Z"
      },
      {
        "duration": 354,
        "start_time": "2022-02-03T15:06:43.060Z"
      },
      {
        "duration": 1070,
        "start_time": "2022-02-03T15:06:42.348Z"
      },
      {
        "duration": 1070,
        "start_time": "2022-02-03T15:06:42.350Z"
      },
      {
        "duration": 1066,
        "start_time": "2022-02-03T15:06:42.356Z"
      },
      {
        "duration": 1064,
        "start_time": "2022-02-03T15:06:42.359Z"
      },
      {
        "duration": 1063,
        "start_time": "2022-02-03T15:06:42.362Z"
      },
      {
        "duration": 1062,
        "start_time": "2022-02-03T15:06:42.364Z"
      },
      {
        "duration": 1062,
        "start_time": "2022-02-03T15:06:42.366Z"
      },
      {
        "duration": 1061,
        "start_time": "2022-02-03T15:06:42.368Z"
      },
      {
        "duration": 1059,
        "start_time": "2022-02-03T15:06:42.371Z"
      },
      {
        "duration": 1059,
        "start_time": "2022-02-03T15:06:42.373Z"
      },
      {
        "duration": 1058,
        "start_time": "2022-02-03T15:06:42.375Z"
      },
      {
        "duration": 1058,
        "start_time": "2022-02-03T15:06:42.377Z"
      },
      {
        "duration": 1057,
        "start_time": "2022-02-03T15:06:42.379Z"
      },
      {
        "duration": 1056,
        "start_time": "2022-02-03T15:06:42.381Z"
      },
      {
        "duration": 1050,
        "start_time": "2022-02-03T15:06:42.389Z"
      },
      {
        "duration": 415,
        "start_time": "2022-02-03T15:06:53.389Z"
      },
      {
        "duration": 377,
        "start_time": "2022-02-03T15:07:11.619Z"
      },
      {
        "duration": 5,
        "start_time": "2022-02-03T15:07:15.857Z"
      },
      {
        "duration": 549,
        "start_time": "2022-02-03T15:07:15.865Z"
      },
      {
        "duration": 37,
        "start_time": "2022-02-03T15:07:16.417Z"
      },
      {
        "duration": 25,
        "start_time": "2022-02-03T15:07:16.457Z"
      },
      {
        "duration": 33,
        "start_time": "2022-02-03T15:07:16.485Z"
      },
      {
        "duration": 50,
        "start_time": "2022-02-03T15:07:16.520Z"
      },
      {
        "duration": 28,
        "start_time": "2022-02-03T15:07:16.573Z"
      },
      {
        "duration": 20,
        "start_time": "2022-02-03T15:07:16.603Z"
      },
      {
        "duration": 9,
        "start_time": "2022-02-03T15:07:16.659Z"
      },
      {
        "duration": 13,
        "start_time": "2022-02-03T15:07:16.671Z"
      },
      {
        "duration": 28,
        "start_time": "2022-02-03T15:07:16.687Z"
      },
      {
        "duration": 44,
        "start_time": "2022-02-03T15:07:16.717Z"
      },
      {
        "duration": 359,
        "start_time": "2022-02-03T15:07:16.764Z"
      },
      {
        "duration": 1070,
        "start_time": "2022-02-03T15:07:16.055Z"
      },
      {
        "duration": 1066,
        "start_time": "2022-02-03T15:07:16.061Z"
      },
      {
        "duration": 1057,
        "start_time": "2022-02-03T15:07:16.071Z"
      },
      {
        "duration": 1054,
        "start_time": "2022-02-03T15:07:16.076Z"
      },
      {
        "duration": 1052,
        "start_time": "2022-02-03T15:07:16.079Z"
      },
      {
        "duration": 1051,
        "start_time": "2022-02-03T15:07:16.081Z"
      },
      {
        "duration": 1051,
        "start_time": "2022-02-03T15:07:16.083Z"
      },
      {
        "duration": 1050,
        "start_time": "2022-02-03T15:07:16.086Z"
      },
      {
        "duration": 1050,
        "start_time": "2022-02-03T15:07:16.088Z"
      },
      {
        "duration": 1049,
        "start_time": "2022-02-03T15:07:16.090Z"
      },
      {
        "duration": 1048,
        "start_time": "2022-02-03T15:07:16.092Z"
      },
      {
        "duration": 1047,
        "start_time": "2022-02-03T15:07:16.095Z"
      },
      {
        "duration": 1042,
        "start_time": "2022-02-03T15:07:16.101Z"
      },
      {
        "duration": 1041,
        "start_time": "2022-02-03T15:07:16.103Z"
      },
      {
        "duration": 1041,
        "start_time": "2022-02-03T15:07:16.105Z"
      },
      {
        "duration": 352,
        "start_time": "2022-02-03T15:07:49.131Z"
      },
      {
        "duration": 4,
        "start_time": "2022-02-03T15:07:57.342Z"
      },
      {
        "duration": 564,
        "start_time": "2022-02-03T15:07:57.349Z"
      },
      {
        "duration": 45,
        "start_time": "2022-02-03T15:07:57.917Z"
      },
      {
        "duration": 26,
        "start_time": "2022-02-03T15:07:57.964Z"
      },
      {
        "duration": 66,
        "start_time": "2022-02-03T15:07:57.993Z"
      },
      {
        "duration": 21,
        "start_time": "2022-02-03T15:07:58.062Z"
      },
      {
        "duration": 49,
        "start_time": "2022-02-03T15:07:58.086Z"
      },
      {
        "duration": 30,
        "start_time": "2022-02-03T15:07:58.138Z"
      },
      {
        "duration": 19,
        "start_time": "2022-02-03T15:07:58.171Z"
      },
      {
        "duration": 35,
        "start_time": "2022-02-03T15:07:58.192Z"
      },
      {
        "duration": 31,
        "start_time": "2022-02-03T15:07:58.229Z"
      },
      {
        "duration": 24,
        "start_time": "2022-02-03T15:07:58.263Z"
      },
      {
        "duration": 389,
        "start_time": "2022-02-03T15:07:58.289Z"
      },
      {
        "duration": 1067,
        "start_time": "2022-02-03T15:07:57.615Z"
      },
      {
        "duration": 1064,
        "start_time": "2022-02-03T15:07:57.619Z"
      },
      {
        "duration": 1053,
        "start_time": "2022-02-03T15:07:57.632Z"
      },
      {
        "duration": 1051,
        "start_time": "2022-02-03T15:07:57.635Z"
      },
      {
        "duration": 1051,
        "start_time": "2022-02-03T15:07:57.637Z"
      },
      {
        "duration": 1050,
        "start_time": "2022-02-03T15:07:57.640Z"
      },
      {
        "duration": 1049,
        "start_time": "2022-02-03T15:07:57.642Z"
      },
      {
        "duration": 1050,
        "start_time": "2022-02-03T15:07:57.644Z"
      },
      {
        "duration": 1050,
        "start_time": "2022-02-03T15:07:57.647Z"
      },
      {
        "duration": 1051,
        "start_time": "2022-02-03T15:07:57.649Z"
      },
      {
        "duration": 1050,
        "start_time": "2022-02-03T15:07:57.651Z"
      },
      {
        "duration": 1049,
        "start_time": "2022-02-03T15:07:57.654Z"
      },
      {
        "duration": 1049,
        "start_time": "2022-02-03T15:07:57.656Z"
      },
      {
        "duration": 1048,
        "start_time": "2022-02-03T15:07:57.658Z"
      },
      {
        "duration": 1043,
        "start_time": "2022-02-03T15:07:57.665Z"
      },
      {
        "duration": 5,
        "start_time": "2022-02-03T15:08:25.465Z"
      },
      {
        "duration": 550,
        "start_time": "2022-02-03T15:08:25.473Z"
      },
      {
        "duration": 41,
        "start_time": "2022-02-03T15:08:26.026Z"
      },
      {
        "duration": 29,
        "start_time": "2022-02-03T15:08:26.070Z"
      },
      {
        "duration": 68,
        "start_time": "2022-02-03T15:08:26.102Z"
      },
      {
        "duration": 21,
        "start_time": "2022-02-03T15:08:26.172Z"
      },
      {
        "duration": 28,
        "start_time": "2022-02-03T15:08:26.197Z"
      },
      {
        "duration": 48,
        "start_time": "2022-02-03T15:08:26.227Z"
      },
      {
        "duration": 9,
        "start_time": "2022-02-03T15:08:26.278Z"
      },
      {
        "duration": 13,
        "start_time": "2022-02-03T15:08:26.289Z"
      },
      {
        "duration": 60,
        "start_time": "2022-02-03T15:08:26.305Z"
      },
      {
        "duration": 9,
        "start_time": "2022-02-03T15:08:26.368Z"
      },
      {
        "duration": 358,
        "start_time": "2022-02-03T15:08:26.381Z"
      },
      {
        "duration": 1067,
        "start_time": "2022-02-03T15:08:25.676Z"
      },
      {
        "duration": 1063,
        "start_time": "2022-02-03T15:08:25.682Z"
      },
      {
        "duration": 1062,
        "start_time": "2022-02-03T15:08:25.685Z"
      },
      {
        "duration": 1060,
        "start_time": "2022-02-03T15:08:25.688Z"
      },
      {
        "duration": 1054,
        "start_time": "2022-02-03T15:08:25.696Z"
      },
      {
        "duration": 1053,
        "start_time": "2022-02-03T15:08:25.699Z"
      },
      {
        "duration": 1050,
        "start_time": "2022-02-03T15:08:25.703Z"
      },
      {
        "duration": 1050,
        "start_time": "2022-02-03T15:08:25.705Z"
      },
      {
        "duration": 1048,
        "start_time": "2022-02-03T15:08:25.708Z"
      },
      {
        "duration": 1048,
        "start_time": "2022-02-03T15:08:25.710Z"
      },
      {
        "duration": 1048,
        "start_time": "2022-02-03T15:08:25.712Z"
      },
      {
        "duration": 1046,
        "start_time": "2022-02-03T15:08:25.715Z"
      },
      {
        "duration": 1044,
        "start_time": "2022-02-03T15:08:25.718Z"
      },
      {
        "duration": 1044,
        "start_time": "2022-02-03T15:08:25.720Z"
      },
      {
        "duration": 1042,
        "start_time": "2022-02-03T15:08:25.723Z"
      },
      {
        "duration": 1514,
        "start_time": "2022-02-03T15:08:43.883Z"
      },
      {
        "duration": 526,
        "start_time": "2022-02-03T15:08:45.400Z"
      },
      {
        "duration": 41,
        "start_time": "2022-02-03T15:08:45.929Z"
      },
      {
        "duration": 27,
        "start_time": "2022-02-03T15:08:45.973Z"
      },
      {
        "duration": 56,
        "start_time": "2022-02-03T15:08:46.003Z"
      },
      {
        "duration": 23,
        "start_time": "2022-02-03T15:08:46.061Z"
      },
      {
        "duration": 34,
        "start_time": "2022-02-03T15:08:46.086Z"
      },
      {
        "duration": 59,
        "start_time": "2022-02-03T15:08:46.125Z"
      },
      {
        "duration": 11,
        "start_time": "2022-02-03T15:08:46.188Z"
      },
      {
        "duration": 18,
        "start_time": "2022-02-03T15:08:46.203Z"
      },
      {
        "duration": 54,
        "start_time": "2022-02-03T15:08:46.224Z"
      },
      {
        "duration": 9,
        "start_time": "2022-02-03T15:08:46.281Z"
      },
      {
        "duration": 497,
        "start_time": "2022-02-03T15:08:46.293Z"
      },
      {
        "duration": 1073,
        "start_time": "2022-02-03T15:08:45.720Z"
      },
      {
        "duration": 1065,
        "start_time": "2022-02-03T15:08:45.730Z"
      },
      {
        "duration": 1063,
        "start_time": "2022-02-03T15:08:45.733Z"
      },
      {
        "duration": 1060,
        "start_time": "2022-02-03T15:08:45.738Z"
      },
      {
        "duration": 1059,
        "start_time": "2022-02-03T15:08:45.740Z"
      },
      {
        "duration": 1058,
        "start_time": "2022-02-03T15:08:45.743Z"
      },
      {
        "duration": 1057,
        "start_time": "2022-02-03T15:08:45.745Z"
      },
      {
        "duration": 1056,
        "start_time": "2022-02-03T15:08:45.748Z"
      },
      {
        "duration": 1055,
        "start_time": "2022-02-03T15:08:45.750Z"
      },
      {
        "duration": 1053,
        "start_time": "2022-02-03T15:08:45.753Z"
      },
      {
        "duration": 1053,
        "start_time": "2022-02-03T15:08:45.755Z"
      },
      {
        "duration": 1051,
        "start_time": "2022-02-03T15:08:45.758Z"
      },
      {
        "duration": 1051,
        "start_time": "2022-02-03T15:08:45.760Z"
      },
      {
        "duration": 1049,
        "start_time": "2022-02-03T15:08:45.763Z"
      },
      {
        "duration": 1048,
        "start_time": "2022-02-03T15:08:45.765Z"
      },
      {
        "duration": 10,
        "start_time": "2022-02-03T15:09:25.961Z"
      },
      {
        "duration": 571,
        "start_time": "2022-02-03T15:09:25.975Z"
      },
      {
        "duration": 36,
        "start_time": "2022-02-03T15:09:26.549Z"
      },
      {
        "duration": 25,
        "start_time": "2022-02-03T15:09:26.588Z"
      },
      {
        "duration": 57,
        "start_time": "2022-02-03T15:09:26.615Z"
      },
      {
        "duration": 21,
        "start_time": "2022-02-03T15:09:26.674Z"
      },
      {
        "duration": 26,
        "start_time": "2022-02-03T15:09:26.697Z"
      },
      {
        "duration": 46,
        "start_time": "2022-02-03T15:09:26.727Z"
      },
      {
        "duration": 9,
        "start_time": "2022-02-03T15:09:26.776Z"
      },
      {
        "duration": 18,
        "start_time": "2022-02-03T15:09:26.787Z"
      },
      {
        "duration": 59,
        "start_time": "2022-02-03T15:09:26.808Z"
      },
      {
        "duration": 9,
        "start_time": "2022-02-03T15:09:26.869Z"
      },
      {
        "duration": 90,
        "start_time": "2022-02-03T15:09:26.881Z"
      },
      {
        "duration": 49,
        "start_time": "2022-02-03T15:09:26.974Z"
      },
      {
        "duration": 57,
        "start_time": "2022-02-03T15:09:27.025Z"
      },
      {
        "duration": 11,
        "start_time": "2022-02-03T15:09:27.084Z"
      },
      {
        "duration": 90,
        "start_time": "2022-02-03T15:09:27.097Z"
      },
      {
        "duration": 32,
        "start_time": "2022-02-03T15:09:27.190Z"
      },
      {
        "duration": 39,
        "start_time": "2022-02-03T15:09:27.225Z"
      },
      {
        "duration": 20,
        "start_time": "2022-02-03T15:09:27.267Z"
      },
      {
        "duration": 28,
        "start_time": "2022-02-03T15:09:27.289Z"
      },
      {
        "duration": 45,
        "start_time": "2022-02-03T15:09:27.320Z"
      },
      {
        "duration": 8,
        "start_time": "2022-02-03T15:09:27.369Z"
      },
      {
        "duration": 11,
        "start_time": "2022-02-03T15:09:27.380Z"
      },
      {
        "duration": 600,
        "start_time": "2022-02-03T15:09:27.393Z"
      },
      {
        "duration": 77,
        "start_time": "2022-02-03T15:09:27.995Z"
      },
      {
        "duration": 1793,
        "start_time": "2022-02-03T15:09:28.074Z"
      },
      {
        "duration": 393,
        "start_time": "2022-02-03T15:09:29.870Z"
      },
      {
        "duration": 349,
        "start_time": "2022-02-03T15:22:48.865Z"
      },
      {
        "duration": 14,
        "start_time": "2022-02-03T15:23:49.129Z"
      },
      {
        "duration": 86,
        "start_time": "2022-02-03T15:24:11.926Z"
      },
      {
        "duration": 15,
        "start_time": "2022-02-03T15:24:25.424Z"
      },
      {
        "duration": 14,
        "start_time": "2022-02-03T15:26:25.566Z"
      },
      {
        "duration": 6,
        "start_time": "2022-02-03T15:26:30.265Z"
      },
      {
        "duration": 548,
        "start_time": "2022-02-03T15:26:30.274Z"
      },
      {
        "duration": 38,
        "start_time": "2022-02-03T15:26:30.825Z"
      },
      {
        "duration": 27,
        "start_time": "2022-02-03T15:26:30.865Z"
      },
      {
        "duration": 40,
        "start_time": "2022-02-03T15:26:30.895Z"
      },
      {
        "duration": 22,
        "start_time": "2022-02-03T15:26:30.959Z"
      },
      {
        "duration": 30,
        "start_time": "2022-02-03T15:26:30.985Z"
      },
      {
        "duration": 47,
        "start_time": "2022-02-03T15:26:31.018Z"
      },
      {
        "duration": 12,
        "start_time": "2022-02-03T15:26:31.068Z"
      },
      {
        "duration": 18,
        "start_time": "2022-02-03T15:26:31.082Z"
      },
      {
        "duration": 64,
        "start_time": "2022-02-03T15:26:31.102Z"
      },
      {
        "duration": 11,
        "start_time": "2022-02-03T15:26:31.169Z"
      },
      {
        "duration": 86,
        "start_time": "2022-02-03T15:26:31.183Z"
      },
      {
        "duration": 46,
        "start_time": "2022-02-03T15:26:31.272Z"
      },
      {
        "duration": 78,
        "start_time": "2022-02-03T15:26:31.321Z"
      },
      {
        "duration": 18,
        "start_time": "2022-02-03T15:26:31.402Z"
      },
      {
        "duration": 100,
        "start_time": "2022-02-03T15:26:31.423Z"
      },
      {
        "duration": 49,
        "start_time": "2022-02-03T15:26:31.526Z"
      },
      {
        "duration": 23,
        "start_time": "2022-02-03T15:26:31.579Z"
      },
      {
        "duration": 23,
        "start_time": "2022-02-03T15:26:31.604Z"
      },
      {
        "duration": 54,
        "start_time": "2022-02-03T15:26:31.629Z"
      },
      {
        "duration": 23,
        "start_time": "2022-02-03T15:26:31.685Z"
      },
      {
        "duration": 8,
        "start_time": "2022-02-03T15:26:31.710Z"
      },
      {
        "duration": 41,
        "start_time": "2022-02-03T15:26:31.721Z"
      },
      {
        "duration": 619,
        "start_time": "2022-02-03T15:26:31.764Z"
      },
      {
        "duration": 80,
        "start_time": "2022-02-03T15:26:32.386Z"
      },
      {
        "duration": 2232,
        "start_time": "2022-02-03T15:26:32.469Z"
      },
      {
        "duration": 14,
        "start_time": "2022-02-03T15:26:34.703Z"
      },
      {
        "duration": 19,
        "start_time": "2022-02-03T15:57:17.947Z"
      },
      {
        "duration": 354,
        "start_time": "2022-02-03T16:01:16.777Z"
      },
      {
        "duration": 9129,
        "start_time": "2022-02-03T16:01:31.922Z"
      },
      {
        "duration": 11,
        "start_time": "2022-02-03T16:02:46.594Z"
      },
      {
        "duration": 8,
        "start_time": "2022-02-03T16:02:50.289Z"
      },
      {
        "duration": 10,
        "start_time": "2022-02-03T16:06:54.075Z"
      },
      {
        "duration": 10,
        "start_time": "2022-02-03T16:07:08.639Z"
      },
      {
        "duration": 1614,
        "start_time": "2022-02-03T16:41:04.979Z"
      },
      {
        "duration": 524,
        "start_time": "2022-02-03T16:41:06.596Z"
      },
      {
        "duration": 42,
        "start_time": "2022-02-03T16:41:07.126Z"
      },
      {
        "duration": 26,
        "start_time": "2022-02-03T16:41:07.171Z"
      },
      {
        "duration": 34,
        "start_time": "2022-02-03T16:41:07.199Z"
      },
      {
        "duration": 24,
        "start_time": "2022-02-03T16:41:07.259Z"
      },
      {
        "duration": 28,
        "start_time": "2022-02-03T16:41:07.287Z"
      },
      {
        "duration": 51,
        "start_time": "2022-02-03T16:41:07.318Z"
      },
      {
        "duration": 10,
        "start_time": "2022-02-03T16:41:07.371Z"
      },
      {
        "duration": 14,
        "start_time": "2022-02-03T16:41:07.383Z"
      },
      {
        "duration": 28,
        "start_time": "2022-02-03T16:41:07.400Z"
      },
      {
        "duration": 31,
        "start_time": "2022-02-03T16:41:07.430Z"
      },
      {
        "duration": 68,
        "start_time": "2022-02-03T16:41:07.464Z"
      },
      {
        "duration": 72,
        "start_time": "2022-02-03T16:41:07.534Z"
      },
      {
        "duration": 55,
        "start_time": "2022-02-03T16:41:07.609Z"
      },
      {
        "duration": 12,
        "start_time": "2022-02-03T16:41:07.666Z"
      },
      {
        "duration": 95,
        "start_time": "2022-02-03T16:41:07.680Z"
      },
      {
        "duration": 36,
        "start_time": "2022-02-03T16:41:07.777Z"
      },
      {
        "duration": 43,
        "start_time": "2022-02-03T16:41:07.816Z"
      },
      {
        "duration": 23,
        "start_time": "2022-02-03T16:41:07.862Z"
      },
      {
        "duration": 28,
        "start_time": "2022-02-03T16:41:07.887Z"
      },
      {
        "duration": 48,
        "start_time": "2022-02-03T16:41:07.920Z"
      },
      {
        "duration": 8,
        "start_time": "2022-02-03T16:41:07.971Z"
      },
      {
        "duration": 11,
        "start_time": "2022-02-03T16:41:07.982Z"
      },
      {
        "duration": 583,
        "start_time": "2022-02-03T16:41:07.996Z"
      },
      {
        "duration": 60,
        "start_time": "2022-02-03T16:41:08.581Z"
      },
      {
        "duration": 1835,
        "start_time": "2022-02-03T16:41:08.643Z"
      },
      {
        "duration": 18,
        "start_time": "2022-02-03T16:41:10.481Z"
      },
      {
        "duration": 99,
        "start_time": "2022-02-03T16:41:10.502Z"
      },
      {
        "duration": 12,
        "start_time": "2022-02-03T16:41:10.605Z"
      },
      {
        "duration": 40,
        "start_time": "2022-02-03T16:41:10.620Z"
      },
      {
        "duration": 11,
        "start_time": "2022-02-03T16:41:10.662Z"
      },
      {
        "duration": 9,
        "start_time": "2022-02-03T16:41:10.675Z"
      },
      {
        "duration": 1066,
        "start_time": "2022-02-12T09:42:27.703Z"
      },
      {
        "duration": 350,
        "start_time": "2022-02-12T09:42:28.771Z"
      },
      {
        "duration": 33,
        "start_time": "2022-02-12T09:42:29.123Z"
      },
      {
        "duration": 20,
        "start_time": "2022-02-12T09:42:29.158Z"
      },
      {
        "duration": 23,
        "start_time": "2022-02-12T09:42:29.180Z"
      },
      {
        "duration": 15,
        "start_time": "2022-02-12T09:42:29.204Z"
      },
      {
        "duration": 42,
        "start_time": "2022-02-12T09:42:29.221Z"
      },
      {
        "duration": 12,
        "start_time": "2022-02-12T09:42:29.266Z"
      },
      {
        "duration": 6,
        "start_time": "2022-02-12T09:42:29.280Z"
      },
      {
        "duration": 10,
        "start_time": "2022-02-12T09:42:29.287Z"
      },
      {
        "duration": 31,
        "start_time": "2022-02-12T09:42:29.298Z"
      },
      {
        "duration": 31,
        "start_time": "2022-02-12T09:42:29.331Z"
      },
      {
        "duration": 51,
        "start_time": "2022-02-12T09:42:29.364Z"
      },
      {
        "duration": 53,
        "start_time": "2022-02-12T09:42:29.416Z"
      },
      {
        "duration": 23,
        "start_time": "2022-02-12T09:42:29.471Z"
      },
      {
        "duration": 7,
        "start_time": "2022-02-12T09:42:29.496Z"
      },
      {
        "duration": 66,
        "start_time": "2022-02-12T09:42:29.505Z"
      },
      {
        "duration": 26,
        "start_time": "2022-02-12T09:42:29.573Z"
      },
      {
        "duration": 16,
        "start_time": "2022-02-12T09:42:29.601Z"
      },
      {
        "duration": 15,
        "start_time": "2022-02-12T09:42:29.619Z"
      },
      {
        "duration": 38,
        "start_time": "2022-02-12T09:42:29.636Z"
      },
      {
        "duration": 13,
        "start_time": "2022-02-12T09:42:29.676Z"
      },
      {
        "duration": 5,
        "start_time": "2022-02-12T09:42:29.692Z"
      },
      {
        "duration": 66,
        "start_time": "2022-02-12T09:42:29.698Z"
      },
      {
        "duration": 495,
        "start_time": "2022-02-12T09:42:29.766Z"
      },
      {
        "duration": 41,
        "start_time": "2022-02-12T09:42:30.263Z"
      },
      {
        "duration": 1389,
        "start_time": "2022-02-12T09:42:30.305Z"
      },
      {
        "duration": 11,
        "start_time": "2022-02-12T09:42:31.696Z"
      },
      {
        "duration": 102,
        "start_time": "2022-02-12T09:42:31.709Z"
      },
      {
        "duration": 8,
        "start_time": "2022-02-12T09:42:31.812Z"
      },
      {
        "duration": 11,
        "start_time": "2022-02-12T09:42:31.822Z"
      },
      {
        "duration": 25,
        "start_time": "2022-02-12T09:42:31.835Z"
      },
      {
        "duration": 16,
        "start_time": "2022-02-12T09:42:31.861Z"
      },
      {
        "duration": 5,
        "start_time": "2022-02-12T09:44:50.692Z"
      },
      {
        "duration": 6,
        "start_time": "2022-02-12T09:44:57.616Z"
      },
      {
        "duration": 11,
        "start_time": "2022-02-12T09:45:37.772Z"
      },
      {
        "duration": 33,
        "start_time": "2022-02-12T09:46:46.295Z"
      },
      {
        "duration": 1286,
        "start_time": "2022-11-23T12:34:03.553Z"
      },
      {
        "duration": 1257,
        "start_time": "2022-11-23T12:34:04.841Z"
      },
      {
        "duration": 38,
        "start_time": "2022-11-23T12:34:06.099Z"
      },
      {
        "duration": 22,
        "start_time": "2022-11-23T12:34:06.140Z"
      },
      {
        "duration": 34,
        "start_time": "2022-11-23T12:34:06.164Z"
      },
      {
        "duration": 34,
        "start_time": "2022-11-23T12:34:06.199Z"
      },
      {
        "duration": 23,
        "start_time": "2022-11-23T12:34:06.235Z"
      },
      {
        "duration": 14,
        "start_time": "2022-11-23T12:34:06.260Z"
      },
      {
        "duration": 16,
        "start_time": "2022-11-23T12:34:06.276Z"
      },
      {
        "duration": 35,
        "start_time": "2022-11-23T12:34:06.296Z"
      },
      {
        "duration": 23,
        "start_time": "2022-11-23T12:34:06.333Z"
      },
      {
        "duration": 8,
        "start_time": "2022-11-23T12:34:06.358Z"
      },
      {
        "duration": 73,
        "start_time": "2022-11-23T12:34:06.367Z"
      },
      {
        "duration": 37,
        "start_time": "2022-11-23T12:34:06.442Z"
      },
      {
        "duration": 46,
        "start_time": "2022-11-23T12:34:06.480Z"
      },
      {
        "duration": 12,
        "start_time": "2022-11-23T12:34:06.528Z"
      },
      {
        "duration": 56,
        "start_time": "2022-11-23T12:34:06.542Z"
      },
      {
        "duration": 33,
        "start_time": "2022-11-23T12:34:06.600Z"
      },
      {
        "duration": 18,
        "start_time": "2022-11-23T12:34:06.634Z"
      },
      {
        "duration": 25,
        "start_time": "2022-11-23T12:34:06.654Z"
      },
      {
        "duration": 23,
        "start_time": "2022-11-23T12:34:06.681Z"
      },
      {
        "duration": 42,
        "start_time": "2022-11-23T12:34:06.706Z"
      },
      {
        "duration": 9,
        "start_time": "2022-11-23T12:34:06.751Z"
      },
      {
        "duration": 19,
        "start_time": "2022-11-23T12:34:06.762Z"
      },
      {
        "duration": 27,
        "start_time": "2022-11-23T12:34:06.783Z"
      },
      {
        "duration": 14,
        "start_time": "2022-11-23T12:34:06.812Z"
      },
      {
        "duration": 280,
        "start_time": "2022-11-23T12:34:06.827Z"
      },
      {
        "duration": 18,
        "start_time": "2022-11-23T12:34:07.110Z"
      },
      {
        "duration": 48,
        "start_time": "2022-11-23T12:34:07.129Z"
      },
      {
        "duration": 49,
        "start_time": "2022-11-23T12:34:07.179Z"
      },
      {
        "duration": 883,
        "start_time": "2022-11-23T12:34:07.230Z"
      },
      {
        "duration": 13,
        "start_time": "2022-11-23T12:34:08.116Z"
      },
      {
        "duration": 14,
        "start_time": "2022-11-23T12:34:08.131Z"
      },
      {
        "duration": 9,
        "start_time": "2022-11-23T12:34:08.147Z"
      },
      {
        "duration": 8,
        "start_time": "2022-11-23T12:34:08.157Z"
      },
      {
        "duration": 15,
        "start_time": "2022-11-23T12:34:08.166Z"
      },
      {
        "duration": 9,
        "start_time": "2022-11-23T12:34:08.183Z"
      }
    ],
    "kernelspec": {
      "display_name": "Python 3 (ipykernel)",
      "language": "python",
      "name": "python3"
    },
    "language_info": {
      "codemirror_mode": {
        "name": "ipython",
        "version": 3
      },
      "file_extension": ".py",
      "mimetype": "text/x-python",
      "name": "python",
      "nbconvert_exporter": "python",
      "pygments_lexer": "ipython3",
      "version": "3.9.5"
    },
    "toc": {
      "base_numbering": 1,
      "nav_menu": {
        "height": "374px",
        "width": "252px"
      },
      "number_sections": false,
      "sideBar": true,
      "skip_h1_title": true,
      "title_cell": "Table of Contents",
      "title_sidebar": "Contents",
      "toc_cell": false,
      "toc_position": {},
      "toc_section_display": true,
      "toc_window_display": true
    },
    "colab": {
      "provenance": []
    }
  },
  "nbformat": 4,
  "nbformat_minor": 0
}